{
 "cells": [
  {
   "cell_type": "markdown",
   "metadata": {
    "toc": true
   },
   "source": [
    "<h1>Содержание<span class=\"tocSkip\"></span></h1>\n",
    "<div class=\"toc\"><ul class=\"toc-item\"><li><span><a href=\"#Выбор-локации-для-скважины\" data-toc-modified-id=\"Выбор-локации-для-скважины-1\"><span class=\"toc-item-num\">1&nbsp;&nbsp;</span>Выбор локации для скважины</a></span><ul class=\"toc-item\"><li><span><a href=\"#Описание-проекта\" data-toc-modified-id=\"Описание-проекта-1.1\"><span class=\"toc-item-num\">1.1&nbsp;&nbsp;</span>Описание проекта</a></span></li><li><span><a href=\"#Описание-данных\" data-toc-modified-id=\"Описание-данных-1.2\"><span class=\"toc-item-num\">1.2&nbsp;&nbsp;</span>Описание данных</a></span></li><li><span><a href=\"#Условия-задачи\" data-toc-modified-id=\"Условия-задачи-1.3\"><span class=\"toc-item-num\">1.3&nbsp;&nbsp;</span>Условия задачи</a></span></li><li><span><a href=\"#План-работы\" data-toc-modified-id=\"План-работы-1.4\"><span class=\"toc-item-num\">1.4&nbsp;&nbsp;</span>План работы</a></span></li><li><span><a href=\"#Результат-работы\" data-toc-modified-id=\"Результат-работы-1.5\"><span class=\"toc-item-num\">1.5&nbsp;&nbsp;</span>Результат работы</a></span></li></ul></li><li><span><a href=\"#Загрузка-и-подготовка-данных\" data-toc-modified-id=\"Загрузка-и-подготовка-данных-2\"><span class=\"toc-item-num\">2&nbsp;&nbsp;</span>Загрузка и подготовка данных</a></span><ul class=\"toc-item\"><li><span><a href=\"#Вывод\" data-toc-modified-id=\"Вывод-2.1\"><span class=\"toc-item-num\">2.1&nbsp;&nbsp;</span>Вывод</a></span></li></ul></li><li><span><a href=\"#Обучение-и-проверка-модели\" data-toc-modified-id=\"Обучение-и-проверка-модели-3\"><span class=\"toc-item-num\">3&nbsp;&nbsp;</span>Обучение и проверка модели</a></span><ul class=\"toc-item\"><li><span><a href=\"#Вывод\" data-toc-modified-id=\"Вывод-3.1\"><span class=\"toc-item-num\">3.1&nbsp;&nbsp;</span>Вывод</a></span></li></ul></li><li><span><a href=\"#Подготовка-к-расчёту-прибыли\" data-toc-modified-id=\"Подготовка-к-расчёту-прибыли-4\"><span class=\"toc-item-num\">4&nbsp;&nbsp;</span>Подготовка к расчёту прибыли</a></span><ul class=\"toc-item\"><li><span><a href=\"#Вывод\" data-toc-modified-id=\"Вывод-4.1\"><span class=\"toc-item-num\">4.1&nbsp;&nbsp;</span>Вывод</a></span></li></ul></li><li><span><a href=\"#Расчёт-прибыли-и-рисков\" data-toc-modified-id=\"Расчёт-прибыли-и-рисков-5\"><span class=\"toc-item-num\">5&nbsp;&nbsp;</span>Расчёт прибыли и рисков</a></span><ul class=\"toc-item\"><li><span><a href=\"#Вывод\" data-toc-modified-id=\"Вывод-5.1\"><span class=\"toc-item-num\">5.1&nbsp;&nbsp;</span>Вывод</a></span></li></ul></li><li><span><a href=\"#Общий-вывод\" data-toc-modified-id=\"Общий-вывод-6\"><span class=\"toc-item-num\">6&nbsp;&nbsp;</span>Общий вывод</a></span></li><li><span><a href=\"#Вопрос-к-проверяющему\" data-toc-modified-id=\"Вопрос-к-проверяющему-7\"><span class=\"toc-item-num\">7&nbsp;&nbsp;</span>Вопрос к проверяющему</a></span></li></ul></div>"
   ]
  },
  {
   "cell_type": "markdown",
   "metadata": {},
   "source": [
    "# Выбор локации для скважины"
   ]
  },
  {
   "cell_type": "markdown",
   "metadata": {},
   "source": [
    "## Описание проекта\n",
    "\n",
    "Допустим, вы работаете в добывающей компании «ГлавРосГосНефть». Нужно решить, где бурить новую скважину.\n",
    "\n",
    "Вам предоставлены пробы нефти в трёх регионах: в каждом 10 000 месторождений, где измерили качество нефти и объём её запасов. Постройте модель машинного обучения, которая поможет определить регион, где добыча принесёт наибольшую прибыль. Проанализируйте возможную прибыль и риски техникой *Bootstrap.*\n",
    "\n",
    "Шаги для выбора локации:\n",
    "\n",
    "- В избранном регионе ищут месторождения, для каждого определяют значения признаков;\n",
    "- Строят модель и оценивают объём запасов;\n",
    "- Выбирают месторождения с самым высокими оценками значений. Количество месторождений зависит от бюджета компании и стоимости разработки одной скважины;\n",
    "- Прибыль равна суммарной прибыли отобранных месторождений.\n",
    "\n",
    "Вам предоставлены пробы нефти в трёх регионах. Характеристики для каждой скважины в регионе уже известны. Постройте модель для определения региона, где добыча принесёт наибольшую прибыль. Проанализируйте возможную прибыль и риски техникой Bootstrap.\n",
    "\n",
    "## Описание данных\n",
    "\n",
    "Данные геологоразведки трёх регионов находятся в файлах:\n",
    "* /datasets/geo_data_0.csv. Скачать датасет\n",
    "* /datasets/geo_data_1.csv. Скачать датасет\n",
    "* /datasets/geo_data_2.csv. Скачать датасет\n",
    "* id — уникальный идентификатор скважины;\n",
    "* f0, f1, f2 — три признака точек (неважно, что они означают, но сами признаки значимы);\n",
    "* product — объём запасов в скважине (тыс. баррелей).\n",
    "\n",
    "## Условия задачи\n",
    "\n",
    "* Для обучения модели подходит только линейная регрессия (остальные — недостаточно предсказуемые).\n",
    "* При разведке региона исследуют 500 точек, из которых с помощью машинного обучения выбирают 200 лучших для разработки.\n",
    "* Бюджет на разработку скважин в регионе — 10 млрд рублей.\n",
    "* При нынешних ценах один баррель сырья приносит 450 рублей дохода. Доход с каждой единицы продукта составляет 450 тыс. рублей, поскольку объём указан в тысячах баррелей.\n",
    "* После оценки рисков нужно оставить лишь те регионы, в которых вероятность убытков меньше 2.5%. Среди них выбирают регион с наибольшей средней прибылью.\n",
    "\n",
    "## План работы\n",
    "Для достижения желаемого результата требуется открыть файлы и изучить информаци, предобработать данные и разбить на выборки, после чего обучить и проверить модель для каждого региона, далее требуется подготовить данные и расчитать прибыль. В конце требуется посчитать риски и прибыль для каждого региона\n",
    "\n",
    "## Результат работы\n",
    "Результатом работы являются посчитанные риски и прибыль для каждого региона. Требуется предложить регион для разработки скважин и обосновать выбор."
   ]
  },
  {
   "cell_type": "markdown",
   "metadata": {},
   "source": [
    "# Загрузка и подготовка данных"
   ]
  },
  {
   "cell_type": "code",
   "execution_count": 1,
   "metadata": {},
   "outputs": [],
   "source": [
    "#импортируем необходимые библиотеки\n",
    "import pandas as pd\n",
    "import numpy as np\n",
    "import matplotlib.pyplot as plt\n",
    "import seaborn as sns\n",
    "from sklearn.linear_model import LinearRegression\n",
    "from sklearn.model_selection import train_test_split\n",
    "from sklearn.preprocessing import StandardScaler\n",
    "from sklearn.utils import shuffle\n",
    "from sklearn.metrics import confusion_matrix\n",
    "from sklearn.metrics import mean_squared_error"
   ]
  },
  {
   "cell_type": "code",
   "execution_count": 2,
   "metadata": {},
   "outputs": [
    {
     "data": {
      "text/html": [
       "<div>\n",
       "<style scoped>\n",
       "    .dataframe tbody tr th:only-of-type {\n",
       "        vertical-align: middle;\n",
       "    }\n",
       "\n",
       "    .dataframe tbody tr th {\n",
       "        vertical-align: top;\n",
       "    }\n",
       "\n",
       "    .dataframe thead th {\n",
       "        text-align: right;\n",
       "    }\n",
       "</style>\n",
       "<table border=\"1\" class=\"dataframe\">\n",
       "  <thead>\n",
       "    <tr style=\"text-align: right;\">\n",
       "      <th></th>\n",
       "      <th>id</th>\n",
       "      <th>f0</th>\n",
       "      <th>f1</th>\n",
       "      <th>f2</th>\n",
       "      <th>product</th>\n",
       "    </tr>\n",
       "  </thead>\n",
       "  <tbody>\n",
       "    <tr>\n",
       "      <td>0</td>\n",
       "      <td>txEyH</td>\n",
       "      <td>0.705745</td>\n",
       "      <td>-0.497823</td>\n",
       "      <td>1.221170</td>\n",
       "      <td>105.280062</td>\n",
       "    </tr>\n",
       "    <tr>\n",
       "      <td>1</td>\n",
       "      <td>2acmU</td>\n",
       "      <td>1.334711</td>\n",
       "      <td>-0.340164</td>\n",
       "      <td>4.365080</td>\n",
       "      <td>73.037750</td>\n",
       "    </tr>\n",
       "    <tr>\n",
       "      <td>2</td>\n",
       "      <td>409Wp</td>\n",
       "      <td>1.022732</td>\n",
       "      <td>0.151990</td>\n",
       "      <td>1.419926</td>\n",
       "      <td>85.265647</td>\n",
       "    </tr>\n",
       "    <tr>\n",
       "      <td>3</td>\n",
       "      <td>iJLyR</td>\n",
       "      <td>-0.032172</td>\n",
       "      <td>0.139033</td>\n",
       "      <td>2.978566</td>\n",
       "      <td>168.620776</td>\n",
       "    </tr>\n",
       "    <tr>\n",
       "      <td>4</td>\n",
       "      <td>Xdl7t</td>\n",
       "      <td>1.988431</td>\n",
       "      <td>0.155413</td>\n",
       "      <td>4.751769</td>\n",
       "      <td>154.036647</td>\n",
       "    </tr>\n",
       "  </tbody>\n",
       "</table>\n",
       "</div>"
      ],
      "text/plain": [
       "      id        f0        f1        f2     product\n",
       "0  txEyH  0.705745 -0.497823  1.221170  105.280062\n",
       "1  2acmU  1.334711 -0.340164  4.365080   73.037750\n",
       "2  409Wp  1.022732  0.151990  1.419926   85.265647\n",
       "3  iJLyR -0.032172  0.139033  2.978566  168.620776\n",
       "4  Xdl7t  1.988431  0.155413  4.751769  154.036647"
      ]
     },
     "metadata": {},
     "output_type": "display_data"
    },
    {
     "name": "stdout",
     "output_type": "stream",
     "text": [
      "<class 'pandas.core.frame.DataFrame'>\n",
      "RangeIndex: 100000 entries, 0 to 99999\n",
      "Data columns (total 5 columns):\n",
      "id         100000 non-null object\n",
      "f0         100000 non-null float64\n",
      "f1         100000 non-null float64\n",
      "f2         100000 non-null float64\n",
      "product    100000 non-null float64\n",
      "dtypes: float64(4), object(1)\n",
      "memory usage: 3.8+ MB\n"
     ]
    },
    {
     "data": {
      "text/plain": [
       "None"
      ]
     },
     "metadata": {},
     "output_type": "display_data"
    },
    {
     "data": {
      "text/html": [
       "<div>\n",
       "<style scoped>\n",
       "    .dataframe tbody tr th:only-of-type {\n",
       "        vertical-align: middle;\n",
       "    }\n",
       "\n",
       "    .dataframe tbody tr th {\n",
       "        vertical-align: top;\n",
       "    }\n",
       "\n",
       "    .dataframe thead th {\n",
       "        text-align: right;\n",
       "    }\n",
       "</style>\n",
       "<table border=\"1\" class=\"dataframe\">\n",
       "  <thead>\n",
       "    <tr style=\"text-align: right;\">\n",
       "      <th></th>\n",
       "      <th>f0</th>\n",
       "      <th>f1</th>\n",
       "      <th>f2</th>\n",
       "      <th>product</th>\n",
       "    </tr>\n",
       "  </thead>\n",
       "  <tbody>\n",
       "    <tr>\n",
       "      <td>count</td>\n",
       "      <td>100000.000000</td>\n",
       "      <td>100000.000000</td>\n",
       "      <td>100000.000000</td>\n",
       "      <td>100000.000000</td>\n",
       "    </tr>\n",
       "    <tr>\n",
       "      <td>mean</td>\n",
       "      <td>0.500419</td>\n",
       "      <td>0.250143</td>\n",
       "      <td>2.502647</td>\n",
       "      <td>92.500000</td>\n",
       "    </tr>\n",
       "    <tr>\n",
       "      <td>std</td>\n",
       "      <td>0.871832</td>\n",
       "      <td>0.504433</td>\n",
       "      <td>3.248248</td>\n",
       "      <td>44.288691</td>\n",
       "    </tr>\n",
       "    <tr>\n",
       "      <td>min</td>\n",
       "      <td>-1.408605</td>\n",
       "      <td>-0.848218</td>\n",
       "      <td>-12.088328</td>\n",
       "      <td>0.000000</td>\n",
       "    </tr>\n",
       "    <tr>\n",
       "      <td>25%</td>\n",
       "      <td>-0.072580</td>\n",
       "      <td>-0.200881</td>\n",
       "      <td>0.287748</td>\n",
       "      <td>56.497507</td>\n",
       "    </tr>\n",
       "    <tr>\n",
       "      <td>50%</td>\n",
       "      <td>0.502360</td>\n",
       "      <td>0.250252</td>\n",
       "      <td>2.515969</td>\n",
       "      <td>91.849972</td>\n",
       "    </tr>\n",
       "    <tr>\n",
       "      <td>75%</td>\n",
       "      <td>1.073581</td>\n",
       "      <td>0.700646</td>\n",
       "      <td>4.715088</td>\n",
       "      <td>128.564089</td>\n",
       "    </tr>\n",
       "    <tr>\n",
       "      <td>max</td>\n",
       "      <td>2.362331</td>\n",
       "      <td>1.343769</td>\n",
       "      <td>16.003790</td>\n",
       "      <td>185.364347</td>\n",
       "    </tr>\n",
       "  </tbody>\n",
       "</table>\n",
       "</div>"
      ],
      "text/plain": [
       "                  f0             f1             f2        product\n",
       "count  100000.000000  100000.000000  100000.000000  100000.000000\n",
       "mean        0.500419       0.250143       2.502647      92.500000\n",
       "std         0.871832       0.504433       3.248248      44.288691\n",
       "min        -1.408605      -0.848218     -12.088328       0.000000\n",
       "25%        -0.072580      -0.200881       0.287748      56.497507\n",
       "50%         0.502360       0.250252       2.515969      91.849972\n",
       "75%         1.073581       0.700646       4.715088     128.564089\n",
       "max         2.362331       1.343769      16.003790     185.364347"
      ]
     },
     "execution_count": 2,
     "metadata": {},
     "output_type": "execute_result"
    }
   ],
   "source": [
    "df_0 = pd.read_csv('/datasets/geo_data_0.csv')\n",
    "display(df_0.head())\n",
    "display(df_0.info())\n",
    "df_0.describe()"
   ]
  },
  {
   "cell_type": "code",
   "execution_count": 3,
   "metadata": {},
   "outputs": [
    {
     "data": {
      "text/html": [
       "<div>\n",
       "<style scoped>\n",
       "    .dataframe tbody tr th:only-of-type {\n",
       "        vertical-align: middle;\n",
       "    }\n",
       "\n",
       "    .dataframe tbody tr th {\n",
       "        vertical-align: top;\n",
       "    }\n",
       "\n",
       "    .dataframe thead th {\n",
       "        text-align: right;\n",
       "    }\n",
       "</style>\n",
       "<table border=\"1\" class=\"dataframe\">\n",
       "  <thead>\n",
       "    <tr style=\"text-align: right;\">\n",
       "      <th></th>\n",
       "      <th>id</th>\n",
       "      <th>f0</th>\n",
       "      <th>f1</th>\n",
       "      <th>f2</th>\n",
       "      <th>product</th>\n",
       "    </tr>\n",
       "  </thead>\n",
       "  <tbody>\n",
       "    <tr>\n",
       "      <td>0</td>\n",
       "      <td>kBEdx</td>\n",
       "      <td>-15.001348</td>\n",
       "      <td>-8.276000</td>\n",
       "      <td>-0.005876</td>\n",
       "      <td>3.179103</td>\n",
       "    </tr>\n",
       "    <tr>\n",
       "      <td>1</td>\n",
       "      <td>62mP7</td>\n",
       "      <td>14.272088</td>\n",
       "      <td>-3.475083</td>\n",
       "      <td>0.999183</td>\n",
       "      <td>26.953261</td>\n",
       "    </tr>\n",
       "    <tr>\n",
       "      <td>2</td>\n",
       "      <td>vyE1P</td>\n",
       "      <td>6.263187</td>\n",
       "      <td>-5.948386</td>\n",
       "      <td>5.001160</td>\n",
       "      <td>134.766305</td>\n",
       "    </tr>\n",
       "    <tr>\n",
       "      <td>3</td>\n",
       "      <td>KcrkZ</td>\n",
       "      <td>-13.081196</td>\n",
       "      <td>-11.506057</td>\n",
       "      <td>4.999415</td>\n",
       "      <td>137.945408</td>\n",
       "    </tr>\n",
       "    <tr>\n",
       "      <td>4</td>\n",
       "      <td>AHL4O</td>\n",
       "      <td>12.702195</td>\n",
       "      <td>-8.147433</td>\n",
       "      <td>5.004363</td>\n",
       "      <td>134.766305</td>\n",
       "    </tr>\n",
       "  </tbody>\n",
       "</table>\n",
       "</div>"
      ],
      "text/plain": [
       "      id         f0         f1        f2     product\n",
       "0  kBEdx -15.001348  -8.276000 -0.005876    3.179103\n",
       "1  62mP7  14.272088  -3.475083  0.999183   26.953261\n",
       "2  vyE1P   6.263187  -5.948386  5.001160  134.766305\n",
       "3  KcrkZ -13.081196 -11.506057  4.999415  137.945408\n",
       "4  AHL4O  12.702195  -8.147433  5.004363  134.766305"
      ]
     },
     "metadata": {},
     "output_type": "display_data"
    },
    {
     "name": "stdout",
     "output_type": "stream",
     "text": [
      "<class 'pandas.core.frame.DataFrame'>\n",
      "RangeIndex: 100000 entries, 0 to 99999\n",
      "Data columns (total 5 columns):\n",
      "id         100000 non-null object\n",
      "f0         100000 non-null float64\n",
      "f1         100000 non-null float64\n",
      "f2         100000 non-null float64\n",
      "product    100000 non-null float64\n",
      "dtypes: float64(4), object(1)\n",
      "memory usage: 3.8+ MB\n"
     ]
    },
    {
     "data": {
      "text/plain": [
       "None"
      ]
     },
     "metadata": {},
     "output_type": "display_data"
    },
    {
     "data": {
      "text/html": [
       "<div>\n",
       "<style scoped>\n",
       "    .dataframe tbody tr th:only-of-type {\n",
       "        vertical-align: middle;\n",
       "    }\n",
       "\n",
       "    .dataframe tbody tr th {\n",
       "        vertical-align: top;\n",
       "    }\n",
       "\n",
       "    .dataframe thead th {\n",
       "        text-align: right;\n",
       "    }\n",
       "</style>\n",
       "<table border=\"1\" class=\"dataframe\">\n",
       "  <thead>\n",
       "    <tr style=\"text-align: right;\">\n",
       "      <th></th>\n",
       "      <th>f0</th>\n",
       "      <th>f1</th>\n",
       "      <th>f2</th>\n",
       "      <th>product</th>\n",
       "    </tr>\n",
       "  </thead>\n",
       "  <tbody>\n",
       "    <tr>\n",
       "      <td>count</td>\n",
       "      <td>100000.000000</td>\n",
       "      <td>100000.000000</td>\n",
       "      <td>100000.000000</td>\n",
       "      <td>100000.000000</td>\n",
       "    </tr>\n",
       "    <tr>\n",
       "      <td>mean</td>\n",
       "      <td>1.141296</td>\n",
       "      <td>-4.796579</td>\n",
       "      <td>2.494541</td>\n",
       "      <td>68.825000</td>\n",
       "    </tr>\n",
       "    <tr>\n",
       "      <td>std</td>\n",
       "      <td>8.965932</td>\n",
       "      <td>5.119872</td>\n",
       "      <td>1.703572</td>\n",
       "      <td>45.944423</td>\n",
       "    </tr>\n",
       "    <tr>\n",
       "      <td>min</td>\n",
       "      <td>-31.609576</td>\n",
       "      <td>-26.358598</td>\n",
       "      <td>-0.018144</td>\n",
       "      <td>0.000000</td>\n",
       "    </tr>\n",
       "    <tr>\n",
       "      <td>25%</td>\n",
       "      <td>-6.298551</td>\n",
       "      <td>-8.267985</td>\n",
       "      <td>1.000021</td>\n",
       "      <td>26.953261</td>\n",
       "    </tr>\n",
       "    <tr>\n",
       "      <td>50%</td>\n",
       "      <td>1.153055</td>\n",
       "      <td>-4.813172</td>\n",
       "      <td>2.011479</td>\n",
       "      <td>57.085625</td>\n",
       "    </tr>\n",
       "    <tr>\n",
       "      <td>75%</td>\n",
       "      <td>8.621015</td>\n",
       "      <td>-1.332816</td>\n",
       "      <td>3.999904</td>\n",
       "      <td>107.813044</td>\n",
       "    </tr>\n",
       "    <tr>\n",
       "      <td>max</td>\n",
       "      <td>29.421755</td>\n",
       "      <td>18.734063</td>\n",
       "      <td>5.019721</td>\n",
       "      <td>137.945408</td>\n",
       "    </tr>\n",
       "  </tbody>\n",
       "</table>\n",
       "</div>"
      ],
      "text/plain": [
       "                  f0             f1             f2        product\n",
       "count  100000.000000  100000.000000  100000.000000  100000.000000\n",
       "mean        1.141296      -4.796579       2.494541      68.825000\n",
       "std         8.965932       5.119872       1.703572      45.944423\n",
       "min       -31.609576     -26.358598      -0.018144       0.000000\n",
       "25%        -6.298551      -8.267985       1.000021      26.953261\n",
       "50%         1.153055      -4.813172       2.011479      57.085625\n",
       "75%         8.621015      -1.332816       3.999904     107.813044\n",
       "max        29.421755      18.734063       5.019721     137.945408"
      ]
     },
     "execution_count": 3,
     "metadata": {},
     "output_type": "execute_result"
    }
   ],
   "source": [
    "df_1 = pd.read_csv('/datasets/geo_data_1.csv')\n",
    "display(df_1.head())\n",
    "display(df_1.info())\n",
    "df_1.describe()"
   ]
  },
  {
   "cell_type": "code",
   "execution_count": 4,
   "metadata": {},
   "outputs": [
    {
     "data": {
      "text/html": [
       "<div>\n",
       "<style scoped>\n",
       "    .dataframe tbody tr th:only-of-type {\n",
       "        vertical-align: middle;\n",
       "    }\n",
       "\n",
       "    .dataframe tbody tr th {\n",
       "        vertical-align: top;\n",
       "    }\n",
       "\n",
       "    .dataframe thead th {\n",
       "        text-align: right;\n",
       "    }\n",
       "</style>\n",
       "<table border=\"1\" class=\"dataframe\">\n",
       "  <thead>\n",
       "    <tr style=\"text-align: right;\">\n",
       "      <th></th>\n",
       "      <th>id</th>\n",
       "      <th>f0</th>\n",
       "      <th>f1</th>\n",
       "      <th>f2</th>\n",
       "      <th>product</th>\n",
       "    </tr>\n",
       "  </thead>\n",
       "  <tbody>\n",
       "    <tr>\n",
       "      <td>0</td>\n",
       "      <td>fwXo0</td>\n",
       "      <td>-1.146987</td>\n",
       "      <td>0.963328</td>\n",
       "      <td>-0.828965</td>\n",
       "      <td>27.758673</td>\n",
       "    </tr>\n",
       "    <tr>\n",
       "      <td>1</td>\n",
       "      <td>WJtFt</td>\n",
       "      <td>0.262778</td>\n",
       "      <td>0.269839</td>\n",
       "      <td>-2.530187</td>\n",
       "      <td>56.069697</td>\n",
       "    </tr>\n",
       "    <tr>\n",
       "      <td>2</td>\n",
       "      <td>ovLUW</td>\n",
       "      <td>0.194587</td>\n",
       "      <td>0.289035</td>\n",
       "      <td>-5.586433</td>\n",
       "      <td>62.871910</td>\n",
       "    </tr>\n",
       "    <tr>\n",
       "      <td>3</td>\n",
       "      <td>q6cA6</td>\n",
       "      <td>2.236060</td>\n",
       "      <td>-0.553760</td>\n",
       "      <td>0.930038</td>\n",
       "      <td>114.572842</td>\n",
       "    </tr>\n",
       "    <tr>\n",
       "      <td>4</td>\n",
       "      <td>WPMUX</td>\n",
       "      <td>-0.515993</td>\n",
       "      <td>1.716266</td>\n",
       "      <td>5.899011</td>\n",
       "      <td>149.600746</td>\n",
       "    </tr>\n",
       "  </tbody>\n",
       "</table>\n",
       "</div>"
      ],
      "text/plain": [
       "      id        f0        f1        f2     product\n",
       "0  fwXo0 -1.146987  0.963328 -0.828965   27.758673\n",
       "1  WJtFt  0.262778  0.269839 -2.530187   56.069697\n",
       "2  ovLUW  0.194587  0.289035 -5.586433   62.871910\n",
       "3  q6cA6  2.236060 -0.553760  0.930038  114.572842\n",
       "4  WPMUX -0.515993  1.716266  5.899011  149.600746"
      ]
     },
     "metadata": {},
     "output_type": "display_data"
    },
    {
     "name": "stdout",
     "output_type": "stream",
     "text": [
      "<class 'pandas.core.frame.DataFrame'>\n",
      "RangeIndex: 100000 entries, 0 to 99999\n",
      "Data columns (total 5 columns):\n",
      "id         100000 non-null object\n",
      "f0         100000 non-null float64\n",
      "f1         100000 non-null float64\n",
      "f2         100000 non-null float64\n",
      "product    100000 non-null float64\n",
      "dtypes: float64(4), object(1)\n",
      "memory usage: 3.8+ MB\n"
     ]
    },
    {
     "data": {
      "text/plain": [
       "None"
      ]
     },
     "metadata": {},
     "output_type": "display_data"
    },
    {
     "data": {
      "text/html": [
       "<div>\n",
       "<style scoped>\n",
       "    .dataframe tbody tr th:only-of-type {\n",
       "        vertical-align: middle;\n",
       "    }\n",
       "\n",
       "    .dataframe tbody tr th {\n",
       "        vertical-align: top;\n",
       "    }\n",
       "\n",
       "    .dataframe thead th {\n",
       "        text-align: right;\n",
       "    }\n",
       "</style>\n",
       "<table border=\"1\" class=\"dataframe\">\n",
       "  <thead>\n",
       "    <tr style=\"text-align: right;\">\n",
       "      <th></th>\n",
       "      <th>f0</th>\n",
       "      <th>f1</th>\n",
       "      <th>f2</th>\n",
       "      <th>product</th>\n",
       "    </tr>\n",
       "  </thead>\n",
       "  <tbody>\n",
       "    <tr>\n",
       "      <td>count</td>\n",
       "      <td>100000.000000</td>\n",
       "      <td>100000.000000</td>\n",
       "      <td>100000.000000</td>\n",
       "      <td>100000.000000</td>\n",
       "    </tr>\n",
       "    <tr>\n",
       "      <td>mean</td>\n",
       "      <td>0.002023</td>\n",
       "      <td>-0.002081</td>\n",
       "      <td>2.495128</td>\n",
       "      <td>95.000000</td>\n",
       "    </tr>\n",
       "    <tr>\n",
       "      <td>std</td>\n",
       "      <td>1.732045</td>\n",
       "      <td>1.730417</td>\n",
       "      <td>3.473445</td>\n",
       "      <td>44.749921</td>\n",
       "    </tr>\n",
       "    <tr>\n",
       "      <td>min</td>\n",
       "      <td>-8.760004</td>\n",
       "      <td>-7.084020</td>\n",
       "      <td>-11.970335</td>\n",
       "      <td>0.000000</td>\n",
       "    </tr>\n",
       "    <tr>\n",
       "      <td>25%</td>\n",
       "      <td>-1.162288</td>\n",
       "      <td>-1.174820</td>\n",
       "      <td>0.130359</td>\n",
       "      <td>59.450441</td>\n",
       "    </tr>\n",
       "    <tr>\n",
       "      <td>50%</td>\n",
       "      <td>0.009424</td>\n",
       "      <td>-0.009482</td>\n",
       "      <td>2.484236</td>\n",
       "      <td>94.925613</td>\n",
       "    </tr>\n",
       "    <tr>\n",
       "      <td>75%</td>\n",
       "      <td>1.158535</td>\n",
       "      <td>1.163678</td>\n",
       "      <td>4.858794</td>\n",
       "      <td>130.595027</td>\n",
       "    </tr>\n",
       "    <tr>\n",
       "      <td>max</td>\n",
       "      <td>7.238262</td>\n",
       "      <td>7.844801</td>\n",
       "      <td>16.739402</td>\n",
       "      <td>190.029838</td>\n",
       "    </tr>\n",
       "  </tbody>\n",
       "</table>\n",
       "</div>"
      ],
      "text/plain": [
       "                  f0             f1             f2        product\n",
       "count  100000.000000  100000.000000  100000.000000  100000.000000\n",
       "mean        0.002023      -0.002081       2.495128      95.000000\n",
       "std         1.732045       1.730417       3.473445      44.749921\n",
       "min        -8.760004      -7.084020     -11.970335       0.000000\n",
       "25%        -1.162288      -1.174820       0.130359      59.450441\n",
       "50%         0.009424      -0.009482       2.484236      94.925613\n",
       "75%         1.158535       1.163678       4.858794     130.595027\n",
       "max         7.238262       7.844801      16.739402     190.029838"
      ]
     },
     "execution_count": 4,
     "metadata": {},
     "output_type": "execute_result"
    }
   ],
   "source": [
    "df_2 = pd.read_csv('/datasets/geo_data_2.csv')\n",
    "display(df_2.head())\n",
    "display(df_2.info())\n",
    "df_2.describe()"
   ]
  },
  {
   "cell_type": "code",
   "execution_count": 5,
   "metadata": {},
   "outputs": [],
   "source": [
    "# Избавимся от мешающих обучению столбцов\n",
    "df_0 = df_0.drop('id', axis=1)\n",
    "df_1 = df_1.drop('id', axis=1)\n",
    "df_2 = df_2.drop('id', axis=1)"
   ]
  },
  {
   "cell_type": "markdown",
   "metadata": {},
   "source": [
    "## Вывод"
   ]
  },
  {
   "cell_type": "markdown",
   "metadata": {},
   "source": [
    "В данном разделе были открыты 3 файла и изучена информация в них. Пропусков не было обнаружено, столбец с уникальным идентификатором был удален для дальнейшего обучения"
   ]
  },
  {
   "cell_type": "markdown",
   "metadata": {},
   "source": [
    "# Обучение и проверка модели"
   ]
  },
  {
   "cell_type": "code",
   "execution_count": 6,
   "metadata": {},
   "outputs": [],
   "source": [
    "#разобьем данные на выборки \n",
    "features_0 = df_0.drop('product', axis=1)\n",
    "target_0 = df_0['product']\n",
    "features_1 = df_1.drop('product', axis=1)\n",
    "target_1 = df_1['product']\n",
    "features_2 = df_2.drop('product', axis=1)\n",
    "target_2 = df_2['product']"
   ]
  },
  {
   "cell_type": "code",
   "execution_count": 7,
   "metadata": {},
   "outputs": [],
   "source": [
    "features_train_0, features_valid_0, target_train_0, target_valid_0 = train_test_split(\n",
    "    features_0, target_0, test_size=0.25)"
   ]
  },
  {
   "cell_type": "code",
   "execution_count": 8,
   "metadata": {},
   "outputs": [],
   "source": [
    "features_train_1, features_valid_1, target_train_1, target_valid_1 = train_test_split(\n",
    "    features_1, target_1, test_size=0.25)"
   ]
  },
  {
   "cell_type": "code",
   "execution_count": 9,
   "metadata": {},
   "outputs": [],
   "source": [
    "features_train_2, features_valid_2, target_train_2, target_valid_2 = train_test_split(\n",
    "    features_2, target_2, test_size=0.25)"
   ]
  },
  {
   "cell_type": "code",
   "execution_count": 10,
   "metadata": {},
   "outputs": [],
   "source": [
    "def predictor(features_train, target_train, features_valid, target_valid):\n",
    "    model = LinearRegression()\n",
    "    model.fit(features_train, target_train)\n",
    "    predictions_valid = model.predict(features_valid)\n",
    "    mean = predictions_valid.mean()\n",
    "    error = np.sqrt(mean_squared_error(predictions_valid, target_valid))\n",
    "    return predictions_valid, mean, error"
   ]
  },
  {
   "cell_type": "code",
   "execution_count": 11,
   "metadata": {},
   "outputs": [
    {
     "name": "stdout",
     "output_type": "stream",
     "text": [
      "Среднее для первого региона: 92.55494643116\n",
      "RMSE для первого региона: 37.697633263014644\n"
     ]
    }
   ],
   "source": [
    "predictions_valid_0, mean_0, error_0 = predictor(features_train_0, target_train_0, features_valid_0, target_valid_0)\n",
    "print('Среднее для первого региона:', mean_0)\n",
    "print('RMSE для первого региона:', error_0)"
   ]
  },
  {
   "cell_type": "code",
   "execution_count": 12,
   "metadata": {},
   "outputs": [
    {
     "name": "stdout",
     "output_type": "stream",
     "text": [
      "Среднее для первого региона: 69.29244946901365\n",
      "RMSE для первого региона: 0.8883309661923522\n"
     ]
    }
   ],
   "source": [
    "predictions_valid_1, mean_1, error_1 = predictor(features_train_1, target_train_1, features_valid_1, target_valid_1)\n",
    "print('Среднее для первого региона:', mean_1)\n",
    "print('RMSE для первого региона:', error_1)"
   ]
  },
  {
   "cell_type": "code",
   "execution_count": 13,
   "metadata": {},
   "outputs": [
    {
     "name": "stdout",
     "output_type": "stream",
     "text": [
      "Среднее для первого региона: 94.93811066973882\n",
      "RMSE для первого региона: 40.190721627970404\n"
     ]
    }
   ],
   "source": [
    "predictions_valid_2, mean_2, error_2 = predictor(features_train_2, target_train_2, features_valid_2, target_valid_2)\n",
    "print('Среднее для первого региона:', mean_2)\n",
    "print('RMSE для первого региона:', error_2)"
   ]
  },
  {
   "cell_type": "code",
   "execution_count": 14,
   "metadata": {
    "scrolled": true
   },
   "outputs": [
    {
     "data": {
      "text/html": [
       "<div>\n",
       "<style scoped>\n",
       "    .dataframe tbody tr th:only-of-type {\n",
       "        vertical-align: middle;\n",
       "    }\n",
       "\n",
       "    .dataframe tbody tr th {\n",
       "        vertical-align: top;\n",
       "    }\n",
       "\n",
       "    .dataframe thead th {\n",
       "        text-align: right;\n",
       "    }\n",
       "</style>\n",
       "<table border=\"1\" class=\"dataframe\">\n",
       "  <thead>\n",
       "    <tr style=\"text-align: right;\">\n",
       "      <th></th>\n",
       "      <th>Регион 1</th>\n",
       "      <th>Регион 2</th>\n",
       "      <th>Регион 3</th>\n",
       "    </tr>\n",
       "  </thead>\n",
       "  <tbody>\n",
       "    <tr>\n",
       "      <td>Среднее по региону на валидационной выборке</td>\n",
       "      <td>92.554946</td>\n",
       "      <td>69.292449</td>\n",
       "      <td>94.938111</td>\n",
       "    </tr>\n",
       "    <tr>\n",
       "      <td>RMSE на валидационной выборке</td>\n",
       "      <td>37.697633</td>\n",
       "      <td>0.888331</td>\n",
       "      <td>40.190722</td>\n",
       "    </tr>\n",
       "  </tbody>\n",
       "</table>\n",
       "</div>"
      ],
      "text/plain": [
       "                                              Регион 1   Регион 2   Регион 3\n",
       "Среднее по региону на валидационной выборке  92.554946  69.292449  94.938111\n",
       "RMSE на валидационной выборке                37.697633   0.888331  40.190722"
      ]
     },
     "execution_count": 14,
     "metadata": {},
     "output_type": "execute_result"
    }
   ],
   "source": [
    "#Построим сводную таблицу\n",
    "results = [[mean_0, mean_1, mean_2], [error_0, error_1, error_2]]\n",
    "result_df = pd.DataFrame(results,\n",
    "                         columns=['Регион 1', 'Регион 2', 'Регион 3'],\n",
    "                        index=['Среднее по региону на валидационной выборке', 'RMSE на валидационной выборке'])\n",
    "result_df"
   ]
  },
  {
   "cell_type": "markdown",
   "metadata": {},
   "source": [
    "## Вывод"
   ]
  },
  {
   "cell_type": "markdown",
   "metadata": {},
   "source": [
    "Данные были разбиты на тренировочную и валидационную выборку в соотношении 3 к 1, после чего модель была обучена отдельно по каждому региону и получены предсказания, которые показали, что в первом и третьем регионе среднее объем запасов гораздо больше чем во втором, но модель во втором регионе работает гораздо лучше остальных и предсказывает объем с очень малой ошибкой."
   ]
  },
  {
   "cell_type": "markdown",
   "metadata": {},
   "source": [
    "# Подготовка к расчёту прибыли"
   ]
  },
  {
   "cell_type": "code",
   "execution_count": 15,
   "metadata": {},
   "outputs": [],
   "source": [
    "WELL_COST = 10**10 / 200\n",
    "MIN_RAW_MATERIAL = WELL_COST / (450 * 10**3)"
   ]
  },
  {
   "cell_type": "code",
   "execution_count": 16,
   "metadata": {},
   "outputs": [
    {
     "name": "stdout",
     "output_type": "stream",
     "text": [
      "Стоимость разработки одной скважины: 50000000.0\n",
      "Минимальный объем сырья для безубыточной разработки: 111.1\n"
     ]
    }
   ],
   "source": [
    "print(\"Стоимость разработки одной скважины:\", WELL_COST)\n",
    "print(\"Минимальный объем сырья для безубыточной разработки: {:.4}\".format(MIN_RAW_MATERIAL))"
   ]
  },
  {
   "cell_type": "markdown",
   "metadata": {},
   "source": [
    "## Вывод"
   ]
  },
  {
   "cell_type": "markdown",
   "metadata": {},
   "source": [
    "Исходя из подсчитанного минимального объема сырья можно сделать вывод о том, что требуется взять 200 точек, которые в среднем будут иметь объем сырья равный больше 111.1, и тогда данные скважины будут приносить прибыль. Также если окажется, что была выбрана скважина имеющая меньший минимального объем сырья, ее лучше вообще не разрабатывать, чтобы не уйти в убыток"
   ]
  },
  {
   "cell_type": "markdown",
   "metadata": {},
   "source": [
    "# Расчёт прибыли и рисков "
   ]
  },
  {
   "cell_type": "code",
   "execution_count": 17,
   "metadata": {},
   "outputs": [],
   "source": [
    "def compute_income(predictions, target, count):\n",
    "    predictions = pd.Series(predictions).reset_index(drop=True)\n",
    "    predictions_sorted = predictions.sort_values(ascending=False)\n",
    "    \n",
    "    total = np.sum(target.reset_index(drop=True)[predictions_sorted.index][:count])\n",
    "    return total *  450 * 10**3 - 10**10"
   ]
  },
  {
   "cell_type": "code",
   "execution_count": 18,
   "metadata": {},
   "outputs": [
    {
     "name": "stdout",
     "output_type": "stream",
     "text": [
      "Потенциальная прибыль при разработке 200 лучших скважин в первом регионе 3.312196e+09\n"
     ]
    }
   ],
   "source": [
    "total_income_0 = compute_income(predictions_valid_0, target_valid_0, 200)\n",
    "print(\"Потенциальная прибыль при разработке 200 лучших скважин в первом регионе {0:e}\".format(total_income_0))"
   ]
  },
  {
   "cell_type": "code",
   "execution_count": 19,
   "metadata": {},
   "outputs": [
    {
     "name": "stdout",
     "output_type": "stream",
     "text": [
      "Потенциальная прибыль при разработке 200 лучших скважин во втором регионе 2.415087e+09\n"
     ]
    }
   ],
   "source": [
    "total_income_1 = compute_income(predictions_valid_1, target_valid_1, 200)\n",
    "print(\"Потенциальная прибыль при разработке 200 лучших скважин во втором регионе {0:e}\".format(total_income_1))"
   ]
  },
  {
   "cell_type": "code",
   "execution_count": 20,
   "metadata": {},
   "outputs": [
    {
     "name": "stdout",
     "output_type": "stream",
     "text": [
      "Потенциальная прибыль при разработке 200 лучших скважин в третьем регионе 2.114353e+09\n"
     ]
    }
   ],
   "source": [
    "total_income_2 = compute_income(predictions_valid_2, target_valid_2, 200)\n",
    "print(\"Потенциальная прибыль при разработке 200 лучших скважин в третьем регионе {0:e}\".format(total_income_2))"
   ]
  },
  {
   "cell_type": "code",
   "execution_count": 21,
   "metadata": {},
   "outputs": [],
   "source": [
    "def risk_compute(predictions, target):\n",
    "    state = np.random.RandomState(12345)\n",
    "    values = []\n",
    "    for i in range(1000):\n",
    "        preictions_subsample = pd.Series(predictions).sample(n=500, replace=True, random_state=state)\n",
    "        target_subsample = target.reset_index(drop=True)[pd.Series(preictions_subsample).index]\n",
    "        values.append(compute_income(preictions_subsample, target_subsample, 200))\n",
    "\n",
    "    values = pd.Series(values)\n",
    "    lower = values.quantile(.025)\n",
    "    higher = values.quantile(.975)\n",
    "\n",
    "    lesion_percent = (values < 0).mean()\n",
    "    mean = values.mean()\n",
    "    print(\"Средняя выручка:\", mean)\n",
    "    print(\"95%-доверительный интервал: [{0:e}, {1:e}]\".format(lower, higher))\n",
    "    print(\"Возможные убыткои в среднем: {:.1%}\".format(lesion_percent))"
   ]
  },
  {
   "cell_type": "code",
   "execution_count": 22,
   "metadata": {},
   "outputs": [
    {
     "name": "stdout",
     "output_type": "stream",
     "text": [
      "Средняя выручка: 377502720.177933\n",
      "95%-доверительный интервал: [-1.349091e+08, 9.031249e+08]\n",
      "Возможные убыткои в среднем: 6.2%\n"
     ]
    }
   ],
   "source": [
    "risk_compute(predictions_valid_0, target_valid_0)"
   ]
  },
  {
   "cell_type": "code",
   "execution_count": 23,
   "metadata": {},
   "outputs": [
    {
     "name": "stdout",
     "output_type": "stream",
     "text": [
      "Средняя выручка: 493932205.9549772\n",
      "95%-доверительный интервал: [8.665305e+07, 8.958993e+08]\n",
      "Возможные убыткои в среднем: 0.7%\n"
     ]
    }
   ],
   "source": [
    "risk_compute(predictions_valid_1, target_valid_1)"
   ]
  },
  {
   "cell_type": "code",
   "execution_count": 24,
   "metadata": {
    "scrolled": true
   },
   "outputs": [
    {
     "name": "stdout",
     "output_type": "stream",
     "text": [
      "Средняя выручка: 343315323.6937068\n",
      "95%-доверительный интервал: [-1.413961e+08, 8.483659e+08]\n",
      "Возможные убыткои в среднем: 10.4%\n"
     ]
    }
   ],
   "source": [
    "risk_compute(predictions_valid_2, target_valid_2)"
   ]
  },
  {
   "cell_type": "markdown",
   "metadata": {},
   "source": [
    "## Вывод"
   ]
  },
  {
   "cell_type": "markdown",
   "metadata": {},
   "source": [
    "Можно заметить что при разработке 200 лучших скважин самая высокая прибыль достгиается в первом регионе, хотя среднее у второго региона было значительно ниже, выручка среди лучших оказалась у него выше чем у третьего региона. Во всех трех регионах при обработке 200 скважин возможен убыток, но во втором он минимален и составляет менее 1 процента, когда как в остальных скважинах он больше 5 процентов, что по-моему мнению достаточно большой риск для бизнеса по сравнению с риском менее 1 процента, в среднем во втором регионе самый большой заработок, а также границы 95%-ого интервала находятся очень близко друг другу, а также левая граница данного интервала имеет не отрицательное значение, что говорит о том что с 95 процентной вероятностью бизнес будет выходить на достаточно высокую прибыль."
   ]
  },
  {
   "cell_type": "markdown",
   "metadata": {},
   "source": [
    "# Общий вывод"
   ]
  },
  {
   "cell_type": "markdown",
   "metadata": {},
   "source": [
    "Были загружены и подготовлены данные из 3 файлов, после чего каждый из них был разбит на выборки и обучена модель отдельно по каждому региону, вычислен средний запас предсказанного сырья и RMSE модели. Далее был расчитан объем сырья для безубыточной раработки одной скважины. После чего была написана функция для расчета прибыли по скважинам, а также написана функция для подсчета рисков и прибыли по каждому региону в ходе которого был сделан вывод о том, что в каждом регионе возможны убытки но во втором регионе они минимальны, а самая высокая средняя выручка во втором регионе, также доверительный интервал является самым узким среди прочих у второго региона и его левая граница находится в плюсе, что дает понять, что разработка скважин именно в этом регионе наиболее стабильна и имеет минимальные риски для бизнеса. Данный регион и следует выбрать для разработки скважин"
   ]
  }
 ],
 "metadata": {
  "ExecuteTimeLog": [
   {
    "duration": 554,
    "start_time": "2022-01-09T18:35:59.028Z"
   },
   {
    "duration": 176,
    "start_time": "2022-01-09T18:35:59.585Z"
   },
   {
    "duration": 168,
    "start_time": "2022-01-09T18:35:59.762Z"
   },
   {
    "duration": 169,
    "start_time": "2022-01-09T18:36:24.211Z"
   },
   {
    "duration": 19,
    "start_time": "2022-01-09T18:39:09.625Z"
   },
   {
    "duration": 11,
    "start_time": "2022-01-09T18:39:14.174Z"
   },
   {
    "duration": 11,
    "start_time": "2022-01-09T19:21:17.878Z"
   },
   {
    "duration": 16,
    "start_time": "2022-01-09T19:21:20.889Z"
   },
   {
    "duration": 17,
    "start_time": "2022-01-09T19:21:21.196Z"
   },
   {
    "duration": 16,
    "start_time": "2022-01-09T19:21:26.553Z"
   },
   {
    "duration": 505,
    "start_time": "2022-01-09T19:23:34.831Z"
   },
   {
    "duration": -89,
    "start_time": "2022-01-09T19:23:35.428Z"
   },
   {
    "duration": 351,
    "start_time": "2022-01-09T19:23:35.354Z"
   },
   {
    "duration": 10,
    "start_time": "2022-01-09T19:23:41.992Z"
   },
   {
    "duration": 8,
    "start_time": "2022-01-09T19:23:45.105Z"
   },
   {
    "duration": 8,
    "start_time": "2022-01-09T19:23:45.311Z"
   },
   {
    "duration": 345,
    "start_time": "2022-01-09T19:24:55.361Z"
   },
   {
    "duration": 10,
    "start_time": "2022-01-09T19:24:59.492Z"
   },
   {
    "duration": 446,
    "start_time": "2022-01-09T19:25:00.709Z"
   },
   {
    "duration": 13,
    "start_time": "2022-01-09T19:25:05.126Z"
   },
   {
    "duration": 10,
    "start_time": "2022-01-09T19:25:08.876Z"
   },
   {
    "duration": 12,
    "start_time": "2022-01-09T19:25:20.243Z"
   },
   {
    "duration": 11,
    "start_time": "2022-01-09T19:25:21.088Z"
   },
   {
    "duration": 11,
    "start_time": "2022-01-09T19:28:18.141Z"
   },
   {
    "duration": 12,
    "start_time": "2022-01-09T19:28:20.265Z"
   },
   {
    "duration": 13,
    "start_time": "2022-01-09T19:28:22.175Z"
   },
   {
    "duration": 2,
    "start_time": "2022-01-09T20:57:08.772Z"
   },
   {
    "duration": 288,
    "start_time": "2022-01-09T21:57:34.848Z"
   },
   {
    "duration": 10,
    "start_time": "2022-01-09T21:58:06.772Z"
   },
   {
    "duration": 273,
    "start_time": "2022-01-09T21:58:23.475Z"
   },
   {
    "duration": 263,
    "start_time": "2022-01-09T21:58:28.763Z"
   },
   {
    "duration": 12,
    "start_time": "2022-01-09T21:58:35.343Z"
   },
   {
    "duration": 259,
    "start_time": "2022-01-09T21:59:16.998Z"
   },
   {
    "duration": 285,
    "start_time": "2022-01-09T21:59:30.409Z"
   },
   {
    "duration": 244,
    "start_time": "2022-01-09T21:59:50.334Z"
   },
   {
    "duration": 9,
    "start_time": "2022-01-09T22:00:18.961Z"
   },
   {
    "duration": 8,
    "start_time": "2022-01-10T17:31:24.576Z"
   },
   {
    "duration": 4,
    "start_time": "2022-01-10T17:32:56.543Z"
   },
   {
    "duration": 3,
    "start_time": "2022-01-10T17:33:03.184Z"
   },
   {
    "duration": 3,
    "start_time": "2022-01-10T17:33:20.939Z"
   },
   {
    "duration": 4,
    "start_time": "2022-01-10T17:34:46.897Z"
   },
   {
    "duration": 191,
    "start_time": "2022-01-10T22:58:04.599Z"
   },
   {
    "duration": 120,
    "start_time": "2022-01-10T22:58:28.314Z"
   },
   {
    "duration": 362,
    "start_time": "2022-01-10T22:58:33.471Z"
   },
   {
    "duration": 358,
    "start_time": "2022-01-10T22:58:35.334Z"
   },
   {
    "duration": 330,
    "start_time": "2022-01-10T22:59:02.838Z"
   },
   {
    "duration": 3,
    "start_time": "2022-01-10T22:59:10.698Z"
   },
   {
    "duration": 4,
    "start_time": "2022-01-10T22:59:14.508Z"
   },
   {
    "duration": 4,
    "start_time": "2022-01-10T22:59:18.220Z"
   },
   {
    "duration": 4,
    "start_time": "2022-01-10T22:59:21.166Z"
   },
   {
    "duration": 4,
    "start_time": "2022-01-10T22:59:26.550Z"
   },
   {
    "duration": 3,
    "start_time": "2022-01-10T22:59:38.816Z"
   },
   {
    "duration": 3,
    "start_time": "2022-01-10T23:00:36.511Z"
   },
   {
    "duration": 3,
    "start_time": "2022-01-10T23:00:36.795Z"
   },
   {
    "duration": 3,
    "start_time": "2022-01-10T23:01:52.750Z"
   },
   {
    "duration": 364,
    "start_time": "2022-01-10T23:02:08.923Z"
   },
   {
    "duration": 1193,
    "start_time": "2022-01-10T23:02:13.602Z"
   },
   {
    "duration": 1166,
    "start_time": "2022-01-10T23:02:14.797Z"
   },
   {
    "duration": 963,
    "start_time": "2022-01-10T23:02:15.965Z"
   },
   {
    "duration": 2489,
    "start_time": "2022-01-10T23:02:16.930Z"
   },
   {
    "duration": 17,
    "start_time": "2022-01-10T23:02:19.420Z"
   },
   {
    "duration": 6,
    "start_time": "2022-01-10T23:02:19.438Z"
   },
   {
    "duration": 10,
    "start_time": "2022-01-10T23:02:19.445Z"
   },
   {
    "duration": 18,
    "start_time": "2022-01-10T23:02:19.458Z"
   },
   {
    "duration": 13,
    "start_time": "2022-01-10T23:02:19.478Z"
   },
   {
    "duration": 13,
    "start_time": "2022-01-10T23:02:19.492Z"
   },
   {
    "duration": 35,
    "start_time": "2022-01-10T23:02:19.507Z"
   },
   {
    "duration": 104,
    "start_time": "2022-01-10T23:02:19.628Z"
   },
   {
    "duration": 104,
    "start_time": "2022-01-10T23:02:19.734Z"
   },
   {
    "duration": 93,
    "start_time": "2022-01-10T23:02:19.840Z"
   },
   {
    "duration": 101,
    "start_time": "2022-01-10T23:02:19.935Z"
   },
   {
    "duration": 8,
    "start_time": "2022-01-10T23:02:20.038Z"
   },
   {
    "duration": 5,
    "start_time": "2022-01-10T23:02:20.047Z"
   },
   {
    "duration": 723,
    "start_time": "2022-01-10T23:02:20.053Z"
   },
   {
    "duration": 2,
    "start_time": "2022-01-10T23:03:09.355Z"
   },
   {
    "duration": 698,
    "start_time": "2022-01-10T23:03:10.148Z"
   },
   {
    "duration": 2,
    "start_time": "2022-01-10T23:03:17.815Z"
   },
   {
    "duration": 9,
    "start_time": "2022-01-10T23:03:18.071Z"
   },
   {
    "duration": 2,
    "start_time": "2022-01-10T23:03:23.617Z"
   },
   {
    "duration": 13,
    "start_time": "2022-01-10T23:03:24.759Z"
   },
   {
    "duration": 2,
    "start_time": "2022-01-10T23:03:38.462Z"
   },
   {
    "duration": 652,
    "start_time": "2022-01-10T23:03:38.655Z"
   },
   {
    "duration": 3,
    "start_time": "2022-01-10T23:03:45.189Z"
   },
   {
    "duration": 10,
    "start_time": "2022-01-10T23:03:45.371Z"
   },
   {
    "duration": 2,
    "start_time": "2022-01-10T23:03:54.956Z"
   },
   {
    "duration": 8,
    "start_time": "2022-01-10T23:03:55.195Z"
   },
   {
    "duration": 3,
    "start_time": "2022-01-10T23:05:01.260Z"
   },
   {
    "duration": 7,
    "start_time": "2022-01-10T23:05:01.500Z"
   },
   {
    "duration": 3,
    "start_time": "2022-01-10T23:05:06.193Z"
   },
   {
    "duration": 8,
    "start_time": "2022-01-10T23:05:07.557Z"
   },
   {
    "duration": 8,
    "start_time": "2022-01-10T23:06:05.672Z"
   },
   {
    "duration": 8,
    "start_time": "2022-01-10T23:06:06.007Z"
   },
   {
    "duration": 7,
    "start_time": "2022-01-10T23:08:25.324Z"
   },
   {
    "duration": 8,
    "start_time": "2022-01-10T23:08:25.528Z"
   },
   {
    "duration": 8,
    "start_time": "2022-01-10T23:08:25.814Z"
   },
   {
    "duration": 122,
    "start_time": "2022-01-10T23:08:52.508Z"
   },
   {
    "duration": 329,
    "start_time": "2022-01-10T23:08:59.199Z"
   },
   {
    "duration": 9,
    "start_time": "2022-01-10T23:09:01.938Z"
   },
   {
    "duration": 8,
    "start_time": "2022-01-10T23:09:24.102Z"
   },
   {
    "duration": 333,
    "start_time": "2022-01-10T23:09:35.099Z"
   },
   {
    "duration": 8,
    "start_time": "2022-01-10T23:09:39.103Z"
   },
   {
    "duration": 8,
    "start_time": "2022-01-10T23:09:42.791Z"
   },
   {
    "duration": 8,
    "start_time": "2022-01-10T23:09:46.763Z"
   },
   {
    "duration": 8,
    "start_time": "2022-01-10T23:09:49.756Z"
   },
   {
    "duration": 8,
    "start_time": "2022-01-10T23:10:16.494Z"
   },
   {
    "duration": 8,
    "start_time": "2022-01-10T23:10:47.571Z"
   },
   {
    "duration": 8,
    "start_time": "2022-01-10T23:10:47.834Z"
   },
   {
    "duration": 7,
    "start_time": "2022-01-10T23:10:48.089Z"
   },
   {
    "duration": 3,
    "start_time": "2022-01-10T23:27:25.946Z"
   },
   {
    "duration": 4,
    "start_time": "2022-01-10T23:27:28.745Z"
   },
   {
    "duration": 164,
    "start_time": "2022-01-10T23:27:28.751Z"
   },
   {
    "duration": 158,
    "start_time": "2022-01-10T23:27:28.916Z"
   },
   {
    "duration": 178,
    "start_time": "2022-01-10T23:27:29.076Z"
   },
   {
    "duration": 13,
    "start_time": "2022-01-10T23:27:29.256Z"
   },
   {
    "duration": 5,
    "start_time": "2022-01-10T23:27:29.270Z"
   },
   {
    "duration": 8,
    "start_time": "2022-01-10T23:27:29.277Z"
   },
   {
    "duration": 12,
    "start_time": "2022-01-10T23:27:29.286Z"
   },
   {
    "duration": 36,
    "start_time": "2022-01-10T23:27:29.299Z"
   },
   {
    "duration": 12,
    "start_time": "2022-01-10T23:27:29.336Z"
   },
   {
    "duration": 405,
    "start_time": "2022-01-10T23:27:29.350Z"
   },
   {
    "duration": -84,
    "start_time": "2022-01-10T23:27:29.841Z"
   },
   {
    "duration": -102,
    "start_time": "2022-01-10T23:27:29.861Z"
   },
   {
    "duration": -102,
    "start_time": "2022-01-10T23:27:29.862Z"
   },
   {
    "duration": -103,
    "start_time": "2022-01-10T23:27:29.864Z"
   },
   {
    "duration": -118,
    "start_time": "2022-01-10T23:27:29.881Z"
   },
   {
    "duration": -119,
    "start_time": "2022-01-10T23:27:29.883Z"
   },
   {
    "duration": 10,
    "start_time": "2022-01-10T23:35:44.252Z"
   },
   {
    "duration": 4,
    "start_time": "2022-01-10T23:35:45.010Z"
   },
   {
    "duration": 4,
    "start_time": "2022-01-10T23:38:47.490Z"
   },
   {
    "duration": 3,
    "start_time": "2022-01-10T23:40:05.516Z"
   },
   {
    "duration": 658,
    "start_time": "2022-01-10T23:40:06.236Z"
   },
   {
    "duration": 2,
    "start_time": "2022-01-10T23:40:23.942Z"
   },
   {
    "duration": 663,
    "start_time": "2022-01-10T23:40:24.161Z"
   },
   {
    "duration": 3,
    "start_time": "2022-01-10T23:41:27.182Z"
   },
   {
    "duration": 8,
    "start_time": "2022-01-10T23:41:27.595Z"
   },
   {
    "duration": 8,
    "start_time": "2022-01-10T23:41:30.474Z"
   },
   {
    "duration": 8,
    "start_time": "2022-01-10T23:41:30.822Z"
   },
   {
    "duration": 4,
    "start_time": "2022-01-10T23:48:09.024Z"
   },
   {
    "duration": 799,
    "start_time": "2022-01-10T23:48:20.015Z"
   },
   {
    "duration": 5,
    "start_time": "2022-01-10T23:48:49.205Z"
   },
   {
    "duration": 5902,
    "start_time": "2022-01-10T23:48:49.834Z"
   },
   {
    "duration": 5,
    "start_time": "2022-01-10T23:49:47.400Z"
   },
   {
    "duration": 5019,
    "start_time": "2022-01-10T23:49:47.934Z"
   },
   {
    "duration": 4,
    "start_time": "2022-01-10T23:50:15.439Z"
   },
   {
    "duration": 5048,
    "start_time": "2022-01-10T23:50:15.794Z"
   },
   {
    "duration": 4,
    "start_time": "2022-01-10T23:50:37.343Z"
   },
   {
    "duration": 4,
    "start_time": "2022-01-10T23:50:40.496Z"
   },
   {
    "duration": 5036,
    "start_time": "2022-01-10T23:50:41.115Z"
   },
   {
    "duration": 4,
    "start_time": "2022-01-10T23:50:53.103Z"
   },
   {
    "duration": 5120,
    "start_time": "2022-01-10T23:50:53.109Z"
   },
   {
    "duration": 5027,
    "start_time": "2022-01-10T23:51:35.253Z"
   },
   {
    "duration": 4979,
    "start_time": "2022-01-10T23:51:40.282Z"
   },
   {
    "duration": 5127,
    "start_time": "2022-01-10T23:51:45.263Z"
   },
   {
    "duration": 4,
    "start_time": "2022-01-10T23:52:02.631Z"
   },
   {
    "duration": 5163,
    "start_time": "2022-01-10T23:52:02.970Z"
   },
   {
    "duration": 5084,
    "start_time": "2022-01-10T23:52:08.134Z"
   },
   {
    "duration": 5450,
    "start_time": "2022-01-10T23:52:13.219Z"
   },
   {
    "duration": 4,
    "start_time": "2022-01-10T23:53:13.014Z"
   },
   {
    "duration": 5035,
    "start_time": "2022-01-10T23:53:13.386Z"
   },
   {
    "duration": 4,
    "start_time": "2022-01-10T23:53:27.608Z"
   },
   {
    "duration": 5030,
    "start_time": "2022-01-10T23:53:27.831Z"
   },
   {
    "duration": 4,
    "start_time": "2022-01-10T23:53:39.740Z"
   },
   {
    "duration": 5043,
    "start_time": "2022-01-10T23:53:40.018Z"
   },
   {
    "duration": 5112,
    "start_time": "2022-01-10T23:53:45.062Z"
   },
   {
    "duration": 5090,
    "start_time": "2022-01-10T23:53:50.176Z"
   },
   {
    "duration": 4,
    "start_time": "2022-01-11T00:07:56.020Z"
   },
   {
    "duration": 5047,
    "start_time": "2022-01-11T00:07:56.264Z"
   },
   {
    "duration": 4974,
    "start_time": "2022-01-11T00:08:01.313Z"
   },
   {
    "duration": 4988,
    "start_time": "2022-01-11T00:08:06.290Z"
   },
   {
    "duration": 1189,
    "start_time": "2022-01-11T00:10:56.407Z"
   },
   {
    "duration": 172,
    "start_time": "2022-01-11T00:10:57.597Z"
   },
   {
    "duration": 167,
    "start_time": "2022-01-11T00:10:57.771Z"
   },
   {
    "duration": 163,
    "start_time": "2022-01-11T00:10:57.940Z"
   },
   {
    "duration": 13,
    "start_time": "2022-01-11T00:10:58.104Z"
   },
   {
    "duration": 8,
    "start_time": "2022-01-11T00:10:58.127Z"
   },
   {
    "duration": 14,
    "start_time": "2022-01-11T00:10:58.137Z"
   },
   {
    "duration": 15,
    "start_time": "2022-01-11T00:10:58.153Z"
   },
   {
    "duration": 15,
    "start_time": "2022-01-11T00:10:58.170Z"
   },
   {
    "duration": 50,
    "start_time": "2022-01-11T00:10:58.187Z"
   },
   {
    "duration": 98,
    "start_time": "2022-01-11T00:10:58.239Z"
   },
   {
    "duration": 103,
    "start_time": "2022-01-11T00:10:58.428Z"
   },
   {
    "duration": 101,
    "start_time": "2022-01-11T00:10:58.533Z"
   },
   {
    "duration": 8,
    "start_time": "2022-01-11T00:10:58.636Z"
   },
   {
    "duration": 7,
    "start_time": "2022-01-11T00:10:58.646Z"
   },
   {
    "duration": 6,
    "start_time": "2022-01-11T00:10:58.728Z"
   },
   {
    "duration": 15,
    "start_time": "2022-01-11T00:10:58.736Z"
   },
   {
    "duration": 8,
    "start_time": "2022-01-11T00:10:58.752Z"
   },
   {
    "duration": 7,
    "start_time": "2022-01-11T00:10:58.761Z"
   },
   {
    "duration": 4,
    "start_time": "2022-01-11T00:10:58.770Z"
   },
   {
    "duration": 5024,
    "start_time": "2022-01-11T00:10:58.775Z"
   },
   {
    "duration": 4990,
    "start_time": "2022-01-11T00:11:03.800Z"
   },
   {
    "duration": 4999,
    "start_time": "2022-01-11T00:11:08.792Z"
   },
   {
    "duration": 414,
    "start_time": "2022-01-11T00:12:06.683Z"
   },
   {
    "duration": 4,
    "start_time": "2022-01-11T00:12:08.623Z"
   },
   {
    "duration": 3,
    "start_time": "2022-01-11T00:12:16.086Z"
   },
   {
    "duration": 1136,
    "start_time": "2022-01-11T00:12:36.362Z"
   },
   {
    "duration": 170,
    "start_time": "2022-01-11T00:12:37.500Z"
   },
   {
    "duration": 166,
    "start_time": "2022-01-11T00:12:37.672Z"
   },
   {
    "duration": 162,
    "start_time": "2022-01-11T00:12:37.840Z"
   },
   {
    "duration": 24,
    "start_time": "2022-01-11T00:12:38.003Z"
   },
   {
    "duration": 7,
    "start_time": "2022-01-11T00:12:38.028Z"
   },
   {
    "duration": 13,
    "start_time": "2022-01-11T00:12:38.037Z"
   },
   {
    "duration": 13,
    "start_time": "2022-01-11T00:12:38.052Z"
   },
   {
    "duration": 14,
    "start_time": "2022-01-11T00:12:38.067Z"
   },
   {
    "duration": 46,
    "start_time": "2022-01-11T00:12:38.083Z"
   },
   {
    "duration": 101,
    "start_time": "2022-01-11T00:12:38.130Z"
   },
   {
    "duration": 101,
    "start_time": "2022-01-11T00:12:38.233Z"
   },
   {
    "duration": 96,
    "start_time": "2022-01-11T00:12:38.335Z"
   },
   {
    "duration": 96,
    "start_time": "2022-01-11T00:12:38.434Z"
   },
   {
    "duration": 8,
    "start_time": "2022-01-11T00:12:38.532Z"
   },
   {
    "duration": 4,
    "start_time": "2022-01-11T00:12:38.542Z"
   },
   {
    "duration": 7,
    "start_time": "2022-01-11T00:12:38.547Z"
   },
   {
    "duration": 4,
    "start_time": "2022-01-11T00:12:38.556Z"
   },
   {
    "duration": 4,
    "start_time": "2022-01-11T00:12:38.561Z"
   },
   {
    "duration": 4,
    "start_time": "2022-01-11T00:12:38.567Z"
   },
   {
    "duration": 1694,
    "start_time": "2022-01-11T00:12:38.572Z"
   },
   {
    "duration": 1647,
    "start_time": "2022-01-11T00:12:40.268Z"
   },
   {
    "duration": 1649,
    "start_time": "2022-01-11T00:12:41.918Z"
   },
   {
    "duration": 1498,
    "start_time": "2022-01-13T00:37:21.256Z"
   },
   {
    "duration": 309,
    "start_time": "2022-01-13T00:37:22.758Z"
   },
   {
    "duration": 732,
    "start_time": "2022-01-13T00:37:23.070Z"
   },
   {
    "duration": 2420,
    "start_time": "2022-01-13T00:37:23.805Z"
   },
   {
    "duration": 18,
    "start_time": "2022-01-13T00:37:26.228Z"
   },
   {
    "duration": 15,
    "start_time": "2022-01-13T00:37:26.249Z"
   },
   {
    "duration": 20,
    "start_time": "2022-01-13T00:37:26.266Z"
   },
   {
    "duration": 42,
    "start_time": "2022-01-13T00:37:26.289Z"
   },
   {
    "duration": 18,
    "start_time": "2022-01-13T00:37:26.334Z"
   },
   {
    "duration": 5,
    "start_time": "2022-01-13T00:37:26.354Z"
   },
   {
    "duration": 420,
    "start_time": "2022-01-13T00:37:27.253Z"
   },
   {
    "duration": 561,
    "start_time": "2022-01-13T00:37:40.094Z"
   },
   {
    "duration": 5,
    "start_time": "2022-01-13T00:38:36.610Z"
   },
   {
    "duration": 17,
    "start_time": "2022-01-13T00:38:36.881Z"
   },
   {
    "duration": 18,
    "start_time": "2022-01-13T00:38:37.125Z"
   },
   {
    "duration": 25,
    "start_time": "2022-01-13T00:38:37.517Z"
   },
   {
    "duration": 13,
    "start_time": "2022-01-13T00:38:37.885Z"
   },
   {
    "duration": 5,
    "start_time": "2022-01-13T00:43:59.798Z"
   },
   {
    "duration": 810,
    "start_time": "2022-01-13T00:44:01.386Z"
   },
   {
    "duration": 4,
    "start_time": "2022-01-13T00:44:08.835Z"
   },
   {
    "duration": 573,
    "start_time": "2022-01-13T00:44:09.708Z"
   },
   {
    "duration": 4,
    "start_time": "2022-01-13T00:45:42.104Z"
   },
   {
    "duration": 4,
    "start_time": "2022-01-13T00:45:47.047Z"
   },
   {
    "duration": 593,
    "start_time": "2022-01-13T00:45:47.531Z"
   },
   {
    "duration": 7,
    "start_time": "2022-01-13T00:46:00.105Z"
   },
   {
    "duration": 12,
    "start_time": "2022-01-13T00:46:00.656Z"
   },
   {
    "duration": 4,
    "start_time": "2022-01-13T00:47:05.738Z"
   },
   {
    "duration": 12,
    "start_time": "2022-01-13T00:47:06.721Z"
   },
   {
    "duration": 12,
    "start_time": "2022-01-13T00:47:10.266Z"
   },
   {
    "duration": 11,
    "start_time": "2022-01-13T00:47:11.295Z"
   },
   {
    "duration": 8,
    "start_time": "2022-01-13T00:47:21.552Z"
   },
   {
    "duration": 601,
    "start_time": "2022-01-13T00:47:22.218Z"
   },
   {
    "duration": 7,
    "start_time": "2022-01-13T00:48:55.204Z"
   },
   {
    "duration": 557,
    "start_time": "2022-01-13T00:48:56.626Z"
   },
   {
    "duration": -83,
    "start_time": "2022-01-13T00:48:57.269Z"
   },
   {
    "duration": 7,
    "start_time": "2022-01-13T00:49:53.103Z"
   },
   {
    "duration": 583,
    "start_time": "2022-01-13T00:49:53.349Z"
   },
   {
    "duration": -81,
    "start_time": "2022-01-13T00:49:54.015Z"
   },
   {
    "duration": -82,
    "start_time": "2022-01-13T00:49:54.017Z"
   },
   {
    "duration": 10,
    "start_time": "2022-01-13T00:50:05.674Z"
   },
   {
    "duration": 590,
    "start_time": "2022-01-13T00:50:05.943Z"
   },
   {
    "duration": 8,
    "start_time": "2022-01-13T00:50:24.137Z"
   },
   {
    "duration": 7663,
    "start_time": "2022-01-13T00:50:24.361Z"
   },
   {
    "duration": 7317,
    "start_time": "2022-01-13T00:50:36.547Z"
   },
   {
    "duration": 7485,
    "start_time": "2022-01-13T00:50:43.866Z"
   },
   {
    "duration": 4,
    "start_time": "2022-01-13T02:56:08.390Z"
   },
   {
    "duration": 8,
    "start_time": "2022-01-13T02:56:09.130Z"
   },
   {
    "duration": 9,
    "start_time": "2022-01-13T02:56:10.377Z"
   },
   {
    "duration": 9,
    "start_time": "2022-01-13T02:56:10.922Z"
   },
   {
    "duration": 8,
    "start_time": "2022-01-13T02:56:12.462Z"
   },
   {
    "duration": 5187,
    "start_time": "2022-01-13T02:56:12.802Z"
   },
   {
    "duration": 4,
    "start_time": "2022-01-13T02:56:46.089Z"
   },
   {
    "duration": 9,
    "start_time": "2022-01-13T02:56:46.530Z"
   },
   {
    "duration": 11,
    "start_time": "2022-01-13T02:56:46.757Z"
   },
   {
    "duration": 10,
    "start_time": "2022-01-13T02:56:46.984Z"
   },
   {
    "duration": 7,
    "start_time": "2022-01-13T02:56:47.187Z"
   },
   {
    "duration": 5017,
    "start_time": "2022-01-13T02:56:49.155Z"
   },
   {
    "duration": 117,
    "start_time": "2022-01-13T02:57:52.723Z"
   },
   {
    "duration": 97,
    "start_time": "2022-01-13T02:57:58.810Z"
   },
   {
    "duration": 7,
    "start_time": "2022-01-13T02:58:03.674Z"
   },
   {
    "duration": 5921,
    "start_time": "2022-01-13T02:58:05.381Z"
   },
   {
    "duration": 6,
    "start_time": "2022-01-13T02:58:59.211Z"
   },
   {
    "duration": 10,
    "start_time": "2022-01-13T02:59:00.247Z"
   },
   {
    "duration": 5,
    "start_time": "2022-01-13T02:59:26.650Z"
   },
   {
    "duration": 12,
    "start_time": "2022-01-13T02:59:27.254Z"
   },
   {
    "duration": 4,
    "start_time": "2022-01-13T02:59:44.146Z"
   },
   {
    "duration": 11,
    "start_time": "2022-01-13T02:59:45.123Z"
   },
   {
    "duration": 4,
    "start_time": "2022-01-13T02:59:56.461Z"
   },
   {
    "duration": 12,
    "start_time": "2022-01-13T02:59:57.171Z"
   },
   {
    "duration": 4,
    "start_time": "2022-01-13T03:00:21.582Z"
   },
   {
    "duration": 19,
    "start_time": "2022-01-13T03:00:23.037Z"
   },
   {
    "duration": 6,
    "start_time": "2022-01-13T03:00:50.869Z"
   },
   {
    "duration": 16,
    "start_time": "2022-01-13T03:00:51.329Z"
   },
   {
    "duration": 6,
    "start_time": "2022-01-13T03:01:09.824Z"
   },
   {
    "duration": 15,
    "start_time": "2022-01-13T03:01:10.253Z"
   },
   {
    "duration": 8,
    "start_time": "2022-01-13T03:01:44.389Z"
   },
   {
    "duration": 562,
    "start_time": "2022-01-13T03:01:45.377Z"
   },
   {
    "duration": 5,
    "start_time": "2022-01-13T03:01:51.571Z"
   },
   {
    "duration": 557,
    "start_time": "2022-01-13T03:01:52.012Z"
   },
   {
    "duration": 6,
    "start_time": "2022-01-13T03:02:13.907Z"
   },
   {
    "duration": 15,
    "start_time": "2022-01-13T03:02:14.395Z"
   },
   {
    "duration": 7,
    "start_time": "2022-01-13T03:04:02.697Z"
   },
   {
    "duration": 587,
    "start_time": "2022-01-13T03:04:03.188Z"
   },
   {
    "duration": 113,
    "start_time": "2022-01-13T03:04:08.756Z"
   },
   {
    "duration": 598,
    "start_time": "2022-01-13T03:04:09.226Z"
   },
   {
    "duration": 6,
    "start_time": "2022-01-13T03:04:16.905Z"
   },
   {
    "duration": 546,
    "start_time": "2022-01-13T03:04:17.330Z"
   },
   {
    "duration": 5,
    "start_time": "2022-01-13T03:04:32.772Z"
   },
   {
    "duration": 14,
    "start_time": "2022-01-13T03:04:34.007Z"
   },
   {
    "duration": 6,
    "start_time": "2022-01-13T03:05:06.550Z"
   },
   {
    "duration": 18,
    "start_time": "2022-01-13T03:05:07.466Z"
   },
   {
    "duration": 6,
    "start_time": "2022-01-13T03:05:48.137Z"
   },
   {
    "duration": 19,
    "start_time": "2022-01-13T03:05:48.535Z"
   },
   {
    "duration": 16,
    "start_time": "2022-01-13T03:05:48.703Z"
   },
   {
    "duration": 1499,
    "start_time": "2022-01-13T03:07:08.388Z"
   },
   {
    "duration": 236,
    "start_time": "2022-01-13T03:07:09.890Z"
   },
   {
    "duration": 227,
    "start_time": "2022-01-13T03:07:10.129Z"
   },
   {
    "duration": 209,
    "start_time": "2022-01-13T03:07:10.359Z"
   },
   {
    "duration": 17,
    "start_time": "2022-01-13T03:07:10.570Z"
   },
   {
    "duration": 34,
    "start_time": "2022-01-13T03:07:10.589Z"
   },
   {
    "duration": 16,
    "start_time": "2022-01-13T03:07:10.625Z"
   },
   {
    "duration": 16,
    "start_time": "2022-01-13T03:07:10.645Z"
   },
   {
    "duration": 16,
    "start_time": "2022-01-13T03:07:10.664Z"
   },
   {
    "duration": 4,
    "start_time": "2022-01-13T03:07:10.683Z"
   },
   {
    "duration": 145,
    "start_time": "2022-01-13T03:07:10.690Z"
   },
   {
    "duration": 19,
    "start_time": "2022-01-13T03:07:10.923Z"
   },
   {
    "duration": 187,
    "start_time": "2022-01-13T03:07:10.945Z"
   },
   {
    "duration": 193,
    "start_time": "2022-01-13T03:07:11.139Z"
   },
   {
    "duration": 426,
    "start_time": "2022-01-13T03:07:11.334Z"
   },
   {
    "duration": -104,
    "start_time": "2022-01-13T03:07:11.867Z"
   },
   {
    "duration": -105,
    "start_time": "2022-01-13T03:07:11.870Z"
   },
   {
    "duration": 4,
    "start_time": "2022-01-13T03:07:18.630Z"
   },
   {
    "duration": 5,
    "start_time": "2022-01-13T03:07:20.184Z"
   },
   {
    "duration": 6,
    "start_time": "2022-01-13T03:07:22.320Z"
   },
   {
    "duration": 21,
    "start_time": "2022-01-13T03:07:23.438Z"
   },
   {
    "duration": 5,
    "start_time": "2022-01-13T03:07:53.389Z"
   },
   {
    "duration": 19,
    "start_time": "2022-01-13T03:07:53.948Z"
   },
   {
    "duration": 6,
    "start_time": "2022-01-13T03:08:47.634Z"
   },
   {
    "duration": 18,
    "start_time": "2022-01-13T03:08:48.044Z"
   },
   {
    "duration": 6,
    "start_time": "2022-01-13T03:09:57.677Z"
   },
   {
    "duration": 5,
    "start_time": "2022-01-13T03:10:14.537Z"
   },
   {
    "duration": 7425,
    "start_time": "2022-01-13T03:10:15.315Z"
   },
   {
    "duration": 5,
    "start_time": "2022-01-13T03:10:26.705Z"
   },
   {
    "duration": 8222,
    "start_time": "2022-01-13T03:10:27.117Z"
   },
   {
    "duration": 6,
    "start_time": "2022-01-13T03:10:52.860Z"
   },
   {
    "duration": 593,
    "start_time": "2022-01-13T03:10:53.324Z"
   },
   {
    "duration": 5,
    "start_time": "2022-01-13T03:11:31.472Z"
   },
   {
    "duration": 7176,
    "start_time": "2022-01-13T03:11:31.923Z"
   },
   {
    "duration": 7,
    "start_time": "2022-01-13T03:11:42.291Z"
   },
   {
    "duration": 24,
    "start_time": "2022-01-13T03:11:42.691Z"
   },
   {
    "duration": 20,
    "start_time": "2022-01-13T03:11:46.485Z"
   },
   {
    "duration": 19,
    "start_time": "2022-01-13T03:11:51.901Z"
   },
   {
    "duration": 7,
    "start_time": "2022-01-13T03:15:00.090Z"
   },
   {
    "duration": 27,
    "start_time": "2022-01-13T03:15:00.996Z"
   },
   {
    "duration": 6,
    "start_time": "2022-01-13T03:15:21.712Z"
   },
   {
    "duration": 19,
    "start_time": "2022-01-13T03:15:22.910Z"
   },
   {
    "duration": 7,
    "start_time": "2022-01-13T03:15:49.275Z"
   },
   {
    "duration": 13,
    "start_time": "2022-01-13T03:15:49.752Z"
   },
   {
    "duration": 13,
    "start_time": "2022-01-13T03:15:50.179Z"
   },
   {
    "duration": 16,
    "start_time": "2022-01-13T03:15:50.622Z"
   },
   {
    "duration": 8,
    "start_time": "2022-01-13T03:16:04.332Z"
   },
   {
    "duration": 7481,
    "start_time": "2022-01-13T03:16:04.578Z"
   },
   {
    "duration": 8075,
    "start_time": "2022-01-13T03:16:12.062Z"
   },
   {
    "duration": 7399,
    "start_time": "2022-01-13T03:16:20.140Z"
   },
   {
    "duration": 7,
    "start_time": "2022-01-13T03:16:41.423Z"
   },
   {
    "duration": 579,
    "start_time": "2022-01-13T03:16:42.039Z"
   },
   {
    "duration": 7,
    "start_time": "2022-01-13T03:17:35.613Z"
   },
   {
    "duration": 6949,
    "start_time": "2022-01-13T03:17:35.849Z"
   },
   {
    "duration": 6932,
    "start_time": "2022-01-13T03:17:47.721Z"
   },
   {
    "duration": 7078,
    "start_time": "2022-01-13T03:17:54.656Z"
   },
   {
    "duration": 17,
    "start_time": "2022-01-13T03:19:17.023Z"
   },
   {
    "duration": 16,
    "start_time": "2022-01-13T03:19:17.699Z"
   },
   {
    "duration": 16,
    "start_time": "2022-01-13T03:19:18.037Z"
   },
   {
    "duration": 7,
    "start_time": "2022-01-13T03:19:18.265Z"
   },
   {
    "duration": 8579,
    "start_time": "2022-01-13T03:19:19.166Z"
   },
   {
    "duration": 7733,
    "start_time": "2022-01-13T03:19:27.748Z"
   },
   {
    "duration": 7623,
    "start_time": "2022-01-13T03:19:35.484Z"
   },
   {
    "duration": 1476,
    "start_time": "2022-01-13T03:20:01.056Z"
   },
   {
    "duration": 229,
    "start_time": "2022-01-13T03:20:02.535Z"
   },
   {
    "duration": 221,
    "start_time": "2022-01-13T03:20:02.767Z"
   },
   {
    "duration": 276,
    "start_time": "2022-01-13T03:20:02.991Z"
   },
   {
    "duration": 20,
    "start_time": "2022-01-13T03:20:03.270Z"
   },
   {
    "duration": 19,
    "start_time": "2022-01-13T03:20:03.293Z"
   },
   {
    "duration": 17,
    "start_time": "2022-01-13T03:20:03.324Z"
   },
   {
    "duration": 18,
    "start_time": "2022-01-13T03:20:03.345Z"
   },
   {
    "duration": 17,
    "start_time": "2022-01-13T03:20:03.366Z"
   },
   {
    "duration": 5,
    "start_time": "2022-01-13T03:20:03.386Z"
   },
   {
    "duration": 26,
    "start_time": "2022-01-13T03:20:03.424Z"
   },
   {
    "duration": 198,
    "start_time": "2022-01-13T03:20:03.527Z"
   },
   {
    "duration": 197,
    "start_time": "2022-01-13T03:20:03.728Z"
   },
   {
    "duration": 107,
    "start_time": "2022-01-13T03:20:03.928Z"
   },
   {
    "duration": 16,
    "start_time": "2022-01-13T03:20:04.038Z"
   },
   {
    "duration": 8,
    "start_time": "2022-01-13T03:20:04.056Z"
   },
   {
    "duration": 5,
    "start_time": "2022-01-13T03:20:04.066Z"
   },
   {
    "duration": 49,
    "start_time": "2022-01-13T03:20:04.074Z"
   },
   {
    "duration": 13,
    "start_time": "2022-01-13T03:20:04.125Z"
   },
   {
    "duration": 12,
    "start_time": "2022-01-13T03:20:04.141Z"
   },
   {
    "duration": 7,
    "start_time": "2022-01-13T03:20:04.155Z"
   },
   {
    "duration": 10328,
    "start_time": "2022-01-13T03:20:04.164Z"
   },
   {
    "duration": 9562,
    "start_time": "2022-01-13T03:20:14.498Z"
   },
   {
    "duration": 9285,
    "start_time": "2022-01-13T03:20:24.063Z"
   },
   {
    "duration": 7,
    "start_time": "2022-01-13T03:23:08.560Z"
   },
   {
    "duration": 7303,
    "start_time": "2022-01-13T03:23:08.861Z"
   },
   {
    "duration": 7,
    "start_time": "2022-01-13T03:23:22.161Z"
   },
   {
    "duration": 3563,
    "start_time": "2022-01-13T03:23:22.427Z"
   },
   {
    "duration": 3676,
    "start_time": "2022-01-13T03:23:25.993Z"
   },
   {
    "duration": 7,
    "start_time": "2022-01-13T03:23:34.926Z"
   },
   {
    "duration": 3527,
    "start_time": "2022-01-13T03:23:35.764Z"
   },
   {
    "duration": 7,
    "start_time": "2022-01-13T03:24:17.773Z"
   },
   {
    "duration": 7229,
    "start_time": "2022-01-13T03:24:18.040Z"
   },
   {
    "duration": 7,
    "start_time": "2022-01-13T03:24:34.105Z"
   },
   {
    "duration": 6954,
    "start_time": "2022-01-13T03:24:34.115Z"
   },
   {
    "duration": 7,
    "start_time": "2022-01-13T03:25:13.677Z"
   },
   {
    "duration": 7242,
    "start_time": "2022-01-13T03:25:13.917Z"
   },
   {
    "duration": 7289,
    "start_time": "2022-01-13T03:25:21.162Z"
   },
   {
    "duration": 7183,
    "start_time": "2022-01-13T03:25:28.453Z"
   },
   {
    "duration": 7,
    "start_time": "2022-01-13T03:25:39.095Z"
   },
   {
    "duration": 7230,
    "start_time": "2022-01-13T03:25:39.577Z"
   },
   {
    "duration": 8,
    "start_time": "2022-01-13T03:25:50.796Z"
   },
   {
    "duration": 8029,
    "start_time": "2022-01-13T03:25:51.045Z"
   },
   {
    "duration": 7,
    "start_time": "2022-01-13T03:26:03.489Z"
   },
   {
    "duration": 7868,
    "start_time": "2022-01-13T03:26:04.291Z"
   },
   {
    "duration": 10,
    "start_time": "2022-01-13T03:26:18.655Z"
   },
   {
    "duration": 7,
    "start_time": "2022-01-13T03:26:40.993Z"
   },
   {
    "duration": 7093,
    "start_time": "2022-01-13T03:26:41.626Z"
   },
   {
    "duration": 6,
    "start_time": "2022-01-13T03:26:54.546Z"
   },
   {
    "duration": 7101,
    "start_time": "2022-01-13T03:26:55.502Z"
   },
   {
    "duration": 1416,
    "start_time": "2022-01-13T03:27:44.149Z"
   },
   {
    "duration": 228,
    "start_time": "2022-01-13T03:27:45.568Z"
   },
   {
    "duration": 229,
    "start_time": "2022-01-13T03:27:45.823Z"
   },
   {
    "duration": 210,
    "start_time": "2022-01-13T03:27:46.055Z"
   },
   {
    "duration": 16,
    "start_time": "2022-01-13T03:27:46.267Z"
   },
   {
    "duration": 37,
    "start_time": "2022-01-13T03:27:46.286Z"
   },
   {
    "duration": 20,
    "start_time": "2022-01-13T03:27:46.327Z"
   },
   {
    "duration": 18,
    "start_time": "2022-01-13T03:27:46.350Z"
   },
   {
    "duration": 54,
    "start_time": "2022-01-13T03:27:46.370Z"
   },
   {
    "duration": 6,
    "start_time": "2022-01-13T03:27:46.427Z"
   },
   {
    "duration": 91,
    "start_time": "2022-01-13T03:27:46.436Z"
   },
   {
    "duration": 104,
    "start_time": "2022-01-13T03:27:46.530Z"
   },
   {
    "duration": 194,
    "start_time": "2022-01-13T03:27:46.637Z"
   },
   {
    "duration": 106,
    "start_time": "2022-01-13T03:27:46.844Z"
   },
   {
    "duration": 25,
    "start_time": "2022-01-13T03:27:46.954Z"
   },
   {
    "duration": 6,
    "start_time": "2022-01-13T03:27:46.982Z"
   },
   {
    "duration": 9,
    "start_time": "2022-01-13T03:27:46.991Z"
   },
   {
    "duration": 18,
    "start_time": "2022-01-13T03:27:47.003Z"
   },
   {
    "duration": 13,
    "start_time": "2022-01-13T03:27:47.024Z"
   },
   {
    "duration": 13,
    "start_time": "2022-01-13T03:27:47.041Z"
   },
   {
    "duration": 8,
    "start_time": "2022-01-13T03:27:47.057Z"
   },
   {
    "duration": 6995,
    "start_time": "2022-01-13T03:27:47.072Z"
   },
   {
    "duration": 7431,
    "start_time": "2022-01-13T03:27:54.069Z"
   },
   {
    "duration": 7067,
    "start_time": "2022-01-13T03:28:01.502Z"
   },
   {
    "duration": 7082,
    "start_time": "2022-01-13T03:28:11.688Z"
   },
   {
    "duration": 8162,
    "start_time": "2022-01-13T03:28:18.772Z"
   },
   {
    "duration": 9,
    "start_time": "2022-01-13T03:28:35.249Z"
   },
   {
    "duration": 7545,
    "start_time": "2022-01-13T03:28:35.262Z"
   },
   {
    "duration": 6853,
    "start_time": "2022-01-13T03:28:42.809Z"
   },
   {
    "duration": 7297,
    "start_time": "2022-01-13T03:28:49.664Z"
   },
   {
    "duration": 1465,
    "start_time": "2022-01-13T03:34:10.038Z"
   },
   {
    "duration": 233,
    "start_time": "2022-01-13T03:34:11.505Z"
   },
   {
    "duration": 217,
    "start_time": "2022-01-13T03:34:11.741Z"
   },
   {
    "duration": 213,
    "start_time": "2022-01-13T03:34:11.961Z"
   },
   {
    "duration": 17,
    "start_time": "2022-01-13T03:34:12.177Z"
   },
   {
    "duration": 34,
    "start_time": "2022-01-13T03:34:12.196Z"
   },
   {
    "duration": 22,
    "start_time": "2022-01-13T03:34:12.232Z"
   },
   {
    "duration": 17,
    "start_time": "2022-01-13T03:34:12.258Z"
   },
   {
    "duration": 18,
    "start_time": "2022-01-13T03:34:12.278Z"
   },
   {
    "duration": 25,
    "start_time": "2022-01-13T03:34:12.299Z"
   },
   {
    "duration": 35,
    "start_time": "2022-01-13T03:34:12.327Z"
   },
   {
    "duration": 106,
    "start_time": "2022-01-13T03:34:12.427Z"
   },
   {
    "duration": 288,
    "start_time": "2022-01-13T03:34:12.537Z"
   },
   {
    "duration": 15,
    "start_time": "2022-01-13T03:34:12.828Z"
   },
   {
    "duration": 4,
    "start_time": "2022-01-13T03:34:12.924Z"
   },
   {
    "duration": 12,
    "start_time": "2022-01-13T03:34:12.931Z"
   },
   {
    "duration": 5,
    "start_time": "2022-01-13T03:34:12.946Z"
   },
   {
    "duration": 17,
    "start_time": "2022-01-13T03:34:12.953Z"
   },
   {
    "duration": 12,
    "start_time": "2022-01-13T03:34:12.973Z"
   },
   {
    "duration": 46,
    "start_time": "2022-01-13T03:34:12.987Z"
   },
   {
    "duration": 7,
    "start_time": "2022-01-13T03:34:13.036Z"
   },
   {
    "duration": 8522,
    "start_time": "2022-01-13T03:34:13.046Z"
   },
   {
    "duration": 1467,
    "start_time": "2022-01-13T03:35:50.858Z"
   },
   {
    "duration": 230,
    "start_time": "2022-01-13T03:35:52.328Z"
   },
   {
    "duration": 212,
    "start_time": "2022-01-13T03:35:52.561Z"
   },
   {
    "duration": 216,
    "start_time": "2022-01-13T03:35:52.775Z"
   },
   {
    "duration": 31,
    "start_time": "2022-01-13T03:35:52.993Z"
   },
   {
    "duration": 13,
    "start_time": "2022-01-13T03:35:53.026Z"
   },
   {
    "duration": 21,
    "start_time": "2022-01-13T03:35:53.041Z"
   },
   {
    "duration": 18,
    "start_time": "2022-01-13T03:35:53.066Z"
   },
   {
    "duration": 50,
    "start_time": "2022-01-13T03:35:53.088Z"
   },
   {
    "duration": 4,
    "start_time": "2022-01-13T03:35:53.141Z"
   },
   {
    "duration": 83,
    "start_time": "2022-01-13T03:35:53.148Z"
   },
   {
    "duration": 189,
    "start_time": "2022-01-13T03:35:53.234Z"
   },
   {
    "duration": 113,
    "start_time": "2022-01-13T03:35:53.427Z"
   },
   {
    "duration": 108,
    "start_time": "2022-01-13T03:35:53.625Z"
   },
   {
    "duration": 5,
    "start_time": "2022-01-13T03:35:53.736Z"
   },
   {
    "duration": 6,
    "start_time": "2022-01-13T03:35:53.743Z"
   },
   {
    "duration": 6,
    "start_time": "2022-01-13T03:35:53.751Z"
   },
   {
    "duration": 16,
    "start_time": "2022-01-13T03:35:53.759Z"
   },
   {
    "duration": 50,
    "start_time": "2022-01-13T03:35:53.778Z"
   },
   {
    "duration": 11,
    "start_time": "2022-01-13T03:35:53.830Z"
   },
   {
    "duration": 7,
    "start_time": "2022-01-13T03:35:53.843Z"
   },
   {
    "duration": 8841,
    "start_time": "2022-01-13T03:35:53.852Z"
   },
   {
    "duration": 7231,
    "start_time": "2022-01-13T03:36:02.698Z"
   },
   {
    "duration": 7051,
    "start_time": "2022-01-13T03:36:09.932Z"
   },
   {
    "duration": 1470,
    "start_time": "2022-01-13T10:03:48.511Z"
   },
   {
    "duration": 231,
    "start_time": "2022-01-13T10:03:49.984Z"
   },
   {
    "duration": 242,
    "start_time": "2022-01-13T10:03:50.219Z"
   },
   {
    "duration": 236,
    "start_time": "2022-01-13T10:03:50.463Z"
   },
   {
    "duration": 16,
    "start_time": "2022-01-13T10:03:50.702Z"
   },
   {
    "duration": 15,
    "start_time": "2022-01-13T10:03:50.720Z"
   },
   {
    "duration": 37,
    "start_time": "2022-01-13T10:03:50.738Z"
   },
   {
    "duration": 17,
    "start_time": "2022-01-13T10:03:50.779Z"
   },
   {
    "duration": 21,
    "start_time": "2022-01-13T10:03:50.799Z"
   },
   {
    "duration": 37,
    "start_time": "2022-01-13T10:03:50.824Z"
   },
   {
    "duration": 26,
    "start_time": "2022-01-13T10:03:50.864Z"
   },
   {
    "duration": 107,
    "start_time": "2022-01-13T10:03:50.963Z"
   },
   {
    "duration": 187,
    "start_time": "2022-01-13T10:03:51.077Z"
   },
   {
    "duration": 201,
    "start_time": "2022-01-13T10:03:51.268Z"
   },
   {
    "duration": 4,
    "start_time": "2022-01-13T10:03:51.472Z"
   },
   {
    "duration": 10,
    "start_time": "2022-01-13T10:03:51.479Z"
   },
   {
    "duration": 5,
    "start_time": "2022-01-13T10:03:51.491Z"
   },
   {
    "duration": 15,
    "start_time": "2022-01-13T10:03:51.498Z"
   },
   {
    "duration": 49,
    "start_time": "2022-01-13T10:03:51.515Z"
   },
   {
    "duration": 13,
    "start_time": "2022-01-13T10:03:54.808Z"
   },
   {
    "duration": 15,
    "start_time": "2022-01-13T10:03:55.470Z"
   },
   {
    "duration": 7,
    "start_time": "2022-01-13T10:03:58.402Z"
   },
   {
    "duration": 5501,
    "start_time": "2022-01-13T10:03:59.449Z"
   },
   {
    "duration": 5783,
    "start_time": "2022-01-13T10:04:04.960Z"
   },
   {
    "duration": 8,
    "start_time": "2022-01-13T10:04:16.319Z"
   },
   {
    "duration": 7732,
    "start_time": "2022-01-13T10:04:16.509Z"
   },
   {
    "duration": 7746,
    "start_time": "2022-01-13T10:04:24.244Z"
   },
   {
    "duration": 8235,
    "start_time": "2022-01-13T10:04:31.993Z"
   },
   {
    "duration": 1009,
    "start_time": "2022-01-13T12:04:12.661Z"
   },
   {
    "duration": 228,
    "start_time": "2022-01-13T12:04:13.672Z"
   },
   {
    "duration": 435,
    "start_time": "2022-01-13T12:04:13.901Z"
   },
   {
    "duration": 340,
    "start_time": "2022-01-13T12:04:14.338Z"
   },
   {
    "duration": 10,
    "start_time": "2022-01-13T12:04:14.680Z"
   },
   {
    "duration": 10,
    "start_time": "2022-01-13T12:04:14.691Z"
   },
   {
    "duration": 19,
    "start_time": "2022-01-13T12:04:14.702Z"
   },
   {
    "duration": 13,
    "start_time": "2022-01-13T12:04:14.723Z"
   },
   {
    "duration": 13,
    "start_time": "2022-01-13T12:04:14.738Z"
   },
   {
    "duration": 8,
    "start_time": "2022-01-13T12:04:14.752Z"
   },
   {
    "duration": 54,
    "start_time": "2022-01-13T12:04:14.761Z"
   },
   {
    "duration": 102,
    "start_time": "2022-01-13T12:04:14.817Z"
   },
   {
    "duration": 100,
    "start_time": "2022-01-13T12:04:14.922Z"
   },
   {
    "duration": 99,
    "start_time": "2022-01-13T12:04:15.113Z"
   },
   {
    "duration": 6,
    "start_time": "2022-01-13T12:04:15.214Z"
   },
   {
    "duration": 14,
    "start_time": "2022-01-13T12:04:15.222Z"
   },
   {
    "duration": 4,
    "start_time": "2022-01-13T12:04:15.237Z"
   },
   {
    "duration": 10,
    "start_time": "2022-01-13T12:04:15.242Z"
   },
   {
    "duration": 9,
    "start_time": "2022-01-13T12:04:15.254Z"
   },
   {
    "duration": 7,
    "start_time": "2022-01-13T12:04:15.264Z"
   },
   {
    "duration": 3,
    "start_time": "2022-01-13T12:04:15.273Z"
   },
   {
    "duration": 2772,
    "start_time": "2022-01-13T12:04:15.278Z"
   },
   {
    "duration": 2762,
    "start_time": "2022-01-13T12:04:18.052Z"
   },
   {
    "duration": 2758,
    "start_time": "2022-01-13T12:04:20.815Z"
   },
   {
    "duration": 4,
    "start_time": "2022-01-13T12:05:52.973Z"
   },
   {
    "duration": 2761,
    "start_time": "2022-01-13T12:05:53.384Z"
   },
   {
    "duration": 2731,
    "start_time": "2022-01-13T12:05:58.862Z"
   },
   {
    "duration": 2741,
    "start_time": "2022-01-13T12:06:01.826Z"
   },
   {
    "duration": 4,
    "start_time": "2022-01-13T12:06:08.307Z"
   },
   {
    "duration": 2712,
    "start_time": "2022-01-13T12:06:08.719Z"
   },
   {
    "duration": 1050,
    "start_time": "2022-01-13T12:06:25.407Z"
   },
   {
    "duration": 162,
    "start_time": "2022-01-13T12:06:26.459Z"
   },
   {
    "duration": 147,
    "start_time": "2022-01-13T12:06:26.623Z"
   },
   {
    "duration": 155,
    "start_time": "2022-01-13T12:06:26.772Z"
   },
   {
    "duration": 10,
    "start_time": "2022-01-13T12:06:26.928Z"
   },
   {
    "duration": 9,
    "start_time": "2022-01-13T12:06:26.940Z"
   },
   {
    "duration": 12,
    "start_time": "2022-01-13T12:06:26.950Z"
   },
   {
    "duration": 12,
    "start_time": "2022-01-13T12:06:26.964Z"
   },
   {
    "duration": 34,
    "start_time": "2022-01-13T12:06:26.978Z"
   },
   {
    "duration": 2,
    "start_time": "2022-01-13T12:06:27.014Z"
   },
   {
    "duration": 18,
    "start_time": "2022-01-13T12:06:27.018Z"
   },
   {
    "duration": 180,
    "start_time": "2022-01-13T12:06:27.038Z"
   },
   {
    "duration": 97,
    "start_time": "2022-01-13T12:06:27.222Z"
   },
   {
    "duration": 96,
    "start_time": "2022-01-13T12:06:27.321Z"
   },
   {
    "duration": 93,
    "start_time": "2022-01-13T12:06:27.419Z"
   },
   {
    "duration": 5,
    "start_time": "2022-01-13T12:06:27.514Z"
   },
   {
    "duration": 3,
    "start_time": "2022-01-13T12:06:27.521Z"
   },
   {
    "duration": 10,
    "start_time": "2022-01-13T12:06:27.525Z"
   },
   {
    "duration": 7,
    "start_time": "2022-01-13T12:06:27.537Z"
   },
   {
    "duration": 7,
    "start_time": "2022-01-13T12:06:27.546Z"
   },
   {
    "duration": 4,
    "start_time": "2022-01-13T12:06:27.554Z"
   },
   {
    "duration": 2863,
    "start_time": "2022-01-13T12:06:27.559Z"
   },
   {
    "duration": 2872,
    "start_time": "2022-01-13T12:06:30.425Z"
   },
   {
    "duration": 2885,
    "start_time": "2022-01-13T12:06:33.299Z"
   }
  ],
  "kernelspec": {
   "display_name": "Python 3",
   "language": "python",
   "name": "python3"
  },
  "language_info": {
   "codemirror_mode": {
    "name": "ipython",
    "version": 3
   },
   "file_extension": ".py",
   "mimetype": "text/x-python",
   "name": "python",
   "nbconvert_exporter": "python",
   "pygments_lexer": "ipython3",
   "version": "3.8.5"
  },
  "toc": {
   "base_numbering": "1",
   "nav_menu": {},
   "number_sections": true,
   "sideBar": true,
   "skip_h1_title": false,
   "title_cell": "Содержание",
   "title_sidebar": "Содержание",
   "toc_cell": true,
   "toc_position": {
    "height": "calc(100% - 180px)",
    "left": "10px",
    "top": "150px",
    "width": "358.391px"
   },
   "toc_section_display": true,
   "toc_window_display": true
  }
 },
 "nbformat": 4,
 "nbformat_minor": 2
}
