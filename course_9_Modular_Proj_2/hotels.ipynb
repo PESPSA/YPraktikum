{
 "cells": [
  {
   "cell_type": "markdown",
   "metadata": {
    "toc": true
   },
   "source": [
    "<h1>Содержание<span class=\"tocSkip\"></span></h1>\n",
    "<div class=\"toc\"><ul class=\"toc-item\"><li><span><a href=\"#Прогнозирование-оттока-клиентов-в-сети-отелей-«Как-в-гостях»\" data-toc-modified-id=\"Прогнозирование-оттока-клиентов-в-сети-отелей-«Как-в-гостях»-1\"><span class=\"toc-item-num\">1&nbsp;&nbsp;</span>Прогнозирование оттока клиентов в сети отелей «Как в гостях»</a></span><ul class=\"toc-item\"><li><span><a href=\"#Описание-проекта\" data-toc-modified-id=\"Описание-проекта-1.1\"><span class=\"toc-item-num\">1.1&nbsp;&nbsp;</span>Описание проекта</a></span></li><li><span><a href=\"#Бизнес-метрика-и-другие-данные\" data-toc-modified-id=\"Бизнес-метрика-и-другие-данные-1.2\"><span class=\"toc-item-num\">1.2&nbsp;&nbsp;</span>Бизнес-метрика и другие данные</a></span></li><li><span><a href=\"#Описание-данных\" data-toc-modified-id=\"Описание-данных-1.3\"><span class=\"toc-item-num\">1.3&nbsp;&nbsp;</span>Описание данных</a></span></li><li><span><a href=\"#План-работы\" data-toc-modified-id=\"План-работы-1.4\"><span class=\"toc-item-num\">1.4&nbsp;&nbsp;</span>План работы</a></span></li><li><span><a href=\"#Результат-работы\" data-toc-modified-id=\"Результат-работы-1.5\"><span class=\"toc-item-num\">1.5&nbsp;&nbsp;</span>Результат работы</a></span></li></ul></li><li><span><a href=\"#Загрузка-и-подготовка-данных\" data-toc-modified-id=\"Загрузка-и-подготовка-данных-2\"><span class=\"toc-item-num\">2&nbsp;&nbsp;</span>Загрузка и подготовка данных</a></span><ul class=\"toc-item\"><li><span><a href=\"#Вывод\" data-toc-modified-id=\"Вывод-2.1\"><span class=\"toc-item-num\">2.1&nbsp;&nbsp;</span>Вывод</a></span></li></ul></li><li><span><a href=\"#Предобработка-и-исследовательский-анализ-данных\" data-toc-modified-id=\"Предобработка-и-исследовательский-анализ-данных-3\"><span class=\"toc-item-num\">3&nbsp;&nbsp;</span>Предобработка и исследовательский анализ данных</a></span><ul class=\"toc-item\"><li><span><a href=\"#Вывод\" data-toc-modified-id=\"Вывод-3.1\"><span class=\"toc-item-num\">3.1&nbsp;&nbsp;</span>Вывод</a></span></li></ul></li><li><span><a href=\"#Формулировка-ML-задачи-и-вычисление-бизнес-метрики\" data-toc-modified-id=\"Формулировка-ML-задачи-и-вычисление-бизнес-метрики-4\"><span class=\"toc-item-num\">4&nbsp;&nbsp;</span>Формулировка ML-задачи и вычисление бизнес-метрики</a></span><ul class=\"toc-item\"><li><span><a href=\"#Вывод\" data-toc-modified-id=\"Вывод-4.1\"><span class=\"toc-item-num\">4.1&nbsp;&nbsp;</span>Вывод</a></span></li></ul></li><li><span><a href=\"#Шаг-4.-Разработка-модели-ML\" data-toc-modified-id=\"Шаг-4.-Разработка-модели-ML-5\"><span class=\"toc-item-num\">5&nbsp;&nbsp;</span>Шаг 4. Разработка модели ML</a></span><ul class=\"toc-item\"><li><span><a href=\"#Вывод\" data-toc-modified-id=\"Вывод-5.1\"><span class=\"toc-item-num\">5.1&nbsp;&nbsp;</span>Вывод</a></span></li></ul></li><li><span><a href=\"#Шаг-5.-Опишите-портрет-«ненадёжного»-клиента\" data-toc-modified-id=\"Шаг-5.-Опишите-портрет-«ненадёжного»-клиента-6\"><span class=\"toc-item-num\">6&nbsp;&nbsp;</span>Шаг 5. Опишите портрет «ненадёжного» клиента</a></span><ul class=\"toc-item\"><li><span><a href=\"#Вывод\" data-toc-modified-id=\"Вывод-6.1\"><span class=\"toc-item-num\">6.1&nbsp;&nbsp;</span>Вывод</a></span></li></ul></li><li><span><a href=\"#Общий-вывод\" data-toc-modified-id=\"Общий-вывод-7\"><span class=\"toc-item-num\">7&nbsp;&nbsp;</span>Общий вывод</a></span></li></ul></div>"
   ]
  },
  {
   "cell_type": "markdown",
   "metadata": {},
   "source": [
    "# Прогнозирование оттока клиентов в сети отелей «Как в гостях»"
   ]
  },
  {
   "cell_type": "markdown",
   "metadata": {},
   "source": [
    "## Описание проекта\n",
    "\n",
    "Заказчик этого исследования — сеть отелей «Как в гостях».\n",
    "Чтобы привлечь клиентов, эта сеть отелей добавила на свой сайт возможность забронировать номер без предоплаты. Однако если клиент отменял бронирование, то компания терпела убытки. Сотрудники отеля могли, например, закупить продукты к приезду гостя или просто не успеть найти другого клиента.\n",
    "\n",
    "Чтобы решить эту проблему, вам нужно разработать систему, которая предсказывает отказ от брони. Если модель покажет, что бронь будет отменена, то клиенту предлагается внести депозит. Размер депозита — 80% от стоимости номера за одни сутки и затрат на разовую уборку. Деньги будут списаны со счёта клиента, если он всё же отменит бронь.\n",
    "\n",
    "## Бизнес-метрика и другие данные\n",
    "\n",
    "Основная бизнес-метрика для любой сети отелей — её прибыль. Прибыль отеля — это разница между стоимостью номера за все ночи и затраты на обслуживание: как при подготовке номера, так и при проживании постояльца.\n",
    "\n",
    "В отеле есть несколько типов номеров. В зависимости от типа номера назначается стоимость за одну ночь. Есть также затраты на уборку. Если клиент снял номер надолго, то убираются каждые два дня.\n",
    "\n",
    "Стоимость номеров отеля:\n",
    "* категория A: за ночь — 1 000, разовое обслуживание — 400;\n",
    "* категория B: за ночь — 800, разовое обслуживание — 350;\n",
    "* категория C: за ночь — 600, разовое обслуживание — 350;\n",
    "* категория D: за ночь — 550, разовое обслуживание — 150;\n",
    "* категория E: за ночь — 500, разовое обслуживание — 150;\n",
    "* категория F: за ночь — 450, разовое обслуживание — 150;\n",
    "* категория G: за ночь — 350, разовое обслуживание — 150.\n",
    "\n",
    "В ценовой политике отеля используются сезонные коэффициенты: весной и осенью цены повышаются на 20%, летом — на 40%.\n",
    "\n",
    "На разработку системы прогнозирования заложен бюджет — 400 000. При этом необходимо учесть, что внедрение модели должно окупиться за год. Затраты на разработку должны быть меньше той выручки, которую система принесёт компании.\n",
    "\n",
    "## Описание данных\n",
    "\n",
    "В таблицах `hotel_train` и `hotel_test` содержатся одинаковые столбцы:\n",
    "* id — номер записи;\n",
    "* adults — количество взрослых постояльцев;\n",
    "* arrival_date_year — год заезда;\n",
    "* arrival_date_month — месяц заезда;\n",
    "* arrival_date_week_number — неделя заезда;\n",
    "* arrival_date_day_of_month — день заезда;\n",
    "* babies — количество младенцев;\n",
    "* booking_changes — количество изменений параметров заказа;\n",
    "* children — количество детей от 3 до 14 лет;\n",
    "* country — гражданство постояльца;\n",
    "* customer_type — тип заказчика:\n",
    "    * Contract — договор с юридическим лицом;\n",
    "    * Group — групповой заезд;\n",
    "    * Transient — не связано с договором или групповым заездом;\n",
    "    * Transient-party — не связано с договором или групповым заездом, но связано с бронированием типа Transient.\n",
    "* days_in_waiting_list — сколько дней заказ ожидал подтверждения;\n",
    "* distribution_channel — канал дистрибуции заказа;\n",
    "* is_canceled — отмена заказа;\n",
    "* is_repeated_guest — признак того, что гость бронирует номер второй раз;\n",
    "* lead_time — количество дней между датой бронирования и датой прибытия;\n",
    "* meal — опции заказа:\n",
    "    * SC — нет дополнительных опций;\n",
    "    * BB — включён завтрак;\n",
    "    * HB — включён завтрак и обед;\n",
    "    * FB — включён завтрак, обед и ужин.\n",
    "* previous_bookings_not_canceled — количество подтверждённых заказов у клиента;\n",
    "* previous_cancellations — количество отменённых заказов у клиента;\n",
    "* required_car_parking_spaces — необходимость места для автомобиля;\n",
    "* reserved_room_type — тип забронированной комнаты;\n",
    "* stays_in_weekend_nights — количество ночей в выходные дни;\n",
    "* stays_in_week_nights — количество ночей в будние дни;\n",
    "* total_nights — общее количество ночей;\n",
    "* total_of_special_requests — количество специальных отметок.\n",
    "\n",
    "## План работы\n",
    "Для достижения желаемого результата требуется открыть файлы и изучить информацию, предобработать данные и исследовать их, после чего требуется посчитать бизнес-метрику, а затем обучить различные модели и оценить их качество, выбрать лучшую модель и проверить ее на тестовой выборке. Далее, на основе иссоедовательского анализа требуется выявить признаки ненадежного клиента и написать общий вывод.\n",
    "\n",
    "## Результат работы\n",
    "Результатом работы является модель, которая решает задачу с наибольшей выгодой для бизнеса. Также требуется дать бизнесу рекомендации по результатам проделанной работы."
   ]
  },
  {
   "cell_type": "markdown",
   "metadata": {},
   "source": [
    "# Загрузка и подготовка данных"
   ]
  },
  {
   "cell_type": "code",
   "execution_count": 1,
   "metadata": {},
   "outputs": [],
   "source": [
    "#импортируем необходимые библиотеки\n",
    "import pandas as pd\n",
    "import numpy as np\n",
    "import matplotlib.pyplot as plt\n",
    "import seaborn as sns\n",
    "from sklearn.tree import DecisionTreeClassifier\n",
    "from sklearn.ensemble import RandomForestClassifier\n",
    "from sklearn.linear_model import LogisticRegression\n",
    "from sklearn.model_selection import train_test_split\n",
    "from sklearn.model_selection import cross_val_score\n",
    "from sklearn.dummy import DummyClassifier\n",
    "from sklearn.preprocessing import StandardScaler, OrdinalEncoder, OneHotEncoder\n",
    "from sklearn.utils import shuffle\n",
    "from sklearn.metrics import confusion_matrix\n",
    "from sklearn.metrics import recall_score, f1_score\n",
    "from sklearn.metrics import roc_auc_score\n",
    "from sklearn.metrics import roc_curve\n",
    "from sklearn.metrics import make_scorer\n",
    "\n",
    "pd.options.display.max_columns = None"
   ]
  },
  {
   "cell_type": "code",
   "execution_count": 2,
   "metadata": {},
   "outputs": [
    {
     "data": {
      "text/html": [
       "<div>\n",
       "<style scoped>\n",
       "    .dataframe tbody tr th:only-of-type {\n",
       "        vertical-align: middle;\n",
       "    }\n",
       "\n",
       "    .dataframe tbody tr th {\n",
       "        vertical-align: top;\n",
       "    }\n",
       "\n",
       "    .dataframe thead th {\n",
       "        text-align: right;\n",
       "    }\n",
       "</style>\n",
       "<table border=\"1\" class=\"dataframe\">\n",
       "  <thead>\n",
       "    <tr style=\"text-align: right;\">\n",
       "      <th></th>\n",
       "      <th>id</th>\n",
       "      <th>is_canceled</th>\n",
       "      <th>lead_time</th>\n",
       "      <th>arrival_date_year</th>\n",
       "      <th>arrival_date_month</th>\n",
       "      <th>arrival_date_week_number</th>\n",
       "      <th>arrival_date_day_of_month</th>\n",
       "      <th>stays_in_weekend_nights</th>\n",
       "      <th>stays_in_week_nights</th>\n",
       "      <th>adults</th>\n",
       "      <th>children</th>\n",
       "      <th>babies</th>\n",
       "      <th>meal</th>\n",
       "      <th>country</th>\n",
       "      <th>distribution_channel</th>\n",
       "      <th>is_repeated_guest</th>\n",
       "      <th>previous_cancellations</th>\n",
       "      <th>previous_bookings_not_canceled</th>\n",
       "      <th>reserved_room_type</th>\n",
       "      <th>booking_changes</th>\n",
       "      <th>days_in_waiting_list</th>\n",
       "      <th>customer_type</th>\n",
       "      <th>required_car_parking_spaces</th>\n",
       "      <th>total_of_special_requests</th>\n",
       "      <th>total_nights</th>\n",
       "    </tr>\n",
       "  </thead>\n",
       "  <tbody>\n",
       "    <tr>\n",
       "      <td>0</td>\n",
       "      <td>0</td>\n",
       "      <td>0</td>\n",
       "      <td>7.0</td>\n",
       "      <td>2015</td>\n",
       "      <td>July</td>\n",
       "      <td>27</td>\n",
       "      <td>1</td>\n",
       "      <td>0</td>\n",
       "      <td>1</td>\n",
       "      <td>1.0</td>\n",
       "      <td>0.0</td>\n",
       "      <td>0.0</td>\n",
       "      <td>BB</td>\n",
       "      <td>GBR</td>\n",
       "      <td>Direct</td>\n",
       "      <td>0</td>\n",
       "      <td>0</td>\n",
       "      <td>0</td>\n",
       "      <td>A</td>\n",
       "      <td>0</td>\n",
       "      <td>0</td>\n",
       "      <td>Transient</td>\n",
       "      <td>0</td>\n",
       "      <td>0</td>\n",
       "      <td>1</td>\n",
       "    </tr>\n",
       "    <tr>\n",
       "      <td>1</td>\n",
       "      <td>1</td>\n",
       "      <td>0</td>\n",
       "      <td>14.0</td>\n",
       "      <td>2015</td>\n",
       "      <td>July</td>\n",
       "      <td>27</td>\n",
       "      <td>1</td>\n",
       "      <td>0</td>\n",
       "      <td>2</td>\n",
       "      <td>2.0</td>\n",
       "      <td>0.0</td>\n",
       "      <td>0.0</td>\n",
       "      <td>BB</td>\n",
       "      <td>GBR</td>\n",
       "      <td>TA/TO</td>\n",
       "      <td>0</td>\n",
       "      <td>0</td>\n",
       "      <td>0</td>\n",
       "      <td>A</td>\n",
       "      <td>0</td>\n",
       "      <td>0</td>\n",
       "      <td>Transient</td>\n",
       "      <td>0</td>\n",
       "      <td>1</td>\n",
       "      <td>2</td>\n",
       "    </tr>\n",
       "    <tr>\n",
       "      <td>2</td>\n",
       "      <td>2</td>\n",
       "      <td>0</td>\n",
       "      <td>0.0</td>\n",
       "      <td>2015</td>\n",
       "      <td>July</td>\n",
       "      <td>27</td>\n",
       "      <td>1</td>\n",
       "      <td>0</td>\n",
       "      <td>2</td>\n",
       "      <td>2.0</td>\n",
       "      <td>0.0</td>\n",
       "      <td>0.0</td>\n",
       "      <td>BB</td>\n",
       "      <td>PRT</td>\n",
       "      <td>Direct</td>\n",
       "      <td>0</td>\n",
       "      <td>0</td>\n",
       "      <td>0</td>\n",
       "      <td>C</td>\n",
       "      <td>0</td>\n",
       "      <td>0</td>\n",
       "      <td>Transient</td>\n",
       "      <td>0</td>\n",
       "      <td>0</td>\n",
       "      <td>2</td>\n",
       "    </tr>\n",
       "    <tr>\n",
       "      <td>3</td>\n",
       "      <td>3</td>\n",
       "      <td>0</td>\n",
       "      <td>9.0</td>\n",
       "      <td>2015</td>\n",
       "      <td>July</td>\n",
       "      <td>27</td>\n",
       "      <td>1</td>\n",
       "      <td>0</td>\n",
       "      <td>2</td>\n",
       "      <td>2.0</td>\n",
       "      <td>0.0</td>\n",
       "      <td>0.0</td>\n",
       "      <td>FB</td>\n",
       "      <td>PRT</td>\n",
       "      <td>Direct</td>\n",
       "      <td>0</td>\n",
       "      <td>0</td>\n",
       "      <td>0</td>\n",
       "      <td>C</td>\n",
       "      <td>0</td>\n",
       "      <td>0</td>\n",
       "      <td>Transient</td>\n",
       "      <td>0</td>\n",
       "      <td>1</td>\n",
       "      <td>2</td>\n",
       "    </tr>\n",
       "    <tr>\n",
       "      <td>4</td>\n",
       "      <td>4</td>\n",
       "      <td>1</td>\n",
       "      <td>85.0</td>\n",
       "      <td>2015</td>\n",
       "      <td>July</td>\n",
       "      <td>27</td>\n",
       "      <td>1</td>\n",
       "      <td>0</td>\n",
       "      <td>3</td>\n",
       "      <td>2.0</td>\n",
       "      <td>0.0</td>\n",
       "      <td>0.0</td>\n",
       "      <td>BB</td>\n",
       "      <td>PRT</td>\n",
       "      <td>TA/TO</td>\n",
       "      <td>0</td>\n",
       "      <td>0</td>\n",
       "      <td>0</td>\n",
       "      <td>A</td>\n",
       "      <td>0</td>\n",
       "      <td>0</td>\n",
       "      <td>Transient</td>\n",
       "      <td>0</td>\n",
       "      <td>1</td>\n",
       "      <td>3</td>\n",
       "    </tr>\n",
       "  </tbody>\n",
       "</table>\n",
       "</div>"
      ],
      "text/plain": [
       "   id  is_canceled  lead_time  arrival_date_year arrival_date_month  \\\n",
       "0   0            0        7.0               2015               July   \n",
       "1   1            0       14.0               2015               July   \n",
       "2   2            0        0.0               2015               July   \n",
       "3   3            0        9.0               2015               July   \n",
       "4   4            1       85.0               2015               July   \n",
       "\n",
       "   arrival_date_week_number  arrival_date_day_of_month  \\\n",
       "0                        27                          1   \n",
       "1                        27                          1   \n",
       "2                        27                          1   \n",
       "3                        27                          1   \n",
       "4                        27                          1   \n",
       "\n",
       "   stays_in_weekend_nights  stays_in_week_nights  adults  children  babies  \\\n",
       "0                        0                     1     1.0       0.0     0.0   \n",
       "1                        0                     2     2.0       0.0     0.0   \n",
       "2                        0                     2     2.0       0.0     0.0   \n",
       "3                        0                     2     2.0       0.0     0.0   \n",
       "4                        0                     3     2.0       0.0     0.0   \n",
       "\n",
       "        meal country distribution_channel  is_repeated_guest  \\\n",
       "0  BB            GBR               Direct                  0   \n",
       "1  BB            GBR                TA/TO                  0   \n",
       "2  BB            PRT               Direct                  0   \n",
       "3  FB            PRT               Direct                  0   \n",
       "4  BB            PRT                TA/TO                  0   \n",
       "\n",
       "   previous_cancellations  previous_bookings_not_canceled reserved_room_type  \\\n",
       "0                       0                               0   A                  \n",
       "1                       0                               0   A                  \n",
       "2                       0                               0   C                  \n",
       "3                       0                               0   C                  \n",
       "4                       0                               0   A                  \n",
       "\n",
       "   booking_changes  days_in_waiting_list customer_type  \\\n",
       "0                0                     0     Transient   \n",
       "1                0                     0     Transient   \n",
       "2                0                     0     Transient   \n",
       "3                0                     0     Transient   \n",
       "4                0                     0     Transient   \n",
       "\n",
       "   required_car_parking_spaces  total_of_special_requests  total_nights  \n",
       "0                            0                          0             1  \n",
       "1                            0                          1             2  \n",
       "2                            0                          0             2  \n",
       "3                            0                          1             2  \n",
       "4                            0                          1             3  "
      ]
     },
     "metadata": {},
     "output_type": "display_data"
    },
    {
     "name": "stdout",
     "output_type": "stream",
     "text": [
      "<class 'pandas.core.frame.DataFrame'>\n",
      "RangeIndex: 65229 entries, 0 to 65228\n",
      "Data columns (total 25 columns):\n",
      "id                                65229 non-null int64\n",
      "is_canceled                       65229 non-null int64\n",
      "lead_time                         65229 non-null float64\n",
      "arrival_date_year                 65229 non-null int64\n",
      "arrival_date_month                65229 non-null object\n",
      "arrival_date_week_number          65229 non-null int64\n",
      "arrival_date_day_of_month         65229 non-null int64\n",
      "stays_in_weekend_nights           65229 non-null int64\n",
      "stays_in_week_nights              65229 non-null int64\n",
      "adults                            65229 non-null float64\n",
      "children                          65229 non-null float64\n",
      "babies                            65229 non-null float64\n",
      "meal                              65229 non-null object\n",
      "country                           65229 non-null object\n",
      "distribution_channel              65229 non-null object\n",
      "is_repeated_guest                 65229 non-null int64\n",
      "previous_cancellations            65229 non-null int64\n",
      "previous_bookings_not_canceled    65229 non-null int64\n",
      "reserved_room_type                65229 non-null object\n",
      "booking_changes                   65229 non-null int64\n",
      "days_in_waiting_list              65229 non-null int64\n",
      "customer_type                     65229 non-null object\n",
      "required_car_parking_spaces       65229 non-null int64\n",
      "total_of_special_requests         65229 non-null int64\n",
      "total_nights                      65229 non-null int64\n",
      "dtypes: float64(4), int64(15), object(6)\n",
      "memory usage: 12.4+ MB\n"
     ]
    },
    {
     "data": {
      "text/plain": [
       "None"
      ]
     },
     "metadata": {},
     "output_type": "display_data"
    },
    {
     "data": {
      "text/html": [
       "<div>\n",
       "<style scoped>\n",
       "    .dataframe tbody tr th:only-of-type {\n",
       "        vertical-align: middle;\n",
       "    }\n",
       "\n",
       "    .dataframe tbody tr th {\n",
       "        vertical-align: top;\n",
       "    }\n",
       "\n",
       "    .dataframe thead th {\n",
       "        text-align: right;\n",
       "    }\n",
       "</style>\n",
       "<table border=\"1\" class=\"dataframe\">\n",
       "  <thead>\n",
       "    <tr style=\"text-align: right;\">\n",
       "      <th></th>\n",
       "      <th>id</th>\n",
       "      <th>is_canceled</th>\n",
       "      <th>lead_time</th>\n",
       "      <th>arrival_date_year</th>\n",
       "      <th>arrival_date_week_number</th>\n",
       "      <th>arrival_date_day_of_month</th>\n",
       "      <th>stays_in_weekend_nights</th>\n",
       "      <th>stays_in_week_nights</th>\n",
       "      <th>adults</th>\n",
       "      <th>children</th>\n",
       "      <th>babies</th>\n",
       "      <th>is_repeated_guest</th>\n",
       "      <th>previous_cancellations</th>\n",
       "      <th>previous_bookings_not_canceled</th>\n",
       "      <th>booking_changes</th>\n",
       "      <th>days_in_waiting_list</th>\n",
       "      <th>required_car_parking_spaces</th>\n",
       "      <th>total_of_special_requests</th>\n",
       "      <th>total_nights</th>\n",
       "    </tr>\n",
       "  </thead>\n",
       "  <tbody>\n",
       "    <tr>\n",
       "      <td>count</td>\n",
       "      <td>65229.000000</td>\n",
       "      <td>65229.000000</td>\n",
       "      <td>65229.000000</td>\n",
       "      <td>65229.000000</td>\n",
       "      <td>65229.000000</td>\n",
       "      <td>65229.000000</td>\n",
       "      <td>65229.000000</td>\n",
       "      <td>65229.000000</td>\n",
       "      <td>65229.000000</td>\n",
       "      <td>65229.000000</td>\n",
       "      <td>65229.000000</td>\n",
       "      <td>65229.000000</td>\n",
       "      <td>65229.000000</td>\n",
       "      <td>65229.000000</td>\n",
       "      <td>65229.000000</td>\n",
       "      <td>65229.000000</td>\n",
       "      <td>65229.000000</td>\n",
       "      <td>65229.000000</td>\n",
       "      <td>65229.000000</td>\n",
       "    </tr>\n",
       "    <tr>\n",
       "      <td>mean</td>\n",
       "      <td>43544.069172</td>\n",
       "      <td>0.368609</td>\n",
       "      <td>96.337917</td>\n",
       "      <td>2015.719021</td>\n",
       "      <td>31.339772</td>\n",
       "      <td>15.847813</td>\n",
       "      <td>0.825185</td>\n",
       "      <td>2.224793</td>\n",
       "      <td>1.836576</td>\n",
       "      <td>0.074890</td>\n",
       "      <td>0.007236</td>\n",
       "      <td>0.027151</td>\n",
       "      <td>0.128915</td>\n",
       "      <td>0.107713</td>\n",
       "      <td>0.194269</td>\n",
       "      <td>3.334422</td>\n",
       "      <td>0.056647</td>\n",
       "      <td>0.512763</td>\n",
       "      <td>3.049978</td>\n",
       "    </tr>\n",
       "    <tr>\n",
       "      <td>std</td>\n",
       "      <td>25614.858971</td>\n",
       "      <td>0.482431</td>\n",
       "      <td>96.127545</td>\n",
       "      <td>0.449481</td>\n",
       "      <td>13.464024</td>\n",
       "      <td>8.748182</td>\n",
       "      <td>0.853477</td>\n",
       "      <td>1.354992</td>\n",
       "      <td>0.480245</td>\n",
       "      <td>0.334243</td>\n",
       "      <td>0.098790</td>\n",
       "      <td>0.162523</td>\n",
       "      <td>0.965326</td>\n",
       "      <td>1.326638</td>\n",
       "      <td>0.593838</td>\n",
       "      <td>18.239606</td>\n",
       "      <td>0.232094</td>\n",
       "      <td>0.752590</td>\n",
       "      <td>1.738108</td>\n",
       "    </tr>\n",
       "    <tr>\n",
       "      <td>min</td>\n",
       "      <td>0.000000</td>\n",
       "      <td>0.000000</td>\n",
       "      <td>0.000000</td>\n",
       "      <td>2015.000000</td>\n",
       "      <td>1.000000</td>\n",
       "      <td>1.000000</td>\n",
       "      <td>0.000000</td>\n",
       "      <td>0.000000</td>\n",
       "      <td>0.000000</td>\n",
       "      <td>0.000000</td>\n",
       "      <td>0.000000</td>\n",
       "      <td>0.000000</td>\n",
       "      <td>0.000000</td>\n",
       "      <td>0.000000</td>\n",
       "      <td>0.000000</td>\n",
       "      <td>0.000000</td>\n",
       "      <td>0.000000</td>\n",
       "      <td>0.000000</td>\n",
       "      <td>1.000000</td>\n",
       "    </tr>\n",
       "    <tr>\n",
       "      <td>25%</td>\n",
       "      <td>19108.000000</td>\n",
       "      <td>0.000000</td>\n",
       "      <td>17.000000</td>\n",
       "      <td>2015.000000</td>\n",
       "      <td>21.000000</td>\n",
       "      <td>8.000000</td>\n",
       "      <td>0.000000</td>\n",
       "      <td>1.000000</td>\n",
       "      <td>2.000000</td>\n",
       "      <td>0.000000</td>\n",
       "      <td>0.000000</td>\n",
       "      <td>0.000000</td>\n",
       "      <td>0.000000</td>\n",
       "      <td>0.000000</td>\n",
       "      <td>0.000000</td>\n",
       "      <td>0.000000</td>\n",
       "      <td>0.000000</td>\n",
       "      <td>0.000000</td>\n",
       "      <td>2.000000</td>\n",
       "    </tr>\n",
       "    <tr>\n",
       "      <td>50%</td>\n",
       "      <td>40554.000000</td>\n",
       "      <td>0.000000</td>\n",
       "      <td>64.000000</td>\n",
       "      <td>2016.000000</td>\n",
       "      <td>34.000000</td>\n",
       "      <td>16.000000</td>\n",
       "      <td>1.000000</td>\n",
       "      <td>2.000000</td>\n",
       "      <td>2.000000</td>\n",
       "      <td>0.000000</td>\n",
       "      <td>0.000000</td>\n",
       "      <td>0.000000</td>\n",
       "      <td>0.000000</td>\n",
       "      <td>0.000000</td>\n",
       "      <td>0.000000</td>\n",
       "      <td>0.000000</td>\n",
       "      <td>0.000000</td>\n",
       "      <td>0.000000</td>\n",
       "      <td>3.000000</td>\n",
       "    </tr>\n",
       "    <tr>\n",
       "      <td>75%</td>\n",
       "      <td>67414.000000</td>\n",
       "      <td>1.000000</td>\n",
       "      <td>151.000000</td>\n",
       "      <td>2016.000000</td>\n",
       "      <td>42.000000</td>\n",
       "      <td>23.000000</td>\n",
       "      <td>2.000000</td>\n",
       "      <td>3.000000</td>\n",
       "      <td>2.000000</td>\n",
       "      <td>0.000000</td>\n",
       "      <td>0.000000</td>\n",
       "      <td>0.000000</td>\n",
       "      <td>0.000000</td>\n",
       "      <td>0.000000</td>\n",
       "      <td>0.000000</td>\n",
       "      <td>0.000000</td>\n",
       "      <td>0.000000</td>\n",
       "      <td>1.000000</td>\n",
       "      <td>4.000000</td>\n",
       "    </tr>\n",
       "    <tr>\n",
       "      <td>max</td>\n",
       "      <td>84121.000000</td>\n",
       "      <td>1.000000</td>\n",
       "      <td>374.000000</td>\n",
       "      <td>2016.000000</td>\n",
       "      <td>53.000000</td>\n",
       "      <td>31.000000</td>\n",
       "      <td>4.000000</td>\n",
       "      <td>6.000000</td>\n",
       "      <td>4.000000</td>\n",
       "      <td>3.000000</td>\n",
       "      <td>10.000000</td>\n",
       "      <td>1.000000</td>\n",
       "      <td>26.000000</td>\n",
       "      <td>58.000000</td>\n",
       "      <td>17.000000</td>\n",
       "      <td>259.000000</td>\n",
       "      <td>3.000000</td>\n",
       "      <td>5.000000</td>\n",
       "      <td>10.000000</td>\n",
       "    </tr>\n",
       "  </tbody>\n",
       "</table>\n",
       "</div>"
      ],
      "text/plain": [
       "                 id   is_canceled     lead_time  arrival_date_year  \\\n",
       "count  65229.000000  65229.000000  65229.000000       65229.000000   \n",
       "mean   43544.069172      0.368609     96.337917        2015.719021   \n",
       "std    25614.858971      0.482431     96.127545           0.449481   \n",
       "min        0.000000      0.000000      0.000000        2015.000000   \n",
       "25%    19108.000000      0.000000     17.000000        2015.000000   \n",
       "50%    40554.000000      0.000000     64.000000        2016.000000   \n",
       "75%    67414.000000      1.000000    151.000000        2016.000000   \n",
       "max    84121.000000      1.000000    374.000000        2016.000000   \n",
       "\n",
       "       arrival_date_week_number  arrival_date_day_of_month  \\\n",
       "count              65229.000000               65229.000000   \n",
       "mean                  31.339772                  15.847813   \n",
       "std                   13.464024                   8.748182   \n",
       "min                    1.000000                   1.000000   \n",
       "25%                   21.000000                   8.000000   \n",
       "50%                   34.000000                  16.000000   \n",
       "75%                   42.000000                  23.000000   \n",
       "max                   53.000000                  31.000000   \n",
       "\n",
       "       stays_in_weekend_nights  stays_in_week_nights        adults  \\\n",
       "count             65229.000000          65229.000000  65229.000000   \n",
       "mean                  0.825185              2.224793      1.836576   \n",
       "std                   0.853477              1.354992      0.480245   \n",
       "min                   0.000000              0.000000      0.000000   \n",
       "25%                   0.000000              1.000000      2.000000   \n",
       "50%                   1.000000              2.000000      2.000000   \n",
       "75%                   2.000000              3.000000      2.000000   \n",
       "max                   4.000000              6.000000      4.000000   \n",
       "\n",
       "           children        babies  is_repeated_guest  previous_cancellations  \\\n",
       "count  65229.000000  65229.000000       65229.000000            65229.000000   \n",
       "mean       0.074890      0.007236           0.027151                0.128915   \n",
       "std        0.334243      0.098790           0.162523                0.965326   \n",
       "min        0.000000      0.000000           0.000000                0.000000   \n",
       "25%        0.000000      0.000000           0.000000                0.000000   \n",
       "50%        0.000000      0.000000           0.000000                0.000000   \n",
       "75%        0.000000      0.000000           0.000000                0.000000   \n",
       "max        3.000000     10.000000           1.000000               26.000000   \n",
       "\n",
       "       previous_bookings_not_canceled  booking_changes  days_in_waiting_list  \\\n",
       "count                    65229.000000     65229.000000          65229.000000   \n",
       "mean                         0.107713         0.194269              3.334422   \n",
       "std                          1.326638         0.593838             18.239606   \n",
       "min                          0.000000         0.000000              0.000000   \n",
       "25%                          0.000000         0.000000              0.000000   \n",
       "50%                          0.000000         0.000000              0.000000   \n",
       "75%                          0.000000         0.000000              0.000000   \n",
       "max                         58.000000        17.000000            259.000000   \n",
       "\n",
       "       required_car_parking_spaces  total_of_special_requests  total_nights  \n",
       "count                 65229.000000               65229.000000  65229.000000  \n",
       "mean                      0.056647                   0.512763      3.049978  \n",
       "std                       0.232094                   0.752590      1.738108  \n",
       "min                       0.000000                   0.000000      1.000000  \n",
       "25%                       0.000000                   0.000000      2.000000  \n",
       "50%                       0.000000                   0.000000      3.000000  \n",
       "75%                       0.000000                   1.000000      4.000000  \n",
       "max                       3.000000                   5.000000     10.000000  "
      ]
     },
     "execution_count": 2,
     "metadata": {},
     "output_type": "execute_result"
    }
   ],
   "source": [
    "df_train = pd.read_csv('/datasets/hotel_train.csv')\n",
    "display(df_train.head())\n",
    "display(df_train.info())\n",
    "df_train.describe()"
   ]
  },
  {
   "cell_type": "code",
   "execution_count": 3,
   "metadata": {
    "scrolled": false
   },
   "outputs": [
    {
     "data": {
      "text/html": [
       "<div>\n",
       "<style scoped>\n",
       "    .dataframe tbody tr th:only-of-type {\n",
       "        vertical-align: middle;\n",
       "    }\n",
       "\n",
       "    .dataframe tbody tr th {\n",
       "        vertical-align: top;\n",
       "    }\n",
       "\n",
       "    .dataframe thead th {\n",
       "        text-align: right;\n",
       "    }\n",
       "</style>\n",
       "<table border=\"1\" class=\"dataframe\">\n",
       "  <thead>\n",
       "    <tr style=\"text-align: right;\">\n",
       "      <th></th>\n",
       "      <th>id</th>\n",
       "      <th>is_canceled</th>\n",
       "      <th>lead_time</th>\n",
       "      <th>arrival_date_year</th>\n",
       "      <th>arrival_date_month</th>\n",
       "      <th>arrival_date_week_number</th>\n",
       "      <th>arrival_date_day_of_month</th>\n",
       "      <th>stays_in_weekend_nights</th>\n",
       "      <th>stays_in_week_nights</th>\n",
       "      <th>adults</th>\n",
       "      <th>children</th>\n",
       "      <th>babies</th>\n",
       "      <th>meal</th>\n",
       "      <th>country</th>\n",
       "      <th>distribution_channel</th>\n",
       "      <th>is_repeated_guest</th>\n",
       "      <th>previous_cancellations</th>\n",
       "      <th>previous_bookings_not_canceled</th>\n",
       "      <th>reserved_room_type</th>\n",
       "      <th>booking_changes</th>\n",
       "      <th>days_in_waiting_list</th>\n",
       "      <th>customer_type</th>\n",
       "      <th>required_car_parking_spaces</th>\n",
       "      <th>total_of_special_requests</th>\n",
       "      <th>total_nights</th>\n",
       "    </tr>\n",
       "  </thead>\n",
       "  <tbody>\n",
       "    <tr>\n",
       "      <td>0</td>\n",
       "      <td>6086</td>\n",
       "      <td>1</td>\n",
       "      <td>74.0</td>\n",
       "      <td>2017</td>\n",
       "      <td>January</td>\n",
       "      <td>1</td>\n",
       "      <td>1</td>\n",
       "      <td>1</td>\n",
       "      <td>0</td>\n",
       "      <td>2.0</td>\n",
       "      <td>0.0</td>\n",
       "      <td>0.0</td>\n",
       "      <td>BB</td>\n",
       "      <td>PRT</td>\n",
       "      <td>TA/TO</td>\n",
       "      <td>0</td>\n",
       "      <td>0</td>\n",
       "      <td>0</td>\n",
       "      <td>A</td>\n",
       "      <td>0</td>\n",
       "      <td>0</td>\n",
       "      <td>Transient</td>\n",
       "      <td>0</td>\n",
       "      <td>0</td>\n",
       "      <td>1</td>\n",
       "    </tr>\n",
       "    <tr>\n",
       "      <td>1</td>\n",
       "      <td>6087</td>\n",
       "      <td>1</td>\n",
       "      <td>62.0</td>\n",
       "      <td>2017</td>\n",
       "      <td>January</td>\n",
       "      <td>1</td>\n",
       "      <td>1</td>\n",
       "      <td>2</td>\n",
       "      <td>2</td>\n",
       "      <td>2.0</td>\n",
       "      <td>0.0</td>\n",
       "      <td>0.0</td>\n",
       "      <td>BB</td>\n",
       "      <td>AUT</td>\n",
       "      <td>TA/TO</td>\n",
       "      <td>0</td>\n",
       "      <td>0</td>\n",
       "      <td>0</td>\n",
       "      <td>A</td>\n",
       "      <td>0</td>\n",
       "      <td>0</td>\n",
       "      <td>Transient</td>\n",
       "      <td>0</td>\n",
       "      <td>1</td>\n",
       "      <td>4</td>\n",
       "    </tr>\n",
       "    <tr>\n",
       "      <td>2</td>\n",
       "      <td>6088</td>\n",
       "      <td>1</td>\n",
       "      <td>62.0</td>\n",
       "      <td>2017</td>\n",
       "      <td>January</td>\n",
       "      <td>1</td>\n",
       "      <td>1</td>\n",
       "      <td>2</td>\n",
       "      <td>2</td>\n",
       "      <td>2.0</td>\n",
       "      <td>0.0</td>\n",
       "      <td>0.0</td>\n",
       "      <td>BB</td>\n",
       "      <td>AUT</td>\n",
       "      <td>TA/TO</td>\n",
       "      <td>0</td>\n",
       "      <td>0</td>\n",
       "      <td>0</td>\n",
       "      <td>A</td>\n",
       "      <td>0</td>\n",
       "      <td>0</td>\n",
       "      <td>Transient</td>\n",
       "      <td>0</td>\n",
       "      <td>1</td>\n",
       "      <td>4</td>\n",
       "    </tr>\n",
       "    <tr>\n",
       "      <td>3</td>\n",
       "      <td>6089</td>\n",
       "      <td>1</td>\n",
       "      <td>71.0</td>\n",
       "      <td>2017</td>\n",
       "      <td>January</td>\n",
       "      <td>1</td>\n",
       "      <td>1</td>\n",
       "      <td>2</td>\n",
       "      <td>2</td>\n",
       "      <td>1.0</td>\n",
       "      <td>0.0</td>\n",
       "      <td>0.0</td>\n",
       "      <td>BB</td>\n",
       "      <td>PRT</td>\n",
       "      <td>TA/TO</td>\n",
       "      <td>0</td>\n",
       "      <td>0</td>\n",
       "      <td>0</td>\n",
       "      <td>A</td>\n",
       "      <td>0</td>\n",
       "      <td>0</td>\n",
       "      <td>Transient</td>\n",
       "      <td>0</td>\n",
       "      <td>1</td>\n",
       "      <td>4</td>\n",
       "    </tr>\n",
       "    <tr>\n",
       "      <td>4</td>\n",
       "      <td>6090</td>\n",
       "      <td>1</td>\n",
       "      <td>172.0</td>\n",
       "      <td>2017</td>\n",
       "      <td>January</td>\n",
       "      <td>1</td>\n",
       "      <td>1</td>\n",
       "      <td>2</td>\n",
       "      <td>5</td>\n",
       "      <td>2.0</td>\n",
       "      <td>0.0</td>\n",
       "      <td>0.0</td>\n",
       "      <td>BB</td>\n",
       "      <td>BEL</td>\n",
       "      <td>TA/TO</td>\n",
       "      <td>0</td>\n",
       "      <td>0</td>\n",
       "      <td>0</td>\n",
       "      <td>A</td>\n",
       "      <td>0</td>\n",
       "      <td>0</td>\n",
       "      <td>Transient</td>\n",
       "      <td>0</td>\n",
       "      <td>0</td>\n",
       "      <td>7</td>\n",
       "    </tr>\n",
       "  </tbody>\n",
       "</table>\n",
       "</div>"
      ],
      "text/plain": [
       "     id  is_canceled  lead_time  arrival_date_year arrival_date_month  \\\n",
       "0  6086            1       74.0               2017            January   \n",
       "1  6087            1       62.0               2017            January   \n",
       "2  6088            1       62.0               2017            January   \n",
       "3  6089            1       71.0               2017            January   \n",
       "4  6090            1      172.0               2017            January   \n",
       "\n",
       "   arrival_date_week_number  arrival_date_day_of_month  \\\n",
       "0                         1                          1   \n",
       "1                         1                          1   \n",
       "2                         1                          1   \n",
       "3                         1                          1   \n",
       "4                         1                          1   \n",
       "\n",
       "   stays_in_weekend_nights  stays_in_week_nights  adults  children  babies  \\\n",
       "0                        1                     0     2.0       0.0     0.0   \n",
       "1                        2                     2     2.0       0.0     0.0   \n",
       "2                        2                     2     2.0       0.0     0.0   \n",
       "3                        2                     2     1.0       0.0     0.0   \n",
       "4                        2                     5     2.0       0.0     0.0   \n",
       "\n",
       "        meal country distribution_channel  is_repeated_guest  \\\n",
       "0  BB            PRT                TA/TO                  0   \n",
       "1  BB            AUT                TA/TO                  0   \n",
       "2  BB            AUT                TA/TO                  0   \n",
       "3  BB            PRT                TA/TO                  0   \n",
       "4  BB            BEL                TA/TO                  0   \n",
       "\n",
       "   previous_cancellations  previous_bookings_not_canceled reserved_room_type  \\\n",
       "0                       0                               0   A                  \n",
       "1                       0                               0   A                  \n",
       "2                       0                               0   A                  \n",
       "3                       0                               0   A                  \n",
       "4                       0                               0   A                  \n",
       "\n",
       "   booking_changes  days_in_waiting_list customer_type  \\\n",
       "0                0                     0     Transient   \n",
       "1                0                     0     Transient   \n",
       "2                0                     0     Transient   \n",
       "3                0                     0     Transient   \n",
       "4                0                     0     Transient   \n",
       "\n",
       "   required_car_parking_spaces  total_of_special_requests  total_nights  \n",
       "0                            0                          0             1  \n",
       "1                            0                          1             4  \n",
       "2                            0                          1             4  \n",
       "3                            0                          1             4  \n",
       "4                            0                          0             7  "
      ]
     },
     "metadata": {},
     "output_type": "display_data"
    },
    {
     "name": "stdout",
     "output_type": "stream",
     "text": [
      "<class 'pandas.core.frame.DataFrame'>\n",
      "RangeIndex: 32412 entries, 0 to 32411\n",
      "Data columns (total 25 columns):\n",
      "id                                32412 non-null int64\n",
      "is_canceled                       32412 non-null int64\n",
      "lead_time                         32412 non-null float64\n",
      "arrival_date_year                 32412 non-null int64\n",
      "arrival_date_month                32412 non-null object\n",
      "arrival_date_week_number          32412 non-null int64\n",
      "arrival_date_day_of_month         32412 non-null int64\n",
      "stays_in_weekend_nights           32412 non-null int64\n",
      "stays_in_week_nights              32412 non-null int64\n",
      "adults                            32412 non-null float64\n",
      "children                          32412 non-null float64\n",
      "babies                            32412 non-null float64\n",
      "meal                              32412 non-null object\n",
      "country                           32412 non-null object\n",
      "distribution_channel              32412 non-null object\n",
      "is_repeated_guest                 32412 non-null int64\n",
      "previous_cancellations            32412 non-null int64\n",
      "previous_bookings_not_canceled    32412 non-null int64\n",
      "reserved_room_type                32412 non-null object\n",
      "booking_changes                   32412 non-null int64\n",
      "days_in_waiting_list              32412 non-null int64\n",
      "customer_type                     32412 non-null object\n",
      "required_car_parking_spaces       32412 non-null int64\n",
      "total_of_special_requests         32412 non-null int64\n",
      "total_nights                      32412 non-null int64\n",
      "dtypes: float64(4), int64(15), object(6)\n",
      "memory usage: 6.2+ MB\n"
     ]
    },
    {
     "data": {
      "text/plain": [
       "None"
      ]
     },
     "metadata": {},
     "output_type": "display_data"
    },
    {
     "data": {
      "text/html": [
       "<div>\n",
       "<style scoped>\n",
       "    .dataframe tbody tr th:only-of-type {\n",
       "        vertical-align: middle;\n",
       "    }\n",
       "\n",
       "    .dataframe tbody tr th {\n",
       "        vertical-align: top;\n",
       "    }\n",
       "\n",
       "    .dataframe thead th {\n",
       "        text-align: right;\n",
       "    }\n",
       "</style>\n",
       "<table border=\"1\" class=\"dataframe\">\n",
       "  <thead>\n",
       "    <tr style=\"text-align: right;\">\n",
       "      <th></th>\n",
       "      <th>id</th>\n",
       "      <th>is_canceled</th>\n",
       "      <th>lead_time</th>\n",
       "      <th>arrival_date_year</th>\n",
       "      <th>arrival_date_week_number</th>\n",
       "      <th>arrival_date_day_of_month</th>\n",
       "      <th>stays_in_weekend_nights</th>\n",
       "      <th>stays_in_week_nights</th>\n",
       "      <th>adults</th>\n",
       "      <th>children</th>\n",
       "      <th>babies</th>\n",
       "      <th>is_repeated_guest</th>\n",
       "      <th>previous_cancellations</th>\n",
       "      <th>previous_bookings_not_canceled</th>\n",
       "      <th>booking_changes</th>\n",
       "      <th>days_in_waiting_list</th>\n",
       "      <th>required_car_parking_spaces</th>\n",
       "      <th>total_of_special_requests</th>\n",
       "      <th>total_nights</th>\n",
       "    </tr>\n",
       "  </thead>\n",
       "  <tbody>\n",
       "    <tr>\n",
       "      <td>count</td>\n",
       "      <td>32412.000000</td>\n",
       "      <td>32412.000000</td>\n",
       "      <td>32412.000000</td>\n",
       "      <td>32412.0</td>\n",
       "      <td>32412.000000</td>\n",
       "      <td>32412.000000</td>\n",
       "      <td>32412.000000</td>\n",
       "      <td>32412.00000</td>\n",
       "      <td>32412.000000</td>\n",
       "      <td>32412.000000</td>\n",
       "      <td>32412.000000</td>\n",
       "      <td>32412.000000</td>\n",
       "      <td>32412.000000</td>\n",
       "      <td>32412.000000</td>\n",
       "      <td>32412.000000</td>\n",
       "      <td>32412.000000</td>\n",
       "      <td>32412.000000</td>\n",
       "      <td>32412.000000</td>\n",
       "      <td>32412.000000</td>\n",
       "    </tr>\n",
       "    <tr>\n",
       "      <td>mean</td>\n",
       "      <td>60131.505183</td>\n",
       "      <td>0.388467</td>\n",
       "      <td>97.587869</td>\n",
       "      <td>2017.0</td>\n",
       "      <td>17.804054</td>\n",
       "      <td>15.656948</td>\n",
       "      <td>0.867888</td>\n",
       "      <td>2.34009</td>\n",
       "      <td>1.858602</td>\n",
       "      <td>0.083765</td>\n",
       "      <td>0.005523</td>\n",
       "      <td>0.031377</td>\n",
       "      <td>0.011601</td>\n",
       "      <td>0.171418</td>\n",
       "      <td>0.216741</td>\n",
       "      <td>0.262341</td>\n",
       "      <td>0.046248</td>\n",
       "      <td>0.657781</td>\n",
       "      <td>3.207979</td>\n",
       "    </tr>\n",
       "    <tr>\n",
       "      <td>std</td>\n",
       "      <td>29953.586177</td>\n",
       "      <td>0.487409</td>\n",
       "      <td>86.507146</td>\n",
       "      <td>0.0</td>\n",
       "      <td>9.177384</td>\n",
       "      <td>8.766429</td>\n",
       "      <td>0.853394</td>\n",
       "      <td>1.37517</td>\n",
       "      <td>0.489341</td>\n",
       "      <td>0.343470</td>\n",
       "      <td>0.075757</td>\n",
       "      <td>0.174338</td>\n",
       "      <td>0.180473</td>\n",
       "      <td>1.875170</td>\n",
       "      <td>0.640551</td>\n",
       "      <td>4.733027</td>\n",
       "      <td>0.219367</td>\n",
       "      <td>0.834341</td>\n",
       "      <td>1.738683</td>\n",
       "    </tr>\n",
       "    <tr>\n",
       "      <td>min</td>\n",
       "      <td>6086.000000</td>\n",
       "      <td>0.000000</td>\n",
       "      <td>0.000000</td>\n",
       "      <td>2017.0</td>\n",
       "      <td>1.000000</td>\n",
       "      <td>1.000000</td>\n",
       "      <td>0.000000</td>\n",
       "      <td>0.00000</td>\n",
       "      <td>0.000000</td>\n",
       "      <td>0.000000</td>\n",
       "      <td>0.000000</td>\n",
       "      <td>0.000000</td>\n",
       "      <td>0.000000</td>\n",
       "      <td>0.000000</td>\n",
       "      <td>0.000000</td>\n",
       "      <td>0.000000</td>\n",
       "      <td>0.000000</td>\n",
       "      <td>0.000000</td>\n",
       "      <td>1.000000</td>\n",
       "    </tr>\n",
       "    <tr>\n",
       "      <td>25%</td>\n",
       "      <td>45291.750000</td>\n",
       "      <td>0.000000</td>\n",
       "      <td>23.000000</td>\n",
       "      <td>2017.0</td>\n",
       "      <td>10.000000</td>\n",
       "      <td>8.000000</td>\n",
       "      <td>0.000000</td>\n",
       "      <td>1.00000</td>\n",
       "      <td>2.000000</td>\n",
       "      <td>0.000000</td>\n",
       "      <td>0.000000</td>\n",
       "      <td>0.000000</td>\n",
       "      <td>0.000000</td>\n",
       "      <td>0.000000</td>\n",
       "      <td>0.000000</td>\n",
       "      <td>0.000000</td>\n",
       "      <td>0.000000</td>\n",
       "      <td>0.000000</td>\n",
       "      <td>2.000000</td>\n",
       "    </tr>\n",
       "    <tr>\n",
       "      <td>50%</td>\n",
       "      <td>53394.500000</td>\n",
       "      <td>0.000000</td>\n",
       "      <td>76.000000</td>\n",
       "      <td>2017.0</td>\n",
       "      <td>18.000000</td>\n",
       "      <td>15.500000</td>\n",
       "      <td>1.000000</td>\n",
       "      <td>2.00000</td>\n",
       "      <td>2.000000</td>\n",
       "      <td>0.000000</td>\n",
       "      <td>0.000000</td>\n",
       "      <td>0.000000</td>\n",
       "      <td>0.000000</td>\n",
       "      <td>0.000000</td>\n",
       "      <td>0.000000</td>\n",
       "      <td>0.000000</td>\n",
       "      <td>0.000000</td>\n",
       "      <td>0.000000</td>\n",
       "      <td>3.000000</td>\n",
       "    </tr>\n",
       "    <tr>\n",
       "      <td>75%</td>\n",
       "      <td>89800.250000</td>\n",
       "      <td>1.000000</td>\n",
       "      <td>155.000000</td>\n",
       "      <td>2017.0</td>\n",
       "      <td>25.000000</td>\n",
       "      <td>23.000000</td>\n",
       "      <td>2.000000</td>\n",
       "      <td>3.00000</td>\n",
       "      <td>2.000000</td>\n",
       "      <td>0.000000</td>\n",
       "      <td>0.000000</td>\n",
       "      <td>0.000000</td>\n",
       "      <td>0.000000</td>\n",
       "      <td>0.000000</td>\n",
       "      <td>0.000000</td>\n",
       "      <td>0.000000</td>\n",
       "      <td>0.000000</td>\n",
       "      <td>1.000000</td>\n",
       "      <td>4.000000</td>\n",
       "    </tr>\n",
       "    <tr>\n",
       "      <td>max</td>\n",
       "      <td>97903.000000</td>\n",
       "      <td>1.000000</td>\n",
       "      <td>373.000000</td>\n",
       "      <td>2017.0</td>\n",
       "      <td>35.000000</td>\n",
       "      <td>31.000000</td>\n",
       "      <td>4.000000</td>\n",
       "      <td>6.00000</td>\n",
       "      <td>4.000000</td>\n",
       "      <td>3.000000</td>\n",
       "      <td>2.000000</td>\n",
       "      <td>1.000000</td>\n",
       "      <td>6.000000</td>\n",
       "      <td>72.000000</td>\n",
       "      <td>18.000000</td>\n",
       "      <td>223.000000</td>\n",
       "      <td>8.000000</td>\n",
       "      <td>5.000000</td>\n",
       "      <td>10.000000</td>\n",
       "    </tr>\n",
       "  </tbody>\n",
       "</table>\n",
       "</div>"
      ],
      "text/plain": [
       "                 id   is_canceled     lead_time  arrival_date_year  \\\n",
       "count  32412.000000  32412.000000  32412.000000            32412.0   \n",
       "mean   60131.505183      0.388467     97.587869             2017.0   \n",
       "std    29953.586177      0.487409     86.507146                0.0   \n",
       "min     6086.000000      0.000000      0.000000             2017.0   \n",
       "25%    45291.750000      0.000000     23.000000             2017.0   \n",
       "50%    53394.500000      0.000000     76.000000             2017.0   \n",
       "75%    89800.250000      1.000000    155.000000             2017.0   \n",
       "max    97903.000000      1.000000    373.000000             2017.0   \n",
       "\n",
       "       arrival_date_week_number  arrival_date_day_of_month  \\\n",
       "count              32412.000000               32412.000000   \n",
       "mean                  17.804054                  15.656948   \n",
       "std                    9.177384                   8.766429   \n",
       "min                    1.000000                   1.000000   \n",
       "25%                   10.000000                   8.000000   \n",
       "50%                   18.000000                  15.500000   \n",
       "75%                   25.000000                  23.000000   \n",
       "max                   35.000000                  31.000000   \n",
       "\n",
       "       stays_in_weekend_nights  stays_in_week_nights        adults  \\\n",
       "count             32412.000000           32412.00000  32412.000000   \n",
       "mean                  0.867888               2.34009      1.858602   \n",
       "std                   0.853394               1.37517      0.489341   \n",
       "min                   0.000000               0.00000      0.000000   \n",
       "25%                   0.000000               1.00000      2.000000   \n",
       "50%                   1.000000               2.00000      2.000000   \n",
       "75%                   2.000000               3.00000      2.000000   \n",
       "max                   4.000000               6.00000      4.000000   \n",
       "\n",
       "           children        babies  is_repeated_guest  previous_cancellations  \\\n",
       "count  32412.000000  32412.000000       32412.000000            32412.000000   \n",
       "mean       0.083765      0.005523           0.031377                0.011601   \n",
       "std        0.343470      0.075757           0.174338                0.180473   \n",
       "min        0.000000      0.000000           0.000000                0.000000   \n",
       "25%        0.000000      0.000000           0.000000                0.000000   \n",
       "50%        0.000000      0.000000           0.000000                0.000000   \n",
       "75%        0.000000      0.000000           0.000000                0.000000   \n",
       "max        3.000000      2.000000           1.000000                6.000000   \n",
       "\n",
       "       previous_bookings_not_canceled  booking_changes  days_in_waiting_list  \\\n",
       "count                    32412.000000     32412.000000          32412.000000   \n",
       "mean                         0.171418         0.216741              0.262341   \n",
       "std                          1.875170         0.640551              4.733027   \n",
       "min                          0.000000         0.000000              0.000000   \n",
       "25%                          0.000000         0.000000              0.000000   \n",
       "50%                          0.000000         0.000000              0.000000   \n",
       "75%                          0.000000         0.000000              0.000000   \n",
       "max                         72.000000        18.000000            223.000000   \n",
       "\n",
       "       required_car_parking_spaces  total_of_special_requests  total_nights  \n",
       "count                 32412.000000               32412.000000  32412.000000  \n",
       "mean                      0.046248                   0.657781      3.207979  \n",
       "std                       0.219367                   0.834341      1.738683  \n",
       "min                       0.000000                   0.000000      1.000000  \n",
       "25%                       0.000000                   0.000000      2.000000  \n",
       "50%                       0.000000                   0.000000      3.000000  \n",
       "75%                       0.000000                   1.000000      4.000000  \n",
       "max                       8.000000                   5.000000     10.000000  "
      ]
     },
     "execution_count": 3,
     "metadata": {},
     "output_type": "execute_result"
    }
   ],
   "source": [
    "df_test = pd.read_csv('/datasets/hotel_test.csv')\n",
    "display(df_test.head())\n",
    "display(df_test.info())\n",
    "df_test.describe()"
   ]
  },
  {
   "cell_type": "code",
   "execution_count": 4,
   "metadata": {},
   "outputs": [],
   "source": [
    "# Сразу избавимся от мешающих обучению столбцов\n",
    "df_train = df_train.drop('id', axis=1)\n",
    "df_test = df_test.drop('id', axis=1)"
   ]
  },
  {
   "cell_type": "markdown",
   "metadata": {},
   "source": [
    "## Вывод"
   ]
  },
  {
   "cell_type": "markdown",
   "metadata": {},
   "source": [
    "В данном разделе были открыты 2 файла и изучена информация в них. Пропусков не было обнаружено, столбец с уникальным идентификатором был удален для дальнейшего обучения, также были выявлены столбцы с типами, неподходящими для обучения модели, которые в следущем шаге будут преобразованы к нужным."
   ]
  },
  {
   "cell_type": "markdown",
   "metadata": {},
   "source": [
    "# Предобработка и исследовательский анализ данных"
   ]
  },
  {
   "cell_type": "code",
   "execution_count": 5,
   "metadata": {},
   "outputs": [
    {
     "data": {
      "text/plain": [
       "BB           51697\n",
       "HB            7292\n",
       "SC            5274\n",
       "SC             515\n",
       "FB             451\n",
       "Name: meal, dtype: int64"
      ]
     },
     "execution_count": 5,
     "metadata": {},
     "output_type": "execute_result"
    }
   ],
   "source": [
    "df_train['meal'].value_counts()"
   ]
  },
  {
   "cell_type": "code",
   "execution_count": 6,
   "metadata": {},
   "outputs": [],
   "source": [
    "#Избавимся от лишних пробелов\n",
    "df_train_obj = df_train.select_dtypes(['object'])\n",
    "df_train[df_train_obj.columns] = df_train_obj.apply(lambda x: x.str.strip())\n",
    "\n",
    "df_test_obj = df_test.select_dtypes(['object'])\n",
    "df_test[df_test_obj.columns] = df_test_obj.apply(lambda x: x.str.strip())"
   ]
  },
  {
   "cell_type": "code",
   "execution_count": 7,
   "metadata": {},
   "outputs": [],
   "source": [
    "# Преобразуем все float столбцы в тип int\n",
    "cols = df_train.columns[df_train.dtypes.eq('float64')]\n",
    "\n",
    "df_train[cols] = df_train[cols].astype('int')\n",
    "df_test[cols] = df_test[cols].astype('int')"
   ]
  },
  {
   "cell_type": "code",
   "execution_count": 8,
   "metadata": {},
   "outputs": [],
   "source": [
    "df_train['arrival_date_month'] = pd.to_datetime(df_train['arrival_date_month'], format='%B').dt.month\n",
    "df_test['arrival_date_month'] = pd.to_datetime(df_test['arrival_date_month'], format='%B').dt.month"
   ]
  },
  {
   "cell_type": "code",
   "execution_count": 9,
   "metadata": {},
   "outputs": [
    {
     "data": {
      "image/png": "[encoded data removed]",
      "text/plain": [
       "<Figure size 432x288 with 1 Axes>"
      ]
     },
     "metadata": {
      "needs_background": "light"
     },
     "output_type": "display_data"
    }
   ],
   "source": [
    "plt.figure()\n",
    "df_train['lead_time'].plot(kind='hist')\n",
    "plt.xlabel('lead_time')\n",
    "plt.show()"
   ]
  },
  {
   "cell_type": "code",
   "execution_count": 10,
   "metadata": {
    "scrolled": false
   },
   "outputs": [
    {
     "data": {
      "text/plain": [
       "0     59591\n",
       "1      5367\n",
       "2        54\n",
       "3        51\n",
       "11       35\n",
       "24       28\n",
       "25       19\n",
       "26       18\n",
       "19       17\n",
       "5        13\n",
       "13       12\n",
       "14       11\n",
       "6         7\n",
       "4         5\n",
       "21        1\n",
       "Name: previous_cancellations, dtype: int64"
      ]
     },
     "execution_count": 10,
     "metadata": {},
     "output_type": "execute_result"
    }
   ],
   "source": [
    "df_train['previous_cancellations'].value_counts()"
   ]
  },
  {
   "cell_type": "markdown",
   "metadata": {},
   "source": [
    "В коде ниже будут построенны диаграммы распределения признаков, диапазон которых будет сужен для более детального рассмотрения."
   ]
  },
  {
   "cell_type": "code",
   "execution_count": 11,
   "metadata": {},
   "outputs": [
    {
     "data": {
      "image/png": "[encoded data removed]",
      "text/plain": [
       "<Figure size 432x288 with 1 Axes>"
      ]
     },
     "metadata": {
      "needs_background": "light"
     },
     "output_type": "display_data"
    }
   ],
   "source": [
    "df_train['previous_bookings_not_canceled'].plot(kind='hist')\n",
    "plt.xlabel('previous_bookings_not_canceled')\n",
    "plt.show()"
   ]
  },
  {
   "cell_type": "code",
   "execution_count": 12,
   "metadata": {},
   "outputs": [
    {
     "data": {
      "image/png": "[encoded data removed]",
      "text/plain": [
       "<Figure size 432x288 with 1 Axes>"
      ]
     },
     "metadata": {
      "needs_background": "light"
     },
     "output_type": "display_data"
    }
   ],
   "source": [
    "df_train['previous_bookings_not_canceled'].plot(kind='hist', range=(15, 60))\n",
    "plt.xlabel('previous_bookings_not_canceled')\n",
    "plt.show()"
   ]
  },
  {
   "cell_type": "code",
   "execution_count": 13,
   "metadata": {},
   "outputs": [
    {
     "data": {
      "image/png": "[encoded data removed]",
      "text/plain": [
       "<Figure size 432x288 with 1 Axes>"
      ]
     },
     "metadata": {
      "needs_background": "light"
     },
     "output_type": "display_data"
    }
   ],
   "source": [
    "df_train['booking_changes'].plot(kind='hist')\n",
    "plt.xlabel('booking_changes')\n",
    "plt.show()"
   ]
  },
  {
   "cell_type": "code",
   "execution_count": 14,
   "metadata": {
    "scrolled": true
   },
   "outputs": [
    {
     "data": {
      "image/png": "[encoded data removed]",
      "text/plain": [
       "<Figure size 432x288 with 1 Axes>"
      ]
     },
     "metadata": {
      "needs_background": "light"
     },
     "output_type": "display_data"
    }
   ],
   "source": [
    "df_train['booking_changes'].plot(kind='hist', range=(5, 20))\n",
    "plt.xlabel('booking_changes')\n",
    "plt.show()"
   ]
  },
  {
   "cell_type": "code",
   "execution_count": 15,
   "metadata": {},
   "outputs": [
    {
     "data": {
      "image/png": "[encoded data removed]",
      "text/plain": [
       "<Figure size 432x288 with 1 Axes>"
      ]
     },
     "metadata": {
      "needs_background": "light"
     },
     "output_type": "display_data"
    }
   ],
   "source": [
    "df_train['days_in_waiting_list'].plot(kind='hist')\n",
    "plt.xlabel('days_in_waiting_list')\n",
    "plt.show()"
   ]
  },
  {
   "cell_type": "code",
   "execution_count": 16,
   "metadata": {
    "scrolled": true
   },
   "outputs": [
    {
     "data": {
      "image/png": "[encoded data removed]",
      "text/plain": [
       "<Figure size 432x288 with 1 Axes>"
      ]
     },
     "metadata": {
      "needs_background": "light"
     },
     "output_type": "display_data"
    }
   ],
   "source": [
    "df_train['days_in_waiting_list'].plot(kind='hist', range=(10, 80))\n",
    "plt.xlabel('days_in_waiting_list')\n",
    "plt.show()"
   ]
  },
  {
   "cell_type": "code",
   "execution_count": 17,
   "metadata": {},
   "outputs": [
    {
     "data": {
      "text/plain": [
       "(65229, 24)"
      ]
     },
     "metadata": {},
     "output_type": "display_data"
    },
    {
     "data": {
      "text/plain": [
       "(62083, 24)"
      ]
     },
     "execution_count": 17,
     "metadata": {},
     "output_type": "execute_result"
    }
   ],
   "source": [
    "# удалим строки с выбросами\n",
    "display(df_train.shape)\n",
    "df_train = df_train[df_train['previous_cancellations'] < 7]\n",
    "df_train = df_train[df_train['previous_bookings_not_canceled'] < 6]\n",
    "df_train = df_train[df_train['booking_changes'] < 16]\n",
    "df_train = df_train[df_train['days_in_waiting_list'] <= 30]\n",
    "df_train.shape"
   ]
  },
  {
   "cell_type": "code",
   "execution_count": 18,
   "metadata": {},
   "outputs": [],
   "source": [
    "#закодируем порядковые переменные\n",
    "reserved_room_type_categories = ['A', 'B', 'C', 'D', 'E', 'F', 'G']\n",
    "meal_categories = ['SC', 'BB', 'HB', 'FB']\n",
    "\n",
    "encoder = OrdinalEncoder(categories=[reserved_room_type_categories, meal_categories], dtype='int')\n",
    "encoder.fit(df_train[['reserved_room_type', 'meal']])\n",
    "\n",
    "df_train[['reserved_room_type', 'meal']] = encoder.transform(df_train[['reserved_room_type', 'meal']])\n",
    "df_test[['reserved_room_type', 'meal']] = encoder.transform(df_test[['reserved_room_type', 'meal']])"
   ]
  },
  {
   "cell_type": "code",
   "execution_count": 19,
   "metadata": {},
   "outputs": [
    {
     "data": {
      "text/plain": [
       "0    0\n",
       "1    0\n",
       "2    2\n",
       "3    2\n",
       "4    0\n",
       "Name: reserved_room_type, dtype: int64"
      ]
     },
     "metadata": {},
     "output_type": "display_data"
    },
    {
     "data": {
      "text/plain": [
       "0    1\n",
       "1    1\n",
       "2    1\n",
       "3    3\n",
       "4    1\n",
       "Name: meal, dtype: int64"
      ]
     },
     "execution_count": 19,
     "metadata": {},
     "output_type": "execute_result"
    }
   ],
   "source": [
    "display(df_train['reserved_room_type'].head(5))\n",
    "df_train['meal'].head(5)"
   ]
  },
  {
   "cell_type": "code",
   "execution_count": 20,
   "metadata": {},
   "outputs": [],
   "source": [
    "df = pd.concat([df_test.assign(ind=\"test\"), df_train.assign(ind=\"train\")])\n",
    "\n",
    "df = pd.get_dummies(df, columns=['country', 'distribution_channel', 'customer_type'], drop_first=True)"
   ]
  },
  {
   "cell_type": "code",
   "execution_count": 21,
   "metadata": {},
   "outputs": [],
   "source": [
    "df_test, df_train = df[df[\"ind\"].eq(\"test\")], df[df[\"ind\"].eq(\"train\")]\n",
    "\n",
    "df_train = df_train.drop('ind', axis=1)\n",
    "df_test = df_test.drop('ind', axis=1)"
   ]
  },
  {
   "cell_type": "markdown",
   "metadata": {},
   "source": [
    "## Вывод"
   ]
  },
  {
   "cell_type": "markdown",
   "metadata": {},
   "source": [
    "На данном шаге избавились от незначащих возможных пробелов в выборках, также все необходимые столбцы были приведены к нужному типу, а столбцы типа `object` закодированы в зависимости от их типа. Далее были удалены столбцы, которых нет в том или ином датафрейме, так как клиенты из некоторых стран присутствуют только в одной из выборок."
   ]
  },
  {
   "cell_type": "markdown",
   "metadata": {},
   "source": [
    "# Формулировка ML-задачи и вычисление бизнес-метрики"
   ]
  },
  {
   "cell_type": "code",
   "execution_count": 22,
   "metadata": {},
   "outputs": [],
   "source": [
    "def compute_income(row, modified=False):\n",
    "    room_cleaning = {0: 400,\n",
    "                    1: 350,\n",
    "                    2: 350,\n",
    "                    3: 150,\n",
    "                    4: 150,\n",
    "                    5: 150,\n",
    "                    6: 150}\n",
    "    room_payment = {0: 1000,\n",
    "                    1: 800,\n",
    "                    2: 600,\n",
    "                    3: 550,\n",
    "                    4: 500,\n",
    "                    5: 450,\n",
    "                    6: 350}\n",
    "    is_canceled = row['is_canceled']\n",
    "    row['income'] = -room_cleaning[row['reserved_room_type']]\n",
    "    if modified is True and is_canceled == 1:\n",
    "        predictions = row['predictions']\n",
    "        if predictions == 1:\n",
    "            payment = room_payment[row['reserved_room_type']]\n",
    "            if 2 < row['arrival_date_month'] < 6 or  8 < row['arrival_date_month'] < 12:\n",
    "                row['income'] += payment * 1.2\n",
    "            elif 5 < row['arrival_date_month'] < 9:\n",
    "                row['income'] += payment * 1.4\n",
    "            else:\n",
    "                row['income'] += payment\n",
    "            row['income'] += (payment + room_cleaning[row['reserved_room_type']]) * 0.8\n",
    "    else:\n",
    "        if is_canceled == 0:\n",
    "            if row['total_nights'] % 2:\n",
    "                row['income'] -= room_cleaning[row['reserved_room_type']] * (row['total_nights'] // 2)\n",
    "            else:\n",
    "                row['income'] -= room_cleaning[row['reserved_room_type']] * (row['total_nights'] // 2 - 1)\n",
    "            payment = room_payment[row['reserved_room_type']] * row['total_nights']\n",
    "            if 2 < row['arrival_date_month'] < 6 or  8 < row['arrival_date_month'] < 12:\n",
    "                row['income'] += payment * 1.2\n",
    "            elif 5 < row['arrival_date_month'] < 9:\n",
    "                row['income'] += payment * 1.4\n",
    "            else:\n",
    "                row['income'] += payment\n",
    "\n",
    "    return row"
   ]
  },
  {
   "cell_type": "code",
   "execution_count": 23,
   "metadata": {
    "scrolled": false
   },
   "outputs": [],
   "source": [
    "df_train = df_train.apply(lambda row:compute_income(row, False), axis=1)\n",
    "df_test = df_test.apply(lambda row:compute_income(row, False), axis=1)"
   ]
  },
  {
   "cell_type": "code",
   "execution_count": 24,
   "metadata": {},
   "outputs": [
    {
     "name": "stdout",
     "output_type": "stream",
     "text": [
      "Прибыль отеля на тестовой выборке без внедрения депозитов:\n"
     ]
    },
    {
     "data": {
      "text/plain": [
       "49055343"
      ]
     },
     "execution_count": 24,
     "metadata": {},
     "output_type": "execute_result"
    }
   ],
   "source": [
    "without_deposit = df_test['income'].sum()\n",
    "\n",
    "print('Прибыль отеля на тестовой выборке без внедрения депозитов:')\n",
    "without_deposit"
   ]
  },
  {
   "cell_type": "markdown",
   "metadata": {},
   "source": [
    "## Вывод"
   ]
  },
  {
   "cell_type": "markdown",
   "metadata": {},
   "source": [
    "На данном шаге был разработан алгоритм подсчета прибыли или убытка, который приносит клиент, а также посчитана суммараная прибыль на тестовой выборке за 2017 год, и суммарная прибыль по обоим выборкам"
   ]
  },
  {
   "cell_type": "markdown",
   "metadata": {},
   "source": [
    "# Шаг 4. Разработка модели ML"
   ]
  },
  {
   "cell_type": "code",
   "execution_count": 25,
   "metadata": {},
   "outputs": [],
   "source": [
    "df_train = df_train.drop('income', axis=1)\n",
    "df_test = df_test.drop('income', axis=1)"
   ]
  },
  {
   "cell_type": "code",
   "execution_count": 26,
   "metadata": {},
   "outputs": [],
   "source": [
    "#отделим целевой признак от выборок\n",
    "features_train = df_train.drop('is_canceled', axis=1)\n",
    "target_train = df_train['is_canceled']\n",
    "\n",
    "features_test = df_test.drop('is_canceled', axis=1)\n",
    "target_test = df_test['is_canceled']"
   ]
  },
  {
   "cell_type": "code",
   "execution_count": 27,
   "metadata": {},
   "outputs": [
    {
     "data": {
      "text/html": [
       "<div>\n",
       "<style scoped>\n",
       "    .dataframe tbody tr th:only-of-type {\n",
       "        vertical-align: middle;\n",
       "    }\n",
       "\n",
       "    .dataframe tbody tr th {\n",
       "        vertical-align: top;\n",
       "    }\n",
       "\n",
       "    .dataframe thead th {\n",
       "        text-align: right;\n",
       "    }\n",
       "</style>\n",
       "<table border=\"1\" class=\"dataframe\">\n",
       "  <thead>\n",
       "    <tr style=\"text-align: right;\">\n",
       "      <th></th>\n",
       "      <th>lead_time</th>\n",
       "      <th>arrival_date_year</th>\n",
       "      <th>arrival_date_month</th>\n",
       "      <th>arrival_date_week_number</th>\n",
       "      <th>arrival_date_day_of_month</th>\n",
       "      <th>stays_in_weekend_nights</th>\n",
       "      <th>stays_in_week_nights</th>\n",
       "      <th>adults</th>\n",
       "      <th>children</th>\n",
       "      <th>babies</th>\n",
       "      <th>meal</th>\n",
       "      <th>is_repeated_guest</th>\n",
       "      <th>previous_cancellations</th>\n",
       "      <th>previous_bookings_not_canceled</th>\n",
       "      <th>reserved_room_type</th>\n",
       "      <th>booking_changes</th>\n",
       "      <th>days_in_waiting_list</th>\n",
       "      <th>required_car_parking_spaces</th>\n",
       "      <th>total_of_special_requests</th>\n",
       "      <th>total_nights</th>\n",
       "      <th>country_AGO</th>\n",
       "      <th>country_ALB</th>\n",
       "      <th>country_AND</th>\n",
       "      <th>country_ARE</th>\n",
       "      <th>country_ARG</th>\n",
       "      <th>country_ARM</th>\n",
       "      <th>country_ASM</th>\n",
       "      <th>country_ATA</th>\n",
       "      <th>country_ATF</th>\n",
       "      <th>country_AUS</th>\n",
       "      <th>country_AUT</th>\n",
       "      <th>country_AZE</th>\n",
       "      <th>country_BDI</th>\n",
       "      <th>country_BEL</th>\n",
       "      <th>country_BEN</th>\n",
       "      <th>country_BFA</th>\n",
       "      <th>country_BGD</th>\n",
       "      <th>country_BGR</th>\n",
       "      <th>country_BHR</th>\n",
       "      <th>country_BHS</th>\n",
       "      <th>country_BIH</th>\n",
       "      <th>country_BLR</th>\n",
       "      <th>country_BOL</th>\n",
       "      <th>country_BRA</th>\n",
       "      <th>country_BRB</th>\n",
       "      <th>country_BWA</th>\n",
       "      <th>country_CAF</th>\n",
       "      <th>country_CHE</th>\n",
       "      <th>country_CHL</th>\n",
       "      <th>country_CHN</th>\n",
       "      <th>country_CIV</th>\n",
       "      <th>country_CMR</th>\n",
       "      <th>country_CN</th>\n",
       "      <th>country_COL</th>\n",
       "      <th>country_CPV</th>\n",
       "      <th>country_CRI</th>\n",
       "      <th>country_CUB</th>\n",
       "      <th>country_CYM</th>\n",
       "      <th>country_CYP</th>\n",
       "      <th>country_CZE</th>\n",
       "      <th>country_DEU</th>\n",
       "      <th>country_DMA</th>\n",
       "      <th>country_DNK</th>\n",
       "      <th>country_DOM</th>\n",
       "      <th>country_DZA</th>\n",
       "      <th>country_ECU</th>\n",
       "      <th>country_EGY</th>\n",
       "      <th>country_ESP</th>\n",
       "      <th>country_EST</th>\n",
       "      <th>country_ETH</th>\n",
       "      <th>country_FIN</th>\n",
       "      <th>country_FJI</th>\n",
       "      <th>country_FRA</th>\n",
       "      <th>country_FRO</th>\n",
       "      <th>country_GAB</th>\n",
       "      <th>country_GBR</th>\n",
       "      <th>country_GEO</th>\n",
       "      <th>country_GGY</th>\n",
       "      <th>country_GHA</th>\n",
       "      <th>country_GIB</th>\n",
       "      <th>country_GLP</th>\n",
       "      <th>country_GNB</th>\n",
       "      <th>country_GRC</th>\n",
       "      <th>country_GTM</th>\n",
       "      <th>country_GUY</th>\n",
       "      <th>country_HKG</th>\n",
       "      <th>country_HND</th>\n",
       "      <th>country_HRV</th>\n",
       "      <th>country_HUN</th>\n",
       "      <th>country_IDN</th>\n",
       "      <th>country_IMN</th>\n",
       "      <th>country_IND</th>\n",
       "      <th>country_IRL</th>\n",
       "      <th>country_IRN</th>\n",
       "      <th>country_IRQ</th>\n",
       "      <th>country_ISL</th>\n",
       "      <th>country_ISR</th>\n",
       "      <th>country_ITA</th>\n",
       "      <th>country_JAM</th>\n",
       "      <th>country_JEY</th>\n",
       "      <th>country_JOR</th>\n",
       "      <th>country_JPN</th>\n",
       "      <th>country_KAZ</th>\n",
       "      <th>country_KEN</th>\n",
       "      <th>country_KHM</th>\n",
       "      <th>country_KIR</th>\n",
       "      <th>country_KNA</th>\n",
       "      <th>country_KOR</th>\n",
       "      <th>country_KWT</th>\n",
       "      <th>country_LAO</th>\n",
       "      <th>country_LBN</th>\n",
       "      <th>country_LBY</th>\n",
       "      <th>country_LCA</th>\n",
       "      <th>country_LIE</th>\n",
       "      <th>country_LKA</th>\n",
       "      <th>country_LTU</th>\n",
       "      <th>country_LUX</th>\n",
       "      <th>country_LVA</th>\n",
       "      <th>country_MAC</th>\n",
       "      <th>country_MAR</th>\n",
       "      <th>country_MCO</th>\n",
       "      <th>country_MDG</th>\n",
       "      <th>country_MDV</th>\n",
       "      <th>country_MEX</th>\n",
       "      <th>country_MKD</th>\n",
       "      <th>country_MLI</th>\n",
       "      <th>country_MLT</th>\n",
       "      <th>country_MMR</th>\n",
       "      <th>country_MNE</th>\n",
       "      <th>country_MOZ</th>\n",
       "      <th>country_MRT</th>\n",
       "      <th>country_MUS</th>\n",
       "      <th>country_MWI</th>\n",
       "      <th>country_MYS</th>\n",
       "      <th>country_MYT</th>\n",
       "      <th>country_NAM</th>\n",
       "      <th>country_NCL</th>\n",
       "      <th>country_NGA</th>\n",
       "      <th>country_NIC</th>\n",
       "      <th>country_NLD</th>\n",
       "      <th>country_NOR</th>\n",
       "      <th>country_NPL</th>\n",
       "      <th>country_NZL</th>\n",
       "      <th>country_OMN</th>\n",
       "      <th>country_PAK</th>\n",
       "      <th>country_PAN</th>\n",
       "      <th>country_PER</th>\n",
       "      <th>country_PHL</th>\n",
       "      <th>country_PLW</th>\n",
       "      <th>country_POL</th>\n",
       "      <th>country_PRI</th>\n",
       "      <th>country_PRT</th>\n",
       "      <th>country_PRY</th>\n",
       "      <th>country_PYF</th>\n",
       "      <th>country_QAT</th>\n",
       "      <th>country_ROU</th>\n",
       "      <th>country_RUS</th>\n",
       "      <th>country_RWA</th>\n",
       "      <th>country_SAU</th>\n",
       "      <th>country_SDN</th>\n",
       "      <th>country_SEN</th>\n",
       "      <th>country_SGP</th>\n",
       "      <th>country_SLE</th>\n",
       "      <th>country_SLV</th>\n",
       "      <th>country_SMR</th>\n",
       "      <th>country_SRB</th>\n",
       "      <th>country_STP</th>\n",
       "      <th>country_SUR</th>\n",
       "      <th>country_SVK</th>\n",
       "      <th>country_SVN</th>\n",
       "      <th>country_SWE</th>\n",
       "      <th>country_SYC</th>\n",
       "      <th>country_SYR</th>\n",
       "      <th>country_TGO</th>\n",
       "      <th>country_THA</th>\n",
       "      <th>country_TJK</th>\n",
       "      <th>country_TMP</th>\n",
       "      <th>country_TUN</th>\n",
       "      <th>country_TUR</th>\n",
       "      <th>country_TWN</th>\n",
       "      <th>country_TZA</th>\n",
       "      <th>country_UGA</th>\n",
       "      <th>country_UKR</th>\n",
       "      <th>country_UMI</th>\n",
       "      <th>country_URY</th>\n",
       "      <th>country_USA</th>\n",
       "      <th>country_UZB</th>\n",
       "      <th>country_VEN</th>\n",
       "      <th>country_VGB</th>\n",
       "      <th>country_VNM</th>\n",
       "      <th>country_ZAF</th>\n",
       "      <th>country_ZMB</th>\n",
       "      <th>country_ZWE</th>\n",
       "      <th>distribution_channel_Direct</th>\n",
       "      <th>distribution_channel_GDS</th>\n",
       "      <th>distribution_channel_TA/TO</th>\n",
       "      <th>customer_type_Group</th>\n",
       "      <th>customer_type_Transient</th>\n",
       "      <th>customer_type_Transient-Party</th>\n",
       "    </tr>\n",
       "  </thead>\n",
       "  <tbody>\n",
       "    <tr>\n",
       "      <td>0</td>\n",
       "      <td>-0.902829</td>\n",
       "      <td>-1.59055</td>\n",
       "      <td>-0.162034</td>\n",
       "      <td>-0.339304</td>\n",
       "      <td>-1.686349</td>\n",
       "      <td>-0.983662</td>\n",
       "      <td>-0.895045</td>\n",
       "      <td>-1.758561</td>\n",
       "      <td>-0.22962</td>\n",
       "      <td>-0.075091</td>\n",
       "      <td>-0.064909</td>\n",
       "      <td>-0.155785</td>\n",
       "      <td>-0.288845</td>\n",
       "      <td>-0.117606</td>\n",
       "      <td>-0.524812</td>\n",
       "      <td>-0.331568</td>\n",
       "      <td>-0.080063</td>\n",
       "      <td>-0.248662</td>\n",
       "      <td>-0.699209</td>\n",
       "      <td>-1.174475</td>\n",
       "      <td>0</td>\n",
       "      <td>0</td>\n",
       "      <td>0</td>\n",
       "      <td>0</td>\n",
       "      <td>0</td>\n",
       "      <td>0</td>\n",
       "      <td>0</td>\n",
       "      <td>0</td>\n",
       "      <td>0</td>\n",
       "      <td>0</td>\n",
       "      <td>0</td>\n",
       "      <td>0</td>\n",
       "      <td>0</td>\n",
       "      <td>0</td>\n",
       "      <td>0</td>\n",
       "      <td>0</td>\n",
       "      <td>0</td>\n",
       "      <td>0</td>\n",
       "      <td>0</td>\n",
       "      <td>0</td>\n",
       "      <td>0</td>\n",
       "      <td>0</td>\n",
       "      <td>0</td>\n",
       "      <td>0</td>\n",
       "      <td>0</td>\n",
       "      <td>0</td>\n",
       "      <td>0</td>\n",
       "      <td>0</td>\n",
       "      <td>0</td>\n",
       "      <td>0</td>\n",
       "      <td>0</td>\n",
       "      <td>0</td>\n",
       "      <td>0</td>\n",
       "      <td>0</td>\n",
       "      <td>0</td>\n",
       "      <td>0</td>\n",
       "      <td>0</td>\n",
       "      <td>0</td>\n",
       "      <td>0</td>\n",
       "      <td>0</td>\n",
       "      <td>0</td>\n",
       "      <td>0</td>\n",
       "      <td>0</td>\n",
       "      <td>0</td>\n",
       "      <td>0</td>\n",
       "      <td>0</td>\n",
       "      <td>0</td>\n",
       "      <td>0</td>\n",
       "      <td>0</td>\n",
       "      <td>0</td>\n",
       "      <td>0</td>\n",
       "      <td>0</td>\n",
       "      <td>0</td>\n",
       "      <td>0</td>\n",
       "      <td>0</td>\n",
       "      <td>1</td>\n",
       "      <td>0</td>\n",
       "      <td>0</td>\n",
       "      <td>0</td>\n",
       "      <td>0</td>\n",
       "      <td>0</td>\n",
       "      <td>0</td>\n",
       "      <td>0</td>\n",
       "      <td>0</td>\n",
       "      <td>0</td>\n",
       "      <td>0</td>\n",
       "      <td>0</td>\n",
       "      <td>0</td>\n",
       "      <td>0</td>\n",
       "      <td>0</td>\n",
       "      <td>0</td>\n",
       "      <td>0</td>\n",
       "      <td>0</td>\n",
       "      <td>0</td>\n",
       "      <td>0</td>\n",
       "      <td>0</td>\n",
       "      <td>0</td>\n",
       "      <td>0</td>\n",
       "      <td>0</td>\n",
       "      <td>0</td>\n",
       "      <td>0</td>\n",
       "      <td>0</td>\n",
       "      <td>0</td>\n",
       "      <td>0</td>\n",
       "      <td>0</td>\n",
       "      <td>0</td>\n",
       "      <td>0</td>\n",
       "      <td>0</td>\n",
       "      <td>0</td>\n",
       "      <td>0</td>\n",
       "      <td>0</td>\n",
       "      <td>0</td>\n",
       "      <td>0</td>\n",
       "      <td>0</td>\n",
       "      <td>0</td>\n",
       "      <td>0</td>\n",
       "      <td>0</td>\n",
       "      <td>0</td>\n",
       "      <td>0</td>\n",
       "      <td>0</td>\n",
       "      <td>0</td>\n",
       "      <td>0</td>\n",
       "      <td>0</td>\n",
       "      <td>0</td>\n",
       "      <td>0</td>\n",
       "      <td>0</td>\n",
       "      <td>0</td>\n",
       "      <td>0</td>\n",
       "      <td>0</td>\n",
       "      <td>0</td>\n",
       "      <td>0</td>\n",
       "      <td>0</td>\n",
       "      <td>0</td>\n",
       "      <td>0</td>\n",
       "      <td>0</td>\n",
       "      <td>0</td>\n",
       "      <td>0</td>\n",
       "      <td>0</td>\n",
       "      <td>0</td>\n",
       "      <td>0</td>\n",
       "      <td>0</td>\n",
       "      <td>0</td>\n",
       "      <td>0</td>\n",
       "      <td>0</td>\n",
       "      <td>0</td>\n",
       "      <td>0</td>\n",
       "      <td>0</td>\n",
       "      <td>0</td>\n",
       "      <td>0</td>\n",
       "      <td>0</td>\n",
       "      <td>0</td>\n",
       "      <td>0</td>\n",
       "      <td>0</td>\n",
       "      <td>0</td>\n",
       "      <td>0</td>\n",
       "      <td>0</td>\n",
       "      <td>0</td>\n",
       "      <td>0</td>\n",
       "      <td>0</td>\n",
       "      <td>0</td>\n",
       "      <td>0</td>\n",
       "      <td>0</td>\n",
       "      <td>0</td>\n",
       "      <td>0</td>\n",
       "      <td>0</td>\n",
       "      <td>0</td>\n",
       "      <td>0</td>\n",
       "      <td>0</td>\n",
       "      <td>0</td>\n",
       "      <td>0</td>\n",
       "      <td>0</td>\n",
       "      <td>0</td>\n",
       "      <td>0</td>\n",
       "      <td>0</td>\n",
       "      <td>0</td>\n",
       "      <td>0</td>\n",
       "      <td>0</td>\n",
       "      <td>0</td>\n",
       "      <td>0</td>\n",
       "      <td>0</td>\n",
       "      <td>0</td>\n",
       "      <td>0</td>\n",
       "      <td>0</td>\n",
       "      <td>0</td>\n",
       "      <td>0</td>\n",
       "      <td>0</td>\n",
       "      <td>0</td>\n",
       "      <td>0</td>\n",
       "      <td>0</td>\n",
       "      <td>0</td>\n",
       "      <td>0</td>\n",
       "      <td>0</td>\n",
       "      <td>0</td>\n",
       "      <td>1</td>\n",
       "      <td>0</td>\n",
       "      <td>0</td>\n",
       "      <td>0</td>\n",
       "      <td>1</td>\n",
       "      <td>0</td>\n",
       "    </tr>\n",
       "    <tr>\n",
       "      <td>1</td>\n",
       "      <td>-0.828971</td>\n",
       "      <td>-1.59055</td>\n",
       "      <td>-0.162034</td>\n",
       "      <td>-0.339304</td>\n",
       "      <td>-1.686349</td>\n",
       "      <td>-0.983662</td>\n",
       "      <td>-0.163283</td>\n",
       "      <td>0.326078</td>\n",
       "      <td>-0.22962</td>\n",
       "      <td>-0.075091</td>\n",
       "      <td>-0.064909</td>\n",
       "      <td>-0.155785</td>\n",
       "      <td>-0.288845</td>\n",
       "      <td>-0.117606</td>\n",
       "      <td>-0.524812</td>\n",
       "      <td>-0.331568</td>\n",
       "      <td>-0.080063</td>\n",
       "      <td>-0.248662</td>\n",
       "      <td>0.614901</td>\n",
       "      <td>-0.605782</td>\n",
       "      <td>0</td>\n",
       "      <td>0</td>\n",
       "      <td>0</td>\n",
       "      <td>0</td>\n",
       "      <td>0</td>\n",
       "      <td>0</td>\n",
       "      <td>0</td>\n",
       "      <td>0</td>\n",
       "      <td>0</td>\n",
       "      <td>0</td>\n",
       "      <td>0</td>\n",
       "      <td>0</td>\n",
       "      <td>0</td>\n",
       "      <td>0</td>\n",
       "      <td>0</td>\n",
       "      <td>0</td>\n",
       "      <td>0</td>\n",
       "      <td>0</td>\n",
       "      <td>0</td>\n",
       "      <td>0</td>\n",
       "      <td>0</td>\n",
       "      <td>0</td>\n",
       "      <td>0</td>\n",
       "      <td>0</td>\n",
       "      <td>0</td>\n",
       "      <td>0</td>\n",
       "      <td>0</td>\n",
       "      <td>0</td>\n",
       "      <td>0</td>\n",
       "      <td>0</td>\n",
       "      <td>0</td>\n",
       "      <td>0</td>\n",
       "      <td>0</td>\n",
       "      <td>0</td>\n",
       "      <td>0</td>\n",
       "      <td>0</td>\n",
       "      <td>0</td>\n",
       "      <td>0</td>\n",
       "      <td>0</td>\n",
       "      <td>0</td>\n",
       "      <td>0</td>\n",
       "      <td>0</td>\n",
       "      <td>0</td>\n",
       "      <td>0</td>\n",
       "      <td>0</td>\n",
       "      <td>0</td>\n",
       "      <td>0</td>\n",
       "      <td>0</td>\n",
       "      <td>0</td>\n",
       "      <td>0</td>\n",
       "      <td>0</td>\n",
       "      <td>0</td>\n",
       "      <td>0</td>\n",
       "      <td>0</td>\n",
       "      <td>0</td>\n",
       "      <td>1</td>\n",
       "      <td>0</td>\n",
       "      <td>0</td>\n",
       "      <td>0</td>\n",
       "      <td>0</td>\n",
       "      <td>0</td>\n",
       "      <td>0</td>\n",
       "      <td>0</td>\n",
       "      <td>0</td>\n",
       "      <td>0</td>\n",
       "      <td>0</td>\n",
       "      <td>0</td>\n",
       "      <td>0</td>\n",
       "      <td>0</td>\n",
       "      <td>0</td>\n",
       "      <td>0</td>\n",
       "      <td>0</td>\n",
       "      <td>0</td>\n",
       "      <td>0</td>\n",
       "      <td>0</td>\n",
       "      <td>0</td>\n",
       "      <td>0</td>\n",
       "      <td>0</td>\n",
       "      <td>0</td>\n",
       "      <td>0</td>\n",
       "      <td>0</td>\n",
       "      <td>0</td>\n",
       "      <td>0</td>\n",
       "      <td>0</td>\n",
       "      <td>0</td>\n",
       "      <td>0</td>\n",
       "      <td>0</td>\n",
       "      <td>0</td>\n",
       "      <td>0</td>\n",
       "      <td>0</td>\n",
       "      <td>0</td>\n",
       "      <td>0</td>\n",
       "      <td>0</td>\n",
       "      <td>0</td>\n",
       "      <td>0</td>\n",
       "      <td>0</td>\n",
       "      <td>0</td>\n",
       "      <td>0</td>\n",
       "      <td>0</td>\n",
       "      <td>0</td>\n",
       "      <td>0</td>\n",
       "      <td>0</td>\n",
       "      <td>0</td>\n",
       "      <td>0</td>\n",
       "      <td>0</td>\n",
       "      <td>0</td>\n",
       "      <td>0</td>\n",
       "      <td>0</td>\n",
       "      <td>0</td>\n",
       "      <td>0</td>\n",
       "      <td>0</td>\n",
       "      <td>0</td>\n",
       "      <td>0</td>\n",
       "      <td>0</td>\n",
       "      <td>0</td>\n",
       "      <td>0</td>\n",
       "      <td>0</td>\n",
       "      <td>0</td>\n",
       "      <td>0</td>\n",
       "      <td>0</td>\n",
       "      <td>0</td>\n",
       "      <td>0</td>\n",
       "      <td>0</td>\n",
       "      <td>0</td>\n",
       "      <td>0</td>\n",
       "      <td>0</td>\n",
       "      <td>0</td>\n",
       "      <td>0</td>\n",
       "      <td>0</td>\n",
       "      <td>0</td>\n",
       "      <td>0</td>\n",
       "      <td>0</td>\n",
       "      <td>0</td>\n",
       "      <td>0</td>\n",
       "      <td>0</td>\n",
       "      <td>0</td>\n",
       "      <td>0</td>\n",
       "      <td>0</td>\n",
       "      <td>0</td>\n",
       "      <td>0</td>\n",
       "      <td>0</td>\n",
       "      <td>0</td>\n",
       "      <td>0</td>\n",
       "      <td>0</td>\n",
       "      <td>0</td>\n",
       "      <td>0</td>\n",
       "      <td>0</td>\n",
       "      <td>0</td>\n",
       "      <td>0</td>\n",
       "      <td>0</td>\n",
       "      <td>0</td>\n",
       "      <td>0</td>\n",
       "      <td>0</td>\n",
       "      <td>0</td>\n",
       "      <td>0</td>\n",
       "      <td>0</td>\n",
       "      <td>0</td>\n",
       "      <td>0</td>\n",
       "      <td>0</td>\n",
       "      <td>0</td>\n",
       "      <td>0</td>\n",
       "      <td>0</td>\n",
       "      <td>0</td>\n",
       "      <td>0</td>\n",
       "      <td>0</td>\n",
       "      <td>0</td>\n",
       "      <td>0</td>\n",
       "      <td>0</td>\n",
       "      <td>0</td>\n",
       "      <td>0</td>\n",
       "      <td>0</td>\n",
       "      <td>0</td>\n",
       "      <td>0</td>\n",
       "      <td>0</td>\n",
       "      <td>0</td>\n",
       "      <td>1</td>\n",
       "      <td>0</td>\n",
       "      <td>1</td>\n",
       "      <td>0</td>\n",
       "    </tr>\n",
       "    <tr>\n",
       "      <td>2</td>\n",
       "      <td>-0.976687</td>\n",
       "      <td>-1.59055</td>\n",
       "      <td>-0.162034</td>\n",
       "      <td>-0.339304</td>\n",
       "      <td>-1.686349</td>\n",
       "      <td>-0.983662</td>\n",
       "      <td>-0.163283</td>\n",
       "      <td>0.326078</td>\n",
       "      <td>-0.22962</td>\n",
       "      <td>-0.075091</td>\n",
       "      <td>-0.064909</td>\n",
       "      <td>-0.155785</td>\n",
       "      <td>-0.288845</td>\n",
       "      <td>-0.117606</td>\n",
       "      <td>0.816946</td>\n",
       "      <td>-0.331568</td>\n",
       "      <td>-0.080063</td>\n",
       "      <td>-0.248662</td>\n",
       "      <td>-0.699209</td>\n",
       "      <td>-0.605782</td>\n",
       "      <td>0</td>\n",
       "      <td>0</td>\n",
       "      <td>0</td>\n",
       "      <td>0</td>\n",
       "      <td>0</td>\n",
       "      <td>0</td>\n",
       "      <td>0</td>\n",
       "      <td>0</td>\n",
       "      <td>0</td>\n",
       "      <td>0</td>\n",
       "      <td>0</td>\n",
       "      <td>0</td>\n",
       "      <td>0</td>\n",
       "      <td>0</td>\n",
       "      <td>0</td>\n",
       "      <td>0</td>\n",
       "      <td>0</td>\n",
       "      <td>0</td>\n",
       "      <td>0</td>\n",
       "      <td>0</td>\n",
       "      <td>0</td>\n",
       "      <td>0</td>\n",
       "      <td>0</td>\n",
       "      <td>0</td>\n",
       "      <td>0</td>\n",
       "      <td>0</td>\n",
       "      <td>0</td>\n",
       "      <td>0</td>\n",
       "      <td>0</td>\n",
       "      <td>0</td>\n",
       "      <td>0</td>\n",
       "      <td>0</td>\n",
       "      <td>0</td>\n",
       "      <td>0</td>\n",
       "      <td>0</td>\n",
       "      <td>0</td>\n",
       "      <td>0</td>\n",
       "      <td>0</td>\n",
       "      <td>0</td>\n",
       "      <td>0</td>\n",
       "      <td>0</td>\n",
       "      <td>0</td>\n",
       "      <td>0</td>\n",
       "      <td>0</td>\n",
       "      <td>0</td>\n",
       "      <td>0</td>\n",
       "      <td>0</td>\n",
       "      <td>0</td>\n",
       "      <td>0</td>\n",
       "      <td>0</td>\n",
       "      <td>0</td>\n",
       "      <td>0</td>\n",
       "      <td>0</td>\n",
       "      <td>0</td>\n",
       "      <td>0</td>\n",
       "      <td>0</td>\n",
       "      <td>0</td>\n",
       "      <td>0</td>\n",
       "      <td>0</td>\n",
       "      <td>0</td>\n",
       "      <td>0</td>\n",
       "      <td>0</td>\n",
       "      <td>0</td>\n",
       "      <td>0</td>\n",
       "      <td>0</td>\n",
       "      <td>0</td>\n",
       "      <td>0</td>\n",
       "      <td>0</td>\n",
       "      <td>0</td>\n",
       "      <td>0</td>\n",
       "      <td>0</td>\n",
       "      <td>0</td>\n",
       "      <td>0</td>\n",
       "      <td>0</td>\n",
       "      <td>0</td>\n",
       "      <td>0</td>\n",
       "      <td>0</td>\n",
       "      <td>0</td>\n",
       "      <td>0</td>\n",
       "      <td>0</td>\n",
       "      <td>0</td>\n",
       "      <td>0</td>\n",
       "      <td>0</td>\n",
       "      <td>0</td>\n",
       "      <td>0</td>\n",
       "      <td>0</td>\n",
       "      <td>0</td>\n",
       "      <td>0</td>\n",
       "      <td>0</td>\n",
       "      <td>0</td>\n",
       "      <td>0</td>\n",
       "      <td>0</td>\n",
       "      <td>0</td>\n",
       "      <td>0</td>\n",
       "      <td>0</td>\n",
       "      <td>0</td>\n",
       "      <td>0</td>\n",
       "      <td>0</td>\n",
       "      <td>0</td>\n",
       "      <td>0</td>\n",
       "      <td>0</td>\n",
       "      <td>0</td>\n",
       "      <td>0</td>\n",
       "      <td>0</td>\n",
       "      <td>0</td>\n",
       "      <td>0</td>\n",
       "      <td>0</td>\n",
       "      <td>0</td>\n",
       "      <td>0</td>\n",
       "      <td>0</td>\n",
       "      <td>0</td>\n",
       "      <td>0</td>\n",
       "      <td>0</td>\n",
       "      <td>0</td>\n",
       "      <td>0</td>\n",
       "      <td>0</td>\n",
       "      <td>0</td>\n",
       "      <td>0</td>\n",
       "      <td>0</td>\n",
       "      <td>0</td>\n",
       "      <td>0</td>\n",
       "      <td>0</td>\n",
       "      <td>0</td>\n",
       "      <td>0</td>\n",
       "      <td>0</td>\n",
       "      <td>0</td>\n",
       "      <td>0</td>\n",
       "      <td>0</td>\n",
       "      <td>0</td>\n",
       "      <td>0</td>\n",
       "      <td>0</td>\n",
       "      <td>1</td>\n",
       "      <td>0</td>\n",
       "      <td>0</td>\n",
       "      <td>0</td>\n",
       "      <td>0</td>\n",
       "      <td>0</td>\n",
       "      <td>0</td>\n",
       "      <td>0</td>\n",
       "      <td>0</td>\n",
       "      <td>0</td>\n",
       "      <td>0</td>\n",
       "      <td>0</td>\n",
       "      <td>0</td>\n",
       "      <td>0</td>\n",
       "      <td>0</td>\n",
       "      <td>0</td>\n",
       "      <td>0</td>\n",
       "      <td>0</td>\n",
       "      <td>0</td>\n",
       "      <td>0</td>\n",
       "      <td>0</td>\n",
       "      <td>0</td>\n",
       "      <td>0</td>\n",
       "      <td>0</td>\n",
       "      <td>0</td>\n",
       "      <td>0</td>\n",
       "      <td>0</td>\n",
       "      <td>0</td>\n",
       "      <td>0</td>\n",
       "      <td>0</td>\n",
       "      <td>0</td>\n",
       "      <td>0</td>\n",
       "      <td>0</td>\n",
       "      <td>0</td>\n",
       "      <td>0</td>\n",
       "      <td>0</td>\n",
       "      <td>0</td>\n",
       "      <td>0</td>\n",
       "      <td>0</td>\n",
       "      <td>0</td>\n",
       "      <td>0</td>\n",
       "      <td>0</td>\n",
       "      <td>1</td>\n",
       "      <td>0</td>\n",
       "      <td>0</td>\n",
       "      <td>0</td>\n",
       "      <td>1</td>\n",
       "      <td>0</td>\n",
       "    </tr>\n",
       "    <tr>\n",
       "      <td>3</td>\n",
       "      <td>-0.881727</td>\n",
       "      <td>-1.59055</td>\n",
       "      <td>-0.162034</td>\n",
       "      <td>-0.339304</td>\n",
       "      <td>-1.686349</td>\n",
       "      <td>-0.983662</td>\n",
       "      <td>-0.163283</td>\n",
       "      <td>0.326078</td>\n",
       "      <td>-0.22962</td>\n",
       "      <td>-0.075091</td>\n",
       "      <td>4.124008</td>\n",
       "      <td>-0.155785</td>\n",
       "      <td>-0.288845</td>\n",
       "      <td>-0.117606</td>\n",
       "      <td>0.816946</td>\n",
       "      <td>-0.331568</td>\n",
       "      <td>-0.080063</td>\n",
       "      <td>-0.248662</td>\n",
       "      <td>0.614901</td>\n",
       "      <td>-0.605782</td>\n",
       "      <td>0</td>\n",
       "      <td>0</td>\n",
       "      <td>0</td>\n",
       "      <td>0</td>\n",
       "      <td>0</td>\n",
       "      <td>0</td>\n",
       "      <td>0</td>\n",
       "      <td>0</td>\n",
       "      <td>0</td>\n",
       "      <td>0</td>\n",
       "      <td>0</td>\n",
       "      <td>0</td>\n",
       "      <td>0</td>\n",
       "      <td>0</td>\n",
       "      <td>0</td>\n",
       "      <td>0</td>\n",
       "      <td>0</td>\n",
       "      <td>0</td>\n",
       "      <td>0</td>\n",
       "      <td>0</td>\n",
       "      <td>0</td>\n",
       "      <td>0</td>\n",
       "      <td>0</td>\n",
       "      <td>0</td>\n",
       "      <td>0</td>\n",
       "      <td>0</td>\n",
       "      <td>0</td>\n",
       "      <td>0</td>\n",
       "      <td>0</td>\n",
       "      <td>0</td>\n",
       "      <td>0</td>\n",
       "      <td>0</td>\n",
       "      <td>0</td>\n",
       "      <td>0</td>\n",
       "      <td>0</td>\n",
       "      <td>0</td>\n",
       "      <td>0</td>\n",
       "      <td>0</td>\n",
       "      <td>0</td>\n",
       "      <td>0</td>\n",
       "      <td>0</td>\n",
       "      <td>0</td>\n",
       "      <td>0</td>\n",
       "      <td>0</td>\n",
       "      <td>0</td>\n",
       "      <td>0</td>\n",
       "      <td>0</td>\n",
       "      <td>0</td>\n",
       "      <td>0</td>\n",
       "      <td>0</td>\n",
       "      <td>0</td>\n",
       "      <td>0</td>\n",
       "      <td>0</td>\n",
       "      <td>0</td>\n",
       "      <td>0</td>\n",
       "      <td>0</td>\n",
       "      <td>0</td>\n",
       "      <td>0</td>\n",
       "      <td>0</td>\n",
       "      <td>0</td>\n",
       "      <td>0</td>\n",
       "      <td>0</td>\n",
       "      <td>0</td>\n",
       "      <td>0</td>\n",
       "      <td>0</td>\n",
       "      <td>0</td>\n",
       "      <td>0</td>\n",
       "      <td>0</td>\n",
       "      <td>0</td>\n",
       "      <td>0</td>\n",
       "      <td>0</td>\n",
       "      <td>0</td>\n",
       "      <td>0</td>\n",
       "      <td>0</td>\n",
       "      <td>0</td>\n",
       "      <td>0</td>\n",
       "      <td>0</td>\n",
       "      <td>0</td>\n",
       "      <td>0</td>\n",
       "      <td>0</td>\n",
       "      <td>0</td>\n",
       "      <td>0</td>\n",
       "      <td>0</td>\n",
       "      <td>0</td>\n",
       "      <td>0</td>\n",
       "      <td>0</td>\n",
       "      <td>0</td>\n",
       "      <td>0</td>\n",
       "      <td>0</td>\n",
       "      <td>0</td>\n",
       "      <td>0</td>\n",
       "      <td>0</td>\n",
       "      <td>0</td>\n",
       "      <td>0</td>\n",
       "      <td>0</td>\n",
       "      <td>0</td>\n",
       "      <td>0</td>\n",
       "      <td>0</td>\n",
       "      <td>0</td>\n",
       "      <td>0</td>\n",
       "      <td>0</td>\n",
       "      <td>0</td>\n",
       "      <td>0</td>\n",
       "      <td>0</td>\n",
       "      <td>0</td>\n",
       "      <td>0</td>\n",
       "      <td>0</td>\n",
       "      <td>0</td>\n",
       "      <td>0</td>\n",
       "      <td>0</td>\n",
       "      <td>0</td>\n",
       "      <td>0</td>\n",
       "      <td>0</td>\n",
       "      <td>0</td>\n",
       "      <td>0</td>\n",
       "      <td>0</td>\n",
       "      <td>0</td>\n",
       "      <td>0</td>\n",
       "      <td>0</td>\n",
       "      <td>0</td>\n",
       "      <td>0</td>\n",
       "      <td>0</td>\n",
       "      <td>0</td>\n",
       "      <td>0</td>\n",
       "      <td>0</td>\n",
       "      <td>0</td>\n",
       "      <td>0</td>\n",
       "      <td>0</td>\n",
       "      <td>0</td>\n",
       "      <td>0</td>\n",
       "      <td>0</td>\n",
       "      <td>1</td>\n",
       "      <td>0</td>\n",
       "      <td>0</td>\n",
       "      <td>0</td>\n",
       "      <td>0</td>\n",
       "      <td>0</td>\n",
       "      <td>0</td>\n",
       "      <td>0</td>\n",
       "      <td>0</td>\n",
       "      <td>0</td>\n",
       "      <td>0</td>\n",
       "      <td>0</td>\n",
       "      <td>0</td>\n",
       "      <td>0</td>\n",
       "      <td>0</td>\n",
       "      <td>0</td>\n",
       "      <td>0</td>\n",
       "      <td>0</td>\n",
       "      <td>0</td>\n",
       "      <td>0</td>\n",
       "      <td>0</td>\n",
       "      <td>0</td>\n",
       "      <td>0</td>\n",
       "      <td>0</td>\n",
       "      <td>0</td>\n",
       "      <td>0</td>\n",
       "      <td>0</td>\n",
       "      <td>0</td>\n",
       "      <td>0</td>\n",
       "      <td>0</td>\n",
       "      <td>0</td>\n",
       "      <td>0</td>\n",
       "      <td>0</td>\n",
       "      <td>0</td>\n",
       "      <td>0</td>\n",
       "      <td>0</td>\n",
       "      <td>0</td>\n",
       "      <td>0</td>\n",
       "      <td>0</td>\n",
       "      <td>0</td>\n",
       "      <td>0</td>\n",
       "      <td>0</td>\n",
       "      <td>1</td>\n",
       "      <td>0</td>\n",
       "      <td>0</td>\n",
       "      <td>0</td>\n",
       "      <td>1</td>\n",
       "      <td>0</td>\n",
       "    </tr>\n",
       "    <tr>\n",
       "      <td>4</td>\n",
       "      <td>-0.079844</td>\n",
       "      <td>-1.59055</td>\n",
       "      <td>-0.162034</td>\n",
       "      <td>-0.339304</td>\n",
       "      <td>-1.686349</td>\n",
       "      <td>-0.983662</td>\n",
       "      <td>0.568479</td>\n",
       "      <td>0.326078</td>\n",
       "      <td>-0.22962</td>\n",
       "      <td>-0.075091</td>\n",
       "      <td>-0.064909</td>\n",
       "      <td>-0.155785</td>\n",
       "      <td>-0.288845</td>\n",
       "      <td>-0.117606</td>\n",
       "      <td>-0.524812</td>\n",
       "      <td>-0.331568</td>\n",
       "      <td>-0.080063</td>\n",
       "      <td>-0.248662</td>\n",
       "      <td>0.614901</td>\n",
       "      <td>-0.037090</td>\n",
       "      <td>0</td>\n",
       "      <td>0</td>\n",
       "      <td>0</td>\n",
       "      <td>0</td>\n",
       "      <td>0</td>\n",
       "      <td>0</td>\n",
       "      <td>0</td>\n",
       "      <td>0</td>\n",
       "      <td>0</td>\n",
       "      <td>0</td>\n",
       "      <td>0</td>\n",
       "      <td>0</td>\n",
       "      <td>0</td>\n",
       "      <td>0</td>\n",
       "      <td>0</td>\n",
       "      <td>0</td>\n",
       "      <td>0</td>\n",
       "      <td>0</td>\n",
       "      <td>0</td>\n",
       "      <td>0</td>\n",
       "      <td>0</td>\n",
       "      <td>0</td>\n",
       "      <td>0</td>\n",
       "      <td>0</td>\n",
       "      <td>0</td>\n",
       "      <td>0</td>\n",
       "      <td>0</td>\n",
       "      <td>0</td>\n",
       "      <td>0</td>\n",
       "      <td>0</td>\n",
       "      <td>0</td>\n",
       "      <td>0</td>\n",
       "      <td>0</td>\n",
       "      <td>0</td>\n",
       "      <td>0</td>\n",
       "      <td>0</td>\n",
       "      <td>0</td>\n",
       "      <td>0</td>\n",
       "      <td>0</td>\n",
       "      <td>0</td>\n",
       "      <td>0</td>\n",
       "      <td>0</td>\n",
       "      <td>0</td>\n",
       "      <td>0</td>\n",
       "      <td>0</td>\n",
       "      <td>0</td>\n",
       "      <td>0</td>\n",
       "      <td>0</td>\n",
       "      <td>0</td>\n",
       "      <td>0</td>\n",
       "      <td>0</td>\n",
       "      <td>0</td>\n",
       "      <td>0</td>\n",
       "      <td>0</td>\n",
       "      <td>0</td>\n",
       "      <td>0</td>\n",
       "      <td>0</td>\n",
       "      <td>0</td>\n",
       "      <td>0</td>\n",
       "      <td>0</td>\n",
       "      <td>0</td>\n",
       "      <td>0</td>\n",
       "      <td>0</td>\n",
       "      <td>0</td>\n",
       "      <td>0</td>\n",
       "      <td>0</td>\n",
       "      <td>0</td>\n",
       "      <td>0</td>\n",
       "      <td>0</td>\n",
       "      <td>0</td>\n",
       "      <td>0</td>\n",
       "      <td>0</td>\n",
       "      <td>0</td>\n",
       "      <td>0</td>\n",
       "      <td>0</td>\n",
       "      <td>0</td>\n",
       "      <td>0</td>\n",
       "      <td>0</td>\n",
       "      <td>0</td>\n",
       "      <td>0</td>\n",
       "      <td>0</td>\n",
       "      <td>0</td>\n",
       "      <td>0</td>\n",
       "      <td>0</td>\n",
       "      <td>0</td>\n",
       "      <td>0</td>\n",
       "      <td>0</td>\n",
       "      <td>0</td>\n",
       "      <td>0</td>\n",
       "      <td>0</td>\n",
       "      <td>0</td>\n",
       "      <td>0</td>\n",
       "      <td>0</td>\n",
       "      <td>0</td>\n",
       "      <td>0</td>\n",
       "      <td>0</td>\n",
       "      <td>0</td>\n",
       "      <td>0</td>\n",
       "      <td>0</td>\n",
       "      <td>0</td>\n",
       "      <td>0</td>\n",
       "      <td>0</td>\n",
       "      <td>0</td>\n",
       "      <td>0</td>\n",
       "      <td>0</td>\n",
       "      <td>0</td>\n",
       "      <td>0</td>\n",
       "      <td>0</td>\n",
       "      <td>0</td>\n",
       "      <td>0</td>\n",
       "      <td>0</td>\n",
       "      <td>0</td>\n",
       "      <td>0</td>\n",
       "      <td>0</td>\n",
       "      <td>0</td>\n",
       "      <td>0</td>\n",
       "      <td>0</td>\n",
       "      <td>0</td>\n",
       "      <td>0</td>\n",
       "      <td>0</td>\n",
       "      <td>0</td>\n",
       "      <td>0</td>\n",
       "      <td>0</td>\n",
       "      <td>0</td>\n",
       "      <td>0</td>\n",
       "      <td>0</td>\n",
       "      <td>0</td>\n",
       "      <td>0</td>\n",
       "      <td>0</td>\n",
       "      <td>0</td>\n",
       "      <td>0</td>\n",
       "      <td>1</td>\n",
       "      <td>0</td>\n",
       "      <td>0</td>\n",
       "      <td>0</td>\n",
       "      <td>0</td>\n",
       "      <td>0</td>\n",
       "      <td>0</td>\n",
       "      <td>0</td>\n",
       "      <td>0</td>\n",
       "      <td>0</td>\n",
       "      <td>0</td>\n",
       "      <td>0</td>\n",
       "      <td>0</td>\n",
       "      <td>0</td>\n",
       "      <td>0</td>\n",
       "      <td>0</td>\n",
       "      <td>0</td>\n",
       "      <td>0</td>\n",
       "      <td>0</td>\n",
       "      <td>0</td>\n",
       "      <td>0</td>\n",
       "      <td>0</td>\n",
       "      <td>0</td>\n",
       "      <td>0</td>\n",
       "      <td>0</td>\n",
       "      <td>0</td>\n",
       "      <td>0</td>\n",
       "      <td>0</td>\n",
       "      <td>0</td>\n",
       "      <td>0</td>\n",
       "      <td>0</td>\n",
       "      <td>0</td>\n",
       "      <td>0</td>\n",
       "      <td>0</td>\n",
       "      <td>0</td>\n",
       "      <td>0</td>\n",
       "      <td>0</td>\n",
       "      <td>0</td>\n",
       "      <td>0</td>\n",
       "      <td>0</td>\n",
       "      <td>0</td>\n",
       "      <td>0</td>\n",
       "      <td>0</td>\n",
       "      <td>0</td>\n",
       "      <td>1</td>\n",
       "      <td>0</td>\n",
       "      <td>1</td>\n",
       "      <td>0</td>\n",
       "    </tr>\n",
       "  </tbody>\n",
       "</table>\n",
       "</div>"
      ],
      "text/plain": [
       "   lead_time  arrival_date_year  arrival_date_month  arrival_date_week_number  \\\n",
       "0  -0.902829           -1.59055           -0.162034                 -0.339304   \n",
       "1  -0.828971           -1.59055           -0.162034                 -0.339304   \n",
       "2  -0.976687           -1.59055           -0.162034                 -0.339304   \n",
       "3  -0.881727           -1.59055           -0.162034                 -0.339304   \n",
       "4  -0.079844           -1.59055           -0.162034                 -0.339304   \n",
       "\n",
       "   arrival_date_day_of_month  stays_in_weekend_nights  stays_in_week_nights  \\\n",
       "0                  -1.686349                -0.983662             -0.895045   \n",
       "1                  -1.686349                -0.983662             -0.163283   \n",
       "2                  -1.686349                -0.983662             -0.163283   \n",
       "3                  -1.686349                -0.983662             -0.163283   \n",
       "4                  -1.686349                -0.983662              0.568479   \n",
       "\n",
       "     adults  children    babies      meal  is_repeated_guest  \\\n",
       "0 -1.758561  -0.22962 -0.075091 -0.064909          -0.155785   \n",
       "1  0.326078  -0.22962 -0.075091 -0.064909          -0.155785   \n",
       "2  0.326078  -0.22962 -0.075091 -0.064909          -0.155785   \n",
       "3  0.326078  -0.22962 -0.075091  4.124008          -0.155785   \n",
       "4  0.326078  -0.22962 -0.075091 -0.064909          -0.155785   \n",
       "\n",
       "   previous_cancellations  previous_bookings_not_canceled  reserved_room_type  \\\n",
       "0               -0.288845                       -0.117606           -0.524812   \n",
       "1               -0.288845                       -0.117606           -0.524812   \n",
       "2               -0.288845                       -0.117606            0.816946   \n",
       "3               -0.288845                       -0.117606            0.816946   \n",
       "4               -0.288845                       -0.117606           -0.524812   \n",
       "\n",
       "   booking_changes  days_in_waiting_list  required_car_parking_spaces  \\\n",
       "0        -0.331568             -0.080063                    -0.248662   \n",
       "1        -0.331568             -0.080063                    -0.248662   \n",
       "2        -0.331568             -0.080063                    -0.248662   \n",
       "3        -0.331568             -0.080063                    -0.248662   \n",
       "4        -0.331568             -0.080063                    -0.248662   \n",
       "\n",
       "   total_of_special_requests  total_nights  country_AGO  country_ALB  \\\n",
       "0                  -0.699209     -1.174475            0            0   \n",
       "1                   0.614901     -0.605782            0            0   \n",
       "2                  -0.699209     -0.605782            0            0   \n",
       "3                   0.614901     -0.605782            0            0   \n",
       "4                   0.614901     -0.037090            0            0   \n",
       "\n",
       "   country_AND  country_ARE  country_ARG  country_ARM  country_ASM  \\\n",
       "0            0            0            0            0            0   \n",
       "1            0            0            0            0            0   \n",
       "2            0            0            0            0            0   \n",
       "3            0            0            0            0            0   \n",
       "4            0            0            0            0            0   \n",
       "\n",
       "   country_ATA  country_ATF  country_AUS  country_AUT  country_AZE  \\\n",
       "0            0            0            0            0            0   \n",
       "1            0            0            0            0            0   \n",
       "2            0            0            0            0            0   \n",
       "3            0            0            0            0            0   \n",
       "4            0            0            0            0            0   \n",
       "\n",
       "   country_BDI  country_BEL  country_BEN  country_BFA  country_BGD  \\\n",
       "0            0            0            0            0            0   \n",
       "1            0            0            0            0            0   \n",
       "2            0            0            0            0            0   \n",
       "3            0            0            0            0            0   \n",
       "4            0            0            0            0            0   \n",
       "\n",
       "   country_BGR  country_BHR  country_BHS  country_BIH  country_BLR  \\\n",
       "0            0            0            0            0            0   \n",
       "1            0            0            0            0            0   \n",
       "2            0            0            0            0            0   \n",
       "3            0            0            0            0            0   \n",
       "4            0            0            0            0            0   \n",
       "\n",
       "   country_BOL  country_BRA  country_BRB  country_BWA  country_CAF  \\\n",
       "0            0            0            0            0            0   \n",
       "1            0            0            0            0            0   \n",
       "2            0            0            0            0            0   \n",
       "3            0            0            0            0            0   \n",
       "4            0            0            0            0            0   \n",
       "\n",
       "   country_CHE  country_CHL  country_CHN  country_CIV  country_CMR  \\\n",
       "0            0            0            0            0            0   \n",
       "1            0            0            0            0            0   \n",
       "2            0            0            0            0            0   \n",
       "3            0            0            0            0            0   \n",
       "4            0            0            0            0            0   \n",
       "\n",
       "   country_CN  country_COL  country_CPV  country_CRI  country_CUB  \\\n",
       "0           0            0            0            0            0   \n",
       "1           0            0            0            0            0   \n",
       "2           0            0            0            0            0   \n",
       "3           0            0            0            0            0   \n",
       "4           0            0            0            0            0   \n",
       "\n",
       "   country_CYM  country_CYP  country_CZE  country_DEU  country_DMA  \\\n",
       "0            0            0            0            0            0   \n",
       "1            0            0            0            0            0   \n",
       "2            0            0            0            0            0   \n",
       "3            0            0            0            0            0   \n",
       "4            0            0            0            0            0   \n",
       "\n",
       "   country_DNK  country_DOM  country_DZA  country_ECU  country_EGY  \\\n",
       "0            0            0            0            0            0   \n",
       "1            0            0            0            0            0   \n",
       "2            0            0            0            0            0   \n",
       "3            0            0            0            0            0   \n",
       "4            0            0            0            0            0   \n",
       "\n",
       "   country_ESP  country_EST  country_ETH  country_FIN  country_FJI  \\\n",
       "0            0            0            0            0            0   \n",
       "1            0            0            0            0            0   \n",
       "2            0            0            0            0            0   \n",
       "3            0            0            0            0            0   \n",
       "4            0            0            0            0            0   \n",
       "\n",
       "   country_FRA  country_FRO  country_GAB  country_GBR  country_GEO  \\\n",
       "0            0            0            0            1            0   \n",
       "1            0            0            0            1            0   \n",
       "2            0            0            0            0            0   \n",
       "3            0            0            0            0            0   \n",
       "4            0            0            0            0            0   \n",
       "\n",
       "   country_GGY  country_GHA  country_GIB  country_GLP  country_GNB  \\\n",
       "0            0            0            0            0            0   \n",
       "1            0            0            0            0            0   \n",
       "2            0            0            0            0            0   \n",
       "3            0            0            0            0            0   \n",
       "4            0            0            0            0            0   \n",
       "\n",
       "   country_GRC  country_GTM  country_GUY  country_HKG  country_HND  \\\n",
       "0            0            0            0            0            0   \n",
       "1            0            0            0            0            0   \n",
       "2            0            0            0            0            0   \n",
       "3            0            0            0            0            0   \n",
       "4            0            0            0            0            0   \n",
       "\n",
       "   country_HRV  country_HUN  country_IDN  country_IMN  country_IND  \\\n",
       "0            0            0            0            0            0   \n",
       "1            0            0            0            0            0   \n",
       "2            0            0            0            0            0   \n",
       "3            0            0            0            0            0   \n",
       "4            0            0            0            0            0   \n",
       "\n",
       "   country_IRL  country_IRN  country_IRQ  country_ISL  country_ISR  \\\n",
       "0            0            0            0            0            0   \n",
       "1            0            0            0            0            0   \n",
       "2            0            0            0            0            0   \n",
       "3            0            0            0            0            0   \n",
       "4            0            0            0            0            0   \n",
       "\n",
       "   country_ITA  country_JAM  country_JEY  country_JOR  country_JPN  \\\n",
       "0            0            0            0            0            0   \n",
       "1            0            0            0            0            0   \n",
       "2            0            0            0            0            0   \n",
       "3            0            0            0            0            0   \n",
       "4            0            0            0            0            0   \n",
       "\n",
       "   country_KAZ  country_KEN  country_KHM  country_KIR  country_KNA  \\\n",
       "0            0            0            0            0            0   \n",
       "1            0            0            0            0            0   \n",
       "2            0            0            0            0            0   \n",
       "3            0            0            0            0            0   \n",
       "4            0            0            0            0            0   \n",
       "\n",
       "   country_KOR  country_KWT  country_LAO  country_LBN  country_LBY  \\\n",
       "0            0            0            0            0            0   \n",
       "1            0            0            0            0            0   \n",
       "2            0            0            0            0            0   \n",
       "3            0            0            0            0            0   \n",
       "4            0            0            0            0            0   \n",
       "\n",
       "   country_LCA  country_LIE  country_LKA  country_LTU  country_LUX  \\\n",
       "0            0            0            0            0            0   \n",
       "1            0            0            0            0            0   \n",
       "2            0            0            0            0            0   \n",
       "3            0            0            0            0            0   \n",
       "4            0            0            0            0            0   \n",
       "\n",
       "   country_LVA  country_MAC  country_MAR  country_MCO  country_MDG  \\\n",
       "0            0            0            0            0            0   \n",
       "1            0            0            0            0            0   \n",
       "2            0            0            0            0            0   \n",
       "3            0            0            0            0            0   \n",
       "4            0            0            0            0            0   \n",
       "\n",
       "   country_MDV  country_MEX  country_MKD  country_MLI  country_MLT  \\\n",
       "0            0            0            0            0            0   \n",
       "1            0            0            0            0            0   \n",
       "2            0            0            0            0            0   \n",
       "3            0            0            0            0            0   \n",
       "4            0            0            0            0            0   \n",
       "\n",
       "   country_MMR  country_MNE  country_MOZ  country_MRT  country_MUS  \\\n",
       "0            0            0            0            0            0   \n",
       "1            0            0            0            0            0   \n",
       "2            0            0            0            0            0   \n",
       "3            0            0            0            0            0   \n",
       "4            0            0            0            0            0   \n",
       "\n",
       "   country_MWI  country_MYS  country_MYT  country_NAM  country_NCL  \\\n",
       "0            0            0            0            0            0   \n",
       "1            0            0            0            0            0   \n",
       "2            0            0            0            0            0   \n",
       "3            0            0            0            0            0   \n",
       "4            0            0            0            0            0   \n",
       "\n",
       "   country_NGA  country_NIC  country_NLD  country_NOR  country_NPL  \\\n",
       "0            0            0            0            0            0   \n",
       "1            0            0            0            0            0   \n",
       "2            0            0            0            0            0   \n",
       "3            0            0            0            0            0   \n",
       "4            0            0            0            0            0   \n",
       "\n",
       "   country_NZL  country_OMN  country_PAK  country_PAN  country_PER  \\\n",
       "0            0            0            0            0            0   \n",
       "1            0            0            0            0            0   \n",
       "2            0            0            0            0            0   \n",
       "3            0            0            0            0            0   \n",
       "4            0            0            0            0            0   \n",
       "\n",
       "   country_PHL  country_PLW  country_POL  country_PRI  country_PRT  \\\n",
       "0            0            0            0            0            0   \n",
       "1            0            0            0            0            0   \n",
       "2            0            0            0            0            1   \n",
       "3            0            0            0            0            1   \n",
       "4            0            0            0            0            1   \n",
       "\n",
       "   country_PRY  country_PYF  country_QAT  country_ROU  country_RUS  \\\n",
       "0            0            0            0            0            0   \n",
       "1            0            0            0            0            0   \n",
       "2            0            0            0            0            0   \n",
       "3            0            0            0            0            0   \n",
       "4            0            0            0            0            0   \n",
       "\n",
       "   country_RWA  country_SAU  country_SDN  country_SEN  country_SGP  \\\n",
       "0            0            0            0            0            0   \n",
       "1            0            0            0            0            0   \n",
       "2            0            0            0            0            0   \n",
       "3            0            0            0            0            0   \n",
       "4            0            0            0            0            0   \n",
       "\n",
       "   country_SLE  country_SLV  country_SMR  country_SRB  country_STP  \\\n",
       "0            0            0            0            0            0   \n",
       "1            0            0            0            0            0   \n",
       "2            0            0            0            0            0   \n",
       "3            0            0            0            0            0   \n",
       "4            0            0            0            0            0   \n",
       "\n",
       "   country_SUR  country_SVK  country_SVN  country_SWE  country_SYC  \\\n",
       "0            0            0            0            0            0   \n",
       "1            0            0            0            0            0   \n",
       "2            0            0            0            0            0   \n",
       "3            0            0            0            0            0   \n",
       "4            0            0            0            0            0   \n",
       "\n",
       "   country_SYR  country_TGO  country_THA  country_TJK  country_TMP  \\\n",
       "0            0            0            0            0            0   \n",
       "1            0            0            0            0            0   \n",
       "2            0            0            0            0            0   \n",
       "3            0            0            0            0            0   \n",
       "4            0            0            0            0            0   \n",
       "\n",
       "   country_TUN  country_TUR  country_TWN  country_TZA  country_UGA  \\\n",
       "0            0            0            0            0            0   \n",
       "1            0            0            0            0            0   \n",
       "2            0            0            0            0            0   \n",
       "3            0            0            0            0            0   \n",
       "4            0            0            0            0            0   \n",
       "\n",
       "   country_UKR  country_UMI  country_URY  country_USA  country_UZB  \\\n",
       "0            0            0            0            0            0   \n",
       "1            0            0            0            0            0   \n",
       "2            0            0            0            0            0   \n",
       "3            0            0            0            0            0   \n",
       "4            0            0            0            0            0   \n",
       "\n",
       "   country_VEN  country_VGB  country_VNM  country_ZAF  country_ZMB  \\\n",
       "0            0            0            0            0            0   \n",
       "1            0            0            0            0            0   \n",
       "2            0            0            0            0            0   \n",
       "3            0            0            0            0            0   \n",
       "4            0            0            0            0            0   \n",
       "\n",
       "   country_ZWE  distribution_channel_Direct  distribution_channel_GDS  \\\n",
       "0            0                            1                         0   \n",
       "1            0                            0                         0   \n",
       "2            0                            1                         0   \n",
       "3            0                            1                         0   \n",
       "4            0                            0                         0   \n",
       "\n",
       "   distribution_channel_TA/TO  customer_type_Group  customer_type_Transient  \\\n",
       "0                           0                    0                        1   \n",
       "1                           1                    0                        1   \n",
       "2                           0                    0                        1   \n",
       "3                           0                    0                        1   \n",
       "4                           1                    0                        1   \n",
       "\n",
       "   customer_type_Transient-Party  \n",
       "0                              0  \n",
       "1                              0  \n",
       "2                              0  \n",
       "3                              0  \n",
       "4                              0  "
      ]
     },
     "execution_count": 27,
     "metadata": {},
     "output_type": "execute_result"
    }
   ],
   "source": [
    "#масштабируем признаки с помощью StandartScaler\n",
    "scale_cols = ['lead_time',\n",
    "             'arrival_date_year',\n",
    "             'arrival_date_month',\n",
    "             'arrival_date_week_number',\n",
    "             'arrival_date_day_of_month',\n",
    "             'stays_in_weekend_nights',\n",
    "             'stays_in_week_nights',\n",
    "             'adults',\n",
    "             'children',\n",
    "             'babies',\n",
    "             'meal',\n",
    "             'is_repeated_guest',\n",
    "             'previous_cancellations',\n",
    "             'previous_bookings_not_canceled',\n",
    "             'reserved_room_type',\n",
    "             'booking_changes',\n",
    "             'days_in_waiting_list',\n",
    "             'required_car_parking_spaces',\n",
    "             'total_of_special_requests',\n",
    "             'total_nights']\n",
    "\n",
    "ohe_train = features_train.drop(scale_cols, axis=1)\n",
    "ohe_test = features_test.drop(scale_cols, axis=1)\n",
    "\n",
    "\n",
    "scaler = StandardScaler()\n",
    "scaler.fit(features_train[scale_cols])\n",
    "features_train_scaled = pd.DataFrame(scaler.transform(features_train[scale_cols]),\n",
    "                                     index=features_train[scale_cols].index,\n",
    "                                     columns=features_train[scale_cols].columns)\n",
    "\n",
    "features_train_scaled = features_train_scaled.join(ohe_train)\n",
    "features_train_scaled.head()"
   ]
  },
  {
   "cell_type": "code",
   "execution_count": 28,
   "metadata": {},
   "outputs": [
    {
     "data": {
      "text/html": [
       "<div>\n",
       "<style scoped>\n",
       "    .dataframe tbody tr th:only-of-type {\n",
       "        vertical-align: middle;\n",
       "    }\n",
       "\n",
       "    .dataframe tbody tr th {\n",
       "        vertical-align: top;\n",
       "    }\n",
       "\n",
       "    .dataframe thead th {\n",
       "        text-align: right;\n",
       "    }\n",
       "</style>\n",
       "<table border=\"1\" class=\"dataframe\">\n",
       "  <thead>\n",
       "    <tr style=\"text-align: right;\">\n",
       "      <th></th>\n",
       "      <th>lead_time</th>\n",
       "      <th>arrival_date_year</th>\n",
       "      <th>arrival_date_month</th>\n",
       "      <th>arrival_date_week_number</th>\n",
       "      <th>arrival_date_day_of_month</th>\n",
       "      <th>stays_in_weekend_nights</th>\n",
       "      <th>stays_in_week_nights</th>\n",
       "      <th>adults</th>\n",
       "      <th>children</th>\n",
       "      <th>babies</th>\n",
       "      <th>meal</th>\n",
       "      <th>is_repeated_guest</th>\n",
       "      <th>previous_cancellations</th>\n",
       "      <th>previous_bookings_not_canceled</th>\n",
       "      <th>reserved_room_type</th>\n",
       "      <th>booking_changes</th>\n",
       "      <th>days_in_waiting_list</th>\n",
       "      <th>required_car_parking_spaces</th>\n",
       "      <th>total_of_special_requests</th>\n",
       "      <th>total_nights</th>\n",
       "      <th>country_AGO</th>\n",
       "      <th>country_ALB</th>\n",
       "      <th>country_AND</th>\n",
       "      <th>country_ARE</th>\n",
       "      <th>country_ARG</th>\n",
       "      <th>country_ARM</th>\n",
       "      <th>country_ASM</th>\n",
       "      <th>country_ATA</th>\n",
       "      <th>country_ATF</th>\n",
       "      <th>country_AUS</th>\n",
       "      <th>country_AUT</th>\n",
       "      <th>country_AZE</th>\n",
       "      <th>country_BDI</th>\n",
       "      <th>country_BEL</th>\n",
       "      <th>country_BEN</th>\n",
       "      <th>country_BFA</th>\n",
       "      <th>country_BGD</th>\n",
       "      <th>country_BGR</th>\n",
       "      <th>country_BHR</th>\n",
       "      <th>country_BHS</th>\n",
       "      <th>country_BIH</th>\n",
       "      <th>country_BLR</th>\n",
       "      <th>country_BOL</th>\n",
       "      <th>country_BRA</th>\n",
       "      <th>country_BRB</th>\n",
       "      <th>country_BWA</th>\n",
       "      <th>country_CAF</th>\n",
       "      <th>country_CHE</th>\n",
       "      <th>country_CHL</th>\n",
       "      <th>country_CHN</th>\n",
       "      <th>country_CIV</th>\n",
       "      <th>country_CMR</th>\n",
       "      <th>country_CN</th>\n",
       "      <th>country_COL</th>\n",
       "      <th>country_CPV</th>\n",
       "      <th>country_CRI</th>\n",
       "      <th>country_CUB</th>\n",
       "      <th>country_CYM</th>\n",
       "      <th>country_CYP</th>\n",
       "      <th>country_CZE</th>\n",
       "      <th>country_DEU</th>\n",
       "      <th>country_DMA</th>\n",
       "      <th>country_DNK</th>\n",
       "      <th>country_DOM</th>\n",
       "      <th>country_DZA</th>\n",
       "      <th>country_ECU</th>\n",
       "      <th>country_EGY</th>\n",
       "      <th>country_ESP</th>\n",
       "      <th>country_EST</th>\n",
       "      <th>country_ETH</th>\n",
       "      <th>country_FIN</th>\n",
       "      <th>country_FJI</th>\n",
       "      <th>country_FRA</th>\n",
       "      <th>country_FRO</th>\n",
       "      <th>country_GAB</th>\n",
       "      <th>country_GBR</th>\n",
       "      <th>country_GEO</th>\n",
       "      <th>country_GGY</th>\n",
       "      <th>country_GHA</th>\n",
       "      <th>country_GIB</th>\n",
       "      <th>country_GLP</th>\n",
       "      <th>country_GNB</th>\n",
       "      <th>country_GRC</th>\n",
       "      <th>country_GTM</th>\n",
       "      <th>country_GUY</th>\n",
       "      <th>country_HKG</th>\n",
       "      <th>country_HND</th>\n",
       "      <th>country_HRV</th>\n",
       "      <th>country_HUN</th>\n",
       "      <th>country_IDN</th>\n",
       "      <th>country_IMN</th>\n",
       "      <th>country_IND</th>\n",
       "      <th>country_IRL</th>\n",
       "      <th>country_IRN</th>\n",
       "      <th>country_IRQ</th>\n",
       "      <th>country_ISL</th>\n",
       "      <th>country_ISR</th>\n",
       "      <th>country_ITA</th>\n",
       "      <th>country_JAM</th>\n",
       "      <th>country_JEY</th>\n",
       "      <th>country_JOR</th>\n",
       "      <th>country_JPN</th>\n",
       "      <th>country_KAZ</th>\n",
       "      <th>country_KEN</th>\n",
       "      <th>country_KHM</th>\n",
       "      <th>country_KIR</th>\n",
       "      <th>country_KNA</th>\n",
       "      <th>country_KOR</th>\n",
       "      <th>country_KWT</th>\n",
       "      <th>country_LAO</th>\n",
       "      <th>country_LBN</th>\n",
       "      <th>country_LBY</th>\n",
       "      <th>country_LCA</th>\n",
       "      <th>country_LIE</th>\n",
       "      <th>country_LKA</th>\n",
       "      <th>country_LTU</th>\n",
       "      <th>country_LUX</th>\n",
       "      <th>country_LVA</th>\n",
       "      <th>country_MAC</th>\n",
       "      <th>country_MAR</th>\n",
       "      <th>country_MCO</th>\n",
       "      <th>country_MDG</th>\n",
       "      <th>country_MDV</th>\n",
       "      <th>country_MEX</th>\n",
       "      <th>country_MKD</th>\n",
       "      <th>country_MLI</th>\n",
       "      <th>country_MLT</th>\n",
       "      <th>country_MMR</th>\n",
       "      <th>country_MNE</th>\n",
       "      <th>country_MOZ</th>\n",
       "      <th>country_MRT</th>\n",
       "      <th>country_MUS</th>\n",
       "      <th>country_MWI</th>\n",
       "      <th>country_MYS</th>\n",
       "      <th>country_MYT</th>\n",
       "      <th>country_NAM</th>\n",
       "      <th>country_NCL</th>\n",
       "      <th>country_NGA</th>\n",
       "      <th>country_NIC</th>\n",
       "      <th>country_NLD</th>\n",
       "      <th>country_NOR</th>\n",
       "      <th>country_NPL</th>\n",
       "      <th>country_NZL</th>\n",
       "      <th>country_OMN</th>\n",
       "      <th>country_PAK</th>\n",
       "      <th>country_PAN</th>\n",
       "      <th>country_PER</th>\n",
       "      <th>country_PHL</th>\n",
       "      <th>country_PLW</th>\n",
       "      <th>country_POL</th>\n",
       "      <th>country_PRI</th>\n",
       "      <th>country_PRT</th>\n",
       "      <th>country_PRY</th>\n",
       "      <th>country_PYF</th>\n",
       "      <th>country_QAT</th>\n",
       "      <th>country_ROU</th>\n",
       "      <th>country_RUS</th>\n",
       "      <th>country_RWA</th>\n",
       "      <th>country_SAU</th>\n",
       "      <th>country_SDN</th>\n",
       "      <th>country_SEN</th>\n",
       "      <th>country_SGP</th>\n",
       "      <th>country_SLE</th>\n",
       "      <th>country_SLV</th>\n",
       "      <th>country_SMR</th>\n",
       "      <th>country_SRB</th>\n",
       "      <th>country_STP</th>\n",
       "      <th>country_SUR</th>\n",
       "      <th>country_SVK</th>\n",
       "      <th>country_SVN</th>\n",
       "      <th>country_SWE</th>\n",
       "      <th>country_SYC</th>\n",
       "      <th>country_SYR</th>\n",
       "      <th>country_TGO</th>\n",
       "      <th>country_THA</th>\n",
       "      <th>country_TJK</th>\n",
       "      <th>country_TMP</th>\n",
       "      <th>country_TUN</th>\n",
       "      <th>country_TUR</th>\n",
       "      <th>country_TWN</th>\n",
       "      <th>country_TZA</th>\n",
       "      <th>country_UGA</th>\n",
       "      <th>country_UKR</th>\n",
       "      <th>country_UMI</th>\n",
       "      <th>country_URY</th>\n",
       "      <th>country_USA</th>\n",
       "      <th>country_UZB</th>\n",
       "      <th>country_VEN</th>\n",
       "      <th>country_VGB</th>\n",
       "      <th>country_VNM</th>\n",
       "      <th>country_ZAF</th>\n",
       "      <th>country_ZMB</th>\n",
       "      <th>country_ZWE</th>\n",
       "      <th>distribution_channel_Direct</th>\n",
       "      <th>distribution_channel_GDS</th>\n",
       "      <th>distribution_channel_TA/TO</th>\n",
       "      <th>customer_type_Group</th>\n",
       "      <th>customer_type_Transient</th>\n",
       "      <th>customer_type_Transient-Party</th>\n",
       "    </tr>\n",
       "  </thead>\n",
       "  <tbody>\n",
       "    <tr>\n",
       "      <td>0</td>\n",
       "      <td>-0.195906</td>\n",
       "      <td>2.847977</td>\n",
       "      <td>-2.110234</td>\n",
       "      <td>-2.281489</td>\n",
       "      <td>-1.686349</td>\n",
       "      <td>0.184468</td>\n",
       "      <td>-1.626807</td>\n",
       "      <td>0.326078</td>\n",
       "      <td>-0.22962</td>\n",
       "      <td>-0.075091</td>\n",
       "      <td>-0.064909</td>\n",
       "      <td>-0.155785</td>\n",
       "      <td>-0.288845</td>\n",
       "      <td>-0.117606</td>\n",
       "      <td>-0.524812</td>\n",
       "      <td>-0.331568</td>\n",
       "      <td>-0.080063</td>\n",
       "      <td>-0.248662</td>\n",
       "      <td>-0.699209</td>\n",
       "      <td>-1.174475</td>\n",
       "      <td>0</td>\n",
       "      <td>0</td>\n",
       "      <td>0</td>\n",
       "      <td>0</td>\n",
       "      <td>0</td>\n",
       "      <td>0</td>\n",
       "      <td>0</td>\n",
       "      <td>0</td>\n",
       "      <td>0</td>\n",
       "      <td>0</td>\n",
       "      <td>0</td>\n",
       "      <td>0</td>\n",
       "      <td>0</td>\n",
       "      <td>0</td>\n",
       "      <td>0</td>\n",
       "      <td>0</td>\n",
       "      <td>0</td>\n",
       "      <td>0</td>\n",
       "      <td>0</td>\n",
       "      <td>0</td>\n",
       "      <td>0</td>\n",
       "      <td>0</td>\n",
       "      <td>0</td>\n",
       "      <td>0</td>\n",
       "      <td>0</td>\n",
       "      <td>0</td>\n",
       "      <td>0</td>\n",
       "      <td>0</td>\n",
       "      <td>0</td>\n",
       "      <td>0</td>\n",
       "      <td>0</td>\n",
       "      <td>0</td>\n",
       "      <td>0</td>\n",
       "      <td>0</td>\n",
       "      <td>0</td>\n",
       "      <td>0</td>\n",
       "      <td>0</td>\n",
       "      <td>0</td>\n",
       "      <td>0</td>\n",
       "      <td>0</td>\n",
       "      <td>0</td>\n",
       "      <td>0</td>\n",
       "      <td>0</td>\n",
       "      <td>0</td>\n",
       "      <td>0</td>\n",
       "      <td>0</td>\n",
       "      <td>0</td>\n",
       "      <td>0</td>\n",
       "      <td>0</td>\n",
       "      <td>0</td>\n",
       "      <td>0</td>\n",
       "      <td>0</td>\n",
       "      <td>0</td>\n",
       "      <td>0</td>\n",
       "      <td>0</td>\n",
       "      <td>0</td>\n",
       "      <td>0</td>\n",
       "      <td>0</td>\n",
       "      <td>0</td>\n",
       "      <td>0</td>\n",
       "      <td>0</td>\n",
       "      <td>0</td>\n",
       "      <td>0</td>\n",
       "      <td>0</td>\n",
       "      <td>0</td>\n",
       "      <td>0</td>\n",
       "      <td>0</td>\n",
       "      <td>0</td>\n",
       "      <td>0</td>\n",
       "      <td>0</td>\n",
       "      <td>0</td>\n",
       "      <td>0</td>\n",
       "      <td>0</td>\n",
       "      <td>0</td>\n",
       "      <td>0</td>\n",
       "      <td>0</td>\n",
       "      <td>0</td>\n",
       "      <td>0</td>\n",
       "      <td>0</td>\n",
       "      <td>0</td>\n",
       "      <td>0</td>\n",
       "      <td>0</td>\n",
       "      <td>0</td>\n",
       "      <td>0</td>\n",
       "      <td>0</td>\n",
       "      <td>0</td>\n",
       "      <td>0</td>\n",
       "      <td>0</td>\n",
       "      <td>0</td>\n",
       "      <td>0</td>\n",
       "      <td>0</td>\n",
       "      <td>0</td>\n",
       "      <td>0</td>\n",
       "      <td>0</td>\n",
       "      <td>0</td>\n",
       "      <td>0</td>\n",
       "      <td>0</td>\n",
       "      <td>0</td>\n",
       "      <td>0</td>\n",
       "      <td>0</td>\n",
       "      <td>0</td>\n",
       "      <td>0</td>\n",
       "      <td>0</td>\n",
       "      <td>0</td>\n",
       "      <td>0</td>\n",
       "      <td>0</td>\n",
       "      <td>0</td>\n",
       "      <td>0</td>\n",
       "      <td>0</td>\n",
       "      <td>0</td>\n",
       "      <td>0</td>\n",
       "      <td>0</td>\n",
       "      <td>0</td>\n",
       "      <td>0</td>\n",
       "      <td>0</td>\n",
       "      <td>0</td>\n",
       "      <td>0</td>\n",
       "      <td>0</td>\n",
       "      <td>0</td>\n",
       "      <td>0</td>\n",
       "      <td>0</td>\n",
       "      <td>0</td>\n",
       "      <td>0</td>\n",
       "      <td>0</td>\n",
       "      <td>0</td>\n",
       "      <td>0</td>\n",
       "      <td>0</td>\n",
       "      <td>0</td>\n",
       "      <td>0</td>\n",
       "      <td>0</td>\n",
       "      <td>0</td>\n",
       "      <td>1</td>\n",
       "      <td>0</td>\n",
       "      <td>0</td>\n",
       "      <td>0</td>\n",
       "      <td>0</td>\n",
       "      <td>0</td>\n",
       "      <td>0</td>\n",
       "      <td>0</td>\n",
       "      <td>0</td>\n",
       "      <td>0</td>\n",
       "      <td>0</td>\n",
       "      <td>0</td>\n",
       "      <td>0</td>\n",
       "      <td>0</td>\n",
       "      <td>0</td>\n",
       "      <td>0</td>\n",
       "      <td>0</td>\n",
       "      <td>0</td>\n",
       "      <td>0</td>\n",
       "      <td>0</td>\n",
       "      <td>0</td>\n",
       "      <td>0</td>\n",
       "      <td>0</td>\n",
       "      <td>0</td>\n",
       "      <td>0</td>\n",
       "      <td>0</td>\n",
       "      <td>0</td>\n",
       "      <td>0</td>\n",
       "      <td>0</td>\n",
       "      <td>0</td>\n",
       "      <td>0</td>\n",
       "      <td>0</td>\n",
       "      <td>0</td>\n",
       "      <td>0</td>\n",
       "      <td>0</td>\n",
       "      <td>0</td>\n",
       "      <td>0</td>\n",
       "      <td>0</td>\n",
       "      <td>0</td>\n",
       "      <td>0</td>\n",
       "      <td>0</td>\n",
       "      <td>0</td>\n",
       "      <td>0</td>\n",
       "      <td>0</td>\n",
       "      <td>1</td>\n",
       "      <td>0</td>\n",
       "      <td>1</td>\n",
       "      <td>0</td>\n",
       "    </tr>\n",
       "    <tr>\n",
       "      <td>1</td>\n",
       "      <td>-0.322519</td>\n",
       "      <td>2.847977</td>\n",
       "      <td>-2.110234</td>\n",
       "      <td>-2.281489</td>\n",
       "      <td>-1.686349</td>\n",
       "      <td>1.352599</td>\n",
       "      <td>-0.163283</td>\n",
       "      <td>0.326078</td>\n",
       "      <td>-0.22962</td>\n",
       "      <td>-0.075091</td>\n",
       "      <td>-0.064909</td>\n",
       "      <td>-0.155785</td>\n",
       "      <td>-0.288845</td>\n",
       "      <td>-0.117606</td>\n",
       "      <td>-0.524812</td>\n",
       "      <td>-0.331568</td>\n",
       "      <td>-0.080063</td>\n",
       "      <td>-0.248662</td>\n",
       "      <td>0.614901</td>\n",
       "      <td>0.531603</td>\n",
       "      <td>0</td>\n",
       "      <td>0</td>\n",
       "      <td>0</td>\n",
       "      <td>0</td>\n",
       "      <td>0</td>\n",
       "      <td>0</td>\n",
       "      <td>0</td>\n",
       "      <td>0</td>\n",
       "      <td>0</td>\n",
       "      <td>0</td>\n",
       "      <td>1</td>\n",
       "      <td>0</td>\n",
       "      <td>0</td>\n",
       "      <td>0</td>\n",
       "      <td>0</td>\n",
       "      <td>0</td>\n",
       "      <td>0</td>\n",
       "      <td>0</td>\n",
       "      <td>0</td>\n",
       "      <td>0</td>\n",
       "      <td>0</td>\n",
       "      <td>0</td>\n",
       "      <td>0</td>\n",
       "      <td>0</td>\n",
       "      <td>0</td>\n",
       "      <td>0</td>\n",
       "      <td>0</td>\n",
       "      <td>0</td>\n",
       "      <td>0</td>\n",
       "      <td>0</td>\n",
       "      <td>0</td>\n",
       "      <td>0</td>\n",
       "      <td>0</td>\n",
       "      <td>0</td>\n",
       "      <td>0</td>\n",
       "      <td>0</td>\n",
       "      <td>0</td>\n",
       "      <td>0</td>\n",
       "      <td>0</td>\n",
       "      <td>0</td>\n",
       "      <td>0</td>\n",
       "      <td>0</td>\n",
       "      <td>0</td>\n",
       "      <td>0</td>\n",
       "      <td>0</td>\n",
       "      <td>0</td>\n",
       "      <td>0</td>\n",
       "      <td>0</td>\n",
       "      <td>0</td>\n",
       "      <td>0</td>\n",
       "      <td>0</td>\n",
       "      <td>0</td>\n",
       "      <td>0</td>\n",
       "      <td>0</td>\n",
       "      <td>0</td>\n",
       "      <td>0</td>\n",
       "      <td>0</td>\n",
       "      <td>0</td>\n",
       "      <td>0</td>\n",
       "      <td>0</td>\n",
       "      <td>0</td>\n",
       "      <td>0</td>\n",
       "      <td>0</td>\n",
       "      <td>0</td>\n",
       "      <td>0</td>\n",
       "      <td>0</td>\n",
       "      <td>0</td>\n",
       "      <td>0</td>\n",
       "      <td>0</td>\n",
       "      <td>0</td>\n",
       "      <td>0</td>\n",
       "      <td>0</td>\n",
       "      <td>0</td>\n",
       "      <td>0</td>\n",
       "      <td>0</td>\n",
       "      <td>0</td>\n",
       "      <td>0</td>\n",
       "      <td>0</td>\n",
       "      <td>0</td>\n",
       "      <td>0</td>\n",
       "      <td>0</td>\n",
       "      <td>0</td>\n",
       "      <td>0</td>\n",
       "      <td>0</td>\n",
       "      <td>0</td>\n",
       "      <td>0</td>\n",
       "      <td>0</td>\n",
       "      <td>0</td>\n",
       "      <td>0</td>\n",
       "      <td>0</td>\n",
       "      <td>0</td>\n",
       "      <td>0</td>\n",
       "      <td>0</td>\n",
       "      <td>0</td>\n",
       "      <td>0</td>\n",
       "      <td>0</td>\n",
       "      <td>0</td>\n",
       "      <td>0</td>\n",
       "      <td>0</td>\n",
       "      <td>0</td>\n",
       "      <td>0</td>\n",
       "      <td>0</td>\n",
       "      <td>0</td>\n",
       "      <td>0</td>\n",
       "      <td>0</td>\n",
       "      <td>0</td>\n",
       "      <td>0</td>\n",
       "      <td>0</td>\n",
       "      <td>0</td>\n",
       "      <td>0</td>\n",
       "      <td>0</td>\n",
       "      <td>0</td>\n",
       "      <td>0</td>\n",
       "      <td>0</td>\n",
       "      <td>0</td>\n",
       "      <td>0</td>\n",
       "      <td>0</td>\n",
       "      <td>0</td>\n",
       "      <td>0</td>\n",
       "      <td>0</td>\n",
       "      <td>0</td>\n",
       "      <td>0</td>\n",
       "      <td>0</td>\n",
       "      <td>0</td>\n",
       "      <td>0</td>\n",
       "      <td>0</td>\n",
       "      <td>0</td>\n",
       "      <td>0</td>\n",
       "      <td>0</td>\n",
       "      <td>0</td>\n",
       "      <td>0</td>\n",
       "      <td>0</td>\n",
       "      <td>0</td>\n",
       "      <td>0</td>\n",
       "      <td>0</td>\n",
       "      <td>0</td>\n",
       "      <td>0</td>\n",
       "      <td>0</td>\n",
       "      <td>0</td>\n",
       "      <td>0</td>\n",
       "      <td>0</td>\n",
       "      <td>0</td>\n",
       "      <td>0</td>\n",
       "      <td>0</td>\n",
       "      <td>0</td>\n",
       "      <td>0</td>\n",
       "      <td>0</td>\n",
       "      <td>0</td>\n",
       "      <td>0</td>\n",
       "      <td>0</td>\n",
       "      <td>0</td>\n",
       "      <td>0</td>\n",
       "      <td>0</td>\n",
       "      <td>0</td>\n",
       "      <td>0</td>\n",
       "      <td>0</td>\n",
       "      <td>0</td>\n",
       "      <td>0</td>\n",
       "      <td>0</td>\n",
       "      <td>0</td>\n",
       "      <td>0</td>\n",
       "      <td>0</td>\n",
       "      <td>0</td>\n",
       "      <td>0</td>\n",
       "      <td>0</td>\n",
       "      <td>0</td>\n",
       "      <td>0</td>\n",
       "      <td>0</td>\n",
       "      <td>0</td>\n",
       "      <td>0</td>\n",
       "      <td>0</td>\n",
       "      <td>0</td>\n",
       "      <td>0</td>\n",
       "      <td>0</td>\n",
       "      <td>0</td>\n",
       "      <td>1</td>\n",
       "      <td>0</td>\n",
       "      <td>1</td>\n",
       "      <td>0</td>\n",
       "    </tr>\n",
       "    <tr>\n",
       "      <td>2</td>\n",
       "      <td>-0.322519</td>\n",
       "      <td>2.847977</td>\n",
       "      <td>-2.110234</td>\n",
       "      <td>-2.281489</td>\n",
       "      <td>-1.686349</td>\n",
       "      <td>1.352599</td>\n",
       "      <td>-0.163283</td>\n",
       "      <td>0.326078</td>\n",
       "      <td>-0.22962</td>\n",
       "      <td>-0.075091</td>\n",
       "      <td>-0.064909</td>\n",
       "      <td>-0.155785</td>\n",
       "      <td>-0.288845</td>\n",
       "      <td>-0.117606</td>\n",
       "      <td>-0.524812</td>\n",
       "      <td>-0.331568</td>\n",
       "      <td>-0.080063</td>\n",
       "      <td>-0.248662</td>\n",
       "      <td>0.614901</td>\n",
       "      <td>0.531603</td>\n",
       "      <td>0</td>\n",
       "      <td>0</td>\n",
       "      <td>0</td>\n",
       "      <td>0</td>\n",
       "      <td>0</td>\n",
       "      <td>0</td>\n",
       "      <td>0</td>\n",
       "      <td>0</td>\n",
       "      <td>0</td>\n",
       "      <td>0</td>\n",
       "      <td>1</td>\n",
       "      <td>0</td>\n",
       "      <td>0</td>\n",
       "      <td>0</td>\n",
       "      <td>0</td>\n",
       "      <td>0</td>\n",
       "      <td>0</td>\n",
       "      <td>0</td>\n",
       "      <td>0</td>\n",
       "      <td>0</td>\n",
       "      <td>0</td>\n",
       "      <td>0</td>\n",
       "      <td>0</td>\n",
       "      <td>0</td>\n",
       "      <td>0</td>\n",
       "      <td>0</td>\n",
       "      <td>0</td>\n",
       "      <td>0</td>\n",
       "      <td>0</td>\n",
       "      <td>0</td>\n",
       "      <td>0</td>\n",
       "      <td>0</td>\n",
       "      <td>0</td>\n",
       "      <td>0</td>\n",
       "      <td>0</td>\n",
       "      <td>0</td>\n",
       "      <td>0</td>\n",
       "      <td>0</td>\n",
       "      <td>0</td>\n",
       "      <td>0</td>\n",
       "      <td>0</td>\n",
       "      <td>0</td>\n",
       "      <td>0</td>\n",
       "      <td>0</td>\n",
       "      <td>0</td>\n",
       "      <td>0</td>\n",
       "      <td>0</td>\n",
       "      <td>0</td>\n",
       "      <td>0</td>\n",
       "      <td>0</td>\n",
       "      <td>0</td>\n",
       "      <td>0</td>\n",
       "      <td>0</td>\n",
       "      <td>0</td>\n",
       "      <td>0</td>\n",
       "      <td>0</td>\n",
       "      <td>0</td>\n",
       "      <td>0</td>\n",
       "      <td>0</td>\n",
       "      <td>0</td>\n",
       "      <td>0</td>\n",
       "      <td>0</td>\n",
       "      <td>0</td>\n",
       "      <td>0</td>\n",
       "      <td>0</td>\n",
       "      <td>0</td>\n",
       "      <td>0</td>\n",
       "      <td>0</td>\n",
       "      <td>0</td>\n",
       "      <td>0</td>\n",
       "      <td>0</td>\n",
       "      <td>0</td>\n",
       "      <td>0</td>\n",
       "      <td>0</td>\n",
       "      <td>0</td>\n",
       "      <td>0</td>\n",
       "      <td>0</td>\n",
       "      <td>0</td>\n",
       "      <td>0</td>\n",
       "      <td>0</td>\n",
       "      <td>0</td>\n",
       "      <td>0</td>\n",
       "      <td>0</td>\n",
       "      <td>0</td>\n",
       "      <td>0</td>\n",
       "      <td>0</td>\n",
       "      <td>0</td>\n",
       "      <td>0</td>\n",
       "      <td>0</td>\n",
       "      <td>0</td>\n",
       "      <td>0</td>\n",
       "      <td>0</td>\n",
       "      <td>0</td>\n",
       "      <td>0</td>\n",
       "      <td>0</td>\n",
       "      <td>0</td>\n",
       "      <td>0</td>\n",
       "      <td>0</td>\n",
       "      <td>0</td>\n",
       "      <td>0</td>\n",
       "      <td>0</td>\n",
       "      <td>0</td>\n",
       "      <td>0</td>\n",
       "      <td>0</td>\n",
       "      <td>0</td>\n",
       "      <td>0</td>\n",
       "      <td>0</td>\n",
       "      <td>0</td>\n",
       "      <td>0</td>\n",
       "      <td>0</td>\n",
       "      <td>0</td>\n",
       "      <td>0</td>\n",
       "      <td>0</td>\n",
       "      <td>0</td>\n",
       "      <td>0</td>\n",
       "      <td>0</td>\n",
       "      <td>0</td>\n",
       "      <td>0</td>\n",
       "      <td>0</td>\n",
       "      <td>0</td>\n",
       "      <td>0</td>\n",
       "      <td>0</td>\n",
       "      <td>0</td>\n",
       "      <td>0</td>\n",
       "      <td>0</td>\n",
       "      <td>0</td>\n",
       "      <td>0</td>\n",
       "      <td>0</td>\n",
       "      <td>0</td>\n",
       "      <td>0</td>\n",
       "      <td>0</td>\n",
       "      <td>0</td>\n",
       "      <td>0</td>\n",
       "      <td>0</td>\n",
       "      <td>0</td>\n",
       "      <td>0</td>\n",
       "      <td>0</td>\n",
       "      <td>0</td>\n",
       "      <td>0</td>\n",
       "      <td>0</td>\n",
       "      <td>0</td>\n",
       "      <td>0</td>\n",
       "      <td>0</td>\n",
       "      <td>0</td>\n",
       "      <td>0</td>\n",
       "      <td>0</td>\n",
       "      <td>0</td>\n",
       "      <td>0</td>\n",
       "      <td>0</td>\n",
       "      <td>0</td>\n",
       "      <td>0</td>\n",
       "      <td>0</td>\n",
       "      <td>0</td>\n",
       "      <td>0</td>\n",
       "      <td>0</td>\n",
       "      <td>0</td>\n",
       "      <td>0</td>\n",
       "      <td>0</td>\n",
       "      <td>0</td>\n",
       "      <td>0</td>\n",
       "      <td>0</td>\n",
       "      <td>0</td>\n",
       "      <td>0</td>\n",
       "      <td>0</td>\n",
       "      <td>0</td>\n",
       "      <td>0</td>\n",
       "      <td>0</td>\n",
       "      <td>0</td>\n",
       "      <td>0</td>\n",
       "      <td>0</td>\n",
       "      <td>0</td>\n",
       "      <td>0</td>\n",
       "      <td>0</td>\n",
       "      <td>0</td>\n",
       "      <td>0</td>\n",
       "      <td>1</td>\n",
       "      <td>0</td>\n",
       "      <td>1</td>\n",
       "      <td>0</td>\n",
       "    </tr>\n",
       "    <tr>\n",
       "      <td>3</td>\n",
       "      <td>-0.227559</td>\n",
       "      <td>2.847977</td>\n",
       "      <td>-2.110234</td>\n",
       "      <td>-2.281489</td>\n",
       "      <td>-1.686349</td>\n",
       "      <td>1.352599</td>\n",
       "      <td>-0.163283</td>\n",
       "      <td>-1.758561</td>\n",
       "      <td>-0.22962</td>\n",
       "      <td>-0.075091</td>\n",
       "      <td>-0.064909</td>\n",
       "      <td>-0.155785</td>\n",
       "      <td>-0.288845</td>\n",
       "      <td>-0.117606</td>\n",
       "      <td>-0.524812</td>\n",
       "      <td>-0.331568</td>\n",
       "      <td>-0.080063</td>\n",
       "      <td>-0.248662</td>\n",
       "      <td>0.614901</td>\n",
       "      <td>0.531603</td>\n",
       "      <td>0</td>\n",
       "      <td>0</td>\n",
       "      <td>0</td>\n",
       "      <td>0</td>\n",
       "      <td>0</td>\n",
       "      <td>0</td>\n",
       "      <td>0</td>\n",
       "      <td>0</td>\n",
       "      <td>0</td>\n",
       "      <td>0</td>\n",
       "      <td>0</td>\n",
       "      <td>0</td>\n",
       "      <td>0</td>\n",
       "      <td>0</td>\n",
       "      <td>0</td>\n",
       "      <td>0</td>\n",
       "      <td>0</td>\n",
       "      <td>0</td>\n",
       "      <td>0</td>\n",
       "      <td>0</td>\n",
       "      <td>0</td>\n",
       "      <td>0</td>\n",
       "      <td>0</td>\n",
       "      <td>0</td>\n",
       "      <td>0</td>\n",
       "      <td>0</td>\n",
       "      <td>0</td>\n",
       "      <td>0</td>\n",
       "      <td>0</td>\n",
       "      <td>0</td>\n",
       "      <td>0</td>\n",
       "      <td>0</td>\n",
       "      <td>0</td>\n",
       "      <td>0</td>\n",
       "      <td>0</td>\n",
       "      <td>0</td>\n",
       "      <td>0</td>\n",
       "      <td>0</td>\n",
       "      <td>0</td>\n",
       "      <td>0</td>\n",
       "      <td>0</td>\n",
       "      <td>0</td>\n",
       "      <td>0</td>\n",
       "      <td>0</td>\n",
       "      <td>0</td>\n",
       "      <td>0</td>\n",
       "      <td>0</td>\n",
       "      <td>0</td>\n",
       "      <td>0</td>\n",
       "      <td>0</td>\n",
       "      <td>0</td>\n",
       "      <td>0</td>\n",
       "      <td>0</td>\n",
       "      <td>0</td>\n",
       "      <td>0</td>\n",
       "      <td>0</td>\n",
       "      <td>0</td>\n",
       "      <td>0</td>\n",
       "      <td>0</td>\n",
       "      <td>0</td>\n",
       "      <td>0</td>\n",
       "      <td>0</td>\n",
       "      <td>0</td>\n",
       "      <td>0</td>\n",
       "      <td>0</td>\n",
       "      <td>0</td>\n",
       "      <td>0</td>\n",
       "      <td>0</td>\n",
       "      <td>0</td>\n",
       "      <td>0</td>\n",
       "      <td>0</td>\n",
       "      <td>0</td>\n",
       "      <td>0</td>\n",
       "      <td>0</td>\n",
       "      <td>0</td>\n",
       "      <td>0</td>\n",
       "      <td>0</td>\n",
       "      <td>0</td>\n",
       "      <td>0</td>\n",
       "      <td>0</td>\n",
       "      <td>0</td>\n",
       "      <td>0</td>\n",
       "      <td>0</td>\n",
       "      <td>0</td>\n",
       "      <td>0</td>\n",
       "      <td>0</td>\n",
       "      <td>0</td>\n",
       "      <td>0</td>\n",
       "      <td>0</td>\n",
       "      <td>0</td>\n",
       "      <td>0</td>\n",
       "      <td>0</td>\n",
       "      <td>0</td>\n",
       "      <td>0</td>\n",
       "      <td>0</td>\n",
       "      <td>0</td>\n",
       "      <td>0</td>\n",
       "      <td>0</td>\n",
       "      <td>0</td>\n",
       "      <td>0</td>\n",
       "      <td>0</td>\n",
       "      <td>0</td>\n",
       "      <td>0</td>\n",
       "      <td>0</td>\n",
       "      <td>0</td>\n",
       "      <td>0</td>\n",
       "      <td>0</td>\n",
       "      <td>0</td>\n",
       "      <td>0</td>\n",
       "      <td>0</td>\n",
       "      <td>0</td>\n",
       "      <td>0</td>\n",
       "      <td>0</td>\n",
       "      <td>0</td>\n",
       "      <td>0</td>\n",
       "      <td>0</td>\n",
       "      <td>0</td>\n",
       "      <td>0</td>\n",
       "      <td>0</td>\n",
       "      <td>0</td>\n",
       "      <td>0</td>\n",
       "      <td>0</td>\n",
       "      <td>0</td>\n",
       "      <td>0</td>\n",
       "      <td>0</td>\n",
       "      <td>0</td>\n",
       "      <td>0</td>\n",
       "      <td>0</td>\n",
       "      <td>0</td>\n",
       "      <td>0</td>\n",
       "      <td>0</td>\n",
       "      <td>1</td>\n",
       "      <td>0</td>\n",
       "      <td>0</td>\n",
       "      <td>0</td>\n",
       "      <td>0</td>\n",
       "      <td>0</td>\n",
       "      <td>0</td>\n",
       "      <td>0</td>\n",
       "      <td>0</td>\n",
       "      <td>0</td>\n",
       "      <td>0</td>\n",
       "      <td>0</td>\n",
       "      <td>0</td>\n",
       "      <td>0</td>\n",
       "      <td>0</td>\n",
       "      <td>0</td>\n",
       "      <td>0</td>\n",
       "      <td>0</td>\n",
       "      <td>0</td>\n",
       "      <td>0</td>\n",
       "      <td>0</td>\n",
       "      <td>0</td>\n",
       "      <td>0</td>\n",
       "      <td>0</td>\n",
       "      <td>0</td>\n",
       "      <td>0</td>\n",
       "      <td>0</td>\n",
       "      <td>0</td>\n",
       "      <td>0</td>\n",
       "      <td>0</td>\n",
       "      <td>0</td>\n",
       "      <td>0</td>\n",
       "      <td>0</td>\n",
       "      <td>0</td>\n",
       "      <td>0</td>\n",
       "      <td>0</td>\n",
       "      <td>0</td>\n",
       "      <td>0</td>\n",
       "      <td>0</td>\n",
       "      <td>0</td>\n",
       "      <td>0</td>\n",
       "      <td>0</td>\n",
       "      <td>0</td>\n",
       "      <td>0</td>\n",
       "      <td>1</td>\n",
       "      <td>0</td>\n",
       "      <td>1</td>\n",
       "      <td>0</td>\n",
       "    </tr>\n",
       "    <tr>\n",
       "      <td>4</td>\n",
       "      <td>0.838102</td>\n",
       "      <td>2.847977</td>\n",
       "      <td>-2.110234</td>\n",
       "      <td>-2.281489</td>\n",
       "      <td>-1.686349</td>\n",
       "      <td>1.352599</td>\n",
       "      <td>2.032003</td>\n",
       "      <td>0.326078</td>\n",
       "      <td>-0.22962</td>\n",
       "      <td>-0.075091</td>\n",
       "      <td>-0.064909</td>\n",
       "      <td>-0.155785</td>\n",
       "      <td>-0.288845</td>\n",
       "      <td>-0.117606</td>\n",
       "      <td>-0.524812</td>\n",
       "      <td>-0.331568</td>\n",
       "      <td>-0.080063</td>\n",
       "      <td>-0.248662</td>\n",
       "      <td>-0.699209</td>\n",
       "      <td>2.237681</td>\n",
       "      <td>0</td>\n",
       "      <td>0</td>\n",
       "      <td>0</td>\n",
       "      <td>0</td>\n",
       "      <td>0</td>\n",
       "      <td>0</td>\n",
       "      <td>0</td>\n",
       "      <td>0</td>\n",
       "      <td>0</td>\n",
       "      <td>0</td>\n",
       "      <td>0</td>\n",
       "      <td>0</td>\n",
       "      <td>0</td>\n",
       "      <td>1</td>\n",
       "      <td>0</td>\n",
       "      <td>0</td>\n",
       "      <td>0</td>\n",
       "      <td>0</td>\n",
       "      <td>0</td>\n",
       "      <td>0</td>\n",
       "      <td>0</td>\n",
       "      <td>0</td>\n",
       "      <td>0</td>\n",
       "      <td>0</td>\n",
       "      <td>0</td>\n",
       "      <td>0</td>\n",
       "      <td>0</td>\n",
       "      <td>0</td>\n",
       "      <td>0</td>\n",
       "      <td>0</td>\n",
       "      <td>0</td>\n",
       "      <td>0</td>\n",
       "      <td>0</td>\n",
       "      <td>0</td>\n",
       "      <td>0</td>\n",
       "      <td>0</td>\n",
       "      <td>0</td>\n",
       "      <td>0</td>\n",
       "      <td>0</td>\n",
       "      <td>0</td>\n",
       "      <td>0</td>\n",
       "      <td>0</td>\n",
       "      <td>0</td>\n",
       "      <td>0</td>\n",
       "      <td>0</td>\n",
       "      <td>0</td>\n",
       "      <td>0</td>\n",
       "      <td>0</td>\n",
       "      <td>0</td>\n",
       "      <td>0</td>\n",
       "      <td>0</td>\n",
       "      <td>0</td>\n",
       "      <td>0</td>\n",
       "      <td>0</td>\n",
       "      <td>0</td>\n",
       "      <td>0</td>\n",
       "      <td>0</td>\n",
       "      <td>0</td>\n",
       "      <td>0</td>\n",
       "      <td>0</td>\n",
       "      <td>0</td>\n",
       "      <td>0</td>\n",
       "      <td>0</td>\n",
       "      <td>0</td>\n",
       "      <td>0</td>\n",
       "      <td>0</td>\n",
       "      <td>0</td>\n",
       "      <td>0</td>\n",
       "      <td>0</td>\n",
       "      <td>0</td>\n",
       "      <td>0</td>\n",
       "      <td>0</td>\n",
       "      <td>0</td>\n",
       "      <td>0</td>\n",
       "      <td>0</td>\n",
       "      <td>0</td>\n",
       "      <td>0</td>\n",
       "      <td>0</td>\n",
       "      <td>0</td>\n",
       "      <td>0</td>\n",
       "      <td>0</td>\n",
       "      <td>0</td>\n",
       "      <td>0</td>\n",
       "      <td>0</td>\n",
       "      <td>0</td>\n",
       "      <td>0</td>\n",
       "      <td>0</td>\n",
       "      <td>0</td>\n",
       "      <td>0</td>\n",
       "      <td>0</td>\n",
       "      <td>0</td>\n",
       "      <td>0</td>\n",
       "      <td>0</td>\n",
       "      <td>0</td>\n",
       "      <td>0</td>\n",
       "      <td>0</td>\n",
       "      <td>0</td>\n",
       "      <td>0</td>\n",
       "      <td>0</td>\n",
       "      <td>0</td>\n",
       "      <td>0</td>\n",
       "      <td>0</td>\n",
       "      <td>0</td>\n",
       "      <td>0</td>\n",
       "      <td>0</td>\n",
       "      <td>0</td>\n",
       "      <td>0</td>\n",
       "      <td>0</td>\n",
       "      <td>0</td>\n",
       "      <td>0</td>\n",
       "      <td>0</td>\n",
       "      <td>0</td>\n",
       "      <td>0</td>\n",
       "      <td>0</td>\n",
       "      <td>0</td>\n",
       "      <td>0</td>\n",
       "      <td>0</td>\n",
       "      <td>0</td>\n",
       "      <td>0</td>\n",
       "      <td>0</td>\n",
       "      <td>0</td>\n",
       "      <td>0</td>\n",
       "      <td>0</td>\n",
       "      <td>0</td>\n",
       "      <td>0</td>\n",
       "      <td>0</td>\n",
       "      <td>0</td>\n",
       "      <td>0</td>\n",
       "      <td>0</td>\n",
       "      <td>0</td>\n",
       "      <td>0</td>\n",
       "      <td>0</td>\n",
       "      <td>0</td>\n",
       "      <td>0</td>\n",
       "      <td>0</td>\n",
       "      <td>0</td>\n",
       "      <td>0</td>\n",
       "      <td>0</td>\n",
       "      <td>0</td>\n",
       "      <td>0</td>\n",
       "      <td>0</td>\n",
       "      <td>0</td>\n",
       "      <td>0</td>\n",
       "      <td>0</td>\n",
       "      <td>0</td>\n",
       "      <td>0</td>\n",
       "      <td>0</td>\n",
       "      <td>0</td>\n",
       "      <td>0</td>\n",
       "      <td>0</td>\n",
       "      <td>0</td>\n",
       "      <td>0</td>\n",
       "      <td>0</td>\n",
       "      <td>0</td>\n",
       "      <td>0</td>\n",
       "      <td>0</td>\n",
       "      <td>0</td>\n",
       "      <td>0</td>\n",
       "      <td>0</td>\n",
       "      <td>0</td>\n",
       "      <td>0</td>\n",
       "      <td>0</td>\n",
       "      <td>0</td>\n",
       "      <td>0</td>\n",
       "      <td>0</td>\n",
       "      <td>0</td>\n",
       "      <td>0</td>\n",
       "      <td>0</td>\n",
       "      <td>0</td>\n",
       "      <td>0</td>\n",
       "      <td>0</td>\n",
       "      <td>0</td>\n",
       "      <td>0</td>\n",
       "      <td>0</td>\n",
       "      <td>0</td>\n",
       "      <td>1</td>\n",
       "      <td>0</td>\n",
       "      <td>1</td>\n",
       "      <td>0</td>\n",
       "    </tr>\n",
       "  </tbody>\n",
       "</table>\n",
       "</div>"
      ],
      "text/plain": [
       "   lead_time  arrival_date_year  arrival_date_month  arrival_date_week_number  \\\n",
       "0  -0.195906           2.847977           -2.110234                 -2.281489   \n",
       "1  -0.322519           2.847977           -2.110234                 -2.281489   \n",
       "2  -0.322519           2.847977           -2.110234                 -2.281489   \n",
       "3  -0.227559           2.847977           -2.110234                 -2.281489   \n",
       "4   0.838102           2.847977           -2.110234                 -2.281489   \n",
       "\n",
       "   arrival_date_day_of_month  stays_in_weekend_nights  stays_in_week_nights  \\\n",
       "0                  -1.686349                 0.184468             -1.626807   \n",
       "1                  -1.686349                 1.352599             -0.163283   \n",
       "2                  -1.686349                 1.352599             -0.163283   \n",
       "3                  -1.686349                 1.352599             -0.163283   \n",
       "4                  -1.686349                 1.352599              2.032003   \n",
       "\n",
       "     adults  children    babies      meal  is_repeated_guest  \\\n",
       "0  0.326078  -0.22962 -0.075091 -0.064909          -0.155785   \n",
       "1  0.326078  -0.22962 -0.075091 -0.064909          -0.155785   \n",
       "2  0.326078  -0.22962 -0.075091 -0.064909          -0.155785   \n",
       "3 -1.758561  -0.22962 -0.075091 -0.064909          -0.155785   \n",
       "4  0.326078  -0.22962 -0.075091 -0.064909          -0.155785   \n",
       "\n",
       "   previous_cancellations  previous_bookings_not_canceled  reserved_room_type  \\\n",
       "0               -0.288845                       -0.117606           -0.524812   \n",
       "1               -0.288845                       -0.117606           -0.524812   \n",
       "2               -0.288845                       -0.117606           -0.524812   \n",
       "3               -0.288845                       -0.117606           -0.524812   \n",
       "4               -0.288845                       -0.117606           -0.524812   \n",
       "\n",
       "   booking_changes  days_in_waiting_list  required_car_parking_spaces  \\\n",
       "0        -0.331568             -0.080063                    -0.248662   \n",
       "1        -0.331568             -0.080063                    -0.248662   \n",
       "2        -0.331568             -0.080063                    -0.248662   \n",
       "3        -0.331568             -0.080063                    -0.248662   \n",
       "4        -0.331568             -0.080063                    -0.248662   \n",
       "\n",
       "   total_of_special_requests  total_nights  country_AGO  country_ALB  \\\n",
       "0                  -0.699209     -1.174475            0            0   \n",
       "1                   0.614901      0.531603            0            0   \n",
       "2                   0.614901      0.531603            0            0   \n",
       "3                   0.614901      0.531603            0            0   \n",
       "4                  -0.699209      2.237681            0            0   \n",
       "\n",
       "   country_AND  country_ARE  country_ARG  country_ARM  country_ASM  \\\n",
       "0            0            0            0            0            0   \n",
       "1            0            0            0            0            0   \n",
       "2            0            0            0            0            0   \n",
       "3            0            0            0            0            0   \n",
       "4            0            0            0            0            0   \n",
       "\n",
       "   country_ATA  country_ATF  country_AUS  country_AUT  country_AZE  \\\n",
       "0            0            0            0            0            0   \n",
       "1            0            0            0            1            0   \n",
       "2            0            0            0            1            0   \n",
       "3            0            0            0            0            0   \n",
       "4            0            0            0            0            0   \n",
       "\n",
       "   country_BDI  country_BEL  country_BEN  country_BFA  country_BGD  \\\n",
       "0            0            0            0            0            0   \n",
       "1            0            0            0            0            0   \n",
       "2            0            0            0            0            0   \n",
       "3            0            0            0            0            0   \n",
       "4            0            1            0            0            0   \n",
       "\n",
       "   country_BGR  country_BHR  country_BHS  country_BIH  country_BLR  \\\n",
       "0            0            0            0            0            0   \n",
       "1            0            0            0            0            0   \n",
       "2            0            0            0            0            0   \n",
       "3            0            0            0            0            0   \n",
       "4            0            0            0            0            0   \n",
       "\n",
       "   country_BOL  country_BRA  country_BRB  country_BWA  country_CAF  \\\n",
       "0            0            0            0            0            0   \n",
       "1            0            0            0            0            0   \n",
       "2            0            0            0            0            0   \n",
       "3            0            0            0            0            0   \n",
       "4            0            0            0            0            0   \n",
       "\n",
       "   country_CHE  country_CHL  country_CHN  country_CIV  country_CMR  \\\n",
       "0            0            0            0            0            0   \n",
       "1            0            0            0            0            0   \n",
       "2            0            0            0            0            0   \n",
       "3            0            0            0            0            0   \n",
       "4            0            0            0            0            0   \n",
       "\n",
       "   country_CN  country_COL  country_CPV  country_CRI  country_CUB  \\\n",
       "0           0            0            0            0            0   \n",
       "1           0            0            0            0            0   \n",
       "2           0            0            0            0            0   \n",
       "3           0            0            0            0            0   \n",
       "4           0            0            0            0            0   \n",
       "\n",
       "   country_CYM  country_CYP  country_CZE  country_DEU  country_DMA  \\\n",
       "0            0            0            0            0            0   \n",
       "1            0            0            0            0            0   \n",
       "2            0            0            0            0            0   \n",
       "3            0            0            0            0            0   \n",
       "4            0            0            0            0            0   \n",
       "\n",
       "   country_DNK  country_DOM  country_DZA  country_ECU  country_EGY  \\\n",
       "0            0            0            0            0            0   \n",
       "1            0            0            0            0            0   \n",
       "2            0            0            0            0            0   \n",
       "3            0            0            0            0            0   \n",
       "4            0            0            0            0            0   \n",
       "\n",
       "   country_ESP  country_EST  country_ETH  country_FIN  country_FJI  \\\n",
       "0            0            0            0            0            0   \n",
       "1            0            0            0            0            0   \n",
       "2            0            0            0            0            0   \n",
       "3            0            0            0            0            0   \n",
       "4            0            0            0            0            0   \n",
       "\n",
       "   country_FRA  country_FRO  country_GAB  country_GBR  country_GEO  \\\n",
       "0            0            0            0            0            0   \n",
       "1            0            0            0            0            0   \n",
       "2            0            0            0            0            0   \n",
       "3            0            0            0            0            0   \n",
       "4            0            0            0            0            0   \n",
       "\n",
       "   country_GGY  country_GHA  country_GIB  country_GLP  country_GNB  \\\n",
       "0            0            0            0            0            0   \n",
       "1            0            0            0            0            0   \n",
       "2            0            0            0            0            0   \n",
       "3            0            0            0            0            0   \n",
       "4            0            0            0            0            0   \n",
       "\n",
       "   country_GRC  country_GTM  country_GUY  country_HKG  country_HND  \\\n",
       "0            0            0            0            0            0   \n",
       "1            0            0            0            0            0   \n",
       "2            0            0            0            0            0   \n",
       "3            0            0            0            0            0   \n",
       "4            0            0            0            0            0   \n",
       "\n",
       "   country_HRV  country_HUN  country_IDN  country_IMN  country_IND  \\\n",
       "0            0            0            0            0            0   \n",
       "1            0            0            0            0            0   \n",
       "2            0            0            0            0            0   \n",
       "3            0            0            0            0            0   \n",
       "4            0            0            0            0            0   \n",
       "\n",
       "   country_IRL  country_IRN  country_IRQ  country_ISL  country_ISR  \\\n",
       "0            0            0            0            0            0   \n",
       "1            0            0            0            0            0   \n",
       "2            0            0            0            0            0   \n",
       "3            0            0            0            0            0   \n",
       "4            0            0            0            0            0   \n",
       "\n",
       "   country_ITA  country_JAM  country_JEY  country_JOR  country_JPN  \\\n",
       "0            0            0            0            0            0   \n",
       "1            0            0            0            0            0   \n",
       "2            0            0            0            0            0   \n",
       "3            0            0            0            0            0   \n",
       "4            0            0            0            0            0   \n",
       "\n",
       "   country_KAZ  country_KEN  country_KHM  country_KIR  country_KNA  \\\n",
       "0            0            0            0            0            0   \n",
       "1            0            0            0            0            0   \n",
       "2            0            0            0            0            0   \n",
       "3            0            0            0            0            0   \n",
       "4            0            0            0            0            0   \n",
       "\n",
       "   country_KOR  country_KWT  country_LAO  country_LBN  country_LBY  \\\n",
       "0            0            0            0            0            0   \n",
       "1            0            0            0            0            0   \n",
       "2            0            0            0            0            0   \n",
       "3            0            0            0            0            0   \n",
       "4            0            0            0            0            0   \n",
       "\n",
       "   country_LCA  country_LIE  country_LKA  country_LTU  country_LUX  \\\n",
       "0            0            0            0            0            0   \n",
       "1            0            0            0            0            0   \n",
       "2            0            0            0            0            0   \n",
       "3            0            0            0            0            0   \n",
       "4            0            0            0            0            0   \n",
       "\n",
       "   country_LVA  country_MAC  country_MAR  country_MCO  country_MDG  \\\n",
       "0            0            0            0            0            0   \n",
       "1            0            0            0            0            0   \n",
       "2            0            0            0            0            0   \n",
       "3            0            0            0            0            0   \n",
       "4            0            0            0            0            0   \n",
       "\n",
       "   country_MDV  country_MEX  country_MKD  country_MLI  country_MLT  \\\n",
       "0            0            0            0            0            0   \n",
       "1            0            0            0            0            0   \n",
       "2            0            0            0            0            0   \n",
       "3            0            0            0            0            0   \n",
       "4            0            0            0            0            0   \n",
       "\n",
       "   country_MMR  country_MNE  country_MOZ  country_MRT  country_MUS  \\\n",
       "0            0            0            0            0            0   \n",
       "1            0            0            0            0            0   \n",
       "2            0            0            0            0            0   \n",
       "3            0            0            0            0            0   \n",
       "4            0            0            0            0            0   \n",
       "\n",
       "   country_MWI  country_MYS  country_MYT  country_NAM  country_NCL  \\\n",
       "0            0            0            0            0            0   \n",
       "1            0            0            0            0            0   \n",
       "2            0            0            0            0            0   \n",
       "3            0            0            0            0            0   \n",
       "4            0            0            0            0            0   \n",
       "\n",
       "   country_NGA  country_NIC  country_NLD  country_NOR  country_NPL  \\\n",
       "0            0            0            0            0            0   \n",
       "1            0            0            0            0            0   \n",
       "2            0            0            0            0            0   \n",
       "3            0            0            0            0            0   \n",
       "4            0            0            0            0            0   \n",
       "\n",
       "   country_NZL  country_OMN  country_PAK  country_PAN  country_PER  \\\n",
       "0            0            0            0            0            0   \n",
       "1            0            0            0            0            0   \n",
       "2            0            0            0            0            0   \n",
       "3            0            0            0            0            0   \n",
       "4            0            0            0            0            0   \n",
       "\n",
       "   country_PHL  country_PLW  country_POL  country_PRI  country_PRT  \\\n",
       "0            0            0            0            0            1   \n",
       "1            0            0            0            0            0   \n",
       "2            0            0            0            0            0   \n",
       "3            0            0            0            0            1   \n",
       "4            0            0            0            0            0   \n",
       "\n",
       "   country_PRY  country_PYF  country_QAT  country_ROU  country_RUS  \\\n",
       "0            0            0            0            0            0   \n",
       "1            0            0            0            0            0   \n",
       "2            0            0            0            0            0   \n",
       "3            0            0            0            0            0   \n",
       "4            0            0            0            0            0   \n",
       "\n",
       "   country_RWA  country_SAU  country_SDN  country_SEN  country_SGP  \\\n",
       "0            0            0            0            0            0   \n",
       "1            0            0            0            0            0   \n",
       "2            0            0            0            0            0   \n",
       "3            0            0            0            0            0   \n",
       "4            0            0            0            0            0   \n",
       "\n",
       "   country_SLE  country_SLV  country_SMR  country_SRB  country_STP  \\\n",
       "0            0            0            0            0            0   \n",
       "1            0            0            0            0            0   \n",
       "2            0            0            0            0            0   \n",
       "3            0            0            0            0            0   \n",
       "4            0            0            0            0            0   \n",
       "\n",
       "   country_SUR  country_SVK  country_SVN  country_SWE  country_SYC  \\\n",
       "0            0            0            0            0            0   \n",
       "1            0            0            0            0            0   \n",
       "2            0            0            0            0            0   \n",
       "3            0            0            0            0            0   \n",
       "4            0            0            0            0            0   \n",
       "\n",
       "   country_SYR  country_TGO  country_THA  country_TJK  country_TMP  \\\n",
       "0            0            0            0            0            0   \n",
       "1            0            0            0            0            0   \n",
       "2            0            0            0            0            0   \n",
       "3            0            0            0            0            0   \n",
       "4            0            0            0            0            0   \n",
       "\n",
       "   country_TUN  country_TUR  country_TWN  country_TZA  country_UGA  \\\n",
       "0            0            0            0            0            0   \n",
       "1            0            0            0            0            0   \n",
       "2            0            0            0            0            0   \n",
       "3            0            0            0            0            0   \n",
       "4            0            0            0            0            0   \n",
       "\n",
       "   country_UKR  country_UMI  country_URY  country_USA  country_UZB  \\\n",
       "0            0            0            0            0            0   \n",
       "1            0            0            0            0            0   \n",
       "2            0            0            0            0            0   \n",
       "3            0            0            0            0            0   \n",
       "4            0            0            0            0            0   \n",
       "\n",
       "   country_VEN  country_VGB  country_VNM  country_ZAF  country_ZMB  \\\n",
       "0            0            0            0            0            0   \n",
       "1            0            0            0            0            0   \n",
       "2            0            0            0            0            0   \n",
       "3            0            0            0            0            0   \n",
       "4            0            0            0            0            0   \n",
       "\n",
       "   country_ZWE  distribution_channel_Direct  distribution_channel_GDS  \\\n",
       "0            0                            0                         0   \n",
       "1            0                            0                         0   \n",
       "2            0                            0                         0   \n",
       "3            0                            0                         0   \n",
       "4            0                            0                         0   \n",
       "\n",
       "   distribution_channel_TA/TO  customer_type_Group  customer_type_Transient  \\\n",
       "0                           1                    0                        1   \n",
       "1                           1                    0                        1   \n",
       "2                           1                    0                        1   \n",
       "3                           1                    0                        1   \n",
       "4                           1                    0                        1   \n",
       "\n",
       "   customer_type_Transient-Party  \n",
       "0                              0  \n",
       "1                              0  \n",
       "2                              0  \n",
       "3                              0  \n",
       "4                              0  "
      ]
     },
     "execution_count": 28,
     "metadata": {},
     "output_type": "execute_result"
    }
   ],
   "source": [
    "features_test_scaled = pd.DataFrame(scaler.transform(features_test[scale_cols]),\n",
    "                                     index=features_test[scale_cols].index,\n",
    "                                     columns=features_test[scale_cols].columns)\n",
    "features_test_scaled = features_test_scaled.join(ohe_test)\n",
    "features_test_scaled.head()"
   ]
  },
  {
   "cell_type": "markdown",
   "metadata": {},
   "source": [
    "Ниже будут оцениваться различные модели с использованием метрики **f1-score** т.к. самым неудачным предсказанием является то, что бронь не будет отменена, хотя она фактически была отменена, а метрика **f1-score** делает данное предсказание значимым, но также учитывает и **precision**"
   ]
  },
  {
   "cell_type": "markdown",
   "metadata": {},
   "source": [
    "- Исследуем модель дерева решений"
   ]
  },
  {
   "cell_type": "code",
   "execution_count": 29,
   "metadata": {},
   "outputs": [],
   "source": [
    "scorer = make_scorer(f1_score, zero_division=0)"
   ]
  },
  {
   "cell_type": "code",
   "execution_count": 30,
   "metadata": {},
   "outputs": [
    {
     "name": "stdout",
     "output_type": "stream",
     "text": [
      "Наилучший результат в среднем:\n",
      "0.5686411638071076\n",
      "Наилучшая глубина дерева:\n"
     ]
    },
    {
     "data": {
      "text/plain": [
       "4"
      ]
     },
     "execution_count": 30,
     "metadata": {},
     "output_type": "execute_result"
    }
   ],
   "source": [
    "best_tree_model = None\n",
    "best_tree_result = 0\n",
    "\n",
    "for depth in range (1, 11):\n",
    "    model = DecisionTreeClassifier(random_state=12345, max_depth=depth)\n",
    "    result = np.mean(cross_val_score(model, features_train_scaled, target_train, cv=5, scoring='f1'))\n",
    "    if result > best_tree_result:\n",
    "        best_tree_model = model\n",
    "        best_tree_result = result\n",
    "        best_tree_depth = depth\n",
    "\n",
    "print('Наилучший результат в среднем:')\n",
    "print(best_tree_result)\n",
    "print('Наилучшая глубина дерева:')\n",
    "best_tree_depth"
   ]
  },
  {
   "cell_type": "markdown",
   "metadata": {},
   "source": [
    "- Исследуем модель случайного леса"
   ]
  },
  {
   "cell_type": "code",
   "execution_count": 31,
   "metadata": {},
   "outputs": [
    {
     "name": "stdout",
     "output_type": "stream",
     "text": [
      "Наилучший результат в среднем:\n",
      "0.4804122712675123\n",
      "Наилучшее кол-во деревьев:\n"
     ]
    },
    {
     "data": {
      "text/plain": [
       "20"
      ]
     },
     "metadata": {},
     "output_type": "display_data"
    },
    {
     "name": "stdout",
     "output_type": "stream",
     "text": [
      "Наилучшая максимальная глубина дерева:\n"
     ]
    },
    {
     "data": {
      "text/plain": [
       "9"
      ]
     },
     "metadata": {},
     "output_type": "display_data"
    }
   ],
   "source": [
    "best_forest_model = None\n",
    "best_forest_result = 0\n",
    "\n",
    "for est in range(10, 51, 10):\n",
    "    for depth in range (1, 11):\n",
    "        model = RandomForestClassifier(random_state=12345, n_estimators=est, max_depth=depth)\n",
    "        result = np.mean(cross_val_score(model, features_train_scaled, target_train, cv=5, scoring=scorer))\n",
    "        if result > best_forest_result:\n",
    "            best_forest_model = model\n",
    "            best_forest_result = result\n",
    "            best_forest_est = est\n",
    "            best_forest_depth = depth\n",
    "      \n",
    "print('Наилучший результат в среднем:')\n",
    "print(best_forest_result)\n",
    "print('Наилучшее кол-во деревьев:')\n",
    "display(best_forest_est)\n",
    "print('Наилучшая максимальная глубина дерева:')\n",
    "display(best_forest_depth)"
   ]
  },
  {
   "cell_type": "markdown",
   "metadata": {},
   "source": [
    "- Исследуем модель логистической регрессии"
   ]
  },
  {
   "cell_type": "code",
   "execution_count": 33,
   "metadata": {},
   "outputs": [
    {
     "name": "stdout",
     "output_type": "stream",
     "text": [
      "Наилучший результат:\n",
      "0.5520190745486687\n",
      "Результат на валидационной выборке:\n"
     ]
    },
    {
     "data": {
      "text/plain": [
       "0.5520190745486687"
      ]
     },
     "execution_count": 33,
     "metadata": {},
     "output_type": "execute_result"
    }
   ],
   "source": [
    "model = LogisticRegression(random_state=12345, solver='liblinear')\n",
    "logistic_result = np.mean(cross_val_score(model, features_train_scaled, target_train, cv=5, scoring=scorer))\n",
    "print('Наилучший результат:')\n",
    "print(logistic_result)\n",
    "print('Результат на валидационной выборке:')\n",
    "logistic_result"
   ]
  },
  {
   "cell_type": "code",
   "execution_count": 34,
   "metadata": {},
   "outputs": [
    {
     "data": {
      "text/html": [
       "<div>\n",
       "<style scoped>\n",
       "    .dataframe tbody tr th:only-of-type {\n",
       "        vertical-align: middle;\n",
       "    }\n",
       "\n",
       "    .dataframe tbody tr th {\n",
       "        vertical-align: top;\n",
       "    }\n",
       "\n",
       "    .dataframe thead th {\n",
       "        text-align: right;\n",
       "    }\n",
       "</style>\n",
       "<table border=\"1\" class=\"dataframe\">\n",
       "  <thead>\n",
       "    <tr style=\"text-align: right;\">\n",
       "      <th></th>\n",
       "      <th>Случаный лес</th>\n",
       "      <th>Дерево решений</th>\n",
       "      <th>Логистическая регрессия</th>\n",
       "    </tr>\n",
       "  </thead>\n",
       "  <tbody>\n",
       "    <tr>\n",
       "      <td>Результат на кросс-валидации</td>\n",
       "      <td>0.480412</td>\n",
       "      <td>0.568641</td>\n",
       "      <td>0.552019</td>\n",
       "    </tr>\n",
       "  </tbody>\n",
       "</table>\n",
       "</div>"
      ],
      "text/plain": [
       "                              Случаный лес  Дерево решений  \\\n",
       "Результат на кросс-валидации      0.480412        0.568641   \n",
       "\n",
       "                              Логистическая регрессия  \n",
       "Результат на кросс-валидации                 0.552019  "
      ]
     },
     "execution_count": 34,
     "metadata": {},
     "output_type": "execute_result"
    }
   ],
   "source": [
    "results = [best_forest_result, best_tree_result, logistic_result]\n",
    "result_df = pd.DataFrame([results],\n",
    "                         columns=['Случаный лес', 'Дерево решений', 'Логистическая регрессия'],\n",
    "                        index=['Результат на кросс-валидации'])\n",
    "result_df"
   ]
  },
  {
   "cell_type": "markdown",
   "metadata": {},
   "source": [
    "Как можно заметить модель **дерева решений** показала наилучший результат, ее мы и возьмем для итоговой проверки"
   ]
  },
  {
   "cell_type": "code",
   "execution_count": 41,
   "metadata": {},
   "outputs": [
    {
     "data": {
      "text/plain": [
       "0.5185309220808216"
      ]
     },
     "execution_count": 41,
     "metadata": {},
     "output_type": "execute_result"
    }
   ],
   "source": [
    "best_tree_model.fit(features_train_scaled, target_train)\n",
    "predictions_test = best_tree_model.predict(features_test_scaled)\n",
    "f1_score(target_test, predictions_test)"
   ]
  },
  {
   "cell_type": "code",
   "execution_count": 36,
   "metadata": {},
   "outputs": [],
   "source": [
    "df_test['predictions'] = predictions_test\n",
    "df_test = df_test.apply(lambda row:compute_income(row, True), axis=1)\n",
    "with_deposit = df_test['income'].sum()"
   ]
  },
  {
   "cell_type": "code",
   "execution_count": 37,
   "metadata": {},
   "outputs": [
    {
     "data": {
      "text/plain": [
       "2017    32412\n",
       "Name: arrival_date_year, dtype: int64"
      ]
     },
     "execution_count": 37,
     "metadata": {},
     "output_type": "execute_result"
    }
   ],
   "source": [
    "df_test['arrival_date_year'].value_counts()"
   ]
  },
  {
   "cell_type": "code",
   "execution_count": 38,
   "metadata": {},
   "outputs": [
    {
     "name": "stdout",
     "output_type": "stream",
     "text": [
      "Прибыль отеля на тестовой выборке без внедрения депозитов:\n",
      "49055343\n",
      "Прибыль отеля на тестовой выборке с внедрением депозитов:\n"
     ]
    },
    {
     "data": {
      "text/plain": [
       "59520391"
      ]
     },
     "execution_count": 38,
     "metadata": {},
     "output_type": "execute_result"
    }
   ],
   "source": [
    "print('Прибыль отеля на тестовой выборке без внедрения депозитов:')\n",
    "print(without_deposit)\n",
    "\n",
    "print('Прибыль отеля на тестовой выборке с внедрением депозитов:')\n",
    "with_deposit"
   ]
  },
  {
   "cell_type": "code",
   "execution_count": 39,
   "metadata": {},
   "outputs": [
    {
     "name": "stdout",
     "output_type": "stream",
     "text": [
      "Потенциальная прибыль с введением депозита за вычетом инвестированных 400к\n"
     ]
    },
    {
     "data": {
      "text/plain": [
       "10065048"
      ]
     },
     "execution_count": 39,
     "metadata": {},
     "output_type": "execute_result"
    }
   ],
   "source": [
    "print('Потенциальная прибыль с введением депозита за вычетом инвестированных 400к')\n",
    "with_deposit - without_deposit -400000"
   ]
  },
  {
   "cell_type": "markdown",
   "metadata": {},
   "source": [
    "## Вывод"
   ]
  },
  {
   "cell_type": "markdown",
   "metadata": {},
   "source": [
    "Данные были исследованы с использованием 3 алгоритмов машинного обучения с использованием кросс-валидации, дерево решений показало наилучший результат на кросс-валидации и впоследствии было взято для проверки на тестовой выборке. После чего был получен доход с внесением депозита и получено сравнение с предыдущим результатом, которое показало, что новый подход приносит больше прибыли и, так как в тестовой выборке данные только за 1 год вложение 400к является выгодной инвестицией и окупается за год с избытком."
   ]
  },
  {
   "cell_type": "markdown",
   "metadata": {},
   "source": [
    "# Шаг 5. Опишите портрет «ненадёжного» клиента"
   ]
  },
  {
   "cell_type": "code",
   "execution_count": 40,
   "metadata": {},
   "outputs": [
    {
     "name": "stdout",
     "output_type": "stream",
     "text": [
      "total_of_special_requests        -0.246786\n",
      "required_car_parking_spaces      -0.185546\n",
      "country_FRA                      -0.138594\n",
      "booking_changes                  -0.136588\n",
      "distribution_channel_Direct      -0.133230\n",
      "country_DEU                      -0.115621\n",
      "country_GBR                      -0.107649\n",
      "country_ESP                      -0.082033\n",
      "previous_bookings_not_canceled   -0.074072\n",
      "reserved_room_type               -0.070243\n",
      "customer_type_Transient-Party    -0.068117\n",
      "country_BEL                      -0.058767\n",
      "country_NLD                      -0.056252\n",
      "arrival_date_year                -0.049644\n",
      "country_IRL                      -0.047976\n",
      "country_AUT                      -0.046546\n",
      "country_CHE                      -0.043370\n",
      "country_USA                      -0.042958\n",
      "customer_type_Group              -0.038410\n",
      "country_CN                       -0.035493\n",
      "country_POL                      -0.029027\n",
      "babies                           -0.028814\n",
      "country_SWE                      -0.028741\n",
      "country_FIN                      -0.027666\n",
      "country_SRB                      -0.025692\n",
      "is_repeated_guest                -0.024107\n",
      "country_DNK                      -0.021664\n",
      "country_NOR                      -0.020810\n",
      "country_JPN                      -0.019251\n",
      "country_ROU                      -0.017643\n",
      "country_AUS                      -0.016874\n",
      "country_LTU                      -0.015812\n",
      "country_DZA                      -0.014017\n",
      "country_ARG                      -0.013991\n",
      "distribution_channel_GDS         -0.013819\n",
      "country_NZL                      -0.013475\n",
      "country_CZE                      -0.013408\n",
      "children                         -0.012894\n",
      "country_MEX                      -0.012295\n",
      "country_IND                      -0.011142\n",
      "country_LVA                      -0.011102\n",
      "country_HRV                      -0.010617\n",
      "country_IRQ                      -0.010375\n",
      "country_MYS                      -0.010071\n",
      "country_BRA                      -0.009927\n",
      "country_BLR                      -0.009471\n",
      "country_BOL                      -0.008985\n",
      "country_EST                      -0.008858\n",
      "country_IRN                      -0.008826\n",
      "country_CYP                      -0.008760\n",
      "stays_in_weekend_nights          -0.008503\n",
      "country_BGR                      -0.008320\n",
      "country_GRC                      -0.008067\n",
      "country_CRI                      -0.007958\n",
      "country_LBY                      -0.007924\n",
      "country_THA                      -0.007456\n",
      "country_JOR                      -0.007408\n",
      "country_GNB                      -0.007336\n",
      "country_CMR                      -0.007336\n",
      "country_ISR                      -0.007091\n",
      "country_EGY                      -0.006907\n",
      "country_ECU                      -0.006823\n",
      "country_ITA                      -0.006647\n",
      "country_KAZ                      -0.006194\n",
      "country_PAN                      -0.005990\n",
      "country_BRB                      -0.005990\n",
      "country_SUR                      -0.005187\n",
      "country_LKA                      -0.005187\n",
      "country_MNE                      -0.005187\n",
      "country_LBN                      -0.004812\n",
      "country_ALB                      -0.004759\n",
      "country_SVN                      -0.004719\n",
      "country_MOZ                      -0.004539\n",
      "country_UKR                      -0.004263\n",
      "country_CIV                      -0.004235\n",
      "country_LIE                      -0.004235\n",
      "country_DOM                      -0.004235\n",
      "country_JAM                      -0.004235\n",
      "country_MWI                      -0.004235\n",
      "country_URY                      -0.004175\n",
      "country_CHL                      -0.003905\n",
      "country_RUS                      -0.003634\n",
      "country_MKD                      -0.003402\n",
      "country_LUX                      -0.003320\n",
      "country_TWN                      -0.003252\n",
      "country_MLT                      -0.003123\n",
      "country_RWA                      -0.002995\n",
      "country_ATA                      -0.002995\n",
      "country_LCA                      -0.002995\n",
      "country_GUY                      -0.002995\n",
      "country_UGA                      -0.002995\n",
      "country_PYF                      -0.002995\n",
      "country_CUB                      -0.002995\n",
      "country_DMA                      -0.002995\n",
      "country_SLV                      -0.002995\n",
      "country_PRY                      -0.002995\n",
      "country_SYC                      -0.002995\n",
      "country_NAM                      -0.002995\n",
      "country_BHR                      -0.002995\n",
      "country_MLI                      -0.002995\n",
      "country_BFA                      -0.002995\n",
      "country_MMR                      -0.002995\n",
      "country_ETH                      -0.002995\n",
      "country_KNA                      -0.002995\n",
      "country_STP                      -0.002995\n",
      "country_PLW                      -0.002995\n",
      "country_BDI                      -0.002995\n",
      "country_SYR                      -0.002995\n",
      "country_ZWE                      -0.002995\n",
      "country_CYM                      -0.002995\n",
      "country_SMR                      -0.002995\n",
      "country_BWA                      -0.002995\n",
      "country_MUS                      -0.002952\n",
      "arrival_date_day_of_month        -0.002751\n",
      "country_KOR                      -0.002357\n",
      "country_PER                      -0.002254\n",
      "country_SGP                      -0.002133\n",
      "country_PRI                      -0.001594\n",
      "country_OMN                      -0.001527\n",
      "country_BIH                      -0.001527\n",
      "country_KWT                      -0.001527\n",
      "country_MAR                      -0.001279\n",
      "country_COL                      -0.001222\n",
      "country_HUN                      -0.000972\n",
      "country_ARM                      -0.000499\n",
      "country_TMP                      -0.000353\n",
      "country_SEN                      -0.000353\n",
      "country_GAB                      -0.000353\n",
      "country_VNM                       0.000793\n",
      "country_GIB                       0.001121\n",
      "country_MCO                       0.001686\n",
      "country_KEN                       0.001686\n",
      "country_AZE                       0.002180\n",
      "country_ZAF                       0.002966\n",
      "country_VEN                       0.003459\n",
      "country_AGO                       0.003759\n",
      "country_PHL                       0.003770\n",
      "country_SVK                       0.004121\n",
      "country_TZA                       0.004482\n",
      "total_nights                      0.004833\n",
      "country_TUR                       0.005120\n",
      "country_VGB                       0.005379\n",
      "country_BEN                       0.005379\n",
      "country_NIC                       0.005379\n",
      "country_IMN                       0.005379\n",
      "country_UZB                       0.005379\n",
      "country_ZMB                       0.005379\n",
      "country_HND                       0.005379\n",
      "country_AND                       0.005379\n",
      "country_TUN                       0.005643\n",
      "country_CPV                       0.005698\n",
      "country_ISL                       0.006571\n",
      "country_GLP                       0.007607\n",
      "country_MAC                       0.007607\n",
      "country_KHM                       0.007607\n",
      "country_MDV                       0.008283\n",
      "country_GEO                       0.009066\n",
      "country_GGY                       0.009316\n",
      "country_PAK                       0.009757\n",
      "country_QAT                       0.009757\n",
      "country_BGD                       0.010554\n",
      "stays_in_week_nights              0.011545\n",
      "country_SAU                       0.011921\n",
      "country_JEY                       0.012027\n",
      "country_NGA                       0.012953\n",
      "country_TJK                       0.015214\n",
      "country_CHN                       0.016820\n",
      "country_IDN                       0.017685\n",
      "country_HKG                       0.021517\n",
      "country_ARE                       0.022504\n",
      "meal                              0.029765\n",
      "arrival_date_week_number          0.038899\n",
      "arrival_date_month                0.040861\n",
      "adults                            0.047648\n",
      "customer_type_Transient           0.062054\n",
      "days_in_waiting_list              0.077588\n",
      "distribution_channel_TA/TO        0.155670\n",
      "lead_time                         0.317745\n",
      "country_PRT                       0.365437\n",
      "previous_cancellations            0.372474\n",
      "is_canceled                       1.000000\n",
      "country_ASM                            NaN\n",
      "country_ATF                            NaN\n",
      "country_BHS                            NaN\n",
      "country_CAF                            NaN\n",
      "country_FJI                            NaN\n",
      "country_FRO                            NaN\n",
      "country_GHA                            NaN\n",
      "country_GTM                            NaN\n",
      "country_KIR                            NaN\n",
      "country_LAO                            NaN\n",
      "country_MDG                            NaN\n",
      "country_MRT                            NaN\n",
      "country_MYT                            NaN\n",
      "country_NCL                            NaN\n",
      "country_NPL                            NaN\n",
      "country_SDN                            NaN\n",
      "country_SLE                            NaN\n",
      "country_TGO                            NaN\n",
      "country_UMI                            NaN\n",
      "Name: is_canceled, dtype: float64\n"
     ]
    }
   ],
   "source": [
    "with pd.option_context('display.max_rows', None):  # more options can be specified also\n",
    "    print(df_train.corr().loc['is_canceled',].sort_values())"
   ]
  },
  {
   "cell_type": "markdown",
   "metadata": {},
   "source": [
    "## Вывод"
   ]
  },
  {
   "cell_type": "markdown",
   "metadata": {},
   "source": [
    "Самыми ненадежными клиентами данного отеля являются португальцы, также сильно зависит кол-во дней между бронированием и датой приезда, а также типом заказчика `Transient`, а также люди, которые забронировали отель от агенств и туроператоров. Признаками надежного клиента можно выделить такие показатели как  количество специальных отметок, заказчиков французов и людей имеющих необходимость в парковочном месте или изменявших параметры заказа"
   ]
  },
  {
   "cell_type": "markdown",
   "metadata": {},
   "source": [
    "# Общий вывод"
   ]
  },
  {
   "cell_type": "markdown",
   "metadata": {},
   "source": [
    "Во время выолнения данного проекта были открыты 2 файла и изучена информация в них. После чего была произведена предобработка и подготовка данных к машинному обучения. Далее был разработан алгоритм подсчета прибыли или убытка, который приносит клиент, а также посчитана суммараная прибыль на тестовой выборке за 2017 год, и суммарная прибыль по обоим выборкам, после чего данные были исследованы с использованием кросс-валидации, случайный лес показал наилучший результат и впоследствии был взят для проверки на тестовой выборке. После чего был получен доход с внесением депозита и получено сравнение с предыдущим результатом, которое показало, что новый подход приносит гораздо больше прибыли и, так как в тестовой выборке данные только за 1 год вложение 400к является выгодной инвестицией. В конце были проанализированы какие критерии наиболее сильно влияют на отмену бронирования и оказалось, что самыми ненадежными клиентами данного отеля являются португальцы, также сильно зависит кол-во дней между бронированием и датой приезда, а также типом заказчика `Transient`, а также люди, которые забронировали отель от агенств и туроператоров. Признаками надежного клиента можно выделить такие показатели как  количество специальных отметок, заказчиков типа `Transient_Party` и людей имеющих необходимость в парковочном месте"
   ]
  }
 ],
 "metadata": {
  "ExecuteTimeLog": [
   {
    "duration": 1187,
    "start_time": "2022-01-15T21:20:33.209Z"
   },
   {
    "duration": 250,
    "start_time": "2022-01-15T21:21:20.630Z"
   },
   {
    "duration": 7,
    "start_time": "2022-01-15T21:22:07.547Z"
   },
   {
    "duration": 4,
    "start_time": "2022-01-15T21:22:50.435Z"
   },
   {
    "duration": 245,
    "start_time": "2022-01-15T21:22:51.170Z"
   },
   {
    "duration": 6,
    "start_time": "2022-01-15T21:25:07.566Z"
   },
   {
    "duration": 179,
    "start_time": "2022-01-15T21:26:58.172Z"
   },
   {
    "duration": 220,
    "start_time": "2022-01-15T21:36:12.211Z"
   },
   {
    "duration": 172,
    "start_time": "2022-01-15T21:36:19.347Z"
   },
   {
    "duration": 228,
    "start_time": "2022-01-15T21:36:52.860Z"
   },
   {
    "duration": 174,
    "start_time": "2022-01-15T21:36:56.899Z"
   },
   {
    "duration": 12,
    "start_time": "2022-01-15T21:41:32.675Z"
   },
   {
    "duration": 380,
    "start_time": "2022-01-15T21:59:58.139Z"
   },
   {
    "duration": 15,
    "start_time": "2022-01-15T22:00:17.507Z"
   },
   {
    "duration": 24,
    "start_time": "2022-01-15T22:00:30.961Z"
   },
   {
    "duration": 164,
    "start_time": "2022-01-15T22:00:34.448Z"
   },
   {
    "duration": 13,
    "start_time": "2022-01-15T22:00:44.816Z"
   },
   {
    "duration": 163,
    "start_time": "2022-01-15T22:00:47.119Z"
   },
   {
    "duration": 263,
    "start_time": "2022-01-15T22:00:55.378Z"
   },
   {
    "duration": 4,
    "start_time": "2022-01-15T22:01:01.706Z"
   },
   {
    "duration": 263,
    "start_time": "2022-01-15T22:01:01.712Z"
   },
   {
    "duration": 196,
    "start_time": "2022-01-15T22:01:01.977Z"
   },
   {
    "duration": 25,
    "start_time": "2022-01-15T22:01:02.175Z"
   },
   {
    "duration": 13,
    "start_time": "2022-01-15T22:01:02.202Z"
   },
   {
    "duration": 26,
    "start_time": "2022-01-15T22:01:06.850Z"
   },
   {
    "duration": 1191,
    "start_time": "2022-01-18T14:18:53.313Z"
   },
   {
    "duration": 263,
    "start_time": "2022-01-18T14:18:54.506Z"
   },
   {
    "duration": 191,
    "start_time": "2022-01-18T14:18:54.771Z"
   },
   {
    "duration": 18,
    "start_time": "2022-01-18T14:18:54.963Z"
   },
   {
    "duration": 29,
    "start_time": "2022-01-18T14:18:54.983Z"
   },
   {
    "duration": 30,
    "start_time": "2022-01-18T14:18:55.014Z"
   },
   {
    "duration": 6,
    "start_time": "2022-01-18T14:18:57.709Z"
   },
   {
    "duration": 4,
    "start_time": "2022-01-18T14:19:10.194Z"
   },
   {
    "duration": 14,
    "start_time": "2022-01-18T14:19:38.637Z"
   },
   {
    "duration": 37,
    "start_time": "2022-01-18T14:19:39.665Z"
   },
   {
    "duration": 7,
    "start_time": "2022-01-18T14:20:38.008Z"
   },
   {
    "duration": 352,
    "start_time": "2022-01-18T14:21:58.431Z"
   },
   {
    "duration": 3,
    "start_time": "2022-01-18T14:22:07.484Z"
   },
   {
    "duration": 297,
    "start_time": "2022-01-18T14:22:08.543Z"
   },
   {
    "duration": 255,
    "start_time": "2022-01-18T14:22:13.868Z"
   },
   {
    "duration": 260,
    "start_time": "2022-01-18T14:22:28.739Z"
   },
   {
    "duration": 266,
    "start_time": "2022-01-18T14:23:24.941Z"
   },
   {
    "duration": 19,
    "start_time": "2022-01-18T14:23:29.560Z"
   },
   {
    "duration": 5,
    "start_time": "2022-01-18T14:23:39.577Z"
   },
   {
    "duration": 18,
    "start_time": "2022-01-18T14:23:45.332Z"
   },
   {
    "duration": 1951,
    "start_time": "2022-01-18T14:23:56.831Z"
   },
   {
    "duration": 20,
    "start_time": "2022-01-18T14:30:44.140Z"
   },
   {
    "duration": 4,
    "start_time": "2022-01-18T14:30:52.492Z"
   },
   {
    "duration": 260,
    "start_time": "2022-01-18T14:30:52.498Z"
   },
   {
    "duration": 171,
    "start_time": "2022-01-18T14:30:52.760Z"
   },
   {
    "duration": 12,
    "start_time": "2022-01-18T14:30:52.933Z"
   },
   {
    "duration": 10,
    "start_time": "2022-01-18T14:30:52.947Z"
   },
   {
    "duration": 42,
    "start_time": "2022-01-18T14:30:52.959Z"
   },
   {
    "duration": 2,
    "start_time": "2022-01-18T14:30:53.004Z"
   },
   {
    "duration": 270,
    "start_time": "2022-01-18T14:30:53.007Z"
   },
   {
    "duration": -35,
    "start_time": "2022-01-18T14:30:53.313Z"
   },
   {
    "duration": 18,
    "start_time": "2022-01-18T14:30:55.820Z"
   },
   {
    "duration": 5,
    "start_time": "2022-01-18T14:32:36.608Z"
   },
   {
    "duration": 12,
    "start_time": "2022-01-18T14:32:41.789Z"
   },
   {
    "duration": 258,
    "start_time": "2022-01-18T14:39:19.666Z"
   },
   {
    "duration": 6762,
    "start_time": "2022-01-18T14:39:28.091Z"
   },
   {
    "duration": 4,
    "start_time": "2022-01-18T14:40:06.417Z"
   },
   {
    "duration": 7443,
    "start_time": "2022-01-18T14:43:30.933Z"
   },
   {
    "duration": 6,
    "start_time": "2022-01-18T14:44:31.239Z"
   },
   {
    "duration": 11,
    "start_time": "2022-01-18T14:44:38.948Z"
   },
   {
    "duration": 263,
    "start_time": "2022-01-18T14:46:16.253Z"
   },
   {
    "duration": 4,
    "start_time": "2022-01-18T14:46:21.178Z"
   },
   {
    "duration": 264,
    "start_time": "2022-01-18T14:46:21.184Z"
   },
   {
    "duration": 195,
    "start_time": "2022-01-18T14:46:21.450Z"
   },
   {
    "duration": 14,
    "start_time": "2022-01-18T14:46:21.647Z"
   },
   {
    "duration": 14,
    "start_time": "2022-01-18T14:46:21.663Z"
   },
   {
    "duration": 43,
    "start_time": "2022-01-18T14:46:21.678Z"
   },
   {
    "duration": 291,
    "start_time": "2022-01-18T14:46:21.722Z"
   },
   {
    "duration": 266,
    "start_time": "2022-01-18T14:46:52.765Z"
   },
   {
    "duration": 270,
    "start_time": "2022-01-18T14:47:04.270Z"
   },
   {
    "duration": 20,
    "start_time": "2022-01-18T14:47:20.695Z"
   },
   {
    "duration": 5,
    "start_time": "2022-01-18T14:47:30.743Z"
   },
   {
    "duration": 17,
    "start_time": "2022-01-18T14:48:43.667Z"
   },
   {
    "duration": 13,
    "start_time": "2022-01-18T14:48:50.487Z"
   },
   {
    "duration": 13,
    "start_time": "2022-01-18T14:48:59.331Z"
   },
   {
    "duration": 285,
    "start_time": "2022-01-18T14:49:44.975Z"
   },
   {
    "duration": 12,
    "start_time": "2022-01-18T14:50:19.285Z"
   },
   {
    "duration": 12,
    "start_time": "2022-01-18T14:50:50.695Z"
   },
   {
    "duration": 14,
    "start_time": "2022-01-18T14:50:53.317Z"
   },
   {
    "duration": 13,
    "start_time": "2022-01-18T14:50:58.667Z"
   },
   {
    "duration": 10,
    "start_time": "2022-01-18T14:50:59.804Z"
   },
   {
    "duration": 21,
    "start_time": "2022-01-18T14:53:36.280Z"
   },
   {
    "duration": 20,
    "start_time": "2022-01-18T14:54:28.474Z"
   },
   {
    "duration": 20,
    "start_time": "2022-01-18T14:54:34.572Z"
   },
   {
    "duration": 18,
    "start_time": "2022-01-18T14:54:39.301Z"
   },
   {
    "duration": 18,
    "start_time": "2022-01-18T14:54:43.249Z"
   },
   {
    "duration": 7,
    "start_time": "2022-01-18T14:54:54.513Z"
   },
   {
    "duration": 5,
    "start_time": "2022-01-18T14:55:13.154Z"
   },
   {
    "duration": 268,
    "start_time": "2022-01-18T14:55:13.161Z"
   },
   {
    "duration": 182,
    "start_time": "2022-01-18T14:55:13.431Z"
   },
   {
    "duration": 11,
    "start_time": "2022-01-18T14:55:13.615Z"
   },
   {
    "duration": 26,
    "start_time": "2022-01-18T14:55:13.628Z"
   },
   {
    "duration": 43,
    "start_time": "2022-01-18T14:55:13.656Z"
   },
   {
    "duration": 20,
    "start_time": "2022-01-18T14:55:13.701Z"
   },
   {
    "duration": 21,
    "start_time": "2022-01-18T14:55:13.723Z"
   },
   {
    "duration": 29,
    "start_time": "2022-01-18T14:55:13.746Z"
   },
   {
    "duration": 37,
    "start_time": "2022-01-18T14:55:13.777Z"
   },
   {
    "duration": 7,
    "start_time": "2022-01-18T14:55:13.816Z"
   },
   {
    "duration": 129,
    "start_time": "2022-01-18T14:55:13.825Z"
   },
   {
    "duration": 4,
    "start_time": "2022-01-18T14:55:13.956Z"
   },
   {
    "duration": 33,
    "start_time": "2022-01-18T14:55:13.962Z"
   },
   {
    "duration": 7,
    "start_time": "2022-01-18T14:55:41.578Z"
   },
   {
    "duration": 6,
    "start_time": "2022-01-18T14:55:44.773Z"
   },
   {
    "duration": 265,
    "start_time": "2022-01-18T14:55:44.781Z"
   },
   {
    "duration": 175,
    "start_time": "2022-01-18T14:55:45.049Z"
   },
   {
    "duration": 13,
    "start_time": "2022-01-18T14:55:45.226Z"
   },
   {
    "duration": 12,
    "start_time": "2022-01-18T14:55:45.240Z"
   },
   {
    "duration": 46,
    "start_time": "2022-01-18T14:55:45.253Z"
   },
   {
    "duration": 20,
    "start_time": "2022-01-18T14:55:45.301Z"
   },
   {
    "duration": 19,
    "start_time": "2022-01-18T14:55:45.323Z"
   },
   {
    "duration": 11,
    "start_time": "2022-01-18T14:55:46.610Z"
   },
   {
    "duration": 11,
    "start_time": "2022-01-18T14:55:55.302Z"
   },
   {
    "duration": 8,
    "start_time": "2022-01-18T14:56:00.451Z"
   },
   {
    "duration": 12,
    "start_time": "2022-01-18T14:56:12.043Z"
   },
   {
    "duration": 13,
    "start_time": "2022-01-18T14:56:30.634Z"
   },
   {
    "duration": 18,
    "start_time": "2022-01-18T14:58:07.427Z"
   },
   {
    "duration": 14,
    "start_time": "2022-01-18T14:58:08.518Z"
   },
   {
    "duration": 14,
    "start_time": "2022-01-18T14:58:20.636Z"
   },
   {
    "duration": 14,
    "start_time": "2022-01-18T14:59:40.427Z"
   },
   {
    "duration": 16,
    "start_time": "2022-01-18T14:59:42.305Z"
   },
   {
    "duration": 14,
    "start_time": "2022-01-18T14:59:47.185Z"
   },
   {
    "duration": 15,
    "start_time": "2022-01-18T15:31:07.724Z"
   },
   {
    "duration": 92,
    "start_time": "2022-01-18T15:32:55.045Z"
   },
   {
    "duration": 45,
    "start_time": "2022-01-18T15:32:59.375Z"
   },
   {
    "duration": 48,
    "start_time": "2022-01-18T15:33:02.636Z"
   },
   {
    "duration": 42,
    "start_time": "2022-01-18T15:33:10.072Z"
   },
   {
    "duration": 44,
    "start_time": "2022-01-18T15:33:15.331Z"
   },
   {
    "duration": 271,
    "start_time": "2022-01-18T15:33:48.876Z"
   },
   {
    "duration": 269,
    "start_time": "2022-01-18T15:33:52.370Z"
   },
   {
    "duration": 4,
    "start_time": "2022-01-18T15:33:55.067Z"
   },
   {
    "duration": 4,
    "start_time": "2022-01-18T15:34:03.580Z"
   },
   {
    "duration": 4,
    "start_time": "2022-01-18T15:34:12.582Z"
   },
   {
    "duration": 4,
    "start_time": "2022-01-18T15:34:23.041Z"
   },
   {
    "duration": 4,
    "start_time": "2022-01-18T15:34:31.626Z"
   },
   {
    "duration": 45,
    "start_time": "2022-01-18T15:34:34.892Z"
   },
   {
    "duration": 4,
    "start_time": "2022-01-18T15:34:40.889Z"
   },
   {
    "duration": 259,
    "start_time": "2022-01-18T15:34:40.895Z"
   },
   {
    "duration": 186,
    "start_time": "2022-01-18T15:34:41.156Z"
   },
   {
    "duration": 13,
    "start_time": "2022-01-18T15:34:41.344Z"
   },
   {
    "duration": 15,
    "start_time": "2022-01-18T15:34:41.358Z"
   },
   {
    "duration": 26,
    "start_time": "2022-01-18T15:34:41.374Z"
   },
   {
    "duration": 5,
    "start_time": "2022-01-18T15:34:41.402Z"
   },
   {
    "duration": 6,
    "start_time": "2022-01-18T15:34:41.409Z"
   },
   {
    "duration": 8,
    "start_time": "2022-01-18T15:34:41.417Z"
   },
   {
    "duration": 47,
    "start_time": "2022-01-18T15:34:41.427Z"
   },
   {
    "duration": 722,
    "start_time": "2022-01-18T15:36:08.128Z"
   },
   {
    "duration": 278,
    "start_time": "2022-01-18T15:36:17.670Z"
   },
   {
    "duration": 14,
    "start_time": "2022-01-18T15:36:43.394Z"
   },
   {
    "duration": 24,
    "start_time": "2022-01-18T15:36:53.044Z"
   },
   {
    "duration": 17,
    "start_time": "2022-01-18T15:36:56.934Z"
   },
   {
    "duration": 17,
    "start_time": "2022-01-18T15:37:06.024Z"
   },
   {
    "duration": 16,
    "start_time": "2022-01-18T15:37:09.015Z"
   },
   {
    "duration": 15,
    "start_time": "2022-01-18T15:37:50.099Z"
   },
   {
    "duration": 15,
    "start_time": "2022-01-18T15:38:08.523Z"
   },
   {
    "duration": 5,
    "start_time": "2022-01-18T15:38:11.522Z"
   },
   {
    "duration": 241,
    "start_time": "2022-01-18T15:38:11.528Z"
   },
   {
    "duration": 172,
    "start_time": "2022-01-18T15:38:11.771Z"
   },
   {
    "duration": 13,
    "start_time": "2022-01-18T15:38:11.945Z"
   },
   {
    "duration": 12,
    "start_time": "2022-01-18T15:38:11.959Z"
   },
   {
    "duration": 6,
    "start_time": "2022-01-18T15:38:11.973Z"
   },
   {
    "duration": 21,
    "start_time": "2022-01-18T15:38:11.980Z"
   },
   {
    "duration": 11,
    "start_time": "2022-01-18T15:38:12.003Z"
   },
   {
    "duration": 10,
    "start_time": "2022-01-18T15:38:12.016Z"
   },
   {
    "duration": 11,
    "start_time": "2022-01-18T15:38:12.027Z"
   },
   {
    "duration": 16,
    "start_time": "2022-01-18T15:38:12.040Z"
   },
   {
    "duration": 1262,
    "start_time": "2022-01-18T15:39:20.549Z"
   },
   {
    "duration": 5,
    "start_time": "2022-01-18T15:39:29.675Z"
   },
   {
    "duration": 274,
    "start_time": "2022-01-18T15:39:29.681Z"
   },
   {
    "duration": 179,
    "start_time": "2022-01-18T15:39:29.956Z"
   },
   {
    "duration": 14,
    "start_time": "2022-01-18T15:39:30.137Z"
   },
   {
    "duration": 26,
    "start_time": "2022-01-18T15:39:30.152Z"
   },
   {
    "duration": 23,
    "start_time": "2022-01-18T15:39:30.180Z"
   },
   {
    "duration": 21,
    "start_time": "2022-01-18T15:39:30.205Z"
   },
   {
    "duration": 18,
    "start_time": "2022-01-18T15:39:30.229Z"
   },
   {
    "duration": 21,
    "start_time": "2022-01-18T15:39:30.249Z"
   },
   {
    "duration": 22,
    "start_time": "2022-01-18T15:39:30.272Z"
   },
   {
    "duration": 9,
    "start_time": "2022-01-18T15:39:32.129Z"
   },
   {
    "duration": 29,
    "start_time": "2022-01-18T15:39:33.392Z"
   },
   {
    "duration": 1208,
    "start_time": "2022-01-18T15:43:41.007Z"
   },
   {
    "duration": 253,
    "start_time": "2022-01-18T15:43:42.218Z"
   },
   {
    "duration": 201,
    "start_time": "2022-01-18T15:43:42.474Z"
   },
   {
    "duration": 28,
    "start_time": "2022-01-18T15:43:42.677Z"
   },
   {
    "duration": 13,
    "start_time": "2022-01-18T15:43:42.707Z"
   },
   {
    "duration": 32,
    "start_time": "2022-01-18T15:43:42.722Z"
   },
   {
    "duration": 10,
    "start_time": "2022-01-18T15:43:42.756Z"
   },
   {
    "duration": 51,
    "start_time": "2022-01-18T15:43:42.768Z"
   },
   {
    "duration": 4,
    "start_time": "2022-01-18T15:43:42.821Z"
   },
   {
    "duration": 405,
    "start_time": "2022-01-18T15:45:35.326Z"
   },
   {
    "duration": 180,
    "start_time": "2022-01-18T15:47:12.507Z"
   },
   {
    "duration": 29,
    "start_time": "2022-01-18T15:47:15.286Z"
   },
   {
    "duration": 282,
    "start_time": "2022-01-18T15:47:44.387Z"
   },
   {
    "duration": 4,
    "start_time": "2022-01-18T15:47:48.927Z"
   },
   {
    "duration": 256,
    "start_time": "2022-01-18T15:47:48.933Z"
   },
   {
    "duration": 179,
    "start_time": "2022-01-18T15:47:49.191Z"
   },
   {
    "duration": 12,
    "start_time": "2022-01-18T15:47:49.372Z"
   },
   {
    "duration": 20,
    "start_time": "2022-01-18T15:47:49.386Z"
   },
   {
    "duration": 211,
    "start_time": "2022-01-18T15:47:49.408Z"
   },
   {
    "duration": 12,
    "start_time": "2022-01-18T15:47:49.621Z"
   },
   {
    "duration": 29,
    "start_time": "2022-01-18T15:47:49.635Z"
   },
   {
    "duration": 5,
    "start_time": "2022-01-18T15:47:49.666Z"
   },
   {
    "duration": 56,
    "start_time": "2022-01-18T15:47:49.672Z"
   },
   {
    "duration": 264,
    "start_time": "2022-01-18T15:48:33.494Z"
   },
   {
    "duration": 4,
    "start_time": "2022-01-18T15:48:37.023Z"
   },
   {
    "duration": 296,
    "start_time": "2022-01-18T15:48:37.029Z"
   },
   {
    "duration": 187,
    "start_time": "2022-01-18T15:48:37.327Z"
   },
   {
    "duration": 14,
    "start_time": "2022-01-18T15:48:37.516Z"
   },
   {
    "duration": 10,
    "start_time": "2022-01-18T15:48:37.532Z"
   },
   {
    "duration": 238,
    "start_time": "2022-01-18T15:48:37.544Z"
   },
   {
    "duration": 16,
    "start_time": "2022-01-18T15:48:37.784Z"
   },
   {
    "duration": 29,
    "start_time": "2022-01-18T15:48:37.802Z"
   },
   {
    "duration": 4,
    "start_time": "2022-01-18T15:48:37.833Z"
   },
   {
    "duration": 285,
    "start_time": "2022-01-18T15:48:39.231Z"
   },
   {
    "duration": 29,
    "start_time": "2022-01-18T15:48:47.145Z"
   },
   {
    "duration": 268,
    "start_time": "2022-01-18T15:51:25.783Z"
   },
   {
    "duration": 4,
    "start_time": "2022-01-18T15:51:29.291Z"
   },
   {
    "duration": 252,
    "start_time": "2022-01-18T15:51:29.297Z"
   },
   {
    "duration": 179,
    "start_time": "2022-01-18T15:51:29.551Z"
   },
   {
    "duration": 12,
    "start_time": "2022-01-18T15:51:29.732Z"
   },
   {
    "duration": 11,
    "start_time": "2022-01-18T15:51:29.746Z"
   },
   {
    "duration": 205,
    "start_time": "2022-01-18T15:51:29.759Z"
   },
   {
    "duration": 12,
    "start_time": "2022-01-18T15:51:29.966Z"
   },
   {
    "duration": 33,
    "start_time": "2022-01-18T15:51:29.980Z"
   },
   {
    "duration": 5,
    "start_time": "2022-01-18T15:51:30.015Z"
   },
   {
    "duration": 34,
    "start_time": "2022-01-18T15:51:30.022Z"
   },
   {
    "duration": 5,
    "start_time": "2022-01-18T15:52:11.070Z"
   },
   {
    "duration": 5,
    "start_time": "2022-01-18T15:52:23.488Z"
   },
   {
    "duration": 251,
    "start_time": "2022-01-18T15:52:23.495Z"
   },
   {
    "duration": 178,
    "start_time": "2022-01-18T15:52:23.748Z"
   },
   {
    "duration": 13,
    "start_time": "2022-01-18T15:52:23.929Z"
   },
   {
    "duration": 31,
    "start_time": "2022-01-18T15:52:23.944Z"
   },
   {
    "duration": 198,
    "start_time": "2022-01-18T15:52:23.977Z"
   },
   {
    "duration": 13,
    "start_time": "2022-01-18T15:52:24.177Z"
   },
   {
    "duration": 32,
    "start_time": "2022-01-18T15:52:24.198Z"
   },
   {
    "duration": 5,
    "start_time": "2022-01-18T15:52:24.232Z"
   },
   {
    "duration": 28,
    "start_time": "2022-01-18T15:52:25.609Z"
   },
   {
    "duration": 4,
    "start_time": "2022-01-18T15:52:26.593Z"
   },
   {
    "duration": 5,
    "start_time": "2022-01-18T15:54:22.579Z"
   },
   {
    "duration": 262,
    "start_time": "2022-01-18T15:54:22.586Z"
   },
   {
    "duration": 183,
    "start_time": "2022-01-18T15:54:22.850Z"
   },
   {
    "duration": 12,
    "start_time": "2022-01-18T15:54:23.035Z"
   },
   {
    "duration": 12,
    "start_time": "2022-01-18T15:54:23.049Z"
   },
   {
    "duration": 221,
    "start_time": "2022-01-18T15:54:23.062Z"
   },
   {
    "duration": 17,
    "start_time": "2022-01-18T15:54:23.285Z"
   },
   {
    "duration": 27,
    "start_time": "2022-01-18T15:54:23.304Z"
   },
   {
    "duration": 5,
    "start_time": "2022-01-18T15:54:23.333Z"
   },
   {
    "duration": 29,
    "start_time": "2022-01-18T15:54:25.661Z"
   },
   {
    "duration": 5,
    "start_time": "2022-01-18T15:54:51.324Z"
   },
   {
    "duration": 35,
    "start_time": "2022-01-18T15:55:13.583Z"
   },
   {
    "duration": 4,
    "start_time": "2022-01-18T15:55:36.624Z"
   },
   {
    "duration": 246,
    "start_time": "2022-01-18T15:55:36.630Z"
   },
   {
    "duration": 183,
    "start_time": "2022-01-18T15:55:36.878Z"
   },
   {
    "duration": 13,
    "start_time": "2022-01-18T15:55:37.063Z"
   },
   {
    "duration": 21,
    "start_time": "2022-01-18T15:55:37.078Z"
   },
   {
    "duration": 255,
    "start_time": "2022-01-18T15:55:37.102Z"
   },
   {
    "duration": 10,
    "start_time": "2022-01-18T15:55:37.359Z"
   },
   {
    "duration": 35,
    "start_time": "2022-01-18T15:55:37.371Z"
   },
   {
    "duration": 31,
    "start_time": "2022-01-18T15:55:37.407Z"
   },
   {
    "duration": 5,
    "start_time": "2022-01-18T15:55:37.439Z"
   },
   {
    "duration": 53,
    "start_time": "2022-01-18T15:55:37.446Z"
   },
   {
    "duration": 127,
    "start_time": "2022-01-18T15:55:37.501Z"
   },
   {
    "duration": 286,
    "start_time": "2022-01-18T15:55:47.406Z"
   },
   {
    "duration": 5,
    "start_time": "2022-01-18T15:55:50.820Z"
   },
   {
    "duration": 280,
    "start_time": "2022-01-18T15:55:50.827Z"
   },
   {
    "duration": 171,
    "start_time": "2022-01-18T15:55:51.109Z"
   },
   {
    "duration": 23,
    "start_time": "2022-01-18T15:55:51.282Z"
   },
   {
    "duration": 24,
    "start_time": "2022-01-18T15:55:51.307Z"
   },
   {
    "duration": 193,
    "start_time": "2022-01-18T15:55:51.332Z"
   },
   {
    "duration": 10,
    "start_time": "2022-01-18T15:55:51.527Z"
   },
   {
    "duration": 46,
    "start_time": "2022-01-18T15:55:51.539Z"
   },
   {
    "duration": 33,
    "start_time": "2022-01-18T15:55:51.587Z"
   },
   {
    "duration": 11,
    "start_time": "2022-01-18T15:55:51.622Z"
   },
   {
    "duration": 32,
    "start_time": "2022-01-18T15:55:53.482Z"
   },
   {
    "duration": 117,
    "start_time": "2022-01-18T15:56:33.943Z"
   },
   {
    "duration": 71,
    "start_time": "2022-01-18T15:56:37.530Z"
   },
   {
    "duration": 4,
    "start_time": "2022-01-18T15:57:31.936Z"
   },
   {
    "duration": 258,
    "start_time": "2022-01-18T15:57:31.942Z"
   },
   {
    "duration": 197,
    "start_time": "2022-01-18T15:57:32.203Z"
   },
   {
    "duration": 13,
    "start_time": "2022-01-18T15:57:32.402Z"
   },
   {
    "duration": 15,
    "start_time": "2022-01-18T15:57:32.417Z"
   },
   {
    "duration": 213,
    "start_time": "2022-01-18T15:57:32.434Z"
   },
   {
    "duration": 11,
    "start_time": "2022-01-18T15:57:32.649Z"
   },
   {
    "duration": 36,
    "start_time": "2022-01-18T15:57:32.662Z"
   },
   {
    "duration": 32,
    "start_time": "2022-01-18T15:57:32.700Z"
   },
   {
    "duration": 37,
    "start_time": "2022-01-18T15:57:32.734Z"
   },
   {
    "duration": 12,
    "start_time": "2022-01-18T15:57:36.828Z"
   },
   {
    "duration": 118,
    "start_time": "2022-01-18T16:04:31.611Z"
   },
   {
    "duration": 267,
    "start_time": "2022-01-18T16:04:36.788Z"
   },
   {
    "duration": 308,
    "start_time": "2022-01-18T16:04:47.961Z"
   },
   {
    "duration": 298,
    "start_time": "2022-01-18T16:04:55.632Z"
   },
   {
    "duration": 18,
    "start_time": "2022-01-18T16:05:10.821Z"
   },
   {
    "duration": 317,
    "start_time": "2022-01-18T16:05:55.938Z"
   },
   {
    "duration": 10,
    "start_time": "2022-01-18T16:06:22.065Z"
   },
   {
    "duration": 309,
    "start_time": "2022-01-18T16:06:22.078Z"
   },
   {
    "duration": 216,
    "start_time": "2022-01-18T16:06:22.390Z"
   },
   {
    "duration": 14,
    "start_time": "2022-01-18T16:06:22.608Z"
   },
   {
    "duration": 20,
    "start_time": "2022-01-18T16:06:22.624Z"
   },
   {
    "duration": 254,
    "start_time": "2022-01-18T16:06:22.646Z"
   },
   {
    "duration": 16,
    "start_time": "2022-01-18T16:06:22.902Z"
   },
   {
    "duration": 47,
    "start_time": "2022-01-18T16:06:22.920Z"
   },
   {
    "duration": 59,
    "start_time": "2022-01-18T16:06:22.970Z"
   },
   {
    "duration": 39,
    "start_time": "2022-01-18T16:06:23.031Z"
   },
   {
    "duration": 161,
    "start_time": "2022-01-18T16:06:23.072Z"
   },
   {
    "duration": 74,
    "start_time": "2022-01-18T16:06:23.236Z"
   },
   {
    "duration": 29,
    "start_time": "2022-01-18T16:06:23.313Z"
   },
   {
    "duration": 591,
    "start_time": "2022-01-18T16:06:23.343Z"
   },
   {
    "duration": 341,
    "start_time": "2022-01-18T16:06:23.935Z"
   },
   {
    "duration": 95,
    "start_time": "2022-01-18T16:08:49.743Z"
   },
   {
    "duration": 75,
    "start_time": "2022-01-18T16:08:51.432Z"
   },
   {
    "duration": 4,
    "start_time": "2022-01-18T16:08:59.263Z"
   },
   {
    "duration": 5,
    "start_time": "2022-01-18T16:09:20.996Z"
   },
   {
    "duration": 4,
    "start_time": "2022-01-18T16:09:35.232Z"
   },
   {
    "duration": 603,
    "start_time": "2022-01-18T16:10:11.181Z"
   },
   {
    "duration": 266,
    "start_time": "2022-01-18T16:11:12.628Z"
   },
   {
    "duration": 4,
    "start_time": "2022-01-18T16:11:18.888Z"
   },
   {
    "duration": 274,
    "start_time": "2022-01-18T16:12:00.805Z"
   },
   {
    "duration": 613,
    "start_time": "2022-01-18T16:12:06.688Z"
   },
   {
    "duration": 86,
    "start_time": "2022-01-18T16:12:20.372Z"
   },
   {
    "duration": 4,
    "start_time": "2022-01-18T16:12:21.483Z"
   },
   {
    "duration": 291,
    "start_time": "2022-01-18T16:13:06.052Z"
   },
   {
    "duration": 3301,
    "start_time": "2022-01-18T16:13:28.059Z"
   },
   {
    "duration": 5,
    "start_time": "2022-01-18T16:13:40.702Z"
   },
   {
    "duration": 293,
    "start_time": "2022-01-18T16:14:08.897Z"
   },
   {
    "duration": 5,
    "start_time": "2022-01-18T16:14:30.049Z"
   },
   {
    "duration": 278,
    "start_time": "2022-01-18T16:14:37.621Z"
   },
   {
    "duration": 7,
    "start_time": "2022-01-18T16:14:40.085Z"
   },
   {
    "duration": 496,
    "start_time": "2022-01-18T16:14:47.328Z"
   },
   {
    "duration": 279,
    "start_time": "2022-01-18T16:14:58.799Z"
   },
   {
    "duration": 292,
    "start_time": "2022-01-18T16:15:03.555Z"
   },
   {
    "duration": 278,
    "start_time": "2022-01-18T16:15:19.098Z"
   },
   {
    "duration": 278,
    "start_time": "2022-01-18T16:15:22.775Z"
   },
   {
    "duration": 6,
    "start_time": "2022-01-18T16:15:31.224Z"
   },
   {
    "duration": 265,
    "start_time": "2022-01-18T16:15:40.614Z"
   },
   {
    "duration": 5,
    "start_time": "2022-01-18T16:15:47.450Z"
   },
   {
    "duration": 258,
    "start_time": "2022-01-18T16:15:47.457Z"
   },
   {
    "duration": 171,
    "start_time": "2022-01-18T16:15:47.717Z"
   },
   {
    "duration": 18,
    "start_time": "2022-01-18T16:15:47.889Z"
   },
   {
    "duration": 14,
    "start_time": "2022-01-18T16:15:47.909Z"
   },
   {
    "duration": 217,
    "start_time": "2022-01-18T16:15:47.925Z"
   },
   {
    "duration": 12,
    "start_time": "2022-01-18T16:15:48.144Z"
   },
   {
    "duration": 43,
    "start_time": "2022-01-18T16:15:48.159Z"
   },
   {
    "duration": 31,
    "start_time": "2022-01-18T16:15:48.204Z"
   },
   {
    "duration": 63,
    "start_time": "2022-01-18T16:15:48.237Z"
   },
   {
    "duration": 126,
    "start_time": "2022-01-18T16:15:48.302Z"
   },
   {
    "duration": 70,
    "start_time": "2022-01-18T16:15:48.430Z"
   },
   {
    "duration": 27,
    "start_time": "2022-01-18T16:15:48.502Z"
   },
   {
    "duration": 554,
    "start_time": "2022-01-18T16:15:48.531Z"
   },
   {
    "duration": 4,
    "start_time": "2022-01-18T16:15:49.087Z"
   },
   {
    "duration": 8,
    "start_time": "2022-01-18T16:15:49.093Z"
   },
   {
    "duration": 272,
    "start_time": "2022-01-18T16:15:49.103Z"
   },
   {
    "duration": 258,
    "start_time": "2022-01-18T16:16:08.799Z"
   },
   {
    "duration": 93,
    "start_time": "2022-01-18T16:25:25.278Z"
   },
   {
    "duration": 4,
    "start_time": "2022-01-18T18:06:11.270Z"
   },
   {
    "duration": 225,
    "start_time": "2022-01-18T18:06:11.276Z"
   },
   {
    "duration": 163,
    "start_time": "2022-01-18T18:06:11.503Z"
   },
   {
    "duration": 11,
    "start_time": "2022-01-18T18:06:11.668Z"
   },
   {
    "duration": 24,
    "start_time": "2022-01-18T18:06:11.681Z"
   },
   {
    "duration": 198,
    "start_time": "2022-01-18T18:06:11.707Z"
   },
   {
    "duration": 12,
    "start_time": "2022-01-18T18:06:11.907Z"
   },
   {
    "duration": 29,
    "start_time": "2022-01-18T18:06:11.921Z"
   },
   {
    "duration": 52,
    "start_time": "2022-01-18T18:06:11.953Z"
   },
   {
    "duration": 38,
    "start_time": "2022-01-18T18:06:12.008Z"
   },
   {
    "duration": 141,
    "start_time": "2022-01-18T18:06:12.048Z"
   },
   {
    "duration": 60,
    "start_time": "2022-01-18T18:06:12.191Z"
   },
   {
    "duration": 136,
    "start_time": "2022-01-18T18:06:12.253Z"
   },
   {
    "duration": -84,
    "start_time": "2022-01-18T18:06:12.475Z"
   },
   {
    "duration": 4,
    "start_time": "2022-01-18T18:06:45.362Z"
   },
   {
    "duration": 6,
    "start_time": "2022-01-18T18:07:11.117Z"
   },
   {
    "duration": 6,
    "start_time": "2022-01-18T18:07:15.874Z"
   },
   {
    "duration": 3,
    "start_time": "2022-01-18T18:18:13.696Z"
   },
   {
    "duration": 4571,
    "start_time": "2022-01-18T18:18:27.481Z"
   },
   {
    "duration": 4,
    "start_time": "2022-01-18T18:19:01.190Z"
   },
   {
    "duration": 3733,
    "start_time": "2022-01-18T18:19:02.095Z"
   },
   {
    "duration": 4,
    "start_time": "2022-01-18T18:19:13.739Z"
   },
   {
    "duration": 4845,
    "start_time": "2022-01-18T18:19:13.941Z"
   },
   {
    "duration": 5,
    "start_time": "2022-01-18T18:19:44.078Z"
   },
   {
    "duration": 10192,
    "start_time": "2022-01-18T18:20:13.609Z"
   },
   {
    "duration": 3994,
    "start_time": "2022-01-18T18:20:35.195Z"
   },
   {
    "duration": -85,
    "start_time": "2022-01-18T18:20:39.276Z"
   },
   {
    "duration": 4,
    "start_time": "2022-01-18T18:20:40.442Z"
   },
   {
    "duration": 3812,
    "start_time": "2022-01-18T18:20:41.250Z"
   },
   {
    "duration": 4375,
    "start_time": "2022-01-18T18:21:54.498Z"
   },
   {
    "duration": 4,
    "start_time": "2022-01-18T18:22:27.467Z"
   },
   {
    "duration": 1228,
    "start_time": "2022-01-18T18:22:58.893Z"
   },
   {
    "duration": 262,
    "start_time": "2022-01-18T18:23:00.123Z"
   },
   {
    "duration": 197,
    "start_time": "2022-01-18T18:23:00.388Z"
   },
   {
    "duration": 28,
    "start_time": "2022-01-18T18:23:00.587Z"
   },
   {
    "duration": 20,
    "start_time": "2022-01-18T18:23:00.617Z"
   },
   {
    "duration": 218,
    "start_time": "2022-01-18T18:23:00.639Z"
   },
   {
    "duration": 13,
    "start_time": "2022-01-18T18:23:00.860Z"
   },
   {
    "duration": 40,
    "start_time": "2022-01-18T18:23:00.875Z"
   },
   {
    "duration": 31,
    "start_time": "2022-01-18T18:23:00.918Z"
   },
   {
    "duration": 51,
    "start_time": "2022-01-18T18:23:00.951Z"
   },
   {
    "duration": 135,
    "start_time": "2022-01-18T18:23:01.004Z"
   },
   {
    "duration": 76,
    "start_time": "2022-01-18T18:23:01.141Z"
   },
   {
    "duration": 8,
    "start_time": "2022-01-18T18:23:01.219Z"
   },
   {
    "duration": 11,
    "start_time": "2022-01-18T18:23:01.229Z"
   },
   {
    "duration": 6,
    "start_time": "2022-01-18T18:23:01.242Z"
   },
   {
    "duration": 48170,
    "start_time": "2022-01-18T18:23:01.250Z"
   },
   {
    "duration": 30,
    "start_time": "2022-01-18T18:23:49.423Z"
   },
   {
    "duration": 78,
    "start_time": "2022-01-18T18:24:10.063Z"
   },
   {
    "duration": 5,
    "start_time": "2022-01-18T18:29:55.551Z"
   },
   {
    "duration": 10637,
    "start_time": "2022-01-18T18:30:01.819Z"
   },
   {
    "duration": 382,
    "start_time": "2022-01-18T18:31:19.790Z"
   },
   {
    "duration": 269,
    "start_time": "2022-01-18T18:31:22.251Z"
   },
   {
    "duration": 6,
    "start_time": "2022-01-18T18:31:26.594Z"
   },
   {
    "duration": 275,
    "start_time": "2022-01-18T18:31:52.094Z"
   },
   {
    "duration": 73,
    "start_time": "2022-01-18T18:31:54.050Z"
   },
   {
    "duration": 5,
    "start_time": "2022-01-18T18:32:11.631Z"
   },
   {
    "duration": 6,
    "start_time": "2022-01-18T18:32:25.767Z"
   },
   {
    "duration": 6,
    "start_time": "2022-01-18T18:32:33.038Z"
   },
   {
    "duration": 7,
    "start_time": "2022-01-18T18:33:10.904Z"
   },
   {
    "duration": 8,
    "start_time": "2022-01-18T18:35:13.517Z"
   },
   {
    "duration": 466,
    "start_time": "2022-01-18T18:35:22.775Z"
   },
   {
    "duration": 5,
    "start_time": "2022-01-18T18:35:26.094Z"
   },
   {
    "duration": 4,
    "start_time": "2022-01-18T18:35:33.172Z"
   },
   {
    "duration": 5,
    "start_time": "2022-01-18T18:35:55.659Z"
   },
   {
    "duration": 9917,
    "start_time": "2022-01-18T18:36:08.992Z"
   },
   {
    "duration": 76,
    "start_time": "2022-01-18T18:36:18.911Z"
   },
   {
    "duration": 1282,
    "start_time": "2022-01-21T08:51:17.267Z"
   },
   {
    "duration": 409,
    "start_time": "2022-01-21T08:51:18.553Z"
   },
   {
    "duration": 389,
    "start_time": "2022-01-21T08:51:18.965Z"
   },
   {
    "duration": 20,
    "start_time": "2022-01-21T08:51:19.357Z"
   },
   {
    "duration": 27,
    "start_time": "2022-01-21T08:51:19.379Z"
   },
   {
    "duration": 219,
    "start_time": "2022-01-21T08:51:19.408Z"
   },
   {
    "duration": 24,
    "start_time": "2022-01-21T08:51:19.630Z"
   },
   {
    "duration": 48,
    "start_time": "2022-01-21T08:51:19.657Z"
   },
   {
    "duration": 9,
    "start_time": "2022-01-21T08:51:19.707Z"
   },
   {
    "duration": 69,
    "start_time": "2022-01-21T08:51:19.718Z"
   },
   {
    "duration": 6,
    "start_time": "2022-01-21T08:51:21.757Z"
   },
   {
    "duration": 1210,
    "start_time": "2022-01-21T10:23:44.859Z"
   },
   {
    "duration": 316,
    "start_time": "2022-01-21T10:23:46.071Z"
   },
   {
    "duration": 199,
    "start_time": "2022-01-21T10:23:46.389Z"
   },
   {
    "duration": 18,
    "start_time": "2022-01-21T10:23:46.590Z"
   },
   {
    "duration": 57,
    "start_time": "2022-01-21T10:23:46.610Z"
   },
   {
    "duration": 206,
    "start_time": "2022-01-21T10:23:46.669Z"
   },
   {
    "duration": 10,
    "start_time": "2022-01-21T10:23:46.877Z"
   },
   {
    "duration": 45,
    "start_time": "2022-01-21T10:23:46.890Z"
   },
   {
    "duration": 44,
    "start_time": "2022-01-21T10:23:46.937Z"
   },
   {
    "duration": 30,
    "start_time": "2022-01-21T10:23:46.983Z"
   },
   {
    "duration": 141,
    "start_time": "2022-01-21T10:23:47.015Z"
   },
   {
    "duration": 58,
    "start_time": "2022-01-21T10:23:47.159Z"
   },
   {
    "duration": 4,
    "start_time": "2022-01-21T10:23:47.219Z"
   },
   {
    "duration": 57030,
    "start_time": "2022-01-21T10:23:47.224Z"
   },
   {
    "duration": 67,
    "start_time": "2022-01-21T10:24:44.257Z"
   },
   {
    "duration": 7,
    "start_time": "2022-01-21T10:25:40.477Z"
   },
   {
    "duration": 6,
    "start_time": "2022-01-21T10:25:56.033Z"
   },
   {
    "duration": 7,
    "start_time": "2022-01-21T10:26:19.688Z"
   },
   {
    "duration": 5,
    "start_time": "2022-01-21T10:26:29.886Z"
   },
   {
    "duration": 6,
    "start_time": "2022-01-21T10:26:42.484Z"
   },
   {
    "duration": 7,
    "start_time": "2022-01-21T10:27:56.428Z"
   },
   {
    "duration": 10,
    "start_time": "2022-01-21T10:29:08.344Z"
   },
   {
    "duration": 11421,
    "start_time": "2022-01-21T10:29:08.618Z"
   },
   {
    "duration": 73,
    "start_time": "2022-01-21T10:29:20.042Z"
   },
   {
    "duration": 350,
    "start_time": "2022-01-21T10:30:38.816Z"
   },
   {
    "duration": 6,
    "start_time": "2022-01-21T10:30:54.873Z"
   },
   {
    "duration": 5,
    "start_time": "2022-01-21T10:30:58.100Z"
   },
   {
    "duration": 23,
    "start_time": "2022-01-21T10:31:14.232Z"
   },
   {
    "duration": 8,
    "start_time": "2022-01-21T10:31:56.368Z"
   },
   {
    "duration": 6,
    "start_time": "2022-01-21T10:32:36.166Z"
   },
   {
    "duration": 6,
    "start_time": "2022-01-21T10:32:43.959Z"
   },
   {
    "duration": 8,
    "start_time": "2022-01-21T10:32:55.556Z"
   },
   {
    "duration": 6,
    "start_time": "2022-01-21T10:33:06.990Z"
   },
   {
    "duration": 10246,
    "start_time": "2022-01-21T10:33:07.236Z"
   },
   {
    "duration": 84,
    "start_time": "2022-01-21T10:33:17.484Z"
   },
   {
    "duration": 7,
    "start_time": "2022-01-21T10:33:52.387Z"
   },
   {
    "duration": 5,
    "start_time": "2022-01-21T10:34:43.261Z"
   },
   {
    "duration": 10830,
    "start_time": "2022-01-21T10:34:43.458Z"
   },
   {
    "duration": 84,
    "start_time": "2022-01-21T10:34:54.291Z"
   },
   {
    "duration": 36478,
    "start_time": "2022-01-21T10:39:44.875Z"
   },
   {
    "duration": 4,
    "start_time": "2022-01-21T10:40:21.355Z"
   },
   {
    "duration": 43,
    "start_time": "2022-01-21T10:43:47.758Z"
   },
   {
    "duration": 276,
    "start_time": "2022-01-21T10:44:06.847Z"
   },
   {
    "duration": 370,
    "start_time": "2022-01-21T10:44:42.185Z"
   },
   {
    "duration": 2552,
    "start_time": "2022-01-21T10:49:49.927Z"
   },
   {
    "duration": 5,
    "start_time": "2022-01-21T10:50:00.540Z"
   },
   {
    "duration": 4,
    "start_time": "2022-01-21T10:50:15.860Z"
   },
   {
    "duration": 245,
    "start_time": "2022-01-21T10:51:35.869Z"
   },
   {
    "duration": 3,
    "start_time": "2022-01-21T10:51:38.984Z"
   },
   {
    "duration": 13,
    "start_time": "2022-01-21T10:51:39.619Z"
   },
   {
    "duration": 41,
    "start_time": "2022-01-21T10:51:52.422Z"
   },
   {
    "duration": 43,
    "start_time": "2022-01-21T10:51:55.224Z"
   },
   {
    "duration": 357,
    "start_time": "2022-01-21T10:51:56.348Z"
   },
   {
    "duration": 982,
    "start_time": "2022-01-21T10:52:03.929Z"
   },
   {
    "duration": 74156,
    "start_time": "2022-01-21T10:52:15.812Z"
   },
   {
    "duration": 64,
    "start_time": "2022-01-21T10:54:01.526Z"
   },
   {
    "duration": 1114,
    "start_time": "2022-01-21T10:55:54.652Z"
   },
   {
    "duration": 229,
    "start_time": "2022-01-21T10:55:55.768Z"
   },
   {
    "duration": 176,
    "start_time": "2022-01-21T10:55:55.999Z"
   },
   {
    "duration": 17,
    "start_time": "2022-01-21T10:55:56.177Z"
   },
   {
    "duration": 12,
    "start_time": "2022-01-21T10:55:56.195Z"
   },
   {
    "duration": 179,
    "start_time": "2022-01-21T10:55:56.208Z"
   },
   {
    "duration": 11,
    "start_time": "2022-01-21T10:55:56.388Z"
   },
   {
    "duration": 25,
    "start_time": "2022-01-21T10:55:56.400Z"
   },
   {
    "duration": 40,
    "start_time": "2022-01-21T10:55:56.427Z"
   },
   {
    "duration": 29,
    "start_time": "2022-01-21T10:55:56.469Z"
   },
   {
    "duration": 130,
    "start_time": "2022-01-21T10:55:56.500Z"
   },
   {
    "duration": 24,
    "start_time": "2022-01-21T10:55:56.631Z"
   },
   {
    "duration": 4,
    "start_time": "2022-01-21T10:55:56.657Z"
   },
   {
    "duration": 75328,
    "start_time": "2022-01-21T10:55:56.663Z"
   },
   {
    "duration": 5,
    "start_time": "2022-01-21T10:57:11.993Z"
   },
   {
    "duration": 58,
    "start_time": "2022-01-21T10:57:11.999Z"
   },
   {
    "duration": 282,
    "start_time": "2022-01-21T10:57:12.059Z"
   },
   {
    "duration": 99,
    "start_time": "2022-01-21T10:57:12.342Z"
   },
   {
    "duration": 33,
    "start_time": "2022-01-21T10:57:14.822Z"
   },
   {
    "duration": 297,
    "start_time": "2022-01-21T10:57:15.591Z"
   },
   {
    "duration": 100,
    "start_time": "2022-01-21T10:57:16.230Z"
   },
   {
    "duration": 4428,
    "start_time": "2022-01-21T10:58:12.016Z"
   },
   {
    "duration": 374,
    "start_time": "2022-01-21T10:58:19.121Z"
   },
   {
    "duration": 6011,
    "start_time": "2022-01-21T11:00:06.828Z"
   },
   {
    "duration": 1290,
    "start_time": "2022-01-21T11:10:14.114Z"
   },
   {
    "duration": 282,
    "start_time": "2022-01-21T11:10:15.406Z"
   },
   {
    "duration": 186,
    "start_time": "2022-01-21T11:10:15.690Z"
   },
   {
    "duration": 18,
    "start_time": "2022-01-21T11:10:15.878Z"
   },
   {
    "duration": 20,
    "start_time": "2022-01-21T11:10:15.898Z"
   },
   {
    "duration": 219,
    "start_time": "2022-01-21T11:10:15.920Z"
   },
   {
    "duration": 12,
    "start_time": "2022-01-21T11:10:16.142Z"
   },
   {
    "duration": 61,
    "start_time": "2022-01-21T11:10:16.156Z"
   },
   {
    "duration": 33,
    "start_time": "2022-01-21T11:10:16.221Z"
   },
   {
    "duration": 37,
    "start_time": "2022-01-21T11:10:16.255Z"
   },
   {
    "duration": 147,
    "start_time": "2022-01-21T11:10:16.293Z"
   },
   {
    "duration": 30,
    "start_time": "2022-01-21T11:10:16.442Z"
   },
   {
    "duration": 6,
    "start_time": "2022-01-21T11:10:16.473Z"
   },
   {
    "duration": 77857,
    "start_time": "2022-01-21T11:10:16.480Z"
   },
   {
    "duration": 5,
    "start_time": "2022-01-21T11:11:34.341Z"
   },
   {
    "duration": 45,
    "start_time": "2022-01-21T11:11:34.348Z"
   },
   {
    "duration": 46,
    "start_time": "2022-01-21T11:11:34.395Z"
   },
   {
    "duration": 230,
    "start_time": "2022-01-21T11:11:34.443Z"
   },
   {
    "duration": 111,
    "start_time": "2022-01-21T11:11:34.674Z"
   },
   {
    "duration": 2944,
    "start_time": "2022-01-21T11:11:34.787Z"
   },
   {
    "duration": 85653,
    "start_time": "2022-01-21T11:11:37.741Z"
   },
   {
    "duration": 11546,
    "start_time": "2022-01-21T11:13:03.396Z"
   },
   {
    "duration": 8,
    "start_time": "2022-01-21T11:13:14.944Z"
   },
   {
    "duration": 1366,
    "start_time": "2022-01-21T11:15:20.600Z"
   },
   {
    "duration": 1914,
    "start_time": "2022-01-21T11:15:33.138Z"
   },
   {
    "duration": 1675,
    "start_time": "2022-01-21T11:15:46.050Z"
   },
   {
    "duration": 1355,
    "start_time": "2022-01-21T11:16:10.426Z"
   },
   {
    "duration": 1273,
    "start_time": "2022-01-21T11:16:36.255Z"
   },
   {
    "duration": 1261,
    "start_time": "2022-01-21T11:19:21.917Z"
   },
   {
    "duration": 1342,
    "start_time": "2022-01-21T11:19:30.400Z"
   },
   {
    "duration": 1248,
    "start_time": "2022-01-21T11:19:37.193Z"
   },
   {
    "duration": 250,
    "start_time": "2022-01-21T11:19:45.499Z"
   },
   {
    "duration": 1401,
    "start_time": "2022-01-21T11:19:52.920Z"
   },
   {
    "duration": 1264,
    "start_time": "2022-01-21T11:19:57.871Z"
   },
   {
    "duration": 1494,
    "start_time": "2022-01-21T11:21:10.611Z"
   },
   {
    "duration": 1587,
    "start_time": "2022-01-21T11:21:15.885Z"
   },
   {
    "duration": 1258,
    "start_time": "2022-01-21T11:21:20.568Z"
   },
   {
    "duration": 1151,
    "start_time": "2022-01-21T11:39:07.086Z"
   },
   {
    "duration": 244,
    "start_time": "2022-01-21T11:39:08.241Z"
   },
   {
    "duration": 216,
    "start_time": "2022-01-21T11:39:08.487Z"
   },
   {
    "duration": 18,
    "start_time": "2022-01-21T11:39:08.705Z"
   },
   {
    "duration": 25,
    "start_time": "2022-01-21T11:39:08.724Z"
   },
   {
    "duration": 202,
    "start_time": "2022-01-21T11:39:08.752Z"
   },
   {
    "duration": 10,
    "start_time": "2022-01-21T11:39:08.955Z"
   },
   {
    "duration": 38,
    "start_time": "2022-01-21T11:39:08.967Z"
   },
   {
    "duration": 32,
    "start_time": "2022-01-21T11:39:09.006Z"
   },
   {
    "duration": 34,
    "start_time": "2022-01-21T11:39:09.039Z"
   },
   {
    "duration": 121,
    "start_time": "2022-01-21T11:39:09.074Z"
   },
   {
    "duration": 25,
    "start_time": "2022-01-21T11:39:09.197Z"
   },
   {
    "duration": 6,
    "start_time": "2022-01-21T11:39:09.223Z"
   },
   {
    "duration": 76971,
    "start_time": "2022-01-21T11:39:09.231Z"
   },
   {
    "duration": 4,
    "start_time": "2022-01-21T11:40:26.204Z"
   },
   {
    "duration": 29,
    "start_time": "2022-01-21T11:40:26.210Z"
   },
   {
    "duration": 72,
    "start_time": "2022-01-21T11:40:26.240Z"
   },
   {
    "duration": 59,
    "start_time": "2022-01-21T11:40:26.315Z"
   },
   {
    "duration": 252,
    "start_time": "2022-01-21T11:40:26.376Z"
   },
   {
    "duration": 99,
    "start_time": "2022-01-21T11:40:26.630Z"
   },
   {
    "duration": 2677,
    "start_time": "2022-01-21T11:40:26.741Z"
   },
   {
    "duration": 78101,
    "start_time": "2022-01-21T11:40:29.419Z"
   },
   {
    "duration": 10922,
    "start_time": "2022-01-21T11:41:47.521Z"
   },
   {
    "duration": 97,
    "start_time": "2022-01-21T11:41:58.445Z"
   },
   {
    "duration": 26911,
    "start_time": "2022-01-21T11:41:58.544Z"
   },
   {
    "duration": 5,
    "start_time": "2022-01-21T11:42:25.457Z"
   },
   {
    "duration": 1230,
    "start_time": "2022-01-21T11:42:25.463Z"
   },
   {
    "duration": 5469,
    "start_time": "2022-01-21T11:43:55.032Z"
   },
   {
    "duration": 4,
    "start_time": "2022-01-21T11:44:00.503Z"
   },
   {
    "duration": 6,
    "start_time": "2022-01-21T11:46:25.540Z"
   },
   {
    "duration": 6,
    "start_time": "2022-01-21T11:46:41.111Z"
   },
   {
    "duration": 6,
    "start_time": "2022-01-21T11:46:46.430Z"
   },
   {
    "duration": 4,
    "start_time": "2022-01-21T11:47:02.225Z"
   },
   {
    "duration": 330,
    "start_time": "2022-01-21T11:54:23.417Z"
   },
   {
    "duration": 5,
    "start_time": "2022-01-21T11:54:28.789Z"
   },
   {
    "duration": 11922,
    "start_time": "2022-01-21T11:54:32.781Z"
   },
   {
    "duration": 11325,
    "start_time": "2022-01-21T11:58:17.495Z"
   },
   {
    "duration": 160049,
    "start_time": "2022-01-21T11:58:28.822Z"
   },
   {
    "duration": 53875,
    "start_time": "2022-01-21T12:01:08.873Z"
   },
   {
    "duration": 98,
    "start_time": "2022-01-21T12:02:02.751Z"
   },
   {
    "duration": 245,
    "start_time": "2022-01-21T12:03:35.337Z"
   },
   {
    "duration": 836,
    "start_time": "2022-01-21T12:05:50.998Z"
   },
   {
    "duration": 798,
    "start_time": "2022-01-21T12:05:58.229Z"
   },
   {
    "duration": 5789,
    "start_time": "2022-01-21T12:06:08.058Z"
   },
   {
    "duration": 6,
    "start_time": "2022-01-21T12:06:13.848Z"
   },
   {
    "duration": 4,
    "start_time": "2022-01-21T12:06:16.724Z"
   },
   {
    "duration": 4,
    "start_time": "2022-01-21T12:06:30.379Z"
   },
   {
    "duration": 5,
    "start_time": "2022-01-21T12:19:18.161Z"
   },
   {
    "duration": 4,
    "start_time": "2022-01-21T12:26:23.083Z"
   },
   {
    "duration": 405,
    "start_time": "2022-01-21T12:26:23.089Z"
   },
   {
    "duration": 213,
    "start_time": "2022-01-21T12:26:23.497Z"
   },
   {
    "duration": 12,
    "start_time": "2022-01-21T12:26:23.712Z"
   },
   {
    "duration": 31,
    "start_time": "2022-01-21T12:26:23.726Z"
   },
   {
    "duration": 233,
    "start_time": "2022-01-21T12:26:23.759Z"
   },
   {
    "duration": 13,
    "start_time": "2022-01-21T12:26:23.994Z"
   },
   {
    "duration": 44,
    "start_time": "2022-01-21T12:26:24.008Z"
   },
   {
    "duration": 31,
    "start_time": "2022-01-21T12:26:24.055Z"
   },
   {
    "duration": 108,
    "start_time": "2022-01-21T12:26:24.088Z"
   },
   {
    "duration": 107,
    "start_time": "2022-01-21T12:26:24.198Z"
   },
   {
    "duration": 24,
    "start_time": "2022-01-21T12:26:24.307Z"
   },
   {
    "duration": 6,
    "start_time": "2022-01-21T12:26:24.342Z"
   },
   {
    "duration": 23759,
    "start_time": "2022-01-21T12:26:24.350Z"
   },
   {
    "duration": -66,
    "start_time": "2022-01-21T12:26:48.178Z"
   },
   {
    "duration": -69,
    "start_time": "2022-01-21T12:26:48.183Z"
   },
   {
    "duration": -78,
    "start_time": "2022-01-21T12:26:48.193Z"
   },
   {
    "duration": -93,
    "start_time": "2022-01-21T12:26:48.210Z"
   },
   {
    "duration": -98,
    "start_time": "2022-01-21T12:26:48.216Z"
   },
   {
    "duration": -99,
    "start_time": "2022-01-21T12:26:48.218Z"
   },
   {
    "duration": -100,
    "start_time": "2022-01-21T12:26:48.221Z"
   },
   {
    "duration": -102,
    "start_time": "2022-01-21T12:26:48.224Z"
   },
   {
    "duration": -103,
    "start_time": "2022-01-21T12:26:48.226Z"
   },
   {
    "duration": -104,
    "start_time": "2022-01-21T12:26:48.229Z"
   },
   {
    "duration": -107,
    "start_time": "2022-01-21T12:26:48.233Z"
   },
   {
    "duration": -108,
    "start_time": "2022-01-21T12:26:48.236Z"
   },
   {
    "duration": -109,
    "start_time": "2022-01-21T12:26:48.238Z"
   },
   {
    "duration": -119,
    "start_time": "2022-01-21T12:26:48.250Z"
   },
   {
    "duration": -120,
    "start_time": "2022-01-21T12:26:48.252Z"
   },
   {
    "duration": -122,
    "start_time": "2022-01-21T12:26:48.255Z"
   },
   {
    "duration": 1205,
    "start_time": "2022-01-21T12:26:54.055Z"
   },
   {
    "duration": 257,
    "start_time": "2022-01-21T12:26:55.262Z"
   },
   {
    "duration": 181,
    "start_time": "2022-01-21T12:26:55.521Z"
   },
   {
    "duration": 18,
    "start_time": "2022-01-21T12:26:55.704Z"
   },
   {
    "duration": 25,
    "start_time": "2022-01-21T12:26:55.724Z"
   },
   {
    "duration": 184,
    "start_time": "2022-01-21T12:26:55.751Z"
   },
   {
    "duration": 11,
    "start_time": "2022-01-21T12:26:55.937Z"
   },
   {
    "duration": 27,
    "start_time": "2022-01-21T12:26:55.951Z"
   },
   {
    "duration": 31,
    "start_time": "2022-01-21T12:26:55.980Z"
   },
   {
    "duration": 57,
    "start_time": "2022-01-21T12:26:56.012Z"
   },
   {
    "duration": 131,
    "start_time": "2022-01-21T12:26:56.071Z"
   },
   {
    "duration": 27,
    "start_time": "2022-01-21T12:26:56.204Z"
   },
   {
    "duration": 12,
    "start_time": "2022-01-21T12:26:56.232Z"
   },
   {
    "duration": 76579,
    "start_time": "2022-01-21T12:26:56.246Z"
   },
   {
    "duration": 14,
    "start_time": "2022-01-21T12:28:12.827Z"
   },
   {
    "duration": 33,
    "start_time": "2022-01-21T12:28:12.842Z"
   },
   {
    "duration": 50,
    "start_time": "2022-01-21T12:28:12.876Z"
   },
   {
    "duration": 54,
    "start_time": "2022-01-21T12:28:12.928Z"
   },
   {
    "duration": 282,
    "start_time": "2022-01-21T12:28:12.984Z"
   },
   {
    "duration": 112,
    "start_time": "2022-01-21T12:28:13.269Z"
   },
   {
    "duration": 11793,
    "start_time": "2022-01-21T12:28:13.383Z"
   },
   {
    "duration": 379,
    "start_time": "2022-01-21T12:28:25.178Z"
   },
   {
    "duration": -83,
    "start_time": "2022-01-21T12:28:25.642Z"
   },
   {
    "duration": -84,
    "start_time": "2022-01-21T12:28:25.644Z"
   },
   {
    "duration": -90,
    "start_time": "2022-01-21T12:28:25.651Z"
   },
   {
    "duration": -92,
    "start_time": "2022-01-21T12:28:25.654Z"
   },
   {
    "duration": -94,
    "start_time": "2022-01-21T12:28:25.657Z"
   },
   {
    "duration": -174,
    "start_time": "2022-01-21T12:28:25.738Z"
   },
   {
    "duration": -177,
    "start_time": "2022-01-21T12:28:25.741Z"
   },
   {
    "duration": -178,
    "start_time": "2022-01-21T12:28:25.743Z"
   },
   {
    "duration": 162669,
    "start_time": "2022-01-21T12:28:43.073Z"
   },
   {
    "duration": 55697,
    "start_time": "2022-01-21T12:31:25.743Z"
   },
   {
    "duration": 100,
    "start_time": "2022-01-21T12:32:21.444Z"
   },
   {
    "duration": 1595,
    "start_time": "2022-01-21T12:32:21.546Z"
   },
   {
    "duration": -94,
    "start_time": "2022-01-21T12:32:23.237Z"
   },
   {
    "duration": -99,
    "start_time": "2022-01-21T12:32:23.243Z"
   },
   {
    "duration": -228,
    "start_time": "2022-01-21T12:32:23.373Z"
   },
   {
    "duration": -232,
    "start_time": "2022-01-21T12:32:23.378Z"
   },
   {
    "duration": -234,
    "start_time": "2022-01-21T12:32:23.381Z"
   },
   {
    "duration": 1351,
    "start_time": "2022-01-21T12:32:41.164Z"
   },
   {
    "duration": 4502,
    "start_time": "2022-01-21T12:32:55.773Z"
   },
   {
    "duration": 1237,
    "start_time": "2022-01-21T12:33:04.101Z"
   },
   {
    "duration": 247,
    "start_time": "2022-01-21T12:33:05.341Z"
   },
   {
    "duration": 172,
    "start_time": "2022-01-21T12:33:05.589Z"
   },
   {
    "duration": 17,
    "start_time": "2022-01-21T12:33:05.763Z"
   },
   {
    "duration": 46,
    "start_time": "2022-01-21T12:33:05.782Z"
   },
   {
    "duration": 203,
    "start_time": "2022-01-21T12:33:05.830Z"
   },
   {
    "duration": 11,
    "start_time": "2022-01-21T12:33:06.035Z"
   },
   {
    "duration": 39,
    "start_time": "2022-01-21T12:33:06.048Z"
   },
   {
    "duration": 29,
    "start_time": "2022-01-21T12:33:06.090Z"
   },
   {
    "duration": 35,
    "start_time": "2022-01-21T12:33:06.121Z"
   },
   {
    "duration": 128,
    "start_time": "2022-01-21T12:33:06.158Z"
   },
   {
    "duration": 30,
    "start_time": "2022-01-21T12:33:06.288Z"
   },
   {
    "duration": 22,
    "start_time": "2022-01-21T12:33:06.319Z"
   },
   {
    "duration": 79095,
    "start_time": "2022-01-21T12:33:06.342Z"
   },
   {
    "duration": 5,
    "start_time": "2022-01-21T12:34:25.441Z"
   },
   {
    "duration": 19,
    "start_time": "2022-01-21T12:34:25.447Z"
   },
   {
    "duration": 46,
    "start_time": "2022-01-21T12:34:25.467Z"
   },
   {
    "duration": 39,
    "start_time": "2022-01-21T12:34:25.515Z"
   },
   {
    "duration": 237,
    "start_time": "2022-01-21T12:34:25.556Z"
   },
   {
    "duration": 113,
    "start_time": "2022-01-21T12:34:25.794Z"
   },
   {
    "duration": 13680,
    "start_time": "2022-01-21T12:34:25.909Z"
   },
   {
    "duration": 160995,
    "start_time": "2022-01-21T12:34:39.591Z"
   },
   {
    "duration": 59057,
    "start_time": "2022-01-21T12:37:20.587Z"
   },
   {
    "duration": 100,
    "start_time": "2022-01-21T12:38:19.646Z"
   },
   {
    "duration": 1447,
    "start_time": "2022-01-21T12:38:19.748Z"
   },
   {
    "duration": 27144,
    "start_time": "2022-01-21T12:38:21.197Z"
   },
   {
    "duration": 5,
    "start_time": "2022-01-21T12:38:48.344Z"
   },
   {
    "duration": 8,
    "start_time": "2022-01-21T12:38:48.351Z"
   },
   {
    "duration": 5,
    "start_time": "2022-01-21T12:38:48.360Z"
   },
   {
    "duration": 1295,
    "start_time": "2022-01-21T12:38:48.366Z"
   },
   {
    "duration": 1180,
    "start_time": "2022-01-22T14:53:53.194Z"
   },
   {
    "duration": 285,
    "start_time": "2022-01-22T14:53:54.376Z"
   },
   {
    "duration": 331,
    "start_time": "2022-01-22T14:53:54.664Z"
   },
   {
    "duration": 15,
    "start_time": "2022-01-22T14:53:54.997Z"
   },
   {
    "duration": 27,
    "start_time": "2022-01-22T14:53:55.014Z"
   },
   {
    "duration": 186,
    "start_time": "2022-01-22T14:53:55.043Z"
   },
   {
    "duration": 10,
    "start_time": "2022-01-22T14:53:55.231Z"
   },
   {
    "duration": 56,
    "start_time": "2022-01-22T14:53:55.244Z"
   },
   {
    "duration": 30,
    "start_time": "2022-01-22T14:53:55.302Z"
   },
   {
    "duration": 38,
    "start_time": "2022-01-22T14:53:55.334Z"
   },
   {
    "duration": 150,
    "start_time": "2022-01-22T14:53:55.374Z"
   },
   {
    "duration": 35,
    "start_time": "2022-01-22T14:53:55.526Z"
   },
   {
    "duration": 9,
    "start_time": "2022-01-22T14:53:55.564Z"
   },
   {
    "duration": 73284,
    "start_time": "2022-01-22T14:53:55.575Z"
   },
   {
    "duration": 6,
    "start_time": "2022-01-22T14:55:08.861Z"
   },
   {
    "duration": 13,
    "start_time": "2022-01-22T14:55:08.868Z"
   },
   {
    "duration": 3,
    "start_time": "2022-01-22T14:55:18.602Z"
   },
   {
    "duration": 416,
    "start_time": "2022-01-23T11:09:34.603Z"
   },
   {
    "duration": 1638,
    "start_time": "2022-01-23T11:09:38.425Z"
   },
   {
    "duration": 1003,
    "start_time": "2022-01-23T11:09:40.067Z"
   },
   {
    "duration": 872,
    "start_time": "2022-01-23T11:09:41.074Z"
   },
   {
    "duration": 28,
    "start_time": "2022-01-23T11:09:41.950Z"
   },
   {
    "duration": 16,
    "start_time": "2022-01-23T11:09:41.980Z"
   },
   {
    "duration": 332,
    "start_time": "2022-01-23T11:09:41.999Z"
   },
   {
    "duration": 25,
    "start_time": "2022-01-23T11:09:42.334Z"
   },
   {
    "duration": 38,
    "start_time": "2022-01-23T11:09:42.363Z"
   },
   {
    "duration": 160,
    "start_time": "2022-01-23T11:09:42.404Z"
   },
   {
    "duration": -94,
    "start_time": "2022-01-23T11:10:17.327Z"
   },
   {
    "duration": 564,
    "start_time": "2022-01-23T11:10:34.916Z"
   },
   {
    "duration": 1572,
    "start_time": "2022-01-23T11:11:13.419Z"
   },
   {
    "duration": 350,
    "start_time": "2022-01-23T11:11:14.994Z"
   },
   {
    "duration": 247,
    "start_time": "2022-01-23T11:11:15.346Z"
   },
   {
    "duration": 23,
    "start_time": "2022-01-23T11:11:15.595Z"
   },
   {
    "duration": 17,
    "start_time": "2022-01-23T11:11:15.620Z"
   },
   {
    "duration": 296,
    "start_time": "2022-01-23T11:11:15.639Z"
   },
   {
    "duration": 14,
    "start_time": "2022-01-23T11:11:15.937Z"
   },
   {
    "duration": 40,
    "start_time": "2022-01-23T11:11:15.958Z"
   },
   {
    "duration": -97,
    "start_time": "2022-01-23T11:13:05.399Z"
   },
   {
    "duration": 1620,
    "start_time": "2022-01-23T11:13:21.811Z"
   },
   {
    "duration": 308,
    "start_time": "2022-01-23T11:13:38.455Z"
   },
   {
    "duration": -136,
    "start_time": "2022-01-23T11:14:04.075Z"
   },
   {
    "duration": 291,
    "start_time": "2022-01-23T11:14:06.404Z"
   },
   {
    "duration": 672,
    "start_time": "2022-01-23T11:14:23.542Z"
   },
   {
    "duration": 418,
    "start_time": "2022-01-23T11:14:46.116Z"
   },
   {
    "duration": 9,
    "start_time": "2022-01-23T11:15:19.110Z"
   },
   {
    "duration": 8,
    "start_time": "2022-01-23T11:15:36.365Z"
   },
   {
    "duration": 269,
    "start_time": "2022-01-23T11:15:45.366Z"
   },
   {
    "duration": 146,
    "start_time": "2022-01-23T11:15:45.638Z"
   },
   {
    "duration": -116,
    "start_time": "2022-01-23T11:19:30.060Z"
   },
   {
    "duration": -122,
    "start_time": "2022-01-23T11:19:30.067Z"
   },
   {
    "duration": -112,
    "start_time": "2022-01-23T11:19:30.071Z"
   },
   {
    "duration": -114,
    "start_time": "2022-01-23T11:19:30.074Z"
   },
   {
    "duration": -114,
    "start_time": "2022-01-23T11:19:30.076Z"
   },
   {
    "duration": -119,
    "start_time": "2022-01-23T11:19:30.082Z"
   },
   {
    "duration": -121,
    "start_time": "2022-01-23T11:19:30.086Z"
   },
   {
    "duration": -124,
    "start_time": "2022-01-23T11:19:30.090Z"
   },
   {
    "duration": -125,
    "start_time": "2022-01-23T11:19:30.093Z"
   },
   {
    "duration": -130,
    "start_time": "2022-01-23T11:19:30.099Z"
   },
   {
    "duration": -131,
    "start_time": "2022-01-23T11:19:30.102Z"
   },
   {
    "duration": -134,
    "start_time": "2022-01-23T11:19:30.106Z"
   },
   {
    "duration": -134,
    "start_time": "2022-01-23T11:19:30.108Z"
   },
   {
    "duration": 4062,
    "start_time": "2022-01-23T11:21:07.954Z"
   },
   {
    "duration": 517,
    "start_time": "2022-01-23T11:21:12.019Z"
   },
   {
    "duration": 424,
    "start_time": "2022-01-23T11:21:12.540Z"
   },
   {
    "duration": 18,
    "start_time": "2022-01-23T11:21:12.967Z"
   },
   {
    "duration": 14,
    "start_time": "2022-01-23T11:21:12.989Z"
   },
   {
    "duration": 311,
    "start_time": "2022-01-23T11:21:13.005Z"
   },
   {
    "duration": 15,
    "start_time": "2022-01-23T11:21:13.318Z"
   },
   {
    "duration": 50,
    "start_time": "2022-01-23T11:21:13.336Z"
   },
   {
    "duration": 308,
    "start_time": "2022-01-23T11:21:13.388Z"
   },
   {
    "duration": 21005,
    "start_time": "2022-01-23T11:21:13.698Z"
   },
   {
    "duration": -229,
    "start_time": "2022-01-23T11:21:34.935Z"
   },
   {
    "duration": -234,
    "start_time": "2022-01-23T11:21:34.941Z"
   },
   {
    "duration": -241,
    "start_time": "2022-01-23T11:21:34.949Z"
   },
   {
    "duration": 292,
    "start_time": "2022-01-23T11:21:37.135Z"
   },
   {
    "duration": 290,
    "start_time": "2022-01-23T11:21:38.113Z"
   },
   {
    "duration": 300,
    "start_time": "2022-01-23T11:21:38.580Z"
   },
   {
    "duration": 297,
    "start_time": "2022-01-23T11:21:39.362Z"
   },
   {
    "duration": 382,
    "start_time": "2022-01-23T11:21:59.149Z"
   },
   {
    "duration": -363,
    "start_time": "2022-01-23T11:22:39.394Z"
   },
   {
    "duration": 404,
    "start_time": "2022-01-23T11:22:43.127Z"
   },
   {
    "duration": 333,
    "start_time": "2022-01-23T11:23:02.639Z"
   },
   {
    "duration": 299,
    "start_time": "2022-01-23T11:23:07.068Z"
   },
   {
    "duration": 317,
    "start_time": "2022-01-23T11:23:15.842Z"
   },
   {
    "duration": 284,
    "start_time": "2022-01-23T11:23:21.335Z"
   },
   {
    "duration": 305,
    "start_time": "2022-01-23T11:23:25.560Z"
   },
   {
    "duration": 311,
    "start_time": "2022-01-23T11:23:30.365Z"
   },
   {
    "duration": 283,
    "start_time": "2022-01-23T11:24:02.028Z"
   },
   {
    "duration": 303,
    "start_time": "2022-01-23T11:24:14.119Z"
   },
   {
    "duration": 284,
    "start_time": "2022-01-23T11:24:15.752Z"
   },
   {
    "duration": 286,
    "start_time": "2022-01-23T11:24:19.866Z"
   },
   {
    "duration": 298,
    "start_time": "2022-01-23T11:24:24.481Z"
   },
   {
    "duration": 279,
    "start_time": "2022-01-23T11:24:29.288Z"
   },
   {
    "duration": 288,
    "start_time": "2022-01-23T11:24:40.226Z"
   },
   {
    "duration": 306,
    "start_time": "2022-01-23T11:24:50.540Z"
   },
   {
    "duration": 269,
    "start_time": "2022-01-23T11:24:58.368Z"
   },
   {
    "duration": 274,
    "start_time": "2022-01-23T11:25:01.567Z"
   },
   {
    "duration": 280,
    "start_time": "2022-01-23T11:25:07.593Z"
   },
   {
    "duration": 291,
    "start_time": "2022-01-23T11:25:14.575Z"
   },
   {
    "duration": 294,
    "start_time": "2022-01-23T11:25:40.171Z"
   },
   {
    "duration": 281,
    "start_time": "2022-01-23T11:25:48.052Z"
   },
   {
    "duration": 555,
    "start_time": "2022-01-23T11:25:56.759Z"
   },
   {
    "duration": 298,
    "start_time": "2022-01-23T11:26:02.563Z"
   },
   {
    "duration": 289,
    "start_time": "2022-01-23T11:26:11.000Z"
   },
   {
    "duration": 299,
    "start_time": "2022-01-23T11:26:18.693Z"
   },
   {
    "duration": 404,
    "start_time": "2022-01-23T11:26:34.435Z"
   },
   {
    "duration": 396,
    "start_time": "2022-01-23T11:26:41.740Z"
   },
   {
    "duration": 301,
    "start_time": "2022-01-23T11:26:49.547Z"
   },
   {
    "duration": 297,
    "start_time": "2022-01-23T11:27:16.242Z"
   },
   {
    "duration": 414,
    "start_time": "2022-01-23T11:27:23.665Z"
   },
   {
    "duration": 8,
    "start_time": "2022-01-23T11:27:38.988Z"
   },
   {
    "duration": 111,
    "start_time": "2022-01-23T11:29:12.192Z"
   },
   {
    "duration": 274,
    "start_time": "2022-01-23T11:29:14.576Z"
   },
   {
    "duration": 292,
    "start_time": "2022-01-23T11:29:40.505Z"
   },
   {
    "duration": 8,
    "start_time": "2022-01-23T11:29:56.745Z"
   },
   {
    "duration": 60,
    "start_time": "2022-01-23T11:31:05.676Z"
   },
   {
    "duration": 76,
    "start_time": "2022-01-23T11:32:49.360Z"
   },
   {
    "duration": 7,
    "start_time": "2022-01-23T11:33:43.611Z"
   },
   {
    "duration": 372,
    "start_time": "2022-01-23T11:33:43.621Z"
   },
   {
    "duration": 247,
    "start_time": "2022-01-23T11:33:43.995Z"
   },
   {
    "duration": 28,
    "start_time": "2022-01-23T11:33:44.245Z"
   },
   {
    "duration": 14,
    "start_time": "2022-01-23T11:33:44.275Z"
   },
   {
    "duration": 309,
    "start_time": "2022-01-23T11:33:44.292Z"
   },
   {
    "duration": 14,
    "start_time": "2022-01-23T11:33:44.604Z"
   },
   {
    "duration": 60,
    "start_time": "2022-01-23T11:33:44.622Z"
   },
   {
    "duration": 319,
    "start_time": "2022-01-23T11:33:44.684Z"
   },
   {
    "duration": 9,
    "start_time": "2022-01-23T11:33:45.006Z"
   },
   {
    "duration": 312,
    "start_time": "2022-01-23T11:33:45.017Z"
   },
   {
    "duration": 324,
    "start_time": "2022-01-23T11:33:45.331Z"
   },
   {
    "duration": 318,
    "start_time": "2022-01-23T11:33:45.660Z"
   },
   {
    "duration": 44,
    "start_time": "2022-01-23T11:35:01.682Z"
   },
   {
    "duration": 9,
    "start_time": "2022-01-23T11:40:39.341Z"
   },
   {
    "duration": 6,
    "start_time": "2022-01-23T11:40:43.491Z"
   },
   {
    "duration": 336,
    "start_time": "2022-01-23T11:40:43.500Z"
   },
   {
    "duration": 250,
    "start_time": "2022-01-23T11:40:43.839Z"
   },
   {
    "duration": 19,
    "start_time": "2022-01-23T11:40:44.092Z"
   },
   {
    "duration": 14,
    "start_time": "2022-01-23T11:40:44.113Z"
   },
   {
    "duration": 309,
    "start_time": "2022-01-23T11:40:44.130Z"
   },
   {
    "duration": 23,
    "start_time": "2022-01-23T11:40:44.441Z"
   },
   {
    "duration": 37,
    "start_time": "2022-01-23T11:40:44.468Z"
   },
   {
    "duration": 332,
    "start_time": "2022-01-23T11:40:44.508Z"
   },
   {
    "duration": 17,
    "start_time": "2022-01-23T11:40:44.843Z"
   },
   {
    "duration": 306,
    "start_time": "2022-01-23T11:40:44.863Z"
   },
   {
    "duration": 320,
    "start_time": "2022-01-23T11:40:45.171Z"
   },
   {
    "duration": 303,
    "start_time": "2022-01-23T11:40:45.494Z"
   },
   {
    "duration": 91,
    "start_time": "2022-01-23T11:40:45.800Z"
   },
   {
    "duration": 15,
    "start_time": "2022-01-23T11:40:49.277Z"
   },
   {
    "duration": 423,
    "start_time": "2022-01-23T11:43:40.181Z"
   },
   {
    "duration": 9250,
    "start_time": "2022-01-23T11:44:34.937Z"
   },
   {
    "duration": 454,
    "start_time": "2022-01-23T11:45:00.829Z"
   },
   {
    "duration": 6,
    "start_time": "2022-01-23T11:45:13.883Z"
   },
   {
    "duration": 342,
    "start_time": "2022-01-23T11:45:13.893Z"
   },
   {
    "duration": 254,
    "start_time": "2022-01-23T11:45:14.238Z"
   },
   {
    "duration": 18,
    "start_time": "2022-01-23T11:45:14.494Z"
   },
   {
    "duration": 15,
    "start_time": "2022-01-23T11:45:14.514Z"
   },
   {
    "duration": 286,
    "start_time": "2022-01-23T11:45:14.559Z"
   },
   {
    "duration": 20,
    "start_time": "2022-01-23T11:45:14.848Z"
   },
   {
    "duration": 37,
    "start_time": "2022-01-23T11:45:14.870Z"
   },
   {
    "duration": 321,
    "start_time": "2022-01-23T11:45:14.909Z"
   },
   {
    "duration": 10,
    "start_time": "2022-01-23T11:45:15.232Z"
   },
   {
    "duration": 303,
    "start_time": "2022-01-23T11:45:15.245Z"
   },
   {
    "duration": 315,
    "start_time": "2022-01-23T11:45:15.550Z"
   },
   {
    "duration": 308,
    "start_time": "2022-01-23T11:45:15.867Z"
   },
   {
    "duration": 98,
    "start_time": "2022-01-23T11:45:16.178Z"
   },
   {
    "duration": 14,
    "start_time": "2022-01-23T11:45:16.278Z"
   },
   {
    "duration": 10410,
    "start_time": "2022-01-23T11:45:18.012Z"
   },
   {
    "duration": 16,
    "start_time": "2022-01-23T11:45:53.174Z"
   },
   {
    "duration": 10999,
    "start_time": "2022-01-23T11:45:59.585Z"
   },
   {
    "duration": 7,
    "start_time": "2022-01-23T11:46:12.165Z"
   },
   {
    "duration": 430,
    "start_time": "2022-01-23T11:46:12.175Z"
   },
   {
    "duration": 261,
    "start_time": "2022-01-23T11:46:12.608Z"
   },
   {
    "duration": 20,
    "start_time": "2022-01-23T11:46:12.872Z"
   },
   {
    "duration": 17,
    "start_time": "2022-01-23T11:46:12.894Z"
   },
   {
    "duration": 345,
    "start_time": "2022-01-23T11:46:12.914Z"
   },
   {
    "duration": 17,
    "start_time": "2022-01-23T11:46:13.263Z"
   },
   {
    "duration": 47,
    "start_time": "2022-01-23T11:46:13.284Z"
   },
   {
    "duration": 329,
    "start_time": "2022-01-23T11:46:13.333Z"
   },
   {
    "duration": 10,
    "start_time": "2022-01-23T11:46:13.665Z"
   },
   {
    "duration": 316,
    "start_time": "2022-01-23T11:46:13.677Z"
   },
   {
    "duration": 343,
    "start_time": "2022-01-23T11:46:13.996Z"
   },
   {
    "duration": 414,
    "start_time": "2022-01-23T11:46:14.342Z"
   },
   {
    "duration": 112,
    "start_time": "2022-01-23T11:46:14.760Z"
   },
   {
    "duration": 162,
    "start_time": "2022-01-23T11:46:18.559Z"
   },
   {
    "duration": 9,
    "start_time": "2022-01-23T11:46:53.733Z"
   },
   {
    "duration": 9,
    "start_time": "2022-01-23T11:47:15.379Z"
   },
   {
    "duration": 33,
    "start_time": "2022-01-23T11:51:48.510Z"
   },
   {
    "duration": 483,
    "start_time": "2022-01-23T11:53:06.964Z"
   },
   {
    "duration": 7,
    "start_time": "2022-01-23T11:53:15.753Z"
   },
   {
    "duration": 22,
    "start_time": "2022-01-23T11:53:21.116Z"
   },
   {
    "duration": 58,
    "start_time": "2022-01-23T11:53:25.830Z"
   },
   {
    "duration": 5447,
    "start_time": "2022-01-23T11:56:12.201Z"
   },
   {
    "duration": 347,
    "start_time": "2022-01-23T11:58:57.291Z"
   },
   {
    "duration": 5,
    "start_time": "2022-01-23T11:58:59.289Z"
   },
   {
    "duration": 5,
    "start_time": "2022-01-23T11:59:00.730Z"
   },
   {
    "duration": 189,
    "start_time": "2022-01-23T11:59:17.498Z"
   },
   {
    "duration": 6,
    "start_time": "2022-01-23T11:59:27.011Z"
   },
   {
    "duration": 9779,
    "start_time": "2022-01-23T11:59:34.294Z"
   },
   {
    "duration": 145,
    "start_time": "2022-01-23T12:00:27.401Z"
   },
   {
    "duration": 10233,
    "start_time": "2022-01-23T12:00:33.136Z"
   },
   {
    "duration": 7,
    "start_time": "2022-01-23T12:02:00.642Z"
   },
   {
    "duration": 352,
    "start_time": "2022-01-23T12:02:00.651Z"
   },
   {
    "duration": 259,
    "start_time": "2022-01-23T12:02:01.005Z"
   },
   {
    "duration": 20,
    "start_time": "2022-01-23T12:02:01.267Z"
   },
   {
    "duration": 20,
    "start_time": "2022-01-23T12:02:01.289Z"
   },
   {
    "duration": 313,
    "start_time": "2022-01-23T12:02:01.312Z"
   },
   {
    "duration": 16,
    "start_time": "2022-01-23T12:02:01.627Z"
   },
   {
    "duration": 51,
    "start_time": "2022-01-23T12:02:01.647Z"
   },
   {
    "duration": 322,
    "start_time": "2022-01-23T12:02:01.701Z"
   },
   {
    "duration": 9,
    "start_time": "2022-01-23T12:02:02.026Z"
   },
   {
    "duration": 294,
    "start_time": "2022-01-23T12:02:02.037Z"
   },
   {
    "duration": 311,
    "start_time": "2022-01-23T12:02:02.333Z"
   },
   {
    "duration": 308,
    "start_time": "2022-01-23T12:02:02.646Z"
   },
   {
    "duration": 100,
    "start_time": "2022-01-23T12:02:02.960Z"
   },
   {
    "duration": 155,
    "start_time": "2022-01-23T12:02:03.063Z"
   },
   {
    "duration": 9,
    "start_time": "2022-01-23T12:02:03.220Z"
   },
   {
    "duration": 6,
    "start_time": "2022-01-23T12:02:03.231Z"
   },
   {
    "duration": 23,
    "start_time": "2022-01-23T12:02:03.239Z"
   },
   {
    "duration": 27,
    "start_time": "2022-01-23T12:02:03.264Z"
   },
   {
    "duration": 180,
    "start_time": "2022-01-23T12:02:05.802Z"
   },
   {
    "duration": 9440,
    "start_time": "2022-01-23T12:02:09.525Z"
   },
   {
    "duration": 35,
    "start_time": "2022-01-23T12:02:32.716Z"
   },
   {
    "duration": 138,
    "start_time": "2022-01-23T12:02:57.293Z"
   },
   {
    "duration": 214,
    "start_time": "2022-01-23T12:03:36.414Z"
   },
   {
    "duration": 170,
    "start_time": "2022-01-23T12:03:42.504Z"
   },
   {
    "duration": 5061,
    "start_time": "2022-01-23T12:03:45.617Z"
   },
   {
    "duration": 373,
    "start_time": "2022-01-23T12:03:57.215Z"
   },
   {
    "duration": 583,
    "start_time": "2022-01-23T12:04:07.009Z"
   },
   {
    "duration": 361,
    "start_time": "2022-01-23T12:04:22.180Z"
   },
   {
    "duration": 137,
    "start_time": "2022-01-23T12:04:26.636Z"
   },
   {
    "duration": 48,
    "start_time": "2022-01-23T12:06:03.267Z"
   },
   {
    "duration": 26,
    "start_time": "2022-01-23T12:07:13.939Z"
   },
   {
    "duration": 6,
    "start_time": "2022-01-23T12:07:42.523Z"
   },
   {
    "duration": 390,
    "start_time": "2022-01-23T12:07:42.532Z"
   },
   {
    "duration": 236,
    "start_time": "2022-01-23T12:07:42.925Z"
   },
   {
    "duration": 17,
    "start_time": "2022-01-23T12:07:43.164Z"
   },
   {
    "duration": 15,
    "start_time": "2022-01-23T12:07:43.184Z"
   },
   {
    "duration": 323,
    "start_time": "2022-01-23T12:07:43.202Z"
   },
   {
    "duration": 15,
    "start_time": "2022-01-23T12:07:43.528Z"
   },
   {
    "duration": 51,
    "start_time": "2022-01-23T12:07:43.545Z"
   },
   {
    "duration": 332,
    "start_time": "2022-01-23T12:07:43.599Z"
   },
   {
    "duration": 8,
    "start_time": "2022-01-23T12:07:43.934Z"
   },
   {
    "duration": 306,
    "start_time": "2022-01-23T12:07:43.944Z"
   },
   {
    "duration": 318,
    "start_time": "2022-01-23T12:07:44.259Z"
   },
   {
    "duration": 310,
    "start_time": "2022-01-23T12:07:44.580Z"
   },
   {
    "duration": 92,
    "start_time": "2022-01-23T12:07:44.892Z"
   },
   {
    "duration": 204,
    "start_time": "2022-01-23T12:07:44.987Z"
   },
   {
    "duration": 10,
    "start_time": "2022-01-23T12:07:45.194Z"
   },
   {
    "duration": 5,
    "start_time": "2022-01-23T12:07:45.207Z"
   },
   {
    "duration": 6,
    "start_time": "2022-01-23T12:07:45.215Z"
   },
   {
    "duration": 58,
    "start_time": "2022-01-23T12:07:45.223Z"
   },
   {
    "duration": 28,
    "start_time": "2022-01-23T12:07:45.283Z"
   },
   {
    "duration": 125,
    "start_time": "2022-01-23T12:07:47.507Z"
   },
   {
    "duration": 161,
    "start_time": "2022-01-23T12:07:51.762Z"
   },
   {
    "duration": 152,
    "start_time": "2022-01-23T12:07:53.658Z"
   },
   {
    "duration": 7,
    "start_time": "2022-01-23T12:08:01.846Z"
   },
   {
    "duration": 5,
    "start_time": "2022-01-23T12:08:06.417Z"
   },
   {
    "duration": 287,
    "start_time": "2022-01-23T12:08:08.404Z"
   },
   {
    "duration": 5,
    "start_time": "2022-01-23T12:08:09.608Z"
   },
   {
    "duration": 5,
    "start_time": "2022-01-23T12:08:10.173Z"
   },
   {
    "duration": 1683,
    "start_time": "2022-01-23T12:09:02.734Z"
   },
   {
    "duration": 439,
    "start_time": "2022-01-23T12:09:04.420Z"
   },
   {
    "duration": 277,
    "start_time": "2022-01-23T12:09:04.865Z"
   },
   {
    "duration": 35,
    "start_time": "2022-01-23T12:09:05.145Z"
   },
   {
    "duration": 21,
    "start_time": "2022-01-23T12:09:05.183Z"
   },
   {
    "duration": 357,
    "start_time": "2022-01-23T12:09:05.207Z"
   },
   {
    "duration": 16,
    "start_time": "2022-01-23T12:09:05.566Z"
   },
   {
    "duration": 40,
    "start_time": "2022-01-23T12:09:05.587Z"
   },
   {
    "duration": 351,
    "start_time": "2022-01-23T12:09:05.629Z"
   },
   {
    "duration": 10,
    "start_time": "2022-01-23T12:09:05.983Z"
   },
   {
    "duration": 317,
    "start_time": "2022-01-23T12:09:05.996Z"
   },
   {
    "duration": 325,
    "start_time": "2022-01-23T12:09:06.315Z"
   },
   {
    "duration": 313,
    "start_time": "2022-01-23T12:09:06.642Z"
   },
   {
    "duration": 101,
    "start_time": "2022-01-23T12:09:06.960Z"
   },
   {
    "duration": 158,
    "start_time": "2022-01-23T12:09:07.064Z"
   },
   {
    "duration": 9,
    "start_time": "2022-01-23T12:09:07.225Z"
   },
   {
    "duration": 214,
    "start_time": "2022-01-23T12:09:07.236Z"
   },
   {
    "duration": 180,
    "start_time": "2022-01-23T12:09:07.453Z"
   },
   {
    "duration": 5,
    "start_time": "2022-01-23T12:09:34.962Z"
   },
   {
    "duration": 7,
    "start_time": "2022-01-23T12:09:39.494Z"
   },
   {
    "duration": 5,
    "start_time": "2022-01-23T12:16:33.103Z"
   },
   {
    "duration": 5,
    "start_time": "2022-01-23T12:16:53.530Z"
   },
   {
    "duration": 5,
    "start_time": "2022-01-23T12:16:57.771Z"
   },
   {
    "duration": 5,
    "start_time": "2022-01-23T12:17:00.974Z"
   },
   {
    "duration": 6,
    "start_time": "2022-01-23T12:17:18.670Z"
   },
   {
    "duration": 5,
    "start_time": "2022-01-23T12:17:29.256Z"
   },
   {
    "duration": 5,
    "start_time": "2022-01-23T12:17:32.470Z"
   },
   {
    "duration": 118,
    "start_time": "2022-01-23T12:17:34.638Z"
   },
   {
    "duration": 4,
    "start_time": "2022-01-23T12:17:36.281Z"
   },
   {
    "duration": 5,
    "start_time": "2022-01-23T12:17:43.176Z"
   },
   {
    "duration": 7,
    "start_time": "2022-01-23T12:17:53.009Z"
   },
   {
    "duration": 26,
    "start_time": "2022-01-23T12:30:02.162Z"
   },
   {
    "duration": 26,
    "start_time": "2022-01-23T12:30:13.985Z"
   },
   {
    "duration": 6,
    "start_time": "2022-01-23T12:30:19.827Z"
   },
   {
    "duration": 350,
    "start_time": "2022-01-23T12:30:19.836Z"
   },
   {
    "duration": 252,
    "start_time": "2022-01-23T12:30:20.189Z"
   },
   {
    "duration": 23,
    "start_time": "2022-01-23T12:30:20.444Z"
   },
   {
    "duration": 15,
    "start_time": "2022-01-23T12:30:20.469Z"
   },
   {
    "duration": 329,
    "start_time": "2022-01-23T12:30:20.487Z"
   },
   {
    "duration": 16,
    "start_time": "2022-01-23T12:30:20.820Z"
   },
   {
    "duration": 69,
    "start_time": "2022-01-23T12:30:20.839Z"
   },
   {
    "duration": 441,
    "start_time": "2022-01-23T12:30:20.912Z"
   },
   {
    "duration": 11,
    "start_time": "2022-01-23T12:30:21.361Z"
   },
   {
    "duration": 299,
    "start_time": "2022-01-23T12:30:21.374Z"
   },
   {
    "duration": 310,
    "start_time": "2022-01-23T12:30:21.676Z"
   },
   {
    "duration": 306,
    "start_time": "2022-01-23T12:30:21.989Z"
   },
   {
    "duration": 96,
    "start_time": "2022-01-23T12:30:22.298Z"
   },
   {
    "duration": 152,
    "start_time": "2022-01-23T12:30:22.396Z"
   },
   {
    "duration": 14,
    "start_time": "2022-01-23T12:30:22.552Z"
   },
   {
    "duration": 43,
    "start_time": "2022-01-23T12:30:22.570Z"
   },
   {
    "duration": 6,
    "start_time": "2022-01-23T12:30:39.221Z"
   },
   {
    "duration": 346,
    "start_time": "2022-01-23T12:30:39.230Z"
   },
   {
    "duration": 253,
    "start_time": "2022-01-23T12:30:39.579Z"
   },
   {
    "duration": 27,
    "start_time": "2022-01-23T12:30:39.835Z"
   },
   {
    "duration": 14,
    "start_time": "2022-01-23T12:30:39.864Z"
   },
   {
    "duration": 328,
    "start_time": "2022-01-23T12:30:39.880Z"
   },
   {
    "duration": 16,
    "start_time": "2022-01-23T12:30:40.210Z"
   },
   {
    "duration": 55,
    "start_time": "2022-01-23T12:30:40.229Z"
   },
   {
    "duration": 325,
    "start_time": "2022-01-23T12:30:40.286Z"
   },
   {
    "duration": 9,
    "start_time": "2022-01-23T12:30:40.614Z"
   },
   {
    "duration": 316,
    "start_time": "2022-01-23T12:30:40.625Z"
   },
   {
    "duration": 319,
    "start_time": "2022-01-23T12:30:40.943Z"
   },
   {
    "duration": 314,
    "start_time": "2022-01-23T12:30:41.265Z"
   },
   {
    "duration": 98,
    "start_time": "2022-01-23T12:30:41.582Z"
   },
   {
    "duration": 152,
    "start_time": "2022-01-23T12:30:41.682Z"
   },
   {
    "duration": 9,
    "start_time": "2022-01-23T12:30:41.836Z"
   },
   {
    "duration": 199,
    "start_time": "2022-01-23T12:30:41.847Z"
   },
   {
    "duration": 159,
    "start_time": "2022-01-23T12:30:42.049Z"
   },
   {
    "duration": 11,
    "start_time": "2022-01-23T12:30:42.210Z"
   },
   {
    "duration": 168639,
    "start_time": "2022-01-23T12:30:42.224Z"
   },
   {
    "duration": 7,
    "start_time": "2022-01-23T12:33:30.865Z"
   },
   {
    "duration": 175,
    "start_time": "2022-01-23T12:33:30.874Z"
   },
   {
    "duration": 61,
    "start_time": "2022-01-23T12:33:31.060Z"
   },
   {
    "duration": 1271,
    "start_time": "2022-01-23T12:33:31.124Z"
   },
   {
    "duration": -106,
    "start_time": "2022-01-23T12:33:32.505Z"
   },
   {
    "duration": 8,
    "start_time": "2022-01-23T12:33:41.543Z"
   },
   {
    "duration": 13,
    "start_time": "2022-01-23T12:33:57.725Z"
   },
   {
    "duration": 356,
    "start_time": "2022-01-23T12:36:43.526Z"
   },
   {
    "duration": 433,
    "start_time": "2022-01-23T12:36:55.769Z"
   },
   {
    "duration": 96,
    "start_time": "2022-01-23T12:37:26.149Z"
   },
   {
    "duration": 119,
    "start_time": "2022-01-23T12:40:10.616Z"
   },
   {
    "duration": 1558,
    "start_time": "2022-01-23T12:40:54.708Z"
   },
   {
    "duration": 381,
    "start_time": "2022-01-23T12:41:07.931Z"
   },
   {
    "duration": 384,
    "start_time": "2022-01-23T12:41:55.217Z"
   },
   {
    "duration": 391,
    "start_time": "2022-01-23T12:42:10.221Z"
   },
   {
    "duration": 6,
    "start_time": "2022-01-23T12:42:20.844Z"
   },
   {
    "duration": 477,
    "start_time": "2022-01-23T12:42:30.213Z"
   },
   {
    "duration": 166,
    "start_time": "2022-01-23T12:42:36.332Z"
   },
   {
    "duration": 6,
    "start_time": "2022-01-23T12:52:07.291Z"
   },
   {
    "duration": 508,
    "start_time": "2022-01-23T12:52:07.300Z"
   },
   {
    "duration": 377,
    "start_time": "2022-01-23T12:52:07.813Z"
   },
   {
    "duration": 22,
    "start_time": "2022-01-23T12:52:08.194Z"
   },
   {
    "duration": 43,
    "start_time": "2022-01-23T12:52:08.220Z"
   },
   {
    "duration": 521,
    "start_time": "2022-01-23T12:52:08.267Z"
   },
   {
    "duration": 22,
    "start_time": "2022-01-23T12:52:08.791Z"
   },
   {
    "duration": 74,
    "start_time": "2022-01-23T12:52:08.817Z"
   },
   {
    "duration": 323,
    "start_time": "2022-01-23T12:52:08.898Z"
   },
   {
    "duration": 8,
    "start_time": "2022-01-23T12:52:09.223Z"
   },
   {
    "duration": 332,
    "start_time": "2022-01-23T12:52:09.233Z"
   },
   {
    "duration": 329,
    "start_time": "2022-01-23T12:52:09.568Z"
   },
   {
    "duration": 328,
    "start_time": "2022-01-23T12:52:09.900Z"
   },
   {
    "duration": 95,
    "start_time": "2022-01-23T12:52:10.230Z"
   },
   {
    "duration": 165,
    "start_time": "2022-01-23T12:52:10.327Z"
   },
   {
    "duration": 10,
    "start_time": "2022-01-23T12:52:10.494Z"
   },
   {
    "duration": 177,
    "start_time": "2022-01-23T12:52:10.507Z"
   },
   {
    "duration": 640,
    "start_time": "2022-01-23T12:52:10.686Z"
   },
   {
    "duration": -207,
    "start_time": "2022-01-23T12:52:11.537Z"
   },
   {
    "duration": -210,
    "start_time": "2022-01-23T12:52:11.542Z"
   },
   {
    "duration": -213,
    "start_time": "2022-01-23T12:52:11.547Z"
   },
   {
    "duration": -215,
    "start_time": "2022-01-23T12:52:11.551Z"
   },
   {
    "duration": -217,
    "start_time": "2022-01-23T12:52:11.555Z"
   },
   {
    "duration": -217,
    "start_time": "2022-01-23T12:52:11.557Z"
   },
   {
    "duration": -221,
    "start_time": "2022-01-23T12:52:11.562Z"
   },
   {
    "duration": 196,
    "start_time": "2022-01-23T12:52:36.279Z"
   },
   {
    "duration": 7,
    "start_time": "2022-01-23T12:52:44.229Z"
   },
   {
    "duration": 328,
    "start_time": "2022-01-23T12:52:44.239Z"
   },
   {
    "duration": 233,
    "start_time": "2022-01-23T12:52:44.570Z"
   },
   {
    "duration": 18,
    "start_time": "2022-01-23T12:52:44.807Z"
   },
   {
    "duration": 38,
    "start_time": "2022-01-23T12:52:44.828Z"
   },
   {
    "duration": 304,
    "start_time": "2022-01-23T12:52:44.869Z"
   },
   {
    "duration": 15,
    "start_time": "2022-01-23T12:52:45.175Z"
   },
   {
    "duration": 38,
    "start_time": "2022-01-23T12:52:45.194Z"
   },
   {
    "duration": 326,
    "start_time": "2022-01-23T12:52:45.236Z"
   },
   {
    "duration": 8,
    "start_time": "2022-01-23T12:52:45.565Z"
   },
   {
    "duration": 302,
    "start_time": "2022-01-23T12:52:45.576Z"
   },
   {
    "duration": 428,
    "start_time": "2022-01-23T12:52:45.880Z"
   },
   {
    "duration": 314,
    "start_time": "2022-01-23T12:52:46.311Z"
   },
   {
    "duration": 94,
    "start_time": "2022-01-23T12:52:46.627Z"
   },
   {
    "duration": 148,
    "start_time": "2022-01-23T12:52:46.723Z"
   },
   {
    "duration": 9,
    "start_time": "2022-01-23T12:52:46.873Z"
   },
   {
    "duration": 176,
    "start_time": "2022-01-23T12:52:46.884Z"
   },
   {
    "duration": 174,
    "start_time": "2022-01-23T12:52:47.062Z"
   },
   {
    "duration": 11,
    "start_time": "2022-01-23T12:52:47.238Z"
   },
   {
    "duration": 147534,
    "start_time": "2022-01-23T12:52:47.251Z"
   },
   {
    "duration": 8,
    "start_time": "2022-01-23T12:55:14.787Z"
   },
   {
    "duration": 72,
    "start_time": "2022-01-23T12:55:14.797Z"
   },
   {
    "duration": 53,
    "start_time": "2022-01-23T12:55:14.874Z"
   },
   {
    "duration": 242,
    "start_time": "2022-01-23T12:55:14.930Z"
   },
   {
    "duration": 390,
    "start_time": "2022-01-23T12:55:15.174Z"
   },
   {
    "duration": 142,
    "start_time": "2022-01-23T12:55:54.033Z"
   },
   {
    "duration": 9689,
    "start_time": "2022-01-23T13:08:36.078Z"
   },
   {
    "duration": 19301,
    "start_time": "2022-01-23T13:09:14.550Z"
   },
   {
    "duration": 19279,
    "start_time": "2022-01-23T13:10:21.480Z"
   },
   {
    "duration": 5152,
    "start_time": "2022-01-23T13:10:44.424Z"
   },
   {
    "duration": 240874,
    "start_time": "2022-01-23T13:11:05.431Z"
   },
   {
    "duration": 12556,
    "start_time": "2022-01-23T13:15:06.309Z"
   },
   {
    "duration": 198,
    "start_time": "2022-01-23T13:15:18.869Z"
   },
   {
    "duration": 13,
    "start_time": "2022-01-23T13:15:25.809Z"
   },
   {
    "duration": 1606,
    "start_time": "2022-01-23T13:19:00.953Z"
   },
   {
    "duration": 1633,
    "start_time": "2022-01-23T13:19:14.354Z"
   },
   {
    "duration": 7,
    "start_time": "2022-01-23T13:19:27.347Z"
   },
   {
    "duration": 1229,
    "start_time": "2022-01-23T13:19:33.404Z"
   },
   {
    "duration": 1755,
    "start_time": "2022-01-23T13:37:05.740Z"
   },
   {
    "duration": 362,
    "start_time": "2022-01-23T13:37:07.497Z"
   },
   {
    "duration": 335,
    "start_time": "2022-01-23T13:37:07.862Z"
   },
   {
    "duration": 25,
    "start_time": "2022-01-23T13:37:08.200Z"
   },
   {
    "duration": 38,
    "start_time": "2022-01-23T13:37:08.228Z"
   },
   {
    "duration": 308,
    "start_time": "2022-01-23T13:37:08.269Z"
   },
   {
    "duration": 18,
    "start_time": "2022-01-23T13:37:08.579Z"
   },
   {
    "duration": 67,
    "start_time": "2022-01-23T13:37:08.601Z"
   },
   {
    "duration": 310,
    "start_time": "2022-01-23T13:37:08.671Z"
   },
   {
    "duration": 8,
    "start_time": "2022-01-23T13:37:08.984Z"
   },
   {
    "duration": 291,
    "start_time": "2022-01-23T13:37:08.994Z"
   },
   {
    "duration": 298,
    "start_time": "2022-01-23T13:37:09.288Z"
   },
   {
    "duration": 295,
    "start_time": "2022-01-23T13:37:09.589Z"
   },
   {
    "duration": 92,
    "start_time": "2022-01-23T13:37:09.886Z"
   },
   {
    "duration": 153,
    "start_time": "2022-01-23T13:37:09.981Z"
   },
   {
    "duration": 9,
    "start_time": "2022-01-23T13:37:10.136Z"
   },
   {
    "duration": 212,
    "start_time": "2022-01-23T13:37:10.147Z"
   },
   {
    "duration": 197,
    "start_time": "2022-01-23T13:37:10.361Z"
   },
   {
    "duration": 121,
    "start_time": "2022-01-23T13:37:10.560Z"
   },
   {
    "duration": -112,
    "start_time": "2022-01-23T13:37:10.796Z"
   },
   {
    "duration": -116,
    "start_time": "2022-01-23T13:37:10.802Z"
   },
   {
    "duration": -120,
    "start_time": "2022-01-23T13:37:10.807Z"
   },
   {
    "duration": -139,
    "start_time": "2022-01-23T13:37:10.827Z"
   },
   {
    "duration": -144,
    "start_time": "2022-01-23T13:37:10.833Z"
   },
   {
    "duration": -150,
    "start_time": "2022-01-23T13:37:10.841Z"
   },
   {
    "duration": -162,
    "start_time": "2022-01-23T13:37:10.854Z"
   },
   {
    "duration": -166,
    "start_time": "2022-01-23T13:37:10.859Z"
   },
   {
    "duration": -167,
    "start_time": "2022-01-23T13:37:10.862Z"
   },
   {
    "duration": -172,
    "start_time": "2022-01-23T13:37:10.868Z"
   },
   {
    "duration": -175,
    "start_time": "2022-01-23T13:37:10.872Z"
   },
   {
    "duration": -178,
    "start_time": "2022-01-23T13:37:10.876Z"
   },
   {
    "duration": -180,
    "start_time": "2022-01-23T13:37:10.880Z"
   },
   {
    "duration": -185,
    "start_time": "2022-01-23T13:37:10.886Z"
   },
   {
    "duration": -188,
    "start_time": "2022-01-23T13:37:10.890Z"
   },
   {
    "duration": -191,
    "start_time": "2022-01-23T13:37:10.894Z"
   },
   {
    "duration": -253,
    "start_time": "2022-01-23T13:37:10.957Z"
   },
   {
    "duration": 11,
    "start_time": "2022-01-23T13:39:54.183Z"
   },
   {
    "duration": 11410,
    "start_time": "2022-01-23T13:39:56.905Z"
   },
   {
    "duration": -135,
    "start_time": "2022-01-23T13:40:08.454Z"
   },
   {
    "duration": -138,
    "start_time": "2022-01-23T13:40:08.459Z"
   },
   {
    "duration": -139,
    "start_time": "2022-01-23T13:40:08.462Z"
   },
   {
    "duration": -174,
    "start_time": "2022-01-23T13:40:08.499Z"
   },
   {
    "duration": -186,
    "start_time": "2022-01-23T13:40:08.512Z"
   },
   {
    "duration": -188,
    "start_time": "2022-01-23T13:40:08.516Z"
   },
   {
    "duration": -194,
    "start_time": "2022-01-23T13:40:08.523Z"
   },
   {
    "duration": -196,
    "start_time": "2022-01-23T13:40:08.527Z"
   },
   {
    "duration": -200,
    "start_time": "2022-01-23T13:40:08.532Z"
   },
   {
    "duration": -201,
    "start_time": "2022-01-23T13:40:08.535Z"
   },
   {
    "duration": -207,
    "start_time": "2022-01-23T13:40:08.542Z"
   },
   {
    "duration": -210,
    "start_time": "2022-01-23T13:40:08.546Z"
   },
   {
    "duration": -213,
    "start_time": "2022-01-23T13:40:08.551Z"
   },
   {
    "duration": -218,
    "start_time": "2022-01-23T13:40:08.557Z"
   },
   {
    "duration": -221,
    "start_time": "2022-01-23T13:40:08.561Z"
   },
   {
    "duration": -222,
    "start_time": "2022-01-23T13:40:08.564Z"
   },
   {
    "duration": 13,
    "start_time": "2022-01-23T13:40:27.639Z"
   },
   {
    "duration": 144196,
    "start_time": "2022-01-23T13:40:28.557Z"
   },
   {
    "duration": 7,
    "start_time": "2022-01-23T13:42:52.756Z"
   },
   {
    "duration": 51,
    "start_time": "2022-01-23T13:42:52.766Z"
   },
   {
    "duration": 77,
    "start_time": "2022-01-23T13:42:52.820Z"
   },
   {
    "duration": 269,
    "start_time": "2022-01-23T13:42:52.900Z"
   },
   {
    "duration": 166,
    "start_time": "2022-01-23T13:42:53.171Z"
   },
   {
    "duration": 21140,
    "start_time": "2022-01-23T13:42:53.340Z"
   },
   {
    "duration": 255975,
    "start_time": "2022-01-23T13:43:14.484Z"
   },
   {
    "duration": 14102,
    "start_time": "2022-01-23T13:47:30.461Z"
   },
   {
    "duration": 13,
    "start_time": "2022-01-23T13:47:44.566Z"
   },
   {
    "duration": 1282,
    "start_time": "2022-01-23T13:47:44.581Z"
   },
   {
    "duration": 50408,
    "start_time": "2022-01-23T13:47:45.865Z"
   },
   {
    "duration": 9,
    "start_time": "2022-01-23T13:48:36.276Z"
   },
   {
    "duration": 9,
    "start_time": "2022-01-23T13:48:36.287Z"
   },
   {
    "duration": 7,
    "start_time": "2022-01-23T13:48:36.299Z"
   },
   {
    "duration": 6508,
    "start_time": "2022-01-23T13:48:36.310Z"
   },
   {
    "duration": 10943,
    "start_time": "2022-01-23T13:48:42.820Z"
   },
   {
    "duration": 161,
    "start_time": "2022-01-23T13:53:45.502Z"
   },
   {
    "duration": 658,
    "start_time": "2022-01-23T13:55:34.268Z"
   },
   {
    "duration": 459,
    "start_time": "2022-01-23T13:55:55.359Z"
   },
   {
    "duration": 1209,
    "start_time": "2022-01-23T13:56:11.201Z"
   },
   {
    "duration": 360,
    "start_time": "2022-01-23T13:56:23.773Z"
   },
   {
    "duration": 1547,
    "start_time": "2022-01-23T13:57:09.658Z"
   },
   {
    "duration": 380,
    "start_time": "2022-01-23T13:57:11.208Z"
   },
   {
    "duration": 282,
    "start_time": "2022-01-23T13:57:11.592Z"
   },
   {
    "duration": 25,
    "start_time": "2022-01-23T13:57:11.878Z"
   },
   {
    "duration": 17,
    "start_time": "2022-01-23T13:57:11.907Z"
   },
   {
    "duration": 332,
    "start_time": "2022-01-23T13:57:11.927Z"
   },
   {
    "duration": 15,
    "start_time": "2022-01-23T13:57:12.261Z"
   },
   {
    "duration": 37,
    "start_time": "2022-01-23T13:57:12.279Z"
   },
   {
    "duration": 322,
    "start_time": "2022-01-23T13:57:12.320Z"
   },
   {
    "duration": 16,
    "start_time": "2022-01-23T13:57:12.645Z"
   },
   {
    "duration": 297,
    "start_time": "2022-01-23T13:57:12.664Z"
   },
   {
    "duration": 306,
    "start_time": "2022-01-23T13:57:12.963Z"
   },
   {
    "duration": 313,
    "start_time": "2022-01-23T13:57:13.271Z"
   },
   {
    "duration": 100,
    "start_time": "2022-01-23T13:57:13.587Z"
   },
   {
    "duration": 159,
    "start_time": "2022-01-23T13:57:13.690Z"
   },
   {
    "duration": 15,
    "start_time": "2022-01-23T13:57:13.851Z"
   },
   {
    "duration": 217,
    "start_time": "2022-01-23T13:57:13.869Z"
   },
   {
    "duration": 200,
    "start_time": "2022-01-23T13:57:14.089Z"
   },
   {
    "duration": 12,
    "start_time": "2022-01-23T13:57:14.292Z"
   },
   {
    "duration": 145304,
    "start_time": "2022-01-23T13:57:14.307Z"
   },
   {
    "duration": 7,
    "start_time": "2022-01-23T13:59:39.613Z"
   },
   {
    "duration": 68,
    "start_time": "2022-01-23T13:59:39.622Z"
   },
   {
    "duration": 51,
    "start_time": "2022-01-23T13:59:39.695Z"
   },
   {
    "duration": 273,
    "start_time": "2022-01-23T13:59:39.760Z"
   },
   {
    "duration": 164,
    "start_time": "2022-01-23T13:59:40.036Z"
   },
   {
    "duration": 262458,
    "start_time": "2022-01-23T14:00:01.237Z"
   },
   {
    "duration": 13465,
    "start_time": "2022-01-23T14:04:23.698Z"
   },
   {
    "duration": 104,
    "start_time": "2022-01-23T14:04:37.167Z"
   },
   {
    "duration": 421,
    "start_time": "2022-01-23T14:04:37.274Z"
   },
   {
    "duration": 49794,
    "start_time": "2022-01-23T14:04:37.697Z"
   },
   {
    "duration": 8,
    "start_time": "2022-01-23T14:05:27.494Z"
   },
   {
    "duration": 8,
    "start_time": "2022-01-23T14:05:27.504Z"
   },
   {
    "duration": 7,
    "start_time": "2022-01-23T14:05:27.514Z"
   },
   {
    "duration": 6086,
    "start_time": "2022-01-23T14:05:27.559Z"
   },
   {
    "duration": 11185,
    "start_time": "2022-01-23T14:05:43.743Z"
   },
   {
    "duration": 20259,
    "start_time": "2022-01-23T14:05:58.539Z"
   },
   {
    "duration": 6,
    "start_time": "2022-01-23T15:55:37.844Z"
   },
   {
    "duration": 9,
    "start_time": "2022-01-23T15:58:58.634Z"
   },
   {
    "duration": 1080,
    "start_time": "2022-01-23T17:38:37.932Z"
   },
   {
    "duration": 270,
    "start_time": "2022-01-23T17:38:39.021Z"
   },
   {
    "duration": 175,
    "start_time": "2022-01-23T17:38:39.292Z"
   },
   {
    "duration": 17,
    "start_time": "2022-01-23T17:38:39.469Z"
   },
   {
    "duration": 13,
    "start_time": "2022-01-23T17:38:39.487Z"
   },
   {
    "duration": 185,
    "start_time": "2022-01-23T17:38:39.512Z"
   },
   {
    "duration": 19,
    "start_time": "2022-01-23T17:38:39.698Z"
   },
   {
    "duration": 26,
    "start_time": "2022-01-23T17:38:39.719Z"
   },
   {
    "duration": 480,
    "start_time": "2022-01-23T17:38:39.746Z"
   },
   {
    "duration": 411,
    "start_time": "2022-01-23T17:40:24.694Z"
   },
   {
    "duration": 200,
    "start_time": "2022-01-23T17:40:30.040Z"
   },
   {
    "duration": 197,
    "start_time": "2022-01-23T17:40:46.830Z"
   },
   {
    "duration": 198,
    "start_time": "2022-01-23T17:40:56.469Z"
   },
   {
    "duration": 268,
    "start_time": "2022-01-23T17:41:03.663Z"
   },
   {
    "duration": 192,
    "start_time": "2022-01-23T17:41:14.541Z"
   },
   {
    "duration": 186,
    "start_time": "2022-01-23T17:41:29.571Z"
   },
   {
    "duration": 200,
    "start_time": "2022-01-23T17:41:41.332Z"
   },
   {
    "duration": 197,
    "start_time": "2022-01-23T17:41:49.755Z"
   },
   {
    "duration": 198,
    "start_time": "2022-01-23T17:41:57.845Z"
   },
   {
    "duration": 59,
    "start_time": "2022-01-23T17:43:41.914Z"
   },
   {
    "duration": 200,
    "start_time": "2022-01-23T17:43:44.518Z"
   },
   {
    "duration": 196,
    "start_time": "2022-01-23T17:44:56.584Z"
   },
   {
    "duration": 193,
    "start_time": "2022-01-23T17:45:04.651Z"
   },
   {
    "duration": 23,
    "start_time": "2022-01-23T17:51:23.302Z"
   },
   {
    "duration": 15,
    "start_time": "2022-01-23T17:51:32.886Z"
   },
   {
    "duration": 203,
    "start_time": "2022-01-23T17:53:23.212Z"
   },
   {
    "duration": 8,
    "start_time": "2022-01-23T17:53:25.747Z"
   },
   {
    "duration": 374,
    "start_time": "2022-01-23T17:53:27.656Z"
   },
   {
    "duration": 7,
    "start_time": "2022-01-23T17:53:36.922Z"
   },
   {
    "duration": 268,
    "start_time": "2022-01-23T17:53:36.932Z"
   },
   {
    "duration": 179,
    "start_time": "2022-01-23T17:53:37.202Z"
   },
   {
    "duration": 29,
    "start_time": "2022-01-23T17:53:37.383Z"
   },
   {
    "duration": 11,
    "start_time": "2022-01-23T17:53:37.414Z"
   },
   {
    "duration": 205,
    "start_time": "2022-01-23T17:53:37.426Z"
   },
   {
    "duration": 11,
    "start_time": "2022-01-23T17:53:37.633Z"
   },
   {
    "duration": 27,
    "start_time": "2022-01-23T17:53:37.646Z"
   },
   {
    "duration": 228,
    "start_time": "2022-01-23T17:53:37.675Z"
   },
   {
    "duration": 7,
    "start_time": "2022-01-23T17:53:37.912Z"
   },
   {
    "duration": 210,
    "start_time": "2022-01-23T17:53:37.921Z"
   },
   {
    "duration": 281,
    "start_time": "2022-01-23T17:53:38.133Z"
   },
   {
    "duration": 213,
    "start_time": "2022-01-23T17:53:38.416Z"
   },
   {
    "duration": 221,
    "start_time": "2022-01-23T17:53:38.631Z"
   },
   {
    "duration": 220,
    "start_time": "2022-01-23T17:53:38.853Z"
   },
   {
    "duration": 225,
    "start_time": "2022-01-23T17:53:39.076Z"
   },
   {
    "duration": 45,
    "start_time": "2022-01-23T17:53:39.303Z"
   },
   {
    "duration": 104,
    "start_time": "2022-01-23T17:53:39.349Z"
   },
   {
    "duration": 6,
    "start_time": "2022-01-23T17:53:39.455Z"
   },
   {
    "duration": 169,
    "start_time": "2022-01-23T17:53:39.463Z"
   },
   {
    "duration": 151,
    "start_time": "2022-01-23T17:53:39.634Z"
   },
   {
    "duration": 7,
    "start_time": "2022-01-23T17:53:39.787Z"
   },
   {
    "duration": 11,
    "start_time": "2022-01-23T17:53:41.341Z"
   },
   {
    "duration": 9,
    "start_time": "2022-01-23T17:53:53.744Z"
   },
   {
    "duration": 6,
    "start_time": "2022-01-23T17:54:10.186Z"
   },
   {
    "duration": 8,
    "start_time": "2022-01-23T17:54:11.414Z"
   },
   {
    "duration": 7,
    "start_time": "2022-01-23T17:54:19.957Z"
   },
   {
    "duration": 6,
    "start_time": "2022-01-23T17:54:51.128Z"
   },
   {
    "duration": 7,
    "start_time": "2022-01-23T17:54:53.293Z"
   },
   {
    "duration": 6,
    "start_time": "2022-01-23T17:56:04.770Z"
   },
   {
    "duration": 6,
    "start_time": "2022-01-23T17:56:06.107Z"
   },
   {
    "duration": 8,
    "start_time": "2022-01-23T17:56:09.169Z"
   },
   {
    "duration": 6,
    "start_time": "2022-01-23T17:56:09.498Z"
   },
   {
    "duration": 7,
    "start_time": "2022-01-23T17:56:09.722Z"
   },
   {
    "duration": 6,
    "start_time": "2022-01-23T17:56:22.267Z"
   },
   {
    "duration": 7,
    "start_time": "2022-01-23T17:56:38.364Z"
   },
   {
    "duration": 8,
    "start_time": "2022-01-23T17:56:41.299Z"
   },
   {
    "duration": 6,
    "start_time": "2022-01-23T17:56:41.555Z"
   },
   {
    "duration": 7,
    "start_time": "2022-01-23T17:56:41.778Z"
   },
   {
    "duration": 7,
    "start_time": "2022-01-23T17:57:03.328Z"
   },
   {
    "duration": 7,
    "start_time": "2022-01-23T17:57:03.587Z"
   },
   {
    "duration": 10,
    "start_time": "2022-01-23T17:57:03.819Z"
   },
   {
    "duration": 7,
    "start_time": "2022-01-23T17:58:19.593Z"
   },
   {
    "duration": 6,
    "start_time": "2022-01-23T17:58:19.818Z"
   },
   {
    "duration": 6,
    "start_time": "2022-01-23T17:58:20.425Z"
   },
   {
    "duration": 6,
    "start_time": "2022-01-23T17:58:24.496Z"
   },
   {
    "duration": 6,
    "start_time": "2022-01-23T17:58:26.373Z"
   },
   {
    "duration": 7,
    "start_time": "2022-01-23T18:00:26.455Z"
   },
   {
    "duration": 7,
    "start_time": "2022-01-23T18:00:26.794Z"
   },
   {
    "duration": 7,
    "start_time": "2022-01-23T18:00:27.772Z"
   },
   {
    "duration": 8,
    "start_time": "2022-01-23T18:00:39.057Z"
   },
   {
    "duration": 6,
    "start_time": "2022-01-23T18:00:39.315Z"
   },
   {
    "duration": 6,
    "start_time": "2022-01-23T18:00:39.718Z"
   },
   {
    "duration": 6,
    "start_time": "2022-01-23T18:00:48.478Z"
   },
   {
    "duration": 7,
    "start_time": "2022-01-23T18:00:54.307Z"
   },
   {
    "duration": 7,
    "start_time": "2022-01-23T18:00:54.652Z"
   },
   {
    "duration": 6,
    "start_time": "2022-01-23T18:01:07.258Z"
   },
   {
    "duration": 6,
    "start_time": "2022-01-23T18:01:10.629Z"
   },
   {
    "duration": 7,
    "start_time": "2022-01-23T18:01:15.018Z"
   },
   {
    "duration": 5,
    "start_time": "2022-01-23T18:01:41.929Z"
   },
   {
    "duration": 5,
    "start_time": "2022-01-23T18:01:46.317Z"
   },
   {
    "duration": 6,
    "start_time": "2022-01-23T18:01:52.891Z"
   },
   {
    "duration": 6,
    "start_time": "2022-01-23T18:02:01.604Z"
   },
   {
    "duration": 6,
    "start_time": "2022-01-23T18:02:06.208Z"
   },
   {
    "duration": 7,
    "start_time": "2022-01-23T18:02:11.552Z"
   },
   {
    "duration": 6,
    "start_time": "2022-01-23T18:03:42.599Z"
   },
   {
    "duration": 6,
    "start_time": "2022-01-23T18:03:46.486Z"
   },
   {
    "duration": 204,
    "start_time": "2022-01-23T18:07:09.498Z"
   },
   {
    "duration": 4,
    "start_time": "2022-01-23T18:07:14.324Z"
   },
   {
    "duration": 231,
    "start_time": "2022-01-23T18:07:14.330Z"
   },
   {
    "duration": 174,
    "start_time": "2022-01-23T18:07:14.562Z"
   },
   {
    "duration": 11,
    "start_time": "2022-01-23T18:07:14.738Z"
   },
   {
    "duration": 12,
    "start_time": "2022-01-23T18:07:14.751Z"
   },
   {
    "duration": 216,
    "start_time": "2022-01-23T18:07:14.765Z"
   },
   {
    "duration": 11,
    "start_time": "2022-01-23T18:07:14.984Z"
   },
   {
    "duration": 43,
    "start_time": "2022-01-23T18:07:14.998Z"
   },
   {
    "duration": 209,
    "start_time": "2022-01-23T18:07:15.043Z"
   },
   {
    "duration": 7,
    "start_time": "2022-01-23T18:07:15.254Z"
   },
   {
    "duration": 222,
    "start_time": "2022-01-23T18:07:15.263Z"
   },
   {
    "duration": 202,
    "start_time": "2022-01-23T18:07:15.487Z"
   },
   {
    "duration": 210,
    "start_time": "2022-01-23T18:07:15.691Z"
   },
   {
    "duration": 200,
    "start_time": "2022-01-23T18:07:15.904Z"
   },
   {
    "duration": 265,
    "start_time": "2022-01-23T18:07:16.106Z"
   },
   {
    "duration": 205,
    "start_time": "2022-01-23T18:07:16.374Z"
   },
   {
    "duration": 44,
    "start_time": "2022-01-23T18:07:16.581Z"
   },
   {
    "duration": 99,
    "start_time": "2022-01-23T18:07:16.626Z"
   },
   {
    "duration": 6,
    "start_time": "2022-01-23T18:07:16.728Z"
   },
   {
    "duration": 162,
    "start_time": "2022-01-23T18:07:16.736Z"
   },
   {
    "duration": 127,
    "start_time": "2022-01-23T18:07:16.900Z"
   },
   {
    "duration": 7,
    "start_time": "2022-01-23T18:07:17.029Z"
   },
   {
    "duration": 77896,
    "start_time": "2022-01-23T18:07:17.037Z"
   },
   {
    "duration": 5,
    "start_time": "2022-01-23T18:08:34.935Z"
   },
   {
    "duration": 39,
    "start_time": "2022-01-23T18:08:34.941Z"
   },
   {
    "duration": 54,
    "start_time": "2022-01-23T18:08:34.982Z"
   },
   {
    "duration": 184,
    "start_time": "2022-01-23T18:08:35.038Z"
   },
   {
    "duration": 96,
    "start_time": "2022-01-23T18:08:35.223Z"
   },
   {
    "duration": 197,
    "start_time": "2022-01-23T18:08:35.320Z"
   },
   {
    "duration": 196,
    "start_time": "2022-01-23T18:09:10.211Z"
   },
   {
    "duration": 210,
    "start_time": "2022-01-23T18:09:16.143Z"
   },
   {
    "duration": 189,
    "start_time": "2022-01-23T18:09:23.569Z"
   },
   {
    "duration": 4,
    "start_time": "2022-01-23T18:09:34.723Z"
   },
   {
    "duration": 4,
    "start_time": "2022-01-23T18:09:45.164Z"
   },
   {
    "duration": 15350,
    "start_time": "2022-01-23T18:09:52.502Z"
   },
   {
    "duration": 1141,
    "start_time": "2022-01-23T18:14:54.187Z"
   },
   {
    "duration": 272,
    "start_time": "2022-01-23T18:14:55.330Z"
   },
   {
    "duration": 189,
    "start_time": "2022-01-23T18:14:55.604Z"
   },
   {
    "duration": 27,
    "start_time": "2022-01-23T18:14:55.795Z"
   },
   {
    "duration": 13,
    "start_time": "2022-01-23T18:14:55.823Z"
   },
   {
    "duration": 193,
    "start_time": "2022-01-23T18:14:55.838Z"
   },
   {
    "duration": 11,
    "start_time": "2022-01-23T18:14:56.033Z"
   },
   {
    "duration": 28,
    "start_time": "2022-01-23T18:14:56.046Z"
   },
   {
    "duration": 220,
    "start_time": "2022-01-23T18:14:56.076Z"
   },
   {
    "duration": 6,
    "start_time": "2022-01-23T18:14:56.297Z"
   },
   {
    "duration": 196,
    "start_time": "2022-01-23T18:14:56.312Z"
   },
   {
    "duration": 186,
    "start_time": "2022-01-23T18:14:56.509Z"
   },
   {
    "duration": 205,
    "start_time": "2022-01-23T18:14:56.697Z"
   },
   {
    "duration": 208,
    "start_time": "2022-01-23T18:14:56.904Z"
   },
   {
    "duration": 253,
    "start_time": "2022-01-23T18:14:57.113Z"
   },
   {
    "duration": 187,
    "start_time": "2022-01-23T18:14:57.368Z"
   },
   {
    "duration": 56,
    "start_time": "2022-01-23T18:14:57.557Z"
   },
   {
    "duration": 99,
    "start_time": "2022-01-23T18:14:57.615Z"
   },
   {
    "duration": 8,
    "start_time": "2022-01-23T18:14:57.716Z"
   },
   {
    "duration": 171,
    "start_time": "2022-01-23T18:14:57.726Z"
   },
   {
    "duration": 139,
    "start_time": "2022-01-23T18:14:57.899Z"
   },
   {
    "duration": 9,
    "start_time": "2022-01-23T18:14:58.040Z"
   },
   {
    "duration": 78236,
    "start_time": "2022-01-23T18:14:58.053Z"
   },
   {
    "duration": 6,
    "start_time": "2022-01-23T18:16:16.291Z"
   },
   {
    "duration": 49,
    "start_time": "2022-01-23T18:16:16.298Z"
   },
   {
    "duration": 41,
    "start_time": "2022-01-23T18:16:16.349Z"
   },
   {
    "duration": 195,
    "start_time": "2022-01-23T18:16:16.392Z"
   },
   {
    "duration": 108,
    "start_time": "2022-01-23T18:16:16.589Z"
   },
   {
    "duration": 15823,
    "start_time": "2022-01-23T18:16:16.698Z"
   },
   {
    "duration": 157037,
    "start_time": "2022-01-23T18:16:32.523Z"
   },
   {
    "duration": -217,
    "start_time": "2022-01-23T18:19:09.779Z"
   },
   {
    "duration": -220,
    "start_time": "2022-01-23T18:19:09.783Z"
   },
   {
    "duration": -223,
    "start_time": "2022-01-23T18:19:09.787Z"
   },
   {
    "duration": -226,
    "start_time": "2022-01-23T18:19:09.791Z"
   },
   {
    "duration": -229,
    "start_time": "2022-01-23T18:19:09.795Z"
   },
   {
    "duration": -235,
    "start_time": "2022-01-23T18:19:09.802Z"
   },
   {
    "duration": -239,
    "start_time": "2022-01-23T18:19:09.807Z"
   },
   {
    "duration": -249,
    "start_time": "2022-01-23T18:19:09.818Z"
   },
   {
    "duration": 68059,
    "start_time": "2022-01-23T18:19:18.390Z"
   },
   {
    "duration": 15420,
    "start_time": "2022-01-23T18:20:53.026Z"
   },
   {
    "duration": 3,
    "start_time": "2022-01-23T18:24:11.251Z"
   },
   {
    "duration": 207,
    "start_time": "2022-01-23T18:24:18.653Z"
   },
   {
    "duration": 3,
    "start_time": "2022-01-23T18:25:14.126Z"
   },
   {
    "duration": 259,
    "start_time": "2022-01-23T18:25:14.379Z"
   },
   {
    "duration": 3,
    "start_time": "2022-01-23T18:26:08.512Z"
   },
   {
    "duration": 348,
    "start_time": "2022-01-23T18:26:10.078Z"
   },
   {
    "duration": 2,
    "start_time": "2022-01-23T18:26:21.724Z"
   },
   {
    "duration": 474,
    "start_time": "2022-01-23T18:26:21.952Z"
   },
   {
    "duration": 1059,
    "start_time": "2022-01-23T18:26:49.345Z"
   },
   {
    "duration": 234,
    "start_time": "2022-01-23T18:26:50.405Z"
   },
   {
    "duration": 180,
    "start_time": "2022-01-23T18:26:50.642Z"
   },
   {
    "duration": 18,
    "start_time": "2022-01-23T18:26:50.823Z"
   },
   {
    "duration": 12,
    "start_time": "2022-01-23T18:26:50.843Z"
   },
   {
    "duration": 186,
    "start_time": "2022-01-23T18:26:50.857Z"
   },
   {
    "duration": 11,
    "start_time": "2022-01-23T18:26:51.045Z"
   },
   {
    "duration": 25,
    "start_time": "2022-01-23T18:26:51.058Z"
   },
   {
    "duration": 197,
    "start_time": "2022-01-23T18:26:51.085Z"
   },
   {
    "duration": 5,
    "start_time": "2022-01-23T18:26:51.284Z"
   },
   {
    "duration": 193,
    "start_time": "2022-01-23T18:26:51.291Z"
   },
   {
    "duration": 179,
    "start_time": "2022-01-23T18:26:51.486Z"
   },
   {
    "duration": 192,
    "start_time": "2022-01-23T18:26:51.666Z"
   },
   {
    "duration": 181,
    "start_time": "2022-01-23T18:26:51.860Z"
   },
   {
    "duration": 239,
    "start_time": "2022-01-23T18:26:52.043Z"
   },
   {
    "duration": 180,
    "start_time": "2022-01-23T18:26:52.284Z"
   },
   {
    "duration": 50,
    "start_time": "2022-01-23T18:26:52.465Z"
   },
   {
    "duration": 83,
    "start_time": "2022-01-23T18:26:52.517Z"
   },
   {
    "duration": 14,
    "start_time": "2022-01-23T18:26:52.602Z"
   },
   {
    "duration": 160,
    "start_time": "2022-01-23T18:26:52.618Z"
   },
   {
    "duration": 132,
    "start_time": "2022-01-23T18:26:52.780Z"
   },
   {
    "duration": 6,
    "start_time": "2022-01-23T18:26:52.914Z"
   },
   {
    "duration": 6749,
    "start_time": "2022-01-23T18:26:52.923Z"
   },
   {
    "duration": -138,
    "start_time": "2022-01-23T18:26:59.812Z"
   },
   {
    "duration": -155,
    "start_time": "2022-01-23T18:26:59.830Z"
   },
   {
    "duration": -163,
    "start_time": "2022-01-23T18:26:59.839Z"
   },
   {
    "duration": -168,
    "start_time": "2022-01-23T18:26:59.845Z"
   },
   {
    "duration": -176,
    "start_time": "2022-01-23T18:26:59.854Z"
   },
   {
    "duration": -182,
    "start_time": "2022-01-23T18:26:59.861Z"
   },
   {
    "duration": -189,
    "start_time": "2022-01-23T18:26:59.869Z"
   },
   {
    "duration": -192,
    "start_time": "2022-01-23T18:26:59.873Z"
   },
   {
    "duration": -197,
    "start_time": "2022-01-23T18:26:59.879Z"
   },
   {
    "duration": -205,
    "start_time": "2022-01-23T18:26:59.888Z"
   },
   {
    "duration": -212,
    "start_time": "2022-01-23T18:26:59.895Z"
   },
   {
    "duration": -221,
    "start_time": "2022-01-23T18:26:59.906Z"
   },
   {
    "duration": -227,
    "start_time": "2022-01-23T18:26:59.912Z"
   },
   {
    "duration": -243,
    "start_time": "2022-01-23T18:26:59.929Z"
   },
   {
    "duration": -250,
    "start_time": "2022-01-23T18:26:59.937Z"
   },
   {
    "duration": -257,
    "start_time": "2022-01-23T18:26:59.945Z"
   },
   {
    "duration": -261,
    "start_time": "2022-01-23T18:26:59.950Z"
   },
   {
    "duration": 1063,
    "start_time": "2022-01-23T18:27:16.471Z"
   },
   {
    "duration": 247,
    "start_time": "2022-01-23T18:27:17.536Z"
   },
   {
    "duration": 185,
    "start_time": "2022-01-23T18:27:17.785Z"
   },
   {
    "duration": 16,
    "start_time": "2022-01-23T18:27:17.972Z"
   },
   {
    "duration": 24,
    "start_time": "2022-01-23T18:27:17.990Z"
   },
   {
    "duration": 184,
    "start_time": "2022-01-23T18:27:18.016Z"
   },
   {
    "duration": 15,
    "start_time": "2022-01-23T18:27:18.201Z"
   },
   {
    "duration": 26,
    "start_time": "2022-01-23T18:27:18.218Z"
   },
   {
    "duration": 205,
    "start_time": "2022-01-23T18:27:18.246Z"
   },
   {
    "duration": 5,
    "start_time": "2022-01-23T18:27:18.453Z"
   },
   {
    "duration": 200,
    "start_time": "2022-01-23T18:27:18.459Z"
   },
   {
    "duration": 179,
    "start_time": "2022-01-23T18:27:18.660Z"
   },
   {
    "duration": 193,
    "start_time": "2022-01-23T18:27:18.841Z"
   },
   {
    "duration": 203,
    "start_time": "2022-01-23T18:27:19.036Z"
   },
   {
    "duration": 248,
    "start_time": "2022-01-23T18:27:19.241Z"
   },
   {
    "duration": 195,
    "start_time": "2022-01-23T18:27:19.490Z"
   },
   {
    "duration": 48,
    "start_time": "2022-01-23T18:27:19.687Z"
   },
   {
    "duration": 93,
    "start_time": "2022-01-23T18:27:19.737Z"
   },
   {
    "duration": 6,
    "start_time": "2022-01-23T18:27:19.831Z"
   },
   {
    "duration": 168,
    "start_time": "2022-01-23T18:27:19.839Z"
   },
   {
    "duration": 138,
    "start_time": "2022-01-23T18:27:20.009Z"
   },
   {
    "duration": 7,
    "start_time": "2022-01-23T18:27:20.149Z"
   },
   {
    "duration": 75431,
    "start_time": "2022-01-23T18:27:20.159Z"
   },
   {
    "duration": 4,
    "start_time": "2022-01-23T18:28:35.593Z"
   },
   {
    "duration": 39,
    "start_time": "2022-01-23T18:28:35.599Z"
   },
   {
    "duration": 37,
    "start_time": "2022-01-23T18:28:35.640Z"
   },
   {
    "duration": 189,
    "start_time": "2022-01-23T18:28:35.678Z"
   },
   {
    "duration": 98,
    "start_time": "2022-01-23T18:28:35.868Z"
   },
   {
    "duration": 3,
    "start_time": "2022-01-23T18:28:35.967Z"
   },
   {
    "duration": 466,
    "start_time": "2022-01-23T18:28:35.972Z"
   },
   {
    "duration": -267,
    "start_time": "2022-01-23T18:28:36.707Z"
   },
   {
    "duration": -272,
    "start_time": "2022-01-23T18:28:36.713Z"
   },
   {
    "duration": -276,
    "start_time": "2022-01-23T18:28:36.718Z"
   },
   {
    "duration": -279,
    "start_time": "2022-01-23T18:28:36.723Z"
   },
   {
    "duration": -283,
    "start_time": "2022-01-23T18:28:36.728Z"
   },
   {
    "duration": -287,
    "start_time": "2022-01-23T18:28:36.733Z"
   },
   {
    "duration": -290,
    "start_time": "2022-01-23T18:28:36.737Z"
   },
   {
    "duration": -294,
    "start_time": "2022-01-23T18:28:36.742Z"
   },
   {
    "duration": -301,
    "start_time": "2022-01-23T18:28:36.750Z"
   },
   {
    "duration": 4011,
    "start_time": "2022-01-23T18:30:36.381Z"
   },
   {
    "duration": 91986,
    "start_time": "2022-01-23T18:31:07.240Z"
   },
   {
    "duration": 1088,
    "start_time": "2022-01-23T18:33:49.531Z"
   },
   {
    "duration": 252,
    "start_time": "2022-01-23T18:33:50.621Z"
   },
   {
    "duration": 197,
    "start_time": "2022-01-23T18:33:50.876Z"
   },
   {
    "duration": 18,
    "start_time": "2022-01-23T18:33:51.075Z"
   },
   {
    "duration": 26,
    "start_time": "2022-01-23T18:33:51.094Z"
   },
   {
    "duration": 204,
    "start_time": "2022-01-23T18:33:51.122Z"
   },
   {
    "duration": 13,
    "start_time": "2022-01-23T18:33:51.328Z"
   },
   {
    "duration": 38,
    "start_time": "2022-01-23T18:33:51.344Z"
   },
   {
    "duration": 218,
    "start_time": "2022-01-23T18:33:51.385Z"
   },
   {
    "duration": 10,
    "start_time": "2022-01-23T18:33:51.605Z"
   },
   {
    "duration": 199,
    "start_time": "2022-01-23T18:33:51.617Z"
   },
   {
    "duration": 186,
    "start_time": "2022-01-23T18:33:51.818Z"
   },
   {
    "duration": 201,
    "start_time": "2022-01-23T18:33:52.005Z"
   },
   {
    "duration": 269,
    "start_time": "2022-01-23T18:33:52.212Z"
   },
   {
    "duration": 188,
    "start_time": "2022-01-23T18:33:52.483Z"
   },
   {
    "duration": 200,
    "start_time": "2022-01-23T18:33:52.672Z"
   },
   {
    "duration": 53,
    "start_time": "2022-01-23T18:33:52.874Z"
   },
   {
    "duration": 94,
    "start_time": "2022-01-23T18:33:52.929Z"
   },
   {
    "duration": 7,
    "start_time": "2022-01-23T18:33:53.025Z"
   },
   {
    "duration": 163,
    "start_time": "2022-01-23T18:33:53.033Z"
   },
   {
    "duration": 148,
    "start_time": "2022-01-23T18:33:53.198Z"
   },
   {
    "duration": 6,
    "start_time": "2022-01-23T18:33:53.348Z"
   },
   {
    "duration": 74906,
    "start_time": "2022-01-23T18:33:53.357Z"
   },
   {
    "duration": 5,
    "start_time": "2022-01-23T18:35:08.265Z"
   },
   {
    "duration": 49,
    "start_time": "2022-01-23T18:35:08.271Z"
   },
   {
    "duration": 40,
    "start_time": "2022-01-23T18:35:08.322Z"
   },
   {
    "duration": 170,
    "start_time": "2022-01-23T18:35:08.364Z"
   },
   {
    "duration": 101,
    "start_time": "2022-01-23T18:35:08.535Z"
   },
   {
    "duration": 3,
    "start_time": "2022-01-23T18:35:08.637Z"
   },
   {
    "duration": 14321,
    "start_time": "2022-01-23T18:35:08.642Z"
   },
   {
    "duration": 162773,
    "start_time": "2022-01-23T18:35:31.078Z"
   },
   {
    "duration": 6063,
    "start_time": "2022-01-23T18:38:13.852Z"
   },
   {
    "duration": 100,
    "start_time": "2022-01-23T18:38:19.919Z"
   },
   {
    "duration": 326,
    "start_time": "2022-01-23T18:38:20.021Z"
   },
   {
    "duration": 26965,
    "start_time": "2022-01-23T18:38:20.349Z"
   },
   {
    "duration": 5,
    "start_time": "2022-01-23T18:38:47.316Z"
   },
   {
    "duration": 5,
    "start_time": "2022-01-23T18:38:47.322Z"
   },
   {
    "duration": 4,
    "start_time": "2022-01-23T18:38:47.329Z"
   },
   {
    "duration": 4151,
    "start_time": "2022-01-23T18:38:47.334Z"
   },
   {
    "duration": 1506,
    "start_time": "2022-01-24T13:26:26.498Z"
   },
   {
    "duration": 345,
    "start_time": "2022-01-24T13:26:28.007Z"
   },
   {
    "duration": 256,
    "start_time": "2022-01-24T13:26:28.356Z"
   },
   {
    "duration": 22,
    "start_time": "2022-01-24T13:26:28.615Z"
   },
   {
    "duration": 32,
    "start_time": "2022-01-24T13:26:28.640Z"
   },
   {
    "duration": 290,
    "start_time": "2022-01-24T13:26:28.675Z"
   },
   {
    "duration": 14,
    "start_time": "2022-01-24T13:26:28.967Z"
   },
   {
    "duration": 38,
    "start_time": "2022-01-24T13:26:28.986Z"
   },
   {
    "duration": 327,
    "start_time": "2022-01-24T13:26:29.027Z"
   },
   {
    "duration": 13,
    "start_time": "2022-01-24T13:26:29.357Z"
   },
   {
    "duration": 313,
    "start_time": "2022-01-24T13:26:29.372Z"
   },
   {
    "duration": 288,
    "start_time": "2022-01-24T13:26:29.688Z"
   },
   {
    "duration": 325,
    "start_time": "2022-01-24T13:26:29.979Z"
   },
   {
    "duration": 328,
    "start_time": "2022-01-24T13:26:30.307Z"
   },
   {
    "duration": 363,
    "start_time": "2022-01-24T13:26:30.638Z"
   },
   {
    "duration": 307,
    "start_time": "2022-01-24T13:26:31.004Z"
   },
   {
    "duration": 78,
    "start_time": "2022-01-24T13:26:31.313Z"
   },
   {
    "duration": 144,
    "start_time": "2022-01-24T13:26:31.394Z"
   },
   {
    "duration": 9,
    "start_time": "2022-01-24T13:26:31.540Z"
   },
   {
    "duration": 185,
    "start_time": "2022-01-24T13:26:31.564Z"
   },
   {
    "duration": 177,
    "start_time": "2022-01-24T13:26:31.751Z"
   },
   {
    "duration": 11,
    "start_time": "2022-01-24T13:26:31.930Z"
   },
   {
    "duration": 136361,
    "start_time": "2022-01-24T13:26:31.945Z"
   },
   {
    "duration": 7,
    "start_time": "2022-01-24T13:28:48.309Z"
   },
   {
    "duration": 68,
    "start_time": "2022-01-24T13:28:48.318Z"
   },
   {
    "duration": 49,
    "start_time": "2022-01-24T13:28:48.389Z"
   },
   {
    "duration": 251,
    "start_time": "2022-01-24T13:28:48.440Z"
   },
   {
    "duration": 166,
    "start_time": "2022-01-24T13:28:48.694Z"
   },
   {
    "duration": 4,
    "start_time": "2022-01-24T13:28:48.864Z"
   },
   {
    "duration": 1062,
    "start_time": "2022-01-24T13:32:44.818Z"
   },
   {
    "duration": 863,
    "start_time": "2022-01-24T13:32:50.628Z"
   },
   {
    "duration": 4,
    "start_time": "2022-01-24T13:33:42.320Z"
   },
   {
    "duration": 975,
    "start_time": "2022-01-24T13:33:45.765Z"
   },
   {
    "duration": 4,
    "start_time": "2022-01-24T13:39:29.519Z"
   },
   {
    "duration": 590,
    "start_time": "2022-01-24T13:39:59.749Z"
   },
   {
    "duration": 695,
    "start_time": "2022-01-24T13:40:26.044Z"
   },
   {
    "duration": 8145,
    "start_time": "2022-01-24T14:34:10.447Z"
   },
   {
    "duration": 1377,
    "start_time": "2022-01-24T14:34:26.407Z"
   },
   {
    "duration": 309,
    "start_time": "2022-01-24T14:34:27.786Z"
   },
   {
    "duration": 218,
    "start_time": "2022-01-24T14:34:28.106Z"
   },
   {
    "duration": 18,
    "start_time": "2022-01-24T14:34:28.326Z"
   },
   {
    "duration": 19,
    "start_time": "2022-01-24T14:34:28.346Z"
   },
   {
    "duration": 230,
    "start_time": "2022-01-24T14:34:28.367Z"
   },
   {
    "duration": 23,
    "start_time": "2022-01-24T14:34:28.599Z"
   },
   {
    "duration": 33,
    "start_time": "2022-01-24T14:34:28.625Z"
   },
   {
    "duration": 249,
    "start_time": "2022-01-24T14:34:28.660Z"
   },
   {
    "duration": 9,
    "start_time": "2022-01-24T14:34:28.912Z"
   },
   {
    "duration": 241,
    "start_time": "2022-01-24T14:34:28.924Z"
   },
   {
    "duration": 209,
    "start_time": "2022-01-24T14:34:29.167Z"
   },
   {
    "duration": 221,
    "start_time": "2022-01-24T14:34:29.378Z"
   },
   {
    "duration": 272,
    "start_time": "2022-01-24T14:34:29.601Z"
   },
   {
    "duration": 226,
    "start_time": "2022-01-24T14:34:29.875Z"
   },
   {
    "duration": 226,
    "start_time": "2022-01-24T14:34:30.103Z"
   },
   {
    "duration": 54,
    "start_time": "2022-01-24T14:34:30.331Z"
   },
   {
    "duration": 125,
    "start_time": "2022-01-24T14:34:30.387Z"
   },
   {
    "duration": 9,
    "start_time": "2022-01-24T14:34:30.515Z"
   },
   {
    "duration": 201,
    "start_time": "2022-01-24T14:34:30.526Z"
   },
   {
    "duration": 163,
    "start_time": "2022-01-24T14:34:30.729Z"
   },
   {
    "duration": 13,
    "start_time": "2022-01-24T14:34:30.894Z"
   },
   {
    "duration": 34323,
    "start_time": "2022-01-24T14:34:30.911Z"
   },
   {
    "duration": -2827,
    "start_time": "2022-01-24T14:35:08.064Z"
   },
   {
    "duration": -2842,
    "start_time": "2022-01-24T14:35:08.080Z"
   },
   {
    "duration": -2854,
    "start_time": "2022-01-24T14:35:08.094Z"
   },
   {
    "duration": -2869,
    "start_time": "2022-01-24T14:35:08.110Z"
   },
   {
    "duration": -2897,
    "start_time": "2022-01-24T14:35:08.140Z"
   },
   {
    "duration": -2917,
    "start_time": "2022-01-24T14:35:08.162Z"
   },
   {
    "duration": -2942,
    "start_time": "2022-01-24T14:35:08.188Z"
   },
   {
    "duration": -2964,
    "start_time": "2022-01-24T14:35:08.211Z"
   },
   {
    "duration": -2988,
    "start_time": "2022-01-24T14:35:08.236Z"
   },
   {
    "duration": 1325,
    "start_time": "2022-01-24T14:36:28.450Z"
   },
   {
    "duration": 302,
    "start_time": "2022-01-24T14:36:29.777Z"
   },
   {
    "duration": 210,
    "start_time": "2022-01-24T14:36:30.081Z"
   },
   {
    "duration": 35,
    "start_time": "2022-01-24T14:36:30.294Z"
   },
   {
    "duration": 16,
    "start_time": "2022-01-24T14:36:30.331Z"
   },
   {
    "duration": 235,
    "start_time": "2022-01-24T14:36:30.349Z"
   },
   {
    "duration": 29,
    "start_time": "2022-01-24T14:36:30.587Z"
   },
   {
    "duration": 33,
    "start_time": "2022-01-24T14:36:30.620Z"
   },
   {
    "duration": 231,
    "start_time": "2022-01-24T14:36:30.655Z"
   },
   {
    "duration": 7,
    "start_time": "2022-01-24T14:36:30.887Z"
   },
   {
    "duration": 231,
    "start_time": "2022-01-24T14:36:30.895Z"
   },
   {
    "duration": 208,
    "start_time": "2022-01-24T14:36:31.129Z"
   },
   {
    "duration": 231,
    "start_time": "2022-01-24T14:36:31.339Z"
   },
   {
    "duration": 303,
    "start_time": "2022-01-24T14:36:31.573Z"
   },
   {
    "duration": 259,
    "start_time": "2022-01-24T14:36:31.878Z"
   },
   {
    "duration": 250,
    "start_time": "2022-01-24T14:36:32.139Z"
   },
   {
    "duration": 69,
    "start_time": "2022-01-24T14:36:32.390Z"
   },
   {
    "duration": 117,
    "start_time": "2022-01-24T14:36:32.461Z"
   },
   {
    "duration": 7,
    "start_time": "2022-01-24T14:36:32.580Z"
   },
   {
    "duration": 183,
    "start_time": "2022-01-24T14:36:32.588Z"
   },
   {
    "duration": 174,
    "start_time": "2022-01-24T14:36:32.773Z"
   },
   {
    "duration": 8,
    "start_time": "2022-01-24T14:36:32.950Z"
   },
   {
    "duration": 92565,
    "start_time": "2022-01-24T14:36:32.960Z"
   },
   {
    "duration": 6,
    "start_time": "2022-01-24T14:38:05.527Z"
   },
   {
    "duration": 45,
    "start_time": "2022-01-24T14:38:05.535Z"
   },
   {
    "duration": 64,
    "start_time": "2022-01-24T14:38:05.582Z"
   },
   {
    "duration": 215,
    "start_time": "2022-01-24T14:38:05.648Z"
   },
   {
    "duration": 119,
    "start_time": "2022-01-24T14:38:05.866Z"
   },
   {
    "duration": 3,
    "start_time": "2022-01-24T14:38:05.987Z"
   },
   {
    "duration": 16717,
    "start_time": "2022-01-24T14:38:05.991Z"
   },
   {
    "duration": 197377,
    "start_time": "2022-01-24T14:38:22.710Z"
   },
   {
    "duration": 3,
    "start_time": "2022-01-24T14:41:40.089Z"
   },
   {
    "duration": 7403,
    "start_time": "2022-01-24T14:41:40.108Z"
   },
   {
    "duration": 100,
    "start_time": "2022-01-24T14:41:47.515Z"
   },
   {
    "duration": 383,
    "start_time": "2022-01-24T14:41:47.618Z"
   },
   {
    "duration": 33483,
    "start_time": "2022-01-24T14:41:48.008Z"
   },
   {
    "duration": 13,
    "start_time": "2022-01-24T14:42:21.494Z"
   },
   {
    "duration": 27,
    "start_time": "2022-01-24T14:42:21.510Z"
   },
   {
    "duration": 12,
    "start_time": "2022-01-24T14:42:21.539Z"
   },
   {
    "duration": 5832,
    "start_time": "2022-01-24T14:42:21.552Z"
   },
   {
    "duration": 411,
    "start_time": "2022-01-24T14:42:27.390Z"
   }
  ],
  "kernelspec": {
   "display_name": "Python 3",
   "language": "python",
   "name": "python3"
  },
  "language_info": {
   "codemirror_mode": {
    "name": "ipython",
    "version": 3
   },
   "file_extension": ".py",
   "mimetype": "text/x-python",
   "name": "python",
   "nbconvert_exporter": "python",
   "pygments_lexer": "ipython3",
   "version": "3.8.5"
  },
  "toc": {
   "base_numbering": "1",
   "nav_menu": {},
   "number_sections": true,
   "sideBar": true,
   "skip_h1_title": false,
   "title_cell": "Содержание",
   "title_sidebar": "Содержание",
   "toc_cell": true,
   "toc_position": {
    "height": "calc(100% - 180px)",
    "left": "10px",
    "top": "150px",
    "width": "358.391px"
   },
   "toc_section_display": true,
   "toc_window_display": false
  }
 },
 "nbformat": 4,
 "nbformat_minor": 2
}
