{
 "cells": [
  {
   "cell_type": "markdown",
   "metadata": {
    "toc": true
   },
   "source": [
    "<h1>Содержание<span class=\"tocSkip\"></span></h1>\n",
    "<div class=\"toc\"><ul class=\"toc-item\"></ul><li><span><a href=\"#Отток-клиентов\" data-toc-modified-id=\"Отток-клиентов-1\">Отток клиентов</a></span><ul class=\"toc-item\"><li><span><a href=\"#Описание-проекта\" data-toc-modified-id=\"Описание-проекта-1.1\">Описание проекта</a></span></li><li><span><a href=\"#Описание-данных\" data-toc-modified-id=\"Описание-данных-1.2\">Описание данных</a></span></li><li><span><a href=\"#План-работы\" data-toc-modified-id=\"План-работы-1.3\">План работы</a></span></li><li><span><a href=\"#Результат-работы\" data-toc-modified-id=\"Результат-работы-1.4\">Результат работы</a></span></li></ul></li><li><span><a href=\"#Открытие-и-подготовка-данных\" data-toc-modified-id=\"Открытие-и-подготовка-данных-2\">Открытие и подготовка данных</a></span><ul class=\"toc-item\"><li><span><a href=\"#Открытие-и-изучение-файла\" data-toc-modified-id=\"Открытие-и-изучение-файла-2.1\">Открытие и изучение файла</a></span></li><li><span><a href=\"#Предобработка-данных\" data-toc-modified-id=\"Предобработка-данных-2.2\">Предобработка данных</a></span></li><li><span><a href=\"#Разбиение-данных-на-выборки-и-масштабирование-признаков\" data-toc-modified-id=\"Разбиение-данных-на-выборки-и-масштабирование-признаков-2.3\">Разбиение данных на выборки и масштабирование признаков</a></span></li><li><span><a href=\"#Вывод\" data-toc-modified-id=\"Вывод-2.4\">Вывод</a></span></li></ul></li><li><span><a href=\"#Исследование-задачи\" data-toc-modified-id=\"Исследование-задачи-3\">Исследование задачи</a></span><ul class=\"toc-item\"><li><span><a href=\"#Исследование-модели\" data-toc-modified-id=\"Исследование-модели-3.1\">Исследование модели</a></span><ul class=\"toc-item\"><li><span><a href=\"#Вывод\" data-toc-modified-id=\"Вывод-3.1.1\">Вывод</a></span></li></ul></li><li><span><a href=\"#Борьба-с-дисбалансом\" data-toc-modified-id=\"Борьба-с-дисбалансом-3.2\">Борьба с дисбалансом</a></span><ul class=\"toc-item\"><li><span><a href=\"#Вывод\" data-toc-modified-id=\"Вывод-3.2.1\">Вывод</a></span></li></ul></li><li><span><a href=\"#Тестирование-модели\" data-toc-modified-id=\"Тестирование-модели-3.3\">Тестирование модели</a></span><ul class=\"toc-item\"><li><span><a href=\"#Вывод\" data-toc-modified-id=\"Вывод-3.3.1\">Вывод</a></span></li></ul></li><li><span><a href=\"#Проверка-модели-на-тестовой-выборке\" data-toc-modified-id=\"Проверка-модели-на-тестовой-выборке-3.4\">Проверка модели на тестовой выборке</a></span><ul class=\"toc-item\"><li><span><a href=\"#Вывод\" data-toc-modified-id=\"Вывод-3.4.1\">Вывод</a></span></li></ul></li></ul></li><li><span><a href=\"#Общий-вывод\" data-toc-modified-id=\"Общий-вывод-4\">Общий вывод</a></span></div>"
   ]
  },
  {
   "cell_type": "markdown",
   "metadata": {},
   "source": [
    "# Отток клиентов"
   ]
  },
  {
   "cell_type": "markdown",
   "metadata": {},
   "source": [
    "## Описание проекта\n",
    "Из «Бета-Банка» стали уходить клиенты. Каждый месяц. Немного, но заметно. Банковские маркетологи посчитали: сохранять текущих клиентов дешевле, чем привлекать новых.\n",
    "Нужно спрогнозировать, уйдёт клиент из банка в ближайшее время или нет. Вам предоставлены исторические данные о поведении клиентов и расторжении договоров с банком. \n",
    "\n",
    "Постройте модель с предельно большим значением *F1*-меры. Чтобы сдать проект успешно, нужно довести метрику до 0.59. Проверьте *F1*-меру на тестовой выборке самостоятельно.\n",
    "\n",
    "Дополнительно измеряйте *AUC-ROC*, сравнивайте её значение с *F1*-мерой.\n",
    "\n",
    "Источник данных: [https://www.kaggle.com/barelydedicated/bank-customer-churn-modeling](https://www.kaggle.com/barelydedicated/bank-customer-churn-modeling)\n",
    "\n",
    "## Описание данных\n",
    "Каждый объект в наборе данных — это информация об одном клиенте. Известно:\n",
    "\n",
    "**Признаки**\n",
    "* RowNumber — индекс строки в данных\n",
    "* CustomerId — уникальный идентификатор клиента\n",
    "* Surname — фамилия\n",
    "* CreditScore — кредитный рейтинг\n",
    "* Geography — страна проживания\n",
    "* Gender — пол\n",
    "* Age — возраст\n",
    "* Tenure — сколько лет человек является клиентом банка\n",
    "* Balance — баланс на счёте\n",
    "* NumOfProducts — количество продуктов банка, используемых клиентом\n",
    "* HasCrCard — наличие кредитной карты\n",
    "* IsActiveMember — активность клиента\n",
    "* EstimatedSalary — предполагаемая зарплата\n",
    "\n",
    "**Целевой признак**\n",
    "\n",
    "Exited — факт ухода клиента\n",
    "\n",
    "## План работы\n",
    "Для достижения желаемого результата требуется открыть файл и изучить информацию в нем, предобработать данные и разбить на выборки, после чего исследовать дисбаланс классов и обучить модель без учета дисбаланса, сделать выводы, далее требуется улучшить качество модели с учетом дисбаланса классов, найти лучшую модель, протестировать, сделать выводы.\n",
    "\n",
    "## Результат работы\n",
    "Результатом работы является обученная модель, имеющая значение F1–меры более 0.59."
   ]
  },
  {
   "cell_type": "markdown",
   "metadata": {},
   "source": [
    "# Открытие и подготовка данных"
   ]
  },
  {
   "cell_type": "markdown",
   "metadata": {},
   "source": [
    "## Открытие и изучение файла"
   ]
  },
  {
   "cell_type": "code",
   "execution_count": 27,
   "metadata": {},
   "outputs": [],
   "source": [
    "#импортируем необходимые библиотеки\n",
    "import pandas as pd\n",
    "import numpy as np\n",
    "import matplotlib.pyplot as plt\n",
    "import seaborn as sns\n",
    "from sklearn.tree import DecisionTreeClassifier\n",
    "from sklearn.ensemble import RandomForestClassifier\n",
    "from sklearn.linear_model import LogisticRegression\n",
    "from sklearn.model_selection import train_test_split\n",
    "from sklearn.dummy import DummyClassifier\n",
    "from sklearn.preprocessing import StandardScaler\n",
    "from sklearn.utils import shuffle\n",
    "from sklearn.metrics import confusion_matrix\n",
    "from sklearn.metrics import f1_score\n",
    "from sklearn.metrics import roc_auc_score\n",
    "from sklearn.metrics import roc_curve"
   ]
  },
  {
   "cell_type": "code",
   "execution_count": 2,
   "metadata": {
    "scrolled": true
   },
   "outputs": [
    {
     "data": {
      "text/html": [
       "<div>\n",
       "<style scoped>\n",
       "    .dataframe tbody tr th:only-of-type {\n",
       "        vertical-align: middle;\n",
       "    }\n",
       "\n",
       "    .dataframe tbody tr th {\n",
       "        vertical-align: top;\n",
       "    }\n",
       "\n",
       "    .dataframe thead th {\n",
       "        text-align: right;\n",
       "    }\n",
       "</style>\n",
       "<table border=\"1\" class=\"dataframe\">\n",
       "  <thead>\n",
       "    <tr style=\"text-align: right;\">\n",
       "      <th></th>\n",
       "      <th>RowNumber</th>\n",
       "      <th>CustomerId</th>\n",
       "      <th>Surname</th>\n",
       "      <th>CreditScore</th>\n",
       "      <th>Geography</th>\n",
       "      <th>Gender</th>\n",
       "      <th>Age</th>\n",
       "      <th>Tenure</th>\n",
       "      <th>Balance</th>\n",
       "      <th>NumOfProducts</th>\n",
       "      <th>HasCrCard</th>\n",
       "      <th>IsActiveMember</th>\n",
       "      <th>EstimatedSalary</th>\n",
       "      <th>Exited</th>\n",
       "    </tr>\n",
       "  </thead>\n",
       "  <tbody>\n",
       "    <tr>\n",
       "      <td>0</td>\n",
       "      <td>1</td>\n",
       "      <td>15634602</td>\n",
       "      <td>Hargrave</td>\n",
       "      <td>619</td>\n",
       "      <td>France</td>\n",
       "      <td>Female</td>\n",
       "      <td>42</td>\n",
       "      <td>2.0</td>\n",
       "      <td>0.00</td>\n",
       "      <td>1</td>\n",
       "      <td>1</td>\n",
       "      <td>1</td>\n",
       "      <td>101348.88</td>\n",
       "      <td>1</td>\n",
       "    </tr>\n",
       "    <tr>\n",
       "      <td>1</td>\n",
       "      <td>2</td>\n",
       "      <td>15647311</td>\n",
       "      <td>Hill</td>\n",
       "      <td>608</td>\n",
       "      <td>Spain</td>\n",
       "      <td>Female</td>\n",
       "      <td>41</td>\n",
       "      <td>1.0</td>\n",
       "      <td>83807.86</td>\n",
       "      <td>1</td>\n",
       "      <td>0</td>\n",
       "      <td>1</td>\n",
       "      <td>112542.58</td>\n",
       "      <td>0</td>\n",
       "    </tr>\n",
       "    <tr>\n",
       "      <td>2</td>\n",
       "      <td>3</td>\n",
       "      <td>15619304</td>\n",
       "      <td>Onio</td>\n",
       "      <td>502</td>\n",
       "      <td>France</td>\n",
       "      <td>Female</td>\n",
       "      <td>42</td>\n",
       "      <td>8.0</td>\n",
       "      <td>159660.80</td>\n",
       "      <td>3</td>\n",
       "      <td>1</td>\n",
       "      <td>0</td>\n",
       "      <td>113931.57</td>\n",
       "      <td>1</td>\n",
       "    </tr>\n",
       "    <tr>\n",
       "      <td>3</td>\n",
       "      <td>4</td>\n",
       "      <td>15701354</td>\n",
       "      <td>Boni</td>\n",
       "      <td>699</td>\n",
       "      <td>France</td>\n",
       "      <td>Female</td>\n",
       "      <td>39</td>\n",
       "      <td>1.0</td>\n",
       "      <td>0.00</td>\n",
       "      <td>2</td>\n",
       "      <td>0</td>\n",
       "      <td>0</td>\n",
       "      <td>93826.63</td>\n",
       "      <td>0</td>\n",
       "    </tr>\n",
       "    <tr>\n",
       "      <td>4</td>\n",
       "      <td>5</td>\n",
       "      <td>15737888</td>\n",
       "      <td>Mitchell</td>\n",
       "      <td>850</td>\n",
       "      <td>Spain</td>\n",
       "      <td>Female</td>\n",
       "      <td>43</td>\n",
       "      <td>2.0</td>\n",
       "      <td>125510.82</td>\n",
       "      <td>1</td>\n",
       "      <td>1</td>\n",
       "      <td>1</td>\n",
       "      <td>79084.10</td>\n",
       "      <td>0</td>\n",
       "    </tr>\n",
       "  </tbody>\n",
       "</table>\n",
       "</div>"
      ],
      "text/plain": [
       "   RowNumber  CustomerId   Surname  CreditScore Geography  Gender  Age  \\\n",
       "0          1    15634602  Hargrave          619    France  Female   42   \n",
       "1          2    15647311      Hill          608     Spain  Female   41   \n",
       "2          3    15619304      Onio          502    France  Female   42   \n",
       "3          4    15701354      Boni          699    France  Female   39   \n",
       "4          5    15737888  Mitchell          850     Spain  Female   43   \n",
       "\n",
       "   Tenure    Balance  NumOfProducts  HasCrCard  IsActiveMember  \\\n",
       "0     2.0       0.00              1          1               1   \n",
       "1     1.0   83807.86              1          0               1   \n",
       "2     8.0  159660.80              3          1               0   \n",
       "3     1.0       0.00              2          0               0   \n",
       "4     2.0  125510.82              1          1               1   \n",
       "\n",
       "   EstimatedSalary  Exited  \n",
       "0        101348.88       1  \n",
       "1        112542.58       0  \n",
       "2        113931.57       1  \n",
       "3         93826.63       0  \n",
       "4         79084.10       0  "
      ]
     },
     "metadata": {},
     "output_type": "display_data"
    },
    {
     "name": "stdout",
     "output_type": "stream",
     "text": [
      "<class 'pandas.core.frame.DataFrame'>\n",
      "RangeIndex: 10000 entries, 0 to 9999\n",
      "Data columns (total 14 columns):\n",
      "RowNumber          10000 non-null int64\n",
      "CustomerId         10000 non-null int64\n",
      "Surname            10000 non-null object\n",
      "CreditScore        10000 non-null int64\n",
      "Geography          10000 non-null object\n",
      "Gender             10000 non-null object\n",
      "Age                10000 non-null int64\n",
      "Tenure             9091 non-null float64\n",
      "Balance            10000 non-null float64\n",
      "NumOfProducts      10000 non-null int64\n",
      "HasCrCard          10000 non-null int64\n",
      "IsActiveMember     10000 non-null int64\n",
      "EstimatedSalary    10000 non-null float64\n",
      "Exited             10000 non-null int64\n",
      "dtypes: float64(3), int64(8), object(3)\n",
      "memory usage: 1.1+ MB\n"
     ]
    },
    {
     "data": {
      "text/plain": [
       "None"
      ]
     },
     "metadata": {},
     "output_type": "display_data"
    },
    {
     "data": {
      "text/html": [
       "<div>\n",
       "<style scoped>\n",
       "    .dataframe tbody tr th:only-of-type {\n",
       "        vertical-align: middle;\n",
       "    }\n",
       "\n",
       "    .dataframe tbody tr th {\n",
       "        vertical-align: top;\n",
       "    }\n",
       "\n",
       "    .dataframe thead th {\n",
       "        text-align: right;\n",
       "    }\n",
       "</style>\n",
       "<table border=\"1\" class=\"dataframe\">\n",
       "  <thead>\n",
       "    <tr style=\"text-align: right;\">\n",
       "      <th></th>\n",
       "      <th>RowNumber</th>\n",
       "      <th>CustomerId</th>\n",
       "      <th>CreditScore</th>\n",
       "      <th>Age</th>\n",
       "      <th>Tenure</th>\n",
       "      <th>Balance</th>\n",
       "      <th>NumOfProducts</th>\n",
       "      <th>HasCrCard</th>\n",
       "      <th>IsActiveMember</th>\n",
       "      <th>EstimatedSalary</th>\n",
       "      <th>Exited</th>\n",
       "    </tr>\n",
       "  </thead>\n",
       "  <tbody>\n",
       "    <tr>\n",
       "      <td>count</td>\n",
       "      <td>10000.00000</td>\n",
       "      <td>1.000000e+04</td>\n",
       "      <td>10000.000000</td>\n",
       "      <td>10000.000000</td>\n",
       "      <td>9091.000000</td>\n",
       "      <td>10000.000000</td>\n",
       "      <td>10000.000000</td>\n",
       "      <td>10000.00000</td>\n",
       "      <td>10000.000000</td>\n",
       "      <td>10000.000000</td>\n",
       "      <td>10000.000000</td>\n",
       "    </tr>\n",
       "    <tr>\n",
       "      <td>mean</td>\n",
       "      <td>5000.50000</td>\n",
       "      <td>1.569094e+07</td>\n",
       "      <td>650.528800</td>\n",
       "      <td>38.921800</td>\n",
       "      <td>4.997690</td>\n",
       "      <td>76485.889288</td>\n",
       "      <td>1.530200</td>\n",
       "      <td>0.70550</td>\n",
       "      <td>0.515100</td>\n",
       "      <td>100090.239881</td>\n",
       "      <td>0.203700</td>\n",
       "    </tr>\n",
       "    <tr>\n",
       "      <td>std</td>\n",
       "      <td>2886.89568</td>\n",
       "      <td>7.193619e+04</td>\n",
       "      <td>96.653299</td>\n",
       "      <td>10.487806</td>\n",
       "      <td>2.894723</td>\n",
       "      <td>62397.405202</td>\n",
       "      <td>0.581654</td>\n",
       "      <td>0.45584</td>\n",
       "      <td>0.499797</td>\n",
       "      <td>57510.492818</td>\n",
       "      <td>0.402769</td>\n",
       "    </tr>\n",
       "    <tr>\n",
       "      <td>min</td>\n",
       "      <td>1.00000</td>\n",
       "      <td>1.556570e+07</td>\n",
       "      <td>350.000000</td>\n",
       "      <td>18.000000</td>\n",
       "      <td>0.000000</td>\n",
       "      <td>0.000000</td>\n",
       "      <td>1.000000</td>\n",
       "      <td>0.00000</td>\n",
       "      <td>0.000000</td>\n",
       "      <td>11.580000</td>\n",
       "      <td>0.000000</td>\n",
       "    </tr>\n",
       "    <tr>\n",
       "      <td>25%</td>\n",
       "      <td>2500.75000</td>\n",
       "      <td>1.562853e+07</td>\n",
       "      <td>584.000000</td>\n",
       "      <td>32.000000</td>\n",
       "      <td>2.000000</td>\n",
       "      <td>0.000000</td>\n",
       "      <td>1.000000</td>\n",
       "      <td>0.00000</td>\n",
       "      <td>0.000000</td>\n",
       "      <td>51002.110000</td>\n",
       "      <td>0.000000</td>\n",
       "    </tr>\n",
       "    <tr>\n",
       "      <td>50%</td>\n",
       "      <td>5000.50000</td>\n",
       "      <td>1.569074e+07</td>\n",
       "      <td>652.000000</td>\n",
       "      <td>37.000000</td>\n",
       "      <td>5.000000</td>\n",
       "      <td>97198.540000</td>\n",
       "      <td>1.000000</td>\n",
       "      <td>1.00000</td>\n",
       "      <td>1.000000</td>\n",
       "      <td>100193.915000</td>\n",
       "      <td>0.000000</td>\n",
       "    </tr>\n",
       "    <tr>\n",
       "      <td>75%</td>\n",
       "      <td>7500.25000</td>\n",
       "      <td>1.575323e+07</td>\n",
       "      <td>718.000000</td>\n",
       "      <td>44.000000</td>\n",
       "      <td>7.000000</td>\n",
       "      <td>127644.240000</td>\n",
       "      <td>2.000000</td>\n",
       "      <td>1.00000</td>\n",
       "      <td>1.000000</td>\n",
       "      <td>149388.247500</td>\n",
       "      <td>0.000000</td>\n",
       "    </tr>\n",
       "    <tr>\n",
       "      <td>max</td>\n",
       "      <td>10000.00000</td>\n",
       "      <td>1.581569e+07</td>\n",
       "      <td>850.000000</td>\n",
       "      <td>92.000000</td>\n",
       "      <td>10.000000</td>\n",
       "      <td>250898.090000</td>\n",
       "      <td>4.000000</td>\n",
       "      <td>1.00000</td>\n",
       "      <td>1.000000</td>\n",
       "      <td>199992.480000</td>\n",
       "      <td>1.000000</td>\n",
       "    </tr>\n",
       "  </tbody>\n",
       "</table>\n",
       "</div>"
      ],
      "text/plain": [
       "         RowNumber    CustomerId   CreditScore           Age       Tenure  \\\n",
       "count  10000.00000  1.000000e+04  10000.000000  10000.000000  9091.000000   \n",
       "mean    5000.50000  1.569094e+07    650.528800     38.921800     4.997690   \n",
       "std     2886.89568  7.193619e+04     96.653299     10.487806     2.894723   \n",
       "min        1.00000  1.556570e+07    350.000000     18.000000     0.000000   \n",
       "25%     2500.75000  1.562853e+07    584.000000     32.000000     2.000000   \n",
       "50%     5000.50000  1.569074e+07    652.000000     37.000000     5.000000   \n",
       "75%     7500.25000  1.575323e+07    718.000000     44.000000     7.000000   \n",
       "max    10000.00000  1.581569e+07    850.000000     92.000000    10.000000   \n",
       "\n",
       "             Balance  NumOfProducts    HasCrCard  IsActiveMember  \\\n",
       "count   10000.000000   10000.000000  10000.00000    10000.000000   \n",
       "mean    76485.889288       1.530200      0.70550        0.515100   \n",
       "std     62397.405202       0.581654      0.45584        0.499797   \n",
       "min         0.000000       1.000000      0.00000        0.000000   \n",
       "25%         0.000000       1.000000      0.00000        0.000000   \n",
       "50%     97198.540000       1.000000      1.00000        1.000000   \n",
       "75%    127644.240000       2.000000      1.00000        1.000000   \n",
       "max    250898.090000       4.000000      1.00000        1.000000   \n",
       "\n",
       "       EstimatedSalary        Exited  \n",
       "count     10000.000000  10000.000000  \n",
       "mean     100090.239881      0.203700  \n",
       "std       57510.492818      0.402769  \n",
       "min          11.580000      0.000000  \n",
       "25%       51002.110000      0.000000  \n",
       "50%      100193.915000      0.000000  \n",
       "75%      149388.247500      0.000000  \n",
       "max      199992.480000      1.000000  "
      ]
     },
     "execution_count": 2,
     "metadata": {},
     "output_type": "execute_result"
    }
   ],
   "source": [
    "df = pd.read_csv('/datasets/Churn.csv')\n",
    "display(df.head())\n",
    "display(df.info())\n",
    "df.describe()"
   ]
  },
  {
   "cell_type": "markdown",
   "metadata": {},
   "source": [
    "## Предобработка данных"
   ]
  },
  {
   "cell_type": "code",
   "execution_count": 3,
   "metadata": {},
   "outputs": [],
   "source": [
    "#избавимся от ненужных столбцов\n",
    "df = df.drop(['RowNumber', 'CustomerId', 'Surname'], axis=1)"
   ]
  },
  {
   "cell_type": "code",
   "execution_count": 4,
   "metadata": {},
   "outputs": [
    {
     "data": {
      "text/plain": [
       "1.0     952\n",
       "2.0     950\n",
       "8.0     933\n",
       "3.0     928\n",
       "5.0     927\n",
       "7.0     925\n",
       "4.0     885\n",
       "9.0     882\n",
       "6.0     881\n",
       "10.0    446\n",
       "0.0     382\n",
       "Name: Tenure, dtype: int64"
      ]
     },
     "metadata": {},
     "output_type": "display_data"
    },
    {
     "data": {
      "text/plain": [
       "0     1291\n",
       "1      952\n",
       "2      950\n",
       "8      933\n",
       "3      928\n",
       "5      927\n",
       "7      925\n",
       "4      885\n",
       "9      882\n",
       "6      881\n",
       "10     446\n",
       "Name: Tenure, dtype: int64"
      ]
     },
     "execution_count": 4,
     "metadata": {},
     "output_type": "execute_result"
    }
   ],
   "source": [
    "#заполним пропущенные значения нулями, приведем к целочисленному типу\n",
    "display(df['Tenure'].value_counts())\n",
    "df['Tenure'] = df['Tenure'].fillna(0)\n",
    "df['Tenure'] = df['Tenure'].astype('int')\n",
    "df['Tenure'].value_counts()"
   ]
  },
  {
   "cell_type": "code",
   "execution_count": 5,
   "metadata": {},
   "outputs": [
    {
     "data": {
      "text/html": [
       "<div>\n",
       "<style scoped>\n",
       "    .dataframe tbody tr th:only-of-type {\n",
       "        vertical-align: middle;\n",
       "    }\n",
       "\n",
       "    .dataframe tbody tr th {\n",
       "        vertical-align: top;\n",
       "    }\n",
       "\n",
       "    .dataframe thead th {\n",
       "        text-align: right;\n",
       "    }\n",
       "</style>\n",
       "<table border=\"1\" class=\"dataframe\">\n",
       "  <thead>\n",
       "    <tr style=\"text-align: right;\">\n",
       "      <th></th>\n",
       "      <th>CreditScore</th>\n",
       "      <th>Age</th>\n",
       "      <th>Tenure</th>\n",
       "      <th>Balance</th>\n",
       "      <th>NumOfProducts</th>\n",
       "      <th>HasCrCard</th>\n",
       "      <th>IsActiveMember</th>\n",
       "      <th>EstimatedSalary</th>\n",
       "      <th>Exited</th>\n",
       "      <th>Geography_Germany</th>\n",
       "      <th>Geography_Spain</th>\n",
       "      <th>Gender_Male</th>\n",
       "    </tr>\n",
       "  </thead>\n",
       "  <tbody>\n",
       "    <tr>\n",
       "      <td>0</td>\n",
       "      <td>619</td>\n",
       "      <td>42</td>\n",
       "      <td>2</td>\n",
       "      <td>0.00</td>\n",
       "      <td>1</td>\n",
       "      <td>1</td>\n",
       "      <td>1</td>\n",
       "      <td>101348.88</td>\n",
       "      <td>1</td>\n",
       "      <td>0</td>\n",
       "      <td>0</td>\n",
       "      <td>0</td>\n",
       "    </tr>\n",
       "    <tr>\n",
       "      <td>1</td>\n",
       "      <td>608</td>\n",
       "      <td>41</td>\n",
       "      <td>1</td>\n",
       "      <td>83807.86</td>\n",
       "      <td>1</td>\n",
       "      <td>0</td>\n",
       "      <td>1</td>\n",
       "      <td>112542.58</td>\n",
       "      <td>0</td>\n",
       "      <td>0</td>\n",
       "      <td>1</td>\n",
       "      <td>0</td>\n",
       "    </tr>\n",
       "    <tr>\n",
       "      <td>2</td>\n",
       "      <td>502</td>\n",
       "      <td>42</td>\n",
       "      <td>8</td>\n",
       "      <td>159660.80</td>\n",
       "      <td>3</td>\n",
       "      <td>1</td>\n",
       "      <td>0</td>\n",
       "      <td>113931.57</td>\n",
       "      <td>1</td>\n",
       "      <td>0</td>\n",
       "      <td>0</td>\n",
       "      <td>0</td>\n",
       "    </tr>\n",
       "    <tr>\n",
       "      <td>3</td>\n",
       "      <td>699</td>\n",
       "      <td>39</td>\n",
       "      <td>1</td>\n",
       "      <td>0.00</td>\n",
       "      <td>2</td>\n",
       "      <td>0</td>\n",
       "      <td>0</td>\n",
       "      <td>93826.63</td>\n",
       "      <td>0</td>\n",
       "      <td>0</td>\n",
       "      <td>0</td>\n",
       "      <td>0</td>\n",
       "    </tr>\n",
       "    <tr>\n",
       "      <td>4</td>\n",
       "      <td>850</td>\n",
       "      <td>43</td>\n",
       "      <td>2</td>\n",
       "      <td>125510.82</td>\n",
       "      <td>1</td>\n",
       "      <td>1</td>\n",
       "      <td>1</td>\n",
       "      <td>79084.10</td>\n",
       "      <td>0</td>\n",
       "      <td>0</td>\n",
       "      <td>1</td>\n",
       "      <td>0</td>\n",
       "    </tr>\n",
       "  </tbody>\n",
       "</table>\n",
       "</div>"
      ],
      "text/plain": [
       "   CreditScore  Age  Tenure    Balance  NumOfProducts  HasCrCard  \\\n",
       "0          619   42       2       0.00              1          1   \n",
       "1          608   41       1   83807.86              1          0   \n",
       "2          502   42       8  159660.80              3          1   \n",
       "3          699   39       1       0.00              2          0   \n",
       "4          850   43       2  125510.82              1          1   \n",
       "\n",
       "   IsActiveMember  EstimatedSalary  Exited  Geography_Germany  \\\n",
       "0               1        101348.88       1                  0   \n",
       "1               1        112542.58       0                  0   \n",
       "2               0        113931.57       1                  0   \n",
       "3               0         93826.63       0                  0   \n",
       "4               1         79084.10       0                  0   \n",
       "\n",
       "   Geography_Spain  Gender_Male  \n",
       "0                0            0  \n",
       "1                1            0  \n",
       "2                0            0  \n",
       "3                0            0  \n",
       "4                1            0  "
      ]
     },
     "execution_count": 5,
     "metadata": {},
     "output_type": "execute_result"
    }
   ],
   "source": [
    "# преобразуем категориальные значения с помощью прямого кодирования\n",
    "df = pd.get_dummies(df, drop_first = True)\n",
    "df.head()"
   ]
  },
  {
   "cell_type": "code",
   "execution_count": 6,
   "metadata": {
    "scrolled": true
   },
   "outputs": [
    {
     "data": {
      "text/plain": [
       "0    7963\n",
       "1    2037\n",
       "Name: Exited, dtype: int64"
      ]
     },
     "execution_count": 6,
     "metadata": {},
     "output_type": "execute_result"
    }
   ],
   "source": [
    "#проверим количество ушедших и не ушедших клиентов\n",
    "df['Exited'].value_counts()"
   ]
  },
  {
   "cell_type": "markdown",
   "metadata": {},
   "source": [
    "## Разбиение данных на выборки и масштабирование признаков"
   ]
  },
  {
   "cell_type": "code",
   "execution_count": 7,
   "metadata": {},
   "outputs": [],
   "source": [
    "#разобьем данные на выборки без учета дисбаланса классов\n",
    "features = df.drop('Exited', axis=1)\n",
    "target = df['Exited']"
   ]
  },
  {
   "cell_type": "code",
   "execution_count": 8,
   "metadata": {},
   "outputs": [],
   "source": [
    "features_train, features_remain, target_train, target_remain = train_test_split(\n",
    "    features, target, test_size=0.4, stratify=target)"
   ]
  },
  {
   "cell_type": "code",
   "execution_count": 9,
   "metadata": {},
   "outputs": [],
   "source": [
    "features_valid, features_test, target_valid, target_test = train_test_split(\n",
    "    features_remain, target_remain, test_size=0.5, stratify=target_remain)"
   ]
  },
  {
   "cell_type": "code",
   "execution_count": 10,
   "metadata": {
    "scrolled": true
   },
   "outputs": [
    {
     "data": {
      "text/html": [
       "<div>\n",
       "<style scoped>\n",
       "    .dataframe tbody tr th:only-of-type {\n",
       "        vertical-align: middle;\n",
       "    }\n",
       "\n",
       "    .dataframe tbody tr th {\n",
       "        vertical-align: top;\n",
       "    }\n",
       "\n",
       "    .dataframe thead th {\n",
       "        text-align: right;\n",
       "    }\n",
       "</style>\n",
       "<table border=\"1\" class=\"dataframe\">\n",
       "  <thead>\n",
       "    <tr style=\"text-align: right;\">\n",
       "      <th></th>\n",
       "      <th>CreditScore</th>\n",
       "      <th>Age</th>\n",
       "      <th>Tenure</th>\n",
       "      <th>Balance</th>\n",
       "      <th>NumOfProducts</th>\n",
       "      <th>HasCrCard</th>\n",
       "      <th>IsActiveMember</th>\n",
       "      <th>EstimatedSalary</th>\n",
       "      <th>Geography_Germany</th>\n",
       "      <th>Geography_Spain</th>\n",
       "      <th>Gender_Male</th>\n",
       "    </tr>\n",
       "  </thead>\n",
       "  <tbody>\n",
       "    <tr>\n",
       "      <td>9449</td>\n",
       "      <td>0.108274</td>\n",
       "      <td>-1.047224</td>\n",
       "      <td>1.119671</td>\n",
       "      <td>0.758999</td>\n",
       "      <td>0.804712</td>\n",
       "      <td>0.653615</td>\n",
       "      <td>0.956607</td>\n",
       "      <td>-0.191573</td>\n",
       "      <td>1.755458</td>\n",
       "      <td>-0.579146</td>\n",
       "      <td>0.912174</td>\n",
       "    </tr>\n",
       "    <tr>\n",
       "      <td>6806</td>\n",
       "      <td>-1.806371</td>\n",
       "      <td>-0.379362</td>\n",
       "      <td>-1.139682</td>\n",
       "      <td>0.260610</td>\n",
       "      <td>-0.917211</td>\n",
       "      <td>0.653615</td>\n",
       "      <td>-1.045361</td>\n",
       "      <td>1.392057</td>\n",
       "      <td>-0.569652</td>\n",
       "      <td>-0.579146</td>\n",
       "      <td>0.912174</td>\n",
       "    </tr>\n",
       "    <tr>\n",
       "      <td>4440</td>\n",
       "      <td>0.615396</td>\n",
       "      <td>-0.665588</td>\n",
       "      <td>1.442436</td>\n",
       "      <td>0.390509</td>\n",
       "      <td>-0.917211</td>\n",
       "      <td>0.653615</td>\n",
       "      <td>-1.045361</td>\n",
       "      <td>1.166099</td>\n",
       "      <td>-0.569652</td>\n",
       "      <td>-0.579146</td>\n",
       "      <td>0.912174</td>\n",
       "    </tr>\n",
       "    <tr>\n",
       "      <td>6288</td>\n",
       "      <td>0.377359</td>\n",
       "      <td>0.097683</td>\n",
       "      <td>1.119671</td>\n",
       "      <td>1.343610</td>\n",
       "      <td>-0.917211</td>\n",
       "      <td>0.653615</td>\n",
       "      <td>-1.045361</td>\n",
       "      <td>-0.861237</td>\n",
       "      <td>-0.569652</td>\n",
       "      <td>-0.579146</td>\n",
       "      <td>0.912174</td>\n",
       "    </tr>\n",
       "    <tr>\n",
       "      <td>2594</td>\n",
       "      <td>-1.195755</td>\n",
       "      <td>0.765545</td>\n",
       "      <td>0.474141</td>\n",
       "      <td>0.431360</td>\n",
       "      <td>-0.917211</td>\n",
       "      <td>0.653615</td>\n",
       "      <td>-1.045361</td>\n",
       "      <td>-1.444725</td>\n",
       "      <td>1.755458</td>\n",
       "      <td>-0.579146</td>\n",
       "      <td>-1.096282</td>\n",
       "    </tr>\n",
       "  </tbody>\n",
       "</table>\n",
       "</div>"
      ],
      "text/plain": [
       "      CreditScore       Age    Tenure   Balance  NumOfProducts  HasCrCard  \\\n",
       "9449     0.108274 -1.047224  1.119671  0.758999       0.804712   0.653615   \n",
       "6806    -1.806371 -0.379362 -1.139682  0.260610      -0.917211   0.653615   \n",
       "4440     0.615396 -0.665588  1.442436  0.390509      -0.917211   0.653615   \n",
       "6288     0.377359  0.097683  1.119671  1.343610      -0.917211   0.653615   \n",
       "2594    -1.195755  0.765545  0.474141  0.431360      -0.917211   0.653615   \n",
       "\n",
       "      IsActiveMember  EstimatedSalary  Geography_Germany  Geography_Spain  \\\n",
       "9449        0.956607        -0.191573           1.755458        -0.579146   \n",
       "6806       -1.045361         1.392057          -0.569652        -0.579146   \n",
       "4440       -1.045361         1.166099          -0.569652        -0.579146   \n",
       "6288       -1.045361        -0.861237          -0.569652        -0.579146   \n",
       "2594       -1.045361        -1.444725           1.755458        -0.579146   \n",
       "\n",
       "      Gender_Male  \n",
       "9449     0.912174  \n",
       "6806     0.912174  \n",
       "4440     0.912174  \n",
       "6288     0.912174  \n",
       "2594    -1.096282  "
      ]
     },
     "execution_count": 10,
     "metadata": {},
     "output_type": "execute_result"
    }
   ],
   "source": [
    "#масштабируем признаки с помощью StandartScaler\n",
    "scaler = StandardScaler()\n",
    "scaler.fit(features_train)\n",
    "features_train_scaled = pd.DataFrame(scaler.transform(features_train),\n",
    "                                     index=features_train.index,\n",
    "                                     columns=features_train.columns)\n",
    "features_train_scaled.head()"
   ]
  },
  {
   "cell_type": "code",
   "execution_count": 11,
   "metadata": {},
   "outputs": [
    {
     "data": {
      "text/html": [
       "<div>\n",
       "<style scoped>\n",
       "    .dataframe tbody tr th:only-of-type {\n",
       "        vertical-align: middle;\n",
       "    }\n",
       "\n",
       "    .dataframe tbody tr th {\n",
       "        vertical-align: top;\n",
       "    }\n",
       "\n",
       "    .dataframe thead th {\n",
       "        text-align: right;\n",
       "    }\n",
       "</style>\n",
       "<table border=\"1\" class=\"dataframe\">\n",
       "  <thead>\n",
       "    <tr style=\"text-align: right;\">\n",
       "      <th></th>\n",
       "      <th>CreditScore</th>\n",
       "      <th>Age</th>\n",
       "      <th>Tenure</th>\n",
       "      <th>Balance</th>\n",
       "      <th>NumOfProducts</th>\n",
       "      <th>HasCrCard</th>\n",
       "      <th>IsActiveMember</th>\n",
       "      <th>EstimatedSalary</th>\n",
       "      <th>Geography_Germany</th>\n",
       "      <th>Geography_Spain</th>\n",
       "      <th>Gender_Male</th>\n",
       "    </tr>\n",
       "  </thead>\n",
       "  <tbody>\n",
       "    <tr>\n",
       "      <td>7416</td>\n",
       "      <td>-0.719681</td>\n",
       "      <td>-0.283953</td>\n",
       "      <td>1.119671</td>\n",
       "      <td>-1.216558</td>\n",
       "      <td>0.804712</td>\n",
       "      <td>-1.529953</td>\n",
       "      <td>0.956607</td>\n",
       "      <td>-1.631461</td>\n",
       "      <td>-0.569652</td>\n",
       "      <td>-0.579146</td>\n",
       "      <td>0.912174</td>\n",
       "    </tr>\n",
       "    <tr>\n",
       "      <td>6178</td>\n",
       "      <td>2.043618</td>\n",
       "      <td>0.097683</td>\n",
       "      <td>-0.171388</td>\n",
       "      <td>0.348729</td>\n",
       "      <td>0.804712</td>\n",
       "      <td>-1.529953</td>\n",
       "      <td>-1.045361</td>\n",
       "      <td>0.135245</td>\n",
       "      <td>1.755458</td>\n",
       "      <td>-0.579146</td>\n",
       "      <td>-1.096282</td>\n",
       "    </tr>\n",
       "    <tr>\n",
       "      <td>4824</td>\n",
       "      <td>0.770638</td>\n",
       "      <td>-0.379362</td>\n",
       "      <td>0.151377</td>\n",
       "      <td>0.961710</td>\n",
       "      <td>-0.917211</td>\n",
       "      <td>-1.529953</td>\n",
       "      <td>-1.045361</td>\n",
       "      <td>0.765332</td>\n",
       "      <td>-0.569652</td>\n",
       "      <td>-0.579146</td>\n",
       "      <td>0.912174</td>\n",
       "    </tr>\n",
       "    <tr>\n",
       "      <td>289</td>\n",
       "      <td>-0.667934</td>\n",
       "      <td>-0.474771</td>\n",
       "      <td>1.765201</td>\n",
       "      <td>-1.216558</td>\n",
       "      <td>0.804712</td>\n",
       "      <td>0.653615</td>\n",
       "      <td>-1.045361</td>\n",
       "      <td>-0.347179</td>\n",
       "      <td>-0.569652</td>\n",
       "      <td>1.726679</td>\n",
       "      <td>0.912174</td>\n",
       "    </tr>\n",
       "    <tr>\n",
       "      <td>711</td>\n",
       "      <td>-0.191860</td>\n",
       "      <td>-0.379362</td>\n",
       "      <td>0.474141</td>\n",
       "      <td>0.640708</td>\n",
       "      <td>-0.917211</td>\n",
       "      <td>0.653615</td>\n",
       "      <td>-1.045361</td>\n",
       "      <td>0.541875</td>\n",
       "      <td>1.755458</td>\n",
       "      <td>-0.579146</td>\n",
       "      <td>0.912174</td>\n",
       "    </tr>\n",
       "  </tbody>\n",
       "</table>\n",
       "</div>"
      ],
      "text/plain": [
       "      CreditScore       Age    Tenure   Balance  NumOfProducts  HasCrCard  \\\n",
       "7416    -0.719681 -0.283953  1.119671 -1.216558       0.804712  -1.529953   \n",
       "6178     2.043618  0.097683 -0.171388  0.348729       0.804712  -1.529953   \n",
       "4824     0.770638 -0.379362  0.151377  0.961710      -0.917211  -1.529953   \n",
       "289     -0.667934 -0.474771  1.765201 -1.216558       0.804712   0.653615   \n",
       "711     -0.191860 -0.379362  0.474141  0.640708      -0.917211   0.653615   \n",
       "\n",
       "      IsActiveMember  EstimatedSalary  Geography_Germany  Geography_Spain  \\\n",
       "7416        0.956607        -1.631461          -0.569652        -0.579146   \n",
       "6178       -1.045361         0.135245           1.755458        -0.579146   \n",
       "4824       -1.045361         0.765332          -0.569652        -0.579146   \n",
       "289        -1.045361        -0.347179          -0.569652         1.726679   \n",
       "711        -1.045361         0.541875           1.755458        -0.579146   \n",
       "\n",
       "      Gender_Male  \n",
       "7416     0.912174  \n",
       "6178    -1.096282  \n",
       "4824     0.912174  \n",
       "289      0.912174  \n",
       "711      0.912174  "
      ]
     },
     "execution_count": 11,
     "metadata": {},
     "output_type": "execute_result"
    }
   ],
   "source": [
    "features_valid_scaled = pd.DataFrame(scaler.transform(features_valid),\n",
    "                                     index=features_valid.index,\n",
    "                                     columns=features_valid.columns)\n",
    "features_valid_scaled.head()"
   ]
  },
  {
   "cell_type": "code",
   "execution_count": 12,
   "metadata": {},
   "outputs": [
    {
     "data": {
      "text/html": [
       "<div>\n",
       "<style scoped>\n",
       "    .dataframe tbody tr th:only-of-type {\n",
       "        vertical-align: middle;\n",
       "    }\n",
       "\n",
       "    .dataframe tbody tr th {\n",
       "        vertical-align: top;\n",
       "    }\n",
       "\n",
       "    .dataframe thead th {\n",
       "        text-align: right;\n",
       "    }\n",
       "</style>\n",
       "<table border=\"1\" class=\"dataframe\">\n",
       "  <thead>\n",
       "    <tr style=\"text-align: right;\">\n",
       "      <th></th>\n",
       "      <th>CreditScore</th>\n",
       "      <th>Age</th>\n",
       "      <th>Tenure</th>\n",
       "      <th>Balance</th>\n",
       "      <th>NumOfProducts</th>\n",
       "      <th>HasCrCard</th>\n",
       "      <th>IsActiveMember</th>\n",
       "      <th>EstimatedSalary</th>\n",
       "      <th>Geography_Germany</th>\n",
       "      <th>Geography_Spain</th>\n",
       "      <th>Gender_Male</th>\n",
       "    </tr>\n",
       "  </thead>\n",
       "  <tbody>\n",
       "    <tr>\n",
       "      <td>4780</td>\n",
       "      <td>0.605047</td>\n",
       "      <td>-0.283953</td>\n",
       "      <td>1.119671</td>\n",
       "      <td>-1.216558</td>\n",
       "      <td>0.804712</td>\n",
       "      <td>0.653615</td>\n",
       "      <td>-1.045361</td>\n",
       "      <td>-0.764250</td>\n",
       "      <td>-0.569652</td>\n",
       "      <td>1.726679</td>\n",
       "      <td>0.912174</td>\n",
       "    </tr>\n",
       "    <tr>\n",
       "      <td>3181</td>\n",
       "      <td>-0.802476</td>\n",
       "      <td>-0.188544</td>\n",
       "      <td>1.442436</td>\n",
       "      <td>0.912638</td>\n",
       "      <td>-0.917211</td>\n",
       "      <td>0.653615</td>\n",
       "      <td>-1.045361</td>\n",
       "      <td>0.213589</td>\n",
       "      <td>-0.569652</td>\n",
       "      <td>1.726679</td>\n",
       "      <td>-1.096282</td>\n",
       "    </tr>\n",
       "    <tr>\n",
       "      <td>3867</td>\n",
       "      <td>-1.268201</td>\n",
       "      <td>0.002274</td>\n",
       "      <td>-0.816918</td>\n",
       "      <td>-1.216558</td>\n",
       "      <td>0.804712</td>\n",
       "      <td>0.653615</td>\n",
       "      <td>-1.045361</td>\n",
       "      <td>1.729204</td>\n",
       "      <td>-0.569652</td>\n",
       "      <td>-0.579146</td>\n",
       "      <td>0.912174</td>\n",
       "    </tr>\n",
       "    <tr>\n",
       "      <td>952</td>\n",
       "      <td>-0.843874</td>\n",
       "      <td>2.578314</td>\n",
       "      <td>1.442436</td>\n",
       "      <td>0.565758</td>\n",
       "      <td>-0.917211</td>\n",
       "      <td>-1.529953</td>\n",
       "      <td>0.956607</td>\n",
       "      <td>1.578056</td>\n",
       "      <td>1.755458</td>\n",
       "      <td>-0.579146</td>\n",
       "      <td>-1.096282</td>\n",
       "    </tr>\n",
       "    <tr>\n",
       "      <td>2947</td>\n",
       "      <td>1.257061</td>\n",
       "      <td>-0.283953</td>\n",
       "      <td>0.796906</td>\n",
       "      <td>0.439743</td>\n",
       "      <td>-0.917211</td>\n",
       "      <td>-1.529953</td>\n",
       "      <td>0.956607</td>\n",
       "      <td>0.349808</td>\n",
       "      <td>-0.569652</td>\n",
       "      <td>-0.579146</td>\n",
       "      <td>0.912174</td>\n",
       "    </tr>\n",
       "  </tbody>\n",
       "</table>\n",
       "</div>"
      ],
      "text/plain": [
       "      CreditScore       Age    Tenure   Balance  NumOfProducts  HasCrCard  \\\n",
       "4780     0.605047 -0.283953  1.119671 -1.216558       0.804712   0.653615   \n",
       "3181    -0.802476 -0.188544  1.442436  0.912638      -0.917211   0.653615   \n",
       "3867    -1.268201  0.002274 -0.816918 -1.216558       0.804712   0.653615   \n",
       "952     -0.843874  2.578314  1.442436  0.565758      -0.917211  -1.529953   \n",
       "2947     1.257061 -0.283953  0.796906  0.439743      -0.917211  -1.529953   \n",
       "\n",
       "      IsActiveMember  EstimatedSalary  Geography_Germany  Geography_Spain  \\\n",
       "4780       -1.045361        -0.764250          -0.569652         1.726679   \n",
       "3181       -1.045361         0.213589          -0.569652         1.726679   \n",
       "3867       -1.045361         1.729204          -0.569652        -0.579146   \n",
       "952         0.956607         1.578056           1.755458        -0.579146   \n",
       "2947        0.956607         0.349808          -0.569652        -0.579146   \n",
       "\n",
       "      Gender_Male  \n",
       "4780     0.912174  \n",
       "3181    -1.096282  \n",
       "3867     0.912174  \n",
       "952     -1.096282  \n",
       "2947     0.912174  "
      ]
     },
     "execution_count": 12,
     "metadata": {},
     "output_type": "execute_result"
    }
   ],
   "source": [
    "features_test_scaled = pd.DataFrame(scaler.transform(features_test),\n",
    "                                     index=features_test.index,\n",
    "                                     columns=features_test.columns)\n",
    "features_test_scaled.head()"
   ]
  },
  {
   "cell_type": "markdown",
   "metadata": {},
   "source": [
    "## Вывод"
   ]
  },
  {
   "cell_type": "markdown",
   "metadata": {},
   "source": [
    "Были открыты и изучены данные, после чего были удалены столбцы мешающие обучению. Были заполнены пропущенные значения в столбце `Tenure` нулями, а также приведены к целочисленному типу, после чего категориальные признаки были преобразованы к численным с помощью `get_dummies()` с аргументом `drop_first` равным `True` для предотвращения дамми-ловушки, так как данные категориальные признаки являются номинальными, т.е. не имеют определенного порядка. Проверил количество ушедших и не ушедших клиентов, выявил большой дисбаланс класса в пользу неушедших клиентов. В конце все признаки, кроме целевого были масштабированы с помощью метода `StandardScaler()`, а также выборка была разбита на тренировочную валидационную и тестовую."
   ]
  },
  {
   "cell_type": "markdown",
   "metadata": {},
   "source": [
    "# Исследование задачи"
   ]
  },
  {
   "cell_type": "markdown",
   "metadata": {},
   "source": [
    "## Исследование модели"
   ]
  },
  {
   "cell_type": "markdown",
   "metadata": {},
   "source": [
    "- Исследуем модель дерева решений"
   ]
  },
  {
   "cell_type": "code",
   "execution_count": 13,
   "metadata": {
    "scrolled": true
   },
   "outputs": [
    {
     "name": "stdout",
     "output_type": "stream",
     "text": [
      "Результат на валидационной выборке:\n"
     ]
    },
    {
     "data": {
      "text/plain": [
       "0.5706447187928668"
      ]
     },
     "metadata": {},
     "output_type": "display_data"
    },
    {
     "name": "stdout",
     "output_type": "stream",
     "text": [
      "Наилучшая глубина дерева:\n"
     ]
    },
    {
     "data": {
      "text/plain": [
       "8"
      ]
     },
     "execution_count": 13,
     "metadata": {},
     "output_type": "execute_result"
    }
   ],
   "source": [
    "best_tree_model = None\n",
    "best_tree_result = 0\n",
    "\n",
    "for depth in range (1, 11):\n",
    "    model = DecisionTreeClassifier(random_state=12345, max_depth=depth)\n",
    "    model.fit(features_train_scaled, target_train)\n",
    "    predictions_valid_tree = model.predict(features_valid_scaled)\n",
    "    result = f1_score(target_valid, predictions_valid_tree, zero_division=0)\n",
    "    if result > best_tree_result:\n",
    "        best_tree_model = model\n",
    "        best_tree_result = result\n",
    "        best_tree_depth = depth\n",
    "\n",
    "print('Результат на валидационной выборке:')\n",
    "display(best_tree_result)\n",
    "print('Наилучшая глубина дерева:')\n",
    "best_tree_depth"
   ]
  },
  {
   "cell_type": "markdown",
   "metadata": {},
   "source": [
    "- Исследуем модель случайного леса"
   ]
  },
  {
   "cell_type": "code",
   "execution_count": 14,
   "metadata": {},
   "outputs": [
    {
     "name": "stdout",
     "output_type": "stream",
     "text": [
      "Результат на валидационной выборке:\n"
     ]
    },
    {
     "data": {
      "text/plain": [
       "0.56875"
      ]
     },
     "metadata": {},
     "output_type": "display_data"
    },
    {
     "name": "stdout",
     "output_type": "stream",
     "text": [
      "Наилучшее кол-во деревьев:\n"
     ]
    },
    {
     "data": {
      "text/plain": [
       "20"
      ]
     },
     "metadata": {},
     "output_type": "display_data"
    },
    {
     "name": "stdout",
     "output_type": "stream",
     "text": [
      "Наилучшая максимальная глубина дерева:\n"
     ]
    },
    {
     "data": {
      "text/plain": [
       "10"
      ]
     },
     "metadata": {},
     "output_type": "display_data"
    },
    {
     "name": "stdout",
     "output_type": "stream",
     "text": [
      "Наилучший критерий:\n"
     ]
    },
    {
     "data": {
      "text/plain": [
       "'gini'"
      ]
     },
     "execution_count": 14,
     "metadata": {},
     "output_type": "execute_result"
    }
   ],
   "source": [
    "best_forest_model = None\n",
    "best_forest_result = 0\n",
    "\n",
    "for crit in ['gini', 'entropy']:\n",
    "    for est in range(10, 51, 10):\n",
    "        for depth in range (1, 11):\n",
    "            model = RandomForestClassifier(random_state=12345, criterion=crit, n_estimators=est, max_depth=depth)\n",
    "            model.fit(features_train_scaled, target_train)\n",
    "            predictions_valid = model.predict(features_valid_scaled)\n",
    "            result = f1_score(target_valid, predictions_valid)\n",
    "            if result > best_forest_result:\n",
    "                best_forest_model = model\n",
    "                best_forest_result = result\n",
    "                best_forest_est = est\n",
    "                best_forest_depth = depth\n",
    "                best_forest_criterion = crit\n",
    "                \n",
    "print('Результат на валидационной выборке:')\n",
    "display(best_forest_result)\n",
    "print('Наилучшее кол-во деревьев:')\n",
    "display(best_forest_est)\n",
    "print('Наилучшая максимальная глубина дерева:')\n",
    "display(best_forest_depth)\n",
    "print('Наилучший критерий:')\n",
    "best_forest_criterion"
   ]
  },
  {
   "cell_type": "markdown",
   "metadata": {},
   "source": [
    "- Исследуем модель логистической регрессии"
   ]
  },
  {
   "cell_type": "code",
   "execution_count": 15,
   "metadata": {},
   "outputs": [
    {
     "name": "stdout",
     "output_type": "stream",
     "text": [
      "Результат на валидационной выборке:\n"
     ]
    },
    {
     "data": {
      "text/plain": [
       "0.34519572953736655"
      ]
     },
     "execution_count": 15,
     "metadata": {},
     "output_type": "execute_result"
    }
   ],
   "source": [
    "model = LogisticRegression(random_state=12345, solver='liblinear')\n",
    "model.fit(features_train_scaled, target_train)\n",
    "predictions_valid = model.predict(features_valid_scaled)\n",
    "logistic_result = f1_score(target_valid, predictions_valid)\n",
    "print('Результат на валидационной выборке:')\n",
    "logistic_result"
   ]
  },
  {
   "cell_type": "markdown",
   "metadata": {},
   "source": [
    "- Соберем сводную таблицу с результатами исследований"
   ]
  },
  {
   "cell_type": "code",
   "execution_count": 16,
   "metadata": {},
   "outputs": [
    {
     "data": {
      "text/html": [
       "<div>\n",
       "<style scoped>\n",
       "    .dataframe tbody tr th:only-of-type {\n",
       "        vertical-align: middle;\n",
       "    }\n",
       "\n",
       "    .dataframe tbody tr th {\n",
       "        vertical-align: top;\n",
       "    }\n",
       "\n",
       "    .dataframe thead th {\n",
       "        text-align: right;\n",
       "    }\n",
       "</style>\n",
       "<table border=\"1\" class=\"dataframe\">\n",
       "  <thead>\n",
       "    <tr style=\"text-align: right;\">\n",
       "      <th></th>\n",
       "      <th>Случаный лес</th>\n",
       "      <th>Дерево решений</th>\n",
       "      <th>Логистическая регрессия</th>\n",
       "    </tr>\n",
       "  </thead>\n",
       "  <tbody>\n",
       "    <tr>\n",
       "      <td>Результат на валидационной выборке</td>\n",
       "      <td>0.56875</td>\n",
       "      <td>0.570645</td>\n",
       "      <td>0.345196</td>\n",
       "    </tr>\n",
       "  </tbody>\n",
       "</table>\n",
       "</div>"
      ],
      "text/plain": [
       "                                    Случаный лес  Дерево решений  \\\n",
       "Результат на валидационной выборке       0.56875        0.570645   \n",
       "\n",
       "                                    Логистическая регрессия  \n",
       "Результат на валидационной выборке                 0.345196  "
      ]
     },
     "execution_count": 16,
     "metadata": {},
     "output_type": "execute_result"
    }
   ],
   "source": [
    "results = [best_forest_result, best_tree_result, logistic_result]\n",
    "result_df = pd.DataFrame([results],\n",
    "                         columns=['Случаный лес', 'Дерево решений', 'Логистическая регрессия'],\n",
    "                        index=['Результат на валидационной выборке'])\n",
    "result_df"
   ]
  },
  {
   "cell_type": "markdown",
   "metadata": {},
   "source": [
    "### Вывод"
   ]
  },
  {
   "cell_type": "markdown",
   "metadata": {},
   "source": [
    "Модель была исследована с использованием 3 алгоритмов машинного обучения без учета дисбаланса классов, дерево решений показало наилучший результат в виде значения f1_score равным 0.57. Далее будет проведена работа с дисбалансом классов с использованием нескольких методов"
   ]
  },
  {
   "cell_type": "markdown",
   "metadata": {},
   "source": [
    "## Борьба с дисбалансом"
   ]
  },
  {
   "cell_type": "code",
   "execution_count": 17,
   "metadata": {},
   "outputs": [
    {
     "data": {
      "text/plain": [
       "<matplotlib.axes._subplots.AxesSubplot at 0x7f1edf660a50>"
      ]
     },
     "execution_count": 17,
     "metadata": {},
     "output_type": "execute_result"
    },
    {
     "data": {
      "image/png": "[encoded data removed]",
      "text/plain": [
       "<Figure size 432x288 with 2 Axes>"
      ]
     },
     "metadata": {
      "needs_background": "light"
     },
     "output_type": "display_data"
    }
   ],
   "source": [
    "#построим матрицу ошибок по лучшей модели \n",
    "sns.heatmap(confusion_matrix(target_valid, predictions_valid_tree), annot=True, annot_kws={\"size\": 16})"
   ]
  },
  {
   "cell_type": "code",
   "execution_count": 18,
   "metadata": {},
   "outputs": [],
   "source": [
    "#увеличим выборку путем увеличения количества ушедших клиентов\n",
    "def upsample(features, target, repeat):\n",
    "    features_zeros = features[target == 0]\n",
    "    features_ones = features[target == 1]\n",
    "    target_zeros = target[target == 0]\n",
    "    target_ones = target[target == 1]\n",
    "\n",
    "    features_upsampled = pd.concat([features_zeros] + [features_ones] * repeat)\n",
    "    target_upsampled = pd.concat([target_zeros] + [target_ones] * repeat)\n",
    "    \n",
    "    features_upsampled, target_upsampled = shuffle(\n",
    "        features_upsampled, target_upsampled, random_state=12345)\n",
    "    \n",
    "    return features_upsampled, target_upsampled\n",
    "\n",
    "features_upsampled, target_upsampled = upsample(features_train_scaled, target_train, 3)"
   ]
  },
  {
   "cell_type": "code",
   "execution_count": 19,
   "metadata": {},
   "outputs": [],
   "source": [
    "#уменьшим выборку путем уменьшения количества не ушедших клиентов\n",
    "def downsample(features, target, fraction):\n",
    "    features_zeros = features[target == 0]\n",
    "    features_ones = features[target == 1]\n",
    "    target_zeros = target[target == 0]\n",
    "    target_ones = target[target == 1]\n",
    "\n",
    "    features_downsampled = pd.concat(\n",
    "        [features_zeros.sample(frac=fraction, random_state=12345)] + [features_ones])\n",
    "    target_downsampled = pd.concat(\n",
    "        [target_zeros.sample(frac=fraction, random_state=12345)] + [target_ones])\n",
    "    \n",
    "    features_downsampled, target_downsampled = shuffle(\n",
    "        features_downsampled, target_downsampled, random_state=12345)\n",
    "    \n",
    "    return features_downsampled, target_downsampled\n",
    "\n",
    "features_downsampled, target_downsampled = downsample(features_train_scaled, target_train, 0.25)"
   ]
  },
  {
   "cell_type": "code",
   "execution_count": 20,
   "metadata": {},
   "outputs": [
    {
     "data": {
      "text/plain": [
       "0    4778\n",
       "1    3666\n",
       "Name: Exited, dtype: int64"
      ]
     },
     "execution_count": 20,
     "metadata": {},
     "output_type": "execute_result"
    }
   ],
   "source": [
    "#проверим количество ушедших и не ушедших клиентов после апсемпла\n",
    "target_upsampled.value_counts()"
   ]
  },
  {
   "cell_type": "code",
   "execution_count": 21,
   "metadata": {},
   "outputs": [
    {
     "data": {
      "text/plain": [
       "1    1222\n",
       "0    1194\n",
       "Name: Exited, dtype: int64"
      ]
     },
     "execution_count": 21,
     "metadata": {},
     "output_type": "execute_result"
    }
   ],
   "source": [
    "#проверим количество ушедших и не ушедших клиентов после даунсемпла\n",
    "target_downsampled.value_counts()"
   ]
  },
  {
   "cell_type": "markdown",
   "metadata": {},
   "source": [
    "### Вывод"
   ]
  },
  {
   "cell_type": "markdown",
   "metadata": {},
   "source": [
    "В данном разделе увеличили количество ушедших клиентов и уменьшили количество текущих клиентов и сохранили их в двух разных выборках для дальнейшего анализа, для достижения баланса классов"
   ]
  },
  {
   "cell_type": "markdown",
   "metadata": {},
   "source": [
    "## Тестирование модели"
   ]
  },
  {
   "cell_type": "markdown",
   "metadata": {},
   "source": [
    "- Исследуем модель дерева решений"
   ]
  },
  {
   "cell_type": "code",
   "execution_count": 22,
   "metadata": {
    "scrolled": true
   },
   "outputs": [
    {
     "name": "stdout",
     "output_type": "stream",
     "text": [
      "Результат на валидационной выборке:\n"
     ]
    },
    {
     "data": {
      "text/plain": [
       "0.5779816513761469"
      ]
     },
     "metadata": {},
     "output_type": "display_data"
    },
    {
     "name": "stdout",
     "output_type": "stream",
     "text": [
      "Наилучшая глубина дерева:\n"
     ]
    },
    {
     "data": {
      "text/plain": [
       "5"
      ]
     },
     "metadata": {},
     "output_type": "display_data"
    },
    {
     "name": "stdout",
     "output_type": "stream",
     "text": [
      "Наилучший метод:\n"
     ]
    },
    {
     "data": {
      "text/plain": [
       "'upsampled'"
      ]
     },
     "execution_count": 22,
     "metadata": {},
     "output_type": "execute_result"
    }
   ],
   "source": [
    "best_tree_model = None\n",
    "best_tree_result = 0\n",
    "\n",
    "for method in ['downsampled', 'upsampled', 'balanced']:\n",
    "    for depth in range (1, 11):\n",
    "        if method is 'balanced':\n",
    "            model = DecisionTreeClassifier(random_state=12345, max_depth=depth, class_weight='balanced')\n",
    "        else:\n",
    "            model = DecisionTreeClassifier(random_state=12345, max_depth=depth)\n",
    "        if method is 'downsampled':\n",
    "            model.fit(features_downsampled, target_downsampled)\n",
    "        elif method is 'upsampled':\n",
    "            model.fit(features_upsampled, target_upsampled)\n",
    "        else:\n",
    "            model.fit(features_train_scaled, target_train)\n",
    "        predictions_valid = model.predict(features_valid_scaled)\n",
    "        result = f1_score(target_valid, predictions_valid)\n",
    "        if result > best_tree_result:\n",
    "            best_tree_model = model\n",
    "            best_tree_result = result\n",
    "            best_tree_depth = depth\n",
    "            best_method = method\n",
    "\n",
    "print('Результат на валидационной выборке:')\n",
    "display(best_tree_result)\n",
    "print('Наилучшая глубина дерева:')\n",
    "display(best_tree_depth)\n",
    "print('Наилучший метод:')\n",
    "best_method"
   ]
  },
  {
   "cell_type": "markdown",
   "metadata": {},
   "source": [
    "- Исследуем модель случайного леса"
   ]
  },
  {
   "cell_type": "code",
   "execution_count": 23,
   "metadata": {
    "scrolled": true
   },
   "outputs": [
    {
     "name": "stdout",
     "output_type": "stream",
     "text": [
      "Результат на валидационной выборке:\n"
     ]
    },
    {
     "data": {
      "text/plain": [
       "0.6087962962962963"
      ]
     },
     "metadata": {},
     "output_type": "display_data"
    },
    {
     "name": "stdout",
     "output_type": "stream",
     "text": [
      "Наилучшее кол-во деревьев:\n"
     ]
    },
    {
     "data": {
      "text/plain": [
       "50"
      ]
     },
     "metadata": {},
     "output_type": "display_data"
    },
    {
     "name": "stdout",
     "output_type": "stream",
     "text": [
      "Наилучшая максимальная глубина дерева:\n"
     ]
    },
    {
     "data": {
      "text/plain": [
       "9"
      ]
     },
     "metadata": {},
     "output_type": "display_data"
    },
    {
     "name": "stdout",
     "output_type": "stream",
     "text": [
      "Наилучший метод:\n"
     ]
    },
    {
     "data": {
      "text/plain": [
       "'upsampled'"
      ]
     },
     "execution_count": 23,
     "metadata": {},
     "output_type": "execute_result"
    }
   ],
   "source": [
    "best_forest_model = None\n",
    "best_forest_result = 0\n",
    "\n",
    "for method in ['downsampled', 'upsampled', 'balanced']:\n",
    "    for est in range(10, 51, 10):\n",
    "        for depth in range (1, 11):\n",
    "            if method is 'balanced':\n",
    "                model = RandomForestClassifier(random_state=12345, n_estimators=est,\n",
    "                                               max_depth=depth, class_weight='balanced')\n",
    "            else:\n",
    "                model = RandomForestClassifier(random_state=12345, n_estimators=est,\n",
    "                                               max_depth=depth)\n",
    "            if method is 'downsampled':\n",
    "                model.fit(features_downsampled, target_downsampled)\n",
    "            elif method is 'upsampled':\n",
    "                model.fit(features_upsampled, target_upsampled)\n",
    "            else:\n",
    "                model.fit(features_train_scaled, target_train)\n",
    "            predictions_valid = model.predict(features_valid_scaled)\n",
    "            result = f1_score(target_valid, predictions_valid)\n",
    "            if result > best_forest_result:\n",
    "                best_forest_model = model\n",
    "                best_forest_result = result\n",
    "                best_forest_est = est\n",
    "                best_forest_depth = depth\n",
    "                best_method = method\n",
    "                \n",
    "print('Результат на валидационной выборке:')\n",
    "display(best_forest_result)\n",
    "print('Наилучшее кол-во деревьев:')\n",
    "display(best_forest_est)\n",
    "print('Наилучшая максимальная глубина дерева:')\n",
    "display(best_forest_depth)\n",
    "print('Наилучший метод:')\n",
    "best_method"
   ]
  },
  {
   "cell_type": "markdown",
   "metadata": {},
   "source": [
    "- Исследуем модель логистической регрессии"
   ]
  },
  {
   "cell_type": "code",
   "execution_count": 24,
   "metadata": {},
   "outputs": [
    {
     "name": "stdout",
     "output_type": "stream",
     "text": [
      "Результат на валидационной выборке:\n"
     ]
    },
    {
     "data": {
      "text/plain": [
       "0.47965367965367967"
      ]
     },
     "metadata": {},
     "output_type": "display_data"
    },
    {
     "name": "stdout",
     "output_type": "stream",
     "text": [
      "Наилучший метод:\n"
     ]
    },
    {
     "data": {
      "text/plain": [
       "'upsampled'"
      ]
     },
     "execution_count": 24,
     "metadata": {},
     "output_type": "execute_result"
    }
   ],
   "source": [
    "best_logistic_result = 0\n",
    "for method in ['downsampled', 'upsampled', 'balanced']:\n",
    "    if method is 'balanced':\n",
    "        model = LogisticRegression(random_state=12345, solver='liblinear', class_weight='balanced')\n",
    "    else:\n",
    "        model = LogisticRegression(random_state=12345, solver='liblinear')\n",
    "    \n",
    "    if method is 'downsampled':\n",
    "        model.fit(features_downsampled, target_downsampled)\n",
    "    elif method is 'upsampled':\n",
    "        model.fit(features_upsampled, target_upsampled)\n",
    "    else:\n",
    "        model.fit(features_train_scaled, target_train)\n",
    "    predictions_valid = model.predict(features_valid_scaled)\n",
    "    result = f1_score(target_valid, predictions_valid)\n",
    "    if result > best_logistic_result:\n",
    "        best_logistic_result = result\n",
    "        best_method = method\n",
    "print('Результат на валидационной выборке:')\n",
    "display(result)\n",
    "print('Наилучший метод:')\n",
    "best_method"
   ]
  },
  {
   "cell_type": "markdown",
   "metadata": {},
   "source": [
    "### Вывод"
   ]
  },
  {
   "cell_type": "markdown",
   "metadata": {},
   "source": [
    "В данном разделе проверялись модели, которым подавалась выборка с разными способами борьбы с дисбалансом классов, было выявлено, что модель леса решений показывает наилучший результат на валидационной выборке со значением f1_score равным 0.6 с использованием такого метода борьбы с дисбалансом как upsample, при 50 деревьях с глубиной 9, данная модель и была взята для тестовой выборки. Также было замечено, что вне зависимости от модели upsample оказался лучшим методом на валидационной выборке по сравнению с downsample и использованием метода class_weight со значением balanced."
   ]
  },
  {
   "cell_type": "markdown",
   "metadata": {},
   "source": [
    "## Проверка модели на тестовой выборке"
   ]
  },
  {
   "cell_type": "code",
   "execution_count": 25,
   "metadata": {},
   "outputs": [
    {
     "data": {
      "text/plain": [
       "0.6021003500583431"
      ]
     },
     "execution_count": 25,
     "metadata": {},
     "output_type": "execute_result"
    }
   ],
   "source": [
    "predictions_test = best_forest_model.predict(features_test_scaled)\n",
    "result = f1_score(target_test, predictions_test)\n",
    "result"
   ]
  },
  {
   "cell_type": "code",
   "execution_count": 26,
   "metadata": {},
   "outputs": [
    {
     "name": "stdout",
     "output_type": "stream",
     "text": [
      "0.8570595009360528\n"
     ]
    }
   ],
   "source": [
    "probabilities_test = best_forest_model.predict_proba(features_test_scaled)\n",
    "probabilities_one_test = probabilities_test[:, 1]\n",
    "\n",
    "auc_roc = roc_auc_score(target_test, probabilities_one_test)\n",
    "\n",
    "print(auc_roc)"
   ]
  },
  {
   "cell_type": "code",
   "execution_count": 30,
   "metadata": {},
   "outputs": [],
   "source": [
    "# roc curve for models\n",
    "fpr, tpr, thresh = roc_curve(target_test, probabilities_one_test, pos_label=1)\n",
    "\n",
    "# roc curve for tpr = fpr \n",
    "random_probs = [0 for i in range(len(target_test))]\n",
    "p_fpr, p_tpr, _ = roc_curve(target_test, random_probs, pos_label=1)"
   ]
  },
  {
   "cell_type": "code",
   "execution_count": 31,
   "metadata": {},
   "outputs": [
    {
     "data": {
      "image/png": "[encoded data removed]",
      "text/plain": [
       "<Figure size 576x396 with 1 Axes>"
      ]
     },
     "metadata": {},
     "output_type": "display_data"
    }
   ],
   "source": [
    "plt.style.use('seaborn')\n",
    "\n",
    "# plot roc curves\n",
    "plt.plot(fpr, tpr, linestyle='--',color='orange', label='Random Forest')\n",
    "plt.plot(p_fpr, p_tpr, linestyle='--', color='blue')\n",
    "# title\n",
    "plt.title('ROC curve')\n",
    "# x label\n",
    "plt.xlabel('False Positive Rate')\n",
    "# y label\n",
    "plt.ylabel('True Positive rate')\n",
    "\n",
    "plt.legend(loc='best')\n",
    "plt.savefig('ROC',dpi=300)\n",
    "plt.show();"
   ]
  },
  {
   "cell_type": "markdown",
   "metadata": {},
   "source": [
    "### Вывод"
   ]
  },
  {
   "cell_type": "markdown",
   "metadata": {},
   "source": [
    "В данном разделе лучшая модель с предыдущего шага была проверена на тестовой выборке и был получен результат f1_score равный 0.6, что удовлетворяет требованиям, также на тестовой выборке было проверено значение auc_roc, которое оказалось равно 0.86, что является достаточно большим результатом, по сравнению со случайно моделью, когда auc_roc была бы равна 0.5"
   ]
  },
  {
   "cell_type": "markdown",
   "metadata": {},
   "source": [
    "# Общий вывод"
   ]
  },
  {
   "cell_type": "markdown",
   "metadata": {},
   "source": [
    "В ходе работы над проектом был открыт и изучен файл, проведена предобработка данных и преобразование категориальных признаков в численные для дальнейшего удобства работы с ними, далее было произведено разбиение датасета на 3 выборки: тренировочную, валидационную и тестовую в соотношении 3:1:1. Далее были исследованы модели машинного обучения с разными гиперпараметрами без учета дисбаланса классов в ходе которой было выявлено, что дерево решений с максимальной глубиной равной 8, показало наилучший результат на валидационной выборке. Далее был произведен апсемплинг положительных классов и даунсемплинг отрицательных для балансировки классов в разных выборках, после чего модели были повторно протестированы с учетом параметра `class_weight` как альтернативного способа борьбы с дисбалансом, установленному со значением `balanced`, где модель случайного леса с кол-вом деревьев равным 50 и максимальной глубиной равной 9 показала лучший результат. В итоге данная модель была использована при определении оттока на тестовой выборке на которой `f1_score` показал результат 0.6, а также приведено значение roc_auc равное 0.85, которое позволяет сделать вывод о том, что модель не является случайной."
   ]
  }
 ],
 "metadata": {
  "ExecuteTimeLog": [
   {
    "duration": 1422,
    "start_time": "2022-01-07T12:31:17.601Z"
   },
   {
    "duration": 140,
    "start_time": "2022-01-07T12:31:39.867Z"
   },
   {
    "duration": 433,
    "start_time": "2022-01-07T12:42:36.666Z"
   },
   {
    "duration": 10,
    "start_time": "2022-01-07T12:42:42.989Z"
   },
   {
    "duration": 7656,
    "start_time": "2022-01-07T12:43:58.765Z"
   },
   {
    "duration": 35,
    "start_time": "2022-01-07T12:44:14.877Z"
   },
   {
    "duration": 17,
    "start_time": "2022-01-07T12:45:03.624Z"
   },
   {
    "duration": 15,
    "start_time": "2022-01-07T12:45:11.167Z"
   },
   {
    "duration": 16,
    "start_time": "2022-01-07T12:46:13.736Z"
   },
   {
    "duration": 17,
    "start_time": "2022-01-07T12:46:19.988Z"
   },
   {
    "duration": 11,
    "start_time": "2022-01-07T13:12:19.305Z"
   },
   {
    "duration": 26,
    "start_time": "2022-01-07T13:15:14.211Z"
   },
   {
    "duration": 13,
    "start_time": "2022-01-07T13:15:26.330Z"
   },
   {
    "duration": 9,
    "start_time": "2022-01-07T13:16:13.763Z"
   },
   {
    "duration": 41,
    "start_time": "2022-01-07T13:16:16.134Z"
   },
   {
    "duration": 5,
    "start_time": "2022-01-07T13:16:31.640Z"
   },
   {
    "duration": 144,
    "start_time": "2022-01-07T13:16:31.949Z"
   },
   {
    "duration": 7,
    "start_time": "2022-01-07T13:16:32.363Z"
   },
   {
    "duration": 29,
    "start_time": "2022-01-07T13:16:32.582Z"
   },
   {
    "duration": 47,
    "start_time": "2022-01-07T13:16:32.781Z"
   },
   {
    "duration": 6,
    "start_time": "2022-01-07T13:17:30.872Z"
   },
   {
    "duration": 131,
    "start_time": "2022-01-07T13:17:31.079Z"
   },
   {
    "duration": 6,
    "start_time": "2022-01-07T13:17:32.852Z"
   },
   {
    "duration": 18,
    "start_time": "2022-01-07T13:17:33.269Z"
   },
   {
    "duration": 53,
    "start_time": "2022-01-07T13:17:35.033Z"
   },
   {
    "duration": 5,
    "start_time": "2022-01-07T13:20:56.348Z"
   },
   {
    "duration": 143,
    "start_time": "2022-01-07T13:20:57.558Z"
   },
   {
    "duration": 11,
    "start_time": "2022-01-07T13:20:57.970Z"
   },
   {
    "duration": 31,
    "start_time": "2022-01-07T13:20:58.562Z"
   },
   {
    "duration": 77,
    "start_time": "2022-01-07T13:20:58.644Z"
   },
   {
    "duration": 3,
    "start_time": "2022-01-07T13:20:58.937Z"
   },
   {
    "duration": 317,
    "start_time": "2022-01-07T13:22:38.678Z"
   },
   {
    "duration": 12,
    "start_time": "2022-01-07T13:22:50.132Z"
   },
   {
    "duration": 145,
    "start_time": "2022-01-07T13:25:21.926Z"
   },
   {
    "duration": 33,
    "start_time": "2022-01-07T13:25:28.267Z"
   },
   {
    "duration": 26,
    "start_time": "2022-01-07T13:25:33.722Z"
   },
   {
    "duration": 9,
    "start_time": "2022-01-07T13:39:31.994Z"
   },
   {
    "duration": 7,
    "start_time": "2022-01-07T13:43:38.748Z"
   },
   {
    "duration": 8,
    "start_time": "2022-01-07T13:46:44.719Z"
   },
   {
    "duration": 440,
    "start_time": "2022-01-07T13:46:45.619Z"
   },
   {
    "duration": 26,
    "start_time": "2022-01-07T13:47:06.623Z"
   },
   {
    "duration": 9,
    "start_time": "2022-01-07T13:47:10.927Z"
   },
   {
    "duration": 17,
    "start_time": "2022-01-07T13:47:11.663Z"
   },
   {
    "duration": 241,
    "start_time": "2022-01-07T13:51:03.445Z"
   },
   {
    "duration": 7,
    "start_time": "2022-01-07T13:53:28.083Z"
   },
   {
    "duration": 7,
    "start_time": "2022-01-07T13:55:02.042Z"
   },
   {
    "duration": 26,
    "start_time": "2022-01-07T13:55:03.116Z"
   },
   {
    "duration": 9,
    "start_time": "2022-01-07T13:55:04.021Z"
   },
   {
    "duration": 8,
    "start_time": "2022-01-07T13:55:04.777Z"
   },
   {
    "duration": 252,
    "start_time": "2022-01-07T13:55:07.183Z"
   },
   {
    "duration": 7,
    "start_time": "2022-01-07T13:55:25.128Z"
   },
   {
    "duration": 8,
    "start_time": "2022-01-07T13:55:32.417Z"
   },
   {
    "duration": 23,
    "start_time": "2022-01-07T13:55:34.044Z"
   },
   {
    "duration": 409,
    "start_time": "2022-01-07T13:56:03.569Z"
   },
   {
    "duration": 7,
    "start_time": "2022-01-07T13:56:07.919Z"
   },
   {
    "duration": 410,
    "start_time": "2022-01-07T13:56:16.785Z"
   },
   {
    "duration": 7,
    "start_time": "2022-01-07T13:56:21.760Z"
   },
   {
    "duration": 8,
    "start_time": "2022-01-07T13:56:25.270Z"
   },
   {
    "duration": 10,
    "start_time": "2022-01-07T13:56:27.890Z"
   },
   {
    "duration": 306,
    "start_time": "2022-01-07T13:56:31.111Z"
   },
   {
    "duration": 7,
    "start_time": "2022-01-07T13:56:33.641Z"
   },
   {
    "duration": 7,
    "start_time": "2022-01-07T13:56:59.193Z"
   },
   {
    "duration": 332,
    "start_time": "2022-01-07T13:58:27.280Z"
   },
   {
    "duration": 10235,
    "start_time": "2022-01-07T13:59:06.762Z"
   },
   {
    "duration": 321,
    "start_time": "2022-01-07T13:59:25.576Z"
   },
   {
    "duration": 1798,
    "start_time": "2022-01-07T13:59:35.641Z"
   },
   {
    "duration": 212,
    "start_time": "2022-01-07T13:59:37.443Z"
   },
   {
    "duration": 6,
    "start_time": "2022-01-07T13:59:37.664Z"
   },
   {
    "duration": 17,
    "start_time": "2022-01-07T13:59:37.673Z"
   },
   {
    "duration": 35,
    "start_time": "2022-01-07T13:59:37.693Z"
   },
   {
    "duration": 9,
    "start_time": "2022-01-07T13:59:37.765Z"
   },
   {
    "duration": 9,
    "start_time": "2022-01-07T13:59:38.199Z"
   },
   {
    "duration": 28,
    "start_time": "2022-01-07T13:59:38.441Z"
   },
   {
    "duration": 10,
    "start_time": "2022-01-07T13:59:38.831Z"
   },
   {
    "duration": 10,
    "start_time": "2022-01-07T13:59:39.173Z"
   },
   {
    "duration": 380,
    "start_time": "2022-01-07T13:59:42.972Z"
   },
   {
    "duration": 19927,
    "start_time": "2022-01-07T14:00:45.491Z"
   },
   {
    "duration": 138,
    "start_time": "2022-01-07T14:01:25.636Z"
   },
   {
    "duration": 137,
    "start_time": "2022-01-07T14:01:34.936Z"
   },
   {
    "duration": 642,
    "start_time": "2022-01-07T14:02:50.608Z"
   },
   {
    "duration": 441,
    "start_time": "2022-01-07T14:02:53.731Z"
   },
   {
    "duration": 16,
    "start_time": "2022-01-07T14:02:54.959Z"
   },
   {
    "duration": 261,
    "start_time": "2022-01-07T14:10:53.324Z"
   },
   {
    "duration": 10,
    "start_time": "2022-01-07T14:11:01.339Z"
   },
   {
    "duration": 7,
    "start_time": "2022-01-07T14:11:09.561Z"
   },
   {
    "duration": 7,
    "start_time": "2022-01-07T14:11:12.158Z"
   },
   {
    "duration": 213,
    "start_time": "2022-01-07T14:12:08.421Z"
   },
   {
    "duration": 471,
    "start_time": "2022-01-07T14:12:37.729Z"
   },
   {
    "duration": 358,
    "start_time": "2022-01-07T14:12:49.995Z"
   },
   {
    "duration": 497,
    "start_time": "2022-01-07T14:13:05.549Z"
   },
   {
    "duration": 304,
    "start_time": "2022-01-07T14:18:32.027Z"
   },
   {
    "duration": 6,
    "start_time": "2022-01-07T14:18:56.972Z"
   },
   {
    "duration": 119,
    "start_time": "2022-01-07T14:19:31.852Z"
   },
   {
    "duration": 6,
    "start_time": "2022-01-07T14:25:32.717Z"
   },
   {
    "duration": 421,
    "start_time": "2022-01-07T14:25:33.798Z"
   },
   {
    "duration": 994,
    "start_time": "2022-01-07T14:26:00.373Z"
   },
   {
    "duration": 14376,
    "start_time": "2022-01-07T14:25:46.994Z"
   },
   {
    "duration": 6,
    "start_time": "2022-01-07T14:26:14.436Z"
   },
   {
    "duration": 1572,
    "start_time": "2022-01-07T14:26:17.383Z"
   },
   {
    "duration": 9890,
    "start_time": "2022-01-07T14:26:19.673Z"
   },
   {
    "duration": 338,
    "start_time": "2022-01-07T14:27:37.218Z"
   },
   {
    "duration": 262,
    "start_time": "2022-01-07T14:28:06.334Z"
   },
   {
    "duration": 227,
    "start_time": "2022-01-07T14:28:14.198Z"
   },
   {
    "duration": 306,
    "start_time": "2022-01-07T14:28:20.910Z"
   },
   {
    "duration": 886,
    "start_time": "2022-01-07T14:29:24.816Z"
   },
   {
    "duration": 7728,
    "start_time": "2022-01-07T14:29:39.361Z"
   },
   {
    "duration": 9408,
    "start_time": "2022-01-07T14:30:29.141Z"
   },
   {
    "duration": 9816,
    "start_time": "2022-01-07T14:31:05.878Z"
   },
   {
    "duration": 9,
    "start_time": "2022-01-07T14:31:18.521Z"
   },
   {
    "duration": 11,
    "start_time": "2022-01-07T14:35:15.860Z"
   },
   {
    "duration": 4756,
    "start_time": "2022-01-07T14:35:25.128Z"
   },
   {
    "duration": 38,
    "start_time": "2022-01-07T14:35:41.937Z"
   },
   {
    "duration": 7,
    "start_time": "2022-01-07T14:35:56.431Z"
   },
   {
    "duration": 194,
    "start_time": "2022-01-07T14:35:56.442Z"
   },
   {
    "duration": 8,
    "start_time": "2022-01-07T14:35:56.640Z"
   },
   {
    "duration": 34,
    "start_time": "2022-01-07T14:35:56.652Z"
   },
   {
    "duration": 38,
    "start_time": "2022-01-07T14:35:56.689Z"
   },
   {
    "duration": 39,
    "start_time": "2022-01-07T14:35:56.730Z"
   },
   {
    "duration": 12,
    "start_time": "2022-01-07T14:35:56.773Z"
   },
   {
    "duration": 32,
    "start_time": "2022-01-07T14:35:56.789Z"
   },
   {
    "duration": 42,
    "start_time": "2022-01-07T14:35:56.825Z"
   },
   {
    "duration": 14,
    "start_time": "2022-01-07T14:35:56.870Z"
   },
   {
    "duration": 396,
    "start_time": "2022-01-07T14:35:56.887Z"
   },
   {
    "duration": 21478,
    "start_time": "2022-01-07T14:35:57.286Z"
   },
   {
    "duration": 200,
    "start_time": "2022-01-07T14:36:18.767Z"
   },
   {
    "duration": 24,
    "start_time": "2022-01-07T14:36:18.970Z"
   },
   {
    "duration": 532,
    "start_time": "2022-01-07T14:36:18.997Z"
   },
   {
    "duration": 1650,
    "start_time": "2022-01-07T14:36:19.532Z"
   },
   {
    "duration": 1525,
    "start_time": "2022-01-07T14:36:21.185Z"
   },
   {
    "duration": 56,
    "start_time": "2022-01-07T14:36:22.714Z"
   },
   {
    "duration": 9,
    "start_time": "2022-01-07T14:36:55.960Z"
   },
   {
    "duration": 139,
    "start_time": "2022-01-07T14:36:55.973Z"
   },
   {
    "duration": 5,
    "start_time": "2022-01-07T14:36:56.115Z"
   },
   {
    "duration": 44,
    "start_time": "2022-01-07T14:36:56.123Z"
   },
   {
    "duration": 34,
    "start_time": "2022-01-07T14:36:56.170Z"
   },
   {
    "duration": 10,
    "start_time": "2022-01-07T14:36:56.207Z"
   },
   {
    "duration": 7,
    "start_time": "2022-01-07T14:36:56.220Z"
   },
   {
    "duration": 26,
    "start_time": "2022-01-07T14:36:56.266Z"
   },
   {
    "duration": 11,
    "start_time": "2022-01-07T14:36:56.295Z"
   },
   {
    "duration": 8,
    "start_time": "2022-01-07T14:36:56.308Z"
   },
   {
    "duration": 295,
    "start_time": "2022-01-07T14:36:56.318Z"
   },
   {
    "duration": 19858,
    "start_time": "2022-01-07T14:36:56.615Z"
   },
   {
    "duration": 99,
    "start_time": "2022-01-07T14:37:16.476Z"
   },
   {
    "duration": 14,
    "start_time": "2022-01-07T14:37:16.662Z"
   },
   {
    "duration": 345,
    "start_time": "2022-01-07T14:37:16.680Z"
   },
   {
    "duration": 34,
    "start_time": "2022-01-07T14:37:17.029Z"
   },
   {
    "duration": 19,
    "start_time": "2022-01-07T14:37:17.066Z"
   },
   {
    "duration": 8,
    "start_time": "2022-01-07T14:37:17.088Z"
   },
   {
    "duration": 335,
    "start_time": "2022-01-07T14:38:17.956Z"
   },
   {
    "duration": 8,
    "start_time": "2022-01-07T14:38:24.314Z"
   },
   {
    "duration": 316,
    "start_time": "2022-01-07T14:39:32.647Z"
   },
   {
    "duration": 22780,
    "start_time": "2022-01-07T14:40:24.244Z"
   },
   {
    "duration": 354,
    "start_time": "2022-01-07T14:42:06.722Z"
   },
   {
    "duration": 66,
    "start_time": "2022-01-07T14:42:11.697Z"
   },
   {
    "duration": 32,
    "start_time": "2022-01-07T14:45:54.722Z"
   },
   {
    "duration": 32,
    "start_time": "2022-01-07T14:46:28.022Z"
   },
   {
    "duration": 40,
    "start_time": "2022-01-07T14:46:45.396Z"
   },
   {
    "duration": 1619,
    "start_time": "2022-01-07T15:00:30.106Z"
   },
   {
    "duration": 136,
    "start_time": "2022-01-07T15:00:31.728Z"
   },
   {
    "duration": 6,
    "start_time": "2022-01-07T15:00:31.867Z"
   },
   {
    "duration": 20,
    "start_time": "2022-01-07T15:00:31.878Z"
   },
   {
    "duration": 71,
    "start_time": "2022-01-07T15:00:31.900Z"
   },
   {
    "duration": 9,
    "start_time": "2022-01-07T15:00:31.975Z"
   },
   {
    "duration": 11,
    "start_time": "2022-01-07T15:00:31.987Z"
   },
   {
    "duration": 29,
    "start_time": "2022-01-07T15:00:32.002Z"
   },
   {
    "duration": 13,
    "start_time": "2022-01-07T15:00:32.064Z"
   },
   {
    "duration": 8,
    "start_time": "2022-01-07T15:00:32.080Z"
   },
   {
    "duration": 287,
    "start_time": "2022-01-07T15:00:32.091Z"
   },
   {
    "duration": 21185,
    "start_time": "2022-01-07T15:00:32.380Z"
   },
   {
    "duration": 196,
    "start_time": "2022-01-07T15:00:53.569Z"
   },
   {
    "duration": 13,
    "start_time": "2022-01-07T15:00:53.768Z"
   },
   {
    "duration": 402,
    "start_time": "2022-01-07T15:00:53.784Z"
   },
   {
    "duration": 19,
    "start_time": "2022-01-07T15:00:54.189Z"
   },
   {
    "duration": 24,
    "start_time": "2022-01-07T15:00:54.211Z"
   },
   {
    "duration": 12,
    "start_time": "2022-01-07T15:00:54.264Z"
   },
   {
    "duration": 320,
    "start_time": "2022-01-07T15:00:54.279Z"
   },
   {
    "duration": 490,
    "start_time": "2022-01-07T15:00:54.601Z"
   },
   {
    "duration": 14368,
    "start_time": "2022-01-07T15:00:40.726Z"
   },
   {
    "duration": 14367,
    "start_time": "2022-01-07T15:00:40.729Z"
   },
   {
    "duration": 14366,
    "start_time": "2022-01-07T15:00:40.732Z"
   },
   {
    "duration": 14361,
    "start_time": "2022-01-07T15:00:40.739Z"
   },
   {
    "duration": 23942,
    "start_time": "2022-01-07T15:01:35.726Z"
   },
   {
    "duration": 110,
    "start_time": "2022-01-07T15:01:59.671Z"
   },
   {
    "duration": 50,
    "start_time": "2022-01-07T15:01:59.864Z"
   },
   {
    "duration": 42,
    "start_time": "2022-01-07T15:01:59.964Z"
   },
   {
    "duration": 1817,
    "start_time": "2022-01-08T15:06:52.530Z"
   },
   {
    "duration": 146,
    "start_time": "2022-01-08T15:06:54.350Z"
   },
   {
    "duration": 7,
    "start_time": "2022-01-08T15:06:54.500Z"
   },
   {
    "duration": 55,
    "start_time": "2022-01-08T15:06:54.512Z"
   },
   {
    "duration": 35,
    "start_time": "2022-01-08T15:06:54.571Z"
   },
   {
    "duration": 8,
    "start_time": "2022-01-08T15:06:54.608Z"
   },
   {
    "duration": 7,
    "start_time": "2022-01-08T15:06:54.619Z"
   },
   {
    "duration": 957,
    "start_time": "2022-01-08T15:06:54.629Z"
   },
   {
    "duration": -743,
    "start_time": "2022-01-08T15:06:56.331Z"
   },
   {
    "duration": -752,
    "start_time": "2022-01-08T15:06:56.341Z"
   },
   {
    "duration": -755,
    "start_time": "2022-01-08T15:06:56.346Z"
   },
   {
    "duration": 272,
    "start_time": "2022-01-08T15:06:56.191Z"
   },
   {
    "duration": 6,
    "start_time": "2022-01-08T15:07:15.574Z"
   },
   {
    "duration": 126,
    "start_time": "2022-01-08T15:07:15.583Z"
   },
   {
    "duration": 6,
    "start_time": "2022-01-08T15:07:15.712Z"
   },
   {
    "duration": 18,
    "start_time": "2022-01-08T15:07:15.720Z"
   },
   {
    "duration": 53,
    "start_time": "2022-01-08T15:07:15.740Z"
   },
   {
    "duration": 7,
    "start_time": "2022-01-08T15:07:15.796Z"
   },
   {
    "duration": 8,
    "start_time": "2022-01-08T15:07:15.805Z"
   },
   {
    "duration": 269,
    "start_time": "2022-01-08T15:07:15.816Z"
   },
   {
    "duration": 374,
    "start_time": "2022-01-08T15:07:23.259Z"
   },
   {
    "duration": 12,
    "start_time": "2022-01-08T15:07:35.031Z"
   },
   {
    "duration": 9,
    "start_time": "2022-01-08T15:07:35.766Z"
   },
   {
    "duration": 23,
    "start_time": "2022-01-08T15:07:36.622Z"
   },
   {
    "duration": 21,
    "start_time": "2022-01-08T15:07:36.882Z"
   },
   {
    "duration": 21,
    "start_time": "2022-01-08T15:07:37.192Z"
   },
   {
    "duration": 5,
    "start_time": "2022-01-08T15:29:49.292Z"
   },
   {
    "duration": 123,
    "start_time": "2022-01-08T15:29:49.300Z"
   },
   {
    "duration": 6,
    "start_time": "2022-01-08T15:29:49.425Z"
   },
   {
    "duration": 33,
    "start_time": "2022-01-08T15:29:49.434Z"
   },
   {
    "duration": 33,
    "start_time": "2022-01-08T15:29:49.470Z"
   },
   {
    "duration": 8,
    "start_time": "2022-01-08T15:29:49.505Z"
   },
   {
    "duration": 12,
    "start_time": "2022-01-08T15:29:49.515Z"
   },
   {
    "duration": 12,
    "start_time": "2022-01-08T15:29:49.566Z"
   },
   {
    "duration": 9,
    "start_time": "2022-01-08T15:29:49.581Z"
   },
   {
    "duration": 26,
    "start_time": "2022-01-08T15:29:49.592Z"
   },
   {
    "duration": 61,
    "start_time": "2022-01-08T15:29:49.620Z"
   },
   {
    "duration": 22,
    "start_time": "2022-01-08T15:29:49.683Z"
   },
   {
    "duration": 298,
    "start_time": "2022-01-08T15:29:49.707Z"
   },
   {
    "duration": -87,
    "start_time": "2022-01-08T15:29:50.095Z"
   },
   {
    "duration": -89,
    "start_time": "2022-01-08T15:29:50.099Z"
   },
   {
    "duration": -166,
    "start_time": "2022-01-08T15:29:50.177Z"
   },
   {
    "duration": -167,
    "start_time": "2022-01-08T15:29:50.180Z"
   },
   {
    "duration": -170,
    "start_time": "2022-01-08T15:29:50.184Z"
   },
   {
    "duration": -173,
    "start_time": "2022-01-08T15:29:50.188Z"
   },
   {
    "duration": -175,
    "start_time": "2022-01-08T15:29:50.192Z"
   },
   {
    "duration": -176,
    "start_time": "2022-01-08T15:29:50.195Z"
   },
   {
    "duration": 5382,
    "start_time": "2022-01-08T15:30:51.944Z"
   },
   {
    "duration": 1599,
    "start_time": "2022-01-08T15:31:05.937Z"
   },
   {
    "duration": 132,
    "start_time": "2022-01-08T15:31:07.538Z"
   },
   {
    "duration": 7,
    "start_time": "2022-01-08T15:31:07.673Z"
   },
   {
    "duration": 16,
    "start_time": "2022-01-08T15:31:07.683Z"
   },
   {
    "duration": 32,
    "start_time": "2022-01-08T15:31:07.701Z"
   },
   {
    "duration": 8,
    "start_time": "2022-01-08T15:31:07.768Z"
   },
   {
    "duration": 16,
    "start_time": "2022-01-08T15:31:07.778Z"
   },
   {
    "duration": 13,
    "start_time": "2022-01-08T15:31:07.797Z"
   },
   {
    "duration": 9,
    "start_time": "2022-01-08T15:31:07.813Z"
   },
   {
    "duration": 57,
    "start_time": "2022-01-08T15:31:07.824Z"
   },
   {
    "duration": 23,
    "start_time": "2022-01-08T15:31:07.884Z"
   },
   {
    "duration": 21,
    "start_time": "2022-01-08T15:31:07.909Z"
   },
   {
    "duration": 465,
    "start_time": "2022-01-08T15:31:07.932Z"
   },
   {
    "duration": 299,
    "start_time": "2022-01-08T15:31:14.488Z"
   },
   {
    "duration": 11542,
    "start_time": "2022-01-08T15:31:31.012Z"
   },
   {
    "duration": 1667,
    "start_time": "2022-01-08T15:31:53.230Z"
   },
   {
    "duration": 127,
    "start_time": "2022-01-08T15:31:54.900Z"
   },
   {
    "duration": 6,
    "start_time": "2022-01-08T15:31:55.030Z"
   },
   {
    "duration": 38,
    "start_time": "2022-01-08T15:31:55.039Z"
   },
   {
    "duration": 32,
    "start_time": "2022-01-08T15:31:55.080Z"
   },
   {
    "duration": 8,
    "start_time": "2022-01-08T15:31:55.114Z"
   },
   {
    "duration": 9,
    "start_time": "2022-01-08T15:31:55.124Z"
   },
   {
    "duration": 44,
    "start_time": "2022-01-08T15:31:55.137Z"
   },
   {
    "duration": 13,
    "start_time": "2022-01-08T15:31:55.185Z"
   },
   {
    "duration": 67,
    "start_time": "2022-01-08T15:31:55.200Z"
   },
   {
    "duration": 22,
    "start_time": "2022-01-08T15:31:55.270Z"
   },
   {
    "duration": 22,
    "start_time": "2022-01-08T15:31:55.294Z"
   },
   {
    "duration": 297,
    "start_time": "2022-01-08T15:31:55.318Z"
   },
   {
    "duration": 20857,
    "start_time": "2022-01-08T15:31:58.540Z"
   },
   {
    "duration": 75,
    "start_time": "2022-01-08T15:32:19.400Z"
   },
   {
    "duration": 103,
    "start_time": "2022-01-08T15:32:19.478Z"
   },
   {
    "duration": 369,
    "start_time": "2022-01-08T15:33:14.248Z"
   },
   {
    "duration": 16,
    "start_time": "2022-01-08T15:33:15.085Z"
   },
   {
    "duration": 18,
    "start_time": "2022-01-08T15:33:29.015Z"
   },
   {
    "duration": 8,
    "start_time": "2022-01-08T15:33:30.913Z"
   },
   {
    "duration": 10,
    "start_time": "2022-01-08T15:33:32.087Z"
   },
   {
    "duration": 6,
    "start_time": "2022-01-08T15:33:43.387Z"
   },
   {
    "duration": 126,
    "start_time": "2022-01-08T15:33:43.396Z"
   },
   {
    "duration": 6,
    "start_time": "2022-01-08T15:33:43.525Z"
   },
   {
    "duration": 43,
    "start_time": "2022-01-08T15:33:43.534Z"
   },
   {
    "duration": 36,
    "start_time": "2022-01-08T15:33:43.580Z"
   },
   {
    "duration": 11,
    "start_time": "2022-01-08T15:33:43.619Z"
   },
   {
    "duration": 10,
    "start_time": "2022-01-08T15:33:43.675Z"
   },
   {
    "duration": 13,
    "start_time": "2022-01-08T15:33:43.690Z"
   },
   {
    "duration": 9,
    "start_time": "2022-01-08T15:33:43.706Z"
   },
   {
    "duration": 54,
    "start_time": "2022-01-08T15:33:43.718Z"
   },
   {
    "duration": 22,
    "start_time": "2022-01-08T15:33:43.775Z"
   },
   {
    "duration": 23,
    "start_time": "2022-01-08T15:33:43.800Z"
   },
   {
    "duration": 308,
    "start_time": "2022-01-08T15:33:43.826Z"
   },
   {
    "duration": 21038,
    "start_time": "2022-01-08T15:33:44.137Z"
   },
   {
    "duration": 192,
    "start_time": "2022-01-08T15:34:05.178Z"
   },
   {
    "duration": 18,
    "start_time": "2022-01-08T15:34:05.373Z"
   },
   {
    "duration": 560,
    "start_time": "2022-01-08T15:34:05.394Z"
   },
   {
    "duration": 27,
    "start_time": "2022-01-08T15:34:05.958Z"
   },
   {
    "duration": 24,
    "start_time": "2022-01-08T15:34:05.990Z"
   },
   {
    "duration": 12,
    "start_time": "2022-01-08T15:34:06.017Z"
   },
   {
    "duration": 40,
    "start_time": "2022-01-08T15:34:06.031Z"
   },
   {
    "duration": 9,
    "start_time": "2022-01-08T15:34:38.699Z"
   },
   {
    "duration": 191,
    "start_time": "2022-01-08T15:34:38.711Z"
   },
   {
    "duration": 6,
    "start_time": "2022-01-08T15:34:38.905Z"
   },
   {
    "duration": 17,
    "start_time": "2022-01-08T15:34:38.914Z"
   },
   {
    "duration": 60,
    "start_time": "2022-01-08T15:34:38.933Z"
   },
   {
    "duration": 10,
    "start_time": "2022-01-08T15:34:38.995Z"
   },
   {
    "duration": 7,
    "start_time": "2022-01-08T15:34:39.008Z"
   },
   {
    "duration": 49,
    "start_time": "2022-01-08T15:34:39.020Z"
   },
   {
    "duration": 10,
    "start_time": "2022-01-08T15:34:39.072Z"
   },
   {
    "duration": 28,
    "start_time": "2022-01-08T15:34:39.085Z"
   },
   {
    "duration": 56,
    "start_time": "2022-01-08T15:34:39.115Z"
   },
   {
    "duration": 23,
    "start_time": "2022-01-08T15:34:39.174Z"
   },
   {
    "duration": 296,
    "start_time": "2022-01-08T15:34:39.199Z"
   },
   {
    "duration": 21180,
    "start_time": "2022-01-08T15:34:39.497Z"
   },
   {
    "duration": 92,
    "start_time": "2022-01-08T15:35:00.679Z"
   },
   {
    "duration": 103,
    "start_time": "2022-01-08T15:35:00.774Z"
   },
   {
    "duration": 379,
    "start_time": "2022-01-08T15:35:00.880Z"
   },
   {
    "duration": 799,
    "start_time": "2022-01-08T15:35:01.262Z"
   },
   {
    "duration": -100,
    "start_time": "2022-01-08T15:35:02.165Z"
   },
   {
    "duration": -118,
    "start_time": "2022-01-08T15:35:02.185Z"
   },
   {
    "duration": -119,
    "start_time": "2022-01-08T15:35:02.188Z"
   },
   {
    "duration": 15,
    "start_time": "2022-01-08T15:35:40.018Z"
   },
   {
    "duration": 16,
    "start_time": "2022-01-08T15:35:40.734Z"
   },
   {
    "duration": 7,
    "start_time": "2022-01-08T15:35:41.103Z"
   },
   {
    "duration": 8,
    "start_time": "2022-01-08T15:35:41.472Z"
   },
   {
    "duration": 1633,
    "start_time": "2022-01-08T15:43:52.924Z"
   },
   {
    "duration": 133,
    "start_time": "2022-01-08T15:43:54.559Z"
   },
   {
    "duration": 6,
    "start_time": "2022-01-08T15:43:54.696Z"
   },
   {
    "duration": 22,
    "start_time": "2022-01-08T15:43:54.705Z"
   },
   {
    "duration": 61,
    "start_time": "2022-01-08T15:43:54.730Z"
   },
   {
    "duration": 10,
    "start_time": "2022-01-08T15:43:54.794Z"
   },
   {
    "duration": 11,
    "start_time": "2022-01-08T15:43:54.806Z"
   },
   {
    "duration": 45,
    "start_time": "2022-01-08T15:43:54.822Z"
   },
   {
    "duration": 11,
    "start_time": "2022-01-08T15:43:54.871Z"
   },
   {
    "duration": 30,
    "start_time": "2022-01-08T15:43:54.885Z"
   },
   {
    "duration": 58,
    "start_time": "2022-01-08T15:43:54.918Z"
   },
   {
    "duration": 24,
    "start_time": "2022-01-08T15:43:54.979Z"
   },
   {
    "duration": 319,
    "start_time": "2022-01-08T15:43:55.006Z"
   },
   {
    "duration": 21882,
    "start_time": "2022-01-08T15:43:55.327Z"
   },
   {
    "duration": 157,
    "start_time": "2022-01-08T15:44:17.212Z"
   },
   {
    "duration": 103,
    "start_time": "2022-01-08T15:44:17.373Z"
   },
   {
    "duration": 356,
    "start_time": "2022-01-08T15:44:17.479Z"
   },
   {
    "duration": 15,
    "start_time": "2022-01-08T15:44:17.837Z"
   },
   {
    "duration": 16,
    "start_time": "2022-01-08T15:44:17.867Z"
   },
   {
    "duration": 7,
    "start_time": "2022-01-08T15:44:17.886Z"
   },
   {
    "duration": 14,
    "start_time": "2022-01-08T15:44:17.896Z"
   },
   {
    "duration": 935,
    "start_time": "2022-01-08T15:44:17.913Z"
   },
   {
    "duration": -75,
    "start_time": "2022-01-08T15:44:18.926Z"
   },
   {
    "duration": -91,
    "start_time": "2022-01-08T15:44:18.943Z"
   },
   {
    "duration": 735,
    "start_time": "2022-01-08T15:45:57.360Z"
   },
   {
    "duration": 806,
    "start_time": "2022-01-08T15:46:09.676Z"
   },
   {
    "duration": 27646,
    "start_time": "2022-01-08T15:46:16.294Z"
   },
   {
    "duration": 488,
    "start_time": "2022-01-08T15:47:24.682Z"
   },
   {
    "duration": 26,
    "start_time": "2022-01-08T15:50:52.850Z"
   },
   {
    "duration": 26,
    "start_time": "2022-01-08T15:50:57.076Z"
   },
   {
    "duration": 28,
    "start_time": "2022-01-08T15:51:13.975Z"
   },
   {
    "duration": 29,
    "start_time": "2022-01-08T15:51:23.383Z"
   },
   {
    "duration": 1578,
    "start_time": "2022-01-08T15:51:39.797Z"
   },
   {
    "duration": 129,
    "start_time": "2022-01-08T15:51:41.377Z"
   },
   {
    "duration": 5,
    "start_time": "2022-01-08T15:51:41.509Z"
   },
   {
    "duration": 19,
    "start_time": "2022-01-08T15:51:41.517Z"
   },
   {
    "duration": 58,
    "start_time": "2022-01-08T15:51:41.538Z"
   },
   {
    "duration": 8,
    "start_time": "2022-01-08T15:51:41.598Z"
   },
   {
    "duration": 16,
    "start_time": "2022-01-08T15:51:41.608Z"
   },
   {
    "duration": 40,
    "start_time": "2022-01-08T15:51:41.627Z"
   },
   {
    "duration": 9,
    "start_time": "2022-01-08T15:51:41.670Z"
   },
   {
    "duration": 28,
    "start_time": "2022-01-08T15:51:41.682Z"
   },
   {
    "duration": 23,
    "start_time": "2022-01-08T15:51:41.712Z"
   },
   {
    "duration": 23,
    "start_time": "2022-01-08T15:51:41.768Z"
   },
   {
    "duration": 289,
    "start_time": "2022-01-08T15:51:41.793Z"
   },
   {
    "duration": 20886,
    "start_time": "2022-01-08T15:51:42.084Z"
   },
   {
    "duration": 102,
    "start_time": "2022-01-08T15:52:02.972Z"
   },
   {
    "duration": 13,
    "start_time": "2022-01-08T15:52:03.167Z"
   },
   {
    "duration": 360,
    "start_time": "2022-01-08T15:52:03.184Z"
   },
   {
    "duration": 30,
    "start_time": "2022-01-08T15:52:03.548Z"
   },
   {
    "duration": 16,
    "start_time": "2022-01-08T15:52:03.580Z"
   },
   {
    "duration": 8,
    "start_time": "2022-01-08T15:52:03.598Z"
   },
   {
    "duration": 13,
    "start_time": "2022-01-08T15:52:03.608Z"
   },
   {
    "duration": 822,
    "start_time": "2022-01-08T15:52:03.623Z"
   },
   {
    "duration": 27738,
    "start_time": "2022-01-08T15:52:04.466Z"
   },
   {
    "duration": 465,
    "start_time": "2022-01-08T15:52:32.207Z"
   },
   {
    "duration": 121,
    "start_time": "2022-01-08T15:52:32.676Z"
   },
   {
    "duration": 34,
    "start_time": "2022-01-08T15:52:32.800Z"
   },
   {
    "duration": 7,
    "start_time": "2022-01-08T15:56:46.850Z"
   },
   {
    "duration": 447,
    "start_time": "2022-01-08T15:58:23.656Z"
   },
   {
    "duration": 270,
    "start_time": "2022-01-08T15:58:35.109Z"
   },
   {
    "duration": 8,
    "start_time": "2022-01-08T15:58:39.601Z"
   },
   {
    "duration": 1526,
    "start_time": "2022-01-08T15:58:40.879Z"
   }
  ],
  "kernelspec": {
   "display_name": "Python 3",
   "language": "python",
   "name": "python3"
  },
  "language_info": {
   "codemirror_mode": {
    "name": "ipython",
    "version": 3
   },
   "file_extension": ".py",
   "mimetype": "text/x-python",
   "name": "python",
   "nbconvert_exporter": "python",
   "pygments_lexer": "ipython3",
   "version": "3.8.5"
  },
  "toc": {
   "base_numbering": 1,
   "nav_menu": {},
   "number_sections": false,
   "sideBar": true,
   "skip_h1_title": false,
   "title_cell": "Содержание",
   "title_sidebar": "Contents",
   "toc_cell": true,
   "toc_position": {
    "height": "calc(100% - 180px)",
    "left": "10px",
    "top": "150px",
    "width": "358.391px"
   },
   "toc_section_display": true,
   "toc_window_display": false
  }
 },
 "nbformat": 4,
 "nbformat_minor": 2
}
