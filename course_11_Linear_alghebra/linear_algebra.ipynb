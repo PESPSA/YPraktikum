{
 "cells": [
  {
   "cell_type": "markdown",
   "metadata": {
    "toc": true
   },
   "source": [
    "<h1>Содержание<span class=\"tocSkip\"></span></h1>\n",
    "<div class=\"toc\"><ul class=\"toc-item\"><li><span><a href=\"#-Комментарий-ревьюера-\" data-toc-modified-id=\"-Комментарий-ревьюера--1\"><span class=\"toc-item-num\">1&nbsp;&nbsp;</span> Комментарий ревьюера </a></span></li><li><span><a href=\"#Защита-персональных-данных-клиентов\" data-toc-modified-id=\"Защита-персональных-данных-клиентов-2\"><span class=\"toc-item-num\">2&nbsp;&nbsp;</span>Защита персональных данных клиентов</a></span><ul class=\"toc-item\"><li><span><a href=\"#Описание-проекта\" data-toc-modified-id=\"Описание-проекта-2.1\"><span class=\"toc-item-num\">2.1&nbsp;&nbsp;</span>Описание проекта</a></span></li><li><span><a href=\"#Описание-данных\" data-toc-modified-id=\"Описание-данных-2.2\"><span class=\"toc-item-num\">2.2&nbsp;&nbsp;</span>Описание данных</a></span></li><li><span><a href=\"#План-работы\" data-toc-modified-id=\"План-работы-2.3\"><span class=\"toc-item-num\">2.3&nbsp;&nbsp;</span>План работы</a></span></li></ul></li><li><span><a href=\"#Загрузка-данных\" data-toc-modified-id=\"Загрузка-данных-3\"><span class=\"toc-item-num\">3&nbsp;&nbsp;</span>Загрузка данных</a></span><ul class=\"toc-item\"><li><span><a href=\"#Вывод-по-разделу\" data-toc-modified-id=\"Вывод-по-разделу-3.1\"><span class=\"toc-item-num\">3.1&nbsp;&nbsp;</span>Вывод по разделу</a></span></li></ul></li><li><span><a href=\"#Умножение-матриц\" data-toc-modified-id=\"Умножение-матриц-4\"><span class=\"toc-item-num\">4&nbsp;&nbsp;</span>Умножение матриц</a></span></li><li><span><a href=\"#Алгоритм-преобразования\" data-toc-modified-id=\"Алгоритм-преобразования-5\"><span class=\"toc-item-num\">5&nbsp;&nbsp;</span>Алгоритм преобразования</a></span></li><li><span><a href=\"#Проверка-алгоритма\" data-toc-modified-id=\"Проверка-алгоритма-6\"><span class=\"toc-item-num\">6&nbsp;&nbsp;</span>Проверка алгоритма</a></span><ul class=\"toc-item\"><li><span><a href=\"#Вывод-по-разделу\" data-toc-modified-id=\"Вывод-по-разделу-6.1\"><span class=\"toc-item-num\">6.1&nbsp;&nbsp;</span>Вывод по разделу</a></span></li></ul></li><li><span><a href=\"#Общий-вывод\" data-toc-modified-id=\"Общий-вывод-7\"><span class=\"toc-item-num\">7&nbsp;&nbsp;</span>Общий вывод</a></span></li></ul></div>"
   ]
  },
  {
   "cell_type": "markdown",
   "metadata": {},
   "source": [
    "# Защита персональных данных клиентов"
   ]
  },
  {
   "cell_type": "markdown",
   "metadata": {},
   "source": [
    "## Описание проекта\n",
    "Вам нужно защитить данные клиентов страховой компании «Хоть потоп». Разработайте такой метод преобразования данных, чтобы по ним было сложно восстановить персональную информацию. Обоснуйте корректность его работы.\n",
    "\n",
    "Нужно защитить данные, чтобы при преобразовании качество моделей машинного обучения не ухудшилось. Подбирать наилучшую модель не требуется.\n",
    "\n",
    "## Описание данных\n",
    "Набор данных находится в файле /datasets/insurance.csv\n",
    "Признаки:\n",
    "* пол\n",
    "* возраст\n",
    "* зарплата застрахованного\n",
    "* количество членов его семьи.\n",
    "\n",
    "Целевой признак: \n",
    "* количество страховых выплат клиенту за последние 5 лет.\n",
    "\n",
    "## План работы\n",
    "\n",
    "Для достижения желаемого результата требуется открыть файл и изучить информацию, после чего требуется ответить на теоретический вопрос, обосновав решение. Далее требуется придумать и создать алгоритм преобразования данных и написать общий вывод."
   ]
  },
  {
   "cell_type": "markdown",
   "metadata": {},
   "source": [
    "# Загрузка данных"
   ]
  },
  {
   "cell_type": "code",
   "execution_count": 1,
   "metadata": {},
   "outputs": [],
   "source": [
    "import pandas as pd\n",
    "import numpy as np\n",
    "from sklearn.metrics import r2_score\n",
    "from sklearn.linear_model import LinearRegression\n",
    "from sklearn.base import BaseEstimator, TransformerMixin"
   ]
  },
  {
   "cell_type": "code",
   "execution_count": 2,
   "metadata": {},
   "outputs": [],
   "source": [
    "df = pd.read_csv('/datasets/insurance.csv')"
   ]
  },
  {
   "cell_type": "code",
   "execution_count": 3,
   "metadata": {},
   "outputs": [
    {
     "data": {
      "text/html": [
       "<div>\n",
       "<style scoped>\n",
       "    .dataframe tbody tr th:only-of-type {\n",
       "        vertical-align: middle;\n",
       "    }\n",
       "\n",
       "    .dataframe tbody tr th {\n",
       "        vertical-align: top;\n",
       "    }\n",
       "\n",
       "    .dataframe thead th {\n",
       "        text-align: right;\n",
       "    }\n",
       "</style>\n",
       "<table border=\"1\" class=\"dataframe\">\n",
       "  <thead>\n",
       "    <tr style=\"text-align: right;\">\n",
       "      <th></th>\n",
       "      <th>Пол</th>\n",
       "      <th>Возраст</th>\n",
       "      <th>Зарплата</th>\n",
       "      <th>Члены семьи</th>\n",
       "      <th>Страховые выплаты</th>\n",
       "    </tr>\n",
       "  </thead>\n",
       "  <tbody>\n",
       "    <tr>\n",
       "      <th>count</th>\n",
       "      <td>5000.000000</td>\n",
       "      <td>5000.000000</td>\n",
       "      <td>5000.000000</td>\n",
       "      <td>5000.000000</td>\n",
       "      <td>5000.000000</td>\n",
       "    </tr>\n",
       "    <tr>\n",
       "      <th>mean</th>\n",
       "      <td>0.499000</td>\n",
       "      <td>30.952800</td>\n",
       "      <td>39916.360000</td>\n",
       "      <td>1.194200</td>\n",
       "      <td>0.148000</td>\n",
       "    </tr>\n",
       "    <tr>\n",
       "      <th>std</th>\n",
       "      <td>0.500049</td>\n",
       "      <td>8.440807</td>\n",
       "      <td>9900.083569</td>\n",
       "      <td>1.091387</td>\n",
       "      <td>0.463183</td>\n",
       "    </tr>\n",
       "    <tr>\n",
       "      <th>min</th>\n",
       "      <td>0.000000</td>\n",
       "      <td>18.000000</td>\n",
       "      <td>5300.000000</td>\n",
       "      <td>0.000000</td>\n",
       "      <td>0.000000</td>\n",
       "    </tr>\n",
       "    <tr>\n",
       "      <th>25%</th>\n",
       "      <td>0.000000</td>\n",
       "      <td>24.000000</td>\n",
       "      <td>33300.000000</td>\n",
       "      <td>0.000000</td>\n",
       "      <td>0.000000</td>\n",
       "    </tr>\n",
       "    <tr>\n",
       "      <th>50%</th>\n",
       "      <td>0.000000</td>\n",
       "      <td>30.000000</td>\n",
       "      <td>40200.000000</td>\n",
       "      <td>1.000000</td>\n",
       "      <td>0.000000</td>\n",
       "    </tr>\n",
       "    <tr>\n",
       "      <th>75%</th>\n",
       "      <td>1.000000</td>\n",
       "      <td>37.000000</td>\n",
       "      <td>46600.000000</td>\n",
       "      <td>2.000000</td>\n",
       "      <td>0.000000</td>\n",
       "    </tr>\n",
       "    <tr>\n",
       "      <th>max</th>\n",
       "      <td>1.000000</td>\n",
       "      <td>65.000000</td>\n",
       "      <td>79000.000000</td>\n",
       "      <td>6.000000</td>\n",
       "      <td>5.000000</td>\n",
       "    </tr>\n",
       "  </tbody>\n",
       "</table>\n",
       "</div>"
      ],
      "text/plain": [
       "               Пол      Возраст      Зарплата  Члены семьи  Страховые выплаты\n",
       "count  5000.000000  5000.000000   5000.000000  5000.000000        5000.000000\n",
       "mean      0.499000    30.952800  39916.360000     1.194200           0.148000\n",
       "std       0.500049     8.440807   9900.083569     1.091387           0.463183\n",
       "min       0.000000    18.000000   5300.000000     0.000000           0.000000\n",
       "25%       0.000000    24.000000  33300.000000     0.000000           0.000000\n",
       "50%       0.000000    30.000000  40200.000000     1.000000           0.000000\n",
       "75%       1.000000    37.000000  46600.000000     2.000000           0.000000\n",
       "max       1.000000    65.000000  79000.000000     6.000000           5.000000"
      ]
     },
     "execution_count": 3,
     "metadata": {},
     "output_type": "execute_result"
    }
   ],
   "source": [
    "df.describe()"
   ]
  },
  {
   "cell_type": "code",
   "execution_count": 4,
   "metadata": {},
   "outputs": [
    {
     "name": "stdout",
     "output_type": "stream",
     "text": [
      "<class 'pandas.core.frame.DataFrame'>\n",
      "RangeIndex: 5000 entries, 0 to 4999\n",
      "Data columns (total 5 columns):\n",
      " #   Column             Non-Null Count  Dtype  \n",
      "---  ------             --------------  -----  \n",
      " 0   Пол                5000 non-null   int64  \n",
      " 1   Возраст            5000 non-null   float64\n",
      " 2   Зарплата           5000 non-null   float64\n",
      " 3   Члены семьи        5000 non-null   int64  \n",
      " 4   Страховые выплаты  5000 non-null   int64  \n",
      "dtypes: float64(2), int64(3)\n",
      "memory usage: 195.4 KB\n"
     ]
    }
   ],
   "source": [
    "df.info()"
   ]
  },
  {
   "cell_type": "code",
   "execution_count": 5,
   "metadata": {},
   "outputs": [],
   "source": [
    "# переименуем столбцы для удобной работы\n",
    "df.columns = ['sex', 'age', 'salary', 'family_members', 'insurance_count']"
   ]
  },
  {
   "cell_type": "code",
   "execution_count": 6,
   "metadata": {},
   "outputs": [
    {
     "data": {
      "text/plain": [
       "((5000, 4), (5000,))"
      ]
     },
     "execution_count": 6,
     "metadata": {},
     "output_type": "execute_result"
    }
   ],
   "source": [
    "# отделим целевую переменную от датасета\n",
    "X = df.drop(columns='insurance_count')\n",
    "y = df['insurance_count']\n",
    "\n",
    "X.shape, y.shape"
   ]
  },
  {
   "cell_type": "markdown",
   "metadata": {},
   "source": [
    "## Вывод по разделу"
   ]
  },
  {
   "cell_type": "markdown",
   "metadata": {},
   "source": [
    "В данном разделе были загружены и изучены данные. В ходе ознакомления с данными было вявле"
   ]
  },
  {
   "cell_type": "markdown",
   "metadata": {},
   "source": [
    "# Умножение матриц"
   ]
  },
  {
   "cell_type": "markdown",
   "metadata": {},
   "source": [
    "В этом задании вы можете записывать формулы в *Jupyter Notebook.*\n",
    "\n",
    "Чтобы записать формулу внутри текста, окружите её символами доллара \\\\$; если снаружи —  двойными символами \\\\$\\\\$. Эти формулы записываются на языке вёрстки *LaTeX.* \n",
    "\n",
    "Для примера мы записали формулы линейной регрессии. Можете их скопировать и отредактировать, чтобы решить задачу.\n",
    "\n",
    "Работать в *LaTeX* необязательно."
   ]
  },
  {
   "cell_type": "markdown",
   "metadata": {},
   "source": [
    "Обозначения:\n",
    "\n",
    "- $X$ — матрица признаков (нулевой столбец состоит из единиц)\n",
    "\n",
    "- $y$ — вектор целевого признака\n",
    "\n",
    "- $P$ — матрица, на которую умножаются признаки\n",
    "\n",
    "- $w$ — вектор весов линейной регрессии (нулевой элемент равен сдвигу)"
   ]
  },
  {
   "cell_type": "markdown",
   "metadata": {},
   "source": [
    "Предсказания:\n",
    "\n",
    "$$\n",
    "a = Xw\n",
    "$$\n",
    "\n",
    "Задача обучения:\n",
    "\n",
    "$$\n",
    "w = \\arg\\min_w MSE(Xw, y)\n",
    "$$\n",
    "\n",
    "Формула обучения:\n",
    "\n",
    "$$\n",
    "w = (X^T X)^{-1} X^T y\n",
    "$$"
   ]
  },
  {
   "cell_type": "markdown",
   "metadata": {},
   "source": [
    "**Ответ:** Предсказание $a$ не изменится\n",
    "\n",
    "**Обоснование:** \n",
    "\n",
    "Пусть $Z$ - это матрица размерности $(N, N)$, а исходная $X$ имеет размерность $(M, N)$, тогда вместо $X$ подставим в исходные формулы $XZ$, и сравним полученное $a$, если оно не изменится значит результат не изменится а следовательно и качество линейной регрессии тоже.\n",
    "\n",
    "$a_{new} = XZw_{new}$\n",
    "$w_{new} = ((XZ)^TXZ)^{-1}(XZ)^Ty$\n",
    "\n",
    "Пподставим $w_{new}$ в $a_{new}$:\n",
    "\n",
    "$a_{new} = XZ((XZ)^TXZ)^{-1}(XZ)^Ty = XZ(Z^TX^TXZ)^{-1}Z^TX^Ty =  XZZ^{-1}(X^TX)^{-1}Z^T(Z^T)^{-1}X^Ty = XE(X^TX)^{-1}EX^Ty = X(X^TX)^{-1}X^Ty = Xw$ \n",
    "\n",
    "Использованные свойства:\n",
    "\n",
    "1. $(AB)^T = B^TA^T$\n",
    "2. $(AB)^{-1} = B^{-1}A^{-1}$\n",
    "3. ассоциативность умножения матриц и определение обратной матрицы\n",
    "\n",
    "P.S. также допускаем, что $X^TX$ - обратима"
   ]
  },
  {
   "cell_type": "markdown",
   "metadata": {},
   "source": [
    "# Алгоритм преобразования"
   ]
  },
  {
   "cell_type": "markdown",
   "metadata": {},
   "source": [
    "**Алгоритм**\n",
    "\n",
    "Реализуем в коде приведенный выше алгоритм заменив исходный $X$ на произведение $XZ$, где $Z$ матрица размерности $(N, N)$, со случаными числами распределенными по нормальному закону."
   ]
  },
  {
   "cell_type": "markdown",
   "metadata": {},
   "source": [
    "**Обоснование**\n",
    "\n",
    "Так как предсказания не изменятся, что доказано выше, то и предсказания не должны измениться"
   ]
  },
  {
   "cell_type": "markdown",
   "metadata": {},
   "source": [
    "# Проверка алгоритма"
   ]
  },
  {
   "cell_type": "code",
   "execution_count": 7,
   "metadata": {},
   "outputs": [],
   "source": [
    "class SecureModel(TransformerMixin, BaseEstimator):\n",
    "    def fit(self, X, y=None, random_state=None):\n",
    "        if random_state:\n",
    "            np.random.seed(random_state)\n",
    "            \n",
    "        N = X.shape[1]\n",
    "        Z = np.random.normal(size=(N, N))\n",
    "        while True:\n",
    "            try:\n",
    "                np.linalg.inv(Z)\n",
    "            except:\n",
    "                Z = np.random.normal(size=(N, N))\n",
    "            else:\n",
    "                break\n",
    "        self.X = X\n",
    "        self.Z = Z\n",
    "        return self\n",
    "        \n",
    "    def transform(self, X, y=None):  \n",
    "        return X.dot(self.Z)  "
   ]
  },
  {
   "cell_type": "code",
   "execution_count": 8,
   "metadata": {},
   "outputs": [
    {
     "data": {
      "text/plain": [
       "((5000, 4), (5000, 4))"
      ]
     },
     "execution_count": 8,
     "metadata": {},
     "output_type": "execute_result"
    }
   ],
   "source": [
    "X_new = SecureModel().fit_transform(X, random_state=12345)\n",
    "X.shape, X_new.shape"
   ]
  },
  {
   "cell_type": "code",
   "execution_count": 9,
   "metadata": {},
   "outputs": [
    {
     "data": {
      "text/plain": [
       "0.4249455028666801"
      ]
     },
     "execution_count": 9,
     "metadata": {},
     "output_type": "execute_result"
    }
   ],
   "source": [
    "lr = LinearRegression()\n",
    "\n",
    "lr.fit(X, y)\n",
    "pred_1 = lr.predict(X)\n",
    "r2_score(y, pred_1)"
   ]
  },
  {
   "cell_type": "code",
   "execution_count": 10,
   "metadata": {},
   "outputs": [
    {
     "data": {
      "text/plain": [
       "0.42494550286667687"
      ]
     },
     "execution_count": 10,
     "metadata": {},
     "output_type": "execute_result"
    }
   ],
   "source": [
    "lr.fit(X_new, y)\n",
    "pred_2 = lr.predict(X_new)\n",
    "r2_score(y, pred_2)"
   ]
  },
  {
   "cell_type": "markdown",
   "metadata": {},
   "source": [
    "## Вывод по разделу"
   ]
  },
  {
   "cell_type": "markdown",
   "metadata": {},
   "source": [
    "В данном разделе был описан алгоритм шифрования исходной матрицы, путем перемножения ее на квадратную матрицу имеющую числа, подчиненные нормальному закону распределения, после чего была проведена проверка описанной модели и сравнение результата алгоритма линейной регрессии на исходной и преобразованной матрице, в ходе которой было выяснено, что как и ожидалось результаты совпали, а значит алгоритм работает верно, теория верна"
   ]
  },
  {
   "cell_type": "markdown",
   "metadata": {},
   "source": [
    "# Общий вывод"
   ]
  },
  {
   "cell_type": "markdown",
   "metadata": {},
   "source": [
    "В ходе выполнения данного проекта был открыт и изучен файл, переименованы столбцы, также была отделена целевая переменная, после чего был приведен ответ на теоретический вопрос с обоснованием решения в ходе которого было выяснено, что предсказания не изменятся, а следовательно и качество модели не упадет, далее был реализован класс шифрующий модель по ранее описанной формуле и посчитан результат линейной регрессии на исходном датасете и преобразованном, который показал что результат одинаковый, а следовательно теория верна"
   ]
  }
 ],
 "metadata": {
  "ExecuteTimeLog": [
   {
    "duration": 403,
    "start_time": "2022-05-17T10:41:30.563Z"
   },
   {
    "duration": 18,
    "start_time": "2022-05-17T10:41:46.997Z"
   },
   {
    "duration": 18,
    "start_time": "2022-05-17T10:41:49.964Z"
   },
   {
    "duration": 21,
    "start_time": "2022-05-17T10:48:03.003Z"
   },
   {
    "duration": 9,
    "start_time": "2022-05-17T10:48:07.630Z"
   },
   {
    "duration": 65,
    "start_time": "2022-05-17T10:48:56.563Z"
   },
   {
    "duration": 11,
    "start_time": "2022-05-17T10:49:12.756Z"
   },
   {
    "duration": 3,
    "start_time": "2022-05-17T10:50:01.442Z"
   },
   {
    "duration": 11,
    "start_time": "2022-05-17T10:50:06.230Z"
   },
   {
    "duration": 3,
    "start_time": "2022-05-17T11:23:08.035Z"
   },
   {
    "duration": 950,
    "start_time": "2022-05-17T11:25:02.034Z"
   },
   {
    "duration": 4,
    "start_time": "2022-05-17T11:25:38.794Z"
   },
   {
    "duration": 39,
    "start_time": "2022-05-17T11:26:28.467Z"
   },
   {
    "duration": 5,
    "start_time": "2022-05-17T11:26:34.186Z"
   },
   {
    "duration": 7,
    "start_time": "2022-05-17T11:26:41.245Z"
   },
   {
    "duration": 5,
    "start_time": "2022-05-17T11:26:46.128Z"
   },
   {
    "duration": 116,
    "start_time": "2022-05-17T11:27:48.849Z"
   },
   {
    "duration": 3,
    "start_time": "2022-05-17T11:28:01.379Z"
   },
   {
    "duration": 13,
    "start_time": "2022-05-17T11:28:03.537Z"
   },
   {
    "duration": 12,
    "start_time": "2022-05-17T11:28:05.033Z"
   },
   {
    "duration": 18,
    "start_time": "2022-05-17T11:28:14.462Z"
   },
   {
    "duration": 25,
    "start_time": "2022-05-17T11:28:24.959Z"
   },
   {
    "duration": 18,
    "start_time": "2022-05-17T11:28:25.584Z"
   },
   {
    "duration": 10,
    "start_time": "2022-05-17T11:28:27.110Z"
   },
   {
    "duration": 10,
    "start_time": "2022-05-17T11:28:27.519Z"
   },
   {
    "duration": 1264,
    "start_time": "2022-05-17T11:34:20.610Z"
   },
   {
    "duration": 20,
    "start_time": "2022-05-17T11:34:21.876Z"
   },
   {
    "duration": 37,
    "start_time": "2022-05-17T11:34:21.898Z"
   },
   {
    "duration": 10,
    "start_time": "2022-05-17T11:34:21.937Z"
   },
   {
    "duration": 16,
    "start_time": "2022-05-17T11:34:21.948Z"
   },
   {
    "duration": 5,
    "start_time": "2022-05-17T11:34:21.965Z"
   },
   {
    "duration": 5,
    "start_time": "2022-05-17T11:34:21.972Z"
   },
   {
    "duration": 7,
    "start_time": "2022-05-17T11:34:21.979Z"
   },
   {
    "duration": 13,
    "start_time": "2022-05-17T11:34:21.988Z"
   },
   {
    "duration": 161,
    "start_time": "2022-05-17T11:34:22.003Z"
   },
   {
    "duration": 3,
    "start_time": "2022-05-18T16:17:21.711Z"
   },
   {
    "duration": 27,
    "start_time": "2022-05-18T16:17:21.716Z"
   },
   {
    "duration": 23,
    "start_time": "2022-05-18T16:17:21.745Z"
   },
   {
    "duration": 19,
    "start_time": "2022-05-18T16:17:21.770Z"
   },
   {
    "duration": 7,
    "start_time": "2022-05-18T16:17:21.792Z"
   },
   {
    "duration": 8,
    "start_time": "2022-05-18T16:17:21.801Z"
   },
   {
    "duration": 8,
    "start_time": "2022-05-18T16:17:21.811Z"
   },
   {
    "duration": 5,
    "start_time": "2022-05-18T16:17:24.684Z"
   },
   {
    "duration": 10,
    "start_time": "2022-05-18T16:17:26.898Z"
   },
   {
    "duration": 3,
    "start_time": "2022-05-18T16:17:36.750Z"
   },
   {
    "duration": 20,
    "start_time": "2022-05-18T16:17:36.755Z"
   },
   {
    "duration": 21,
    "start_time": "2022-05-18T16:17:36.776Z"
   },
   {
    "duration": 9,
    "start_time": "2022-05-18T16:17:36.799Z"
   },
   {
    "duration": 9,
    "start_time": "2022-05-18T16:17:36.810Z"
   },
   {
    "duration": 9,
    "start_time": "2022-05-18T16:17:36.821Z"
   },
   {
    "duration": 8,
    "start_time": "2022-05-18T16:17:36.831Z"
   },
   {
    "duration": 7,
    "start_time": "2022-05-18T16:18:01.428Z"
   },
   {
    "duration": 10,
    "start_time": "2022-05-18T16:18:02.310Z"
   },
   {
    "duration": 4,
    "start_time": "2022-05-18T16:18:30.744Z"
   },
   {
    "duration": 40,
    "start_time": "2022-05-18T16:18:31.433Z"
   },
   {
    "duration": 5,
    "start_time": "2022-05-18T16:18:38.538Z"
   },
   {
    "duration": 60,
    "start_time": "2022-05-18T16:18:38.952Z"
   },
   {
    "duration": 4,
    "start_time": "2022-05-18T16:19:07.924Z"
   },
   {
    "duration": 9,
    "start_time": "2022-05-18T16:19:08.364Z"
   },
   {
    "duration": 4,
    "start_time": "2022-05-18T16:19:21.128Z"
   },
   {
    "duration": 13,
    "start_time": "2022-05-18T16:19:21.564Z"
   },
   {
    "duration": 5,
    "start_time": "2022-05-18T16:19:25.954Z"
   },
   {
    "duration": 19,
    "start_time": "2022-05-18T16:19:26.438Z"
   },
   {
    "duration": 5,
    "start_time": "2022-05-18T16:19:33.408Z"
   },
   {
    "duration": 12,
    "start_time": "2022-05-18T16:19:33.832Z"
   },
   {
    "duration": 1013,
    "start_time": "2022-05-18T18:34:48.396Z"
   },
   {
    "duration": 86,
    "start_time": "2022-05-18T18:34:49.411Z"
   },
   {
    "duration": 91,
    "start_time": "2022-05-18T18:34:49.499Z"
   },
   {
    "duration": 15,
    "start_time": "2022-05-18T18:34:49.592Z"
   },
   {
    "duration": 9,
    "start_time": "2022-05-18T18:34:49.610Z"
   },
   {
    "duration": 31,
    "start_time": "2022-05-18T18:34:49.621Z"
   },
   {
    "duration": 37,
    "start_time": "2022-05-18T18:34:49.655Z"
   },
   {
    "duration": 5,
    "start_time": "2022-05-18T18:35:14.721Z"
   },
   {
    "duration": 7,
    "start_time": "2022-05-18T18:35:16.241Z"
   },
   {
    "duration": 5,
    "start_time": "2022-05-18T18:35:20.449Z"
   },
   {
    "duration": 9,
    "start_time": "2022-05-18T18:35:20.975Z"
   },
   {
    "duration": 981,
    "start_time": "2022-05-18T18:35:32.925Z"
   },
   {
    "duration": 20,
    "start_time": "2022-05-18T18:35:33.909Z"
   },
   {
    "duration": 96,
    "start_time": "2022-05-18T18:35:33.933Z"
   },
   {
    "duration": 11,
    "start_time": "2022-05-18T18:35:34.032Z"
   },
   {
    "duration": 20,
    "start_time": "2022-05-18T18:35:34.045Z"
   },
   {
    "duration": 6,
    "start_time": "2022-05-18T18:35:34.067Z"
   },
   {
    "duration": 12,
    "start_time": "2022-05-18T18:35:34.075Z"
   },
   {
    "duration": 16,
    "start_time": "2022-05-18T18:35:34.088Z"
   },
   {
    "duration": 171,
    "start_time": "2022-05-18T18:35:34.106Z"
   },
   {
    "duration": 197,
    "start_time": "2022-05-18T18:35:34.282Z"
   },
   {
    "duration": 3,
    "start_time": "2022-05-18T18:35:48.419Z"
   },
   {
    "duration": 23,
    "start_time": "2022-05-18T18:35:48.425Z"
   },
   {
    "duration": 31,
    "start_time": "2022-05-18T18:35:48.450Z"
   },
   {
    "duration": 14,
    "start_time": "2022-05-18T18:35:48.484Z"
   },
   {
    "duration": 5,
    "start_time": "2022-05-18T18:35:48.500Z"
   },
   {
    "duration": 8,
    "start_time": "2022-05-18T18:35:48.507Z"
   },
   {
    "duration": 8,
    "start_time": "2022-05-18T18:35:48.516Z"
   },
   {
    "duration": 45,
    "start_time": "2022-05-18T18:35:48.526Z"
   },
   {
    "duration": 105,
    "start_time": "2022-05-18T18:35:48.574Z"
   },
   {
    "duration": 212,
    "start_time": "2022-05-18T18:35:48.681Z"
   },
   {
    "duration": 3,
    "start_time": "2022-05-18T18:36:11.808Z"
   },
   {
    "duration": 22,
    "start_time": "2022-05-18T18:36:11.813Z"
   },
   {
    "duration": 25,
    "start_time": "2022-05-18T18:36:11.837Z"
   },
   {
    "duration": 11,
    "start_time": "2022-05-18T18:36:11.864Z"
   },
   {
    "duration": 7,
    "start_time": "2022-05-18T18:36:11.879Z"
   },
   {
    "duration": 9,
    "start_time": "2022-05-18T18:36:11.887Z"
   },
   {
    "duration": 10,
    "start_time": "2022-05-18T18:36:11.898Z"
   },
   {
    "duration": 13,
    "start_time": "2022-05-18T18:36:11.910Z"
   },
   {
    "duration": 16,
    "start_time": "2022-05-18T18:36:11.966Z"
   },
   {
    "duration": 282,
    "start_time": "2022-05-18T18:36:11.984Z"
   },
   {
    "duration": 4,
    "start_time": "2022-05-18T18:38:13.871Z"
   },
   {
    "duration": 26,
    "start_time": "2022-05-18T18:38:13.881Z"
   },
   {
    "duration": 25,
    "start_time": "2022-05-18T18:38:13.908Z"
   },
   {
    "duration": 14,
    "start_time": "2022-05-18T18:38:13.935Z"
   },
   {
    "duration": 7,
    "start_time": "2022-05-18T18:38:13.952Z"
   },
   {
    "duration": 6,
    "start_time": "2022-05-18T18:38:13.964Z"
   },
   {
    "duration": 4,
    "start_time": "2022-05-18T18:38:13.972Z"
   },
   {
    "duration": 7,
    "start_time": "2022-05-18T18:38:13.978Z"
   },
   {
    "duration": 81,
    "start_time": "2022-05-18T18:38:13.987Z"
   },
   {
    "duration": 106,
    "start_time": "2022-05-18T18:38:14.069Z"
   },
   {
    "duration": 971,
    "start_time": "2022-05-18T18:38:21.739Z"
   },
   {
    "duration": 21,
    "start_time": "2022-05-18T18:38:22.712Z"
   },
   {
    "duration": 84,
    "start_time": "2022-05-18T18:38:22.735Z"
   },
   {
    "duration": 11,
    "start_time": "2022-05-18T18:38:22.821Z"
   },
   {
    "duration": 5,
    "start_time": "2022-05-18T18:38:22.833Z"
   },
   {
    "duration": 8,
    "start_time": "2022-05-18T18:38:22.840Z"
   },
   {
    "duration": 5,
    "start_time": "2022-05-18T18:38:22.864Z"
   },
   {
    "duration": 13,
    "start_time": "2022-05-18T18:38:22.871Z"
   },
   {
    "duration": 85,
    "start_time": "2022-05-18T18:38:22.886Z"
   },
   {
    "duration": 103,
    "start_time": "2022-05-18T18:38:22.974Z"
   }
  ],
  "kernelspec": {
   "display_name": "Python 3",
   "language": "python",
   "name": "python3"
  },
  "language_info": {
   "codemirror_mode": {
    "name": "ipython",
    "version": 3
   },
   "file_extension": ".py",
   "mimetype": "text/x-python",
   "name": "python",
   "nbconvert_exporter": "python",
   "pygments_lexer": "ipython3",
   "version": "3.8.5"
  },
  "toc": {
   "base_numbering": 1,
   "nav_menu": {},
   "number_sections": true,
   "sideBar": true,
   "skip_h1_title": false,
   "title_cell": "Содержание",
   "title_sidebar": "Contents",
   "toc_cell": true,
   "toc_position": {},
   "toc_section_display": true,
   "toc_window_display": true
  }
 },
 "nbformat": 4,
 "nbformat_minor": 2
}
