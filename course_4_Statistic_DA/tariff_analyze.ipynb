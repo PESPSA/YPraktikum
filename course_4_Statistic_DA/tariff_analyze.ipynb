{
 "cells": [
  {
   "cell_type": "markdown",
   "metadata": {
    "toc": true
   },
   "source": [
    "<h1>Содержание<span class=\"tocSkip\"></span></h1>\n",
    "<div class=\"toc\"><ul class=\"toc-item\"><li><span><a href=\"#Определение-перспективного-тарифа-для-телеком-компании\" data-toc-modified-id=\"Определение-перспективного-тарифа-для-телеком-компании-1\"><span class=\"toc-item-num\">1&nbsp;&nbsp;</span>Определение перспективного тарифа для телеком-компании</a></span><ul class=\"toc-item\"><li><span><a href=\"#Описание-проекта\" data-toc-modified-id=\"Описание-проекта-1.1\"><span class=\"toc-item-num\">1.1&nbsp;&nbsp;</span>Описание проекта</a></span><ul class=\"toc-item\"><li><span><a href=\"#Описание-тарифов\" data-toc-modified-id=\"Описание-тарифов-1.1.1\"><span class=\"toc-item-num\">1.1.1&nbsp;&nbsp;</span>Описание тарифов</a></span></li><li><span><a href=\"#Описание-данных\" data-toc-modified-id=\"Описание-данных-1.1.2\"><span class=\"toc-item-num\">1.1.2&nbsp;&nbsp;</span>Описание данных</a></span></li></ul></li><li><span><a href=\"#План-работы\" data-toc-modified-id=\"План-работы-1.2\"><span class=\"toc-item-num\">1.2&nbsp;&nbsp;</span>План работы</a></span></li><li><span><a href=\"#Результат-работы\" data-toc-modified-id=\"Результат-работы-1.3\"><span class=\"toc-item-num\">1.3&nbsp;&nbsp;</span>Результат работы</a></span></li></ul></li><li><span><a href=\"#Открытие-и-подготовка-данных\" data-toc-modified-id=\"Открытие-и-подготовка-данных-2\"><span class=\"toc-item-num\">2&nbsp;&nbsp;</span>Открытие и подготовка данных</a></span><ul class=\"toc-item\"><li><span><a href=\"#Вывод\" data-toc-modified-id=\"Вывод-2.1\"><span class=\"toc-item-num\">2.1&nbsp;&nbsp;</span>Вывод</a></span></li></ul></li><li><span><a href=\"#Предобработка-и-анализ-данных\" data-toc-modified-id=\"Предобработка-и-анализ-данных-3\"><span class=\"toc-item-num\">3&nbsp;&nbsp;</span>Предобработка и анализ данных</a></span><ul class=\"toc-item\"><li><span><a href=\"#Добавление-столбцов-и-анализ-выбросов\" data-toc-modified-id=\"Добавление-столбцов-и-анализ-выбросов-3.1\"><span class=\"toc-item-num\">3.1&nbsp;&nbsp;</span>Добавление столбцов и анализ выбросов</a></span><ul class=\"toc-item\"><li><span><a href=\"#Вывод\" data-toc-modified-id=\"Вывод-3.1.1\"><span class=\"toc-item-num\">3.1.1&nbsp;&nbsp;</span>Вывод</a></span></li></ul></li><li><span><a href=\"#Создание-и-изучение-дополнительных-столбцов\" data-toc-modified-id=\"Создание-и-изучение-дополнительных-столбцов-3.2\"><span class=\"toc-item-num\">3.2&nbsp;&nbsp;</span>Создание и изучение дополнительных столбцов</a></span><ul class=\"toc-item\"><li><span><a href=\"#Вывод\" data-toc-modified-id=\"Вывод-3.2.1\"><span class=\"toc-item-num\">3.2.1&nbsp;&nbsp;</span>Вывод</a></span></li></ul></li><li><span><a href=\"#Анализ-данных\" data-toc-modified-id=\"Анализ-данных-3.3\"><span class=\"toc-item-num\">3.3&nbsp;&nbsp;</span>Анализ данных</a></span><ul class=\"toc-item\"><li><span><a href=\"#Вывод\" data-toc-modified-id=\"Вывод-3.3.1\"><span class=\"toc-item-num\">3.3.1&nbsp;&nbsp;</span>Вывод</a></span></li></ul></li></ul></li><li><span><a href=\"#Проверка-гипотез\" data-toc-modified-id=\"Проверка-гипотез-4\"><span class=\"toc-item-num\">4&nbsp;&nbsp;</span>Проверка гипотез</a></span><ul class=\"toc-item\"><li><span><a href=\"#Вывод\" data-toc-modified-id=\"Вывод-4.1\"><span class=\"toc-item-num\">4.1&nbsp;&nbsp;</span>Вывод</a></span></li></ul></li><li><span><a href=\"#Общий-вывод\" data-toc-modified-id=\"Общий-вывод-5\"><span class=\"toc-item-num\">5&nbsp;&nbsp;</span>Общий вывод</a></span></li></ul></div>"
   ]
  },
  {
   "cell_type": "markdown",
   "metadata": {},
   "source": [
    "# Определение перспективного тарифа для телеком-компании\n",
    "\n",
    "## Описание проекта\n",
    "Вы аналитик компании «Мегалайн» — федерального оператора сотовой связи. Клиентам предлагают два тарифных плана: «Смарт» и «Ультра». Чтобы скорректировать рекламный бюджет, коммерческий департамент хочет понять, какой тариф приносит больше денег.\n",
    "Вам предстоит сделать предварительный анализ тарифов на небольшой выборке клиентов. В вашем распоряжении данные 500 пользователей «Мегалайна»: кто они, откуда, каким тарифом пользуются, сколько звонков и сообщений каждый отправил за 2018 год. Нужно проанализировать поведение клиентов и сделать вывод — какой тариф лучше.\n",
    "\n",
    "### Описание тарифов\n",
    "Тариф «Смарт»\n",
    "1. Ежемесячная плата: 550 рублей\n",
    "2. Включено 500 минут разговора, 50 сообщений и 15 Гб интернет-трафика\n",
    "3. Стоимость услуг сверх тарифного пакета: 1. минута разговора: 3 рубля («Мегалайн» всегда округляет вверх значения минут и мегабайтов. Если пользователь проговорил всего 1 секунду, в тарифе засчитывается целая минута); 2. сообщение: 3 рубля; 3. 1 Гб интернет-трафика: 200 рублей.\n",
    "\n",
    "Тариф «Ультра»\n",
    "1. Ежемесячная плата: 1950 рублей\n",
    "2. Включено 3000 минут разговора, 1000 сообщений и 30 Гб интернет-трафика\n",
    "3. Стоимость услуг сверх тарифного пакета: 1. минута разговора: 1 рубль; 2. сообщение: 1 рубль; 3. 1 Гб интернет-трафика: 150 рублей.\n",
    "\n",
    "### Описание данных\n",
    "Таблица `users` (информация о пользователях):\n",
    "* user_id — уникальный идентификатор пользователя\n",
    "* first_name — имя пользователя\n",
    "* last_name — фамилия пользователя\n",
    "* age — возраст пользователя (годы)\n",
    "* reg_date — дата подключения тарифа (день, месяц, год)\n",
    "* churn_date — дата прекращения пользования тарифом (если значение пропущено, то тариф ещё действовал на момент выгрузки данных)\n",
    "* city — город проживания пользователя\n",
    "* tarif — название тарифного плана\n",
    "\n",
    "Таблица `calls` (информация о звонках):\n",
    "* id — уникальный номер звонка\n",
    "* call_date — дата звонка\n",
    "* duration — длительность звонка в минутах\n",
    "* user_id — идентификатор пользователя, сделавшего звонок\n",
    "\n",
    "Таблица `messages` (информация о сообщениях):\n",
    "* id — уникальный номер сообщения\n",
    "* message_date — дата сообщения\n",
    "* user_id — идентификатор пользователя, отправившего сообщение\n",
    "\n",
    "Таблица `internet` (информация об интернет-сессиях):\n",
    "* id — уникальный номер сессии\n",
    "* mb_used — объём потраченного за сессию интернет-трафика (в мегабайтах)\n",
    "* session_date — дата интернет-сессии\n",
    "* user_id — идентификатор пользователя\n",
    "\n",
    "Таблица `tariffs` (информация о тарифах):\n",
    "* tariff_name — название тарифа\n",
    "* rub_monthly_fee — ежемесячная абонентская плата в рублях\n",
    "* minutes_included — количество минут разговора в месяц, включённых в абонентскую плату\n",
    "* messages_included — количество сообщений в месяц, включённых в абонентскую плату\n",
    "* mb_per_month_included — объём интернет-трафика, включённого в абонентскую плату (в мегабайтах)\n",
    "* rub_per_minute — стоимость минуты разговора сверх тарифного пакета (например, если в тарифе 100 минут разговора в месяц, то со 101 минуты будет взиматься плата)\n",
    "* rub_per_message — стоимость отправки сообщения сверх тарифного пакета\n",
    "* rub_per_gb — стоимость дополнительного гигабайта интернет-трафика сверх тарифного пакета (1 гигабайт = 1024 мегабайта)\n",
    "\n",
    "## План работы\n",
    "Для достижения желаемого результата требуется открыть пять файлов данными и изучить информацию в них, после чего обьеденить их для более удобной работы, далее провести работу над предобработкой данных и добавить вспомогательные столбцы, и наконец провести исследовательский анализ, а именно:\n",
    "- Сколько минут разговора, сколько сообщений и какой объём интернет-трафика требуется пользователям каждого тарифа в месяц\n",
    "- Посчитать среднее количество, дисперсию и стандартное отклонение показателей выше\n",
    "- Построить гистограммы и описать распределения.\n",
    "\n",
    "А так же требуется проверить следующие гипотезы:\n",
    "- средняя выручка пользователей тарифов «Ультра» и «Смарт» различаются;\n",
    "- средняя выручка пользователей из Москвы отличается от выручки пользователей из других регионов.\n",
    "\n",
    "\n",
    "## Результат работы\n",
    "Результатом работы является итог, подведенный в ходе исследовательского анализа, а также подробная выкладка по нему."
   ]
  },
  {
   "cell_type": "markdown",
   "metadata": {
    "id": "3bSlkCsbgFyL"
   },
   "source": [
    "# Открытие и подготовка данных"
   ]
  },
  {
   "cell_type": "code",
   "execution_count": 2,
   "metadata": {},
   "outputs": [],
   "source": [
    "#импортируем необходимые библиотеки\n",
    "import pandas as pd\n",
    "import numpy as np\n",
    "from scipy import stats as st\n",
    "import seaborn as sns\n",
    "import matplotlib.pyplot as plt"
   ]
  },
  {
   "cell_type": "code",
   "execution_count": 3,
   "metadata": {},
   "outputs": [],
   "source": [
    "#откроем файлы и изучим данные\n",
    "calls_df = pd.read_csv('/datasets/calls.csv', parse_dates=['call_date'])\n",
    "internet_df = pd.read_csv('/datasets/internet.csv', parse_dates=['session_date'], index_col=0)\n",
    "messages_df = pd.read_csv('/datasets/messages.csv', parse_dates=['message_date'])\n",
    "tariffs_df = pd.read_csv('/datasets/tariffs.csv')\n",
    "users_df = pd.read_csv('/datasets/users.csv', parse_dates=['reg_date', 'churn_date'])"
   ]
  },
  {
   "cell_type": "code",
   "execution_count": 4,
   "metadata": {
    "scrolled": true
   },
   "outputs": [
    {
     "data": {
      "text/html": [
       "<div>\n",
       "<style scoped>\n",
       "    .dataframe tbody tr th:only-of-type {\n",
       "        vertical-align: middle;\n",
       "    }\n",
       "\n",
       "    .dataframe tbody tr th {\n",
       "        vertical-align: top;\n",
       "    }\n",
       "\n",
       "    .dataframe thead th {\n",
       "        text-align: right;\n",
       "    }\n",
       "</style>\n",
       "<table border=\"1\" class=\"dataframe\">\n",
       "  <thead>\n",
       "    <tr style=\"text-align: right;\">\n",
       "      <th></th>\n",
       "      <th>id</th>\n",
       "      <th>call_date</th>\n",
       "      <th>duration</th>\n",
       "      <th>user_id</th>\n",
       "    </tr>\n",
       "  </thead>\n",
       "  <tbody>\n",
       "    <tr>\n",
       "      <td>0</td>\n",
       "      <td>1000_0</td>\n",
       "      <td>2018-07-25</td>\n",
       "      <td>0.00</td>\n",
       "      <td>1000</td>\n",
       "    </tr>\n",
       "    <tr>\n",
       "      <td>1</td>\n",
       "      <td>1000_1</td>\n",
       "      <td>2018-08-17</td>\n",
       "      <td>0.00</td>\n",
       "      <td>1000</td>\n",
       "    </tr>\n",
       "    <tr>\n",
       "      <td>2</td>\n",
       "      <td>1000_2</td>\n",
       "      <td>2018-06-11</td>\n",
       "      <td>2.85</td>\n",
       "      <td>1000</td>\n",
       "    </tr>\n",
       "    <tr>\n",
       "      <td>3</td>\n",
       "      <td>1000_3</td>\n",
       "      <td>2018-09-21</td>\n",
       "      <td>13.80</td>\n",
       "      <td>1000</td>\n",
       "    </tr>\n",
       "    <tr>\n",
       "      <td>4</td>\n",
       "      <td>1000_4</td>\n",
       "      <td>2018-12-15</td>\n",
       "      <td>5.18</td>\n",
       "      <td>1000</td>\n",
       "    </tr>\n",
       "  </tbody>\n",
       "</table>\n",
       "</div>"
      ],
      "text/plain": [
       "       id  call_date  duration  user_id\n",
       "0  1000_0 2018-07-25      0.00     1000\n",
       "1  1000_1 2018-08-17      0.00     1000\n",
       "2  1000_2 2018-06-11      2.85     1000\n",
       "3  1000_3 2018-09-21     13.80     1000\n",
       "4  1000_4 2018-12-15      5.18     1000"
      ]
     },
     "metadata": {},
     "output_type": "display_data"
    },
    {
     "name": "stdout",
     "output_type": "stream",
     "text": [
      "<class 'pandas.core.frame.DataFrame'>\n",
      "RangeIndex: 202607 entries, 0 to 202606\n",
      "Data columns (total 4 columns):\n",
      "id           202607 non-null object\n",
      "call_date    202607 non-null datetime64[ns]\n",
      "duration     202607 non-null float64\n",
      "user_id      202607 non-null int64\n",
      "dtypes: datetime64[ns](1), float64(1), int64(1), object(1)\n",
      "memory usage: 6.2+ MB\n"
     ]
    },
    {
     "data": {
      "text/plain": [
       "None"
      ]
     },
     "metadata": {},
     "output_type": "display_data"
    },
    {
     "data": {
      "text/html": [
       "<div>\n",
       "<style scoped>\n",
       "    .dataframe tbody tr th:only-of-type {\n",
       "        vertical-align: middle;\n",
       "    }\n",
       "\n",
       "    .dataframe tbody tr th {\n",
       "        vertical-align: top;\n",
       "    }\n",
       "\n",
       "    .dataframe thead th {\n",
       "        text-align: right;\n",
       "    }\n",
       "</style>\n",
       "<table border=\"1\" class=\"dataframe\">\n",
       "  <thead>\n",
       "    <tr style=\"text-align: right;\">\n",
       "      <th></th>\n",
       "      <th>duration</th>\n",
       "      <th>user_id</th>\n",
       "    </tr>\n",
       "  </thead>\n",
       "  <tbody>\n",
       "    <tr>\n",
       "      <td>count</td>\n",
       "      <td>202607.000000</td>\n",
       "      <td>202607.000000</td>\n",
       "    </tr>\n",
       "    <tr>\n",
       "      <td>mean</td>\n",
       "      <td>6.755887</td>\n",
       "      <td>1253.940619</td>\n",
       "    </tr>\n",
       "    <tr>\n",
       "      <td>std</td>\n",
       "      <td>5.843365</td>\n",
       "      <td>144.722751</td>\n",
       "    </tr>\n",
       "    <tr>\n",
       "      <td>min</td>\n",
       "      <td>0.000000</td>\n",
       "      <td>1000.000000</td>\n",
       "    </tr>\n",
       "    <tr>\n",
       "      <td>25%</td>\n",
       "      <td>1.300000</td>\n",
       "      <td>1126.000000</td>\n",
       "    </tr>\n",
       "    <tr>\n",
       "      <td>50%</td>\n",
       "      <td>6.000000</td>\n",
       "      <td>1260.000000</td>\n",
       "    </tr>\n",
       "    <tr>\n",
       "      <td>75%</td>\n",
       "      <td>10.700000</td>\n",
       "      <td>1379.000000</td>\n",
       "    </tr>\n",
       "    <tr>\n",
       "      <td>max</td>\n",
       "      <td>38.000000</td>\n",
       "      <td>1499.000000</td>\n",
       "    </tr>\n",
       "  </tbody>\n",
       "</table>\n",
       "</div>"
      ],
      "text/plain": [
       "            duration        user_id\n",
       "count  202607.000000  202607.000000\n",
       "mean        6.755887    1253.940619\n",
       "std         5.843365     144.722751\n",
       "min         0.000000    1000.000000\n",
       "25%         1.300000    1126.000000\n",
       "50%         6.000000    1260.000000\n",
       "75%        10.700000    1379.000000\n",
       "max        38.000000    1499.000000"
      ]
     },
     "execution_count": 4,
     "metadata": {},
     "output_type": "execute_result"
    }
   ],
   "source": [
    "display(calls_df.head())\n",
    "display(calls_df.info())\n",
    "calls_df.describe()"
   ]
  },
  {
   "cell_type": "code",
   "execution_count": 5,
   "metadata": {},
   "outputs": [
    {
     "data": {
      "text/html": [
       "<div>\n",
       "<style scoped>\n",
       "    .dataframe tbody tr th:only-of-type {\n",
       "        vertical-align: middle;\n",
       "    }\n",
       "\n",
       "    .dataframe tbody tr th {\n",
       "        vertical-align: top;\n",
       "    }\n",
       "\n",
       "    .dataframe thead th {\n",
       "        text-align: right;\n",
       "    }\n",
       "</style>\n",
       "<table border=\"1\" class=\"dataframe\">\n",
       "  <thead>\n",
       "    <tr style=\"text-align: right;\">\n",
       "      <th></th>\n",
       "      <th>id</th>\n",
       "      <th>mb_used</th>\n",
       "      <th>session_date</th>\n",
       "      <th>user_id</th>\n",
       "    </tr>\n",
       "  </thead>\n",
       "  <tbody>\n",
       "    <tr>\n",
       "      <td>0</td>\n",
       "      <td>1000_0</td>\n",
       "      <td>112.95</td>\n",
       "      <td>2018-11-25</td>\n",
       "      <td>1000</td>\n",
       "    </tr>\n",
       "    <tr>\n",
       "      <td>1</td>\n",
       "      <td>1000_1</td>\n",
       "      <td>1052.81</td>\n",
       "      <td>2018-09-07</td>\n",
       "      <td>1000</td>\n",
       "    </tr>\n",
       "    <tr>\n",
       "      <td>2</td>\n",
       "      <td>1000_2</td>\n",
       "      <td>1197.26</td>\n",
       "      <td>2018-06-25</td>\n",
       "      <td>1000</td>\n",
       "    </tr>\n",
       "    <tr>\n",
       "      <td>3</td>\n",
       "      <td>1000_3</td>\n",
       "      <td>550.27</td>\n",
       "      <td>2018-08-22</td>\n",
       "      <td>1000</td>\n",
       "    </tr>\n",
       "    <tr>\n",
       "      <td>4</td>\n",
       "      <td>1000_4</td>\n",
       "      <td>302.56</td>\n",
       "      <td>2018-09-24</td>\n",
       "      <td>1000</td>\n",
       "    </tr>\n",
       "  </tbody>\n",
       "</table>\n",
       "</div>"
      ],
      "text/plain": [
       "       id  mb_used session_date  user_id\n",
       "0  1000_0   112.95   2018-11-25     1000\n",
       "1  1000_1  1052.81   2018-09-07     1000\n",
       "2  1000_2  1197.26   2018-06-25     1000\n",
       "3  1000_3   550.27   2018-08-22     1000\n",
       "4  1000_4   302.56   2018-09-24     1000"
      ]
     },
     "metadata": {},
     "output_type": "display_data"
    },
    {
     "name": "stdout",
     "output_type": "stream",
     "text": [
      "<class 'pandas.core.frame.DataFrame'>\n",
      "Int64Index: 149396 entries, 0 to 149395\n",
      "Data columns (total 4 columns):\n",
      "id              149396 non-null object\n",
      "mb_used         149396 non-null float64\n",
      "session_date    149396 non-null datetime64[ns]\n",
      "user_id         149396 non-null int64\n",
      "dtypes: datetime64[ns](1), float64(1), int64(1), object(1)\n",
      "memory usage: 5.7+ MB\n"
     ]
    },
    {
     "data": {
      "text/plain": [
       "None"
      ]
     },
     "metadata": {},
     "output_type": "display_data"
    },
    {
     "data": {
      "text/html": [
       "<div>\n",
       "<style scoped>\n",
       "    .dataframe tbody tr th:only-of-type {\n",
       "        vertical-align: middle;\n",
       "    }\n",
       "\n",
       "    .dataframe tbody tr th {\n",
       "        vertical-align: top;\n",
       "    }\n",
       "\n",
       "    .dataframe thead th {\n",
       "        text-align: right;\n",
       "    }\n",
       "</style>\n",
       "<table border=\"1\" class=\"dataframe\">\n",
       "  <thead>\n",
       "    <tr style=\"text-align: right;\">\n",
       "      <th></th>\n",
       "      <th>mb_used</th>\n",
       "      <th>user_id</th>\n",
       "    </tr>\n",
       "  </thead>\n",
       "  <tbody>\n",
       "    <tr>\n",
       "      <td>count</td>\n",
       "      <td>149396.000000</td>\n",
       "      <td>149396.000000</td>\n",
       "    </tr>\n",
       "    <tr>\n",
       "      <td>mean</td>\n",
       "      <td>370.192426</td>\n",
       "      <td>1252.099842</td>\n",
       "    </tr>\n",
       "    <tr>\n",
       "      <td>std</td>\n",
       "      <td>278.300951</td>\n",
       "      <td>144.050823</td>\n",
       "    </tr>\n",
       "    <tr>\n",
       "      <td>min</td>\n",
       "      <td>0.000000</td>\n",
       "      <td>1000.000000</td>\n",
       "    </tr>\n",
       "    <tr>\n",
       "      <td>25%</td>\n",
       "      <td>138.187500</td>\n",
       "      <td>1130.000000</td>\n",
       "    </tr>\n",
       "    <tr>\n",
       "      <td>50%</td>\n",
       "      <td>348.015000</td>\n",
       "      <td>1251.000000</td>\n",
       "    </tr>\n",
       "    <tr>\n",
       "      <td>75%</td>\n",
       "      <td>559.552500</td>\n",
       "      <td>1380.000000</td>\n",
       "    </tr>\n",
       "    <tr>\n",
       "      <td>max</td>\n",
       "      <td>1724.830000</td>\n",
       "      <td>1499.000000</td>\n",
       "    </tr>\n",
       "  </tbody>\n",
       "</table>\n",
       "</div>"
      ],
      "text/plain": [
       "             mb_used        user_id\n",
       "count  149396.000000  149396.000000\n",
       "mean      370.192426    1252.099842\n",
       "std       278.300951     144.050823\n",
       "min         0.000000    1000.000000\n",
       "25%       138.187500    1130.000000\n",
       "50%       348.015000    1251.000000\n",
       "75%       559.552500    1380.000000\n",
       "max      1724.830000    1499.000000"
      ]
     },
     "execution_count": 5,
     "metadata": {},
     "output_type": "execute_result"
    }
   ],
   "source": [
    "display(internet_df.head())\n",
    "display(internet_df.info())\n",
    "internet_df.describe()"
   ]
  },
  {
   "cell_type": "code",
   "execution_count": 6,
   "metadata": {},
   "outputs": [
    {
     "data": {
      "text/html": [
       "<div>\n",
       "<style scoped>\n",
       "    .dataframe tbody tr th:only-of-type {\n",
       "        vertical-align: middle;\n",
       "    }\n",
       "\n",
       "    .dataframe tbody tr th {\n",
       "        vertical-align: top;\n",
       "    }\n",
       "\n",
       "    .dataframe thead th {\n",
       "        text-align: right;\n",
       "    }\n",
       "</style>\n",
       "<table border=\"1\" class=\"dataframe\">\n",
       "  <thead>\n",
       "    <tr style=\"text-align: right;\">\n",
       "      <th></th>\n",
       "      <th>id</th>\n",
       "      <th>message_date</th>\n",
       "      <th>user_id</th>\n",
       "    </tr>\n",
       "  </thead>\n",
       "  <tbody>\n",
       "    <tr>\n",
       "      <td>0</td>\n",
       "      <td>1000_0</td>\n",
       "      <td>2018-06-27</td>\n",
       "      <td>1000</td>\n",
       "    </tr>\n",
       "    <tr>\n",
       "      <td>1</td>\n",
       "      <td>1000_1</td>\n",
       "      <td>2018-10-08</td>\n",
       "      <td>1000</td>\n",
       "    </tr>\n",
       "    <tr>\n",
       "      <td>2</td>\n",
       "      <td>1000_2</td>\n",
       "      <td>2018-08-04</td>\n",
       "      <td>1000</td>\n",
       "    </tr>\n",
       "    <tr>\n",
       "      <td>3</td>\n",
       "      <td>1000_3</td>\n",
       "      <td>2018-06-16</td>\n",
       "      <td>1000</td>\n",
       "    </tr>\n",
       "    <tr>\n",
       "      <td>4</td>\n",
       "      <td>1000_4</td>\n",
       "      <td>2018-12-05</td>\n",
       "      <td>1000</td>\n",
       "    </tr>\n",
       "  </tbody>\n",
       "</table>\n",
       "</div>"
      ],
      "text/plain": [
       "       id message_date  user_id\n",
       "0  1000_0   2018-06-27     1000\n",
       "1  1000_1   2018-10-08     1000\n",
       "2  1000_2   2018-08-04     1000\n",
       "3  1000_3   2018-06-16     1000\n",
       "4  1000_4   2018-12-05     1000"
      ]
     },
     "metadata": {},
     "output_type": "display_data"
    },
    {
     "name": "stdout",
     "output_type": "stream",
     "text": [
      "<class 'pandas.core.frame.DataFrame'>\n",
      "RangeIndex: 123036 entries, 0 to 123035\n",
      "Data columns (total 3 columns):\n",
      "id              123036 non-null object\n",
      "message_date    123036 non-null datetime64[ns]\n",
      "user_id         123036 non-null int64\n",
      "dtypes: datetime64[ns](1), int64(1), object(1)\n",
      "memory usage: 2.8+ MB\n"
     ]
    }
   ],
   "source": [
    "display(messages_df.head())\n",
    "messages_df.info()"
   ]
  },
  {
   "cell_type": "code",
   "execution_count": 7,
   "metadata": {},
   "outputs": [
    {
     "data": {
      "text/html": [
       "<div>\n",
       "<style scoped>\n",
       "    .dataframe tbody tr th:only-of-type {\n",
       "        vertical-align: middle;\n",
       "    }\n",
       "\n",
       "    .dataframe tbody tr th {\n",
       "        vertical-align: top;\n",
       "    }\n",
       "\n",
       "    .dataframe thead th {\n",
       "        text-align: right;\n",
       "    }\n",
       "</style>\n",
       "<table border=\"1\" class=\"dataframe\">\n",
       "  <thead>\n",
       "    <tr style=\"text-align: right;\">\n",
       "      <th></th>\n",
       "      <th>messages_included</th>\n",
       "      <th>mb_per_month_included</th>\n",
       "      <th>minutes_included</th>\n",
       "      <th>rub_monthly_fee</th>\n",
       "      <th>rub_per_gb</th>\n",
       "      <th>rub_per_message</th>\n",
       "      <th>rub_per_minute</th>\n",
       "      <th>tariff_name</th>\n",
       "    </tr>\n",
       "  </thead>\n",
       "  <tbody>\n",
       "    <tr>\n",
       "      <td>0</td>\n",
       "      <td>50</td>\n",
       "      <td>15360</td>\n",
       "      <td>500</td>\n",
       "      <td>550</td>\n",
       "      <td>200</td>\n",
       "      <td>3</td>\n",
       "      <td>3</td>\n",
       "      <td>smart</td>\n",
       "    </tr>\n",
       "    <tr>\n",
       "      <td>1</td>\n",
       "      <td>1000</td>\n",
       "      <td>30720</td>\n",
       "      <td>3000</td>\n",
       "      <td>1950</td>\n",
       "      <td>150</td>\n",
       "      <td>1</td>\n",
       "      <td>1</td>\n",
       "      <td>ultra</td>\n",
       "    </tr>\n",
       "  </tbody>\n",
       "</table>\n",
       "</div>"
      ],
      "text/plain": [
       "   messages_included  mb_per_month_included  minutes_included  \\\n",
       "0                 50                  15360               500   \n",
       "1               1000                  30720              3000   \n",
       "\n",
       "   rub_monthly_fee  rub_per_gb  rub_per_message  rub_per_minute tariff_name  \n",
       "0              550         200                3               3       smart  \n",
       "1             1950         150                1               1       ultra  "
      ]
     },
     "metadata": {},
     "output_type": "display_data"
    },
    {
     "name": "stdout",
     "output_type": "stream",
     "text": [
      "<class 'pandas.core.frame.DataFrame'>\n",
      "RangeIndex: 2 entries, 0 to 1\n",
      "Data columns (total 8 columns):\n",
      "messages_included        2 non-null int64\n",
      "mb_per_month_included    2 non-null int64\n",
      "minutes_included         2 non-null int64\n",
      "rub_monthly_fee          2 non-null int64\n",
      "rub_per_gb               2 non-null int64\n",
      "rub_per_message          2 non-null int64\n",
      "rub_per_minute           2 non-null int64\n",
      "tariff_name              2 non-null object\n",
      "dtypes: int64(7), object(1)\n",
      "memory usage: 256.0+ bytes\n"
     ]
    }
   ],
   "source": [
    "display(tariffs_df.head())\n",
    "tariffs_df.info()"
   ]
  },
  {
   "cell_type": "code",
   "execution_count": 8,
   "metadata": {},
   "outputs": [
    {
     "data": {
      "text/html": [
       "<div>\n",
       "<style scoped>\n",
       "    .dataframe tbody tr th:only-of-type {\n",
       "        vertical-align: middle;\n",
       "    }\n",
       "\n",
       "    .dataframe tbody tr th {\n",
       "        vertical-align: top;\n",
       "    }\n",
       "\n",
       "    .dataframe thead th {\n",
       "        text-align: right;\n",
       "    }\n",
       "</style>\n",
       "<table border=\"1\" class=\"dataframe\">\n",
       "  <thead>\n",
       "    <tr style=\"text-align: right;\">\n",
       "      <th></th>\n",
       "      <th>user_id</th>\n",
       "      <th>age</th>\n",
       "      <th>churn_date</th>\n",
       "      <th>city</th>\n",
       "      <th>first_name</th>\n",
       "      <th>last_name</th>\n",
       "      <th>reg_date</th>\n",
       "      <th>tariff</th>\n",
       "    </tr>\n",
       "  </thead>\n",
       "  <tbody>\n",
       "    <tr>\n",
       "      <td>0</td>\n",
       "      <td>1000</td>\n",
       "      <td>52</td>\n",
       "      <td>NaT</td>\n",
       "      <td>Краснодар</td>\n",
       "      <td>Рафаил</td>\n",
       "      <td>Верещагин</td>\n",
       "      <td>2018-05-25</td>\n",
       "      <td>ultra</td>\n",
       "    </tr>\n",
       "    <tr>\n",
       "      <td>1</td>\n",
       "      <td>1001</td>\n",
       "      <td>41</td>\n",
       "      <td>NaT</td>\n",
       "      <td>Москва</td>\n",
       "      <td>Иван</td>\n",
       "      <td>Ежов</td>\n",
       "      <td>2018-11-01</td>\n",
       "      <td>smart</td>\n",
       "    </tr>\n",
       "    <tr>\n",
       "      <td>2</td>\n",
       "      <td>1002</td>\n",
       "      <td>59</td>\n",
       "      <td>NaT</td>\n",
       "      <td>Стерлитамак</td>\n",
       "      <td>Евгений</td>\n",
       "      <td>Абрамович</td>\n",
       "      <td>2018-06-17</td>\n",
       "      <td>smart</td>\n",
       "    </tr>\n",
       "    <tr>\n",
       "      <td>3</td>\n",
       "      <td>1003</td>\n",
       "      <td>23</td>\n",
       "      <td>NaT</td>\n",
       "      <td>Москва</td>\n",
       "      <td>Белла</td>\n",
       "      <td>Белякова</td>\n",
       "      <td>2018-08-17</td>\n",
       "      <td>ultra</td>\n",
       "    </tr>\n",
       "    <tr>\n",
       "      <td>4</td>\n",
       "      <td>1004</td>\n",
       "      <td>68</td>\n",
       "      <td>NaT</td>\n",
       "      <td>Новокузнецк</td>\n",
       "      <td>Татьяна</td>\n",
       "      <td>Авдеенко</td>\n",
       "      <td>2018-05-14</td>\n",
       "      <td>ultra</td>\n",
       "    </tr>\n",
       "  </tbody>\n",
       "</table>\n",
       "</div>"
      ],
      "text/plain": [
       "   user_id  age churn_date         city first_name  last_name   reg_date  \\\n",
       "0     1000   52        NaT    Краснодар     Рафаил  Верещагин 2018-05-25   \n",
       "1     1001   41        NaT       Москва       Иван       Ежов 2018-11-01   \n",
       "2     1002   59        NaT  Стерлитамак    Евгений  Абрамович 2018-06-17   \n",
       "3     1003   23        NaT       Москва      Белла   Белякова 2018-08-17   \n",
       "4     1004   68        NaT  Новокузнецк    Татьяна   Авдеенко 2018-05-14   \n",
       "\n",
       "  tariff  \n",
       "0  ultra  \n",
       "1  smart  \n",
       "2  smart  \n",
       "3  ultra  \n",
       "4  ultra  "
      ]
     },
     "metadata": {},
     "output_type": "display_data"
    },
    {
     "name": "stdout",
     "output_type": "stream",
     "text": [
      "<class 'pandas.core.frame.DataFrame'>\n",
      "RangeIndex: 500 entries, 0 to 499\n",
      "Data columns (total 8 columns):\n",
      "user_id       500 non-null int64\n",
      "age           500 non-null int64\n",
      "churn_date    38 non-null datetime64[ns]\n",
      "city          500 non-null object\n",
      "first_name    500 non-null object\n",
      "last_name     500 non-null object\n",
      "reg_date      500 non-null datetime64[ns]\n",
      "tariff        500 non-null object\n",
      "dtypes: datetime64[ns](2), int64(2), object(4)\n",
      "memory usage: 31.4+ KB\n"
     ]
    },
    {
     "data": {
      "text/plain": [
       "None"
      ]
     },
     "metadata": {},
     "output_type": "display_data"
    },
    {
     "data": {
      "text/html": [
       "<div>\n",
       "<style scoped>\n",
       "    .dataframe tbody tr th:only-of-type {\n",
       "        vertical-align: middle;\n",
       "    }\n",
       "\n",
       "    .dataframe tbody tr th {\n",
       "        vertical-align: top;\n",
       "    }\n",
       "\n",
       "    .dataframe thead th {\n",
       "        text-align: right;\n",
       "    }\n",
       "</style>\n",
       "<table border=\"1\" class=\"dataframe\">\n",
       "  <thead>\n",
       "    <tr style=\"text-align: right;\">\n",
       "      <th></th>\n",
       "      <th>user_id</th>\n",
       "      <th>age</th>\n",
       "    </tr>\n",
       "  </thead>\n",
       "  <tbody>\n",
       "    <tr>\n",
       "      <td>count</td>\n",
       "      <td>500.000000</td>\n",
       "      <td>500.00000</td>\n",
       "    </tr>\n",
       "    <tr>\n",
       "      <td>mean</td>\n",
       "      <td>1249.500000</td>\n",
       "      <td>46.58800</td>\n",
       "    </tr>\n",
       "    <tr>\n",
       "      <td>std</td>\n",
       "      <td>144.481833</td>\n",
       "      <td>16.66763</td>\n",
       "    </tr>\n",
       "    <tr>\n",
       "      <td>min</td>\n",
       "      <td>1000.000000</td>\n",
       "      <td>18.00000</td>\n",
       "    </tr>\n",
       "    <tr>\n",
       "      <td>25%</td>\n",
       "      <td>1124.750000</td>\n",
       "      <td>32.00000</td>\n",
       "    </tr>\n",
       "    <tr>\n",
       "      <td>50%</td>\n",
       "      <td>1249.500000</td>\n",
       "      <td>46.00000</td>\n",
       "    </tr>\n",
       "    <tr>\n",
       "      <td>75%</td>\n",
       "      <td>1374.250000</td>\n",
       "      <td>62.00000</td>\n",
       "    </tr>\n",
       "    <tr>\n",
       "      <td>max</td>\n",
       "      <td>1499.000000</td>\n",
       "      <td>75.00000</td>\n",
       "    </tr>\n",
       "  </tbody>\n",
       "</table>\n",
       "</div>"
      ],
      "text/plain": [
       "           user_id        age\n",
       "count   500.000000  500.00000\n",
       "mean   1249.500000   46.58800\n",
       "std     144.481833   16.66763\n",
       "min    1000.000000   18.00000\n",
       "25%    1124.750000   32.00000\n",
       "50%    1249.500000   46.00000\n",
       "75%    1374.250000   62.00000\n",
       "max    1499.000000   75.00000"
      ]
     },
     "execution_count": 8,
     "metadata": {},
     "output_type": "execute_result"
    }
   ],
   "source": [
    "display(users_df.head())\n",
    "display(users_df.info())\n",
    "users_df.describe()"
   ]
  },
  {
   "cell_type": "markdown",
   "metadata": {},
   "source": [
    "## Вывод"
   ]
  },
  {
   "cell_type": "markdown",
   "metadata": {},
   "source": [
    "Были открыты и изучены данные, было выявлено что во всех таблицах, имеющих даты, данные столбцы имеют тип `object` и при чтении они были исправлены на `DateTime`. Срез пользователей размером 500 взят по следующим id: 1000-1499 (включительно). Пропусков в данных не обнаружено, не считая столбца `churn_date` в котором пропущенное значение это признак того, что тариф еще действовал. Можно заметить, что в столбце `duration` таблицы `calls` присутствуют звонки с нулевой продолжительностью, но это не является ошибкой в данных так как в инструкции указано, что это пропущенные звонки и удалять их не следует, а вот 0 мб израсходованного интернета может быть выбросом, что будет рассмотрено на следующем шаге"
   ]
  },
  {
   "cell_type": "markdown",
   "metadata": {
    "id": "KLDGpPG0gFyM"
   },
   "source": [
    "# Предобработка и анализ данных"
   ]
  },
  {
   "cell_type": "markdown",
   "metadata": {
    "id": "ssWwKXsxgFyO"
   },
   "source": [
    "## Добавление столбцов и анализ выбросов"
   ]
  },
  {
   "cell_type": "code",
   "execution_count": 9,
   "metadata": {},
   "outputs": [],
   "source": [
    "internet_df['month'] = internet_df['session_date'].dt.month\n",
    "messages_df['month'] = messages_df['message_date'].dt.month\n",
    "calls_df['month'] = calls_df['call_date'].dt.month"
   ]
  },
  {
   "cell_type": "code",
   "execution_count": 10,
   "metadata": {},
   "outputs": [],
   "source": [
    "calls_df['duration'] = calls_df['duration'].apply('ceil').astype('int')"
   ]
  },
  {
   "cell_type": "code",
   "execution_count": 11,
   "metadata": {
    "scrolled": true
   },
   "outputs": [
    {
     "data": {
      "text/html": [
       "<div>\n",
       "<style scoped>\n",
       "    .dataframe tbody tr th:only-of-type {\n",
       "        vertical-align: middle;\n",
       "    }\n",
       "\n",
       "    .dataframe tbody tr th {\n",
       "        vertical-align: top;\n",
       "    }\n",
       "\n",
       "    .dataframe thead th {\n",
       "        text-align: right;\n",
       "    }\n",
       "</style>\n",
       "<table border=\"1\" class=\"dataframe\">\n",
       "  <thead>\n",
       "    <tr style=\"text-align: right;\">\n",
       "      <th></th>\n",
       "      <th>id</th>\n",
       "      <th>mb_used</th>\n",
       "      <th>session_date</th>\n",
       "      <th>user_id</th>\n",
       "      <th>month</th>\n",
       "    </tr>\n",
       "  </thead>\n",
       "  <tbody>\n",
       "    <tr>\n",
       "      <td>11</td>\n",
       "      <td>1000_11</td>\n",
       "      <td>0.0</td>\n",
       "      <td>2018-08-28</td>\n",
       "      <td>1000</td>\n",
       "      <td>8</td>\n",
       "    </tr>\n",
       "    <tr>\n",
       "      <td>38</td>\n",
       "      <td>1000_38</td>\n",
       "      <td>0.0</td>\n",
       "      <td>2018-11-27</td>\n",
       "      <td>1000</td>\n",
       "      <td>11</td>\n",
       "    </tr>\n",
       "    <tr>\n",
       "      <td>46</td>\n",
       "      <td>1000_46</td>\n",
       "      <td>0.0</td>\n",
       "      <td>2018-06-30</td>\n",
       "      <td>1000</td>\n",
       "      <td>6</td>\n",
       "    </tr>\n",
       "    <tr>\n",
       "      <td>67</td>\n",
       "      <td>1000_67</td>\n",
       "      <td>0.0</td>\n",
       "      <td>2018-06-16</td>\n",
       "      <td>1000</td>\n",
       "      <td>6</td>\n",
       "    </tr>\n",
       "    <tr>\n",
       "      <td>72</td>\n",
       "      <td>1000_72</td>\n",
       "      <td>0.0</td>\n",
       "      <td>2018-06-15</td>\n",
       "      <td>1000</td>\n",
       "      <td>6</td>\n",
       "    </tr>\n",
       "  </tbody>\n",
       "</table>\n",
       "</div>"
      ],
      "text/plain": [
       "         id  mb_used session_date  user_id  month\n",
       "11  1000_11      0.0   2018-08-28     1000      8\n",
       "38  1000_38      0.0   2018-11-27     1000     11\n",
       "46  1000_46      0.0   2018-06-30     1000      6\n",
       "67  1000_67      0.0   2018-06-16     1000      6\n",
       "72  1000_72      0.0   2018-06-15     1000      6"
      ]
     },
     "execution_count": 11,
     "metadata": {},
     "output_type": "execute_result"
    }
   ],
   "source": [
    "internet_df.query('mb_used == 0').head()"
   ]
  },
  {
   "cell_type": "code",
   "execution_count": 12,
   "metadata": {},
   "outputs": [
    {
     "data": {
      "text/plain": [
       "user_id\n",
       "1000    107392.31\n",
       "1001     32466.00\n",
       "1002    116036.52\n",
       "1003     57280.64\n",
       "1004    149039.48\n",
       "Name: mb_used, dtype: float64"
      ]
     },
     "execution_count": 12,
     "metadata": {},
     "output_type": "execute_result"
    }
   ],
   "source": [
    "internet_df.groupby(by='user_id')['mb_used'].sum().head()"
   ]
  },
  {
   "cell_type": "code",
   "execution_count": 13,
   "metadata": {},
   "outputs": [
    {
     "data": {
      "text/plain": [
       "session_date\n",
       "2018-01-01    1004.27\n",
       "2018-01-02     431.95\n",
       "2018-01-03    2271.38\n",
       "2018-01-04    2395.68\n",
       "2018-01-05    6232.30\n",
       "Name: mb_used, dtype: float64"
      ]
     },
     "execution_count": 13,
     "metadata": {},
     "output_type": "execute_result"
    }
   ],
   "source": [
    "internet_df.groupby(by='session_date')['mb_used'].sum().head()"
   ]
  },
  {
   "cell_type": "markdown",
   "metadata": {},
   "source": [
    "### Вывод"
   ]
  },
  {
   "cell_type": "markdown",
   "metadata": {},
   "source": [
    "Извлек месяц в отдельный столбец для последующей работы с ним и построения таблицы в следующем пункте, также округлил значения минут в звонках до целых в большую сторону методом `ceil` и рассмотрел нулевые значения в интернет сессии, но не выявил каких-то аномальных пользователей или дат в которые у многих была бы проблема с сетью, так что был сделан вывод что сессии с отсутствием израсходованного интернета это локальные сбои на стороне абонента, которые иногда случаются."
   ]
  },
  {
   "cell_type": "markdown",
   "metadata": {
    "id": "Eu6oWp2CgFyS"
   },
   "source": [
    "## Создание и изучение дополнительных столбцов"
   ]
  },
  {
   "cell_type": "markdown",
   "metadata": {
    "id": "7GgW-UpAgFyS"
   },
   "source": [
    "- Создание таблицы с количеством сделанных звонков и израсходованных минут разговора по месяцам;"
   ]
  },
  {
   "cell_type": "code",
   "execution_count": 14,
   "metadata": {},
   "outputs": [
    {
     "data": {
      "text/html": [
       "<div>\n",
       "<style scoped>\n",
       "    .dataframe tbody tr th:only-of-type {\n",
       "        vertical-align: middle;\n",
       "    }\n",
       "\n",
       "    .dataframe tbody tr th {\n",
       "        vertical-align: top;\n",
       "    }\n",
       "\n",
       "    .dataframe thead tr th {\n",
       "        text-align: left;\n",
       "    }\n",
       "\n",
       "    .dataframe thead tr:last-of-type th {\n",
       "        text-align: right;\n",
       "    }\n",
       "</style>\n",
       "<table border=\"1\" class=\"dataframe\">\n",
       "  <thead>\n",
       "    <tr>\n",
       "      <th></th>\n",
       "      <th></th>\n",
       "      <th>count</th>\n",
       "      <th>sum</th>\n",
       "    </tr>\n",
       "    <tr>\n",
       "      <th></th>\n",
       "      <th></th>\n",
       "      <th>duration</th>\n",
       "      <th>duration</th>\n",
       "    </tr>\n",
       "    <tr>\n",
       "      <th>month</th>\n",
       "      <th>user_id</th>\n",
       "      <th></th>\n",
       "      <th></th>\n",
       "    </tr>\n",
       "  </thead>\n",
       "  <tbody>\n",
       "    <tr>\n",
       "      <td rowspan=\"5\" valign=\"top\">1</td>\n",
       "      <td>1005</td>\n",
       "      <td>15</td>\n",
       "      <td>95</td>\n",
       "    </tr>\n",
       "    <tr>\n",
       "      <td>1032</td>\n",
       "      <td>61</td>\n",
       "      <td>380</td>\n",
       "    </tr>\n",
       "    <tr>\n",
       "      <td>1045</td>\n",
       "      <td>1</td>\n",
       "      <td>9</td>\n",
       "    </tr>\n",
       "    <tr>\n",
       "      <td>1055</td>\n",
       "      <td>64</td>\n",
       "      <td>551</td>\n",
       "    </tr>\n",
       "    <tr>\n",
       "      <td>1071</td>\n",
       "      <td>24</td>\n",
       "      <td>194</td>\n",
       "    </tr>\n",
       "  </tbody>\n",
       "</table>\n",
       "</div>"
      ],
      "text/plain": [
       "                 count      sum\n",
       "              duration duration\n",
       "month user_id                  \n",
       "1     1005          15       95\n",
       "      1032          61      380\n",
       "      1045           1        9\n",
       "      1055          64      551\n",
       "      1071          24      194"
      ]
     },
     "metadata": {},
     "output_type": "display_data"
    }
   ],
   "source": [
    "work_df = calls_df.pivot_table(index=['month', 'user_id'], values=['duration'], aggfunc=['count', 'sum'])\n",
    "display(work_df.head())"
   ]
  },
  {
   "cell_type": "markdown",
   "metadata": {
    "id": "nFTDLDYOgFyT"
   },
   "source": [
    "- Добавление столбца с количеством отправленных сообщений в таблицу выше;"
   ]
  },
  {
   "cell_type": "code",
   "execution_count": 15,
   "metadata": {},
   "outputs": [],
   "source": [
    "msg_pivot_df = messages_df.pivot_table(index=['month', 'user_id'], values=['id'], aggfunc=['count'])\n",
    "work_df = pd.merge(work_df, msg_pivot_df, left_on=['month', 'user_id'], right_on=['month', 'user_id'], how='left')"
   ]
  },
  {
   "cell_type": "markdown",
   "metadata": {
    "id": "nFTDLDYOgFyT"
   },
   "source": [
    "- Добавление столбца с объемом израсходованного интернет-трафика по месяцам в таблицу выше;"
   ]
  },
  {
   "cell_type": "code",
   "execution_count": 16,
   "metadata": {},
   "outputs": [],
   "source": [
    "internet_pivot_df = internet_df.pivot_table(index=['month', 'user_id'], values=['mb_used'], aggfunc=['sum'])\n",
    "internet_pivot_df[('sum', 'mb_used')] = np.ceil(internet_pivot_df[('sum', 'mb_used')] / 1024)\n",
    "work_df = pd.merge(work_df, internet_pivot_df, left_on=['month', 'user_id'], right_on=['month', 'user_id'], how='left')"
   ]
  },
  {
   "cell_type": "code",
   "execution_count": 17,
   "metadata": {
    "scrolled": false
   },
   "outputs": [
    {
     "data": {
      "text/html": [
       "<div>\n",
       "<style scoped>\n",
       "    .dataframe tbody tr th:only-of-type {\n",
       "        vertical-align: middle;\n",
       "    }\n",
       "\n",
       "    .dataframe tbody tr th {\n",
       "        vertical-align: top;\n",
       "    }\n",
       "\n",
       "    .dataframe thead th {\n",
       "        text-align: right;\n",
       "    }\n",
       "</style>\n",
       "<table border=\"1\" class=\"dataframe\">\n",
       "  <thead>\n",
       "    <tr style=\"text-align: right;\">\n",
       "      <th></th>\n",
       "      <th>user_id</th>\n",
       "      <th>tariff</th>\n",
       "    </tr>\n",
       "  </thead>\n",
       "  <tbody>\n",
       "    <tr>\n",
       "      <td>0</td>\n",
       "      <td>1000</td>\n",
       "      <td>ultra</td>\n",
       "    </tr>\n",
       "    <tr>\n",
       "      <td>1</td>\n",
       "      <td>1001</td>\n",
       "      <td>smart</td>\n",
       "    </tr>\n",
       "    <tr>\n",
       "      <td>2</td>\n",
       "      <td>1002</td>\n",
       "      <td>smart</td>\n",
       "    </tr>\n",
       "    <tr>\n",
       "      <td>3</td>\n",
       "      <td>1003</td>\n",
       "      <td>ultra</td>\n",
       "    </tr>\n",
       "    <tr>\n",
       "      <td>4</td>\n",
       "      <td>1004</td>\n",
       "      <td>ultra</td>\n",
       "    </tr>\n",
       "    <tr>\n",
       "      <td>...</td>\n",
       "      <td>...</td>\n",
       "      <td>...</td>\n",
       "    </tr>\n",
       "    <tr>\n",
       "      <td>495</td>\n",
       "      <td>1495</td>\n",
       "      <td>ultra</td>\n",
       "    </tr>\n",
       "    <tr>\n",
       "      <td>496</td>\n",
       "      <td>1496</td>\n",
       "      <td>smart</td>\n",
       "    </tr>\n",
       "    <tr>\n",
       "      <td>497</td>\n",
       "      <td>1497</td>\n",
       "      <td>smart</td>\n",
       "    </tr>\n",
       "    <tr>\n",
       "      <td>498</td>\n",
       "      <td>1498</td>\n",
       "      <td>smart</td>\n",
       "    </tr>\n",
       "    <tr>\n",
       "      <td>499</td>\n",
       "      <td>1499</td>\n",
       "      <td>smart</td>\n",
       "    </tr>\n",
       "  </tbody>\n",
       "</table>\n",
       "<p>500 rows × 2 columns</p>\n",
       "</div>"
      ],
      "text/plain": [
       "     user_id tariff\n",
       "0       1000  ultra\n",
       "1       1001  smart\n",
       "2       1002  smart\n",
       "3       1003  ultra\n",
       "4       1004  ultra\n",
       "..       ...    ...\n",
       "495     1495  ultra\n",
       "496     1496  smart\n",
       "497     1497  smart\n",
       "498     1498  smart\n",
       "499     1499  smart\n",
       "\n",
       "[500 rows x 2 columns]"
      ]
     },
     "execution_count": 17,
     "metadata": {},
     "output_type": "execute_result"
    }
   ],
   "source": [
    "users_df[['user_id', 'tariff']]"
   ]
  },
  {
   "cell_type": "markdown",
   "metadata": {
    "id": "nFTDLDYOgFyT"
   },
   "source": [
    "- Добавление столбца с названием тарифа в таблицу выше;"
   ]
  },
  {
   "cell_type": "code",
   "execution_count": 18,
   "metadata": {
    "scrolled": true
   },
   "outputs": [
    {
     "data": {
      "text/html": [
       "<div>\n",
       "<style scoped>\n",
       "    .dataframe tbody tr th:only-of-type {\n",
       "        vertical-align: middle;\n",
       "    }\n",
       "\n",
       "    .dataframe tbody tr th {\n",
       "        vertical-align: top;\n",
       "    }\n",
       "\n",
       "    .dataframe thead th {\n",
       "        text-align: right;\n",
       "    }\n",
       "</style>\n",
       "<table border=\"1\" class=\"dataframe\">\n",
       "  <thead>\n",
       "    <tr style=\"text-align: right;\">\n",
       "      <th></th>\n",
       "      <th>month</th>\n",
       "      <th>user_id</th>\n",
       "      <th>calls_count</th>\n",
       "      <th>minutes_sum</th>\n",
       "      <th>messages_count</th>\n",
       "      <th>gb_used</th>\n",
       "      <th>tariff</th>\n",
       "      <th>city</th>\n",
       "    </tr>\n",
       "  </thead>\n",
       "  <tbody>\n",
       "    <tr>\n",
       "      <td>0</td>\n",
       "      <td>1</td>\n",
       "      <td>1005</td>\n",
       "      <td>15</td>\n",
       "      <td>95</td>\n",
       "      <td>7.0</td>\n",
       "      <td>3.0</td>\n",
       "      <td>smart</td>\n",
       "      <td>Набережные Челны</td>\n",
       "    </tr>\n",
       "    <tr>\n",
       "      <td>1</td>\n",
       "      <td>1</td>\n",
       "      <td>1032</td>\n",
       "      <td>61</td>\n",
       "      <td>380</td>\n",
       "      <td>38.0</td>\n",
       "      <td>24.0</td>\n",
       "      <td>smart</td>\n",
       "      <td>Ульяновск</td>\n",
       "    </tr>\n",
       "    <tr>\n",
       "      <td>2</td>\n",
       "      <td>1</td>\n",
       "      <td>1045</td>\n",
       "      <td>1</td>\n",
       "      <td>9</td>\n",
       "      <td>5.0</td>\n",
       "      <td>3.0</td>\n",
       "      <td>smart</td>\n",
       "      <td>Улан-Удэ</td>\n",
       "    </tr>\n",
       "    <tr>\n",
       "      <td>3</td>\n",
       "      <td>1</td>\n",
       "      <td>1055</td>\n",
       "      <td>64</td>\n",
       "      <td>551</td>\n",
       "      <td>30.0</td>\n",
       "      <td>17.0</td>\n",
       "      <td>smart</td>\n",
       "      <td>Казань</td>\n",
       "    </tr>\n",
       "    <tr>\n",
       "      <td>4</td>\n",
       "      <td>1</td>\n",
       "      <td>1071</td>\n",
       "      <td>24</td>\n",
       "      <td>194</td>\n",
       "      <td>16.0</td>\n",
       "      <td>16.0</td>\n",
       "      <td>smart</td>\n",
       "      <td>Омск</td>\n",
       "    </tr>\n",
       "    <tr>\n",
       "      <td>5</td>\n",
       "      <td>1</td>\n",
       "      <td>1113</td>\n",
       "      <td>18</td>\n",
       "      <td>110</td>\n",
       "      <td>14.0</td>\n",
       "      <td>1.0</td>\n",
       "      <td>smart</td>\n",
       "      <td>Чита</td>\n",
       "    </tr>\n",
       "    <tr>\n",
       "      <td>6</td>\n",
       "      <td>1</td>\n",
       "      <td>1120</td>\n",
       "      <td>5</td>\n",
       "      <td>55</td>\n",
       "      <td>NaN</td>\n",
       "      <td>1.0</td>\n",
       "      <td>ultra</td>\n",
       "      <td>Краснодар</td>\n",
       "    </tr>\n",
       "    <tr>\n",
       "      <td>7</td>\n",
       "      <td>1</td>\n",
       "      <td>1126</td>\n",
       "      <td>35</td>\n",
       "      <td>272</td>\n",
       "      <td>4.0</td>\n",
       "      <td>16.0</td>\n",
       "      <td>ultra</td>\n",
       "      <td>Санкт-Петербург</td>\n",
       "    </tr>\n",
       "    <tr>\n",
       "      <td>8</td>\n",
       "      <td>1</td>\n",
       "      <td>1134</td>\n",
       "      <td>42</td>\n",
       "      <td>332</td>\n",
       "      <td>32.0</td>\n",
       "      <td>10.0</td>\n",
       "      <td>smart</td>\n",
       "      <td>Красноярск</td>\n",
       "    </tr>\n",
       "    <tr>\n",
       "      <td>9</td>\n",
       "      <td>1</td>\n",
       "      <td>1135</td>\n",
       "      <td>9</td>\n",
       "      <td>90</td>\n",
       "      <td>1.0</td>\n",
       "      <td>2.0</td>\n",
       "      <td>smart</td>\n",
       "      <td>Архангельск</td>\n",
       "    </tr>\n",
       "  </tbody>\n",
       "</table>\n",
       "</div>"
      ],
      "text/plain": [
       "   month  user_id  calls_count  minutes_sum  messages_count  gb_used tariff  \\\n",
       "0      1     1005           15           95             7.0      3.0  smart   \n",
       "1      1     1032           61          380            38.0     24.0  smart   \n",
       "2      1     1045            1            9             5.0      3.0  smart   \n",
       "3      1     1055           64          551            30.0     17.0  smart   \n",
       "4      1     1071           24          194            16.0     16.0  smart   \n",
       "5      1     1113           18          110            14.0      1.0  smart   \n",
       "6      1     1120            5           55             NaN      1.0  ultra   \n",
       "7      1     1126           35          272             4.0     16.0  ultra   \n",
       "8      1     1134           42          332            32.0     10.0  smart   \n",
       "9      1     1135            9           90             1.0      2.0  smart   \n",
       "\n",
       "               city  \n",
       "0  Набережные Челны  \n",
       "1         Ульяновск  \n",
       "2          Улан-Удэ  \n",
       "3            Казань  \n",
       "4              Омск  \n",
       "5              Чита  \n",
       "6         Краснодар  \n",
       "7   Санкт-Петербург  \n",
       "8        Красноярск  \n",
       "9       Архангельск  "
      ]
     },
     "execution_count": 18,
     "metadata": {},
     "output_type": "execute_result"
    }
   ],
   "source": [
    "work_df.columns = ['calls_count', 'minutes_sum', 'messages_count', 'gb_used']\n",
    "work_df = work_df.reset_index()\n",
    "work_df = pd.merge(work_df, users_df[['user_id', 'tariff', 'city']], on='user_id', how='left')\n",
    "work_df.head(10)"
   ]
  },
  {
   "cell_type": "markdown",
   "metadata": {},
   "source": [
    "* Сразу же заполним пропущенные значеения в смс и использованном интернете нулями. Такие пропуски скорее всего связаны с тем, что некоторые пользователи просто не отправляют сообщения, так как это достаточно устаревший вид связи, отсутствующих значений в потреблении интернета очень мало, возможно люди были заграницей и не пользовались мобильным интернетом или в целом не пользовались мобильным интернетом."
   ]
  },
  {
   "cell_type": "code",
   "execution_count": 19,
   "metadata": {},
   "outputs": [],
   "source": [
    "work_df = work_df.fillna(0)"
   ]
  },
  {
   "cell_type": "code",
   "execution_count": 20,
   "metadata": {
    "scrolled": true
   },
   "outputs": [
    {
     "name": "stdout",
     "output_type": "stream",
     "text": [
      "<class 'pandas.core.frame.DataFrame'>\n",
      "Int64Index: 3174 entries, 0 to 3173\n",
      "Data columns (total 8 columns):\n",
      "month             3174 non-null int64\n",
      "user_id           3174 non-null int64\n",
      "calls_count       3174 non-null int64\n",
      "minutes_sum       3174 non-null int64\n",
      "messages_count    3174 non-null float64\n",
      "gb_used           3174 non-null float64\n",
      "tariff            3174 non-null object\n",
      "city              3174 non-null object\n",
      "dtypes: float64(2), int64(4), object(2)\n",
      "memory usage: 223.2+ KB\n"
     ]
    }
   ],
   "source": [
    "work_df.info()"
   ]
  },
  {
   "cell_type": "markdown",
   "metadata": {
    "id": "nFTDLDYOgFyT"
   },
   "source": [
    "- Создание столбца с помесячной выручкой с каждого пользователя в таблицу выше."
   ]
  },
  {
   "cell_type": "code",
   "execution_count": 21,
   "metadata": {},
   "outputs": [],
   "source": [
    "def get_payment(row):\n",
    "    if row['tariff'] == 'ultra':\n",
    "        tariff = tariffs_df[tariffs_df['tariff_name'] == 'ultra'].iloc[0]\n",
    "    elif row['tariff'] == 'smart':\n",
    "        tariff = tariffs_df[tariffs_df['tariff_name'] == 'smart'].iloc[0]\n",
    "        \n",
    "    additional_sum = 0\n",
    "    if row['minutes_sum'] > tariff['minutes_included']:\n",
    "        additional_sum += (row['minutes_sum'] - tariff['minutes_included']) * tariff['rub_per_minute']\n",
    "\n",
    "    if row['messages_count'] > tariff['messages_included']:\n",
    "        additional_sum += (row['messages_count'] - tariff['messages_included']) * tariff['rub_per_message']\n",
    "\n",
    "    if row['gb_used'] > tariff['mb_per_month_included'] // 1024:\n",
    "        additional_sum += (row['gb_used'] - tariff['mb_per_month_included'] // 1024) * tariff['rub_per_gb']    \n",
    "    row['payment'] = tariff['rub_monthly_fee'] + additional_sum\n",
    "    return row"
   ]
  },
  {
   "cell_type": "code",
   "execution_count": 22,
   "metadata": {},
   "outputs": [
    {
     "data": {
      "text/html": [
       "<div>\n",
       "<style scoped>\n",
       "    .dataframe tbody tr th:only-of-type {\n",
       "        vertical-align: middle;\n",
       "    }\n",
       "\n",
       "    .dataframe tbody tr th {\n",
       "        vertical-align: top;\n",
       "    }\n",
       "\n",
       "    .dataframe thead th {\n",
       "        text-align: right;\n",
       "    }\n",
       "</style>\n",
       "<table border=\"1\" class=\"dataframe\">\n",
       "  <thead>\n",
       "    <tr style=\"text-align: right;\">\n",
       "      <th></th>\n",
       "      <th>month</th>\n",
       "      <th>user_id</th>\n",
       "      <th>calls_count</th>\n",
       "      <th>minutes_sum</th>\n",
       "      <th>messages_count</th>\n",
       "      <th>gb_used</th>\n",
       "      <th>tariff</th>\n",
       "      <th>city</th>\n",
       "      <th>payment</th>\n",
       "    </tr>\n",
       "  </thead>\n",
       "  <tbody>\n",
       "    <tr>\n",
       "      <td>0</td>\n",
       "      <td>1</td>\n",
       "      <td>1005</td>\n",
       "      <td>15</td>\n",
       "      <td>95</td>\n",
       "      <td>7.0</td>\n",
       "      <td>3.0</td>\n",
       "      <td>smart</td>\n",
       "      <td>Набережные Челны</td>\n",
       "      <td>550.0</td>\n",
       "    </tr>\n",
       "    <tr>\n",
       "      <td>1</td>\n",
       "      <td>1</td>\n",
       "      <td>1032</td>\n",
       "      <td>61</td>\n",
       "      <td>380</td>\n",
       "      <td>38.0</td>\n",
       "      <td>24.0</td>\n",
       "      <td>smart</td>\n",
       "      <td>Ульяновск</td>\n",
       "      <td>2350.0</td>\n",
       "    </tr>\n",
       "    <tr>\n",
       "      <td>2</td>\n",
       "      <td>1</td>\n",
       "      <td>1045</td>\n",
       "      <td>1</td>\n",
       "      <td>9</td>\n",
       "      <td>5.0</td>\n",
       "      <td>3.0</td>\n",
       "      <td>smart</td>\n",
       "      <td>Улан-Удэ</td>\n",
       "      <td>550.0</td>\n",
       "    </tr>\n",
       "    <tr>\n",
       "      <td>3</td>\n",
       "      <td>1</td>\n",
       "      <td>1055</td>\n",
       "      <td>64</td>\n",
       "      <td>551</td>\n",
       "      <td>30.0</td>\n",
       "      <td>17.0</td>\n",
       "      <td>smart</td>\n",
       "      <td>Казань</td>\n",
       "      <td>1103.0</td>\n",
       "    </tr>\n",
       "    <tr>\n",
       "      <td>4</td>\n",
       "      <td>1</td>\n",
       "      <td>1071</td>\n",
       "      <td>24</td>\n",
       "      <td>194</td>\n",
       "      <td>16.0</td>\n",
       "      <td>16.0</td>\n",
       "      <td>smart</td>\n",
       "      <td>Омск</td>\n",
       "      <td>750.0</td>\n",
       "    </tr>\n",
       "    <tr>\n",
       "      <td>5</td>\n",
       "      <td>1</td>\n",
       "      <td>1113</td>\n",
       "      <td>18</td>\n",
       "      <td>110</td>\n",
       "      <td>14.0</td>\n",
       "      <td>1.0</td>\n",
       "      <td>smart</td>\n",
       "      <td>Чита</td>\n",
       "      <td>550.0</td>\n",
       "    </tr>\n",
       "    <tr>\n",
       "      <td>6</td>\n",
       "      <td>1</td>\n",
       "      <td>1120</td>\n",
       "      <td>5</td>\n",
       "      <td>55</td>\n",
       "      <td>0.0</td>\n",
       "      <td>1.0</td>\n",
       "      <td>ultra</td>\n",
       "      <td>Краснодар</td>\n",
       "      <td>1950.0</td>\n",
       "    </tr>\n",
       "    <tr>\n",
       "      <td>7</td>\n",
       "      <td>1</td>\n",
       "      <td>1126</td>\n",
       "      <td>35</td>\n",
       "      <td>272</td>\n",
       "      <td>4.0</td>\n",
       "      <td>16.0</td>\n",
       "      <td>ultra</td>\n",
       "      <td>Санкт-Петербург</td>\n",
       "      <td>1950.0</td>\n",
       "    </tr>\n",
       "    <tr>\n",
       "      <td>8</td>\n",
       "      <td>1</td>\n",
       "      <td>1134</td>\n",
       "      <td>42</td>\n",
       "      <td>332</td>\n",
       "      <td>32.0</td>\n",
       "      <td>10.0</td>\n",
       "      <td>smart</td>\n",
       "      <td>Красноярск</td>\n",
       "      <td>550.0</td>\n",
       "    </tr>\n",
       "    <tr>\n",
       "      <td>9</td>\n",
       "      <td>1</td>\n",
       "      <td>1135</td>\n",
       "      <td>9</td>\n",
       "      <td>90</td>\n",
       "      <td>1.0</td>\n",
       "      <td>2.0</td>\n",
       "      <td>smart</td>\n",
       "      <td>Архангельск</td>\n",
       "      <td>550.0</td>\n",
       "    </tr>\n",
       "  </tbody>\n",
       "</table>\n",
       "</div>"
      ],
      "text/plain": [
       "   month  user_id  calls_count  minutes_sum  messages_count  gb_used tariff  \\\n",
       "0      1     1005           15           95             7.0      3.0  smart   \n",
       "1      1     1032           61          380            38.0     24.0  smart   \n",
       "2      1     1045            1            9             5.0      3.0  smart   \n",
       "3      1     1055           64          551            30.0     17.0  smart   \n",
       "4      1     1071           24          194            16.0     16.0  smart   \n",
       "5      1     1113           18          110            14.0      1.0  smart   \n",
       "6      1     1120            5           55             0.0      1.0  ultra   \n",
       "7      1     1126           35          272             4.0     16.0  ultra   \n",
       "8      1     1134           42          332            32.0     10.0  smart   \n",
       "9      1     1135            9           90             1.0      2.0  smart   \n",
       "\n",
       "               city  payment  \n",
       "0  Набережные Челны    550.0  \n",
       "1         Ульяновск   2350.0  \n",
       "2          Улан-Удэ    550.0  \n",
       "3            Казань   1103.0  \n",
       "4              Омск    750.0  \n",
       "5              Чита    550.0  \n",
       "6         Краснодар   1950.0  \n",
       "7   Санкт-Петербург   1950.0  \n",
       "8        Красноярск    550.0  \n",
       "9       Архангельск    550.0  "
      ]
     },
     "execution_count": 22,
     "metadata": {},
     "output_type": "execute_result"
    }
   ],
   "source": [
    "work_df = work_df.apply(get_payment, axis=1)\n",
    "work_df.head(10)"
   ]
  },
  {
   "cell_type": "markdown",
   "metadata": {},
   "source": [
    "### Вывод"
   ]
  },
  {
   "cell_type": "markdown",
   "metadata": {},
   "source": [
    "В данном шаге была создана таблица для дальнейшего анализа в которой отражается следующая информация:\n",
    "- количество сделанных звонков и израсходованных минут разговора по месяцам;\n",
    "- количество отправленных сообщений по месяцам;\n",
    "- объем израсходованного интернет-трафика по месяцам;\n",
    "- помесячная выручка с каждого пользователя;\n",
    "- тариф и город проживания пользователя.\n",
    "\n",
    "Также были заполнены пропущенные значения в СМС и кол-ве использованного интернета, т.к. пользователи могли просто не пользоваться данными услугами."
   ]
  },
  {
   "cell_type": "markdown",
   "metadata": {},
   "source": [
    "## Анализ данных"
   ]
  },
  {
   "cell_type": "code",
   "execution_count": 23,
   "metadata": {
    "scrolled": true
   },
   "outputs": [],
   "source": [
    "smart_df = work_df.query(\"tariff == 'smart'\")\n",
    "ultra_df = work_df.query(\"tariff == 'ultra'\")\n",
    "\n",
    "stat_data = np.zeros((6, 3))\n",
    "\n",
    "cols = ['minutes_sum', 'messages_count', 'gb_used']\n",
    "\n",
    "for i, item in enumerate(cols):\n",
    "    stat_data[i] = [smart_df[item].mean(),\n",
    "                    np.var(smart_df[item]),\n",
    "                    np.std(smart_df[item])]\n",
    "    stat_data[i+3] = [ultra_df[item].mean(),\n",
    "                    np.var(ultra_df[item]),\n",
    "                    np.std(ultra_df[item])]\n",
    "   \n",
    "tuples = [('Smart', 'Минуты'), ('Smart', 'СМС'), ('Smart', 'Гб интернета'),\n",
    "          ('Ultra', 'Минуты'), ('Ultra', 'СМС'), ('Ultra', 'Гб интернета')]\n",
    "index = pd.MultiIndex.from_tuples(tuples)\n",
    "stat_df = pd.DataFrame(stat_data, \n",
    "                       columns=['Среднее', 'Дисперсия', 'Стандартное отклонение'],\n",
    "                        index=index)"
   ]
  },
  {
   "cell_type": "code",
   "execution_count": 24,
   "metadata": {},
   "outputs": [
    {
     "data": {
      "text/html": [
       "<div>\n",
       "<style scoped>\n",
       "    .dataframe tbody tr th:only-of-type {\n",
       "        vertical-align: middle;\n",
       "    }\n",
       "\n",
       "    .dataframe tbody tr th {\n",
       "        vertical-align: top;\n",
       "    }\n",
       "\n",
       "    .dataframe thead th {\n",
       "        text-align: right;\n",
       "    }\n",
       "</style>\n",
       "<table border=\"1\" class=\"dataframe\">\n",
       "  <thead>\n",
       "    <tr style=\"text-align: right;\">\n",
       "      <th></th>\n",
       "      <th>month</th>\n",
       "      <th>user_id</th>\n",
       "      <th>calls_count</th>\n",
       "      <th>minutes_sum</th>\n",
       "      <th>messages_count</th>\n",
       "      <th>gb_used</th>\n",
       "      <th>payment</th>\n",
       "    </tr>\n",
       "  </thead>\n",
       "  <tbody>\n",
       "    <tr>\n",
       "      <td>count</td>\n",
       "      <td>2223.000000</td>\n",
       "      <td>2223.000000</td>\n",
       "      <td>2223.000000</td>\n",
       "      <td>2223.000000</td>\n",
       "      <td>2223.000000</td>\n",
       "      <td>2223.000000</td>\n",
       "      <td>2223.000000</td>\n",
       "    </tr>\n",
       "    <tr>\n",
       "      <td>mean</td>\n",
       "      <td>8.344130</td>\n",
       "      <td>1245.904184</td>\n",
       "      <td>58.621233</td>\n",
       "      <td>419.062978</td>\n",
       "      <td>33.396311</td>\n",
       "      <td>16.329735</td>\n",
       "      <td>1290.891138</td>\n",
       "    </tr>\n",
       "    <tr>\n",
       "      <td>std</td>\n",
       "      <td>2.922009</td>\n",
       "      <td>145.837842</td>\n",
       "      <td>25.796101</td>\n",
       "      <td>189.325618</td>\n",
       "      <td>28.259437</td>\n",
       "      <td>5.752599</td>\n",
       "      <td>819.119853</td>\n",
       "    </tr>\n",
       "    <tr>\n",
       "      <td>min</td>\n",
       "      <td>1.000000</td>\n",
       "      <td>1001.000000</td>\n",
       "      <td>1.000000</td>\n",
       "      <td>0.000000</td>\n",
       "      <td>0.000000</td>\n",
       "      <td>0.000000</td>\n",
       "      <td>550.000000</td>\n",
       "    </tr>\n",
       "    <tr>\n",
       "      <td>25%</td>\n",
       "      <td>6.000000</td>\n",
       "      <td>1121.000000</td>\n",
       "      <td>40.000000</td>\n",
       "      <td>285.000000</td>\n",
       "      <td>10.000000</td>\n",
       "      <td>13.000000</td>\n",
       "      <td>550.000000</td>\n",
       "    </tr>\n",
       "    <tr>\n",
       "      <td>50%</td>\n",
       "      <td>9.000000</td>\n",
       "      <td>1239.000000</td>\n",
       "      <td>60.000000</td>\n",
       "      <td>423.000000</td>\n",
       "      <td>28.000000</td>\n",
       "      <td>17.000000</td>\n",
       "      <td>1030.000000</td>\n",
       "    </tr>\n",
       "    <tr>\n",
       "      <td>75%</td>\n",
       "      <td>11.000000</td>\n",
       "      <td>1376.000000</td>\n",
       "      <td>76.000000</td>\n",
       "      <td>545.500000</td>\n",
       "      <td>51.000000</td>\n",
       "      <td>20.000000</td>\n",
       "      <td>1750.000000</td>\n",
       "    </tr>\n",
       "    <tr>\n",
       "      <td>max</td>\n",
       "      <td>12.000000</td>\n",
       "      <td>1499.000000</td>\n",
       "      <td>198.000000</td>\n",
       "      <td>1435.000000</td>\n",
       "      <td>143.000000</td>\n",
       "      <td>38.000000</td>\n",
       "      <td>6770.000000</td>\n",
       "    </tr>\n",
       "  </tbody>\n",
       "</table>\n",
       "</div>"
      ],
      "text/plain": [
       "             month      user_id  calls_count  minutes_sum  messages_count  \\\n",
       "count  2223.000000  2223.000000  2223.000000  2223.000000     2223.000000   \n",
       "mean      8.344130  1245.904184    58.621233   419.062978       33.396311   \n",
       "std       2.922009   145.837842    25.796101   189.325618       28.259437   \n",
       "min       1.000000  1001.000000     1.000000     0.000000        0.000000   \n",
       "25%       6.000000  1121.000000    40.000000   285.000000       10.000000   \n",
       "50%       9.000000  1239.000000    60.000000   423.000000       28.000000   \n",
       "75%      11.000000  1376.000000    76.000000   545.500000       51.000000   \n",
       "max      12.000000  1499.000000   198.000000  1435.000000      143.000000   \n",
       "\n",
       "           gb_used      payment  \n",
       "count  2223.000000  2223.000000  \n",
       "mean     16.329735  1290.891138  \n",
       "std       5.752599   819.119853  \n",
       "min       0.000000   550.000000  \n",
       "25%      13.000000   550.000000  \n",
       "50%      17.000000  1030.000000  \n",
       "75%      20.000000  1750.000000  \n",
       "max      38.000000  6770.000000  "
      ]
     },
     "metadata": {},
     "output_type": "display_data"
    },
    {
     "data": {
      "text/html": [
       "<div>\n",
       "<style scoped>\n",
       "    .dataframe tbody tr th:only-of-type {\n",
       "        vertical-align: middle;\n",
       "    }\n",
       "\n",
       "    .dataframe tbody tr th {\n",
       "        vertical-align: top;\n",
       "    }\n",
       "\n",
       "    .dataframe thead th {\n",
       "        text-align: right;\n",
       "    }\n",
       "</style>\n",
       "<table border=\"1\" class=\"dataframe\">\n",
       "  <thead>\n",
       "    <tr style=\"text-align: right;\">\n",
       "      <th></th>\n",
       "      <th>month</th>\n",
       "      <th>user_id</th>\n",
       "      <th>calls_count</th>\n",
       "      <th>minutes_sum</th>\n",
       "      <th>messages_count</th>\n",
       "      <th>gb_used</th>\n",
       "      <th>payment</th>\n",
       "    </tr>\n",
       "  </thead>\n",
       "  <tbody>\n",
       "    <tr>\n",
       "      <td>count</td>\n",
       "      <td>951.000000</td>\n",
       "      <td>951.000000</td>\n",
       "      <td>951.000000</td>\n",
       "      <td>951.000000</td>\n",
       "      <td>951.000000</td>\n",
       "      <td>951.000000</td>\n",
       "      <td>951.000000</td>\n",
       "    </tr>\n",
       "    <tr>\n",
       "      <td>mean</td>\n",
       "      <td>8.235542</td>\n",
       "      <td>1264.766562</td>\n",
       "      <td>76.016824</td>\n",
       "      <td>545.451104</td>\n",
       "      <td>49.033649</td>\n",
       "      <td>19.487907</td>\n",
       "      <td>2070.977918</td>\n",
       "    </tr>\n",
       "    <tr>\n",
       "      <td>std</td>\n",
       "      <td>2.883937</td>\n",
       "      <td>140.413405</td>\n",
       "      <td>42.403348</td>\n",
       "      <td>306.925754</td>\n",
       "      <td>46.890656</td>\n",
       "      <td>9.890432</td>\n",
       "      <td>379.423372</td>\n",
       "    </tr>\n",
       "    <tr>\n",
       "      <td>min</td>\n",
       "      <td>1.000000</td>\n",
       "      <td>1000.000000</td>\n",
       "      <td>1.000000</td>\n",
       "      <td>0.000000</td>\n",
       "      <td>0.000000</td>\n",
       "      <td>0.000000</td>\n",
       "      <td>1950.000000</td>\n",
       "    </tr>\n",
       "    <tr>\n",
       "      <td>25%</td>\n",
       "      <td>6.000000</td>\n",
       "      <td>1148.000000</td>\n",
       "      <td>43.000000</td>\n",
       "      <td>310.000000</td>\n",
       "      <td>5.000000</td>\n",
       "      <td>12.000000</td>\n",
       "      <td>1950.000000</td>\n",
       "    </tr>\n",
       "    <tr>\n",
       "      <td>50%</td>\n",
       "      <td>9.000000</td>\n",
       "      <td>1281.000000</td>\n",
       "      <td>75.000000</td>\n",
       "      <td>528.000000</td>\n",
       "      <td>39.000000</td>\n",
       "      <td>19.000000</td>\n",
       "      <td>1950.000000</td>\n",
       "    </tr>\n",
       "    <tr>\n",
       "      <td>75%</td>\n",
       "      <td>11.000000</td>\n",
       "      <td>1381.000000</td>\n",
       "      <td>105.000000</td>\n",
       "      <td>756.500000</td>\n",
       "      <td>79.000000</td>\n",
       "      <td>27.000000</td>\n",
       "      <td>1950.000000</td>\n",
       "    </tr>\n",
       "    <tr>\n",
       "      <td>max</td>\n",
       "      <td>12.000000</td>\n",
       "      <td>1495.000000</td>\n",
       "      <td>244.000000</td>\n",
       "      <td>1673.000000</td>\n",
       "      <td>224.000000</td>\n",
       "      <td>49.000000</td>\n",
       "      <td>4800.000000</td>\n",
       "    </tr>\n",
       "  </tbody>\n",
       "</table>\n",
       "</div>"
      ],
      "text/plain": [
       "            month      user_id  calls_count  minutes_sum  messages_count  \\\n",
       "count  951.000000   951.000000   951.000000   951.000000      951.000000   \n",
       "mean     8.235542  1264.766562    76.016824   545.451104       49.033649   \n",
       "std      2.883937   140.413405    42.403348   306.925754       46.890656   \n",
       "min      1.000000  1000.000000     1.000000     0.000000        0.000000   \n",
       "25%      6.000000  1148.000000    43.000000   310.000000        5.000000   \n",
       "50%      9.000000  1281.000000    75.000000   528.000000       39.000000   \n",
       "75%     11.000000  1381.000000   105.000000   756.500000       79.000000   \n",
       "max     12.000000  1495.000000   244.000000  1673.000000      224.000000   \n",
       "\n",
       "          gb_used      payment  \n",
       "count  951.000000   951.000000  \n",
       "mean    19.487907  2070.977918  \n",
       "std      9.890432   379.423372  \n",
       "min      0.000000  1950.000000  \n",
       "25%     12.000000  1950.000000  \n",
       "50%     19.000000  1950.000000  \n",
       "75%     27.000000  1950.000000  \n",
       "max     49.000000  4800.000000  "
      ]
     },
     "execution_count": 24,
     "metadata": {},
     "output_type": "execute_result"
    }
   ],
   "source": [
    "display(smart_df.describe())\n",
    "ultra_df.describe()"
   ]
  },
  {
   "cell_type": "code",
   "execution_count": 25,
   "metadata": {
    "scrolled": true
   },
   "outputs": [
    {
     "data": {
      "text/html": [
       "<div>\n",
       "<style scoped>\n",
       "    .dataframe tbody tr th:only-of-type {\n",
       "        vertical-align: middle;\n",
       "    }\n",
       "\n",
       "    .dataframe tbody tr th {\n",
       "        vertical-align: top;\n",
       "    }\n",
       "\n",
       "    .dataframe thead th {\n",
       "        text-align: right;\n",
       "    }\n",
       "</style>\n",
       "<table border=\"1\" class=\"dataframe\">\n",
       "  <thead>\n",
       "    <tr style=\"text-align: right;\">\n",
       "      <th></th>\n",
       "      <th></th>\n",
       "      <th>Среднее</th>\n",
       "      <th>Дисперсия</th>\n",
       "      <th>Стандартное отклонение</th>\n",
       "    </tr>\n",
       "  </thead>\n",
       "  <tbody>\n",
       "    <tr>\n",
       "      <td rowspan=\"3\" valign=\"top\">Smart</td>\n",
       "      <td>Минуты</td>\n",
       "      <td>419.062978</td>\n",
       "      <td>35828.065310</td>\n",
       "      <td>189.283030</td>\n",
       "    </tr>\n",
       "    <tr>\n",
       "      <td>СМС</td>\n",
       "      <td>33.396311</td>\n",
       "      <td>798.236550</td>\n",
       "      <td>28.253080</td>\n",
       "    </tr>\n",
       "    <tr>\n",
       "      <td>Гб интернета</td>\n",
       "      <td>16.329735</td>\n",
       "      <td>33.077510</td>\n",
       "      <td>5.751305</td>\n",
       "    </tr>\n",
       "    <tr>\n",
       "      <td rowspan=\"3\" valign=\"top\">Ultra</td>\n",
       "      <td>Минуты</td>\n",
       "      <td>545.451104</td>\n",
       "      <td>94104.361174</td>\n",
       "      <td>306.764341</td>\n",
       "    </tr>\n",
       "    <tr>\n",
       "      <td>СМС</td>\n",
       "      <td>49.033649</td>\n",
       "      <td>2196.421581</td>\n",
       "      <td>46.865996</td>\n",
       "    </tr>\n",
       "    <tr>\n",
       "      <td>Гб интернета</td>\n",
       "      <td>19.487907</td>\n",
       "      <td>97.717782</td>\n",
       "      <td>9.885231</td>\n",
       "    </tr>\n",
       "  </tbody>\n",
       "</table>\n",
       "</div>"
      ],
      "text/plain": [
       "                       Среднее     Дисперсия  Стандартное отклонение\n",
       "Smart Минуты        419.062978  35828.065310              189.283030\n",
       "      СМС            33.396311    798.236550               28.253080\n",
       "      Гб интернета   16.329735     33.077510                5.751305\n",
       "Ultra Минуты        545.451104  94104.361174              306.764341\n",
       "      СМС            49.033649   2196.421581               46.865996\n",
       "      Гб интернета   19.487907     97.717782                9.885231"
      ]
     },
     "execution_count": 25,
     "metadata": {},
     "output_type": "execute_result"
    }
   ],
   "source": [
    "stat_df"
   ]
  },
  {
   "cell_type": "markdown",
   "metadata": {},
   "source": [
    "Построим гистограммы по тарифам смарт и ультра для таких показателей как:\n",
    "- Выручка\n",
    "- Кол-во сообщений\n",
    "- Кол-во израсходованного интернета\n",
    "- Кол-во потраченных минут"
   ]
  },
  {
   "cell_type": "code",
   "execution_count": 26,
   "metadata": {
    "scrolled": false
   },
   "outputs": [
    {
     "data": {
      "image/png": "[encoded data removed]",
      "text/plain": [
       "<Figure size 432x288 with 1 Axes>"
      ]
     },
     "metadata": {
      "needs_background": "light"
     },
     "output_type": "display_data"
    }
   ],
   "source": [
    "sns.histplot(data=smart_df, x=\"payment\", color=\"skyblue\", label=\"Payment Smart\", kde=True)\n",
    "sns.histplot(data=ultra_df, x=\"payment\", color=\"red\", label=\"Payment Ultra\", kde=True)\n",
    "\n",
    "plt.legend() \n",
    "plt.show()"
   ]
  },
  {
   "cell_type": "code",
   "execution_count": 27,
   "metadata": {},
   "outputs": [
    {
     "data": {
      "image/png": "[encoded data removed]",
      "text/plain": [
       "<Figure size 432x288 with 1 Axes>"
      ]
     },
     "metadata": {
      "needs_background": "light"
     },
     "output_type": "display_data"
    }
   ],
   "source": [
    "sns.histplot(data=smart_df, x=\"gb_used\", color=\"skyblue\", label=\"Internet Smart\", kde=True)\n",
    "sns.histplot(data=ultra_df, x=\"gb_used\", color=\"red\", label=\"Internet Ultra\", kde=True)\n",
    "\n",
    "plt.legend() \n",
    "plt.show()"
   ]
  },
  {
   "cell_type": "code",
   "execution_count": 28,
   "metadata": {},
   "outputs": [
    {
     "data": {
      "image/png": "[encoded data removed]",
      "text/plain": [
       "<Figure size 432x288 with 1 Axes>"
      ]
     },
     "metadata": {
      "needs_background": "light"
     },
     "output_type": "display_data"
    }
   ],
   "source": [
    "sns.histplot(data=smart_df, x=\"minutes_sum\", color=\"skyblue\", label=\"Calls minutes Smart\", kde=True)\n",
    "sns.histplot(data=ultra_df, x=\"minutes_sum\", color=\"red\", label=\"Calls minutes Ultra\", kde=True)\n",
    "\n",
    "plt.legend() \n",
    "plt.show()"
   ]
  },
  {
   "cell_type": "code",
   "execution_count": 29,
   "metadata": {},
   "outputs": [
    {
     "data": {
      "image/png": "[encoded data removed]",
      "text/plain": [
       "<Figure size 432x288 with 1 Axes>"
      ]
     },
     "metadata": {
      "needs_background": "light"
     },
     "output_type": "display_data"
    }
   ],
   "source": [
    "sns.histplot(data=smart_df, x=\"messages_count\", color=\"skyblue\", label=\"Messages Smart\", kde=True)\n",
    "sns.histplot(data=ultra_df, x=\"messages_count\", color=\"red\", label=\"Messages Ultra\", kde=True)\n",
    "\n",
    "plt.legend() \n",
    "plt.show()"
   ]
  },
  {
   "cell_type": "markdown",
   "metadata": {},
   "source": [
    "### Вывод"
   ]
  },
  {
   "cell_type": "markdown",
   "metadata": {},
   "source": [
    "В данном шаге были созданы Датафреймы отражающую помесячно информацию о среднем, дисперсии и стандартном отклонении отдельно для тарифов смарт и ультра. Также была изучена медианная и средняя выручка исходя из которой можно ответить, какой тариф лучше, и более выгодным для оператора тарифом является тариф Ультра.\n",
    "Также были построены гистограммы по различным показателям для последнего месяца, также отдельно для двух разных тарифов.\n",
    "Исходя из гистограмм для тарифа ультра можно сделать следующие выводы:\n",
    "- Пользователи тарифа ультра редко переплачивают за тариф больше чем ежемесячная абонентская плата и гистограмма выручки скорее имеет распределение Пуассона\n",
    "- Распределение использованного интернета тарифа Ультра нормально, в пределах 25\n",
    "- Распределение звонков также нормально, но со скосом влево\n",
    "- Распределение сообщений нормально, со скосом влево\n",
    "\n",
    "Исходя из гистограмм для тарифа смарт можно сделать следующие выводы:\n",
    "- Пользователи тарифа смарт часто переплачивают за тариф больше чем ежемесячная абонентская плата и гистограмма выручки имеет распределение Пуассона\n",
    "- Распределение использованного интернета нормально\n",
    "- Распределение звонков также нормально\n",
    "- Распределение сообщений нормально, со скосом влево"
   ]
  },
  {
   "cell_type": "markdown",
   "metadata": {},
   "source": [
    "# Проверка гипотез"
   ]
  },
  {
   "cell_type": "markdown",
   "metadata": {},
   "source": [
    "Проверим следующую гипотезу: \"средняя выручка пользователей тарифов «Ультра» и «Смарт» различаются\"\n",
    "В качестве нулевой гипотезы примем что средняя выручка двух тарифов равна, а в качестве альтернативной обратное.\n",
    "Т.к. требуется сопоставить две генеральные совокупности требуется применить метод `st.ttest_ind()`\n",
    "Проверим гипотезу с уровнем значимости `alpha = 0.01`"
   ]
  },
  {
   "cell_type": "code",
   "execution_count": 30,
   "metadata": {},
   "outputs": [
    {
     "name": "stdout",
     "output_type": "stream",
     "text": [
      "p-значение: 2.1830308249112928e-155\n",
      "Отвергаем нулевую гипотезу, средняя выручка у двух тарифов различается\n"
     ]
    }
   ],
   "source": [
    "alpha = 0.01\n",
    "\n",
    "results = st.ttest_ind(smart_df['payment'], ultra_df['payment'])\n",
    "print('p-значение:', results.pvalue)\n",
    "\n",
    "if results.pvalue < alpha:\n",
    "    print(\"Отвергаем нулевую гипотезу, средняя выручка у двух тарифов различается\")\n",
    "else:\n",
    "    print(\"принимаем нулевую гипотезу, средняя выручка у двух тарифов одинакова\")"
   ]
  },
  {
   "cell_type": "markdown",
   "metadata": {},
   "source": [
    "Проверим следующую гипотезу: \"средняя выручка пользователей из Москвы отличается от выручки пользователей из других регионов\"\n",
    "В качестве нулевой гипотезы примем что средняя выручка Москвы и регионов равна, а в качестве альтернативной обратное.\n",
    "Т.к. требуется сопоставить две генеральные совокупности требуется применить метод `st.ttest_ind()`\n",
    "Проверим гипотезу с уровнем значимости `alpha = 0.01`"
   ]
  },
  {
   "cell_type": "code",
   "execution_count": 31,
   "metadata": {},
   "outputs": [],
   "source": [
    "mosow_df = work_df.query(\"city == 'Москва'\")\n",
    "region_df = work_df.query(\"city != 'Москва'\")"
   ]
  },
  {
   "cell_type": "code",
   "execution_count": 32,
   "metadata": {
    "scrolled": true
   },
   "outputs": [
    {
     "name": "stdout",
     "output_type": "stream",
     "text": [
      "p-значение: 0.4619932225305272\n",
      "принимаем нулевую гипотезу, средняя выручка у Москвы и регионов равна\n"
     ]
    }
   ],
   "source": [
    "alpha = 0.01\n",
    "\n",
    "results = st.ttest_ind(mosow_df['payment'], region_df['payment'])\n",
    "print('p-значение:', results.pvalue)\n",
    "\n",
    "if results.pvalue < alpha:\n",
    "    print(\"Отвергаем нулевую гипотезу, средняя выручка у Москвы и регионов различается\")\n",
    "else:\n",
    "    print(\"принимаем нулевую гипотезу, средняя выручка у Москвы и регионов равна\")"
   ]
  },
  {
   "cell_type": "markdown",
   "metadata": {},
   "source": [
    "## Вывод"
   ]
  },
  {
   "cell_type": "markdown",
   "metadata": {},
   "source": [
    "На данном этапе было проверено две гипотезы исходя из которых можно утверждать, что:\n",
    "- Средняя выручка у Москвы и регионов равна\n",
    "- Средняя выручка у двух тарифов различается"
   ]
  },
  {
   "cell_type": "markdown",
   "metadata": {},
   "source": [
    "# Общий вывод"
   ]
  },
  {
   "cell_type": "markdown",
   "metadata": {},
   "source": [
    "Был открыт и изучен файл, после чего был проведен этап предобработки в ходе которого были заменены типы данных в столбцах с датами и извлечены месяца для дальнейшего удобства работы. После чего была создана таблица отражающая помесячно информацию о таких показателях как кол-во потраченных минут, кол-во сообщений, кол-во использованного интернета и выручка с каждого пользователя. Далее была сделана таблица содержащая информацию о среднем, стандартном отклонении и дисперсии показателей с прошлого шага отдельно для двух разных тарифов, также были построены гистограммы. Исходя из гистограмм были сделаны выводы, что все они не считая гистограммы выручки имеют нормальное распределение, как для тарифа смарт, так и для ультра. И наконец, была произведена проверка гипотез, по окончании которой можно сделать вывод, что средняя выручка у Москвы и регионов равна и средняя выручка у двух тарифов различается. Была изучена средняя и медианная выручка двух разных тарифов и сделан вывод о том, что более выгодным для оператора является тариф Ультра "
   ]
  }
 ],
 "metadata": {
  "ExecuteTimeLog": [
   {
    "duration": 1511,
    "start_time": "2021-11-03T10:39:55.122Z"
   },
   {
    "duration": 971,
    "start_time": "2021-11-03T10:39:56.636Z"
   },
   {
    "duration": 539,
    "start_time": "2021-11-03T10:39:58.847Z"
   },
   {
    "duration": 75,
    "start_time": "2021-11-03T10:40:01.240Z"
   },
   {
    "duration": 67,
    "start_time": "2021-11-03T10:41:01.848Z"
   },
   {
    "duration": 43,
    "start_time": "2021-11-03T10:41:03.195Z"
   },
   {
    "duration": 56,
    "start_time": "2021-11-03T10:41:03.398Z"
   },
   {
    "duration": 39,
    "start_time": "2021-11-03T10:41:03.600Z"
   },
   {
    "duration": 19,
    "start_time": "2021-11-03T10:42:58.015Z"
   },
   {
    "duration": 17,
    "start_time": "2021-11-03T10:43:01.014Z"
   },
   {
    "duration": 4,
    "start_time": "2021-11-03T10:52:18.469Z"
   },
   {
    "duration": 512,
    "start_time": "2021-11-03T10:52:18.476Z"
   },
   {
    "duration": 67,
    "start_time": "2021-11-03T10:52:18.991Z"
   },
   {
    "duration": 91,
    "start_time": "2021-11-03T10:52:19.061Z"
   },
   {
    "duration": 46,
    "start_time": "2021-11-03T10:52:19.154Z"
   },
   {
    "duration": 16,
    "start_time": "2021-11-03T10:52:19.203Z"
   },
   {
    "duration": 71,
    "start_time": "2021-11-03T10:52:19.221Z"
   },
   {
    "duration": 7941,
    "start_time": "2021-11-03T10:56:40.573Z"
   },
   {
    "duration": 70,
    "start_time": "2021-11-03T10:57:00.010Z"
   },
   {
    "duration": 11,
    "start_time": "2021-11-03T10:57:08.460Z"
   },
   {
    "duration": 20,
    "start_time": "2021-11-03T10:57:13.564Z"
   },
   {
    "duration": 5,
    "start_time": "2021-11-03T11:01:27.593Z"
   },
   {
    "duration": 313,
    "start_time": "2021-11-03T11:01:46.411Z"
   },
   {
    "duration": 25,
    "start_time": "2021-11-03T11:01:52.473Z"
   },
   {
    "duration": 15,
    "start_time": "2021-11-03T11:02:02.551Z"
   },
   {
    "duration": 25122,
    "start_time": "2021-11-03T11:10:58.790Z"
   },
   {
    "duration": 21,
    "start_time": "2021-11-03T11:11:47.557Z"
   },
   {
    "duration": 19,
    "start_time": "2021-11-03T11:11:53.345Z"
   },
   {
    "duration": 304,
    "start_time": "2021-11-03T11:13:10.300Z"
   },
   {
    "duration": 12,
    "start_time": "2021-11-03T11:13:14.158Z"
   },
   {
    "duration": 30,
    "start_time": "2021-11-03T11:14:19.038Z"
   },
   {
    "duration": 285,
    "start_time": "2021-11-03T11:26:59.629Z"
   },
   {
    "duration": 328,
    "start_time": "2021-11-03T11:27:34.428Z"
   },
   {
    "duration": 26,
    "start_time": "2021-11-03T11:27:44.499Z"
   },
   {
    "duration": 26,
    "start_time": "2021-11-03T11:27:49.020Z"
   },
   {
    "duration": 72,
    "start_time": "2021-11-03T11:28:13.363Z"
   },
   {
    "duration": 78,
    "start_time": "2021-11-03T11:28:26.953Z"
   },
   {
    "duration": 81,
    "start_time": "2021-11-03T11:28:41.301Z"
   },
   {
    "duration": 81,
    "start_time": "2021-11-03T11:28:45.982Z"
   },
   {
    "duration": 71,
    "start_time": "2021-11-03T11:30:15.539Z"
   },
   {
    "duration": 18,
    "start_time": "2021-11-03T11:31:13.065Z"
   },
   {
    "duration": 344,
    "start_time": "2021-11-03T11:34:18.983Z"
   },
   {
    "duration": 182,
    "start_time": "2021-11-03T11:34:45.333Z"
   },
   {
    "duration": 329,
    "start_time": "2021-11-03T11:34:49.879Z"
   },
   {
    "duration": 91,
    "start_time": "2021-11-03T11:35:16.585Z"
   },
   {
    "duration": 389,
    "start_time": "2021-11-03T11:35:20.999Z"
   },
   {
    "duration": 100,
    "start_time": "2021-11-03T11:35:31.438Z"
   },
   {
    "duration": 425,
    "start_time": "2021-11-03T11:35:34.785Z"
   },
   {
    "duration": 301,
    "start_time": "2021-11-03T11:52:29.041Z"
   },
   {
    "duration": 97,
    "start_time": "2021-11-03T11:52:32.956Z"
   },
   {
    "duration": 286,
    "start_time": "2021-11-03T11:52:34.853Z"
   },
   {
    "duration": 310,
    "start_time": "2021-11-03T11:53:42.335Z"
   },
   {
    "duration": 293,
    "start_time": "2021-11-03T11:54:00.930Z"
   },
   {
    "duration": 302,
    "start_time": "2021-11-03T11:54:22.767Z"
   },
   {
    "duration": 306,
    "start_time": "2021-11-03T11:54:30.214Z"
   },
   {
    "duration": 307,
    "start_time": "2021-11-03T11:54:34.766Z"
   },
   {
    "duration": 302,
    "start_time": "2021-11-03T11:54:37.865Z"
   },
   {
    "duration": 387,
    "start_time": "2021-11-03T11:58:33.571Z"
   },
   {
    "duration": 322,
    "start_time": "2021-11-03T11:58:47.099Z"
   },
   {
    "duration": 7539,
    "start_time": "2021-11-03T11:58:53.993Z"
   },
   {
    "duration": 427,
    "start_time": "2021-11-03T11:59:10.108Z"
   },
   {
    "duration": 794,
    "start_time": "2021-11-03T12:00:01.237Z"
   },
   {
    "duration": 7226,
    "start_time": "2021-11-03T12:00:26.705Z"
   },
   {
    "duration": 689,
    "start_time": "2021-11-03T12:07:02.045Z"
   },
   {
    "duration": 148,
    "start_time": "2021-11-03T12:07:13.505Z"
   },
   {
    "duration": 495,
    "start_time": "2021-11-03T12:08:34.350Z"
   },
   {
    "duration": 1257,
    "start_time": "2021-11-03T12:09:15.025Z"
   },
   {
    "duration": 459,
    "start_time": "2021-11-03T12:09:18.985Z"
   },
   {
    "duration": 104,
    "start_time": "2021-11-03T12:11:36.862Z"
   },
   {
    "duration": 473,
    "start_time": "2021-11-03T12:11:45.142Z"
   },
   {
    "duration": 3961,
    "start_time": "2021-11-03T12:11:51.527Z"
   },
   {
    "duration": 5,
    "start_time": "2021-11-03T12:12:02.473Z"
   },
   {
    "duration": 633,
    "start_time": "2021-11-03T12:12:02.480Z"
   },
   {
    "duration": 73,
    "start_time": "2021-11-03T12:12:03.116Z"
   },
   {
    "duration": 91,
    "start_time": "2021-11-03T12:12:03.191Z"
   },
   {
    "duration": 41,
    "start_time": "2021-11-03T12:12:03.285Z"
   },
   {
    "duration": 18,
    "start_time": "2021-11-03T12:12:03.328Z"
   },
   {
    "duration": 68,
    "start_time": "2021-11-03T12:12:03.348Z"
   },
   {
    "duration": 134,
    "start_time": "2021-11-03T12:12:03.419Z"
   },
   {
    "duration": 10,
    "start_time": "2021-11-03T12:12:03.557Z"
   },
   {
    "duration": 89,
    "start_time": "2021-11-03T12:12:03.570Z"
   },
   {
    "duration": 86,
    "start_time": "2021-11-03T12:12:03.662Z"
   },
   {
    "duration": 1263,
    "start_time": "2021-11-03T12:12:03.750Z"
   },
   {
    "duration": 17,
    "start_time": "2021-11-03T12:12:05.015Z"
   },
   {
    "duration": 5,
    "start_time": "2021-11-03T12:12:05.035Z"
   },
   {
    "duration": 962,
    "start_time": "2021-11-03T12:12:14.734Z"
   },
   {
    "duration": 638,
    "start_time": "2021-11-03T12:12:55.403Z"
   },
   {
    "duration": 379,
    "start_time": "2021-11-03T12:13:12.988Z"
   },
   {
    "duration": 646,
    "start_time": "2021-11-03T12:13:20.014Z"
   },
   {
    "duration": 847,
    "start_time": "2021-11-03T12:15:28.901Z"
   },
   {
    "duration": 875,
    "start_time": "2021-11-03T12:16:17.876Z"
   },
   {
    "duration": 4,
    "start_time": "2021-11-03T12:16:22.219Z"
   },
   {
    "duration": 496,
    "start_time": "2021-11-03T12:16:22.226Z"
   },
   {
    "duration": 65,
    "start_time": "2021-11-03T12:16:22.725Z"
   },
   {
    "duration": 66,
    "start_time": "2021-11-03T12:16:22.793Z"
   },
   {
    "duration": 49,
    "start_time": "2021-11-03T12:16:22.861Z"
   },
   {
    "duration": 16,
    "start_time": "2021-11-03T12:16:22.912Z"
   },
   {
    "duration": 74,
    "start_time": "2021-11-03T12:16:22.930Z"
   },
   {
    "duration": 110,
    "start_time": "2021-11-03T12:16:23.008Z"
   },
   {
    "duration": 10,
    "start_time": "2021-11-03T12:16:23.120Z"
   },
   {
    "duration": 96,
    "start_time": "2021-11-03T12:16:23.133Z"
   },
   {
    "duration": 85,
    "start_time": "2021-11-03T12:16:23.231Z"
   },
   {
    "duration": 837,
    "start_time": "2021-11-03T12:16:23.318Z"
   },
   {
    "duration": 30,
    "start_time": "2021-11-03T12:16:24.157Z"
   },
   {
    "duration": 3,
    "start_time": "2021-11-03T12:16:24.190Z"
   },
   {
    "duration": 353,
    "start_time": "2021-11-03T15:19:06.704Z"
   },
   {
    "duration": 5,
    "start_time": "2021-11-03T15:20:00.593Z"
   },
   {
    "duration": 599,
    "start_time": "2021-11-03T15:20:00.601Z"
   },
   {
    "duration": 96,
    "start_time": "2021-11-03T15:20:01.203Z"
   },
   {
    "duration": 118,
    "start_time": "2021-11-03T15:20:01.303Z"
   },
   {
    "duration": 33,
    "start_time": "2021-11-03T15:20:01.424Z"
   },
   {
    "duration": 40,
    "start_time": "2021-11-03T15:20:01.460Z"
   },
   {
    "duration": 81,
    "start_time": "2021-11-03T15:20:01.503Z"
   },
   {
    "duration": 172,
    "start_time": "2021-11-03T15:20:01.591Z"
   },
   {
    "duration": 16,
    "start_time": "2021-11-03T15:20:01.766Z"
   },
   {
    "duration": 120,
    "start_time": "2021-11-03T15:20:01.785Z"
   },
   {
    "duration": 90,
    "start_time": "2021-11-03T15:20:01.907Z"
   },
   {
    "duration": 331,
    "start_time": "2021-11-03T15:20:01.999Z"
   },
   {
    "duration": 540,
    "start_time": "2021-11-03T15:20:02.332Z"
   },
   {
    "duration": 1259,
    "start_time": "2021-11-03T15:20:01.616Z"
   },
   {
    "duration": 1257,
    "start_time": "2021-11-03T15:20:01.619Z"
   },
   {
    "duration": 314,
    "start_time": "2021-11-03T15:20:07.606Z"
   },
   {
    "duration": 49,
    "start_time": "2021-11-03T15:20:09.040Z"
   },
   {
    "duration": 1188,
    "start_time": "2021-11-03T15:21:33.145Z"
   },
   {
    "duration": 94,
    "start_time": "2021-11-03T15:21:53.790Z"
   },
   {
    "duration": 25,
    "start_time": "2021-11-03T15:22:27.613Z"
   },
   {
    "duration": 61,
    "start_time": "2021-11-03T15:23:13.528Z"
   },
   {
    "duration": 63,
    "start_time": "2021-11-03T15:23:23.387Z"
   },
   {
    "duration": 34,
    "start_time": "2021-11-03T15:23:31.200Z"
   },
   {
    "duration": 4,
    "start_time": "2021-11-03T15:24:12.205Z"
   },
   {
    "duration": 526,
    "start_time": "2021-11-03T15:24:12.212Z"
   },
   {
    "duration": 68,
    "start_time": "2021-11-03T15:24:12.741Z"
   },
   {
    "duration": 87,
    "start_time": "2021-11-03T15:24:12.811Z"
   },
   {
    "duration": 26,
    "start_time": "2021-11-03T15:24:12.900Z"
   },
   {
    "duration": 19,
    "start_time": "2021-11-03T15:24:12.928Z"
   },
   {
    "duration": 67,
    "start_time": "2021-11-03T15:24:12.949Z"
   },
   {
    "duration": 126,
    "start_time": "2021-11-03T15:24:13.018Z"
   },
   {
    "duration": 13,
    "start_time": "2021-11-03T15:24:13.147Z"
   },
   {
    "duration": 95,
    "start_time": "2021-11-03T15:24:13.162Z"
   },
   {
    "duration": 92,
    "start_time": "2021-11-03T15:24:13.259Z"
   },
   {
    "duration": 320,
    "start_time": "2021-11-03T15:24:13.353Z"
   },
   {
    "duration": 34,
    "start_time": "2021-11-03T15:24:13.675Z"
   },
   {
    "duration": 326,
    "start_time": "2021-11-03T15:24:13.711Z"
   },
   {
    "duration": 21,
    "start_time": "2021-11-03T15:24:14.039Z"
   },
   {
    "duration": 21,
    "start_time": "2021-11-03T15:24:14.062Z"
   },
   {
    "duration": 982,
    "start_time": "2021-11-03T15:27:05.417Z"
   },
   {
    "duration": 21,
    "start_time": "2021-11-03T15:27:06.402Z"
   },
   {
    "duration": 3,
    "start_time": "2021-11-03T15:27:27.479Z"
   },
   {
    "duration": 542,
    "start_time": "2021-11-03T15:27:27.485Z"
   },
   {
    "duration": 71,
    "start_time": "2021-11-03T15:27:28.030Z"
   },
   {
    "duration": 87,
    "start_time": "2021-11-03T15:27:28.105Z"
   },
   {
    "duration": 26,
    "start_time": "2021-11-03T15:27:28.194Z"
   },
   {
    "duration": 16,
    "start_time": "2021-11-03T15:27:28.222Z"
   },
   {
    "duration": 79,
    "start_time": "2021-11-03T15:27:28.240Z"
   },
   {
    "duration": 130,
    "start_time": "2021-11-03T15:27:28.321Z"
   },
   {
    "duration": 12,
    "start_time": "2021-11-03T15:27:28.454Z"
   },
   {
    "duration": 91,
    "start_time": "2021-11-03T15:27:28.469Z"
   },
   {
    "duration": 71,
    "start_time": "2021-11-03T15:27:28.583Z"
   },
   {
    "duration": 316,
    "start_time": "2021-11-03T15:27:28.656Z"
   },
   {
    "duration": 35,
    "start_time": "2021-11-03T15:27:28.974Z"
   },
   {
    "duration": 336,
    "start_time": "2021-11-03T15:27:29.013Z"
   },
   {
    "duration": 31,
    "start_time": "2021-11-03T15:27:29.351Z"
   },
   {
    "duration": 353,
    "start_time": "2021-11-03T15:27:29.385Z"
   },
   {
    "duration": 22,
    "start_time": "2021-11-03T15:27:29.740Z"
   },
   {
    "duration": 18,
    "start_time": "2021-11-03T15:27:29.764Z"
   },
   {
    "duration": 8,
    "start_time": "2021-11-03T15:58:09.623Z"
   },
   {
    "duration": 25,
    "start_time": "2021-11-03T15:59:03.323Z"
   },
   {
    "duration": 317,
    "start_time": "2021-11-03T15:59:17.270Z"
   },
   {
    "duration": 26,
    "start_time": "2021-11-03T15:59:55.288Z"
   },
   {
    "duration": 4,
    "start_time": "2021-11-03T16:00:48.454Z"
   },
   {
    "duration": 556,
    "start_time": "2021-11-03T16:00:48.461Z"
   },
   {
    "duration": 68,
    "start_time": "2021-11-03T16:00:49.020Z"
   },
   {
    "duration": 64,
    "start_time": "2021-11-03T16:00:49.091Z"
   },
   {
    "duration": 35,
    "start_time": "2021-11-03T16:00:49.182Z"
   },
   {
    "duration": 18,
    "start_time": "2021-11-03T16:00:49.220Z"
   },
   {
    "duration": 78,
    "start_time": "2021-11-03T16:00:49.241Z"
   },
   {
    "duration": 114,
    "start_time": "2021-11-03T16:00:49.321Z"
   },
   {
    "duration": 10,
    "start_time": "2021-11-03T16:00:49.438Z"
   },
   {
    "duration": 98,
    "start_time": "2021-11-03T16:00:49.451Z"
   },
   {
    "duration": 91,
    "start_time": "2021-11-03T16:00:49.552Z"
   },
   {
    "duration": 7,
    "start_time": "2021-11-03T16:00:49.646Z"
   },
   {
    "duration": 291,
    "start_time": "2021-11-03T16:00:49.656Z"
   },
   {
    "duration": 36,
    "start_time": "2021-11-03T16:00:49.949Z"
   },
   {
    "duration": 302,
    "start_time": "2021-11-03T16:00:49.987Z"
   },
   {
    "duration": 23,
    "start_time": "2021-11-03T16:00:50.291Z"
   },
   {
    "duration": 310,
    "start_time": "2021-11-03T16:00:50.316Z"
   },
   {
    "duration": 1174,
    "start_time": "2021-11-03T16:00:49.455Z"
   },
   {
    "duration": 1171,
    "start_time": "2021-11-03T16:00:49.460Z"
   },
   {
    "duration": 314,
    "start_time": "2021-11-03T16:01:05.782Z"
   },
   {
    "duration": 399,
    "start_time": "2021-11-03T16:01:12.086Z"
   },
   {
    "duration": 338,
    "start_time": "2021-11-03T16:01:30.895Z"
   },
   {
    "duration": 5,
    "start_time": "2021-11-03T16:01:53.492Z"
   },
   {
    "duration": 557,
    "start_time": "2021-11-03T16:01:53.500Z"
   },
   {
    "duration": 73,
    "start_time": "2021-11-03T16:01:54.060Z"
   },
   {
    "duration": 94,
    "start_time": "2021-11-03T16:01:54.135Z"
   },
   {
    "duration": 25,
    "start_time": "2021-11-03T16:01:54.231Z"
   },
   {
    "duration": 45,
    "start_time": "2021-11-03T16:01:54.259Z"
   },
   {
    "duration": 39,
    "start_time": "2021-11-03T16:01:54.306Z"
   },
   {
    "duration": 123,
    "start_time": "2021-11-03T16:01:54.348Z"
   },
   {
    "duration": 19,
    "start_time": "2021-11-03T16:01:54.475Z"
   },
   {
    "duration": 103,
    "start_time": "2021-11-03T16:01:54.497Z"
   },
   {
    "duration": 72,
    "start_time": "2021-11-03T16:01:54.602Z"
   },
   {
    "duration": 9,
    "start_time": "2021-11-03T16:01:54.682Z"
   },
   {
    "duration": 292,
    "start_time": "2021-11-03T16:01:54.698Z"
   },
   {
    "duration": 34,
    "start_time": "2021-11-03T16:01:54.992Z"
   },
   {
    "duration": 290,
    "start_time": "2021-11-03T16:01:55.028Z"
   },
   {
    "duration": 22,
    "start_time": "2021-11-03T16:01:55.320Z"
   },
   {
    "duration": 343,
    "start_time": "2021-11-03T16:01:55.344Z"
   },
   {
    "duration": 24,
    "start_time": "2021-11-03T16:01:55.689Z"
   },
   {
    "duration": 4,
    "start_time": "2021-11-03T16:01:55.715Z"
   },
   {
    "duration": 4,
    "start_time": "2021-11-03T16:03:06.421Z"
   },
   {
    "duration": 543,
    "start_time": "2021-11-03T16:03:06.428Z"
   },
   {
    "duration": 75,
    "start_time": "2021-11-03T16:03:06.977Z"
   },
   {
    "duration": 91,
    "start_time": "2021-11-03T16:03:07.054Z"
   },
   {
    "duration": 48,
    "start_time": "2021-11-03T16:03:07.147Z"
   },
   {
    "duration": 23,
    "start_time": "2021-11-03T16:03:07.198Z"
   },
   {
    "duration": 77,
    "start_time": "2021-11-03T16:03:07.225Z"
   },
   {
    "duration": 105,
    "start_time": "2021-11-03T16:03:07.305Z"
   },
   {
    "duration": 11,
    "start_time": "2021-11-03T16:03:07.412Z"
   },
   {
    "duration": 107,
    "start_time": "2021-11-03T16:03:07.426Z"
   },
   {
    "duration": 88,
    "start_time": "2021-11-03T16:03:07.535Z"
   },
   {
    "duration": 6,
    "start_time": "2021-11-03T16:03:07.626Z"
   },
   {
    "duration": 287,
    "start_time": "2021-11-03T16:03:07.634Z"
   },
   {
    "duration": 31,
    "start_time": "2021-11-03T16:03:07.924Z"
   },
   {
    "duration": 290,
    "start_time": "2021-11-03T16:03:07.957Z"
   },
   {
    "duration": 33,
    "start_time": "2021-11-03T16:03:08.250Z"
   },
   {
    "duration": 339,
    "start_time": "2021-11-03T16:03:08.286Z"
   },
   {
    "duration": 24,
    "start_time": "2021-11-03T16:03:08.628Z"
   },
   {
    "duration": 26,
    "start_time": "2021-11-03T16:03:08.657Z"
   },
   {
    "duration": 6,
    "start_time": "2021-11-03T17:16:11.670Z"
   },
   {
    "duration": 12,
    "start_time": "2021-11-03T17:17:50.826Z"
   },
   {
    "duration": 4,
    "start_time": "2021-11-03T17:28:43.239Z"
   },
   {
    "duration": 741,
    "start_time": "2021-11-03T17:28:43.246Z"
   },
   {
    "duration": 127,
    "start_time": "2021-11-03T17:28:43.991Z"
   },
   {
    "duration": 111,
    "start_time": "2021-11-03T17:28:44.122Z"
   },
   {
    "duration": 57,
    "start_time": "2021-11-03T17:28:44.237Z"
   },
   {
    "duration": 24,
    "start_time": "2021-11-03T17:28:44.297Z"
   },
   {
    "duration": 88,
    "start_time": "2021-11-03T17:28:44.324Z"
   },
   {
    "duration": 167,
    "start_time": "2021-11-03T17:28:44.415Z"
   },
   {
    "duration": 15,
    "start_time": "2021-11-03T17:28:44.587Z"
   },
   {
    "duration": 118,
    "start_time": "2021-11-03T17:28:44.605Z"
   },
   {
    "duration": 105,
    "start_time": "2021-11-03T17:28:44.726Z"
   },
   {
    "duration": 7,
    "start_time": "2021-11-03T17:28:44.834Z"
   },
   {
    "duration": 290,
    "start_time": "2021-11-03T17:28:44.844Z"
   },
   {
    "duration": 46,
    "start_time": "2021-11-03T17:28:45.136Z"
   },
   {
    "duration": 286,
    "start_time": "2021-11-03T17:28:45.184Z"
   },
   {
    "duration": 21,
    "start_time": "2021-11-03T17:28:45.473Z"
   },
   {
    "duration": 345,
    "start_time": "2021-11-03T17:28:45.497Z"
   },
   {
    "duration": 24,
    "start_time": "2021-11-03T17:28:45.844Z"
   },
   {
    "duration": 12,
    "start_time": "2021-11-03T17:28:45.883Z"
   },
   {
    "duration": 13,
    "start_time": "2021-11-03T17:28:45.898Z"
   },
   {
    "duration": 10,
    "start_time": "2021-11-03T17:28:45.914Z"
   },
   {
    "duration": 3975,
    "start_time": "2021-11-03T17:29:04.641Z"
   },
   {
    "duration": 3,
    "start_time": "2021-11-03T17:29:38.713Z"
   },
   {
    "duration": 537,
    "start_time": "2021-11-03T17:29:38.720Z"
   },
   {
    "duration": 77,
    "start_time": "2021-11-03T17:29:39.260Z"
   },
   {
    "duration": 92,
    "start_time": "2021-11-03T17:29:39.340Z"
   },
   {
    "duration": 25,
    "start_time": "2021-11-03T17:29:39.434Z"
   },
   {
    "duration": 40,
    "start_time": "2021-11-03T17:29:39.462Z"
   },
   {
    "duration": 38,
    "start_time": "2021-11-03T17:29:39.506Z"
   },
   {
    "duration": 143,
    "start_time": "2021-11-03T17:29:39.547Z"
   },
   {
    "duration": 13,
    "start_time": "2021-11-03T17:29:39.693Z"
   },
   {
    "duration": 110,
    "start_time": "2021-11-03T17:29:39.709Z"
   },
   {
    "duration": 84,
    "start_time": "2021-11-03T17:29:39.821Z"
   },
   {
    "duration": 8,
    "start_time": "2021-11-03T17:29:39.907Z"
   },
   {
    "duration": 294,
    "start_time": "2021-11-03T17:29:39.918Z"
   },
   {
    "duration": 31,
    "start_time": "2021-11-03T17:29:40.214Z"
   },
   {
    "duration": 293,
    "start_time": "2021-11-03T17:29:40.248Z"
   },
   {
    "duration": 21,
    "start_time": "2021-11-03T17:29:40.544Z"
   },
   {
    "duration": 347,
    "start_time": "2021-11-03T17:29:40.567Z"
   },
   {
    "duration": 21,
    "start_time": "2021-11-03T17:29:40.916Z"
   },
   {
    "duration": 10,
    "start_time": "2021-11-03T17:29:40.942Z"
   },
   {
    "duration": 11,
    "start_time": "2021-11-03T17:29:40.954Z"
   },
   {
    "duration": 4134,
    "start_time": "2021-11-03T17:29:40.967Z"
   },
   {
    "duration": -103,
    "start_time": "2021-11-03T17:29:45.206Z"
   },
   {
    "duration": 48,
    "start_time": "2021-11-03T17:31:46.716Z"
   },
   {
    "duration": 6,
    "start_time": "2021-11-03T17:38:04.731Z"
   },
   {
    "duration": 5285,
    "start_time": "2021-11-03T17:39:22.971Z"
   },
   {
    "duration": 710,
    "start_time": "2021-11-03T17:39:33.459Z"
   },
   {
    "duration": 4827,
    "start_time": "2021-11-03T17:39:46.988Z"
   },
   {
    "duration": 12,
    "start_time": "2021-11-03T17:40:59.102Z"
   },
   {
    "duration": 4520,
    "start_time": "2021-11-03T17:41:00.440Z"
   },
   {
    "duration": 826,
    "start_time": "2021-11-03T17:41:13.036Z"
   },
   {
    "duration": 638,
    "start_time": "2021-11-03T17:41:18.070Z"
   },
   {
    "duration": 13,
    "start_time": "2021-11-03T17:43:41.973Z"
   },
   {
    "duration": 9923,
    "start_time": "2021-11-03T17:43:42.065Z"
   },
   {
    "duration": 13,
    "start_time": "2021-11-03T17:44:11.756Z"
   },
   {
    "duration": 9157,
    "start_time": "2021-11-03T17:44:12.247Z"
   },
   {
    "duration": 13,
    "start_time": "2021-11-03T17:44:36.853Z"
   },
   {
    "duration": 8601,
    "start_time": "2021-11-03T17:44:37.062Z"
   },
   {
    "duration": 13,
    "start_time": "2021-11-03T17:45:08.812Z"
   },
   {
    "duration": 682,
    "start_time": "2021-11-03T17:45:10.098Z"
   },
   {
    "duration": 17,
    "start_time": "2021-11-03T17:46:18.134Z"
   },
   {
    "duration": 692,
    "start_time": "2021-11-03T17:46:18.418Z"
   },
   {
    "duration": 13,
    "start_time": "2021-11-03T17:47:09.338Z"
   },
   {
    "duration": 626,
    "start_time": "2021-11-03T17:47:09.597Z"
   },
   {
    "duration": 19,
    "start_time": "2021-11-03T17:48:06.506Z"
   },
   {
    "duration": 664,
    "start_time": "2021-11-03T17:48:06.751Z"
   },
   {
    "duration": 12,
    "start_time": "2021-11-03T17:48:30.568Z"
   },
   {
    "duration": 717,
    "start_time": "2021-11-03T17:48:30.781Z"
   },
   {
    "duration": 11,
    "start_time": "2021-11-03T17:48:59.797Z"
   },
   {
    "duration": 660,
    "start_time": "2021-11-03T17:49:00.342Z"
   },
   {
    "duration": 11,
    "start_time": "2021-11-03T17:50:23.109Z"
   },
   {
    "duration": 594,
    "start_time": "2021-11-03T17:50:23.725Z"
   },
   {
    "duration": 18,
    "start_time": "2021-11-03T17:51:02.087Z"
   },
   {
    "duration": 11140,
    "start_time": "2021-11-03T17:51:02.514Z"
   },
   {
    "duration": 4,
    "start_time": "2021-11-03T17:51:15.469Z"
   },
   {
    "duration": 570,
    "start_time": "2021-11-03T17:51:15.475Z"
   },
   {
    "duration": 77,
    "start_time": "2021-11-03T17:51:16.049Z"
   },
   {
    "duration": 88,
    "start_time": "2021-11-03T17:51:16.128Z"
   },
   {
    "duration": 26,
    "start_time": "2021-11-03T17:51:16.219Z"
   },
   {
    "duration": 15,
    "start_time": "2021-11-03T17:51:16.247Z"
   },
   {
    "duration": 44,
    "start_time": "2021-11-03T17:51:16.287Z"
   },
   {
    "duration": 119,
    "start_time": "2021-11-03T17:51:16.333Z"
   },
   {
    "duration": 11,
    "start_time": "2021-11-03T17:51:16.455Z"
   },
   {
    "duration": 97,
    "start_time": "2021-11-03T17:51:16.469Z"
   },
   {
    "duration": 86,
    "start_time": "2021-11-03T17:51:16.568Z"
   },
   {
    "duration": 6,
    "start_time": "2021-11-03T17:51:16.656Z"
   },
   {
    "duration": 284,
    "start_time": "2021-11-03T17:51:16.682Z"
   },
   {
    "duration": 49,
    "start_time": "2021-11-03T17:51:16.969Z"
   },
   {
    "duration": 285,
    "start_time": "2021-11-03T17:51:17.020Z"
   },
   {
    "duration": 25,
    "start_time": "2021-11-03T17:51:17.308Z"
   },
   {
    "duration": 375,
    "start_time": "2021-11-03T17:51:17.336Z"
   },
   {
    "duration": 22,
    "start_time": "2021-11-03T17:51:17.713Z"
   },
   {
    "duration": 8,
    "start_time": "2021-11-03T17:51:17.737Z"
   },
   {
    "duration": 15,
    "start_time": "2021-11-03T17:51:17.748Z"
   },
   {
    "duration": 20905,
    "start_time": "2021-11-03T17:51:17.765Z"
   },
   {
    "duration": 4,
    "start_time": "2021-11-03T17:51:38.681Z"
   },
   {
    "duration": 20047,
    "start_time": "2021-11-03T17:52:03.642Z"
   },
   {
    "duration": 9,
    "start_time": "2021-11-03T17:52:23.692Z"
   },
   {
    "duration": 1506,
    "start_time": "2021-11-03T17:52:45.601Z"
   },
   {
    "duration": 563,
    "start_time": "2021-11-03T17:52:47.109Z"
   },
   {
    "duration": 84,
    "start_time": "2021-11-03T17:52:47.674Z"
   },
   {
    "duration": 89,
    "start_time": "2021-11-03T17:52:47.760Z"
   },
   {
    "duration": 57,
    "start_time": "2021-11-03T17:52:47.851Z"
   },
   {
    "duration": 20,
    "start_time": "2021-11-03T17:52:47.910Z"
   },
   {
    "duration": 73,
    "start_time": "2021-11-03T17:52:47.933Z"
   },
   {
    "duration": 128,
    "start_time": "2021-11-03T17:52:48.009Z"
   },
   {
    "duration": 11,
    "start_time": "2021-11-03T17:52:48.140Z"
   },
   {
    "duration": 95,
    "start_time": "2021-11-03T17:52:48.153Z"
   },
   {
    "duration": 87,
    "start_time": "2021-11-03T17:52:48.250Z"
   },
   {
    "duration": 7,
    "start_time": "2021-11-03T17:52:48.340Z"
   },
   {
    "duration": 291,
    "start_time": "2021-11-03T17:52:48.349Z"
   },
   {
    "duration": 46,
    "start_time": "2021-11-03T17:52:48.642Z"
   },
   {
    "duration": 285,
    "start_time": "2021-11-03T17:52:48.690Z"
   },
   {
    "duration": 26,
    "start_time": "2021-11-03T17:52:48.978Z"
   },
   {
    "duration": 387,
    "start_time": "2021-11-03T17:52:49.007Z"
   },
   {
    "duration": 22,
    "start_time": "2021-11-03T17:52:49.396Z"
   },
   {
    "duration": 5,
    "start_time": "2021-11-03T17:52:49.420Z"
   },
   {
    "duration": 12,
    "start_time": "2021-11-03T17:52:49.427Z"
   },
   {
    "duration": 20026,
    "start_time": "2021-11-03T17:52:49.441Z"
   },
   {
    "duration": 137,
    "start_time": "2021-11-03T17:53:09.470Z"
   },
   {
    "duration": 3,
    "start_time": "2021-11-03T17:53:09.613Z"
   },
   {
    "duration": 996,
    "start_time": "2021-11-04T10:32:56.217Z"
   },
   {
    "duration": 410,
    "start_time": "2021-11-04T10:32:57.215Z"
   },
   {
    "duration": 52,
    "start_time": "2021-11-04T10:32:57.626Z"
   },
   {
    "duration": 45,
    "start_time": "2021-11-04T10:32:57.680Z"
   },
   {
    "duration": 17,
    "start_time": "2021-11-04T10:32:57.726Z"
   },
   {
    "duration": 11,
    "start_time": "2021-11-04T10:32:57.744Z"
   },
   {
    "duration": 47,
    "start_time": "2021-11-04T10:32:57.756Z"
   },
   {
    "duration": 62,
    "start_time": "2021-11-04T10:32:57.804Z"
   },
   {
    "duration": 23,
    "start_time": "2021-11-04T10:32:57.869Z"
   },
   {
    "duration": 53,
    "start_time": "2021-11-04T10:32:57.894Z"
   },
   {
    "duration": 57,
    "start_time": "2021-11-04T10:32:57.948Z"
   },
   {
    "duration": 4,
    "start_time": "2021-11-04T10:32:58.007Z"
   },
   {
    "duration": 165,
    "start_time": "2021-11-04T10:32:58.013Z"
   },
   {
    "duration": 23,
    "start_time": "2021-11-04T10:32:58.180Z"
   },
   {
    "duration": 164,
    "start_time": "2021-11-04T10:32:58.204Z"
   },
   {
    "duration": 14,
    "start_time": "2021-11-04T10:32:58.369Z"
   },
   {
    "duration": 171,
    "start_time": "2021-11-04T10:32:58.391Z"
   },
   {
    "duration": 13,
    "start_time": "2021-11-04T10:32:58.564Z"
   },
   {
    "duration": 13,
    "start_time": "2021-11-04T10:32:58.579Z"
   },
   {
    "duration": 8,
    "start_time": "2021-11-04T10:32:58.593Z"
   },
   {
    "duration": 2487,
    "start_time": "2021-11-04T10:32:58.603Z"
   },
   {
    "duration": 422,
    "start_time": "2021-11-04T10:33:00.671Z"
   },
   {
    "duration": 420,
    "start_time": "2021-11-04T10:33:00.674Z"
   },
   {
    "duration": 3,
    "start_time": "2021-11-04T10:33:06.770Z"
   },
   {
    "duration": 402,
    "start_time": "2021-11-04T10:33:06.775Z"
   },
   {
    "duration": 48,
    "start_time": "2021-11-04T10:33:07.179Z"
   },
   {
    "duration": 43,
    "start_time": "2021-11-04T10:33:07.229Z"
   },
   {
    "duration": 32,
    "start_time": "2021-11-04T10:33:07.274Z"
   },
   {
    "duration": 10,
    "start_time": "2021-11-04T10:33:07.308Z"
   },
   {
    "duration": 26,
    "start_time": "2021-11-04T10:33:07.320Z"
   },
   {
    "duration": 86,
    "start_time": "2021-11-04T10:33:07.347Z"
   },
   {
    "duration": 8,
    "start_time": "2021-11-04T10:33:07.436Z"
   },
   {
    "duration": 69,
    "start_time": "2021-11-04T10:33:07.445Z"
   },
   {
    "duration": 48,
    "start_time": "2021-11-04T10:33:07.515Z"
   },
   {
    "duration": 5,
    "start_time": "2021-11-04T10:33:07.564Z"
   },
   {
    "duration": 167,
    "start_time": "2021-11-04T10:33:07.570Z"
   },
   {
    "duration": 18,
    "start_time": "2021-11-04T10:33:07.739Z"
   },
   {
    "duration": 164,
    "start_time": "2021-11-04T10:33:07.759Z"
   },
   {
    "duration": 13,
    "start_time": "2021-11-04T10:33:07.925Z"
   },
   {
    "duration": 188,
    "start_time": "2021-11-04T10:33:07.940Z"
   },
   {
    "duration": 14,
    "start_time": "2021-11-04T10:33:08.129Z"
   },
   {
    "duration": 4,
    "start_time": "2021-11-04T10:33:08.144Z"
   },
   {
    "duration": 8,
    "start_time": "2021-11-04T10:33:08.150Z"
   },
   {
    "duration": 10546,
    "start_time": "2021-11-04T10:33:08.159Z"
   },
   {
    "duration": 27,
    "start_time": "2021-11-04T10:33:18.707Z"
   },
   {
    "duration": 2,
    "start_time": "2021-11-04T10:33:18.735Z"
   },
   {
    "duration": 10386,
    "start_time": "2021-11-04T10:33:32.823Z"
   },
   {
    "duration": 55,
    "start_time": "2021-11-04T10:33:43.210Z"
   },
   {
    "duration": 13,
    "start_time": "2021-11-04T10:34:51.104Z"
   },
   {
    "duration": 60,
    "start_time": "2021-11-04T10:34:57.072Z"
   },
   {
    "duration": 10,
    "start_time": "2021-11-04T10:36:21.229Z"
   },
   {
    "duration": 7,
    "start_time": "2021-11-04T10:37:57.855Z"
   },
   {
    "duration": 9700,
    "start_time": "2021-11-04T10:37:58.610Z"
   },
   {
    "duration": 9,
    "start_time": "2021-11-04T10:38:14.326Z"
   },
   {
    "duration": 12529,
    "start_time": "2021-11-04T10:38:14.740Z"
   },
   {
    "duration": 62,
    "start_time": "2021-11-04T10:40:56.571Z"
   },
   {
    "duration": 12294,
    "start_time": "2021-11-04T10:40:57.303Z"
   },
   {
    "duration": 60,
    "start_time": "2021-11-04T10:41:14.839Z"
   },
   {
    "duration": 12558,
    "start_time": "2021-11-04T10:41:15.804Z"
   },
   {
    "duration": 58,
    "start_time": "2021-11-04T10:41:55.885Z"
   },
   {
    "duration": 12480,
    "start_time": "2021-11-04T10:41:56.215Z"
   },
   {
    "duration": 142,
    "start_time": "2021-11-04T10:42:33.730Z"
   },
   {
    "duration": 61,
    "start_time": "2021-11-04T10:42:39.485Z"
   },
   {
    "duration": 111,
    "start_time": "2021-11-04T10:43:12.799Z"
   },
   {
    "duration": 24,
    "start_time": "2021-11-04T10:43:25.873Z"
   },
   {
    "duration": 375,
    "start_time": "2021-11-04T10:43:25.898Z"
   },
   {
    "duration": 7,
    "start_time": "2021-11-04T10:43:42.932Z"
   },
   {
    "duration": 2846,
    "start_time": "2021-11-04T10:43:43.821Z"
   },
   {
    "duration": 7,
    "start_time": "2021-11-04T10:43:54.728Z"
   },
   {
    "duration": 3885,
    "start_time": "2021-11-04T10:43:55.863Z"
   },
   {
    "duration": 8,
    "start_time": "2021-11-04T10:44:25.224Z"
   },
   {
    "duration": 351,
    "start_time": "2021-11-04T10:44:25.712Z"
   },
   {
    "duration": 7,
    "start_time": "2021-11-04T10:45:08.870Z"
   },
   {
    "duration": 451,
    "start_time": "2021-11-04T10:45:09.308Z"
   },
   {
    "duration": 7,
    "start_time": "2021-11-04T10:45:44.697Z"
   },
   {
    "duration": 407,
    "start_time": "2021-11-04T10:45:45.165Z"
   },
   {
    "duration": 58,
    "start_time": "2021-11-04T10:46:01.779Z"
   },
   {
    "duration": 352,
    "start_time": "2021-11-04T10:46:02.152Z"
   },
   {
    "duration": 8,
    "start_time": "2021-11-04T10:46:13.962Z"
   },
   {
    "duration": 362,
    "start_time": "2021-11-04T10:46:14.425Z"
   },
   {
    "duration": 7,
    "start_time": "2021-11-04T10:47:17.587Z"
   },
   {
    "duration": 365,
    "start_time": "2021-11-04T10:47:17.924Z"
   },
   {
    "duration": 8,
    "start_time": "2021-11-04T10:47:44.892Z"
   },
   {
    "duration": 340,
    "start_time": "2021-11-04T10:47:45.537Z"
   },
   {
    "duration": 7,
    "start_time": "2021-11-04T10:48:02.449Z"
   },
   {
    "duration": 1161,
    "start_time": "2021-11-04T10:48:02.707Z"
   },
   {
    "duration": 29,
    "start_time": "2021-11-04T10:48:11.901Z"
   },
   {
    "duration": 3,
    "start_time": "2021-11-04T10:49:11.396Z"
   },
   {
    "duration": 403,
    "start_time": "2021-11-04T10:49:11.401Z"
   },
   {
    "duration": 47,
    "start_time": "2021-11-04T10:49:11.806Z"
   },
   {
    "duration": 53,
    "start_time": "2021-11-04T10:49:11.855Z"
   },
   {
    "duration": 17,
    "start_time": "2021-11-04T10:49:11.910Z"
   },
   {
    "duration": 10,
    "start_time": "2021-11-04T10:49:11.928Z"
   },
   {
    "duration": 52,
    "start_time": "2021-11-04T10:49:11.940Z"
   },
   {
    "duration": 59,
    "start_time": "2021-11-04T10:49:11.993Z"
   },
   {
    "duration": 8,
    "start_time": "2021-11-04T10:49:12.054Z"
   },
   {
    "duration": 67,
    "start_time": "2021-11-04T10:49:12.064Z"
   },
   {
    "duration": 63,
    "start_time": "2021-11-04T10:49:12.133Z"
   },
   {
    "duration": 5,
    "start_time": "2021-11-04T10:49:12.198Z"
   },
   {
    "duration": 176,
    "start_time": "2021-11-04T10:49:12.205Z"
   },
   {
    "duration": 24,
    "start_time": "2021-11-04T10:49:12.382Z"
   },
   {
    "duration": 167,
    "start_time": "2021-11-04T10:49:12.407Z"
   },
   {
    "duration": 17,
    "start_time": "2021-11-04T10:49:12.575Z"
   },
   {
    "duration": 183,
    "start_time": "2021-11-04T10:49:12.594Z"
   },
   {
    "duration": 22,
    "start_time": "2021-11-04T10:49:12.778Z"
   },
   {
    "duration": 4,
    "start_time": "2021-11-04T10:49:12.801Z"
   },
   {
    "duration": 10,
    "start_time": "2021-11-04T10:49:12.807Z"
   },
   {
    "duration": 4630,
    "start_time": "2021-11-04T10:49:12.818Z"
   },
   {
    "duration": 27,
    "start_time": "2021-11-04T10:49:17.449Z"
   },
   {
    "duration": 14,
    "start_time": "2021-11-04T10:49:17.478Z"
   },
   {
    "duration": 21,
    "start_time": "2021-11-04T12:27:12.870Z"
   },
   {
    "duration": 67,
    "start_time": "2021-11-04T12:28:36.548Z"
   },
   {
    "duration": 3,
    "start_time": "2021-11-04T12:28:48.454Z"
   },
   {
    "duration": 416,
    "start_time": "2021-11-04T12:28:48.459Z"
   },
   {
    "duration": 46,
    "start_time": "2021-11-04T12:28:48.877Z"
   },
   {
    "duration": 47,
    "start_time": "2021-11-04T12:28:48.925Z"
   },
   {
    "duration": 33,
    "start_time": "2021-11-04T12:28:48.974Z"
   },
   {
    "duration": 10,
    "start_time": "2021-11-04T12:28:49.009Z"
   },
   {
    "duration": 23,
    "start_time": "2021-11-04T12:28:49.020Z"
   },
   {
    "duration": 86,
    "start_time": "2021-11-04T12:28:49.045Z"
   },
   {
    "duration": 7,
    "start_time": "2021-11-04T12:28:49.133Z"
   },
   {
    "duration": 68,
    "start_time": "2021-11-04T12:28:49.141Z"
   },
   {
    "duration": 46,
    "start_time": "2021-11-04T12:28:49.210Z"
   },
   {
    "duration": 3,
    "start_time": "2021-11-04T12:28:49.258Z"
   },
   {
    "duration": 170,
    "start_time": "2021-11-04T12:28:49.263Z"
   },
   {
    "duration": 17,
    "start_time": "2021-11-04T12:28:49.435Z"
   },
   {
    "duration": 166,
    "start_time": "2021-11-04T12:28:49.454Z"
   },
   {
    "duration": 13,
    "start_time": "2021-11-04T12:28:49.621Z"
   },
   {
    "duration": 191,
    "start_time": "2021-11-04T12:28:49.636Z"
   },
   {
    "duration": 13,
    "start_time": "2021-11-04T12:28:49.829Z"
   },
   {
    "duration": 4,
    "start_time": "2021-11-04T12:28:49.843Z"
   },
   {
    "duration": 8,
    "start_time": "2021-11-04T12:28:49.848Z"
   },
   {
    "duration": 419,
    "start_time": "2021-11-04T12:28:49.857Z"
   },
   {
    "duration": 418,
    "start_time": "2021-11-04T12:28:49.860Z"
   },
   {
    "duration": 7,
    "start_time": "2021-11-04T12:29:03.495Z"
   },
   {
    "duration": 4228,
    "start_time": "2021-11-04T12:29:04.000Z"
   },
   {
    "duration": 13,
    "start_time": "2021-11-04T12:29:09.440Z"
   },
   {
    "duration": 1116,
    "start_time": "2021-11-04T12:30:06.281Z"
   },
   {
    "duration": 376,
    "start_time": "2021-11-04T12:30:07.398Z"
   },
   {
    "duration": 55,
    "start_time": "2021-11-04T12:30:07.776Z"
   },
   {
    "duration": 63,
    "start_time": "2021-11-04T12:30:07.833Z"
   },
   {
    "duration": 17,
    "start_time": "2021-11-04T12:30:07.898Z"
   },
   {
    "duration": 12,
    "start_time": "2021-11-04T12:30:07.917Z"
   },
   {
    "duration": 23,
    "start_time": "2021-11-04T12:30:07.930Z"
   },
   {
    "duration": 96,
    "start_time": "2021-11-04T12:30:07.955Z"
   },
   {
    "duration": 7,
    "start_time": "2021-11-04T12:30:08.053Z"
   },
   {
    "duration": 68,
    "start_time": "2021-11-04T12:30:08.062Z"
   },
   {
    "duration": 59,
    "start_time": "2021-11-04T12:30:08.132Z"
   },
   {
    "duration": 5,
    "start_time": "2021-11-04T12:30:08.193Z"
   },
   {
    "duration": 170,
    "start_time": "2021-11-04T12:30:08.200Z"
   },
   {
    "duration": 28,
    "start_time": "2021-11-04T12:30:08.372Z"
   },
   {
    "duration": 163,
    "start_time": "2021-11-04T12:30:08.402Z"
   },
   {
    "duration": 14,
    "start_time": "2021-11-04T12:30:08.567Z"
   },
   {
    "duration": 194,
    "start_time": "2021-11-04T12:30:08.583Z"
   },
   {
    "duration": 17,
    "start_time": "2021-11-04T12:30:08.779Z"
   },
   {
    "duration": 4,
    "start_time": "2021-11-04T12:30:08.798Z"
   },
   {
    "duration": 8,
    "start_time": "2021-11-04T12:30:08.803Z"
   },
   {
    "duration": 4167,
    "start_time": "2021-11-04T12:30:08.813Z"
   },
   {
    "duration": 15,
    "start_time": "2021-11-04T12:30:12.982Z"
   },
   {
    "duration": 135,
    "start_time": "2021-11-04T12:33:40.188Z"
   },
   {
    "duration": 15,
    "start_time": "2021-11-04T12:36:13.821Z"
   },
   {
    "duration": 53,
    "start_time": "2021-11-04T12:36:16.750Z"
   },
   {
    "duration": 47,
    "start_time": "2021-11-04T12:36:23.603Z"
   },
   {
    "duration": 3,
    "start_time": "2021-11-04T12:36:30.410Z"
   },
   {
    "duration": 391,
    "start_time": "2021-11-04T12:36:30.424Z"
   },
   {
    "duration": 48,
    "start_time": "2021-11-04T12:36:30.816Z"
   },
   {
    "duration": 43,
    "start_time": "2021-11-04T12:36:30.866Z"
   },
   {
    "duration": 16,
    "start_time": "2021-11-04T12:36:30.910Z"
   },
   {
    "duration": 11,
    "start_time": "2021-11-04T12:36:30.928Z"
   },
   {
    "duration": 33,
    "start_time": "2021-11-04T12:36:30.940Z"
   },
   {
    "duration": 60,
    "start_time": "2021-11-04T12:36:30.992Z"
   },
   {
    "duration": 8,
    "start_time": "2021-11-04T12:36:31.054Z"
   },
   {
    "duration": 71,
    "start_time": "2021-11-04T12:36:31.065Z"
   },
   {
    "duration": 61,
    "start_time": "2021-11-04T12:36:31.137Z"
   },
   {
    "duration": 5,
    "start_time": "2021-11-04T12:36:31.200Z"
   },
   {
    "duration": 173,
    "start_time": "2021-11-04T12:36:31.207Z"
   },
   {
    "duration": 22,
    "start_time": "2021-11-04T12:36:31.382Z"
   },
   {
    "duration": 169,
    "start_time": "2021-11-04T12:36:31.405Z"
   },
   {
    "duration": 20,
    "start_time": "2021-11-04T12:36:31.576Z"
   },
   {
    "duration": 182,
    "start_time": "2021-11-04T12:36:31.598Z"
   },
   {
    "duration": 14,
    "start_time": "2021-11-04T12:36:31.781Z"
   },
   {
    "duration": 7,
    "start_time": "2021-11-04T12:36:31.796Z"
   },
   {
    "duration": 12,
    "start_time": "2021-11-04T12:36:31.805Z"
   },
   {
    "duration": 4247,
    "start_time": "2021-11-04T12:36:31.819Z"
   },
   {
    "duration": 13,
    "start_time": "2021-11-04T12:36:36.067Z"
   },
   {
    "duration": 12,
    "start_time": "2021-11-04T12:36:36.082Z"
   },
   {
    "duration": 8,
    "start_time": "2021-11-04T12:36:54.556Z"
   },
   {
    "duration": 786,
    "start_time": "2021-11-04T12:36:55.427Z"
   },
   {
    "duration": 14,
    "start_time": "2021-11-04T12:36:56.462Z"
   },
   {
    "duration": 7,
    "start_time": "2021-11-04T12:37:21.058Z"
   },
   {
    "duration": 1877,
    "start_time": "2021-11-04T12:37:21.480Z"
   },
   {
    "duration": 7,
    "start_time": "2021-11-04T12:37:31.529Z"
   },
   {
    "duration": 477,
    "start_time": "2021-11-04T12:37:32.747Z"
   },
   {
    "duration": 7,
    "start_time": "2021-11-04T12:37:42.851Z"
   },
   {
    "duration": 1761,
    "start_time": "2021-11-04T12:37:43.063Z"
   },
   {
    "duration": 8,
    "start_time": "2021-11-04T12:38:10.823Z"
   },
   {
    "duration": 1791,
    "start_time": "2021-11-04T12:38:11.153Z"
   },
   {
    "duration": 8,
    "start_time": "2021-11-04T12:38:24.924Z"
   },
   {
    "duration": 1805,
    "start_time": "2021-11-04T12:38:25.501Z"
   },
   {
    "duration": 8,
    "start_time": "2021-11-04T12:38:46.860Z"
   },
   {
    "duration": 1777,
    "start_time": "2021-11-04T12:38:47.085Z"
   },
   {
    "duration": 8,
    "start_time": "2021-11-04T12:40:10.436Z"
   },
   {
    "duration": 2113,
    "start_time": "2021-11-04T12:40:10.798Z"
   },
   {
    "duration": 9,
    "start_time": "2021-11-04T12:40:18.486Z"
   },
   {
    "duration": 2134,
    "start_time": "2021-11-04T12:40:18.779Z"
   },
   {
    "duration": 8,
    "start_time": "2021-11-04T12:40:22.551Z"
   },
   {
    "duration": 1079,
    "start_time": "2021-11-04T12:40:22.768Z"
   },
   {
    "duration": 14,
    "start_time": "2021-11-04T12:40:24.227Z"
   },
   {
    "duration": 19,
    "start_time": "2021-11-04T12:40:33.516Z"
   },
   {
    "duration": 205,
    "start_time": "2021-11-04T12:41:49.116Z"
   },
   {
    "duration": 31,
    "start_time": "2021-11-04T12:41:58.019Z"
   },
   {
    "duration": 371,
    "start_time": "2021-11-04T12:48:11.471Z"
   },
   {
    "duration": 184,
    "start_time": "2021-11-04T12:51:37.170Z"
   },
   {
    "duration": 205,
    "start_time": "2021-11-04T12:51:47.162Z"
   },
   {
    "duration": 247,
    "start_time": "2021-11-04T12:52:05.847Z"
   },
   {
    "duration": 210,
    "start_time": "2021-11-04T12:53:42.254Z"
   },
   {
    "duration": 232,
    "start_time": "2021-11-04T12:53:53.929Z"
   },
   {
    "duration": 281,
    "start_time": "2021-11-04T12:54:42.279Z"
   },
   {
    "duration": 202,
    "start_time": "2021-11-04T12:54:59.132Z"
   },
   {
    "duration": 52,
    "start_time": "2021-11-04T12:55:32.471Z"
   },
   {
    "duration": 51,
    "start_time": "2021-11-04T12:56:03.765Z"
   },
   {
    "duration": 2,
    "start_time": "2021-11-04T13:06:38.934Z"
   },
   {
    "duration": 374,
    "start_time": "2021-11-04T13:06:38.938Z"
   },
   {
    "duration": 46,
    "start_time": "2021-11-04T13:06:39.314Z"
   },
   {
    "duration": 43,
    "start_time": "2021-11-04T13:06:39.361Z"
   },
   {
    "duration": 15,
    "start_time": "2021-11-04T13:06:39.406Z"
   },
   {
    "duration": 9,
    "start_time": "2021-11-04T13:06:39.423Z"
   },
   {
    "duration": 22,
    "start_time": "2021-11-04T13:06:39.434Z"
   },
   {
    "duration": 89,
    "start_time": "2021-11-04T13:06:39.457Z"
   },
   {
    "duration": 7,
    "start_time": "2021-11-04T13:06:39.548Z"
   },
   {
    "duration": 64,
    "start_time": "2021-11-04T13:06:39.556Z"
   },
   {
    "duration": 47,
    "start_time": "2021-11-04T13:06:39.621Z"
   },
   {
    "duration": 23,
    "start_time": "2021-11-04T13:06:39.670Z"
   },
   {
    "duration": 34,
    "start_time": "2021-11-04T13:06:40.899Z"
   },
   {
    "duration": 5604,
    "start_time": "2021-11-04T13:10:29.628Z"
   },
   {
    "duration": 4587,
    "start_time": "2021-11-04T13:11:43.831Z"
   },
   {
    "duration": 2,
    "start_time": "2021-11-04T13:11:58.698Z"
   },
   {
    "duration": 376,
    "start_time": "2021-11-04T13:11:58.702Z"
   },
   {
    "duration": 45,
    "start_time": "2021-11-04T13:11:59.080Z"
   },
   {
    "duration": 41,
    "start_time": "2021-11-04T13:11:59.127Z"
   },
   {
    "duration": 34,
    "start_time": "2021-11-04T13:11:59.169Z"
   },
   {
    "duration": 10,
    "start_time": "2021-11-04T13:11:59.204Z"
   },
   {
    "duration": 24,
    "start_time": "2021-11-04T13:11:59.216Z"
   },
   {
    "duration": 88,
    "start_time": "2021-11-04T13:11:59.241Z"
   },
   {
    "duration": 7,
    "start_time": "2021-11-04T13:11:59.331Z"
   },
   {
    "duration": 68,
    "start_time": "2021-11-04T13:11:59.339Z"
   },
   {
    "duration": 46,
    "start_time": "2021-11-04T13:11:59.408Z"
   },
   {
    "duration": 4,
    "start_time": "2021-11-04T13:11:59.456Z"
   },
   {
    "duration": 169,
    "start_time": "2021-11-04T13:11:59.461Z"
   },
   {
    "duration": 21,
    "start_time": "2021-11-04T13:11:59.631Z"
   },
   {
    "duration": 179,
    "start_time": "2021-11-04T13:11:59.654Z"
   },
   {
    "duration": 14,
    "start_time": "2021-11-04T13:11:59.834Z"
   },
   {
    "duration": 194,
    "start_time": "2021-11-04T13:11:59.849Z"
   },
   {
    "duration": 13,
    "start_time": "2021-11-04T13:12:00.045Z"
   },
   {
    "duration": 4,
    "start_time": "2021-11-04T13:12:00.061Z"
   },
   {
    "duration": 26,
    "start_time": "2021-11-04T13:12:00.067Z"
   },
   {
    "duration": 4399,
    "start_time": "2021-11-04T13:12:00.094Z"
   },
   {
    "duration": 18,
    "start_time": "2021-11-04T13:12:04.495Z"
   },
   {
    "duration": 30,
    "start_time": "2021-11-04T13:12:04.514Z"
   },
   {
    "duration": 83,
    "start_time": "2021-11-04T13:12:49.793Z"
   },
   {
    "duration": 57,
    "start_time": "2021-11-04T13:13:02.731Z"
   },
   {
    "duration": 32,
    "start_time": "2021-11-04T13:13:09.074Z"
   },
   {
    "duration": 216,
    "start_time": "2021-11-04T13:15:53.323Z"
   },
   {
    "duration": 40,
    "start_time": "2021-11-04T13:16:50.030Z"
   },
   {
    "duration": 34,
    "start_time": "2021-11-04T13:18:09.930Z"
   },
   {
    "duration": 91,
    "start_time": "2021-11-04T13:22:52.445Z"
   },
   {
    "duration": 74,
    "start_time": "2021-11-04T13:22:59.934Z"
   },
   {
    "duration": 74,
    "start_time": "2021-11-04T13:23:22.649Z"
   },
   {
    "duration": 114,
    "start_time": "2021-11-04T13:27:29.688Z"
   },
   {
    "duration": 111,
    "start_time": "2021-11-04T13:28:37.905Z"
   },
   {
    "duration": 248,
    "start_time": "2021-11-04T13:31:35.812Z"
   },
   {
    "duration": 235,
    "start_time": "2021-11-04T13:31:55.229Z"
   },
   {
    "duration": 278,
    "start_time": "2021-11-04T13:32:13.815Z"
   },
   {
    "duration": 278,
    "start_time": "2021-11-04T13:37:47.616Z"
   },
   {
    "duration": 293,
    "start_time": "2021-11-04T13:37:49.494Z"
   },
   {
    "duration": 323,
    "start_time": "2021-11-04T13:37:50.963Z"
   },
   {
    "duration": 249,
    "start_time": "2021-11-04T13:37:52.357Z"
   },
   {
    "duration": 290,
    "start_time": "2021-11-04T13:37:53.368Z"
   },
   {
    "duration": 242,
    "start_time": "2021-11-04T13:37:54.588Z"
   },
   {
    "duration": 3,
    "start_time": "2021-11-04T13:50:53.496Z"
   },
   {
    "duration": 5,
    "start_time": "2021-11-04T13:50:57.818Z"
   },
   {
    "duration": 5,
    "start_time": "2021-11-04T13:55:54.906Z"
   },
   {
    "duration": 4,
    "start_time": "2021-11-04T13:56:55.848Z"
   },
   {
    "duration": 7,
    "start_time": "2021-11-04T13:59:21.137Z"
   },
   {
    "duration": 30,
    "start_time": "2021-11-04T13:59:21.747Z"
   },
   {
    "duration": 30,
    "start_time": "2021-11-04T13:59:25.233Z"
   },
   {
    "duration": 7,
    "start_time": "2021-11-04T13:59:35.522Z"
   },
   {
    "duration": 5,
    "start_time": "2021-11-04T14:00:12.765Z"
   },
   {
    "duration": 1059,
    "start_time": "2021-11-04T14:09:47.013Z"
   },
   {
    "duration": 381,
    "start_time": "2021-11-04T14:09:48.073Z"
   },
   {
    "duration": 54,
    "start_time": "2021-11-04T14:09:48.455Z"
   },
   {
    "duration": 46,
    "start_time": "2021-11-04T14:09:48.511Z"
   },
   {
    "duration": 36,
    "start_time": "2021-11-04T14:09:48.558Z"
   },
   {
    "duration": 11,
    "start_time": "2021-11-04T14:09:48.596Z"
   },
   {
    "duration": 23,
    "start_time": "2021-11-04T14:09:48.608Z"
   },
   {
    "duration": 97,
    "start_time": "2021-11-04T14:09:48.633Z"
   },
   {
    "duration": 9,
    "start_time": "2021-11-04T14:09:48.732Z"
   },
   {
    "duration": 73,
    "start_time": "2021-11-04T14:09:48.743Z"
   },
   {
    "duration": 47,
    "start_time": "2021-11-04T14:09:48.817Z"
   },
   {
    "duration": 5,
    "start_time": "2021-11-04T14:09:48.866Z"
   },
   {
    "duration": 191,
    "start_time": "2021-11-04T14:09:48.872Z"
   },
   {
    "duration": 19,
    "start_time": "2021-11-04T14:09:49.065Z"
   },
   {
    "duration": 165,
    "start_time": "2021-11-04T14:09:49.091Z"
   },
   {
    "duration": 13,
    "start_time": "2021-11-04T14:09:49.258Z"
   },
   {
    "duration": 188,
    "start_time": "2021-11-04T14:09:49.273Z"
   },
   {
    "duration": 14,
    "start_time": "2021-11-04T14:09:49.462Z"
   },
   {
    "duration": 15,
    "start_time": "2021-11-04T14:09:49.477Z"
   },
   {
    "duration": 13,
    "start_time": "2021-11-04T14:09:49.493Z"
   },
   {
    "duration": 4384,
    "start_time": "2021-11-04T14:09:49.507Z"
   },
   {
    "duration": 17,
    "start_time": "2021-11-04T14:09:53.893Z"
   },
   {
    "duration": 116,
    "start_time": "2021-11-04T14:09:53.913Z"
   },
   {
    "duration": 311,
    "start_time": "2021-11-04T14:09:54.031Z"
   },
   {
    "duration": 256,
    "start_time": "2021-11-04T14:09:54.344Z"
   },
   {
    "duration": 292,
    "start_time": "2021-11-04T14:09:54.601Z"
   },
   {
    "duration": 241,
    "start_time": "2021-11-04T14:09:54.894Z"
   },
   {
    "duration": 348,
    "start_time": "2021-11-04T14:09:55.136Z"
   },
   {
    "duration": 249,
    "start_time": "2021-11-04T14:09:55.485Z"
   },
   {
    "duration": 306,
    "start_time": "2021-11-04T14:09:55.736Z"
   },
   {
    "duration": 255,
    "start_time": "2021-11-04T14:09:56.044Z"
   },
   {
    "duration": 6,
    "start_time": "2021-11-04T14:09:56.301Z"
   },
   {
    "duration": 9,
    "start_time": "2021-11-04T14:09:56.309Z"
   },
   {
    "duration": 7,
    "start_time": "2021-11-04T14:09:56.319Z"
   },
   {
    "duration": 1444,
    "start_time": "2021-11-04T16:44:21.885Z"
   },
   {
    "duration": 568,
    "start_time": "2021-11-04T16:44:23.332Z"
   },
   {
    "duration": 59,
    "start_time": "2021-11-04T16:44:23.902Z"
   },
   {
    "duration": 50,
    "start_time": "2021-11-04T16:44:23.963Z"
   },
   {
    "duration": 19,
    "start_time": "2021-11-04T16:44:24.015Z"
   },
   {
    "duration": 37,
    "start_time": "2021-11-04T16:44:24.035Z"
   },
   {
    "duration": 26,
    "start_time": "2021-11-04T16:44:24.074Z"
   },
   {
    "duration": 97,
    "start_time": "2021-11-04T16:44:24.103Z"
   },
   {
    "duration": 10,
    "start_time": "2021-11-04T16:44:24.202Z"
   },
   {
    "duration": 74,
    "start_time": "2021-11-04T16:44:24.214Z"
   },
   {
    "duration": 51,
    "start_time": "2021-11-04T16:44:24.290Z"
   },
   {
    "duration": 21,
    "start_time": "2021-11-04T16:44:24.343Z"
   },
   {
    "duration": 197,
    "start_time": "2021-11-04T16:44:24.366Z"
   },
   {
    "duration": 23,
    "start_time": "2021-11-04T16:44:24.565Z"
   },
   {
    "duration": 201,
    "start_time": "2021-11-04T16:44:24.589Z"
   },
   {
    "duration": 16,
    "start_time": "2021-11-04T16:44:24.791Z"
   },
   {
    "duration": 230,
    "start_time": "2021-11-04T16:44:24.809Z"
   },
   {
    "duration": 14,
    "start_time": "2021-11-04T16:44:25.040Z"
   },
   {
    "duration": 12,
    "start_time": "2021-11-04T16:44:25.056Z"
   },
   {
    "duration": 10,
    "start_time": "2021-11-04T16:44:25.070Z"
   },
   {
    "duration": 4548,
    "start_time": "2021-11-04T16:44:25.082Z"
   },
   {
    "duration": 30,
    "start_time": "2021-11-04T16:44:29.632Z"
   },
   {
    "duration": 123,
    "start_time": "2021-11-04T16:44:29.665Z"
   },
   {
    "duration": 337,
    "start_time": "2021-11-04T16:44:29.790Z"
   },
   {
    "duration": 282,
    "start_time": "2021-11-04T16:44:30.129Z"
   },
   {
    "duration": 307,
    "start_time": "2021-11-04T16:44:30.413Z"
   },
   {
    "duration": 266,
    "start_time": "2021-11-04T16:44:30.722Z"
   },
   {
    "duration": 301,
    "start_time": "2021-11-04T16:44:30.991Z"
   },
   {
    "duration": 357,
    "start_time": "2021-11-04T16:44:31.294Z"
   },
   {
    "duration": 314,
    "start_time": "2021-11-04T16:44:31.653Z"
   },
   {
    "duration": 263,
    "start_time": "2021-11-04T16:44:31.969Z"
   },
   {
    "duration": 4,
    "start_time": "2021-11-04T16:44:32.234Z"
   },
   {
    "duration": 10,
    "start_time": "2021-11-04T16:44:32.240Z"
   },
   {
    "duration": 14,
    "start_time": "2021-11-04T16:44:32.252Z"
   },
   {
    "duration": 30,
    "start_time": "2021-11-04T16:53:56.348Z"
   },
   {
    "duration": 1122,
    "start_time": "2021-11-05T10:34:21.970Z"
   },
   {
    "duration": 367,
    "start_time": "2021-11-05T10:34:23.094Z"
   },
   {
    "duration": 58,
    "start_time": "2021-11-05T10:34:23.463Z"
   },
   {
    "duration": 48,
    "start_time": "2021-11-05T10:34:23.523Z"
   },
   {
    "duration": 35,
    "start_time": "2021-11-05T10:34:23.573Z"
   },
   {
    "duration": 10,
    "start_time": "2021-11-05T10:34:23.609Z"
   },
   {
    "duration": 26,
    "start_time": "2021-11-05T10:34:23.621Z"
   },
   {
    "duration": 101,
    "start_time": "2021-11-05T10:34:23.649Z"
   },
   {
    "duration": 8,
    "start_time": "2021-11-05T10:34:23.752Z"
   },
   {
    "duration": 68,
    "start_time": "2021-11-05T10:34:23.761Z"
   },
   {
    "duration": 60,
    "start_time": "2021-11-05T10:34:23.831Z"
   },
   {
    "duration": 5,
    "start_time": "2021-11-05T10:34:23.893Z"
   },
   {
    "duration": 32,
    "start_time": "2021-11-05T10:34:23.899Z"
   },
   {
    "duration": 19,
    "start_time": "2021-11-05T10:34:25.468Z"
   },
   {
    "duration": 31,
    "start_time": "2021-11-05T10:34:45.373Z"
   },
   {
    "duration": 3,
    "start_time": "2021-11-05T10:36:06.477Z"
   },
   {
    "duration": 367,
    "start_time": "2021-11-05T10:36:06.482Z"
   },
   {
    "duration": 46,
    "start_time": "2021-11-05T10:36:06.851Z"
   },
   {
    "duration": 43,
    "start_time": "2021-11-05T10:36:06.899Z"
   },
   {
    "duration": 17,
    "start_time": "2021-11-05T10:36:06.943Z"
   },
   {
    "duration": 29,
    "start_time": "2021-11-05T10:36:06.962Z"
   },
   {
    "duration": 25,
    "start_time": "2021-11-05T10:36:06.993Z"
   },
   {
    "duration": 80,
    "start_time": "2021-11-05T10:36:07.020Z"
   },
   {
    "duration": 8,
    "start_time": "2021-11-05T10:36:07.101Z"
   },
   {
    "duration": 57,
    "start_time": "2021-11-05T10:36:07.110Z"
   },
   {
    "duration": 67,
    "start_time": "2021-11-05T10:36:07.169Z"
   },
   {
    "duration": 4,
    "start_time": "2021-11-05T10:36:07.238Z"
   },
   {
    "duration": 36,
    "start_time": "2021-11-05T10:36:08.453Z"
   },
   {
    "duration": 19,
    "start_time": "2021-11-05T10:36:09.536Z"
   },
   {
    "duration": 3,
    "start_time": "2021-11-05T10:37:00.662Z"
   },
   {
    "duration": 389,
    "start_time": "2021-11-05T10:37:00.666Z"
   },
   {
    "duration": 51,
    "start_time": "2021-11-05T10:37:01.057Z"
   },
   {
    "duration": 50,
    "start_time": "2021-11-05T10:37:01.110Z"
   },
   {
    "duration": 44,
    "start_time": "2021-11-05T10:37:01.162Z"
   },
   {
    "duration": 21,
    "start_time": "2021-11-05T10:37:01.208Z"
   },
   {
    "duration": 48,
    "start_time": "2021-11-05T10:37:01.231Z"
   },
   {
    "duration": 62,
    "start_time": "2021-11-05T10:37:01.280Z"
   },
   {
    "duration": 8,
    "start_time": "2021-11-05T10:37:01.343Z"
   },
   {
    "duration": 68,
    "start_time": "2021-11-05T10:37:01.353Z"
   },
   {
    "duration": 46,
    "start_time": "2021-11-05T10:37:01.422Z"
   },
   {
    "duration": 23,
    "start_time": "2021-11-05T10:37:01.470Z"
   },
   {
    "duration": 33,
    "start_time": "2021-11-05T10:37:02.513Z"
   },
   {
    "duration": 19,
    "start_time": "2021-11-05T10:37:03.436Z"
   },
   {
    "duration": 287,
    "start_time": "2021-11-05T10:39:21.699Z"
   },
   {
    "duration": 36,
    "start_time": "2021-11-05T10:39:42.341Z"
   },
   {
    "duration": 17,
    "start_time": "2021-11-05T10:39:46.084Z"
   },
   {
    "duration": 15,
    "start_time": "2021-11-05T10:39:53.989Z"
   },
   {
    "duration": 3,
    "start_time": "2021-11-05T10:41:11.789Z"
   },
   {
    "duration": 393,
    "start_time": "2021-11-05T10:41:11.794Z"
   },
   {
    "duration": 46,
    "start_time": "2021-11-05T10:41:12.188Z"
   },
   {
    "duration": 64,
    "start_time": "2021-11-05T10:41:12.236Z"
   },
   {
    "duration": 17,
    "start_time": "2021-11-05T10:41:12.302Z"
   },
   {
    "duration": 10,
    "start_time": "2021-11-05T10:41:12.320Z"
   },
   {
    "duration": 24,
    "start_time": "2021-11-05T10:41:12.332Z"
   },
   {
    "duration": 93,
    "start_time": "2021-11-05T10:41:12.358Z"
   },
   {
    "duration": 7,
    "start_time": "2021-11-05T10:41:12.453Z"
   },
   {
    "duration": 70,
    "start_time": "2021-11-05T10:41:12.462Z"
   },
   {
    "duration": 59,
    "start_time": "2021-11-05T10:41:12.534Z"
   },
   {
    "duration": 4,
    "start_time": "2021-11-05T10:41:12.595Z"
   },
   {
    "duration": 35,
    "start_time": "2021-11-05T10:41:13.428Z"
   },
   {
    "duration": 19,
    "start_time": "2021-11-05T10:41:15.328Z"
   },
   {
    "duration": 196,
    "start_time": "2021-11-05T10:41:31.767Z"
   },
   {
    "duration": 32,
    "start_time": "2021-11-05T10:41:42.770Z"
   },
   {
    "duration": 25,
    "start_time": "2021-11-05T10:41:51.262Z"
   },
   {
    "duration": 57,
    "start_time": "2021-11-05T10:42:02.763Z"
   },
   {
    "duration": 19,
    "start_time": "2021-11-05T10:42:03.287Z"
   },
   {
    "duration": 3,
    "start_time": "2021-11-05T10:42:07.228Z"
   },
   {
    "duration": 386,
    "start_time": "2021-11-05T10:42:07.234Z"
   },
   {
    "duration": 48,
    "start_time": "2021-11-05T10:42:07.622Z"
   },
   {
    "duration": 47,
    "start_time": "2021-11-05T10:42:07.672Z"
   },
   {
    "duration": 18,
    "start_time": "2021-11-05T10:42:07.721Z"
   },
   {
    "duration": 11,
    "start_time": "2021-11-05T10:42:07.741Z"
   },
   {
    "duration": 53,
    "start_time": "2021-11-05T10:42:07.754Z"
   },
   {
    "duration": 59,
    "start_time": "2021-11-05T10:42:07.809Z"
   },
   {
    "duration": 8,
    "start_time": "2021-11-05T10:42:07.890Z"
   },
   {
    "duration": 62,
    "start_time": "2021-11-05T10:42:07.900Z"
   },
   {
    "duration": 68,
    "start_time": "2021-11-05T10:42:07.963Z"
   },
   {
    "duration": 5,
    "start_time": "2021-11-05T10:42:08.033Z"
   },
   {
    "duration": 53,
    "start_time": "2021-11-05T10:42:08.039Z"
   },
   {
    "duration": 17,
    "start_time": "2021-11-05T10:42:08.094Z"
   },
   {
    "duration": 223,
    "start_time": "2021-11-05T10:43:05.034Z"
   },
   {
    "duration": 193,
    "start_time": "2021-11-05T10:43:24.529Z"
   },
   {
    "duration": 32,
    "start_time": "2021-11-05T10:43:34.317Z"
   },
   {
    "duration": 3,
    "start_time": "2021-11-05T10:44:47.722Z"
   },
   {
    "duration": 408,
    "start_time": "2021-11-05T10:44:47.727Z"
   },
   {
    "duration": 47,
    "start_time": "2021-11-05T10:44:48.137Z"
   },
   {
    "duration": 62,
    "start_time": "2021-11-05T10:44:48.186Z"
   },
   {
    "duration": 16,
    "start_time": "2021-11-05T10:44:48.250Z"
   },
   {
    "duration": 39,
    "start_time": "2021-11-05T10:44:48.268Z"
   },
   {
    "duration": 25,
    "start_time": "2021-11-05T10:44:48.309Z"
   },
   {
    "duration": 81,
    "start_time": "2021-11-05T10:44:48.335Z"
   },
   {
    "duration": 8,
    "start_time": "2021-11-05T10:44:48.418Z"
   },
   {
    "duration": 79,
    "start_time": "2021-11-05T10:44:48.427Z"
   },
   {
    "duration": 49,
    "start_time": "2021-11-05T10:44:48.508Z"
   },
   {
    "duration": 4,
    "start_time": "2021-11-05T10:44:48.559Z"
   },
   {
    "duration": 32,
    "start_time": "2021-11-05T10:44:49.140Z"
   },
   {
    "duration": 25,
    "start_time": "2021-11-05T10:44:50.160Z"
   },
   {
    "duration": 36,
    "start_time": "2021-11-05T10:45:47.483Z"
   },
   {
    "duration": 18,
    "start_time": "2021-11-05T10:45:49.266Z"
   },
   {
    "duration": 5,
    "start_time": "2021-11-05T10:54:37.691Z"
   },
   {
    "duration": 374,
    "start_time": "2021-11-05T10:54:37.698Z"
   },
   {
    "duration": 49,
    "start_time": "2021-11-05T10:54:38.075Z"
   },
   {
    "duration": 42,
    "start_time": "2021-11-05T10:54:38.126Z"
   },
   {
    "duration": 48,
    "start_time": "2021-11-05T10:54:38.169Z"
   },
   {
    "duration": 10,
    "start_time": "2021-11-05T10:54:38.219Z"
   },
   {
    "duration": 23,
    "start_time": "2021-11-05T10:54:38.231Z"
   },
   {
    "duration": 87,
    "start_time": "2021-11-05T10:54:38.255Z"
   },
   {
    "duration": 7,
    "start_time": "2021-11-05T10:54:38.344Z"
   },
   {
    "duration": 72,
    "start_time": "2021-11-05T10:54:38.352Z"
   },
   {
    "duration": 47,
    "start_time": "2021-11-05T10:54:38.426Z"
   },
   {
    "duration": 4,
    "start_time": "2021-11-05T10:54:38.474Z"
   },
   {
    "duration": 45,
    "start_time": "2021-11-05T10:54:38.480Z"
   },
   {
    "duration": 19,
    "start_time": "2021-11-05T10:54:43.005Z"
   },
   {
    "duration": 3,
    "start_time": "2021-11-05T10:59:06.388Z"
   },
   {
    "duration": 377,
    "start_time": "2021-11-05T10:59:06.394Z"
   },
   {
    "duration": 58,
    "start_time": "2021-11-05T10:59:06.774Z"
   },
   {
    "duration": 70,
    "start_time": "2021-11-05T10:59:06.834Z"
   },
   {
    "duration": 17,
    "start_time": "2021-11-05T10:59:06.906Z"
   },
   {
    "duration": 10,
    "start_time": "2021-11-05T10:59:06.925Z"
   },
   {
    "duration": 61,
    "start_time": "2021-11-05T10:59:06.938Z"
   },
   {
    "duration": 62,
    "start_time": "2021-11-05T10:59:07.001Z"
   },
   {
    "duration": 8,
    "start_time": "2021-11-05T10:59:07.065Z"
   },
   {
    "duration": 67,
    "start_time": "2021-11-05T10:59:07.074Z"
   },
   {
    "duration": 67,
    "start_time": "2021-11-05T10:59:07.143Z"
   },
   {
    "duration": 5,
    "start_time": "2021-11-05T10:59:07.212Z"
   },
   {
    "duration": 206,
    "start_time": "2021-11-05T10:59:07.219Z"
   },
   {
    "duration": 208,
    "start_time": "2021-11-05T10:59:26.517Z"
   },
   {
    "duration": 236,
    "start_time": "2021-11-05T11:00:26.200Z"
   },
   {
    "duration": 29,
    "start_time": "2021-11-05T11:00:45.158Z"
   },
   {
    "duration": 199,
    "start_time": "2021-11-05T11:00:48.592Z"
   },
   {
    "duration": 32,
    "start_time": "2021-11-05T11:00:52.885Z"
   },
   {
    "duration": 4546,
    "start_time": "2021-11-05T11:01:08.235Z"
   },
   {
    "duration": 3,
    "start_time": "2021-11-05T11:01:17.260Z"
   },
   {
    "duration": 386,
    "start_time": "2021-11-05T11:01:17.265Z"
   },
   {
    "duration": 48,
    "start_time": "2021-11-05T11:01:17.653Z"
   },
   {
    "duration": 45,
    "start_time": "2021-11-05T11:01:17.703Z"
   },
   {
    "duration": 16,
    "start_time": "2021-11-05T11:01:17.750Z"
   },
   {
    "duration": 29,
    "start_time": "2021-11-05T11:01:17.768Z"
   },
   {
    "duration": 24,
    "start_time": "2021-11-05T11:01:17.799Z"
   },
   {
    "duration": 84,
    "start_time": "2021-11-05T11:01:17.825Z"
   },
   {
    "duration": 8,
    "start_time": "2021-11-05T11:01:17.911Z"
   },
   {
    "duration": 75,
    "start_time": "2021-11-05T11:01:17.920Z"
   },
   {
    "duration": 48,
    "start_time": "2021-11-05T11:01:17.997Z"
   },
   {
    "duration": 6,
    "start_time": "2021-11-05T11:01:18.046Z"
   },
   {
    "duration": 207,
    "start_time": "2021-11-05T11:01:18.443Z"
   },
   {
    "duration": 30,
    "start_time": "2021-11-05T11:01:23.325Z"
   },
   {
    "duration": 1014,
    "start_time": "2021-11-05T11:01:43.129Z"
   },
   {
    "duration": 371,
    "start_time": "2021-11-05T11:01:44.145Z"
   },
   {
    "duration": 53,
    "start_time": "2021-11-05T11:01:44.518Z"
   },
   {
    "duration": 46,
    "start_time": "2021-11-05T11:01:44.573Z"
   },
   {
    "duration": 18,
    "start_time": "2021-11-05T11:01:44.621Z"
   },
   {
    "duration": 11,
    "start_time": "2021-11-05T11:01:44.640Z"
   },
   {
    "duration": 51,
    "start_time": "2021-11-05T11:01:44.653Z"
   },
   {
    "duration": 65,
    "start_time": "2021-11-05T11:01:44.707Z"
   },
   {
    "duration": 23,
    "start_time": "2021-11-05T11:01:44.774Z"
   },
   {
    "duration": 56,
    "start_time": "2021-11-05T11:01:44.799Z"
   },
   {
    "duration": 76,
    "start_time": "2021-11-05T11:01:44.857Z"
   },
   {
    "duration": 6,
    "start_time": "2021-11-05T11:01:44.935Z"
   },
   {
    "duration": 38,
    "start_time": "2021-11-05T11:01:51.187Z"
   },
   {
    "duration": 22,
    "start_time": "2021-11-05T11:03:25.041Z"
   },
   {
    "duration": 283,
    "start_time": "2021-11-05T11:04:07.344Z"
   },
   {
    "duration": 20,
    "start_time": "2021-11-05T11:04:53.804Z"
   },
   {
    "duration": 25,
    "start_time": "2021-11-05T11:05:39.629Z"
   },
   {
    "duration": 34,
    "start_time": "2021-11-05T11:06:23.764Z"
   },
   {
    "duration": 22,
    "start_time": "2021-11-05T11:06:25.233Z"
   },
   {
    "duration": 36,
    "start_time": "2021-11-05T11:06:37.094Z"
   },
   {
    "duration": 14,
    "start_time": "2021-11-05T11:06:47.836Z"
   },
   {
    "duration": 4826,
    "start_time": "2021-11-05T11:08:14.299Z"
   },
   {
    "duration": 207,
    "start_time": "2021-11-05T11:08:23.992Z"
   },
   {
    "duration": 4725,
    "start_time": "2021-11-05T11:08:29.775Z"
   },
   {
    "duration": 207,
    "start_time": "2021-11-05T11:09:57.031Z"
   },
   {
    "duration": 202,
    "start_time": "2021-11-05T11:10:09.840Z"
   },
   {
    "duration": 197,
    "start_time": "2021-11-05T11:11:52.218Z"
   },
   {
    "duration": 191,
    "start_time": "2021-11-05T11:12:09.324Z"
   },
   {
    "duration": 29,
    "start_time": "2021-11-05T11:12:12.850Z"
   },
   {
    "duration": 203,
    "start_time": "2021-11-05T11:13:00.492Z"
   },
   {
    "duration": 236,
    "start_time": "2021-11-05T11:13:22.427Z"
   },
   {
    "duration": 197,
    "start_time": "2021-11-05T11:13:27.994Z"
   },
   {
    "duration": 59,
    "start_time": "2021-11-05T11:13:32.611Z"
   },
   {
    "duration": 31,
    "start_time": "2021-11-05T11:13:35.874Z"
   },
   {
    "duration": 37,
    "start_time": "2021-11-05T11:14:17.831Z"
   },
   {
    "duration": 42,
    "start_time": "2021-11-05T11:14:21.821Z"
   },
   {
    "duration": 214,
    "start_time": "2021-11-05T11:14:34.611Z"
   },
   {
    "duration": 57,
    "start_time": "2021-11-05T11:14:36.985Z"
   },
   {
    "duration": 48,
    "start_time": "2021-11-05T11:14:38.375Z"
   },
   {
    "duration": 209,
    "start_time": "2021-11-05T11:14:42.867Z"
   },
   {
    "duration": 47,
    "start_time": "2021-11-05T11:14:46.454Z"
   },
   {
    "duration": 39,
    "start_time": "2021-11-05T11:16:06.773Z"
   },
   {
    "duration": 60,
    "start_time": "2021-11-05T11:16:57.255Z"
   },
   {
    "duration": 4941,
    "start_time": "2021-11-05T11:17:07.077Z"
   },
   {
    "duration": 68,
    "start_time": "2021-11-05T11:17:43.973Z"
   },
   {
    "duration": 79,
    "start_time": "2021-11-05T11:17:55.480Z"
   },
   {
    "duration": 81,
    "start_time": "2021-11-05T11:18:08.199Z"
   },
   {
    "duration": 283,
    "start_time": "2021-11-05T11:18:37.340Z"
   },
   {
    "duration": 85,
    "start_time": "2021-11-05T11:19:25.579Z"
   },
   {
    "duration": 73,
    "start_time": "2021-11-05T11:39:11.841Z"
   },
   {
    "duration": 3,
    "start_time": "2021-11-05T11:39:20.178Z"
   },
   {
    "duration": 384,
    "start_time": "2021-11-05T11:39:20.182Z"
   },
   {
    "duration": 47,
    "start_time": "2021-11-05T11:39:20.568Z"
   },
   {
    "duration": 43,
    "start_time": "2021-11-05T11:39:20.616Z"
   },
   {
    "duration": 36,
    "start_time": "2021-11-05T11:39:20.661Z"
   },
   {
    "duration": 10,
    "start_time": "2021-11-05T11:39:20.699Z"
   },
   {
    "duration": 23,
    "start_time": "2021-11-05T11:39:20.710Z"
   },
   {
    "duration": 86,
    "start_time": "2021-11-05T11:39:20.736Z"
   },
   {
    "duration": 8,
    "start_time": "2021-11-05T11:39:20.823Z"
   },
   {
    "duration": 70,
    "start_time": "2021-11-05T11:39:20.832Z"
   },
   {
    "duration": 47,
    "start_time": "2021-11-05T11:39:20.904Z"
   },
   {
    "duration": 5,
    "start_time": "2021-11-05T11:39:20.952Z"
   },
   {
    "duration": 44,
    "start_time": "2021-11-05T11:39:21.495Z"
   },
   {
    "duration": 40,
    "start_time": "2021-11-05T11:41:08.221Z"
   },
   {
    "duration": 3,
    "start_time": "2021-11-05T11:41:12.634Z"
   },
   {
    "duration": 394,
    "start_time": "2021-11-05T11:41:12.638Z"
   },
   {
    "duration": 49,
    "start_time": "2021-11-05T11:41:13.034Z"
   },
   {
    "duration": 44,
    "start_time": "2021-11-05T11:41:13.085Z"
   },
   {
    "duration": 19,
    "start_time": "2021-11-05T11:41:13.131Z"
   },
   {
    "duration": 12,
    "start_time": "2021-11-05T11:41:13.152Z"
   },
   {
    "duration": 24,
    "start_time": "2021-11-05T11:41:13.192Z"
   },
   {
    "duration": 81,
    "start_time": "2021-11-05T11:41:13.218Z"
   },
   {
    "duration": 8,
    "start_time": "2021-11-05T11:41:13.301Z"
   },
   {
    "duration": 58,
    "start_time": "2021-11-05T11:41:13.310Z"
   },
   {
    "duration": 63,
    "start_time": "2021-11-05T11:41:13.369Z"
   },
   {
    "duration": 5,
    "start_time": "2021-11-05T11:41:13.434Z"
   },
   {
    "duration": 67,
    "start_time": "2021-11-05T11:41:13.440Z"
   },
   {
    "duration": 52,
    "start_time": "2021-11-05T11:41:24.799Z"
   },
   {
    "duration": 63,
    "start_time": "2021-11-05T11:43:42.095Z"
   },
   {
    "duration": 124,
    "start_time": "2021-11-05T11:44:00.735Z"
   },
   {
    "duration": 2,
    "start_time": "2021-11-05T11:44:10.826Z"
   },
   {
    "duration": 373,
    "start_time": "2021-11-05T11:44:10.830Z"
   },
   {
    "duration": 45,
    "start_time": "2021-11-05T11:44:11.205Z"
   },
   {
    "duration": 51,
    "start_time": "2021-11-05T11:44:11.252Z"
   },
   {
    "duration": 17,
    "start_time": "2021-11-05T11:44:11.304Z"
   },
   {
    "duration": 10,
    "start_time": "2021-11-05T11:44:11.323Z"
   },
   {
    "duration": 24,
    "start_time": "2021-11-05T11:44:11.334Z"
   },
   {
    "duration": 86,
    "start_time": "2021-11-05T11:44:11.360Z"
   },
   {
    "duration": 8,
    "start_time": "2021-11-05T11:44:11.447Z"
   },
   {
    "duration": 72,
    "start_time": "2021-11-05T11:44:11.457Z"
   },
   {
    "duration": 60,
    "start_time": "2021-11-05T11:44:11.531Z"
   },
   {
    "duration": 4,
    "start_time": "2021-11-05T11:44:11.593Z"
   },
   {
    "duration": 62,
    "start_time": "2021-11-05T11:44:11.599Z"
   },
   {
    "duration": 47,
    "start_time": "2021-11-05T11:44:44.390Z"
   },
   {
    "duration": 206,
    "start_time": "2021-11-05T11:46:05.924Z"
   },
   {
    "duration": 46,
    "start_time": "2021-11-05T11:46:15.382Z"
   },
   {
    "duration": 58,
    "start_time": "2021-11-05T11:46:23.505Z"
   },
   {
    "duration": 368,
    "start_time": "2021-11-05T11:46:42.045Z"
   },
   {
    "duration": 223,
    "start_time": "2021-11-05T11:47:11.332Z"
   },
   {
    "duration": 237,
    "start_time": "2021-11-05T11:47:28.029Z"
   },
   {
    "duration": 3,
    "start_time": "2021-11-05T11:47:33.021Z"
   },
   {
    "duration": 356,
    "start_time": "2021-11-05T11:47:33.026Z"
   },
   {
    "duration": 46,
    "start_time": "2021-11-05T11:47:33.384Z"
   },
   {
    "duration": 60,
    "start_time": "2021-11-05T11:47:33.432Z"
   },
   {
    "duration": 17,
    "start_time": "2021-11-05T11:47:33.494Z"
   },
   {
    "duration": 11,
    "start_time": "2021-11-05T11:47:33.513Z"
   },
   {
    "duration": 26,
    "start_time": "2021-11-05T11:47:33.527Z"
   },
   {
    "duration": 93,
    "start_time": "2021-11-05T11:47:33.555Z"
   },
   {
    "duration": 8,
    "start_time": "2021-11-05T11:47:33.650Z"
   },
   {
    "duration": 74,
    "start_time": "2021-11-05T11:47:33.660Z"
   },
   {
    "duration": 63,
    "start_time": "2021-11-05T11:47:33.736Z"
   },
   {
    "duration": 5,
    "start_time": "2021-11-05T11:47:33.801Z"
   },
   {
    "duration": 49,
    "start_time": "2021-11-05T11:47:33.807Z"
   },
   {
    "duration": 247,
    "start_time": "2021-11-05T11:47:35.389Z"
   },
   {
    "duration": 43,
    "start_time": "2021-11-05T11:51:27.737Z"
   },
   {
    "duration": 3,
    "start_time": "2021-11-05T11:52:24.116Z"
   },
   {
    "duration": 382,
    "start_time": "2021-11-05T11:52:24.121Z"
   },
   {
    "duration": 51,
    "start_time": "2021-11-05T11:52:24.505Z"
   },
   {
    "duration": 57,
    "start_time": "2021-11-05T11:52:24.558Z"
   },
   {
    "duration": 17,
    "start_time": "2021-11-05T11:52:24.617Z"
   },
   {
    "duration": 17,
    "start_time": "2021-11-05T11:52:24.636Z"
   },
   {
    "duration": 48,
    "start_time": "2021-11-05T11:52:24.654Z"
   },
   {
    "duration": 62,
    "start_time": "2021-11-05T11:52:24.704Z"
   },
   {
    "duration": 23,
    "start_time": "2021-11-05T11:52:24.768Z"
   },
   {
    "duration": 70,
    "start_time": "2021-11-05T11:52:24.793Z"
   },
   {
    "duration": 50,
    "start_time": "2021-11-05T11:52:24.865Z"
   },
   {
    "duration": 5,
    "start_time": "2021-11-05T11:52:24.917Z"
   },
   {
    "duration": 193,
    "start_time": "2021-11-05T11:52:25.503Z"
   },
   {
    "duration": 46,
    "start_time": "2021-11-05T11:52:30.630Z"
   },
   {
    "duration": 51,
    "start_time": "2021-11-05T11:53:28.265Z"
   },
   {
    "duration": 41,
    "start_time": "2021-11-05T12:01:01.133Z"
   },
   {
    "duration": 10,
    "start_time": "2021-11-05T12:13:45.852Z"
   },
   {
    "duration": 186,
    "start_time": "2021-11-05T12:14:19.830Z"
   },
   {
    "duration": 186,
    "start_time": "2021-11-05T12:14:40.310Z"
   },
   {
    "duration": 80,
    "start_time": "2021-11-05T12:15:26.392Z"
   },
   {
    "duration": 10,
    "start_time": "2021-11-05T12:15:38.012Z"
   },
   {
    "duration": 8,
    "start_time": "2021-11-05T12:15:42.567Z"
   },
   {
    "duration": 13,
    "start_time": "2021-11-05T12:16:17.119Z"
   },
   {
    "duration": 64,
    "start_time": "2021-11-05T12:16:21.753Z"
   },
   {
    "duration": 4,
    "start_time": "2021-11-05T12:16:28.360Z"
   },
   {
    "duration": 13,
    "start_time": "2021-11-05T12:16:28.911Z"
   },
   {
    "duration": 205,
    "start_time": "2021-11-05T12:30:26.658Z"
   },
   {
    "duration": 222,
    "start_time": "2021-11-05T12:30:29.976Z"
   },
   {
    "duration": 223,
    "start_time": "2021-11-05T12:30:33.778Z"
   },
   {
    "duration": 4,
    "start_time": "2021-11-05T12:30:41.894Z"
   },
   {
    "duration": 376,
    "start_time": "2021-11-05T12:30:41.900Z"
   },
   {
    "duration": 46,
    "start_time": "2021-11-05T12:30:42.278Z"
   },
   {
    "duration": 48,
    "start_time": "2021-11-05T12:30:42.325Z"
   },
   {
    "duration": 36,
    "start_time": "2021-11-05T12:30:42.374Z"
   },
   {
    "duration": 23,
    "start_time": "2021-11-05T12:30:42.411Z"
   },
   {
    "duration": 45,
    "start_time": "2021-11-05T12:30:42.436Z"
   },
   {
    "duration": 62,
    "start_time": "2021-11-05T12:30:42.484Z"
   },
   {
    "duration": 7,
    "start_time": "2021-11-05T12:30:42.548Z"
   },
   {
    "duration": 70,
    "start_time": "2021-11-05T12:30:42.556Z"
   },
   {
    "duration": 63,
    "start_time": "2021-11-05T12:30:42.628Z"
   },
   {
    "duration": 5,
    "start_time": "2021-11-05T12:30:42.693Z"
   },
   {
    "duration": 67,
    "start_time": "2021-11-05T12:30:42.700Z"
   },
   {
    "duration": 41,
    "start_time": "2021-11-05T12:30:42.769Z"
   },
   {
    "duration": 45,
    "start_time": "2021-11-05T12:30:42.812Z"
   },
   {
    "duration": 14,
    "start_time": "2021-11-05T12:30:56.405Z"
   },
   {
    "duration": 3,
    "start_time": "2021-11-05T12:31:41.109Z"
   },
   {
    "duration": 367,
    "start_time": "2021-11-05T12:31:41.114Z"
   },
   {
    "duration": 50,
    "start_time": "2021-11-05T12:31:41.483Z"
   },
   {
    "duration": 67,
    "start_time": "2021-11-05T12:31:41.535Z"
   },
   {
    "duration": 18,
    "start_time": "2021-11-05T12:31:41.604Z"
   },
   {
    "duration": 15,
    "start_time": "2021-11-05T12:31:41.624Z"
   },
   {
    "duration": 50,
    "start_time": "2021-11-05T12:31:41.642Z"
   },
   {
    "duration": 62,
    "start_time": "2021-11-05T12:31:41.694Z"
   },
   {
    "duration": 7,
    "start_time": "2021-11-05T12:31:41.758Z"
   },
   {
    "duration": 72,
    "start_time": "2021-11-05T12:31:41.766Z"
   },
   {
    "duration": 62,
    "start_time": "2021-11-05T12:31:41.840Z"
   },
   {
    "duration": 5,
    "start_time": "2021-11-05T12:31:41.905Z"
   },
   {
    "duration": 62,
    "start_time": "2021-11-05T12:31:41.912Z"
   },
   {
    "duration": 44,
    "start_time": "2021-11-05T12:31:41.976Z"
   },
   {
    "duration": 31,
    "start_time": "2021-11-05T12:31:44.100Z"
   },
   {
    "duration": 207,
    "start_time": "2021-11-05T12:31:46.193Z"
   },
   {
    "duration": 4,
    "start_time": "2021-11-05T12:33:26.391Z"
   },
   {
    "duration": 9,
    "start_time": "2021-11-05T12:34:31.426Z"
   },
   {
    "duration": 3,
    "start_time": "2021-11-05T12:34:40.064Z"
   },
   {
    "duration": 10,
    "start_time": "2021-11-05T12:34:46.502Z"
   },
   {
    "duration": 2,
    "start_time": "2021-11-05T12:35:08.815Z"
   },
   {
    "duration": 362,
    "start_time": "2021-11-05T12:35:08.821Z"
   },
   {
    "duration": 46,
    "start_time": "2021-11-05T12:35:09.185Z"
   },
   {
    "duration": 61,
    "start_time": "2021-11-05T12:35:09.233Z"
   },
   {
    "duration": 17,
    "start_time": "2021-11-05T12:35:09.296Z"
   },
   {
    "duration": 9,
    "start_time": "2021-11-05T12:35:09.315Z"
   },
   {
    "duration": 38,
    "start_time": "2021-11-05T12:35:09.326Z"
   },
   {
    "duration": 59,
    "start_time": "2021-11-05T12:35:09.392Z"
   },
   {
    "duration": 8,
    "start_time": "2021-11-05T12:35:09.452Z"
   },
   {
    "duration": 74,
    "start_time": "2021-11-05T12:35:09.462Z"
   },
   {
    "duration": 62,
    "start_time": "2021-11-05T12:35:09.537Z"
   },
   {
    "duration": 4,
    "start_time": "2021-11-05T12:35:09.601Z"
   },
   {
    "duration": 47,
    "start_time": "2021-11-05T12:35:09.607Z"
   },
   {
    "duration": 57,
    "start_time": "2021-11-05T12:35:09.656Z"
   },
   {
    "duration": 29,
    "start_time": "2021-11-05T12:35:09.714Z"
   },
   {
    "duration": 8,
    "start_time": "2021-11-05T12:35:09.745Z"
   },
   {
    "duration": 3,
    "start_time": "2021-11-05T12:36:05.022Z"
   },
   {
    "duration": 382,
    "start_time": "2021-11-05T12:36:05.027Z"
   },
   {
    "duration": 48,
    "start_time": "2021-11-05T12:36:05.411Z"
   },
   {
    "duration": 49,
    "start_time": "2021-11-05T12:36:05.461Z"
   },
   {
    "duration": 18,
    "start_time": "2021-11-05T12:36:05.512Z"
   },
   {
    "duration": 10,
    "start_time": "2021-11-05T12:36:05.531Z"
   },
   {
    "duration": 52,
    "start_time": "2021-11-05T12:36:05.543Z"
   },
   {
    "duration": 58,
    "start_time": "2021-11-05T12:36:05.597Z"
   },
   {
    "duration": 8,
    "start_time": "2021-11-05T12:36:05.657Z"
   },
   {
    "duration": 68,
    "start_time": "2021-11-05T12:36:05.666Z"
   },
   {
    "duration": 63,
    "start_time": "2021-11-05T12:36:05.736Z"
   },
   {
    "duration": 5,
    "start_time": "2021-11-05T12:36:05.800Z"
   },
   {
    "duration": 45,
    "start_time": "2021-11-05T12:36:05.806Z"
   },
   {
    "duration": 56,
    "start_time": "2021-11-05T12:36:05.853Z"
   },
   {
    "duration": 29,
    "start_time": "2021-11-05T12:36:05.910Z"
   },
   {
    "duration": 9,
    "start_time": "2021-11-05T12:36:05.940Z"
   },
   {
    "duration": 15,
    "start_time": "2021-11-05T12:36:07.503Z"
   },
   {
    "duration": 774,
    "start_time": "2021-11-05T12:37:22.842Z"
   },
   {
    "duration": 667,
    "start_time": "2021-11-05T12:37:41.675Z"
   },
   {
    "duration": 3,
    "start_time": "2021-11-05T12:37:47.165Z"
   },
   {
    "duration": 15,
    "start_time": "2021-11-05T12:37:49.191Z"
   },
   {
    "duration": 178,
    "start_time": "2021-11-05T12:37:58.057Z"
   },
   {
    "duration": 179,
    "start_time": "2021-11-05T12:38:02.848Z"
   },
   {
    "duration": 180,
    "start_time": "2021-11-05T12:39:12.695Z"
   },
   {
    "duration": 2,
    "start_time": "2021-11-05T12:39:16.401Z"
   },
   {
    "duration": 351,
    "start_time": "2021-11-05T12:39:16.405Z"
   },
   {
    "duration": 48,
    "start_time": "2021-11-05T12:39:16.758Z"
   },
   {
    "duration": 47,
    "start_time": "2021-11-05T12:39:16.808Z"
   },
   {
    "duration": 38,
    "start_time": "2021-11-05T12:39:16.856Z"
   },
   {
    "duration": 11,
    "start_time": "2021-11-05T12:39:16.895Z"
   },
   {
    "duration": 27,
    "start_time": "2021-11-05T12:39:16.908Z"
   },
   {
    "duration": 89,
    "start_time": "2021-11-05T12:39:16.936Z"
   },
   {
    "duration": 8,
    "start_time": "2021-11-05T12:39:17.028Z"
   },
   {
    "duration": 74,
    "start_time": "2021-11-05T12:39:17.039Z"
   },
   {
    "duration": 49,
    "start_time": "2021-11-05T12:39:17.115Z"
   },
   {
    "duration": 27,
    "start_time": "2021-11-05T12:39:17.165Z"
   },
   {
    "duration": 45,
    "start_time": "2021-11-05T12:39:17.193Z"
   },
   {
    "duration": 52,
    "start_time": "2021-11-05T12:39:17.240Z"
   },
   {
    "duration": 30,
    "start_time": "2021-11-05T12:39:17.295Z"
   },
   {
    "duration": 3,
    "start_time": "2021-11-05T12:39:17.327Z"
   },
   {
    "duration": 15,
    "start_time": "2021-11-05T12:39:18.608Z"
   },
   {
    "duration": 17,
    "start_time": "2021-11-05T12:39:48.351Z"
   },
   {
    "duration": 3,
    "start_time": "2021-11-05T12:43:21.447Z"
   },
   {
    "duration": 393,
    "start_time": "2021-11-05T12:43:21.453Z"
   },
   {
    "duration": 50,
    "start_time": "2021-11-05T12:43:21.848Z"
   },
   {
    "duration": 46,
    "start_time": "2021-11-05T12:43:21.900Z"
   },
   {
    "duration": 44,
    "start_time": "2021-11-05T12:43:21.948Z"
   },
   {
    "duration": 13,
    "start_time": "2021-11-05T12:43:21.994Z"
   },
   {
    "duration": 26,
    "start_time": "2021-11-05T12:43:22.009Z"
   },
   {
    "duration": 112,
    "start_time": "2021-11-05T12:43:22.039Z"
   },
   {
    "duration": 8,
    "start_time": "2021-11-05T12:43:22.153Z"
   },
   {
    "duration": 71,
    "start_time": "2021-11-05T12:43:22.163Z"
   },
   {
    "duration": 67,
    "start_time": "2021-11-05T12:43:22.236Z"
   },
   {
    "duration": 5,
    "start_time": "2021-11-05T12:43:22.305Z"
   },
   {
    "duration": 47,
    "start_time": "2021-11-05T12:43:22.312Z"
   },
   {
    "duration": 58,
    "start_time": "2021-11-05T12:43:22.361Z"
   },
   {
    "duration": 30,
    "start_time": "2021-11-05T12:43:22.421Z"
   },
   {
    "duration": 3,
    "start_time": "2021-11-05T12:43:22.452Z"
   },
   {
    "duration": 12,
    "start_time": "2021-11-05T12:43:22.457Z"
   },
   {
    "duration": 21,
    "start_time": "2021-11-05T12:43:24.128Z"
   },
   {
    "duration": 20,
    "start_time": "2021-11-05T12:43:37.337Z"
   },
   {
    "duration": 3,
    "start_time": "2021-11-05T12:45:57.177Z"
   },
   {
    "duration": 370,
    "start_time": "2021-11-05T12:45:57.182Z"
   },
   {
    "duration": 48,
    "start_time": "2021-11-05T12:45:57.554Z"
   },
   {
    "duration": 43,
    "start_time": "2021-11-05T12:45:57.604Z"
   },
   {
    "duration": 18,
    "start_time": "2021-11-05T12:45:57.649Z"
   },
   {
    "duration": 31,
    "start_time": "2021-11-05T12:45:57.668Z"
   },
   {
    "duration": 26,
    "start_time": "2021-11-05T12:45:57.701Z"
   },
   {
    "duration": 89,
    "start_time": "2021-11-05T12:45:57.728Z"
   },
   {
    "duration": 8,
    "start_time": "2021-11-05T12:45:57.819Z"
   },
   {
    "duration": 76,
    "start_time": "2021-11-05T12:45:57.829Z"
   },
   {
    "duration": 50,
    "start_time": "2021-11-05T12:45:57.906Z"
   },
   {
    "duration": 4,
    "start_time": "2021-11-05T12:45:57.957Z"
   },
   {
    "duration": 60,
    "start_time": "2021-11-05T12:45:57.963Z"
   },
   {
    "duration": 40,
    "start_time": "2021-11-05T12:45:58.025Z"
   },
   {
    "duration": 41,
    "start_time": "2021-11-05T12:45:58.067Z"
   },
   {
    "duration": 2,
    "start_time": "2021-11-05T12:45:58.110Z"
   },
   {
    "duration": 179,
    "start_time": "2021-11-05T12:46:01.034Z"
   },
   {
    "duration": 4,
    "start_time": "2021-11-05T12:46:22.983Z"
   },
   {
    "duration": 4,
    "start_time": "2021-11-05T12:46:25.077Z"
   },
   {
    "duration": 4,
    "start_time": "2021-11-05T12:46:31.296Z"
   },
   {
    "duration": 52,
    "start_time": "2021-11-05T12:57:37.528Z"
   },
   {
    "duration": 2,
    "start_time": "2021-11-05T12:57:40.395Z"
   },
   {
    "duration": 365,
    "start_time": "2021-11-05T12:57:40.399Z"
   },
   {
    "duration": 48,
    "start_time": "2021-11-05T12:57:40.767Z"
   },
   {
    "duration": 45,
    "start_time": "2021-11-05T12:57:40.817Z"
   },
   {
    "duration": 36,
    "start_time": "2021-11-05T12:57:40.864Z"
   },
   {
    "duration": 10,
    "start_time": "2021-11-05T12:57:40.901Z"
   },
   {
    "duration": 26,
    "start_time": "2021-11-05T12:57:40.913Z"
   },
   {
    "duration": 84,
    "start_time": "2021-11-05T12:57:40.940Z"
   },
   {
    "duration": 8,
    "start_time": "2021-11-05T12:57:41.025Z"
   },
   {
    "duration": 70,
    "start_time": "2021-11-05T12:57:41.034Z"
   },
   {
    "duration": 47,
    "start_time": "2021-11-05T12:57:41.105Z"
   },
   {
    "duration": 4,
    "start_time": "2021-11-05T12:57:41.154Z"
   },
   {
    "duration": 60,
    "start_time": "2021-11-05T12:57:41.159Z"
   },
   {
    "duration": 42,
    "start_time": "2021-11-05T12:57:41.220Z"
   },
   {
    "duration": 43,
    "start_time": "2021-11-05T12:57:41.264Z"
   },
   {
    "duration": 3,
    "start_time": "2021-11-05T12:57:41.308Z"
   },
   {
    "duration": 84,
    "start_time": "2021-11-05T12:57:41.312Z"
   },
   {
    "duration": 3,
    "start_time": "2021-11-05T12:57:46.344Z"
   },
   {
    "duration": 15,
    "start_time": "2021-11-05T12:57:52.614Z"
   },
   {
    "duration": 3,
    "start_time": "2021-11-05T12:58:07.826Z"
   },
   {
    "duration": 362,
    "start_time": "2021-11-05T12:58:07.831Z"
   },
   {
    "duration": 46,
    "start_time": "2021-11-05T12:58:08.195Z"
   },
   {
    "duration": 65,
    "start_time": "2021-11-05T12:58:08.243Z"
   },
   {
    "duration": 17,
    "start_time": "2021-11-05T12:58:08.309Z"
   },
   {
    "duration": 10,
    "start_time": "2021-11-05T12:58:08.328Z"
   },
   {
    "duration": 52,
    "start_time": "2021-11-05T12:58:08.340Z"
   },
   {
    "duration": 58,
    "start_time": "2021-11-05T12:58:08.394Z"
   },
   {
    "duration": 8,
    "start_time": "2021-11-05T12:58:08.453Z"
   },
   {
    "duration": 73,
    "start_time": "2021-11-05T12:58:08.462Z"
   },
   {
    "duration": 65,
    "start_time": "2021-11-05T12:58:08.536Z"
   },
   {
    "duration": 4,
    "start_time": "2021-11-05T12:58:08.603Z"
   },
   {
    "duration": 45,
    "start_time": "2021-11-05T12:58:08.609Z"
   },
   {
    "duration": 52,
    "start_time": "2021-11-05T12:58:08.655Z"
   },
   {
    "duration": 30,
    "start_time": "2021-11-05T12:58:08.709Z"
   },
   {
    "duration": 14,
    "start_time": "2021-11-05T12:58:09.470Z"
   },
   {
    "duration": 10,
    "start_time": "2021-11-05T12:58:25.252Z"
   },
   {
    "duration": 9,
    "start_time": "2021-11-05T13:04:19.926Z"
   },
   {
    "duration": 10,
    "start_time": "2021-11-05T13:06:10.291Z"
   },
   {
    "duration": 858,
    "start_time": "2021-11-05T13:06:13.334Z"
   },
   {
    "duration": 10,
    "start_time": "2021-11-05T13:06:20.167Z"
   },
   {
    "duration": 12,
    "start_time": "2021-11-05T13:06:26.273Z"
   },
   {
    "duration": 15,
    "start_time": "2021-11-05T13:06:32.657Z"
   },
   {
    "duration": 16,
    "start_time": "2021-11-05T13:06:48.679Z"
   },
   {
    "duration": 13,
    "start_time": "2021-11-05T13:06:54.220Z"
   },
   {
    "duration": 12,
    "start_time": "2021-11-05T13:07:19.730Z"
   },
   {
    "duration": 15,
    "start_time": "2021-11-05T13:07:23.853Z"
   },
   {
    "duration": 13,
    "start_time": "2021-11-05T13:07:33.601Z"
   },
   {
    "duration": 13,
    "start_time": "2021-11-05T13:07:41.930Z"
   },
   {
    "duration": 11,
    "start_time": "2021-11-05T13:08:14.887Z"
   },
   {
    "duration": 1045,
    "start_time": "2021-11-05T13:08:32.138Z"
   },
   {
    "duration": 368,
    "start_time": "2021-11-05T13:08:33.185Z"
   },
   {
    "duration": 53,
    "start_time": "2021-11-05T13:08:33.555Z"
   },
   {
    "duration": 46,
    "start_time": "2021-11-05T13:08:33.610Z"
   },
   {
    "duration": 34,
    "start_time": "2021-11-05T13:08:33.658Z"
   },
   {
    "duration": 11,
    "start_time": "2021-11-05T13:08:33.693Z"
   },
   {
    "duration": 25,
    "start_time": "2021-11-05T13:08:33.705Z"
   },
   {
    "duration": 99,
    "start_time": "2021-11-05T13:08:33.731Z"
   },
   {
    "duration": 8,
    "start_time": "2021-11-05T13:08:33.832Z"
   },
   {
    "duration": 68,
    "start_time": "2021-11-05T13:08:33.842Z"
   },
   {
    "duration": 49,
    "start_time": "2021-11-05T13:08:33.911Z"
   },
   {
    "duration": 5,
    "start_time": "2021-11-05T13:08:33.961Z"
   },
   {
    "duration": 78,
    "start_time": "2021-11-05T13:08:33.968Z"
   },
   {
    "duration": 51,
    "start_time": "2021-11-05T13:08:34.047Z"
   },
   {
    "duration": 32,
    "start_time": "2021-11-05T13:08:34.099Z"
   },
   {
    "duration": 9,
    "start_time": "2021-11-05T13:08:34.133Z"
   },
   {
    "duration": 3,
    "start_time": "2021-11-05T13:09:00.225Z"
   },
   {
    "duration": 392,
    "start_time": "2021-11-05T13:09:00.230Z"
   },
   {
    "duration": 48,
    "start_time": "2021-11-05T13:09:00.623Z"
   },
   {
    "duration": 44,
    "start_time": "2021-11-05T13:09:00.673Z"
   },
   {
    "duration": 16,
    "start_time": "2021-11-05T13:09:00.718Z"
   },
   {
    "duration": 11,
    "start_time": "2021-11-05T13:09:00.736Z"
   },
   {
    "duration": 50,
    "start_time": "2021-11-05T13:09:00.748Z"
   },
   {
    "duration": 60,
    "start_time": "2021-11-05T13:09:00.800Z"
   },
   {
    "duration": 7,
    "start_time": "2021-11-05T13:09:00.863Z"
   },
   {
    "duration": 70,
    "start_time": "2021-11-05T13:09:00.872Z"
   },
   {
    "duration": 64,
    "start_time": "2021-11-05T13:09:00.944Z"
   },
   {
    "duration": 5,
    "start_time": "2021-11-05T13:09:01.009Z"
   },
   {
    "duration": 54,
    "start_time": "2021-11-05T13:09:01.016Z"
   },
   {
    "duration": 49,
    "start_time": "2021-11-05T13:09:01.072Z"
   },
   {
    "duration": 29,
    "start_time": "2021-11-05T13:09:01.123Z"
   },
   {
    "duration": 818,
    "start_time": "2021-11-05T13:09:02.671Z"
   },
   {
    "duration": 15,
    "start_time": "2021-11-05T13:09:10.915Z"
   },
   {
    "duration": 3,
    "start_time": "2021-11-05T13:09:24.454Z"
   },
   {
    "duration": 381,
    "start_time": "2021-11-05T13:09:24.458Z"
   },
   {
    "duration": 49,
    "start_time": "2021-11-05T13:09:24.841Z"
   },
   {
    "duration": 46,
    "start_time": "2021-11-05T13:09:24.892Z"
   },
   {
    "duration": 19,
    "start_time": "2021-11-05T13:09:24.939Z"
   },
   {
    "duration": 36,
    "start_time": "2021-11-05T13:09:24.959Z"
   },
   {
    "duration": 26,
    "start_time": "2021-11-05T13:09:24.996Z"
   },
   {
    "duration": 87,
    "start_time": "2021-11-05T13:09:25.023Z"
   },
   {
    "duration": 8,
    "start_time": "2021-11-05T13:09:25.113Z"
   },
   {
    "duration": 71,
    "start_time": "2021-11-05T13:09:25.122Z"
   },
   {
    "duration": 50,
    "start_time": "2021-11-05T13:09:25.194Z"
   },
   {
    "duration": 4,
    "start_time": "2021-11-05T13:09:25.245Z"
   },
   {
    "duration": 61,
    "start_time": "2021-11-05T13:09:25.251Z"
   },
   {
    "duration": 40,
    "start_time": "2021-11-05T13:09:25.314Z"
   },
   {
    "duration": 46,
    "start_time": "2021-11-05T13:09:25.355Z"
   },
   {
    "duration": 3,
    "start_time": "2021-11-05T13:09:32.496Z"
   },
   {
    "duration": 386,
    "start_time": "2021-11-05T13:09:32.501Z"
   },
   {
    "duration": 47,
    "start_time": "2021-11-05T13:09:32.889Z"
   },
   {
    "duration": 62,
    "start_time": "2021-11-05T13:09:32.937Z"
   },
   {
    "duration": 17,
    "start_time": "2021-11-05T13:09:33.000Z"
   },
   {
    "duration": 9,
    "start_time": "2021-11-05T13:09:33.019Z"
   },
   {
    "duration": 24,
    "start_time": "2021-11-05T13:09:33.030Z"
   },
   {
    "duration": 93,
    "start_time": "2021-11-05T13:09:33.056Z"
   },
   {
    "duration": 7,
    "start_time": "2021-11-05T13:09:33.151Z"
   },
   {
    "duration": 64,
    "start_time": "2021-11-05T13:09:33.160Z"
   },
   {
    "duration": 46,
    "start_time": "2021-11-05T13:09:33.225Z"
   },
   {
    "duration": 19,
    "start_time": "2021-11-05T13:09:33.273Z"
   },
   {
    "duration": 55,
    "start_time": "2021-11-05T13:09:33.294Z"
   },
   {
    "duration": 54,
    "start_time": "2021-11-05T13:09:33.351Z"
   },
   {
    "duration": 31,
    "start_time": "2021-11-05T13:09:33.406Z"
   },
   {
    "duration": 12,
    "start_time": "2021-11-05T13:09:35.935Z"
   },
   {
    "duration": 183,
    "start_time": "2021-11-05T13:09:58.540Z"
   },
   {
    "duration": 15,
    "start_time": "2021-11-05T13:10:06.922Z"
   },
   {
    "duration": 722,
    "start_time": "2021-11-05T13:10:22.882Z"
   },
   {
    "duration": 4,
    "start_time": "2021-11-05T13:10:26.436Z"
   },
   {
    "duration": 378,
    "start_time": "2021-11-05T13:10:26.442Z"
   },
   {
    "duration": 52,
    "start_time": "2021-11-05T13:10:26.822Z"
   },
   {
    "duration": 47,
    "start_time": "2021-11-05T13:10:26.876Z"
   },
   {
    "duration": 17,
    "start_time": "2021-11-05T13:10:26.924Z"
   },
   {
    "duration": 9,
    "start_time": "2021-11-05T13:10:26.943Z"
   },
   {
    "duration": 45,
    "start_time": "2021-11-05T13:10:26.954Z"
   },
   {
    "duration": 62,
    "start_time": "2021-11-05T13:10:27.002Z"
   },
   {
    "duration": 8,
    "start_time": "2021-11-05T13:10:27.066Z"
   },
   {
    "duration": 57,
    "start_time": "2021-11-05T13:10:27.091Z"
   },
   {
    "duration": 68,
    "start_time": "2021-11-05T13:10:27.149Z"
   },
   {
    "duration": 4,
    "start_time": "2021-11-05T13:10:27.219Z"
   },
   {
    "duration": 49,
    "start_time": "2021-11-05T13:10:27.225Z"
   },
   {
    "duration": 52,
    "start_time": "2021-11-05T13:10:27.276Z"
   },
   {
    "duration": 29,
    "start_time": "2021-11-05T13:10:27.330Z"
   },
   {
    "duration": 31,
    "start_time": "2021-11-05T13:10:27.361Z"
   },
   {
    "duration": 748,
    "start_time": "2021-11-05T13:25:44.723Z"
   },
   {
    "duration": 3,
    "start_time": "2021-11-05T13:25:47.968Z"
   },
   {
    "duration": 376,
    "start_time": "2021-11-05T13:25:47.973Z"
   },
   {
    "duration": 48,
    "start_time": "2021-11-05T13:25:48.351Z"
   },
   {
    "duration": 45,
    "start_time": "2021-11-05T13:25:48.401Z"
   },
   {
    "duration": 19,
    "start_time": "2021-11-05T13:25:48.449Z"
   },
   {
    "duration": 11,
    "start_time": "2021-11-05T13:25:48.491Z"
   },
   {
    "duration": 22,
    "start_time": "2021-11-05T13:25:48.504Z"
   },
   {
    "duration": 85,
    "start_time": "2021-11-05T13:25:48.528Z"
   },
   {
    "duration": 8,
    "start_time": "2021-11-05T13:25:48.615Z"
   },
   {
    "duration": 73,
    "start_time": "2021-11-05T13:25:48.624Z"
   },
   {
    "duration": 47,
    "start_time": "2021-11-05T13:25:48.698Z"
   },
   {
    "duration": 4,
    "start_time": "2021-11-05T13:25:48.747Z"
   },
   {
    "duration": 63,
    "start_time": "2021-11-05T13:25:48.753Z"
   },
   {
    "duration": 41,
    "start_time": "2021-11-05T13:25:48.817Z"
   },
   {
    "duration": 44,
    "start_time": "2021-11-05T13:25:48.859Z"
   },
   {
    "duration": 16,
    "start_time": "2021-11-05T13:25:48.904Z"
   },
   {
    "duration": 10,
    "start_time": "2021-11-05T13:26:07.240Z"
   },
   {
    "duration": 694,
    "start_time": "2021-11-05T13:27:03.516Z"
   },
   {
    "duration": 3,
    "start_time": "2021-11-05T13:27:07.841Z"
   },
   {
    "duration": 392,
    "start_time": "2021-11-05T13:27:07.846Z"
   },
   {
    "duration": 50,
    "start_time": "2021-11-05T13:27:08.241Z"
   },
   {
    "duration": 49,
    "start_time": "2021-11-05T13:27:08.293Z"
   },
   {
    "duration": 19,
    "start_time": "2021-11-05T13:27:08.343Z"
   },
   {
    "duration": 12,
    "start_time": "2021-11-05T13:27:08.392Z"
   },
   {
    "duration": 29,
    "start_time": "2021-11-05T13:27:08.406Z"
   },
   {
    "duration": 89,
    "start_time": "2021-11-05T13:27:08.437Z"
   },
   {
    "duration": 8,
    "start_time": "2021-11-05T13:27:08.528Z"
   },
   {
    "duration": 73,
    "start_time": "2021-11-05T13:27:08.537Z"
   },
   {
    "duration": 48,
    "start_time": "2021-11-05T13:27:08.612Z"
   },
   {
    "duration": 4,
    "start_time": "2021-11-05T13:27:08.661Z"
   },
   {
    "duration": 73,
    "start_time": "2021-11-05T13:27:08.667Z"
   },
   {
    "duration": 51,
    "start_time": "2021-11-05T13:27:08.741Z"
   },
   {
    "duration": 31,
    "start_time": "2021-11-05T13:27:08.793Z"
   },
   {
    "duration": 10,
    "start_time": "2021-11-05T13:27:08.826Z"
   },
   {
    "duration": 17,
    "start_time": "2021-11-05T13:27:08.838Z"
   },
   {
    "duration": 190,
    "start_time": "2021-11-05T13:27:20.496Z"
   },
   {
    "duration": 3,
    "start_time": "2021-11-05T13:27:24.791Z"
   },
   {
    "duration": 389,
    "start_time": "2021-11-05T13:27:24.796Z"
   },
   {
    "duration": 49,
    "start_time": "2021-11-05T13:27:25.187Z"
   },
   {
    "duration": 71,
    "start_time": "2021-11-05T13:27:25.238Z"
   },
   {
    "duration": 20,
    "start_time": "2021-11-05T13:27:25.310Z"
   },
   {
    "duration": 12,
    "start_time": "2021-11-05T13:27:25.332Z"
   },
   {
    "duration": 54,
    "start_time": "2021-11-05T13:27:25.348Z"
   },
   {
    "duration": 63,
    "start_time": "2021-11-05T13:27:25.404Z"
   },
   {
    "duration": 25,
    "start_time": "2021-11-05T13:27:25.469Z"
   },
   {
    "duration": 58,
    "start_time": "2021-11-05T13:27:25.495Z"
   },
   {
    "duration": 71,
    "start_time": "2021-11-05T13:27:25.554Z"
   },
   {
    "duration": 4,
    "start_time": "2021-11-05T13:27:25.627Z"
   },
   {
    "duration": 65,
    "start_time": "2021-11-05T13:27:25.632Z"
   },
   {
    "duration": 42,
    "start_time": "2021-11-05T13:27:25.698Z"
   },
   {
    "duration": 32,
    "start_time": "2021-11-05T13:27:25.741Z"
   },
   {
    "duration": 27,
    "start_time": "2021-11-05T13:27:25.774Z"
   },
   {
    "duration": 4,
    "start_time": "2021-11-05T13:27:25.802Z"
   },
   {
    "duration": 18,
    "start_time": "2021-11-05T13:27:25.807Z"
   },
   {
    "duration": 208,
    "start_time": "2021-11-05T13:28:32.040Z"
   },
   {
    "duration": 3,
    "start_time": "2021-11-05T13:28:35.027Z"
   },
   {
    "duration": 392,
    "start_time": "2021-11-05T13:28:35.033Z"
   },
   {
    "duration": 46,
    "start_time": "2021-11-05T13:28:35.427Z"
   },
   {
    "duration": 43,
    "start_time": "2021-11-05T13:28:35.475Z"
   },
   {
    "duration": 17,
    "start_time": "2021-11-05T13:28:35.519Z"
   },
   {
    "duration": 17,
    "start_time": "2021-11-05T13:28:35.537Z"
   },
   {
    "duration": 46,
    "start_time": "2021-11-05T13:28:35.556Z"
   },
   {
    "duration": 60,
    "start_time": "2021-11-05T13:28:35.604Z"
   },
   {
    "duration": 8,
    "start_time": "2021-11-05T13:28:35.665Z"
   },
   {
    "duration": 68,
    "start_time": "2021-11-05T13:28:35.674Z"
   },
   {
    "duration": 64,
    "start_time": "2021-11-05T13:28:35.744Z"
   },
   {
    "duration": 4,
    "start_time": "2021-11-05T13:28:35.810Z"
   },
   {
    "duration": 56,
    "start_time": "2021-11-05T13:28:35.815Z"
   },
   {
    "duration": 51,
    "start_time": "2021-11-05T13:28:35.873Z"
   },
   {
    "duration": 29,
    "start_time": "2021-11-05T13:28:35.925Z"
   },
   {
    "duration": 8,
    "start_time": "2021-11-05T13:28:35.955Z"
   },
   {
    "duration": 8,
    "start_time": "2021-11-05T13:28:35.965Z"
   },
   {
    "duration": 173,
    "start_time": "2021-11-05T13:28:57.487Z"
   },
   {
    "duration": 4,
    "start_time": "2021-11-05T13:29:27.850Z"
   },
   {
    "duration": 377,
    "start_time": "2021-11-05T13:29:27.856Z"
   },
   {
    "duration": 49,
    "start_time": "2021-11-05T13:29:28.235Z"
   },
   {
    "duration": 44,
    "start_time": "2021-11-05T13:29:28.285Z"
   },
   {
    "duration": 17,
    "start_time": "2021-11-05T13:29:28.331Z"
   },
   {
    "duration": 10,
    "start_time": "2021-11-05T13:29:28.349Z"
   },
   {
    "duration": 49,
    "start_time": "2021-11-05T13:29:28.362Z"
   },
   {
    "duration": 78,
    "start_time": "2021-11-05T13:29:28.413Z"
   },
   {
    "duration": 8,
    "start_time": "2021-11-05T13:29:28.494Z"
   },
   {
    "duration": 59,
    "start_time": "2021-11-05T13:29:28.503Z"
   },
   {
    "duration": 65,
    "start_time": "2021-11-05T13:29:28.563Z"
   },
   {
    "duration": 5,
    "start_time": "2021-11-05T13:29:28.629Z"
   },
   {
    "duration": 64,
    "start_time": "2021-11-05T13:29:28.635Z"
   },
   {
    "duration": 41,
    "start_time": "2021-11-05T13:29:28.700Z"
   },
   {
    "duration": 29,
    "start_time": "2021-11-05T13:29:28.742Z"
   },
   {
    "duration": 23,
    "start_time": "2021-11-05T13:29:28.772Z"
   },
   {
    "duration": 15,
    "start_time": "2021-11-05T13:29:30.658Z"
   },
   {
    "duration": 4,
    "start_time": "2021-11-05T13:31:59.206Z"
   },
   {
    "duration": 382,
    "start_time": "2021-11-05T13:31:59.212Z"
   },
   {
    "duration": 49,
    "start_time": "2021-11-05T13:31:59.596Z"
   },
   {
    "duration": 65,
    "start_time": "2021-11-05T13:31:59.647Z"
   },
   {
    "duration": 17,
    "start_time": "2021-11-05T13:31:59.713Z"
   },
   {
    "duration": 11,
    "start_time": "2021-11-05T13:31:59.731Z"
   },
   {
    "duration": 57,
    "start_time": "2021-11-05T13:31:59.745Z"
   },
   {
    "duration": 62,
    "start_time": "2021-11-05T13:31:59.805Z"
   },
   {
    "duration": 25,
    "start_time": "2021-11-05T13:31:59.868Z"
   },
   {
    "duration": 56,
    "start_time": "2021-11-05T13:31:59.895Z"
   },
   {
    "duration": 66,
    "start_time": "2021-11-05T13:31:59.953Z"
   },
   {
    "duration": 4,
    "start_time": "2021-11-05T13:32:00.021Z"
   },
   {
    "duration": 54,
    "start_time": "2021-11-05T13:32:00.027Z"
   },
   {
    "duration": 49,
    "start_time": "2021-11-05T13:32:00.083Z"
   },
   {
    "duration": 30,
    "start_time": "2021-11-05T13:32:00.134Z"
   },
   {
    "duration": 30,
    "start_time": "2021-11-05T13:32:00.166Z"
   },
   {
    "duration": 203,
    "start_time": "2021-11-05T13:32:03.124Z"
   },
   {
    "duration": 4,
    "start_time": "2021-11-05T13:32:10.242Z"
   },
   {
    "duration": 15,
    "start_time": "2021-11-05T13:32:19.304Z"
   },
   {
    "duration": 4,
    "start_time": "2021-11-05T13:32:29.212Z"
   },
   {
    "duration": 3,
    "start_time": "2021-11-05T13:38:24.273Z"
   },
   {
    "duration": 371,
    "start_time": "2021-11-05T13:38:24.280Z"
   },
   {
    "duration": 47,
    "start_time": "2021-11-05T13:38:24.653Z"
   },
   {
    "duration": 44,
    "start_time": "2021-11-05T13:38:24.702Z"
   },
   {
    "duration": 17,
    "start_time": "2021-11-05T13:38:24.748Z"
   },
   {
    "duration": 10,
    "start_time": "2021-11-05T13:38:24.791Z"
   },
   {
    "duration": 24,
    "start_time": "2021-11-05T13:38:24.803Z"
   },
   {
    "duration": 88,
    "start_time": "2021-11-05T13:38:24.828Z"
   },
   {
    "duration": 9,
    "start_time": "2021-11-05T13:38:24.918Z"
   },
   {
    "duration": 76,
    "start_time": "2021-11-05T13:38:24.929Z"
   },
   {
    "duration": 51,
    "start_time": "2021-11-05T13:38:25.006Z"
   },
   {
    "duration": 5,
    "start_time": "2021-11-05T13:38:25.059Z"
   },
   {
    "duration": 64,
    "start_time": "2021-11-05T13:38:25.065Z"
   },
   {
    "duration": 42,
    "start_time": "2021-11-05T13:38:25.131Z"
   },
   {
    "duration": 43,
    "start_time": "2021-11-05T13:38:25.174Z"
   },
   {
    "duration": 10,
    "start_time": "2021-11-05T13:38:25.218Z"
   },
   {
    "duration": 6,
    "start_time": "2021-11-05T13:38:25.229Z"
   },
   {
    "duration": 11,
    "start_time": "2021-11-05T13:38:27.174Z"
   },
   {
    "duration": 11,
    "start_time": "2021-11-05T13:38:37.085Z"
   },
   {
    "duration": 3,
    "start_time": "2021-11-05T13:39:36.921Z"
   },
   {
    "duration": 360,
    "start_time": "2021-11-05T13:39:36.926Z"
   },
   {
    "duration": 47,
    "start_time": "2021-11-05T13:39:37.288Z"
   },
   {
    "duration": 63,
    "start_time": "2021-11-05T13:39:37.337Z"
   },
   {
    "duration": 17,
    "start_time": "2021-11-05T13:39:37.401Z"
   },
   {
    "duration": 10,
    "start_time": "2021-11-05T13:39:37.420Z"
   },
   {
    "duration": 26,
    "start_time": "2021-11-05T13:39:37.432Z"
   },
   {
    "duration": 89,
    "start_time": "2021-11-05T13:39:37.459Z"
   },
   {
    "duration": 7,
    "start_time": "2021-11-05T13:39:37.550Z"
   },
   {
    "duration": 63,
    "start_time": "2021-11-05T13:39:37.559Z"
   },
   {
    "duration": 47,
    "start_time": "2021-11-05T13:39:37.624Z"
   },
   {
    "duration": 20,
    "start_time": "2021-11-05T13:39:37.673Z"
   },
   {
    "duration": 43,
    "start_time": "2021-11-05T13:39:37.694Z"
   },
   {
    "duration": 55,
    "start_time": "2021-11-05T13:39:37.738Z"
   },
   {
    "duration": 28,
    "start_time": "2021-11-05T13:39:37.795Z"
   },
   {
    "duration": 10,
    "start_time": "2021-11-05T13:39:37.825Z"
   },
   {
    "duration": 9,
    "start_time": "2021-11-05T13:39:37.836Z"
   },
   {
    "duration": 17,
    "start_time": "2021-11-05T13:39:40.210Z"
   },
   {
    "duration": 14,
    "start_time": "2021-11-05T13:39:55.279Z"
   },
   {
    "duration": 3,
    "start_time": "2021-11-05T13:40:40.883Z"
   },
   {
    "duration": 389,
    "start_time": "2021-11-05T13:40:40.887Z"
   },
   {
    "duration": 45,
    "start_time": "2021-11-05T13:40:41.278Z"
   },
   {
    "duration": 44,
    "start_time": "2021-11-05T13:40:41.324Z"
   },
   {
    "duration": 29,
    "start_time": "2021-11-05T13:40:41.370Z"
   },
   {
    "duration": 10,
    "start_time": "2021-11-05T13:40:41.401Z"
   },
   {
    "duration": 33,
    "start_time": "2021-11-05T13:40:41.413Z"
   },
   {
    "duration": 86,
    "start_time": "2021-11-05T13:40:41.447Z"
   },
   {
    "duration": 8,
    "start_time": "2021-11-05T13:40:41.534Z"
   },
   {
    "duration": 68,
    "start_time": "2021-11-05T13:40:41.544Z"
   },
   {
    "duration": 48,
    "start_time": "2021-11-05T13:40:41.614Z"
   },
   {
    "duration": 5,
    "start_time": "2021-11-05T13:40:41.663Z"
   },
   {
    "duration": 61,
    "start_time": "2021-11-05T13:40:41.669Z"
   },
   {
    "duration": 41,
    "start_time": "2021-11-05T13:40:41.732Z"
   },
   {
    "duration": 42,
    "start_time": "2021-11-05T13:40:41.775Z"
   },
   {
    "duration": 9,
    "start_time": "2021-11-05T13:40:41.819Z"
   },
   {
    "duration": 16,
    "start_time": "2021-11-05T13:40:44.065Z"
   },
   {
    "duration": 14,
    "start_time": "2021-11-05T13:41:12.787Z"
   },
   {
    "duration": 9,
    "start_time": "2021-11-05T13:41:18.416Z"
   },
   {
    "duration": 11,
    "start_time": "2021-11-05T13:41:21.897Z"
   },
   {
    "duration": 11,
    "start_time": "2021-11-05T13:41:27.471Z"
   },
   {
    "duration": 10,
    "start_time": "2021-11-05T13:41:32.157Z"
   },
   {
    "duration": 12,
    "start_time": "2021-11-05T13:41:36.981Z"
   },
   {
    "duration": 12,
    "start_time": "2021-11-05T13:41:41.494Z"
   },
   {
    "duration": 10,
    "start_time": "2021-11-05T13:41:49.008Z"
   },
   {
    "duration": 10,
    "start_time": "2021-11-05T13:41:55.013Z"
   },
   {
    "duration": 10,
    "start_time": "2021-11-05T13:42:01.175Z"
   },
   {
    "duration": 12,
    "start_time": "2021-11-05T13:42:05.656Z"
   },
   {
    "duration": 11,
    "start_time": "2021-11-05T13:42:09.164Z"
   },
   {
    "duration": 10,
    "start_time": "2021-11-05T13:42:15.630Z"
   },
   {
    "duration": 13,
    "start_time": "2021-11-05T13:42:23.115Z"
   },
   {
    "duration": 7,
    "start_time": "2021-11-05T13:42:38.994Z"
   },
   {
    "duration": 7,
    "start_time": "2021-11-05T13:42:48.709Z"
   },
   {
    "duration": 13,
    "start_time": "2021-11-05T13:42:52.116Z"
   },
   {
    "duration": 10,
    "start_time": "2021-11-05T13:43:18.714Z"
   },
   {
    "duration": 14,
    "start_time": "2021-11-05T13:43:26.766Z"
   },
   {
    "duration": 1073,
    "start_time": "2021-11-05T13:43:43.854Z"
   },
   {
    "duration": 395,
    "start_time": "2021-11-05T13:43:44.929Z"
   },
   {
    "duration": 58,
    "start_time": "2021-11-05T13:43:45.326Z"
   },
   {
    "duration": 48,
    "start_time": "2021-11-05T13:43:45.386Z"
   },
   {
    "duration": 18,
    "start_time": "2021-11-05T13:43:45.436Z"
   },
   {
    "duration": 11,
    "start_time": "2021-11-05T13:43:45.455Z"
   },
   {
    "duration": 25,
    "start_time": "2021-11-05T13:43:45.491Z"
   },
   {
    "duration": 88,
    "start_time": "2021-11-05T13:43:45.519Z"
   },
   {
    "duration": 9,
    "start_time": "2021-11-05T13:43:45.609Z"
   },
   {
    "duration": 75,
    "start_time": "2021-11-05T13:43:45.620Z"
   },
   {
    "duration": 50,
    "start_time": "2021-11-05T13:43:45.697Z"
   },
   {
    "duration": 7,
    "start_time": "2021-11-05T13:43:45.748Z"
   },
   {
    "duration": 87,
    "start_time": "2021-11-05T13:43:45.756Z"
   },
   {
    "duration": 53,
    "start_time": "2021-11-05T13:43:45.845Z"
   },
   {
    "duration": 35,
    "start_time": "2021-11-05T13:43:45.900Z"
   },
   {
    "duration": 11,
    "start_time": "2021-11-05T13:43:45.937Z"
   },
   {
    "duration": 11,
    "start_time": "2021-11-05T13:43:47.920Z"
   },
   {
    "duration": 14,
    "start_time": "2021-11-05T13:44:08.090Z"
   },
   {
    "duration": 8,
    "start_time": "2021-11-05T13:44:17.515Z"
   },
   {
    "duration": 3,
    "start_time": "2021-11-05T13:45:06.446Z"
   },
   {
    "duration": 378,
    "start_time": "2021-11-05T13:45:06.450Z"
   },
   {
    "duration": 49,
    "start_time": "2021-11-05T13:45:06.830Z"
   },
   {
    "duration": 46,
    "start_time": "2021-11-05T13:45:06.881Z"
   },
   {
    "duration": 16,
    "start_time": "2021-11-05T13:45:06.929Z"
   },
   {
    "duration": 10,
    "start_time": "2021-11-05T13:45:06.947Z"
   },
   {
    "duration": 49,
    "start_time": "2021-11-05T13:45:06.959Z"
   },
   {
    "duration": 62,
    "start_time": "2021-11-05T13:45:07.009Z"
   },
   {
    "duration": 24,
    "start_time": "2021-11-05T13:45:07.072Z"
   },
   {
    "duration": 54,
    "start_time": "2021-11-05T13:45:07.097Z"
   },
   {
    "duration": 66,
    "start_time": "2021-11-05T13:45:07.152Z"
   },
   {
    "duration": 4,
    "start_time": "2021-11-05T13:45:07.220Z"
   },
   {
    "duration": 47,
    "start_time": "2021-11-05T13:45:07.225Z"
   },
   {
    "duration": 12,
    "start_time": "2021-11-05T13:45:08.605Z"
   },
   {
    "duration": 42,
    "start_time": "2021-11-05T13:45:11.687Z"
   },
   {
    "duration": 9,
    "start_time": "2021-11-05T13:45:14.653Z"
   },
   {
    "duration": 13,
    "start_time": "2021-11-05T13:45:58.602Z"
   },
   {
    "duration": 9,
    "start_time": "2021-11-05T13:46:53.670Z"
   },
   {
    "duration": 8,
    "start_time": "2021-11-05T13:46:57.852Z"
   },
   {
    "duration": 8,
    "start_time": "2021-11-05T13:47:00.728Z"
   },
   {
    "duration": 8,
    "start_time": "2021-11-05T13:47:06.616Z"
   },
   {
    "duration": 8,
    "start_time": "2021-11-05T13:47:15.090Z"
   },
   {
    "duration": 8,
    "start_time": "2021-11-05T13:47:20.430Z"
   },
   {
    "duration": 13,
    "start_time": "2021-11-05T13:47:24.775Z"
   },
   {
    "duration": 14,
    "start_time": "2021-11-05T13:47:44.026Z"
   },
   {
    "duration": 8,
    "start_time": "2021-11-05T13:47:52.435Z"
   },
   {
    "duration": 11,
    "start_time": "2021-11-05T13:47:56.597Z"
   },
   {
    "duration": 9,
    "start_time": "2021-11-05T13:48:03.501Z"
   },
   {
    "duration": 2,
    "start_time": "2021-11-05T13:53:17.310Z"
   },
   {
    "duration": 1249,
    "start_time": "2021-11-05T13:53:17.314Z"
   },
   {
    "duration": 47,
    "start_time": "2021-11-05T13:53:18.565Z"
   },
   {
    "duration": 43,
    "start_time": "2021-11-05T13:53:18.614Z"
   },
   {
    "duration": 37,
    "start_time": "2021-11-05T13:53:18.659Z"
   },
   {
    "duration": 11,
    "start_time": "2021-11-05T13:53:18.697Z"
   },
   {
    "duration": 27,
    "start_time": "2021-11-05T13:53:18.711Z"
   },
   {
    "duration": 96,
    "start_time": "2021-11-05T13:53:18.740Z"
   },
   {
    "duration": 10,
    "start_time": "2021-11-05T13:53:18.838Z"
   },
   {
    "duration": 66,
    "start_time": "2021-11-05T13:53:18.849Z"
   },
   {
    "duration": 48,
    "start_time": "2021-11-05T13:53:18.916Z"
   },
   {
    "duration": 6,
    "start_time": "2021-11-05T13:53:18.965Z"
   },
   {
    "duration": 53,
    "start_time": "2021-11-05T13:53:18.990Z"
   },
   {
    "duration": 12,
    "start_time": "2021-11-05T13:53:19.045Z"
   },
   {
    "duration": 10,
    "start_time": "2021-11-05T13:53:19.058Z"
   },
   {
    "duration": 45,
    "start_time": "2021-11-05T13:53:25.678Z"
   },
   {
    "duration": 12,
    "start_time": "2021-11-05T13:53:31.388Z"
   },
   {
    "duration": 1060,
    "start_time": "2021-11-05T13:54:42.644Z"
   },
   {
    "duration": 404,
    "start_time": "2021-11-05T13:54:43.706Z"
   },
   {
    "duration": 60,
    "start_time": "2021-11-05T13:54:44.112Z"
   },
   {
    "duration": 58,
    "start_time": "2021-11-05T13:54:44.174Z"
   },
   {
    "duration": 18,
    "start_time": "2021-11-05T13:54:44.234Z"
   },
   {
    "duration": 11,
    "start_time": "2021-11-05T13:54:44.253Z"
   },
   {
    "duration": 46,
    "start_time": "2021-11-05T13:54:44.266Z"
   },
   {
    "duration": 92,
    "start_time": "2021-11-05T13:54:44.314Z"
   },
   {
    "duration": 8,
    "start_time": "2021-11-05T13:54:44.409Z"
   },
   {
    "duration": 77,
    "start_time": "2021-11-05T13:54:44.419Z"
   },
   {
    "duration": 52,
    "start_time": "2021-11-05T13:54:44.497Z"
   },
   {
    "duration": 6,
    "start_time": "2021-11-05T13:54:44.550Z"
   },
   {
    "duration": 75,
    "start_time": "2021-11-05T13:54:44.557Z"
   },
   {
    "duration": 36,
    "start_time": "2021-11-05T13:54:44.633Z"
   },
   {
    "duration": 43,
    "start_time": "2021-11-05T13:54:44.671Z"
   },
   {
    "duration": 11,
    "start_time": "2021-11-05T13:54:44.716Z"
   },
   {
    "duration": 16,
    "start_time": "2021-11-05T13:54:44.728Z"
   },
   {
    "duration": 12,
    "start_time": "2021-11-05T13:54:46.717Z"
   },
   {
    "duration": 3,
    "start_time": "2021-11-05T14:01:32.015Z"
   },
   {
    "duration": 397,
    "start_time": "2021-11-05T14:01:32.019Z"
   },
   {
    "duration": 48,
    "start_time": "2021-11-05T14:01:32.417Z"
   },
   {
    "duration": 45,
    "start_time": "2021-11-05T14:01:32.466Z"
   },
   {
    "duration": 17,
    "start_time": "2021-11-05T14:01:32.512Z"
   },
   {
    "duration": 9,
    "start_time": "2021-11-05T14:01:32.531Z"
   },
   {
    "duration": 24,
    "start_time": "2021-11-05T14:01:32.542Z"
   },
   {
    "duration": 61,
    "start_time": "2021-11-05T14:01:32.592Z"
   },
   {
    "duration": 9,
    "start_time": "2021-11-05T14:01:32.655Z"
   },
   {
    "duration": 73,
    "start_time": "2021-11-05T14:01:32.666Z"
   },
   {
    "duration": 61,
    "start_time": "2021-11-05T14:01:32.740Z"
   },
   {
    "duration": 5,
    "start_time": "2021-11-05T14:01:32.803Z"
   },
   {
    "duration": 51,
    "start_time": "2021-11-05T14:01:32.810Z"
   },
   {
    "duration": 50,
    "start_time": "2021-11-05T14:01:32.863Z"
   },
   {
    "duration": 30,
    "start_time": "2021-11-05T14:01:32.914Z"
   },
   {
    "duration": 9,
    "start_time": "2021-11-05T14:01:32.945Z"
   },
   {
    "duration": 21,
    "start_time": "2021-11-05T14:01:32.955Z"
   },
   {
    "duration": 16,
    "start_time": "2021-11-05T14:01:32.978Z"
   },
   {
    "duration": 484,
    "start_time": "2021-11-05T14:01:35.063Z"
   },
   {
    "duration": 5,
    "start_time": "2021-11-05T14:01:48.868Z"
   },
   {
    "duration": 4380,
    "start_time": "2021-11-05T14:01:49.440Z"
   },
   {
    "duration": 14,
    "start_time": "2021-11-05T14:02:00.889Z"
   },
   {
    "duration": 2760,
    "start_time": "2021-11-05T14:02:24.359Z"
   },
   {
    "duration": 172,
    "start_time": "2021-11-05T14:17:36.969Z"
   },
   {
    "duration": 11,
    "start_time": "2021-11-05T14:17:42.910Z"
   },
   {
    "duration": 4,
    "start_time": "2021-11-05T14:17:48.685Z"
   },
   {
    "duration": 193,
    "start_time": "2021-11-05T14:20:53.156Z"
   },
   {
    "duration": 189,
    "start_time": "2021-11-05T14:21:14.397Z"
   },
   {
    "duration": 13,
    "start_time": "2021-11-05T14:22:11.279Z"
   },
   {
    "duration": 8,
    "start_time": "2021-11-05T14:22:18.100Z"
   },
   {
    "duration": 14,
    "start_time": "2021-11-05T14:23:09.027Z"
   },
   {
    "duration": 8,
    "start_time": "2021-11-05T14:23:09.776Z"
   },
   {
    "duration": 291,
    "start_time": "2021-11-05T14:23:56.731Z"
   },
   {
    "duration": 3,
    "start_time": "2021-11-05T14:32:30.891Z"
   },
   {
    "duration": 404,
    "start_time": "2021-11-05T14:32:30.897Z"
   },
   {
    "duration": 48,
    "start_time": "2021-11-05T14:32:31.303Z"
   },
   {
    "duration": 61,
    "start_time": "2021-11-05T14:32:31.353Z"
   },
   {
    "duration": 17,
    "start_time": "2021-11-05T14:32:31.416Z"
   },
   {
    "duration": 10,
    "start_time": "2021-11-05T14:32:31.434Z"
   },
   {
    "duration": 52,
    "start_time": "2021-11-05T14:32:31.445Z"
   },
   {
    "duration": 60,
    "start_time": "2021-11-05T14:32:31.500Z"
   },
   {
    "duration": 8,
    "start_time": "2021-11-05T14:32:31.562Z"
   },
   {
    "duration": 55,
    "start_time": "2021-11-05T14:32:31.591Z"
   },
   {
    "duration": 66,
    "start_time": "2021-11-05T14:32:31.647Z"
   },
   {
    "duration": 4,
    "start_time": "2021-11-05T14:32:31.715Z"
   },
   {
    "duration": 44,
    "start_time": "2021-11-05T14:32:31.721Z"
   },
   {
    "duration": 43,
    "start_time": "2021-11-05T14:32:31.767Z"
   },
   {
    "duration": 31,
    "start_time": "2021-11-05T14:32:31.812Z"
   },
   {
    "duration": 10,
    "start_time": "2021-11-05T14:32:31.845Z"
   },
   {
    "duration": 37,
    "start_time": "2021-11-05T14:32:31.856Z"
   },
   {
    "duration": 4,
    "start_time": "2021-11-05T14:32:31.895Z"
   },
   {
    "duration": 4634,
    "start_time": "2021-11-05T14:32:31.901Z"
   },
   {
    "duration": 16,
    "start_time": "2021-11-05T14:32:36.537Z"
   },
   {
    "duration": 28,
    "start_time": "2021-11-05T14:32:36.554Z"
   },
   {
    "duration": 303,
    "start_time": "2021-11-05T14:32:36.584Z"
   },
   {
    "duration": 256,
    "start_time": "2021-11-05T14:32:36.892Z"
   },
   {
    "duration": 306,
    "start_time": "2021-11-05T14:32:37.150Z"
   },
   {
    "duration": 238,
    "start_time": "2021-11-05T14:32:37.457Z"
   },
   {
    "duration": 304,
    "start_time": "2021-11-05T14:32:37.696Z"
   },
   {
    "duration": 264,
    "start_time": "2021-11-05T14:32:38.001Z"
   },
   {
    "duration": 293,
    "start_time": "2021-11-05T14:32:38.267Z"
   },
   {
    "duration": 234,
    "start_time": "2021-11-05T14:32:38.561Z"
   },
   {
    "duration": 5,
    "start_time": "2021-11-05T14:32:38.796Z"
   },
   {
    "duration": 222,
    "start_time": "2021-11-05T14:32:38.803Z"
   },
   {
    "duration": -89,
    "start_time": "2021-11-05T14:32:39.116Z"
   },
   {
    "duration": 3,
    "start_time": "2021-11-05T14:33:40.287Z"
   },
   {
    "duration": 394,
    "start_time": "2021-11-05T14:33:40.292Z"
   },
   {
    "duration": 46,
    "start_time": "2021-11-05T14:33:40.688Z"
   },
   {
    "duration": 62,
    "start_time": "2021-11-05T14:33:40.736Z"
   },
   {
    "duration": 18,
    "start_time": "2021-11-05T14:33:40.799Z"
   },
   {
    "duration": 9,
    "start_time": "2021-11-05T14:33:40.819Z"
   },
   {
    "duration": 25,
    "start_time": "2021-11-05T14:33:40.830Z"
   },
   {
    "duration": 92,
    "start_time": "2021-11-05T14:33:40.856Z"
   },
   {
    "duration": 7,
    "start_time": "2021-11-05T14:33:40.950Z"
   },
   {
    "duration": 63,
    "start_time": "2021-11-05T14:33:40.959Z"
   },
   {
    "duration": 47,
    "start_time": "2021-11-05T14:33:41.024Z"
   },
   {
    "duration": 20,
    "start_time": "2021-11-05T14:33:41.073Z"
   },
   {
    "duration": 45,
    "start_time": "2021-11-05T14:33:41.094Z"
   },
   {
    "duration": 50,
    "start_time": "2021-11-05T14:33:41.141Z"
   },
   {
    "duration": 29,
    "start_time": "2021-11-05T14:33:41.193Z"
   },
   {
    "duration": 8,
    "start_time": "2021-11-05T14:33:41.224Z"
   },
   {
    "duration": 17,
    "start_time": "2021-11-05T14:33:41.234Z"
   },
   {
    "duration": 5,
    "start_time": "2021-11-05T14:33:41.252Z"
   },
   {
    "duration": 4668,
    "start_time": "2021-11-05T14:33:41.260Z"
   },
   {
    "duration": 13,
    "start_time": "2021-11-05T14:33:45.930Z"
   },
   {
    "duration": 7,
    "start_time": "2021-11-05T14:33:45.945Z"
   },
   {
    "duration": 309,
    "start_time": "2021-11-05T14:33:45.954Z"
   },
   {
    "duration": 257,
    "start_time": "2021-11-05T14:33:46.265Z"
   },
   {
    "duration": 294,
    "start_time": "2021-11-05T14:33:46.523Z"
   },
   {
    "duration": 238,
    "start_time": "2021-11-05T14:33:46.819Z"
   },
   {
    "duration": 295,
    "start_time": "2021-11-05T14:33:47.058Z"
   },
   {
    "duration": 258,
    "start_time": "2021-11-05T14:33:47.354Z"
   },
   {
    "duration": 285,
    "start_time": "2021-11-05T14:33:47.614Z"
   },
   {
    "duration": 308,
    "start_time": "2021-11-05T14:33:47.901Z"
   },
   {
    "duration": 4,
    "start_time": "2021-11-05T14:33:48.211Z"
   },
   {
    "duration": 10,
    "start_time": "2021-11-05T14:33:48.217Z"
   },
   {
    "duration": 4,
    "start_time": "2021-11-05T14:33:48.229Z"
   },
   {
    "duration": 3,
    "start_time": "2021-11-05T14:40:09.109Z"
   },
   {
    "duration": 441,
    "start_time": "2021-11-05T14:40:09.761Z"
   },
   {
    "duration": 44,
    "start_time": "2021-11-05T14:40:11.548Z"
   },
   {
    "duration": 37,
    "start_time": "2021-11-05T14:40:15.514Z"
   },
   {
    "duration": 3,
    "start_time": "2021-11-05T14:46:00.386Z"
   },
   {
    "duration": 466,
    "start_time": "2021-11-05T14:46:00.390Z"
   },
   {
    "duration": 44,
    "start_time": "2021-11-05T14:46:00.858Z"
   },
   {
    "duration": 37,
    "start_time": "2021-11-05T14:46:00.903Z"
   },
   {
    "duration": 14,
    "start_time": "2021-11-05T14:46:00.942Z"
   },
   {
    "duration": 38,
    "start_time": "2021-11-05T14:46:00.958Z"
   },
   {
    "duration": 33,
    "start_time": "2021-11-05T14:46:00.998Z"
   },
   {
    "duration": 16,
    "start_time": "2021-11-05T14:46:01.033Z"
   },
   {
    "duration": 204,
    "start_time": "2021-11-05T14:46:01.050Z"
   },
   {
    "duration": -68,
    "start_time": "2021-11-05T14:46:01.324Z"
   },
   {
    "duration": -71,
    "start_time": "2021-11-05T14:46:01.328Z"
   },
   {
    "duration": -75,
    "start_time": "2021-11-05T14:46:01.332Z"
   },
   {
    "duration": -78,
    "start_time": "2021-11-05T14:46:01.336Z"
   },
   {
    "duration": -80,
    "start_time": "2021-11-05T14:46:01.339Z"
   },
   {
    "duration": -84,
    "start_time": "2021-11-05T14:46:01.344Z"
   },
   {
    "duration": -88,
    "start_time": "2021-11-05T14:46:01.349Z"
   },
   {
    "duration": -89,
    "start_time": "2021-11-05T14:46:01.352Z"
   },
   {
    "duration": -94,
    "start_time": "2021-11-05T14:46:01.358Z"
   },
   {
    "duration": -104,
    "start_time": "2021-11-05T14:46:01.370Z"
   },
   {
    "duration": -109,
    "start_time": "2021-11-05T14:46:01.376Z"
   },
   {
    "duration": -111,
    "start_time": "2021-11-05T14:46:01.379Z"
   },
   {
    "duration": 3,
    "start_time": "2021-11-05T14:46:42.543Z"
   },
   {
    "duration": 442,
    "start_time": "2021-11-05T14:46:42.548Z"
   },
   {
    "duration": 42,
    "start_time": "2021-11-05T14:46:42.991Z"
   },
   {
    "duration": 34,
    "start_time": "2021-11-05T14:46:43.034Z"
   },
   {
    "duration": 38,
    "start_time": "2021-11-05T14:46:43.070Z"
   },
   {
    "duration": 13,
    "start_time": "2021-11-05T14:46:43.110Z"
   },
   {
    "duration": 28,
    "start_time": "2021-11-05T14:46:43.126Z"
   },
   {
    "duration": 44,
    "start_time": "2021-11-05T14:46:43.156Z"
   },
   {
    "duration": 55,
    "start_time": "2021-11-05T14:46:43.201Z"
   },
   {
    "duration": 73,
    "start_time": "2021-11-05T14:46:43.258Z"
   },
   {
    "duration": 4,
    "start_time": "2021-11-05T14:46:43.332Z"
   },
   {
    "duration": 54,
    "start_time": "2021-11-05T14:46:43.337Z"
   },
   {
    "duration": 33,
    "start_time": "2021-11-05T14:46:43.393Z"
   },
   {
    "duration": 30,
    "start_time": "2021-11-05T14:46:43.427Z"
   },
   {
    "duration": 9,
    "start_time": "2021-11-05T14:46:43.458Z"
   },
   {
    "duration": 35,
    "start_time": "2021-11-05T14:46:43.469Z"
   },
   {
    "duration": 5,
    "start_time": "2021-11-05T14:46:43.505Z"
   },
   {
    "duration": 4532,
    "start_time": "2021-11-05T14:46:43.511Z"
   },
   {
    "duration": 14,
    "start_time": "2021-11-05T14:46:48.046Z"
   },
   {
    "duration": 8,
    "start_time": "2021-11-05T14:46:48.061Z"
   },
   {
    "duration": 185,
    "start_time": "2021-11-05T14:46:50.460Z"
   },
   {
    "duration": 3,
    "start_time": "2021-11-05T14:47:08.126Z"
   },
   {
    "duration": 171,
    "start_time": "2021-11-05T14:47:11.890Z"
   },
   {
    "duration": 2864,
    "start_time": "2021-11-05T14:49:13.888Z"
   },
   {
    "duration": 181,
    "start_time": "2021-11-05T14:49:20.221Z"
   },
   {
    "duration": 3,
    "start_time": "2021-11-05T14:49:25.294Z"
   },
   {
    "duration": 470,
    "start_time": "2021-11-05T14:49:25.298Z"
   },
   {
    "duration": 46,
    "start_time": "2021-11-05T14:49:25.770Z"
   },
   {
    "duration": 36,
    "start_time": "2021-11-05T14:49:25.818Z"
   },
   {
    "duration": 35,
    "start_time": "2021-11-05T14:49:25.856Z"
   },
   {
    "duration": 11,
    "start_time": "2021-11-05T14:49:25.892Z"
   },
   {
    "duration": 24,
    "start_time": "2021-11-05T14:49:25.905Z"
   },
   {
    "duration": 16,
    "start_time": "2021-11-05T14:49:25.931Z"
   },
   {
    "duration": 83,
    "start_time": "2021-11-05T14:49:25.948Z"
   },
   {
    "duration": 59,
    "start_time": "2021-11-05T14:49:26.033Z"
   },
   {
    "duration": 5,
    "start_time": "2021-11-05T14:49:26.093Z"
   },
   {
    "duration": 49,
    "start_time": "2021-11-05T14:49:26.099Z"
   },
   {
    "duration": 45,
    "start_time": "2021-11-05T14:49:26.149Z"
   },
   {
    "duration": 30,
    "start_time": "2021-11-05T14:49:26.196Z"
   },
   {
    "duration": 9,
    "start_time": "2021-11-05T14:49:26.228Z"
   },
   {
    "duration": 18,
    "start_time": "2021-11-05T14:49:26.238Z"
   },
   {
    "duration": 5,
    "start_time": "2021-11-05T14:49:26.257Z"
   },
   {
    "duration": 4670,
    "start_time": "2021-11-05T14:49:26.263Z"
   },
   {
    "duration": 15,
    "start_time": "2021-11-05T14:49:30.935Z"
   },
   {
    "duration": 9,
    "start_time": "2021-11-05T14:49:30.952Z"
   },
   {
    "duration": 197,
    "start_time": "2021-11-05T14:49:30.963Z"
   },
   {
    "duration": 1905,
    "start_time": "2021-11-05T14:50:26.038Z"
   },
   {
    "duration": 192,
    "start_time": "2021-11-05T14:50:30.931Z"
   },
   {
    "duration": 3,
    "start_time": "2021-11-05T14:50:37.338Z"
   },
   {
    "duration": 469,
    "start_time": "2021-11-05T14:50:37.343Z"
   },
   {
    "duration": 44,
    "start_time": "2021-11-05T14:50:37.813Z"
   },
   {
    "duration": 40,
    "start_time": "2021-11-05T14:50:37.859Z"
   },
   {
    "duration": 14,
    "start_time": "2021-11-05T14:50:37.900Z"
   },
   {
    "duration": 11,
    "start_time": "2021-11-05T14:50:37.916Z"
   },
   {
    "duration": 25,
    "start_time": "2021-11-05T14:50:37.929Z"
   },
   {
    "duration": 49,
    "start_time": "2021-11-05T14:50:37.956Z"
   },
   {
    "duration": 54,
    "start_time": "2021-11-05T14:50:38.007Z"
   },
   {
    "duration": 68,
    "start_time": "2021-11-05T14:50:38.062Z"
   },
   {
    "duration": 4,
    "start_time": "2021-11-05T14:50:38.132Z"
   },
   {
    "duration": 54,
    "start_time": "2021-11-05T14:50:38.138Z"
   },
   {
    "duration": 34,
    "start_time": "2021-11-05T14:50:38.194Z"
   },
   {
    "duration": 31,
    "start_time": "2021-11-05T14:50:38.230Z"
   },
   {
    "duration": 10,
    "start_time": "2021-11-05T14:50:38.263Z"
   },
   {
    "duration": 16,
    "start_time": "2021-11-05T14:50:38.292Z"
   },
   {
    "duration": 4,
    "start_time": "2021-11-05T14:50:38.310Z"
   },
   {
    "duration": 4438,
    "start_time": "2021-11-05T14:50:38.316Z"
   },
   {
    "duration": 14,
    "start_time": "2021-11-05T14:50:42.756Z"
   },
   {
    "duration": 21,
    "start_time": "2021-11-05T14:50:42.771Z"
   },
   {
    "duration": 1888,
    "start_time": "2021-11-05T14:50:42.794Z"
   },
   {
    "duration": 221,
    "start_time": "2021-11-05T14:50:44.685Z"
   },
   {
    "duration": 1076,
    "start_time": "2021-11-05T14:51:15.516Z"
   },
   {
    "duration": 2069,
    "start_time": "2021-11-05T14:51:16.594Z"
   },
   {
    "duration": 46,
    "start_time": "2021-11-05T14:51:18.665Z"
   },
   {
    "duration": 35,
    "start_time": "2021-11-05T14:51:18.713Z"
   },
   {
    "duration": 13,
    "start_time": "2021-11-05T14:51:18.749Z"
   },
   {
    "duration": 32,
    "start_time": "2021-11-05T14:51:18.763Z"
   },
   {
    "duration": 23,
    "start_time": "2021-11-05T14:51:18.796Z"
   },
   {
    "duration": 17,
    "start_time": "2021-11-05T14:51:18.821Z"
   },
   {
    "duration": 79,
    "start_time": "2021-11-05T14:51:18.840Z"
   },
   {
    "duration": 48,
    "start_time": "2021-11-05T14:51:18.921Z"
   },
   {
    "duration": 21,
    "start_time": "2021-11-05T14:51:18.971Z"
   },
   {
    "duration": 56,
    "start_time": "2021-11-05T14:51:18.994Z"
   },
   {
    "duration": 53,
    "start_time": "2021-11-05T14:51:19.051Z"
   },
   {
    "duration": 33,
    "start_time": "2021-11-05T14:51:19.106Z"
   },
   {
    "duration": 9,
    "start_time": "2021-11-05T14:51:19.140Z"
   },
   {
    "duration": 15,
    "start_time": "2021-11-05T14:51:19.151Z"
   },
   {
    "duration": 24,
    "start_time": "2021-11-05T14:51:19.167Z"
   },
   {
    "duration": 4348,
    "start_time": "2021-11-05T14:51:19.192Z"
   },
   {
    "duration": 13,
    "start_time": "2021-11-05T14:51:23.541Z"
   },
   {
    "duration": 7,
    "start_time": "2021-11-05T14:51:23.555Z"
   },
   {
    "duration": 1865,
    "start_time": "2021-11-05T14:51:23.563Z"
   },
   {
    "duration": 330,
    "start_time": "2021-11-05T14:51:28.563Z"
   },
   {
    "duration": 387,
    "start_time": "2021-11-05T14:52:05.480Z"
   },
   {
    "duration": 339,
    "start_time": "2021-11-05T14:52:52.687Z"
   },
   {
    "duration": 295,
    "start_time": "2021-11-05T14:53:19.265Z"
   },
   {
    "duration": 20,
    "start_time": "2021-11-05T15:05:52.088Z"
   },
   {
    "duration": 18,
    "start_time": "2021-11-05T15:06:28.264Z"
   },
   {
    "duration": 8,
    "start_time": "2021-11-05T15:07:18.733Z"
   },
   {
    "duration": 13,
    "start_time": "2021-11-05T15:07:27.781Z"
   },
   {
    "duration": 7,
    "start_time": "2021-11-05T15:07:49.813Z"
   },
   {
    "duration": 13,
    "start_time": "2021-11-05T15:08:07.666Z"
   },
   {
    "duration": 302,
    "start_time": "2021-11-05T15:08:22.089Z"
   },
   {
    "duration": 12,
    "start_time": "2021-11-05T15:08:32.180Z"
   },
   {
    "duration": 13,
    "start_time": "2021-11-05T15:08:35.511Z"
   },
   {
    "duration": 12,
    "start_time": "2021-11-05T15:08:39.199Z"
   },
   {
    "duration": 12,
    "start_time": "2021-11-05T15:08:44.700Z"
   },
   {
    "duration": 12,
    "start_time": "2021-11-05T15:08:49.344Z"
   },
   {
    "duration": 12,
    "start_time": "2021-11-05T15:08:51.541Z"
   },
   {
    "duration": 12,
    "start_time": "2021-11-05T15:08:53.900Z"
   },
   {
    "duration": 11,
    "start_time": "2021-11-05T15:08:56.736Z"
   },
   {
    "duration": 12,
    "start_time": "2021-11-05T15:08:58.914Z"
   },
   {
    "duration": 12,
    "start_time": "2021-11-05T15:09:01.212Z"
   },
   {
    "duration": 6501,
    "start_time": "2021-11-05T15:09:22.729Z"
   },
   {
    "duration": 11,
    "start_time": "2021-11-05T15:09:32.200Z"
   },
   {
    "duration": 16,
    "start_time": "2021-11-05T15:09:59.183Z"
   },
   {
    "duration": 4,
    "start_time": "2021-11-05T15:10:19.992Z"
   },
   {
    "duration": 27,
    "start_time": "2021-11-05T15:10:23.651Z"
   },
   {
    "duration": 1401,
    "start_time": "2021-11-05T15:10:49.628Z"
   },
   {
    "duration": 27,
    "start_time": "2021-11-05T15:10:54.998Z"
   },
   {
    "duration": 28,
    "start_time": "2021-11-05T15:10:59.341Z"
   },
   {
    "duration": 28,
    "start_time": "2021-11-05T15:11:06.710Z"
   },
   {
    "duration": 26,
    "start_time": "2021-11-05T15:11:11.383Z"
   },
   {
    "duration": 26,
    "start_time": "2021-11-05T15:11:28.953Z"
   },
   {
    "duration": 27,
    "start_time": "2021-11-05T15:11:37.830Z"
   },
   {
    "duration": 9,
    "start_time": "2021-11-05T15:11:47.913Z"
   },
   {
    "duration": 8,
    "start_time": "2021-11-05T15:11:52.496Z"
   },
   {
    "duration": 13,
    "start_time": "2021-11-05T15:15:08.725Z"
   },
   {
    "duration": 8,
    "start_time": "2021-11-05T15:15:09.492Z"
   },
   {
    "duration": 12,
    "start_time": "2021-11-05T15:15:09.790Z"
   },
   {
    "duration": 3,
    "start_time": "2021-11-05T15:44:43.089Z"
   },
   {
    "duration": 514,
    "start_time": "2021-11-05T15:44:43.094Z"
   },
   {
    "duration": 45,
    "start_time": "2021-11-05T15:44:43.610Z"
   },
   {
    "duration": 45,
    "start_time": "2021-11-05T15:44:43.657Z"
   },
   {
    "duration": 16,
    "start_time": "2021-11-05T15:44:43.704Z"
   },
   {
    "duration": 10,
    "start_time": "2021-11-05T15:44:43.721Z"
   },
   {
    "duration": 26,
    "start_time": "2021-11-05T15:44:43.733Z"
   },
   {
    "duration": 48,
    "start_time": "2021-11-05T15:44:43.792Z"
   },
   {
    "duration": 7,
    "start_time": "2021-11-05T15:44:43.841Z"
   },
   {
    "duration": 18,
    "start_time": "2021-11-05T15:44:43.849Z"
   },
   {
    "duration": 28,
    "start_time": "2021-11-05T15:44:43.869Z"
   },
   {
    "duration": 12,
    "start_time": "2021-11-05T15:44:43.899Z"
   },
   {
    "duration": 46,
    "start_time": "2021-11-05T15:44:43.913Z"
   },
   {
    "duration": 65,
    "start_time": "2021-11-05T15:44:43.961Z"
   },
   {
    "duration": 30,
    "start_time": "2021-11-05T15:44:44.028Z"
   },
   {
    "duration": 33,
    "start_time": "2021-11-05T15:44:44.060Z"
   },
   {
    "duration": 19,
    "start_time": "2021-11-05T15:44:44.095Z"
   },
   {
    "duration": 6,
    "start_time": "2021-11-05T15:44:44.116Z"
   },
   {
    "duration": 4425,
    "start_time": "2021-11-05T15:44:44.125Z"
   },
   {
    "duration": 200,
    "start_time": "2021-11-05T15:44:50.232Z"
   },
   {
    "duration": 14,
    "start_time": "2021-11-05T15:44:57.992Z"
   },
   {
    "duration": 8,
    "start_time": "2021-11-05T15:44:59.007Z"
   },
   {
    "duration": 14,
    "start_time": "2021-11-05T15:45:05.880Z"
   },
   {
    "duration": 8,
    "start_time": "2021-11-05T15:45:06.139Z"
   },
   {
    "duration": 4,
    "start_time": "2021-11-05T15:45:21.262Z"
   },
   {
    "duration": 491,
    "start_time": "2021-11-05T15:45:21.268Z"
   },
   {
    "duration": 44,
    "start_time": "2021-11-05T15:45:21.762Z"
   },
   {
    "duration": 38,
    "start_time": "2021-11-05T15:45:21.808Z"
   },
   {
    "duration": 16,
    "start_time": "2021-11-05T15:45:21.848Z"
   },
   {
    "duration": 31,
    "start_time": "2021-11-05T15:45:21.866Z"
   },
   {
    "duration": 27,
    "start_time": "2021-11-05T15:45:21.900Z"
   },
   {
    "duration": 82,
    "start_time": "2021-11-05T15:45:21.930Z"
   },
   {
    "duration": 5,
    "start_time": "2021-11-05T15:45:22.014Z"
   },
   {
    "duration": 16,
    "start_time": "2021-11-05T15:45:22.021Z"
   },
   {
    "duration": 8,
    "start_time": "2021-11-05T15:45:22.039Z"
   },
   {
    "duration": 11,
    "start_time": "2021-11-05T15:45:22.049Z"
   },
   {
    "duration": 73,
    "start_time": "2021-11-05T15:45:22.061Z"
   },
   {
    "duration": 35,
    "start_time": "2021-11-05T15:45:22.136Z"
   },
   {
    "duration": 47,
    "start_time": "2021-11-05T15:45:22.172Z"
   },
   {
    "duration": 10,
    "start_time": "2021-11-05T15:45:22.220Z"
   },
   {
    "duration": 19,
    "start_time": "2021-11-05T15:45:22.231Z"
   },
   {
    "duration": 5,
    "start_time": "2021-11-05T15:45:22.251Z"
   },
   {
    "duration": 4440,
    "start_time": "2021-11-05T15:45:22.258Z"
   },
   {
    "duration": 16,
    "start_time": "2021-11-05T15:45:26.700Z"
   },
   {
    "duration": 10,
    "start_time": "2021-11-05T15:45:26.718Z"
   },
   {
    "duration": 194,
    "start_time": "2021-11-05T15:46:40.878Z"
   },
   {
    "duration": 3,
    "start_time": "2021-11-05T15:46:44.735Z"
   },
   {
    "duration": 530,
    "start_time": "2021-11-05T15:46:44.740Z"
   },
   {
    "duration": 45,
    "start_time": "2021-11-05T15:46:45.272Z"
   },
   {
    "duration": 40,
    "start_time": "2021-11-05T15:46:45.319Z"
   },
   {
    "duration": 34,
    "start_time": "2021-11-05T15:46:45.361Z"
   },
   {
    "duration": 12,
    "start_time": "2021-11-05T15:46:45.397Z"
   },
   {
    "duration": 26,
    "start_time": "2021-11-05T15:46:45.411Z"
   },
   {
    "duration": 79,
    "start_time": "2021-11-05T15:46:45.438Z"
   },
   {
    "duration": 5,
    "start_time": "2021-11-05T15:46:45.519Z"
   },
   {
    "duration": 18,
    "start_time": "2021-11-05T15:46:45.525Z"
   },
   {
    "duration": 7,
    "start_time": "2021-11-05T15:46:45.545Z"
   },
   {
    "duration": 11,
    "start_time": "2021-11-05T15:46:45.554Z"
   },
   {
    "duration": 63,
    "start_time": "2021-11-05T15:46:45.567Z"
   },
   {
    "duration": 59,
    "start_time": "2021-11-05T15:46:45.632Z"
   },
   {
    "duration": 31,
    "start_time": "2021-11-05T15:46:45.693Z"
   },
   {
    "duration": 10,
    "start_time": "2021-11-05T15:46:45.726Z"
   },
   {
    "duration": 19,
    "start_time": "2021-11-05T15:46:45.737Z"
   },
   {
    "duration": 7,
    "start_time": "2021-11-05T15:46:45.757Z"
   },
   {
    "duration": 4480,
    "start_time": "2021-11-05T15:46:45.766Z"
   },
   {
    "duration": 193,
    "start_time": "2021-11-05T15:46:50.248Z"
   },
   {
    "duration": -76,
    "start_time": "2021-11-05T15:46:50.519Z"
   },
   {
    "duration": -79,
    "start_time": "2021-11-05T15:46:50.523Z"
   },
   {
    "duration": -81,
    "start_time": "2021-11-05T15:46:50.526Z"
   },
   {
    "duration": -84,
    "start_time": "2021-11-05T15:46:50.530Z"
   },
   {
    "duration": -87,
    "start_time": "2021-11-05T15:46:50.534Z"
   },
   {
    "duration": -90,
    "start_time": "2021-11-05T15:46:50.538Z"
   },
   {
    "duration": -91,
    "start_time": "2021-11-05T15:46:50.540Z"
   },
   {
    "duration": -94,
    "start_time": "2021-11-05T15:46:50.544Z"
   },
   {
    "duration": 15,
    "start_time": "2021-11-05T15:46:58.465Z"
   },
   {
    "duration": 9,
    "start_time": "2021-11-05T15:46:59.325Z"
   },
   {
    "duration": 370,
    "start_time": "2021-11-05T15:47:09.802Z"
   },
   {
    "duration": 336,
    "start_time": "2021-11-05T15:47:10.386Z"
   },
   {
    "duration": 346,
    "start_time": "2021-11-05T15:47:11.387Z"
   },
   {
    "duration": 314,
    "start_time": "2021-11-05T15:47:11.734Z"
   },
   {
    "duration": 26,
    "start_time": "2021-11-05T15:55:08.038Z"
   },
   {
    "duration": 48,
    "start_time": "2021-11-05T15:55:25.390Z"
   },
   {
    "duration": 3,
    "start_time": "2021-11-05T15:58:10.313Z"
   },
   {
    "duration": 436,
    "start_time": "2021-11-05T15:58:10.318Z"
   },
   {
    "duration": 42,
    "start_time": "2021-11-05T15:58:10.756Z"
   },
   {
    "duration": 36,
    "start_time": "2021-11-05T15:58:10.800Z"
   },
   {
    "duration": 16,
    "start_time": "2021-11-05T15:58:10.837Z"
   },
   {
    "duration": 10,
    "start_time": "2021-11-05T15:58:10.854Z"
   },
   {
    "duration": 24,
    "start_time": "2021-11-05T15:58:10.891Z"
   },
   {
    "duration": 45,
    "start_time": "2021-11-05T15:58:10.917Z"
   },
   {
    "duration": 4,
    "start_time": "2021-11-05T15:58:10.965Z"
   },
   {
    "duration": 34,
    "start_time": "2021-11-05T15:58:10.970Z"
   },
   {
    "duration": 7,
    "start_time": "2021-11-05T15:58:11.006Z"
   },
   {
    "duration": 10,
    "start_time": "2021-11-05T15:58:11.014Z"
   },
   {
    "duration": 40,
    "start_time": "2021-11-05T15:58:11.025Z"
   },
   {
    "duration": 35,
    "start_time": "2021-11-05T15:58:11.092Z"
   },
   {
    "duration": 27,
    "start_time": "2021-11-05T15:58:11.128Z"
   },
   {
    "duration": 8,
    "start_time": "2021-11-05T15:58:11.157Z"
   },
   {
    "duration": 38,
    "start_time": "2021-11-05T15:58:11.166Z"
   },
   {
    "duration": 4,
    "start_time": "2021-11-05T15:58:11.206Z"
   },
   {
    "duration": 4440,
    "start_time": "2021-11-05T15:58:11.211Z"
   },
   {
    "duration": 13,
    "start_time": "2021-11-05T15:58:15.653Z"
   },
   {
    "duration": 64,
    "start_time": "2021-11-05T15:58:15.668Z"
   },
   {
    "duration": 8,
    "start_time": "2021-11-05T15:58:15.733Z"
   },
   {
    "duration": 319,
    "start_time": "2021-11-05T15:58:15.742Z"
   },
   {
    "duration": 343,
    "start_time": "2021-11-05T15:58:16.062Z"
   },
   {
    "duration": 358,
    "start_time": "2021-11-05T15:58:16.407Z"
   },
   {
    "duration": 314,
    "start_time": "2021-11-05T15:58:16.767Z"
   },
   {
    "duration": 4,
    "start_time": "2021-11-05T15:58:17.091Z"
   },
   {
    "duration": 16,
    "start_time": "2021-11-05T15:58:17.097Z"
   },
   {
    "duration": 8,
    "start_time": "2021-11-05T15:58:17.115Z"
   },
   {
    "duration": 1045,
    "start_time": "2021-11-05T15:58:23.329Z"
   },
   {
    "duration": 467,
    "start_time": "2021-11-05T15:58:24.376Z"
   },
   {
    "duration": 47,
    "start_time": "2021-11-05T15:58:24.845Z"
   },
   {
    "duration": 38,
    "start_time": "2021-11-05T15:58:24.894Z"
   },
   {
    "duration": 14,
    "start_time": "2021-11-05T15:58:24.934Z"
   },
   {
    "duration": 11,
    "start_time": "2021-11-05T15:58:24.949Z"
   },
   {
    "duration": 53,
    "start_time": "2021-11-05T15:58:24.962Z"
   },
   {
    "duration": 49,
    "start_time": "2021-11-05T15:58:25.017Z"
   },
   {
    "duration": 26,
    "start_time": "2021-11-05T15:58:25.068Z"
   },
   {
    "duration": 18,
    "start_time": "2021-11-05T15:58:25.096Z"
   },
   {
    "duration": 8,
    "start_time": "2021-11-05T15:58:25.116Z"
   },
   {
    "duration": 11,
    "start_time": "2021-11-05T15:58:25.126Z"
   },
   {
    "duration": 86,
    "start_time": "2021-11-05T15:58:25.138Z"
   },
   {
    "duration": 36,
    "start_time": "2021-11-05T15:58:25.225Z"
   },
   {
    "duration": 50,
    "start_time": "2021-11-05T15:58:25.262Z"
   },
   {
    "duration": 9,
    "start_time": "2021-11-05T15:58:25.314Z"
   },
   {
    "duration": 18,
    "start_time": "2021-11-05T15:58:25.325Z"
   },
   {
    "duration": 5,
    "start_time": "2021-11-05T15:58:25.344Z"
   },
   {
    "duration": 4375,
    "start_time": "2021-11-05T15:58:25.350Z"
   },
   {
    "duration": 12,
    "start_time": "2021-11-05T15:58:29.727Z"
   },
   {
    "duration": 64,
    "start_time": "2021-11-05T15:58:29.741Z"
   },
   {
    "duration": 7,
    "start_time": "2021-11-05T15:58:29.807Z"
   },
   {
    "duration": 325,
    "start_time": "2021-11-05T15:58:29.817Z"
   },
   {
    "duration": 402,
    "start_time": "2021-11-05T15:58:30.144Z"
   },
   {
    "duration": 351,
    "start_time": "2021-11-05T15:58:30.547Z"
   },
   {
    "duration": 316,
    "start_time": "2021-11-05T15:58:30.900Z"
   },
   {
    "duration": 4,
    "start_time": "2021-11-05T15:58:31.218Z"
   },
   {
    "duration": 15,
    "start_time": "2021-11-05T15:58:31.224Z"
   },
   {
    "duration": 13,
    "start_time": "2021-11-05T15:58:31.240Z"
   },
   {
    "duration": 14,
    "start_time": "2021-11-06T08:24:18.949Z"
   },
   {
    "duration": 1425,
    "start_time": "2021-11-06T08:25:11.534Z"
   },
   {
    "duration": 596,
    "start_time": "2021-11-06T08:25:12.962Z"
   },
   {
    "duration": 69,
    "start_time": "2021-11-06T08:25:13.562Z"
   },
   {
    "duration": 53,
    "start_time": "2021-11-06T08:25:13.634Z"
   },
   {
    "duration": 48,
    "start_time": "2021-11-06T08:25:13.689Z"
   },
   {
    "duration": 15,
    "start_time": "2021-11-06T08:25:13.740Z"
   },
   {
    "duration": 39,
    "start_time": "2021-11-06T08:25:13.758Z"
   },
   {
    "duration": 70,
    "start_time": "2021-11-06T08:25:13.830Z"
   },
   {
    "duration": 7,
    "start_time": "2021-11-06T08:25:13.903Z"
   },
   {
    "duration": 28,
    "start_time": "2021-11-06T08:25:13.928Z"
   },
   {
    "duration": 14,
    "start_time": "2021-11-06T08:25:13.959Z"
   },
   {
    "duration": 56,
    "start_time": "2021-11-06T08:25:13.975Z"
   },
   {
    "duration": 76,
    "start_time": "2021-11-06T08:25:14.034Z"
   },
   {
    "duration": 53,
    "start_time": "2021-11-06T08:25:14.129Z"
   },
   {
    "duration": 73,
    "start_time": "2021-11-06T08:25:14.185Z"
   },
   {
    "duration": 13,
    "start_time": "2021-11-06T08:25:14.260Z"
   },
   {
    "duration": 29,
    "start_time": "2021-11-06T08:25:14.275Z"
   },
   {
    "duration": 28,
    "start_time": "2021-11-06T08:25:14.306Z"
   },
   {
    "duration": 7794,
    "start_time": "2021-11-06T08:25:14.336Z"
   },
   {
    "duration": 21,
    "start_time": "2021-11-06T08:25:22.132Z"
   },
   {
    "duration": 104,
    "start_time": "2021-11-06T08:25:22.155Z"
   },
   {
    "duration": 12,
    "start_time": "2021-11-06T08:25:22.261Z"
   },
   {
    "duration": 537,
    "start_time": "2021-11-06T08:25:22.278Z"
   },
   {
    "duration": 644,
    "start_time": "2021-11-06T08:25:22.818Z"
   },
   {
    "duration": 615,
    "start_time": "2021-11-06T08:25:23.465Z"
   },
   {
    "duration": 509,
    "start_time": "2021-11-06T08:25:24.082Z"
   },
   {
    "duration": 7,
    "start_time": "2021-11-06T08:25:24.594Z"
   },
   {
    "duration": 34,
    "start_time": "2021-11-06T08:25:24.603Z"
   },
   {
    "duration": 26,
    "start_time": "2021-11-06T08:25:24.639Z"
   },
   {
    "duration": 23,
    "start_time": "2021-11-06T08:25:48.273Z"
   },
   {
    "duration": 8,
    "start_time": "2021-11-06T08:25:55.123Z"
   },
   {
    "duration": 9,
    "start_time": "2021-11-06T08:26:11.000Z"
   },
   {
    "duration": 298,
    "start_time": "2021-11-06T10:43:33.401Z"
   },
   {
    "duration": 1099,
    "start_time": "2021-11-06T10:43:40.088Z"
   },
   {
    "duration": 464,
    "start_time": "2021-11-06T10:43:41.189Z"
   },
   {
    "duration": 52,
    "start_time": "2021-11-06T10:43:41.656Z"
   },
   {
    "duration": 53,
    "start_time": "2021-11-06T10:43:41.710Z"
   },
   {
    "duration": 16,
    "start_time": "2021-11-06T10:43:41.764Z"
   },
   {
    "duration": 12,
    "start_time": "2021-11-06T10:43:41.781Z"
   },
   {
    "duration": 60,
    "start_time": "2021-11-06T10:43:41.795Z"
   },
   {
    "duration": 52,
    "start_time": "2021-11-06T10:43:41.858Z"
   },
   {
    "duration": 6,
    "start_time": "2021-11-06T10:43:41.912Z"
   },
   {
    "duration": 39,
    "start_time": "2021-11-06T10:43:41.920Z"
   },
   {
    "duration": 7,
    "start_time": "2021-11-06T10:43:41.961Z"
   },
   {
    "duration": 16,
    "start_time": "2021-11-06T10:43:41.970Z"
   },
   {
    "duration": 79,
    "start_time": "2021-11-06T10:43:41.988Z"
   },
   {
    "duration": 38,
    "start_time": "2021-11-06T10:43:42.069Z"
   },
   {
    "duration": 44,
    "start_time": "2021-11-06T10:43:42.109Z"
   },
   {
    "duration": 8,
    "start_time": "2021-11-06T10:43:42.155Z"
   },
   {
    "duration": 17,
    "start_time": "2021-11-06T10:43:42.165Z"
   },
   {
    "duration": 15,
    "start_time": "2021-11-06T10:43:42.183Z"
   },
   {
    "duration": 7,
    "start_time": "2021-11-06T10:43:45.196Z"
   },
   {
    "duration": 4,
    "start_time": "2021-11-06T10:43:54.824Z"
   },
   {
    "duration": 7,
    "start_time": "2021-11-06T10:43:55.244Z"
   },
   {
    "duration": 1234,
    "start_time": "2021-11-06T10:45:58.428Z"
   },
   {
    "duration": 471,
    "start_time": "2021-11-06T10:45:59.664Z"
   },
   {
    "duration": 52,
    "start_time": "2021-11-06T10:46:00.137Z"
   },
   {
    "duration": 60,
    "start_time": "2021-11-06T10:46:00.191Z"
   },
   {
    "duration": 16,
    "start_time": "2021-11-06T10:46:00.253Z"
   },
   {
    "duration": 11,
    "start_time": "2021-11-06T10:46:00.270Z"
   },
   {
    "duration": 28,
    "start_time": "2021-11-06T10:46:00.283Z"
   },
   {
    "duration": 78,
    "start_time": "2021-11-06T10:46:00.313Z"
   },
   {
    "duration": 5,
    "start_time": "2021-11-06T10:46:00.393Z"
   },
   {
    "duration": 22,
    "start_time": "2021-11-06T10:46:00.400Z"
   },
   {
    "duration": 24,
    "start_time": "2021-11-06T10:46:00.424Z"
   },
   {
    "duration": 10,
    "start_time": "2021-11-06T10:46:00.450Z"
   },
   {
    "duration": 66,
    "start_time": "2021-11-06T10:46:00.461Z"
   },
   {
    "duration": 50,
    "start_time": "2021-11-06T10:46:00.529Z"
   },
   {
    "duration": 37,
    "start_time": "2021-11-06T10:46:00.581Z"
   },
   {
    "duration": 32,
    "start_time": "2021-11-06T10:46:00.620Z"
   },
   {
    "duration": 30,
    "start_time": "2021-11-06T10:46:00.654Z"
   },
   {
    "duration": 6,
    "start_time": "2021-11-06T10:46:00.686Z"
   },
   {
    "duration": 7,
    "start_time": "2021-11-06T10:46:00.693Z"
   },
   {
    "duration": 6,
    "start_time": "2021-11-06T10:46:00.701Z"
   },
   {
    "duration": 4715,
    "start_time": "2021-11-06T10:46:00.708Z"
   },
   {
    "duration": 24,
    "start_time": "2021-11-06T10:46:05.425Z"
   },
   {
    "duration": 49,
    "start_time": "2021-11-06T10:46:05.452Z"
   },
   {
    "duration": 8,
    "start_time": "2021-11-06T10:46:05.503Z"
   },
   {
    "duration": 355,
    "start_time": "2021-11-06T10:46:05.512Z"
   },
   {
    "duration": 1955,
    "start_time": "2021-11-06T10:46:03.914Z"
   },
   {
    "duration": 1952,
    "start_time": "2021-11-06T10:46:03.918Z"
   },
   {
    "duration": 1949,
    "start_time": "2021-11-06T10:46:03.922Z"
   },
   {
    "duration": 1944,
    "start_time": "2021-11-06T10:46:03.928Z"
   },
   {
    "duration": 1941,
    "start_time": "2021-11-06T10:46:03.932Z"
   },
   {
    "duration": 1932,
    "start_time": "2021-11-06T10:46:03.942Z"
   },
   {
    "duration": 1111,
    "start_time": "2021-11-06T12:02:24.091Z"
   },
   {
    "duration": 466,
    "start_time": "2021-11-06T12:02:25.203Z"
   },
   {
    "duration": 47,
    "start_time": "2021-11-06T12:02:25.671Z"
   },
   {
    "duration": 36,
    "start_time": "2021-11-06T12:02:25.720Z"
   },
   {
    "duration": 38,
    "start_time": "2021-11-06T12:02:25.757Z"
   },
   {
    "duration": 10,
    "start_time": "2021-11-06T12:02:25.796Z"
   },
   {
    "duration": 23,
    "start_time": "2021-11-06T12:02:25.808Z"
   },
   {
    "duration": 70,
    "start_time": "2021-11-06T12:02:25.834Z"
   },
   {
    "duration": 5,
    "start_time": "2021-11-06T12:02:25.906Z"
   },
   {
    "duration": 18,
    "start_time": "2021-11-06T12:02:25.913Z"
   },
   {
    "duration": 7,
    "start_time": "2021-11-06T12:02:25.932Z"
   },
   {
    "duration": 10,
    "start_time": "2021-11-06T12:02:25.941Z"
   },
   {
    "duration": 82,
    "start_time": "2021-11-06T12:02:25.953Z"
   },
   {
    "duration": 35,
    "start_time": "2021-11-06T12:02:26.036Z"
   },
   {
    "duration": 36,
    "start_time": "2021-11-06T12:02:26.073Z"
   },
   {
    "duration": 8,
    "start_time": "2021-11-06T12:02:26.111Z"
   },
   {
    "duration": 15,
    "start_time": "2021-11-06T12:02:26.121Z"
   },
   {
    "duration": 4,
    "start_time": "2021-11-06T12:02:26.138Z"
   },
   {
    "duration": 7,
    "start_time": "2021-11-06T12:02:26.143Z"
   },
   {
    "duration": 5,
    "start_time": "2021-11-06T12:02:26.151Z"
   },
   {
    "duration": 4239,
    "start_time": "2021-11-06T12:02:26.157Z"
   },
   {
    "duration": 14,
    "start_time": "2021-11-06T12:02:30.398Z"
   },
   {
    "duration": 58,
    "start_time": "2021-11-06T12:02:30.416Z"
   },
   {
    "duration": 16,
    "start_time": "2021-11-06T12:02:30.476Z"
   },
   {
    "duration": 273,
    "start_time": "2021-11-06T12:02:30.494Z"
   },
   {
    "duration": 60,
    "start_time": "2021-11-06T12:02:30.709Z"
   },
   {
    "duration": 56,
    "start_time": "2021-11-06T12:02:30.714Z"
   },
   {
    "duration": 54,
    "start_time": "2021-11-06T12:02:30.717Z"
   },
   {
    "duration": 52,
    "start_time": "2021-11-06T12:02:30.720Z"
   },
   {
    "duration": 50,
    "start_time": "2021-11-06T12:02:30.722Z"
   },
   {
    "duration": 48,
    "start_time": "2021-11-06T12:02:30.725Z"
   },
   {
    "duration": 176,
    "start_time": "2021-11-06T12:04:54.730Z"
   },
   {
    "duration": 168,
    "start_time": "2021-11-06T12:05:01.260Z"
   },
   {
    "duration": 5185,
    "start_time": "2021-11-06T12:05:38.100Z"
   },
   {
    "duration": 997,
    "start_time": "2021-11-06T12:05:43.287Z"
   },
   {
    "duration": 457,
    "start_time": "2021-11-06T12:05:44.286Z"
   },
   {
    "duration": 46,
    "start_time": "2021-11-06T12:05:44.745Z"
   },
   {
    "duration": 37,
    "start_time": "2021-11-06T12:05:44.792Z"
   },
   {
    "duration": 14,
    "start_time": "2021-11-06T12:05:44.830Z"
   },
   {
    "duration": 9,
    "start_time": "2021-11-06T12:05:44.846Z"
   },
   {
    "duration": 53,
    "start_time": "2021-11-06T12:05:44.857Z"
   },
   {
    "duration": 46,
    "start_time": "2021-11-06T12:05:44.912Z"
   },
   {
    "duration": 6,
    "start_time": "2021-11-06T12:05:44.959Z"
   },
   {
    "duration": 37,
    "start_time": "2021-11-06T12:05:44.966Z"
   },
   {
    "duration": 9,
    "start_time": "2021-11-06T12:05:45.005Z"
   },
   {
    "duration": 21,
    "start_time": "2021-11-06T12:05:45.016Z"
   },
   {
    "duration": 69,
    "start_time": "2021-11-06T12:05:45.039Z"
   },
   {
    "duration": 36,
    "start_time": "2021-11-06T12:05:45.110Z"
   },
   {
    "duration": 49,
    "start_time": "2021-11-06T12:05:45.148Z"
   },
   {
    "duration": 10,
    "start_time": "2021-11-06T12:05:45.199Z"
   },
   {
    "duration": 17,
    "start_time": "2021-11-06T12:05:45.211Z"
   },
   {
    "duration": 5,
    "start_time": "2021-11-06T12:05:45.229Z"
   },
   {
    "duration": 7,
    "start_time": "2021-11-06T12:05:45.236Z"
   },
   {
    "duration": 6,
    "start_time": "2021-11-06T12:05:45.244Z"
   },
   {
    "duration": 4331,
    "start_time": "2021-11-06T12:05:45.252Z"
   },
   {
    "duration": 17,
    "start_time": "2021-11-06T12:05:49.586Z"
   },
   {
    "duration": 45,
    "start_time": "2021-11-06T12:05:49.605Z"
   },
   {
    "duration": 7,
    "start_time": "2021-11-06T12:05:49.651Z"
   },
   {
    "duration": 320,
    "start_time": "2021-11-06T12:05:49.659Z"
   },
   {
    "duration": 399,
    "start_time": "2021-11-06T12:05:49.980Z"
   },
   {
    "duration": 346,
    "start_time": "2021-11-06T12:05:50.381Z"
   },
   {
    "duration": 294,
    "start_time": "2021-11-06T12:05:50.729Z"
   },
   {
    "duration": 4,
    "start_time": "2021-11-06T12:05:51.025Z"
   },
   {
    "duration": 16,
    "start_time": "2021-11-06T12:05:51.031Z"
   },
   {
    "duration": 6,
    "start_time": "2021-11-06T12:05:51.048Z"
   }
  ],
  "kernelspec": {
   "display_name": "Python 3",
   "language": "python",
   "name": "python3"
  },
  "language_info": {
   "codemirror_mode": {
    "name": "ipython",
    "version": 3
   },
   "file_extension": ".py",
   "mimetype": "text/x-python",
   "name": "python",
   "nbconvert_exporter": "python",
   "pygments_lexer": "ipython3",
   "version": "3.8.5"
  },
  "toc": {
   "base_numbering": 1,
   "nav_menu": {},
   "number_sections": true,
   "sideBar": true,
   "skip_h1_title": false,
   "title_cell": "Содержание",
   "title_sidebar": "Contents",
   "toc_cell": true,
   "toc_position": {
    "height": "759px",
    "left": "57px",
    "top": "110px",
    "width": "358.391px"
   },
   "toc_section_display": true,
   "toc_window_display": false
  }
 },
 "nbformat": 4,
 "nbformat_minor": 2
}
