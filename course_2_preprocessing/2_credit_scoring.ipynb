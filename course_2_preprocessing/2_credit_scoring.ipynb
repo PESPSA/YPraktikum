{
 "cells": [
  {
   "cell_type": "markdown",
   "metadata": {},
   "source": [
    "# Оглавление\n",
    "\n",
    "- [Введение](#introduction)\n",
    "1. [Открытие и изучение данных](#opening_investigating)\n",
    "2. [Предобработка данных](#preprocessing)\n",
    "    - [Обработка пропусков](#processing)\n",
    "    - [Замена типа данных](#type_replacement)\n",
    "        1. [Обработка дубликатов](#duplicates)\n",
    "        2. [Лемматизация](#lemmatization)\n",
    "        3. [Категоризация данных](#categorization)\n",
    "3. [Проверка гипотез](#hypothesis)\n",
    "4. [Общий вывод](#conclusion)"
   ]
  },
  {
   "cell_type": "markdown",
   "metadata": {},
   "source": [
    "<a id=\"introduction\"></a>\n",
    "# Исследование надёжности заёмщиков\n",
    "## Описание проекта\n",
    "Заказчик — кредитный отдел банка. Нужно разобраться, влияет ли семейное положение и количество детей клиента на факт погашения кредита в срок. Входные данные от банка — статистика о платёжеспособности клиентов.\n",
    "\n",
    "Результаты исследования будут учтены при построении модели **кредитного скоринга** — специальной системы, которая оценивает способность потенциального заёмщика вернуть кредит банку.\n",
    "## План работы\n",
    "Для достижения желаемого результата требуется открыть файл с данными и изучить информацию в нем, далее провести работу над предобработкой данных, и наконец проверить поставленные гипотезы, а именно:\n",
    "- Существует зависимость между наличием детей и возвратом кредита в срок.\n",
    "- Существует зависимость между семейным положением и возвратом кредита в срок.\n",
    "- Существует зависимость между уровнем дохода и возвратом кредита в срок.\n",
    "- Цели кредита по разному влияют на его возврат в срок.\n",
    "\n",
    "## Результат работы\n",
    "Результатом работы являются ответы на поставленные гипотезы, а также подробная выкладка по каждой из них."
   ]
  },
  {
   "cell_type": "markdown",
   "metadata": {},
   "source": [
    "# Шаг 1. Открытие и изучение данных\n",
    "<a id=\"opening_investigating\"></a>"
   ]
  },
  {
   "cell_type": "code",
   "execution_count": 1,
   "metadata": {},
   "outputs": [],
   "source": [
    "#импортируем необходимые библиотеки\n",
    "import pandas as pd\n",
    "import seaborn as sns\n",
    "from pymystem3 import Mystem"
   ]
  },
  {
   "cell_type": "code",
   "execution_count": 2,
   "metadata": {},
   "outputs": [
    {
     "data": {
      "text/html": [
       "<div>\n",
       "<style scoped>\n",
       "    .dataframe tbody tr th:only-of-type {\n",
       "        vertical-align: middle;\n",
       "    }\n",
       "\n",
       "    .dataframe tbody tr th {\n",
       "        vertical-align: top;\n",
       "    }\n",
       "\n",
       "    .dataframe thead th {\n",
       "        text-align: right;\n",
       "    }\n",
       "</style>\n",
       "<table border=\"1\" class=\"dataframe\">\n",
       "  <thead>\n",
       "    <tr style=\"text-align: right;\">\n",
       "      <th></th>\n",
       "      <th>children</th>\n",
       "      <th>days_employed</th>\n",
       "      <th>dob_years</th>\n",
       "      <th>education</th>\n",
       "      <th>education_id</th>\n",
       "      <th>family_status</th>\n",
       "      <th>family_status_id</th>\n",
       "      <th>gender</th>\n",
       "      <th>income_type</th>\n",
       "      <th>debt</th>\n",
       "      <th>total_income</th>\n",
       "      <th>purpose</th>\n",
       "    </tr>\n",
       "  </thead>\n",
       "  <tbody>\n",
       "    <tr>\n",
       "      <td>21520</td>\n",
       "      <td>1</td>\n",
       "      <td>-4529.316663</td>\n",
       "      <td>43</td>\n",
       "      <td>среднее</td>\n",
       "      <td>1</td>\n",
       "      <td>гражданский брак</td>\n",
       "      <td>1</td>\n",
       "      <td>F</td>\n",
       "      <td>компаньон</td>\n",
       "      <td>0</td>\n",
       "      <td>224791.862382</td>\n",
       "      <td>операции с жильем</td>\n",
       "    </tr>\n",
       "    <tr>\n",
       "      <td>21521</td>\n",
       "      <td>0</td>\n",
       "      <td>343937.404131</td>\n",
       "      <td>67</td>\n",
       "      <td>среднее</td>\n",
       "      <td>1</td>\n",
       "      <td>женат / замужем</td>\n",
       "      <td>0</td>\n",
       "      <td>F</td>\n",
       "      <td>пенсионер</td>\n",
       "      <td>0</td>\n",
       "      <td>155999.806512</td>\n",
       "      <td>сделка с автомобилем</td>\n",
       "    </tr>\n",
       "    <tr>\n",
       "      <td>21522</td>\n",
       "      <td>1</td>\n",
       "      <td>-2113.346888</td>\n",
       "      <td>38</td>\n",
       "      <td>среднее</td>\n",
       "      <td>1</td>\n",
       "      <td>гражданский брак</td>\n",
       "      <td>1</td>\n",
       "      <td>M</td>\n",
       "      <td>сотрудник</td>\n",
       "      <td>1</td>\n",
       "      <td>89672.561153</td>\n",
       "      <td>недвижимость</td>\n",
       "    </tr>\n",
       "    <tr>\n",
       "      <td>21523</td>\n",
       "      <td>3</td>\n",
       "      <td>-3112.481705</td>\n",
       "      <td>38</td>\n",
       "      <td>среднее</td>\n",
       "      <td>1</td>\n",
       "      <td>женат / замужем</td>\n",
       "      <td>0</td>\n",
       "      <td>M</td>\n",
       "      <td>сотрудник</td>\n",
       "      <td>1</td>\n",
       "      <td>244093.050500</td>\n",
       "      <td>на покупку своего автомобиля</td>\n",
       "    </tr>\n",
       "    <tr>\n",
       "      <td>21524</td>\n",
       "      <td>2</td>\n",
       "      <td>-1984.507589</td>\n",
       "      <td>40</td>\n",
       "      <td>среднее</td>\n",
       "      <td>1</td>\n",
       "      <td>женат / замужем</td>\n",
       "      <td>0</td>\n",
       "      <td>F</td>\n",
       "      <td>сотрудник</td>\n",
       "      <td>0</td>\n",
       "      <td>82047.418899</td>\n",
       "      <td>на покупку автомобиля</td>\n",
       "    </tr>\n",
       "  </tbody>\n",
       "</table>\n",
       "</div>"
      ],
      "text/plain": [
       "       children  days_employed  dob_years education  education_id  \\\n",
       "21520         1   -4529.316663         43   среднее             1   \n",
       "21521         0  343937.404131         67   среднее             1   \n",
       "21522         1   -2113.346888         38   среднее             1   \n",
       "21523         3   -3112.481705         38   среднее             1   \n",
       "21524         2   -1984.507589         40   среднее             1   \n",
       "\n",
       "          family_status  family_status_id gender income_type  debt  \\\n",
       "21520  гражданский брак                 1      F   компаньон     0   \n",
       "21521   женат / замужем                 0      F   пенсионер     0   \n",
       "21522  гражданский брак                 1      M   сотрудник     1   \n",
       "21523   женат / замужем                 0      M   сотрудник     1   \n",
       "21524   женат / замужем                 0      F   сотрудник     0   \n",
       "\n",
       "        total_income                       purpose  \n",
       "21520  224791.862382             операции с жильем  \n",
       "21521  155999.806512          сделка с автомобилем  \n",
       "21522   89672.561153                  недвижимость  \n",
       "21523  244093.050500  на покупку своего автомобиля  \n",
       "21524   82047.418899         на покупку автомобиля  "
      ]
     },
     "metadata": {},
     "output_type": "display_data"
    },
    {
     "data": {
      "text/html": [
       "<div>\n",
       "<style scoped>\n",
       "    .dataframe tbody tr th:only-of-type {\n",
       "        vertical-align: middle;\n",
       "    }\n",
       "\n",
       "    .dataframe tbody tr th {\n",
       "        vertical-align: top;\n",
       "    }\n",
       "\n",
       "    .dataframe thead th {\n",
       "        text-align: right;\n",
       "    }\n",
       "</style>\n",
       "<table border=\"1\" class=\"dataframe\">\n",
       "  <thead>\n",
       "    <tr style=\"text-align: right;\">\n",
       "      <th></th>\n",
       "      <th>children</th>\n",
       "      <th>days_employed</th>\n",
       "      <th>dob_years</th>\n",
       "      <th>education_id</th>\n",
       "      <th>family_status_id</th>\n",
       "      <th>debt</th>\n",
       "      <th>total_income</th>\n",
       "    </tr>\n",
       "  </thead>\n",
       "  <tbody>\n",
       "    <tr>\n",
       "      <td>count</td>\n",
       "      <td>21525.000000</td>\n",
       "      <td>19351.000000</td>\n",
       "      <td>21525.000000</td>\n",
       "      <td>21525.000000</td>\n",
       "      <td>21525.000000</td>\n",
       "      <td>21525.000000</td>\n",
       "      <td>1.935100e+04</td>\n",
       "    </tr>\n",
       "    <tr>\n",
       "      <td>mean</td>\n",
       "      <td>0.538908</td>\n",
       "      <td>63046.497661</td>\n",
       "      <td>43.293380</td>\n",
       "      <td>0.817236</td>\n",
       "      <td>0.972544</td>\n",
       "      <td>0.080883</td>\n",
       "      <td>1.674223e+05</td>\n",
       "    </tr>\n",
       "    <tr>\n",
       "      <td>std</td>\n",
       "      <td>1.381587</td>\n",
       "      <td>140827.311974</td>\n",
       "      <td>12.574584</td>\n",
       "      <td>0.548138</td>\n",
       "      <td>1.420324</td>\n",
       "      <td>0.272661</td>\n",
       "      <td>1.029716e+05</td>\n",
       "    </tr>\n",
       "    <tr>\n",
       "      <td>min</td>\n",
       "      <td>-1.000000</td>\n",
       "      <td>-18388.949901</td>\n",
       "      <td>0.000000</td>\n",
       "      <td>0.000000</td>\n",
       "      <td>0.000000</td>\n",
       "      <td>0.000000</td>\n",
       "      <td>2.066726e+04</td>\n",
       "    </tr>\n",
       "    <tr>\n",
       "      <td>25%</td>\n",
       "      <td>0.000000</td>\n",
       "      <td>-2747.423625</td>\n",
       "      <td>33.000000</td>\n",
       "      <td>1.000000</td>\n",
       "      <td>0.000000</td>\n",
       "      <td>0.000000</td>\n",
       "      <td>1.030532e+05</td>\n",
       "    </tr>\n",
       "    <tr>\n",
       "      <td>50%</td>\n",
       "      <td>0.000000</td>\n",
       "      <td>-1203.369529</td>\n",
       "      <td>42.000000</td>\n",
       "      <td>1.000000</td>\n",
       "      <td>0.000000</td>\n",
       "      <td>0.000000</td>\n",
       "      <td>1.450179e+05</td>\n",
       "    </tr>\n",
       "    <tr>\n",
       "      <td>75%</td>\n",
       "      <td>1.000000</td>\n",
       "      <td>-291.095954</td>\n",
       "      <td>53.000000</td>\n",
       "      <td>1.000000</td>\n",
       "      <td>1.000000</td>\n",
       "      <td>0.000000</td>\n",
       "      <td>2.034351e+05</td>\n",
       "    </tr>\n",
       "    <tr>\n",
       "      <td>max</td>\n",
       "      <td>20.000000</td>\n",
       "      <td>401755.400475</td>\n",
       "      <td>75.000000</td>\n",
       "      <td>4.000000</td>\n",
       "      <td>4.000000</td>\n",
       "      <td>1.000000</td>\n",
       "      <td>2.265604e+06</td>\n",
       "    </tr>\n",
       "  </tbody>\n",
       "</table>\n",
       "</div>"
      ],
      "text/plain": [
       "           children  days_employed     dob_years  education_id  \\\n",
       "count  21525.000000   19351.000000  21525.000000  21525.000000   \n",
       "mean       0.538908   63046.497661     43.293380      0.817236   \n",
       "std        1.381587  140827.311974     12.574584      0.548138   \n",
       "min       -1.000000  -18388.949901      0.000000      0.000000   \n",
       "25%        0.000000   -2747.423625     33.000000      1.000000   \n",
       "50%        0.000000   -1203.369529     42.000000      1.000000   \n",
       "75%        1.000000    -291.095954     53.000000      1.000000   \n",
       "max       20.000000  401755.400475     75.000000      4.000000   \n",
       "\n",
       "       family_status_id          debt  total_income  \n",
       "count      21525.000000  21525.000000  1.935100e+04  \n",
       "mean           0.972544      0.080883  1.674223e+05  \n",
       "std            1.420324      0.272661  1.029716e+05  \n",
       "min            0.000000      0.000000  2.066726e+04  \n",
       "25%            0.000000      0.000000  1.030532e+05  \n",
       "50%            0.000000      0.000000  1.450179e+05  \n",
       "75%            1.000000      0.000000  2.034351e+05  \n",
       "max            4.000000      1.000000  2.265604e+06  "
      ]
     },
     "metadata": {},
     "output_type": "display_data"
    },
    {
     "name": "stdout",
     "output_type": "stream",
     "text": [
      "<class 'pandas.core.frame.DataFrame'>\n",
      "RangeIndex: 21525 entries, 0 to 21524\n",
      "Data columns (total 12 columns):\n",
      "children            21525 non-null int64\n",
      "days_employed       19351 non-null float64\n",
      "dob_years           21525 non-null int64\n",
      "education           21525 non-null object\n",
      "education_id        21525 non-null int64\n",
      "family_status       21525 non-null object\n",
      "family_status_id    21525 non-null int64\n",
      "gender              21525 non-null object\n",
      "income_type         21525 non-null object\n",
      "debt                21525 non-null int64\n",
      "total_income        19351 non-null float64\n",
      "purpose             21525 non-null object\n",
      "dtypes: float64(2), int64(5), object(5)\n",
      "memory usage: 2.0+ MB\n"
     ]
    }
   ],
   "source": [
    "#читаем файл и выводим первые 5 строк и общую информацию\n",
    "df = pd.read_csv('/datasets/data.csv')\n",
    "display(df.tail())\n",
    "display(df.describe())\n",
    "df.info()"
   ]
  },
  {
   "cell_type": "markdown",
   "metadata": {},
   "source": [
    "**Вывод**"
   ]
  },
  {
   "cell_type": "markdown",
   "metadata": {},
   "source": [
    "В столбцах `days_employed` и `total_income` содержатся пропущенные значения, также `days_employed` имеет тип `float`, хотя это трудовой стаж в днях. Посомтрев на первые 5 строк датафрейма можно заметить, что в `days_employed` содержатся отрицательные значения. Можно заметить что у `days_employed` и `total_income` равное количество пропусков. Благодаря методу info() можно заметить, что у кого-то 20 детей, но это все таки его выбор:)"
   ]
  },
  {
   "cell_type": "markdown",
   "metadata": {},
   "source": [
    "# Шаг 2. Предобработка данных\n",
    "<a id=\"preprocessing\"></a>"
   ]
  },
  {
   "cell_type": "markdown",
   "metadata": {},
   "source": [
    "## Обработка пропусков\n",
    "<a id=\"processing\"></a>"
   ]
  },
  {
   "cell_type": "code",
   "execution_count": 3,
   "metadata": {},
   "outputs": [
    {
     "name": "stdout",
     "output_type": "stream",
     "text": [
      "Совпадает ли количество пропущенных значений? True\n"
     ]
    },
    {
     "data": {
      "text/html": [
       "<div>\n",
       "<style scoped>\n",
       "    .dataframe tbody tr th:only-of-type {\n",
       "        vertical-align: middle;\n",
       "    }\n",
       "\n",
       "    .dataframe tbody tr th {\n",
       "        vertical-align: top;\n",
       "    }\n",
       "\n",
       "    .dataframe thead th {\n",
       "        text-align: right;\n",
       "    }\n",
       "</style>\n",
       "<table border=\"1\" class=\"dataframe\">\n",
       "  <thead>\n",
       "    <tr style=\"text-align: right;\">\n",
       "      <th></th>\n",
       "      <th>children</th>\n",
       "      <th>days_employed</th>\n",
       "      <th>dob_years</th>\n",
       "      <th>education</th>\n",
       "      <th>education_id</th>\n",
       "      <th>family_status</th>\n",
       "      <th>family_status_id</th>\n",
       "      <th>gender</th>\n",
       "      <th>income_type</th>\n",
       "      <th>debt</th>\n",
       "      <th>total_income</th>\n",
       "      <th>purpose</th>\n",
       "    </tr>\n",
       "  </thead>\n",
       "  <tbody>\n",
       "    <tr>\n",
       "      <td>12</td>\n",
       "      <td>0</td>\n",
       "      <td>NaN</td>\n",
       "      <td>65</td>\n",
       "      <td>среднее</td>\n",
       "      <td>1</td>\n",
       "      <td>гражданский брак</td>\n",
       "      <td>1</td>\n",
       "      <td>M</td>\n",
       "      <td>пенсионер</td>\n",
       "      <td>0</td>\n",
       "      <td>NaN</td>\n",
       "      <td>сыграть свадьбу</td>\n",
       "    </tr>\n",
       "    <tr>\n",
       "      <td>26</td>\n",
       "      <td>0</td>\n",
       "      <td>NaN</td>\n",
       "      <td>41</td>\n",
       "      <td>среднее</td>\n",
       "      <td>1</td>\n",
       "      <td>женат / замужем</td>\n",
       "      <td>0</td>\n",
       "      <td>M</td>\n",
       "      <td>госслужащий</td>\n",
       "      <td>0</td>\n",
       "      <td>NaN</td>\n",
       "      <td>образование</td>\n",
       "    </tr>\n",
       "    <tr>\n",
       "      <td>29</td>\n",
       "      <td>0</td>\n",
       "      <td>NaN</td>\n",
       "      <td>63</td>\n",
       "      <td>среднее</td>\n",
       "      <td>1</td>\n",
       "      <td>Не женат / не замужем</td>\n",
       "      <td>4</td>\n",
       "      <td>F</td>\n",
       "      <td>пенсионер</td>\n",
       "      <td>0</td>\n",
       "      <td>NaN</td>\n",
       "      <td>строительство жилой недвижимости</td>\n",
       "    </tr>\n",
       "    <tr>\n",
       "      <td>41</td>\n",
       "      <td>0</td>\n",
       "      <td>NaN</td>\n",
       "      <td>50</td>\n",
       "      <td>среднее</td>\n",
       "      <td>1</td>\n",
       "      <td>женат / замужем</td>\n",
       "      <td>0</td>\n",
       "      <td>F</td>\n",
       "      <td>госслужащий</td>\n",
       "      <td>0</td>\n",
       "      <td>NaN</td>\n",
       "      <td>сделка с подержанным автомобилем</td>\n",
       "    </tr>\n",
       "    <tr>\n",
       "      <td>55</td>\n",
       "      <td>0</td>\n",
       "      <td>NaN</td>\n",
       "      <td>54</td>\n",
       "      <td>среднее</td>\n",
       "      <td>1</td>\n",
       "      <td>гражданский брак</td>\n",
       "      <td>1</td>\n",
       "      <td>F</td>\n",
       "      <td>пенсионер</td>\n",
       "      <td>1</td>\n",
       "      <td>NaN</td>\n",
       "      <td>сыграть свадьбу</td>\n",
       "    </tr>\n",
       "  </tbody>\n",
       "</table>\n",
       "</div>"
      ],
      "text/plain": [
       "    children  days_employed  dob_years education  education_id  \\\n",
       "12         0            NaN         65   среднее             1   \n",
       "26         0            NaN         41   среднее             1   \n",
       "29         0            NaN         63   среднее             1   \n",
       "41         0            NaN         50   среднее             1   \n",
       "55         0            NaN         54   среднее             1   \n",
       "\n",
       "            family_status  family_status_id gender  income_type  debt  \\\n",
       "12       гражданский брак                 1      M    пенсионер     0   \n",
       "26        женат / замужем                 0      M  госслужащий     0   \n",
       "29  Не женат / не замужем                 4      F    пенсионер     0   \n",
       "41        женат / замужем                 0      F  госслужащий     0   \n",
       "55       гражданский брак                 1      F    пенсионер     1   \n",
       "\n",
       "    total_income                           purpose  \n",
       "12           NaN                   сыграть свадьбу  \n",
       "26           NaN                       образование  \n",
       "29           NaN  строительство жилой недвижимости  \n",
       "41           NaN  сделка с подержанным автомобилем  \n",
       "55           NaN                   сыграть свадьбу  "
      ]
     },
     "execution_count": 3,
     "metadata": {},
     "output_type": "execute_result"
    }
   ],
   "source": [
    "#проверяем связаны ли пропуски в трудовом стаже с другими столбцами\n",
    "print('Совпадает ли количество пропущенных значений?',\n",
    "      df[df['days_employed'].isnull()].shape[0] == df[df['total_income'].isnull()].shape[0])\n",
    "df[df['days_employed'].isnull()].head()"
   ]
  },
  {
   "cell_type": "code",
   "execution_count": 4,
   "metadata": {
    "scrolled": true
   },
   "outputs": [
    {
     "name": "stdout",
     "output_type": "stream",
     "text": [
      "<class 'pandas.core.frame.DataFrame'>\n",
      "Int64Index: 0 entries\n",
      "Data columns (total 12 columns):\n",
      "children            0 non-null int64\n",
      "days_employed       0 non-null float64\n",
      "dob_years           0 non-null int64\n",
      "education           0 non-null object\n",
      "education_id        0 non-null int64\n",
      "family_status       0 non-null object\n",
      "family_status_id    0 non-null int64\n",
      "gender              0 non-null object\n",
      "income_type         0 non-null object\n",
      "debt                0 non-null int64\n",
      "total_income        0 non-null float64\n",
      "purpose             0 non-null object\n",
      "dtypes: float64(2), int64(5), object(5)\n",
      "memory usage: 0.0+ bytes\n"
     ]
    }
   ],
   "source": [
    "#заменим все строки с отрицательным количеством дней трудового стажа на модуль данного числа\n",
    "df['days_employed'] = abs(df['days_employed']) \n",
    "#проверим результат\n",
    "df[df['days_employed'] < 0].info()"
   ]
  },
  {
   "cell_type": "code",
   "execution_count": 5,
   "metadata": {
    "scrolled": true
   },
   "outputs": [
    {
     "data": {
      "text/plain": [
       "<matplotlib.axes._subplots.AxesSubplot at 0x7f5334839cd0>"
      ]
     },
     "execution_count": 5,
     "metadata": {},
     "output_type": "execute_result"
    },
    {
     "data": {
      "image/png": "[encoded data removed]",
      "text/plain": [
       "<Figure size 432x288 with 1 Axes>"
      ]
     },
     "metadata": {
      "needs_background": "light"
     },
     "output_type": "display_data"
    }
   ],
   "source": [
    "sns.histplot(data=df['days_employed'])"
   ]
  },
  {
   "cell_type": "code",
   "execution_count": 6,
   "metadata": {
    "scrolled": false
   },
   "outputs": [
    {
     "data": {
      "text/plain": [
       "<matplotlib.axes._subplots.AxesSubplot at 0x7f532b3aaf90>"
      ]
     },
     "execution_count": 6,
     "metadata": {},
     "output_type": "execute_result"
    },
    {
     "data": {
      "image/png": "[encoded data removed]",
      "text/plain": [
       "<Figure size 432x288 with 1 Axes>"
      ]
     },
     "metadata": {
      "needs_background": "light"
     },
     "output_type": "display_data"
    }
   ],
   "source": [
    "sns.histplot(data=df['total_income'])"
   ]
  },
  {
   "cell_type": "markdown",
   "metadata": {},
   "source": [
    "**Выводы по графикам**\n",
    "- days_employed имеет неравномерное распределение да и к тому же выбросы с неправдоподбными данными, которые следует удалить\n",
    "- total_income распределен нормально, можно применить к нему метод mean()"
   ]
  },
  {
   "cell_type": "code",
   "execution_count": 7,
   "metadata": {},
   "outputs": [
    {
     "data": {
      "text/plain": [
       "<matplotlib.axes._subplots.AxesSubplot at 0x7f532b020e10>"
      ]
     },
     "execution_count": 7,
     "metadata": {},
     "output_type": "execute_result"
    },
    {
     "data": {
      "image/png": "[encoded data removed]",
      "text/plain": [
       "<Figure size 432x288 with 1 Axes>"
      ]
     },
     "metadata": {
      "needs_background": "light"
     },
     "output_type": "display_data"
    }
   ],
   "source": [
    "#Удалим значения в days_employed, превышающие 100000 и взглянем на график\n",
    "df = df[df['days_employed'] < 100000]\n",
    "sns.histplot(data=df['days_employed'])"
   ]
  },
  {
   "cell_type": "code",
   "execution_count": 8,
   "metadata": {
    "scrolled": true
   },
   "outputs": [
    {
     "data": {
      "text/html": [
       "<div>\n",
       "<style scoped>\n",
       "    .dataframe tbody tr th:only-of-type {\n",
       "        vertical-align: middle;\n",
       "    }\n",
       "\n",
       "    .dataframe tbody tr th {\n",
       "        vertical-align: top;\n",
       "    }\n",
       "\n",
       "    .dataframe thead th {\n",
       "        text-align: right;\n",
       "    }\n",
       "</style>\n",
       "<table border=\"1\" class=\"dataframe\">\n",
       "  <thead>\n",
       "    <tr style=\"text-align: right;\">\n",
       "      <th></th>\n",
       "      <th>children</th>\n",
       "      <th>days_employed</th>\n",
       "      <th>dob_years</th>\n",
       "      <th>education</th>\n",
       "      <th>education_id</th>\n",
       "      <th>family_status</th>\n",
       "      <th>family_status_id</th>\n",
       "      <th>gender</th>\n",
       "      <th>income_type</th>\n",
       "      <th>debt</th>\n",
       "      <th>total_income</th>\n",
       "      <th>purpose</th>\n",
       "    </tr>\n",
       "  </thead>\n",
       "  <tbody>\n",
       "    <tr>\n",
       "      <td>0</td>\n",
       "      <td>1</td>\n",
       "      <td>8437.673028</td>\n",
       "      <td>42</td>\n",
       "      <td>высшее</td>\n",
       "      <td>0</td>\n",
       "      <td>женат / замужем</td>\n",
       "      <td>0</td>\n",
       "      <td>F</td>\n",
       "      <td>сотрудник</td>\n",
       "      <td>0</td>\n",
       "      <td>253875.639453</td>\n",
       "      <td>покупка жилья</td>\n",
       "    </tr>\n",
       "    <tr>\n",
       "      <td>1</td>\n",
       "      <td>1</td>\n",
       "      <td>4024.803754</td>\n",
       "      <td>36</td>\n",
       "      <td>среднее</td>\n",
       "      <td>1</td>\n",
       "      <td>женат / замужем</td>\n",
       "      <td>0</td>\n",
       "      <td>F</td>\n",
       "      <td>сотрудник</td>\n",
       "      <td>0</td>\n",
       "      <td>112080.014102</td>\n",
       "      <td>приобретение автомобиля</td>\n",
       "    </tr>\n",
       "    <tr>\n",
       "      <td>2</td>\n",
       "      <td>0</td>\n",
       "      <td>5623.422610</td>\n",
       "      <td>33</td>\n",
       "      <td>Среднее</td>\n",
       "      <td>1</td>\n",
       "      <td>женат / замужем</td>\n",
       "      <td>0</td>\n",
       "      <td>M</td>\n",
       "      <td>сотрудник</td>\n",
       "      <td>0</td>\n",
       "      <td>145885.952297</td>\n",
       "      <td>покупка жилья</td>\n",
       "    </tr>\n",
       "    <tr>\n",
       "      <td>3</td>\n",
       "      <td>3</td>\n",
       "      <td>4124.747207</td>\n",
       "      <td>32</td>\n",
       "      <td>среднее</td>\n",
       "      <td>1</td>\n",
       "      <td>женат / замужем</td>\n",
       "      <td>0</td>\n",
       "      <td>M</td>\n",
       "      <td>сотрудник</td>\n",
       "      <td>0</td>\n",
       "      <td>267628.550329</td>\n",
       "      <td>дополнительное образование</td>\n",
       "    </tr>\n",
       "    <tr>\n",
       "      <td>5</td>\n",
       "      <td>0</td>\n",
       "      <td>926.185831</td>\n",
       "      <td>27</td>\n",
       "      <td>высшее</td>\n",
       "      <td>0</td>\n",
       "      <td>гражданский брак</td>\n",
       "      <td>1</td>\n",
       "      <td>M</td>\n",
       "      <td>компаньон</td>\n",
       "      <td>0</td>\n",
       "      <td>255763.565419</td>\n",
       "      <td>покупка жилья</td>\n",
       "    </tr>\n",
       "  </tbody>\n",
       "</table>\n",
       "</div>"
      ],
      "text/plain": [
       "   children  days_employed  dob_years education  education_id  \\\n",
       "0         1    8437.673028         42    высшее             0   \n",
       "1         1    4024.803754         36   среднее             1   \n",
       "2         0    5623.422610         33   Среднее             1   \n",
       "3         3    4124.747207         32   среднее             1   \n",
       "5         0     926.185831         27    высшее             0   \n",
       "\n",
       "      family_status  family_status_id gender income_type  debt   total_income  \\\n",
       "0   женат / замужем                 0      F   сотрудник     0  253875.639453   \n",
       "1   женат / замужем                 0      F   сотрудник     0  112080.014102   \n",
       "2   женат / замужем                 0      M   сотрудник     0  145885.952297   \n",
       "3   женат / замужем                 0      M   сотрудник     0  267628.550329   \n",
       "5  гражданский брак                 1      M   компаньон     0  255763.565419   \n",
       "\n",
       "                      purpose  \n",
       "0               покупка жилья  \n",
       "1     приобретение автомобиля  \n",
       "2               покупка жилья  \n",
       "3  дополнительное образование  \n",
       "5               покупка жилья  "
      ]
     },
     "execution_count": 8,
     "metadata": {},
     "output_type": "execute_result"
    }
   ],
   "source": [
    "#заполним пропуски в days_employed медианой, а в total_income средним арифметическим\n",
    "df['days_employed'] = df['days_employed'].fillna(df['days_employed'].median())\n",
    "df['total_income'] = df['total_income'].fillna(df['total_income'].mean())\n",
    "#проверим результат\n",
    "df.head()"
   ]
  },
  {
   "cell_type": "markdown",
   "metadata": {},
   "source": [
    "На данном шаге:\n",
    "* Заполнили пропуски в days_employed медианой\n",
    "* Заполнили пропуски в total_income средним арифметическим"
   ]
  },
  {
   "cell_type": "markdown",
   "metadata": {},
   "source": [
    "**Вывод**"
   ]
  },
  {
   "cell_type": "markdown",
   "metadata": {},
   "source": [
    "Проверяя связь пропущенных значений с другими столбцами было установлено, что там где отсутствует `days_employed` отсутствует и `total_income`, также было замечено, что большинство значений в днях трудового стажа отрицательны и не было замечено никакой взаимосвязи ни с данным столбцом ни с другими, поэтому было принято решение заменить все отрицательные значения на их модуль. Были заменены все пропущенные значения в `days_employed` медианой, так как в данном столбце содержатся большие выбросы в большую сторону и среднее арифметическое показывает не самый лучший вариант. `total_income` распределен достаточно равномерно и без выбросов, поэтому к заполнению пропусков в нем был применен метод `mean()`"
   ]
  },
  {
   "cell_type": "markdown",
   "metadata": {},
   "source": [
    "## Замена типа данных\n",
    "<a id=\"type_replacement\"></a>"
   ]
  },
  {
   "cell_type": "markdown",
   "metadata": {},
   "source": [
    "На данном шаге:\n",
    "* Заменим количество дней трудовоого стажа на int32\n",
    "* Заменим тип количества детей на int8\n",
    "* Заменим тип возраста в годах на uint8 (вдруг кому то больше 127 :))\n",
    "* Заменим тип education_id на uint8\n",
    "* Заменим тип family_status_id на uint8\n",
    "* Заменим тип debt на uint8"
   ]
  },
  {
   "cell_type": "code",
   "execution_count": 9,
   "metadata": {},
   "outputs": [
    {
     "name": "stdout",
     "output_type": "stream",
     "text": [
      "Количество памяти занимаемое до преобразования типов:  1654224\n"
     ]
    }
   ],
   "source": [
    "#Получим колво памяти до изменения типов данных\n",
    "before_type_change = df.memory_usage(index=True).sum()\n",
    "print(\"Количество памяти занимаемое до преобразования типов: \", before_type_change)"
   ]
  },
  {
   "cell_type": "code",
   "execution_count": 10,
   "metadata": {
    "scrolled": true
   },
   "outputs": [
    {
     "data": {
      "text/html": [
       "<div>\n",
       "<style scoped>\n",
       "    .dataframe tbody tr th:only-of-type {\n",
       "        vertical-align: middle;\n",
       "    }\n",
       "\n",
       "    .dataframe tbody tr th {\n",
       "        vertical-align: top;\n",
       "    }\n",
       "\n",
       "    .dataframe thead th {\n",
       "        text-align: right;\n",
       "    }\n",
       "</style>\n",
       "<table border=\"1\" class=\"dataframe\">\n",
       "  <thead>\n",
       "    <tr style=\"text-align: right;\">\n",
       "      <th></th>\n",
       "      <th>children</th>\n",
       "      <th>days_employed</th>\n",
       "      <th>dob_years</th>\n",
       "      <th>education</th>\n",
       "      <th>education_id</th>\n",
       "      <th>family_status</th>\n",
       "      <th>family_status_id</th>\n",
       "      <th>gender</th>\n",
       "      <th>income_type</th>\n",
       "      <th>debt</th>\n",
       "      <th>total_income</th>\n",
       "      <th>purpose</th>\n",
       "    </tr>\n",
       "  </thead>\n",
       "  <tbody>\n",
       "    <tr>\n",
       "      <td>0</td>\n",
       "      <td>1</td>\n",
       "      <td>8437</td>\n",
       "      <td>42</td>\n",
       "      <td>высшее</td>\n",
       "      <td>0</td>\n",
       "      <td>женат / замужем</td>\n",
       "      <td>0</td>\n",
       "      <td>F</td>\n",
       "      <td>сотрудник</td>\n",
       "      <td>0</td>\n",
       "      <td>253875.639453</td>\n",
       "      <td>покупка жилья</td>\n",
       "    </tr>\n",
       "    <tr>\n",
       "      <td>1</td>\n",
       "      <td>1</td>\n",
       "      <td>4024</td>\n",
       "      <td>36</td>\n",
       "      <td>среднее</td>\n",
       "      <td>1</td>\n",
       "      <td>женат / замужем</td>\n",
       "      <td>0</td>\n",
       "      <td>F</td>\n",
       "      <td>сотрудник</td>\n",
       "      <td>0</td>\n",
       "      <td>112080.014102</td>\n",
       "      <td>приобретение автомобиля</td>\n",
       "    </tr>\n",
       "    <tr>\n",
       "      <td>2</td>\n",
       "      <td>0</td>\n",
       "      <td>5623</td>\n",
       "      <td>33</td>\n",
       "      <td>Среднее</td>\n",
       "      <td>1</td>\n",
       "      <td>женат / замужем</td>\n",
       "      <td>0</td>\n",
       "      <td>M</td>\n",
       "      <td>сотрудник</td>\n",
       "      <td>0</td>\n",
       "      <td>145885.952297</td>\n",
       "      <td>покупка жилья</td>\n",
       "    </tr>\n",
       "    <tr>\n",
       "      <td>3</td>\n",
       "      <td>3</td>\n",
       "      <td>4124</td>\n",
       "      <td>32</td>\n",
       "      <td>среднее</td>\n",
       "      <td>1</td>\n",
       "      <td>женат / замужем</td>\n",
       "      <td>0</td>\n",
       "      <td>M</td>\n",
       "      <td>сотрудник</td>\n",
       "      <td>0</td>\n",
       "      <td>267628.550329</td>\n",
       "      <td>дополнительное образование</td>\n",
       "    </tr>\n",
       "    <tr>\n",
       "      <td>5</td>\n",
       "      <td>0</td>\n",
       "      <td>926</td>\n",
       "      <td>27</td>\n",
       "      <td>высшее</td>\n",
       "      <td>0</td>\n",
       "      <td>гражданский брак</td>\n",
       "      <td>1</td>\n",
       "      <td>M</td>\n",
       "      <td>компаньон</td>\n",
       "      <td>0</td>\n",
       "      <td>255763.565419</td>\n",
       "      <td>покупка жилья</td>\n",
       "    </tr>\n",
       "  </tbody>\n",
       "</table>\n",
       "</div>"
      ],
      "text/plain": [
       "   children  days_employed  dob_years education  education_id  \\\n",
       "0         1           8437         42    высшее             0   \n",
       "1         1           4024         36   среднее             1   \n",
       "2         0           5623         33   Среднее             1   \n",
       "3         3           4124         32   среднее             1   \n",
       "5         0            926         27    высшее             0   \n",
       "\n",
       "      family_status  family_status_id gender income_type  debt   total_income  \\\n",
       "0   женат / замужем                 0      F   сотрудник     0  253875.639453   \n",
       "1   женат / замужем                 0      F   сотрудник     0  112080.014102   \n",
       "2   женат / замужем                 0      M   сотрудник     0  145885.952297   \n",
       "3   женат / замужем                 0      M   сотрудник     0  267628.550329   \n",
       "5  гражданский брак                 1      M   компаньон     0  255763.565419   \n",
       "\n",
       "                      purpose  \n",
       "0               покупка жилья  \n",
       "1     приобретение автомобиля  \n",
       "2               покупка жилья  \n",
       "3  дополнительное образование  \n",
       "5               покупка жилья  "
      ]
     },
     "metadata": {},
     "output_type": "display_data"
    },
    {
     "name": "stdout",
     "output_type": "stream",
     "text": [
      "<class 'pandas.core.frame.DataFrame'>\n",
      "Int64Index: 15906 entries, 0 to 21524\n",
      "Data columns (total 12 columns):\n",
      "children            15906 non-null int8\n",
      "days_employed       15906 non-null int32\n",
      "dob_years           15906 non-null uint8\n",
      "education           15906 non-null object\n",
      "education_id        15906 non-null uint8\n",
      "family_status       15906 non-null object\n",
      "family_status_id    15906 non-null uint8\n",
      "gender              15906 non-null object\n",
      "income_type         15906 non-null object\n",
      "debt                15906 non-null uint8\n",
      "total_income        15906 non-null float64\n",
      "purpose             15906 non-null object\n",
      "dtypes: float64(1), int32(1), int8(1), object(5), uint8(4)\n",
      "memory usage: 1009.7+ KB\n"
     ]
    }
   ],
   "source": [
    "#заменим количество трудового стажа в днях на целое число т.к. измеряется в днях.\n",
    "df['days_employed'] = df['days_employed'].astype('int32')\n",
    "df['children'] = df['children'].astype('int8')\n",
    "df['dob_years'] = df['dob_years'].astype('uint8')\n",
    "df['education_id'] = df['education_id'].astype('uint8')\n",
    "df['family_status_id'] = df['family_status_id'].astype('uint8')\n",
    "df['debt'] = df['debt'].astype('uint8')\n",
    "display(df.head())\n",
    "df.info()"
   ]
  },
  {
   "cell_type": "code",
   "execution_count": 11,
   "metadata": {},
   "outputs": [
    {
     "name": "stdout",
     "output_type": "stream",
     "text": [
      "Количество памяти занимаемое до преобразования типов:  1033890\n"
     ]
    }
   ],
   "source": [
    "#Получим колво памяти после изменения типов данных\n",
    "after_type_change = df.memory_usage(index=True).sum()\n",
    "print(\"Количество памяти занимаемое до преобразования типов: \", after_type_change)"
   ]
  },
  {
   "cell_type": "code",
   "execution_count": 12,
   "metadata": {},
   "outputs": [
    {
     "name": "stdout",
     "output_type": "stream",
     "text": [
      "Сэкономленный процент памяти: 37.50%\n"
     ]
    }
   ],
   "source": [
    "#Посчитаем сэкономленный процент памяти.\n",
    "print(\"Сэкономленный процент памяти: {:.2f}%\".format(100 - after_type_change / before_type_change * 100))"
   ]
  },
  {
   "cell_type": "markdown",
   "metadata": {},
   "source": [
    "**Вывод**"
   ]
  },
  {
   "cell_type": "markdown",
   "metadata": {},
   "source": [
    "Заменили вещественные числа на целые в колонке `days_employed` методом `astype` который приводит значения к нужному типу. Так как данная колонка изначально имела тип `float64` проверка `try except` в данном месте не требуется, а также были преобразованы типы у большинства колонок на те же, что и были но имеющие более ограниченный диапазон значений т.к. диапазон больше заданного просто не требуется, что позоволило сэкономить 37.5% памяти."
   ]
  },
  {
   "cell_type": "markdown",
   "metadata": {},
   "source": [
    "### Обработка дубликатов\n",
    "<a id=\"duplicates\"></a>"
   ]
  },
  {
   "cell_type": "code",
   "execution_count": 13,
   "metadata": {},
   "outputs": [
    {
     "data": {
      "text/plain": [
       "среднее                9831\n",
       "высшее                 3751\n",
       "неоконченное высшее     582\n",
       "СРЕДНЕЕ                 570\n",
       "Среднее                 498\n",
       "Высшее                  222\n",
       "ВЫСШЕЕ                  222\n",
       "начальное               149\n",
       "Неоконченное высшее      37\n",
       "НЕОКОНЧЕННОЕ ВЫСШЕЕ      21\n",
       "Начальное                10\n",
       "НАЧАЛЬНОЕ                 9\n",
       "ученая степень            3\n",
       "УЧЕНАЯ СТЕПЕНЬ            1\n",
       "Name: education, dtype: int64"
      ]
     },
     "metadata": {},
     "output_type": "display_data"
    },
    {
     "data": {
      "text/plain": [
       "женат / замужем          9270\n",
       "гражданский брак         3158\n",
       "Не женат / не замужем    2212\n",
       "в разводе                 885\n",
       "вдовец / вдова            381\n",
       "Name: family_status, dtype: int64"
      ]
     },
     "metadata": {},
     "output_type": "display_data"
    },
    {
     "data": {
      "text/plain": [
       "F      9945\n",
       "M      5960\n",
       "XNA       1\n",
       "Name: gender, dtype: int64"
      ]
     },
     "metadata": {},
     "output_type": "display_data"
    },
    {
     "data": {
      "text/plain": [
       "сотрудник          10014\n",
       "компаньон           4577\n",
       "госслужащий         1312\n",
       "предприниматель        1\n",
       "в декрете              1\n",
       "студент                1\n",
       "Name: income_type, dtype: int64"
      ]
     },
     "metadata": {},
     "output_type": "display_data"
    },
    {
     "data": {
      "text/plain": [
       "свадьба                                   600\n",
       "сыграть свадьбу                           566\n",
       "на проведение свадьбы                     559\n",
       "операции с недвижимостью                  502\n",
       "покупка своего жилья                      492\n",
       "покупка коммерческой недвижимости         492\n",
       "покупка жилья для сдачи                   486\n",
       "жилье                                     485\n",
       "покупка жилья                             483\n",
       "операции с жильем                         483\n",
       "недвижимость                              480\n",
       "операции с коммерческой недвижимостью     474\n",
       "строительство жилой недвижимости          468\n",
       "строительство недвижимости                465\n",
       "покупка жилья для семьи                   463\n",
       "операции со своей недвижимостью           462\n",
       "покупка жилой недвижимости                461\n",
       "строительство собственной недвижимости    458\n",
       "ремонт жилью                              451\n",
       "покупка недвижимости                      451\n",
       "на покупку своего автомобиля              382\n",
       "заняться высшим образованием              364\n",
       "автомобиль                                363\n",
       "на покупку автомобиля                     357\n",
       "сделка с подержанным автомобилем          356\n",
       "свой автомобиль                           354\n",
       "на покупку подержанного автомобиля        353\n",
       "приобретение автомобиля                   342\n",
       "высшее образование                        342\n",
       "автомобили                                340\n",
       "сделка с автомобилем                      335\n",
       "дополнительное образование                332\n",
       "образование                               331\n",
       "получение высшего образования             323\n",
       "профильное образование                    319\n",
       "получение образования                     318\n",
       "получение дополнительного образования     316\n",
       "заняться образованием                     298\n",
       "Name: purpose, dtype: int64"
      ]
     },
     "metadata": {},
     "output_type": "display_data"
    }
   ],
   "source": [
    "#проверим дубликаты в колонках\n",
    "display(df['education'].value_counts())\n",
    "display(df['family_status'].value_counts())\n",
    "display(df['gender'].value_counts())\n",
    "display(df['income_type'].value_counts())\n",
    "display(df['purpose'].value_counts())"
   ]
  },
  {
   "cell_type": "code",
   "execution_count": 14,
   "metadata": {},
   "outputs": [
    {
     "data": {
      "text/plain": [
       "среднее                10899\n",
       "высшее                  4195\n",
       "неоконченное высшее      640\n",
       "начальное                168\n",
       "ученая степень             4\n",
       "Name: education, dtype: int64"
      ]
     },
     "execution_count": 14,
     "metadata": {},
     "output_type": "execute_result"
    }
   ],
   "source": [
    "#приведем все значения в колонке education к нижнему регистру\n",
    "df['education'] = df['education'].str.lower()\n",
    "#проверим результат\n",
    "df['education'].value_counts()"
   ]
  },
  {
   "cell_type": "code",
   "execution_count": 15,
   "metadata": {},
   "outputs": [
    {
     "data": {
      "text/plain": [
       "0"
      ]
     },
     "metadata": {},
     "output_type": "display_data"
    },
    {
     "data": {
      "text/plain": [
       "0"
      ]
     },
     "metadata": {},
     "output_type": "display_data"
    }
   ],
   "source": [
    "#Найдем количество дубликатов и удалим все дублирующие строки кроме первой встреченной, и сбросим индексы\n",
    "display(df[df.duplicated()]['children'].count())\n",
    "df = df.drop_duplicates().reset_index(drop = True)\n",
    "display(df[df.duplicated()]['children'].count())"
   ]
  },
  {
   "cell_type": "markdown",
   "metadata": {},
   "source": [
    "**Вывод**"
   ]
  },
  {
   "cell_type": "markdown",
   "metadata": {},
   "source": [
    "Выявил дубликаты из-за написания в разном регистре в колонке `education`, привел все к нижнему регистру. После чего удалил все дублирующие строки кроме первой встреченной (впоследствии оказалось что дубликаты отсутствуют при удалении выбросов в колонке days_employed)."
   ]
  },
  {
   "cell_type": "markdown",
   "metadata": {},
   "source": [
    "### Лемматизация\n",
    "<a id=\"lemmatization\"></a>"
   ]
  },
  {
   "cell_type": "code",
   "execution_count": 16,
   "metadata": {},
   "outputs": [
    {
     "data": {
      "text/plain": [
       "недвижимость    4713\n",
       "жилье           3343\n",
       "автомобиль      3182\n",
       "образование     2943\n",
       "свадьба         1725\n",
       "Name: purpose_categories, dtype: int64"
      ]
     },
     "execution_count": 16,
     "metadata": {},
     "output_type": "execute_result"
    }
   ],
   "source": [
    "m = Mystem()\n",
    "\n",
    "#определим функцию возвращающую категорию цели кредита\n",
    "def purpose_group(row):\n",
    "    purpose_list = m.lemmatize(row['purpose'])\n",
    "    #print(purpose_list)\n",
    "    if 'свадьба' in purpose_list:\n",
    "        return 'свадьба'\n",
    "    elif 'недвижимость' in purpose_list:\n",
    "        return 'недвижимость'\n",
    "    elif 'жилье' in purpose_list:\n",
    "        return 'жилье'\n",
    "    elif 'автомобиль' in purpose_list:\n",
    "        return 'автомобиль'\n",
    "    elif 'образование' in purpose_list:\n",
    "        return 'образование'\n",
    "    else:\n",
    "        return 'undef'\n",
    "\n",
    "#применим функцию ко всем строкам и создадим новый столбец категорий цели\n",
    "df['purpose_categories'] = df.apply(purpose_group, axis=1)\n",
    "#проверим результат\n",
    "df['purpose_categories'].value_counts()"
   ]
  },
  {
   "cell_type": "markdown",
   "metadata": {},
   "source": [
    "**Вывод**"
   ]
  },
  {
   "cell_type": "markdown",
   "metadata": {},
   "source": [
    "С помощью лемматизатора `pymystem3` лемматизировали данные в столбце `purpose_categories` и выделили категории целей кредита применив функцию возвращаю категорию к строке из `purpose`"
   ]
  },
  {
   "cell_type": "markdown",
   "metadata": {},
   "source": [
    "### Категоризация данных\n",
    "<a id=\"categorization\"></a>"
   ]
  },
  {
   "cell_type": "markdown",
   "metadata": {},
   "source": [
    "**Вывод**"
   ]
  },
  {
   "cell_type": "markdown",
   "metadata": {},
   "source": [
    "В других колонках нет необходимости категоризировать данные, а в `purpose` категоризацию применил при лемматизации. Были выделены наиболее очевидные категории, которые сразу же видны при вызове `value_counts()` для столбца `purpose` "
   ]
  },
  {
   "cell_type": "markdown",
   "metadata": {},
   "source": [
    "# Шаг 3. Проверка гипотез\n",
    "<a id=\"hypothesis\"></a>"
   ]
  },
  {
   "cell_type": "markdown",
   "metadata": {},
   "source": [
    "**Проверим следующую гипотезу:**\n",
    "- Существует зависимость между наличием детей и возвратом кредита в срок."
   ]
  },
  {
   "cell_type": "code",
   "execution_count": 17,
   "metadata": {},
   "outputs": [
    {
     "data": {
      "text/html": [
       "<div>\n",
       "<style scoped>\n",
       "    .dataframe tbody tr th:only-of-type {\n",
       "        vertical-align: middle;\n",
       "    }\n",
       "\n",
       "    .dataframe tbody tr th {\n",
       "        vertical-align: top;\n",
       "    }\n",
       "\n",
       "    .dataframe thead th {\n",
       "        text-align: right;\n",
       "    }\n",
       "</style>\n",
       "<table border=\"1\" class=\"dataframe\">\n",
       "  <thead>\n",
       "    <tr style=\"text-align: right;\">\n",
       "      <th></th>\n",
       "      <th>children</th>\n",
       "    </tr>\n",
       "    <tr>\n",
       "      <th>debt</th>\n",
       "      <th></th>\n",
       "    </tr>\n",
       "  </thead>\n",
       "  <tbody>\n",
       "    <tr>\n",
       "      <td>0</td>\n",
       "      <td>0.618378</td>\n",
       "    </tr>\n",
       "    <tr>\n",
       "      <td>1</td>\n",
       "      <td>0.705544</td>\n",
       "    </tr>\n",
       "  </tbody>\n",
       "</table>\n",
       "</div>"
      ],
      "text/plain": [
       "      children\n",
       "debt          \n",
       "0     0.618378\n",
       "1     0.705544"
      ]
     },
     "execution_count": 17,
     "metadata": {},
     "output_type": "execute_result"
    }
   ],
   "source": [
    "#Изучим сводные таблицы по заданной гипотезе\n",
    "table = pd.pivot_table(df, values=['children'], index=['debt'])\n",
    "table"
   ]
  },
  {
   "cell_type": "markdown",
   "metadata": {},
   "source": [
    "**Вывод**"
   ]
  },
  {
   "cell_type": "markdown",
   "metadata": {},
   "source": [
    "Зависимость между наличием детей и возвратом кредита в срок есть, но незначительная. Люди имеющие детей, немного чаще имеют задолженность по кредиту. Гипотеза верна, принимаем её."
   ]
  },
  {
   "cell_type": "markdown",
   "metadata": {},
   "source": [
    "**Проверим следующую гипотезу:**\n",
    "- Существует зависимость между семейным положением и возвратом кредита в срок."
   ]
  },
  {
   "cell_type": "code",
   "execution_count": 18,
   "metadata": {},
   "outputs": [
    {
     "data": {
      "text/html": [
       "<div>\n",
       "<style scoped>\n",
       "    .dataframe tbody tr th:only-of-type {\n",
       "        vertical-align: middle;\n",
       "    }\n",
       "\n",
       "    .dataframe tbody tr th {\n",
       "        vertical-align: top;\n",
       "    }\n",
       "\n",
       "    .dataframe thead th {\n",
       "        text-align: right;\n",
       "    }\n",
       "</style>\n",
       "<table border=\"1\" class=\"dataframe\">\n",
       "  <thead>\n",
       "    <tr style=\"text-align: right;\">\n",
       "      <th></th>\n",
       "      <th>debt</th>\n",
       "    </tr>\n",
       "    <tr>\n",
       "      <th>family_status</th>\n",
       "      <th></th>\n",
       "    </tr>\n",
       "  </thead>\n",
       "  <tbody>\n",
       "    <tr>\n",
       "      <td>Не женат / не замужем</td>\n",
       "      <td>0.109403</td>\n",
       "    </tr>\n",
       "    <tr>\n",
       "      <td>в разводе</td>\n",
       "      <td>0.073446</td>\n",
       "    </tr>\n",
       "    <tr>\n",
       "      <td>вдовец / вдова</td>\n",
       "      <td>0.062992</td>\n",
       "    </tr>\n",
       "    <tr>\n",
       "      <td>гражданский брак</td>\n",
       "      <td>0.098163</td>\n",
       "    </tr>\n",
       "    <tr>\n",
       "      <td>женат / замужем</td>\n",
       "      <td>0.080690</td>\n",
       "    </tr>\n",
       "  </tbody>\n",
       "</table>\n",
       "</div>"
      ],
      "text/plain": [
       "                           debt\n",
       "family_status                  \n",
       "Не женат / не замужем  0.109403\n",
       "в разводе              0.073446\n",
       "вдовец / вдова         0.062992\n",
       "гражданский брак       0.098163\n",
       "женат / замужем        0.080690"
      ]
     },
     "execution_count": 18,
     "metadata": {},
     "output_type": "execute_result"
    }
   ],
   "source": [
    "table = pd.pivot_table(df, values=['debt'], index=['family_status'])\n",
    "table"
   ]
  },
  {
   "cell_type": "markdown",
   "metadata": {},
   "source": [
    "**Вывод**"
   ]
  },
  {
   "cell_type": "markdown",
   "metadata": {},
   "source": [
    "Люди, находящиеся в гражданском браке или холостые чаще других не возвращают кредит в срок, когда как вдовцы и вдовы возвращают кредит в срок чаще остальных, а женатые люди или в разводе возвращают кредиты примерно одинакого. Гипотеза верна, зависимость существует"
   ]
  },
  {
   "cell_type": "markdown",
   "metadata": {},
   "source": [
    "**Проверим следующую гипотезу:**\n",
    "- Существует зависимость между уровнем дохода и возвратом кредита в срок."
   ]
  },
  {
   "cell_type": "code",
   "execution_count": 19,
   "metadata": {},
   "outputs": [
    {
     "data": {
      "text/html": [
       "<div>\n",
       "<style scoped>\n",
       "    .dataframe tbody tr th:only-of-type {\n",
       "        vertical-align: middle;\n",
       "    }\n",
       "\n",
       "    .dataframe tbody tr th {\n",
       "        vertical-align: top;\n",
       "    }\n",
       "\n",
       "    .dataframe thead th {\n",
       "        text-align: right;\n",
       "    }\n",
       "</style>\n",
       "<table border=\"1\" class=\"dataframe\">\n",
       "  <thead>\n",
       "    <tr style=\"text-align: right;\">\n",
       "      <th></th>\n",
       "      <th>total_income</th>\n",
       "    </tr>\n",
       "    <tr>\n",
       "      <th>debt</th>\n",
       "      <th></th>\n",
       "    </tr>\n",
       "  </thead>\n",
       "  <tbody>\n",
       "    <tr>\n",
       "      <td>0</td>\n",
       "      <td>174728.673373</td>\n",
       "    </tr>\n",
       "    <tr>\n",
       "      <td>1</td>\n",
       "      <td>166206.101363</td>\n",
       "    </tr>\n",
       "  </tbody>\n",
       "</table>\n",
       "</div>"
      ],
      "text/plain": [
       "       total_income\n",
       "debt               \n",
       "0     174728.673373\n",
       "1     166206.101363"
      ]
     },
     "execution_count": 19,
     "metadata": {},
     "output_type": "execute_result"
    }
   ],
   "source": [
    "table = pd.pivot_table(df, values=['total_income'], index=['debt'])\n",
    "table"
   ]
  },
  {
   "cell_type": "markdown",
   "metadata": {},
   "source": [
    "**Вывод**"
   ]
  },
  {
   "cell_type": "markdown",
   "metadata": {},
   "source": [
    "Зависимость между доходом и возвратом кредита в срок есть, но незначительная. Средняя зарплата людей имеющих задолженность немного меньше."
   ]
  },
  {
   "cell_type": "markdown",
   "metadata": {},
   "source": [
    "**Проверим следующую гипотезу:**\n",
    "- Цели кредита по разному влияют на его возврат в срок."
   ]
  },
  {
   "cell_type": "code",
   "execution_count": 20,
   "metadata": {},
   "outputs": [
    {
     "data": {
      "text/html": [
       "<div>\n",
       "<style scoped>\n",
       "    .dataframe tbody tr th:only-of-type {\n",
       "        vertical-align: middle;\n",
       "    }\n",
       "\n",
       "    .dataframe tbody tr th {\n",
       "        vertical-align: top;\n",
       "    }\n",
       "\n",
       "    .dataframe thead th {\n",
       "        text-align: right;\n",
       "    }\n",
       "</style>\n",
       "<table border=\"1\" class=\"dataframe\">\n",
       "  <thead>\n",
       "    <tr style=\"text-align: right;\">\n",
       "      <th></th>\n",
       "      <th>debt</th>\n",
       "    </tr>\n",
       "    <tr>\n",
       "      <th>purpose_categories</th>\n",
       "      <th></th>\n",
       "    </tr>\n",
       "  </thead>\n",
       "  <tbody>\n",
       "    <tr>\n",
       "      <td>автомобиль</td>\n",
       "      <td>0.101823</td>\n",
       "    </tr>\n",
       "    <tr>\n",
       "      <td>жилье</td>\n",
       "      <td>0.074484</td>\n",
       "    </tr>\n",
       "    <tr>\n",
       "      <td>недвижимость</td>\n",
       "      <td>0.082325</td>\n",
       "    </tr>\n",
       "    <tr>\n",
       "      <td>образование</td>\n",
       "      <td>0.098199</td>\n",
       "    </tr>\n",
       "    <tr>\n",
       "      <td>свадьба</td>\n",
       "      <td>0.080580</td>\n",
       "    </tr>\n",
       "  </tbody>\n",
       "</table>\n",
       "</div>"
      ],
      "text/plain": [
       "                        debt\n",
       "purpose_categories          \n",
       "автомобиль          0.101823\n",
       "жилье               0.074484\n",
       "недвижимость        0.082325\n",
       "образование         0.098199\n",
       "свадьба             0.080580"
      ]
     },
     "execution_count": 20,
     "metadata": {},
     "output_type": "execute_result"
    }
   ],
   "source": [
    "table = pd.pivot_table(df, values=['debt'], index=['purpose_categories'])\n",
    "table"
   ]
  },
  {
   "cell_type": "markdown",
   "metadata": {},
   "source": [
    "**Вывод**"
   ]
  },
  {
   "cell_type": "markdown",
   "metadata": {},
   "source": [
    "Люди берущие кредит для образования и автомобиля, с немного меньшей вероятностью вернут кредит в срок, когда как люди берущие кредит ради жилья больше остальных возвращают кредит в срок. Гипотеза верна, цели кредита по разному влияют на его возврат в срок"
   ]
  },
  {
   "cell_type": "markdown",
   "metadata": {},
   "source": [
    "# Шаг 4. Общий вывод\n",
    "<a id=\"conclusion\"></a>"
   ]
  },
  {
   "cell_type": "markdown",
   "metadata": {},
   "source": [
    "Был прочитан и изучен файл, проведены операции над ним для последующего анализа данных, отвечены на поставленные вопросы, а именно:\n",
    "1) Наличие детей влияет на возврат кредита в срок, но лишь немного. Отношение количества детей у людей не имеющих задолженности: 0.53. Отношение количества детей у людей имеющих задолженности: 0.62.\n",
    "\n",
    "2) Люди, находящиеся в гражданском браке или холостые чаще других не возвращают кредит в срок, когда как вдовцы и вдовы ненамного, но с большей вероятностью возвращают кредит в срок. Таблица:\n",
    "\n",
    "|Семейное положение|Задолженность|\n",
    "|---|---|\n",
    "|Не женат / не замужем|0.097509|\n",
    "|в разводе|0.071130|\n",
    "|вдовец / вдова|0.065693|\n",
    "|гражданский брак|0.093471|\n",
    "|женат / замужем|0.075452|\n",
    "\n",
    "3) Доход немного влияет на возврат кредита в срок. Средняя зарплата людей имеющих задолженность немного меньше, а именно на 8522 у.е..\n",
    "\n",
    "4) Люди берущие кредит для образования и автомобиля, с немного меньшей вероятностью вернут кредит в срок, когда как люди берущие кредит ради жилья больше остальных возвращают кредит в срок. Таблица:\n",
    "\n",
    "|Цель кредита|Задолженность|\n",
    "|---|---|\n",
    "|автомобиль|0.093590|\n",
    "|жилье|0.069058|\n",
    "|недвижимость|0.074634|\n",
    "|образование|0.092200|\n",
    "|свадьба|0.080034|"
   ]
  }
 ],
 "metadata": {
  "ExecuteTimeLog": [
   {
    "duration": 975,
    "start_time": "2021-08-20T06:34:18.253Z"
   },
   {
    "duration": 79,
    "start_time": "2021-08-20T06:34:58.340Z"
   },
   {
    "duration": 75,
    "start_time": "2021-08-20T06:35:09.327Z"
   },
   {
    "duration": 72,
    "start_time": "2021-08-20T06:35:42.879Z"
   },
   {
    "duration": 87,
    "start_time": "2021-08-20T06:35:47.693Z"
   },
   {
    "duration": 87,
    "start_time": "2021-08-20T06:36:15.668Z"
   },
   {
    "duration": 90,
    "start_time": "2021-08-20T06:37:00.281Z"
   },
   {
    "duration": 93,
    "start_time": "2021-08-20T06:37:08.627Z"
   },
   {
    "duration": 88,
    "start_time": "2021-08-20T06:37:34.667Z"
   },
   {
    "duration": 103,
    "start_time": "2021-08-20T06:38:17.357Z"
   },
   {
    "duration": 89,
    "start_time": "2021-08-20T06:38:47.543Z"
   },
   {
    "duration": 89,
    "start_time": "2021-08-20T06:38:50.218Z"
   },
   {
    "duration": 12,
    "start_time": "2021-08-20T06:43:57.252Z"
   },
   {
    "duration": 478,
    "start_time": "2021-08-20T06:44:02.790Z"
   },
   {
    "duration": 11,
    "start_time": "2021-08-20T06:44:07.020Z"
   },
   {
    "duration": 379,
    "start_time": "2021-08-20T06:44:21.251Z"
   },
   {
    "duration": 349,
    "start_time": "2021-08-20T06:44:26.124Z"
   },
   {
    "duration": 8,
    "start_time": "2021-08-20T06:44:35.386Z"
   },
   {
    "duration": 8,
    "start_time": "2021-08-20T06:44:42.473Z"
   },
   {
    "duration": 370,
    "start_time": "2021-08-20T07:38:09.252Z"
   },
   {
    "duration": 36,
    "start_time": "2021-08-20T07:38:50.050Z"
   },
   {
    "duration": 121,
    "start_time": "2021-08-20T07:46:04.201Z"
   },
   {
    "duration": 34,
    "start_time": "2021-08-20T07:46:10.583Z"
   },
   {
    "duration": 25,
    "start_time": "2021-08-20T07:47:09.903Z"
   },
   {
    "duration": 100,
    "start_time": "2021-08-20T07:47:57.736Z"
   },
   {
    "duration": 128,
    "start_time": "2021-08-20T07:50:38.686Z"
   },
   {
    "duration": 452,
    "start_time": "2021-08-20T07:50:42.809Z"
   },
   {
    "duration": 21,
    "start_time": "2021-08-20T07:50:46.872Z"
   },
   {
    "duration": 23,
    "start_time": "2021-08-20T07:50:55.774Z"
   },
   {
    "duration": 25,
    "start_time": "2021-08-20T07:51:37.188Z"
   },
   {
    "duration": 122,
    "start_time": "2021-08-20T07:52:17.572Z"
   },
   {
    "duration": 25,
    "start_time": "2021-08-20T07:52:25.500Z"
   },
   {
    "duration": 26,
    "start_time": "2021-08-20T07:52:29.916Z"
   },
   {
    "duration": 79,
    "start_time": "2021-08-20T07:59:31.730Z"
   },
   {
    "duration": 98,
    "start_time": "2021-08-20T07:59:34.844Z"
   },
   {
    "duration": 84,
    "start_time": "2021-08-20T08:00:21.043Z"
   },
   {
    "duration": 658,
    "start_time": "2021-08-21T07:42:14.951Z"
   },
   {
    "duration": 15,
    "start_time": "2021-08-21T07:42:16.737Z"
   },
   {
    "duration": 8,
    "start_time": "2021-08-21T07:42:17.072Z"
   },
   {
    "duration": 54,
    "start_time": "2021-08-21T07:42:17.432Z"
   },
   {
    "duration": 21,
    "start_time": "2021-08-21T07:42:45.564Z"
   },
   {
    "duration": 20,
    "start_time": "2021-08-21T07:42:49.767Z"
   },
   {
    "duration": 7,
    "start_time": "2021-08-21T07:43:27.487Z"
   },
   {
    "duration": 19,
    "start_time": "2021-08-21T07:43:30.991Z"
   },
   {
    "duration": 8,
    "start_time": "2021-08-21T07:43:34.197Z"
   },
   {
    "duration": 22,
    "start_time": "2021-08-21T07:43:38.917Z"
   },
   {
    "duration": 6,
    "start_time": "2021-08-21T07:45:05.993Z"
   },
   {
    "duration": 4,
    "start_time": "2021-08-21T07:45:13.083Z"
   },
   {
    "duration": 19,
    "start_time": "2021-08-21T07:45:26.139Z"
   },
   {
    "duration": 21,
    "start_time": "2021-08-21T07:45:40.196Z"
   },
   {
    "duration": 21,
    "start_time": "2021-08-21T07:45:47.514Z"
   },
   {
    "duration": 20,
    "start_time": "2021-08-21T07:45:53.714Z"
   },
   {
    "duration": 13,
    "start_time": "2021-08-21T07:47:52.930Z"
   },
   {
    "duration": 8,
    "start_time": "2021-08-21T07:47:59.621Z"
   },
   {
    "duration": 13,
    "start_time": "2021-08-21T07:48:05.775Z"
   },
   {
    "duration": 19,
    "start_time": "2021-08-21T07:48:09.947Z"
   },
   {
    "duration": 18,
    "start_time": "2021-08-21T07:48:40.181Z"
   },
   {
    "duration": 21,
    "start_time": "2021-08-21T07:48:56.629Z"
   },
   {
    "duration": 4,
    "start_time": "2021-08-21T07:50:06.525Z"
   },
   {
    "duration": 8,
    "start_time": "2021-08-21T07:50:33.850Z"
   },
   {
    "duration": 8,
    "start_time": "2021-08-21T07:50:39.742Z"
   },
   {
    "duration": 24,
    "start_time": "2021-08-21T07:50:45.733Z"
   },
   {
    "duration": 7,
    "start_time": "2021-08-21T07:50:51.380Z"
   },
   {
    "duration": 4,
    "start_time": "2021-08-21T07:51:10.874Z"
   },
   {
    "duration": 6,
    "start_time": "2021-08-21T07:51:14.796Z"
   },
   {
    "duration": 5,
    "start_time": "2021-08-21T07:51:20.022Z"
   },
   {
    "duration": 5,
    "start_time": "2021-08-21T07:52:00.540Z"
   },
   {
    "duration": 5,
    "start_time": "2021-08-21T07:52:04.675Z"
   },
   {
    "duration": 5,
    "start_time": "2021-08-21T07:52:37.992Z"
   },
   {
    "duration": 5,
    "start_time": "2021-08-21T07:52:41.513Z"
   },
   {
    "duration": 77,
    "start_time": "2021-08-21T07:54:20.100Z"
   },
   {
    "duration": 5,
    "start_time": "2021-08-21T07:54:21.915Z"
   },
   {
    "duration": 4,
    "start_time": "2021-08-21T07:54:26.529Z"
   },
   {
    "duration": 1045,
    "start_time": "2021-08-21T07:55:49.541Z"
   },
   {
    "duration": 442,
    "start_time": "2021-08-21T07:55:59.001Z"
   },
   {
    "duration": 454,
    "start_time": "2021-08-21T07:56:09.989Z"
   },
   {
    "duration": 225,
    "start_time": "2021-08-21T07:58:51.999Z"
   },
   {
    "duration": 442,
    "start_time": "2021-08-21T07:59:12.088Z"
   },
   {
    "duration": 240,
    "start_time": "2021-08-21T07:59:55.013Z"
   },
   {
    "duration": 231,
    "start_time": "2021-08-21T08:00:33.269Z"
   },
   {
    "duration": 246,
    "start_time": "2021-08-21T08:00:58.103Z"
   },
   {
    "duration": 244,
    "start_time": "2021-08-21T08:01:44.367Z"
   },
   {
    "duration": 5,
    "start_time": "2021-08-21T08:03:29.626Z"
   },
   {
    "duration": 5,
    "start_time": "2021-08-21T08:03:33.141Z"
   },
   {
    "duration": 4,
    "start_time": "2021-08-21T08:03:39.961Z"
   },
   {
    "duration": 5,
    "start_time": "2021-08-21T08:03:42.380Z"
   },
   {
    "duration": 13,
    "start_time": "2021-08-21T08:04:34.754Z"
   },
   {
    "duration": 14,
    "start_time": "2021-08-21T08:04:48.699Z"
   },
   {
    "duration": 5,
    "start_time": "2021-08-21T08:12:04.024Z"
   },
   {
    "duration": 12,
    "start_time": "2021-08-21T08:12:12.976Z"
   },
   {
    "duration": 17,
    "start_time": "2021-08-21T08:12:24.670Z"
   },
   {
    "duration": 8,
    "start_time": "2021-08-21T08:17:25.259Z"
   },
   {
    "duration": 7,
    "start_time": "2021-08-21T08:17:37.954Z"
   },
   {
    "duration": 23,
    "start_time": "2021-08-21T08:18:37.075Z"
   },
   {
    "duration": 223,
    "start_time": "2021-08-21T08:47:35.197Z"
   },
   {
    "duration": 16,
    "start_time": "2021-08-21T08:47:50.038Z"
   },
   {
    "duration": 18,
    "start_time": "2021-08-21T08:48:58.883Z"
   },
   {
    "duration": 28,
    "start_time": "2021-08-21T08:49:04.460Z"
   },
   {
    "duration": 15,
    "start_time": "2021-08-21T08:49:47.459Z"
   },
   {
    "duration": 28,
    "start_time": "2021-08-21T08:49:51.117Z"
   },
   {
    "duration": 17,
    "start_time": "2021-08-21T08:49:55.369Z"
   },
   {
    "duration": 28,
    "start_time": "2021-08-21T08:49:58.455Z"
   },
   {
    "duration": 26,
    "start_time": "2021-08-21T08:51:45.554Z"
   },
   {
    "duration": 28,
    "start_time": "2021-08-21T08:52:13.403Z"
   },
   {
    "duration": 26,
    "start_time": "2021-08-21T08:52:27.703Z"
   },
   {
    "duration": 614,
    "start_time": "2021-08-21T08:58:53.919Z"
   },
   {
    "duration": 18415,
    "start_time": "2021-08-21T09:06:14.208Z"
   },
   {
    "duration": 3759,
    "start_time": "2021-08-21T09:06:36.411Z"
   },
   {
    "duration": 9674,
    "start_time": "2021-08-21T09:06:52.975Z"
   },
   {
    "duration": 3939,
    "start_time": "2021-08-21T09:07:15.676Z"
   },
   {
    "duration": 4057,
    "start_time": "2021-08-21T09:07:39.390Z"
   },
   {
    "duration": 8644,
    "start_time": "2021-08-21T09:08:02.814Z"
   },
   {
    "duration": 8520,
    "start_time": "2021-08-21T09:08:22.119Z"
   },
   {
    "duration": 3728,
    "start_time": "2021-08-21T09:08:32.928Z"
   },
   {
    "duration": 4032,
    "start_time": "2021-08-21T09:08:47.509Z"
   },
   {
    "duration": 243,
    "start_time": "2021-08-21T09:20:27.478Z"
   },
   {
    "duration": 244,
    "start_time": "2021-08-21T09:20:48.866Z"
   },
   {
    "duration": 233,
    "start_time": "2021-08-21T09:21:28.839Z"
   },
   {
    "duration": 6,
    "start_time": "2021-08-21T09:22:26.436Z"
   },
   {
    "duration": 7,
    "start_time": "2021-08-21T09:22:40.190Z"
   },
   {
    "duration": 11,
    "start_time": "2021-08-21T09:22:45.478Z"
   },
   {
    "duration": 256,
    "start_time": "2021-08-21T09:22:55.980Z"
   },
   {
    "duration": 239,
    "start_time": "2021-08-21T09:23:03.205Z"
   },
   {
    "duration": 235,
    "start_time": "2021-08-21T09:23:12.386Z"
   },
   {
    "duration": 9,
    "start_time": "2021-08-21T09:23:17.411Z"
   },
   {
    "duration": 10,
    "start_time": "2021-08-21T09:24:21.841Z"
   },
   {
    "duration": 9,
    "start_time": "2021-08-21T09:24:33.690Z"
   },
   {
    "duration": 9,
    "start_time": "2021-08-21T09:26:36.967Z"
   },
   {
    "duration": 9,
    "start_time": "2021-08-21T09:26:43.210Z"
   },
   {
    "duration": 10,
    "start_time": "2021-08-21T09:50:51.991Z"
   },
   {
    "duration": 12,
    "start_time": "2021-08-21T09:51:33.152Z"
   },
   {
    "duration": 13,
    "start_time": "2021-08-21T09:52:57.957Z"
   },
   {
    "duration": 16,
    "start_time": "2021-08-21T09:53:33.412Z"
   },
   {
    "duration": 17,
    "start_time": "2021-08-21T09:55:06.584Z"
   },
   {
    "duration": 945,
    "start_time": "2021-08-21T10:19:56.434Z"
   },
   {
    "duration": 12,
    "start_time": "2021-08-21T10:20:17.002Z"
   },
   {
    "duration": 15,
    "start_time": "2021-08-21T10:20:28.079Z"
   },
   {
    "duration": 18,
    "start_time": "2021-08-21T11:14:28.102Z"
   },
   {
    "duration": 16,
    "start_time": "2021-08-21T11:15:19.660Z"
   },
   {
    "duration": 22,
    "start_time": "2021-08-21T11:16:05.876Z"
   },
   {
    "duration": 238,
    "start_time": "2021-08-21T11:16:40.785Z"
   },
   {
    "duration": 234,
    "start_time": "2021-08-21T11:16:46.440Z"
   },
   {
    "duration": 18,
    "start_time": "2021-08-21T11:17:42.037Z"
   },
   {
    "duration": 16,
    "start_time": "2021-08-21T11:17:58.333Z"
   },
   {
    "duration": 25,
    "start_time": "2021-08-21T11:19:11.552Z"
   },
   {
    "duration": 23,
    "start_time": "2021-08-21T11:19:36.413Z"
   },
   {
    "duration": 24,
    "start_time": "2021-08-21T11:19:46.916Z"
   },
   {
    "duration": 26,
    "start_time": "2021-08-21T11:21:29.236Z"
   },
   {
    "duration": 26,
    "start_time": "2021-08-21T11:21:35.590Z"
   },
   {
    "duration": 5983,
    "start_time": "2021-08-21T11:29:39.318Z"
   },
   {
    "duration": 4,
    "start_time": "2021-08-21T11:29:53.699Z"
   },
   {
    "duration": 6,
    "start_time": "2021-08-21T11:29:59.568Z"
   },
   {
    "duration": 4,
    "start_time": "2021-08-21T11:30:02.789Z"
   },
   {
    "duration": 17,
    "start_time": "2021-08-21T11:31:58.745Z"
   },
   {
    "duration": 4,
    "start_time": "2021-08-21T11:32:41.899Z"
   },
   {
    "duration": 885,
    "start_time": "2021-08-21T11:33:56.359Z"
   },
   {
    "duration": 8,
    "start_time": "2021-08-21T11:34:22.293Z"
   },
   {
    "duration": 11,
    "start_time": "2021-08-21T11:34:39.421Z"
   },
   {
    "duration": 236,
    "start_time": "2021-08-21T11:39:23.113Z"
   },
   {
    "duration": 17,
    "start_time": "2021-08-21T11:39:35.174Z"
   },
   {
    "duration": 90,
    "start_time": "2021-08-21T11:39:41.237Z"
   },
   {
    "duration": 18,
    "start_time": "2021-08-21T11:39:45.178Z"
   },
   {
    "duration": 17,
    "start_time": "2021-08-21T11:41:53.600Z"
   },
   {
    "duration": 18,
    "start_time": "2021-08-21T11:55:25.349Z"
   },
   {
    "duration": 23,
    "start_time": "2021-08-21T12:01:04.118Z"
   },
   {
    "duration": 24,
    "start_time": "2021-08-21T12:01:39.604Z"
   },
   {
    "duration": 621,
    "start_time": "2021-08-21T12:07:10.600Z"
   },
   {
    "duration": 16,
    "start_time": "2021-08-21T12:07:14.327Z"
   },
   {
    "duration": 8,
    "start_time": "2021-08-21T12:07:15.245Z"
   },
   {
    "duration": 17,
    "start_time": "2021-08-21T12:07:17.803Z"
   },
   {
    "duration": 20,
    "start_time": "2021-08-21T12:07:19.992Z"
   },
   {
    "duration": 22,
    "start_time": "2021-08-21T12:07:22.355Z"
   },
   {
    "duration": 15,
    "start_time": "2021-08-21T12:07:24.091Z"
   },
   {
    "duration": 3749,
    "start_time": "2021-08-21T12:07:25.926Z"
   },
   {
    "duration": 21,
    "start_time": "2021-08-21T12:07:33.400Z"
   },
   {
    "duration": 28,
    "start_time": "2021-08-21T12:07:38.118Z"
   },
   {
    "duration": 17,
    "start_time": "2021-08-21T12:07:40.037Z"
   },
   {
    "duration": 25,
    "start_time": "2021-08-21T12:07:42.002Z"
   },
   {
    "duration": 469,
    "start_time": "2021-08-22T10:03:35.523Z"
   },
   {
    "duration": 1460,
    "start_time": "2021-08-22T10:04:15.910Z"
   },
   {
    "duration": 90,
    "start_time": "2021-08-22T10:04:17.956Z"
   },
   {
    "duration": 95,
    "start_time": "2021-08-22T10:04:27.494Z"
   },
   {
    "duration": 84,
    "start_time": "2021-08-22T10:04:29.820Z"
   },
   {
    "duration": 138,
    "start_time": "2021-08-22T10:05:02.972Z"
   },
   {
    "duration": 124,
    "start_time": "2021-08-22T10:05:12.590Z"
   },
   {
    "duration": 4656,
    "start_time": "2021-08-27T12:03:10.736Z"
   },
   {
    "duration": 357,
    "start_time": "2021-08-28T07:54:40.953Z"
   },
   {
    "duration": 1909,
    "start_time": "2021-08-28T07:54:48.014Z"
   },
   {
    "duration": 194,
    "start_time": "2021-08-28T07:54:49.927Z"
   },
   {
    "duration": 34,
    "start_time": "2021-08-28T07:54:50.125Z"
   },
   {
    "duration": 15,
    "start_time": "2021-08-28T07:54:50.181Z"
   },
   {
    "duration": 429,
    "start_time": "2021-08-28T07:54:52.026Z"
   },
   {
    "duration": 4538,
    "start_time": "2021-08-28T07:55:01.223Z"
   },
   {
    "duration": 305,
    "start_time": "2021-08-28T07:55:08.503Z"
   },
   {
    "duration": 256,
    "start_time": "2021-08-28T07:55:10.628Z"
   },
   {
    "duration": 3361,
    "start_time": "2021-08-28T07:55:18.512Z"
   },
   {
    "duration": 236,
    "start_time": "2021-08-28T07:55:24.685Z"
   },
   {
    "duration": 23,
    "start_time": "2021-08-28T07:56:34.600Z"
   },
   {
    "duration": 8,
    "start_time": "2021-08-28T08:25:39.670Z"
   },
   {
    "duration": 8,
    "start_time": "2021-08-28T08:26:15.008Z"
   },
   {
    "duration": 6,
    "start_time": "2021-08-28T08:26:26.368Z"
   },
   {
    "duration": 8,
    "start_time": "2021-08-28T08:26:30.347Z"
   },
   {
    "duration": 6,
    "start_time": "2021-08-28T08:26:56.300Z"
   },
   {
    "duration": 34,
    "start_time": "2021-08-28T08:27:00.370Z"
   },
   {
    "duration": 7,
    "start_time": "2021-08-28T08:27:15.881Z"
   },
   {
    "duration": 1401,
    "start_time": "2021-08-28T08:28:05.692Z"
   },
   {
    "duration": 131,
    "start_time": "2021-08-28T08:28:07.095Z"
   },
   {
    "duration": 24,
    "start_time": "2021-08-28T08:28:07.229Z"
   },
   {
    "duration": 33,
    "start_time": "2021-08-28T08:28:07.256Z"
   },
   {
    "duration": 3414,
    "start_time": "2021-08-28T08:28:07.292Z"
   },
   {
    "duration": 21,
    "start_time": "2021-08-28T08:28:10.708Z"
   },
   {
    "duration": 8,
    "start_time": "2021-08-28T08:28:10.731Z"
   },
   {
    "duration": 38,
    "start_time": "2021-08-28T08:28:12.455Z"
   },
   {
    "duration": 7,
    "start_time": "2021-08-28T08:28:15.440Z"
   },
   {
    "duration": 7,
    "start_time": "2021-08-28T08:28:25.462Z"
   },
   {
    "duration": 4,
    "start_time": "2021-08-28T08:28:56.729Z"
   },
   {
    "duration": 4,
    "start_time": "2021-08-28T08:29:55.199Z"
   },
   {
    "duration": 4,
    "start_time": "2021-08-28T08:30:18.182Z"
   },
   {
    "duration": 5,
    "start_time": "2021-08-28T08:30:26.683Z"
   },
   {
    "duration": 409,
    "start_time": "2021-08-28T08:30:30.597Z"
   },
   {
    "duration": 4,
    "start_time": "2021-08-28T08:30:34.286Z"
   },
   {
    "duration": 4,
    "start_time": "2021-08-28T08:30:41.484Z"
   },
   {
    "duration": 4,
    "start_time": "2021-08-28T08:30:51.070Z"
   },
   {
    "duration": 23,
    "start_time": "2021-08-28T08:33:37.818Z"
   },
   {
    "duration": 76,
    "start_time": "2021-08-28T08:33:42.157Z"
   },
   {
    "duration": 36,
    "start_time": "2021-08-28T08:35:17.530Z"
   },
   {
    "duration": 24,
    "start_time": "2021-08-28T08:35:21.340Z"
   },
   {
    "duration": 24,
    "start_time": "2021-08-28T08:35:24.549Z"
   },
   {
    "duration": 25,
    "start_time": "2021-08-28T08:35:33.260Z"
   },
   {
    "duration": 76,
    "start_time": "2021-08-28T08:38:16.628Z"
   },
   {
    "duration": 75,
    "start_time": "2021-08-28T08:39:00.349Z"
   },
   {
    "duration": 61,
    "start_time": "2021-08-28T08:39:11.532Z"
   },
   {
    "duration": 18,
    "start_time": "2021-08-28T08:42:47.393Z"
   },
   {
    "duration": 20,
    "start_time": "2021-08-28T08:45:02.331Z"
   },
   {
    "duration": 21,
    "start_time": "2021-08-28T08:47:42.474Z"
   },
   {
    "duration": 332,
    "start_time": "2021-08-28T08:48:37.994Z"
   },
   {
    "duration": 319,
    "start_time": "2021-08-28T08:48:43.560Z"
   },
   {
    "duration": 4,
    "start_time": "2021-08-28T08:48:54.632Z"
   },
   {
    "duration": 1284,
    "start_time": "2021-08-28T08:49:00.334Z"
   },
   {
    "duration": 19,
    "start_time": "2021-08-28T08:49:55.619Z"
   },
   {
    "duration": 316,
    "start_time": "2021-08-28T08:51:10.603Z"
   },
   {
    "duration": 334,
    "start_time": "2021-08-28T08:51:27.312Z"
   },
   {
    "duration": 24,
    "start_time": "2021-08-28T08:51:36.696Z"
   },
   {
    "duration": 24,
    "start_time": "2021-08-28T08:52:13.979Z"
   },
   {
    "duration": 611,
    "start_time": "2021-08-28T08:53:00.547Z"
   },
   {
    "duration": 33,
    "start_time": "2021-08-28T08:53:05.879Z"
   },
   {
    "duration": 845,
    "start_time": "2021-08-28T08:53:26.342Z"
   },
   {
    "duration": 20,
    "start_time": "2021-08-28T08:53:38.994Z"
   },
   {
    "duration": 21,
    "start_time": "2021-08-28T08:53:49.382Z"
   },
   {
    "duration": 28,
    "start_time": "2021-08-28T08:57:09.065Z"
   },
   {
    "duration": 18,
    "start_time": "2021-08-28T08:57:18.997Z"
   },
   {
    "duration": 244,
    "start_time": "2021-08-28T08:58:16.785Z"
   },
   {
    "duration": 245,
    "start_time": "2021-08-28T08:58:23.883Z"
   },
   {
    "duration": 20,
    "start_time": "2021-08-28T08:58:41.999Z"
   },
   {
    "duration": 29,
    "start_time": "2021-08-28T08:58:52.124Z"
   },
   {
    "duration": 18,
    "start_time": "2021-08-28T08:59:02.969Z"
   },
   {
    "duration": 29,
    "start_time": "2021-08-28T08:59:15.973Z"
   },
   {
    "duration": 17,
    "start_time": "2021-08-28T08:59:22.738Z"
   },
   {
    "duration": 18,
    "start_time": "2021-08-28T08:59:28.355Z"
   },
   {
    "duration": 19,
    "start_time": "2021-08-28T08:59:53.611Z"
   },
   {
    "duration": 308,
    "start_time": "2021-08-28T09:01:07.175Z"
   },
   {
    "duration": 298,
    "start_time": "2021-08-28T09:01:15.472Z"
   },
   {
    "duration": 24,
    "start_time": "2021-08-28T09:01:38.859Z"
   },
   {
    "duration": 1401,
    "start_time": "2021-08-28T09:02:04.030Z"
   },
   {
    "duration": 126,
    "start_time": "2021-08-28T09:02:05.434Z"
   },
   {
    "duration": 40,
    "start_time": "2021-08-28T09:02:05.563Z"
   },
   {
    "duration": 10,
    "start_time": "2021-08-28T09:02:05.606Z"
   },
   {
    "duration": 4607,
    "start_time": "2021-08-28T09:02:05.619Z"
   },
   {
    "duration": 33,
    "start_time": "2021-08-28T09:02:10.230Z"
   },
   {
    "duration": 10,
    "start_time": "2021-08-28T09:02:10.282Z"
   },
   {
    "duration": 36,
    "start_time": "2021-08-28T09:02:10.296Z"
   },
   {
    "duration": 6,
    "start_time": "2021-08-28T09:02:10.334Z"
   },
   {
    "duration": 5,
    "start_time": "2021-08-28T09:02:10.384Z"
   },
   {
    "duration": 52,
    "start_time": "2021-08-28T09:02:10.391Z"
   },
   {
    "duration": 58,
    "start_time": "2021-08-28T09:02:10.446Z"
   },
   {
    "duration": 89,
    "start_time": "2021-08-28T09:02:10.506Z"
   },
   {
    "duration": 5657,
    "start_time": "2021-08-28T09:02:10.597Z"
   },
   {
    "duration": 39,
    "start_time": "2021-08-28T09:02:16.257Z"
   },
   {
    "duration": 18,
    "start_time": "2021-08-28T09:02:16.298Z"
   },
   {
    "duration": 18,
    "start_time": "2021-08-28T09:02:16.318Z"
   },
   {
    "duration": 34,
    "start_time": "2021-08-28T09:02:20.016Z"
   },
   {
    "duration": 26,
    "start_time": "2021-08-28T09:02:32.679Z"
   },
   {
    "duration": 21,
    "start_time": "2021-08-28T09:05:29.360Z"
   },
   {
    "duration": 1410,
    "start_time": "2021-08-28T09:12:27.353Z"
   },
   {
    "duration": 130,
    "start_time": "2021-08-28T09:12:28.786Z"
   },
   {
    "duration": 26,
    "start_time": "2021-08-28T09:12:32.310Z"
   },
   {
    "duration": 13,
    "start_time": "2021-08-28T09:12:33.068Z"
   },
   {
    "duration": 3360,
    "start_time": "2021-08-28T09:12:33.798Z"
   },
   {
    "duration": 1212,
    "start_time": "2021-08-28T09:14:33.942Z"
   },
   {
    "duration": 395,
    "start_time": "2021-08-28T09:21:41.050Z"
   },
   {
    "duration": 25,
    "start_time": "2021-08-28T09:21:52.252Z"
   },
   {
    "duration": 14,
    "start_time": "2021-08-28T09:21:56.847Z"
   },
   {
    "duration": 979,
    "start_time": "2021-08-28T09:22:00.340Z"
   },
   {
    "duration": 1349,
    "start_time": "2021-08-28T09:22:14.947Z"
   },
   {
    "duration": 128,
    "start_time": "2021-08-28T09:22:16.299Z"
   },
   {
    "duration": 23,
    "start_time": "2021-08-28T09:22:16.430Z"
   },
   {
    "duration": 6739,
    "start_time": "2021-08-28T09:22:17.493Z"
   },
   {
    "duration": 1069,
    "start_time": "2021-08-28T09:22:24.234Z"
   },
   {
    "duration": 8,
    "start_time": "2021-08-28T09:22:38.486Z"
   },
   {
    "duration": 566,
    "start_time": "2021-08-28T09:22:40.309Z"
   },
   {
    "duration": 570,
    "start_time": "2021-08-28T09:24:03.634Z"
   },
   {
    "duration": 1329,
    "start_time": "2021-08-28T09:25:18.701Z"
   },
   {
    "duration": 132,
    "start_time": "2021-08-28T09:25:20.033Z"
   },
   {
    "duration": 25,
    "start_time": "2021-08-28T09:25:20.924Z"
   },
   {
    "duration": 12,
    "start_time": "2021-08-28T09:25:21.934Z"
   },
   {
    "duration": 3340,
    "start_time": "2021-08-28T09:25:22.693Z"
   },
   {
    "duration": 1041,
    "start_time": "2021-08-28T09:25:26.036Z"
   },
   {
    "duration": 536,
    "start_time": "2021-08-28T09:25:33.460Z"
   },
   {
    "duration": 21,
    "start_time": "2021-08-28T09:25:44.425Z"
   },
   {
    "duration": 8,
    "start_time": "2021-08-28T09:26:02.744Z"
   },
   {
    "duration": 33,
    "start_time": "2021-08-28T09:26:03.655Z"
   },
   {
    "duration": 6,
    "start_time": "2021-08-28T09:26:05.622Z"
   },
   {
    "duration": 5,
    "start_time": "2021-08-28T09:26:07.681Z"
   },
   {
    "duration": 29,
    "start_time": "2021-08-28T09:26:22.135Z"
   },
   {
    "duration": 20,
    "start_time": "2021-08-28T09:26:23.731Z"
   },
   {
    "duration": 55,
    "start_time": "2021-08-28T09:26:24.115Z"
   },
   {
    "duration": 4105,
    "start_time": "2021-08-28T09:27:49.681Z"
   },
   {
    "duration": 22,
    "start_time": "2021-08-28T09:27:53.789Z"
   },
   {
    "duration": 21,
    "start_time": "2021-08-28T09:27:57.439Z"
   },
   {
    "duration": 18,
    "start_time": "2021-08-28T09:27:58.509Z"
   },
   {
    "duration": 19,
    "start_time": "2021-08-28T09:28:07.327Z"
   }
  ],
  "kernelspec": {
   "display_name": "Python 3",
   "language": "python",
   "name": "python3"
  },
  "language_info": {
   "codemirror_mode": {
    "name": "ipython",
    "version": 3
   },
   "file_extension": ".py",
   "mimetype": "text/x-python",
   "name": "python",
   "nbconvert_exporter": "python",
   "pygments_lexer": "ipython3",
   "version": "3.8.5"
  },
  "toc": {
   "base_numbering": 1,
   "nav_menu": {},
   "number_sections": true,
   "sideBar": true,
   "skip_h1_title": true,
   "title_cell": "Table of Contents",
   "title_sidebar": "Contents",
   "toc_cell": false,
   "toc_position": {},
   "toc_section_display": true,
   "toc_window_display": false
  }
 },
 "nbformat": 4,
 "nbformat_minor": 2
}
