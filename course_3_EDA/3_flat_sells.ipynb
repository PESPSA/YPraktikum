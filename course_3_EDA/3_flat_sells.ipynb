{
 "cells": [
  {
   "cell_type": "markdown",
   "metadata": {
    "toc": true
   },
   "source": [
    "<h1>Содержание<span class=\"tocSkip\"></span></h1>\n",
    "<div class=\"toc\"><ul class=\"toc-item\"><li><span><a href=\"#Описание-проекта\" data-toc-modified-id=\"Описание-проекта-1\"><span class=\"toc-item-num\">1&nbsp;&nbsp;</span>Описание проекта</a></span></li><li><span><a href=\"#План-работы\" data-toc-modified-id=\"План-работы-2\"><span class=\"toc-item-num\">2&nbsp;&nbsp;</span>План работы</a></span></li><li><span><a href=\"#Результат-работы\" data-toc-modified-id=\"Результат-работы-3\"><span class=\"toc-item-num\">3&nbsp;&nbsp;</span>Результат работы</a></span></li><li><span><a href=\"#Открытие-и-изучение-данных\" data-toc-modified-id=\"Открытие-и-изучение-данных-4\"><span class=\"toc-item-num\">4&nbsp;&nbsp;</span>Открытие и изучение данных</a></span><ul class=\"toc-item\"><li><span><a href=\"#Вывод\" data-toc-modified-id=\"Вывод-4.1\"><span class=\"toc-item-num\">4.1&nbsp;&nbsp;</span>Вывод</a></span></li></ul></li><li><span><a href=\"#Предобработка-данных.-Преобразование-типов-данных-и-заполнение-пропущенных-значений\" data-toc-modified-id=\"Предобработка-данных.-Преобразование-типов-данных-и-заполнение-пропущенных-значений-5\"><span class=\"toc-item-num\">5&nbsp;&nbsp;</span>Предобработка данных. Преобразование типов данных и заполнение пропущенных значений</a></span><ul class=\"toc-item\"><li><span><a href=\"#Вывод\" data-toc-modified-id=\"Вывод-5.1\"><span class=\"toc-item-num\">5.1&nbsp;&nbsp;</span>Вывод</a></span></li></ul></li><li><span><a href=\"#Расчёты-и-добавление-результатов-в-таблицу\" data-toc-modified-id=\"Расчёты-и-добавление-результатов-в-таблицу-6\"><span class=\"toc-item-num\">6&nbsp;&nbsp;</span>Расчёты и добавление результатов в таблицу</a></span><ul class=\"toc-item\"><li><span><a href=\"#Вывод\" data-toc-modified-id=\"Вывод-6.1\"><span class=\"toc-item-num\">6.1&nbsp;&nbsp;</span>Вывод</a></span></li></ul></li><li><span><a href=\"#Исследовательский-анализ-данных\" data-toc-modified-id=\"Исследовательский-анализ-данных-7\"><span class=\"toc-item-num\">7&nbsp;&nbsp;</span>Исследовательский анализ данных</a></span><ul class=\"toc-item\"><li><span><a href=\"#Изучение-параметров-квартиры\" data-toc-modified-id=\"Изучение-параметров-квартиры-7.1\"><span class=\"toc-item-num\">7.1&nbsp;&nbsp;</span>Изучение параметров квартиры</a></span><ul class=\"toc-item\"><li><span><a href=\"#Вывод\" data-toc-modified-id=\"Вывод-7.1.1\"><span class=\"toc-item-num\">7.1.1&nbsp;&nbsp;</span>Вывод</a></span></li></ul></li><li><span><a href=\"#Изучение-времени-продажи-квартиры\" data-toc-modified-id=\"Изучение-времени-продажи-квартиры-7.2\"><span class=\"toc-item-num\">7.2&nbsp;&nbsp;</span>Изучение времени продажи квартиры</a></span><ul class=\"toc-item\"><li><span><a href=\"#Вывод\" data-toc-modified-id=\"Вывод-7.2.1\"><span class=\"toc-item-num\">7.2.1&nbsp;&nbsp;</span>Вывод</a></span></li></ul></li><li><span><a href=\"#Удаление-выбросов-и-редких-значений-из-датасета\" data-toc-modified-id=\"Удаление-выбросов-и-редких-значений-из-датасета-7.3\"><span class=\"toc-item-num\">7.3&nbsp;&nbsp;</span>Удаление выбросов и редких значений из датасета</a></span><ul class=\"toc-item\"><li><span><a href=\"#Вывод\" data-toc-modified-id=\"Вывод-7.3.1\"><span class=\"toc-item-num\">7.3.1&nbsp;&nbsp;</span>Вывод</a></span></li></ul></li><li><span><a href=\"#Выявление-факторов,-влияющих-на-стоимость-квартиры\" data-toc-modified-id=\"Выявление-факторов,-влияющих-на-стоимость-квартиры-7.4\"><span class=\"toc-item-num\">7.4&nbsp;&nbsp;</span>Выявление факторов, влияющих на стоимость квартиры</a></span><ul class=\"toc-item\"><li><span><a href=\"#Вывод\" data-toc-modified-id=\"Вывод-7.4.1\"><span class=\"toc-item-num\">7.4.1&nbsp;&nbsp;</span>Вывод</a></span></li></ul></li><li><span><a href=\"#Оценка-стоимости-жилья-в-разных-населенных-пунктах\" data-toc-modified-id=\"Оценка-стоимости-жилья-в-разных-населенных-пунктах-7.5\"><span class=\"toc-item-num\">7.5&nbsp;&nbsp;</span>Оценка стоимости жилья в разных населенных пунктах</a></span><ul class=\"toc-item\"><li><span><a href=\"#Вывод\" data-toc-modified-id=\"Вывод-7.5.1\"><span class=\"toc-item-num\">7.5.1&nbsp;&nbsp;</span>Вывод</a></span></li></ul></li><li><span><a href=\"#Изучение-предложения-квартир-в-зависимости-от-расстояния-до-центра\" data-toc-modified-id=\"Изучение-предложения-квартир-в-зависимости-от-расстояния-до-центра-7.6\"><span class=\"toc-item-num\">7.6&nbsp;&nbsp;</span>Изучение предложения квартир в зависимости от расстояния до центра</a></span><ul class=\"toc-item\"><li><span><a href=\"#Вывод\" data-toc-modified-id=\"Вывод-7.6.1\"><span class=\"toc-item-num\">7.6.1&nbsp;&nbsp;</span>Вывод</a></span></li></ul></li><li><span><a href=\"#Анализ-квартир-в-центре\" data-toc-modified-id=\"Анализ-квартир-в-центре-7.7\"><span class=\"toc-item-num\">7.7&nbsp;&nbsp;</span>Анализ квартир в центре</a></span><ul class=\"toc-item\"><li><span><a href=\"#Вывод\" data-toc-modified-id=\"Вывод-7.7.1\"><span class=\"toc-item-num\">7.7.1&nbsp;&nbsp;</span>Вывод</a></span></li></ul></li><li><span><a href=\"#Вывод-по-разделу\" data-toc-modified-id=\"Вывод-по-разделу-7.8\"><span class=\"toc-item-num\">7.8&nbsp;&nbsp;</span>Вывод по разделу</a></span></li></ul></li><li><span><a href=\"#Общий-вывод\" data-toc-modified-id=\"Общий-вывод-8\"><span class=\"toc-item-num\">8&nbsp;&nbsp;</span>Общий вывод</a></span></li></ul></div>"
   ]
  },
  {
   "cell_type": "markdown",
   "metadata": {},
   "source": [
    "# Исследование объявлений о продаже квартир\n",
    "\n",
    "## Описание проекта\n",
    "Есть данные сервиса Яндекс.Недвижимость — архив объявлений о продаже квартир в Санкт-Петербурге и соседних населённых пунктах за несколько лет. Нужно научиться определять рыночную стоимость объектов недвижимости. Ваша задача — установить параметры. Это позволит построить автоматизированную систему: она отследит аномалии и мошенническую деятельность. \n",
    "\n",
    "По каждой квартире на продажу доступны два вида данных. Первые вписаны пользователем, вторые получены автоматически на основе картографических данных. Например, расстояние до центра, аэропорта, ближайшего парка и водоёма. \n",
    "\n",
    "## План работы\n",
    "Для достижения желаемого результата требуется открыть файл с данными и изучить информацию в нем, далее провести работу над предобработкой данных и добавить вспомогательные столбцы, и наконец провести исследовательский анализ, а именно:\n",
    "- Изучить такие параметры как: площадь, цена, число комнат, высота потолков, построив гистограмму по каждому из параметров.\n",
    "- Изучите время продажи квартиры и построить гистограмму.\n",
    "- Убрать редкие и повторяющиеся значения, а также выбросы.\n",
    "- Исследовать какие факторы больше всего влияют на стоимость квартиры.\n",
    "- Изучить стоимость жилья в 10 населенных пунктах с наибольшим числом обьявлений.\n",
    "- Определить в каком диапазоне считается, что квартира находится в центре СпБ исходя из скачка цены.\n",
    "- Проанализировать квартиры в центре СпБ и изучить факторы влияющие на их цену\n",
    "\n",
    "## Результат работы\n",
    "Результатом работы является итог подведенный в ходе исследовательского анализа, а также подробная выкладка по нему."
   ]
  },
  {
   "cell_type": "markdown",
   "metadata": {},
   "source": [
    "## Открытие и изучение данных"
   ]
  },
  {
   "cell_type": "code",
   "execution_count": 64,
   "metadata": {},
   "outputs": [],
   "source": [
    "#импортируем необходимые библиотеки\n",
    "import pandas as pd\n",
    "import seaborn as sns\n",
    "import matplotlib.pyplot as plt\n",
    "#Опция для того чтобы видеть все колонки\n",
    "pd.set_option('display.max_columns', None)"
   ]
  },
  {
   "cell_type": "code",
   "execution_count": 65,
   "metadata": {},
   "outputs": [
    {
     "data": {
      "text/html": [
       "<div>\n",
       "<style scoped>\n",
       "    .dataframe tbody tr th:only-of-type {\n",
       "        vertical-align: middle;\n",
       "    }\n",
       "\n",
       "    .dataframe tbody tr th {\n",
       "        vertical-align: top;\n",
       "    }\n",
       "\n",
       "    .dataframe thead th {\n",
       "        text-align: right;\n",
       "    }\n",
       "</style>\n",
       "<table border=\"1\" class=\"dataframe\">\n",
       "  <thead>\n",
       "    <tr style=\"text-align: right;\">\n",
       "      <th></th>\n",
       "      <th>total_images</th>\n",
       "      <th>last_price</th>\n",
       "      <th>total_area</th>\n",
       "      <th>rooms</th>\n",
       "      <th>ceiling_height</th>\n",
       "      <th>floors_total</th>\n",
       "      <th>living_area</th>\n",
       "      <th>floor</th>\n",
       "      <th>kitchen_area</th>\n",
       "      <th>balcony</th>\n",
       "      <th>airports_nearest</th>\n",
       "      <th>cityCenters_nearest</th>\n",
       "      <th>parks_around3000</th>\n",
       "      <th>parks_nearest</th>\n",
       "      <th>ponds_around3000</th>\n",
       "      <th>ponds_nearest</th>\n",
       "      <th>days_exposition</th>\n",
       "    </tr>\n",
       "  </thead>\n",
       "  <tbody>\n",
       "    <tr>\n",
       "      <td>count</td>\n",
       "      <td>23699.000000</td>\n",
       "      <td>2.369900e+04</td>\n",
       "      <td>23699.000000</td>\n",
       "      <td>23699.000000</td>\n",
       "      <td>14504.000000</td>\n",
       "      <td>23613.000000</td>\n",
       "      <td>21796.000000</td>\n",
       "      <td>23699.000000</td>\n",
       "      <td>21421.000000</td>\n",
       "      <td>12180.000000</td>\n",
       "      <td>18157.000000</td>\n",
       "      <td>18180.000000</td>\n",
       "      <td>18181.000000</td>\n",
       "      <td>8079.000000</td>\n",
       "      <td>18181.000000</td>\n",
       "      <td>9110.000000</td>\n",
       "      <td>20518.000000</td>\n",
       "    </tr>\n",
       "    <tr>\n",
       "      <td>mean</td>\n",
       "      <td>9.858475</td>\n",
       "      <td>6.541549e+06</td>\n",
       "      <td>60.348651</td>\n",
       "      <td>2.070636</td>\n",
       "      <td>2.771499</td>\n",
       "      <td>10.673824</td>\n",
       "      <td>34.457852</td>\n",
       "      <td>5.892358</td>\n",
       "      <td>10.569807</td>\n",
       "      <td>1.150082</td>\n",
       "      <td>28793.672193</td>\n",
       "      <td>14191.277833</td>\n",
       "      <td>0.611408</td>\n",
       "      <td>490.804555</td>\n",
       "      <td>0.770255</td>\n",
       "      <td>517.980900</td>\n",
       "      <td>180.888634</td>\n",
       "    </tr>\n",
       "    <tr>\n",
       "      <td>std</td>\n",
       "      <td>5.682529</td>\n",
       "      <td>1.088701e+07</td>\n",
       "      <td>35.654083</td>\n",
       "      <td>1.078405</td>\n",
       "      <td>1.261056</td>\n",
       "      <td>6.597173</td>\n",
       "      <td>22.030445</td>\n",
       "      <td>4.885249</td>\n",
       "      <td>5.905438</td>\n",
       "      <td>1.071300</td>\n",
       "      <td>12630.880622</td>\n",
       "      <td>8608.386210</td>\n",
       "      <td>0.802074</td>\n",
       "      <td>342.317995</td>\n",
       "      <td>0.938346</td>\n",
       "      <td>277.720643</td>\n",
       "      <td>219.727988</td>\n",
       "    </tr>\n",
       "    <tr>\n",
       "      <td>min</td>\n",
       "      <td>0.000000</td>\n",
       "      <td>1.219000e+04</td>\n",
       "      <td>12.000000</td>\n",
       "      <td>0.000000</td>\n",
       "      <td>1.000000</td>\n",
       "      <td>1.000000</td>\n",
       "      <td>2.000000</td>\n",
       "      <td>1.000000</td>\n",
       "      <td>1.300000</td>\n",
       "      <td>0.000000</td>\n",
       "      <td>0.000000</td>\n",
       "      <td>181.000000</td>\n",
       "      <td>0.000000</td>\n",
       "      <td>1.000000</td>\n",
       "      <td>0.000000</td>\n",
       "      <td>13.000000</td>\n",
       "      <td>1.000000</td>\n",
       "    </tr>\n",
       "    <tr>\n",
       "      <td>25%</td>\n",
       "      <td>6.000000</td>\n",
       "      <td>3.400000e+06</td>\n",
       "      <td>40.000000</td>\n",
       "      <td>1.000000</td>\n",
       "      <td>2.520000</td>\n",
       "      <td>5.000000</td>\n",
       "      <td>18.600000</td>\n",
       "      <td>2.000000</td>\n",
       "      <td>7.000000</td>\n",
       "      <td>0.000000</td>\n",
       "      <td>18585.000000</td>\n",
       "      <td>9238.000000</td>\n",
       "      <td>0.000000</td>\n",
       "      <td>288.000000</td>\n",
       "      <td>0.000000</td>\n",
       "      <td>294.000000</td>\n",
       "      <td>45.000000</td>\n",
       "    </tr>\n",
       "    <tr>\n",
       "      <td>50%</td>\n",
       "      <td>9.000000</td>\n",
       "      <td>4.650000e+06</td>\n",
       "      <td>52.000000</td>\n",
       "      <td>2.000000</td>\n",
       "      <td>2.650000</td>\n",
       "      <td>9.000000</td>\n",
       "      <td>30.000000</td>\n",
       "      <td>4.000000</td>\n",
       "      <td>9.100000</td>\n",
       "      <td>1.000000</td>\n",
       "      <td>26726.000000</td>\n",
       "      <td>13098.500000</td>\n",
       "      <td>0.000000</td>\n",
       "      <td>455.000000</td>\n",
       "      <td>1.000000</td>\n",
       "      <td>502.000000</td>\n",
       "      <td>95.000000</td>\n",
       "    </tr>\n",
       "    <tr>\n",
       "      <td>75%</td>\n",
       "      <td>14.000000</td>\n",
       "      <td>6.800000e+06</td>\n",
       "      <td>69.900000</td>\n",
       "      <td>3.000000</td>\n",
       "      <td>2.800000</td>\n",
       "      <td>16.000000</td>\n",
       "      <td>42.300000</td>\n",
       "      <td>8.000000</td>\n",
       "      <td>12.000000</td>\n",
       "      <td>2.000000</td>\n",
       "      <td>37273.000000</td>\n",
       "      <td>16293.000000</td>\n",
       "      <td>1.000000</td>\n",
       "      <td>612.000000</td>\n",
       "      <td>1.000000</td>\n",
       "      <td>729.000000</td>\n",
       "      <td>232.000000</td>\n",
       "    </tr>\n",
       "    <tr>\n",
       "      <td>max</td>\n",
       "      <td>50.000000</td>\n",
       "      <td>7.630000e+08</td>\n",
       "      <td>900.000000</td>\n",
       "      <td>19.000000</td>\n",
       "      <td>100.000000</td>\n",
       "      <td>60.000000</td>\n",
       "      <td>409.700000</td>\n",
       "      <td>33.000000</td>\n",
       "      <td>112.000000</td>\n",
       "      <td>5.000000</td>\n",
       "      <td>84869.000000</td>\n",
       "      <td>65968.000000</td>\n",
       "      <td>3.000000</td>\n",
       "      <td>3190.000000</td>\n",
       "      <td>3.000000</td>\n",
       "      <td>1344.000000</td>\n",
       "      <td>1580.000000</td>\n",
       "    </tr>\n",
       "  </tbody>\n",
       "</table>\n",
       "</div>"
      ],
      "text/plain": [
       "       total_images    last_price    total_area         rooms  ceiling_height  \\\n",
       "count  23699.000000  2.369900e+04  23699.000000  23699.000000    14504.000000   \n",
       "mean       9.858475  6.541549e+06     60.348651      2.070636        2.771499   \n",
       "std        5.682529  1.088701e+07     35.654083      1.078405        1.261056   \n",
       "min        0.000000  1.219000e+04     12.000000      0.000000        1.000000   \n",
       "25%        6.000000  3.400000e+06     40.000000      1.000000        2.520000   \n",
       "50%        9.000000  4.650000e+06     52.000000      2.000000        2.650000   \n",
       "75%       14.000000  6.800000e+06     69.900000      3.000000        2.800000   \n",
       "max       50.000000  7.630000e+08    900.000000     19.000000      100.000000   \n",
       "\n",
       "       floors_total   living_area         floor  kitchen_area       balcony  \\\n",
       "count  23613.000000  21796.000000  23699.000000  21421.000000  12180.000000   \n",
       "mean      10.673824     34.457852      5.892358     10.569807      1.150082   \n",
       "std        6.597173     22.030445      4.885249      5.905438      1.071300   \n",
       "min        1.000000      2.000000      1.000000      1.300000      0.000000   \n",
       "25%        5.000000     18.600000      2.000000      7.000000      0.000000   \n",
       "50%        9.000000     30.000000      4.000000      9.100000      1.000000   \n",
       "75%       16.000000     42.300000      8.000000     12.000000      2.000000   \n",
       "max       60.000000    409.700000     33.000000    112.000000      5.000000   \n",
       "\n",
       "       airports_nearest  cityCenters_nearest  parks_around3000  parks_nearest  \\\n",
       "count      18157.000000         18180.000000      18181.000000    8079.000000   \n",
       "mean       28793.672193         14191.277833          0.611408     490.804555   \n",
       "std        12630.880622          8608.386210          0.802074     342.317995   \n",
       "min            0.000000           181.000000          0.000000       1.000000   \n",
       "25%        18585.000000          9238.000000          0.000000     288.000000   \n",
       "50%        26726.000000         13098.500000          0.000000     455.000000   \n",
       "75%        37273.000000         16293.000000          1.000000     612.000000   \n",
       "max        84869.000000         65968.000000          3.000000    3190.000000   \n",
       "\n",
       "       ponds_around3000  ponds_nearest  days_exposition  \n",
       "count      18181.000000    9110.000000     20518.000000  \n",
       "mean           0.770255     517.980900       180.888634  \n",
       "std            0.938346     277.720643       219.727988  \n",
       "min            0.000000      13.000000         1.000000  \n",
       "25%            0.000000     294.000000        45.000000  \n",
       "50%            1.000000     502.000000        95.000000  \n",
       "75%            1.000000     729.000000       232.000000  \n",
       "max            3.000000    1344.000000      1580.000000  "
      ]
     },
     "metadata": {},
     "output_type": "display_data"
    },
    {
     "data": {
      "text/html": [
       "<div>\n",
       "<style scoped>\n",
       "    .dataframe tbody tr th:only-of-type {\n",
       "        vertical-align: middle;\n",
       "    }\n",
       "\n",
       "    .dataframe tbody tr th {\n",
       "        vertical-align: top;\n",
       "    }\n",
       "\n",
       "    .dataframe thead th {\n",
       "        text-align: right;\n",
       "    }\n",
       "</style>\n",
       "<table border=\"1\" class=\"dataframe\">\n",
       "  <thead>\n",
       "    <tr style=\"text-align: right;\">\n",
       "      <th></th>\n",
       "      <th>total_images</th>\n",
       "      <th>last_price</th>\n",
       "      <th>total_area</th>\n",
       "      <th>first_day_exposition</th>\n",
       "      <th>rooms</th>\n",
       "      <th>ceiling_height</th>\n",
       "      <th>floors_total</th>\n",
       "      <th>living_area</th>\n",
       "      <th>floor</th>\n",
       "      <th>is_apartment</th>\n",
       "      <th>studio</th>\n",
       "      <th>open_plan</th>\n",
       "      <th>kitchen_area</th>\n",
       "      <th>balcony</th>\n",
       "      <th>locality_name</th>\n",
       "      <th>airports_nearest</th>\n",
       "      <th>cityCenters_nearest</th>\n",
       "      <th>parks_around3000</th>\n",
       "      <th>parks_nearest</th>\n",
       "      <th>ponds_around3000</th>\n",
       "      <th>ponds_nearest</th>\n",
       "      <th>days_exposition</th>\n",
       "    </tr>\n",
       "  </thead>\n",
       "  <tbody>\n",
       "    <tr>\n",
       "      <td>0</td>\n",
       "      <td>20</td>\n",
       "      <td>13000000.0</td>\n",
       "      <td>108.0</td>\n",
       "      <td>2019-03-07T00:00:00</td>\n",
       "      <td>3</td>\n",
       "      <td>2.70</td>\n",
       "      <td>16.0</td>\n",
       "      <td>51.0</td>\n",
       "      <td>8</td>\n",
       "      <td>NaN</td>\n",
       "      <td>False</td>\n",
       "      <td>False</td>\n",
       "      <td>25.0</td>\n",
       "      <td>NaN</td>\n",
       "      <td>Санкт-Петербург</td>\n",
       "      <td>18863.0</td>\n",
       "      <td>16028.0</td>\n",
       "      <td>1.0</td>\n",
       "      <td>482.0</td>\n",
       "      <td>2.0</td>\n",
       "      <td>755.0</td>\n",
       "      <td>NaN</td>\n",
       "    </tr>\n",
       "    <tr>\n",
       "      <td>1</td>\n",
       "      <td>7</td>\n",
       "      <td>3350000.0</td>\n",
       "      <td>40.4</td>\n",
       "      <td>2018-12-04T00:00:00</td>\n",
       "      <td>1</td>\n",
       "      <td>NaN</td>\n",
       "      <td>11.0</td>\n",
       "      <td>18.6</td>\n",
       "      <td>1</td>\n",
       "      <td>NaN</td>\n",
       "      <td>False</td>\n",
       "      <td>False</td>\n",
       "      <td>11.0</td>\n",
       "      <td>2.0</td>\n",
       "      <td>посёлок Шушары</td>\n",
       "      <td>12817.0</td>\n",
       "      <td>18603.0</td>\n",
       "      <td>0.0</td>\n",
       "      <td>NaN</td>\n",
       "      <td>0.0</td>\n",
       "      <td>NaN</td>\n",
       "      <td>81.0</td>\n",
       "    </tr>\n",
       "    <tr>\n",
       "      <td>2</td>\n",
       "      <td>10</td>\n",
       "      <td>5196000.0</td>\n",
       "      <td>56.0</td>\n",
       "      <td>2015-08-20T00:00:00</td>\n",
       "      <td>2</td>\n",
       "      <td>NaN</td>\n",
       "      <td>5.0</td>\n",
       "      <td>34.3</td>\n",
       "      <td>4</td>\n",
       "      <td>NaN</td>\n",
       "      <td>False</td>\n",
       "      <td>False</td>\n",
       "      <td>8.3</td>\n",
       "      <td>0.0</td>\n",
       "      <td>Санкт-Петербург</td>\n",
       "      <td>21741.0</td>\n",
       "      <td>13933.0</td>\n",
       "      <td>1.0</td>\n",
       "      <td>90.0</td>\n",
       "      <td>2.0</td>\n",
       "      <td>574.0</td>\n",
       "      <td>558.0</td>\n",
       "    </tr>\n",
       "    <tr>\n",
       "      <td>3</td>\n",
       "      <td>0</td>\n",
       "      <td>64900000.0</td>\n",
       "      <td>159.0</td>\n",
       "      <td>2015-07-24T00:00:00</td>\n",
       "      <td>3</td>\n",
       "      <td>NaN</td>\n",
       "      <td>14.0</td>\n",
       "      <td>NaN</td>\n",
       "      <td>9</td>\n",
       "      <td>NaN</td>\n",
       "      <td>False</td>\n",
       "      <td>False</td>\n",
       "      <td>NaN</td>\n",
       "      <td>0.0</td>\n",
       "      <td>Санкт-Петербург</td>\n",
       "      <td>28098.0</td>\n",
       "      <td>6800.0</td>\n",
       "      <td>2.0</td>\n",
       "      <td>84.0</td>\n",
       "      <td>3.0</td>\n",
       "      <td>234.0</td>\n",
       "      <td>424.0</td>\n",
       "    </tr>\n",
       "    <tr>\n",
       "      <td>4</td>\n",
       "      <td>2</td>\n",
       "      <td>10000000.0</td>\n",
       "      <td>100.0</td>\n",
       "      <td>2018-06-19T00:00:00</td>\n",
       "      <td>2</td>\n",
       "      <td>3.03</td>\n",
       "      <td>14.0</td>\n",
       "      <td>32.0</td>\n",
       "      <td>13</td>\n",
       "      <td>NaN</td>\n",
       "      <td>False</td>\n",
       "      <td>False</td>\n",
       "      <td>41.0</td>\n",
       "      <td>NaN</td>\n",
       "      <td>Санкт-Петербург</td>\n",
       "      <td>31856.0</td>\n",
       "      <td>8098.0</td>\n",
       "      <td>2.0</td>\n",
       "      <td>112.0</td>\n",
       "      <td>1.0</td>\n",
       "      <td>48.0</td>\n",
       "      <td>121.0</td>\n",
       "    </tr>\n",
       "  </tbody>\n",
       "</table>\n",
       "</div>"
      ],
      "text/plain": [
       "   total_images  last_price  total_area first_day_exposition  rooms  \\\n",
       "0            20  13000000.0       108.0  2019-03-07T00:00:00      3   \n",
       "1             7   3350000.0        40.4  2018-12-04T00:00:00      1   \n",
       "2            10   5196000.0        56.0  2015-08-20T00:00:00      2   \n",
       "3             0  64900000.0       159.0  2015-07-24T00:00:00      3   \n",
       "4             2  10000000.0       100.0  2018-06-19T00:00:00      2   \n",
       "\n",
       "   ceiling_height  floors_total  living_area  floor is_apartment  studio  \\\n",
       "0            2.70          16.0         51.0      8          NaN   False   \n",
       "1             NaN          11.0         18.6      1          NaN   False   \n",
       "2             NaN           5.0         34.3      4          NaN   False   \n",
       "3             NaN          14.0          NaN      9          NaN   False   \n",
       "4            3.03          14.0         32.0     13          NaN   False   \n",
       "\n",
       "   open_plan  kitchen_area  balcony    locality_name  airports_nearest  \\\n",
       "0      False          25.0      NaN  Санкт-Петербург           18863.0   \n",
       "1      False          11.0      2.0   посёлок Шушары           12817.0   \n",
       "2      False           8.3      0.0  Санкт-Петербург           21741.0   \n",
       "3      False           NaN      0.0  Санкт-Петербург           28098.0   \n",
       "4      False          41.0      NaN  Санкт-Петербург           31856.0   \n",
       "\n",
       "   cityCenters_nearest  parks_around3000  parks_nearest  ponds_around3000  \\\n",
       "0              16028.0               1.0          482.0               2.0   \n",
       "1              18603.0               0.0            NaN               0.0   \n",
       "2              13933.0               1.0           90.0               2.0   \n",
       "3               6800.0               2.0           84.0               3.0   \n",
       "4               8098.0               2.0          112.0               1.0   \n",
       "\n",
       "   ponds_nearest  days_exposition  \n",
       "0          755.0              NaN  \n",
       "1            NaN             81.0  \n",
       "2          574.0            558.0  \n",
       "3          234.0            424.0  \n",
       "4           48.0            121.0  "
      ]
     },
     "metadata": {},
     "output_type": "display_data"
    },
    {
     "name": "stdout",
     "output_type": "stream",
     "text": [
      "<class 'pandas.core.frame.DataFrame'>\n",
      "RangeIndex: 23699 entries, 0 to 23698\n",
      "Data columns (total 22 columns):\n",
      "total_images            23699 non-null int64\n",
      "last_price              23699 non-null float64\n",
      "total_area              23699 non-null float64\n",
      "first_day_exposition    23699 non-null object\n",
      "rooms                   23699 non-null int64\n",
      "ceiling_height          14504 non-null float64\n",
      "floors_total            23613 non-null float64\n",
      "living_area             21796 non-null float64\n",
      "floor                   23699 non-null int64\n",
      "is_apartment            2775 non-null object\n",
      "studio                  23699 non-null bool\n",
      "open_plan               23699 non-null bool\n",
      "kitchen_area            21421 non-null float64\n",
      "balcony                 12180 non-null float64\n",
      "locality_name           23650 non-null object\n",
      "airports_nearest        18157 non-null float64\n",
      "cityCenters_nearest     18180 non-null float64\n",
      "parks_around3000        18181 non-null float64\n",
      "parks_nearest           8079 non-null float64\n",
      "ponds_around3000        18181 non-null float64\n",
      "ponds_nearest           9110 non-null float64\n",
      "days_exposition         20518 non-null float64\n",
      "dtypes: bool(2), float64(14), int64(3), object(3)\n",
      "memory usage: 3.7+ MB\n"
     ]
    }
   ],
   "source": [
    "#читаем файл и выводим первые 5 строк и общую информацию\n",
    "df = pd.read_csv('/datasets/real_estate_data.csv', sep='\\t')\n",
    "display(df.describe())\n",
    "display(df.head())\n",
    "df.info()"
   ]
  },
  {
   "cell_type": "markdown",
   "metadata": {},
   "source": [
    "### Вывод"
   ]
  },
  {
   "cell_type": "markdown",
   "metadata": {},
   "source": [
    "Где-то в половине столбцов содержатся пропущенные значения, которые подлежат обработке. Также можно заметить, что типы некоторых столбцов неверны. К примеру, `first_day_exposition` надо будет преобразовать к типу DateTime, `floors_total` и `balcony` надо сделать типа int т.к. кол-во этажей и балконов это целое число и `is_apartment` преобразовать к bool. Плюс, все столбцы с расстояниями до некоторых точек на первый взгляд содержат расстояния в целых числах и `days_exposition` в том числе. Метод describe() показал, что во многих столбцах очень много странных значений, как минимум в краевых значениях min и max."
   ]
  },
  {
   "cell_type": "markdown",
   "metadata": {},
   "source": [
    "## Предобработка данных. Преобразование типов данных и заполнение пропущенных значений"
   ]
  },
  {
   "cell_type": "code",
   "execution_count": 66,
   "metadata": {},
   "outputs": [],
   "source": [
    "#преобразование столбца first_day_exposition к типу datetime\n",
    "#remark: можно было по формату преобразовать к datetime, но по умолчанию преобразование отработало верно\n",
    "df['first_day_exposition'] = pd.to_datetime(df['first_day_exposition'])\n",
    "\n",
    "#balcony преобразуем к типу int предварительно заполнив полученные значения нулями\n",
    "df['balcony'] = df['balcony'].fillna(0).astype('int')"
   ]
  },
  {
   "cell_type": "code",
   "execution_count": 67,
   "metadata": {},
   "outputs": [],
   "source": [
    "#удалим строки с пропущенными значениями в floors_total т.к. их немного и преобразуем к int\n",
    "df = df.dropna(subset=['floors_total'])\n",
    "df['floors_total'] = df['floors_total'].astype('int')"
   ]
  },
  {
   "cell_type": "code",
   "execution_count": 68,
   "metadata": {},
   "outputs": [],
   "source": [
    "#заполним пропущенные значения в is_apartment False и преобразуем к типу bool\n",
    "df['is_apartment'] = df['is_apartment'].fillna(False).astype('bool')"
   ]
  },
  {
   "cell_type": "code",
   "execution_count": 69,
   "metadata": {},
   "outputs": [
    {
     "name": "stdout",
     "output_type": "stream",
     "text": [
      "<class 'pandas.core.frame.DataFrame'>\n",
      "Int64Index: 23613 entries, 0 to 23698\n",
      "Data columns (total 22 columns):\n",
      "total_images            23613 non-null int64\n",
      "last_price              23613 non-null float64\n",
      "total_area              23613 non-null float64\n",
      "first_day_exposition    23613 non-null datetime64[ns]\n",
      "rooms                   23613 non-null int64\n",
      "ceiling_height          14495 non-null float64\n",
      "floors_total            23613 non-null int64\n",
      "living_area             21743 non-null float64\n",
      "floor                   23613 non-null int64\n",
      "is_apartment            23613 non-null bool\n",
      "studio                  23613 non-null bool\n",
      "open_plan               23613 non-null bool\n",
      "kitchen_area            21382 non-null float64\n",
      "balcony                 23613 non-null int64\n",
      "locality_name           23565 non-null object\n",
      "airports_nearest        18081 non-null float64\n",
      "cityCenters_nearest     18104 non-null float64\n",
      "parks_around3000        18105 non-null float64\n",
      "parks_nearest           8045 non-null float64\n",
      "ponds_around3000        18105 non-null float64\n",
      "ponds_nearest           9061 non-null float64\n",
      "days_exposition         20441 non-null float64\n",
      "dtypes: bool(3), datetime64[ns](1), float64(12), int64(5), object(1)\n",
      "memory usage: 3.7+ MB\n"
     ]
    },
    {
     "data": {
      "text/plain": [
       "None"
      ]
     },
     "metadata": {},
     "output_type": "display_data"
    },
    {
     "data": {
      "text/html": [
       "<div>\n",
       "<style scoped>\n",
       "    .dataframe tbody tr th:only-of-type {\n",
       "        vertical-align: middle;\n",
       "    }\n",
       "\n",
       "    .dataframe tbody tr th {\n",
       "        vertical-align: top;\n",
       "    }\n",
       "\n",
       "    .dataframe thead th {\n",
       "        text-align: right;\n",
       "    }\n",
       "</style>\n",
       "<table border=\"1\" class=\"dataframe\">\n",
       "  <thead>\n",
       "    <tr style=\"text-align: right;\">\n",
       "      <th></th>\n",
       "      <th>total_images</th>\n",
       "      <th>last_price</th>\n",
       "      <th>total_area</th>\n",
       "      <th>first_day_exposition</th>\n",
       "      <th>rooms</th>\n",
       "      <th>ceiling_height</th>\n",
       "      <th>floors_total</th>\n",
       "      <th>living_area</th>\n",
       "      <th>floor</th>\n",
       "      <th>is_apartment</th>\n",
       "      <th>studio</th>\n",
       "      <th>open_plan</th>\n",
       "      <th>kitchen_area</th>\n",
       "      <th>balcony</th>\n",
       "      <th>locality_name</th>\n",
       "      <th>airports_nearest</th>\n",
       "      <th>cityCenters_nearest</th>\n",
       "      <th>parks_around3000</th>\n",
       "      <th>parks_nearest</th>\n",
       "      <th>ponds_around3000</th>\n",
       "      <th>ponds_nearest</th>\n",
       "      <th>days_exposition</th>\n",
       "    </tr>\n",
       "  </thead>\n",
       "  <tbody>\n",
       "    <tr>\n",
       "      <td>23694</td>\n",
       "      <td>9</td>\n",
       "      <td>9700000.0</td>\n",
       "      <td>133.81</td>\n",
       "      <td>2017-03-21</td>\n",
       "      <td>3</td>\n",
       "      <td>3.7</td>\n",
       "      <td>5</td>\n",
       "      <td>73.3</td>\n",
       "      <td>3</td>\n",
       "      <td>False</td>\n",
       "      <td>False</td>\n",
       "      <td>False</td>\n",
       "      <td>13.83</td>\n",
       "      <td>0</td>\n",
       "      <td>Санкт-Петербург</td>\n",
       "      <td>24665.0</td>\n",
       "      <td>4232.0</td>\n",
       "      <td>1.0</td>\n",
       "      <td>796.0</td>\n",
       "      <td>3.0</td>\n",
       "      <td>381.0</td>\n",
       "      <td>NaN</td>\n",
       "    </tr>\n",
       "    <tr>\n",
       "      <td>23695</td>\n",
       "      <td>14</td>\n",
       "      <td>3100000.0</td>\n",
       "      <td>59.00</td>\n",
       "      <td>2018-01-15</td>\n",
       "      <td>3</td>\n",
       "      <td>NaN</td>\n",
       "      <td>5</td>\n",
       "      <td>38.0</td>\n",
       "      <td>4</td>\n",
       "      <td>False</td>\n",
       "      <td>False</td>\n",
       "      <td>False</td>\n",
       "      <td>8.50</td>\n",
       "      <td>0</td>\n",
       "      <td>Тосно</td>\n",
       "      <td>NaN</td>\n",
       "      <td>NaN</td>\n",
       "      <td>NaN</td>\n",
       "      <td>NaN</td>\n",
       "      <td>NaN</td>\n",
       "      <td>NaN</td>\n",
       "      <td>45.0</td>\n",
       "    </tr>\n",
       "    <tr>\n",
       "      <td>23696</td>\n",
       "      <td>18</td>\n",
       "      <td>2500000.0</td>\n",
       "      <td>56.70</td>\n",
       "      <td>2018-02-11</td>\n",
       "      <td>2</td>\n",
       "      <td>NaN</td>\n",
       "      <td>3</td>\n",
       "      <td>29.7</td>\n",
       "      <td>1</td>\n",
       "      <td>False</td>\n",
       "      <td>False</td>\n",
       "      <td>False</td>\n",
       "      <td>NaN</td>\n",
       "      <td>0</td>\n",
       "      <td>село Рождествено</td>\n",
       "      <td>NaN</td>\n",
       "      <td>NaN</td>\n",
       "      <td>NaN</td>\n",
       "      <td>NaN</td>\n",
       "      <td>NaN</td>\n",
       "      <td>NaN</td>\n",
       "      <td>NaN</td>\n",
       "    </tr>\n",
       "    <tr>\n",
       "      <td>23697</td>\n",
       "      <td>13</td>\n",
       "      <td>11475000.0</td>\n",
       "      <td>76.75</td>\n",
       "      <td>2017-03-28</td>\n",
       "      <td>2</td>\n",
       "      <td>3.0</td>\n",
       "      <td>17</td>\n",
       "      <td>NaN</td>\n",
       "      <td>12</td>\n",
       "      <td>False</td>\n",
       "      <td>False</td>\n",
       "      <td>False</td>\n",
       "      <td>23.30</td>\n",
       "      <td>2</td>\n",
       "      <td>Санкт-Петербург</td>\n",
       "      <td>39140.0</td>\n",
       "      <td>10364.0</td>\n",
       "      <td>2.0</td>\n",
       "      <td>173.0</td>\n",
       "      <td>3.0</td>\n",
       "      <td>196.0</td>\n",
       "      <td>602.0</td>\n",
       "    </tr>\n",
       "    <tr>\n",
       "      <td>23698</td>\n",
       "      <td>4</td>\n",
       "      <td>1350000.0</td>\n",
       "      <td>32.30</td>\n",
       "      <td>2017-07-21</td>\n",
       "      <td>1</td>\n",
       "      <td>2.5</td>\n",
       "      <td>5</td>\n",
       "      <td>12.3</td>\n",
       "      <td>1</td>\n",
       "      <td>False</td>\n",
       "      <td>False</td>\n",
       "      <td>False</td>\n",
       "      <td>9.00</td>\n",
       "      <td>0</td>\n",
       "      <td>поселок Новый Учхоз</td>\n",
       "      <td>NaN</td>\n",
       "      <td>NaN</td>\n",
       "      <td>NaN</td>\n",
       "      <td>NaN</td>\n",
       "      <td>NaN</td>\n",
       "      <td>NaN</td>\n",
       "      <td>NaN</td>\n",
       "    </tr>\n",
       "  </tbody>\n",
       "</table>\n",
       "</div>"
      ],
      "text/plain": [
       "       total_images  last_price  total_area first_day_exposition  rooms  \\\n",
       "23694             9   9700000.0      133.81           2017-03-21      3   \n",
       "23695            14   3100000.0       59.00           2018-01-15      3   \n",
       "23696            18   2500000.0       56.70           2018-02-11      2   \n",
       "23697            13  11475000.0       76.75           2017-03-28      2   \n",
       "23698             4   1350000.0       32.30           2017-07-21      1   \n",
       "\n",
       "       ceiling_height  floors_total  living_area  floor  is_apartment  studio  \\\n",
       "23694             3.7             5         73.3      3         False   False   \n",
       "23695             NaN             5         38.0      4         False   False   \n",
       "23696             NaN             3         29.7      1         False   False   \n",
       "23697             3.0            17          NaN     12         False   False   \n",
       "23698             2.5             5         12.3      1         False   False   \n",
       "\n",
       "       open_plan  kitchen_area  balcony        locality_name  \\\n",
       "23694      False         13.83        0      Санкт-Петербург   \n",
       "23695      False          8.50        0                Тосно   \n",
       "23696      False           NaN        0     село Рождествено   \n",
       "23697      False         23.30        2      Санкт-Петербург   \n",
       "23698      False          9.00        0  поселок Новый Учхоз   \n",
       "\n",
       "       airports_nearest  cityCenters_nearest  parks_around3000  parks_nearest  \\\n",
       "23694           24665.0               4232.0               1.0          796.0   \n",
       "23695               NaN                  NaN               NaN            NaN   \n",
       "23696               NaN                  NaN               NaN            NaN   \n",
       "23697           39140.0              10364.0               2.0          173.0   \n",
       "23698               NaN                  NaN               NaN            NaN   \n",
       "\n",
       "       ponds_around3000  ponds_nearest  days_exposition  \n",
       "23694               3.0          381.0              NaN  \n",
       "23695               NaN            NaN             45.0  \n",
       "23696               NaN            NaN              NaN  \n",
       "23697               3.0          196.0            602.0  \n",
       "23698               NaN            NaN              NaN  "
      ]
     },
     "execution_count": 69,
     "metadata": {},
     "output_type": "execute_result"
    }
   ],
   "source": [
    "#проверим полученные результаты\n",
    "display(df.info())\n",
    "df.tail()"
   ]
  },
  {
   "cell_type": "markdown",
   "metadata": {},
   "source": [
    "### Вывод\n"
   ]
  },
  {
   "cell_type": "markdown",
   "metadata": {},
   "source": [
    "Преобразовал столбцы к нужным типам данных, а также заполнил пропущенные значения. Пропущенные значения в столбце `balcony` заполнил нулями т.к. при создании обьявления автор мог просто пропустить данное поле из-за отсутствия балкона в квартире. Аналогично пропущенные значения в столбце `is_apartment` были заменены на `False`. Количество этажей имело незначительное количество пропущенных значения и было принято решения избавиться от них. Также все столбцы содержащие информацию об окружающей инфраструктуре и расстояниях до них были заполнены средним, т.к. у того кто выставлял обьявление о продаже квартиры могло просто не быть желания считать все или некоторые расстояния и количество. "
   ]
  },
  {
   "cell_type": "markdown",
   "metadata": {},
   "source": [
    "## Расчёты и добавление результатов в таблицу"
   ]
  },
  {
   "cell_type": "code",
   "execution_count": 70,
   "metadata": {},
   "outputs": [],
   "source": [
    "#Функция для определения на каком этаже квартира\n",
    "def floor_type(row):\n",
    "    if row['floor'] == row['floors_total']:\n",
    "        return 'последний'\n",
    "    elif row['floor'] == 1:\n",
    "        return 'первый'\n",
    "    else:\n",
    "        return 'другой'\n",
    "    \n",
    "def weekday(row):\n",
    "    if row['pub_dayofweek'] == 0:\n",
    "        return 'понедельник'\n",
    "    elif row['pub_dayofweek'] == 1:\n",
    "        return 'вторник'\n",
    "    elif row['pub_dayofweek'] == 2:\n",
    "        return 'среда'\n",
    "    elif row['pub_dayofweek'] == 3:\n",
    "        return 'четверг'\n",
    "    elif row['pub_dayofweek'] == 4:\n",
    "        return 'пятница'\n",
    "    elif row['pub_dayofweek'] == 5:\n",
    "        return 'суббота'\n",
    "    else:\n",
    "        return 'воскресенье'"
   ]
  },
  {
   "cell_type": "code",
   "execution_count": 71,
   "metadata": {},
   "outputs": [],
   "source": [
    "#цена квадратного метра\n",
    "df['m2_price'] = df['last_price'] / df['total_area']\n",
    "#день недели, месяц и год публикации объявления\n",
    "df['pub_dayofweek'] = df['first_day_exposition'].dt.dayofweek\n",
    "df['pub_dayofweek'] = df.apply(weekday, axis=1)\n",
    "df['pub_month'] = df['first_day_exposition'].dt.month\n",
    "df['pub_year'] = df['first_day_exposition'].dt.year\n",
    "#этаж квартиры; варианты — первый, последний, другой\n",
    "df['floor_type'] = df.apply(floor_type, axis=1)\n",
    "#соотношение жилой и общей площади, а также отношение площади кухни к общей\n",
    "df['living_to_total'] = df['living_area'] / df['total_area']\n",
    "df['kitchen_to_total'] = df['kitchen_area'] / df['total_area']"
   ]
  },
  {
   "cell_type": "code",
   "execution_count": 72,
   "metadata": {
    "scrolled": true
   },
   "outputs": [
    {
     "name": "stdout",
     "output_type": "stream",
     "text": [
      "<class 'pandas.core.frame.DataFrame'>\n",
      "Int64Index: 23613 entries, 0 to 23698\n",
      "Data columns (total 29 columns):\n",
      "total_images            23613 non-null int64\n",
      "last_price              23613 non-null float64\n",
      "total_area              23613 non-null float64\n",
      "first_day_exposition    23613 non-null datetime64[ns]\n",
      "rooms                   23613 non-null int64\n",
      "ceiling_height          14495 non-null float64\n",
      "floors_total            23613 non-null int64\n",
      "living_area             21743 non-null float64\n",
      "floor                   23613 non-null int64\n",
      "is_apartment            23613 non-null bool\n",
      "studio                  23613 non-null bool\n",
      "open_plan               23613 non-null bool\n",
      "kitchen_area            21382 non-null float64\n",
      "balcony                 23613 non-null int64\n",
      "locality_name           23565 non-null object\n",
      "airports_nearest        18081 non-null float64\n",
      "cityCenters_nearest     18104 non-null float64\n",
      "parks_around3000        18105 non-null float64\n",
      "parks_nearest           8045 non-null float64\n",
      "ponds_around3000        18105 non-null float64\n",
      "ponds_nearest           9061 non-null float64\n",
      "days_exposition         20441 non-null float64\n",
      "m2_price                23613 non-null float64\n",
      "pub_dayofweek           23613 non-null object\n",
      "pub_month               23613 non-null int64\n",
      "pub_year                23613 non-null int64\n",
      "floor_type              23613 non-null object\n",
      "living_to_total         21743 non-null float64\n",
      "kitchen_to_total        21382 non-null float64\n",
      "dtypes: bool(3), datetime64[ns](1), float64(15), int64(7), object(3)\n",
      "memory usage: 4.9+ MB\n"
     ]
    },
    {
     "data": {
      "text/plain": [
       "None"
      ]
     },
     "metadata": {},
     "output_type": "display_data"
    },
    {
     "data": {
      "text/html": [
       "<div>\n",
       "<style scoped>\n",
       "    .dataframe tbody tr th:only-of-type {\n",
       "        vertical-align: middle;\n",
       "    }\n",
       "\n",
       "    .dataframe tbody tr th {\n",
       "        vertical-align: top;\n",
       "    }\n",
       "\n",
       "    .dataframe thead th {\n",
       "        text-align: right;\n",
       "    }\n",
       "</style>\n",
       "<table border=\"1\" class=\"dataframe\">\n",
       "  <thead>\n",
       "    <tr style=\"text-align: right;\">\n",
       "      <th></th>\n",
       "      <th>total_images</th>\n",
       "      <th>last_price</th>\n",
       "      <th>total_area</th>\n",
       "      <th>first_day_exposition</th>\n",
       "      <th>rooms</th>\n",
       "      <th>ceiling_height</th>\n",
       "      <th>floors_total</th>\n",
       "      <th>living_area</th>\n",
       "      <th>floor</th>\n",
       "      <th>is_apartment</th>\n",
       "      <th>studio</th>\n",
       "      <th>open_plan</th>\n",
       "      <th>kitchen_area</th>\n",
       "      <th>balcony</th>\n",
       "      <th>locality_name</th>\n",
       "      <th>airports_nearest</th>\n",
       "      <th>cityCenters_nearest</th>\n",
       "      <th>parks_around3000</th>\n",
       "      <th>parks_nearest</th>\n",
       "      <th>ponds_around3000</th>\n",
       "      <th>ponds_nearest</th>\n",
       "      <th>days_exposition</th>\n",
       "      <th>m2_price</th>\n",
       "      <th>pub_dayofweek</th>\n",
       "      <th>pub_month</th>\n",
       "      <th>pub_year</th>\n",
       "      <th>floor_type</th>\n",
       "      <th>living_to_total</th>\n",
       "      <th>kitchen_to_total</th>\n",
       "    </tr>\n",
       "  </thead>\n",
       "  <tbody>\n",
       "    <tr>\n",
       "      <td>23694</td>\n",
       "      <td>9</td>\n",
       "      <td>9700000.0</td>\n",
       "      <td>133.81</td>\n",
       "      <td>2017-03-21</td>\n",
       "      <td>3</td>\n",
       "      <td>3.7</td>\n",
       "      <td>5</td>\n",
       "      <td>73.3</td>\n",
       "      <td>3</td>\n",
       "      <td>False</td>\n",
       "      <td>False</td>\n",
       "      <td>False</td>\n",
       "      <td>13.83</td>\n",
       "      <td>0</td>\n",
       "      <td>Санкт-Петербург</td>\n",
       "      <td>24665.0</td>\n",
       "      <td>4232.0</td>\n",
       "      <td>1.0</td>\n",
       "      <td>796.0</td>\n",
       "      <td>3.0</td>\n",
       "      <td>381.0</td>\n",
       "      <td>NaN</td>\n",
       "      <td>72490.845228</td>\n",
       "      <td>вторник</td>\n",
       "      <td>3</td>\n",
       "      <td>2017</td>\n",
       "      <td>другой</td>\n",
       "      <td>0.547792</td>\n",
       "      <td>0.103356</td>\n",
       "    </tr>\n",
       "    <tr>\n",
       "      <td>23695</td>\n",
       "      <td>14</td>\n",
       "      <td>3100000.0</td>\n",
       "      <td>59.00</td>\n",
       "      <td>2018-01-15</td>\n",
       "      <td>3</td>\n",
       "      <td>NaN</td>\n",
       "      <td>5</td>\n",
       "      <td>38.0</td>\n",
       "      <td>4</td>\n",
       "      <td>False</td>\n",
       "      <td>False</td>\n",
       "      <td>False</td>\n",
       "      <td>8.50</td>\n",
       "      <td>0</td>\n",
       "      <td>Тосно</td>\n",
       "      <td>NaN</td>\n",
       "      <td>NaN</td>\n",
       "      <td>NaN</td>\n",
       "      <td>NaN</td>\n",
       "      <td>NaN</td>\n",
       "      <td>NaN</td>\n",
       "      <td>45.0</td>\n",
       "      <td>52542.372881</td>\n",
       "      <td>понедельник</td>\n",
       "      <td>1</td>\n",
       "      <td>2018</td>\n",
       "      <td>другой</td>\n",
       "      <td>0.644068</td>\n",
       "      <td>0.144068</td>\n",
       "    </tr>\n",
       "    <tr>\n",
       "      <td>23696</td>\n",
       "      <td>18</td>\n",
       "      <td>2500000.0</td>\n",
       "      <td>56.70</td>\n",
       "      <td>2018-02-11</td>\n",
       "      <td>2</td>\n",
       "      <td>NaN</td>\n",
       "      <td>3</td>\n",
       "      <td>29.7</td>\n",
       "      <td>1</td>\n",
       "      <td>False</td>\n",
       "      <td>False</td>\n",
       "      <td>False</td>\n",
       "      <td>NaN</td>\n",
       "      <td>0</td>\n",
       "      <td>село Рождествено</td>\n",
       "      <td>NaN</td>\n",
       "      <td>NaN</td>\n",
       "      <td>NaN</td>\n",
       "      <td>NaN</td>\n",
       "      <td>NaN</td>\n",
       "      <td>NaN</td>\n",
       "      <td>NaN</td>\n",
       "      <td>44091.710758</td>\n",
       "      <td>воскресенье</td>\n",
       "      <td>2</td>\n",
       "      <td>2018</td>\n",
       "      <td>первый</td>\n",
       "      <td>0.523810</td>\n",
       "      <td>NaN</td>\n",
       "    </tr>\n",
       "    <tr>\n",
       "      <td>23697</td>\n",
       "      <td>13</td>\n",
       "      <td>11475000.0</td>\n",
       "      <td>76.75</td>\n",
       "      <td>2017-03-28</td>\n",
       "      <td>2</td>\n",
       "      <td>3.0</td>\n",
       "      <td>17</td>\n",
       "      <td>NaN</td>\n",
       "      <td>12</td>\n",
       "      <td>False</td>\n",
       "      <td>False</td>\n",
       "      <td>False</td>\n",
       "      <td>23.30</td>\n",
       "      <td>2</td>\n",
       "      <td>Санкт-Петербург</td>\n",
       "      <td>39140.0</td>\n",
       "      <td>10364.0</td>\n",
       "      <td>2.0</td>\n",
       "      <td>173.0</td>\n",
       "      <td>3.0</td>\n",
       "      <td>196.0</td>\n",
       "      <td>602.0</td>\n",
       "      <td>149511.400651</td>\n",
       "      <td>вторник</td>\n",
       "      <td>3</td>\n",
       "      <td>2017</td>\n",
       "      <td>другой</td>\n",
       "      <td>NaN</td>\n",
       "      <td>0.303583</td>\n",
       "    </tr>\n",
       "    <tr>\n",
       "      <td>23698</td>\n",
       "      <td>4</td>\n",
       "      <td>1350000.0</td>\n",
       "      <td>32.30</td>\n",
       "      <td>2017-07-21</td>\n",
       "      <td>1</td>\n",
       "      <td>2.5</td>\n",
       "      <td>5</td>\n",
       "      <td>12.3</td>\n",
       "      <td>1</td>\n",
       "      <td>False</td>\n",
       "      <td>False</td>\n",
       "      <td>False</td>\n",
       "      <td>9.00</td>\n",
       "      <td>0</td>\n",
       "      <td>поселок Новый Учхоз</td>\n",
       "      <td>NaN</td>\n",
       "      <td>NaN</td>\n",
       "      <td>NaN</td>\n",
       "      <td>NaN</td>\n",
       "      <td>NaN</td>\n",
       "      <td>NaN</td>\n",
       "      <td>NaN</td>\n",
       "      <td>41795.665635</td>\n",
       "      <td>пятница</td>\n",
       "      <td>7</td>\n",
       "      <td>2017</td>\n",
       "      <td>первый</td>\n",
       "      <td>0.380805</td>\n",
       "      <td>0.278638</td>\n",
       "    </tr>\n",
       "  </tbody>\n",
       "</table>\n",
       "</div>"
      ],
      "text/plain": [
       "       total_images  last_price  total_area first_day_exposition  rooms  \\\n",
       "23694             9   9700000.0      133.81           2017-03-21      3   \n",
       "23695            14   3100000.0       59.00           2018-01-15      3   \n",
       "23696            18   2500000.0       56.70           2018-02-11      2   \n",
       "23697            13  11475000.0       76.75           2017-03-28      2   \n",
       "23698             4   1350000.0       32.30           2017-07-21      1   \n",
       "\n",
       "       ceiling_height  floors_total  living_area  floor  is_apartment  studio  \\\n",
       "23694             3.7             5         73.3      3         False   False   \n",
       "23695             NaN             5         38.0      4         False   False   \n",
       "23696             NaN             3         29.7      1         False   False   \n",
       "23697             3.0            17          NaN     12         False   False   \n",
       "23698             2.5             5         12.3      1         False   False   \n",
       "\n",
       "       open_plan  kitchen_area  balcony        locality_name  \\\n",
       "23694      False         13.83        0      Санкт-Петербург   \n",
       "23695      False          8.50        0                Тосно   \n",
       "23696      False           NaN        0     село Рождествено   \n",
       "23697      False         23.30        2      Санкт-Петербург   \n",
       "23698      False          9.00        0  поселок Новый Учхоз   \n",
       "\n",
       "       airports_nearest  cityCenters_nearest  parks_around3000  parks_nearest  \\\n",
       "23694           24665.0               4232.0               1.0          796.0   \n",
       "23695               NaN                  NaN               NaN            NaN   \n",
       "23696               NaN                  NaN               NaN            NaN   \n",
       "23697           39140.0              10364.0               2.0          173.0   \n",
       "23698               NaN                  NaN               NaN            NaN   \n",
       "\n",
       "       ponds_around3000  ponds_nearest  days_exposition       m2_price  \\\n",
       "23694               3.0          381.0              NaN   72490.845228   \n",
       "23695               NaN            NaN             45.0   52542.372881   \n",
       "23696               NaN            NaN              NaN   44091.710758   \n",
       "23697               3.0          196.0            602.0  149511.400651   \n",
       "23698               NaN            NaN              NaN   41795.665635   \n",
       "\n",
       "      pub_dayofweek  pub_month  pub_year floor_type  living_to_total  \\\n",
       "23694       вторник          3      2017     другой         0.547792   \n",
       "23695   понедельник          1      2018     другой         0.644068   \n",
       "23696   воскресенье          2      2018     первый         0.523810   \n",
       "23697       вторник          3      2017     другой              NaN   \n",
       "23698       пятница          7      2017     первый         0.380805   \n",
       "\n",
       "       kitchen_to_total  \n",
       "23694          0.103356  \n",
       "23695          0.144068  \n",
       "23696               NaN  \n",
       "23697          0.303583  \n",
       "23698          0.278638  "
      ]
     },
     "execution_count": 72,
     "metadata": {},
     "output_type": "execute_result"
    }
   ],
   "source": [
    "#проверим полученные результаты\n",
    "display(df.info())\n",
    "df.tail()"
   ]
  },
  {
   "cell_type": "markdown",
   "metadata": {},
   "source": [
    "### Вывод"
   ]
  },
  {
   "cell_type": "markdown",
   "metadata": {},
   "source": [
    "Посчитал и добавил в таблицу цену квадратного метра, день недели, месяц и год публикации объявления, столбец с этажом квартиры; варианты — первый, последний, другой, а также столбцы с соотношением жилой и общей площади, а также отношение площади кухни к общей. Т.к. задача аналитическая для наглядности заменил номер дня недели на его название"
   ]
  },
  {
   "cell_type": "markdown",
   "metadata": {},
   "source": [
    "## Исследовательский анализ данных"
   ]
  },
  {
   "cell_type": "markdown",
   "metadata": {},
   "source": [
    "### Изучение параметров квартиры"
   ]
  },
  {
   "cell_type": "code",
   "execution_count": 73,
   "metadata": {},
   "outputs": [
    {
     "data": {
      "text/plain": [
       "<matplotlib.axes._subplots.AxesSubplot at 0x7f1634425f50>"
      ]
     },
     "execution_count": 73,
     "metadata": {},
     "output_type": "execute_result"
    },
    {
     "data": {
      "image/png": "[encoded data removed]",
      "text/plain": [
       "<Figure size 432x288 with 1 Axes>"
      ]
     },
     "metadata": {
      "needs_background": "light"
     },
     "output_type": "display_data"
    }
   ],
   "source": [
    "#построим гистограммы для каждого из указанных параметров квартиры: площадь, цена, кол-во комнат, высота потолков\n",
    "df['total_area'].plot(kind='hist', bins=100, range=(0, 300), title='total area', grid=True)"
   ]
  },
  {
   "cell_type": "code",
   "execution_count": 74,
   "metadata": {},
   "outputs": [
    {
     "data": {
      "text/plain": [
       "<matplotlib.axes._subplots.AxesSubplot at 0x7f163410ce90>"
      ]
     },
     "execution_count": 74,
     "metadata": {},
     "output_type": "execute_result"
    },
    {
     "data": {
      "image/png": "[encoded data removed]",
      "text/plain": [
       "<Figure size 432x288 with 1 Axes>"
      ]
     },
     "metadata": {
      "needs_background": "light"
     },
     "output_type": "display_data"
    }
   ],
   "source": [
    "df['last_price'].plot(kind='hist', bins=50, range=(0, 25000000), title='last price', grid=True)"
   ]
  },
  {
   "cell_type": "code",
   "execution_count": 75,
   "metadata": {},
   "outputs": [
    {
     "data": {
      "text/html": [
       "<div>\n",
       "<style scoped>\n",
       "    .dataframe tbody tr th:only-of-type {\n",
       "        vertical-align: middle;\n",
       "    }\n",
       "\n",
       "    .dataframe tbody tr th {\n",
       "        vertical-align: top;\n",
       "    }\n",
       "\n",
       "    .dataframe thead th {\n",
       "        text-align: right;\n",
       "    }\n",
       "</style>\n",
       "<table border=\"1\" class=\"dataframe\">\n",
       "  <thead>\n",
       "    <tr style=\"text-align: right;\">\n",
       "      <th></th>\n",
       "      <th>total_images</th>\n",
       "      <th>last_price</th>\n",
       "      <th>total_area</th>\n",
       "      <th>first_day_exposition</th>\n",
       "      <th>rooms</th>\n",
       "      <th>ceiling_height</th>\n",
       "      <th>floors_total</th>\n",
       "      <th>living_area</th>\n",
       "      <th>floor</th>\n",
       "      <th>is_apartment</th>\n",
       "      <th>studio</th>\n",
       "      <th>open_plan</th>\n",
       "      <th>kitchen_area</th>\n",
       "      <th>balcony</th>\n",
       "      <th>locality_name</th>\n",
       "      <th>airports_nearest</th>\n",
       "      <th>cityCenters_nearest</th>\n",
       "      <th>parks_around3000</th>\n",
       "      <th>parks_nearest</th>\n",
       "      <th>ponds_around3000</th>\n",
       "      <th>ponds_nearest</th>\n",
       "      <th>days_exposition</th>\n",
       "      <th>m2_price</th>\n",
       "      <th>pub_dayofweek</th>\n",
       "      <th>pub_month</th>\n",
       "      <th>pub_year</th>\n",
       "      <th>floor_type</th>\n",
       "      <th>living_to_total</th>\n",
       "      <th>kitchen_to_total</th>\n",
       "    </tr>\n",
       "  </thead>\n",
       "  <tbody>\n",
       "    <tr>\n",
       "      <td>648</td>\n",
       "      <td>3</td>\n",
       "      <td>17500000.0</td>\n",
       "      <td>183.7</td>\n",
       "      <td>2018-07-01</td>\n",
       "      <td>11</td>\n",
       "      <td>3.40</td>\n",
       "      <td>7</td>\n",
       "      <td>138.8</td>\n",
       "      <td>7</td>\n",
       "      <td>False</td>\n",
       "      <td>False</td>\n",
       "      <td>False</td>\n",
       "      <td>13.3</td>\n",
       "      <td>0</td>\n",
       "      <td>Санкт-Петербург</td>\n",
       "      <td>23606.0</td>\n",
       "      <td>3148.0</td>\n",
       "      <td>0.0</td>\n",
       "      <td>NaN</td>\n",
       "      <td>0.0</td>\n",
       "      <td>NaN</td>\n",
       "      <td>NaN</td>\n",
       "      <td>95264.017420</td>\n",
       "      <td>воскресенье</td>\n",
       "      <td>7</td>\n",
       "      <td>2018</td>\n",
       "      <td>последний</td>\n",
       "      <td>0.755580</td>\n",
       "      <td>0.072401</td>\n",
       "    </tr>\n",
       "    <tr>\n",
       "      <td>866</td>\n",
       "      <td>5</td>\n",
       "      <td>25000000.0</td>\n",
       "      <td>363.0</td>\n",
       "      <td>2017-12-23</td>\n",
       "      <td>14</td>\n",
       "      <td>3.16</td>\n",
       "      <td>5</td>\n",
       "      <td>222.0</td>\n",
       "      <td>4</td>\n",
       "      <td>False</td>\n",
       "      <td>False</td>\n",
       "      <td>False</td>\n",
       "      <td>16.6</td>\n",
       "      <td>0</td>\n",
       "      <td>Санкт-Петербург</td>\n",
       "      <td>38076.0</td>\n",
       "      <td>7950.0</td>\n",
       "      <td>0.0</td>\n",
       "      <td>NaN</td>\n",
       "      <td>2.0</td>\n",
       "      <td>435.0</td>\n",
       "      <td>418.0</td>\n",
       "      <td>68870.523416</td>\n",
       "      <td>суббота</td>\n",
       "      <td>12</td>\n",
       "      <td>2017</td>\n",
       "      <td>другой</td>\n",
       "      <td>0.611570</td>\n",
       "      <td>0.045730</td>\n",
       "    </tr>\n",
       "    <tr>\n",
       "      <td>5358</td>\n",
       "      <td>20</td>\n",
       "      <td>65000000.0</td>\n",
       "      <td>590.0</td>\n",
       "      <td>2019-02-14</td>\n",
       "      <td>15</td>\n",
       "      <td>3.50</td>\n",
       "      <td>6</td>\n",
       "      <td>409.0</td>\n",
       "      <td>3</td>\n",
       "      <td>False</td>\n",
       "      <td>False</td>\n",
       "      <td>False</td>\n",
       "      <td>100.0</td>\n",
       "      <td>0</td>\n",
       "      <td>Санкт-Петербург</td>\n",
       "      <td>24447.0</td>\n",
       "      <td>4666.0</td>\n",
       "      <td>1.0</td>\n",
       "      <td>767.0</td>\n",
       "      <td>0.0</td>\n",
       "      <td>NaN</td>\n",
       "      <td>14.0</td>\n",
       "      <td>110169.491525</td>\n",
       "      <td>четверг</td>\n",
       "      <td>2</td>\n",
       "      <td>2019</td>\n",
       "      <td>другой</td>\n",
       "      <td>0.693220</td>\n",
       "      <td>0.169492</td>\n",
       "    </tr>\n",
       "    <tr>\n",
       "      <td>9688</td>\n",
       "      <td>8</td>\n",
       "      <td>33000000.0</td>\n",
       "      <td>194.1</td>\n",
       "      <td>2017-02-07</td>\n",
       "      <td>11</td>\n",
       "      <td>3.43</td>\n",
       "      <td>5</td>\n",
       "      <td>129.0</td>\n",
       "      <td>2</td>\n",
       "      <td>False</td>\n",
       "      <td>False</td>\n",
       "      <td>False</td>\n",
       "      <td>11.9</td>\n",
       "      <td>0</td>\n",
       "      <td>Санкт-Петербург</td>\n",
       "      <td>21469.0</td>\n",
       "      <td>1015.0</td>\n",
       "      <td>1.0</td>\n",
       "      <td>686.0</td>\n",
       "      <td>2.0</td>\n",
       "      <td>66.0</td>\n",
       "      <td>813.0</td>\n",
       "      <td>170015.455951</td>\n",
       "      <td>вторник</td>\n",
       "      <td>2</td>\n",
       "      <td>2017</td>\n",
       "      <td>другой</td>\n",
       "      <td>0.664606</td>\n",
       "      <td>0.061309</td>\n",
       "    </tr>\n",
       "    <tr>\n",
       "      <td>14498</td>\n",
       "      <td>6</td>\n",
       "      <td>32250000.0</td>\n",
       "      <td>374.6</td>\n",
       "      <td>2018-06-09</td>\n",
       "      <td>19</td>\n",
       "      <td>NaN</td>\n",
       "      <td>5</td>\n",
       "      <td>264.5</td>\n",
       "      <td>2</td>\n",
       "      <td>False</td>\n",
       "      <td>False</td>\n",
       "      <td>False</td>\n",
       "      <td>27.6</td>\n",
       "      <td>0</td>\n",
       "      <td>Санкт-Петербург</td>\n",
       "      <td>19497.0</td>\n",
       "      <td>3574.0</td>\n",
       "      <td>0.0</td>\n",
       "      <td>NaN</td>\n",
       "      <td>2.0</td>\n",
       "      <td>548.0</td>\n",
       "      <td>114.0</td>\n",
       "      <td>86091.831287</td>\n",
       "      <td>суббота</td>\n",
       "      <td>6</td>\n",
       "      <td>2018</td>\n",
       "      <td>другой</td>\n",
       "      <td>0.706086</td>\n",
       "      <td>0.073679</td>\n",
       "    </tr>\n",
       "    <tr>\n",
       "      <td>18848</td>\n",
       "      <td>6</td>\n",
       "      <td>28500000.0</td>\n",
       "      <td>270.0</td>\n",
       "      <td>2015-03-02</td>\n",
       "      <td>16</td>\n",
       "      <td>3.00</td>\n",
       "      <td>4</td>\n",
       "      <td>180.0</td>\n",
       "      <td>4</td>\n",
       "      <td>False</td>\n",
       "      <td>False</td>\n",
       "      <td>False</td>\n",
       "      <td>13.0</td>\n",
       "      <td>1</td>\n",
       "      <td>Санкт-Петербург</td>\n",
       "      <td>23575.0</td>\n",
       "      <td>4142.0</td>\n",
       "      <td>1.0</td>\n",
       "      <td>516.0</td>\n",
       "      <td>0.0</td>\n",
       "      <td>NaN</td>\n",
       "      <td>1365.0</td>\n",
       "      <td>105555.555556</td>\n",
       "      <td>понедельник</td>\n",
       "      <td>3</td>\n",
       "      <td>2015</td>\n",
       "      <td>последний</td>\n",
       "      <td>0.666667</td>\n",
       "      <td>0.048148</td>\n",
       "    </tr>\n",
       "    <tr>\n",
       "      <td>19540</td>\n",
       "      <td>8</td>\n",
       "      <td>420000000.0</td>\n",
       "      <td>900.0</td>\n",
       "      <td>2017-12-06</td>\n",
       "      <td>12</td>\n",
       "      <td>2.80</td>\n",
       "      <td>25</td>\n",
       "      <td>409.7</td>\n",
       "      <td>25</td>\n",
       "      <td>False</td>\n",
       "      <td>False</td>\n",
       "      <td>False</td>\n",
       "      <td>112.0</td>\n",
       "      <td>0</td>\n",
       "      <td>Санкт-Петербург</td>\n",
       "      <td>30706.0</td>\n",
       "      <td>7877.0</td>\n",
       "      <td>0.0</td>\n",
       "      <td>NaN</td>\n",
       "      <td>2.0</td>\n",
       "      <td>318.0</td>\n",
       "      <td>106.0</td>\n",
       "      <td>466666.666667</td>\n",
       "      <td>среда</td>\n",
       "      <td>12</td>\n",
       "      <td>2017</td>\n",
       "      <td>последний</td>\n",
       "      <td>0.455222</td>\n",
       "      <td>0.124444</td>\n",
       "    </tr>\n",
       "    <tr>\n",
       "      <td>20829</td>\n",
       "      <td>6</td>\n",
       "      <td>28659000.0</td>\n",
       "      <td>245.4</td>\n",
       "      <td>2016-03-31</td>\n",
       "      <td>14</td>\n",
       "      <td>NaN</td>\n",
       "      <td>4</td>\n",
       "      <td>168.3</td>\n",
       "      <td>2</td>\n",
       "      <td>False</td>\n",
       "      <td>False</td>\n",
       "      <td>False</td>\n",
       "      <td>25.9</td>\n",
       "      <td>0</td>\n",
       "      <td>Санкт-Петербург</td>\n",
       "      <td>21104.0</td>\n",
       "      <td>2054.0</td>\n",
       "      <td>3.0</td>\n",
       "      <td>541.0</td>\n",
       "      <td>2.0</td>\n",
       "      <td>118.0</td>\n",
       "      <td>95.0</td>\n",
       "      <td>116784.841076</td>\n",
       "      <td>четверг</td>\n",
       "      <td>3</td>\n",
       "      <td>2016</td>\n",
       "      <td>другой</td>\n",
       "      <td>0.685819</td>\n",
       "      <td>0.105542</td>\n",
       "    </tr>\n",
       "  </tbody>\n",
       "</table>\n",
       "</div>"
      ],
      "text/plain": [
       "       total_images   last_price  total_area first_day_exposition  rooms  \\\n",
       "648               3   17500000.0       183.7           2018-07-01     11   \n",
       "866               5   25000000.0       363.0           2017-12-23     14   \n",
       "5358             20   65000000.0       590.0           2019-02-14     15   \n",
       "9688              8   33000000.0       194.1           2017-02-07     11   \n",
       "14498             6   32250000.0       374.6           2018-06-09     19   \n",
       "18848             6   28500000.0       270.0           2015-03-02     16   \n",
       "19540             8  420000000.0       900.0           2017-12-06     12   \n",
       "20829             6   28659000.0       245.4           2016-03-31     14   \n",
       "\n",
       "       ceiling_height  floors_total  living_area  floor  is_apartment  studio  \\\n",
       "648              3.40             7        138.8      7         False   False   \n",
       "866              3.16             5        222.0      4         False   False   \n",
       "5358             3.50             6        409.0      3         False   False   \n",
       "9688             3.43             5        129.0      2         False   False   \n",
       "14498             NaN             5        264.5      2         False   False   \n",
       "18848            3.00             4        180.0      4         False   False   \n",
       "19540            2.80            25        409.7     25         False   False   \n",
       "20829             NaN             4        168.3      2         False   False   \n",
       "\n",
       "       open_plan  kitchen_area  balcony    locality_name  airports_nearest  \\\n",
       "648        False          13.3        0  Санкт-Петербург           23606.0   \n",
       "866        False          16.6        0  Санкт-Петербург           38076.0   \n",
       "5358       False         100.0        0  Санкт-Петербург           24447.0   \n",
       "9688       False          11.9        0  Санкт-Петербург           21469.0   \n",
       "14498      False          27.6        0  Санкт-Петербург           19497.0   \n",
       "18848      False          13.0        1  Санкт-Петербург           23575.0   \n",
       "19540      False         112.0        0  Санкт-Петербург           30706.0   \n",
       "20829      False          25.9        0  Санкт-Петербург           21104.0   \n",
       "\n",
       "       cityCenters_nearest  parks_around3000  parks_nearest  ponds_around3000  \\\n",
       "648                 3148.0               0.0            NaN               0.0   \n",
       "866                 7950.0               0.0            NaN               2.0   \n",
       "5358                4666.0               1.0          767.0               0.0   \n",
       "9688                1015.0               1.0          686.0               2.0   \n",
       "14498               3574.0               0.0            NaN               2.0   \n",
       "18848               4142.0               1.0          516.0               0.0   \n",
       "19540               7877.0               0.0            NaN               2.0   \n",
       "20829               2054.0               3.0          541.0               2.0   \n",
       "\n",
       "       ponds_nearest  days_exposition       m2_price pub_dayofweek  pub_month  \\\n",
       "648              NaN              NaN   95264.017420   воскресенье          7   \n",
       "866            435.0            418.0   68870.523416       суббота         12   \n",
       "5358             NaN             14.0  110169.491525       четверг          2   \n",
       "9688            66.0            813.0  170015.455951       вторник          2   \n",
       "14498          548.0            114.0   86091.831287       суббота          6   \n",
       "18848            NaN           1365.0  105555.555556   понедельник          3   \n",
       "19540          318.0            106.0  466666.666667         среда         12   \n",
       "20829          118.0             95.0  116784.841076       четверг          3   \n",
       "\n",
       "       pub_year floor_type  living_to_total  kitchen_to_total  \n",
       "648        2018  последний         0.755580          0.072401  \n",
       "866        2017     другой         0.611570          0.045730  \n",
       "5358       2019     другой         0.693220          0.169492  \n",
       "9688       2017     другой         0.664606          0.061309  \n",
       "14498      2018     другой         0.706086          0.073679  \n",
       "18848      2015  последний         0.666667          0.048148  \n",
       "19540      2017  последний         0.455222          0.124444  \n",
       "20829      2016     другой         0.685819          0.105542  "
      ]
     },
     "execution_count": 75,
     "metadata": {},
     "output_type": "execute_result"
    },
    {
     "data": {
      "image/png": "[encoded data removed]",
      "text/plain": [
       "<Figure size 432x288 with 1 Axes>"
      ]
     },
     "metadata": {
      "needs_background": "light"
     },
     "output_type": "display_data"
    }
   ],
   "source": [
    "df['rooms'].plot(kind='hist', bins=20, title='number of rooms', grid=True)\n",
    "df[df['rooms'] > 10]"
   ]
  },
  {
   "cell_type": "code",
   "execution_count": 76,
   "metadata": {
    "scrolled": false
   },
   "outputs": [
    {
     "data": {
      "text/plain": [
       "<matplotlib.axes._subplots.AxesSubplot at 0x7f16341d4fd0>"
      ]
     },
     "execution_count": 76,
     "metadata": {},
     "output_type": "execute_result"
    },
    {
     "data": {
      "image/png": "[encoded data removed]",
      "text/plain": [
       "<Figure size 432x288 with 1 Axes>"
      ]
     },
     "metadata": {
      "needs_background": "light"
     },
     "output_type": "display_data"
    }
   ],
   "source": [
    "df['ceiling_height'].plot(kind='hist', bins=25, range=(1, 5), title='ceiling height', grid=True)"
   ]
  },
  {
   "cell_type": "markdown",
   "metadata": {},
   "source": [
    "#### Вывод"
   ]
  },
  {
   "cell_type": "markdown",
   "metadata": {},
   "source": [
    "В данном разделе были изучены некоторые параметры, исходя из ислледования можно сделать вывод, что в основном продаваемые квартиры имеют плозщадь около 45 кв.м., а основное распределение лежит от 25 до 75 кв.м. В среднем квартиры продаются за 4-4.5 млн.,а также имеют от 1 до 3 комнат, но существуют и обьявления в которых по 19 комнат. Высота потолка почти везде в диапазоне 2.5-3 м."
   ]
  },
  {
   "cell_type": "markdown",
   "metadata": {},
   "source": [
    "### Изучение времени продажи квартиры"
   ]
  },
  {
   "cell_type": "code",
   "execution_count": 77,
   "metadata": {
    "scrolled": false
   },
   "outputs": [
    {
     "data": {
      "text/plain": [
       "<matplotlib.axes._subplots.AxesSubplot at 0x7f1634811550>"
      ]
     },
     "execution_count": 77,
     "metadata": {},
     "output_type": "execute_result"
    },
    {
     "data": {
      "image/png": "[encoded data removed]",
      "text/plain": [
       "<Figure size 720x504 with 1 Axes>"
      ]
     },
     "metadata": {
      "needs_background": "light"
     },
     "output_type": "display_data"
    }
   ],
   "source": [
    "df['days_exposition'].plot(kind='hist', bins=50, title='days exposition', grid=True, figsize=(10, 7))"
   ]
  },
  {
   "cell_type": "code",
   "execution_count": 78,
   "metadata": {
    "scrolled": true
   },
   "outputs": [
    {
     "data": {
      "text/plain": [
       "<matplotlib.axes._subplots.AxesSubplot at 0x7f16349e4710>"
      ]
     },
     "execution_count": 78,
     "metadata": {},
     "output_type": "execute_result"
    },
    {
     "data": {
      "image/png": "[encoded data removed]",
      "text/plain": [
       "<Figure size 720x504 with 1 Axes>"
      ]
     },
     "metadata": {
      "needs_background": "light"
     },
     "output_type": "display_data"
    }
   ],
   "source": [
    "#рассмотрим гистограмму в более узком диапазоне\n",
    "df['days_exposition'].plot(kind='hist', bins=100, range=(0, 300), title='days exposition shortened', grid=True, figsize=(10, 7))"
   ]
  },
  {
   "cell_type": "markdown",
   "metadata": {},
   "source": [
    "#### Вывод"
   ]
  },
  {
   "cell_type": "markdown",
   "metadata": {},
   "source": [
    "В ходе изучения графиков времени продажи при рассмотрении более узкого диапазона были выявлены 3 аномальных пика, которые выбиваются из стандартного распределения, а также достаточно странно что большинство квартир покупают в первый же день и существуют квартиры, которые были выставлены на протяжении около 4 лет, а потом были куплены."
   ]
  },
  {
   "cell_type": "markdown",
   "metadata": {},
   "source": [
    "### Удаление выбросов и редких значений из датасета"
   ]
  },
  {
   "cell_type": "code",
   "execution_count": 79,
   "metadata": {
    "scrolled": true
   },
   "outputs": [
    {
     "data": {
      "text/plain": [
       "<matplotlib.axes._subplots.AxesSubplot at 0x7f1633e5ec50>"
      ]
     },
     "execution_count": 79,
     "metadata": {},
     "output_type": "execute_result"
    },
    {
     "data": {
      "image/png": "[encoded data removed]",
      "text/plain": [
       "<Figure size 432x288 with 1 Axes>"
      ]
     },
     "metadata": {
      "needs_background": "light"
     },
     "output_type": "display_data"
    }
   ],
   "source": [
    "#рассмотрим гистограмму в более узком диапазоне\n",
    "df['days_exposition'].hist(bins=200, range=(40, 95))"
   ]
  },
  {
   "cell_type": "code",
   "execution_count": 80,
   "metadata": {
    "scrolled": true
   },
   "outputs": [
    {
     "data": {
      "text/html": [
       "<div>\n",
       "<style scoped>\n",
       "    .dataframe tbody tr th:only-of-type {\n",
       "        vertical-align: middle;\n",
       "    }\n",
       "\n",
       "    .dataframe tbody tr th {\n",
       "        vertical-align: top;\n",
       "    }\n",
       "\n",
       "    .dataframe thead th {\n",
       "        text-align: right;\n",
       "    }\n",
       "</style>\n",
       "<table border=\"1\" class=\"dataframe\">\n",
       "  <thead>\n",
       "    <tr style=\"text-align: right;\">\n",
       "      <th></th>\n",
       "      <th>total_images</th>\n",
       "      <th>last_price</th>\n",
       "      <th>total_area</th>\n",
       "      <th>first_day_exposition</th>\n",
       "      <th>rooms</th>\n",
       "      <th>ceiling_height</th>\n",
       "      <th>floors_total</th>\n",
       "      <th>living_area</th>\n",
       "      <th>floor</th>\n",
       "      <th>is_apartment</th>\n",
       "      <th>studio</th>\n",
       "      <th>open_plan</th>\n",
       "      <th>kitchen_area</th>\n",
       "      <th>balcony</th>\n",
       "      <th>locality_name</th>\n",
       "      <th>airports_nearest</th>\n",
       "      <th>cityCenters_nearest</th>\n",
       "      <th>parks_around3000</th>\n",
       "      <th>parks_nearest</th>\n",
       "      <th>ponds_around3000</th>\n",
       "      <th>ponds_nearest</th>\n",
       "      <th>days_exposition</th>\n",
       "      <th>m2_price</th>\n",
       "      <th>pub_dayofweek</th>\n",
       "      <th>pub_month</th>\n",
       "      <th>pub_year</th>\n",
       "      <th>floor_type</th>\n",
       "      <th>living_to_total</th>\n",
       "      <th>kitchen_to_total</th>\n",
       "    </tr>\n",
       "  </thead>\n",
       "  <tbody>\n",
       "    <tr>\n",
       "      <td>54</td>\n",
       "      <td>6</td>\n",
       "      <td>3320000.0</td>\n",
       "      <td>36.5</td>\n",
       "      <td>2017-04-14</td>\n",
       "      <td>1</td>\n",
       "      <td>NaN</td>\n",
       "      <td>24</td>\n",
       "      <td>14.00</td>\n",
       "      <td>6</td>\n",
       "      <td>False</td>\n",
       "      <td>False</td>\n",
       "      <td>False</td>\n",
       "      <td>12.00</td>\n",
       "      <td>0</td>\n",
       "      <td>Санкт-Петербург</td>\n",
       "      <td>33331.0</td>\n",
       "      <td>14495.0</td>\n",
       "      <td>0.0</td>\n",
       "      <td>NaN</td>\n",
       "      <td>0.0</td>\n",
       "      <td>NaN</td>\n",
       "      <td>44.0</td>\n",
       "      <td>90958.904110</td>\n",
       "      <td>пятница</td>\n",
       "      <td>4</td>\n",
       "      <td>2017</td>\n",
       "      <td>другой</td>\n",
       "      <td>0.383562</td>\n",
       "      <td>0.328767</td>\n",
       "    </tr>\n",
       "    <tr>\n",
       "      <td>78</td>\n",
       "      <td>9</td>\n",
       "      <td>4350000.0</td>\n",
       "      <td>37.0</td>\n",
       "      <td>2018-02-22</td>\n",
       "      <td>1</td>\n",
       "      <td>NaN</td>\n",
       "      <td>19</td>\n",
       "      <td>18.00</td>\n",
       "      <td>6</td>\n",
       "      <td>False</td>\n",
       "      <td>False</td>\n",
       "      <td>False</td>\n",
       "      <td>10.70</td>\n",
       "      <td>0</td>\n",
       "      <td>Санкт-Петербург</td>\n",
       "      <td>34324.0</td>\n",
       "      <td>14192.0</td>\n",
       "      <td>0.0</td>\n",
       "      <td>NaN</td>\n",
       "      <td>0.0</td>\n",
       "      <td>NaN</td>\n",
       "      <td>45.0</td>\n",
       "      <td>117567.567568</td>\n",
       "      <td>четверг</td>\n",
       "      <td>2</td>\n",
       "      <td>2018</td>\n",
       "      <td>другой</td>\n",
       "      <td>0.486486</td>\n",
       "      <td>0.289189</td>\n",
       "    </tr>\n",
       "    <tr>\n",
       "      <td>89</td>\n",
       "      <td>9</td>\n",
       "      <td>2500000.0</td>\n",
       "      <td>63.0</td>\n",
       "      <td>2018-10-25</td>\n",
       "      <td>3</td>\n",
       "      <td>2.50</td>\n",
       "      <td>5</td>\n",
       "      <td>43.00</td>\n",
       "      <td>4</td>\n",
       "      <td>False</td>\n",
       "      <td>False</td>\n",
       "      <td>False</td>\n",
       "      <td>9.00</td>\n",
       "      <td>0</td>\n",
       "      <td>посёлок городского типа Сиверский</td>\n",
       "      <td>NaN</td>\n",
       "      <td>NaN</td>\n",
       "      <td>NaN</td>\n",
       "      <td>NaN</td>\n",
       "      <td>NaN</td>\n",
       "      <td>NaN</td>\n",
       "      <td>45.0</td>\n",
       "      <td>39682.539683</td>\n",
       "      <td>четверг</td>\n",
       "      <td>10</td>\n",
       "      <td>2018</td>\n",
       "      <td>другой</td>\n",
       "      <td>0.682540</td>\n",
       "      <td>0.142857</td>\n",
       "    </tr>\n",
       "    <tr>\n",
       "      <td>110</td>\n",
       "      <td>6</td>\n",
       "      <td>3850000.0</td>\n",
       "      <td>72.3</td>\n",
       "      <td>2017-09-29</td>\n",
       "      <td>2</td>\n",
       "      <td>NaN</td>\n",
       "      <td>3</td>\n",
       "      <td>27.40</td>\n",
       "      <td>2</td>\n",
       "      <td>False</td>\n",
       "      <td>False</td>\n",
       "      <td>False</td>\n",
       "      <td>23.60</td>\n",
       "      <td>0</td>\n",
       "      <td>деревня Пикколово</td>\n",
       "      <td>NaN</td>\n",
       "      <td>NaN</td>\n",
       "      <td>NaN</td>\n",
       "      <td>NaN</td>\n",
       "      <td>NaN</td>\n",
       "      <td>NaN</td>\n",
       "      <td>45.0</td>\n",
       "      <td>53250.345781</td>\n",
       "      <td>пятница</td>\n",
       "      <td>9</td>\n",
       "      <td>2017</td>\n",
       "      <td>другой</td>\n",
       "      <td>0.378976</td>\n",
       "      <td>0.326418</td>\n",
       "    </tr>\n",
       "    <tr>\n",
       "      <td>153</td>\n",
       "      <td>12</td>\n",
       "      <td>4350000.0</td>\n",
       "      <td>55.0</td>\n",
       "      <td>2017-05-21</td>\n",
       "      <td>2</td>\n",
       "      <td>2.57</td>\n",
       "      <td>9</td>\n",
       "      <td>31.20</td>\n",
       "      <td>2</td>\n",
       "      <td>False</td>\n",
       "      <td>False</td>\n",
       "      <td>False</td>\n",
       "      <td>8.30</td>\n",
       "      <td>0</td>\n",
       "      <td>Петергоф</td>\n",
       "      <td>45958.0</td>\n",
       "      <td>34425.0</td>\n",
       "      <td>1.0</td>\n",
       "      <td>589.0</td>\n",
       "      <td>0.0</td>\n",
       "      <td>NaN</td>\n",
       "      <td>45.0</td>\n",
       "      <td>79090.909091</td>\n",
       "      <td>воскресенье</td>\n",
       "      <td>5</td>\n",
       "      <td>2017</td>\n",
       "      <td>другой</td>\n",
       "      <td>0.567273</td>\n",
       "      <td>0.150909</td>\n",
       "    </tr>\n",
       "    <tr>\n",
       "      <td>158</td>\n",
       "      <td>15</td>\n",
       "      <td>3100000.0</td>\n",
       "      <td>47.3</td>\n",
       "      <td>2017-11-07</td>\n",
       "      <td>2</td>\n",
       "      <td>NaN</td>\n",
       "      <td>5</td>\n",
       "      <td>27.50</td>\n",
       "      <td>2</td>\n",
       "      <td>False</td>\n",
       "      <td>False</td>\n",
       "      <td>False</td>\n",
       "      <td>8.50</td>\n",
       "      <td>0</td>\n",
       "      <td>городской посёлок Янино-1</td>\n",
       "      <td>NaN</td>\n",
       "      <td>NaN</td>\n",
       "      <td>NaN</td>\n",
       "      <td>NaN</td>\n",
       "      <td>NaN</td>\n",
       "      <td>NaN</td>\n",
       "      <td>45.0</td>\n",
       "      <td>65539.112051</td>\n",
       "      <td>вторник</td>\n",
       "      <td>11</td>\n",
       "      <td>2017</td>\n",
       "      <td>другой</td>\n",
       "      <td>0.581395</td>\n",
       "      <td>0.179704</td>\n",
       "    </tr>\n",
       "    <tr>\n",
       "      <td>166</td>\n",
       "      <td>0</td>\n",
       "      <td>2300000.0</td>\n",
       "      <td>60.0</td>\n",
       "      <td>2017-12-02</td>\n",
       "      <td>2</td>\n",
       "      <td>NaN</td>\n",
       "      <td>3</td>\n",
       "      <td>NaN</td>\n",
       "      <td>1</td>\n",
       "      <td>False</td>\n",
       "      <td>False</td>\n",
       "      <td>False</td>\n",
       "      <td>NaN</td>\n",
       "      <td>0</td>\n",
       "      <td>посёлок Плодовое</td>\n",
       "      <td>NaN</td>\n",
       "      <td>NaN</td>\n",
       "      <td>NaN</td>\n",
       "      <td>NaN</td>\n",
       "      <td>NaN</td>\n",
       "      <td>NaN</td>\n",
       "      <td>45.0</td>\n",
       "      <td>38333.333333</td>\n",
       "      <td>суббота</td>\n",
       "      <td>12</td>\n",
       "      <td>2017</td>\n",
       "      <td>первый</td>\n",
       "      <td>NaN</td>\n",
       "      <td>NaN</td>\n",
       "    </tr>\n",
       "    <tr>\n",
       "      <td>189</td>\n",
       "      <td>0</td>\n",
       "      <td>6150000.0</td>\n",
       "      <td>62.0</td>\n",
       "      <td>2017-10-13</td>\n",
       "      <td>3</td>\n",
       "      <td>NaN</td>\n",
       "      <td>9</td>\n",
       "      <td>41.50</td>\n",
       "      <td>5</td>\n",
       "      <td>False</td>\n",
       "      <td>False</td>\n",
       "      <td>False</td>\n",
       "      <td>8.50</td>\n",
       "      <td>2</td>\n",
       "      <td>Санкт-Петербург</td>\n",
       "      <td>41954.0</td>\n",
       "      <td>12168.0</td>\n",
       "      <td>1.0</td>\n",
       "      <td>10.0</td>\n",
       "      <td>0.0</td>\n",
       "      <td>NaN</td>\n",
       "      <td>45.0</td>\n",
       "      <td>99193.548387</td>\n",
       "      <td>пятница</td>\n",
       "      <td>10</td>\n",
       "      <td>2017</td>\n",
       "      <td>другой</td>\n",
       "      <td>0.669355</td>\n",
       "      <td>0.137097</td>\n",
       "    </tr>\n",
       "    <tr>\n",
       "      <td>210</td>\n",
       "      <td>4</td>\n",
       "      <td>4300000.0</td>\n",
       "      <td>58.5</td>\n",
       "      <td>2016-06-15</td>\n",
       "      <td>2</td>\n",
       "      <td>NaN</td>\n",
       "      <td>9</td>\n",
       "      <td>28.73</td>\n",
       "      <td>7</td>\n",
       "      <td>False</td>\n",
       "      <td>False</td>\n",
       "      <td>False</td>\n",
       "      <td>11.24</td>\n",
       "      <td>1</td>\n",
       "      <td>посёлок Шушары</td>\n",
       "      <td>18309.0</td>\n",
       "      <td>30317.0</td>\n",
       "      <td>0.0</td>\n",
       "      <td>NaN</td>\n",
       "      <td>1.0</td>\n",
       "      <td>353.0</td>\n",
       "      <td>45.0</td>\n",
       "      <td>73504.273504</td>\n",
       "      <td>среда</td>\n",
       "      <td>6</td>\n",
       "      <td>2016</td>\n",
       "      <td>другой</td>\n",
       "      <td>0.491111</td>\n",
       "      <td>0.192137</td>\n",
       "    </tr>\n",
       "    <tr>\n",
       "      <td>227</td>\n",
       "      <td>13</td>\n",
       "      <td>2200000.0</td>\n",
       "      <td>47.0</td>\n",
       "      <td>2018-01-12</td>\n",
       "      <td>3</td>\n",
       "      <td>2.34</td>\n",
       "      <td>5</td>\n",
       "      <td>NaN</td>\n",
       "      <td>1</td>\n",
       "      <td>False</td>\n",
       "      <td>False</td>\n",
       "      <td>False</td>\n",
       "      <td>NaN</td>\n",
       "      <td>0</td>\n",
       "      <td>посёлок Новый Свет</td>\n",
       "      <td>NaN</td>\n",
       "      <td>NaN</td>\n",
       "      <td>NaN</td>\n",
       "      <td>NaN</td>\n",
       "      <td>NaN</td>\n",
       "      <td>NaN</td>\n",
       "      <td>45.0</td>\n",
       "      <td>46808.510638</td>\n",
       "      <td>пятница</td>\n",
       "      <td>1</td>\n",
       "      <td>2018</td>\n",
       "      <td>первый</td>\n",
       "      <td>NaN</td>\n",
       "      <td>NaN</td>\n",
       "    </tr>\n",
       "    <tr>\n",
       "      <td>235</td>\n",
       "      <td>0</td>\n",
       "      <td>4000000.0</td>\n",
       "      <td>60.0</td>\n",
       "      <td>2019-03-12</td>\n",
       "      <td>2</td>\n",
       "      <td>3.40</td>\n",
       "      <td>3</td>\n",
       "      <td>37.80</td>\n",
       "      <td>1</td>\n",
       "      <td>False</td>\n",
       "      <td>False</td>\n",
       "      <td>False</td>\n",
       "      <td>9.00</td>\n",
       "      <td>0</td>\n",
       "      <td>Колпино</td>\n",
       "      <td>25670.0</td>\n",
       "      <td>31456.0</td>\n",
       "      <td>3.0</td>\n",
       "      <td>370.0</td>\n",
       "      <td>3.0</td>\n",
       "      <td>534.0</td>\n",
       "      <td>45.0</td>\n",
       "      <td>66666.666667</td>\n",
       "      <td>вторник</td>\n",
       "      <td>3</td>\n",
       "      <td>2019</td>\n",
       "      <td>первый</td>\n",
       "      <td>0.630000</td>\n",
       "      <td>0.150000</td>\n",
       "    </tr>\n",
       "    <tr>\n",
       "      <td>289</td>\n",
       "      <td>11</td>\n",
       "      <td>3150000.0</td>\n",
       "      <td>33.0</td>\n",
       "      <td>2017-06-05</td>\n",
       "      <td>1</td>\n",
       "      <td>NaN</td>\n",
       "      <td>6</td>\n",
       "      <td>18.00</td>\n",
       "      <td>4</td>\n",
       "      <td>False</td>\n",
       "      <td>False</td>\n",
       "      <td>False</td>\n",
       "      <td>7.00</td>\n",
       "      <td>0</td>\n",
       "      <td>Санкт-Петербург</td>\n",
       "      <td>45133.0</td>\n",
       "      <td>17371.0</td>\n",
       "      <td>0.0</td>\n",
       "      <td>NaN</td>\n",
       "      <td>0.0</td>\n",
       "      <td>NaN</td>\n",
       "      <td>45.0</td>\n",
       "      <td>95454.545455</td>\n",
       "      <td>понедельник</td>\n",
       "      <td>6</td>\n",
       "      <td>2017</td>\n",
       "      <td>другой</td>\n",
       "      <td>0.545455</td>\n",
       "      <td>0.212121</td>\n",
       "    </tr>\n",
       "    <tr>\n",
       "      <td>322</td>\n",
       "      <td>6</td>\n",
       "      <td>2000000.0</td>\n",
       "      <td>25.0</td>\n",
       "      <td>2017-02-07</td>\n",
       "      <td>1</td>\n",
       "      <td>NaN</td>\n",
       "      <td>5</td>\n",
       "      <td>NaN</td>\n",
       "      <td>5</td>\n",
       "      <td>False</td>\n",
       "      <td>False</td>\n",
       "      <td>False</td>\n",
       "      <td>NaN</td>\n",
       "      <td>0</td>\n",
       "      <td>Выборг</td>\n",
       "      <td>NaN</td>\n",
       "      <td>NaN</td>\n",
       "      <td>NaN</td>\n",
       "      <td>NaN</td>\n",
       "      <td>NaN</td>\n",
       "      <td>NaN</td>\n",
       "      <td>45.0</td>\n",
       "      <td>80000.000000</td>\n",
       "      <td>вторник</td>\n",
       "      <td>2</td>\n",
       "      <td>2017</td>\n",
       "      <td>последний</td>\n",
       "      <td>NaN</td>\n",
       "      <td>NaN</td>\n",
       "    </tr>\n",
       "    <tr>\n",
       "      <td>340</td>\n",
       "      <td>13</td>\n",
       "      <td>3200000.0</td>\n",
       "      <td>32.2</td>\n",
       "      <td>2017-06-15</td>\n",
       "      <td>1</td>\n",
       "      <td>2.65</td>\n",
       "      <td>9</td>\n",
       "      <td>19.00</td>\n",
       "      <td>5</td>\n",
       "      <td>False</td>\n",
       "      <td>False</td>\n",
       "      <td>False</td>\n",
       "      <td>6.50</td>\n",
       "      <td>2</td>\n",
       "      <td>Санкт-Петербург</td>\n",
       "      <td>46240.0</td>\n",
       "      <td>14856.0</td>\n",
       "      <td>1.0</td>\n",
       "      <td>451.0</td>\n",
       "      <td>0.0</td>\n",
       "      <td>NaN</td>\n",
       "      <td>45.0</td>\n",
       "      <td>99378.881988</td>\n",
       "      <td>четверг</td>\n",
       "      <td>6</td>\n",
       "      <td>2017</td>\n",
       "      <td>другой</td>\n",
       "      <td>0.590062</td>\n",
       "      <td>0.201863</td>\n",
       "    </tr>\n",
       "    <tr>\n",
       "      <td>349</td>\n",
       "      <td>4</td>\n",
       "      <td>2320000.0</td>\n",
       "      <td>25.0</td>\n",
       "      <td>2017-09-27</td>\n",
       "      <td>0</td>\n",
       "      <td>NaN</td>\n",
       "      <td>14</td>\n",
       "      <td>17.00</td>\n",
       "      <td>1</td>\n",
       "      <td>False</td>\n",
       "      <td>False</td>\n",
       "      <td>True</td>\n",
       "      <td>NaN</td>\n",
       "      <td>0</td>\n",
       "      <td>деревня Кудрово</td>\n",
       "      <td>NaN</td>\n",
       "      <td>NaN</td>\n",
       "      <td>NaN</td>\n",
       "      <td>NaN</td>\n",
       "      <td>NaN</td>\n",
       "      <td>NaN</td>\n",
       "      <td>45.0</td>\n",
       "      <td>92800.000000</td>\n",
       "      <td>среда</td>\n",
       "      <td>9</td>\n",
       "      <td>2017</td>\n",
       "      <td>первый</td>\n",
       "      <td>0.680000</td>\n",
       "      <td>NaN</td>\n",
       "    </tr>\n",
       "    <tr>\n",
       "      <td>384</td>\n",
       "      <td>6</td>\n",
       "      <td>4100000.0</td>\n",
       "      <td>41.5</td>\n",
       "      <td>2018-01-11</td>\n",
       "      <td>1</td>\n",
       "      <td>2.70</td>\n",
       "      <td>17</td>\n",
       "      <td>16.50</td>\n",
       "      <td>14</td>\n",
       "      <td>False</td>\n",
       "      <td>False</td>\n",
       "      <td>False</td>\n",
       "      <td>11.70</td>\n",
       "      <td>2</td>\n",
       "      <td>Санкт-Петербург</td>\n",
       "      <td>17209.0</td>\n",
       "      <td>16005.0</td>\n",
       "      <td>1.0</td>\n",
       "      <td>557.0</td>\n",
       "      <td>2.0</td>\n",
       "      <td>830.0</td>\n",
       "      <td>45.0</td>\n",
       "      <td>98795.180723</td>\n",
       "      <td>четверг</td>\n",
       "      <td>1</td>\n",
       "      <td>2018</td>\n",
       "      <td>другой</td>\n",
       "      <td>0.397590</td>\n",
       "      <td>0.281928</td>\n",
       "    </tr>\n",
       "    <tr>\n",
       "      <td>392</td>\n",
       "      <td>10</td>\n",
       "      <td>3900000.0</td>\n",
       "      <td>41.3</td>\n",
       "      <td>2018-01-19</td>\n",
       "      <td>2</td>\n",
       "      <td>2.55</td>\n",
       "      <td>5</td>\n",
       "      <td>NaN</td>\n",
       "      <td>3</td>\n",
       "      <td>False</td>\n",
       "      <td>False</td>\n",
       "      <td>False</td>\n",
       "      <td>NaN</td>\n",
       "      <td>0</td>\n",
       "      <td>Санкт-Петербург</td>\n",
       "      <td>40806.0</td>\n",
       "      <td>11738.0</td>\n",
       "      <td>1.0</td>\n",
       "      <td>488.0</td>\n",
       "      <td>0.0</td>\n",
       "      <td>NaN</td>\n",
       "      <td>45.0</td>\n",
       "      <td>94430.992736</td>\n",
       "      <td>пятница</td>\n",
       "      <td>1</td>\n",
       "      <td>2018</td>\n",
       "      <td>другой</td>\n",
       "      <td>NaN</td>\n",
       "      <td>NaN</td>\n",
       "    </tr>\n",
       "    <tr>\n",
       "      <td>394</td>\n",
       "      <td>12</td>\n",
       "      <td>4000000.0</td>\n",
       "      <td>37.0</td>\n",
       "      <td>2017-08-23</td>\n",
       "      <td>1</td>\n",
       "      <td>NaN</td>\n",
       "      <td>9</td>\n",
       "      <td>17.80</td>\n",
       "      <td>9</td>\n",
       "      <td>False</td>\n",
       "      <td>False</td>\n",
       "      <td>False</td>\n",
       "      <td>8.30</td>\n",
       "      <td>0</td>\n",
       "      <td>Санкт-Петербург</td>\n",
       "      <td>34517.0</td>\n",
       "      <td>15561.0</td>\n",
       "      <td>1.0</td>\n",
       "      <td>421.0</td>\n",
       "      <td>3.0</td>\n",
       "      <td>381.0</td>\n",
       "      <td>44.0</td>\n",
       "      <td>108108.108108</td>\n",
       "      <td>среда</td>\n",
       "      <td>8</td>\n",
       "      <td>2017</td>\n",
       "      <td>последний</td>\n",
       "      <td>0.481081</td>\n",
       "      <td>0.224324</td>\n",
       "    </tr>\n",
       "    <tr>\n",
       "      <td>395</td>\n",
       "      <td>0</td>\n",
       "      <td>1450000.0</td>\n",
       "      <td>44.0</td>\n",
       "      <td>2019-03-01</td>\n",
       "      <td>2</td>\n",
       "      <td>2.50</td>\n",
       "      <td>5</td>\n",
       "      <td>27.00</td>\n",
       "      <td>5</td>\n",
       "      <td>False</td>\n",
       "      <td>False</td>\n",
       "      <td>False</td>\n",
       "      <td>6.00</td>\n",
       "      <td>1</td>\n",
       "      <td>Сясьстрой</td>\n",
       "      <td>NaN</td>\n",
       "      <td>NaN</td>\n",
       "      <td>NaN</td>\n",
       "      <td>NaN</td>\n",
       "      <td>NaN</td>\n",
       "      <td>NaN</td>\n",
       "      <td>45.0</td>\n",
       "      <td>32954.545455</td>\n",
       "      <td>пятница</td>\n",
       "      <td>3</td>\n",
       "      <td>2019</td>\n",
       "      <td>последний</td>\n",
       "      <td>0.613636</td>\n",
       "      <td>0.136364</td>\n",
       "    </tr>\n",
       "    <tr>\n",
       "      <td>421</td>\n",
       "      <td>7</td>\n",
       "      <td>2499999.0</td>\n",
       "      <td>73.8</td>\n",
       "      <td>2017-12-19</td>\n",
       "      <td>3</td>\n",
       "      <td>NaN</td>\n",
       "      <td>5</td>\n",
       "      <td>NaN</td>\n",
       "      <td>2</td>\n",
       "      <td>False</td>\n",
       "      <td>False</td>\n",
       "      <td>False</td>\n",
       "      <td>NaN</td>\n",
       "      <td>0</td>\n",
       "      <td>Ивангород</td>\n",
       "      <td>NaN</td>\n",
       "      <td>NaN</td>\n",
       "      <td>NaN</td>\n",
       "      <td>NaN</td>\n",
       "      <td>NaN</td>\n",
       "      <td>NaN</td>\n",
       "      <td>45.0</td>\n",
       "      <td>33875.325203</td>\n",
       "      <td>вторник</td>\n",
       "      <td>12</td>\n",
       "      <td>2017</td>\n",
       "      <td>другой</td>\n",
       "      <td>NaN</td>\n",
       "      <td>NaN</td>\n",
       "    </tr>\n",
       "  </tbody>\n",
       "</table>\n",
       "</div>"
      ],
      "text/plain": [
       "     total_images  last_price  total_area first_day_exposition  rooms  \\\n",
       "54              6   3320000.0        36.5           2017-04-14      1   \n",
       "78              9   4350000.0        37.0           2018-02-22      1   \n",
       "89              9   2500000.0        63.0           2018-10-25      3   \n",
       "110             6   3850000.0        72.3           2017-09-29      2   \n",
       "153            12   4350000.0        55.0           2017-05-21      2   \n",
       "158            15   3100000.0        47.3           2017-11-07      2   \n",
       "166             0   2300000.0        60.0           2017-12-02      2   \n",
       "189             0   6150000.0        62.0           2017-10-13      3   \n",
       "210             4   4300000.0        58.5           2016-06-15      2   \n",
       "227            13   2200000.0        47.0           2018-01-12      3   \n",
       "235             0   4000000.0        60.0           2019-03-12      2   \n",
       "289            11   3150000.0        33.0           2017-06-05      1   \n",
       "322             6   2000000.0        25.0           2017-02-07      1   \n",
       "340            13   3200000.0        32.2           2017-06-15      1   \n",
       "349             4   2320000.0        25.0           2017-09-27      0   \n",
       "384             6   4100000.0        41.5           2018-01-11      1   \n",
       "392            10   3900000.0        41.3           2018-01-19      2   \n",
       "394            12   4000000.0        37.0           2017-08-23      1   \n",
       "395             0   1450000.0        44.0           2019-03-01      2   \n",
       "421             7   2499999.0        73.8           2017-12-19      3   \n",
       "\n",
       "     ceiling_height  floors_total  living_area  floor  is_apartment  studio  \\\n",
       "54              NaN            24        14.00      6         False   False   \n",
       "78              NaN            19        18.00      6         False   False   \n",
       "89             2.50             5        43.00      4         False   False   \n",
       "110             NaN             3        27.40      2         False   False   \n",
       "153            2.57             9        31.20      2         False   False   \n",
       "158             NaN             5        27.50      2         False   False   \n",
       "166             NaN             3          NaN      1         False   False   \n",
       "189             NaN             9        41.50      5         False   False   \n",
       "210             NaN             9        28.73      7         False   False   \n",
       "227            2.34             5          NaN      1         False   False   \n",
       "235            3.40             3        37.80      1         False   False   \n",
       "289             NaN             6        18.00      4         False   False   \n",
       "322             NaN             5          NaN      5         False   False   \n",
       "340            2.65             9        19.00      5         False   False   \n",
       "349             NaN            14        17.00      1         False   False   \n",
       "384            2.70            17        16.50     14         False   False   \n",
       "392            2.55             5          NaN      3         False   False   \n",
       "394             NaN             9        17.80      9         False   False   \n",
       "395            2.50             5        27.00      5         False   False   \n",
       "421             NaN             5          NaN      2         False   False   \n",
       "\n",
       "     open_plan  kitchen_area  balcony                      locality_name  \\\n",
       "54       False         12.00        0                    Санкт-Петербург   \n",
       "78       False         10.70        0                    Санкт-Петербург   \n",
       "89       False          9.00        0  посёлок городского типа Сиверский   \n",
       "110      False         23.60        0                  деревня Пикколово   \n",
       "153      False          8.30        0                           Петергоф   \n",
       "158      False          8.50        0          городской посёлок Янино-1   \n",
       "166      False           NaN        0                   посёлок Плодовое   \n",
       "189      False          8.50        2                    Санкт-Петербург   \n",
       "210      False         11.24        1                     посёлок Шушары   \n",
       "227      False           NaN        0                 посёлок Новый Свет   \n",
       "235      False          9.00        0                            Колпино   \n",
       "289      False          7.00        0                    Санкт-Петербург   \n",
       "322      False           NaN        0                             Выборг   \n",
       "340      False          6.50        2                    Санкт-Петербург   \n",
       "349       True           NaN        0                    деревня Кудрово   \n",
       "384      False         11.70        2                    Санкт-Петербург   \n",
       "392      False           NaN        0                    Санкт-Петербург   \n",
       "394      False          8.30        0                    Санкт-Петербург   \n",
       "395      False          6.00        1                          Сясьстрой   \n",
       "421      False           NaN        0                          Ивангород   \n",
       "\n",
       "     airports_nearest  cityCenters_nearest  parks_around3000  parks_nearest  \\\n",
       "54            33331.0              14495.0               0.0            NaN   \n",
       "78            34324.0              14192.0               0.0            NaN   \n",
       "89                NaN                  NaN               NaN            NaN   \n",
       "110               NaN                  NaN               NaN            NaN   \n",
       "153           45958.0              34425.0               1.0          589.0   \n",
       "158               NaN                  NaN               NaN            NaN   \n",
       "166               NaN                  NaN               NaN            NaN   \n",
       "189           41954.0              12168.0               1.0           10.0   \n",
       "210           18309.0              30317.0               0.0            NaN   \n",
       "227               NaN                  NaN               NaN            NaN   \n",
       "235           25670.0              31456.0               3.0          370.0   \n",
       "289           45133.0              17371.0               0.0            NaN   \n",
       "322               NaN                  NaN               NaN            NaN   \n",
       "340           46240.0              14856.0               1.0          451.0   \n",
       "349               NaN                  NaN               NaN            NaN   \n",
       "384           17209.0              16005.0               1.0          557.0   \n",
       "392           40806.0              11738.0               1.0          488.0   \n",
       "394           34517.0              15561.0               1.0          421.0   \n",
       "395               NaN                  NaN               NaN            NaN   \n",
       "421               NaN                  NaN               NaN            NaN   \n",
       "\n",
       "     ponds_around3000  ponds_nearest  days_exposition       m2_price  \\\n",
       "54                0.0            NaN             44.0   90958.904110   \n",
       "78                0.0            NaN             45.0  117567.567568   \n",
       "89                NaN            NaN             45.0   39682.539683   \n",
       "110               NaN            NaN             45.0   53250.345781   \n",
       "153               0.0            NaN             45.0   79090.909091   \n",
       "158               NaN            NaN             45.0   65539.112051   \n",
       "166               NaN            NaN             45.0   38333.333333   \n",
       "189               0.0            NaN             45.0   99193.548387   \n",
       "210               1.0          353.0             45.0   73504.273504   \n",
       "227               NaN            NaN             45.0   46808.510638   \n",
       "235               3.0          534.0             45.0   66666.666667   \n",
       "289               0.0            NaN             45.0   95454.545455   \n",
       "322               NaN            NaN             45.0   80000.000000   \n",
       "340               0.0            NaN             45.0   99378.881988   \n",
       "349               NaN            NaN             45.0   92800.000000   \n",
       "384               2.0          830.0             45.0   98795.180723   \n",
       "392               0.0            NaN             45.0   94430.992736   \n",
       "394               3.0          381.0             44.0  108108.108108   \n",
       "395               NaN            NaN             45.0   32954.545455   \n",
       "421               NaN            NaN             45.0   33875.325203   \n",
       "\n",
       "    pub_dayofweek  pub_month  pub_year floor_type  living_to_total  \\\n",
       "54        пятница          4      2017     другой         0.383562   \n",
       "78        четверг          2      2018     другой         0.486486   \n",
       "89        четверг         10      2018     другой         0.682540   \n",
       "110       пятница          9      2017     другой         0.378976   \n",
       "153   воскресенье          5      2017     другой         0.567273   \n",
       "158       вторник         11      2017     другой         0.581395   \n",
       "166       суббота         12      2017     первый              NaN   \n",
       "189       пятница         10      2017     другой         0.669355   \n",
       "210         среда          6      2016     другой         0.491111   \n",
       "227       пятница          1      2018     первый              NaN   \n",
       "235       вторник          3      2019     первый         0.630000   \n",
       "289   понедельник          6      2017     другой         0.545455   \n",
       "322       вторник          2      2017  последний              NaN   \n",
       "340       четверг          6      2017     другой         0.590062   \n",
       "349         среда          9      2017     первый         0.680000   \n",
       "384       четверг          1      2018     другой         0.397590   \n",
       "392       пятница          1      2018     другой              NaN   \n",
       "394         среда          8      2017  последний         0.481081   \n",
       "395       пятница          3      2019  последний         0.613636   \n",
       "421       вторник         12      2017     другой              NaN   \n",
       "\n",
       "     kitchen_to_total  \n",
       "54           0.328767  \n",
       "78           0.289189  \n",
       "89           0.142857  \n",
       "110          0.326418  \n",
       "153          0.150909  \n",
       "158          0.179704  \n",
       "166               NaN  \n",
       "189          0.137097  \n",
       "210          0.192137  \n",
       "227               NaN  \n",
       "235          0.150000  \n",
       "289          0.212121  \n",
       "322               NaN  \n",
       "340          0.201863  \n",
       "349               NaN  \n",
       "384          0.281928  \n",
       "392               NaN  \n",
       "394          0.224324  \n",
       "395          0.136364  \n",
       "421               NaN  "
      ]
     },
     "metadata": {},
     "output_type": "display_data"
    },
    {
     "data": {
      "text/html": [
       "<div>\n",
       "<style scoped>\n",
       "    .dataframe tbody tr th:only-of-type {\n",
       "        vertical-align: middle;\n",
       "    }\n",
       "\n",
       "    .dataframe tbody tr th {\n",
       "        vertical-align: top;\n",
       "    }\n",
       "\n",
       "    .dataframe thead th {\n",
       "        text-align: right;\n",
       "    }\n",
       "</style>\n",
       "<table border=\"1\" class=\"dataframe\">\n",
       "  <thead>\n",
       "    <tr style=\"text-align: right;\">\n",
       "      <th></th>\n",
       "      <th>total_images</th>\n",
       "      <th>last_price</th>\n",
       "      <th>total_area</th>\n",
       "      <th>first_day_exposition</th>\n",
       "      <th>rooms</th>\n",
       "      <th>ceiling_height</th>\n",
       "      <th>floors_total</th>\n",
       "      <th>living_area</th>\n",
       "      <th>floor</th>\n",
       "      <th>is_apartment</th>\n",
       "      <th>studio</th>\n",
       "      <th>open_plan</th>\n",
       "      <th>kitchen_area</th>\n",
       "      <th>balcony</th>\n",
       "      <th>locality_name</th>\n",
       "      <th>airports_nearest</th>\n",
       "      <th>cityCenters_nearest</th>\n",
       "      <th>parks_around3000</th>\n",
       "      <th>parks_nearest</th>\n",
       "      <th>ponds_around3000</th>\n",
       "      <th>ponds_nearest</th>\n",
       "      <th>days_exposition</th>\n",
       "      <th>m2_price</th>\n",
       "      <th>pub_dayofweek</th>\n",
       "      <th>pub_month</th>\n",
       "      <th>pub_year</th>\n",
       "      <th>floor_type</th>\n",
       "      <th>living_to_total</th>\n",
       "      <th>kitchen_to_total</th>\n",
       "    </tr>\n",
       "  </thead>\n",
       "  <tbody>\n",
       "    <tr>\n",
       "      <td>12</td>\n",
       "      <td>10</td>\n",
       "      <td>3890000.0</td>\n",
       "      <td>54.00</td>\n",
       "      <td>2016-06-30</td>\n",
       "      <td>2</td>\n",
       "      <td>NaN</td>\n",
       "      <td>5</td>\n",
       "      <td>30.00</td>\n",
       "      <td>5</td>\n",
       "      <td>False</td>\n",
       "      <td>False</td>\n",
       "      <td>False</td>\n",
       "      <td>9.00</td>\n",
       "      <td>0</td>\n",
       "      <td>Сертолово</td>\n",
       "      <td>NaN</td>\n",
       "      <td>NaN</td>\n",
       "      <td>NaN</td>\n",
       "      <td>NaN</td>\n",
       "      <td>NaN</td>\n",
       "      <td>NaN</td>\n",
       "      <td>90.0</td>\n",
       "      <td>72037.037037</td>\n",
       "      <td>четверг</td>\n",
       "      <td>6</td>\n",
       "      <td>2016</td>\n",
       "      <td>последний</td>\n",
       "      <td>0.555556</td>\n",
       "      <td>0.166667</td>\n",
       "    </tr>\n",
       "    <tr>\n",
       "      <td>277</td>\n",
       "      <td>5</td>\n",
       "      <td>4600000.0</td>\n",
       "      <td>65.00</td>\n",
       "      <td>2017-10-12</td>\n",
       "      <td>3</td>\n",
       "      <td>NaN</td>\n",
       "      <td>15</td>\n",
       "      <td>44.00</td>\n",
       "      <td>11</td>\n",
       "      <td>False</td>\n",
       "      <td>False</td>\n",
       "      <td>False</td>\n",
       "      <td>11.00</td>\n",
       "      <td>2</td>\n",
       "      <td>Санкт-Петербург</td>\n",
       "      <td>16124.0</td>\n",
       "      <td>14619.0</td>\n",
       "      <td>2.0</td>\n",
       "      <td>578.0</td>\n",
       "      <td>1.0</td>\n",
       "      <td>685.0</td>\n",
       "      <td>90.0</td>\n",
       "      <td>70769.230769</td>\n",
       "      <td>четверг</td>\n",
       "      <td>10</td>\n",
       "      <td>2017</td>\n",
       "      <td>другой</td>\n",
       "      <td>0.676923</td>\n",
       "      <td>0.169231</td>\n",
       "    </tr>\n",
       "    <tr>\n",
       "      <td>316</td>\n",
       "      <td>11</td>\n",
       "      <td>5650000.0</td>\n",
       "      <td>46.30</td>\n",
       "      <td>2017-03-13</td>\n",
       "      <td>2</td>\n",
       "      <td>NaN</td>\n",
       "      <td>6</td>\n",
       "      <td>28.80</td>\n",
       "      <td>2</td>\n",
       "      <td>False</td>\n",
       "      <td>False</td>\n",
       "      <td>False</td>\n",
       "      <td>9.00</td>\n",
       "      <td>0</td>\n",
       "      <td>Санкт-Петербург</td>\n",
       "      <td>31327.0</td>\n",
       "      <td>3144.0</td>\n",
       "      <td>0.0</td>\n",
       "      <td>NaN</td>\n",
       "      <td>0.0</td>\n",
       "      <td>NaN</td>\n",
       "      <td>89.0</td>\n",
       "      <td>122030.237581</td>\n",
       "      <td>понедельник</td>\n",
       "      <td>3</td>\n",
       "      <td>2017</td>\n",
       "      <td>другой</td>\n",
       "      <td>0.622030</td>\n",
       "      <td>0.194384</td>\n",
       "    </tr>\n",
       "    <tr>\n",
       "      <td>404</td>\n",
       "      <td>2</td>\n",
       "      <td>11400000.0</td>\n",
       "      <td>81.20</td>\n",
       "      <td>2016-04-27</td>\n",
       "      <td>3</td>\n",
       "      <td>NaN</td>\n",
       "      <td>3</td>\n",
       "      <td>45.70</td>\n",
       "      <td>2</td>\n",
       "      <td>False</td>\n",
       "      <td>False</td>\n",
       "      <td>False</td>\n",
       "      <td>14.30</td>\n",
       "      <td>0</td>\n",
       "      <td>Санкт-Петербург</td>\n",
       "      <td>23128.0</td>\n",
       "      <td>2669.0</td>\n",
       "      <td>0.0</td>\n",
       "      <td>NaN</td>\n",
       "      <td>3.0</td>\n",
       "      <td>611.0</td>\n",
       "      <td>89.0</td>\n",
       "      <td>140394.088670</td>\n",
       "      <td>среда</td>\n",
       "      <td>4</td>\n",
       "      <td>2016</td>\n",
       "      <td>другой</td>\n",
       "      <td>0.562808</td>\n",
       "      <td>0.176108</td>\n",
       "    </tr>\n",
       "    <tr>\n",
       "      <td>424</td>\n",
       "      <td>14</td>\n",
       "      <td>11500000.0</td>\n",
       "      <td>98.00</td>\n",
       "      <td>2016-05-10</td>\n",
       "      <td>3</td>\n",
       "      <td>2.65</td>\n",
       "      <td>3</td>\n",
       "      <td>88.00</td>\n",
       "      <td>3</td>\n",
       "      <td>False</td>\n",
       "      <td>False</td>\n",
       "      <td>False</td>\n",
       "      <td>NaN</td>\n",
       "      <td>1</td>\n",
       "      <td>Санкт-Петербург</td>\n",
       "      <td>39363.0</td>\n",
       "      <td>13270.0</td>\n",
       "      <td>0.0</td>\n",
       "      <td>NaN</td>\n",
       "      <td>0.0</td>\n",
       "      <td>NaN</td>\n",
       "      <td>90.0</td>\n",
       "      <td>117346.938776</td>\n",
       "      <td>вторник</td>\n",
       "      <td>5</td>\n",
       "      <td>2016</td>\n",
       "      <td>последний</td>\n",
       "      <td>0.897959</td>\n",
       "      <td>NaN</td>\n",
       "    </tr>\n",
       "    <tr>\n",
       "      <td>444</td>\n",
       "      <td>5</td>\n",
       "      <td>4200000.0</td>\n",
       "      <td>47.50</td>\n",
       "      <td>2018-08-17</td>\n",
       "      <td>2</td>\n",
       "      <td>2.70</td>\n",
       "      <td>9</td>\n",
       "      <td>28.00</td>\n",
       "      <td>5</td>\n",
       "      <td>False</td>\n",
       "      <td>False</td>\n",
       "      <td>False</td>\n",
       "      <td>8.00</td>\n",
       "      <td>2</td>\n",
       "      <td>Санкт-Петербург</td>\n",
       "      <td>32218.0</td>\n",
       "      <td>13037.0</td>\n",
       "      <td>0.0</td>\n",
       "      <td>NaN</td>\n",
       "      <td>0.0</td>\n",
       "      <td>NaN</td>\n",
       "      <td>90.0</td>\n",
       "      <td>88421.052632</td>\n",
       "      <td>пятница</td>\n",
       "      <td>8</td>\n",
       "      <td>2018</td>\n",
       "      <td>другой</td>\n",
       "      <td>0.589474</td>\n",
       "      <td>0.168421</td>\n",
       "    </tr>\n",
       "    <tr>\n",
       "      <td>447</td>\n",
       "      <td>13</td>\n",
       "      <td>12084000.0</td>\n",
       "      <td>86.60</td>\n",
       "      <td>2018-07-05</td>\n",
       "      <td>3</td>\n",
       "      <td>NaN</td>\n",
       "      <td>13</td>\n",
       "      <td>NaN</td>\n",
       "      <td>6</td>\n",
       "      <td>False</td>\n",
       "      <td>False</td>\n",
       "      <td>False</td>\n",
       "      <td>NaN</td>\n",
       "      <td>0</td>\n",
       "      <td>Санкт-Петербург</td>\n",
       "      <td>37412.0</td>\n",
       "      <td>8370.0</td>\n",
       "      <td>1.0</td>\n",
       "      <td>392.0</td>\n",
       "      <td>2.0</td>\n",
       "      <td>359.0</td>\n",
       "      <td>90.0</td>\n",
       "      <td>139538.106236</td>\n",
       "      <td>четверг</td>\n",
       "      <td>7</td>\n",
       "      <td>2018</td>\n",
       "      <td>другой</td>\n",
       "      <td>NaN</td>\n",
       "      <td>NaN</td>\n",
       "    </tr>\n",
       "    <tr>\n",
       "      <td>466</td>\n",
       "      <td>19</td>\n",
       "      <td>15900000.0</td>\n",
       "      <td>85.00</td>\n",
       "      <td>2018-01-11</td>\n",
       "      <td>3</td>\n",
       "      <td>NaN</td>\n",
       "      <td>20</td>\n",
       "      <td>NaN</td>\n",
       "      <td>2</td>\n",
       "      <td>False</td>\n",
       "      <td>False</td>\n",
       "      <td>False</td>\n",
       "      <td>NaN</td>\n",
       "      <td>0</td>\n",
       "      <td>Санкт-Петербург</td>\n",
       "      <td>43269.0</td>\n",
       "      <td>13145.0</td>\n",
       "      <td>1.0</td>\n",
       "      <td>417.0</td>\n",
       "      <td>0.0</td>\n",
       "      <td>NaN</td>\n",
       "      <td>90.0</td>\n",
       "      <td>187058.823529</td>\n",
       "      <td>четверг</td>\n",
       "      <td>1</td>\n",
       "      <td>2018</td>\n",
       "      <td>другой</td>\n",
       "      <td>NaN</td>\n",
       "      <td>NaN</td>\n",
       "    </tr>\n",
       "    <tr>\n",
       "      <td>507</td>\n",
       "      <td>12</td>\n",
       "      <td>4200000.0</td>\n",
       "      <td>53.00</td>\n",
       "      <td>2017-09-11</td>\n",
       "      <td>2</td>\n",
       "      <td>NaN</td>\n",
       "      <td>9</td>\n",
       "      <td>27.70</td>\n",
       "      <td>4</td>\n",
       "      <td>False</td>\n",
       "      <td>False</td>\n",
       "      <td>False</td>\n",
       "      <td>10.40</td>\n",
       "      <td>2</td>\n",
       "      <td>посёлок Шушары</td>\n",
       "      <td>23450.0</td>\n",
       "      <td>29236.0</td>\n",
       "      <td>0.0</td>\n",
       "      <td>NaN</td>\n",
       "      <td>0.0</td>\n",
       "      <td>NaN</td>\n",
       "      <td>89.0</td>\n",
       "      <td>79245.283019</td>\n",
       "      <td>понедельник</td>\n",
       "      <td>9</td>\n",
       "      <td>2017</td>\n",
       "      <td>другой</td>\n",
       "      <td>0.522642</td>\n",
       "      <td>0.196226</td>\n",
       "    </tr>\n",
       "    <tr>\n",
       "      <td>535</td>\n",
       "      <td>16</td>\n",
       "      <td>12500000.0</td>\n",
       "      <td>130.00</td>\n",
       "      <td>2017-11-17</td>\n",
       "      <td>5</td>\n",
       "      <td>3.00</td>\n",
       "      <td>7</td>\n",
       "      <td>82.00</td>\n",
       "      <td>5</td>\n",
       "      <td>False</td>\n",
       "      <td>False</td>\n",
       "      <td>False</td>\n",
       "      <td>8.70</td>\n",
       "      <td>4</td>\n",
       "      <td>Санкт-Петербург</td>\n",
       "      <td>40277.0</td>\n",
       "      <td>8970.0</td>\n",
       "      <td>3.0</td>\n",
       "      <td>167.0</td>\n",
       "      <td>0.0</td>\n",
       "      <td>NaN</td>\n",
       "      <td>90.0</td>\n",
       "      <td>96153.846154</td>\n",
       "      <td>пятница</td>\n",
       "      <td>11</td>\n",
       "      <td>2017</td>\n",
       "      <td>другой</td>\n",
       "      <td>0.630769</td>\n",
       "      <td>0.066923</td>\n",
       "    </tr>\n",
       "    <tr>\n",
       "      <td>649</td>\n",
       "      <td>1</td>\n",
       "      <td>7210000.0</td>\n",
       "      <td>61.50</td>\n",
       "      <td>2018-10-02</td>\n",
       "      <td>3</td>\n",
       "      <td>2.92</td>\n",
       "      <td>5</td>\n",
       "      <td>43.20</td>\n",
       "      <td>4</td>\n",
       "      <td>False</td>\n",
       "      <td>False</td>\n",
       "      <td>False</td>\n",
       "      <td>5.70</td>\n",
       "      <td>1</td>\n",
       "      <td>Санкт-Петербург</td>\n",
       "      <td>25407.0</td>\n",
       "      <td>3982.0</td>\n",
       "      <td>1.0</td>\n",
       "      <td>483.0</td>\n",
       "      <td>0.0</td>\n",
       "      <td>NaN</td>\n",
       "      <td>89.0</td>\n",
       "      <td>117235.772358</td>\n",
       "      <td>вторник</td>\n",
       "      <td>10</td>\n",
       "      <td>2018</td>\n",
       "      <td>другой</td>\n",
       "      <td>0.702439</td>\n",
       "      <td>0.092683</td>\n",
       "    </tr>\n",
       "    <tr>\n",
       "      <td>726</td>\n",
       "      <td>8</td>\n",
       "      <td>3800000.0</td>\n",
       "      <td>44.00</td>\n",
       "      <td>2016-05-25</td>\n",
       "      <td>2</td>\n",
       "      <td>2.60</td>\n",
       "      <td>5</td>\n",
       "      <td>27.00</td>\n",
       "      <td>1</td>\n",
       "      <td>False</td>\n",
       "      <td>False</td>\n",
       "      <td>False</td>\n",
       "      <td>7.00</td>\n",
       "      <td>0</td>\n",
       "      <td>Санкт-Петербург</td>\n",
       "      <td>47596.0</td>\n",
       "      <td>16538.0</td>\n",
       "      <td>0.0</td>\n",
       "      <td>NaN</td>\n",
       "      <td>0.0</td>\n",
       "      <td>NaN</td>\n",
       "      <td>89.0</td>\n",
       "      <td>86363.636364</td>\n",
       "      <td>среда</td>\n",
       "      <td>5</td>\n",
       "      <td>2016</td>\n",
       "      <td>первый</td>\n",
       "      <td>0.613636</td>\n",
       "      <td>0.159091</td>\n",
       "    </tr>\n",
       "    <tr>\n",
       "      <td>810</td>\n",
       "      <td>9</td>\n",
       "      <td>6300000.0</td>\n",
       "      <td>47.00</td>\n",
       "      <td>2018-09-05</td>\n",
       "      <td>1</td>\n",
       "      <td>NaN</td>\n",
       "      <td>3</td>\n",
       "      <td>23.00</td>\n",
       "      <td>1</td>\n",
       "      <td>False</td>\n",
       "      <td>False</td>\n",
       "      <td>False</td>\n",
       "      <td>12.00</td>\n",
       "      <td>0</td>\n",
       "      <td>Санкт-Петербург</td>\n",
       "      <td>25599.0</td>\n",
       "      <td>6402.0</td>\n",
       "      <td>1.0</td>\n",
       "      <td>513.0</td>\n",
       "      <td>1.0</td>\n",
       "      <td>931.0</td>\n",
       "      <td>89.0</td>\n",
       "      <td>134042.553191</td>\n",
       "      <td>среда</td>\n",
       "      <td>9</td>\n",
       "      <td>2018</td>\n",
       "      <td>первый</td>\n",
       "      <td>0.489362</td>\n",
       "      <td>0.255319</td>\n",
       "    </tr>\n",
       "    <tr>\n",
       "      <td>864</td>\n",
       "      <td>6</td>\n",
       "      <td>3800000.0</td>\n",
       "      <td>51.00</td>\n",
       "      <td>2018-11-07</td>\n",
       "      <td>2</td>\n",
       "      <td>2.60</td>\n",
       "      <td>9</td>\n",
       "      <td>30.40</td>\n",
       "      <td>9</td>\n",
       "      <td>False</td>\n",
       "      <td>False</td>\n",
       "      <td>False</td>\n",
       "      <td>8.50</td>\n",
       "      <td>1</td>\n",
       "      <td>Всеволожск</td>\n",
       "      <td>NaN</td>\n",
       "      <td>NaN</td>\n",
       "      <td>NaN</td>\n",
       "      <td>NaN</td>\n",
       "      <td>NaN</td>\n",
       "      <td>NaN</td>\n",
       "      <td>90.0</td>\n",
       "      <td>74509.803922</td>\n",
       "      <td>среда</td>\n",
       "      <td>11</td>\n",
       "      <td>2018</td>\n",
       "      <td>последний</td>\n",
       "      <td>0.596078</td>\n",
       "      <td>0.166667</td>\n",
       "    </tr>\n",
       "    <tr>\n",
       "      <td>955</td>\n",
       "      <td>12</td>\n",
       "      <td>11100000.0</td>\n",
       "      <td>95.00</td>\n",
       "      <td>2018-04-20</td>\n",
       "      <td>3</td>\n",
       "      <td>NaN</td>\n",
       "      <td>10</td>\n",
       "      <td>53.00</td>\n",
       "      <td>6</td>\n",
       "      <td>False</td>\n",
       "      <td>False</td>\n",
       "      <td>False</td>\n",
       "      <td>13.00</td>\n",
       "      <td>0</td>\n",
       "      <td>Санкт-Петербург</td>\n",
       "      <td>30894.0</td>\n",
       "      <td>4087.0</td>\n",
       "      <td>1.0</td>\n",
       "      <td>696.0</td>\n",
       "      <td>1.0</td>\n",
       "      <td>223.0</td>\n",
       "      <td>90.0</td>\n",
       "      <td>116842.105263</td>\n",
       "      <td>пятница</td>\n",
       "      <td>4</td>\n",
       "      <td>2018</td>\n",
       "      <td>другой</td>\n",
       "      <td>0.557895</td>\n",
       "      <td>0.136842</td>\n",
       "    </tr>\n",
       "    <tr>\n",
       "      <td>974</td>\n",
       "      <td>8</td>\n",
       "      <td>25897000.0</td>\n",
       "      <td>149.00</td>\n",
       "      <td>2018-03-26</td>\n",
       "      <td>4</td>\n",
       "      <td>2.74</td>\n",
       "      <td>7</td>\n",
       "      <td>NaN</td>\n",
       "      <td>6</td>\n",
       "      <td>False</td>\n",
       "      <td>False</td>\n",
       "      <td>False</td>\n",
       "      <td>NaN</td>\n",
       "      <td>0</td>\n",
       "      <td>Санкт-Петербург</td>\n",
       "      <td>NaN</td>\n",
       "      <td>9734.0</td>\n",
       "      <td>2.0</td>\n",
       "      <td>469.0</td>\n",
       "      <td>3.0</td>\n",
       "      <td>263.0</td>\n",
       "      <td>90.0</td>\n",
       "      <td>173805.369128</td>\n",
       "      <td>понедельник</td>\n",
       "      <td>3</td>\n",
       "      <td>2018</td>\n",
       "      <td>другой</td>\n",
       "      <td>NaN</td>\n",
       "      <td>NaN</td>\n",
       "    </tr>\n",
       "    <tr>\n",
       "      <td>1017</td>\n",
       "      <td>6</td>\n",
       "      <td>10500000.0</td>\n",
       "      <td>96.00</td>\n",
       "      <td>2016-06-20</td>\n",
       "      <td>2</td>\n",
       "      <td>2.60</td>\n",
       "      <td>3</td>\n",
       "      <td>51.00</td>\n",
       "      <td>3</td>\n",
       "      <td>False</td>\n",
       "      <td>False</td>\n",
       "      <td>False</td>\n",
       "      <td>20.00</td>\n",
       "      <td>0</td>\n",
       "      <td>Санкт-Петербург</td>\n",
       "      <td>22776.0</td>\n",
       "      <td>2318.0</td>\n",
       "      <td>0.0</td>\n",
       "      <td>NaN</td>\n",
       "      <td>0.0</td>\n",
       "      <td>NaN</td>\n",
       "      <td>90.0</td>\n",
       "      <td>109375.000000</td>\n",
       "      <td>понедельник</td>\n",
       "      <td>6</td>\n",
       "      <td>2016</td>\n",
       "      <td>последний</td>\n",
       "      <td>0.531250</td>\n",
       "      <td>0.208333</td>\n",
       "    </tr>\n",
       "    <tr>\n",
       "      <td>1281</td>\n",
       "      <td>6</td>\n",
       "      <td>10700000.0</td>\n",
       "      <td>68.60</td>\n",
       "      <td>2017-06-17</td>\n",
       "      <td>2</td>\n",
       "      <td>3.00</td>\n",
       "      <td>8</td>\n",
       "      <td>35.00</td>\n",
       "      <td>8</td>\n",
       "      <td>False</td>\n",
       "      <td>False</td>\n",
       "      <td>False</td>\n",
       "      <td>15.00</td>\n",
       "      <td>2</td>\n",
       "      <td>Санкт-Петербург</td>\n",
       "      <td>31428.0</td>\n",
       "      <td>5109.0</td>\n",
       "      <td>1.0</td>\n",
       "      <td>650.0</td>\n",
       "      <td>0.0</td>\n",
       "      <td>NaN</td>\n",
       "      <td>90.0</td>\n",
       "      <td>155976.676385</td>\n",
       "      <td>суббота</td>\n",
       "      <td>6</td>\n",
       "      <td>2017</td>\n",
       "      <td>последний</td>\n",
       "      <td>0.510204</td>\n",
       "      <td>0.218659</td>\n",
       "    </tr>\n",
       "    <tr>\n",
       "      <td>1390</td>\n",
       "      <td>6</td>\n",
       "      <td>2746000.0</td>\n",
       "      <td>39.22</td>\n",
       "      <td>2017-12-01</td>\n",
       "      <td>1</td>\n",
       "      <td>NaN</td>\n",
       "      <td>12</td>\n",
       "      <td>13.34</td>\n",
       "      <td>3</td>\n",
       "      <td>False</td>\n",
       "      <td>False</td>\n",
       "      <td>False</td>\n",
       "      <td>13.14</td>\n",
       "      <td>2</td>\n",
       "      <td>городской посёлок Новоселье</td>\n",
       "      <td>NaN</td>\n",
       "      <td>NaN</td>\n",
       "      <td>NaN</td>\n",
       "      <td>NaN</td>\n",
       "      <td>NaN</td>\n",
       "      <td>NaN</td>\n",
       "      <td>89.0</td>\n",
       "      <td>70015.298317</td>\n",
       "      <td>пятница</td>\n",
       "      <td>12</td>\n",
       "      <td>2017</td>\n",
       "      <td>другой</td>\n",
       "      <td>0.340133</td>\n",
       "      <td>0.335033</td>\n",
       "    </tr>\n",
       "    <tr>\n",
       "      <td>1476</td>\n",
       "      <td>4</td>\n",
       "      <td>6950000.0</td>\n",
       "      <td>66.70</td>\n",
       "      <td>2018-11-14</td>\n",
       "      <td>3</td>\n",
       "      <td>2.65</td>\n",
       "      <td>9</td>\n",
       "      <td>42.50</td>\n",
       "      <td>5</td>\n",
       "      <td>False</td>\n",
       "      <td>False</td>\n",
       "      <td>False</td>\n",
       "      <td>8.50</td>\n",
       "      <td>0</td>\n",
       "      <td>Санкт-Петербург</td>\n",
       "      <td>50988.0</td>\n",
       "      <td>16316.0</td>\n",
       "      <td>0.0</td>\n",
       "      <td>NaN</td>\n",
       "      <td>1.0</td>\n",
       "      <td>1337.0</td>\n",
       "      <td>89.0</td>\n",
       "      <td>104197.901049</td>\n",
       "      <td>среда</td>\n",
       "      <td>11</td>\n",
       "      <td>2018</td>\n",
       "      <td>другой</td>\n",
       "      <td>0.637181</td>\n",
       "      <td>0.127436</td>\n",
       "    </tr>\n",
       "  </tbody>\n",
       "</table>\n",
       "</div>"
      ],
      "text/plain": [
       "      total_images  last_price  total_area first_day_exposition  rooms  \\\n",
       "12              10   3890000.0       54.00           2016-06-30      2   \n",
       "277              5   4600000.0       65.00           2017-10-12      3   \n",
       "316             11   5650000.0       46.30           2017-03-13      2   \n",
       "404              2  11400000.0       81.20           2016-04-27      3   \n",
       "424             14  11500000.0       98.00           2016-05-10      3   \n",
       "444              5   4200000.0       47.50           2018-08-17      2   \n",
       "447             13  12084000.0       86.60           2018-07-05      3   \n",
       "466             19  15900000.0       85.00           2018-01-11      3   \n",
       "507             12   4200000.0       53.00           2017-09-11      2   \n",
       "535             16  12500000.0      130.00           2017-11-17      5   \n",
       "649              1   7210000.0       61.50           2018-10-02      3   \n",
       "726              8   3800000.0       44.00           2016-05-25      2   \n",
       "810              9   6300000.0       47.00           2018-09-05      1   \n",
       "864              6   3800000.0       51.00           2018-11-07      2   \n",
       "955             12  11100000.0       95.00           2018-04-20      3   \n",
       "974              8  25897000.0      149.00           2018-03-26      4   \n",
       "1017             6  10500000.0       96.00           2016-06-20      2   \n",
       "1281             6  10700000.0       68.60           2017-06-17      2   \n",
       "1390             6   2746000.0       39.22           2017-12-01      1   \n",
       "1476             4   6950000.0       66.70           2018-11-14      3   \n",
       "\n",
       "      ceiling_height  floors_total  living_area  floor  is_apartment  studio  \\\n",
       "12               NaN             5        30.00      5         False   False   \n",
       "277              NaN            15        44.00     11         False   False   \n",
       "316              NaN             6        28.80      2         False   False   \n",
       "404              NaN             3        45.70      2         False   False   \n",
       "424             2.65             3        88.00      3         False   False   \n",
       "444             2.70             9        28.00      5         False   False   \n",
       "447              NaN            13          NaN      6         False   False   \n",
       "466              NaN            20          NaN      2         False   False   \n",
       "507              NaN             9        27.70      4         False   False   \n",
       "535             3.00             7        82.00      5         False   False   \n",
       "649             2.92             5        43.20      4         False   False   \n",
       "726             2.60             5        27.00      1         False   False   \n",
       "810              NaN             3        23.00      1         False   False   \n",
       "864             2.60             9        30.40      9         False   False   \n",
       "955              NaN            10        53.00      6         False   False   \n",
       "974             2.74             7          NaN      6         False   False   \n",
       "1017            2.60             3        51.00      3         False   False   \n",
       "1281            3.00             8        35.00      8         False   False   \n",
       "1390             NaN            12        13.34      3         False   False   \n",
       "1476            2.65             9        42.50      5         False   False   \n",
       "\n",
       "      open_plan  kitchen_area  balcony                locality_name  \\\n",
       "12        False          9.00        0                    Сертолово   \n",
       "277       False         11.00        2              Санкт-Петербург   \n",
       "316       False          9.00        0              Санкт-Петербург   \n",
       "404       False         14.30        0              Санкт-Петербург   \n",
       "424       False           NaN        1              Санкт-Петербург   \n",
       "444       False          8.00        2              Санкт-Петербург   \n",
       "447       False           NaN        0              Санкт-Петербург   \n",
       "466       False           NaN        0              Санкт-Петербург   \n",
       "507       False         10.40        2               посёлок Шушары   \n",
       "535       False          8.70        4              Санкт-Петербург   \n",
       "649       False          5.70        1              Санкт-Петербург   \n",
       "726       False          7.00        0              Санкт-Петербург   \n",
       "810       False         12.00        0              Санкт-Петербург   \n",
       "864       False          8.50        1                   Всеволожск   \n",
       "955       False         13.00        0              Санкт-Петербург   \n",
       "974       False           NaN        0              Санкт-Петербург   \n",
       "1017      False         20.00        0              Санкт-Петербург   \n",
       "1281      False         15.00        2              Санкт-Петербург   \n",
       "1390      False         13.14        2  городской посёлок Новоселье   \n",
       "1476      False          8.50        0              Санкт-Петербург   \n",
       "\n",
       "      airports_nearest  cityCenters_nearest  parks_around3000  parks_nearest  \\\n",
       "12                 NaN                  NaN               NaN            NaN   \n",
       "277            16124.0              14619.0               2.0          578.0   \n",
       "316            31327.0               3144.0               0.0            NaN   \n",
       "404            23128.0               2669.0               0.0            NaN   \n",
       "424            39363.0              13270.0               0.0            NaN   \n",
       "444            32218.0              13037.0               0.0            NaN   \n",
       "447            37412.0               8370.0               1.0          392.0   \n",
       "466            43269.0              13145.0               1.0          417.0   \n",
       "507            23450.0              29236.0               0.0            NaN   \n",
       "535            40277.0               8970.0               3.0          167.0   \n",
       "649            25407.0               3982.0               1.0          483.0   \n",
       "726            47596.0              16538.0               0.0            NaN   \n",
       "810            25599.0               6402.0               1.0          513.0   \n",
       "864                NaN                  NaN               NaN            NaN   \n",
       "955            30894.0               4087.0               1.0          696.0   \n",
       "974                NaN               9734.0               2.0          469.0   \n",
       "1017           22776.0               2318.0               0.0            NaN   \n",
       "1281           31428.0               5109.0               1.0          650.0   \n",
       "1390               NaN                  NaN               NaN            NaN   \n",
       "1476           50988.0              16316.0               0.0            NaN   \n",
       "\n",
       "      ponds_around3000  ponds_nearest  days_exposition       m2_price  \\\n",
       "12                 NaN            NaN             90.0   72037.037037   \n",
       "277                1.0          685.0             90.0   70769.230769   \n",
       "316                0.0            NaN             89.0  122030.237581   \n",
       "404                3.0          611.0             89.0  140394.088670   \n",
       "424                0.0            NaN             90.0  117346.938776   \n",
       "444                0.0            NaN             90.0   88421.052632   \n",
       "447                2.0          359.0             90.0  139538.106236   \n",
       "466                0.0            NaN             90.0  187058.823529   \n",
       "507                0.0            NaN             89.0   79245.283019   \n",
       "535                0.0            NaN             90.0   96153.846154   \n",
       "649                0.0            NaN             89.0  117235.772358   \n",
       "726                0.0            NaN             89.0   86363.636364   \n",
       "810                1.0          931.0             89.0  134042.553191   \n",
       "864                NaN            NaN             90.0   74509.803922   \n",
       "955                1.0          223.0             90.0  116842.105263   \n",
       "974                3.0          263.0             90.0  173805.369128   \n",
       "1017               0.0            NaN             90.0  109375.000000   \n",
       "1281               0.0            NaN             90.0  155976.676385   \n",
       "1390               NaN            NaN             89.0   70015.298317   \n",
       "1476               1.0         1337.0             89.0  104197.901049   \n",
       "\n",
       "     pub_dayofweek  pub_month  pub_year floor_type  living_to_total  \\\n",
       "12         четверг          6      2016  последний         0.555556   \n",
       "277        четверг         10      2017     другой         0.676923   \n",
       "316    понедельник          3      2017     другой         0.622030   \n",
       "404          среда          4      2016     другой         0.562808   \n",
       "424        вторник          5      2016  последний         0.897959   \n",
       "444        пятница          8      2018     другой         0.589474   \n",
       "447        четверг          7      2018     другой              NaN   \n",
       "466        четверг          1      2018     другой              NaN   \n",
       "507    понедельник          9      2017     другой         0.522642   \n",
       "535        пятница         11      2017     другой         0.630769   \n",
       "649        вторник         10      2018     другой         0.702439   \n",
       "726          среда          5      2016     первый         0.613636   \n",
       "810          среда          9      2018     первый         0.489362   \n",
       "864          среда         11      2018  последний         0.596078   \n",
       "955        пятница          4      2018     другой         0.557895   \n",
       "974    понедельник          3      2018     другой              NaN   \n",
       "1017   понедельник          6      2016  последний         0.531250   \n",
       "1281       суббота          6      2017  последний         0.510204   \n",
       "1390       пятница         12      2017     другой         0.340133   \n",
       "1476         среда         11      2018     другой         0.637181   \n",
       "\n",
       "      kitchen_to_total  \n",
       "12            0.166667  \n",
       "277           0.169231  \n",
       "316           0.194384  \n",
       "404           0.176108  \n",
       "424                NaN  \n",
       "444           0.168421  \n",
       "447                NaN  \n",
       "466                NaN  \n",
       "507           0.196226  \n",
       "535           0.066923  \n",
       "649           0.092683  \n",
       "726           0.159091  \n",
       "810           0.255319  \n",
       "864           0.166667  \n",
       "955           0.136842  \n",
       "974                NaN  \n",
       "1017          0.208333  \n",
       "1281          0.218659  \n",
       "1390          0.335033  \n",
       "1476          0.127436  "
      ]
     },
     "metadata": {},
     "output_type": "display_data"
    },
    {
     "data": {
      "text/html": [
       "<div>\n",
       "<style scoped>\n",
       "    .dataframe tbody tr th:only-of-type {\n",
       "        vertical-align: middle;\n",
       "    }\n",
       "\n",
       "    .dataframe tbody tr th {\n",
       "        vertical-align: top;\n",
       "    }\n",
       "\n",
       "    .dataframe thead th {\n",
       "        text-align: right;\n",
       "    }\n",
       "</style>\n",
       "<table border=\"1\" class=\"dataframe\">\n",
       "  <thead>\n",
       "    <tr style=\"text-align: right;\">\n",
       "      <th></th>\n",
       "      <th>total_images</th>\n",
       "      <th>last_price</th>\n",
       "      <th>total_area</th>\n",
       "      <th>first_day_exposition</th>\n",
       "      <th>rooms</th>\n",
       "      <th>ceiling_height</th>\n",
       "      <th>floors_total</th>\n",
       "      <th>living_area</th>\n",
       "      <th>floor</th>\n",
       "      <th>is_apartment</th>\n",
       "      <th>studio</th>\n",
       "      <th>open_plan</th>\n",
       "      <th>kitchen_area</th>\n",
       "      <th>balcony</th>\n",
       "      <th>locality_name</th>\n",
       "      <th>airports_nearest</th>\n",
       "      <th>cityCenters_nearest</th>\n",
       "      <th>parks_around3000</th>\n",
       "      <th>parks_nearest</th>\n",
       "      <th>ponds_around3000</th>\n",
       "      <th>ponds_nearest</th>\n",
       "      <th>days_exposition</th>\n",
       "      <th>m2_price</th>\n",
       "      <th>pub_dayofweek</th>\n",
       "      <th>pub_month</th>\n",
       "      <th>pub_year</th>\n",
       "      <th>floor_type</th>\n",
       "      <th>living_to_total</th>\n",
       "      <th>kitchen_to_total</th>\n",
       "    </tr>\n",
       "  </thead>\n",
       "  <tbody>\n",
       "    <tr>\n",
       "      <td>22</td>\n",
       "      <td>20</td>\n",
       "      <td>5000000.0</td>\n",
       "      <td>58.00</td>\n",
       "      <td>2017-04-24</td>\n",
       "      <td>2</td>\n",
       "      <td>2.75</td>\n",
       "      <td>25</td>\n",
       "      <td>30.00</td>\n",
       "      <td>15</td>\n",
       "      <td>False</td>\n",
       "      <td>False</td>\n",
       "      <td>False</td>\n",
       "      <td>11.00</td>\n",
       "      <td>2</td>\n",
       "      <td>деревня Кудрово</td>\n",
       "      <td>NaN</td>\n",
       "      <td>NaN</td>\n",
       "      <td>NaN</td>\n",
       "      <td>NaN</td>\n",
       "      <td>NaN</td>\n",
       "      <td>NaN</td>\n",
       "      <td>60.0</td>\n",
       "      <td>86206.896552</td>\n",
       "      <td>понедельник</td>\n",
       "      <td>4</td>\n",
       "      <td>2017</td>\n",
       "      <td>другой</td>\n",
       "      <td>0.517241</td>\n",
       "      <td>0.189655</td>\n",
       "    </tr>\n",
       "    <tr>\n",
       "      <td>82</td>\n",
       "      <td>3</td>\n",
       "      <td>4500000.0</td>\n",
       "      <td>80.50</td>\n",
       "      <td>2018-01-15</td>\n",
       "      <td>3</td>\n",
       "      <td>NaN</td>\n",
       "      <td>25</td>\n",
       "      <td>NaN</td>\n",
       "      <td>16</td>\n",
       "      <td>False</td>\n",
       "      <td>False</td>\n",
       "      <td>False</td>\n",
       "      <td>NaN</td>\n",
       "      <td>0</td>\n",
       "      <td>посёлок Шушары</td>\n",
       "      <td>12430.0</td>\n",
       "      <td>18217.0</td>\n",
       "      <td>0.0</td>\n",
       "      <td>NaN</td>\n",
       "      <td>0.0</td>\n",
       "      <td>NaN</td>\n",
       "      <td>60.0</td>\n",
       "      <td>55900.621118</td>\n",
       "      <td>понедельник</td>\n",
       "      <td>1</td>\n",
       "      <td>2018</td>\n",
       "      <td>другой</td>\n",
       "      <td>NaN</td>\n",
       "      <td>NaN</td>\n",
       "    </tr>\n",
       "    <tr>\n",
       "      <td>105</td>\n",
       "      <td>12</td>\n",
       "      <td>4900000.0</td>\n",
       "      <td>32.00</td>\n",
       "      <td>2018-01-07</td>\n",
       "      <td>1</td>\n",
       "      <td>NaN</td>\n",
       "      <td>25</td>\n",
       "      <td>15.00</td>\n",
       "      <td>5</td>\n",
       "      <td>False</td>\n",
       "      <td>False</td>\n",
       "      <td>False</td>\n",
       "      <td>9.00</td>\n",
       "      <td>0</td>\n",
       "      <td>Санкт-Петербург</td>\n",
       "      <td>52480.0</td>\n",
       "      <td>15598.0</td>\n",
       "      <td>0.0</td>\n",
       "      <td>NaN</td>\n",
       "      <td>1.0</td>\n",
       "      <td>464.0</td>\n",
       "      <td>60.0</td>\n",
       "      <td>153125.000000</td>\n",
       "      <td>воскресенье</td>\n",
       "      <td>1</td>\n",
       "      <td>2018</td>\n",
       "      <td>другой</td>\n",
       "      <td>0.468750</td>\n",
       "      <td>0.281250</td>\n",
       "    </tr>\n",
       "    <tr>\n",
       "      <td>118</td>\n",
       "      <td>8</td>\n",
       "      <td>4500000.0</td>\n",
       "      <td>31.00</td>\n",
       "      <td>2019-02-24</td>\n",
       "      <td>1</td>\n",
       "      <td>2.50</td>\n",
       "      <td>9</td>\n",
       "      <td>17.00</td>\n",
       "      <td>4</td>\n",
       "      <td>False</td>\n",
       "      <td>False</td>\n",
       "      <td>False</td>\n",
       "      <td>5.00</td>\n",
       "      <td>0</td>\n",
       "      <td>Санкт-Петербург</td>\n",
       "      <td>35445.0</td>\n",
       "      <td>9089.0</td>\n",
       "      <td>0.0</td>\n",
       "      <td>NaN</td>\n",
       "      <td>2.0</td>\n",
       "      <td>439.0</td>\n",
       "      <td>60.0</td>\n",
       "      <td>145161.290323</td>\n",
       "      <td>воскресенье</td>\n",
       "      <td>2</td>\n",
       "      <td>2019</td>\n",
       "      <td>другой</td>\n",
       "      <td>0.548387</td>\n",
       "      <td>0.161290</td>\n",
       "    </tr>\n",
       "    <tr>\n",
       "      <td>143</td>\n",
       "      <td>9</td>\n",
       "      <td>2990000.0</td>\n",
       "      <td>30.00</td>\n",
       "      <td>2016-06-08</td>\n",
       "      <td>1</td>\n",
       "      <td>2.50</td>\n",
       "      <td>9</td>\n",
       "      <td>20.00</td>\n",
       "      <td>9</td>\n",
       "      <td>False</td>\n",
       "      <td>False</td>\n",
       "      <td>False</td>\n",
       "      <td>5.60</td>\n",
       "      <td>0</td>\n",
       "      <td>Санкт-Петербург</td>\n",
       "      <td>30067.0</td>\n",
       "      <td>6262.0</td>\n",
       "      <td>0.0</td>\n",
       "      <td>NaN</td>\n",
       "      <td>1.0</td>\n",
       "      <td>332.0</td>\n",
       "      <td>60.0</td>\n",
       "      <td>99666.666667</td>\n",
       "      <td>среда</td>\n",
       "      <td>6</td>\n",
       "      <td>2016</td>\n",
       "      <td>последний</td>\n",
       "      <td>0.666667</td>\n",
       "      <td>0.186667</td>\n",
       "    </tr>\n",
       "    <tr>\n",
       "      <td>352</td>\n",
       "      <td>3</td>\n",
       "      <td>5496074.0</td>\n",
       "      <td>48.60</td>\n",
       "      <td>2016-04-25</td>\n",
       "      <td>1</td>\n",
       "      <td>NaN</td>\n",
       "      <td>11</td>\n",
       "      <td>13.00</td>\n",
       "      <td>3</td>\n",
       "      <td>False</td>\n",
       "      <td>False</td>\n",
       "      <td>False</td>\n",
       "      <td>15.00</td>\n",
       "      <td>2</td>\n",
       "      <td>Санкт-Петербург</td>\n",
       "      <td>23609.0</td>\n",
       "      <td>5299.0</td>\n",
       "      <td>0.0</td>\n",
       "      <td>NaN</td>\n",
       "      <td>1.0</td>\n",
       "      <td>433.0</td>\n",
       "      <td>60.0</td>\n",
       "      <td>113087.942387</td>\n",
       "      <td>понедельник</td>\n",
       "      <td>4</td>\n",
       "      <td>2016</td>\n",
       "      <td>другой</td>\n",
       "      <td>0.267490</td>\n",
       "      <td>0.308642</td>\n",
       "    </tr>\n",
       "    <tr>\n",
       "      <td>360</td>\n",
       "      <td>6</td>\n",
       "      <td>4990000.0</td>\n",
       "      <td>57.84</td>\n",
       "      <td>2018-08-22</td>\n",
       "      <td>2</td>\n",
       "      <td>2.65</td>\n",
       "      <td>27</td>\n",
       "      <td>NaN</td>\n",
       "      <td>13</td>\n",
       "      <td>False</td>\n",
       "      <td>False</td>\n",
       "      <td>False</td>\n",
       "      <td>10.19</td>\n",
       "      <td>2</td>\n",
       "      <td>посёлок Мурино</td>\n",
       "      <td>NaN</td>\n",
       "      <td>NaN</td>\n",
       "      <td>NaN</td>\n",
       "      <td>NaN</td>\n",
       "      <td>NaN</td>\n",
       "      <td>NaN</td>\n",
       "      <td>60.0</td>\n",
       "      <td>86272.475795</td>\n",
       "      <td>среда</td>\n",
       "      <td>8</td>\n",
       "      <td>2018</td>\n",
       "      <td>другой</td>\n",
       "      <td>NaN</td>\n",
       "      <td>0.176176</td>\n",
       "    </tr>\n",
       "    <tr>\n",
       "      <td>416</td>\n",
       "      <td>7</td>\n",
       "      <td>5200000.0</td>\n",
       "      <td>52.00</td>\n",
       "      <td>2016-07-04</td>\n",
       "      <td>2</td>\n",
       "      <td>NaN</td>\n",
       "      <td>12</td>\n",
       "      <td>30.50</td>\n",
       "      <td>12</td>\n",
       "      <td>False</td>\n",
       "      <td>False</td>\n",
       "      <td>False</td>\n",
       "      <td>9.00</td>\n",
       "      <td>1</td>\n",
       "      <td>Санкт-Петербург</td>\n",
       "      <td>34636.0</td>\n",
       "      <td>12010.0</td>\n",
       "      <td>0.0</td>\n",
       "      <td>NaN</td>\n",
       "      <td>0.0</td>\n",
       "      <td>NaN</td>\n",
       "      <td>60.0</td>\n",
       "      <td>100000.000000</td>\n",
       "      <td>понедельник</td>\n",
       "      <td>7</td>\n",
       "      <td>2016</td>\n",
       "      <td>последний</td>\n",
       "      <td>0.586538</td>\n",
       "      <td>0.173077</td>\n",
       "    </tr>\n",
       "    <tr>\n",
       "      <td>491</td>\n",
       "      <td>20</td>\n",
       "      <td>8900000.0</td>\n",
       "      <td>66.10</td>\n",
       "      <td>2017-12-21</td>\n",
       "      <td>3</td>\n",
       "      <td>2.75</td>\n",
       "      <td>11</td>\n",
       "      <td>43.60</td>\n",
       "      <td>5</td>\n",
       "      <td>False</td>\n",
       "      <td>False</td>\n",
       "      <td>False</td>\n",
       "      <td>17.20</td>\n",
       "      <td>1</td>\n",
       "      <td>Санкт-Петербург</td>\n",
       "      <td>33933.0</td>\n",
       "      <td>15032.0</td>\n",
       "      <td>1.0</td>\n",
       "      <td>412.0</td>\n",
       "      <td>3.0</td>\n",
       "      <td>360.0</td>\n",
       "      <td>60.0</td>\n",
       "      <td>134644.478064</td>\n",
       "      <td>четверг</td>\n",
       "      <td>12</td>\n",
       "      <td>2017</td>\n",
       "      <td>другой</td>\n",
       "      <td>0.659607</td>\n",
       "      <td>0.260212</td>\n",
       "    </tr>\n",
       "    <tr>\n",
       "      <td>515</td>\n",
       "      <td>7</td>\n",
       "      <td>5500000.0</td>\n",
       "      <td>51.40</td>\n",
       "      <td>2018-09-06</td>\n",
       "      <td>2</td>\n",
       "      <td>2.60</td>\n",
       "      <td>14</td>\n",
       "      <td>29.10</td>\n",
       "      <td>11</td>\n",
       "      <td>False</td>\n",
       "      <td>False</td>\n",
       "      <td>False</td>\n",
       "      <td>9.30</td>\n",
       "      <td>1</td>\n",
       "      <td>Кудрово</td>\n",
       "      <td>NaN</td>\n",
       "      <td>NaN</td>\n",
       "      <td>NaN</td>\n",
       "      <td>NaN</td>\n",
       "      <td>NaN</td>\n",
       "      <td>NaN</td>\n",
       "      <td>60.0</td>\n",
       "      <td>107003.891051</td>\n",
       "      <td>четверг</td>\n",
       "      <td>9</td>\n",
       "      <td>2018</td>\n",
       "      <td>другой</td>\n",
       "      <td>0.566148</td>\n",
       "      <td>0.180934</td>\n",
       "    </tr>\n",
       "    <tr>\n",
       "      <td>548</td>\n",
       "      <td>6</td>\n",
       "      <td>9411080.0</td>\n",
       "      <td>81.13</td>\n",
       "      <td>2018-07-24</td>\n",
       "      <td>3</td>\n",
       "      <td>2.90</td>\n",
       "      <td>24</td>\n",
       "      <td>50.25</td>\n",
       "      <td>6</td>\n",
       "      <td>False</td>\n",
       "      <td>False</td>\n",
       "      <td>False</td>\n",
       "      <td>14.20</td>\n",
       "      <td>0</td>\n",
       "      <td>Санкт-Петербург</td>\n",
       "      <td>11312.0</td>\n",
       "      <td>10944.0</td>\n",
       "      <td>0.0</td>\n",
       "      <td>NaN</td>\n",
       "      <td>0.0</td>\n",
       "      <td>NaN</td>\n",
       "      <td>60.0</td>\n",
       "      <td>116000.000000</td>\n",
       "      <td>вторник</td>\n",
       "      <td>7</td>\n",
       "      <td>2018</td>\n",
       "      <td>другой</td>\n",
       "      <td>0.619376</td>\n",
       "      <td>0.175028</td>\n",
       "    </tr>\n",
       "    <tr>\n",
       "      <td>553</td>\n",
       "      <td>1</td>\n",
       "      <td>4700000.0</td>\n",
       "      <td>61.30</td>\n",
       "      <td>2017-05-22</td>\n",
       "      <td>2</td>\n",
       "      <td>2.75</td>\n",
       "      <td>18</td>\n",
       "      <td>26.00</td>\n",
       "      <td>6</td>\n",
       "      <td>False</td>\n",
       "      <td>False</td>\n",
       "      <td>False</td>\n",
       "      <td>13.80</td>\n",
       "      <td>1</td>\n",
       "      <td>Санкт-Петербург</td>\n",
       "      <td>41924.0</td>\n",
       "      <td>21240.0</td>\n",
       "      <td>0.0</td>\n",
       "      <td>NaN</td>\n",
       "      <td>0.0</td>\n",
       "      <td>NaN</td>\n",
       "      <td>60.0</td>\n",
       "      <td>76672.104405</td>\n",
       "      <td>понедельник</td>\n",
       "      <td>5</td>\n",
       "      <td>2017</td>\n",
       "      <td>другой</td>\n",
       "      <td>0.424144</td>\n",
       "      <td>0.225122</td>\n",
       "    </tr>\n",
       "    <tr>\n",
       "      <td>583</td>\n",
       "      <td>8</td>\n",
       "      <td>9150000.0</td>\n",
       "      <td>86.00</td>\n",
       "      <td>2017-11-10</td>\n",
       "      <td>3</td>\n",
       "      <td>2.80</td>\n",
       "      <td>17</td>\n",
       "      <td>55.00</td>\n",
       "      <td>4</td>\n",
       "      <td>False</td>\n",
       "      <td>False</td>\n",
       "      <td>False</td>\n",
       "      <td>13.00</td>\n",
       "      <td>0</td>\n",
       "      <td>Санкт-Петербург</td>\n",
       "      <td>35181.0</td>\n",
       "      <td>11592.0</td>\n",
       "      <td>0.0</td>\n",
       "      <td>NaN</td>\n",
       "      <td>2.0</td>\n",
       "      <td>1026.0</td>\n",
       "      <td>60.0</td>\n",
       "      <td>106395.348837</td>\n",
       "      <td>пятница</td>\n",
       "      <td>11</td>\n",
       "      <td>2017</td>\n",
       "      <td>другой</td>\n",
       "      <td>0.639535</td>\n",
       "      <td>0.151163</td>\n",
       "    </tr>\n",
       "    <tr>\n",
       "      <td>659</td>\n",
       "      <td>8</td>\n",
       "      <td>6800000.0</td>\n",
       "      <td>81.10</td>\n",
       "      <td>2017-12-08</td>\n",
       "      <td>4</td>\n",
       "      <td>2.70</td>\n",
       "      <td>16</td>\n",
       "      <td>45.10</td>\n",
       "      <td>9</td>\n",
       "      <td>False</td>\n",
       "      <td>False</td>\n",
       "      <td>False</td>\n",
       "      <td>15.10</td>\n",
       "      <td>2</td>\n",
       "      <td>Санкт-Петербург</td>\n",
       "      <td>51811.0</td>\n",
       "      <td>15766.0</td>\n",
       "      <td>0.0</td>\n",
       "      <td>NaN</td>\n",
       "      <td>0.0</td>\n",
       "      <td>NaN</td>\n",
       "      <td>60.0</td>\n",
       "      <td>83847.102343</td>\n",
       "      <td>пятница</td>\n",
       "      <td>12</td>\n",
       "      <td>2017</td>\n",
       "      <td>другой</td>\n",
       "      <td>0.556104</td>\n",
       "      <td>0.186190</td>\n",
       "    </tr>\n",
       "    <tr>\n",
       "      <td>682</td>\n",
       "      <td>9</td>\n",
       "      <td>4799000.0</td>\n",
       "      <td>51.00</td>\n",
       "      <td>2019-02-28</td>\n",
       "      <td>2</td>\n",
       "      <td>NaN</td>\n",
       "      <td>5</td>\n",
       "      <td>31.00</td>\n",
       "      <td>1</td>\n",
       "      <td>False</td>\n",
       "      <td>False</td>\n",
       "      <td>False</td>\n",
       "      <td>7.00</td>\n",
       "      <td>0</td>\n",
       "      <td>Санкт-Петербург</td>\n",
       "      <td>32716.0</td>\n",
       "      <td>9794.0</td>\n",
       "      <td>1.0</td>\n",
       "      <td>201.0</td>\n",
       "      <td>1.0</td>\n",
       "      <td>796.0</td>\n",
       "      <td>60.0</td>\n",
       "      <td>94098.039216</td>\n",
       "      <td>четверг</td>\n",
       "      <td>2</td>\n",
       "      <td>2019</td>\n",
       "      <td>первый</td>\n",
       "      <td>0.607843</td>\n",
       "      <td>0.137255</td>\n",
       "    </tr>\n",
       "    <tr>\n",
       "      <td>683</td>\n",
       "      <td>15</td>\n",
       "      <td>5850000.0</td>\n",
       "      <td>60.10</td>\n",
       "      <td>2018-02-20</td>\n",
       "      <td>2</td>\n",
       "      <td>2.65</td>\n",
       "      <td>25</td>\n",
       "      <td>38.50</td>\n",
       "      <td>2</td>\n",
       "      <td>False</td>\n",
       "      <td>False</td>\n",
       "      <td>False</td>\n",
       "      <td>9.80</td>\n",
       "      <td>2</td>\n",
       "      <td>посёлок Шушары</td>\n",
       "      <td>12840.0</td>\n",
       "      <td>18626.0</td>\n",
       "      <td>0.0</td>\n",
       "      <td>NaN</td>\n",
       "      <td>0.0</td>\n",
       "      <td>NaN</td>\n",
       "      <td>60.0</td>\n",
       "      <td>97337.770383</td>\n",
       "      <td>вторник</td>\n",
       "      <td>2</td>\n",
       "      <td>2018</td>\n",
       "      <td>другой</td>\n",
       "      <td>0.640599</td>\n",
       "      <td>0.163062</td>\n",
       "    </tr>\n",
       "    <tr>\n",
       "      <td>702</td>\n",
       "      <td>17</td>\n",
       "      <td>4750000.0</td>\n",
       "      <td>39.50</td>\n",
       "      <td>2018-07-19</td>\n",
       "      <td>1</td>\n",
       "      <td>NaN</td>\n",
       "      <td>16</td>\n",
       "      <td>NaN</td>\n",
       "      <td>2</td>\n",
       "      <td>False</td>\n",
       "      <td>False</td>\n",
       "      <td>False</td>\n",
       "      <td>NaN</td>\n",
       "      <td>0</td>\n",
       "      <td>Санкт-Петербург</td>\n",
       "      <td>27428.0</td>\n",
       "      <td>9241.0</td>\n",
       "      <td>0.0</td>\n",
       "      <td>NaN</td>\n",
       "      <td>0.0</td>\n",
       "      <td>NaN</td>\n",
       "      <td>60.0</td>\n",
       "      <td>120253.164557</td>\n",
       "      <td>четверг</td>\n",
       "      <td>7</td>\n",
       "      <td>2018</td>\n",
       "      <td>другой</td>\n",
       "      <td>NaN</td>\n",
       "      <td>NaN</td>\n",
       "    </tr>\n",
       "    <tr>\n",
       "      <td>709</td>\n",
       "      <td>8</td>\n",
       "      <td>8971000.0</td>\n",
       "      <td>85.00</td>\n",
       "      <td>2017-12-14</td>\n",
       "      <td>3</td>\n",
       "      <td>NaN</td>\n",
       "      <td>9</td>\n",
       "      <td>NaN</td>\n",
       "      <td>4</td>\n",
       "      <td>False</td>\n",
       "      <td>False</td>\n",
       "      <td>False</td>\n",
       "      <td>NaN</td>\n",
       "      <td>0</td>\n",
       "      <td>Санкт-Петербург</td>\n",
       "      <td>24591.0</td>\n",
       "      <td>5436.0</td>\n",
       "      <td>0.0</td>\n",
       "      <td>NaN</td>\n",
       "      <td>1.0</td>\n",
       "      <td>578.0</td>\n",
       "      <td>60.0</td>\n",
       "      <td>105541.176471</td>\n",
       "      <td>четверг</td>\n",
       "      <td>12</td>\n",
       "      <td>2017</td>\n",
       "      <td>другой</td>\n",
       "      <td>NaN</td>\n",
       "      <td>NaN</td>\n",
       "    </tr>\n",
       "    <tr>\n",
       "      <td>772</td>\n",
       "      <td>12</td>\n",
       "      <td>6050000.0</td>\n",
       "      <td>51.00</td>\n",
       "      <td>2017-12-06</td>\n",
       "      <td>1</td>\n",
       "      <td>NaN</td>\n",
       "      <td>16</td>\n",
       "      <td>23.00</td>\n",
       "      <td>6</td>\n",
       "      <td>False</td>\n",
       "      <td>False</td>\n",
       "      <td>False</td>\n",
       "      <td>10.20</td>\n",
       "      <td>2</td>\n",
       "      <td>Санкт-Петербург</td>\n",
       "      <td>42236.0</td>\n",
       "      <td>14739.0</td>\n",
       "      <td>1.0</td>\n",
       "      <td>337.0</td>\n",
       "      <td>0.0</td>\n",
       "      <td>NaN</td>\n",
       "      <td>60.0</td>\n",
       "      <td>118627.450980</td>\n",
       "      <td>среда</td>\n",
       "      <td>12</td>\n",
       "      <td>2017</td>\n",
       "      <td>другой</td>\n",
       "      <td>0.450980</td>\n",
       "      <td>0.200000</td>\n",
       "    </tr>\n",
       "    <tr>\n",
       "      <td>791</td>\n",
       "      <td>9</td>\n",
       "      <td>7200000.0</td>\n",
       "      <td>63.30</td>\n",
       "      <td>2018-03-04</td>\n",
       "      <td>2</td>\n",
       "      <td>NaN</td>\n",
       "      <td>25</td>\n",
       "      <td>NaN</td>\n",
       "      <td>3</td>\n",
       "      <td>False</td>\n",
       "      <td>False</td>\n",
       "      <td>False</td>\n",
       "      <td>NaN</td>\n",
       "      <td>0</td>\n",
       "      <td>Санкт-Петербург</td>\n",
       "      <td>22318.0</td>\n",
       "      <td>17646.0</td>\n",
       "      <td>0.0</td>\n",
       "      <td>NaN</td>\n",
       "      <td>1.0</td>\n",
       "      <td>79.0</td>\n",
       "      <td>60.0</td>\n",
       "      <td>113744.075829</td>\n",
       "      <td>воскресенье</td>\n",
       "      <td>3</td>\n",
       "      <td>2018</td>\n",
       "      <td>другой</td>\n",
       "      <td>NaN</td>\n",
       "      <td>NaN</td>\n",
       "    </tr>\n",
       "  </tbody>\n",
       "</table>\n",
       "</div>"
      ],
      "text/plain": [
       "     total_images  last_price  total_area first_day_exposition  rooms  \\\n",
       "22             20   5000000.0       58.00           2017-04-24      2   \n",
       "82              3   4500000.0       80.50           2018-01-15      3   \n",
       "105            12   4900000.0       32.00           2018-01-07      1   \n",
       "118             8   4500000.0       31.00           2019-02-24      1   \n",
       "143             9   2990000.0       30.00           2016-06-08      1   \n",
       "352             3   5496074.0       48.60           2016-04-25      1   \n",
       "360             6   4990000.0       57.84           2018-08-22      2   \n",
       "416             7   5200000.0       52.00           2016-07-04      2   \n",
       "491            20   8900000.0       66.10           2017-12-21      3   \n",
       "515             7   5500000.0       51.40           2018-09-06      2   \n",
       "548             6   9411080.0       81.13           2018-07-24      3   \n",
       "553             1   4700000.0       61.30           2017-05-22      2   \n",
       "583             8   9150000.0       86.00           2017-11-10      3   \n",
       "659             8   6800000.0       81.10           2017-12-08      4   \n",
       "682             9   4799000.0       51.00           2019-02-28      2   \n",
       "683            15   5850000.0       60.10           2018-02-20      2   \n",
       "702            17   4750000.0       39.50           2018-07-19      1   \n",
       "709             8   8971000.0       85.00           2017-12-14      3   \n",
       "772            12   6050000.0       51.00           2017-12-06      1   \n",
       "791             9   7200000.0       63.30           2018-03-04      2   \n",
       "\n",
       "     ceiling_height  floors_total  living_area  floor  is_apartment  studio  \\\n",
       "22             2.75            25        30.00     15         False   False   \n",
       "82              NaN            25          NaN     16         False   False   \n",
       "105             NaN            25        15.00      5         False   False   \n",
       "118            2.50             9        17.00      4         False   False   \n",
       "143            2.50             9        20.00      9         False   False   \n",
       "352             NaN            11        13.00      3         False   False   \n",
       "360            2.65            27          NaN     13         False   False   \n",
       "416             NaN            12        30.50     12         False   False   \n",
       "491            2.75            11        43.60      5         False   False   \n",
       "515            2.60            14        29.10     11         False   False   \n",
       "548            2.90            24        50.25      6         False   False   \n",
       "553            2.75            18        26.00      6         False   False   \n",
       "583            2.80            17        55.00      4         False   False   \n",
       "659            2.70            16        45.10      9         False   False   \n",
       "682             NaN             5        31.00      1         False   False   \n",
       "683            2.65            25        38.50      2         False   False   \n",
       "702             NaN            16          NaN      2         False   False   \n",
       "709             NaN             9          NaN      4         False   False   \n",
       "772             NaN            16        23.00      6         False   False   \n",
       "791             NaN            25          NaN      3         False   False   \n",
       "\n",
       "     open_plan  kitchen_area  balcony    locality_name  airports_nearest  \\\n",
       "22       False         11.00        2  деревня Кудрово               NaN   \n",
       "82       False           NaN        0   посёлок Шушары           12430.0   \n",
       "105      False          9.00        0  Санкт-Петербург           52480.0   \n",
       "118      False          5.00        0  Санкт-Петербург           35445.0   \n",
       "143      False          5.60        0  Санкт-Петербург           30067.0   \n",
       "352      False         15.00        2  Санкт-Петербург           23609.0   \n",
       "360      False         10.19        2   посёлок Мурино               NaN   \n",
       "416      False          9.00        1  Санкт-Петербург           34636.0   \n",
       "491      False         17.20        1  Санкт-Петербург           33933.0   \n",
       "515      False          9.30        1          Кудрово               NaN   \n",
       "548      False         14.20        0  Санкт-Петербург           11312.0   \n",
       "553      False         13.80        1  Санкт-Петербург           41924.0   \n",
       "583      False         13.00        0  Санкт-Петербург           35181.0   \n",
       "659      False         15.10        2  Санкт-Петербург           51811.0   \n",
       "682      False          7.00        0  Санкт-Петербург           32716.0   \n",
       "683      False          9.80        2   посёлок Шушары           12840.0   \n",
       "702      False           NaN        0  Санкт-Петербург           27428.0   \n",
       "709      False           NaN        0  Санкт-Петербург           24591.0   \n",
       "772      False         10.20        2  Санкт-Петербург           42236.0   \n",
       "791      False           NaN        0  Санкт-Петербург           22318.0   \n",
       "\n",
       "     cityCenters_nearest  parks_around3000  parks_nearest  ponds_around3000  \\\n",
       "22                   NaN               NaN            NaN               NaN   \n",
       "82               18217.0               0.0            NaN               0.0   \n",
       "105              15598.0               0.0            NaN               1.0   \n",
       "118               9089.0               0.0            NaN               2.0   \n",
       "143               6262.0               0.0            NaN               1.0   \n",
       "352               5299.0               0.0            NaN               1.0   \n",
       "360                  NaN               NaN            NaN               NaN   \n",
       "416              12010.0               0.0            NaN               0.0   \n",
       "491              15032.0               1.0          412.0               3.0   \n",
       "515                  NaN               NaN            NaN               NaN   \n",
       "548              10944.0               0.0            NaN               0.0   \n",
       "553              21240.0               0.0            NaN               0.0   \n",
       "583              11592.0               0.0            NaN               2.0   \n",
       "659              15766.0               0.0            NaN               0.0   \n",
       "682               9794.0               1.0          201.0               1.0   \n",
       "683              18626.0               0.0            NaN               0.0   \n",
       "702               9241.0               0.0            NaN               0.0   \n",
       "709               5436.0               0.0            NaN               1.0   \n",
       "772              14739.0               1.0          337.0               0.0   \n",
       "791              17646.0               0.0            NaN               1.0   \n",
       "\n",
       "     ponds_nearest  days_exposition       m2_price pub_dayofweek  pub_month  \\\n",
       "22             NaN             60.0   86206.896552   понедельник          4   \n",
       "82             NaN             60.0   55900.621118   понедельник          1   \n",
       "105          464.0             60.0  153125.000000   воскресенье          1   \n",
       "118          439.0             60.0  145161.290323   воскресенье          2   \n",
       "143          332.0             60.0   99666.666667         среда          6   \n",
       "352          433.0             60.0  113087.942387   понедельник          4   \n",
       "360            NaN             60.0   86272.475795         среда          8   \n",
       "416            NaN             60.0  100000.000000   понедельник          7   \n",
       "491          360.0             60.0  134644.478064       четверг         12   \n",
       "515            NaN             60.0  107003.891051       четверг          9   \n",
       "548            NaN             60.0  116000.000000       вторник          7   \n",
       "553            NaN             60.0   76672.104405   понедельник          5   \n",
       "583         1026.0             60.0  106395.348837       пятница         11   \n",
       "659            NaN             60.0   83847.102343       пятница         12   \n",
       "682          796.0             60.0   94098.039216       четверг          2   \n",
       "683            NaN             60.0   97337.770383       вторник          2   \n",
       "702            NaN             60.0  120253.164557       четверг          7   \n",
       "709          578.0             60.0  105541.176471       четверг         12   \n",
       "772            NaN             60.0  118627.450980         среда         12   \n",
       "791           79.0             60.0  113744.075829   воскресенье          3   \n",
       "\n",
       "     pub_year floor_type  living_to_total  kitchen_to_total  \n",
       "22       2017     другой         0.517241          0.189655  \n",
       "82       2018     другой              NaN               NaN  \n",
       "105      2018     другой         0.468750          0.281250  \n",
       "118      2019     другой         0.548387          0.161290  \n",
       "143      2016  последний         0.666667          0.186667  \n",
       "352      2016     другой         0.267490          0.308642  \n",
       "360      2018     другой              NaN          0.176176  \n",
       "416      2016  последний         0.586538          0.173077  \n",
       "491      2017     другой         0.659607          0.260212  \n",
       "515      2018     другой         0.566148          0.180934  \n",
       "548      2018     другой         0.619376          0.175028  \n",
       "553      2017     другой         0.424144          0.225122  \n",
       "583      2017     другой         0.639535          0.151163  \n",
       "659      2017     другой         0.556104          0.186190  \n",
       "682      2019     первый         0.607843          0.137255  \n",
       "683      2018     другой         0.640599          0.163062  \n",
       "702      2018     другой              NaN               NaN  \n",
       "709      2017     другой              NaN               NaN  \n",
       "772      2017     другой         0.450980          0.200000  \n",
       "791      2018     другой              NaN               NaN  "
      ]
     },
     "execution_count": 80,
     "metadata": {},
     "output_type": "execute_result"
    }
   ],
   "source": [
    "display(df.query(\"44 < days_exposition < 46\").head(20))\n",
    "display(df.query(\"89 < days_exposition < 91\").head(20))\n",
    "df.query(\"59 < days_exposition < 61\").head(20)"
   ]
  },
  {
   "cell_type": "code",
   "execution_count": 81,
   "metadata": {},
   "outputs": [
    {
     "name": "stdout",
     "output_type": "stream",
     "text": [
      "<class 'pandas.core.frame.DataFrame'>\n",
      "Int64Index: 18105 entries, 0 to 23697\n",
      "Data columns (total 29 columns):\n",
      "total_images            18105 non-null int64\n",
      "last_price              18105 non-null float64\n",
      "total_area              18105 non-null float64\n",
      "first_day_exposition    18105 non-null datetime64[ns]\n",
      "rooms                   18105 non-null int64\n",
      "ceiling_height          11553 non-null float64\n",
      "floors_total            18105 non-null int64\n",
      "living_area             16852 non-null float64\n",
      "floor                   18105 non-null int64\n",
      "is_apartment            18105 non-null bool\n",
      "studio                  18105 non-null bool\n",
      "open_plan               18105 non-null bool\n",
      "kitchen_area            16582 non-null float64\n",
      "balcony                 18105 non-null int64\n",
      "locality_name           18065 non-null object\n",
      "airports_nearest        18081 non-null float64\n",
      "cityCenters_nearest     18104 non-null float64\n",
      "parks_around3000        18105 non-null float64\n",
      "parks_nearest           8045 non-null float64\n",
      "ponds_around3000        18105 non-null float64\n",
      "ponds_nearest           9061 non-null float64\n",
      "days_exposition         15797 non-null float64\n",
      "m2_price                18105 non-null float64\n",
      "pub_dayofweek           18105 non-null object\n",
      "pub_month               18105 non-null int64\n",
      "pub_year                18105 non-null int64\n",
      "floor_type              18105 non-null object\n",
      "living_to_total         16852 non-null float64\n",
      "kitchen_to_total        16582 non-null float64\n",
      "dtypes: bool(3), datetime64[ns](1), float64(15), int64(7), object(3)\n",
      "memory usage: 3.8+ MB\n"
     ]
    }
   ],
   "source": [
    "#Удалим строки в которых расстояние до ближйшего пруда или парка меньше трех километров, но в колонке кол-ва прудов или парков выставлен 0\n",
    "df = df.query(\"not(parks_nearest < 3000 and parks_around3000 == 0)\")\n",
    "df = df.query(\"not(ponds_nearest < 3000 and ponds_around3000 == 0)\")\n",
    "#также удалим строки в которых не укахано ни одно расстояние и количесство прудов и парков также не указано, т.е. слишком много пропущенных значений\n",
    "df = df.query(\"not(airports_nearest.isna() and cityCenters_nearest.isna() and\\\n",
    "              parks_around3000.isna() and parks_nearest.isna() and ponds_around3000.isna() and ponds_nearest.isna())\")\n",
    "df.info()"
   ]
  },
  {
   "cell_type": "code",
   "execution_count": 82,
   "metadata": {
    "scrolled": false
   },
   "outputs": [
    {
     "data": {
      "text/plain": [
       "<matplotlib.axes._subplots.AxesSubplot at 0x7f1633bbd6d0>"
      ]
     },
     "execution_count": 82,
     "metadata": {},
     "output_type": "execute_result"
    },
    {
     "data": {
      "image/png": "[encoded data removed]",
      "text/plain": [
       "<Figure size 720x504 with 1 Axes>"
      ]
     },
     "metadata": {
      "needs_background": "light"
     },
     "output_type": "display_data"
    }
   ],
   "source": [
    "#проверим гистограмму в более узком диапазоне\n",
    "df['days_exposition'].plot(kind='hist', bins=100, range=(0, 300), title='days exposition shortened', grid=True, figsize=(10, 7))\n"
   ]
  },
  {
   "cell_type": "code",
   "execution_count": 83,
   "metadata": {},
   "outputs": [
    {
     "data": {
      "text/html": [
       "<div>\n",
       "<style scoped>\n",
       "    .dataframe tbody tr th:only-of-type {\n",
       "        vertical-align: middle;\n",
       "    }\n",
       "\n",
       "    .dataframe tbody tr th {\n",
       "        vertical-align: top;\n",
       "    }\n",
       "\n",
       "    .dataframe thead th {\n",
       "        text-align: right;\n",
       "    }\n",
       "</style>\n",
       "<table border=\"1\" class=\"dataframe\">\n",
       "  <thead>\n",
       "    <tr style=\"text-align: right;\">\n",
       "      <th></th>\n",
       "      <th>total_images</th>\n",
       "      <th>last_price</th>\n",
       "      <th>total_area</th>\n",
       "      <th>first_day_exposition</th>\n",
       "      <th>rooms</th>\n",
       "      <th>ceiling_height</th>\n",
       "      <th>floors_total</th>\n",
       "      <th>living_area</th>\n",
       "      <th>floor</th>\n",
       "      <th>is_apartment</th>\n",
       "      <th>studio</th>\n",
       "      <th>open_plan</th>\n",
       "      <th>kitchen_area</th>\n",
       "      <th>balcony</th>\n",
       "      <th>locality_name</th>\n",
       "      <th>airports_nearest</th>\n",
       "      <th>cityCenters_nearest</th>\n",
       "      <th>parks_around3000</th>\n",
       "      <th>parks_nearest</th>\n",
       "      <th>ponds_around3000</th>\n",
       "      <th>ponds_nearest</th>\n",
       "      <th>days_exposition</th>\n",
       "      <th>m2_price</th>\n",
       "      <th>pub_dayofweek</th>\n",
       "      <th>pub_month</th>\n",
       "      <th>pub_year</th>\n",
       "      <th>floor_type</th>\n",
       "      <th>living_to_total</th>\n",
       "      <th>kitchen_to_total</th>\n",
       "    </tr>\n",
       "  </thead>\n",
       "  <tbody>\n",
       "    <tr>\n",
       "      <td>94</td>\n",
       "      <td>3</td>\n",
       "      <td>3500000.0</td>\n",
       "      <td>29.5</td>\n",
       "      <td>2019-04-26</td>\n",
       "      <td>1</td>\n",
       "      <td>2.5</td>\n",
       "      <td>5</td>\n",
       "      <td>15.6</td>\n",
       "      <td>2</td>\n",
       "      <td>False</td>\n",
       "      <td>False</td>\n",
       "      <td>False</td>\n",
       "      <td>5.5</td>\n",
       "      <td>1</td>\n",
       "      <td>Санкт-Петербург</td>\n",
       "      <td>12921.0</td>\n",
       "      <td>7303.0</td>\n",
       "      <td>0.0</td>\n",
       "      <td>NaN</td>\n",
       "      <td>0.0</td>\n",
       "      <td>NaN</td>\n",
       "      <td>4.0</td>\n",
       "      <td>118644.067797</td>\n",
       "      <td>пятница</td>\n",
       "      <td>4</td>\n",
       "      <td>2019</td>\n",
       "      <td>другой</td>\n",
       "      <td>0.528814</td>\n",
       "      <td>0.186441</td>\n",
       "    </tr>\n",
       "    <tr>\n",
       "      <td>294</td>\n",
       "      <td>20</td>\n",
       "      <td>3850000.0</td>\n",
       "      <td>37.0</td>\n",
       "      <td>2018-10-14</td>\n",
       "      <td>1</td>\n",
       "      <td>2.5</td>\n",
       "      <td>16</td>\n",
       "      <td>18.2</td>\n",
       "      <td>15</td>\n",
       "      <td>False</td>\n",
       "      <td>False</td>\n",
       "      <td>False</td>\n",
       "      <td>8.8</td>\n",
       "      <td>1</td>\n",
       "      <td>Санкт-Петербург</td>\n",
       "      <td>41359.0</td>\n",
       "      <td>11491.0</td>\n",
       "      <td>2.0</td>\n",
       "      <td>75.0</td>\n",
       "      <td>0.0</td>\n",
       "      <td>NaN</td>\n",
       "      <td>3.0</td>\n",
       "      <td>104054.054054</td>\n",
       "      <td>воскресенье</td>\n",
       "      <td>10</td>\n",
       "      <td>2018</td>\n",
       "      <td>другой</td>\n",
       "      <td>0.491892</td>\n",
       "      <td>0.237838</td>\n",
       "    </tr>\n",
       "    <tr>\n",
       "      <td>368</td>\n",
       "      <td>19</td>\n",
       "      <td>12500000.0</td>\n",
       "      <td>85.0</td>\n",
       "      <td>2018-09-21</td>\n",
       "      <td>3</td>\n",
       "      <td>3.7</td>\n",
       "      <td>6</td>\n",
       "      <td>56.5</td>\n",
       "      <td>6</td>\n",
       "      <td>False</td>\n",
       "      <td>False</td>\n",
       "      <td>False</td>\n",
       "      <td>22.0</td>\n",
       "      <td>0</td>\n",
       "      <td>Санкт-Петербург</td>\n",
       "      <td>27084.0</td>\n",
       "      <td>5777.0</td>\n",
       "      <td>2.0</td>\n",
       "      <td>516.0</td>\n",
       "      <td>1.0</td>\n",
       "      <td>36.0</td>\n",
       "      <td>4.0</td>\n",
       "      <td>147058.823529</td>\n",
       "      <td>пятница</td>\n",
       "      <td>9</td>\n",
       "      <td>2018</td>\n",
       "      <td>последний</td>\n",
       "      <td>0.664706</td>\n",
       "      <td>0.258824</td>\n",
       "    </tr>\n",
       "    <tr>\n",
       "      <td>490</td>\n",
       "      <td>17</td>\n",
       "      <td>3140000.0</td>\n",
       "      <td>31.4</td>\n",
       "      <td>2018-12-14</td>\n",
       "      <td>1</td>\n",
       "      <td>2.5</td>\n",
       "      <td>14</td>\n",
       "      <td>16.1</td>\n",
       "      <td>6</td>\n",
       "      <td>False</td>\n",
       "      <td>False</td>\n",
       "      <td>False</td>\n",
       "      <td>7.0</td>\n",
       "      <td>0</td>\n",
       "      <td>Колпино</td>\n",
       "      <td>25612.0</td>\n",
       "      <td>31399.0</td>\n",
       "      <td>0.0</td>\n",
       "      <td>NaN</td>\n",
       "      <td>0.0</td>\n",
       "      <td>NaN</td>\n",
       "      <td>4.0</td>\n",
       "      <td>100000.000000</td>\n",
       "      <td>пятница</td>\n",
       "      <td>12</td>\n",
       "      <td>2018</td>\n",
       "      <td>другой</td>\n",
       "      <td>0.512739</td>\n",
       "      <td>0.222930</td>\n",
       "    </tr>\n",
       "    <tr>\n",
       "      <td>582</td>\n",
       "      <td>13</td>\n",
       "      <td>3500000.0</td>\n",
       "      <td>38.0</td>\n",
       "      <td>2017-07-10</td>\n",
       "      <td>2</td>\n",
       "      <td>NaN</td>\n",
       "      <td>9</td>\n",
       "      <td>NaN</td>\n",
       "      <td>8</td>\n",
       "      <td>False</td>\n",
       "      <td>False</td>\n",
       "      <td>False</td>\n",
       "      <td>NaN</td>\n",
       "      <td>0</td>\n",
       "      <td>Санкт-Петербург</td>\n",
       "      <td>11058.0</td>\n",
       "      <td>12575.0</td>\n",
       "      <td>0.0</td>\n",
       "      <td>NaN</td>\n",
       "      <td>0.0</td>\n",
       "      <td>NaN</td>\n",
       "      <td>3.0</td>\n",
       "      <td>92105.263158</td>\n",
       "      <td>понедельник</td>\n",
       "      <td>7</td>\n",
       "      <td>2017</td>\n",
       "      <td>другой</td>\n",
       "      <td>NaN</td>\n",
       "      <td>NaN</td>\n",
       "    </tr>\n",
       "    <tr>\n",
       "      <td>...</td>\n",
       "      <td>...</td>\n",
       "      <td>...</td>\n",
       "      <td>...</td>\n",
       "      <td>...</td>\n",
       "      <td>...</td>\n",
       "      <td>...</td>\n",
       "      <td>...</td>\n",
       "      <td>...</td>\n",
       "      <td>...</td>\n",
       "      <td>...</td>\n",
       "      <td>...</td>\n",
       "      <td>...</td>\n",
       "      <td>...</td>\n",
       "      <td>...</td>\n",
       "      <td>...</td>\n",
       "      <td>...</td>\n",
       "      <td>...</td>\n",
       "      <td>...</td>\n",
       "      <td>...</td>\n",
       "      <td>...</td>\n",
       "      <td>...</td>\n",
       "      <td>...</td>\n",
       "      <td>...</td>\n",
       "      <td>...</td>\n",
       "      <td>...</td>\n",
       "      <td>...</td>\n",
       "      <td>...</td>\n",
       "      <td>...</td>\n",
       "      <td>...</td>\n",
       "    </tr>\n",
       "    <tr>\n",
       "      <td>23371</td>\n",
       "      <td>0</td>\n",
       "      <td>5900000.0</td>\n",
       "      <td>45.0</td>\n",
       "      <td>2018-08-08</td>\n",
       "      <td>2</td>\n",
       "      <td>NaN</td>\n",
       "      <td>5</td>\n",
       "      <td>27.0</td>\n",
       "      <td>3</td>\n",
       "      <td>False</td>\n",
       "      <td>False</td>\n",
       "      <td>False</td>\n",
       "      <td>6.5</td>\n",
       "      <td>0</td>\n",
       "      <td>Санкт-Петербург</td>\n",
       "      <td>27358.0</td>\n",
       "      <td>8337.0</td>\n",
       "      <td>0.0</td>\n",
       "      <td>NaN</td>\n",
       "      <td>0.0</td>\n",
       "      <td>NaN</td>\n",
       "      <td>3.0</td>\n",
       "      <td>131111.111111</td>\n",
       "      <td>среда</td>\n",
       "      <td>8</td>\n",
       "      <td>2018</td>\n",
       "      <td>другой</td>\n",
       "      <td>0.600000</td>\n",
       "      <td>0.144444</td>\n",
       "    </tr>\n",
       "    <tr>\n",
       "      <td>23384</td>\n",
       "      <td>3</td>\n",
       "      <td>2346000.0</td>\n",
       "      <td>34.0</td>\n",
       "      <td>2017-10-04</td>\n",
       "      <td>1</td>\n",
       "      <td>NaN</td>\n",
       "      <td>5</td>\n",
       "      <td>14.0</td>\n",
       "      <td>1</td>\n",
       "      <td>False</td>\n",
       "      <td>False</td>\n",
       "      <td>False</td>\n",
       "      <td>9.0</td>\n",
       "      <td>0</td>\n",
       "      <td>Санкт-Петербург</td>\n",
       "      <td>13817.0</td>\n",
       "      <td>8928.0</td>\n",
       "      <td>1.0</td>\n",
       "      <td>406.0</td>\n",
       "      <td>1.0</td>\n",
       "      <td>1052.0</td>\n",
       "      <td>4.0</td>\n",
       "      <td>69000.000000</td>\n",
       "      <td>среда</td>\n",
       "      <td>10</td>\n",
       "      <td>2017</td>\n",
       "      <td>первый</td>\n",
       "      <td>0.411765</td>\n",
       "      <td>0.264706</td>\n",
       "    </tr>\n",
       "    <tr>\n",
       "      <td>23394</td>\n",
       "      <td>10</td>\n",
       "      <td>1600000.0</td>\n",
       "      <td>92.0</td>\n",
       "      <td>2018-07-10</td>\n",
       "      <td>3</td>\n",
       "      <td>3.0</td>\n",
       "      <td>6</td>\n",
       "      <td>13.0</td>\n",
       "      <td>1</td>\n",
       "      <td>False</td>\n",
       "      <td>False</td>\n",
       "      <td>False</td>\n",
       "      <td>10.0</td>\n",
       "      <td>0</td>\n",
       "      <td>Санкт-Петербург</td>\n",
       "      <td>20881.0</td>\n",
       "      <td>4465.0</td>\n",
       "      <td>1.0</td>\n",
       "      <td>937.0</td>\n",
       "      <td>3.0</td>\n",
       "      <td>167.0</td>\n",
       "      <td>3.0</td>\n",
       "      <td>17391.304348</td>\n",
       "      <td>вторник</td>\n",
       "      <td>7</td>\n",
       "      <td>2018</td>\n",
       "      <td>первый</td>\n",
       "      <td>0.141304</td>\n",
       "      <td>0.108696</td>\n",
       "    </tr>\n",
       "    <tr>\n",
       "      <td>23503</td>\n",
       "      <td>11</td>\n",
       "      <td>3530000.0</td>\n",
       "      <td>36.1</td>\n",
       "      <td>2017-11-17</td>\n",
       "      <td>1</td>\n",
       "      <td>NaN</td>\n",
       "      <td>10</td>\n",
       "      <td>19.1</td>\n",
       "      <td>8</td>\n",
       "      <td>False</td>\n",
       "      <td>False</td>\n",
       "      <td>False</td>\n",
       "      <td>7.0</td>\n",
       "      <td>2</td>\n",
       "      <td>Санкт-Петербург</td>\n",
       "      <td>33091.0</td>\n",
       "      <td>14255.0</td>\n",
       "      <td>1.0</td>\n",
       "      <td>163.0</td>\n",
       "      <td>2.0</td>\n",
       "      <td>129.0</td>\n",
       "      <td>4.0</td>\n",
       "      <td>97783.933518</td>\n",
       "      <td>пятница</td>\n",
       "      <td>11</td>\n",
       "      <td>2017</td>\n",
       "      <td>другой</td>\n",
       "      <td>0.529086</td>\n",
       "      <td>0.193906</td>\n",
       "    </tr>\n",
       "    <tr>\n",
       "      <td>23606</td>\n",
       "      <td>0</td>\n",
       "      <td>2850000.0</td>\n",
       "      <td>68.0</td>\n",
       "      <td>2018-07-29</td>\n",
       "      <td>1</td>\n",
       "      <td>3.0</td>\n",
       "      <td>5</td>\n",
       "      <td>41.0</td>\n",
       "      <td>3</td>\n",
       "      <td>False</td>\n",
       "      <td>False</td>\n",
       "      <td>False</td>\n",
       "      <td>10.0</td>\n",
       "      <td>0</td>\n",
       "      <td>Санкт-Петербург</td>\n",
       "      <td>38473.0</td>\n",
       "      <td>7740.0</td>\n",
       "      <td>2.0</td>\n",
       "      <td>560.0</td>\n",
       "      <td>3.0</td>\n",
       "      <td>327.0</td>\n",
       "      <td>4.0</td>\n",
       "      <td>41911.764706</td>\n",
       "      <td>воскресенье</td>\n",
       "      <td>7</td>\n",
       "      <td>2018</td>\n",
       "      <td>другой</td>\n",
       "      <td>0.602941</td>\n",
       "      <td>0.147059</td>\n",
       "    </tr>\n",
       "  </tbody>\n",
       "</table>\n",
       "<p>273 rows × 29 columns</p>\n",
       "</div>"
      ],
      "text/plain": [
       "       total_images  last_price  total_area first_day_exposition  rooms  \\\n",
       "94                3   3500000.0        29.5           2019-04-26      1   \n",
       "294              20   3850000.0        37.0           2018-10-14      1   \n",
       "368              19  12500000.0        85.0           2018-09-21      3   \n",
       "490              17   3140000.0        31.4           2018-12-14      1   \n",
       "582              13   3500000.0        38.0           2017-07-10      2   \n",
       "...             ...         ...         ...                  ...    ...   \n",
       "23371             0   5900000.0        45.0           2018-08-08      2   \n",
       "23384             3   2346000.0        34.0           2017-10-04      1   \n",
       "23394            10   1600000.0        92.0           2018-07-10      3   \n",
       "23503            11   3530000.0        36.1           2017-11-17      1   \n",
       "23606             0   2850000.0        68.0           2018-07-29      1   \n",
       "\n",
       "       ceiling_height  floors_total  living_area  floor  is_apartment  studio  \\\n",
       "94                2.5             5         15.6      2         False   False   \n",
       "294               2.5            16         18.2     15         False   False   \n",
       "368               3.7             6         56.5      6         False   False   \n",
       "490               2.5            14         16.1      6         False   False   \n",
       "582               NaN             9          NaN      8         False   False   \n",
       "...               ...           ...          ...    ...           ...     ...   \n",
       "23371             NaN             5         27.0      3         False   False   \n",
       "23384             NaN             5         14.0      1         False   False   \n",
       "23394             3.0             6         13.0      1         False   False   \n",
       "23503             NaN            10         19.1      8         False   False   \n",
       "23606             3.0             5         41.0      3         False   False   \n",
       "\n",
       "       open_plan  kitchen_area  balcony    locality_name  airports_nearest  \\\n",
       "94         False           5.5        1  Санкт-Петербург           12921.0   \n",
       "294        False           8.8        1  Санкт-Петербург           41359.0   \n",
       "368        False          22.0        0  Санкт-Петербург           27084.0   \n",
       "490        False           7.0        0          Колпино           25612.0   \n",
       "582        False           NaN        0  Санкт-Петербург           11058.0   \n",
       "...          ...           ...      ...              ...               ...   \n",
       "23371      False           6.5        0  Санкт-Петербург           27358.0   \n",
       "23384      False           9.0        0  Санкт-Петербург           13817.0   \n",
       "23394      False          10.0        0  Санкт-Петербург           20881.0   \n",
       "23503      False           7.0        2  Санкт-Петербург           33091.0   \n",
       "23606      False          10.0        0  Санкт-Петербург           38473.0   \n",
       "\n",
       "       cityCenters_nearest  parks_around3000  parks_nearest  ponds_around3000  \\\n",
       "94                  7303.0               0.0            NaN               0.0   \n",
       "294                11491.0               2.0           75.0               0.0   \n",
       "368                 5777.0               2.0          516.0               1.0   \n",
       "490                31399.0               0.0            NaN               0.0   \n",
       "582                12575.0               0.0            NaN               0.0   \n",
       "...                    ...               ...            ...               ...   \n",
       "23371               8337.0               0.0            NaN               0.0   \n",
       "23384               8928.0               1.0          406.0               1.0   \n",
       "23394               4465.0               1.0          937.0               3.0   \n",
       "23503              14255.0               1.0          163.0               2.0   \n",
       "23606               7740.0               2.0          560.0               3.0   \n",
       "\n",
       "       ponds_nearest  days_exposition       m2_price pub_dayofweek  pub_month  \\\n",
       "94               NaN              4.0  118644.067797       пятница          4   \n",
       "294              NaN              3.0  104054.054054   воскресенье         10   \n",
       "368             36.0              4.0  147058.823529       пятница          9   \n",
       "490              NaN              4.0  100000.000000       пятница         12   \n",
       "582              NaN              3.0   92105.263158   понедельник          7   \n",
       "...              ...              ...            ...           ...        ...   \n",
       "23371            NaN              3.0  131111.111111         среда          8   \n",
       "23384         1052.0              4.0   69000.000000         среда         10   \n",
       "23394          167.0              3.0   17391.304348       вторник          7   \n",
       "23503          129.0              4.0   97783.933518       пятница         11   \n",
       "23606          327.0              4.0   41911.764706   воскресенье          7   \n",
       "\n",
       "       pub_year floor_type  living_to_total  kitchen_to_total  \n",
       "94         2019     другой         0.528814          0.186441  \n",
       "294        2018     другой         0.491892          0.237838  \n",
       "368        2018  последний         0.664706          0.258824  \n",
       "490        2018     другой         0.512739          0.222930  \n",
       "582        2017     другой              NaN               NaN  \n",
       "...         ...        ...              ...               ...  \n",
       "23371      2018     другой         0.600000          0.144444  \n",
       "23384      2017     первый         0.411765          0.264706  \n",
       "23394      2018     первый         0.141304          0.108696  \n",
       "23503      2017     другой         0.529086          0.193906  \n",
       "23606      2018     другой         0.602941          0.147059  \n",
       "\n",
       "[273 rows x 29 columns]"
      ]
     },
     "execution_count": 83,
     "metadata": {},
     "output_type": "execute_result"
    }
   ],
   "source": [
    "df.query('days_exposition < 5')"
   ]
  },
  {
   "cell_type": "markdown",
   "metadata": {},
   "source": [
    "#### Вывод"
   ]
  },
  {
   "cell_type": "markdown",
   "metadata": {},
   "source": [
    "Выявил аномальные пики но не увидел никакой взаимосвязи:( Как-будто это просто стечение обстоятельств, что столько квартир купили именно на 45, 60 и 90 день. Тем не менее почистил датасет от обьявлений в которых не было указано ни одного расстояния и количества ни парков ни прудов, т.к. подобные обьявления содержат очень мало информации и не репрезентативны"
   ]
  },
  {
   "cell_type": "markdown",
   "metadata": {},
   "source": [
    "### Выявление факторов, влияющих на стоимость квартиры"
   ]
  },
  {
   "cell_type": "code",
   "execution_count": 84,
   "metadata": {
    "scrolled": true
   },
   "outputs": [
    {
     "data": {
      "image/png": "[encoded data removed]",
      "text/plain": [
       "<Figure size 432x288 with 1 Axes>"
      ]
     },
     "metadata": {
      "needs_background": "light"
     },
     "output_type": "display_data"
    },
    {
     "data": {
      "image/png": "[encoded data removed]",
      "text/plain": [
       "<Figure size 432x288 with 1 Axes>"
      ]
     },
     "metadata": {
      "needs_background": "light"
     },
     "output_type": "display_data"
    },
    {
     "data": {
      "image/png": "[encoded data removed]",
      "text/plain": [
       "<Figure size 432x288 with 1 Axes>"
      ]
     },
     "metadata": {
      "needs_background": "light"
     },
     "output_type": "display_data"
    }
   ],
   "source": [
    "y_cols = ['total_area', 'cityCenters_nearest', 'rooms']\n",
    "for col in y_cols:\n",
    "    df.plot(kind='scatter', x='last_price', y=col, grid=True)"
   ]
  },
  {
   "cell_type": "code",
   "execution_count": 85,
   "metadata": {},
   "outputs": [
    {
     "data": {
      "text/html": [
       "<div>\n",
       "<style scoped>\n",
       "    .dataframe tbody tr th:only-of-type {\n",
       "        vertical-align: middle;\n",
       "    }\n",
       "\n",
       "    .dataframe tbody tr th {\n",
       "        vertical-align: top;\n",
       "    }\n",
       "\n",
       "    .dataframe thead th {\n",
       "        text-align: right;\n",
       "    }\n",
       "</style>\n",
       "<table border=\"1\" class=\"dataframe\">\n",
       "  <thead>\n",
       "    <tr style=\"text-align: right;\">\n",
       "      <th></th>\n",
       "      <th>last_price</th>\n",
       "    </tr>\n",
       "    <tr>\n",
       "      <th>floor_type</th>\n",
       "      <th></th>\n",
       "    </tr>\n",
       "  </thead>\n",
       "  <tbody>\n",
       "    <tr>\n",
       "      <td>другой</td>\n",
       "      <td>7.521512e+06</td>\n",
       "    </tr>\n",
       "    <tr>\n",
       "      <td>первый</td>\n",
       "      <td>5.847747e+06</td>\n",
       "    </tr>\n",
       "    <tr>\n",
       "      <td>последний</td>\n",
       "      <td>9.359512e+06</td>\n",
       "    </tr>\n",
       "  </tbody>\n",
       "</table>\n",
       "</div>"
      ],
      "text/plain": [
       "              last_price\n",
       "floor_type              \n",
       "другой      7.521512e+06\n",
       "первый      5.847747e+06\n",
       "последний   9.359512e+06"
      ]
     },
     "metadata": {},
     "output_type": "display_data"
    },
    {
     "data": {
      "text/html": [
       "<div>\n",
       "<style scoped>\n",
       "    .dataframe tbody tr th:only-of-type {\n",
       "        vertical-align: middle;\n",
       "    }\n",
       "\n",
       "    .dataframe tbody tr th {\n",
       "        vertical-align: top;\n",
       "    }\n",
       "\n",
       "    .dataframe thead th {\n",
       "        text-align: right;\n",
       "    }\n",
       "</style>\n",
       "<table border=\"1\" class=\"dataframe\">\n",
       "  <thead>\n",
       "    <tr style=\"text-align: right;\">\n",
       "      <th></th>\n",
       "      <th>last_price</th>\n",
       "    </tr>\n",
       "    <tr>\n",
       "      <th>pub_dayofweek</th>\n",
       "      <th></th>\n",
       "    </tr>\n",
       "  </thead>\n",
       "  <tbody>\n",
       "    <tr>\n",
       "      <td>воскресенье</td>\n",
       "      <td>7.240955e+06</td>\n",
       "    </tr>\n",
       "    <tr>\n",
       "      <td>вторник</td>\n",
       "      <td>7.373242e+06</td>\n",
       "    </tr>\n",
       "    <tr>\n",
       "      <td>понедельник</td>\n",
       "      <td>7.500054e+06</td>\n",
       "    </tr>\n",
       "    <tr>\n",
       "      <td>пятница</td>\n",
       "      <td>7.338045e+06</td>\n",
       "    </tr>\n",
       "    <tr>\n",
       "      <td>среда</td>\n",
       "      <td>7.669698e+06</td>\n",
       "    </tr>\n",
       "    <tr>\n",
       "      <td>суббота</td>\n",
       "      <td>8.313074e+06</td>\n",
       "    </tr>\n",
       "    <tr>\n",
       "      <td>четверг</td>\n",
       "      <td>7.775950e+06</td>\n",
       "    </tr>\n",
       "  </tbody>\n",
       "</table>\n",
       "</div>"
      ],
      "text/plain": [
       "                 last_price\n",
       "pub_dayofweek              \n",
       "воскресенье    7.240955e+06\n",
       "вторник        7.373242e+06\n",
       "понедельник    7.500054e+06\n",
       "пятница        7.338045e+06\n",
       "среда          7.669698e+06\n",
       "суббота        8.313074e+06\n",
       "четверг        7.775950e+06"
      ]
     },
     "metadata": {},
     "output_type": "display_data"
    },
    {
     "data": {
      "text/html": [
       "<div>\n",
       "<style scoped>\n",
       "    .dataframe tbody tr th:only-of-type {\n",
       "        vertical-align: middle;\n",
       "    }\n",
       "\n",
       "    .dataframe tbody tr th {\n",
       "        vertical-align: top;\n",
       "    }\n",
       "\n",
       "    .dataframe thead th {\n",
       "        text-align: right;\n",
       "    }\n",
       "</style>\n",
       "<table border=\"1\" class=\"dataframe\">\n",
       "  <thead>\n",
       "    <tr style=\"text-align: right;\">\n",
       "      <th></th>\n",
       "      <th>last_price</th>\n",
       "    </tr>\n",
       "    <tr>\n",
       "      <th>pub_month</th>\n",
       "      <th></th>\n",
       "    </tr>\n",
       "  </thead>\n",
       "  <tbody>\n",
       "    <tr>\n",
       "      <td>1</td>\n",
       "      <td>7.854057e+06</td>\n",
       "    </tr>\n",
       "    <tr>\n",
       "      <td>2</td>\n",
       "      <td>7.472685e+06</td>\n",
       "    </tr>\n",
       "    <tr>\n",
       "      <td>3</td>\n",
       "      <td>7.465158e+06</td>\n",
       "    </tr>\n",
       "    <tr>\n",
       "      <td>4</td>\n",
       "      <td>7.777385e+06</td>\n",
       "    </tr>\n",
       "    <tr>\n",
       "      <td>5</td>\n",
       "      <td>7.504841e+06</td>\n",
       "    </tr>\n",
       "    <tr>\n",
       "      <td>6</td>\n",
       "      <td>7.322177e+06</td>\n",
       "    </tr>\n",
       "    <tr>\n",
       "      <td>7</td>\n",
       "      <td>7.705848e+06</td>\n",
       "    </tr>\n",
       "    <tr>\n",
       "      <td>8</td>\n",
       "      <td>7.264658e+06</td>\n",
       "    </tr>\n",
       "    <tr>\n",
       "      <td>9</td>\n",
       "      <td>7.918144e+06</td>\n",
       "    </tr>\n",
       "    <tr>\n",
       "      <td>10</td>\n",
       "      <td>7.090287e+06</td>\n",
       "    </tr>\n",
       "    <tr>\n",
       "      <td>11</td>\n",
       "      <td>7.382486e+06</td>\n",
       "    </tr>\n",
       "    <tr>\n",
       "      <td>12</td>\n",
       "      <td>8.424508e+06</td>\n",
       "    </tr>\n",
       "  </tbody>\n",
       "</table>\n",
       "</div>"
      ],
      "text/plain": [
       "             last_price\n",
       "pub_month              \n",
       "1          7.854057e+06\n",
       "2          7.472685e+06\n",
       "3          7.465158e+06\n",
       "4          7.777385e+06\n",
       "5          7.504841e+06\n",
       "6          7.322177e+06\n",
       "7          7.705848e+06\n",
       "8          7.264658e+06\n",
       "9          7.918144e+06\n",
       "10         7.090287e+06\n",
       "11         7.382486e+06\n",
       "12         8.424508e+06"
      ]
     },
     "metadata": {},
     "output_type": "display_data"
    },
    {
     "data": {
      "text/html": [
       "<div>\n",
       "<style scoped>\n",
       "    .dataframe tbody tr th:only-of-type {\n",
       "        vertical-align: middle;\n",
       "    }\n",
       "\n",
       "    .dataframe tbody tr th {\n",
       "        vertical-align: top;\n",
       "    }\n",
       "\n",
       "    .dataframe thead th {\n",
       "        text-align: right;\n",
       "    }\n",
       "</style>\n",
       "<table border=\"1\" class=\"dataframe\">\n",
       "  <thead>\n",
       "    <tr style=\"text-align: right;\">\n",
       "      <th></th>\n",
       "      <th>last_price</th>\n",
       "    </tr>\n",
       "    <tr>\n",
       "      <th>pub_year</th>\n",
       "      <th></th>\n",
       "    </tr>\n",
       "  </thead>\n",
       "  <tbody>\n",
       "    <tr>\n",
       "      <td>2014</td>\n",
       "      <td>1.377481e+07</td>\n",
       "    </tr>\n",
       "    <tr>\n",
       "      <td>2015</td>\n",
       "      <td>9.751227e+06</td>\n",
       "    </tr>\n",
       "    <tr>\n",
       "      <td>2016</td>\n",
       "      <td>7.863022e+06</td>\n",
       "    </tr>\n",
       "    <tr>\n",
       "      <td>2017</td>\n",
       "      <td>7.536474e+06</td>\n",
       "    </tr>\n",
       "    <tr>\n",
       "      <td>2018</td>\n",
       "      <td>6.984695e+06</td>\n",
       "    </tr>\n",
       "    <tr>\n",
       "      <td>2019</td>\n",
       "      <td>7.788976e+06</td>\n",
       "    </tr>\n",
       "  </tbody>\n",
       "</table>\n",
       "</div>"
      ],
      "text/plain": [
       "            last_price\n",
       "pub_year              \n",
       "2014      1.377481e+07\n",
       "2015      9.751227e+06\n",
       "2016      7.863022e+06\n",
       "2017      7.536474e+06\n",
       "2018      6.984695e+06\n",
       "2019      7.788976e+06"
      ]
     },
     "metadata": {},
     "output_type": "display_data"
    }
   ],
   "source": [
    "indexes = ['floor_type', 'pub_dayofweek', 'pub_month', 'pub_year']\n",
    "for i in indexes:\n",
    "    display(df.pivot_table(index=i, values='last_price', aggfunc='mean'))"
   ]
  },
  {
   "cell_type": "markdown",
   "metadata": {},
   "source": [
    "#### Вывод"
   ]
  },
  {
   "cell_type": "markdown",
   "metadata": {},
   "source": [
    "График зависимости цены от площади показал, что до 200 м.квадратных цена растет соответсвуя площади, а после происходит расхождение. График цены в зависмости от отдаленности до центра показал, что дома в пределах 10км от центра стоят в несколько раз больше тех, что стоят за 10 и дальше км от центра. На графике зависимости цены от кол-ва комнат видно, что квартиры с 4-5 комнатами сильно варьируются в цене по сравнению с остальными. Сводные таблицы показали, что квартиры на последнем этаже в среднем дороже всех остальных и почти в 2 раза дороже квартир на первом этаже. Квартиры выставленные на продажу в субботу в среднем дороже чем в остальные дни недели, в декабре выставляются самые дорогие квартиры в среднем , когда как в остальные месяцы в среднем цены относительно одинаковые. Ну и как бы странно не звучало стоимость квартир с 2014 по 2018 падала, причем между 2014 и 2015 очень сильный провал по средней цене аж в 4 млн., но в 2019 году цены на квартиры снова возросли почти до показателей 2016 года."
   ]
  },
  {
   "cell_type": "markdown",
   "metadata": {},
   "source": [
    "### Оценка стоимости жилья в разных населенных пунктах"
   ]
  },
  {
   "cell_type": "code",
   "execution_count": 86,
   "metadata": {},
   "outputs": [
    {
     "data": {
      "text/plain": [
       "locality_name\n",
       "Санкт-Петербург      15591\n",
       "посёлок Шушары         436\n",
       "Пушкин                 369\n",
       "Колпино                337\n",
       "посёлок Парголово      327\n",
       "Петергоф               201\n",
       "Сестрорецк             183\n",
       "Красное Село           174\n",
       "Ломоносов              132\n",
       "Кронштадт               95\n",
       "Name: total_area, dtype: int64"
      ]
     },
     "execution_count": 86,
     "metadata": {},
     "output_type": "execute_result"
    }
   ],
   "source": [
    "#получим 10 нас пунктов с наибольшим количеством обьявлений\n",
    "df.groupby('locality_name').count()['total_area'].sort_values(ascending=False).head(10)"
   ]
  },
  {
   "cell_type": "code",
   "execution_count": 87,
   "metadata": {},
   "outputs": [
    {
     "data": {
      "text/html": [
       "<div>\n",
       "<style scoped>\n",
       "    .dataframe tbody tr th:only-of-type {\n",
       "        vertical-align: middle;\n",
       "    }\n",
       "\n",
       "    .dataframe tbody tr th {\n",
       "        vertical-align: top;\n",
       "    }\n",
       "\n",
       "    .dataframe thead th {\n",
       "        text-align: right;\n",
       "    }\n",
       "</style>\n",
       "<table border=\"1\" class=\"dataframe\">\n",
       "  <thead>\n",
       "    <tr style=\"text-align: right;\">\n",
       "      <th></th>\n",
       "      <th>mean</th>\n",
       "      <th>count</th>\n",
       "    </tr>\n",
       "    <tr>\n",
       "      <th>locality_name</th>\n",
       "      <th></th>\n",
       "      <th></th>\n",
       "    </tr>\n",
       "  </thead>\n",
       "  <tbody>\n",
       "    <tr>\n",
       "      <td>Санкт-Петербург</td>\n",
       "      <td>114708.181199</td>\n",
       "      <td>15591</td>\n",
       "    </tr>\n",
       "    <tr>\n",
       "      <td>посёлок Шушары</td>\n",
       "      <td>78474.361643</td>\n",
       "      <td>436</td>\n",
       "    </tr>\n",
       "    <tr>\n",
       "      <td>Пушкин</td>\n",
       "      <td>103125.819291</td>\n",
       "      <td>369</td>\n",
       "    </tr>\n",
       "    <tr>\n",
       "      <td>Колпино</td>\n",
       "      <td>75402.500198</td>\n",
       "      <td>337</td>\n",
       "    </tr>\n",
       "    <tr>\n",
       "      <td>посёлок Парголово</td>\n",
       "      <td>90175.913458</td>\n",
       "      <td>327</td>\n",
       "    </tr>\n",
       "    <tr>\n",
       "      <td>Петергоф</td>\n",
       "      <td>84757.559690</td>\n",
       "      <td>201</td>\n",
       "    </tr>\n",
       "    <tr>\n",
       "      <td>Сестрорецк</td>\n",
       "      <td>101757.616875</td>\n",
       "      <td>183</td>\n",
       "    </tr>\n",
       "    <tr>\n",
       "      <td>Красное Село</td>\n",
       "      <td>72139.445124</td>\n",
       "      <td>174</td>\n",
       "    </tr>\n",
       "    <tr>\n",
       "      <td>Ломоносов</td>\n",
       "      <td>72609.798019</td>\n",
       "      <td>132</td>\n",
       "    </tr>\n",
       "    <tr>\n",
       "      <td>Кронштадт</td>\n",
       "      <td>79380.168043</td>\n",
       "      <td>95</td>\n",
       "    </tr>\n",
       "  </tbody>\n",
       "</table>\n",
       "</div>"
      ],
      "text/plain": [
       "                            mean  count\n",
       "locality_name                          \n",
       "Санкт-Петербург    114708.181199  15591\n",
       "посёлок Шушары      78474.361643    436\n",
       "Пушкин             103125.819291    369\n",
       "Колпино             75402.500198    337\n",
       "посёлок Парголово   90175.913458    327\n",
       "Петергоф            84757.559690    201\n",
       "Сестрорецк         101757.616875    183\n",
       "Красное Село        72139.445124    174\n",
       "Ломоносов           72609.798019    132\n",
       "Кронштадт           79380.168043     95"
      ]
     },
     "execution_count": 87,
     "metadata": {},
     "output_type": "execute_result"
    }
   ],
   "source": [
    "pivot_df = df.pivot_table(index='locality_name', values='m2_price', aggfunc=['mean', 'count'])\n",
    "#pivot_df.columns.set_levels(['b1','c1','f1'],level=1,inplace=True)\n",
    "pivot_df.columns = ['mean', 'count']\n",
    "pivot_df.sort_values('count', ascending=False).head(10)"
   ]
  },
  {
   "cell_type": "markdown",
   "metadata": {},
   "source": [
    "#### Вывод"
   ]
  },
  {
   "cell_type": "markdown",
   "metadata": {},
   "source": [
    "Самая большая цена за квадратный метр в Санкт-Петербурге, что достаточно очевидно, за ним следует цена за квадратный метр в Пушкино, которая ненамного отличается от цены в Питере. Можно выделить такие населенные пункты как Всеволожск, Гатчина и Выборг в которых цена за квадратный меттр почти в два раза меньше цены в Питере."
   ]
  },
  {
   "cell_type": "markdown",
   "metadata": {},
   "source": [
    "### Изучение предложения квартир в зависимости от расстояния до центра"
   ]
  },
  {
   "cell_type": "code",
   "execution_count": 88,
   "metadata": {},
   "outputs": [
    {
     "data": {
      "text/plain": [
       "<matplotlib.axes._subplots.AxesSubplot at 0x7f16349050d0>"
      ]
     },
     "execution_count": 88,
     "metadata": {},
     "output_type": "execute_result"
    },
    {
     "data": {
      "image/png": "[encoded data removed]",
      "text/plain": [
       "<Figure size 432x288 with 1 Axes>"
      ]
     },
     "metadata": {
      "needs_background": "light"
     },
     "output_type": "display_data"
    }
   ],
   "source": [
    "spb_df = df.query('locality_name == \"Санкт-Петербург\"').copy()\n",
    "spb_df['cityCentre_km'] = spb_df['cityCenters_nearest'].div(1000).astype('int')\n",
    "spb_pivot = spb_df.pivot_table(index='cityCentre_km', values='last_price', aggfunc='mean')\n",
    "sns.barplot(x=spb_pivot.index, y=\"last_price\", data=spb_pivot)"
   ]
  },
  {
   "cell_type": "markdown",
   "metadata": {},
   "source": [
    "#### Вывод"
   ]
  },
  {
   "cell_type": "markdown",
   "metadata": {},
   "source": [
    "Построили график зависимости цены от удаленности от центра СпБ. Выявили что кавртиры в центре, а соответственно и дорогие находятся в пределах 7 километров."
   ]
  },
  {
   "cell_type": "markdown",
   "metadata": {},
   "source": [
    "### Анализ квартир в центре"
   ]
  },
  {
   "cell_type": "code",
   "execution_count": 89,
   "metadata": {
    "scrolled": true
   },
   "outputs": [
    {
     "data": {
      "text/plain": [
       "array([[<matplotlib.axes._subplots.AxesSubplot object at 0x7f16337a33d0>]],\n",
       "      dtype=object)"
      ]
     },
     "execution_count": 89,
     "metadata": {},
     "output_type": "execute_result"
    },
    {
     "data": {
      "image/png": "[encoded data removed]",
      "text/plain": [
       "<Figure size 432x288 with 1 Axes>"
      ]
     },
     "metadata": {
      "needs_background": "light"
     },
     "output_type": "display_data"
    }
   ],
   "source": [
    "spb_centre_df = spb_df.query('cityCentre_km <= 7')\n",
    "spb_centre_df.hist('total_area', range=(0, 300))"
   ]
  },
  {
   "cell_type": "code",
   "execution_count": 90,
   "metadata": {},
   "outputs": [
    {
     "data": {
      "text/plain": [
       "array([[<matplotlib.axes._subplots.AxesSubplot object at 0x7f164023a110>]],\n",
       "      dtype=object)"
      ]
     },
     "execution_count": 90,
     "metadata": {},
     "output_type": "execute_result"
    },
    {
     "data": {
      "image/png": "[encoded data removed]",
      "text/plain": [
       "<Figure size 432x288 with 1 Axes>"
      ]
     },
     "metadata": {
      "needs_background": "light"
     },
     "output_type": "display_data"
    }
   ],
   "source": [
    "spb_centre_df.hist('last_price', range=(1, 50000000), bins=50)"
   ]
  },
  {
   "cell_type": "code",
   "execution_count": 91,
   "metadata": {},
   "outputs": [
    {
     "data": {
      "text/plain": [
       "array([[<matplotlib.axes._subplots.AxesSubplot object at 0x7f1633701a10>]],\n",
       "      dtype=object)"
      ]
     },
     "execution_count": 91,
     "metadata": {},
     "output_type": "execute_result"
    },
    {
     "data": {
      "image/png": "[encoded data removed]",
      "text/plain": [
       "<Figure size 432x288 with 1 Axes>"
      ]
     },
     "metadata": {
      "needs_background": "light"
     },
     "output_type": "display_data"
    }
   ],
   "source": [
    "spb_centre_df.hist('rooms', range=(0, 12), bins=12)"
   ]
  },
  {
   "cell_type": "code",
   "execution_count": 92,
   "metadata": {
    "scrolled": true
   },
   "outputs": [
    {
     "data": {
      "text/plain": [
       "array([[<matplotlib.axes._subplots.AxesSubplot object at 0x7f16335baed0>]],\n",
       "      dtype=object)"
      ]
     },
     "execution_count": 92,
     "metadata": {},
     "output_type": "execute_result"
    },
    {
     "data": {
      "image/png": "[encoded data removed]",
      "text/plain": [
       "<Figure size 432x288 with 1 Axes>"
      ]
     },
     "metadata": {
      "needs_background": "light"
     },
     "output_type": "display_data"
    }
   ],
   "source": [
    "spb_centre_df.hist('ceiling_height', range=(2, 5))"
   ]
  },
  {
   "cell_type": "code",
   "execution_count": 93,
   "metadata": {
    "scrolled": true
   },
   "outputs": [
    {
     "data": {
      "text/html": [
       "<div>\n",
       "<style scoped>\n",
       "    .dataframe tbody tr th:only-of-type {\n",
       "        vertical-align: middle;\n",
       "    }\n",
       "\n",
       "    .dataframe tbody tr th {\n",
       "        vertical-align: top;\n",
       "    }\n",
       "\n",
       "    .dataframe thead th {\n",
       "        text-align: right;\n",
       "    }\n",
       "</style>\n",
       "<table border=\"1\" class=\"dataframe\">\n",
       "  <thead>\n",
       "    <tr style=\"text-align: right;\">\n",
       "      <th></th>\n",
       "      <th>total_images</th>\n",
       "      <th>last_price</th>\n",
       "      <th>total_area</th>\n",
       "      <th>rooms</th>\n",
       "      <th>ceiling_height</th>\n",
       "      <th>floors_total</th>\n",
       "      <th>living_area</th>\n",
       "      <th>floor</th>\n",
       "      <th>is_apartment</th>\n",
       "      <th>studio</th>\n",
       "      <th>open_plan</th>\n",
       "      <th>kitchen_area</th>\n",
       "      <th>balcony</th>\n",
       "      <th>airports_nearest</th>\n",
       "      <th>cityCenters_nearest</th>\n",
       "      <th>parks_around3000</th>\n",
       "      <th>parks_nearest</th>\n",
       "      <th>ponds_around3000</th>\n",
       "      <th>ponds_nearest</th>\n",
       "      <th>days_exposition</th>\n",
       "      <th>m2_price</th>\n",
       "      <th>pub_month</th>\n",
       "      <th>pub_year</th>\n",
       "      <th>living_to_total</th>\n",
       "      <th>kitchen_to_total</th>\n",
       "      <th>cityCentre_km</th>\n",
       "    </tr>\n",
       "  </thead>\n",
       "  <tbody>\n",
       "    <tr>\n",
       "      <td>total_images</td>\n",
       "      <td>1.000000</td>\n",
       "      <td>0.132382</td>\n",
       "      <td>0.101601</td>\n",
       "      <td>0.053557</td>\n",
       "      <td>0.050386</td>\n",
       "      <td>-0.025598</td>\n",
       "      <td>0.082858</td>\n",
       "      <td>0.012110</td>\n",
       "      <td>0.001912</td>\n",
       "      <td>-0.031311</td>\n",
       "      <td>-0.039830</td>\n",
       "      <td>0.135922</td>\n",
       "      <td>0.031283</td>\n",
       "      <td>0.035830</td>\n",
       "      <td>0.011397</td>\n",
       "      <td>0.054024</td>\n",
       "      <td>-0.052090</td>\n",
       "      <td>0.000416</td>\n",
       "      <td>-0.007231</td>\n",
       "      <td>-0.039205</td>\n",
       "      <td>0.159239</td>\n",
       "      <td>-0.009076</td>\n",
       "      <td>0.138446</td>\n",
       "      <td>-0.038025</td>\n",
       "      <td>0.039374</td>\n",
       "      <td>0.010455</td>\n",
       "    </tr>\n",
       "    <tr>\n",
       "      <td>last_price</td>\n",
       "      <td>0.132382</td>\n",
       "      <td>1.000000</td>\n",
       "      <td>0.636563</td>\n",
       "      <td>0.333293</td>\n",
       "      <td>0.101974</td>\n",
       "      <td>0.043211</td>\n",
       "      <td>0.539178</td>\n",
       "      <td>0.125709</td>\n",
       "      <td>0.037230</td>\n",
       "      <td>-0.022998</td>\n",
       "      <td>0.007738</td>\n",
       "      <td>0.508427</td>\n",
       "      <td>0.062832</td>\n",
       "      <td>0.093809</td>\n",
       "      <td>-0.048395</td>\n",
       "      <td>0.109114</td>\n",
       "      <td>-0.046187</td>\n",
       "      <td>0.104952</td>\n",
       "      <td>-0.076546</td>\n",
       "      <td>0.061438</td>\n",
       "      <td>0.780133</td>\n",
       "      <td>-0.006547</td>\n",
       "      <td>-0.042790</td>\n",
       "      <td>-0.017885</td>\n",
       "      <td>-0.088148</td>\n",
       "      <td>-0.052202</td>\n",
       "    </tr>\n",
       "    <tr>\n",
       "      <td>total_area</td>\n",
       "      <td>0.101601</td>\n",
       "      <td>0.636563</td>\n",
       "      <td>1.000000</td>\n",
       "      <td>0.737542</td>\n",
       "      <td>0.146870</td>\n",
       "      <td>-0.021733</td>\n",
       "      <td>0.940365</td>\n",
       "      <td>0.103972</td>\n",
       "      <td>0.040255</td>\n",
       "      <td>-0.053658</td>\n",
       "      <td>0.004522</td>\n",
       "      <td>0.575137</td>\n",
       "      <td>0.007190</td>\n",
       "      <td>0.045271</td>\n",
       "      <td>-0.105160</td>\n",
       "      <td>0.104721</td>\n",
       "      <td>-0.072597</td>\n",
       "      <td>0.025032</td>\n",
       "      <td>-0.075096</td>\n",
       "      <td>0.138004</td>\n",
       "      <td>0.251861</td>\n",
       "      <td>-0.016221</td>\n",
       "      <td>-0.074729</td>\n",
       "      <td>0.137333</td>\n",
       "      <td>-0.313053</td>\n",
       "      <td>-0.112168</td>\n",
       "    </tr>\n",
       "    <tr>\n",
       "      <td>rooms</td>\n",
       "      <td>0.053557</td>\n",
       "      <td>0.333293</td>\n",
       "      <td>0.737542</td>\n",
       "      <td>1.000000</td>\n",
       "      <td>0.103909</td>\n",
       "      <td>-0.183407</td>\n",
       "      <td>0.823224</td>\n",
       "      <td>-0.038983</td>\n",
       "      <td>-0.001770</td>\n",
       "      <td>-0.115911</td>\n",
       "      <td>-0.041924</td>\n",
       "      <td>0.285569</td>\n",
       "      <td>-0.077587</td>\n",
       "      <td>-0.043044</td>\n",
       "      <td>-0.176549</td>\n",
       "      <td>0.102267</td>\n",
       "      <td>-0.100148</td>\n",
       "      <td>-0.020735</td>\n",
       "      <td>-0.056871</td>\n",
       "      <td>0.134461</td>\n",
       "      <td>0.006433</td>\n",
       "      <td>-0.021442</td>\n",
       "      <td>-0.060475</td>\n",
       "      <td>0.406846</td>\n",
       "      <td>-0.488379</td>\n",
       "      <td>-0.181027</td>\n",
       "    </tr>\n",
       "    <tr>\n",
       "      <td>ceiling_height</td>\n",
       "      <td>0.050386</td>\n",
       "      <td>0.101974</td>\n",
       "      <td>0.146870</td>\n",
       "      <td>0.103909</td>\n",
       "      <td>1.000000</td>\n",
       "      <td>-0.152303</td>\n",
       "      <td>0.153020</td>\n",
       "      <td>-0.079499</td>\n",
       "      <td>0.034446</td>\n",
       "      <td>0.007577</td>\n",
       "      <td>0.003691</td>\n",
       "      <td>0.091809</td>\n",
       "      <td>0.014668</td>\n",
       "      <td>-0.078367</td>\n",
       "      <td>-0.152597</td>\n",
       "      <td>0.054751</td>\n",
       "      <td>-0.087821</td>\n",
       "      <td>0.057130</td>\n",
       "      <td>-0.002081</td>\n",
       "      <td>0.074402</td>\n",
       "      <td>0.058854</td>\n",
       "      <td>-0.009759</td>\n",
       "      <td>-0.018587</td>\n",
       "      <td>0.051280</td>\n",
       "      <td>-0.040253</td>\n",
       "      <td>-0.150890</td>\n",
       "    </tr>\n",
       "    <tr>\n",
       "      <td>floors_total</td>\n",
       "      <td>-0.025598</td>\n",
       "      <td>0.043211</td>\n",
       "      <td>-0.021733</td>\n",
       "      <td>-0.183407</td>\n",
       "      <td>-0.152303</td>\n",
       "      <td>1.000000</td>\n",
       "      <td>-0.128295</td>\n",
       "      <td>0.671985</td>\n",
       "      <td>-0.013973</td>\n",
       "      <td>0.002869</td>\n",
       "      <td>0.019099</td>\n",
       "      <td>0.091369</td>\n",
       "      <td>0.360197</td>\n",
       "      <td>0.117541</td>\n",
       "      <td>0.382315</td>\n",
       "      <td>-0.241696</td>\n",
       "      <td>0.195943</td>\n",
       "      <td>-0.042600</td>\n",
       "      <td>0.017885</td>\n",
       "      <td>-0.004442</td>\n",
       "      <td>0.108770</td>\n",
       "      <td>0.022971</td>\n",
       "      <td>-0.043524</td>\n",
       "      <td>-0.336717</td>\n",
       "      <td>0.181367</td>\n",
       "      <td>0.377488</td>\n",
       "    </tr>\n",
       "    <tr>\n",
       "      <td>living_area</td>\n",
       "      <td>0.082858</td>\n",
       "      <td>0.539178</td>\n",
       "      <td>0.940365</td>\n",
       "      <td>0.823224</td>\n",
       "      <td>0.153020</td>\n",
       "      <td>-0.128295</td>\n",
       "      <td>1.000000</td>\n",
       "      <td>0.020442</td>\n",
       "      <td>0.051338</td>\n",
       "      <td>-0.041461</td>\n",
       "      <td>-0.025209</td>\n",
       "      <td>0.417785</td>\n",
       "      <td>-0.030783</td>\n",
       "      <td>-0.003247</td>\n",
       "      <td>-0.158660</td>\n",
       "      <td>0.140084</td>\n",
       "      <td>-0.093514</td>\n",
       "      <td>0.024195</td>\n",
       "      <td>-0.064954</td>\n",
       "      <td>0.136011</td>\n",
       "      <td>0.188808</td>\n",
       "      <td>-0.010343</td>\n",
       "      <td>-0.067585</td>\n",
       "      <td>0.408151</td>\n",
       "      <td>-0.448569</td>\n",
       "      <td>-0.166237</td>\n",
       "    </tr>\n",
       "    <tr>\n",
       "      <td>floor</td>\n",
       "      <td>0.012110</td>\n",
       "      <td>0.125709</td>\n",
       "      <td>0.103972</td>\n",
       "      <td>-0.038983</td>\n",
       "      <td>-0.079499</td>\n",
       "      <td>0.671985</td>\n",
       "      <td>0.020442</td>\n",
       "      <td>1.000000</td>\n",
       "      <td>0.002127</td>\n",
       "      <td>-0.015614</td>\n",
       "      <td>-0.000381</td>\n",
       "      <td>0.124804</td>\n",
       "      <td>0.290729</td>\n",
       "      <td>0.077008</td>\n",
       "      <td>0.250439</td>\n",
       "      <td>-0.157431</td>\n",
       "      <td>0.126139</td>\n",
       "      <td>-0.045616</td>\n",
       "      <td>-0.000184</td>\n",
       "      <td>-0.002411</td>\n",
       "      <td>0.123959</td>\n",
       "      <td>0.024649</td>\n",
       "      <td>-0.032291</td>\n",
       "      <td>-0.198131</td>\n",
       "      <td>0.057653</td>\n",
       "      <td>0.247376</td>\n",
       "    </tr>\n",
       "    <tr>\n",
       "      <td>is_apartment</td>\n",
       "      <td>0.001912</td>\n",
       "      <td>0.037230</td>\n",
       "      <td>0.040255</td>\n",
       "      <td>-0.001770</td>\n",
       "      <td>0.034446</td>\n",
       "      <td>-0.013973</td>\n",
       "      <td>0.051338</td>\n",
       "      <td>0.002127</td>\n",
       "      <td>1.000000</td>\n",
       "      <td>-0.003655</td>\n",
       "      <td>-0.002760</td>\n",
       "      <td>0.083267</td>\n",
       "      <td>0.016070</td>\n",
       "      <td>-0.001791</td>\n",
       "      <td>-0.058995</td>\n",
       "      <td>0.061585</td>\n",
       "      <td>-0.047343</td>\n",
       "      <td>0.051855</td>\n",
       "      <td>-0.009461</td>\n",
       "      <td>0.061910</td>\n",
       "      <td>0.060481</td>\n",
       "      <td>0.017710</td>\n",
       "      <td>-0.033614</td>\n",
       "      <td>0.031050</td>\n",
       "      <td>0.040677</td>\n",
       "      <td>-0.058537</td>\n",
       "    </tr>\n",
       "    <tr>\n",
       "      <td>studio</td>\n",
       "      <td>-0.031311</td>\n",
       "      <td>-0.022998</td>\n",
       "      <td>-0.053658</td>\n",
       "      <td>-0.115911</td>\n",
       "      <td>0.007577</td>\n",
       "      <td>0.002869</td>\n",
       "      <td>-0.041461</td>\n",
       "      <td>-0.015614</td>\n",
       "      <td>-0.003655</td>\n",
       "      <td>1.000000</td>\n",
       "      <td>-0.002865</td>\n",
       "      <td>NaN</td>\n",
       "      <td>0.007871</td>\n",
       "      <td>-0.013345</td>\n",
       "      <td>0.009273</td>\n",
       "      <td>-0.039282</td>\n",
       "      <td>-0.011315</td>\n",
       "      <td>0.012458</td>\n",
       "      <td>0.019188</td>\n",
       "      <td>-0.037595</td>\n",
       "      <td>-0.001737</td>\n",
       "      <td>0.012709</td>\n",
       "      <td>0.013968</td>\n",
       "      <td>0.061140</td>\n",
       "      <td>NaN</td>\n",
       "      <td>0.010639</td>\n",
       "    </tr>\n",
       "    <tr>\n",
       "      <td>open_plan</td>\n",
       "      <td>-0.039830</td>\n",
       "      <td>0.007738</td>\n",
       "      <td>0.004522</td>\n",
       "      <td>-0.041924</td>\n",
       "      <td>0.003691</td>\n",
       "      <td>0.019099</td>\n",
       "      <td>-0.025209</td>\n",
       "      <td>-0.000381</td>\n",
       "      <td>-0.002760</td>\n",
       "      <td>-0.002865</td>\n",
       "      <td>1.000000</td>\n",
       "      <td>NaN</td>\n",
       "      <td>-0.012432</td>\n",
       "      <td>-0.019827</td>\n",
       "      <td>0.017453</td>\n",
       "      <td>0.023476</td>\n",
       "      <td>0.000936</td>\n",
       "      <td>0.004066</td>\n",
       "      <td>0.000997</td>\n",
       "      <td>-0.030086</td>\n",
       "      <td>0.006806</td>\n",
       "      <td>0.014401</td>\n",
       "      <td>-0.017582</td>\n",
       "      <td>0.055379</td>\n",
       "      <td>NaN</td>\n",
       "      <td>0.017956</td>\n",
       "    </tr>\n",
       "    <tr>\n",
       "      <td>kitchen_area</td>\n",
       "      <td>0.135922</td>\n",
       "      <td>0.508427</td>\n",
       "      <td>0.575137</td>\n",
       "      <td>0.285569</td>\n",
       "      <td>0.091809</td>\n",
       "      <td>0.091369</td>\n",
       "      <td>0.417785</td>\n",
       "      <td>0.124804</td>\n",
       "      <td>0.083267</td>\n",
       "      <td>NaN</td>\n",
       "      <td>NaN</td>\n",
       "      <td>1.000000</td>\n",
       "      <td>0.078955</td>\n",
       "      <td>0.093383</td>\n",
       "      <td>-0.055007</td>\n",
       "      <td>0.084712</td>\n",
       "      <td>0.001093</td>\n",
       "      <td>0.059964</td>\n",
       "      <td>-0.064958</td>\n",
       "      <td>0.107226</td>\n",
       "      <td>0.351285</td>\n",
       "      <td>-0.051037</td>\n",
       "      <td>-0.046947</td>\n",
       "      <td>-0.322453</td>\n",
       "      <td>0.464084</td>\n",
       "      <td>-0.059730</td>\n",
       "    </tr>\n",
       "    <tr>\n",
       "      <td>balcony</td>\n",
       "      <td>0.031283</td>\n",
       "      <td>0.062832</td>\n",
       "      <td>0.007190</td>\n",
       "      <td>-0.077587</td>\n",
       "      <td>0.014668</td>\n",
       "      <td>0.360197</td>\n",
       "      <td>-0.030783</td>\n",
       "      <td>0.290729</td>\n",
       "      <td>0.016070</td>\n",
       "      <td>0.007871</td>\n",
       "      <td>-0.012432</td>\n",
       "      <td>0.078955</td>\n",
       "      <td>1.000000</td>\n",
       "      <td>0.073517</td>\n",
       "      <td>0.173001</td>\n",
       "      <td>-0.113754</td>\n",
       "      <td>0.122656</td>\n",
       "      <td>0.037901</td>\n",
       "      <td>0.010746</td>\n",
       "      <td>-0.007196</td>\n",
       "      <td>0.118673</td>\n",
       "      <td>0.014929</td>\n",
       "      <td>-0.039157</td>\n",
       "      <td>-0.159547</td>\n",
       "      <td>0.093583</td>\n",
       "      <td>0.172750</td>\n",
       "    </tr>\n",
       "    <tr>\n",
       "      <td>airports_nearest</td>\n",
       "      <td>0.035830</td>\n",
       "      <td>0.093809</td>\n",
       "      <td>0.045271</td>\n",
       "      <td>-0.043044</td>\n",
       "      <td>-0.078367</td>\n",
       "      <td>0.117541</td>\n",
       "      <td>-0.003247</td>\n",
       "      <td>0.077008</td>\n",
       "      <td>-0.001791</td>\n",
       "      <td>-0.013345</td>\n",
       "      <td>-0.019827</td>\n",
       "      <td>0.093383</td>\n",
       "      <td>0.073517</td>\n",
       "      <td>1.000000</td>\n",
       "      <td>0.310964</td>\n",
       "      <td>0.002489</td>\n",
       "      <td>-0.024876</td>\n",
       "      <td>0.088296</td>\n",
       "      <td>0.034983</td>\n",
       "      <td>-0.014278</td>\n",
       "      <td>0.141825</td>\n",
       "      <td>-0.016162</td>\n",
       "      <td>0.048103</td>\n",
       "      <td>-0.106618</td>\n",
       "      <td>0.078717</td>\n",
       "      <td>0.313098</td>\n",
       "    </tr>\n",
       "    <tr>\n",
       "      <td>cityCenters_nearest</td>\n",
       "      <td>0.011397</td>\n",
       "      <td>-0.048395</td>\n",
       "      <td>-0.105160</td>\n",
       "      <td>-0.176549</td>\n",
       "      <td>-0.152597</td>\n",
       "      <td>0.382315</td>\n",
       "      <td>-0.158660</td>\n",
       "      <td>0.250439</td>\n",
       "      <td>-0.058995</td>\n",
       "      <td>0.009273</td>\n",
       "      <td>0.017453</td>\n",
       "      <td>-0.055007</td>\n",
       "      <td>0.173001</td>\n",
       "      <td>0.310964</td>\n",
       "      <td>1.000000</td>\n",
       "      <td>-0.209052</td>\n",
       "      <td>0.067085</td>\n",
       "      <td>-0.288379</td>\n",
       "      <td>0.235313</td>\n",
       "      <td>-0.064503</td>\n",
       "      <td>-0.031160</td>\n",
       "      <td>0.003597</td>\n",
       "      <td>0.032133</td>\n",
       "      <td>-0.148245</td>\n",
       "      <td>0.080190</td>\n",
       "      <td>0.986274</td>\n",
       "    </tr>\n",
       "    <tr>\n",
       "      <td>parks_around3000</td>\n",
       "      <td>0.054024</td>\n",
       "      <td>0.109114</td>\n",
       "      <td>0.104721</td>\n",
       "      <td>0.102267</td>\n",
       "      <td>0.054751</td>\n",
       "      <td>-0.241696</td>\n",
       "      <td>0.140084</td>\n",
       "      <td>-0.157431</td>\n",
       "      <td>0.061585</td>\n",
       "      <td>-0.039282</td>\n",
       "      <td>0.023476</td>\n",
       "      <td>0.084712</td>\n",
       "      <td>-0.113754</td>\n",
       "      <td>0.002489</td>\n",
       "      <td>-0.209052</td>\n",
       "      <td>1.000000</td>\n",
       "      <td>-0.290032</td>\n",
       "      <td>0.165391</td>\n",
       "      <td>-0.168619</td>\n",
       "      <td>0.015847</td>\n",
       "      <td>0.145979</td>\n",
       "      <td>-0.021583</td>\n",
       "      <td>-0.013911</td>\n",
       "      <td>0.087786</td>\n",
       "      <td>-0.030291</td>\n",
       "      <td>-0.203843</td>\n",
       "    </tr>\n",
       "    <tr>\n",
       "      <td>parks_nearest</td>\n",
       "      <td>-0.052090</td>\n",
       "      <td>-0.046187</td>\n",
       "      <td>-0.072597</td>\n",
       "      <td>-0.100148</td>\n",
       "      <td>-0.087821</td>\n",
       "      <td>0.195943</td>\n",
       "      <td>-0.093514</td>\n",
       "      <td>0.126139</td>\n",
       "      <td>-0.047343</td>\n",
       "      <td>-0.011315</td>\n",
       "      <td>0.000936</td>\n",
       "      <td>0.001093</td>\n",
       "      <td>0.122656</td>\n",
       "      <td>-0.024876</td>\n",
       "      <td>0.067085</td>\n",
       "      <td>-0.290032</td>\n",
       "      <td>1.000000</td>\n",
       "      <td>-0.042454</td>\n",
       "      <td>0.087724</td>\n",
       "      <td>0.008437</td>\n",
       "      <td>-0.028284</td>\n",
       "      <td>0.052302</td>\n",
       "      <td>-0.036409</td>\n",
       "      <td>-0.138838</td>\n",
       "      <td>0.096672</td>\n",
       "      <td>0.066393</td>\n",
       "    </tr>\n",
       "    <tr>\n",
       "      <td>ponds_around3000</td>\n",
       "      <td>0.000416</td>\n",
       "      <td>0.104952</td>\n",
       "      <td>0.025032</td>\n",
       "      <td>-0.020735</td>\n",
       "      <td>0.057130</td>\n",
       "      <td>-0.042600</td>\n",
       "      <td>0.024195</td>\n",
       "      <td>-0.045616</td>\n",
       "      <td>0.051855</td>\n",
       "      <td>0.012458</td>\n",
       "      <td>0.004066</td>\n",
       "      <td>0.059964</td>\n",
       "      <td>0.037901</td>\n",
       "      <td>0.088296</td>\n",
       "      <td>-0.288379</td>\n",
       "      <td>0.165391</td>\n",
       "      <td>-0.042454</td>\n",
       "      <td>1.000000</td>\n",
       "      <td>-0.375399</td>\n",
       "      <td>0.007661</td>\n",
       "      <td>0.155647</td>\n",
       "      <td>-0.023425</td>\n",
       "      <td>-0.016476</td>\n",
       "      <td>-0.019527</td>\n",
       "      <td>0.031102</td>\n",
       "      <td>-0.288396</td>\n",
       "    </tr>\n",
       "    <tr>\n",
       "      <td>ponds_nearest</td>\n",
       "      <td>-0.007231</td>\n",
       "      <td>-0.076546</td>\n",
       "      <td>-0.075096</td>\n",
       "      <td>-0.056871</td>\n",
       "      <td>-0.002081</td>\n",
       "      <td>0.017885</td>\n",
       "      <td>-0.064954</td>\n",
       "      <td>-0.000184</td>\n",
       "      <td>-0.009461</td>\n",
       "      <td>0.019188</td>\n",
       "      <td>0.000997</td>\n",
       "      <td>-0.064958</td>\n",
       "      <td>0.010746</td>\n",
       "      <td>0.034983</td>\n",
       "      <td>0.235313</td>\n",
       "      <td>-0.168619</td>\n",
       "      <td>0.087724</td>\n",
       "      <td>-0.375399</td>\n",
       "      <td>1.000000</td>\n",
       "      <td>-0.023326</td>\n",
       "      <td>-0.094480</td>\n",
       "      <td>0.046225</td>\n",
       "      <td>0.008187</td>\n",
       "      <td>-0.017848</td>\n",
       "      <td>0.028306</td>\n",
       "      <td>0.231260</td>\n",
       "    </tr>\n",
       "    <tr>\n",
       "      <td>days_exposition</td>\n",
       "      <td>-0.039205</td>\n",
       "      <td>0.061438</td>\n",
       "      <td>0.138004</td>\n",
       "      <td>0.134461</td>\n",
       "      <td>0.074402</td>\n",
       "      <td>-0.004442</td>\n",
       "      <td>0.136011</td>\n",
       "      <td>-0.002411</td>\n",
       "      <td>0.061910</td>\n",
       "      <td>-0.037595</td>\n",
       "      <td>-0.030086</td>\n",
       "      <td>0.107226</td>\n",
       "      <td>-0.007196</td>\n",
       "      <td>-0.014278</td>\n",
       "      <td>-0.064503</td>\n",
       "      <td>0.015847</td>\n",
       "      <td>0.008437</td>\n",
       "      <td>0.007661</td>\n",
       "      <td>-0.023326</td>\n",
       "      <td>1.000000</td>\n",
       "      <td>0.033443</td>\n",
       "      <td>-0.033134</td>\n",
       "      <td>-0.656596</td>\n",
       "      <td>0.000726</td>\n",
       "      <td>-0.002642</td>\n",
       "      <td>-0.061011</td>\n",
       "    </tr>\n",
       "    <tr>\n",
       "      <td>m2_price</td>\n",
       "      <td>0.159239</td>\n",
       "      <td>0.780133</td>\n",
       "      <td>0.251861</td>\n",
       "      <td>0.006433</td>\n",
       "      <td>0.058854</td>\n",
       "      <td>0.108770</td>\n",
       "      <td>0.188808</td>\n",
       "      <td>0.123959</td>\n",
       "      <td>0.060481</td>\n",
       "      <td>-0.001737</td>\n",
       "      <td>0.006806</td>\n",
       "      <td>0.351285</td>\n",
       "      <td>0.118673</td>\n",
       "      <td>0.141825</td>\n",
       "      <td>-0.031160</td>\n",
       "      <td>0.145979</td>\n",
       "      <td>-0.028284</td>\n",
       "      <td>0.155647</td>\n",
       "      <td>-0.094480</td>\n",
       "      <td>0.033443</td>\n",
       "      <td>1.000000</td>\n",
       "      <td>-0.015754</td>\n",
       "      <td>0.007847</td>\n",
       "      <td>-0.148536</td>\n",
       "      <td>0.138015</td>\n",
       "      <td>-0.031131</td>\n",
       "    </tr>\n",
       "    <tr>\n",
       "      <td>pub_month</td>\n",
       "      <td>-0.009076</td>\n",
       "      <td>-0.006547</td>\n",
       "      <td>-0.016221</td>\n",
       "      <td>-0.021442</td>\n",
       "      <td>-0.009759</td>\n",
       "      <td>0.022971</td>\n",
       "      <td>-0.010343</td>\n",
       "      <td>0.024649</td>\n",
       "      <td>0.017710</td>\n",
       "      <td>0.012709</td>\n",
       "      <td>0.014401</td>\n",
       "      <td>-0.051037</td>\n",
       "      <td>0.014929</td>\n",
       "      <td>-0.016162</td>\n",
       "      <td>0.003597</td>\n",
       "      <td>-0.021583</td>\n",
       "      <td>0.052302</td>\n",
       "      <td>-0.023425</td>\n",
       "      <td>0.046225</td>\n",
       "      <td>-0.033134</td>\n",
       "      <td>-0.015754</td>\n",
       "      <td>1.000000</td>\n",
       "      <td>-0.241147</td>\n",
       "      <td>0.013459</td>\n",
       "      <td>-0.032440</td>\n",
       "      <td>0.003602</td>\n",
       "    </tr>\n",
       "    <tr>\n",
       "      <td>pub_year</td>\n",
       "      <td>0.138446</td>\n",
       "      <td>-0.042790</td>\n",
       "      <td>-0.074729</td>\n",
       "      <td>-0.060475</td>\n",
       "      <td>-0.018587</td>\n",
       "      <td>-0.043524</td>\n",
       "      <td>-0.067585</td>\n",
       "      <td>-0.032291</td>\n",
       "      <td>-0.033614</td>\n",
       "      <td>0.013968</td>\n",
       "      <td>-0.017582</td>\n",
       "      <td>-0.046947</td>\n",
       "      <td>-0.039157</td>\n",
       "      <td>0.048103</td>\n",
       "      <td>0.032133</td>\n",
       "      <td>-0.013911</td>\n",
       "      <td>-0.036409</td>\n",
       "      <td>-0.016476</td>\n",
       "      <td>0.008187</td>\n",
       "      <td>-0.656596</td>\n",
       "      <td>0.007847</td>\n",
       "      <td>-0.241147</td>\n",
       "      <td>1.000000</td>\n",
       "      <td>0.015246</td>\n",
       "      <td>0.007326</td>\n",
       "      <td>0.029881</td>\n",
       "    </tr>\n",
       "    <tr>\n",
       "      <td>living_to_total</td>\n",
       "      <td>-0.038025</td>\n",
       "      <td>-0.017885</td>\n",
       "      <td>0.137333</td>\n",
       "      <td>0.406846</td>\n",
       "      <td>0.051280</td>\n",
       "      <td>-0.336717</td>\n",
       "      <td>0.408151</td>\n",
       "      <td>-0.198131</td>\n",
       "      <td>0.031050</td>\n",
       "      <td>0.061140</td>\n",
       "      <td>0.055379</td>\n",
       "      <td>-0.322453</td>\n",
       "      <td>-0.159547</td>\n",
       "      <td>-0.106618</td>\n",
       "      <td>-0.148245</td>\n",
       "      <td>0.087786</td>\n",
       "      <td>-0.138838</td>\n",
       "      <td>-0.019527</td>\n",
       "      <td>-0.017848</td>\n",
       "      <td>0.000726</td>\n",
       "      <td>-0.148536</td>\n",
       "      <td>0.013459</td>\n",
       "      <td>0.015246</td>\n",
       "      <td>1.000000</td>\n",
       "      <td>-0.668749</td>\n",
       "      <td>-0.150672</td>\n",
       "    </tr>\n",
       "    <tr>\n",
       "      <td>kitchen_to_total</td>\n",
       "      <td>0.039374</td>\n",
       "      <td>-0.088148</td>\n",
       "      <td>-0.313053</td>\n",
       "      <td>-0.488379</td>\n",
       "      <td>-0.040253</td>\n",
       "      <td>0.181367</td>\n",
       "      <td>-0.448569</td>\n",
       "      <td>0.057653</td>\n",
       "      <td>0.040677</td>\n",
       "      <td>NaN</td>\n",
       "      <td>NaN</td>\n",
       "      <td>0.464084</td>\n",
       "      <td>0.093583</td>\n",
       "      <td>0.078717</td>\n",
       "      <td>0.080190</td>\n",
       "      <td>-0.030291</td>\n",
       "      <td>0.096672</td>\n",
       "      <td>0.031102</td>\n",
       "      <td>0.028306</td>\n",
       "      <td>-0.002642</td>\n",
       "      <td>0.138015</td>\n",
       "      <td>-0.032440</td>\n",
       "      <td>0.007326</td>\n",
       "      <td>-0.668749</td>\n",
       "      <td>1.000000</td>\n",
       "      <td>0.082470</td>\n",
       "    </tr>\n",
       "    <tr>\n",
       "      <td>cityCentre_km</td>\n",
       "      <td>0.010455</td>\n",
       "      <td>-0.052202</td>\n",
       "      <td>-0.112168</td>\n",
       "      <td>-0.181027</td>\n",
       "      <td>-0.150890</td>\n",
       "      <td>0.377488</td>\n",
       "      <td>-0.166237</td>\n",
       "      <td>0.247376</td>\n",
       "      <td>-0.058537</td>\n",
       "      <td>0.010639</td>\n",
       "      <td>0.017956</td>\n",
       "      <td>-0.059730</td>\n",
       "      <td>0.172750</td>\n",
       "      <td>0.313098</td>\n",
       "      <td>0.986274</td>\n",
       "      <td>-0.203843</td>\n",
       "      <td>0.066393</td>\n",
       "      <td>-0.288396</td>\n",
       "      <td>0.231260</td>\n",
       "      <td>-0.061011</td>\n",
       "      <td>-0.031131</td>\n",
       "      <td>0.003602</td>\n",
       "      <td>0.029881</td>\n",
       "      <td>-0.150672</td>\n",
       "      <td>0.082470</td>\n",
       "      <td>1.000000</td>\n",
       "    </tr>\n",
       "  </tbody>\n",
       "</table>\n",
       "</div>"
      ],
      "text/plain": [
       "                     total_images  last_price  total_area     rooms  \\\n",
       "total_images             1.000000    0.132382    0.101601  0.053557   \n",
       "last_price               0.132382    1.000000    0.636563  0.333293   \n",
       "total_area               0.101601    0.636563    1.000000  0.737542   \n",
       "rooms                    0.053557    0.333293    0.737542  1.000000   \n",
       "ceiling_height           0.050386    0.101974    0.146870  0.103909   \n",
       "floors_total            -0.025598    0.043211   -0.021733 -0.183407   \n",
       "living_area              0.082858    0.539178    0.940365  0.823224   \n",
       "floor                    0.012110    0.125709    0.103972 -0.038983   \n",
       "is_apartment             0.001912    0.037230    0.040255 -0.001770   \n",
       "studio                  -0.031311   -0.022998   -0.053658 -0.115911   \n",
       "open_plan               -0.039830    0.007738    0.004522 -0.041924   \n",
       "kitchen_area             0.135922    0.508427    0.575137  0.285569   \n",
       "balcony                  0.031283    0.062832    0.007190 -0.077587   \n",
       "airports_nearest         0.035830    0.093809    0.045271 -0.043044   \n",
       "cityCenters_nearest      0.011397   -0.048395   -0.105160 -0.176549   \n",
       "parks_around3000         0.054024    0.109114    0.104721  0.102267   \n",
       "parks_nearest           -0.052090   -0.046187   -0.072597 -0.100148   \n",
       "ponds_around3000         0.000416    0.104952    0.025032 -0.020735   \n",
       "ponds_nearest           -0.007231   -0.076546   -0.075096 -0.056871   \n",
       "days_exposition         -0.039205    0.061438    0.138004  0.134461   \n",
       "m2_price                 0.159239    0.780133    0.251861  0.006433   \n",
       "pub_month               -0.009076   -0.006547   -0.016221 -0.021442   \n",
       "pub_year                 0.138446   -0.042790   -0.074729 -0.060475   \n",
       "living_to_total         -0.038025   -0.017885    0.137333  0.406846   \n",
       "kitchen_to_total         0.039374   -0.088148   -0.313053 -0.488379   \n",
       "cityCentre_km            0.010455   -0.052202   -0.112168 -0.181027   \n",
       "\n",
       "                     ceiling_height  floors_total  living_area     floor  \\\n",
       "total_images               0.050386     -0.025598     0.082858  0.012110   \n",
       "last_price                 0.101974      0.043211     0.539178  0.125709   \n",
       "total_area                 0.146870     -0.021733     0.940365  0.103972   \n",
       "rooms                      0.103909     -0.183407     0.823224 -0.038983   \n",
       "ceiling_height             1.000000     -0.152303     0.153020 -0.079499   \n",
       "floors_total              -0.152303      1.000000    -0.128295  0.671985   \n",
       "living_area                0.153020     -0.128295     1.000000  0.020442   \n",
       "floor                     -0.079499      0.671985     0.020442  1.000000   \n",
       "is_apartment               0.034446     -0.013973     0.051338  0.002127   \n",
       "studio                     0.007577      0.002869    -0.041461 -0.015614   \n",
       "open_plan                  0.003691      0.019099    -0.025209 -0.000381   \n",
       "kitchen_area               0.091809      0.091369     0.417785  0.124804   \n",
       "balcony                    0.014668      0.360197    -0.030783  0.290729   \n",
       "airports_nearest          -0.078367      0.117541    -0.003247  0.077008   \n",
       "cityCenters_nearest       -0.152597      0.382315    -0.158660  0.250439   \n",
       "parks_around3000           0.054751     -0.241696     0.140084 -0.157431   \n",
       "parks_nearest             -0.087821      0.195943    -0.093514  0.126139   \n",
       "ponds_around3000           0.057130     -0.042600     0.024195 -0.045616   \n",
       "ponds_nearest             -0.002081      0.017885    -0.064954 -0.000184   \n",
       "days_exposition            0.074402     -0.004442     0.136011 -0.002411   \n",
       "m2_price                   0.058854      0.108770     0.188808  0.123959   \n",
       "pub_month                 -0.009759      0.022971    -0.010343  0.024649   \n",
       "pub_year                  -0.018587     -0.043524    -0.067585 -0.032291   \n",
       "living_to_total            0.051280     -0.336717     0.408151 -0.198131   \n",
       "kitchen_to_total          -0.040253      0.181367    -0.448569  0.057653   \n",
       "cityCentre_km             -0.150890      0.377488    -0.166237  0.247376   \n",
       "\n",
       "                     is_apartment    studio  open_plan  kitchen_area  \\\n",
       "total_images             0.001912 -0.031311  -0.039830      0.135922   \n",
       "last_price               0.037230 -0.022998   0.007738      0.508427   \n",
       "total_area               0.040255 -0.053658   0.004522      0.575137   \n",
       "rooms                   -0.001770 -0.115911  -0.041924      0.285569   \n",
       "ceiling_height           0.034446  0.007577   0.003691      0.091809   \n",
       "floors_total            -0.013973  0.002869   0.019099      0.091369   \n",
       "living_area              0.051338 -0.041461  -0.025209      0.417785   \n",
       "floor                    0.002127 -0.015614  -0.000381      0.124804   \n",
       "is_apartment             1.000000 -0.003655  -0.002760      0.083267   \n",
       "studio                  -0.003655  1.000000  -0.002865           NaN   \n",
       "open_plan               -0.002760 -0.002865   1.000000           NaN   \n",
       "kitchen_area             0.083267       NaN        NaN      1.000000   \n",
       "balcony                  0.016070  0.007871  -0.012432      0.078955   \n",
       "airports_nearest        -0.001791 -0.013345  -0.019827      0.093383   \n",
       "cityCenters_nearest     -0.058995  0.009273   0.017453     -0.055007   \n",
       "parks_around3000         0.061585 -0.039282   0.023476      0.084712   \n",
       "parks_nearest           -0.047343 -0.011315   0.000936      0.001093   \n",
       "ponds_around3000         0.051855  0.012458   0.004066      0.059964   \n",
       "ponds_nearest           -0.009461  0.019188   0.000997     -0.064958   \n",
       "days_exposition          0.061910 -0.037595  -0.030086      0.107226   \n",
       "m2_price                 0.060481 -0.001737   0.006806      0.351285   \n",
       "pub_month                0.017710  0.012709   0.014401     -0.051037   \n",
       "pub_year                -0.033614  0.013968  -0.017582     -0.046947   \n",
       "living_to_total          0.031050  0.061140   0.055379     -0.322453   \n",
       "kitchen_to_total         0.040677       NaN        NaN      0.464084   \n",
       "cityCentre_km           -0.058537  0.010639   0.017956     -0.059730   \n",
       "\n",
       "                      balcony  airports_nearest  cityCenters_nearest  \\\n",
       "total_images         0.031283          0.035830             0.011397   \n",
       "last_price           0.062832          0.093809            -0.048395   \n",
       "total_area           0.007190          0.045271            -0.105160   \n",
       "rooms               -0.077587         -0.043044            -0.176549   \n",
       "ceiling_height       0.014668         -0.078367            -0.152597   \n",
       "floors_total         0.360197          0.117541             0.382315   \n",
       "living_area         -0.030783         -0.003247            -0.158660   \n",
       "floor                0.290729          0.077008             0.250439   \n",
       "is_apartment         0.016070         -0.001791            -0.058995   \n",
       "studio               0.007871         -0.013345             0.009273   \n",
       "open_plan           -0.012432         -0.019827             0.017453   \n",
       "kitchen_area         0.078955          0.093383            -0.055007   \n",
       "balcony              1.000000          0.073517             0.173001   \n",
       "airports_nearest     0.073517          1.000000             0.310964   \n",
       "cityCenters_nearest  0.173001          0.310964             1.000000   \n",
       "parks_around3000    -0.113754          0.002489            -0.209052   \n",
       "parks_nearest        0.122656         -0.024876             0.067085   \n",
       "ponds_around3000     0.037901          0.088296            -0.288379   \n",
       "ponds_nearest        0.010746          0.034983             0.235313   \n",
       "days_exposition     -0.007196         -0.014278            -0.064503   \n",
       "m2_price             0.118673          0.141825            -0.031160   \n",
       "pub_month            0.014929         -0.016162             0.003597   \n",
       "pub_year            -0.039157          0.048103             0.032133   \n",
       "living_to_total     -0.159547         -0.106618            -0.148245   \n",
       "kitchen_to_total     0.093583          0.078717             0.080190   \n",
       "cityCentre_km        0.172750          0.313098             0.986274   \n",
       "\n",
       "                     parks_around3000  parks_nearest  ponds_around3000  \\\n",
       "total_images                 0.054024      -0.052090          0.000416   \n",
       "last_price                   0.109114      -0.046187          0.104952   \n",
       "total_area                   0.104721      -0.072597          0.025032   \n",
       "rooms                        0.102267      -0.100148         -0.020735   \n",
       "ceiling_height               0.054751      -0.087821          0.057130   \n",
       "floors_total                -0.241696       0.195943         -0.042600   \n",
       "living_area                  0.140084      -0.093514          0.024195   \n",
       "floor                       -0.157431       0.126139         -0.045616   \n",
       "is_apartment                 0.061585      -0.047343          0.051855   \n",
       "studio                      -0.039282      -0.011315          0.012458   \n",
       "open_plan                    0.023476       0.000936          0.004066   \n",
       "kitchen_area                 0.084712       0.001093          0.059964   \n",
       "balcony                     -0.113754       0.122656          0.037901   \n",
       "airports_nearest             0.002489      -0.024876          0.088296   \n",
       "cityCenters_nearest         -0.209052       0.067085         -0.288379   \n",
       "parks_around3000             1.000000      -0.290032          0.165391   \n",
       "parks_nearest               -0.290032       1.000000         -0.042454   \n",
       "ponds_around3000             0.165391      -0.042454          1.000000   \n",
       "ponds_nearest               -0.168619       0.087724         -0.375399   \n",
       "days_exposition              0.015847       0.008437          0.007661   \n",
       "m2_price                     0.145979      -0.028284          0.155647   \n",
       "pub_month                   -0.021583       0.052302         -0.023425   \n",
       "pub_year                    -0.013911      -0.036409         -0.016476   \n",
       "living_to_total              0.087786      -0.138838         -0.019527   \n",
       "kitchen_to_total            -0.030291       0.096672          0.031102   \n",
       "cityCentre_km               -0.203843       0.066393         -0.288396   \n",
       "\n",
       "                     ponds_nearest  days_exposition  m2_price  pub_month  \\\n",
       "total_images             -0.007231        -0.039205  0.159239  -0.009076   \n",
       "last_price               -0.076546         0.061438  0.780133  -0.006547   \n",
       "total_area               -0.075096         0.138004  0.251861  -0.016221   \n",
       "rooms                    -0.056871         0.134461  0.006433  -0.021442   \n",
       "ceiling_height           -0.002081         0.074402  0.058854  -0.009759   \n",
       "floors_total              0.017885        -0.004442  0.108770   0.022971   \n",
       "living_area              -0.064954         0.136011  0.188808  -0.010343   \n",
       "floor                    -0.000184        -0.002411  0.123959   0.024649   \n",
       "is_apartment             -0.009461         0.061910  0.060481   0.017710   \n",
       "studio                    0.019188        -0.037595 -0.001737   0.012709   \n",
       "open_plan                 0.000997        -0.030086  0.006806   0.014401   \n",
       "kitchen_area             -0.064958         0.107226  0.351285  -0.051037   \n",
       "balcony                   0.010746        -0.007196  0.118673   0.014929   \n",
       "airports_nearest          0.034983        -0.014278  0.141825  -0.016162   \n",
       "cityCenters_nearest       0.235313        -0.064503 -0.031160   0.003597   \n",
       "parks_around3000         -0.168619         0.015847  0.145979  -0.021583   \n",
       "parks_nearest             0.087724         0.008437 -0.028284   0.052302   \n",
       "ponds_around3000         -0.375399         0.007661  0.155647  -0.023425   \n",
       "ponds_nearest             1.000000        -0.023326 -0.094480   0.046225   \n",
       "days_exposition          -0.023326         1.000000  0.033443  -0.033134   \n",
       "m2_price                 -0.094480         0.033443  1.000000  -0.015754   \n",
       "pub_month                 0.046225        -0.033134 -0.015754   1.000000   \n",
       "pub_year                  0.008187        -0.656596  0.007847  -0.241147   \n",
       "living_to_total          -0.017848         0.000726 -0.148536   0.013459   \n",
       "kitchen_to_total          0.028306        -0.002642  0.138015  -0.032440   \n",
       "cityCentre_km             0.231260        -0.061011 -0.031131   0.003602   \n",
       "\n",
       "                     pub_year  living_to_total  kitchen_to_total  \\\n",
       "total_images         0.138446        -0.038025          0.039374   \n",
       "last_price          -0.042790        -0.017885         -0.088148   \n",
       "total_area          -0.074729         0.137333         -0.313053   \n",
       "rooms               -0.060475         0.406846         -0.488379   \n",
       "ceiling_height      -0.018587         0.051280         -0.040253   \n",
       "floors_total        -0.043524        -0.336717          0.181367   \n",
       "living_area         -0.067585         0.408151         -0.448569   \n",
       "floor               -0.032291        -0.198131          0.057653   \n",
       "is_apartment        -0.033614         0.031050          0.040677   \n",
       "studio               0.013968         0.061140               NaN   \n",
       "open_plan           -0.017582         0.055379               NaN   \n",
       "kitchen_area        -0.046947        -0.322453          0.464084   \n",
       "balcony             -0.039157        -0.159547          0.093583   \n",
       "airports_nearest     0.048103        -0.106618          0.078717   \n",
       "cityCenters_nearest  0.032133        -0.148245          0.080190   \n",
       "parks_around3000    -0.013911         0.087786         -0.030291   \n",
       "parks_nearest       -0.036409        -0.138838          0.096672   \n",
       "ponds_around3000    -0.016476        -0.019527          0.031102   \n",
       "ponds_nearest        0.008187        -0.017848          0.028306   \n",
       "days_exposition     -0.656596         0.000726         -0.002642   \n",
       "m2_price             0.007847        -0.148536          0.138015   \n",
       "pub_month           -0.241147         0.013459         -0.032440   \n",
       "pub_year             1.000000         0.015246          0.007326   \n",
       "living_to_total      0.015246         1.000000         -0.668749   \n",
       "kitchen_to_total     0.007326        -0.668749          1.000000   \n",
       "cityCentre_km        0.029881        -0.150672          0.082470   \n",
       "\n",
       "                     cityCentre_km  \n",
       "total_images              0.010455  \n",
       "last_price               -0.052202  \n",
       "total_area               -0.112168  \n",
       "rooms                    -0.181027  \n",
       "ceiling_height           -0.150890  \n",
       "floors_total              0.377488  \n",
       "living_area              -0.166237  \n",
       "floor                     0.247376  \n",
       "is_apartment             -0.058537  \n",
       "studio                    0.010639  \n",
       "open_plan                 0.017956  \n",
       "kitchen_area             -0.059730  \n",
       "balcony                   0.172750  \n",
       "airports_nearest          0.313098  \n",
       "cityCenters_nearest       0.986274  \n",
       "parks_around3000         -0.203843  \n",
       "parks_nearest             0.066393  \n",
       "ponds_around3000         -0.288396  \n",
       "ponds_nearest             0.231260  \n",
       "days_exposition          -0.061011  \n",
       "m2_price                 -0.031131  \n",
       "pub_month                 0.003602  \n",
       "pub_year                  0.029881  \n",
       "living_to_total          -0.150672  \n",
       "kitchen_to_total          0.082470  \n",
       "cityCentre_km             1.000000  "
      ]
     },
     "execution_count": 93,
     "metadata": {},
     "output_type": "execute_result"
    }
   ],
   "source": [
    "spb_centre_df.corr()"
   ]
  },
  {
   "cell_type": "markdown",
   "metadata": {},
   "source": [
    "#### Вывод"
   ]
  },
  {
   "cell_type": "markdown",
   "metadata": {},
   "source": [
    "были построены графики по следующим столбцам: `total_area`, `last_price`, `rooms`, `ceiling_height`. Изучив данные графики было выявлено, что в центре СпБ в основном квартиры площадью 75 кв.м., большинство квартир продается за 8 миллионов, но существуют и такие которые стоят за 50 млн., комнат в продаваемых квартирах в центре обычно от 2 до 4 и высота потолков 3 метра. Построил матрицу корелляции для проверки на то какие признаки влияют на стоимость квартиры, основные факторы это конечно размер квартиры, размер жилого помещения и размер кухни, но также на цену имеет влияние то сколько комнат в квартире, остальные показатели очень слабо влияют на цену квартиры."
   ]
  },
  {
   "cell_type": "markdown",
   "metadata": {},
   "source": [
    "### Вывод по разделу"
   ]
  },
  {
   "cell_type": "markdown",
   "metadata": {},
   "source": [
    "Был проведен обширный исследовательский анализ данных в ходе которого было выявлено, что квартиры продаются в большинстве своем достаточно быстро, существует явная зависимость цены от площади до 200 кв.м., квартиры в центре стоят гораздо дороже других квартир, квартиры имеющие от 4 до 5 комнат очень сильно варьируются в цене, квартиры на последнем этаже стоят почти в 2 раза дороже квартир на первом, а квартиры на первом этаже дешевле по сравнению с другими, обьявления, выставленные в субботу в среднем дороже остальных и в декабре выставляются квартиры также дороже по сравнению с другими месяцами. Можно проследить стоимость квартир в зависимости от года публикации и заметить, что наблюдался спад с 2014 по 2018, но в 2019 цены опять начали расти"
   ]
  },
  {
   "cell_type": "markdown",
   "metadata": {},
   "source": [
    "## Общий вывод"
   ]
  },
  {
   "cell_type": "markdown",
   "metadata": {},
   "source": [
    "Был открыт и изучен файл, после чего был проведен этап предобработки в ходе которого были заполнены пропущенные значения там где это уместно и заменены типы данных. Далее был проведен обширный исследовательский анализ данных, подробную информацию по которому можно посмотреть в соответствующем выводе по разделу"
   ]
  }
 ],
 "metadata": {
  "ExecuteTimeLog": [
   {
    "duration": 346,
    "start_time": "2021-09-10T10:57:37.674Z"
   },
   {
    "duration": 1129,
    "start_time": "2021-09-10T10:57:45.872Z"
   },
   {
    "duration": 69,
    "start_time": "2021-09-10T10:57:47.003Z"
   },
   {
    "duration": 70,
    "start_time": "2021-09-10T10:58:07.866Z"
   },
   {
    "duration": 91,
    "start_time": "2021-09-10T10:58:16.076Z"
   },
   {
    "duration": 65,
    "start_time": "2021-09-10T10:58:23.707Z"
   },
   {
    "duration": 104,
    "start_time": "2021-09-10T10:58:34.816Z"
   },
   {
    "duration": 68,
    "start_time": "2021-09-10T11:01:27.318Z"
   },
   {
    "duration": 69,
    "start_time": "2021-09-10T11:01:33.365Z"
   },
   {
    "duration": 68,
    "start_time": "2021-09-10T11:06:11.278Z"
   },
   {
    "duration": 310,
    "start_time": "2021-09-15T12:29:41.872Z"
   },
   {
    "duration": 2059,
    "start_time": "2021-09-15T12:29:44.995Z"
   },
   {
    "duration": 130,
    "start_time": "2021-09-15T12:29:47.058Z"
   },
   {
    "duration": 344,
    "start_time": "2021-09-15T12:29:57.373Z"
   },
   {
    "duration": 222,
    "start_time": "2021-09-15T12:32:00.073Z"
   },
   {
    "duration": 4,
    "start_time": "2021-09-15T12:32:36.897Z"
   },
   {
    "duration": 213,
    "start_time": "2021-09-15T12:32:37.269Z"
   },
   {
    "duration": 358,
    "start_time": "2021-09-15T12:33:55.480Z"
   },
   {
    "duration": 8,
    "start_time": "2021-09-15T12:34:04.145Z"
   },
   {
    "duration": 8,
    "start_time": "2021-09-15T12:34:59.992Z"
   },
   {
    "duration": 6,
    "start_time": "2021-09-15T12:35:04.195Z"
   },
   {
    "duration": 13,
    "start_time": "2021-09-15T12:35:07.407Z"
   },
   {
    "duration": 12,
    "start_time": "2021-09-15T12:35:10.724Z"
   },
   {
    "duration": 1418,
    "start_time": "2021-09-16T08:48:52.407Z"
   },
   {
    "duration": 243,
    "start_time": "2021-09-16T08:48:53.828Z"
   },
   {
    "duration": 2902,
    "start_time": "2021-09-16T09:43:34.918Z"
   },
   {
    "duration": 2897,
    "start_time": "2021-09-16T09:43:34.925Z"
   },
   {
    "duration": 2896,
    "start_time": "2021-09-16T09:43:34.927Z"
   },
   {
    "duration": 4,
    "start_time": "2021-09-16T09:43:40.566Z"
   },
   {
    "duration": 230,
    "start_time": "2021-09-16T09:43:40.829Z"
   },
   {
    "duration": 385,
    "start_time": "2021-09-16T09:43:43.033Z"
   },
   {
    "duration": 119,
    "start_time": "2021-09-16T09:43:50.666Z"
   },
   {
    "duration": 396,
    "start_time": "2021-09-16T09:43:58.178Z"
   },
   {
    "duration": 54,
    "start_time": "2021-09-16T09:44:01.052Z"
   },
   {
    "duration": 500,
    "start_time": "2021-09-16T09:45:21.678Z"
   },
   {
    "duration": 55,
    "start_time": "2021-09-16T09:45:28.320Z"
   },
   {
    "duration": 57,
    "start_time": "2021-09-16T09:45:32.151Z"
   },
   {
    "duration": 57,
    "start_time": "2021-09-16T09:45:36.471Z"
   },
   {
    "duration": 222,
    "start_time": "2021-09-18T08:52:59.939Z"
   },
   {
    "duration": 1048,
    "start_time": "2021-09-18T08:53:04.048Z"
   },
   {
    "duration": 154,
    "start_time": "2021-09-18T08:53:05.098Z"
   },
   {
    "duration": 15,
    "start_time": "2021-09-18T08:53:11.611Z"
   },
   {
    "duration": 23,
    "start_time": "2021-09-18T08:53:45.184Z"
   },
   {
    "duration": 24,
    "start_time": "2021-09-18T08:55:06.117Z"
   },
   {
    "duration": 231,
    "start_time": "2021-09-18T08:59:28.419Z"
   },
   {
    "duration": 181,
    "start_time": "2021-09-18T08:59:56.640Z"
   },
   {
    "duration": 215,
    "start_time": "2021-09-18T09:00:01.414Z"
   },
   {
    "duration": 193,
    "start_time": "2021-09-18T09:00:03.929Z"
   },
   {
    "duration": 15,
    "start_time": "2021-09-18T09:02:56.657Z"
   },
   {
    "duration": 217,
    "start_time": "2021-09-18T09:06:15.644Z"
   },
   {
    "duration": 181,
    "start_time": "2021-09-18T09:06:21.422Z"
   },
   {
    "duration": 19,
    "start_time": "2021-09-18T09:06:24.477Z"
   },
   {
    "duration": 34,
    "start_time": "2021-09-18T09:06:33.962Z"
   },
   {
    "duration": 38,
    "start_time": "2021-09-18T09:07:07.258Z"
   },
   {
    "duration": 15,
    "start_time": "2021-09-18T09:08:02.506Z"
   },
   {
    "duration": 20,
    "start_time": "2021-09-18T09:09:07.966Z"
   },
   {
    "duration": 18,
    "start_time": "2021-09-18T09:09:12.954Z"
   },
   {
    "duration": 41,
    "start_time": "2021-09-18T09:10:02.874Z"
   },
   {
    "duration": 53,
    "start_time": "2021-09-18T09:10:12.025Z"
   },
   {
    "duration": 55,
    "start_time": "2021-09-18T09:10:18.189Z"
   },
   {
    "duration": 45,
    "start_time": "2021-09-18T09:10:25.194Z"
   },
   {
    "duration": 41,
    "start_time": "2021-09-18T09:10:31.393Z"
   },
   {
    "duration": 41,
    "start_time": "2021-09-18T09:10:40.953Z"
   },
   {
    "duration": 41,
    "start_time": "2021-09-18T09:10:49.654Z"
   },
   {
    "duration": 6,
    "start_time": "2021-09-18T09:13:44.945Z"
   },
   {
    "duration": 8,
    "start_time": "2021-09-18T09:13:46.462Z"
   },
   {
    "duration": 5,
    "start_time": "2021-09-18T09:14:49.218Z"
   },
   {
    "duration": 17,
    "start_time": "2021-09-18T09:14:58.992Z"
   },
   {
    "duration": 207,
    "start_time": "2021-09-18T09:20:41.281Z"
   },
   {
    "duration": 268,
    "start_time": "2021-09-18T09:20:49.806Z"
   },
   {
    "duration": 201,
    "start_time": "2021-09-18T09:20:55.223Z"
   },
   {
    "duration": 255,
    "start_time": "2021-09-18T09:21:06.536Z"
   },
   {
    "duration": 172,
    "start_time": "2021-09-18T09:21:21.272Z"
   },
   {
    "duration": 125,
    "start_time": "2021-09-18T09:21:49.567Z"
   },
   {
    "duration": 219,
    "start_time": "2021-09-18T09:26:41.388Z"
   },
   {
    "duration": 194,
    "start_time": "2021-09-18T09:26:46.268Z"
   },
   {
    "duration": 55,
    "start_time": "2021-09-18T09:26:49.032Z"
   },
   {
    "duration": 60,
    "start_time": "2021-09-18T09:26:56.352Z"
   },
   {
    "duration": 179,
    "start_time": "2021-09-18T09:27:13.726Z"
   },
   {
    "duration": 176,
    "start_time": "2021-09-18T09:28:47.983Z"
   },
   {
    "duration": 178,
    "start_time": "2021-09-18T09:28:54.816Z"
   },
   {
    "duration": 9,
    "start_time": "2021-09-18T09:30:37.892Z"
   },
   {
    "duration": 9,
    "start_time": "2021-09-18T09:30:39.021Z"
   },
   {
    "duration": 13,
    "start_time": "2021-09-18T09:30:58.220Z"
   },
   {
    "duration": 11,
    "start_time": "2021-09-18T09:30:59.254Z"
   },
   {
    "duration": 1031,
    "start_time": "2021-09-18T10:12:07.241Z"
   },
   {
    "duration": 171,
    "start_time": "2021-09-18T10:12:08.274Z"
   },
   {
    "duration": 10,
    "start_time": "2021-09-18T10:12:08.767Z"
   },
   {
    "duration": 17,
    "start_time": "2021-09-18T10:12:09.005Z"
   },
   {
    "duration": 6,
    "start_time": "2021-09-18T10:12:09.213Z"
   },
   {
    "duration": 11,
    "start_time": "2021-09-18T10:12:11.932Z"
   },
   {
    "duration": 21,
    "start_time": "2021-09-18T10:12:20.422Z"
   },
   {
    "duration": 12,
    "start_time": "2021-09-18T10:12:23.823Z"
   },
   {
    "duration": 22,
    "start_time": "2021-09-18T10:17:12.957Z"
   },
   {
    "duration": 5,
    "start_time": "2021-09-18T10:18:25.779Z"
   },
   {
    "duration": 20,
    "start_time": "2021-09-18T10:18:30.813Z"
   },
   {
    "duration": 4,
    "start_time": "2021-09-18T10:19:11.759Z"
   },
   {
    "duration": 20,
    "start_time": "2021-09-18T10:19:13.044Z"
   },
   {
    "duration": 15,
    "start_time": "2021-09-18T10:22:27.413Z"
   },
   {
    "duration": 4,
    "start_time": "2021-09-18T10:25:15.126Z"
   },
   {
    "duration": 578,
    "start_time": "2021-09-18T10:25:33.865Z"
   },
   {
    "duration": 28,
    "start_time": "2021-09-18T10:25:37.696Z"
   },
   {
    "duration": 30,
    "start_time": "2021-09-18T10:25:43.571Z"
   },
   {
    "duration": 8,
    "start_time": "2021-09-18T10:26:01.277Z"
   },
   {
    "duration": 35,
    "start_time": "2021-09-18T10:26:45.401Z"
   },
   {
    "duration": 576,
    "start_time": "2021-09-18T10:28:01.428Z"
   },
   {
    "duration": 24,
    "start_time": "2021-09-18T10:28:06.086Z"
   },
   {
    "duration": 30,
    "start_time": "2021-09-18T10:28:46.049Z"
   },
   {
    "duration": 277,
    "start_time": "2021-09-18T13:15:56.968Z"
   },
   {
    "duration": 309,
    "start_time": "2021-09-18T13:16:01.860Z"
   },
   {
    "duration": 507,
    "start_time": "2021-09-18T13:16:16.388Z"
   },
   {
    "duration": 264,
    "start_time": "2021-09-18T13:16:20.501Z"
   },
   {
    "duration": 234,
    "start_time": "2021-09-18T13:16:27.916Z"
   },
   {
    "duration": 278,
    "start_time": "2021-09-18T13:16:48.154Z"
   },
   {
    "duration": 479,
    "start_time": "2021-09-18T13:18:05.290Z"
   },
   {
    "duration": 607,
    "start_time": "2021-09-18T13:18:22.439Z"
   },
   {
    "duration": 241,
    "start_time": "2021-09-18T13:18:58.928Z"
   },
   {
    "duration": 259,
    "start_time": "2021-09-18T13:18:59.708Z"
   },
   {
    "duration": 240,
    "start_time": "2021-09-18T13:19:00.079Z"
   },
   {
    "duration": 186,
    "start_time": "2021-09-18T13:19:19.291Z"
   },
   {
    "duration": 186,
    "start_time": "2021-09-18T13:19:33.542Z"
   },
   {
    "duration": 230,
    "start_time": "2021-09-18T13:19:46.360Z"
   },
   {
    "duration": 266,
    "start_time": "2021-09-18T13:19:55.765Z"
   },
   {
    "duration": 239,
    "start_time": "2021-09-18T13:20:15.205Z"
   },
   {
    "duration": 265,
    "start_time": "2021-09-18T13:20:20.997Z"
   },
   {
    "duration": 243,
    "start_time": "2021-09-18T13:20:38.596Z"
   },
   {
    "duration": 346,
    "start_time": "2021-09-18T13:20:48.374Z"
   },
   {
    "duration": 174,
    "start_time": "2021-09-18T13:20:53.392Z"
   },
   {
    "duration": 194,
    "start_time": "2021-09-18T13:20:57.732Z"
   },
   {
    "duration": 206,
    "start_time": "2021-09-18T13:21:05.688Z"
   },
   {
    "duration": 188,
    "start_time": "2021-09-18T13:21:14.491Z"
   },
   {
    "duration": 173,
    "start_time": "2021-09-18T13:21:21.193Z"
   },
   {
    "duration": 206,
    "start_time": "2021-09-18T13:21:27.282Z"
   },
   {
    "duration": 236,
    "start_time": "2021-09-18T13:21:30.058Z"
   },
   {
    "duration": 227,
    "start_time": "2021-09-18T13:21:34.359Z"
   },
   {
    "duration": 211,
    "start_time": "2021-09-18T13:21:39.336Z"
   },
   {
    "duration": 65,
    "start_time": "2021-09-18T13:21:54.703Z"
   },
   {
    "duration": 68,
    "start_time": "2021-09-18T13:21:57.653Z"
   },
   {
    "duration": 191,
    "start_time": "2021-09-18T13:21:59.135Z"
   },
   {
    "duration": 179,
    "start_time": "2021-09-18T13:22:03.776Z"
   },
   {
    "duration": 184,
    "start_time": "2021-09-18T13:22:43.709Z"
   },
   {
    "duration": 182,
    "start_time": "2021-09-18T13:22:49.696Z"
   },
   {
    "duration": 182,
    "start_time": "2021-09-18T13:23:17.935Z"
   },
   {
    "duration": 299,
    "start_time": "2021-09-18T13:23:24.666Z"
   },
   {
    "duration": 192,
    "start_time": "2021-09-18T13:23:37.517Z"
   },
   {
    "duration": 174,
    "start_time": "2021-09-18T13:23:59.816Z"
   },
   {
    "duration": 198,
    "start_time": "2021-09-18T13:24:05.445Z"
   },
   {
    "duration": 233,
    "start_time": "2021-09-18T13:24:25.695Z"
   },
   {
    "duration": 244,
    "start_time": "2021-09-18T13:26:16.246Z"
   },
   {
    "duration": 450,
    "start_time": "2021-09-18T13:26:32.834Z"
   },
   {
    "duration": 271,
    "start_time": "2021-09-18T13:26:36.922Z"
   },
   {
    "duration": 245,
    "start_time": "2021-09-18T13:26:42.231Z"
   },
   {
    "duration": 254,
    "start_time": "2021-09-18T13:26:46.724Z"
   },
   {
    "duration": 230,
    "start_time": "2021-09-18T13:26:50.987Z"
   },
   {
    "duration": 250,
    "start_time": "2021-09-18T13:27:18.269Z"
   },
   {
    "duration": 198,
    "start_time": "2021-09-18T13:27:36.164Z"
   },
   {
    "duration": 226,
    "start_time": "2021-09-18T13:27:42.752Z"
   },
   {
    "duration": 219,
    "start_time": "2021-09-18T13:27:47.880Z"
   },
   {
    "duration": 1455,
    "start_time": "2021-09-19T11:36:47.350Z"
   },
   {
    "duration": 239,
    "start_time": "2021-09-19T11:36:48.808Z"
   },
   {
    "duration": 15,
    "start_time": "2021-09-19T11:36:49.050Z"
   },
   {
    "duration": 15,
    "start_time": "2021-09-19T11:36:49.068Z"
   },
   {
    "duration": 36,
    "start_time": "2021-09-19T11:36:49.086Z"
   },
   {
    "duration": 18,
    "start_time": "2021-09-19T11:36:49.124Z"
   },
   {
    "duration": 75,
    "start_time": "2021-09-19T11:36:49.145Z"
   },
   {
    "duration": 5,
    "start_time": "2021-09-19T11:36:49.224Z"
   },
   {
    "duration": 1154,
    "start_time": "2021-09-19T11:36:49.232Z"
   },
   {
    "duration": 65,
    "start_time": "2021-09-19T11:36:50.388Z"
   },
   {
    "duration": 544,
    "start_time": "2021-09-19T11:36:51.845Z"
   },
   {
    "duration": 408,
    "start_time": "2021-09-19T11:37:31.203Z"
   },
   {
    "duration": 442,
    "start_time": "2021-09-19T11:37:44.451Z"
   },
   {
    "duration": 425,
    "start_time": "2021-09-19T11:37:54.034Z"
   },
   {
    "duration": 1862,
    "start_time": "2021-09-19T11:43:32.326Z"
   },
   {
    "duration": 300,
    "start_time": "2021-09-19T11:43:36.492Z"
   },
   {
    "duration": 415,
    "start_time": "2021-09-19T11:43:47.076Z"
   },
   {
    "duration": 411,
    "start_time": "2021-09-19T11:44:34.059Z"
   },
   {
    "duration": 407,
    "start_time": "2021-09-19T11:44:52.462Z"
   },
   {
    "duration": 551,
    "start_time": "2021-09-19T11:45:54.770Z"
   },
   {
    "duration": 696,
    "start_time": "2021-09-19T11:49:04.202Z"
   },
   {
    "duration": 977,
    "start_time": "2021-09-19T11:49:11.825Z"
   },
   {
    "duration": 798,
    "start_time": "2021-09-19T11:49:47.353Z"
   },
   {
    "duration": 788,
    "start_time": "2021-09-19T11:49:52.488Z"
   },
   {
    "duration": 814,
    "start_time": "2021-09-19T11:49:56.610Z"
   },
   {
    "duration": 990,
    "start_time": "2021-09-19T11:50:33.181Z"
   },
   {
    "duration": 828,
    "start_time": "2021-09-19T11:50:45.275Z"
   },
   {
    "duration": 818,
    "start_time": "2021-09-19T11:52:05.776Z"
   },
   {
    "duration": 974,
    "start_time": "2021-09-19T11:52:09.194Z"
   },
   {
    "duration": 970,
    "start_time": "2021-09-19T11:52:14.578Z"
   },
   {
    "duration": 768,
    "start_time": "2021-09-19T11:52:32.944Z"
   },
   {
    "duration": 778,
    "start_time": "2021-09-19T11:53:04.250Z"
   },
   {
    "duration": 62,
    "start_time": "2021-09-19T11:53:05.031Z"
   },
   {
    "duration": 38,
    "start_time": "2021-09-19T11:53:29.752Z"
   },
   {
    "duration": 432,
    "start_time": "2021-09-19T11:53:35.320Z"
   },
   {
    "duration": 39,
    "start_time": "2021-09-19T11:53:38.880Z"
   },
   {
    "duration": 39,
    "start_time": "2021-09-19T11:54:15.710Z"
   },
   {
    "duration": 74,
    "start_time": "2021-09-19T11:54:57.456Z"
   },
   {
    "duration": 10862,
    "start_time": "2021-09-19T11:55:28.815Z"
   },
   {
    "duration": 20,
    "start_time": "2021-09-19T11:55:56.991Z"
   },
   {
    "duration": 143,
    "start_time": "2021-09-19T11:56:17.866Z"
   },
   {
    "duration": 124,
    "start_time": "2021-09-19T11:56:27.414Z"
   },
   {
    "duration": 135,
    "start_time": "2021-09-19T11:57:06.262Z"
   },
   {
    "duration": 24,
    "start_time": "2021-09-19T11:57:16.570Z"
   },
   {
    "duration": 31,
    "start_time": "2021-09-19T11:57:41.113Z"
   },
   {
    "duration": 35,
    "start_time": "2021-09-19T11:58:07.503Z"
   },
   {
    "duration": 412,
    "start_time": "2021-09-19T11:59:39.857Z"
   },
   {
    "duration": 68,
    "start_time": "2021-09-19T11:59:42.589Z"
   },
   {
    "duration": 33,
    "start_time": "2021-09-19T12:02:00.607Z"
   },
   {
    "duration": 27,
    "start_time": "2021-09-19T12:03:39.023Z"
   },
   {
    "duration": 830,
    "start_time": "2021-09-19T12:04:10.046Z"
   },
   {
    "duration": 30,
    "start_time": "2021-09-19T12:04:16.317Z"
   },
   {
    "duration": 29,
    "start_time": "2021-09-19T12:04:42.097Z"
   },
   {
    "duration": 792,
    "start_time": "2021-09-19T12:04:57.065Z"
   },
   {
    "duration": 30,
    "start_time": "2021-09-19T12:05:13.485Z"
   },
   {
    "duration": 1555,
    "start_time": "2021-09-19T12:05:25.053Z"
   },
   {
    "duration": 247,
    "start_time": "2021-09-19T12:05:26.611Z"
   },
   {
    "duration": 17,
    "start_time": "2021-09-19T12:05:26.861Z"
   },
   {
    "duration": 40,
    "start_time": "2021-09-19T12:05:26.881Z"
   },
   {
    "duration": 8,
    "start_time": "2021-09-19T12:05:26.923Z"
   },
   {
    "duration": 20,
    "start_time": "2021-09-19T12:05:26.934Z"
   },
   {
    "duration": 79,
    "start_time": "2021-09-19T12:05:26.956Z"
   },
   {
    "duration": 4,
    "start_time": "2021-09-19T12:05:27.039Z"
   },
   {
    "duration": 1210,
    "start_time": "2021-09-19T12:05:27.045Z"
   },
   {
    "duration": 81,
    "start_time": "2021-09-19T12:05:28.258Z"
   },
   {
    "duration": 592,
    "start_time": "2021-09-19T12:05:28.341Z"
   },
   {
    "duration": 437,
    "start_time": "2021-09-19T12:05:28.935Z"
   },
   {
    "duration": 396,
    "start_time": "2021-09-19T12:05:29.375Z"
   },
   {
    "duration": 450,
    "start_time": "2021-09-19T12:05:29.774Z"
   },
   {
    "duration": 457,
    "start_time": "2021-09-19T12:05:30.227Z"
   },
   {
    "duration": 561,
    "start_time": "2021-09-19T12:05:30.686Z"
   },
   {
    "duration": 795,
    "start_time": "2021-09-19T12:05:33.046Z"
   },
   {
    "duration": 35,
    "start_time": "2021-09-19T12:05:35.389Z"
   },
   {
    "duration": 33,
    "start_time": "2021-09-19T12:05:44.908Z"
   },
   {
    "duration": 61,
    "start_time": "2021-09-19T12:06:22.758Z"
   },
   {
    "duration": 59,
    "start_time": "2021-09-19T12:06:26.284Z"
   },
   {
    "duration": 565,
    "start_time": "2021-09-19T12:06:29.400Z"
   },
   {
    "duration": 12,
    "start_time": "2021-09-19T12:06:32.453Z"
   },
   {
    "duration": 13,
    "start_time": "2021-09-19T12:06:45.505Z"
   },
   {
    "duration": 63,
    "start_time": "2021-09-19T12:06:52.511Z"
   },
   {
    "duration": 63,
    "start_time": "2021-09-19T12:08:22.683Z"
   },
   {
    "duration": 65,
    "start_time": "2021-09-19T12:08:35.527Z"
   },
   {
    "duration": 30,
    "start_time": "2021-09-19T12:09:00.855Z"
   },
   {
    "duration": 64,
    "start_time": "2021-09-19T12:09:02.690Z"
   },
   {
    "duration": 1481,
    "start_time": "2021-09-19T12:11:17.510Z"
   },
   {
    "duration": 236,
    "start_time": "2021-09-19T12:11:18.994Z"
   },
   {
    "duration": 14,
    "start_time": "2021-09-19T12:11:19.233Z"
   },
   {
    "duration": 14,
    "start_time": "2021-09-19T12:11:19.250Z"
   },
   {
    "duration": 7,
    "start_time": "2021-09-19T12:11:19.266Z"
   },
   {
    "duration": 54,
    "start_time": "2021-09-19T12:11:19.275Z"
   },
   {
    "duration": 46,
    "start_time": "2021-09-19T12:11:19.332Z"
   },
   {
    "duration": 4,
    "start_time": "2021-09-19T12:11:19.382Z"
   },
   {
    "duration": 991,
    "start_time": "2021-09-19T12:11:19.416Z"
   },
   {
    "duration": 52,
    "start_time": "2021-09-19T12:11:20.410Z"
   },
   {
    "duration": 588,
    "start_time": "2021-09-19T12:11:20.465Z"
   },
   {
    "duration": 452,
    "start_time": "2021-09-19T12:11:21.056Z"
   },
   {
    "duration": 389,
    "start_time": "2021-09-19T12:11:21.510Z"
   },
   {
    "duration": 518,
    "start_time": "2021-09-19T12:11:21.901Z"
   },
   {
    "duration": 453,
    "start_time": "2021-09-19T12:11:22.421Z"
   },
   {
    "duration": 546,
    "start_time": "2021-09-19T12:11:22.877Z"
   },
   {
    "duration": 804,
    "start_time": "2021-09-19T12:11:23.425Z"
   },
   {
    "duration": 33,
    "start_time": "2021-09-19T12:11:24.231Z"
   },
   {
    "duration": 61,
    "start_time": "2021-09-19T12:11:24.267Z"
   },
   {
    "duration": 64,
    "start_time": "2021-09-19T12:11:24.331Z"
   },
   {
    "duration": 556,
    "start_time": "2021-09-19T12:11:26.089Z"
   },
   {
    "duration": 29,
    "start_time": "2021-09-19T12:12:33.652Z"
   },
   {
    "duration": 31,
    "start_time": "2021-09-19T12:12:38.086Z"
   },
   {
    "duration": 35,
    "start_time": "2021-09-19T12:12:43.259Z"
   },
   {
    "duration": 904,
    "start_time": "2021-09-19T12:12:50.332Z"
   },
   {
    "duration": 650,
    "start_time": "2021-09-19T12:12:53.353Z"
   },
   {
    "duration": 24,
    "start_time": "2021-09-19T12:13:16.287Z"
   },
   {
    "duration": 37,
    "start_time": "2021-09-19T12:13:18.857Z"
   },
   {
    "duration": 36,
    "start_time": "2021-09-19T12:13:22.737Z"
   },
   {
    "duration": 788,
    "start_time": "2021-09-19T12:13:23.860Z"
   },
   {
    "duration": 563,
    "start_time": "2021-09-19T12:13:29.639Z"
   },
   {
    "duration": 26,
    "start_time": "2021-09-19T12:13:50.174Z"
   },
   {
    "duration": 31,
    "start_time": "2021-09-19T12:13:52.630Z"
   },
   {
    "duration": 31,
    "start_time": "2021-09-19T12:13:55.261Z"
   },
   {
    "duration": 817,
    "start_time": "2021-09-19T12:13:56.002Z"
   },
   {
    "duration": 671,
    "start_time": "2021-09-19T12:13:59.288Z"
   },
   {
    "duration": 1492,
    "start_time": "2021-09-19T12:14:36.019Z"
   },
   {
    "duration": 246,
    "start_time": "2021-09-19T12:14:37.515Z"
   },
   {
    "duration": 14,
    "start_time": "2021-09-19T12:14:37.764Z"
   },
   {
    "duration": 36,
    "start_time": "2021-09-19T12:14:37.781Z"
   },
   {
    "duration": 7,
    "start_time": "2021-09-19T12:14:37.820Z"
   },
   {
    "duration": 22,
    "start_time": "2021-09-19T12:14:37.829Z"
   },
   {
    "duration": 72,
    "start_time": "2021-09-19T12:14:37.854Z"
   },
   {
    "duration": 5,
    "start_time": "2021-09-19T12:14:37.929Z"
   },
   {
    "duration": 1007,
    "start_time": "2021-09-19T12:14:37.936Z"
   },
   {
    "duration": 50,
    "start_time": "2021-09-19T12:14:38.945Z"
   },
   {
    "duration": 616,
    "start_time": "2021-09-19T12:14:38.998Z"
   },
   {
    "duration": 453,
    "start_time": "2021-09-19T12:14:39.617Z"
   },
   {
    "duration": 400,
    "start_time": "2021-09-19T12:14:40.073Z"
   },
   {
    "duration": 431,
    "start_time": "2021-09-19T12:14:40.476Z"
   },
   {
    "duration": 493,
    "start_time": "2021-09-19T12:14:40.909Z"
   },
   {
    "duration": 575,
    "start_time": "2021-09-19T12:14:41.405Z"
   },
   {
    "duration": 819,
    "start_time": "2021-09-19T12:14:41.982Z"
   },
   {
    "duration": 44,
    "start_time": "2021-09-19T12:14:42.803Z"
   },
   {
    "duration": 33,
    "start_time": "2021-09-19T12:14:42.850Z"
   },
   {
    "duration": 22,
    "start_time": "2021-09-19T12:14:42.917Z"
   },
   {
    "duration": 563,
    "start_time": "2021-09-19T12:14:47.353Z"
   },
   {
    "duration": 136,
    "start_time": "2021-09-19T12:15:20.828Z"
   },
   {
    "duration": 108,
    "start_time": "2021-09-19T12:15:25.554Z"
   },
   {
    "duration": 1457,
    "start_time": "2021-09-19T12:15:33.547Z"
   },
   {
    "duration": 233,
    "start_time": "2021-09-19T12:15:35.007Z"
   },
   {
    "duration": 15,
    "start_time": "2021-09-19T12:15:35.243Z"
   },
   {
    "duration": 14,
    "start_time": "2021-09-19T12:15:35.261Z"
   },
   {
    "duration": 7,
    "start_time": "2021-09-19T12:15:35.278Z"
   },
   {
    "duration": 43,
    "start_time": "2021-09-19T12:15:35.287Z"
   },
   {
    "duration": 47,
    "start_time": "2021-09-19T12:15:35.332Z"
   },
   {
    "duration": 35,
    "start_time": "2021-09-19T12:15:35.381Z"
   },
   {
    "duration": 978,
    "start_time": "2021-09-19T12:15:35.420Z"
   },
   {
    "duration": 57,
    "start_time": "2021-09-19T12:15:36.401Z"
   },
   {
    "duration": 577,
    "start_time": "2021-09-19T12:15:36.461Z"
   },
   {
    "duration": 509,
    "start_time": "2021-09-19T12:15:37.041Z"
   },
   {
    "duration": 384,
    "start_time": "2021-09-19T12:15:37.552Z"
   },
   {
    "duration": 429,
    "start_time": "2021-09-19T12:15:37.938Z"
   },
   {
    "duration": 447,
    "start_time": "2021-09-19T12:15:38.369Z"
   },
   {
    "duration": 550,
    "start_time": "2021-09-19T12:15:38.819Z"
   },
   {
    "duration": 850,
    "start_time": "2021-09-19T12:15:39.371Z"
   },
   {
    "duration": 127,
    "start_time": "2021-09-19T12:15:40.223Z"
   },
   {
    "duration": 87,
    "start_time": "2021-09-19T12:16:26.370Z"
   },
   {
    "duration": 49,
    "start_time": "2021-09-19T12:16:41.083Z"
   },
   {
    "duration": 101,
    "start_time": "2021-09-19T12:17:10.261Z"
   },
   {
    "duration": 593,
    "start_time": "2021-09-19T12:19:50.757Z"
   },
   {
    "duration": 524,
    "start_time": "2021-09-19T12:20:04.959Z"
   },
   {
    "duration": 26,
    "start_time": "2021-09-19T12:21:51.912Z"
   },
   {
    "duration": 114,
    "start_time": "2021-09-19T12:21:57.992Z"
   },
   {
    "duration": 791,
    "start_time": "2021-09-19T12:22:04.793Z"
   },
   {
    "duration": 647,
    "start_time": "2021-09-19T12:22:11.744Z"
   },
   {
    "duration": 48,
    "start_time": "2021-09-19T12:23:01.091Z"
   },
   {
    "duration": 121,
    "start_time": "2021-09-19T12:23:22.914Z"
   },
   {
    "duration": 96,
    "start_time": "2021-09-19T12:25:51.643Z"
   },
   {
    "duration": 141,
    "start_time": "2021-09-19T12:27:53.358Z"
   },
   {
    "duration": 1621,
    "start_time": "2021-09-19T12:28:46.269Z"
   },
   {
    "duration": 242,
    "start_time": "2021-09-19T12:28:47.893Z"
   },
   {
    "duration": 18,
    "start_time": "2021-09-19T12:28:48.139Z"
   },
   {
    "duration": 16,
    "start_time": "2021-09-19T12:28:48.160Z"
   },
   {
    "duration": 47,
    "start_time": "2021-09-19T12:28:48.178Z"
   },
   {
    "duration": 21,
    "start_time": "2021-09-19T12:28:48.227Z"
   },
   {
    "duration": 80,
    "start_time": "2021-09-19T12:28:48.250Z"
   },
   {
    "duration": 5,
    "start_time": "2021-09-19T12:28:48.335Z"
   },
   {
    "duration": 1205,
    "start_time": "2021-09-19T12:28:48.343Z"
   },
   {
    "duration": 65,
    "start_time": "2021-09-19T12:28:49.551Z"
   },
   {
    "duration": 592,
    "start_time": "2021-09-19T12:28:49.619Z"
   },
   {
    "duration": 423,
    "start_time": "2021-09-19T12:28:50.216Z"
   },
   {
    "duration": 389,
    "start_time": "2021-09-19T12:28:50.642Z"
   },
   {
    "duration": 425,
    "start_time": "2021-09-19T12:28:51.033Z"
   },
   {
    "duration": 485,
    "start_time": "2021-09-19T12:28:51.460Z"
   },
   {
    "duration": 634,
    "start_time": "2021-09-19T12:28:51.947Z"
   },
   {
    "duration": 1701,
    "start_time": "2021-09-19T12:30:59.433Z"
   },
   {
    "duration": 240,
    "start_time": "2021-09-19T12:31:01.137Z"
   },
   {
    "duration": 37,
    "start_time": "2021-09-19T12:31:01.380Z"
   },
   {
    "duration": 20,
    "start_time": "2021-09-19T12:31:01.419Z"
   },
   {
    "duration": 27,
    "start_time": "2021-09-19T12:31:01.441Z"
   },
   {
    "duration": 38,
    "start_time": "2021-09-19T12:31:01.471Z"
   },
   {
    "duration": 46,
    "start_time": "2021-09-19T12:31:01.512Z"
   },
   {
    "duration": 5,
    "start_time": "2021-09-19T12:31:01.563Z"
   },
   {
    "duration": 1140,
    "start_time": "2021-09-19T12:31:01.570Z"
   },
   {
    "duration": 46,
    "start_time": "2021-09-19T12:31:02.713Z"
   },
   {
    "duration": 650,
    "start_time": "2021-09-19T12:31:02.762Z"
   },
   {
    "duration": 415,
    "start_time": "2021-09-19T12:31:03.417Z"
   },
   {
    "duration": 396,
    "start_time": "2021-09-19T12:31:03.835Z"
   },
   {
    "duration": 440,
    "start_time": "2021-09-19T12:31:04.233Z"
   },
   {
    "duration": 467,
    "start_time": "2021-09-19T12:31:04.676Z"
   },
   {
    "duration": 557,
    "start_time": "2021-09-19T12:31:05.146Z"
   },
   {
    "duration": 1122,
    "start_time": "2021-09-19T12:31:05.705Z"
   },
   {
    "duration": 168,
    "start_time": "2021-09-19T12:31:06.830Z"
   },
   {
    "duration": 143,
    "start_time": "2021-09-19T12:32:05.842Z"
   },
   {
    "duration": 299,
    "start_time": "2021-09-19T12:40:23.645Z"
   },
   {
    "duration": 439,
    "start_time": "2021-09-19T12:40:33.120Z"
   },
   {
    "duration": 464,
    "start_time": "2021-09-19T12:40:41.814Z"
   },
   {
    "duration": 556,
    "start_time": "2021-09-19T12:41:06.880Z"
   },
   {
    "duration": 450,
    "start_time": "2021-09-19T12:41:11.666Z"
   },
   {
    "duration": 587,
    "start_time": "2021-09-19T12:42:27.334Z"
   },
   {
    "duration": 544,
    "start_time": "2021-09-19T12:42:28.041Z"
   },
   {
    "duration": 848,
    "start_time": "2021-09-19T12:45:58.330Z"
   },
   {
    "duration": 1748,
    "start_time": "2021-09-19T12:45:57.433Z"
   },
   {
    "duration": 1747,
    "start_time": "2021-09-19T12:45:57.435Z"
   },
   {
    "duration": 743,
    "start_time": "2021-09-19T12:46:11.352Z"
   },
   {
    "duration": 754,
    "start_time": "2021-09-19T12:46:12.099Z"
   },
   {
    "duration": 749,
    "start_time": "2021-09-19T12:46:13.209Z"
   },
   {
    "duration": 1064,
    "start_time": "2021-09-19T12:47:20.805Z"
   },
   {
    "duration": 797,
    "start_time": "2021-09-19T12:47:26.296Z"
   },
   {
    "duration": 1530,
    "start_time": "2021-09-20T09:20:53.252Z"
   },
   {
    "duration": 221,
    "start_time": "2021-09-20T09:20:54.785Z"
   },
   {
    "duration": 15,
    "start_time": "2021-09-20T09:20:55.009Z"
   },
   {
    "duration": 13,
    "start_time": "2021-09-20T09:20:56.332Z"
   },
   {
    "duration": 7,
    "start_time": "2021-09-20T09:20:56.464Z"
   },
   {
    "duration": 41,
    "start_time": "2021-09-20T09:20:58.985Z"
   },
   {
    "duration": 4,
    "start_time": "2021-09-20T09:21:03.149Z"
   },
   {
    "duration": 945,
    "start_time": "2021-09-20T09:21:03.388Z"
   },
   {
    "duration": 55,
    "start_time": "2021-09-20T09:21:07.460Z"
   },
   {
    "duration": 539,
    "start_time": "2021-09-20T09:21:14.748Z"
   },
   {
    "duration": 394,
    "start_time": "2021-09-20T09:21:16.188Z"
   },
   {
    "duration": 420,
    "start_time": "2021-09-20T09:21:23.387Z"
   },
   {
    "duration": 587,
    "start_time": "2021-09-20T09:21:24.269Z"
   },
   {
    "duration": 763,
    "start_time": "2021-09-20T09:21:32.887Z"
   },
   {
    "duration": 143,
    "start_time": "2021-09-20T09:21:46.975Z"
   },
   {
    "duration": 4,
    "start_time": "2021-09-20T09:22:21.304Z"
   },
   {
    "duration": 227,
    "start_time": "2021-09-20T09:22:21.483Z"
   },
   {
    "duration": 17,
    "start_time": "2021-09-20T09:22:22.344Z"
   },
   {
    "duration": 15,
    "start_time": "2021-09-20T09:22:22.443Z"
   },
   {
    "duration": 7,
    "start_time": "2021-09-20T09:22:22.745Z"
   },
   {
    "duration": 20,
    "start_time": "2021-09-20T09:22:22.883Z"
   },
   {
    "duration": 40,
    "start_time": "2021-09-20T09:22:23.084Z"
   },
   {
    "duration": 4,
    "start_time": "2021-09-20T09:22:23.946Z"
   },
   {
    "duration": 1226,
    "start_time": "2021-09-20T09:22:24.064Z"
   },
   {
    "duration": 63,
    "start_time": "2021-09-20T09:22:25.293Z"
   },
   {
    "duration": 580,
    "start_time": "2021-09-20T09:22:25.358Z"
   },
   {
    "duration": 443,
    "start_time": "2021-09-20T09:22:25.941Z"
   },
   {
    "duration": 481,
    "start_time": "2021-09-20T09:22:26.387Z"
   },
   {
    "duration": 367,
    "start_time": "2021-09-20T09:22:26.871Z"
   },
   {
    "duration": 450,
    "start_time": "2021-09-20T09:22:28.863Z"
   },
   {
    "duration": 555,
    "start_time": "2021-09-20T09:22:29.315Z"
   },
   {
    "duration": 801,
    "start_time": "2021-09-20T09:22:32.892Z"
   },
   {
    "duration": 390,
    "start_time": "2021-09-20T09:28:55.082Z"
   },
   {
    "duration": 1588,
    "start_time": "2021-09-20T09:29:08.269Z"
   },
   {
    "duration": 235,
    "start_time": "2021-09-20T09:29:09.860Z"
   },
   {
    "duration": 16,
    "start_time": "2021-09-20T09:29:10.098Z"
   },
   {
    "duration": 37,
    "start_time": "2021-09-20T09:29:10.117Z"
   },
   {
    "duration": 8,
    "start_time": "2021-09-20T09:29:10.157Z"
   },
   {
    "duration": 5,
    "start_time": "2021-09-20T09:29:10.168Z"
   },
   {
    "duration": 46,
    "start_time": "2021-09-20T09:29:10.176Z"
   },
   {
    "duration": 28,
    "start_time": "2021-09-20T09:29:10.226Z"
   },
   {
    "duration": 2162,
    "start_time": "2021-09-20T09:29:10.257Z"
   },
   {
    "duration": 53,
    "start_time": "2021-09-20T09:29:13.315Z"
   },
   {
    "duration": 806,
    "start_time": "2021-09-20T09:32:52.987Z"
   },
   {
    "duration": 155,
    "start_time": "2021-09-20T09:32:55.947Z"
   },
   {
    "duration": 35,
    "start_time": "2021-09-20T09:37:05.082Z"
   },
   {
    "duration": 390,
    "start_time": "2021-09-20T09:37:58.606Z"
   },
   {
    "duration": 277,
    "start_time": "2021-09-20T09:38:28.587Z"
   },
   {
    "duration": 10,
    "start_time": "2021-09-20T09:38:50.009Z"
   },
   {
    "duration": 71,
    "start_time": "2021-09-20T09:39:06.366Z"
   },
   {
    "duration": 26,
    "start_time": "2021-09-20T09:40:06.986Z"
   },
   {
    "duration": 42,
    "start_time": "2021-09-20T09:40:09.626Z"
   },
   {
    "duration": 23,
    "start_time": "2021-09-20T09:40:23.334Z"
   },
   {
    "duration": 832,
    "start_time": "2021-09-20T09:40:36.626Z"
   },
   {
    "duration": 6,
    "start_time": "2021-09-20T09:40:52.546Z"
   },
   {
    "duration": 260,
    "start_time": "2021-09-20T09:43:05.046Z"
   },
   {
    "duration": 1417,
    "start_time": "2021-09-20T09:45:06.157Z"
   },
   {
    "duration": 230,
    "start_time": "2021-09-20T09:45:21.546Z"
   },
   {
    "duration": 32,
    "start_time": "2021-09-20T09:46:59.254Z"
   },
   {
    "duration": 60,
    "start_time": "2021-09-20T09:47:08.056Z"
   },
   {
    "duration": 256,
    "start_time": "2021-09-20T09:54:05.615Z"
   },
   {
    "duration": 416,
    "start_time": "2021-09-20T09:54:52.539Z"
   },
   {
    "duration": 6424,
    "start_time": "2021-09-20T09:56:08.407Z"
   },
   {
    "duration": 413,
    "start_time": "2021-09-20T09:56:20.287Z"
   },
   {
    "duration": 6,
    "start_time": "2021-09-20T09:57:40.167Z"
   },
   {
    "duration": 41,
    "start_time": "2021-09-20T09:57:46.214Z"
   },
   {
    "duration": 20,
    "start_time": "2021-09-20T09:57:59.295Z"
   },
   {
    "duration": 21,
    "start_time": "2021-09-20T09:58:08.288Z"
   },
   {
    "duration": 22,
    "start_time": "2021-09-20T09:58:41.646Z"
   },
   {
    "duration": 1969,
    "start_time": "2021-09-20T10:06:15.346Z"
   },
   {
    "duration": 238,
    "start_time": "2021-09-20T10:06:17.317Z"
   },
   {
    "duration": 15,
    "start_time": "2021-09-20T10:06:17.558Z"
   },
   {
    "duration": 21,
    "start_time": "2021-09-20T10:06:17.575Z"
   },
   {
    "duration": 14,
    "start_time": "2021-09-20T10:06:17.599Z"
   },
   {
    "duration": 23,
    "start_time": "2021-09-20T10:06:17.616Z"
   },
   {
    "duration": 62,
    "start_time": "2021-09-20T10:06:17.642Z"
   },
   {
    "duration": 9,
    "start_time": "2021-09-20T10:06:17.707Z"
   },
   {
    "duration": 2078,
    "start_time": "2021-09-20T10:06:17.720Z"
   },
   {
    "duration": 68,
    "start_time": "2021-09-20T10:06:19.801Z"
   },
   {
    "duration": 657,
    "start_time": "2021-09-20T10:06:19.871Z"
   },
   {
    "duration": 449,
    "start_time": "2021-09-20T10:06:20.531Z"
   },
   {
    "duration": 404,
    "start_time": "2021-09-20T10:06:20.983Z"
   },
   {
    "duration": 412,
    "start_time": "2021-09-20T10:06:21.390Z"
   },
   {
    "duration": 479,
    "start_time": "2021-09-20T10:06:21.804Z"
   },
   {
    "duration": 636,
    "start_time": "2021-09-20T10:06:22.285Z"
   },
   {
    "duration": 767,
    "start_time": "2021-09-20T10:06:22.924Z"
   },
   {
    "duration": 253,
    "start_time": "2021-09-20T10:06:23.693Z"
   },
   {
    "duration": 37,
    "start_time": "2021-09-20T10:06:23.948Z"
   },
   {
    "duration": 574,
    "start_time": "2021-09-20T10:06:23.988Z"
   },
   {
    "duration": 63,
    "start_time": "2021-09-20T10:06:24.565Z"
   },
   {
    "duration": 747,
    "start_time": "2021-09-20T10:06:24.630Z"
   },
   {
    "duration": 698,
    "start_time": "2021-09-20T10:06:25.380Z"
   },
   {
    "duration": 734,
    "start_time": "2021-09-20T10:06:26.080Z"
   },
   {
    "duration": 23,
    "start_time": "2021-09-20T10:06:26.816Z"
   },
   {
    "duration": 27,
    "start_time": "2021-09-20T10:06:36.127Z"
   },
   {
    "duration": 13765,
    "start_time": "2021-09-20T10:06:53.846Z"
   },
   {
    "duration": 1397,
    "start_time": "2021-09-20T10:13:25.495Z"
   },
   {
    "duration": 223,
    "start_time": "2021-09-20T10:13:26.895Z"
   },
   {
    "duration": 34,
    "start_time": "2021-09-20T10:13:27.124Z"
   },
   {
    "duration": 13,
    "start_time": "2021-09-20T10:13:27.160Z"
   },
   {
    "duration": 17,
    "start_time": "2021-09-20T10:13:27.176Z"
   },
   {
    "duration": 12,
    "start_time": "2021-09-20T10:13:27.196Z"
   },
   {
    "duration": 60,
    "start_time": "2021-09-20T10:13:27.210Z"
   },
   {
    "duration": 6,
    "start_time": "2021-09-20T10:13:27.274Z"
   },
   {
    "duration": 2085,
    "start_time": "2021-09-20T10:13:27.283Z"
   },
   {
    "duration": 83,
    "start_time": "2021-09-20T10:13:29.371Z"
   },
   {
    "duration": 620,
    "start_time": "2021-09-20T10:13:29.457Z"
   },
   {
    "duration": 414,
    "start_time": "2021-09-20T10:13:30.080Z"
   },
   {
    "duration": 387,
    "start_time": "2021-09-20T10:13:30.496Z"
   },
   {
    "duration": 355,
    "start_time": "2021-09-20T10:13:30.886Z"
   },
   {
    "duration": 440,
    "start_time": "2021-09-20T10:13:31.244Z"
   },
   {
    "duration": 536,
    "start_time": "2021-09-20T10:13:31.687Z"
   },
   {
    "duration": 786,
    "start_time": "2021-09-20T10:13:32.226Z"
   },
   {
    "duration": 242,
    "start_time": "2021-09-20T10:13:33.015Z"
   },
   {
    "duration": 36,
    "start_time": "2021-09-20T10:13:33.259Z"
   },
   {
    "duration": 582,
    "start_time": "2021-09-20T10:13:33.297Z"
   },
   {
    "duration": 75,
    "start_time": "2021-09-20T10:13:33.882Z"
   },
   {
    "duration": 723,
    "start_time": "2021-09-20T10:13:33.959Z"
   },
   {
    "duration": 689,
    "start_time": "2021-09-20T10:13:34.685Z"
   },
   {
    "duration": 738,
    "start_time": "2021-09-20T10:13:35.377Z"
   },
   {
    "duration": 38,
    "start_time": "2021-09-20T10:13:36.117Z"
   },
   {
    "duration": 26,
    "start_time": "2021-09-20T10:13:36.163Z"
   },
   {
    "duration": 438,
    "start_time": "2021-09-20T10:14:53.662Z"
   },
   {
    "duration": 342,
    "start_time": "2021-09-20T10:16:30.328Z"
   },
   {
    "duration": 25,
    "start_time": "2021-09-20T10:16:54.207Z"
   },
   {
    "duration": 337,
    "start_time": "2021-09-20T10:16:54.847Z"
   },
   {
    "duration": 1459,
    "start_time": "2021-09-20T14:35:30.534Z"
   },
   {
    "duration": 231,
    "start_time": "2021-09-20T14:35:31.996Z"
   },
   {
    "duration": 15,
    "start_time": "2021-09-20T14:35:32.229Z"
   },
   {
    "duration": 22,
    "start_time": "2021-09-20T14:35:32.247Z"
   },
   {
    "duration": 8,
    "start_time": "2021-09-20T14:35:32.272Z"
   },
   {
    "duration": 14,
    "start_time": "2021-09-20T14:35:32.283Z"
   },
   {
    "duration": 63,
    "start_time": "2021-09-20T14:35:32.300Z"
   },
   {
    "duration": 6,
    "start_time": "2021-09-20T14:35:32.369Z"
   },
   {
    "duration": 2080,
    "start_time": "2021-09-20T14:35:32.380Z"
   },
   {
    "duration": 75,
    "start_time": "2021-09-20T14:35:34.462Z"
   },
   {
    "duration": 614,
    "start_time": "2021-09-20T14:35:34.540Z"
   },
   {
    "duration": 415,
    "start_time": "2021-09-20T14:35:35.157Z"
   },
   {
    "duration": 393,
    "start_time": "2021-09-20T14:35:35.575Z"
   },
   {
    "duration": 348,
    "start_time": "2021-09-20T14:35:35.971Z"
   },
   {
    "duration": 442,
    "start_time": "2021-09-20T14:35:36.323Z"
   },
   {
    "duration": 543,
    "start_time": "2021-09-20T14:35:36.767Z"
   },
   {
    "duration": 788,
    "start_time": "2021-09-20T14:35:37.312Z"
   },
   {
    "duration": 267,
    "start_time": "2021-09-20T14:35:38.103Z"
   },
   {
    "duration": 52,
    "start_time": "2021-09-20T14:35:38.372Z"
   },
   {
    "duration": 557,
    "start_time": "2021-09-20T14:35:38.426Z"
   },
   {
    "duration": 74,
    "start_time": "2021-09-20T14:35:38.985Z"
   },
   {
    "duration": 850,
    "start_time": "2021-09-20T14:35:39.061Z"
   },
   {
    "duration": 735,
    "start_time": "2021-09-20T14:35:39.915Z"
   },
   {
    "duration": 714,
    "start_time": "2021-09-20T14:35:40.653Z"
   },
   {
    "duration": 20,
    "start_time": "2021-09-20T14:35:41.369Z"
   },
   {
    "duration": 420,
    "start_time": "2021-09-20T14:35:44.478Z"
   },
   {
    "duration": 296,
    "start_time": "2021-09-20T14:35:55.745Z"
   },
   {
    "duration": 4,
    "start_time": "2021-09-20T15:32:04.365Z"
   },
   {
    "duration": 232,
    "start_time": "2021-09-20T15:32:04.372Z"
   },
   {
    "duration": 27,
    "start_time": "2021-09-20T15:32:04.607Z"
   },
   {
    "duration": 15,
    "start_time": "2021-09-20T15:32:04.637Z"
   },
   {
    "duration": 8,
    "start_time": "2021-09-20T15:32:04.654Z"
   },
   {
    "duration": 10,
    "start_time": "2021-09-20T15:32:04.664Z"
   },
   {
    "duration": 67,
    "start_time": "2021-09-20T15:32:04.678Z"
   },
   {
    "duration": 6,
    "start_time": "2021-09-20T15:32:04.748Z"
   },
   {
    "duration": 2018,
    "start_time": "2021-09-20T15:32:04.756Z"
   },
   {
    "duration": 65,
    "start_time": "2021-09-20T15:32:06.776Z"
   },
   {
    "duration": 638,
    "start_time": "2021-09-20T15:32:06.843Z"
   },
   {
    "duration": 505,
    "start_time": "2021-09-20T15:32:07.483Z"
   },
   {
    "duration": 389,
    "start_time": "2021-09-20T15:32:07.991Z"
   },
   {
    "duration": 352,
    "start_time": "2021-09-20T15:32:08.382Z"
   },
   {
    "duration": 453,
    "start_time": "2021-09-20T15:32:08.737Z"
   },
   {
    "duration": 540,
    "start_time": "2021-09-20T15:32:09.193Z"
   },
   {
    "duration": 897,
    "start_time": "2021-09-20T15:32:09.736Z"
   },
   {
    "duration": 162,
    "start_time": "2021-09-20T15:32:10.636Z"
   },
   {
    "duration": 45,
    "start_time": "2021-09-20T15:32:10.803Z"
   },
   {
    "duration": 629,
    "start_time": "2021-09-20T15:32:10.851Z"
   },
   {
    "duration": 73,
    "start_time": "2021-09-20T15:32:11.483Z"
   },
   {
    "duration": 706,
    "start_time": "2021-09-20T15:32:11.559Z"
   },
   {
    "duration": 801,
    "start_time": "2021-09-20T15:32:12.267Z"
   },
   {
    "duration": 711,
    "start_time": "2021-09-20T15:32:13.071Z"
   },
   {
    "duration": 20,
    "start_time": "2021-09-20T15:32:13.784Z"
   },
   {
    "duration": 27,
    "start_time": "2021-09-20T15:33:16.879Z"
   },
   {
    "duration": 38,
    "start_time": "2021-09-20T15:33:23.920Z"
   },
   {
    "duration": 298,
    "start_time": "2021-09-20T15:34:11.651Z"
   },
   {
    "duration": 288,
    "start_time": "2021-09-20T15:34:20.872Z"
   },
   {
    "duration": 397,
    "start_time": "2021-09-20T15:34:26.975Z"
   },
   {
    "duration": 36,
    "start_time": "2021-09-20T15:35:22.859Z"
   },
   {
    "duration": 34,
    "start_time": "2021-09-20T15:35:36.981Z"
   },
   {
    "duration": 37,
    "start_time": "2021-09-20T15:35:54.489Z"
   },
   {
    "duration": 34,
    "start_time": "2021-09-20T15:36:00.483Z"
   },
   {
    "duration": 19,
    "start_time": "2021-09-20T15:36:01.767Z"
   },
   {
    "duration": 23,
    "start_time": "2021-09-20T15:36:06.032Z"
   },
   {
    "duration": 36,
    "start_time": "2021-09-20T15:36:44.494Z"
   },
   {
    "duration": 37,
    "start_time": "2021-09-20T15:37:14.854Z"
   },
   {
    "duration": 36,
    "start_time": "2021-09-20T15:37:22.283Z"
   },
   {
    "duration": 34,
    "start_time": "2021-09-20T15:37:46.550Z"
   },
   {
    "duration": 63,
    "start_time": "2021-09-20T15:41:53.623Z"
   },
   {
    "duration": 303,
    "start_time": "2021-09-20T15:46:14.514Z"
   },
   {
    "duration": 14,
    "start_time": "2021-09-20T15:46:24.625Z"
   },
   {
    "duration": 13,
    "start_time": "2021-09-20T15:49:44.703Z"
   },
   {
    "duration": 13,
    "start_time": "2021-09-20T15:50:25.143Z"
   },
   {
    "duration": 15,
    "start_time": "2021-09-20T15:51:06.449Z"
   },
   {
    "duration": 14,
    "start_time": "2021-09-20T15:51:13.840Z"
   },
   {
    "duration": 301,
    "start_time": "2021-09-20T15:51:18.564Z"
   },
   {
    "duration": 14,
    "start_time": "2021-09-20T15:51:23.918Z"
   },
   {
    "duration": 66,
    "start_time": "2021-09-20T15:51:27.196Z"
   },
   {
    "duration": 296,
    "start_time": "2021-09-20T15:51:56.096Z"
   },
   {
    "duration": 294,
    "start_time": "2021-09-20T15:52:01.811Z"
   },
   {
    "duration": 466,
    "start_time": "2021-09-20T15:52:05.399Z"
   },
   {
    "duration": 92,
    "start_time": "2021-09-20T15:52:27.777Z"
   },
   {
    "duration": 320,
    "start_time": "2021-09-20T15:56:08.320Z"
   },
   {
    "duration": 312,
    "start_time": "2021-09-20T15:56:21.935Z"
   },
   {
    "duration": 123,
    "start_time": "2021-09-20T15:56:30.909Z"
   },
   {
    "duration": 52,
    "start_time": "2021-09-20T15:56:39.095Z"
   },
   {
    "duration": 39,
    "start_time": "2021-09-20T15:56:56.246Z"
   },
   {
    "duration": 4,
    "start_time": "2021-09-20T15:57:03.838Z"
   },
   {
    "duration": 224,
    "start_time": "2021-09-20T15:57:03.845Z"
   },
   {
    "duration": 13,
    "start_time": "2021-09-20T15:57:04.072Z"
   },
   {
    "duration": 34,
    "start_time": "2021-09-20T15:57:04.088Z"
   },
   {
    "duration": 7,
    "start_time": "2021-09-20T15:57:04.125Z"
   },
   {
    "duration": 8,
    "start_time": "2021-09-20T15:57:04.134Z"
   },
   {
    "duration": 54,
    "start_time": "2021-09-20T15:57:04.145Z"
   },
   {
    "duration": 22,
    "start_time": "2021-09-20T15:57:04.202Z"
   },
   {
    "duration": 2187,
    "start_time": "2021-09-20T15:57:04.228Z"
   },
   {
    "duration": 54,
    "start_time": "2021-09-20T15:57:06.417Z"
   },
   {
    "duration": 592,
    "start_time": "2021-09-20T15:57:06.474Z"
   },
   {
    "duration": 418,
    "start_time": "2021-09-20T15:57:07.069Z"
   },
   {
    "duration": 402,
    "start_time": "2021-09-20T15:57:07.489Z"
   },
   {
    "duration": 350,
    "start_time": "2021-09-20T15:57:07.893Z"
   },
   {
    "duration": 442,
    "start_time": "2021-09-20T15:57:08.246Z"
   },
   {
    "duration": 539,
    "start_time": "2021-09-20T15:57:08.691Z"
   },
   {
    "duration": 1149,
    "start_time": "2021-09-20T15:57:09.233Z"
   },
   {
    "duration": 175,
    "start_time": "2021-09-20T15:57:10.384Z"
   },
   {
    "duration": 75,
    "start_time": "2021-09-20T15:57:10.562Z"
   },
   {
    "duration": 686,
    "start_time": "2021-09-20T15:57:20.440Z"
   },
   {
    "duration": 59,
    "start_time": "2021-09-20T15:57:23.102Z"
   },
   {
    "duration": 30,
    "start_time": "2021-09-20T15:57:28.604Z"
   },
   {
    "duration": 14,
    "start_time": "2021-09-20T15:57:37.967Z"
   },
   {
    "duration": 23,
    "start_time": "2021-09-20T15:57:45.439Z"
   },
   {
    "duration": 21,
    "start_time": "2021-09-20T15:57:50.121Z"
   },
   {
    "duration": 41,
    "start_time": "2021-09-20T15:58:30.286Z"
   },
   {
    "duration": 418,
    "start_time": "2021-09-20T15:58:55.924Z"
   },
   {
    "duration": 31,
    "start_time": "2021-09-20T15:59:16.874Z"
   },
   {
    "duration": 7044,
    "start_time": "2021-09-20T16:00:35.535Z"
   },
   {
    "duration": 41,
    "start_time": "2021-09-20T16:00:51.624Z"
   },
   {
    "duration": 292,
    "start_time": "2021-09-20T16:00:57.112Z"
   },
   {
    "duration": 26,
    "start_time": "2021-09-20T16:00:59.404Z"
   },
   {
    "duration": 328,
    "start_time": "2021-09-20T16:01:50.864Z"
   },
   {
    "duration": 560,
    "start_time": "2021-09-20T16:02:26.258Z"
   },
   {
    "duration": 397,
    "start_time": "2021-09-20T16:04:04.233Z"
   },
   {
    "duration": 537,
    "start_time": "2021-09-20T16:04:11.156Z"
   },
   {
    "duration": 11,
    "start_time": "2021-09-20T16:05:59.010Z"
   },
   {
    "duration": 62,
    "start_time": "2021-09-20T16:06:01.272Z"
   },
   {
    "duration": 342,
    "start_time": "2021-09-20T16:07:54.190Z"
   },
   {
    "duration": 294,
    "start_time": "2021-09-20T16:08:23.812Z"
   },
   {
    "duration": 338,
    "start_time": "2021-09-20T16:08:25.221Z"
   },
   {
    "duration": 392,
    "start_time": "2021-09-20T16:08:25.679Z"
   },
   {
    "duration": 396,
    "start_time": "2021-09-20T16:08:42.362Z"
   },
   {
    "duration": 414,
    "start_time": "2021-09-20T16:08:47.690Z"
   },
   {
    "duration": 422,
    "start_time": "2021-09-20T16:08:51.894Z"
   },
   {
    "duration": 413,
    "start_time": "2021-09-20T16:09:06.595Z"
   },
   {
    "duration": 401,
    "start_time": "2021-09-20T16:09:13.201Z"
   },
   {
    "duration": 374,
    "start_time": "2021-09-20T16:09:24.477Z"
   },
   {
    "duration": 331,
    "start_time": "2021-09-20T16:09:31.713Z"
   },
   {
    "duration": 295,
    "start_time": "2021-09-20T16:09:37.737Z"
   },
   {
    "duration": 758,
    "start_time": "2021-09-20T16:10:01.887Z"
   },
   {
    "duration": 320,
    "start_time": "2021-09-20T16:10:08.773Z"
   },
   {
    "duration": 301,
    "start_time": "2021-09-20T16:10:14.944Z"
   },
   {
    "duration": 291,
    "start_time": "2021-09-20T16:10:18.102Z"
   },
   {
    "duration": 468,
    "start_time": "2021-09-20T16:10:21.617Z"
   },
   {
    "duration": 287,
    "start_time": "2021-09-20T16:10:27.951Z"
   },
   {
    "duration": 417,
    "start_time": "2021-09-20T16:10:34.471Z"
   },
   {
    "duration": 428,
    "start_time": "2021-09-20T16:10:42.208Z"
   },
   {
    "duration": 418,
    "start_time": "2021-09-20T16:10:49.813Z"
   },
   {
    "duration": 291,
    "start_time": "2021-09-20T16:11:15.142Z"
   },
   {
    "duration": 266,
    "start_time": "2021-09-20T16:12:11.817Z"
   },
   {
    "duration": 263,
    "start_time": "2021-09-20T16:12:28.623Z"
   },
   {
    "duration": 64,
    "start_time": "2021-09-20T16:12:58.533Z"
   },
   {
    "duration": 2094,
    "start_time": "2021-09-20T16:29:04.854Z"
   },
   {
    "duration": 263,
    "start_time": "2021-09-20T16:29:22.986Z"
   },
   {
    "duration": 276,
    "start_time": "2021-09-20T16:29:29.201Z"
   },
   {
    "duration": 316,
    "start_time": "2021-09-20T16:29:51.582Z"
   },
   {
    "duration": 264,
    "start_time": "2021-09-20T16:33:47.039Z"
   },
   {
    "duration": 1440,
    "start_time": "2021-09-20T16:34:18.547Z"
   },
   {
    "duration": 235,
    "start_time": "2021-09-20T16:34:19.994Z"
   },
   {
    "duration": 14,
    "start_time": "2021-09-20T16:34:20.231Z"
   },
   {
    "duration": 23,
    "start_time": "2021-09-20T16:34:20.248Z"
   },
   {
    "duration": 8,
    "start_time": "2021-09-20T16:34:20.274Z"
   },
   {
    "duration": 8,
    "start_time": "2021-09-20T16:34:20.284Z"
   },
   {
    "duration": 62,
    "start_time": "2021-09-20T16:34:20.294Z"
   },
   {
    "duration": 6,
    "start_time": "2021-09-20T16:34:20.362Z"
   },
   {
    "duration": 2013,
    "start_time": "2021-09-20T16:34:20.372Z"
   },
   {
    "duration": 68,
    "start_time": "2021-09-20T16:34:22.387Z"
   },
   {
    "duration": 713,
    "start_time": "2021-09-20T16:34:22.458Z"
   },
   {
    "duration": 416,
    "start_time": "2021-09-20T16:34:23.174Z"
   },
   {
    "duration": 384,
    "start_time": "2021-09-20T16:34:23.592Z"
   },
   {
    "duration": 371,
    "start_time": "2021-09-20T16:34:23.980Z"
   },
   {
    "duration": 438,
    "start_time": "2021-09-20T16:34:24.354Z"
   },
   {
    "duration": 543,
    "start_time": "2021-09-20T16:34:24.795Z"
   },
   {
    "duration": 793,
    "start_time": "2021-09-20T16:34:25.341Z"
   },
   {
    "duration": 253,
    "start_time": "2021-09-20T16:34:26.137Z"
   },
   {
    "duration": 64,
    "start_time": "2021-09-20T16:34:26.393Z"
   },
   {
    "duration": 551,
    "start_time": "2021-09-20T16:34:26.460Z"
   },
   {
    "duration": 66,
    "start_time": "2021-09-20T16:34:27.013Z"
   },
   {
    "duration": 635,
    "start_time": "2021-09-20T16:34:27.081Z"
   },
   {
    "duration": 659,
    "start_time": "2021-09-20T16:34:27.718Z"
   },
   {
    "duration": 643,
    "start_time": "2021-09-20T16:34:28.380Z"
   },
   {
    "duration": 20,
    "start_time": "2021-09-20T16:34:29.029Z"
   },
   {
    "duration": 20,
    "start_time": "2021-09-20T16:35:06.822Z"
   },
   {
    "duration": 21,
    "start_time": "2021-09-20T16:35:10.189Z"
   },
   {
    "duration": 25,
    "start_time": "2021-09-20T16:35:16.600Z"
   },
   {
    "duration": 25,
    "start_time": "2021-09-20T16:35:23.523Z"
   },
   {
    "duration": 1543,
    "start_time": "2021-09-20T16:54:15.387Z"
   },
   {
    "duration": 238,
    "start_time": "2021-09-20T16:54:16.933Z"
   },
   {
    "duration": 16,
    "start_time": "2021-09-20T16:54:17.173Z"
   },
   {
    "duration": 41,
    "start_time": "2021-09-20T16:54:17.192Z"
   },
   {
    "duration": 8,
    "start_time": "2021-09-20T16:54:17.236Z"
   },
   {
    "duration": 22,
    "start_time": "2021-09-20T16:54:17.246Z"
   },
   {
    "duration": 69,
    "start_time": "2021-09-20T16:54:17.271Z"
   },
   {
    "duration": 9,
    "start_time": "2021-09-20T16:54:17.345Z"
   },
   {
    "duration": 2092,
    "start_time": "2021-09-20T16:54:17.357Z"
   },
   {
    "duration": 72,
    "start_time": "2021-09-20T16:54:19.452Z"
   },
   {
    "duration": 633,
    "start_time": "2021-09-20T16:54:19.526Z"
   },
   {
    "duration": 419,
    "start_time": "2021-09-20T16:54:20.161Z"
   },
   {
    "duration": 388,
    "start_time": "2021-09-20T16:54:20.582Z"
   },
   {
    "duration": 368,
    "start_time": "2021-09-20T16:54:20.973Z"
   },
   {
    "duration": 440,
    "start_time": "2021-09-20T16:54:21.344Z"
   },
   {
    "duration": 646,
    "start_time": "2021-09-20T16:54:21.787Z"
   },
   {
    "duration": 1078,
    "start_time": "2021-09-20T16:54:22.435Z"
   },
   {
    "duration": 260,
    "start_time": "2021-09-20T16:54:23.516Z"
   },
   {
    "duration": 66,
    "start_time": "2021-09-20T16:54:23.779Z"
   },
   {
    "duration": 610,
    "start_time": "2021-09-20T16:54:23.847Z"
   },
   {
    "duration": 76,
    "start_time": "2021-09-20T16:54:24.460Z"
   },
   {
    "duration": 665,
    "start_time": "2021-09-20T16:54:24.538Z"
   },
   {
    "duration": 659,
    "start_time": "2021-09-20T16:54:25.208Z"
   },
   {
    "duration": 654,
    "start_time": "2021-09-20T16:54:25.870Z"
   },
   {
    "duration": 20,
    "start_time": "2021-09-20T16:54:26.527Z"
   },
   {
    "duration": 19,
    "start_time": "2021-09-20T16:54:26.549Z"
   },
   {
    "duration": 20,
    "start_time": "2021-09-20T16:54:26.570Z"
   },
   {
    "duration": 19,
    "start_time": "2021-09-20T16:54:26.622Z"
   },
   {
    "duration": 20,
    "start_time": "2021-09-20T16:54:26.644Z"
   },
   {
    "duration": 63,
    "start_time": "2021-09-20T16:54:26.667Z"
   },
   {
    "duration": 558,
    "start_time": "2021-09-20T16:54:26.732Z"
   },
   {
    "duration": 330,
    "start_time": "2021-09-20T16:54:27.293Z"
   },
   {
    "duration": 615,
    "start_time": "2021-09-20T16:54:27.626Z"
   },
   {
    "duration": 358,
    "start_time": "2021-09-20T16:54:28.244Z"
   },
   {
    "duration": 347,
    "start_time": "2021-09-20T16:54:28.605Z"
   },
   {
    "duration": 74,
    "start_time": "2021-09-20T16:54:28.954Z"
   },
   {
    "duration": 1749,
    "start_time": "2021-09-20T20:20:48.601Z"
   },
   {
    "duration": 231,
    "start_time": "2021-09-20T20:20:50.353Z"
   },
   {
    "duration": 16,
    "start_time": "2021-09-20T20:20:50.587Z"
   },
   {
    "duration": 16,
    "start_time": "2021-09-20T20:20:50.606Z"
   },
   {
    "duration": 7,
    "start_time": "2021-09-20T20:20:50.626Z"
   },
   {
    "duration": 7,
    "start_time": "2021-09-20T20:20:50.637Z"
   },
   {
    "duration": 78,
    "start_time": "2021-09-20T20:20:50.646Z"
   },
   {
    "duration": 8,
    "start_time": "2021-09-20T20:20:50.727Z"
   },
   {
    "duration": 2215,
    "start_time": "2021-09-20T20:20:50.740Z"
   },
   {
    "duration": 67,
    "start_time": "2021-09-20T20:20:52.959Z"
   },
   {
    "duration": 664,
    "start_time": "2021-09-20T20:20:53.028Z"
   },
   {
    "duration": 439,
    "start_time": "2021-09-20T20:20:53.694Z"
   },
   {
    "duration": 405,
    "start_time": "2021-09-20T20:20:54.135Z"
   },
   {
    "duration": 355,
    "start_time": "2021-09-20T20:20:54.542Z"
   },
   {
    "duration": 472,
    "start_time": "2021-09-20T20:20:54.899Z"
   },
   {
    "duration": 581,
    "start_time": "2021-09-20T20:20:55.374Z"
   },
   {
    "duration": 859,
    "start_time": "2021-09-20T20:20:55.958Z"
   },
   {
    "duration": 264,
    "start_time": "2021-09-20T20:20:56.820Z"
   },
   {
    "duration": 58,
    "start_time": "2021-09-20T20:20:57.087Z"
   },
   {
    "duration": 645,
    "start_time": "2021-09-20T20:20:57.147Z"
   },
   {
    "duration": 112,
    "start_time": "2021-09-20T20:20:57.795Z"
   },
   {
    "duration": 912,
    "start_time": "2021-09-20T20:20:57.910Z"
   },
   {
    "duration": 1020,
    "start_time": "2021-09-20T20:20:58.825Z"
   },
   {
    "duration": 900,
    "start_time": "2021-09-20T20:20:59.848Z"
   },
   {
    "duration": 32,
    "start_time": "2021-09-20T20:21:00.752Z"
   },
   {
    "duration": 20,
    "start_time": "2021-09-20T20:21:00.787Z"
   },
   {
    "duration": 20,
    "start_time": "2021-09-20T20:21:00.812Z"
   },
   {
    "duration": 60,
    "start_time": "2021-09-20T20:21:00.835Z"
   },
   {
    "duration": 33,
    "start_time": "2021-09-20T20:21:00.898Z"
   },
   {
    "duration": 55,
    "start_time": "2021-09-20T20:21:00.935Z"
   },
   {
    "duration": 591,
    "start_time": "2021-09-20T20:21:00.993Z"
   },
   {
    "duration": 476,
    "start_time": "2021-09-20T20:21:01.588Z"
   },
   {
    "duration": 697,
    "start_time": "2021-09-20T20:21:02.067Z"
   },
   {
    "duration": 451,
    "start_time": "2021-09-20T20:21:02.768Z"
   },
   {
    "duration": 333,
    "start_time": "2021-09-20T20:21:03.221Z"
   },
   {
    "duration": 75,
    "start_time": "2021-09-20T20:21:03.557Z"
   },
   {
    "duration": 1038,
    "start_time": "2021-09-21T19:39:47.653Z"
   },
   {
    "duration": 154,
    "start_time": "2021-09-21T19:39:48.693Z"
   },
   {
    "duration": 12,
    "start_time": "2021-09-21T19:39:48.849Z"
   },
   {
    "duration": 9,
    "start_time": "2021-09-21T19:39:48.863Z"
   },
   {
    "duration": 5,
    "start_time": "2021-09-21T19:39:48.874Z"
   },
   {
    "duration": 26,
    "start_time": "2021-09-21T19:39:48.900Z"
   },
   {
    "duration": 4,
    "start_time": "2021-09-21T19:39:48.927Z"
   },
   {
    "duration": 1202,
    "start_time": "2021-09-21T19:39:48.933Z"
   },
   {
    "duration": 36,
    "start_time": "2021-09-21T19:39:50.137Z"
   },
   {
    "duration": 400,
    "start_time": "2021-09-21T19:39:50.174Z"
   },
   {
    "duration": 345,
    "start_time": "2021-09-21T19:39:59.612Z"
   },
   {
    "duration": 359,
    "start_time": "2021-09-21T19:40:10.800Z"
   },
   {
    "duration": 260,
    "start_time": "2021-09-21T19:40:56.150Z"
   },
   {
    "duration": 236,
    "start_time": "2021-09-21T19:41:18.574Z"
   },
   {
    "duration": 218,
    "start_time": "2021-09-21T19:42:08.793Z"
   },
   {
    "duration": 337,
    "start_time": "2021-09-21T19:42:16.365Z"
   },
   {
    "duration": 251,
    "start_time": "2021-09-21T19:42:16.979Z"
   },
   {
    "duration": 311,
    "start_time": "2021-09-21T19:42:17.633Z"
   },
   {
    "duration": 226,
    "start_time": "2021-09-21T19:42:17.946Z"
   },
   {
    "duration": 322,
    "start_time": "2021-09-21T19:43:44.818Z"
   },
   {
    "duration": 384,
    "start_time": "2021-09-21T19:45:05.939Z"
   },
   {
    "duration": 38,
    "start_time": "2021-09-21T19:46:01.177Z"
   },
   {
    "duration": 413,
    "start_time": "2021-09-21T19:46:02.099Z"
   },
   {
    "duration": 39,
    "start_time": "2021-09-21T19:46:06.535Z"
   },
   {
    "duration": 419,
    "start_time": "2021-09-21T19:48:03.095Z"
   },
   {
    "duration": 1389,
    "start_time": "2021-09-21T19:48:16.175Z"
   },
   {
    "duration": 20,
    "start_time": "2021-09-21T19:49:11.233Z"
   },
   {
    "duration": 31,
    "start_time": "2021-09-21T19:49:20.732Z"
   },
   {
    "duration": 133,
    "start_time": "2021-09-21T19:49:36.899Z"
   },
   {
    "duration": 167,
    "start_time": "2021-09-21T19:50:22.588Z"
   },
   {
    "duration": 182,
    "start_time": "2021-09-21T19:50:28.791Z"
   },
   {
    "duration": 3,
    "start_time": "2021-09-21T19:50:33.732Z"
   },
   {
    "duration": 166,
    "start_time": "2021-09-21T19:50:33.739Z"
   },
   {
    "duration": 10,
    "start_time": "2021-09-21T19:50:33.907Z"
   },
   {
    "duration": 11,
    "start_time": "2021-09-21T19:50:33.919Z"
   },
   {
    "duration": 5,
    "start_time": "2021-09-21T19:50:33.932Z"
   },
   {
    "duration": 28,
    "start_time": "2021-09-21T19:50:33.939Z"
   },
   {
    "duration": 4,
    "start_time": "2021-09-21T19:50:34.000Z"
   },
   {
    "duration": 1183,
    "start_time": "2021-09-21T19:50:34.006Z"
   },
   {
    "duration": 41,
    "start_time": "2021-09-21T19:50:35.191Z"
   },
   {
    "duration": 358,
    "start_time": "2021-09-21T19:50:35.234Z"
   },
   {
    "duration": 262,
    "start_time": "2021-09-21T19:50:35.593Z"
   },
   {
    "duration": 252,
    "start_time": "2021-09-21T19:50:35.857Z"
   },
   {
    "duration": 235,
    "start_time": "2021-09-21T19:50:36.111Z"
   },
   {
    "duration": 426,
    "start_time": "2021-09-21T19:50:36.347Z"
   },
   {
    "duration": 385,
    "start_time": "2021-09-21T19:50:36.775Z"
   },
   {
    "duration": 490,
    "start_time": "2021-09-21T19:50:37.161Z"
   },
   {
    "duration": 94,
    "start_time": "2021-09-21T19:50:37.653Z"
   },
   {
    "duration": 33,
    "start_time": "2021-09-21T19:50:37.748Z"
   },
   {
    "duration": 395,
    "start_time": "2021-09-21T19:50:37.782Z"
   },
   {
    "duration": 44,
    "start_time": "2021-09-21T19:50:38.178Z"
   },
   {
    "duration": 1357,
    "start_time": "2021-09-21T19:50:38.224Z"
   },
   {
    "duration": 45,
    "start_time": "2021-09-21T19:50:39.583Z"
   },
   {
    "duration": 11,
    "start_time": "2021-09-21T19:50:39.629Z"
   },
   {
    "duration": 34,
    "start_time": "2021-09-21T19:50:39.643Z"
   },
   {
    "duration": 449,
    "start_time": "2021-09-21T19:50:39.679Z"
   },
   {
    "duration": 199,
    "start_time": "2021-09-21T19:50:40.130Z"
   },
   {
    "duration": 259,
    "start_time": "2021-09-21T19:50:40.331Z"
   },
   {
    "duration": 196,
    "start_time": "2021-09-21T19:50:40.592Z"
   },
   {
    "duration": 204,
    "start_time": "2021-09-21T19:50:40.789Z"
   },
   {
    "duration": 43,
    "start_time": "2021-09-21T19:50:40.995Z"
   },
   {
    "duration": 326,
    "start_time": "2021-09-21T19:50:46.129Z"
   },
   {
    "duration": 327,
    "start_time": "2021-09-21T19:55:18.535Z"
   },
   {
    "duration": 4,
    "start_time": "2021-09-21T19:55:57.350Z"
   },
   {
    "duration": 207,
    "start_time": "2021-09-21T19:55:57.356Z"
   },
   {
    "duration": 10,
    "start_time": "2021-09-21T19:55:57.565Z"
   },
   {
    "duration": 24,
    "start_time": "2021-09-21T19:55:57.577Z"
   },
   {
    "duration": 5,
    "start_time": "2021-09-21T19:55:57.602Z"
   },
   {
    "duration": 30,
    "start_time": "2021-09-21T19:55:57.608Z"
   },
   {
    "duration": 4,
    "start_time": "2021-09-21T19:55:57.640Z"
   },
   {
    "duration": 1349,
    "start_time": "2021-09-21T19:55:57.646Z"
   },
   {
    "duration": 37,
    "start_time": "2021-09-21T19:55:58.996Z"
   },
   {
    "duration": 373,
    "start_time": "2021-09-21T19:55:59.035Z"
   },
   {
    "duration": 262,
    "start_time": "2021-09-21T19:55:59.409Z"
   },
   {
    "duration": 246,
    "start_time": "2021-09-21T19:55:59.672Z"
   },
   {
    "duration": 227,
    "start_time": "2021-09-21T19:55:59.919Z"
   },
   {
    "duration": 327,
    "start_time": "2021-09-21T19:56:00.147Z"
   },
   {
    "duration": 397,
    "start_time": "2021-09-21T19:56:00.475Z"
   },
   {
    "duration": 628,
    "start_time": "2021-09-21T19:56:00.873Z"
   },
   {
    "duration": 109,
    "start_time": "2021-09-21T19:56:01.503Z"
   },
   {
    "duration": 37,
    "start_time": "2021-09-21T19:56:01.613Z"
   },
   {
    "duration": 402,
    "start_time": "2021-09-21T19:56:01.653Z"
   },
   {
    "duration": 47,
    "start_time": "2021-09-21T19:56:02.057Z"
   },
   {
    "duration": 1365,
    "start_time": "2021-09-21T19:56:02.105Z"
   },
   {
    "duration": 48,
    "start_time": "2021-09-21T19:56:03.472Z"
   },
   {
    "duration": 13,
    "start_time": "2021-09-21T19:56:03.522Z"
   },
   {
    "duration": 21,
    "start_time": "2021-09-21T19:56:03.537Z"
   },
   {
    "duration": 347,
    "start_time": "2021-09-21T19:56:03.560Z"
   },
   {
    "duration": 202,
    "start_time": "2021-09-21T19:56:03.909Z"
   },
   {
    "duration": 273,
    "start_time": "2021-09-21T19:56:04.113Z"
   },
   {
    "duration": 191,
    "start_time": "2021-09-21T19:56:04.388Z"
   },
   {
    "duration": 204,
    "start_time": "2021-09-21T19:56:04.581Z"
   },
   {
    "duration": 43,
    "start_time": "2021-09-21T19:56:04.786Z"
   }
  ],
  "kernelspec": {
   "display_name": "Python 3",
   "language": "python",
   "name": "python3"
  },
  "language_info": {
   "codemirror_mode": {
    "name": "ipython",
    "version": 3
   },
   "file_extension": ".py",
   "mimetype": "text/x-python",
   "name": "python",
   "nbconvert_exporter": "python",
   "pygments_lexer": "ipython3",
   "version": "3.8.5"
  },
  "toc": {
   "base_numbering": 1,
   "nav_menu": {},
   "number_sections": true,
   "sideBar": true,
   "skip_h1_title": true,
   "title_cell": "Содержание",
   "title_sidebar": "Contents",
   "toc_cell": true,
   "toc_position": {
    "height": "calc(100% - 180px)",
    "left": "10px",
    "top": "150px",
    "width": "165px"
   },
   "toc_section_display": true,
   "toc_window_display": true
  }
 },
 "nbformat": 4,
 "nbformat_minor": 2
}
