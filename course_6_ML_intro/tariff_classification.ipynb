{
 "cells": [
  {
   "cell_type": "markdown",
   "metadata": {
    "toc": true
   },
   "source": [
    "<h1>Содержание<span class=\"tocSkip\"></span></h1>\n",
    "<div class=\"toc\"><ul class=\"toc-item\"><li><span><a href=\"#Рекомендация-тарифов\" data-toc-modified-id=\"Рекомендация-тарифов-1\"><span class=\"toc-item-num\">1&nbsp;&nbsp;</span>Рекомендация тарифов</a></span><ul class=\"toc-item\"><li><span><a href=\"#Описание-проекта\" data-toc-modified-id=\"Описание-проекта-1.1\"><span class=\"toc-item-num\">1.1&nbsp;&nbsp;</span>Описание проекта</a></span></li><li><span><a href=\"#Описание-данных\" data-toc-modified-id=\"Описание-данных-1.2\"><span class=\"toc-item-num\">1.2&nbsp;&nbsp;</span>Описание данных</a></span></li><li><span><a href=\"#План-работы\" data-toc-modified-id=\"План-работы-1.3\"><span class=\"toc-item-num\">1.3&nbsp;&nbsp;</span>План работы</a></span></li><li><span><a href=\"#Результат-работы\" data-toc-modified-id=\"Результат-работы-1.4\"><span class=\"toc-item-num\">1.4&nbsp;&nbsp;</span>Результат работы</a></span></li></ul></li><li><span><a href=\"#Открытие-и-подготовка-данных\" data-toc-modified-id=\"Открытие-и-подготовка-данных-2\"><span class=\"toc-item-num\">2&nbsp;&nbsp;</span>Открытие и подготовка данных</a></span><ul class=\"toc-item\"><li><span><a href=\"#Открытие-и-изучение-файла\" data-toc-modified-id=\"Открытие-и-изучение-файла-2.1\"><span class=\"toc-item-num\">2.1&nbsp;&nbsp;</span>Открытие и изучение файла</a></span></li><li><span><a href=\"#Разбиение-данных-на-выборки\" data-toc-modified-id=\"Разбиение-данных-на-выборки-2.2\"><span class=\"toc-item-num\">2.2&nbsp;&nbsp;</span>Разбиение данных на выборки</a></span></li><li><span><a href=\"#Вывод\" data-toc-modified-id=\"Вывод-2.3\"><span class=\"toc-item-num\">2.3&nbsp;&nbsp;</span>Вывод</a></span></li></ul></li><li><span><a href=\"#Исследование-и-проверка-модели\" data-toc-modified-id=\"Исследование-и-проверка-модели-3\"><span class=\"toc-item-num\">3&nbsp;&nbsp;</span>Исследование и проверка модели</a></span><ul class=\"toc-item\"><li><span><a href=\"#Исследование-модели\" data-toc-modified-id=\"Исследование-модели-3.1\"><span class=\"toc-item-num\">3.1&nbsp;&nbsp;</span>Исследование модели</a></span></li><li><span><a href=\"#Проверьте-модель-на-тестовой-выборке\" data-toc-modified-id=\"Проверьте-модель-на-тестовой-выборке-3.2\"><span class=\"toc-item-num\">3.2&nbsp;&nbsp;</span>Проверьте модель на тестовой выборке</a></span></li><li><span><a href=\"#(бонус)-Проверьте-модели-на-адекватность\" data-toc-modified-id=\"(бонус)-Проверьте-модели-на-адекватность-3.3\"><span class=\"toc-item-num\">3.3&nbsp;&nbsp;</span>(бонус) Проверьте модели на адекватность</a></span></li><li><span><a href=\"#Вывод\" data-toc-modified-id=\"Вывод-3.4\"><span class=\"toc-item-num\">3.4&nbsp;&nbsp;</span>Вывод</a></span></li></ul></li><li><span><a href=\"#Общий-вывод\" data-toc-modified-id=\"Общий-вывод-4\"><span class=\"toc-item-num\">4&nbsp;&nbsp;</span>Общий вывод</a></span></li></ul></div>"
   ]
  },
  {
   "cell_type": "markdown",
   "metadata": {},
   "source": [
    "# Рекомендация тарифов"
   ]
  },
  {
   "cell_type": "markdown",
   "metadata": {},
   "source": [
    "## Описание проекта\n",
    "Оператор мобильной связи «Мегалайн» выяснил: многие клиенты пользуются архивными тарифами. Они хотят построить систему, способную проанализировать поведение клиентов и предложить пользователям новый тариф: «Смарт» или «Ультра».\n",
    "В вашем распоряжении данные о поведении клиентов, которые уже перешли на эти тарифы (из проекта курса «Статистический анализ данных»). Нужно построить модель для задачи классификации, которая выберет подходящий тариф.\n",
    "Требуется построить модель с максимально большим значением accuracy. Нужно довести долю правильных ответов по крайней мере до 0.75. Проверить accuracy на тестовой выборке самостоятельно.\n",
    "\n",
    "## Описание данных\n",
    "Каждый объект в наборе данных — это информация о поведении одного пользователя за месяц. Известно:\n",
    "* сalls — количество звонков,\n",
    "* minutes — суммарная длительность звонков в минутах,\n",
    "* messages — количество sms-сообщений,\n",
    "* mb_used — израсходованный интернет-трафик в Мб,\n",
    "* is_ultra — каким тарифом пользовался в течение месяца («Ультра» — 1, «Смарт» — 0).\n",
    "\n",
    "## План работы\n",
    "Для достижения желаемого результата требуется открыть файлов и изучить информацию в нем, после чего разбить данные на выборки для дальнейшего исследования, далее исследовать модель и проверить и протестировать качество ее работы.\n",
    "\n",
    "## Результат работы\n",
    "Результатом работы является обученная модель, правильно работающая более чем в 75% случаев, предлагающая наиболее оптимальный тариф исходя из потребностей пользователя."
   ]
  },
  {
   "cell_type": "markdown",
   "metadata": {},
   "source": [
    "# Открытие и подготовка данных"
   ]
  },
  {
   "cell_type": "markdown",
   "metadata": {},
   "source": [
    "## Открытие и изучение файла"
   ]
  },
  {
   "cell_type": "code",
   "execution_count": 1,
   "metadata": {},
   "outputs": [],
   "source": [
    "#импортируем необходимые библиотеки\n",
    "import pandas as pd\n",
    "import numpy as np\n",
    "from sklearn.tree import DecisionTreeClassifier\n",
    "from sklearn.ensemble import RandomForestClassifier\n",
    "from sklearn.linear_model import LogisticRegression\n",
    "from sklearn.model_selection import train_test_split\n",
    "from sklearn.dummy import DummyClassifier\n",
    "from sklearn.metrics import accuracy_score"
   ]
  },
  {
   "cell_type": "code",
   "execution_count": 2,
   "metadata": {
    "scrolled": true
   },
   "outputs": [
    {
     "data": {
      "text/html": [
       "<div>\n",
       "<style scoped>\n",
       "    .dataframe tbody tr th:only-of-type {\n",
       "        vertical-align: middle;\n",
       "    }\n",
       "\n",
       "    .dataframe tbody tr th {\n",
       "        vertical-align: top;\n",
       "    }\n",
       "\n",
       "    .dataframe thead th {\n",
       "        text-align: right;\n",
       "    }\n",
       "</style>\n",
       "<table border=\"1\" class=\"dataframe\">\n",
       "  <thead>\n",
       "    <tr style=\"text-align: right;\">\n",
       "      <th></th>\n",
       "      <th>calls</th>\n",
       "      <th>minutes</th>\n",
       "      <th>messages</th>\n",
       "      <th>mb_used</th>\n",
       "      <th>is_ultra</th>\n",
       "    </tr>\n",
       "  </thead>\n",
       "  <tbody>\n",
       "    <tr>\n",
       "      <td>0</td>\n",
       "      <td>40.0</td>\n",
       "      <td>311.90</td>\n",
       "      <td>83.0</td>\n",
       "      <td>19915.42</td>\n",
       "      <td>0</td>\n",
       "    </tr>\n",
       "    <tr>\n",
       "      <td>1</td>\n",
       "      <td>85.0</td>\n",
       "      <td>516.75</td>\n",
       "      <td>56.0</td>\n",
       "      <td>22696.96</td>\n",
       "      <td>0</td>\n",
       "    </tr>\n",
       "    <tr>\n",
       "      <td>2</td>\n",
       "      <td>77.0</td>\n",
       "      <td>467.66</td>\n",
       "      <td>86.0</td>\n",
       "      <td>21060.45</td>\n",
       "      <td>0</td>\n",
       "    </tr>\n",
       "    <tr>\n",
       "      <td>3</td>\n",
       "      <td>106.0</td>\n",
       "      <td>745.53</td>\n",
       "      <td>81.0</td>\n",
       "      <td>8437.39</td>\n",
       "      <td>1</td>\n",
       "    </tr>\n",
       "    <tr>\n",
       "      <td>4</td>\n",
       "      <td>66.0</td>\n",
       "      <td>418.74</td>\n",
       "      <td>1.0</td>\n",
       "      <td>14502.75</td>\n",
       "      <td>0</td>\n",
       "    </tr>\n",
       "  </tbody>\n",
       "</table>\n",
       "</div>"
      ],
      "text/plain": [
       "   calls  minutes  messages   mb_used  is_ultra\n",
       "0   40.0   311.90      83.0  19915.42         0\n",
       "1   85.0   516.75      56.0  22696.96         0\n",
       "2   77.0   467.66      86.0  21060.45         0\n",
       "3  106.0   745.53      81.0   8437.39         1\n",
       "4   66.0   418.74       1.0  14502.75         0"
      ]
     },
     "metadata": {},
     "output_type": "display_data"
    },
    {
     "name": "stdout",
     "output_type": "stream",
     "text": [
      "<class 'pandas.core.frame.DataFrame'>\n",
      "RangeIndex: 3214 entries, 0 to 3213\n",
      "Data columns (total 5 columns):\n",
      "calls       3214 non-null float64\n",
      "minutes     3214 non-null float64\n",
      "messages    3214 non-null float64\n",
      "mb_used     3214 non-null float64\n",
      "is_ultra    3214 non-null int64\n",
      "dtypes: float64(4), int64(1)\n",
      "memory usage: 125.7 KB\n"
     ]
    },
    {
     "data": {
      "text/plain": [
       "None"
      ]
     },
     "metadata": {},
     "output_type": "display_data"
    },
    {
     "data": {
      "text/html": [
       "<div>\n",
       "<style scoped>\n",
       "    .dataframe tbody tr th:only-of-type {\n",
       "        vertical-align: middle;\n",
       "    }\n",
       "\n",
       "    .dataframe tbody tr th {\n",
       "        vertical-align: top;\n",
       "    }\n",
       "\n",
       "    .dataframe thead th {\n",
       "        text-align: right;\n",
       "    }\n",
       "</style>\n",
       "<table border=\"1\" class=\"dataframe\">\n",
       "  <thead>\n",
       "    <tr style=\"text-align: right;\">\n",
       "      <th></th>\n",
       "      <th>calls</th>\n",
       "      <th>minutes</th>\n",
       "      <th>messages</th>\n",
       "      <th>mb_used</th>\n",
       "      <th>is_ultra</th>\n",
       "    </tr>\n",
       "  </thead>\n",
       "  <tbody>\n",
       "    <tr>\n",
       "      <td>count</td>\n",
       "      <td>3214.000000</td>\n",
       "      <td>3214.000000</td>\n",
       "      <td>3214.000000</td>\n",
       "      <td>3214.000000</td>\n",
       "      <td>3214.000000</td>\n",
       "    </tr>\n",
       "    <tr>\n",
       "      <td>mean</td>\n",
       "      <td>63.038892</td>\n",
       "      <td>438.208787</td>\n",
       "      <td>38.281269</td>\n",
       "      <td>17207.673836</td>\n",
       "      <td>0.306472</td>\n",
       "    </tr>\n",
       "    <tr>\n",
       "      <td>std</td>\n",
       "      <td>33.236368</td>\n",
       "      <td>234.569872</td>\n",
       "      <td>36.148326</td>\n",
       "      <td>7570.968246</td>\n",
       "      <td>0.461100</td>\n",
       "    </tr>\n",
       "    <tr>\n",
       "      <td>min</td>\n",
       "      <td>0.000000</td>\n",
       "      <td>0.000000</td>\n",
       "      <td>0.000000</td>\n",
       "      <td>0.000000</td>\n",
       "      <td>0.000000</td>\n",
       "    </tr>\n",
       "    <tr>\n",
       "      <td>25%</td>\n",
       "      <td>40.000000</td>\n",
       "      <td>274.575000</td>\n",
       "      <td>9.000000</td>\n",
       "      <td>12491.902500</td>\n",
       "      <td>0.000000</td>\n",
       "    </tr>\n",
       "    <tr>\n",
       "      <td>50%</td>\n",
       "      <td>62.000000</td>\n",
       "      <td>430.600000</td>\n",
       "      <td>30.000000</td>\n",
       "      <td>16943.235000</td>\n",
       "      <td>0.000000</td>\n",
       "    </tr>\n",
       "    <tr>\n",
       "      <td>75%</td>\n",
       "      <td>82.000000</td>\n",
       "      <td>571.927500</td>\n",
       "      <td>57.000000</td>\n",
       "      <td>21424.700000</td>\n",
       "      <td>1.000000</td>\n",
       "    </tr>\n",
       "    <tr>\n",
       "      <td>max</td>\n",
       "      <td>244.000000</td>\n",
       "      <td>1632.060000</td>\n",
       "      <td>224.000000</td>\n",
       "      <td>49745.730000</td>\n",
       "      <td>1.000000</td>\n",
       "    </tr>\n",
       "  </tbody>\n",
       "</table>\n",
       "</div>"
      ],
      "text/plain": [
       "             calls      minutes     messages       mb_used     is_ultra\n",
       "count  3214.000000  3214.000000  3214.000000   3214.000000  3214.000000\n",
       "mean     63.038892   438.208787    38.281269  17207.673836     0.306472\n",
       "std      33.236368   234.569872    36.148326   7570.968246     0.461100\n",
       "min       0.000000     0.000000     0.000000      0.000000     0.000000\n",
       "25%      40.000000   274.575000     9.000000  12491.902500     0.000000\n",
       "50%      62.000000   430.600000    30.000000  16943.235000     0.000000\n",
       "75%      82.000000   571.927500    57.000000  21424.700000     1.000000\n",
       "max     244.000000  1632.060000   224.000000  49745.730000     1.000000"
      ]
     },
     "execution_count": 2,
     "metadata": {},
     "output_type": "execute_result"
    }
   ],
   "source": [
    "df = pd.read_csv('/datasets/users_behavior.csv')\n",
    "display(df.head())\n",
    "display(df.info())\n",
    "df.describe()"
   ]
  },
  {
   "cell_type": "code",
   "execution_count": 3,
   "metadata": {},
   "outputs": [
    {
     "data": {
      "text/plain": [
       "40"
      ]
     },
     "metadata": {},
     "output_type": "display_data"
    },
    {
     "data": {
      "text/plain": [
       "40"
      ]
     },
     "metadata": {},
     "output_type": "display_data"
    },
    {
     "data": {
      "text/plain": [
       "497"
      ]
     },
     "metadata": {},
     "output_type": "display_data"
    },
    {
     "data": {
      "text/plain": [
       "11"
      ]
     },
     "execution_count": 3,
     "metadata": {},
     "output_type": "execute_result"
    }
   ],
   "source": [
    "display(df.query('calls == 0').shape[0])\n",
    "display(df.query('minutes == 0').shape[0])\n",
    "display(df.query('messages == 0').shape[0])\n",
    "df.query('mb_used == 0').shape[0]"
   ]
  },
  {
   "cell_type": "markdown",
   "metadata": {},
   "source": [
    "## Разбиение данных на выборки"
   ]
  },
  {
   "cell_type": "code",
   "execution_count": 4,
   "metadata": {},
   "outputs": [],
   "source": [
    "features = df.drop('is_ultra', axis=1)\n",
    "target = df['is_ultra']"
   ]
  },
  {
   "cell_type": "code",
   "execution_count": 5,
   "metadata": {},
   "outputs": [],
   "source": [
    "features_train, features_remain, target_train, target_remain = train_test_split(\n",
    "    features, target, test_size=0.4, stratify=target)"
   ]
  },
  {
   "cell_type": "code",
   "execution_count": 6,
   "metadata": {},
   "outputs": [],
   "source": [
    "features_valid, features_test, target_valid, target_test = train_test_split(\n",
    "    features_remain, target_remain, test_size=0.5, stratify=target_remain)"
   ]
  },
  {
   "cell_type": "code",
   "execution_count": 7,
   "metadata": {},
   "outputs": [
    {
     "data": {
      "text/plain": [
       "(1928, 4)"
      ]
     },
     "metadata": {},
     "output_type": "display_data"
    },
    {
     "data": {
      "text/plain": [
       "(1928,)"
      ]
     },
     "metadata": {},
     "output_type": "display_data"
    },
    {
     "data": {
      "text/plain": [
       "(643, 4)"
      ]
     },
     "metadata": {},
     "output_type": "display_data"
    },
    {
     "data": {
      "text/plain": [
       "(643,)"
      ]
     },
     "metadata": {},
     "output_type": "display_data"
    },
    {
     "data": {
      "text/plain": [
       "(643, 4)"
      ]
     },
     "metadata": {},
     "output_type": "display_data"
    },
    {
     "data": {
      "text/plain": [
       "(643,)"
      ]
     },
     "execution_count": 7,
     "metadata": {},
     "output_type": "execute_result"
    }
   ],
   "source": [
    "display(features_train.shape)\n",
    "display(target_train.shape)\n",
    "display(features_valid.shape)\n",
    "display(target_valid.shape)\n",
    "display(features_test.shape)\n",
    "target_test.shape"
   ]
  },
  {
   "cell_type": "markdown",
   "metadata": {},
   "source": [
    "## Вывод"
   ]
  },
  {
   "cell_type": "markdown",
   "metadata": {},
   "source": [
    "Был открыт и изучен файл. Все столбцы имеют верный тип данных, пропусков нет. Присутствуют нулевые значения во всех столбцах, но это не выбросы, большое кол-во нулей только в сообщениях, но в наше время мало людей в целом отправляют СМС.\n",
    "Также данные были разделены на обучающую, валидационную и тестовую выборку в соотношении 3:1:1."
   ]
  },
  {
   "cell_type": "markdown",
   "metadata": {},
   "source": [
    "# Исследование и проверка модели"
   ]
  },
  {
   "cell_type": "markdown",
   "metadata": {},
   "source": [
    "## Исследование модели"
   ]
  },
  {
   "cell_type": "markdown",
   "metadata": {},
   "source": [
    "- Исследуем модель дерева решений"
   ]
  },
  {
   "cell_type": "code",
   "execution_count": 8,
   "metadata": {},
   "outputs": [
    {
     "name": "stdout",
     "output_type": "stream",
     "text": [
      "Результат на валидационной выборке:\n"
     ]
    },
    {
     "data": {
      "text/plain": [
       "0.8087091757387247"
      ]
     },
     "metadata": {},
     "output_type": "display_data"
    },
    {
     "name": "stdout",
     "output_type": "stream",
     "text": [
      "Наилучшая глубина дерева:\n"
     ]
    },
    {
     "data": {
      "text/plain": [
       "3"
      ]
     },
     "execution_count": 8,
     "metadata": {},
     "output_type": "execute_result"
    }
   ],
   "source": [
    "best_tree_model = None\n",
    "best_tree_result = 0\n",
    "\n",
    "for depth in range (1, 11):\n",
    "    model = DecisionTreeClassifier(random_state=12345, max_depth=depth)\n",
    "    model.fit(features_train, target_train)\n",
    "    predictions_valid = model.predict(features_valid)\n",
    "    result = accuracy_score(target_valid, predictions_valid)\n",
    "    if result > best_tree_result:\n",
    "        best_tree_model = model\n",
    "        best_tree_result = result\n",
    "        best_tree_depth = depth\n",
    "\n",
    "print('Результат на валидационной выборке:')\n",
    "display(best_tree_result)\n",
    "print('Наилучшая глубина дерева:')\n",
    "best_tree_depth"
   ]
  },
  {
   "cell_type": "markdown",
   "metadata": {},
   "source": [
    "- Исследуем модель случайного леса"
   ]
  },
  {
   "cell_type": "code",
   "execution_count": 9,
   "metadata": {},
   "outputs": [
    {
     "name": "stdout",
     "output_type": "stream",
     "text": [
      "Результат на валидационной выборке:\n"
     ]
    },
    {
     "data": {
      "text/plain": [
       "0.8055987558320373"
      ]
     },
     "metadata": {},
     "output_type": "display_data"
    },
    {
     "name": "stdout",
     "output_type": "stream",
     "text": [
      "Наилучшее кол-во деревьев:\n"
     ]
    },
    {
     "data": {
      "text/plain": [
       "10"
      ]
     },
     "metadata": {},
     "output_type": "display_data"
    },
    {
     "name": "stdout",
     "output_type": "stream",
     "text": [
      "Наилучшая максимальная глубина дерева:\n"
     ]
    },
    {
     "data": {
      "text/plain": [
       "10"
      ]
     },
     "metadata": {},
     "output_type": "display_data"
    },
    {
     "name": "stdout",
     "output_type": "stream",
     "text": [
      "Наилучший критерий:\n",
      "CPU times: user 7.34 s, sys: 55.9 ms, total: 7.39 s\n",
      "Wall time: 7.41 s\n"
     ]
    },
    {
     "data": {
      "text/plain": [
       "'gini'"
      ]
     },
     "execution_count": 9,
     "metadata": {},
     "output_type": "execute_result"
    }
   ],
   "source": [
    "%%time\n",
    "best_forest_model = None\n",
    "best_forest_result = 0\n",
    "\n",
    "for crit in ['gini', 'entropy']:\n",
    "    for est in range(10, 51, 10):\n",
    "        for depth in range (1, 11):\n",
    "            model = RandomForestClassifier(random_state=12345, criterion=crit, n_estimators=est, max_depth=depth)\n",
    "            model.fit(features_train, target_train)\n",
    "            predictions_valid = model.predict(features_valid)\n",
    "            result = accuracy_score(target_valid, predictions_valid)\n",
    "            if result > best_forest_result:\n",
    "                best_forest_model = model\n",
    "                best_forest_result = result\n",
    "                best_forest_est = est\n",
    "                best_forest_depth = depth\n",
    "                best_forest_criterion = crit\n",
    "                \n",
    "print('Результат на валидационной выборке:')\n",
    "display(best_forest_result)\n",
    "print('Наилучшее кол-во деревьев:')\n",
    "display(best_forest_est)\n",
    "print('Наилучшая максимальная глубина дерева:')\n",
    "display(best_forest_depth)\n",
    "print('Наилучший критерий:')\n",
    "best_forest_criterion"
   ]
  },
  {
   "cell_type": "markdown",
   "metadata": {},
   "source": [
    "- Исследуем модель логистической регрессии"
   ]
  },
  {
   "cell_type": "code",
   "execution_count": 10,
   "metadata": {},
   "outputs": [
    {
     "name": "stdout",
     "output_type": "stream",
     "text": [
      "Результат на валидационной выборке:\n",
      "CPU times: user 25.1 ms, sys: 4.08 ms, total: 29.2 ms\n",
      "Wall time: 27.8 ms\n"
     ]
    },
    {
     "data": {
      "text/plain": [
       "0.7480559875583204"
      ]
     },
     "execution_count": 10,
     "metadata": {},
     "output_type": "execute_result"
    }
   ],
   "source": [
    "%%time\n",
    "model = LogisticRegression(random_state=12345, solver='lbfgs')\n",
    "model.fit(features_train, target_train)\n",
    "predictions_valid = model.predict(features_valid)\n",
    "result = accuracy_score(target_valid, predictions_valid)\n",
    "print('Результат на валидационной выборке:')\n",
    "result"
   ]
  },
  {
   "cell_type": "markdown",
   "metadata": {},
   "source": [
    "- Соберем сводную таблицу с результатами исследований"
   ]
  },
  {
   "cell_type": "code",
   "execution_count": 11,
   "metadata": {
    "scrolled": false
   },
   "outputs": [
    {
     "data": {
      "text/html": [
       "<div>\n",
       "<style scoped>\n",
       "    .dataframe tbody tr th:only-of-type {\n",
       "        vertical-align: middle;\n",
       "    }\n",
       "\n",
       "    .dataframe tbody tr th {\n",
       "        vertical-align: top;\n",
       "    }\n",
       "\n",
       "    .dataframe thead th {\n",
       "        text-align: right;\n",
       "    }\n",
       "</style>\n",
       "<table border=\"1\" class=\"dataframe\">\n",
       "  <thead>\n",
       "    <tr style=\"text-align: right;\">\n",
       "      <th></th>\n",
       "      <th>Случаный лес</th>\n",
       "      <th>Дерево решений</th>\n",
       "      <th>Логистическая регрессия</th>\n",
       "    </tr>\n",
       "  </thead>\n",
       "  <tbody>\n",
       "    <tr>\n",
       "      <td>Результат на валидационной выборке</td>\n",
       "      <td>0.805599</td>\n",
       "      <td>0.808709</td>\n",
       "      <td>0.748056</td>\n",
       "    </tr>\n",
       "    <tr>\n",
       "      <td>Скорость работы</td>\n",
       "      <td>Долго</td>\n",
       "      <td>Средне</td>\n",
       "      <td>Медленно</td>\n",
       "    </tr>\n",
       "  </tbody>\n",
       "</table>\n",
       "</div>"
      ],
      "text/plain": [
       "                                   Случаный лес Дерево решений  \\\n",
       "Результат на валидационной выборке     0.805599       0.808709   \n",
       "Скорость работы                           Долго         Средне   \n",
       "\n",
       "                                   Логистическая регрессия  \n",
       "Результат на валидационной выборке                0.748056  \n",
       "Скорость работы                                   Медленно  "
      ]
     },
     "execution_count": 11,
     "metadata": {},
     "output_type": "execute_result"
    }
   ],
   "source": [
    "results = [best_forest_result, best_tree_result, result]\n",
    "speed = ['Долго', 'Средне', 'Медленно']\n",
    "result_df = pd.DataFrame([results, speed],\n",
    "                         columns=['Случаный лес', 'Дерево решений', 'Логистическая регрессия'],\n",
    "                        index=['Результат на валидационной выборке', 'Скорость работы'])\n",
    "result_df"
   ]
  },
  {
   "cell_type": "markdown",
   "metadata": {},
   "source": [
    "## Проверьте модель на тестовой выборке"
   ]
  },
  {
   "cell_type": "markdown",
   "metadata": {},
   "source": [
    "- В качестве итоговой модели возьмем случайный лес, т.к. требовалось получить наилучший результат не опираясь на скорость работы"
   ]
  },
  {
   "cell_type": "code",
   "execution_count": 12,
   "metadata": {},
   "outputs": [
    {
     "data": {
      "text/plain": [
       "0.8102643856920684"
      ]
     },
     "execution_count": 12,
     "metadata": {},
     "output_type": "execute_result"
    }
   ],
   "source": [
    "predictions_test = best_forest_model.predict(features_test)\n",
    "result = accuracy_score(target_test, predictions_test)\n",
    "result"
   ]
  },
  {
   "cell_type": "markdown",
   "metadata": {},
   "source": [
    "## (бонус) Проверьте модели на адекватность"
   ]
  },
  {
   "cell_type": "markdown",
   "metadata": {},
   "source": [
    "- Проверим вменяемость модели в сравнении с DummyClassifier"
   ]
  },
  {
   "cell_type": "code",
   "execution_count": 13,
   "metadata": {},
   "outputs": [
    {
     "name": "stdout",
     "output_type": "stream",
     "text": [
      "Выбранная модель адекватна\n"
     ]
    }
   ],
   "source": [
    "dummy_model = DummyClassifier(strategy=\"most_frequent\")\n",
    "dummy_model.fit(features_train, target_train)\n",
    "predictions_test = dummy_model.predict(features_test)\n",
    "dummy_result = accuracy_score(target_test, predictions_test)\n",
    "if dummy_result >= result:\n",
    "    print('Модель невменяема')\n",
    "else:\n",
    "    print('Выбранная модель адекватна')"
   ]
  },
  {
   "cell_type": "markdown",
   "metadata": {},
   "source": [
    "## Вывод"
   ]
  },
  {
   "cell_type": "markdown",
   "metadata": {},
   "source": [
    "На данном шаге были исследованы 3 разные модели с разными гиперпараметрами для предсказания тарифа пользователя, а именно:\n",
    "- Дерево решений\n",
    "- Случайный лес\n",
    "- Логистическая регрессия\n",
    "\n",
    "В ходе исследования моделей была отражена их скорость работы и качество каждой из них измеренное методом `accuracy_score`. Из этих 3 моделей по итогу был выбран случайный лес с 10 деревьями и глубиной 10, так как он показал наилучший результат на валидационной выборке. После чего была произведена финальная проверка модели на тестовой выборке и получен результат в 0.81 оценкой `accuracy_score`. Также была произведена проверка на вменяемость модели с помощью `DummyClassifier()`"
   ]
  },
  {
   "cell_type": "markdown",
   "metadata": {},
   "source": [
    "# Общий вывод"
   ]
  },
  {
   "cell_type": "markdown",
   "metadata": {},
   "source": [
    "В ходе работы над проектом был открыт и изучен файл, далее было произведено разбиение датасета на 3 выборки: тренировочную, валидационную и тестовую в соотношении 3:1:1. Далее были исследованы модели машинного обучения с разными гиперпараметрами в ходе которой было выявлено, что случайный лес с кол-вом деревьев равным 10 и максимальной глубиной равной 10, показало наилучший результат на валидационной выборке. Далее данная модель была использована при определении тарифа на тестовой выборке на которой `accuracy_score` выдал результат 0.81 и после было проведено сравнение с `DummyClassifier()`, где было выявлено, что выбранная модель является адекватной"
   ]
  }
 ],
 "metadata": {
  "ExecuteTimeLog": [
   {
    "duration": 1091,
    "start_time": "2021-11-09T13:21:11.010Z"
   },
   {
    "duration": 20,
    "start_time": "2021-11-09T13:21:39.019Z"
   },
   {
    "duration": 33,
    "start_time": "2021-11-09T13:21:46.345Z"
   },
   {
    "duration": 67,
    "start_time": "2021-11-09T13:22:22.518Z"
   },
   {
    "duration": 372,
    "start_time": "2021-11-09T16:59:18.674Z"
   },
   {
    "duration": 4,
    "start_time": "2021-11-09T16:59:20.580Z"
   },
   {
    "duration": 262,
    "start_time": "2021-11-09T16:59:21.097Z"
   },
   {
    "duration": 276,
    "start_time": "2021-11-09T17:02:20.889Z"
   },
   {
    "duration": 5,
    "start_time": "2021-11-09T17:02:25.092Z"
   },
   {
    "duration": 307,
    "start_time": "2021-11-09T17:05:32.921Z"
   },
   {
    "duration": 6,
    "start_time": "2021-11-09T17:05:36.093Z"
   },
   {
    "duration": 5,
    "start_time": "2021-11-09T17:05:36.331Z"
   },
   {
    "duration": 279,
    "start_time": "2021-11-09T17:05:46.372Z"
   },
   {
    "duration": 3,
    "start_time": "2021-11-09T17:05:48.188Z"
   },
   {
    "duration": 5,
    "start_time": "2021-11-09T17:05:53.628Z"
   },
   {
    "duration": 4,
    "start_time": "2021-11-09T17:05:57.857Z"
   },
   {
    "duration": 4,
    "start_time": "2021-11-09T17:06:14.402Z"
   },
   {
    "duration": 9,
    "start_time": "2021-11-09T17:06:30.178Z"
   },
   {
    "duration": 6,
    "start_time": "2021-11-09T17:06:43.683Z"
   },
   {
    "duration": 5,
    "start_time": "2021-11-09T17:06:44.045Z"
   },
   {
    "duration": 5,
    "start_time": "2021-11-09T17:06:44.298Z"
   },
   {
    "duration": 10,
    "start_time": "2021-11-09T17:06:44.758Z"
   },
   {
    "duration": 52,
    "start_time": "2021-11-09T17:13:07.447Z"
   },
   {
    "duration": 11,
    "start_time": "2021-11-09T17:13:31.929Z"
   },
   {
    "duration": 14,
    "start_time": "2021-11-09T17:13:44.839Z"
   },
   {
    "duration": 370,
    "start_time": "2021-11-09T17:15:22.259Z"
   },
   {
    "duration": 6,
    "start_time": "2021-11-09T17:15:24.400Z"
   },
   {
    "duration": 7,
    "start_time": "2021-11-09T17:15:34.279Z"
   },
   {
    "duration": 16,
    "start_time": "2021-11-09T17:15:51.736Z"
   },
   {
    "duration": 7,
    "start_time": "2021-11-09T17:25:45.382Z"
   },
   {
    "duration": 277,
    "start_time": "2021-11-09T17:27:18.032Z"
   },
   {
    "duration": 5,
    "start_time": "2021-11-09T17:27:24.959Z"
   },
   {
    "duration": 8,
    "start_time": "2021-11-09T17:27:26.113Z"
   },
   {
    "duration": 4,
    "start_time": "2021-11-09T18:08:39.913Z"
   },
   {
    "duration": 3,
    "start_time": "2021-11-09T18:14:29.424Z"
   },
   {
    "duration": 277,
    "start_time": "2021-11-09T18:15:01.613Z"
   },
   {
    "duration": 3304,
    "start_time": "2021-11-09T18:15:44.747Z"
   },
   {
    "duration": 3405,
    "start_time": "2021-11-09T18:16:44.540Z"
   },
   {
    "duration": 3314,
    "start_time": "2021-11-09T18:16:52.639Z"
   },
   {
    "duration": 264,
    "start_time": "2021-11-09T18:17:02.773Z"
   },
   {
    "duration": 3594,
    "start_time": "2021-11-09T18:17:08.250Z"
   },
   {
    "duration": 3296,
    "start_time": "2021-11-09T18:17:15.624Z"
   },
   {
    "duration": 3285,
    "start_time": "2021-11-09T18:18:18.905Z"
   },
   {
    "duration": 54,
    "start_time": "2021-11-09T18:20:05.033Z"
   },
   {
    "duration": 51,
    "start_time": "2021-11-09T18:20:13.233Z"
   },
   {
    "duration": 54,
    "start_time": "2021-11-09T18:20:14.389Z"
   },
   {
    "duration": 53,
    "start_time": "2021-11-09T18:20:15.049Z"
   },
   {
    "duration": 50,
    "start_time": "2021-11-09T18:20:16.512Z"
   },
   {
    "duration": 53,
    "start_time": "2021-11-09T18:20:18.043Z"
   },
   {
    "duration": 52,
    "start_time": "2021-11-09T18:20:18.745Z"
   },
   {
    "duration": 51,
    "start_time": "2021-11-09T18:20:19.434Z"
   },
   {
    "duration": 53,
    "start_time": "2021-11-09T18:20:20.118Z"
   },
   {
    "duration": 51,
    "start_time": "2021-11-09T18:20:20.716Z"
   },
   {
    "duration": 54,
    "start_time": "2021-11-09T18:20:21.396Z"
   },
   {
    "duration": 52,
    "start_time": "2021-11-09T18:20:22.023Z"
   },
   {
    "duration": 63,
    "start_time": "2021-11-09T18:20:22.687Z"
   },
   {
    "duration": 55,
    "start_time": "2021-11-09T18:20:24.264Z"
   },
   {
    "duration": 52,
    "start_time": "2021-11-09T18:20:24.989Z"
   },
   {
    "duration": 55,
    "start_time": "2021-11-09T18:20:27.729Z"
   },
   {
    "duration": 55,
    "start_time": "2021-11-09T18:20:28.587Z"
   },
   {
    "duration": 54,
    "start_time": "2021-11-09T18:20:29.374Z"
   },
   {
    "duration": 82,
    "start_time": "2021-11-09T18:20:32.563Z"
   },
   {
    "duration": 73,
    "start_time": "2021-11-09T18:20:33.451Z"
   },
   {
    "duration": 78,
    "start_time": "2021-11-09T18:20:34.138Z"
   },
   {
    "duration": 9852,
    "start_time": "2021-11-09T18:22:55.773Z"
   },
   {
    "duration": 9566,
    "start_time": "2021-11-09T18:23:29.925Z"
   },
   {
    "duration": 15,
    "start_time": "2021-11-09T18:24:59.328Z"
   },
   {
    "duration": 13,
    "start_time": "2021-11-09T18:25:14.822Z"
   },
   {
    "duration": 15,
    "start_time": "2021-11-09T18:25:17.180Z"
   },
   {
    "duration": 14,
    "start_time": "2021-11-09T18:25:18.027Z"
   },
   {
    "duration": 14,
    "start_time": "2021-11-09T18:25:20.945Z"
   },
   {
    "duration": 12,
    "start_time": "2021-11-09T18:25:21.631Z"
   },
   {
    "duration": 13,
    "start_time": "2021-11-09T18:25:23.545Z"
   },
   {
    "duration": 13,
    "start_time": "2021-11-09T18:25:25.056Z"
   },
   {
    "duration": 16,
    "start_time": "2021-11-09T18:25:25.779Z"
   },
   {
    "duration": 18,
    "start_time": "2021-11-09T18:25:26.257Z"
   },
   {
    "duration": 12,
    "start_time": "2021-11-09T18:25:26.672Z"
   },
   {
    "duration": 14,
    "start_time": "2021-11-09T18:26:00.242Z"
   },
   {
    "duration": 14,
    "start_time": "2021-11-09T18:26:03.313Z"
   },
   {
    "duration": 13,
    "start_time": "2021-11-09T18:26:08.133Z"
   },
   {
    "duration": 140,
    "start_time": "2021-11-09T18:28:35.974Z"
   },
   {
    "duration": 105,
    "start_time": "2021-11-09T18:28:53.253Z"
   },
   {
    "duration": 130,
    "start_time": "2021-11-09T18:29:00.238Z"
   },
   {
    "duration": 125,
    "start_time": "2021-11-09T18:29:05.671Z"
   },
   {
    "duration": 137,
    "start_time": "2021-11-09T18:29:11.168Z"
   },
   {
    "duration": 140,
    "start_time": "2021-11-09T18:29:18.410Z"
   },
   {
    "duration": 103,
    "start_time": "2021-11-09T18:29:25.947Z"
   },
   {
    "duration": 91,
    "start_time": "2021-11-09T18:29:31.563Z"
   },
   {
    "duration": 19,
    "start_time": "2021-11-09T18:29:34.113Z"
   },
   {
    "duration": 84,
    "start_time": "2021-11-09T18:29:40.174Z"
   },
   {
    "duration": 14,
    "start_time": "2021-11-09T18:29:55.501Z"
   },
   {
    "duration": 20,
    "start_time": "2021-11-09T18:29:57.249Z"
   },
   {
    "duration": 94,
    "start_time": "2021-11-09T18:30:07.160Z"
   },
   {
    "duration": 93,
    "start_time": "2021-11-09T18:31:30.680Z"
   },
   {
    "duration": 96,
    "start_time": "2021-11-09T18:31:33.685Z"
   },
   {
    "duration": 91,
    "start_time": "2021-11-09T18:31:35.820Z"
   },
   {
    "duration": 96,
    "start_time": "2021-11-09T18:31:36.981Z"
   },
   {
    "duration": 95,
    "start_time": "2021-11-09T18:31:37.912Z"
   },
   {
    "duration": 90,
    "start_time": "2021-11-09T18:31:38.927Z"
   },
   {
    "duration": 85,
    "start_time": "2021-11-09T18:31:40.344Z"
   },
   {
    "duration": 92,
    "start_time": "2021-11-09T18:31:42.670Z"
   },
   {
    "duration": 89,
    "start_time": "2021-11-09T18:31:45.300Z"
   },
   {
    "duration": 21,
    "start_time": "2021-11-09T18:31:47.020Z"
   },
   {
    "duration": 11,
    "start_time": "2021-11-09T18:31:49.491Z"
   },
   {
    "duration": 86,
    "start_time": "2021-11-09T18:31:53.186Z"
   },
   {
    "duration": 22,
    "start_time": "2021-11-09T18:31:57.860Z"
   },
   {
    "duration": 90,
    "start_time": "2021-11-09T18:32:07.069Z"
   },
   {
    "duration": 13,
    "start_time": "2021-11-09T18:32:15.024Z"
   },
   {
    "duration": 19,
    "start_time": "2021-11-09T18:32:17.165Z"
   },
   {
    "duration": 8606,
    "start_time": "2021-11-09T18:32:59.029Z"
   },
   {
    "duration": 16,
    "start_time": "2021-11-09T18:33:13.725Z"
   },
   {
    "duration": 14,
    "start_time": "2021-11-09T18:33:37.329Z"
   },
   {
    "duration": 14,
    "start_time": "2021-11-09T18:33:50.888Z"
   },
   {
    "duration": 61,
    "start_time": "2021-11-09T18:39:00.446Z"
   },
   {
    "duration": 7319,
    "start_time": "2021-11-09T18:39:31.867Z"
   },
   {
    "duration": 7136,
    "start_time": "2021-11-09T18:39:46.193Z"
   },
   {
    "duration": 15,
    "start_time": "2021-11-09T18:40:08.218Z"
   },
   {
    "duration": 85,
    "start_time": "2021-11-09T18:40:29.230Z"
   },
   {
    "duration": 13,
    "start_time": "2021-11-09T18:40:35.607Z"
   },
   {
    "duration": 263,
    "start_time": "2021-11-09T18:43:12.470Z"
   },
   {
    "duration": 4,
    "start_time": "2021-11-09T18:43:17.741Z"
   },
   {
    "duration": 10,
    "start_time": "2021-11-09T18:43:21.900Z"
   },
   {
    "duration": 16,
    "start_time": "2021-11-09T18:43:29.998Z"
   },
   {
    "duration": 10,
    "start_time": "2021-11-09T18:43:33.851Z"
   },
   {
    "duration": 7,
    "start_time": "2021-11-09T18:49:56.435Z"
   },
   {
    "duration": 8,
    "start_time": "2021-11-09T18:50:00.413Z"
   },
   {
    "duration": 3,
    "start_time": "2021-11-09T19:06:07.217Z"
   },
   {
    "duration": 6,
    "start_time": "2021-11-09T19:07:56.482Z"
   },
   {
    "duration": 3,
    "start_time": "2021-11-09T19:08:00.356Z"
   },
   {
    "duration": 77,
    "start_time": "2021-11-09T19:08:00.361Z"
   },
   {
    "duration": 17,
    "start_time": "2021-11-09T19:08:00.440Z"
   },
   {
    "duration": 24,
    "start_time": "2021-11-09T19:08:00.460Z"
   },
   {
    "duration": 17,
    "start_time": "2021-11-09T19:08:00.487Z"
   },
   {
    "duration": 14,
    "start_time": "2021-11-09T19:08:00.506Z"
   },
   {
    "duration": 23,
    "start_time": "2021-11-09T19:08:00.522Z"
   },
   {
    "duration": 71,
    "start_time": "2021-11-09T19:08:00.547Z"
   },
   {
    "duration": 7776,
    "start_time": "2021-11-09T19:08:00.620Z"
   },
   {
    "duration": 48,
    "start_time": "2021-11-09T19:08:08.398Z"
   },
   {
    "duration": 10,
    "start_time": "2021-11-09T19:08:08.448Z"
   },
   {
    "duration": 24,
    "start_time": "2021-11-09T19:08:08.460Z"
   },
   {
    "duration": 6,
    "start_time": "2021-11-09T19:08:08.485Z"
   },
   {
    "duration": 3,
    "start_time": "2021-11-09T19:10:25.932Z"
   },
   {
    "duration": 67,
    "start_time": "2021-11-09T19:10:25.937Z"
   },
   {
    "duration": 19,
    "start_time": "2021-11-09T19:10:26.006Z"
   },
   {
    "duration": 19,
    "start_time": "2021-11-09T19:10:26.027Z"
   },
   {
    "duration": 12,
    "start_time": "2021-11-09T19:10:26.048Z"
   },
   {
    "duration": 6,
    "start_time": "2021-11-09T19:10:26.062Z"
   },
   {
    "duration": 13,
    "start_time": "2021-11-09T19:10:26.070Z"
   },
   {
    "duration": 91,
    "start_time": "2021-11-09T19:10:26.086Z"
   },
   {
    "duration": 7501,
    "start_time": "2021-11-09T19:10:26.179Z"
   },
   {
    "duration": 15,
    "start_time": "2021-11-09T19:10:33.682Z"
   },
   {
    "duration": 12,
    "start_time": "2021-11-09T19:10:33.699Z"
   },
   {
    "duration": 36,
    "start_time": "2021-11-09T19:10:33.713Z"
   },
   {
    "duration": 12,
    "start_time": "2021-11-09T19:10:33.750Z"
   },
   {
    "duration": 8,
    "start_time": "2021-11-09T19:41:58.503Z"
   },
   {
    "duration": 4,
    "start_time": "2021-11-09T19:42:01.626Z"
   },
   {
    "duration": 70,
    "start_time": "2021-11-09T19:42:01.633Z"
   },
   {
    "duration": 14,
    "start_time": "2021-11-09T19:42:01.705Z"
   },
   {
    "duration": 13,
    "start_time": "2021-11-09T19:42:01.721Z"
   },
   {
    "duration": 20,
    "start_time": "2021-11-09T19:42:01.735Z"
   },
   {
    "duration": 11,
    "start_time": "2021-11-09T19:42:01.758Z"
   },
   {
    "duration": 25,
    "start_time": "2021-11-09T19:42:01.771Z"
   },
   {
    "duration": 75,
    "start_time": "2021-11-09T19:42:01.798Z"
   },
   {
    "duration": 7388,
    "start_time": "2021-11-09T19:42:01.875Z"
   },
   {
    "duration": 20,
    "start_time": "2021-11-09T19:42:09.265Z"
   },
   {
    "duration": 10,
    "start_time": "2021-11-09T19:42:09.287Z"
   },
   {
    "duration": 15,
    "start_time": "2021-11-09T19:42:09.299Z"
   },
   {
    "duration": 32,
    "start_time": "2021-11-09T19:42:09.315Z"
   },
   {
    "duration": 1084,
    "start_time": "2021-11-09T19:42:22.393Z"
   },
   {
    "duration": 59,
    "start_time": "2021-11-09T19:42:23.479Z"
   },
   {
    "duration": 17,
    "start_time": "2021-11-09T19:42:23.544Z"
   },
   {
    "duration": 4,
    "start_time": "2021-11-09T19:42:23.564Z"
   },
   {
    "duration": 9,
    "start_time": "2021-11-09T19:42:23.571Z"
   },
   {
    "duration": 9,
    "start_time": "2021-11-09T19:42:23.582Z"
   },
   {
    "duration": 9,
    "start_time": "2021-11-09T19:42:23.592Z"
   },
   {
    "duration": 395,
    "start_time": "2021-11-09T19:42:23.603Z"
   },
   {
    "duration": -134,
    "start_time": "2021-11-09T19:42:24.134Z"
   },
   {
    "duration": -138,
    "start_time": "2021-11-09T19:42:24.138Z"
   },
   {
    "duration": -140,
    "start_time": "2021-11-09T19:42:24.141Z"
   },
   {
    "duration": -141,
    "start_time": "2021-11-09T19:42:24.143Z"
   },
   {
    "duration": -142,
    "start_time": "2021-11-09T19:42:24.145Z"
   },
   {
    "duration": 4,
    "start_time": "2021-11-09T19:42:38.830Z"
   },
   {
    "duration": 52,
    "start_time": "2021-11-09T19:42:38.836Z"
   },
   {
    "duration": 14,
    "start_time": "2021-11-09T19:42:38.889Z"
   },
   {
    "duration": 11,
    "start_time": "2021-11-09T19:42:38.905Z"
   },
   {
    "duration": 10,
    "start_time": "2021-11-09T19:42:38.918Z"
   },
   {
    "duration": 15,
    "start_time": "2021-11-09T19:42:38.929Z"
   },
   {
    "duration": 19,
    "start_time": "2021-11-09T19:42:38.946Z"
   },
   {
    "duration": 315,
    "start_time": "2021-11-09T19:42:38.968Z"
   },
   {
    "duration": -134,
    "start_time": "2021-11-09T19:42:39.419Z"
   },
   {
    "duration": -135,
    "start_time": "2021-11-09T19:42:39.421Z"
   },
   {
    "duration": -136,
    "start_time": "2021-11-09T19:42:39.423Z"
   },
   {
    "duration": -139,
    "start_time": "2021-11-09T19:42:39.427Z"
   },
   {
    "duration": -141,
    "start_time": "2021-11-09T19:42:39.429Z"
   },
   {
    "duration": 1197,
    "start_time": "2021-11-09T19:42:43.742Z"
   },
   {
    "duration": 59,
    "start_time": "2021-11-09T19:42:44.941Z"
   },
   {
    "duration": 17,
    "start_time": "2021-11-09T19:42:45.002Z"
   },
   {
    "duration": 4,
    "start_time": "2021-11-09T19:42:45.021Z"
   },
   {
    "duration": 23,
    "start_time": "2021-11-09T19:42:45.027Z"
   },
   {
    "duration": 7,
    "start_time": "2021-11-09T19:42:45.053Z"
   },
   {
    "duration": 11,
    "start_time": "2021-11-09T19:42:45.062Z"
   },
   {
    "duration": 448,
    "start_time": "2021-11-09T19:42:45.075Z"
   },
   {
    "duration": -109,
    "start_time": "2021-11-09T19:42:45.634Z"
   },
   {
    "duration": -112,
    "start_time": "2021-11-09T19:42:45.637Z"
   },
   {
    "duration": -123,
    "start_time": "2021-11-09T19:42:45.649Z"
   },
   {
    "duration": -126,
    "start_time": "2021-11-09T19:42:45.653Z"
   },
   {
    "duration": -129,
    "start_time": "2021-11-09T19:42:45.657Z"
   },
   {
    "duration": 1140,
    "start_time": "2021-11-09T19:43:01.764Z"
   },
   {
    "duration": 57,
    "start_time": "2021-11-09T19:43:02.905Z"
   },
   {
    "duration": 16,
    "start_time": "2021-11-09T19:43:02.964Z"
   },
   {
    "duration": 3,
    "start_time": "2021-11-09T19:43:02.982Z"
   },
   {
    "duration": 11,
    "start_time": "2021-11-09T19:43:02.987Z"
   },
   {
    "duration": 6,
    "start_time": "2021-11-09T19:43:03.000Z"
   },
   {
    "duration": 43,
    "start_time": "2021-11-09T19:43:03.008Z"
   },
   {
    "duration": 53,
    "start_time": "2021-11-09T19:43:03.054Z"
   },
   {
    "duration": 7111,
    "start_time": "2021-11-09T19:43:03.109Z"
   },
   {
    "duration": 54,
    "start_time": "2021-11-09T19:43:10.222Z"
   },
   {
    "duration": 9,
    "start_time": "2021-11-09T19:43:10.278Z"
   },
   {
    "duration": 9,
    "start_time": "2021-11-09T19:43:10.289Z"
   },
   {
    "duration": 6,
    "start_time": "2021-11-09T19:43:10.300Z"
   },
   {
    "duration": 35,
    "start_time": "2021-11-09T19:43:30.208Z"
   },
   {
    "duration": 39,
    "start_time": "2021-11-09T19:43:31.310Z"
   },
   {
    "duration": 35,
    "start_time": "2021-11-09T19:43:32.019Z"
   },
   {
    "duration": 36,
    "start_time": "2021-11-09T19:43:32.721Z"
   },
   {
    "duration": 1039,
    "start_time": "2021-11-09T19:43:47.776Z"
   },
   {
    "duration": 56,
    "start_time": "2021-11-09T19:43:48.817Z"
   },
   {
    "duration": 22,
    "start_time": "2021-11-09T19:43:48.875Z"
   },
   {
    "duration": 4,
    "start_time": "2021-11-09T19:43:48.900Z"
   },
   {
    "duration": 14,
    "start_time": "2021-11-09T19:43:48.906Z"
   },
   {
    "duration": 23,
    "start_time": "2021-11-09T19:43:48.922Z"
   },
   {
    "duration": 11,
    "start_time": "2021-11-09T19:43:48.947Z"
   },
   {
    "duration": 53,
    "start_time": "2021-11-09T19:43:48.960Z"
   },
   {
    "duration": 7110,
    "start_time": "2021-11-09T19:43:49.015Z"
   },
   {
    "duration": 45,
    "start_time": "2021-11-09T19:43:56.126Z"
   },
   {
    "duration": 9,
    "start_time": "2021-11-09T19:43:56.172Z"
   },
   {
    "duration": 9,
    "start_time": "2021-11-09T19:43:56.182Z"
   },
   {
    "duration": 4,
    "start_time": "2021-11-09T19:43:56.193Z"
   },
   {
    "duration": 56,
    "start_time": "2021-11-09T22:28:27.695Z"
   },
   {
    "duration": 1085,
    "start_time": "2021-11-09T22:29:55.093Z"
   },
   {
    "duration": 58,
    "start_time": "2021-11-09T22:29:56.180Z"
   },
   {
    "duration": 18,
    "start_time": "2021-11-09T22:29:56.240Z"
   },
   {
    "duration": 3,
    "start_time": "2021-11-09T22:29:56.260Z"
   },
   {
    "duration": 9,
    "start_time": "2021-11-09T22:29:56.265Z"
   },
   {
    "duration": 6,
    "start_time": "2021-11-09T22:29:56.276Z"
   },
   {
    "duration": 11,
    "start_time": "2021-11-09T22:29:56.284Z"
   },
   {
    "duration": 100,
    "start_time": "2021-11-09T22:29:56.297Z"
   },
   {
    "duration": 7479,
    "start_time": "2021-11-09T22:29:56.400Z"
   },
   {
    "duration": 33,
    "start_time": "2021-11-09T22:30:03.880Z"
   },
   {
    "duration": 34,
    "start_time": "2021-11-09T22:30:03.915Z"
   },
   {
    "duration": 12,
    "start_time": "2021-11-09T22:30:03.951Z"
   },
   {
    "duration": 5,
    "start_time": "2021-11-09T22:30:03.965Z"
   },
   {
    "duration": 1202,
    "start_time": "2021-11-09T22:30:16.528Z"
   },
   {
    "duration": 61,
    "start_time": "2021-11-09T22:30:17.732Z"
   },
   {
    "duration": 18,
    "start_time": "2021-11-09T22:30:17.796Z"
   },
   {
    "duration": 28,
    "start_time": "2021-11-09T22:30:17.816Z"
   },
   {
    "duration": 7,
    "start_time": "2021-11-09T22:30:17.846Z"
   },
   {
    "duration": 6,
    "start_time": "2021-11-09T22:30:17.854Z"
   },
   {
    "duration": 13,
    "start_time": "2021-11-09T22:30:17.862Z"
   },
   {
    "duration": 88,
    "start_time": "2021-11-09T22:30:17.878Z"
   },
   {
    "duration": 7419,
    "start_time": "2021-11-09T22:30:17.968Z"
   },
   {
    "duration": 33,
    "start_time": "2021-11-09T22:30:25.388Z"
   },
   {
    "duration": 29,
    "start_time": "2021-11-09T22:30:25.423Z"
   },
   {
    "duration": 12,
    "start_time": "2021-11-09T22:30:25.454Z"
   },
   {
    "duration": 9,
    "start_time": "2021-11-09T22:30:25.468Z"
   }
  ],
  "kernelspec": {
   "display_name": "Python 3",
   "language": "python",
   "name": "python3"
  },
  "language_info": {
   "codemirror_mode": {
    "name": "ipython",
    "version": 3
   },
   "file_extension": ".py",
   "mimetype": "text/x-python",
   "name": "python",
   "nbconvert_exporter": "python",
   "pygments_lexer": "ipython3",
   "version": "3.8.5"
  },
  "toc": {
   "base_numbering": 1,
   "nav_menu": {},
   "number_sections": true,
   "sideBar": true,
   "skip_h1_title": false,
   "title_cell": "Содержание",
   "title_sidebar": "Contents",
   "toc_cell": true,
   "toc_position": {},
   "toc_section_display": true,
   "toc_window_display": false
  }
 },
 "nbformat": 4,
 "nbformat_minor": 2
}
