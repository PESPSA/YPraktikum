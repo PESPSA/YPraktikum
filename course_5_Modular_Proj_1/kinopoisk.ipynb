{
 "cells": [
  {
   "cell_type": "markdown",
   "metadata": {
    "toc": true
   },
   "source": [
    "<h1>Содержание<span class=\"tocSkip\"></span></h1>\n",
    "<div class=\"toc\"><ul class=\"toc-item\"><li><span><a href=\"#Исследование-данных-о-российском-кинопрокате\" data-toc-modified-id=\"Исследование-данных-о-российском-кинопрокате-1\"><span class=\"toc-item-num\">1&nbsp;&nbsp;</span>Исследование данных о российском кинопрокате</a></span></li><li><span><a href=\"#Описание-проекта\" data-toc-modified-id=\"Описание-проекта-2\"><span class=\"toc-item-num\">2&nbsp;&nbsp;</span>Описание проекта</a></span></li><li><span><a href=\"#План-работы\" data-toc-modified-id=\"План-работы-3\"><span class=\"toc-item-num\">3&nbsp;&nbsp;</span>План работы</a></span></li><li><span><a href=\"#Результат-работы\" data-toc-modified-id=\"Результат-работы-4\"><span class=\"toc-item-num\">4&nbsp;&nbsp;</span>Результат работы</a></span></li><li><span><a href=\"#Открытие-и-подгтовка-данных\" data-toc-modified-id=\"Открытие-и-подгтовка-данных-5\"><span class=\"toc-item-num\">5&nbsp;&nbsp;</span>Открытие и подгтовка данных</a></span><ul class=\"toc-item\"><li><span><a href=\"#Вывод\" data-toc-modified-id=\"Вывод-5.1\"><span class=\"toc-item-num\">5.1&nbsp;&nbsp;</span>Вывод</a></span></li></ul></li><li><span><a href=\"#Предобработка-данных\" data-toc-modified-id=\"Предобработка-данных-6\"><span class=\"toc-item-num\">6&nbsp;&nbsp;</span>Предобработка данных</a></span><ul class=\"toc-item\"><li><span><a href=\"#Проверка-и-замена-типов-данных\" data-toc-modified-id=\"Проверка-и-замена-типов-данных-6.1\"><span class=\"toc-item-num\">6.1&nbsp;&nbsp;</span>Проверка и замена типов данных</a></span><ul class=\"toc-item\"><li><span><a href=\"#Вывод\" data-toc-modified-id=\"Вывод-6.1.1\"><span class=\"toc-item-num\">6.1.1&nbsp;&nbsp;</span>Вывод</a></span></li></ul></li><li><span><a href=\"#Изучение-и-заполнение-пропусков-в-датафрейме\" data-toc-modified-id=\"Изучение-и-заполнение-пропусков-в-датафрейме-6.2\"><span class=\"toc-item-num\">6.2&nbsp;&nbsp;</span>Изучение и заполнение пропусков в датафрейме</a></span><ul class=\"toc-item\"><li><span><a href=\"#Вывод\" data-toc-modified-id=\"Вывод-6.2.1\"><span class=\"toc-item-num\">6.2.1&nbsp;&nbsp;</span>Вывод</a></span></li></ul></li><li><span><a href=\"#Изучение-дубликатов-в-датафрейме\" data-toc-modified-id=\"Изучение-дубликатов-в-датафрейме-6.3\"><span class=\"toc-item-num\">6.3&nbsp;&nbsp;</span>Изучение дубликатов в датафрейме</a></span><ul class=\"toc-item\"><li><span><a href=\"#Вывод\" data-toc-modified-id=\"Вывод-6.3.1\"><span class=\"toc-item-num\">6.3.1&nbsp;&nbsp;</span>Вывод</a></span></li></ul></li><li><span><a href=\"#Изучение-категориальных-значений\" data-toc-modified-id=\"Изучение-категориальных-значений-6.4\"><span class=\"toc-item-num\">6.4&nbsp;&nbsp;</span>Изучение категориальных значений</a></span><ul class=\"toc-item\"><li><span><a href=\"#Вывод\" data-toc-modified-id=\"Вывод-6.4.1\"><span class=\"toc-item-num\">6.4.1&nbsp;&nbsp;</span>Вывод</a></span></li></ul></li><li><span><a href=\"#Проверка-количественных-значений\" data-toc-modified-id=\"Проверка-количественных-значений-6.5\"><span class=\"toc-item-num\">6.5&nbsp;&nbsp;</span>Проверка количественных значений</a></span><ul class=\"toc-item\"><li><span><a href=\"#Вывод\" data-toc-modified-id=\"Вывод-6.5.1\"><span class=\"toc-item-num\">6.5.1&nbsp;&nbsp;</span>Вывод</a></span></li></ul></li><li><span><a href=\"#Добавление-новых-столбцов\" data-toc-modified-id=\"Добавление-новых-столбцов-6.6\"><span class=\"toc-item-num\">6.6&nbsp;&nbsp;</span>Добавление новых столбцов</a></span><ul class=\"toc-item\"><li><span><a href=\"#Вывод\" data-toc-modified-id=\"Вывод-6.6.1\"><span class=\"toc-item-num\">6.6.1&nbsp;&nbsp;</span>Вывод</a></span></li></ul></li></ul></li><li><span><a href=\"#Исследовательский-анализ-данных\" data-toc-modified-id=\"Исследовательский-анализ-данных-7\"><span class=\"toc-item-num\">7&nbsp;&nbsp;</span>Исследовательский анализ данных</a></span><ul class=\"toc-item\"><li><span><a href=\"#Вывод\" data-toc-modified-id=\"Вывод-7.1\"><span class=\"toc-item-num\">7.1&nbsp;&nbsp;</span>Вывод</a></span></li></ul></li><li><span><a href=\"#Исследование-фильмов,-которые-получили-государственную-поддержку\" data-toc-modified-id=\"Исследование-фильмов,-которые-получили-государственную-поддержку-8\"><span class=\"toc-item-num\">8&nbsp;&nbsp;</span>Исследование фильмов, которые получили государственную поддержку</a></span><ul class=\"toc-item\"><li><span><a href=\"#Вывод\" data-toc-modified-id=\"Вывод-8.1\"><span class=\"toc-item-num\">8.1&nbsp;&nbsp;</span>Вывод</a></span></li></ul></li><li><span><a href=\"#Общий-вывод\" data-toc-modified-id=\"Общий-вывод-9\"><span class=\"toc-item-num\">9&nbsp;&nbsp;</span>Общий вывод</a></span></li></ul></div>"
   ]
  },
  {
   "cell_type": "markdown",
   "metadata": {
    "id": "sIfNaMOxgFyK"
   },
   "source": [
    "## Исследование данных о российском кинопрокате\n",
    "\n",
    "## Описание проекта\n",
    "\n",
    "Анализ и исследование данных, опубликованных на портале открытых данных Министерства культуры. Набор данных содержит информацию о прокатных удостоверениях, сборах и государственной поддержке фильмов, а также информацию с сайта КиноПоиск.\n",
    "\n",
    "## План работы\n",
    "Для достижения желаемого результата требуется открыть два файла с данными и изучить информацию в них, после чего обьеденить их для более удобной работы, далее провести работу над предобработкой данных и добавить вспомогательные столбцы, и наконец провести исследовательский анализ, а именно:\n",
    "- Посмотреть, сколько фильмов выходило в прокат каждый год. Учесть,что данные о прокате в кинотеатрах известны не для всех фильмов. Посчитать, какую долю составляют фильмы с указанной информацией о прокате в кинотеатрах.\n",
    "- Изучить, как менялась динамика проката по годам. Ввыяснить в каком году сумма сборов была минимальной? А в каком максимальной?\n",
    "- С помощью сводной таблицы посчитать среднюю и медианную сумму сборов для каждого года.\n",
    "- Определить, влияет ли возрастное ограничение аудитории («6+», «12+», «16+», «18+» и т. д.) на сборы фильма в прокате в период с 2015 по 2019 год? Выяснить, фильмы с каким возрастным ограничением собрали больше всего денег в прокате? Менялась ли картина в зависимости от года? Выяснить с чем может быть связано изменение.\n",
    "\n",
    "## Результат работы\n",
    "Результатом работы является итог, подведенный в ходе исследовательского анализа, а также подробная выкладка по нему."
   ]
  },
  {
   "cell_type": "markdown",
   "metadata": {
    "id": "3bSlkCsbgFyL"
   },
   "source": [
    "## Открытие и подгтовка данных"
   ]
  },
  {
   "cell_type": "code",
   "execution_count": 1,
   "metadata": {},
   "outputs": [],
   "source": [
    "#импортируем необходимые библиотеки\n",
    "import pandas as pd\n",
    "import seaborn as sns"
   ]
  },
  {
   "cell_type": "code",
   "execution_count": 171,
   "metadata": {
    "id": "dw87FlzMgFyM",
    "scrolled": true
   },
   "outputs": [
    {
     "data": {
      "text/html": [
       "<div>\n",
       "<style scoped>\n",
       "    .dataframe tbody tr th:only-of-type {\n",
       "        vertical-align: middle;\n",
       "    }\n",
       "\n",
       "    .dataframe tbody tr th {\n",
       "        vertical-align: top;\n",
       "    }\n",
       "\n",
       "    .dataframe thead th {\n",
       "        text-align: right;\n",
       "    }\n",
       "</style>\n",
       "<table border=\"1\" class=\"dataframe\">\n",
       "  <thead>\n",
       "    <tr style=\"text-align: right;\">\n",
       "      <th></th>\n",
       "      <th>title</th>\n",
       "      <th>puNumber</th>\n",
       "      <th>show_start_date</th>\n",
       "      <th>type</th>\n",
       "      <th>film_studio</th>\n",
       "      <th>production_country</th>\n",
       "      <th>director</th>\n",
       "      <th>producer</th>\n",
       "      <th>age_restriction</th>\n",
       "      <th>refundable_support</th>\n",
       "      <th>nonrefundable_support</th>\n",
       "      <th>budget</th>\n",
       "      <th>financing_source</th>\n",
       "      <th>ratings</th>\n",
       "      <th>genres</th>\n",
       "    </tr>\n",
       "  </thead>\n",
       "  <tbody>\n",
       "    <tr>\n",
       "      <td>0</td>\n",
       "      <td>Открытый простор</td>\n",
       "      <td>221048915</td>\n",
       "      <td>2015-11-27T12:00:00.000Z</td>\n",
       "      <td>Художественный</td>\n",
       "      <td>Тачстоун Пикчерз, Кобальт Пикчерз, Бикон Пикче...</td>\n",
       "      <td>США</td>\n",
       "      <td>Кевин Костнер</td>\n",
       "      <td>Дэвид Валдес, Кевин Костнер, Джейк Эбертс</td>\n",
       "      <td>«18+» - запрещено для детей</td>\n",
       "      <td>NaN</td>\n",
       "      <td>NaN</td>\n",
       "      <td>NaN</td>\n",
       "      <td>NaN</td>\n",
       "      <td>7.2</td>\n",
       "      <td>боевик,драма,мелодрама</td>\n",
       "    </tr>\n",
       "    <tr>\n",
       "      <td>1</td>\n",
       "      <td>Особо важное задание</td>\n",
       "      <td>111013716</td>\n",
       "      <td>2016-09-13T12:00:00.000Z</td>\n",
       "      <td>Художественный</td>\n",
       "      <td>Киностудия \"Мосфильм\"</td>\n",
       "      <td>СССР</td>\n",
       "      <td>Е.Матвеев</td>\n",
       "      <td>NaN</td>\n",
       "      <td>«6+» - для детей старше 6 лет</td>\n",
       "      <td>NaN</td>\n",
       "      <td>NaN</td>\n",
       "      <td>NaN</td>\n",
       "      <td>NaN</td>\n",
       "      <td>6.6</td>\n",
       "      <td>драма,военный</td>\n",
       "    </tr>\n",
       "    <tr>\n",
       "      <td>2</td>\n",
       "      <td>Особо опасен</td>\n",
       "      <td>221038416</td>\n",
       "      <td>2016-10-10T12:00:00.000Z</td>\n",
       "      <td>Художественный</td>\n",
       "      <td>Юниверсал Пикчерз, Кикстарт Продакшнз, Марк Пл...</td>\n",
       "      <td>США</td>\n",
       "      <td>Тимур Бекмамбетов</td>\n",
       "      <td>Джим Лемли, Джейсон Нетер, Марк Е.Платт, Яйн Смит</td>\n",
       "      <td>«18+» - запрещено для детей</td>\n",
       "      <td>NaN</td>\n",
       "      <td>NaN</td>\n",
       "      <td>NaN</td>\n",
       "      <td>NaN</td>\n",
       "      <td>6.8</td>\n",
       "      <td>фантастика,боевик,триллер</td>\n",
       "    </tr>\n",
       "    <tr>\n",
       "      <td>3</td>\n",
       "      <td>Особо опасен</td>\n",
       "      <td>221026916</td>\n",
       "      <td>2016-06-10T12:00:00.000Z</td>\n",
       "      <td>Художественный</td>\n",
       "      <td>Юниверсал Пикчерз, Кикстарт Продакшнз, Марк Пл...</td>\n",
       "      <td>США</td>\n",
       "      <td>Тимур Бекмамбетов</td>\n",
       "      <td>Джим Лемли, Джейсон Нетер, Марк Е.Платт, Яйн Смит</td>\n",
       "      <td>«18+» - запрещено для детей</td>\n",
       "      <td>NaN</td>\n",
       "      <td>NaN</td>\n",
       "      <td>NaN</td>\n",
       "      <td>NaN</td>\n",
       "      <td>6.8</td>\n",
       "      <td>фантастика,боевик,триллер</td>\n",
       "    </tr>\n",
       "    <tr>\n",
       "      <td>4</td>\n",
       "      <td>Особо опасен</td>\n",
       "      <td>221030815</td>\n",
       "      <td>2015-07-29T12:00:00.000Z</td>\n",
       "      <td>Художественный</td>\n",
       "      <td>Юниверсал Пикчерз, Кикстарт Продакшнз, Марк Пл...</td>\n",
       "      <td>США</td>\n",
       "      <td>Тимур Бекмамбетов</td>\n",
       "      <td>Джим Лемли, Джейсон Нетер, Марк Е.Платт, Яйн Смит</td>\n",
       "      <td>«18+» - запрещено для детей</td>\n",
       "      <td>NaN</td>\n",
       "      <td>NaN</td>\n",
       "      <td>NaN</td>\n",
       "      <td>NaN</td>\n",
       "      <td>6.8</td>\n",
       "      <td>фантастика,боевик,триллер</td>\n",
       "    </tr>\n",
       "  </tbody>\n",
       "</table>\n",
       "</div>"
      ],
      "text/plain": [
       "                  title   puNumber           show_start_date            type  \\\n",
       "0      Открытый простор  221048915  2015-11-27T12:00:00.000Z  Художественный   \n",
       "1  Особо важное задание  111013716  2016-09-13T12:00:00.000Z  Художественный   \n",
       "2          Особо опасен  221038416  2016-10-10T12:00:00.000Z  Художественный   \n",
       "3          Особо опасен  221026916  2016-06-10T12:00:00.000Z  Художественный   \n",
       "4          Особо опасен  221030815  2015-07-29T12:00:00.000Z  Художественный   \n",
       "\n",
       "                                         film_studio production_country  \\\n",
       "0  Тачстоун Пикчерз, Кобальт Пикчерз, Бикон Пикче...                США   \n",
       "1                              Киностудия \"Мосфильм\"               СССР   \n",
       "2  Юниверсал Пикчерз, Кикстарт Продакшнз, Марк Пл...                США   \n",
       "3  Юниверсал Пикчерз, Кикстарт Продакшнз, Марк Пл...                США   \n",
       "4  Юниверсал Пикчерз, Кикстарт Продакшнз, Марк Пл...                США   \n",
       "\n",
       "            director                                           producer  \\\n",
       "0      Кевин Костнер          Дэвид Валдес, Кевин Костнер, Джейк Эбертс   \n",
       "1          Е.Матвеев                                                NaN   \n",
       "2  Тимур Бекмамбетов  Джим Лемли, Джейсон Нетер, Марк Е.Платт, Яйн Смит   \n",
       "3  Тимур Бекмамбетов  Джим Лемли, Джейсон Нетер, Марк Е.Платт, Яйн Смит   \n",
       "4  Тимур Бекмамбетов  Джим Лемли, Джейсон Нетер, Марк Е.Платт, Яйн Смит   \n",
       "\n",
       "                 age_restriction  refundable_support  nonrefundable_support  \\\n",
       "0    «18+» - запрещено для детей                 NaN                    NaN   \n",
       "1  «6+» - для детей старше 6 лет                 NaN                    NaN   \n",
       "2    «18+» - запрещено для детей                 NaN                    NaN   \n",
       "3    «18+» - запрещено для детей                 NaN                    NaN   \n",
       "4    «18+» - запрещено для детей                 NaN                    NaN   \n",
       "\n",
       "   budget financing_source ratings                     genres  \n",
       "0     NaN              NaN     7.2     боевик,драма,мелодрама  \n",
       "1     NaN              NaN     6.6              драма,военный  \n",
       "2     NaN              NaN     6.8  фантастика,боевик,триллер  \n",
       "3     NaN              NaN     6.8  фантастика,боевик,триллер  \n",
       "4     NaN              NaN     6.8  фантастика,боевик,триллер  "
      ]
     },
     "metadata": {},
     "output_type": "display_data"
    },
    {
     "data": {
      "text/html": [
       "<div>\n",
       "<style scoped>\n",
       "    .dataframe tbody tr th:only-of-type {\n",
       "        vertical-align: middle;\n",
       "    }\n",
       "\n",
       "    .dataframe tbody tr th {\n",
       "        vertical-align: top;\n",
       "    }\n",
       "\n",
       "    .dataframe thead th {\n",
       "        text-align: right;\n",
       "    }\n",
       "</style>\n",
       "<table border=\"1\" class=\"dataframe\">\n",
       "  <thead>\n",
       "    <tr style=\"text-align: right;\">\n",
       "      <th></th>\n",
       "      <th>puNumber</th>\n",
       "      <th>box_office</th>\n",
       "    </tr>\n",
       "  </thead>\n",
       "  <tbody>\n",
       "    <tr>\n",
       "      <td>0</td>\n",
       "      <td>111000113</td>\n",
       "      <td>2.450000e+03</td>\n",
       "    </tr>\n",
       "    <tr>\n",
       "      <td>1</td>\n",
       "      <td>111000115</td>\n",
       "      <td>6.104000e+04</td>\n",
       "    </tr>\n",
       "    <tr>\n",
       "      <td>2</td>\n",
       "      <td>111000116</td>\n",
       "      <td>1.530300e+08</td>\n",
       "    </tr>\n",
       "    <tr>\n",
       "      <td>3</td>\n",
       "      <td>111000117</td>\n",
       "      <td>1.226096e+07</td>\n",
       "    </tr>\n",
       "    <tr>\n",
       "      <td>4</td>\n",
       "      <td>111000118</td>\n",
       "      <td>1.636841e+08</td>\n",
       "    </tr>\n",
       "  </tbody>\n",
       "</table>\n",
       "</div>"
      ],
      "text/plain": [
       "    puNumber    box_office\n",
       "0  111000113  2.450000e+03\n",
       "1  111000115  6.104000e+04\n",
       "2  111000116  1.530300e+08\n",
       "3  111000117  1.226096e+07\n",
       "4  111000118  1.636841e+08"
      ]
     },
     "metadata": {},
     "output_type": "display_data"
    },
    {
     "name": "stdout",
     "output_type": "stream",
     "text": [
      "<class 'pandas.core.frame.DataFrame'>\n",
      "RangeIndex: 7486 entries, 0 to 7485\n",
      "Data columns (total 15 columns):\n",
      "title                    7486 non-null object\n",
      "puNumber                 7486 non-null object\n",
      "show_start_date          7486 non-null object\n",
      "type                     7486 non-null object\n",
      "film_studio              7468 non-null object\n",
      "production_country       7484 non-null object\n",
      "director                 7477 non-null object\n",
      "producer                 6918 non-null object\n",
      "age_restriction          7486 non-null object\n",
      "refundable_support       332 non-null float64\n",
      "nonrefundable_support    332 non-null float64\n",
      "budget                   332 non-null float64\n",
      "financing_source         332 non-null object\n",
      "ratings                  6519 non-null object\n",
      "genres                   6510 non-null object\n",
      "dtypes: float64(3), object(12)\n",
      "memory usage: 877.4+ KB\n"
     ]
    },
    {
     "data": {
      "text/plain": [
       "None"
      ]
     },
     "metadata": {},
     "output_type": "display_data"
    },
    {
     "name": "stdout",
     "output_type": "stream",
     "text": [
      "<class 'pandas.core.frame.DataFrame'>\n",
      "RangeIndex: 3158 entries, 0 to 3157\n",
      "Data columns (total 2 columns):\n",
      "puNumber      3158 non-null int64\n",
      "box_office    3158 non-null float64\n",
      "dtypes: float64(1), int64(1)\n",
      "memory usage: 49.5 KB\n"
     ]
    },
    {
     "data": {
      "text/plain": [
       "None"
      ]
     },
     "metadata": {},
     "output_type": "display_data"
    },
    {
     "data": {
      "text/html": [
       "<div>\n",
       "<style scoped>\n",
       "    .dataframe tbody tr th:only-of-type {\n",
       "        vertical-align: middle;\n",
       "    }\n",
       "\n",
       "    .dataframe tbody tr th {\n",
       "        vertical-align: top;\n",
       "    }\n",
       "\n",
       "    .dataframe thead th {\n",
       "        text-align: right;\n",
       "    }\n",
       "</style>\n",
       "<table border=\"1\" class=\"dataframe\">\n",
       "  <thead>\n",
       "    <tr style=\"text-align: right;\">\n",
       "      <th></th>\n",
       "      <th>refundable_support</th>\n",
       "      <th>nonrefundable_support</th>\n",
       "      <th>budget</th>\n",
       "    </tr>\n",
       "  </thead>\n",
       "  <tbody>\n",
       "    <tr>\n",
       "      <td>count</td>\n",
       "      <td>3.320000e+02</td>\n",
       "      <td>3.320000e+02</td>\n",
       "      <td>3.320000e+02</td>\n",
       "    </tr>\n",
       "    <tr>\n",
       "      <td>mean</td>\n",
       "      <td>1.186446e+07</td>\n",
       "      <td>4.898099e+07</td>\n",
       "      <td>1.272297e+08</td>\n",
       "    </tr>\n",
       "    <tr>\n",
       "      <td>std</td>\n",
       "      <td>2.491656e+07</td>\n",
       "      <td>5.998012e+07</td>\n",
       "      <td>1.885883e+08</td>\n",
       "    </tr>\n",
       "    <tr>\n",
       "      <td>min</td>\n",
       "      <td>0.000000e+00</td>\n",
       "      <td>0.000000e+00</td>\n",
       "      <td>0.000000e+00</td>\n",
       "    </tr>\n",
       "    <tr>\n",
       "      <td>25%</td>\n",
       "      <td>0.000000e+00</td>\n",
       "      <td>2.500000e+07</td>\n",
       "      <td>4.200000e+07</td>\n",
       "    </tr>\n",
       "    <tr>\n",
       "      <td>50%</td>\n",
       "      <td>0.000000e+00</td>\n",
       "      <td>3.000000e+07</td>\n",
       "      <td>6.864992e+07</td>\n",
       "    </tr>\n",
       "    <tr>\n",
       "      <td>75%</td>\n",
       "      <td>1.500000e+07</td>\n",
       "      <td>4.037500e+07</td>\n",
       "      <td>1.419853e+08</td>\n",
       "    </tr>\n",
       "    <tr>\n",
       "      <td>max</td>\n",
       "      <td>1.800000e+08</td>\n",
       "      <td>4.000000e+08</td>\n",
       "      <td>2.305074e+09</td>\n",
       "    </tr>\n",
       "  </tbody>\n",
       "</table>\n",
       "</div>"
      ],
      "text/plain": [
       "       refundable_support  nonrefundable_support        budget\n",
       "count        3.320000e+02           3.320000e+02  3.320000e+02\n",
       "mean         1.186446e+07           4.898099e+07  1.272297e+08\n",
       "std          2.491656e+07           5.998012e+07  1.885883e+08\n",
       "min          0.000000e+00           0.000000e+00  0.000000e+00\n",
       "25%          0.000000e+00           2.500000e+07  4.200000e+07\n",
       "50%          0.000000e+00           3.000000e+07  6.864992e+07\n",
       "75%          1.500000e+07           4.037500e+07  1.419853e+08\n",
       "max          1.800000e+08           4.000000e+08  2.305074e+09"
      ]
     },
     "execution_count": 171,
     "metadata": {},
     "output_type": "execute_result"
    }
   ],
   "source": [
    "#откроем файлы и изучим данные\n",
    "movies_df = pd.read_csv('/datasets/mkrf_movies.csv')\n",
    "shows_df = pd.read_csv('/datasets/mkrf_shows.csv')\n",
    "display(movies_df.head())\n",
    "display(shows_df.head())\n",
    "display(movies_df.info())\n",
    "display(shows_df.info())\n",
    "movies_df.describe()"
   ]
  },
  {
   "cell_type": "code",
   "execution_count": null,
   "metadata": {},
   "outputs": [],
   "source": [
    "#Выявим причину почему столбец типа object поискав строки не являющиеся числами\n",
    "display(movies_df[pd.to_numeric(movies_df['puNumber'], errors='coerce').isna()])\n",
    "#избавимя от строки с фильмом не имеющим прокатное удостоверение\n",
    "movies_df = movies_df.query('puNumber != \"нет\"')\n",
    "#преобразуем puNumber к типу int в таблице movies_df\n",
    "movies_df['puNumber'] = pd.to_numeric(movies_df['puNumber'], errors='raise')\n",
    "movies_df.info()"
   ]
  },
  {
   "cell_type": "code",
   "execution_count": null,
   "metadata": {},
   "outputs": [],
   "source": [
    "#обьеденим таблицы\n",
    "movies_df = movies_df.join(shows_df.set_index('puNumber'), on='puNumber', how='left', lsuffix='_movies')\n",
    "#удалим дублирующий столбец puNumber\n",
    "movies_df = movies_df.drop(['puNumber'], axis=1)"
   ]
  },
  {
   "cell_type": "code",
   "execution_count": 172,
   "metadata": {},
   "outputs": [
    {
     "name": "stdout",
     "output_type": "stream",
     "text": [
      "(7486, 16)\n"
     ]
    },
    {
     "data": {
      "text/html": [
       "<div>\n",
       "<style scoped>\n",
       "    .dataframe tbody tr th:only-of-type {\n",
       "        vertical-align: middle;\n",
       "    }\n",
       "\n",
       "    .dataframe tbody tr th {\n",
       "        vertical-align: top;\n",
       "    }\n",
       "\n",
       "    .dataframe thead th {\n",
       "        text-align: right;\n",
       "    }\n",
       "</style>\n",
       "<table border=\"1\" class=\"dataframe\">\n",
       "  <thead>\n",
       "    <tr style=\"text-align: right;\">\n",
       "      <th></th>\n",
       "      <th>title</th>\n",
       "      <th>puNumber</th>\n",
       "      <th>show_start_date</th>\n",
       "      <th>type</th>\n",
       "      <th>film_studio</th>\n",
       "      <th>production_country</th>\n",
       "      <th>director</th>\n",
       "      <th>producer</th>\n",
       "      <th>age_restriction</th>\n",
       "      <th>refundable_support</th>\n",
       "      <th>nonrefundable_support</th>\n",
       "      <th>budget</th>\n",
       "      <th>financing_source</th>\n",
       "      <th>ratings</th>\n",
       "      <th>genres</th>\n",
       "      <th>box_office</th>\n",
       "    </tr>\n",
       "  </thead>\n",
       "  <tbody>\n",
       "    <tr>\n",
       "      <td>0</td>\n",
       "      <td>Открытый простор</td>\n",
       "      <td>221048915</td>\n",
       "      <td>2015-11-27T12:00:00.000Z</td>\n",
       "      <td>Художественный</td>\n",
       "      <td>Тачстоун Пикчерз, Кобальт Пикчерз, Бикон Пикче...</td>\n",
       "      <td>США</td>\n",
       "      <td>Кевин Костнер</td>\n",
       "      <td>Дэвид Валдес, Кевин Костнер, Джейк Эбертс</td>\n",
       "      <td>«18+» - запрещено для детей</td>\n",
       "      <td>NaN</td>\n",
       "      <td>NaN</td>\n",
       "      <td>NaN</td>\n",
       "      <td>NaN</td>\n",
       "      <td>7.2</td>\n",
       "      <td>боевик,драма,мелодрама</td>\n",
       "      <td>NaN</td>\n",
       "    </tr>\n",
       "    <tr>\n",
       "      <td>1</td>\n",
       "      <td>Особо важное задание</td>\n",
       "      <td>111013716</td>\n",
       "      <td>2016-09-13T12:00:00.000Z</td>\n",
       "      <td>Художественный</td>\n",
       "      <td>Киностудия \"Мосфильм\"</td>\n",
       "      <td>СССР</td>\n",
       "      <td>Е.Матвеев</td>\n",
       "      <td>NaN</td>\n",
       "      <td>«6+» - для детей старше 6 лет</td>\n",
       "      <td>NaN</td>\n",
       "      <td>NaN</td>\n",
       "      <td>NaN</td>\n",
       "      <td>NaN</td>\n",
       "      <td>6.6</td>\n",
       "      <td>драма,военный</td>\n",
       "      <td>NaN</td>\n",
       "    </tr>\n",
       "    <tr>\n",
       "      <td>2</td>\n",
       "      <td>Особо опасен</td>\n",
       "      <td>221038416</td>\n",
       "      <td>2016-10-10T12:00:00.000Z</td>\n",
       "      <td>Художественный</td>\n",
       "      <td>Юниверсал Пикчерз, Кикстарт Продакшнз, Марк Пл...</td>\n",
       "      <td>США</td>\n",
       "      <td>Тимур Бекмамбетов</td>\n",
       "      <td>Джим Лемли, Джейсон Нетер, Марк Е.Платт, Яйн Смит</td>\n",
       "      <td>«18+» - запрещено для детей</td>\n",
       "      <td>NaN</td>\n",
       "      <td>NaN</td>\n",
       "      <td>NaN</td>\n",
       "      <td>NaN</td>\n",
       "      <td>6.8</td>\n",
       "      <td>фантастика,боевик,триллер</td>\n",
       "      <td>NaN</td>\n",
       "    </tr>\n",
       "  </tbody>\n",
       "</table>\n",
       "</div>"
      ],
      "text/plain": [
       "                  title   puNumber           show_start_date            type  \\\n",
       "0      Открытый простор  221048915  2015-11-27T12:00:00.000Z  Художественный   \n",
       "1  Особо важное задание  111013716  2016-09-13T12:00:00.000Z  Художественный   \n",
       "2          Особо опасен  221038416  2016-10-10T12:00:00.000Z  Художественный   \n",
       "\n",
       "                                         film_studio production_country  \\\n",
       "0  Тачстоун Пикчерз, Кобальт Пикчерз, Бикон Пикче...                США   \n",
       "1                              Киностудия \"Мосфильм\"               СССР   \n",
       "2  Юниверсал Пикчерз, Кикстарт Продакшнз, Марк Пл...                США   \n",
       "\n",
       "            director                                           producer  \\\n",
       "0      Кевин Костнер          Дэвид Валдес, Кевин Костнер, Джейк Эбертс   \n",
       "1          Е.Матвеев                                                NaN   \n",
       "2  Тимур Бекмамбетов  Джим Лемли, Джейсон Нетер, Марк Е.Платт, Яйн Смит   \n",
       "\n",
       "                 age_restriction  refundable_support  nonrefundable_support  \\\n",
       "0    «18+» - запрещено для детей                 NaN                    NaN   \n",
       "1  «6+» - для детей старше 6 лет                 NaN                    NaN   \n",
       "2    «18+» - запрещено для детей                 NaN                    NaN   \n",
       "\n",
       "   budget financing_source ratings                     genres  box_office  \n",
       "0     NaN              NaN     7.2     боевик,драма,мелодрама         NaN  \n",
       "1     NaN              NaN     6.6              драма,военный         NaN  \n",
       "2     NaN              NaN     6.8  фантастика,боевик,триллер         NaN  "
      ]
     },
     "execution_count": 172,
     "metadata": {},
     "output_type": "execute_result"
    }
   ],
   "source": [
    "# КОД РЕВЬЮВЕРА\n",
    "\n",
    "shows_df['puNumber'] = shows_df['puNumber'].astype('str') # переводим в std тип\n",
    "\n",
    "# теперь типы у ключей одинаковые, так что можно объединить без труда\n",
    "\n",
    "movies_df = movies_df.merge(shows_df, how='left', on='puNumber')\n",
    "print(movies_df.shape)\n",
    "movies_df.head(3)"
   ]
  },
  {
   "cell_type": "code",
   "execution_count": 173,
   "metadata": {
    "scrolled": true
   },
   "outputs": [
    {
     "data": {
      "text/html": [
       "<div>\n",
       "<style scoped>\n",
       "    .dataframe tbody tr th:only-of-type {\n",
       "        vertical-align: middle;\n",
       "    }\n",
       "\n",
       "    .dataframe tbody tr th {\n",
       "        vertical-align: top;\n",
       "    }\n",
       "\n",
       "    .dataframe thead th {\n",
       "        text-align: right;\n",
       "    }\n",
       "</style>\n",
       "<table border=\"1\" class=\"dataframe\">\n",
       "  <thead>\n",
       "    <tr style=\"text-align: right;\">\n",
       "      <th></th>\n",
       "      <th>title</th>\n",
       "      <th>puNumber</th>\n",
       "      <th>show_start_date</th>\n",
       "      <th>type</th>\n",
       "      <th>film_studio</th>\n",
       "      <th>production_country</th>\n",
       "      <th>director</th>\n",
       "      <th>producer</th>\n",
       "      <th>age_restriction</th>\n",
       "      <th>refundable_support</th>\n",
       "      <th>nonrefundable_support</th>\n",
       "      <th>budget</th>\n",
       "      <th>financing_source</th>\n",
       "      <th>ratings</th>\n",
       "      <th>genres</th>\n",
       "      <th>box_office</th>\n",
       "    </tr>\n",
       "  </thead>\n",
       "  <tbody>\n",
       "    <tr>\n",
       "      <td>6</td>\n",
       "      <td>Любовь и голуби</td>\n",
       "      <td>111007013</td>\n",
       "      <td>2013-10-18T12:00:00.000Z</td>\n",
       "      <td>Художественный</td>\n",
       "      <td>Киностудия \"Мосфильм\"</td>\n",
       "      <td>СССР</td>\n",
       "      <td>В.Меньшов</td>\n",
       "      <td>NaN</td>\n",
       "      <td>«12+» - для детей старше 12 лет</td>\n",
       "      <td>NaN</td>\n",
       "      <td>NaN</td>\n",
       "      <td>NaN</td>\n",
       "      <td>NaN</td>\n",
       "      <td>8.3</td>\n",
       "      <td>мелодрама,комедия</td>\n",
       "      <td>2700.0</td>\n",
       "    </tr>\n",
       "    <tr>\n",
       "      <td>18</td>\n",
       "      <td>Неподдающиеся</td>\n",
       "      <td>111003616</td>\n",
       "      <td>2016-02-12T12:00:00.000Z</td>\n",
       "      <td>Художественный</td>\n",
       "      <td>Киностудия \"Мосфильм\"</td>\n",
       "      <td>СССР</td>\n",
       "      <td>Ю.Чулюкин</td>\n",
       "      <td>NaN</td>\n",
       "      <td>«6+» - для детей старше 6 лет</td>\n",
       "      <td>NaN</td>\n",
       "      <td>NaN</td>\n",
       "      <td>NaN</td>\n",
       "      <td>NaN</td>\n",
       "      <td>8.0</td>\n",
       "      <td>мелодрама,комедия</td>\n",
       "      <td>360.0</td>\n",
       "    </tr>\n",
       "    <tr>\n",
       "      <td>19</td>\n",
       "      <td>Неподсуден</td>\n",
       "      <td>111003716</td>\n",
       "      <td>2016-02-12T12:00:00.000Z</td>\n",
       "      <td>Художественный</td>\n",
       "      <td>Киностудия \"Мосфильм\"</td>\n",
       "      <td>СССР</td>\n",
       "      <td>В.Краснопольский, В.Усков</td>\n",
       "      <td>NaN</td>\n",
       "      <td>«6+» - для детей старше 6 лет</td>\n",
       "      <td>NaN</td>\n",
       "      <td>NaN</td>\n",
       "      <td>NaN</td>\n",
       "      <td>NaN</td>\n",
       "      <td>7.7</td>\n",
       "      <td>драма</td>\n",
       "      <td>420.0</td>\n",
       "    </tr>\n",
       "    <tr>\n",
       "      <td>22</td>\n",
       "      <td>Операция \"Ы\" и другие приключения Шурика</td>\n",
       "      <td>111007413</td>\n",
       "      <td>2013-10-18T12:00:00.000Z</td>\n",
       "      <td>Художественный</td>\n",
       "      <td>Киностудия \"Мосфильм\"</td>\n",
       "      <td>СССР</td>\n",
       "      <td>Л.Гайдай</td>\n",
       "      <td>NaN</td>\n",
       "      <td>«6+» - для детей старше 6 лет</td>\n",
       "      <td>NaN</td>\n",
       "      <td>NaN</td>\n",
       "      <td>NaN</td>\n",
       "      <td>NaN</td>\n",
       "      <td>8.7</td>\n",
       "      <td>комедия,мелодрама,криминал</td>\n",
       "      <td>380.0</td>\n",
       "    </tr>\n",
       "    <tr>\n",
       "      <td>38</td>\n",
       "      <td>Мужики!..</td>\n",
       "      <td>111007213</td>\n",
       "      <td>2013-10-18T12:00:00.000Z</td>\n",
       "      <td>Художественный</td>\n",
       "      <td>Киностудия \"Мосфильм\"</td>\n",
       "      <td>СССР</td>\n",
       "      <td>И.Бабич</td>\n",
       "      <td>NaN</td>\n",
       "      <td>«6+» - для детей старше 6 лет</td>\n",
       "      <td>NaN</td>\n",
       "      <td>NaN</td>\n",
       "      <td>NaN</td>\n",
       "      <td>NaN</td>\n",
       "      <td>8.1</td>\n",
       "      <td>драма</td>\n",
       "      <td>1165.0</td>\n",
       "    </tr>\n",
       "  </tbody>\n",
       "</table>\n",
       "</div>"
      ],
      "text/plain": [
       "                                       title   puNumber  \\\n",
       "6                            Любовь и голуби  111007013   \n",
       "18                             Неподдающиеся  111003616   \n",
       "19                                Неподсуден  111003716   \n",
       "22  Операция \"Ы\" и другие приключения Шурика  111007413   \n",
       "38                                 Мужики!..  111007213   \n",
       "\n",
       "             show_start_date            type            film_studio  \\\n",
       "6   2013-10-18T12:00:00.000Z  Художественный  Киностудия \"Мосфильм\"   \n",
       "18  2016-02-12T12:00:00.000Z  Художественный  Киностудия \"Мосфильм\"   \n",
       "19  2016-02-12T12:00:00.000Z  Художественный  Киностудия \"Мосфильм\"   \n",
       "22  2013-10-18T12:00:00.000Z  Художественный  Киностудия \"Мосфильм\"   \n",
       "38  2013-10-18T12:00:00.000Z  Художественный  Киностудия \"Мосфильм\"   \n",
       "\n",
       "   production_country                   director producer  \\\n",
       "6                СССР                  В.Меньшов      NaN   \n",
       "18               СССР                  Ю.Чулюкин      NaN   \n",
       "19               СССР  В.Краснопольский, В.Усков      NaN   \n",
       "22               СССР                   Л.Гайдай      NaN   \n",
       "38               СССР                    И.Бабич      NaN   \n",
       "\n",
       "                    age_restriction  refundable_support  \\\n",
       "6   «12+» - для детей старше 12 лет                 NaN   \n",
       "18    «6+» - для детей старше 6 лет                 NaN   \n",
       "19    «6+» - для детей старше 6 лет                 NaN   \n",
       "22    «6+» - для детей старше 6 лет                 NaN   \n",
       "38    «6+» - для детей старше 6 лет                 NaN   \n",
       "\n",
       "    nonrefundable_support  budget financing_source ratings  \\\n",
       "6                     NaN     NaN              NaN     8.3   \n",
       "18                    NaN     NaN              NaN     8.0   \n",
       "19                    NaN     NaN              NaN     7.7   \n",
       "22                    NaN     NaN              NaN     8.7   \n",
       "38                    NaN     NaN              NaN     8.1   \n",
       "\n",
       "                        genres  box_office  \n",
       "6            мелодрама,комедия      2700.0  \n",
       "18           мелодрама,комедия       360.0  \n",
       "19                       драма       420.0  \n",
       "22  комедия,мелодрама,криминал       380.0  \n",
       "38                       драма      1165.0  "
      ]
     },
     "execution_count": 173,
     "metadata": {},
     "output_type": "execute_result"
    }
   ],
   "source": [
    "#проверим результат\n",
    "movies_df[movies_df['box_office'].notnull()].head()"
   ]
  },
  {
   "cell_type": "markdown",
   "metadata": {},
   "source": [
    "### Вывод"
   ]
  },
  {
   "cell_type": "markdown",
   "metadata": {},
   "source": [
    "Были открыты и изучены данные, сразу было выявлено почему в одном из датафреймов столбец `puNumber` неправильного типа и было исправлено, после чего было произведено обьединение таблиц для дальнейшей удобной работы с одним датафреймом."
   ]
  },
  {
   "cell_type": "markdown",
   "metadata": {
    "id": "KLDGpPG0gFyM"
   },
   "source": [
    "## Предобработка данных"
   ]
  },
  {
   "cell_type": "markdown",
   "metadata": {
    "id": "ssWwKXsxgFyO"
   },
   "source": [
    "### Проверка и замена типов данных"
   ]
  },
  {
   "cell_type": "code",
   "execution_count": 174,
   "metadata": {
    "id": "kVGSplJOgFyO"
   },
   "outputs": [
    {
     "name": "stdout",
     "output_type": "stream",
     "text": [
      "<class 'pandas.core.frame.DataFrame'>\n",
      "Int64Index: 7486 entries, 0 to 7485\n",
      "Data columns (total 16 columns):\n",
      "title                    7486 non-null object\n",
      "puNumber                 7486 non-null object\n",
      "show_start_date          7486 non-null object\n",
      "type                     7486 non-null object\n",
      "film_studio              7468 non-null object\n",
      "production_country       7484 non-null object\n",
      "director                 7477 non-null object\n",
      "producer                 6918 non-null object\n",
      "age_restriction          7486 non-null object\n",
      "refundable_support       332 non-null float64\n",
      "nonrefundable_support    332 non-null float64\n",
      "budget                   332 non-null float64\n",
      "financing_source         332 non-null object\n",
      "ratings                  6519 non-null object\n",
      "genres                   6510 non-null object\n",
      "box_office               3158 non-null float64\n",
      "dtypes: float64(4), object(12)\n",
      "memory usage: 994.2+ KB\n"
     ]
    }
   ],
   "source": [
    "movies_df.info()\n",
    "movies_df['show_start_date'] = pd.to_datetime(movies_df['show_start_date'])\n",
    "movies_df['ratings'] = pd.to_numeric(movies_df['ratings'], errors='coerce')"
   ]
  },
  {
   "cell_type": "code",
   "execution_count": 175,
   "metadata": {
    "scrolled": true
   },
   "outputs": [
    {
     "name": "stdout",
     "output_type": "stream",
     "text": [
      "<class 'pandas.core.frame.DataFrame'>\n",
      "Int64Index: 7486 entries, 0 to 7485\n",
      "Data columns (total 16 columns):\n",
      "title                    7486 non-null object\n",
      "puNumber                 7486 non-null object\n",
      "show_start_date          7486 non-null datetime64[ns, UTC]\n",
      "type                     7486 non-null object\n",
      "film_studio              7468 non-null object\n",
      "production_country       7484 non-null object\n",
      "director                 7477 non-null object\n",
      "producer                 6918 non-null object\n",
      "age_restriction          7486 non-null object\n",
      "refundable_support       332 non-null float64\n",
      "nonrefundable_support    332 non-null float64\n",
      "budget                   332 non-null float64\n",
      "financing_source         332 non-null object\n",
      "ratings                  6490 non-null float64\n",
      "genres                   6510 non-null object\n",
      "box_office               3158 non-null float64\n",
      "dtypes: datetime64[ns, UTC](1), float64(5), object(10)\n",
      "memory usage: 994.2+ KB\n"
     ]
    }
   ],
   "source": [
    "#проверим результат\n",
    "movies_df.info()"
   ]
  },
  {
   "cell_type": "markdown",
   "metadata": {},
   "source": [
    "#### Вывод"
   ]
  },
  {
   "cell_type": "markdown",
   "metadata": {},
   "source": [
    "Заменил тип данных столбца `show_start_date` на тип `datetime`, так как в столбце хранится дата, а также столбец рейтинг к типу `int` подставив вместо пропущенных значений `NaN`"
   ]
  },
  {
   "cell_type": "markdown",
   "metadata": {
    "id": "i0MOLbF-gFyP"
   },
   "source": [
    "### Изучение и заполнение пропусков в датафрейме"
   ]
  },
  {
   "cell_type": "code",
   "execution_count": 176,
   "metadata": {},
   "outputs": [
    {
     "data": {
      "text/plain": [
       "title                       0\n",
       "puNumber                    0\n",
       "show_start_date             0\n",
       "type                        0\n",
       "film_studio                18\n",
       "production_country          2\n",
       "director                    9\n",
       "producer                  568\n",
       "age_restriction             0\n",
       "refundable_support       7154\n",
       "nonrefundable_support    7154\n",
       "budget                   7154\n",
       "financing_source         7154\n",
       "ratings                   996\n",
       "genres                    976\n",
       "box_office               4328\n",
       "dtype: int64"
      ]
     },
     "execution_count": 176,
     "metadata": {},
     "output_type": "execute_result"
    }
   ],
   "source": [
    "movies_df.isnull().sum()"
   ]
  },
  {
   "cell_type": "code",
   "execution_count": 177,
   "metadata": {
    "id": "8MJD_lkngFyP",
    "scrolled": false
   },
   "outputs": [
    {
     "data": {
      "text/html": [
       "<div>\n",
       "<style scoped>\n",
       "    .dataframe tbody tr th:only-of-type {\n",
       "        vertical-align: middle;\n",
       "    }\n",
       "\n",
       "    .dataframe tbody tr th {\n",
       "        vertical-align: top;\n",
       "    }\n",
       "\n",
       "    .dataframe thead th {\n",
       "        text-align: right;\n",
       "    }\n",
       "</style>\n",
       "<table border=\"1\" class=\"dataframe\">\n",
       "  <thead>\n",
       "    <tr style=\"text-align: right;\">\n",
       "      <th></th>\n",
       "      <th>title</th>\n",
       "      <th>puNumber</th>\n",
       "      <th>show_start_date</th>\n",
       "      <th>type</th>\n",
       "      <th>film_studio</th>\n",
       "      <th>production_country</th>\n",
       "      <th>director</th>\n",
       "      <th>producer</th>\n",
       "      <th>age_restriction</th>\n",
       "      <th>refundable_support</th>\n",
       "      <th>nonrefundable_support</th>\n",
       "      <th>budget</th>\n",
       "      <th>financing_source</th>\n",
       "      <th>ratings</th>\n",
       "      <th>genres</th>\n",
       "      <th>box_office</th>\n",
       "    </tr>\n",
       "  </thead>\n",
       "  <tbody>\n",
       "    <tr>\n",
       "      <td>1281</td>\n",
       "      <td>Пока еще жива</td>\n",
       "      <td>111005313</td>\n",
       "      <td>2013-10-11 12:00:00+00:00</td>\n",
       "      <td>Художественный</td>\n",
       "      <td>АНО содействия развитию кинематографии \"Ангел-...</td>\n",
       "      <td>Россия</td>\n",
       "      <td>А.Атанесян</td>\n",
       "      <td>А.Атанесян, М.Бабаханов, Р.Бутко</td>\n",
       "      <td>«16+» - для детей старше 16 лет</td>\n",
       "      <td>0.0</td>\n",
       "      <td>26500000.0</td>\n",
       "      <td>79411900.0</td>\n",
       "      <td>Министерство культуры</td>\n",
       "      <td>8.1</td>\n",
       "      <td>драма,мелодрама</td>\n",
       "      <td>365353.6</td>\n",
       "    </tr>\n",
       "    <tr>\n",
       "      <td>1448</td>\n",
       "      <td>Бесславные придурки</td>\n",
       "      <td>111003314</td>\n",
       "      <td>2014-03-28 12:00:00+00:00</td>\n",
       "      <td>Художественный</td>\n",
       "      <td>ООО \"Компания \"АТК-Студио\"</td>\n",
       "      <td>Россия</td>\n",
       "      <td>А.Якимчук</td>\n",
       "      <td>А.Тютрюмов</td>\n",
       "      <td>«12+» - для детей старше 12 лет</td>\n",
       "      <td>0.0</td>\n",
       "      <td>26000000.0</td>\n",
       "      <td>37142857.0</td>\n",
       "      <td>Министерство культуры</td>\n",
       "      <td>NaN</td>\n",
       "      <td>NaN</td>\n",
       "      <td>28140.0</td>\n",
       "    </tr>\n",
       "    <tr>\n",
       "      <td>1498</td>\n",
       "      <td>Невидимки</td>\n",
       "      <td>111004213</td>\n",
       "      <td>2013-09-10 12:00:00+00:00</td>\n",
       "      <td>Художественный</td>\n",
       "      <td>ООО \"Компания \"РЕАЛ-ДАКОТА\"</td>\n",
       "      <td>Россия</td>\n",
       "      <td>Р.Давлетьяров, С.Комаров</td>\n",
       "      <td>Р.Давлетьяров, А.Котелевский, А.Олейников</td>\n",
       "      <td>«12+» - для детей старше 12 лет</td>\n",
       "      <td>0.0</td>\n",
       "      <td>107847945.0</td>\n",
       "      <td>176023490.0</td>\n",
       "      <td>Фонд кино</td>\n",
       "      <td>5.3</td>\n",
       "      <td>комедия,фантастика</td>\n",
       "      <td>19957031.5</td>\n",
       "    </tr>\n",
       "    <tr>\n",
       "      <td>1524</td>\n",
       "      <td>БЕРЦЫ</td>\n",
       "      <td>111004314</td>\n",
       "      <td>2014-05-05 12:00:00+00:00</td>\n",
       "      <td>Художественный</td>\n",
       "      <td>ООО \"Студия \"Пассажир\"</td>\n",
       "      <td>Россия</td>\n",
       "      <td>Е.Миндадзе (псевдоним Катя Шагалова)</td>\n",
       "      <td>Л.Антонова</td>\n",
       "      <td>«16+» - для детей старше 16 лет</td>\n",
       "      <td>0.0</td>\n",
       "      <td>28000000.0</td>\n",
       "      <td>40574140.0</td>\n",
       "      <td>Министерство культуры</td>\n",
       "      <td>4.2</td>\n",
       "      <td>драма</td>\n",
       "      <td>55917.5</td>\n",
       "    </tr>\n",
       "    <tr>\n",
       "      <td>1792</td>\n",
       "      <td>Братья Ч</td>\n",
       "      <td>111004414</td>\n",
       "      <td>2014-04-23 12:00:00+00:00</td>\n",
       "      <td>Художественный</td>\n",
       "      <td>ООО \"Студия \"Пассажир\"</td>\n",
       "      <td>Россия</td>\n",
       "      <td>М.Угаров</td>\n",
       "      <td>А.Миндадзе, Л.Антонова</td>\n",
       "      <td>«16+» - для детей старше 16 лет</td>\n",
       "      <td>0.0</td>\n",
       "      <td>25000000.0</td>\n",
       "      <td>40015122.0</td>\n",
       "      <td>Министерство культуры</td>\n",
       "      <td>6.4</td>\n",
       "      <td>драма</td>\n",
       "      <td>232100.0</td>\n",
       "    </tr>\n",
       "  </tbody>\n",
       "</table>\n",
       "</div>"
      ],
      "text/plain": [
       "                    title   puNumber           show_start_date  \\\n",
       "1281        Пока еще жива  111005313 2013-10-11 12:00:00+00:00   \n",
       "1448  Бесславные придурки  111003314 2014-03-28 12:00:00+00:00   \n",
       "1498            Невидимки  111004213 2013-09-10 12:00:00+00:00   \n",
       "1524                БЕРЦЫ  111004314 2014-05-05 12:00:00+00:00   \n",
       "1792             Братья Ч  111004414 2014-04-23 12:00:00+00:00   \n",
       "\n",
       "                type                                        film_studio  \\\n",
       "1281  Художественный  АНО содействия развитию кинематографии \"Ангел-...   \n",
       "1448  Художественный                         ООО \"Компания \"АТК-Студио\"   \n",
       "1498  Художественный                        ООО \"Компания \"РЕАЛ-ДАКОТА\"   \n",
       "1524  Художественный                             ООО \"Студия \"Пассажир\"   \n",
       "1792  Художественный                             ООО \"Студия \"Пассажир\"   \n",
       "\n",
       "     production_country                              director  \\\n",
       "1281             Россия                            А.Атанесян   \n",
       "1448             Россия                             А.Якимчук   \n",
       "1498             Россия              Р.Давлетьяров, С.Комаров   \n",
       "1524             Россия  Е.Миндадзе (псевдоним Катя Шагалова)   \n",
       "1792             Россия                              М.Угаров   \n",
       "\n",
       "                                       producer  \\\n",
       "1281           А.Атанесян, М.Бабаханов, Р.Бутко   \n",
       "1448                                 А.Тютрюмов   \n",
       "1498  Р.Давлетьяров, А.Котелевский, А.Олейников   \n",
       "1524                                 Л.Антонова   \n",
       "1792                     А.Миндадзе, Л.Антонова   \n",
       "\n",
       "                      age_restriction  refundable_support  \\\n",
       "1281  «16+» - для детей старше 16 лет                 0.0   \n",
       "1448  «12+» - для детей старше 12 лет                 0.0   \n",
       "1498  «12+» - для детей старше 12 лет                 0.0   \n",
       "1524  «16+» - для детей старше 16 лет                 0.0   \n",
       "1792  «16+» - для детей старше 16 лет                 0.0   \n",
       "\n",
       "      nonrefundable_support       budget       financing_source  ratings  \\\n",
       "1281             26500000.0   79411900.0  Министерство культуры      8.1   \n",
       "1448             26000000.0   37142857.0  Министерство культуры      NaN   \n",
       "1498            107847945.0  176023490.0              Фонд кино      5.3   \n",
       "1524             28000000.0   40574140.0  Министерство культуры      4.2   \n",
       "1792             25000000.0   40015122.0  Министерство культуры      6.4   \n",
       "\n",
       "                  genres  box_office  \n",
       "1281     драма,мелодрама    365353.6  \n",
       "1448                 NaN     28140.0  \n",
       "1498  комедия,фантастика  19957031.5  \n",
       "1524               драма     55917.5  \n",
       "1792               драма    232100.0  "
      ]
     },
     "execution_count": 177,
     "metadata": {},
     "output_type": "execute_result"
    }
   ],
   "source": [
    "movies_df[movies_df['nonrefundable_support'].notnull()].head()"
   ]
  },
  {
   "cell_type": "code",
   "execution_count": 178,
   "metadata": {
    "scrolled": false
   },
   "outputs": [
    {
     "data": {
      "text/html": [
       "<div>\n",
       "<style scoped>\n",
       "    .dataframe tbody tr th:only-of-type {\n",
       "        vertical-align: middle;\n",
       "    }\n",
       "\n",
       "    .dataframe tbody tr th {\n",
       "        vertical-align: top;\n",
       "    }\n",
       "\n",
       "    .dataframe thead th {\n",
       "        text-align: right;\n",
       "    }\n",
       "</style>\n",
       "<table border=\"1\" class=\"dataframe\">\n",
       "  <thead>\n",
       "    <tr style=\"text-align: right;\">\n",
       "      <th></th>\n",
       "      <th>refundable_support</th>\n",
       "      <th>nonrefundable_support</th>\n",
       "      <th>budget</th>\n",
       "      <th>ratings</th>\n",
       "      <th>box_office</th>\n",
       "    </tr>\n",
       "  </thead>\n",
       "  <tbody>\n",
       "    <tr>\n",
       "      <td>count</td>\n",
       "      <td>3.320000e+02</td>\n",
       "      <td>3.320000e+02</td>\n",
       "      <td>3.320000e+02</td>\n",
       "      <td>6490.000000</td>\n",
       "      <td>3.158000e+03</td>\n",
       "    </tr>\n",
       "    <tr>\n",
       "      <td>mean</td>\n",
       "      <td>1.186446e+07</td>\n",
       "      <td>4.898099e+07</td>\n",
       "      <td>1.272297e+08</td>\n",
       "      <td>6.479245</td>\n",
       "      <td>7.647870e+07</td>\n",
       "    </tr>\n",
       "    <tr>\n",
       "      <td>std</td>\n",
       "      <td>2.491656e+07</td>\n",
       "      <td>5.998012e+07</td>\n",
       "      <td>1.885883e+08</td>\n",
       "      <td>1.101665</td>\n",
       "      <td>2.403531e+08</td>\n",
       "    </tr>\n",
       "    <tr>\n",
       "      <td>min</td>\n",
       "      <td>0.000000e+00</td>\n",
       "      <td>0.000000e+00</td>\n",
       "      <td>0.000000e+00</td>\n",
       "      <td>1.000000</td>\n",
       "      <td>0.000000e+00</td>\n",
       "    </tr>\n",
       "    <tr>\n",
       "      <td>25%</td>\n",
       "      <td>0.000000e+00</td>\n",
       "      <td>2.500000e+07</td>\n",
       "      <td>4.200000e+07</td>\n",
       "      <td>5.900000</td>\n",
       "      <td>8.623900e+04</td>\n",
       "    </tr>\n",
       "    <tr>\n",
       "      <td>50%</td>\n",
       "      <td>0.000000e+00</td>\n",
       "      <td>3.000000e+07</td>\n",
       "      <td>6.864992e+07</td>\n",
       "      <td>6.600000</td>\n",
       "      <td>2.327988e+06</td>\n",
       "    </tr>\n",
       "    <tr>\n",
       "      <td>75%</td>\n",
       "      <td>1.500000e+07</td>\n",
       "      <td>4.037500e+07</td>\n",
       "      <td>1.419853e+08</td>\n",
       "      <td>7.200000</td>\n",
       "      <td>2.397967e+07</td>\n",
       "    </tr>\n",
       "    <tr>\n",
       "      <td>max</td>\n",
       "      <td>1.800000e+08</td>\n",
       "      <td>4.000000e+08</td>\n",
       "      <td>2.305074e+09</td>\n",
       "      <td>9.200000</td>\n",
       "      <td>3.073569e+09</td>\n",
       "    </tr>\n",
       "  </tbody>\n",
       "</table>\n",
       "</div>"
      ],
      "text/plain": [
       "       refundable_support  nonrefundable_support        budget      ratings  \\\n",
       "count        3.320000e+02           3.320000e+02  3.320000e+02  6490.000000   \n",
       "mean         1.186446e+07           4.898099e+07  1.272297e+08     6.479245   \n",
       "std          2.491656e+07           5.998012e+07  1.885883e+08     1.101665   \n",
       "min          0.000000e+00           0.000000e+00  0.000000e+00     1.000000   \n",
       "25%          0.000000e+00           2.500000e+07  4.200000e+07     5.900000   \n",
       "50%          0.000000e+00           3.000000e+07  6.864992e+07     6.600000   \n",
       "75%          1.500000e+07           4.037500e+07  1.419853e+08     7.200000   \n",
       "max          1.800000e+08           4.000000e+08  2.305074e+09     9.200000   \n",
       "\n",
       "         box_office  \n",
       "count  3.158000e+03  \n",
       "mean   7.647870e+07  \n",
       "std    2.403531e+08  \n",
       "min    0.000000e+00  \n",
       "25%    8.623900e+04  \n",
       "50%    2.327988e+06  \n",
       "75%    2.397967e+07  \n",
       "max    3.073569e+09  "
      ]
     },
     "execution_count": 178,
     "metadata": {},
     "output_type": "execute_result"
    }
   ],
   "source": [
    "movies_df.describe()"
   ]
  },
  {
   "cell_type": "code",
   "execution_count": 179,
   "metadata": {
    "scrolled": true
   },
   "outputs": [],
   "source": [
    "movies_df.loc[:, ['film_studio', 'director', 'producer', 'genres', 'production_country']] = movies_df.loc[:, ['film_studio', 'director', 'producer', 'genres', 'production_country']].fillna('undefined')"
   ]
  },
  {
   "cell_type": "markdown",
   "metadata": {},
   "source": [
    "#### Вывод"
   ]
  },
  {
   "cell_type": "markdown",
   "metadata": {},
   "source": [
    "Заполнил пропуски в столбцах с категориальными значениями пустой строкой, т.к. упоминалось, что данные брались с сайта кинопоиск на котором могло просто не быть данной информации, к тому же `film_studio`, `director`, `producer` и `genres` это столбцы с категориальными значениями и нету ничего что позволило бы определить какое значение следует подставить вместо пропусков. Поле рейтинга оставил пустым, так как задача аналитическая и рейтинга у фильма действительно может не быть и заполнять пропуски медианой и средним не лучший выбор."
   ]
  },
  {
   "cell_type": "markdown",
   "metadata": {
    "id": "4c6k1t9ygFyQ"
   },
   "source": [
    "### Изучение дубликатов в датафрейме"
   ]
  },
  {
   "cell_type": "code",
   "execution_count": 180,
   "metadata": {},
   "outputs": [
    {
     "name": "stdout",
     "output_type": "stream",
     "text": [
      "Количество полных дублей - 0\n",
      "Количество дублей по title - 714\n",
      "Количество дублей по puNumber - 2\n"
     ]
    }
   ],
   "source": [
    "print('Количество полных дублей -', movies_df.duplicated().sum())\n",
    "print('Количество дублей по title -', movies_df['title'].duplicated().sum())\n",
    "print('Количество дублей по puNumber -', movies_df['puNumber'].duplicated().sum())"
   ]
  },
  {
   "cell_type": "code",
   "execution_count": 181,
   "metadata": {},
   "outputs": [
    {
     "data": {
      "text/html": [
       "<div>\n",
       "<style scoped>\n",
       "    .dataframe tbody tr th:only-of-type {\n",
       "        vertical-align: middle;\n",
       "    }\n",
       "\n",
       "    .dataframe tbody tr th {\n",
       "        vertical-align: top;\n",
       "    }\n",
       "\n",
       "    .dataframe thead th {\n",
       "        text-align: right;\n",
       "    }\n",
       "</style>\n",
       "<table border=\"1\" class=\"dataframe\">\n",
       "  <thead>\n",
       "    <tr style=\"text-align: right;\">\n",
       "      <th></th>\n",
       "      <th>title</th>\n",
       "      <th>puNumber</th>\n",
       "      <th>show_start_date</th>\n",
       "      <th>type</th>\n",
       "      <th>film_studio</th>\n",
       "      <th>production_country</th>\n",
       "      <th>director</th>\n",
       "      <th>producer</th>\n",
       "      <th>age_restriction</th>\n",
       "      <th>refundable_support</th>\n",
       "      <th>nonrefundable_support</th>\n",
       "      <th>budget</th>\n",
       "      <th>financing_source</th>\n",
       "      <th>ratings</th>\n",
       "      <th>genres</th>\n",
       "      <th>box_office</th>\n",
       "    </tr>\n",
       "  </thead>\n",
       "  <tbody>\n",
       "    <tr>\n",
       "      <td>5067</td>\n",
       "      <td>Анализируй это!</td>\n",
       "      <td>221054410</td>\n",
       "      <td>2010-05-25 12:00:00+00:00</td>\n",
       "      <td>Художественный</td>\n",
       "      <td>Уорнер Бразерс, Вилладж Роудшоу Филмз ЛТД</td>\n",
       "      <td>США-Австралия</td>\n",
       "      <td>ХЭрольд Рэмис</td>\n",
       "      <td>Джейн Розенталь, Пола Уейнстейн</td>\n",
       "      <td>«16+» - для детей старше 16 лет</td>\n",
       "      <td>NaN</td>\n",
       "      <td>NaN</td>\n",
       "      <td>NaN</td>\n",
       "      <td>NaN</td>\n",
       "      <td>7.4</td>\n",
       "      <td>комедия,криминал</td>\n",
       "      <td>NaN</td>\n",
       "    </tr>\n",
       "    <tr>\n",
       "      <td>5068</td>\n",
       "      <td>Анализируй то!</td>\n",
       "      <td>221054410</td>\n",
       "      <td>2010-05-25 12:00:00+00:00</td>\n",
       "      <td>Художественный</td>\n",
       "      <td>Уорнер Бразерс, Виллидж Роадшоу Пикчерз, Эн-Пи...</td>\n",
       "      <td>США</td>\n",
       "      <td>Гарольд Реймис</td>\n",
       "      <td>Джейн Розенталь, Паул Уэйнстейн</td>\n",
       "      <td>«12+» - для детей старше 12 лет</td>\n",
       "      <td>NaN</td>\n",
       "      <td>NaN</td>\n",
       "      <td>NaN</td>\n",
       "      <td>NaN</td>\n",
       "      <td>6.8</td>\n",
       "      <td>комедия,криминал</td>\n",
       "      <td>NaN</td>\n",
       "    </tr>\n",
       "    <tr>\n",
       "      <td>4638</td>\n",
       "      <td>Как жениться и остаться холостым</td>\n",
       "      <td>221154310</td>\n",
       "      <td>2010-12-17 12:00:00+00:00</td>\n",
       "      <td>Художественный</td>\n",
       "      <td>Ше Вам, Скрипт Ассосье, Тэ Фэ 1 Фильм Продюксь...</td>\n",
       "      <td>Франция</td>\n",
       "      <td>Эрик Лартиго</td>\n",
       "      <td>Амандин Било, Алан Шаба</td>\n",
       "      <td>«16+» - для детей старше 16 лет</td>\n",
       "      <td>NaN</td>\n",
       "      <td>NaN</td>\n",
       "      <td>NaN</td>\n",
       "      <td>NaN</td>\n",
       "      <td>7.0</td>\n",
       "      <td>мелодрама,комедия</td>\n",
       "      <td>NaN</td>\n",
       "    </tr>\n",
       "    <tr>\n",
       "      <td>4639</td>\n",
       "      <td>Иоанна - женщина на папском престоле /По роман...</td>\n",
       "      <td>221154310</td>\n",
       "      <td>2010-12-17 12:00:00+00:00</td>\n",
       "      <td>Художественный</td>\n",
       "      <td>Константин Фильм, А Эр Ди Дегето Фильм, Дюне ...</td>\n",
       "      <td>Германия - Великобритания - Италия - Испания</td>\n",
       "      <td>Зенке Вортманн</td>\n",
       "      <td>Оливер Бербен, Дорис Д.Хайнце, Фарук Элтан</td>\n",
       "      <td>«16+» - для детей старше 16 лет</td>\n",
       "      <td>NaN</td>\n",
       "      <td>NaN</td>\n",
       "      <td>NaN</td>\n",
       "      <td>NaN</td>\n",
       "      <td>7.6</td>\n",
       "      <td>драма,мелодрама,история</td>\n",
       "      <td>NaN</td>\n",
       "    </tr>\n",
       "  </tbody>\n",
       "</table>\n",
       "</div>"
      ],
      "text/plain": [
       "                                                  title   puNumber  \\\n",
       "5067                                    Анализируй это!  221054410   \n",
       "5068                                     Анализируй то!  221054410   \n",
       "4638                   Как жениться и остаться холостым  221154310   \n",
       "4639  Иоанна - женщина на папском престоле /По роман...  221154310   \n",
       "\n",
       "               show_start_date            type  \\\n",
       "5067 2010-05-25 12:00:00+00:00  Художественный   \n",
       "5068 2010-05-25 12:00:00+00:00  Художественный   \n",
       "4638 2010-12-17 12:00:00+00:00  Художественный   \n",
       "4639 2010-12-17 12:00:00+00:00  Художественный   \n",
       "\n",
       "                                            film_studio  \\\n",
       "5067          Уорнер Бразерс, Вилладж Роудшоу Филмз ЛТД   \n",
       "5068  Уорнер Бразерс, Виллидж Роадшоу Пикчерз, Эн-Пи...   \n",
       "4638  Ше Вам, Скрипт Ассосье, Тэ Фэ 1 Фильм Продюксь...   \n",
       "4639   Константин Фильм, А Эр Ди Дегето Фильм, Дюне ...   \n",
       "\n",
       "                                production_country        director  \\\n",
       "5067                                 США-Австралия   ХЭрольд Рэмис   \n",
       "5068                                           США  Гарольд Реймис   \n",
       "4638                                       Франция    Эрик Лартиго   \n",
       "4639  Германия - Великобритания - Италия - Испания  Зенке Вортманн   \n",
       "\n",
       "                                        producer  \\\n",
       "5067             Джейн Розенталь, Пола Уейнстейн   \n",
       "5068             Джейн Розенталь, Паул Уэйнстейн   \n",
       "4638                     Амандин Било, Алан Шаба   \n",
       "4639  Оливер Бербен, Дорис Д.Хайнце, Фарук Элтан   \n",
       "\n",
       "                      age_restriction  refundable_support  \\\n",
       "5067  «16+» - для детей старше 16 лет                 NaN   \n",
       "5068  «12+» - для детей старше 12 лет                 NaN   \n",
       "4638  «16+» - для детей старше 16 лет                 NaN   \n",
       "4639  «16+» - для детей старше 16 лет                 NaN   \n",
       "\n",
       "      nonrefundable_support  budget financing_source  ratings  \\\n",
       "5067                    NaN     NaN              NaN      7.4   \n",
       "5068                    NaN     NaN              NaN      6.8   \n",
       "4638                    NaN     NaN              NaN      7.0   \n",
       "4639                    NaN     NaN              NaN      7.6   \n",
       "\n",
       "                       genres  box_office  \n",
       "5067         комедия,криминал         NaN  \n",
       "5068         комедия,криминал         NaN  \n",
       "4638        мелодрама,комедия         NaN  \n",
       "4639  драма,мелодрама,история         NaN  "
      ]
     },
     "execution_count": 181,
     "metadata": {},
     "output_type": "execute_result"
    }
   ],
   "source": [
    "dup_puNumber = movies_df.loc[movies_df['puNumber'].duplicated(), 'puNumber'].unique()\n",
    "\n",
    "movies_df.loc[movies_df['puNumber'].isin(dup_puNumber)].sort_values('puNumber')"
   ]
  },
  {
   "cell_type": "code",
   "execution_count": 182,
   "metadata": {
    "id": "aKck8RIdgFyQ",
    "scrolled": true
   },
   "outputs": [
    {
     "data": {
      "text/html": [
       "<div>\n",
       "<style scoped>\n",
       "    .dataframe tbody tr th:only-of-type {\n",
       "        vertical-align: middle;\n",
       "    }\n",
       "\n",
       "    .dataframe tbody tr th {\n",
       "        vertical-align: top;\n",
       "    }\n",
       "\n",
       "    .dataframe thead th {\n",
       "        text-align: right;\n",
       "    }\n",
       "</style>\n",
       "<table border=\"1\" class=\"dataframe\">\n",
       "  <thead>\n",
       "    <tr style=\"text-align: right;\">\n",
       "      <th></th>\n",
       "      <th>title</th>\n",
       "      <th>puNumber</th>\n",
       "      <th>show_start_date</th>\n",
       "      <th>type</th>\n",
       "      <th>film_studio</th>\n",
       "      <th>production_country</th>\n",
       "      <th>director</th>\n",
       "      <th>producer</th>\n",
       "      <th>age_restriction</th>\n",
       "      <th>refundable_support</th>\n",
       "      <th>nonrefundable_support</th>\n",
       "      <th>budget</th>\n",
       "      <th>financing_source</th>\n",
       "      <th>ratings</th>\n",
       "      <th>genres</th>\n",
       "      <th>box_office</th>\n",
       "    </tr>\n",
       "  </thead>\n",
       "  <tbody>\n",
       "  </tbody>\n",
       "</table>\n",
       "</div>"
      ],
      "text/plain": [
       "Empty DataFrame\n",
       "Columns: [title, puNumber, show_start_date, type, film_studio, production_country, director, producer, age_restriction, refundable_support, nonrefundable_support, budget, financing_source, ratings, genres, box_office]\n",
       "Index: []"
      ]
     },
     "metadata": {},
     "output_type": "display_data"
    },
    {
     "data": {
      "text/html": [
       "<div>\n",
       "<style scoped>\n",
       "    .dataframe tbody tr th:only-of-type {\n",
       "        vertical-align: middle;\n",
       "    }\n",
       "\n",
       "    .dataframe tbody tr th {\n",
       "        vertical-align: top;\n",
       "    }\n",
       "\n",
       "    .dataframe thead th {\n",
       "        text-align: right;\n",
       "    }\n",
       "</style>\n",
       "<table border=\"1\" class=\"dataframe\">\n",
       "  <thead>\n",
       "    <tr style=\"text-align: right;\">\n",
       "      <th></th>\n",
       "      <th>title</th>\n",
       "      <th>puNumber</th>\n",
       "      <th>show_start_date</th>\n",
       "      <th>type</th>\n",
       "      <th>film_studio</th>\n",
       "      <th>production_country</th>\n",
       "      <th>director</th>\n",
       "      <th>producer</th>\n",
       "      <th>age_restriction</th>\n",
       "      <th>refundable_support</th>\n",
       "      <th>nonrefundable_support</th>\n",
       "      <th>budget</th>\n",
       "      <th>financing_source</th>\n",
       "      <th>ratings</th>\n",
       "      <th>genres</th>\n",
       "      <th>box_office</th>\n",
       "    </tr>\n",
       "  </thead>\n",
       "  <tbody>\n",
       "    <tr>\n",
       "      <td>1300</td>\n",
       "      <td>Эпидемия_</td>\n",
       "      <td>121025713</td>\n",
       "      <td>2013-10-07 12:00:00+00:00</td>\n",
       "      <td>Художественный</td>\n",
       "      <td>Морена Фильм, Ребелион Террестр, А 3 Медиа Гру...</td>\n",
       "      <td>Испания - Франция</td>\n",
       "      <td>Алекс Пастор, Давид Пастор</td>\n",
       "      <td>Мерседес Гамеро, Альберто Марини, Педро Уриоль</td>\n",
       "      <td>«16+» - для детей старше 16 лет</td>\n",
       "      <td>NaN</td>\n",
       "      <td>NaN</td>\n",
       "      <td>NaN</td>\n",
       "      <td>NaN</td>\n",
       "      <td>7.2</td>\n",
       "      <td>драма,фантастика,триллер</td>\n",
       "      <td>NaN</td>\n",
       "    </tr>\n",
       "  </tbody>\n",
       "</table>\n",
       "</div>"
      ],
      "text/plain": [
       "          title   puNumber           show_start_date            type  \\\n",
       "1300  Эпидемия_  121025713 2013-10-07 12:00:00+00:00  Художественный   \n",
       "\n",
       "                                            film_studio production_country  \\\n",
       "1300  Морена Фильм, Ребелион Террестр, А 3 Медиа Гру...  Испания - Франция   \n",
       "\n",
       "                        director  \\\n",
       "1300  Алекс Пастор, Давид Пастор   \n",
       "\n",
       "                                            producer  \\\n",
       "1300  Мерседес Гамеро, Альберто Марини, Педро Уриоль   \n",
       "\n",
       "                      age_restriction  refundable_support  \\\n",
       "1300  «16+» - для детей старше 16 лет                 NaN   \n",
       "\n",
       "      nonrefundable_support  budget financing_source  ratings  \\\n",
       "1300                    NaN     NaN              NaN      7.2   \n",
       "\n",
       "                        genres  box_office  \n",
       "1300  драма,фантастика,триллер         NaN  "
      ]
     },
     "execution_count": 182,
     "metadata": {},
     "output_type": "execute_result"
    }
   ],
   "source": [
    "display(movies_df[movies_df.duplicated()])\n",
    "movies_df.query(\"1299 < @movies_df.index < 1301\")"
   ]
  },
  {
   "cell_type": "code",
   "execution_count": 183,
   "metadata": {
    "scrolled": true
   },
   "outputs": [
    {
     "name": "stdout",
     "output_type": "stream",
     "text": [
      "<class 'pandas.core.frame.DataFrame'>\n",
      "Int64Index: 7486 entries, 0 to 7485\n",
      "Data columns (total 16 columns):\n",
      "title                    7486 non-null object\n",
      "puNumber                 7486 non-null object\n",
      "show_start_date          7486 non-null datetime64[ns, UTC]\n",
      "type                     7486 non-null object\n",
      "film_studio              7486 non-null object\n",
      "production_country       7486 non-null object\n",
      "director                 7486 non-null object\n",
      "producer                 7486 non-null object\n",
      "age_restriction          7486 non-null object\n",
      "refundable_support       332 non-null float64\n",
      "nonrefundable_support    332 non-null float64\n",
      "budget                   332 non-null float64\n",
      "financing_source         332 non-null object\n",
      "ratings                  6490 non-null float64\n",
      "genres                   7486 non-null object\n",
      "box_office               3158 non-null float64\n",
      "dtypes: datetime64[ns, UTC](1), float64(5), object(10)\n",
      "memory usage: 994.2+ KB\n"
     ]
    }
   ],
   "source": [
    "movies_df.drop_duplicates().reset_index(drop=True)\n",
    "movies_df.info()"
   ]
  },
  {
   "cell_type": "markdown",
   "metadata": {},
   "source": [
    "#### Вывод"
   ]
  },
  {
   "cell_type": "markdown",
   "metadata": {},
   "source": [
    "При изучении было выявлено что дубликаты идут один за другим и было принято решение их удалить, предполагаю что какая-то техническая ошибка при извлечении данных, что одна и та же строка несколько раз подряд извлекалась."
   ]
  },
  {
   "cell_type": "markdown",
   "metadata": {
    "id": "52fOPrEBgFyQ"
   },
   "source": [
    "### Изучение категориальных значений"
   ]
  },
  {
   "cell_type": "code",
   "execution_count": 184,
   "metadata": {},
   "outputs": [],
   "source": [
    "movies_df['type'] = movies_df['type'].str.lstrip()"
   ]
  },
  {
   "cell_type": "code",
   "execution_count": 185,
   "metadata": {
    "id": "PnXKIVdFgFyR",
    "scrolled": true
   },
   "outputs": [
    {
     "data": {
      "text/plain": [
       "Художественный                5909\n",
       "Анимационный                   829\n",
       "Прочие                         406\n",
       "Документальный                 288\n",
       "Научно-популярный               53\n",
       "Музыкально-развлекательный       1\n",
       "Name: type, dtype: int64"
      ]
     },
     "execution_count": 185,
     "metadata": {},
     "output_type": "execute_result"
    }
   ],
   "source": [
    "movies_df['type'].value_counts().tail(20)"
   ]
  },
  {
   "cell_type": "markdown",
   "metadata": {},
   "source": [
    "#### Вывод"
   ]
  },
  {
   "cell_type": "markdown",
   "metadata": {},
   "source": [
    "Лишний пробел в начале строки который был убран. В столбце `title` есть строки заканчивающиеся на _, у некоторых значений, содержащих несколько стран в столбце `production_country` бывает склееный тире. С остальными столбцами кажется все в порядке."
   ]
  },
  {
   "cell_type": "code",
   "execution_count": 186,
   "metadata": {},
   "outputs": [
    {
     "name": "stdout",
     "output_type": "stream",
     "text": [
      "--Признак: type\n",
      "* Количество уникальных значение:  6\n",
      "* Частотность значений:\n",
      " Художественный                5909\n",
      "Анимационный                   829\n",
      "Прочие                         406\n",
      "Документальный                 288\n",
      "Научно-популярный               53\n",
      "Музыкально-развлекательный       1\n",
      "Name: type, dtype: int64\n",
      "\n",
      "--Признак: film_studio\n",
      "* Количество уникальных значение:  5491\n",
      "* Частотность значений:\n",
      " Киностудия \"Мосфильм\"                                                                         341\n",
      "ООО \"Мульт в кино\"                                                                             57\n",
      "Анимаккорд Лтд                                                                                 23\n",
      "undefined                                                                                      18\n",
      "ООО \"Мульт в кино\"                                                                             18\n",
      "                                                                                             ... \n",
      "Прайорити Пикчерз, Эй Лайн Пикчерз, Депф оф Филдз                                               1\n",
      "Дойчефилм, Куко Клок Интертейнмент, Сенатор Филм, Риалто Филм, А Эр Дэ Дегето Филм              1\n",
      "Саммит Интертейнмент, Рэд Вагон Интертейнмент, Мандэвилл Филмз                                  1\n",
      "БиБиСи Филмз, ЮКей Филм Кансил, Лаймлайт Коммьюникейшн, КонтентФилм, Касандер Филм Компани      1\n",
      "ООО \"Фрэнк Ресёч Групп\"                                                                         1\n",
      "Name: film_studio, Length: 5491, dtype: int64\n",
      "\n",
      "--Признак: production_country\n",
      "* Количество уникальных значение:  951\n",
      "* Частотность значений:\n",
      " США                             2172\n",
      "Россия                          1821\n",
      "СССР                             347\n",
      "Франция                          301\n",
      "Великобритания                   257\n",
      "                                ... \n",
      "Великобритания, США, Испания       1\n",
      "Франция - Польша - Бельгия         1\n",
      "Чехословакия                       1\n",
      "КНР-США                            1\n",
      "Франция - Дания                    1\n",
      "Name: production_country, Length: 951, dtype: int64\n",
      "\n",
      "--Признак: director\n",
      "* Количество уникальных значение:  4812\n",
      "* Частотность значений:\n",
      " О.Семёнова                                                                             47\n",
      "Д.Червяцов                                                                             17\n",
      "Стивен Содерберг                                                                       17\n",
      "Ридли Скотт                                                                            16\n",
      "Тиль Швайгер                                                                           14\n",
      "                                                                                       ..\n",
      "Т.Новикова                                                                              1\n",
      "А.Егоров                                                                                1\n",
      "Р.Ганган                                                                                1\n",
      "А.Пармас, Н.Кудряшова, А.Гогленкова, Н.Назарова, О.Бычкова, А.Смирнова, Р.Литвинова     1\n",
      "Алексис Михалик                                                                         1\n",
      "Name: director, Length: 4812, dtype: int64\n",
      "\n",
      "--Признак: producer\n",
      "* Количество уникальных значение:  5350\n",
      "* Частотность значений:\n",
      " undefined                                        568\n",
      "П.Смирнов                                         67\n",
      "Олег Кузовков, Дмитрий Ловейко, Марина Ратина     28\n",
      "С.Сельянов                                        18\n",
      "Д.Ловейко, О.Кузовков                             17\n",
      "                                                ... \n",
      "Хирокадзу Корэ-Эда                                 1\n",
      "Фредерик Брильон, Жиль Легран                      1\n",
      "Крис Кларк, Квентин Кертис, Дэн Фридкин            1\n",
      "К.Малкин-Фам, Б.Минц, Е.Одинцов, К.Михайлова       1\n",
      "Аарон Барнетт, Эри Лантос, Роберт Лантош           1\n",
      "Name: producer, Length: 5350, dtype: int64\n",
      "\n",
      "--Признак: genres\n",
      "* Количество уникальных значение:  743\n",
      "* Частотность значений:\n",
      " undefined                        976\n",
      "драма                            476\n",
      "комедия                          352\n",
      "мелодрама,комедия                222\n",
      "драма,мелодрама,комедия          189\n",
      "                                ... \n",
      "короткометражка,драма,военный      1\n",
      "комедия,приключения,вестерн        1\n",
      "боевик,драма,триллер               1\n",
      "фантастика,детектив,фэнтези        1\n",
      "детектив,приключения,триллер       1\n",
      "Name: genres, Length: 743, dtype: int64\n",
      "\n",
      "--Признак: age_restriction\n",
      "* Количество уникальных значение:  5\n",
      "* Частотность значений:\n",
      " «16+» - для детей старше 16 лет           2851\n",
      "«18+» - запрещено для детей               1605\n",
      "«12+» - для детей старше 12 лет           1593\n",
      "«0+» - для любой зрительской аудитории     811\n",
      "«6+» - для детей старше 6 лет              626\n",
      "Name: age_restriction, dtype: int64\n",
      "\n",
      "--Признак: financing_source\n",
      "* Количество уникальных значение:  3\n",
      "* Частотность значений:\n",
      " Министерство культуры               164\n",
      "Фонд кино                           146\n",
      "Министерство культуры, Фонд кино     22\n",
      "Name: financing_source, dtype: int64\n",
      "\n"
     ]
    }
   ],
   "source": [
    "cat_features = ['type', 'film_studio', 'production_country', 'director', 'producer', 'genres', 'age_restriction', 'financing_source']\n",
    "\n",
    "for col in cat_features:\n",
    "    \n",
    "    print('--Признак:',col)\n",
    "    print('* Количество уникальных значение: ', movies_df[col].nunique())\n",
    "    print('* Частотность значений:\\n', movies_df[col].value_counts())\n",
    "    print()"
   ]
  },
  {
   "cell_type": "markdown",
   "metadata": {
    "id": "XFSN5lrEgFyR"
   },
   "source": [
    "### Проверка количественных значений"
   ]
  },
  {
   "cell_type": "code",
   "execution_count": 187,
   "metadata": {
    "scrolled": true
   },
   "outputs": [
    {
     "data": {
      "text/html": [
       "<div>\n",
       "<style scoped>\n",
       "    .dataframe tbody tr th:only-of-type {\n",
       "        vertical-align: middle;\n",
       "    }\n",
       "\n",
       "    .dataframe tbody tr th {\n",
       "        vertical-align: top;\n",
       "    }\n",
       "\n",
       "    .dataframe thead th {\n",
       "        text-align: right;\n",
       "    }\n",
       "</style>\n",
       "<table border=\"1\" class=\"dataframe\">\n",
       "  <thead>\n",
       "    <tr style=\"text-align: right;\">\n",
       "      <th></th>\n",
       "      <th>refundable_support</th>\n",
       "      <th>nonrefundable_support</th>\n",
       "      <th>budget</th>\n",
       "      <th>ratings</th>\n",
       "      <th>box_office</th>\n",
       "    </tr>\n",
       "  </thead>\n",
       "  <tbody>\n",
       "    <tr>\n",
       "      <td>count</td>\n",
       "      <td>3.320000e+02</td>\n",
       "      <td>3.320000e+02</td>\n",
       "      <td>3.320000e+02</td>\n",
       "      <td>6490.000000</td>\n",
       "      <td>3.158000e+03</td>\n",
       "    </tr>\n",
       "    <tr>\n",
       "      <td>mean</td>\n",
       "      <td>1.186446e+07</td>\n",
       "      <td>4.898099e+07</td>\n",
       "      <td>1.272297e+08</td>\n",
       "      <td>6.479245</td>\n",
       "      <td>7.647870e+07</td>\n",
       "    </tr>\n",
       "    <tr>\n",
       "      <td>std</td>\n",
       "      <td>2.491656e+07</td>\n",
       "      <td>5.998012e+07</td>\n",
       "      <td>1.885883e+08</td>\n",
       "      <td>1.101665</td>\n",
       "      <td>2.403531e+08</td>\n",
       "    </tr>\n",
       "    <tr>\n",
       "      <td>min</td>\n",
       "      <td>0.000000e+00</td>\n",
       "      <td>0.000000e+00</td>\n",
       "      <td>0.000000e+00</td>\n",
       "      <td>1.000000</td>\n",
       "      <td>0.000000e+00</td>\n",
       "    </tr>\n",
       "    <tr>\n",
       "      <td>25%</td>\n",
       "      <td>0.000000e+00</td>\n",
       "      <td>2.500000e+07</td>\n",
       "      <td>4.200000e+07</td>\n",
       "      <td>5.900000</td>\n",
       "      <td>8.623900e+04</td>\n",
       "    </tr>\n",
       "    <tr>\n",
       "      <td>50%</td>\n",
       "      <td>0.000000e+00</td>\n",
       "      <td>3.000000e+07</td>\n",
       "      <td>6.864992e+07</td>\n",
       "      <td>6.600000</td>\n",
       "      <td>2.327988e+06</td>\n",
       "    </tr>\n",
       "    <tr>\n",
       "      <td>75%</td>\n",
       "      <td>1.500000e+07</td>\n",
       "      <td>4.037500e+07</td>\n",
       "      <td>1.419853e+08</td>\n",
       "      <td>7.200000</td>\n",
       "      <td>2.397967e+07</td>\n",
       "    </tr>\n",
       "    <tr>\n",
       "      <td>max</td>\n",
       "      <td>1.800000e+08</td>\n",
       "      <td>4.000000e+08</td>\n",
       "      <td>2.305074e+09</td>\n",
       "      <td>9.200000</td>\n",
       "      <td>3.073569e+09</td>\n",
       "    </tr>\n",
       "  </tbody>\n",
       "</table>\n",
       "</div>"
      ],
      "text/plain": [
       "       refundable_support  nonrefundable_support        budget      ratings  \\\n",
       "count        3.320000e+02           3.320000e+02  3.320000e+02  6490.000000   \n",
       "mean         1.186446e+07           4.898099e+07  1.272297e+08     6.479245   \n",
       "std          2.491656e+07           5.998012e+07  1.885883e+08     1.101665   \n",
       "min          0.000000e+00           0.000000e+00  0.000000e+00     1.000000   \n",
       "25%          0.000000e+00           2.500000e+07  4.200000e+07     5.900000   \n",
       "50%          0.000000e+00           3.000000e+07  6.864992e+07     6.600000   \n",
       "75%          1.500000e+07           4.037500e+07  1.419853e+08     7.200000   \n",
       "max          1.800000e+08           4.000000e+08  2.305074e+09     9.200000   \n",
       "\n",
       "         box_office  \n",
       "count  3.158000e+03  \n",
       "mean   7.647870e+07  \n",
       "std    2.403531e+08  \n",
       "min    0.000000e+00  \n",
       "25%    8.623900e+04  \n",
       "50%    2.327988e+06  \n",
       "75%    2.397967e+07  \n",
       "max    3.073569e+09  "
      ]
     },
     "execution_count": 187,
     "metadata": {},
     "output_type": "execute_result"
    }
   ],
   "source": [
    "movies_df.describe()"
   ]
  },
  {
   "cell_type": "code",
   "execution_count": 188,
   "metadata": {
    "scrolled": true
   },
   "outputs": [
    {
     "data": {
      "text/plain": [
       "17"
      ]
     },
     "execution_count": 188,
     "metadata": {},
     "output_type": "execute_result"
    }
   ],
   "source": [
    "movies_df.query('budget == 0')['puNumber'].count()"
   ]
  },
  {
   "cell_type": "code",
   "execution_count": 189,
   "metadata": {
    "id": "YbzClBxagFyS",
    "scrolled": true
   },
   "outputs": [
    {
     "data": {
      "text/plain": [
       "7486"
      ]
     },
     "metadata": {},
     "output_type": "display_data"
    },
    {
     "data": {
      "text/plain": [
       "7469"
      ]
     },
     "execution_count": 189,
     "metadata": {},
     "output_type": "execute_result"
    }
   ],
   "source": [
    "display(movies_df.shape[0])\n",
    "movies_df = movies_df.query(\"not(budget < nonrefundable_support + refundable_support)\")\n",
    "movies_df.shape[0]"
   ]
  },
  {
   "cell_type": "markdown",
   "metadata": {},
   "source": [
    "#### Вывод"
   ]
  },
  {
   "cell_type": "markdown",
   "metadata": {},
   "source": [
    "Было выявлено, что у некоторых фильмов сумма гос. поддержки превышает весь бюджет фильма, что странно. Было принято решение удалить подобные строки."
   ]
  },
  {
   "cell_type": "markdown",
   "metadata": {
    "id": "Eu6oWp2CgFyS"
   },
   "source": [
    "### Добавление новых столбцов"
   ]
  },
  {
   "cell_type": "markdown",
   "metadata": {
    "id": "7GgW-UpAgFyS"
   },
   "source": [
    "- Создание столбца с информацией о годе проката."
   ]
  },
  {
   "cell_type": "code",
   "execution_count": 190,
   "metadata": {
    "id": "I-yd1DkWgFyT",
    "scrolled": true
   },
   "outputs": [],
   "source": [
    "movies_df['rental_year'] = movies_df['show_start_date'].dt.year"
   ]
  },
  {
   "cell_type": "markdown",
   "metadata": {
    "id": "nFTDLDYOgFyT"
   },
   "source": [
    "- Создание двух столбцов: с именем и фамилией главного режиссёра и основным жанром фильма. В столбцы войдут первые значения из списка режиссёров и жанров соответственно."
   ]
  },
  {
   "cell_type": "code",
   "execution_count": 191,
   "metadata": {
    "id": "LSbRZKbMgFyU"
   },
   "outputs": [
    {
     "data": {
      "text/html": [
       "<div>\n",
       "<style scoped>\n",
       "    .dataframe tbody tr th:only-of-type {\n",
       "        vertical-align: middle;\n",
       "    }\n",
       "\n",
       "    .dataframe tbody tr th {\n",
       "        vertical-align: top;\n",
       "    }\n",
       "\n",
       "    .dataframe thead th {\n",
       "        text-align: right;\n",
       "    }\n",
       "</style>\n",
       "<table border=\"1\" class=\"dataframe\">\n",
       "  <thead>\n",
       "    <tr style=\"text-align: right;\">\n",
       "      <th></th>\n",
       "      <th>title</th>\n",
       "      <th>puNumber</th>\n",
       "      <th>show_start_date</th>\n",
       "      <th>type</th>\n",
       "      <th>film_studio</th>\n",
       "      <th>production_country</th>\n",
       "      <th>director</th>\n",
       "      <th>producer</th>\n",
       "      <th>age_restriction</th>\n",
       "      <th>refundable_support</th>\n",
       "      <th>nonrefundable_support</th>\n",
       "      <th>budget</th>\n",
       "      <th>financing_source</th>\n",
       "      <th>ratings</th>\n",
       "      <th>genres</th>\n",
       "      <th>box_office</th>\n",
       "      <th>rental_year</th>\n",
       "      <th>main_director</th>\n",
       "      <th>main_genre</th>\n",
       "    </tr>\n",
       "  </thead>\n",
       "  <tbody>\n",
       "    <tr>\n",
       "      <td>0</td>\n",
       "      <td>Открытый простор</td>\n",
       "      <td>221048915</td>\n",
       "      <td>2015-11-27 12:00:00+00:00</td>\n",
       "      <td>Художественный</td>\n",
       "      <td>Тачстоун Пикчерз, Кобальт Пикчерз, Бикон Пикче...</td>\n",
       "      <td>США</td>\n",
       "      <td>Кевин Костнер</td>\n",
       "      <td>Дэвид Валдес, Кевин Костнер, Джейк Эбертс</td>\n",
       "      <td>«18+» - запрещено для детей</td>\n",
       "      <td>NaN</td>\n",
       "      <td>NaN</td>\n",
       "      <td>NaN</td>\n",
       "      <td>NaN</td>\n",
       "      <td>7.2</td>\n",
       "      <td>боевик,драма,мелодрама</td>\n",
       "      <td>NaN</td>\n",
       "      <td>2015</td>\n",
       "      <td>Кевин Костнер</td>\n",
       "      <td>боевик</td>\n",
       "    </tr>\n",
       "    <tr>\n",
       "      <td>1</td>\n",
       "      <td>Особо важное задание</td>\n",
       "      <td>111013716</td>\n",
       "      <td>2016-09-13 12:00:00+00:00</td>\n",
       "      <td>Художественный</td>\n",
       "      <td>Киностудия \"Мосфильм\"</td>\n",
       "      <td>СССР</td>\n",
       "      <td>Е.Матвеев</td>\n",
       "      <td>undefined</td>\n",
       "      <td>«6+» - для детей старше 6 лет</td>\n",
       "      <td>NaN</td>\n",
       "      <td>NaN</td>\n",
       "      <td>NaN</td>\n",
       "      <td>NaN</td>\n",
       "      <td>6.6</td>\n",
       "      <td>драма,военный</td>\n",
       "      <td>NaN</td>\n",
       "      <td>2016</td>\n",
       "      <td>Е.Матвеев</td>\n",
       "      <td>драма</td>\n",
       "    </tr>\n",
       "    <tr>\n",
       "      <td>2</td>\n",
       "      <td>Особо опасен</td>\n",
       "      <td>221038416</td>\n",
       "      <td>2016-10-10 12:00:00+00:00</td>\n",
       "      <td>Художественный</td>\n",
       "      <td>Юниверсал Пикчерз, Кикстарт Продакшнз, Марк Пл...</td>\n",
       "      <td>США</td>\n",
       "      <td>Тимур Бекмамбетов</td>\n",
       "      <td>Джим Лемли, Джейсон Нетер, Марк Е.Платт, Яйн Смит</td>\n",
       "      <td>«18+» - запрещено для детей</td>\n",
       "      <td>NaN</td>\n",
       "      <td>NaN</td>\n",
       "      <td>NaN</td>\n",
       "      <td>NaN</td>\n",
       "      <td>6.8</td>\n",
       "      <td>фантастика,боевик,триллер</td>\n",
       "      <td>NaN</td>\n",
       "      <td>2016</td>\n",
       "      <td>Тимур Бекмамбетов</td>\n",
       "      <td>фантастика</td>\n",
       "    </tr>\n",
       "    <tr>\n",
       "      <td>3</td>\n",
       "      <td>Особо опасен</td>\n",
       "      <td>221026916</td>\n",
       "      <td>2016-06-10 12:00:00+00:00</td>\n",
       "      <td>Художественный</td>\n",
       "      <td>Юниверсал Пикчерз, Кикстарт Продакшнз, Марк Пл...</td>\n",
       "      <td>США</td>\n",
       "      <td>Тимур Бекмамбетов</td>\n",
       "      <td>Джим Лемли, Джейсон Нетер, Марк Е.Платт, Яйн Смит</td>\n",
       "      <td>«18+» - запрещено для детей</td>\n",
       "      <td>NaN</td>\n",
       "      <td>NaN</td>\n",
       "      <td>NaN</td>\n",
       "      <td>NaN</td>\n",
       "      <td>6.8</td>\n",
       "      <td>фантастика,боевик,триллер</td>\n",
       "      <td>NaN</td>\n",
       "      <td>2016</td>\n",
       "      <td>Тимур Бекмамбетов</td>\n",
       "      <td>фантастика</td>\n",
       "    </tr>\n",
       "    <tr>\n",
       "      <td>4</td>\n",
       "      <td>Особо опасен</td>\n",
       "      <td>221030815</td>\n",
       "      <td>2015-07-29 12:00:00+00:00</td>\n",
       "      <td>Художественный</td>\n",
       "      <td>Юниверсал Пикчерз, Кикстарт Продакшнз, Марк Пл...</td>\n",
       "      <td>США</td>\n",
       "      <td>Тимур Бекмамбетов</td>\n",
       "      <td>Джим Лемли, Джейсон Нетер, Марк Е.Платт, Яйн Смит</td>\n",
       "      <td>«18+» - запрещено для детей</td>\n",
       "      <td>NaN</td>\n",
       "      <td>NaN</td>\n",
       "      <td>NaN</td>\n",
       "      <td>NaN</td>\n",
       "      <td>6.8</td>\n",
       "      <td>фантастика,боевик,триллер</td>\n",
       "      <td>NaN</td>\n",
       "      <td>2015</td>\n",
       "      <td>Тимур Бекмамбетов</td>\n",
       "      <td>фантастика</td>\n",
       "    </tr>\n",
       "  </tbody>\n",
       "</table>\n",
       "</div>"
      ],
      "text/plain": [
       "                  title   puNumber           show_start_date            type  \\\n",
       "0      Открытый простор  221048915 2015-11-27 12:00:00+00:00  Художественный   \n",
       "1  Особо важное задание  111013716 2016-09-13 12:00:00+00:00  Художественный   \n",
       "2          Особо опасен  221038416 2016-10-10 12:00:00+00:00  Художественный   \n",
       "3          Особо опасен  221026916 2016-06-10 12:00:00+00:00  Художественный   \n",
       "4          Особо опасен  221030815 2015-07-29 12:00:00+00:00  Художественный   \n",
       "\n",
       "                                         film_studio production_country  \\\n",
       "0  Тачстоун Пикчерз, Кобальт Пикчерз, Бикон Пикче...                США   \n",
       "1                              Киностудия \"Мосфильм\"               СССР   \n",
       "2  Юниверсал Пикчерз, Кикстарт Продакшнз, Марк Пл...                США   \n",
       "3  Юниверсал Пикчерз, Кикстарт Продакшнз, Марк Пл...                США   \n",
       "4  Юниверсал Пикчерз, Кикстарт Продакшнз, Марк Пл...                США   \n",
       "\n",
       "            director                                           producer  \\\n",
       "0      Кевин Костнер          Дэвид Валдес, Кевин Костнер, Джейк Эбертс   \n",
       "1          Е.Матвеев                                          undefined   \n",
       "2  Тимур Бекмамбетов  Джим Лемли, Джейсон Нетер, Марк Е.Платт, Яйн Смит   \n",
       "3  Тимур Бекмамбетов  Джим Лемли, Джейсон Нетер, Марк Е.Платт, Яйн Смит   \n",
       "4  Тимур Бекмамбетов  Джим Лемли, Джейсон Нетер, Марк Е.Платт, Яйн Смит   \n",
       "\n",
       "                 age_restriction  refundable_support  nonrefundable_support  \\\n",
       "0    «18+» - запрещено для детей                 NaN                    NaN   \n",
       "1  «6+» - для детей старше 6 лет                 NaN                    NaN   \n",
       "2    «18+» - запрещено для детей                 NaN                    NaN   \n",
       "3    «18+» - запрещено для детей                 NaN                    NaN   \n",
       "4    «18+» - запрещено для детей                 NaN                    NaN   \n",
       "\n",
       "   budget financing_source  ratings                     genres  box_office  \\\n",
       "0     NaN              NaN      7.2     боевик,драма,мелодрама         NaN   \n",
       "1     NaN              NaN      6.6              драма,военный         NaN   \n",
       "2     NaN              NaN      6.8  фантастика,боевик,триллер         NaN   \n",
       "3     NaN              NaN      6.8  фантастика,боевик,триллер         NaN   \n",
       "4     NaN              NaN      6.8  фантастика,боевик,триллер         NaN   \n",
       "\n",
       "   rental_year      main_director  main_genre  \n",
       "0         2015      Кевин Костнер      боевик  \n",
       "1         2016          Е.Матвеев       драма  \n",
       "2         2016  Тимур Бекмамбетов  фантастика  \n",
       "3         2016  Тимур Бекмамбетов  фантастика  \n",
       "4         2015  Тимур Бекмамбетов  фантастика  "
      ]
     },
     "execution_count": 191,
     "metadata": {},
     "output_type": "execute_result"
    }
   ],
   "source": [
    "def extract_first_from_column(col):\n",
    "    return col.split(',')[0]\n",
    "\n",
    "movies_df['main_director'] = movies_df['director'].apply(extract_first_from_column)\n",
    "movies_df['main_genre'] = movies_df['genres'].apply(extract_first_from_column)\n",
    "#director это режиссер\n",
    "movies_df.head()"
   ]
  },
  {
   "cell_type": "markdown",
   "metadata": {
    "id": "1FsCXHwdgFyU"
   },
   "source": [
    "- Создать столбец с информацией о том какую долю от общего бюджета фильма составляет государственная поддержка."
   ]
  },
  {
   "cell_type": "code",
   "execution_count": 192,
   "metadata": {
    "id": "LV6qFuZLgFyV"
   },
   "outputs": [
    {
     "data": {
      "text/html": [
       "<div>\n",
       "<style scoped>\n",
       "    .dataframe tbody tr th:only-of-type {\n",
       "        vertical-align: middle;\n",
       "    }\n",
       "\n",
       "    .dataframe tbody tr th {\n",
       "        vertical-align: top;\n",
       "    }\n",
       "\n",
       "    .dataframe thead th {\n",
       "        text-align: right;\n",
       "    }\n",
       "</style>\n",
       "<table border=\"1\" class=\"dataframe\">\n",
       "  <thead>\n",
       "    <tr style=\"text-align: right;\">\n",
       "      <th></th>\n",
       "      <th>title</th>\n",
       "      <th>puNumber</th>\n",
       "      <th>show_start_date</th>\n",
       "      <th>type</th>\n",
       "      <th>film_studio</th>\n",
       "      <th>production_country</th>\n",
       "      <th>director</th>\n",
       "      <th>producer</th>\n",
       "      <th>age_restriction</th>\n",
       "      <th>refundable_support</th>\n",
       "      <th>nonrefundable_support</th>\n",
       "      <th>budget</th>\n",
       "      <th>financing_source</th>\n",
       "      <th>ratings</th>\n",
       "      <th>genres</th>\n",
       "      <th>box_office</th>\n",
       "      <th>rental_year</th>\n",
       "      <th>main_director</th>\n",
       "      <th>main_genre</th>\n",
       "      <th>share_budget</th>\n",
       "    </tr>\n",
       "  </thead>\n",
       "  <tbody>\n",
       "    <tr>\n",
       "      <td>1281</td>\n",
       "      <td>Пока еще жива</td>\n",
       "      <td>111005313</td>\n",
       "      <td>2013-10-11 12:00:00+00:00</td>\n",
       "      <td>Художественный</td>\n",
       "      <td>АНО содействия развитию кинематографии \"Ангел-...</td>\n",
       "      <td>Россия</td>\n",
       "      <td>А.Атанесян</td>\n",
       "      <td>А.Атанесян, М.Бабаханов, Р.Бутко</td>\n",
       "      <td>«16+» - для детей старше 16 лет</td>\n",
       "      <td>0.0</td>\n",
       "      <td>26500000.0</td>\n",
       "      <td>79411900.0</td>\n",
       "      <td>Министерство культуры</td>\n",
       "      <td>8.1</td>\n",
       "      <td>драма,мелодрама</td>\n",
       "      <td>3.653536e+05</td>\n",
       "      <td>2013</td>\n",
       "      <td>А.Атанесян</td>\n",
       "      <td>драма</td>\n",
       "      <td>0.333703</td>\n",
       "    </tr>\n",
       "    <tr>\n",
       "      <td>1448</td>\n",
       "      <td>Бесславные придурки</td>\n",
       "      <td>111003314</td>\n",
       "      <td>2014-03-28 12:00:00+00:00</td>\n",
       "      <td>Художественный</td>\n",
       "      <td>ООО \"Компания \"АТК-Студио\"</td>\n",
       "      <td>Россия</td>\n",
       "      <td>А.Якимчук</td>\n",
       "      <td>А.Тютрюмов</td>\n",
       "      <td>«12+» - для детей старше 12 лет</td>\n",
       "      <td>0.0</td>\n",
       "      <td>26000000.0</td>\n",
       "      <td>37142857.0</td>\n",
       "      <td>Министерство культуры</td>\n",
       "      <td>NaN</td>\n",
       "      <td>undefined</td>\n",
       "      <td>2.814000e+04</td>\n",
       "      <td>2014</td>\n",
       "      <td>А.Якимчук</td>\n",
       "      <td>undefined</td>\n",
       "      <td>0.700000</td>\n",
       "    </tr>\n",
       "    <tr>\n",
       "      <td>1498</td>\n",
       "      <td>Невидимки</td>\n",
       "      <td>111004213</td>\n",
       "      <td>2013-09-10 12:00:00+00:00</td>\n",
       "      <td>Художественный</td>\n",
       "      <td>ООО \"Компания \"РЕАЛ-ДАКОТА\"</td>\n",
       "      <td>Россия</td>\n",
       "      <td>Р.Давлетьяров, С.Комаров</td>\n",
       "      <td>Р.Давлетьяров, А.Котелевский, А.Олейников</td>\n",
       "      <td>«12+» - для детей старше 12 лет</td>\n",
       "      <td>0.0</td>\n",
       "      <td>107847945.0</td>\n",
       "      <td>176023490.0</td>\n",
       "      <td>Фонд кино</td>\n",
       "      <td>5.3</td>\n",
       "      <td>комедия,фантастика</td>\n",
       "      <td>1.995703e+07</td>\n",
       "      <td>2013</td>\n",
       "      <td>Р.Давлетьяров</td>\n",
       "      <td>комедия</td>\n",
       "      <td>0.612691</td>\n",
       "    </tr>\n",
       "    <tr>\n",
       "      <td>1524</td>\n",
       "      <td>БЕРЦЫ</td>\n",
       "      <td>111004314</td>\n",
       "      <td>2014-05-05 12:00:00+00:00</td>\n",
       "      <td>Художественный</td>\n",
       "      <td>ООО \"Студия \"Пассажир\"</td>\n",
       "      <td>Россия</td>\n",
       "      <td>Е.Миндадзе (псевдоним Катя Шагалова)</td>\n",
       "      <td>Л.Антонова</td>\n",
       "      <td>«16+» - для детей старше 16 лет</td>\n",
       "      <td>0.0</td>\n",
       "      <td>28000000.0</td>\n",
       "      <td>40574140.0</td>\n",
       "      <td>Министерство культуры</td>\n",
       "      <td>4.2</td>\n",
       "      <td>драма</td>\n",
       "      <td>5.591750e+04</td>\n",
       "      <td>2014</td>\n",
       "      <td>Е.Миндадзе (псевдоним Катя Шагалова)</td>\n",
       "      <td>драма</td>\n",
       "      <td>0.690095</td>\n",
       "    </tr>\n",
       "    <tr>\n",
       "      <td>1792</td>\n",
       "      <td>Братья Ч</td>\n",
       "      <td>111004414</td>\n",
       "      <td>2014-04-23 12:00:00+00:00</td>\n",
       "      <td>Художественный</td>\n",
       "      <td>ООО \"Студия \"Пассажир\"</td>\n",
       "      <td>Россия</td>\n",
       "      <td>М.Угаров</td>\n",
       "      <td>А.Миндадзе, Л.Антонова</td>\n",
       "      <td>«16+» - для детей старше 16 лет</td>\n",
       "      <td>0.0</td>\n",
       "      <td>25000000.0</td>\n",
       "      <td>40015122.0</td>\n",
       "      <td>Министерство культуры</td>\n",
       "      <td>6.4</td>\n",
       "      <td>драма</td>\n",
       "      <td>2.321000e+05</td>\n",
       "      <td>2014</td>\n",
       "      <td>М.Угаров</td>\n",
       "      <td>драма</td>\n",
       "      <td>0.624764</td>\n",
       "    </tr>\n",
       "    <tr>\n",
       "      <td>...</td>\n",
       "      <td>...</td>\n",
       "      <td>...</td>\n",
       "      <td>...</td>\n",
       "      <td>...</td>\n",
       "      <td>...</td>\n",
       "      <td>...</td>\n",
       "      <td>...</td>\n",
       "      <td>...</td>\n",
       "      <td>...</td>\n",
       "      <td>...</td>\n",
       "      <td>...</td>\n",
       "      <td>...</td>\n",
       "      <td>...</td>\n",
       "      <td>...</td>\n",
       "      <td>...</td>\n",
       "      <td>...</td>\n",
       "      <td>...</td>\n",
       "      <td>...</td>\n",
       "      <td>...</td>\n",
       "      <td>...</td>\n",
       "    </tr>\n",
       "    <tr>\n",
       "      <td>7464</td>\n",
       "      <td>Союз спасения</td>\n",
       "      <td>111022019</td>\n",
       "      <td>2019-12-26 12:00:00+00:00</td>\n",
       "      <td>Художественный</td>\n",
       "      <td>ЗАО \"Дирекция кино\"</td>\n",
       "      <td>Россия</td>\n",
       "      <td>А.Кравчук</td>\n",
       "      <td>А.Максимов, К.Эрнст</td>\n",
       "      <td>«12+» - для детей старше 12 лет</td>\n",
       "      <td>100000000.0</td>\n",
       "      <td>400000000.0</td>\n",
       "      <td>980000000.0</td>\n",
       "      <td>Фонд кино</td>\n",
       "      <td>6.0</td>\n",
       "      <td>история,биография,драма</td>\n",
       "      <td>7.177032e+08</td>\n",
       "      <td>2019</td>\n",
       "      <td>А.Кравчук</td>\n",
       "      <td>история</td>\n",
       "      <td>0.510204</td>\n",
       "    </tr>\n",
       "    <tr>\n",
       "      <td>7466</td>\n",
       "      <td>Иван Царевич и Серый Волк 4</td>\n",
       "      <td>114005019</td>\n",
       "      <td>2019-12-20 12:00:00+00:00</td>\n",
       "      <td>Анимационный</td>\n",
       "      <td>ООО \"Студия анимационного кино \"Мельница\"</td>\n",
       "      <td>Россия</td>\n",
       "      <td>Д.Шмидт, К.Феоктистов</td>\n",
       "      <td>С.Сельянов, А.Боярский</td>\n",
       "      <td>«6+» - для детей старше 6 лет</td>\n",
       "      <td>100000000.0</td>\n",
       "      <td>0.0</td>\n",
       "      <td>190000000.0</td>\n",
       "      <td>Фонд кино</td>\n",
       "      <td>6.7</td>\n",
       "      <td>мультфильм,приключения,семейный</td>\n",
       "      <td>5.010692e+08</td>\n",
       "      <td>2019</td>\n",
       "      <td>Д.Шмидт</td>\n",
       "      <td>мультфильм</td>\n",
       "      <td>0.526316</td>\n",
       "    </tr>\n",
       "    <tr>\n",
       "      <td>7474</td>\n",
       "      <td>Вторжение</td>\n",
       "      <td>111022519</td>\n",
       "      <td>2019-12-23 12:00:00+00:00</td>\n",
       "      <td>Художественный</td>\n",
       "      <td>ООО \"Арт Пикчерс Студия\", ООО \"Водород 2011\"</td>\n",
       "      <td>Россия</td>\n",
       "      <td>Ф.Бондарчук</td>\n",
       "      <td>Ф.Бондарчук, М.Врубель, А.Андрющенко, Д.Рудовский</td>\n",
       "      <td>«12+» - для детей старше 12 лет</td>\n",
       "      <td>100000000.0</td>\n",
       "      <td>400000000.0</td>\n",
       "      <td>944000000.0</td>\n",
       "      <td>Фонд кино</td>\n",
       "      <td>5.7</td>\n",
       "      <td>фантастика,боевик</td>\n",
       "      <td>NaN</td>\n",
       "      <td>2019</td>\n",
       "      <td>Ф.Бондарчук</td>\n",
       "      <td>фантастика</td>\n",
       "      <td>0.529661</td>\n",
       "    </tr>\n",
       "    <tr>\n",
       "      <td>7476</td>\n",
       "      <td>Я свободен</td>\n",
       "      <td>111023019</td>\n",
       "      <td>2019-12-26 12:00:00+00:00</td>\n",
       "      <td>Художественный</td>\n",
       "      <td>АО \"ТПО \"Киностудия им. М.Горького\"</td>\n",
       "      <td>Россия</td>\n",
       "      <td>И.Северов</td>\n",
       "      <td>С.Зернов</td>\n",
       "      <td>«12+» - для детей старше 12 лет</td>\n",
       "      <td>0.0</td>\n",
       "      <td>30000000.0</td>\n",
       "      <td>46154000.0</td>\n",
       "      <td>Министерство культуры</td>\n",
       "      <td>5.9</td>\n",
       "      <td>драма</td>\n",
       "      <td>NaN</td>\n",
       "      <td>2019</td>\n",
       "      <td>И.Северов</td>\n",
       "      <td>драма</td>\n",
       "      <td>0.649998</td>\n",
       "    </tr>\n",
       "    <tr>\n",
       "      <td>7478</td>\n",
       "      <td>(Не)идеальный мужчина</td>\n",
       "      <td>111023119</td>\n",
       "      <td>2019-12-24 12:00:00+00:00</td>\n",
       "      <td>Художественный</td>\n",
       "      <td>ООО \"Нон-Стоп Продакшн\"</td>\n",
       "      <td>Россия</td>\n",
       "      <td>М.Бальчюнас (псевдоним М.Вайсберг)</td>\n",
       "      <td>С.Мелькумов, А.Роднянский, М.Вайсберг, Р.Минас...</td>\n",
       "      <td>«12+» - для детей старше 12 лет</td>\n",
       "      <td>40000000.0</td>\n",
       "      <td>60000000.0</td>\n",
       "      <td>150147502.0</td>\n",
       "      <td>Фонд кино</td>\n",
       "      <td>4.5</td>\n",
       "      <td>комедия,фантастика,мелодрама</td>\n",
       "      <td>NaN</td>\n",
       "      <td>2019</td>\n",
       "      <td>М.Бальчюнас (псевдоним М.Вайсберг)</td>\n",
       "      <td>комедия</td>\n",
       "      <td>0.666012</td>\n",
       "    </tr>\n",
       "  </tbody>\n",
       "</table>\n",
       "<p>315 rows × 20 columns</p>\n",
       "</div>"
      ],
      "text/plain": [
       "                            title   puNumber           show_start_date  \\\n",
       "1281                Пока еще жива  111005313 2013-10-11 12:00:00+00:00   \n",
       "1448          Бесславные придурки  111003314 2014-03-28 12:00:00+00:00   \n",
       "1498                    Невидимки  111004213 2013-09-10 12:00:00+00:00   \n",
       "1524                        БЕРЦЫ  111004314 2014-05-05 12:00:00+00:00   \n",
       "1792                     Братья Ч  111004414 2014-04-23 12:00:00+00:00   \n",
       "...                           ...        ...                       ...   \n",
       "7464                Союз спасения  111022019 2019-12-26 12:00:00+00:00   \n",
       "7466  Иван Царевич и Серый Волк 4  114005019 2019-12-20 12:00:00+00:00   \n",
       "7474                    Вторжение  111022519 2019-12-23 12:00:00+00:00   \n",
       "7476                   Я свободен  111023019 2019-12-26 12:00:00+00:00   \n",
       "7478        (Не)идеальный мужчина  111023119 2019-12-24 12:00:00+00:00   \n",
       "\n",
       "                type                                        film_studio  \\\n",
       "1281  Художественный  АНО содействия развитию кинематографии \"Ангел-...   \n",
       "1448  Художественный                         ООО \"Компания \"АТК-Студио\"   \n",
       "1498  Художественный                        ООО \"Компания \"РЕАЛ-ДАКОТА\"   \n",
       "1524  Художественный                             ООО \"Студия \"Пассажир\"   \n",
       "1792  Художественный                             ООО \"Студия \"Пассажир\"   \n",
       "...              ...                                                ...   \n",
       "7464  Художественный                                ЗАО \"Дирекция кино\"   \n",
       "7466    Анимационный          ООО \"Студия анимационного кино \"Мельница\"   \n",
       "7474  Художественный       ООО \"Арт Пикчерс Студия\", ООО \"Водород 2011\"   \n",
       "7476  Художественный                АО \"ТПО \"Киностудия им. М.Горького\"   \n",
       "7478  Художественный                           ООО \"Нон-Стоп Продакшн\"    \n",
       "\n",
       "     production_country                              director  \\\n",
       "1281             Россия                            А.Атанесян   \n",
       "1448             Россия                             А.Якимчук   \n",
       "1498             Россия              Р.Давлетьяров, С.Комаров   \n",
       "1524             Россия  Е.Миндадзе (псевдоним Катя Шагалова)   \n",
       "1792             Россия                              М.Угаров   \n",
       "...                 ...                                   ...   \n",
       "7464             Россия                             А.Кравчук   \n",
       "7466             Россия                 Д.Шмидт, К.Феоктистов   \n",
       "7474             Россия                           Ф.Бондарчук   \n",
       "7476             Россия                             И.Северов   \n",
       "7478             Россия    М.Бальчюнас (псевдоним М.Вайсберг)   \n",
       "\n",
       "                                               producer  \\\n",
       "1281                   А.Атанесян, М.Бабаханов, Р.Бутко   \n",
       "1448                                         А.Тютрюмов   \n",
       "1498          Р.Давлетьяров, А.Котелевский, А.Олейников   \n",
       "1524                                         Л.Антонова   \n",
       "1792                             А.Миндадзе, Л.Антонова   \n",
       "...                                                 ...   \n",
       "7464                                А.Максимов, К.Эрнст   \n",
       "7466                             С.Сельянов, А.Боярский   \n",
       "7474  Ф.Бондарчук, М.Врубель, А.Андрющенко, Д.Рудовский   \n",
       "7476                                           С.Зернов   \n",
       "7478  С.Мелькумов, А.Роднянский, М.Вайсберг, Р.Минас...   \n",
       "\n",
       "                      age_restriction  refundable_support  \\\n",
       "1281  «16+» - для детей старше 16 лет                 0.0   \n",
       "1448  «12+» - для детей старше 12 лет                 0.0   \n",
       "1498  «12+» - для детей старше 12 лет                 0.0   \n",
       "1524  «16+» - для детей старше 16 лет                 0.0   \n",
       "1792  «16+» - для детей старше 16 лет                 0.0   \n",
       "...                               ...                 ...   \n",
       "7464  «12+» - для детей старше 12 лет         100000000.0   \n",
       "7466    «6+» - для детей старше 6 лет         100000000.0   \n",
       "7474  «12+» - для детей старше 12 лет         100000000.0   \n",
       "7476  «12+» - для детей старше 12 лет                 0.0   \n",
       "7478  «12+» - для детей старше 12 лет          40000000.0   \n",
       "\n",
       "      nonrefundable_support       budget       financing_source  ratings  \\\n",
       "1281             26500000.0   79411900.0  Министерство культуры      8.1   \n",
       "1448             26000000.0   37142857.0  Министерство культуры      NaN   \n",
       "1498            107847945.0  176023490.0              Фонд кино      5.3   \n",
       "1524             28000000.0   40574140.0  Министерство культуры      4.2   \n",
       "1792             25000000.0   40015122.0  Министерство культуры      6.4   \n",
       "...                     ...          ...                    ...      ...   \n",
       "7464            400000000.0  980000000.0              Фонд кино      6.0   \n",
       "7466                    0.0  190000000.0              Фонд кино      6.7   \n",
       "7474            400000000.0  944000000.0              Фонд кино      5.7   \n",
       "7476             30000000.0   46154000.0  Министерство культуры      5.9   \n",
       "7478             60000000.0  150147502.0              Фонд кино      4.5   \n",
       "\n",
       "                               genres    box_office  rental_year  \\\n",
       "1281                  драма,мелодрама  3.653536e+05         2013   \n",
       "1448                        undefined  2.814000e+04         2014   \n",
       "1498               комедия,фантастика  1.995703e+07         2013   \n",
       "1524                            драма  5.591750e+04         2014   \n",
       "1792                            драма  2.321000e+05         2014   \n",
       "...                               ...           ...          ...   \n",
       "7464          история,биография,драма  7.177032e+08         2019   \n",
       "7466  мультфильм,приключения,семейный  5.010692e+08         2019   \n",
       "7474                фантастика,боевик           NaN         2019   \n",
       "7476                            драма           NaN         2019   \n",
       "7478     комедия,фантастика,мелодрама           NaN         2019   \n",
       "\n",
       "                             main_director  main_genre  share_budget  \n",
       "1281                            А.Атанесян       драма      0.333703  \n",
       "1448                             А.Якимчук   undefined      0.700000  \n",
       "1498                         Р.Давлетьяров     комедия      0.612691  \n",
       "1524  Е.Миндадзе (псевдоним Катя Шагалова)       драма      0.690095  \n",
       "1792                              М.Угаров       драма      0.624764  \n",
       "...                                    ...         ...           ...  \n",
       "7464                             А.Кравчук     история      0.510204  \n",
       "7466                               Д.Шмидт  мультфильм      0.526316  \n",
       "7474                           Ф.Бондарчук  фантастика      0.529661  \n",
       "7476                             И.Северов       драма      0.649998  \n",
       "7478    М.Бальчюнас (псевдоним М.Вайсберг)     комедия      0.666012  \n",
       "\n",
       "[315 rows x 20 columns]"
      ]
     },
     "execution_count": 192,
     "metadata": {},
     "output_type": "execute_result"
    }
   ],
   "source": [
    "movies_df['share_budget'] = (movies_df['refundable_support'] + movies_df['nonrefundable_support']) / movies_df['budget']\n",
    "movies_df[movies_df['share_budget'].notnull()]"
   ]
  },
  {
   "cell_type": "markdown",
   "metadata": {},
   "source": [
    "#### Вывод"
   ]
  },
  {
   "cell_type": "markdown",
   "metadata": {},
   "source": [
    "Создал столбцы с информацией о дате проката, с именем и фамилией главного режиссёра и основным жанром фильма, столбец с информацией о том какую долю от общего бюджета фильма составляет государственная поддержка"
   ]
  },
  {
   "cell_type": "markdown",
   "metadata": {
    "id": "6t4EukPLgFyV"
   },
   "source": [
    "## Исследовательский анализ данных"
   ]
  },
  {
   "cell_type": "code",
   "execution_count": 193,
   "metadata": {
    "id": "ABeV47y7gFyW"
   },
   "outputs": [
    {
     "data": {
      "text/plain": [
       "<matplotlib.axes._subplots.AxesSubplot at 0x7efe3c7c95d0>"
      ]
     },
     "execution_count": 193,
     "metadata": {},
     "output_type": "execute_result"
    },
    {
     "data": {
      "image/png": "[encoded data removed]",
      "text/plain": [
       "<Figure size 720x504 with 1 Axes>"
      ]
     },
     "metadata": {
      "needs_background": "light"
     },
     "output_type": "display_data"
    }
   ],
   "source": [
    "movies_df['rental_year'].plot(kind='hist', figsize=(10,7), bins=20, range=(2010, 2020), title='Films per year')"
   ]
  },
  {
   "cell_type": "markdown",
   "metadata": {},
   "source": [
    "Больше всего фильмов вышло в прокат в 2010 году, чуть меньше 1000, был единственный фильм не имеющий прокатного удостоверения и он был удален. Меньше всего фильмов вышло в прокат в 2017 году."
   ]
  },
  {
   "cell_type": "code",
   "execution_count": 194,
   "metadata": {},
   "outputs": [
    {
     "data": {
      "text/html": [
       "<div>\n",
       "<style scoped>\n",
       "    .dataframe tbody tr th:only-of-type {\n",
       "        vertical-align: middle;\n",
       "    }\n",
       "\n",
       "    .dataframe tbody tr th {\n",
       "        vertical-align: top;\n",
       "    }\n",
       "\n",
       "    .dataframe thead th {\n",
       "        text-align: right;\n",
       "    }\n",
       "</style>\n",
       "<table border=\"1\" class=\"dataframe\">\n",
       "  <thead>\n",
       "    <tr style=\"text-align: right;\">\n",
       "      <th></th>\n",
       "      <th>title</th>\n",
       "      <th>box_office</th>\n",
       "      <th>proportion</th>\n",
       "    </tr>\n",
       "    <tr>\n",
       "      <th>rental_year</th>\n",
       "      <th></th>\n",
       "      <th></th>\n",
       "      <th></th>\n",
       "    </tr>\n",
       "  </thead>\n",
       "  <tbody>\n",
       "    <tr>\n",
       "      <td>2010</td>\n",
       "      <td>985</td>\n",
       "      <td>105</td>\n",
       "      <td>0.106599</td>\n",
       "    </tr>\n",
       "    <tr>\n",
       "      <td>2011</td>\n",
       "      <td>622</td>\n",
       "      <td>109</td>\n",
       "      <td>0.175241</td>\n",
       "    </tr>\n",
       "    <tr>\n",
       "      <td>2012</td>\n",
       "      <td>593</td>\n",
       "      <td>128</td>\n",
       "      <td>0.215852</td>\n",
       "    </tr>\n",
       "    <tr>\n",
       "      <td>2013</td>\n",
       "      <td>630</td>\n",
       "      <td>184</td>\n",
       "      <td>0.292063</td>\n",
       "    </tr>\n",
       "    <tr>\n",
       "      <td>2014</td>\n",
       "      <td>806</td>\n",
       "      <td>278</td>\n",
       "      <td>0.344913</td>\n",
       "    </tr>\n",
       "    <tr>\n",
       "      <td>2015</td>\n",
       "      <td>699</td>\n",
       "      <td>459</td>\n",
       "      <td>0.656652</td>\n",
       "    </tr>\n",
       "    <tr>\n",
       "      <td>2016</td>\n",
       "      <td>815</td>\n",
       "      <td>523</td>\n",
       "      <td>0.641718</td>\n",
       "    </tr>\n",
       "    <tr>\n",
       "      <td>2017</td>\n",
       "      <td>503</td>\n",
       "      <td>355</td>\n",
       "      <td>0.705765</td>\n",
       "    </tr>\n",
       "    <tr>\n",
       "      <td>2018</td>\n",
       "      <td>887</td>\n",
       "      <td>471</td>\n",
       "      <td>0.531003</td>\n",
       "    </tr>\n",
       "    <tr>\n",
       "      <td>2019</td>\n",
       "      <td>929</td>\n",
       "      <td>529</td>\n",
       "      <td>0.569429</td>\n",
       "    </tr>\n",
       "  </tbody>\n",
       "</table>\n",
       "</div>"
      ],
      "text/plain": [
       "             title  box_office  proportion\n",
       "rental_year                               \n",
       "2010           985         105    0.106599\n",
       "2011           622         109    0.175241\n",
       "2012           593         128    0.215852\n",
       "2013           630         184    0.292063\n",
       "2014           806         278    0.344913\n",
       "2015           699         459    0.656652\n",
       "2016           815         523    0.641718\n",
       "2017           503         355    0.705765\n",
       "2018           887         471    0.531003\n",
       "2019           929         529    0.569429"
      ]
     },
     "metadata": {},
     "output_type": "display_data"
    },
    {
     "data": {
      "text/plain": [
       "<matplotlib.axes._subplots.AxesSubplot at 0x7efdee8a7510>"
      ]
     },
     "execution_count": 194,
     "metadata": {},
     "output_type": "execute_result"
    },
    {
     "data": {
      "image/png": "[encoded data removed]",
      "text/plain": [
       "<Figure size 720x504 with 1 Axes>"
      ]
     },
     "metadata": {
      "needs_background": "light"
     },
     "output_type": "display_data"
    }
   ],
   "source": [
    "pivot = movies_df.groupby('rental_year')[['title', 'box_office']].count()\n",
    "pivot['proportion'] = pivot['box_office'] / pivot['title']\n",
    "display(pivot)\n",
    "pivot['proportion'].plot(kind='bar', figsize=(10, 7), title='box_office to all films per year')"
   ]
  },
  {
   "cell_type": "markdown",
   "metadata": {
    "id": "BEOdcIrIgFyW"
   },
   "source": [
    "- Изучить, как менялась динамика проката по годам. В каком году сумма сборов была минимальной? А максимальной?"
   ]
  },
  {
   "cell_type": "code",
   "execution_count": 195,
   "metadata": {},
   "outputs": [
    {
     "data": {
      "text/html": [
       "<div>\n",
       "<style scoped>\n",
       "    .dataframe tbody tr th:only-of-type {\n",
       "        vertical-align: middle;\n",
       "    }\n",
       "\n",
       "    .dataframe tbody tr th {\n",
       "        vertical-align: top;\n",
       "    }\n",
       "\n",
       "    .dataframe thead th {\n",
       "        text-align: right;\n",
       "    }\n",
       "</style>\n",
       "<table border=\"1\" class=\"dataframe\">\n",
       "  <thead>\n",
       "    <tr style=\"text-align: right;\">\n",
       "      <th></th>\n",
       "      <th>box_office</th>\n",
       "    </tr>\n",
       "    <tr>\n",
       "      <th>rental_year</th>\n",
       "      <th></th>\n",
       "    </tr>\n",
       "  </thead>\n",
       "  <tbody>\n",
       "    <tr>\n",
       "      <td>2010</td>\n",
       "      <td>2.428654e+06</td>\n",
       "    </tr>\n",
       "    <tr>\n",
       "      <td>2012</td>\n",
       "      <td>6.955423e+06</td>\n",
       "    </tr>\n",
       "    <tr>\n",
       "      <td>2011</td>\n",
       "      <td>1.410276e+07</td>\n",
       "    </tr>\n",
       "    <tr>\n",
       "      <td>2013</td>\n",
       "      <td>2.979971e+07</td>\n",
       "    </tr>\n",
       "    <tr>\n",
       "      <td>2014</td>\n",
       "      <td>7.434718e+09</td>\n",
       "    </tr>\n",
       "    <tr>\n",
       "      <td>2015</td>\n",
       "      <td>3.852783e+10</td>\n",
       "    </tr>\n",
       "    <tr>\n",
       "      <td>2016</td>\n",
       "      <td>4.674232e+10</td>\n",
       "    </tr>\n",
       "    <tr>\n",
       "      <td>2019</td>\n",
       "      <td>4.827810e+10</td>\n",
       "    </tr>\n",
       "    <tr>\n",
       "      <td>2017</td>\n",
       "      <td>4.845815e+10</td>\n",
       "    </tr>\n",
       "    <tr>\n",
       "      <td>2018</td>\n",
       "      <td>4.925199e+10</td>\n",
       "    </tr>\n",
       "  </tbody>\n",
       "</table>\n",
       "</div>"
      ],
      "text/plain": [
       "               box_office\n",
       "rental_year              \n",
       "2010         2.428654e+06\n",
       "2012         6.955423e+06\n",
       "2011         1.410276e+07\n",
       "2013         2.979971e+07\n",
       "2014         7.434718e+09\n",
       "2015         3.852783e+10\n",
       "2016         4.674232e+10\n",
       "2019         4.827810e+10\n",
       "2017         4.845815e+10\n",
       "2018         4.925199e+10"
      ]
     },
     "execution_count": 195,
     "metadata": {},
     "output_type": "execute_result"
    }
   ],
   "source": [
    "movies_df.pivot_table(index='rental_year', values='box_office', aggfunc='sum').sort_values(by='box_office')"
   ]
  },
  {
   "cell_type": "code",
   "execution_count": 196,
   "metadata": {
    "scrolled": false
   },
   "outputs": [
    {
     "data": {
      "text/plain": [
       "<matplotlib.axes._subplots.AxesSubplot at 0x7efe37f07710>"
      ]
     },
     "execution_count": 196,
     "metadata": {},
     "output_type": "execute_result"
    },
    {
     "data": {
      "image/png": "[encoded data removed]",
      "text/plain": [
       "<Figure size 720x504 with 1 Axes>"
      ]
     },
     "metadata": {
      "needs_background": "light"
     },
     "output_type": "display_data"
    }
   ],
   "source": [
    "movies_df.pivot_table(index='rental_year', values='box_office', aggfunc='sum').plot(kind='bar', figsize=(10, 7))"
   ]
  },
  {
   "cell_type": "markdown",
   "metadata": {},
   "source": [
    "Сумма сборов была минимальной в 2010 году, а в 2018 максимальной. Можно заметить, что с 2014 года сумма сборов значительно возросла, и увеличивалась вплоть до 2018 года."
   ]
  },
  {
   "cell_type": "markdown",
   "metadata": {
    "id": "G-7qS-N-gFyY"
   },
   "source": [
    "- Посчитать среднюю и медианную сумму сборов для каждого года."
   ]
  },
  {
   "cell_type": "code",
   "execution_count": 197,
   "metadata": {
    "id": "jmp-rgg9gFyY",
    "scrolled": true
   },
   "outputs": [
    {
     "data": {
      "text/html": [
       "<div>\n",
       "<style scoped>\n",
       "    .dataframe tbody tr th:only-of-type {\n",
       "        vertical-align: middle;\n",
       "    }\n",
       "\n",
       "    .dataframe tbody tr th {\n",
       "        vertical-align: top;\n",
       "    }\n",
       "\n",
       "    .dataframe thead th {\n",
       "        text-align: right;\n",
       "    }\n",
       "</style>\n",
       "<table border=\"1\" class=\"dataframe\">\n",
       "  <thead>\n",
       "    <tr style=\"text-align: right;\">\n",
       "      <th></th>\n",
       "      <th>box_office</th>\n",
       "    </tr>\n",
       "    <tr>\n",
       "      <th>rental_year</th>\n",
       "      <th></th>\n",
       "    </tr>\n",
       "  </thead>\n",
       "  <tbody>\n",
       "    <tr>\n",
       "      <td>2010</td>\n",
       "      <td>2.313004e+04</td>\n",
       "    </tr>\n",
       "    <tr>\n",
       "      <td>2011</td>\n",
       "      <td>1.293832e+05</td>\n",
       "    </tr>\n",
       "    <tr>\n",
       "      <td>2012</td>\n",
       "      <td>5.433924e+04</td>\n",
       "    </tr>\n",
       "    <tr>\n",
       "      <td>2013</td>\n",
       "      <td>1.619549e+05</td>\n",
       "    </tr>\n",
       "    <tr>\n",
       "      <td>2014</td>\n",
       "      <td>2.674359e+07</td>\n",
       "    </tr>\n",
       "    <tr>\n",
       "      <td>2015</td>\n",
       "      <td>8.393862e+07</td>\n",
       "    </tr>\n",
       "    <tr>\n",
       "      <td>2016</td>\n",
       "      <td>8.937345e+07</td>\n",
       "    </tr>\n",
       "    <tr>\n",
       "      <td>2017</td>\n",
       "      <td>1.365018e+08</td>\n",
       "    </tr>\n",
       "    <tr>\n",
       "      <td>2018</td>\n",
       "      <td>1.045690e+08</td>\n",
       "    </tr>\n",
       "    <tr>\n",
       "      <td>2019</td>\n",
       "      <td>9.126295e+07</td>\n",
       "    </tr>\n",
       "  </tbody>\n",
       "</table>\n",
       "</div>"
      ],
      "text/plain": [
       "               box_office\n",
       "rental_year              \n",
       "2010         2.313004e+04\n",
       "2011         1.293832e+05\n",
       "2012         5.433924e+04\n",
       "2013         1.619549e+05\n",
       "2014         2.674359e+07\n",
       "2015         8.393862e+07\n",
       "2016         8.937345e+07\n",
       "2017         1.365018e+08\n",
       "2018         1.045690e+08\n",
       "2019         9.126295e+07"
      ]
     },
     "metadata": {},
     "output_type": "display_data"
    },
    {
     "data": {
      "text/html": [
       "<div>\n",
       "<style scoped>\n",
       "    .dataframe tbody tr th:only-of-type {\n",
       "        vertical-align: middle;\n",
       "    }\n",
       "\n",
       "    .dataframe tbody tr th {\n",
       "        vertical-align: top;\n",
       "    }\n",
       "\n",
       "    .dataframe thead th {\n",
       "        text-align: right;\n",
       "    }\n",
       "</style>\n",
       "<table border=\"1\" class=\"dataframe\">\n",
       "  <thead>\n",
       "    <tr style=\"text-align: right;\">\n",
       "      <th></th>\n",
       "      <th>box_office</th>\n",
       "    </tr>\n",
       "    <tr>\n",
       "      <th>rental_year</th>\n",
       "      <th></th>\n",
       "    </tr>\n",
       "  </thead>\n",
       "  <tbody>\n",
       "    <tr>\n",
       "      <td>2010</td>\n",
       "      <td>1700.00</td>\n",
       "    </tr>\n",
       "    <tr>\n",
       "      <td>2011</td>\n",
       "      <td>3000.00</td>\n",
       "    </tr>\n",
       "    <tr>\n",
       "      <td>2012</td>\n",
       "      <td>5660.00</td>\n",
       "    </tr>\n",
       "    <tr>\n",
       "      <td>2013</td>\n",
       "      <td>3522.50</td>\n",
       "    </tr>\n",
       "    <tr>\n",
       "      <td>2014</td>\n",
       "      <td>18137.50</td>\n",
       "    </tr>\n",
       "    <tr>\n",
       "      <td>2015</td>\n",
       "      <td>4784781.50</td>\n",
       "    </tr>\n",
       "    <tr>\n",
       "      <td>2016</td>\n",
       "      <td>3776087.56</td>\n",
       "    </tr>\n",
       "    <tr>\n",
       "      <td>2017</td>\n",
       "      <td>9919415.00</td>\n",
       "    </tr>\n",
       "    <tr>\n",
       "      <td>2018</td>\n",
       "      <td>8751895.75</td>\n",
       "    </tr>\n",
       "    <tr>\n",
       "      <td>2019</td>\n",
       "      <td>4601033.60</td>\n",
       "    </tr>\n",
       "  </tbody>\n",
       "</table>\n",
       "</div>"
      ],
      "text/plain": [
       "             box_office\n",
       "rental_year            \n",
       "2010            1700.00\n",
       "2011            3000.00\n",
       "2012            5660.00\n",
       "2013            3522.50\n",
       "2014           18137.50\n",
       "2015         4784781.50\n",
       "2016         3776087.56\n",
       "2017         9919415.00\n",
       "2018         8751895.75\n",
       "2019         4601033.60"
      ]
     },
     "execution_count": 197,
     "metadata": {},
     "output_type": "execute_result"
    },
    {
     "data": {
      "image/png": "[encoded data removed]",
      "text/plain": [
       "<Figure size 720x504 with 1 Axes>"
      ]
     },
     "metadata": {
      "needs_background": "light"
     },
     "output_type": "display_data"
    },
    {
     "data": {
      "image/png": "[encoded data removed]",
      "text/plain": [
       "<Figure size 720x504 with 1 Axes>"
      ]
     },
     "metadata": {
      "needs_background": "light"
     },
     "output_type": "display_data"
    }
   ],
   "source": [
    "movies_df.pivot_table(index='rental_year', values='box_office', aggfunc=('mean')).plot(title='mean income per year', figsize=(10, 7))\n",
    "display(movies_df.pivot_table(index='rental_year', values='box_office', aggfunc=('mean')))\n",
    "movies_df.pivot_table(index='rental_year', values='box_office', aggfunc=('median')).plot(title='median income per year', figsize=(10, 7))\n",
    "movies_df.pivot_table(index='rental_year', values='box_office', aggfunc=('median'))"
   ]
  },
  {
   "cell_type": "markdown",
   "metadata": {},
   "source": [
    "Меньше всего сборов было в 2010 году. Можно увидеть что с 2012 сборы росли вплоть до 2018 года, после чего в 2019 упали, предполагаю что из-за коронавируса."
   ]
  },
  {
   "cell_type": "code",
   "execution_count": 198,
   "metadata": {},
   "outputs": [
    {
     "data": {
      "text/html": [
       "<div>\n",
       "<style scoped>\n",
       "    .dataframe tbody tr th:only-of-type {\n",
       "        vertical-align: middle;\n",
       "    }\n",
       "\n",
       "    .dataframe tbody tr th {\n",
       "        vertical-align: top;\n",
       "    }\n",
       "\n",
       "    .dataframe thead th {\n",
       "        text-align: right;\n",
       "    }\n",
       "</style>\n",
       "<table border=\"1\" class=\"dataframe\">\n",
       "  <thead>\n",
       "    <tr style=\"text-align: right;\">\n",
       "      <th></th>\n",
       "      <th>mean</th>\n",
       "      <th>median</th>\n",
       "    </tr>\n",
       "    <tr>\n",
       "      <th>rental_year</th>\n",
       "      <th></th>\n",
       "      <th></th>\n",
       "    </tr>\n",
       "  </thead>\n",
       "  <tbody>\n",
       "    <tr>\n",
       "      <td>2010</td>\n",
       "      <td>2.313004e+04</td>\n",
       "      <td>1700.00</td>\n",
       "    </tr>\n",
       "    <tr>\n",
       "      <td>2011</td>\n",
       "      <td>1.293832e+05</td>\n",
       "      <td>3000.00</td>\n",
       "    </tr>\n",
       "    <tr>\n",
       "      <td>2012</td>\n",
       "      <td>5.433924e+04</td>\n",
       "      <td>5660.00</td>\n",
       "    </tr>\n",
       "    <tr>\n",
       "      <td>2013</td>\n",
       "      <td>1.619549e+05</td>\n",
       "      <td>3522.50</td>\n",
       "    </tr>\n",
       "    <tr>\n",
       "      <td>2014</td>\n",
       "      <td>2.674359e+07</td>\n",
       "      <td>18137.50</td>\n",
       "    </tr>\n",
       "    <tr>\n",
       "      <td>2015</td>\n",
       "      <td>8.393862e+07</td>\n",
       "      <td>4784781.50</td>\n",
       "    </tr>\n",
       "    <tr>\n",
       "      <td>2016</td>\n",
       "      <td>8.937345e+07</td>\n",
       "      <td>3776087.56</td>\n",
       "    </tr>\n",
       "    <tr>\n",
       "      <td>2017</td>\n",
       "      <td>1.365018e+08</td>\n",
       "      <td>9919415.00</td>\n",
       "    </tr>\n",
       "    <tr>\n",
       "      <td>2018</td>\n",
       "      <td>1.045690e+08</td>\n",
       "      <td>8751895.75</td>\n",
       "    </tr>\n",
       "    <tr>\n",
       "      <td>2019</td>\n",
       "      <td>9.126295e+07</td>\n",
       "      <td>4601033.60</td>\n",
       "    </tr>\n",
       "  </tbody>\n",
       "</table>\n",
       "</div>"
      ],
      "text/plain": [
       "                     mean      median\n",
       "rental_year                          \n",
       "2010         2.313004e+04     1700.00\n",
       "2011         1.293832e+05     3000.00\n",
       "2012         5.433924e+04     5660.00\n",
       "2013         1.619549e+05     3522.50\n",
       "2014         2.674359e+07    18137.50\n",
       "2015         8.393862e+07  4784781.50\n",
       "2016         8.937345e+07  3776087.56\n",
       "2017         1.365018e+08  9919415.00\n",
       "2018         1.045690e+08  8751895.75\n",
       "2019         9.126295e+07  4601033.60"
      ]
     },
     "metadata": {},
     "output_type": "display_data"
    },
    {
     "data": {
      "application/vnd.plotly.v1+json": {
       "config": {
        "plotlyServerURL": "https://plot.ly"
       },
       "data": [
        {
         "name": "mean",
         "type": "scatter",
         "x": [
          2010,
          2011,
          2012,
          2013,
          2014,
          2015,
          2016,
          2017,
          2018,
          2019
         ],
         "y": [
          23130.0380952381,
          129383.1651376147,
          54339.2421875,
          161954.925,
          26743589.363669068,
          83938621.34877995,
          89373453.67013392,
          136501823.25,
          104568983.87515922,
          91262952.65232512
         ]
        },
        {
         "name": "median",
         "type": "scatter",
         "x": [
          2010,
          2011,
          2012,
          2013,
          2014,
          2015,
          2016,
          2017,
          2018,
          2019
         ],
         "y": [
          1700,
          3000,
          5660,
          3522.5,
          18137.5,
          4784781.5,
          3776087.56,
          9919415,
          8751895.75,
          4601033.6
         ]
        }
       ],
       "layout": {
        "template": {
         "data": {
          "bar": [
           {
            "error_x": {
             "color": "#2a3f5f"
            },
            "error_y": {
             "color": "#2a3f5f"
            },
            "marker": {
             "line": {
              "color": "#E5ECF6",
              "width": 0.5
             }
            },
            "type": "bar"
           }
          ],
          "barpolar": [
           {
            "marker": {
             "line": {
              "color": "#E5ECF6",
              "width": 0.5
             }
            },
            "type": "barpolar"
           }
          ],
          "carpet": [
           {
            "aaxis": {
             "endlinecolor": "#2a3f5f",
             "gridcolor": "white",
             "linecolor": "white",
             "minorgridcolor": "white",
             "startlinecolor": "#2a3f5f"
            },
            "baxis": {
             "endlinecolor": "#2a3f5f",
             "gridcolor": "white",
             "linecolor": "white",
             "minorgridcolor": "white",
             "startlinecolor": "#2a3f5f"
            },
            "type": "carpet"
           }
          ],
          "choropleth": [
           {
            "colorbar": {
             "outlinewidth": 0,
             "ticks": ""
            },
            "type": "choropleth"
           }
          ],
          "contour": [
           {
            "colorbar": {
             "outlinewidth": 0,
             "ticks": ""
            },
            "colorscale": [
             [
              0,
              "#0d0887"
             ],
             [
              0.1111111111,
              "#46039f"
             ],
             [
              0.2222222222,
              "#7201a8"
             ],
             [
              0.3333333333,
              "#9c179e"
             ],
             [
              0.4444444444,
              "#bd3786"
             ],
             [
              0.5555555556,
              "#d8576b"
             ],
             [
              0.6666666667,
              "#ed7953"
             ],
             [
              0.7777777778,
              "#fb9f3a"
             ],
             [
              0.8888888889,
              "#fdca26"
             ],
             [
              1,
              "#f0f921"
             ]
            ],
            "type": "contour"
           }
          ],
          "contourcarpet": [
           {
            "colorbar": {
             "outlinewidth": 0,
             "ticks": ""
            },
            "type": "contourcarpet"
           }
          ],
          "heatmap": [
           {
            "colorbar": {
             "outlinewidth": 0,
             "ticks": ""
            },
            "colorscale": [
             [
              0,
              "#0d0887"
             ],
             [
              0.1111111111,
              "#46039f"
             ],
             [
              0.2222222222,
              "#7201a8"
             ],
             [
              0.3333333333,
              "#9c179e"
             ],
             [
              0.4444444444,
              "#bd3786"
             ],
             [
              0.5555555556,
              "#d8576b"
             ],
             [
              0.6666666667,
              "#ed7953"
             ],
             [
              0.7777777778,
              "#fb9f3a"
             ],
             [
              0.8888888889,
              "#fdca26"
             ],
             [
              1,
              "#f0f921"
             ]
            ],
            "type": "heatmap"
           }
          ],
          "heatmapgl": [
           {
            "colorbar": {
             "outlinewidth": 0,
             "ticks": ""
            },
            "colorscale": [
             [
              0,
              "#0d0887"
             ],
             [
              0.1111111111,
              "#46039f"
             ],
             [
              0.2222222222,
              "#7201a8"
             ],
             [
              0.3333333333,
              "#9c179e"
             ],
             [
              0.4444444444,
              "#bd3786"
             ],
             [
              0.5555555556,
              "#d8576b"
             ],
             [
              0.6666666667,
              "#ed7953"
             ],
             [
              0.7777777778,
              "#fb9f3a"
             ],
             [
              0.8888888889,
              "#fdca26"
             ],
             [
              1,
              "#f0f921"
             ]
            ],
            "type": "heatmapgl"
           }
          ],
          "histogram": [
           {
            "marker": {
             "colorbar": {
              "outlinewidth": 0,
              "ticks": ""
             }
            },
            "type": "histogram"
           }
          ],
          "histogram2d": [
           {
            "colorbar": {
             "outlinewidth": 0,
             "ticks": ""
            },
            "colorscale": [
             [
              0,
              "#0d0887"
             ],
             [
              0.1111111111,
              "#46039f"
             ],
             [
              0.2222222222,
              "#7201a8"
             ],
             [
              0.3333333333,
              "#9c179e"
             ],
             [
              0.4444444444,
              "#bd3786"
             ],
             [
              0.5555555556,
              "#d8576b"
             ],
             [
              0.6666666667,
              "#ed7953"
             ],
             [
              0.7777777778,
              "#fb9f3a"
             ],
             [
              0.8888888889,
              "#fdca26"
             ],
             [
              1,
              "#f0f921"
             ]
            ],
            "type": "histogram2d"
           }
          ],
          "histogram2dcontour": [
           {
            "colorbar": {
             "outlinewidth": 0,
             "ticks": ""
            },
            "colorscale": [
             [
              0,
              "#0d0887"
             ],
             [
              0.1111111111,
              "#46039f"
             ],
             [
              0.2222222222,
              "#7201a8"
             ],
             [
              0.3333333333,
              "#9c179e"
             ],
             [
              0.4444444444,
              "#bd3786"
             ],
             [
              0.5555555556,
              "#d8576b"
             ],
             [
              0.6666666667,
              "#ed7953"
             ],
             [
              0.7777777778,
              "#fb9f3a"
             ],
             [
              0.8888888889,
              "#fdca26"
             ],
             [
              1,
              "#f0f921"
             ]
            ],
            "type": "histogram2dcontour"
           }
          ],
          "mesh3d": [
           {
            "colorbar": {
             "outlinewidth": 0,
             "ticks": ""
            },
            "type": "mesh3d"
           }
          ],
          "parcoords": [
           {
            "line": {
             "colorbar": {
              "outlinewidth": 0,
              "ticks": ""
             }
            },
            "type": "parcoords"
           }
          ],
          "scatter": [
           {
            "marker": {
             "colorbar": {
              "outlinewidth": 0,
              "ticks": ""
             }
            },
            "type": "scatter"
           }
          ],
          "scatter3d": [
           {
            "line": {
             "colorbar": {
              "outlinewidth": 0,
              "ticks": ""
             }
            },
            "marker": {
             "colorbar": {
              "outlinewidth": 0,
              "ticks": ""
             }
            },
            "type": "scatter3d"
           }
          ],
          "scattercarpet": [
           {
            "marker": {
             "colorbar": {
              "outlinewidth": 0,
              "ticks": ""
             }
            },
            "type": "scattercarpet"
           }
          ],
          "scattergeo": [
           {
            "marker": {
             "colorbar": {
              "outlinewidth": 0,
              "ticks": ""
             }
            },
            "type": "scattergeo"
           }
          ],
          "scattergl": [
           {
            "marker": {
             "colorbar": {
              "outlinewidth": 0,
              "ticks": ""
             }
            },
            "type": "scattergl"
           }
          ],
          "scattermapbox": [
           {
            "marker": {
             "colorbar": {
              "outlinewidth": 0,
              "ticks": ""
             }
            },
            "type": "scattermapbox"
           }
          ],
          "scatterpolar": [
           {
            "marker": {
             "colorbar": {
              "outlinewidth": 0,
              "ticks": ""
             }
            },
            "type": "scatterpolar"
           }
          ],
          "scatterpolargl": [
           {
            "marker": {
             "colorbar": {
              "outlinewidth": 0,
              "ticks": ""
             }
            },
            "type": "scatterpolargl"
           }
          ],
          "scatterternary": [
           {
            "marker": {
             "colorbar": {
              "outlinewidth": 0,
              "ticks": ""
             }
            },
            "type": "scatterternary"
           }
          ],
          "surface": [
           {
            "colorbar": {
             "outlinewidth": 0,
             "ticks": ""
            },
            "colorscale": [
             [
              0,
              "#0d0887"
             ],
             [
              0.1111111111,
              "#46039f"
             ],
             [
              0.2222222222,
              "#7201a8"
             ],
             [
              0.3333333333,
              "#9c179e"
             ],
             [
              0.4444444444,
              "#bd3786"
             ],
             [
              0.5555555556,
              "#d8576b"
             ],
             [
              0.6666666667,
              "#ed7953"
             ],
             [
              0.7777777778,
              "#fb9f3a"
             ],
             [
              0.8888888889,
              "#fdca26"
             ],
             [
              1,
              "#f0f921"
             ]
            ],
            "type": "surface"
           }
          ],
          "table": [
           {
            "cells": {
             "fill": {
              "color": "#EBF0F8"
             },
             "line": {
              "color": "white"
             }
            },
            "header": {
             "fill": {
              "color": "#C8D4E3"
             },
             "line": {
              "color": "white"
             }
            },
            "type": "table"
           }
          ]
         },
         "layout": {
          "annotationdefaults": {
           "arrowcolor": "#2a3f5f",
           "arrowhead": 0,
           "arrowwidth": 1
          },
          "colorscale": {
           "diverging": [
            [
             0,
             "#8e0152"
            ],
            [
             0.1,
             "#c51b7d"
            ],
            [
             0.2,
             "#de77ae"
            ],
            [
             0.3,
             "#f1b6da"
            ],
            [
             0.4,
             "#fde0ef"
            ],
            [
             0.5,
             "#f7f7f7"
            ],
            [
             0.6,
             "#e6f5d0"
            ],
            [
             0.7,
             "#b8e186"
            ],
            [
             0.8,
             "#7fbc41"
            ],
            [
             0.9,
             "#4d9221"
            ],
            [
             1,
             "#276419"
            ]
           ],
           "sequential": [
            [
             0,
             "#0d0887"
            ],
            [
             0.1111111111,
             "#46039f"
            ],
            [
             0.2222222222,
             "#7201a8"
            ],
            [
             0.3333333333,
             "#9c179e"
            ],
            [
             0.4444444444,
             "#bd3786"
            ],
            [
             0.5555555556,
             "#d8576b"
            ],
            [
             0.6666666667,
             "#ed7953"
            ],
            [
             0.7777777778,
             "#fb9f3a"
            ],
            [
             0.8888888889,
             "#fdca26"
            ],
            [
             1,
             "#f0f921"
            ]
           ],
           "sequentialminus": [
            [
             0,
             "#0d0887"
            ],
            [
             0.1111111111,
             "#46039f"
            ],
            [
             0.2222222222,
             "#7201a8"
            ],
            [
             0.3333333333,
             "#9c179e"
            ],
            [
             0.4444444444,
             "#bd3786"
            ],
            [
             0.5555555556,
             "#d8576b"
            ],
            [
             0.6666666667,
             "#ed7953"
            ],
            [
             0.7777777778,
             "#fb9f3a"
            ],
            [
             0.8888888889,
             "#fdca26"
            ],
            [
             1,
             "#f0f921"
            ]
           ]
          },
          "colorway": [
           "#636efa",
           "#EF553B",
           "#00cc96",
           "#ab63fa",
           "#FFA15A",
           "#19d3f3",
           "#FF6692",
           "#B6E880",
           "#FF97FF",
           "#FECB52"
          ],
          "font": {
           "color": "#2a3f5f"
          },
          "geo": {
           "bgcolor": "white",
           "lakecolor": "white",
           "landcolor": "#E5ECF6",
           "showlakes": true,
           "showland": true,
           "subunitcolor": "white"
          },
          "hoverlabel": {
           "align": "left"
          },
          "hovermode": "closest",
          "mapbox": {
           "style": "light"
          },
          "paper_bgcolor": "white",
          "plot_bgcolor": "#E5ECF6",
          "polar": {
           "angularaxis": {
            "gridcolor": "white",
            "linecolor": "white",
            "ticks": ""
           },
           "bgcolor": "#E5ECF6",
           "radialaxis": {
            "gridcolor": "white",
            "linecolor": "white",
            "ticks": ""
           }
          },
          "scene": {
           "xaxis": {
            "backgroundcolor": "#E5ECF6",
            "gridcolor": "white",
            "gridwidth": 2,
            "linecolor": "white",
            "showbackground": true,
            "ticks": "",
            "zerolinecolor": "white"
           },
           "yaxis": {
            "backgroundcolor": "#E5ECF6",
            "gridcolor": "white",
            "gridwidth": 2,
            "linecolor": "white",
            "showbackground": true,
            "ticks": "",
            "zerolinecolor": "white"
           },
           "zaxis": {
            "backgroundcolor": "#E5ECF6",
            "gridcolor": "white",
            "gridwidth": 2,
            "linecolor": "white",
            "showbackground": true,
            "ticks": "",
            "zerolinecolor": "white"
           }
          },
          "shapedefaults": {
           "line": {
            "color": "#2a3f5f"
           }
          },
          "ternary": {
           "aaxis": {
            "gridcolor": "white",
            "linecolor": "white",
            "ticks": ""
           },
           "baxis": {
            "gridcolor": "white",
            "linecolor": "white",
            "ticks": ""
           },
           "bgcolor": "#E5ECF6",
           "caxis": {
            "gridcolor": "white",
            "linecolor": "white",
            "ticks": ""
           }
          },
          "title": {
           "x": 0.05
          },
          "xaxis": {
           "automargin": true,
           "gridcolor": "white",
           "linecolor": "white",
           "ticks": "",
           "zerolinecolor": "white",
           "zerolinewidth": 2
          },
          "yaxis": {
           "automargin": true,
           "gridcolor": "white",
           "linecolor": "white",
           "ticks": "",
           "zerolinecolor": "white",
           "zerolinewidth": 2
          }
         }
        },
        "title": {
         "text": "Средние \\ медианные показатели по box_office"
        }
       }
      },
      "text/html": [
       "<div>\n",
       "        \n",
       "        \n",
       "            <div id=\"a56e9a3a-0cb2-47c9-a846-c6625fd8612e\" class=\"plotly-graph-div\" style=\"height:525px; width:100%;\"></div>\n",
       "            <script type=\"text/javascript\">\n",
       "                require([\"plotly\"], function(Plotly) {\n",
       "                    window.PLOTLYENV=window.PLOTLYENV || {};\n",
       "                    \n",
       "                if (document.getElementById(\"a56e9a3a-0cb2-47c9-a846-c6625fd8612e\")) {\n",
       "                    Plotly.newPlot(\n",
       "                        'a56e9a3a-0cb2-47c9-a846-c6625fd8612e',\n",
       "                        [{\"name\": \"mean\", \"type\": \"scatter\", \"x\": [2010, 2011, 2012, 2013, 2014, 2015, 2016, 2017, 2018, 2019], \"y\": [23130.038095238095, 129383.16513761468, 54339.2421875, 161954.925, 26743589.363669068, 83938621.34877995, 89373453.67013392, 136501823.25, 104568983.87515922, 91262952.65232512]}, {\"name\": \"median\", \"type\": \"scatter\", \"x\": [2010, 2011, 2012, 2013, 2014, 2015, 2016, 2017, 2018, 2019], \"y\": [1700.0, 3000.0, 5660.0, 3522.5, 18137.5, 4784781.5, 3776087.56, 9919415.0, 8751895.75, 4601033.6]}],\n",
       "                        {\"template\": {\"data\": {\"bar\": [{\"error_x\": {\"color\": \"#2a3f5f\"}, \"error_y\": {\"color\": \"#2a3f5f\"}, \"marker\": {\"line\": {\"color\": \"#E5ECF6\", \"width\": 0.5}}, \"type\": \"bar\"}], \"barpolar\": [{\"marker\": {\"line\": {\"color\": \"#E5ECF6\", \"width\": 0.5}}, \"type\": \"barpolar\"}], \"carpet\": [{\"aaxis\": {\"endlinecolor\": \"#2a3f5f\", \"gridcolor\": \"white\", \"linecolor\": \"white\", \"minorgridcolor\": \"white\", \"startlinecolor\": \"#2a3f5f\"}, \"baxis\": {\"endlinecolor\": \"#2a3f5f\", \"gridcolor\": \"white\", \"linecolor\": \"white\", \"minorgridcolor\": \"white\", \"startlinecolor\": \"#2a3f5f\"}, \"type\": \"carpet\"}], \"choropleth\": [{\"colorbar\": {\"outlinewidth\": 0, \"ticks\": \"\"}, \"type\": \"choropleth\"}], \"contour\": [{\"colorbar\": {\"outlinewidth\": 0, \"ticks\": \"\"}, \"colorscale\": [[0.0, \"#0d0887\"], [0.1111111111111111, \"#46039f\"], [0.2222222222222222, \"#7201a8\"], [0.3333333333333333, \"#9c179e\"], [0.4444444444444444, \"#bd3786\"], [0.5555555555555556, \"#d8576b\"], [0.6666666666666666, \"#ed7953\"], [0.7777777777777778, \"#fb9f3a\"], [0.8888888888888888, \"#fdca26\"], [1.0, \"#f0f921\"]], \"type\": \"contour\"}], \"contourcarpet\": [{\"colorbar\": {\"outlinewidth\": 0, \"ticks\": \"\"}, \"type\": \"contourcarpet\"}], \"heatmap\": [{\"colorbar\": {\"outlinewidth\": 0, \"ticks\": \"\"}, \"colorscale\": [[0.0, \"#0d0887\"], [0.1111111111111111, \"#46039f\"], [0.2222222222222222, \"#7201a8\"], [0.3333333333333333, \"#9c179e\"], [0.4444444444444444, \"#bd3786\"], [0.5555555555555556, \"#d8576b\"], [0.6666666666666666, \"#ed7953\"], [0.7777777777777778, \"#fb9f3a\"], [0.8888888888888888, \"#fdca26\"], [1.0, \"#f0f921\"]], \"type\": \"heatmap\"}], \"heatmapgl\": [{\"colorbar\": {\"outlinewidth\": 0, \"ticks\": \"\"}, \"colorscale\": [[0.0, \"#0d0887\"], [0.1111111111111111, \"#46039f\"], [0.2222222222222222, \"#7201a8\"], [0.3333333333333333, \"#9c179e\"], [0.4444444444444444, \"#bd3786\"], [0.5555555555555556, \"#d8576b\"], [0.6666666666666666, \"#ed7953\"], [0.7777777777777778, \"#fb9f3a\"], [0.8888888888888888, \"#fdca26\"], [1.0, \"#f0f921\"]], \"type\": \"heatmapgl\"}], \"histogram\": [{\"marker\": {\"colorbar\": {\"outlinewidth\": 0, \"ticks\": \"\"}}, \"type\": \"histogram\"}], \"histogram2d\": [{\"colorbar\": {\"outlinewidth\": 0, \"ticks\": \"\"}, \"colorscale\": [[0.0, \"#0d0887\"], [0.1111111111111111, \"#46039f\"], [0.2222222222222222, \"#7201a8\"], [0.3333333333333333, \"#9c179e\"], [0.4444444444444444, \"#bd3786\"], [0.5555555555555556, \"#d8576b\"], [0.6666666666666666, \"#ed7953\"], [0.7777777777777778, \"#fb9f3a\"], [0.8888888888888888, \"#fdca26\"], [1.0, \"#f0f921\"]], \"type\": \"histogram2d\"}], \"histogram2dcontour\": [{\"colorbar\": {\"outlinewidth\": 0, \"ticks\": \"\"}, \"colorscale\": [[0.0, \"#0d0887\"], [0.1111111111111111, \"#46039f\"], [0.2222222222222222, \"#7201a8\"], [0.3333333333333333, \"#9c179e\"], [0.4444444444444444, \"#bd3786\"], [0.5555555555555556, \"#d8576b\"], [0.6666666666666666, \"#ed7953\"], [0.7777777777777778, \"#fb9f3a\"], [0.8888888888888888, \"#fdca26\"], [1.0, \"#f0f921\"]], \"type\": \"histogram2dcontour\"}], \"mesh3d\": [{\"colorbar\": {\"outlinewidth\": 0, \"ticks\": \"\"}, \"type\": \"mesh3d\"}], \"parcoords\": [{\"line\": {\"colorbar\": {\"outlinewidth\": 0, \"ticks\": \"\"}}, \"type\": \"parcoords\"}], \"scatter\": [{\"marker\": {\"colorbar\": {\"outlinewidth\": 0, \"ticks\": \"\"}}, \"type\": \"scatter\"}], \"scatter3d\": [{\"line\": {\"colorbar\": {\"outlinewidth\": 0, \"ticks\": \"\"}}, \"marker\": {\"colorbar\": {\"outlinewidth\": 0, \"ticks\": \"\"}}, \"type\": \"scatter3d\"}], \"scattercarpet\": [{\"marker\": {\"colorbar\": {\"outlinewidth\": 0, \"ticks\": \"\"}}, \"type\": \"scattercarpet\"}], \"scattergeo\": [{\"marker\": {\"colorbar\": {\"outlinewidth\": 0, \"ticks\": \"\"}}, \"type\": \"scattergeo\"}], \"scattergl\": [{\"marker\": {\"colorbar\": {\"outlinewidth\": 0, \"ticks\": \"\"}}, \"type\": \"scattergl\"}], \"scattermapbox\": [{\"marker\": {\"colorbar\": {\"outlinewidth\": 0, \"ticks\": \"\"}}, \"type\": \"scattermapbox\"}], \"scatterpolar\": [{\"marker\": {\"colorbar\": {\"outlinewidth\": 0, \"ticks\": \"\"}}, \"type\": \"scatterpolar\"}], \"scatterpolargl\": [{\"marker\": {\"colorbar\": {\"outlinewidth\": 0, \"ticks\": \"\"}}, \"type\": \"scatterpolargl\"}], \"scatterternary\": [{\"marker\": {\"colorbar\": {\"outlinewidth\": 0, \"ticks\": \"\"}}, \"type\": \"scatterternary\"}], \"surface\": [{\"colorbar\": {\"outlinewidth\": 0, \"ticks\": \"\"}, \"colorscale\": [[0.0, \"#0d0887\"], [0.1111111111111111, \"#46039f\"], [0.2222222222222222, \"#7201a8\"], [0.3333333333333333, \"#9c179e\"], [0.4444444444444444, \"#bd3786\"], [0.5555555555555556, \"#d8576b\"], [0.6666666666666666, \"#ed7953\"], [0.7777777777777778, \"#fb9f3a\"], [0.8888888888888888, \"#fdca26\"], [1.0, \"#f0f921\"]], \"type\": \"surface\"}], \"table\": [{\"cells\": {\"fill\": {\"color\": \"#EBF0F8\"}, \"line\": {\"color\": \"white\"}}, \"header\": {\"fill\": {\"color\": \"#C8D4E3\"}, \"line\": {\"color\": \"white\"}}, \"type\": \"table\"}]}, \"layout\": {\"annotationdefaults\": {\"arrowcolor\": \"#2a3f5f\", \"arrowhead\": 0, \"arrowwidth\": 1}, \"colorscale\": {\"diverging\": [[0, \"#8e0152\"], [0.1, \"#c51b7d\"], [0.2, \"#de77ae\"], [0.3, \"#f1b6da\"], [0.4, \"#fde0ef\"], [0.5, \"#f7f7f7\"], [0.6, \"#e6f5d0\"], [0.7, \"#b8e186\"], [0.8, \"#7fbc41\"], [0.9, \"#4d9221\"], [1, \"#276419\"]], \"sequential\": [[0.0, \"#0d0887\"], [0.1111111111111111, \"#46039f\"], [0.2222222222222222, \"#7201a8\"], [0.3333333333333333, \"#9c179e\"], [0.4444444444444444, \"#bd3786\"], [0.5555555555555556, \"#d8576b\"], [0.6666666666666666, \"#ed7953\"], [0.7777777777777778, \"#fb9f3a\"], [0.8888888888888888, \"#fdca26\"], [1.0, \"#f0f921\"]], \"sequentialminus\": [[0.0, \"#0d0887\"], [0.1111111111111111, \"#46039f\"], [0.2222222222222222, \"#7201a8\"], [0.3333333333333333, \"#9c179e\"], [0.4444444444444444, \"#bd3786\"], [0.5555555555555556, \"#d8576b\"], [0.6666666666666666, \"#ed7953\"], [0.7777777777777778, \"#fb9f3a\"], [0.8888888888888888, \"#fdca26\"], [1.0, \"#f0f921\"]]}, \"colorway\": [\"#636efa\", \"#EF553B\", \"#00cc96\", \"#ab63fa\", \"#FFA15A\", \"#19d3f3\", \"#FF6692\", \"#B6E880\", \"#FF97FF\", \"#FECB52\"], \"font\": {\"color\": \"#2a3f5f\"}, \"geo\": {\"bgcolor\": \"white\", \"lakecolor\": \"white\", \"landcolor\": \"#E5ECF6\", \"showlakes\": true, \"showland\": true, \"subunitcolor\": \"white\"}, \"hoverlabel\": {\"align\": \"left\"}, \"hovermode\": \"closest\", \"mapbox\": {\"style\": \"light\"}, \"paper_bgcolor\": \"white\", \"plot_bgcolor\": \"#E5ECF6\", \"polar\": {\"angularaxis\": {\"gridcolor\": \"white\", \"linecolor\": \"white\", \"ticks\": \"\"}, \"bgcolor\": \"#E5ECF6\", \"radialaxis\": {\"gridcolor\": \"white\", \"linecolor\": \"white\", \"ticks\": \"\"}}, \"scene\": {\"xaxis\": {\"backgroundcolor\": \"#E5ECF6\", \"gridcolor\": \"white\", \"gridwidth\": 2, \"linecolor\": \"white\", \"showbackground\": true, \"ticks\": \"\", \"zerolinecolor\": \"white\"}, \"yaxis\": {\"backgroundcolor\": \"#E5ECF6\", \"gridcolor\": \"white\", \"gridwidth\": 2, \"linecolor\": \"white\", \"showbackground\": true, \"ticks\": \"\", \"zerolinecolor\": \"white\"}, \"zaxis\": {\"backgroundcolor\": \"#E5ECF6\", \"gridcolor\": \"white\", \"gridwidth\": 2, \"linecolor\": \"white\", \"showbackground\": true, \"ticks\": \"\", \"zerolinecolor\": \"white\"}}, \"shapedefaults\": {\"line\": {\"color\": \"#2a3f5f\"}}, \"ternary\": {\"aaxis\": {\"gridcolor\": \"white\", \"linecolor\": \"white\", \"ticks\": \"\"}, \"baxis\": {\"gridcolor\": \"white\", \"linecolor\": \"white\", \"ticks\": \"\"}, \"bgcolor\": \"#E5ECF6\", \"caxis\": {\"gridcolor\": \"white\", \"linecolor\": \"white\", \"ticks\": \"\"}}, \"title\": {\"x\": 0.05}, \"xaxis\": {\"automargin\": true, \"gridcolor\": \"white\", \"linecolor\": \"white\", \"ticks\": \"\", \"zerolinecolor\": \"white\", \"zerolinewidth\": 2}, \"yaxis\": {\"automargin\": true, \"gridcolor\": \"white\", \"linecolor\": \"white\", \"ticks\": \"\", \"zerolinecolor\": \"white\", \"zerolinewidth\": 2}}}, \"title\": {\"text\": \"\\u0421\\u0440\\u0435\\u0434\\u043d\\u0438\\u0435 \\\\ \\u043c\\u0435\\u0434\\u0438\\u0430\\u043d\\u043d\\u044b\\u0435 \\u043f\\u043e\\u043a\\u0430\\u0437\\u0430\\u0442\\u0435\\u043b\\u0438 \\u043f\\u043e box_office\"}},\n",
       "                        {\"responsive\": true}\n",
       "                    ).then(function(){\n",
       "                            \n",
       "var gd = document.getElementById('a56e9a3a-0cb2-47c9-a846-c6625fd8612e');\n",
       "var x = new MutationObserver(function (mutations, observer) {{\n",
       "        var display = window.getComputedStyle(gd).display;\n",
       "        if (!display || display === 'none') {{\n",
       "            console.log([gd, 'removed!']);\n",
       "            Plotly.purge(gd);\n",
       "            observer.disconnect();\n",
       "        }}\n",
       "}});\n",
       "\n",
       "// Listen for the removal of the full notebook cells\n",
       "var notebookContainer = gd.closest('#notebook-container');\n",
       "if (notebookContainer) {{\n",
       "    x.observe(notebookContainer, {childList: true});\n",
       "}}\n",
       "\n",
       "// Listen for the clearing of the current output cell\n",
       "var outputEl = gd.closest('.output');\n",
       "if (outputEl) {{\n",
       "    x.observe(outputEl, {childList: true});\n",
       "}}\n",
       "\n",
       "                        })\n",
       "                };\n",
       "                });\n",
       "            </script>\n",
       "        </div>"
      ]
     },
     "metadata": {},
     "output_type": "display_data"
    }
   ],
   "source": [
    "pivot_mean_median = movies_df.pivot_table(index = 'rental_year', values = 'box_office', aggfunc = ['mean', 'median'])\n",
    "pivot_mean_median.columns = ['mean', 'median']\n",
    "\n",
    "display(pivot_mean_median)\n",
    "\n",
    "import plotly.graph_objects as go\n",
    "\n",
    "fig = go.Figure()\n",
    "\n",
    "fig.add_trace(go.Scatter(x=pivot_mean_median.index, y=pivot_mean_median['mean'], name='mean')),\n",
    "fig.add_trace(go.Scatter(x=pivot_mean_median.index, y=pivot_mean_median['median'], name = 'median'))\n",
    "fig.update_layout(title = 'Средние \\ медианные показатели по box_office')\n",
    "fig.show()\n",
    "\n"
   ]
  },
  {
   "cell_type": "markdown",
   "metadata": {
    "id": "Ok89WFwJgFyZ"
   },
   "source": [
    "- Определить, влияет ли возрастное ограничение аудитории («6+», «12+», «16+», «18+» и т. д.) на сборы фильма в прокате в период с 2015 по 2019 год? Фильмы с каким возрастным ограничением собрали больше всего денег в прокате? Меняется ли картина в зависимости от года? Если да, выяснить с чем это может быть связано."
   ]
  },
  {
   "cell_type": "code",
   "execution_count": 199,
   "metadata": {
    "id": "jsSbEqfjgFya",
    "scrolled": false
   },
   "outputs": [
    {
     "data": {
      "image/png": "[encoded data removed]",
      "text/plain": [
       "<Figure size 720x504 with 1 Axes>"
      ]
     },
     "metadata": {
      "needs_background": "light"
     },
     "output_type": "display_data"
    },
    {
     "data": {
      "image/png": "[encoded data removed]",
      "text/plain": [
       "<Figure size 720x504 with 1 Axes>"
      ]
     },
     "metadata": {
      "needs_background": "light"
     },
     "output_type": "display_data"
    },
    {
     "data": {
      "image/png": "[encoded data removed]",
      "text/plain": [
       "<Figure size 720x504 with 1 Axes>"
      ]
     },
     "metadata": {
      "needs_background": "light"
     },
     "output_type": "display_data"
    },
    {
     "data": {
      "image/png": "[encoded data removed]",
      "text/plain": [
       "<Figure size 720x504 with 1 Axes>"
      ]
     },
     "metadata": {
      "needs_background": "light"
     },
     "output_type": "display_data"
    },
    {
     "data": {
      "image/png": "[encoded data removed]",
      "text/plain": [
       "<Figure size 720x504 with 1 Axes>"
      ]
     },
     "metadata": {
      "needs_background": "light"
     },
     "output_type": "display_data"
    }
   ],
   "source": [
    "years = [2015, 2016, 2017, 2018, 2019]\n",
    "for year in years:\n",
    "    movies_df.query('rental_year == @year').pivot_table(index='age_restriction', values='box_office', aggfunc='mean').plot(kind='bar', figsize=(10, 7), title=\n",
    "                                                                                                                        year)"
   ]
  },
  {
   "cell_type": "markdown",
   "metadata": {},
   "source": [
    "### Вывод"
   ]
  },
  {
   "cell_type": "markdown",
   "metadata": {},
   "source": [
    "Фильмы с преобладающим количество сборов - это фильмы с ограничением в 12+ и 6+, скорее всего это связано с тем, что родители с детьми склонны ходить на фильмы без всякой жести, которая есть в 16+ и 18+ фильмах, но и без излишней \"детскости\" как в фильмах 0+, таким образом фильмы 6+ и 12+ будет интересно смотреть как родителям, так и детям. Фильмы 0+ почти всегда получали меньше всех кассовых сборов и только в 1 год, скорее всего какой-нибудь 1 фильм повлиял на это, кассовые сборы были велики, обусловлено опять же тем, что фильмы для самых маленьких совсем скучные. Ну а фильмы 18+ вторые с конца потому что в целом люди старше 18 реже посещают кинотеатры, чем те кому меньше 18."
   ]
  },
  {
   "cell_type": "code",
   "execution_count": 200,
   "metadata": {
    "scrolled": true
   },
   "outputs": [
    {
     "data": {
      "text/html": [
       "<div>\n",
       "<style scoped>\n",
       "    .dataframe tbody tr th:only-of-type {\n",
       "        vertical-align: middle;\n",
       "    }\n",
       "\n",
       "    .dataframe tbody tr th {\n",
       "        vertical-align: top;\n",
       "    }\n",
       "\n",
       "    .dataframe thead th {\n",
       "        text-align: right;\n",
       "    }\n",
       "</style>\n",
       "<table border=\"1\" class=\"dataframe\">\n",
       "  <thead>\n",
       "    <tr style=\"text-align: right;\">\n",
       "      <th></th>\n",
       "      <th>age_restriction</th>\n",
       "      <th>age_rating</th>\n",
       "    </tr>\n",
       "  </thead>\n",
       "  <tbody>\n",
       "    <tr>\n",
       "      <td>0</td>\n",
       "      <td>«18+» - запрещено для детей</td>\n",
       "      <td>«18+»</td>\n",
       "    </tr>\n",
       "    <tr>\n",
       "      <td>1</td>\n",
       "      <td>«6+» - для детей старше 6 лет</td>\n",
       "      <td>«6+»</td>\n",
       "    </tr>\n",
       "    <tr>\n",
       "      <td>2</td>\n",
       "      <td>«18+» - запрещено для детей</td>\n",
       "      <td>«18+»</td>\n",
       "    </tr>\n",
       "    <tr>\n",
       "      <td>3</td>\n",
       "      <td>«18+» - запрещено для детей</td>\n",
       "      <td>«18+»</td>\n",
       "    </tr>\n",
       "    <tr>\n",
       "      <td>4</td>\n",
       "      <td>«18+» - запрещено для детей</td>\n",
       "      <td>«18+»</td>\n",
       "    </tr>\n",
       "  </tbody>\n",
       "</table>\n",
       "</div>"
      ],
      "text/plain": [
       "                 age_restriction age_rating\n",
       "0    «18+» - запрещено для детей     «18+» \n",
       "1  «6+» - для детей старше 6 лет      «6+» \n",
       "2    «18+» - запрещено для детей     «18+» \n",
       "3    «18+» - запрещено для детей     «18+» \n",
       "4    «18+» - запрещено для детей     «18+» "
      ]
     },
     "metadata": {},
     "output_type": "display_data"
    },
    {
     "data": {
      "application/vnd.plotly.v1+json": {
       "config": {
        "plotlyServerURL": "https://plot.ly"
       },
       "data": [
        {
         "hoverlabel": {
          "namelength": 0
         },
         "hovertemplate": "age_rating=«0+» <br>rental_year=%{x}<br>box_office=%{y}",
         "legendgroup": "age_rating=«0+» ",
         "line": {
          "color": "#636efa",
          "dash": "solid"
         },
         "mode": "lines",
         "name": "age_rating=«0+» ",
         "showlegend": true,
         "type": "scatter",
         "x": [
          2015,
          2016,
          2017,
          2018,
          2019
         ],
         "xaxis": "x",
         "y": [
          9719348.163333334,
          3664118.260243902,
          76532976.66666667,
          6489800.422,
          5915355.606666666
         ],
         "yaxis": "y"
        },
        {
         "hoverlabel": {
          "namelength": 0
         },
         "hovertemplate": "age_rating=«12+» <br>rental_year=%{x}<br>box_office=%{y}",
         "legendgroup": "age_rating=«12+» ",
         "line": {
          "color": "#EF553B",
          "dash": "solid"
         },
         "mode": "lines",
         "name": "age_rating=«12+» ",
         "showlegend": true,
         "type": "scatter",
         "x": [
          2015,
          2016,
          2017,
          2018,
          2019
         ],
         "xaxis": "x",
         "y": [
          186382077.3681944,
          139384526.29949996,
          191498235.62609756,
          212944651.65208957,
          149178809.102
         ],
         "yaxis": "y"
        },
        {
         "hoverlabel": {
          "namelength": 0
         },
         "hovertemplate": "age_rating=«16+» <br>rental_year=%{x}<br>box_office=%{y}",
         "legendgroup": "age_rating=«16+» ",
         "line": {
          "color": "#00cc96",
          "dash": "solid"
         },
         "mode": "lines",
         "name": "age_rating=«16+» ",
         "showlegend": true,
         "type": "scatter",
         "x": [
          2015,
          2016,
          2017,
          2018,
          2019
         ],
         "xaxis": "x",
         "y": [
          65343033.9470909,
          91680936.40740333,
          155788257.9255,
          105021973.85116129,
          71648421.26179777
         ],
         "yaxis": "y"
        },
        {
         "hoverlabel": {
          "namelength": 0
         },
         "hovertemplate": "age_rating=«18+» <br>rental_year=%{x}<br>box_office=%{y}",
         "legendgroup": "age_rating=«18+» ",
         "line": {
          "color": "#ab63fa",
          "dash": "solid"
         },
         "mode": "lines",
         "name": "age_rating=«18+» ",
         "showlegend": true,
         "type": "scatter",
         "x": [
          2015,
          2016,
          2017,
          2018,
          2019
         ],
         "xaxis": "x",
         "y": [
          41453058.23610689,
          44992912.70774834,
          65656432.523945585,
          48939025.14608938,
          55310362.3149727
         ],
         "yaxis": "y"
        },
        {
         "hoverlabel": {
          "namelength": 0
         },
         "hovertemplate": "age_rating=«6+» <br>rental_year=%{x}<br>box_office=%{y}",
         "legendgroup": "age_rating=«6+» ",
         "line": {
          "color": "#FFA15A",
          "dash": "solid"
         },
         "mode": "lines",
         "name": "age_rating=«6+» ",
         "showlegend": true,
         "type": "scatter",
         "x": [
          2015,
          2016,
          2017,
          2018,
          2019
         ],
         "xaxis": "x",
         "y": [
          163794458.0771154,
          172187800.11771432,
          273432593.8863636,
          152519373.7587692,
          158811772.80437496
         ],
         "yaxis": "y"
        }
       ],
       "layout": {
        "height": 600,
        "legend": {
         "tracegroupgap": 0
        },
        "template": {
         "data": {
          "bar": [
           {
            "error_x": {
             "color": "#2a3f5f"
            },
            "error_y": {
             "color": "#2a3f5f"
            },
            "marker": {
             "line": {
              "color": "#E5ECF6",
              "width": 0.5
             }
            },
            "type": "bar"
           }
          ],
          "barpolar": [
           {
            "marker": {
             "line": {
              "color": "#E5ECF6",
              "width": 0.5
             }
            },
            "type": "barpolar"
           }
          ],
          "carpet": [
           {
            "aaxis": {
             "endlinecolor": "#2a3f5f",
             "gridcolor": "white",
             "linecolor": "white",
             "minorgridcolor": "white",
             "startlinecolor": "#2a3f5f"
            },
            "baxis": {
             "endlinecolor": "#2a3f5f",
             "gridcolor": "white",
             "linecolor": "white",
             "minorgridcolor": "white",
             "startlinecolor": "#2a3f5f"
            },
            "type": "carpet"
           }
          ],
          "choropleth": [
           {
            "colorbar": {
             "outlinewidth": 0,
             "ticks": ""
            },
            "type": "choropleth"
           }
          ],
          "contour": [
           {
            "colorbar": {
             "outlinewidth": 0,
             "ticks": ""
            },
            "colorscale": [
             [
              0,
              "#0d0887"
             ],
             [
              0.1111111111,
              "#46039f"
             ],
             [
              0.2222222222,
              "#7201a8"
             ],
             [
              0.3333333333,
              "#9c179e"
             ],
             [
              0.4444444444,
              "#bd3786"
             ],
             [
              0.5555555556,
              "#d8576b"
             ],
             [
              0.6666666667,
              "#ed7953"
             ],
             [
              0.7777777778,
              "#fb9f3a"
             ],
             [
              0.8888888889,
              "#fdca26"
             ],
             [
              1,
              "#f0f921"
             ]
            ],
            "type": "contour"
           }
          ],
          "contourcarpet": [
           {
            "colorbar": {
             "outlinewidth": 0,
             "ticks": ""
            },
            "type": "contourcarpet"
           }
          ],
          "heatmap": [
           {
            "colorbar": {
             "outlinewidth": 0,
             "ticks": ""
            },
            "colorscale": [
             [
              0,
              "#0d0887"
             ],
             [
              0.1111111111,
              "#46039f"
             ],
             [
              0.2222222222,
              "#7201a8"
             ],
             [
              0.3333333333,
              "#9c179e"
             ],
             [
              0.4444444444,
              "#bd3786"
             ],
             [
              0.5555555556,
              "#d8576b"
             ],
             [
              0.6666666667,
              "#ed7953"
             ],
             [
              0.7777777778,
              "#fb9f3a"
             ],
             [
              0.8888888889,
              "#fdca26"
             ],
             [
              1,
              "#f0f921"
             ]
            ],
            "type": "heatmap"
           }
          ],
          "heatmapgl": [
           {
            "colorbar": {
             "outlinewidth": 0,
             "ticks": ""
            },
            "colorscale": [
             [
              0,
              "#0d0887"
             ],
             [
              0.1111111111,
              "#46039f"
             ],
             [
              0.2222222222,
              "#7201a8"
             ],
             [
              0.3333333333,
              "#9c179e"
             ],
             [
              0.4444444444,
              "#bd3786"
             ],
             [
              0.5555555556,
              "#d8576b"
             ],
             [
              0.6666666667,
              "#ed7953"
             ],
             [
              0.7777777778,
              "#fb9f3a"
             ],
             [
              0.8888888889,
              "#fdca26"
             ],
             [
              1,
              "#f0f921"
             ]
            ],
            "type": "heatmapgl"
           }
          ],
          "histogram": [
           {
            "marker": {
             "colorbar": {
              "outlinewidth": 0,
              "ticks": ""
             }
            },
            "type": "histogram"
           }
          ],
          "histogram2d": [
           {
            "colorbar": {
             "outlinewidth": 0,
             "ticks": ""
            },
            "colorscale": [
             [
              0,
              "#0d0887"
             ],
             [
              0.1111111111,
              "#46039f"
             ],
             [
              0.2222222222,
              "#7201a8"
             ],
             [
              0.3333333333,
              "#9c179e"
             ],
             [
              0.4444444444,
              "#bd3786"
             ],
             [
              0.5555555556,
              "#d8576b"
             ],
             [
              0.6666666667,
              "#ed7953"
             ],
             [
              0.7777777778,
              "#fb9f3a"
             ],
             [
              0.8888888889,
              "#fdca26"
             ],
             [
              1,
              "#f0f921"
             ]
            ],
            "type": "histogram2d"
           }
          ],
          "histogram2dcontour": [
           {
            "colorbar": {
             "outlinewidth": 0,
             "ticks": ""
            },
            "colorscale": [
             [
              0,
              "#0d0887"
             ],
             [
              0.1111111111,
              "#46039f"
             ],
             [
              0.2222222222,
              "#7201a8"
             ],
             [
              0.3333333333,
              "#9c179e"
             ],
             [
              0.4444444444,
              "#bd3786"
             ],
             [
              0.5555555556,
              "#d8576b"
             ],
             [
              0.6666666667,
              "#ed7953"
             ],
             [
              0.7777777778,
              "#fb9f3a"
             ],
             [
              0.8888888889,
              "#fdca26"
             ],
             [
              1,
              "#f0f921"
             ]
            ],
            "type": "histogram2dcontour"
           }
          ],
          "mesh3d": [
           {
            "colorbar": {
             "outlinewidth": 0,
             "ticks": ""
            },
            "type": "mesh3d"
           }
          ],
          "parcoords": [
           {
            "line": {
             "colorbar": {
              "outlinewidth": 0,
              "ticks": ""
             }
            },
            "type": "parcoords"
           }
          ],
          "scatter": [
           {
            "marker": {
             "colorbar": {
              "outlinewidth": 0,
              "ticks": ""
             }
            },
            "type": "scatter"
           }
          ],
          "scatter3d": [
           {
            "line": {
             "colorbar": {
              "outlinewidth": 0,
              "ticks": ""
             }
            },
            "marker": {
             "colorbar": {
              "outlinewidth": 0,
              "ticks": ""
             }
            },
            "type": "scatter3d"
           }
          ],
          "scattercarpet": [
           {
            "marker": {
             "colorbar": {
              "outlinewidth": 0,
              "ticks": ""
             }
            },
            "type": "scattercarpet"
           }
          ],
          "scattergeo": [
           {
            "marker": {
             "colorbar": {
              "outlinewidth": 0,
              "ticks": ""
             }
            },
            "type": "scattergeo"
           }
          ],
          "scattergl": [
           {
            "marker": {
             "colorbar": {
              "outlinewidth": 0,
              "ticks": ""
             }
            },
            "type": "scattergl"
           }
          ],
          "scattermapbox": [
           {
            "marker": {
             "colorbar": {
              "outlinewidth": 0,
              "ticks": ""
             }
            },
            "type": "scattermapbox"
           }
          ],
          "scatterpolar": [
           {
            "marker": {
             "colorbar": {
              "outlinewidth": 0,
              "ticks": ""
             }
            },
            "type": "scatterpolar"
           }
          ],
          "scatterpolargl": [
           {
            "marker": {
             "colorbar": {
              "outlinewidth": 0,
              "ticks": ""
             }
            },
            "type": "scatterpolargl"
           }
          ],
          "scatterternary": [
           {
            "marker": {
             "colorbar": {
              "outlinewidth": 0,
              "ticks": ""
             }
            },
            "type": "scatterternary"
           }
          ],
          "surface": [
           {
            "colorbar": {
             "outlinewidth": 0,
             "ticks": ""
            },
            "colorscale": [
             [
              0,
              "#0d0887"
             ],
             [
              0.1111111111,
              "#46039f"
             ],
             [
              0.2222222222,
              "#7201a8"
             ],
             [
              0.3333333333,
              "#9c179e"
             ],
             [
              0.4444444444,
              "#bd3786"
             ],
             [
              0.5555555556,
              "#d8576b"
             ],
             [
              0.6666666667,
              "#ed7953"
             ],
             [
              0.7777777778,
              "#fb9f3a"
             ],
             [
              0.8888888889,
              "#fdca26"
             ],
             [
              1,
              "#f0f921"
             ]
            ],
            "type": "surface"
           }
          ],
          "table": [
           {
            "cells": {
             "fill": {
              "color": "#EBF0F8"
             },
             "line": {
              "color": "white"
             }
            },
            "header": {
             "fill": {
              "color": "#C8D4E3"
             },
             "line": {
              "color": "white"
             }
            },
            "type": "table"
           }
          ]
         },
         "layout": {
          "annotationdefaults": {
           "arrowcolor": "#2a3f5f",
           "arrowhead": 0,
           "arrowwidth": 1
          },
          "colorscale": {
           "diverging": [
            [
             0,
             "#8e0152"
            ],
            [
             0.1,
             "#c51b7d"
            ],
            [
             0.2,
             "#de77ae"
            ],
            [
             0.3,
             "#f1b6da"
            ],
            [
             0.4,
             "#fde0ef"
            ],
            [
             0.5,
             "#f7f7f7"
            ],
            [
             0.6,
             "#e6f5d0"
            ],
            [
             0.7,
             "#b8e186"
            ],
            [
             0.8,
             "#7fbc41"
            ],
            [
             0.9,
             "#4d9221"
            ],
            [
             1,
             "#276419"
            ]
           ],
           "sequential": [
            [
             0,
             "#0d0887"
            ],
            [
             0.1111111111,
             "#46039f"
            ],
            [
             0.2222222222,
             "#7201a8"
            ],
            [
             0.3333333333,
             "#9c179e"
            ],
            [
             0.4444444444,
             "#bd3786"
            ],
            [
             0.5555555556,
             "#d8576b"
            ],
            [
             0.6666666667,
             "#ed7953"
            ],
            [
             0.7777777778,
             "#fb9f3a"
            ],
            [
             0.8888888889,
             "#fdca26"
            ],
            [
             1,
             "#f0f921"
            ]
           ],
           "sequentialminus": [
            [
             0,
             "#0d0887"
            ],
            [
             0.1111111111,
             "#46039f"
            ],
            [
             0.2222222222,
             "#7201a8"
            ],
            [
             0.3333333333,
             "#9c179e"
            ],
            [
             0.4444444444,
             "#bd3786"
            ],
            [
             0.5555555556,
             "#d8576b"
            ],
            [
             0.6666666667,
             "#ed7953"
            ],
            [
             0.7777777778,
             "#fb9f3a"
            ],
            [
             0.8888888889,
             "#fdca26"
            ],
            [
             1,
             "#f0f921"
            ]
           ]
          },
          "colorway": [
           "#636efa",
           "#EF553B",
           "#00cc96",
           "#ab63fa",
           "#FFA15A",
           "#19d3f3",
           "#FF6692",
           "#B6E880",
           "#FF97FF",
           "#FECB52"
          ],
          "font": {
           "color": "#2a3f5f"
          },
          "geo": {
           "bgcolor": "white",
           "lakecolor": "white",
           "landcolor": "#E5ECF6",
           "showlakes": true,
           "showland": true,
           "subunitcolor": "white"
          },
          "hoverlabel": {
           "align": "left"
          },
          "hovermode": "closest",
          "mapbox": {
           "style": "light"
          },
          "paper_bgcolor": "white",
          "plot_bgcolor": "#E5ECF6",
          "polar": {
           "angularaxis": {
            "gridcolor": "white",
            "linecolor": "white",
            "ticks": ""
           },
           "bgcolor": "#E5ECF6",
           "radialaxis": {
            "gridcolor": "white",
            "linecolor": "white",
            "ticks": ""
           }
          },
          "scene": {
           "xaxis": {
            "backgroundcolor": "#E5ECF6",
            "gridcolor": "white",
            "gridwidth": 2,
            "linecolor": "white",
            "showbackground": true,
            "ticks": "",
            "zerolinecolor": "white"
           },
           "yaxis": {
            "backgroundcolor": "#E5ECF6",
            "gridcolor": "white",
            "gridwidth": 2,
            "linecolor": "white",
            "showbackground": true,
            "ticks": "",
            "zerolinecolor": "white"
           },
           "zaxis": {
            "backgroundcolor": "#E5ECF6",
            "gridcolor": "white",
            "gridwidth": 2,
            "linecolor": "white",
            "showbackground": true,
            "ticks": "",
            "zerolinecolor": "white"
           }
          },
          "shapedefaults": {
           "line": {
            "color": "#2a3f5f"
           }
          },
          "ternary": {
           "aaxis": {
            "gridcolor": "white",
            "linecolor": "white",
            "ticks": ""
           },
           "baxis": {
            "gridcolor": "white",
            "linecolor": "white",
            "ticks": ""
           },
           "bgcolor": "#E5ECF6",
           "caxis": {
            "gridcolor": "white",
            "linecolor": "white",
            "ticks": ""
           }
          },
          "title": {
           "x": 0.05
          },
          "xaxis": {
           "automargin": true,
           "gridcolor": "white",
           "linecolor": "white",
           "ticks": "",
           "zerolinecolor": "white",
           "zerolinewidth": 2
          },
          "yaxis": {
           "automargin": true,
           "gridcolor": "white",
           "linecolor": "white",
           "ticks": "",
           "zerolinecolor": "white",
           "zerolinewidth": 2
          }
         }
        },
        "title": {
         "text": "Изменение средних продаж по рейтингу"
        },
        "xaxis": {
         "anchor": "y",
         "domain": [
          0,
          0.98
         ],
         "title": {
          "text": "rental_year"
         }
        },
        "yaxis": {
         "anchor": "x",
         "domain": [
          0,
          1
         ],
         "title": {
          "text": "box_office"
         }
        }
       }
      },
      "text/html": [
       "<div>\n",
       "        \n",
       "        \n",
       "            <div id=\"06641722-6028-4f2c-9160-8c654641ba7e\" class=\"plotly-graph-div\" style=\"height:600px; width:100%;\"></div>\n",
       "            <script type=\"text/javascript\">\n",
       "                require([\"plotly\"], function(Plotly) {\n",
       "                    window.PLOTLYENV=window.PLOTLYENV || {};\n",
       "                    \n",
       "                if (document.getElementById(\"06641722-6028-4f2c-9160-8c654641ba7e\")) {\n",
       "                    Plotly.newPlot(\n",
       "                        '06641722-6028-4f2c-9160-8c654641ba7e',\n",
       "                        [{\"hoverlabel\": {\"namelength\": 0}, \"hovertemplate\": \"age_rating=\\u00ab0+\\u00bb <br>rental_year=%{x}<br>box_office=%{y}\", \"legendgroup\": \"age_rating=\\u00ab0+\\u00bb \", \"line\": {\"color\": \"#636efa\", \"dash\": \"solid\"}, \"mode\": \"lines\", \"name\": \"age_rating=\\u00ab0+\\u00bb \", \"showlegend\": true, \"type\": \"scatter\", \"x\": [2015, 2016, 2017, 2018, 2019], \"xaxis\": \"x\", \"y\": [9719348.163333334, 3664118.260243902, 76532976.66666667, 6489800.422, 5915355.606666666], \"yaxis\": \"y\"}, {\"hoverlabel\": {\"namelength\": 0}, \"hovertemplate\": \"age_rating=\\u00ab12+\\u00bb <br>rental_year=%{x}<br>box_office=%{y}\", \"legendgroup\": \"age_rating=\\u00ab12+\\u00bb \", \"line\": {\"color\": \"#EF553B\", \"dash\": \"solid\"}, \"mode\": \"lines\", \"name\": \"age_rating=\\u00ab12+\\u00bb \", \"showlegend\": true, \"type\": \"scatter\", \"x\": [2015, 2016, 2017, 2018, 2019], \"xaxis\": \"x\", \"y\": [186382077.3681944, 139384526.29949996, 191498235.62609756, 212944651.65208957, 149178809.102], \"yaxis\": \"y\"}, {\"hoverlabel\": {\"namelength\": 0}, \"hovertemplate\": \"age_rating=\\u00ab16+\\u00bb <br>rental_year=%{x}<br>box_office=%{y}\", \"legendgroup\": \"age_rating=\\u00ab16+\\u00bb \", \"line\": {\"color\": \"#00cc96\", \"dash\": \"solid\"}, \"mode\": \"lines\", \"name\": \"age_rating=\\u00ab16+\\u00bb \", \"showlegend\": true, \"type\": \"scatter\", \"x\": [2015, 2016, 2017, 2018, 2019], \"xaxis\": \"x\", \"y\": [65343033.9470909, 91680936.40740333, 155788257.9255, 105021973.85116129, 71648421.26179777], \"yaxis\": \"y\"}, {\"hoverlabel\": {\"namelength\": 0}, \"hovertemplate\": \"age_rating=\\u00ab18+\\u00bb <br>rental_year=%{x}<br>box_office=%{y}\", \"legendgroup\": \"age_rating=\\u00ab18+\\u00bb \", \"line\": {\"color\": \"#ab63fa\", \"dash\": \"solid\"}, \"mode\": \"lines\", \"name\": \"age_rating=\\u00ab18+\\u00bb \", \"showlegend\": true, \"type\": \"scatter\", \"x\": [2015, 2016, 2017, 2018, 2019], \"xaxis\": \"x\", \"y\": [41453058.23610689, 44992912.70774834, 65656432.523945585, 48939025.14608938, 55310362.3149727], \"yaxis\": \"y\"}, {\"hoverlabel\": {\"namelength\": 0}, \"hovertemplate\": \"age_rating=\\u00ab6+\\u00bb <br>rental_year=%{x}<br>box_office=%{y}\", \"legendgroup\": \"age_rating=\\u00ab6+\\u00bb \", \"line\": {\"color\": \"#FFA15A\", \"dash\": \"solid\"}, \"mode\": \"lines\", \"name\": \"age_rating=\\u00ab6+\\u00bb \", \"showlegend\": true, \"type\": \"scatter\", \"x\": [2015, 2016, 2017, 2018, 2019], \"xaxis\": \"x\", \"y\": [163794458.0771154, 172187800.11771432, 273432593.8863636, 152519373.7587692, 158811772.80437496], \"yaxis\": \"y\"}],\n",
       "                        {\"height\": 600, \"legend\": {\"tracegroupgap\": 0}, \"template\": {\"data\": {\"bar\": [{\"error_x\": {\"color\": \"#2a3f5f\"}, \"error_y\": {\"color\": \"#2a3f5f\"}, \"marker\": {\"line\": {\"color\": \"#E5ECF6\", \"width\": 0.5}}, \"type\": \"bar\"}], \"barpolar\": [{\"marker\": {\"line\": {\"color\": \"#E5ECF6\", \"width\": 0.5}}, \"type\": \"barpolar\"}], \"carpet\": [{\"aaxis\": {\"endlinecolor\": \"#2a3f5f\", \"gridcolor\": \"white\", \"linecolor\": \"white\", \"minorgridcolor\": \"white\", \"startlinecolor\": \"#2a3f5f\"}, \"baxis\": {\"endlinecolor\": \"#2a3f5f\", \"gridcolor\": \"white\", \"linecolor\": \"white\", \"minorgridcolor\": \"white\", \"startlinecolor\": \"#2a3f5f\"}, \"type\": \"carpet\"}], \"choropleth\": [{\"colorbar\": {\"outlinewidth\": 0, \"ticks\": \"\"}, \"type\": \"choropleth\"}], \"contour\": [{\"colorbar\": {\"outlinewidth\": 0, \"ticks\": \"\"}, \"colorscale\": [[0.0, \"#0d0887\"], [0.1111111111111111, \"#46039f\"], [0.2222222222222222, \"#7201a8\"], [0.3333333333333333, \"#9c179e\"], [0.4444444444444444, \"#bd3786\"], [0.5555555555555556, \"#d8576b\"], [0.6666666666666666, \"#ed7953\"], [0.7777777777777778, \"#fb9f3a\"], [0.8888888888888888, \"#fdca26\"], [1.0, \"#f0f921\"]], \"type\": \"contour\"}], \"contourcarpet\": [{\"colorbar\": {\"outlinewidth\": 0, \"ticks\": \"\"}, \"type\": \"contourcarpet\"}], \"heatmap\": [{\"colorbar\": {\"outlinewidth\": 0, \"ticks\": \"\"}, \"colorscale\": [[0.0, \"#0d0887\"], [0.1111111111111111, \"#46039f\"], [0.2222222222222222, \"#7201a8\"], [0.3333333333333333, \"#9c179e\"], [0.4444444444444444, \"#bd3786\"], [0.5555555555555556, \"#d8576b\"], [0.6666666666666666, \"#ed7953\"], [0.7777777777777778, \"#fb9f3a\"], [0.8888888888888888, \"#fdca26\"], [1.0, \"#f0f921\"]], \"type\": \"heatmap\"}], \"heatmapgl\": [{\"colorbar\": {\"outlinewidth\": 0, \"ticks\": \"\"}, \"colorscale\": [[0.0, \"#0d0887\"], [0.1111111111111111, \"#46039f\"], [0.2222222222222222, \"#7201a8\"], [0.3333333333333333, \"#9c179e\"], [0.4444444444444444, \"#bd3786\"], [0.5555555555555556, \"#d8576b\"], [0.6666666666666666, \"#ed7953\"], [0.7777777777777778, \"#fb9f3a\"], [0.8888888888888888, \"#fdca26\"], [1.0, \"#f0f921\"]], \"type\": \"heatmapgl\"}], \"histogram\": [{\"marker\": {\"colorbar\": {\"outlinewidth\": 0, \"ticks\": \"\"}}, \"type\": \"histogram\"}], \"histogram2d\": [{\"colorbar\": {\"outlinewidth\": 0, \"ticks\": \"\"}, \"colorscale\": [[0.0, \"#0d0887\"], [0.1111111111111111, \"#46039f\"], [0.2222222222222222, \"#7201a8\"], [0.3333333333333333, \"#9c179e\"], [0.4444444444444444, \"#bd3786\"], [0.5555555555555556, \"#d8576b\"], [0.6666666666666666, \"#ed7953\"], [0.7777777777777778, \"#fb9f3a\"], [0.8888888888888888, \"#fdca26\"], [1.0, \"#f0f921\"]], \"type\": \"histogram2d\"}], \"histogram2dcontour\": [{\"colorbar\": {\"outlinewidth\": 0, \"ticks\": \"\"}, \"colorscale\": [[0.0, \"#0d0887\"], [0.1111111111111111, \"#46039f\"], [0.2222222222222222, \"#7201a8\"], [0.3333333333333333, \"#9c179e\"], [0.4444444444444444, \"#bd3786\"], [0.5555555555555556, \"#d8576b\"], [0.6666666666666666, \"#ed7953\"], [0.7777777777777778, \"#fb9f3a\"], [0.8888888888888888, \"#fdca26\"], [1.0, \"#f0f921\"]], \"type\": \"histogram2dcontour\"}], \"mesh3d\": [{\"colorbar\": {\"outlinewidth\": 0, \"ticks\": \"\"}, \"type\": \"mesh3d\"}], \"parcoords\": [{\"line\": {\"colorbar\": {\"outlinewidth\": 0, \"ticks\": \"\"}}, \"type\": \"parcoords\"}], \"scatter\": [{\"marker\": {\"colorbar\": {\"outlinewidth\": 0, \"ticks\": \"\"}}, \"type\": \"scatter\"}], \"scatter3d\": [{\"line\": {\"colorbar\": {\"outlinewidth\": 0, \"ticks\": \"\"}}, \"marker\": {\"colorbar\": {\"outlinewidth\": 0, \"ticks\": \"\"}}, \"type\": \"scatter3d\"}], \"scattercarpet\": [{\"marker\": {\"colorbar\": {\"outlinewidth\": 0, \"ticks\": \"\"}}, \"type\": \"scattercarpet\"}], \"scattergeo\": [{\"marker\": {\"colorbar\": {\"outlinewidth\": 0, \"ticks\": \"\"}}, \"type\": \"scattergeo\"}], \"scattergl\": [{\"marker\": {\"colorbar\": {\"outlinewidth\": 0, \"ticks\": \"\"}}, \"type\": \"scattergl\"}], \"scattermapbox\": [{\"marker\": {\"colorbar\": {\"outlinewidth\": 0, \"ticks\": \"\"}}, \"type\": \"scattermapbox\"}], \"scatterpolar\": [{\"marker\": {\"colorbar\": {\"outlinewidth\": 0, \"ticks\": \"\"}}, \"type\": \"scatterpolar\"}], \"scatterpolargl\": [{\"marker\": {\"colorbar\": {\"outlinewidth\": 0, \"ticks\": \"\"}}, \"type\": \"scatterpolargl\"}], \"scatterternary\": [{\"marker\": {\"colorbar\": {\"outlinewidth\": 0, \"ticks\": \"\"}}, \"type\": \"scatterternary\"}], \"surface\": [{\"colorbar\": {\"outlinewidth\": 0, \"ticks\": \"\"}, \"colorscale\": [[0.0, \"#0d0887\"], [0.1111111111111111, \"#46039f\"], [0.2222222222222222, \"#7201a8\"], [0.3333333333333333, \"#9c179e\"], [0.4444444444444444, \"#bd3786\"], [0.5555555555555556, \"#d8576b\"], [0.6666666666666666, \"#ed7953\"], [0.7777777777777778, \"#fb9f3a\"], [0.8888888888888888, \"#fdca26\"], [1.0, \"#f0f921\"]], \"type\": \"surface\"}], \"table\": [{\"cells\": {\"fill\": {\"color\": \"#EBF0F8\"}, \"line\": {\"color\": \"white\"}}, \"header\": {\"fill\": {\"color\": \"#C8D4E3\"}, \"line\": {\"color\": \"white\"}}, \"type\": \"table\"}]}, \"layout\": {\"annotationdefaults\": {\"arrowcolor\": \"#2a3f5f\", \"arrowhead\": 0, \"arrowwidth\": 1}, \"colorscale\": {\"diverging\": [[0, \"#8e0152\"], [0.1, \"#c51b7d\"], [0.2, \"#de77ae\"], [0.3, \"#f1b6da\"], [0.4, \"#fde0ef\"], [0.5, \"#f7f7f7\"], [0.6, \"#e6f5d0\"], [0.7, \"#b8e186\"], [0.8, \"#7fbc41\"], [0.9, \"#4d9221\"], [1, \"#276419\"]], \"sequential\": [[0.0, \"#0d0887\"], [0.1111111111111111, \"#46039f\"], [0.2222222222222222, \"#7201a8\"], [0.3333333333333333, \"#9c179e\"], [0.4444444444444444, \"#bd3786\"], [0.5555555555555556, \"#d8576b\"], [0.6666666666666666, \"#ed7953\"], [0.7777777777777778, \"#fb9f3a\"], [0.8888888888888888, \"#fdca26\"], [1.0, \"#f0f921\"]], \"sequentialminus\": [[0.0, \"#0d0887\"], [0.1111111111111111, \"#46039f\"], [0.2222222222222222, \"#7201a8\"], [0.3333333333333333, \"#9c179e\"], [0.4444444444444444, \"#bd3786\"], [0.5555555555555556, \"#d8576b\"], [0.6666666666666666, \"#ed7953\"], [0.7777777777777778, \"#fb9f3a\"], [0.8888888888888888, \"#fdca26\"], [1.0, \"#f0f921\"]]}, \"colorway\": [\"#636efa\", \"#EF553B\", \"#00cc96\", \"#ab63fa\", \"#FFA15A\", \"#19d3f3\", \"#FF6692\", \"#B6E880\", \"#FF97FF\", \"#FECB52\"], \"font\": {\"color\": \"#2a3f5f\"}, \"geo\": {\"bgcolor\": \"white\", \"lakecolor\": \"white\", \"landcolor\": \"#E5ECF6\", \"showlakes\": true, \"showland\": true, \"subunitcolor\": \"white\"}, \"hoverlabel\": {\"align\": \"left\"}, \"hovermode\": \"closest\", \"mapbox\": {\"style\": \"light\"}, \"paper_bgcolor\": \"white\", \"plot_bgcolor\": \"#E5ECF6\", \"polar\": {\"angularaxis\": {\"gridcolor\": \"white\", \"linecolor\": \"white\", \"ticks\": \"\"}, \"bgcolor\": \"#E5ECF6\", \"radialaxis\": {\"gridcolor\": \"white\", \"linecolor\": \"white\", \"ticks\": \"\"}}, \"scene\": {\"xaxis\": {\"backgroundcolor\": \"#E5ECF6\", \"gridcolor\": \"white\", \"gridwidth\": 2, \"linecolor\": \"white\", \"showbackground\": true, \"ticks\": \"\", \"zerolinecolor\": \"white\"}, \"yaxis\": {\"backgroundcolor\": \"#E5ECF6\", \"gridcolor\": \"white\", \"gridwidth\": 2, \"linecolor\": \"white\", \"showbackground\": true, \"ticks\": \"\", \"zerolinecolor\": \"white\"}, \"zaxis\": {\"backgroundcolor\": \"#E5ECF6\", \"gridcolor\": \"white\", \"gridwidth\": 2, \"linecolor\": \"white\", \"showbackground\": true, \"ticks\": \"\", \"zerolinecolor\": \"white\"}}, \"shapedefaults\": {\"line\": {\"color\": \"#2a3f5f\"}}, \"ternary\": {\"aaxis\": {\"gridcolor\": \"white\", \"linecolor\": \"white\", \"ticks\": \"\"}, \"baxis\": {\"gridcolor\": \"white\", \"linecolor\": \"white\", \"ticks\": \"\"}, \"bgcolor\": \"#E5ECF6\", \"caxis\": {\"gridcolor\": \"white\", \"linecolor\": \"white\", \"ticks\": \"\"}}, \"title\": {\"x\": 0.05}, \"xaxis\": {\"automargin\": true, \"gridcolor\": \"white\", \"linecolor\": \"white\", \"ticks\": \"\", \"zerolinecolor\": \"white\", \"zerolinewidth\": 2}, \"yaxis\": {\"automargin\": true, \"gridcolor\": \"white\", \"linecolor\": \"white\", \"ticks\": \"\", \"zerolinecolor\": \"white\", \"zerolinewidth\": 2}}}, \"title\": {\"text\": \"\\u0418\\u0437\\u043c\\u0435\\u043d\\u0435\\u043d\\u0438\\u0435 \\u0441\\u0440\\u0435\\u0434\\u043d\\u0438\\u0445 \\u043f\\u0440\\u043e\\u0434\\u0430\\u0436 \\u043f\\u043e \\u0440\\u0435\\u0439\\u0442\\u0438\\u043d\\u0433\\u0443\"}, \"xaxis\": {\"anchor\": \"y\", \"domain\": [0.0, 0.98], \"title\": {\"text\": \"rental_year\"}}, \"yaxis\": {\"anchor\": \"x\", \"domain\": [0.0, 1.0], \"title\": {\"text\": \"box_office\"}}},\n",
       "                        {\"responsive\": true}\n",
       "                    ).then(function(){\n",
       "                            \n",
       "var gd = document.getElementById('06641722-6028-4f2c-9160-8c654641ba7e');\n",
       "var x = new MutationObserver(function (mutations, observer) {{\n",
       "        var display = window.getComputedStyle(gd).display;\n",
       "        if (!display || display === 'none') {{\n",
       "            console.log([gd, 'removed!']);\n",
       "            Plotly.purge(gd);\n",
       "            observer.disconnect();\n",
       "        }}\n",
       "}});\n",
       "\n",
       "// Listen for the removal of the full notebook cells\n",
       "var notebookContainer = gd.closest('#notebook-container');\n",
       "if (notebookContainer) {{\n",
       "    x.observe(notebookContainer, {childList: true});\n",
       "}}\n",
       "\n",
       "// Listen for the clearing of the current output cell\n",
       "var outputEl = gd.closest('.output');\n",
       "if (outputEl) {{\n",
       "    x.observe(outputEl, {childList: true});\n",
       "}}\n",
       "\n",
       "                        })\n",
       "                };\n",
       "                });\n",
       "            </script>\n",
       "        </div>"
      ]
     },
     "metadata": {},
     "output_type": "display_data"
    }
   ],
   "source": [
    "def get_value(s, sep = '-'):\n",
    "    \"\"\"\n",
    "    Функция для выбора элемента из перечисления\n",
    "    По сути она похожа на твою\n",
    "    \"\"\"\n",
    "    \n",
    "    value_lst = s.split(sep=sep)\n",
    "    return value_lst[0]\n",
    "\n",
    "movies_df['age_rating'] = movies_df['age_restriction'].apply(lambda x: get_value(x, sep='-'))\n",
    "display(movies_df[['age_restriction', 'age_rating']].head())\n",
    "\n",
    "import plotly.express as px\n",
    "\n",
    "fig = px.line(movies_df.query('rental_year >= 2015').pivot_table(index = ['rental_year', 'age_rating'], values = 'box_office', aggfunc = 'mean').reset_index(),\n",
    "             x = 'rental_year', y = 'box_office', color = 'age_rating', title = 'Изменение средних продаж по рейтингу')\n",
    "fig.show()"
   ]
  },
  {
   "cell_type": "markdown",
   "metadata": {
    "id": "l_Kg6Ku4gFya"
   },
   "source": [
    "## Исследование фильмов, которые получили государственную поддержку\n",
    "\n",
    "На этом этапе нет конкретных инструкций и заданий — поищите интересные закономерности в данных. Посмотрите, сколько выделяют средств на поддержку кино. Проверьте, хорошо ли окупаются такие фильмы, какой у них рейтинг."
   ]
  },
  {
   "cell_type": "code",
   "execution_count": 201,
   "metadata": {
    "id": "W9QKpjUdgFyb"
   },
   "outputs": [
    {
     "data": {
      "text/html": [
       "<div>\n",
       "<style scoped>\n",
       "    .dataframe tbody tr th:only-of-type {\n",
       "        vertical-align: middle;\n",
       "    }\n",
       "\n",
       "    .dataframe tbody tr th {\n",
       "        vertical-align: top;\n",
       "    }\n",
       "\n",
       "    .dataframe thead th {\n",
       "        text-align: right;\n",
       "    }\n",
       "</style>\n",
       "<table border=\"1\" class=\"dataframe\">\n",
       "  <thead>\n",
       "    <tr style=\"text-align: right;\">\n",
       "      <th></th>\n",
       "      <th>title</th>\n",
       "      <th>puNumber</th>\n",
       "      <th>show_start_date</th>\n",
       "      <th>type</th>\n",
       "      <th>film_studio</th>\n",
       "      <th>production_country</th>\n",
       "      <th>director</th>\n",
       "      <th>producer</th>\n",
       "      <th>age_restriction</th>\n",
       "      <th>refundable_support</th>\n",
       "      <th>...</th>\n",
       "      <th>budget</th>\n",
       "      <th>financing_source</th>\n",
       "      <th>ratings</th>\n",
       "      <th>genres</th>\n",
       "      <th>box_office</th>\n",
       "      <th>rental_year</th>\n",
       "      <th>main_director</th>\n",
       "      <th>main_genre</th>\n",
       "      <th>share_budget</th>\n",
       "      <th>age_rating</th>\n",
       "    </tr>\n",
       "  </thead>\n",
       "  <tbody>\n",
       "    <tr>\n",
       "      <td>1281</td>\n",
       "      <td>Пока еще жива</td>\n",
       "      <td>111005313</td>\n",
       "      <td>2013-10-11 12:00:00+00:00</td>\n",
       "      <td>Художественный</td>\n",
       "      <td>АНО содействия развитию кинематографии \"Ангел-...</td>\n",
       "      <td>Россия</td>\n",
       "      <td>А.Атанесян</td>\n",
       "      <td>А.Атанесян, М.Бабаханов, Р.Бутко</td>\n",
       "      <td>«16+» - для детей старше 16 лет</td>\n",
       "      <td>0.0</td>\n",
       "      <td>...</td>\n",
       "      <td>79411900.0</td>\n",
       "      <td>Министерство культуры</td>\n",
       "      <td>8.1</td>\n",
       "      <td>драма,мелодрама</td>\n",
       "      <td>365353.6</td>\n",
       "      <td>2013</td>\n",
       "      <td>А.Атанесян</td>\n",
       "      <td>драма</td>\n",
       "      <td>0.333703</td>\n",
       "      <td>«16+»</td>\n",
       "    </tr>\n",
       "    <tr>\n",
       "      <td>1448</td>\n",
       "      <td>Бесславные придурки</td>\n",
       "      <td>111003314</td>\n",
       "      <td>2014-03-28 12:00:00+00:00</td>\n",
       "      <td>Художественный</td>\n",
       "      <td>ООО \"Компания \"АТК-Студио\"</td>\n",
       "      <td>Россия</td>\n",
       "      <td>А.Якимчук</td>\n",
       "      <td>А.Тютрюмов</td>\n",
       "      <td>«12+» - для детей старше 12 лет</td>\n",
       "      <td>0.0</td>\n",
       "      <td>...</td>\n",
       "      <td>37142857.0</td>\n",
       "      <td>Министерство культуры</td>\n",
       "      <td>NaN</td>\n",
       "      <td>undefined</td>\n",
       "      <td>28140.0</td>\n",
       "      <td>2014</td>\n",
       "      <td>А.Якимчук</td>\n",
       "      <td>undefined</td>\n",
       "      <td>0.700000</td>\n",
       "      <td>«12+»</td>\n",
       "    </tr>\n",
       "    <tr>\n",
       "      <td>1498</td>\n",
       "      <td>Невидимки</td>\n",
       "      <td>111004213</td>\n",
       "      <td>2013-09-10 12:00:00+00:00</td>\n",
       "      <td>Художественный</td>\n",
       "      <td>ООО \"Компания \"РЕАЛ-ДАКОТА\"</td>\n",
       "      <td>Россия</td>\n",
       "      <td>Р.Давлетьяров, С.Комаров</td>\n",
       "      <td>Р.Давлетьяров, А.Котелевский, А.Олейников</td>\n",
       "      <td>«12+» - для детей старше 12 лет</td>\n",
       "      <td>0.0</td>\n",
       "      <td>...</td>\n",
       "      <td>176023490.0</td>\n",
       "      <td>Фонд кино</td>\n",
       "      <td>5.3</td>\n",
       "      <td>комедия,фантастика</td>\n",
       "      <td>19957031.5</td>\n",
       "      <td>2013</td>\n",
       "      <td>Р.Давлетьяров</td>\n",
       "      <td>комедия</td>\n",
       "      <td>0.612691</td>\n",
       "      <td>«12+»</td>\n",
       "    </tr>\n",
       "    <tr>\n",
       "      <td>1524</td>\n",
       "      <td>БЕРЦЫ</td>\n",
       "      <td>111004314</td>\n",
       "      <td>2014-05-05 12:00:00+00:00</td>\n",
       "      <td>Художественный</td>\n",
       "      <td>ООО \"Студия \"Пассажир\"</td>\n",
       "      <td>Россия</td>\n",
       "      <td>Е.Миндадзе (псевдоним Катя Шагалова)</td>\n",
       "      <td>Л.Антонова</td>\n",
       "      <td>«16+» - для детей старше 16 лет</td>\n",
       "      <td>0.0</td>\n",
       "      <td>...</td>\n",
       "      <td>40574140.0</td>\n",
       "      <td>Министерство культуры</td>\n",
       "      <td>4.2</td>\n",
       "      <td>драма</td>\n",
       "      <td>55917.5</td>\n",
       "      <td>2014</td>\n",
       "      <td>Е.Миндадзе (псевдоним Катя Шагалова)</td>\n",
       "      <td>драма</td>\n",
       "      <td>0.690095</td>\n",
       "      <td>«16+»</td>\n",
       "    </tr>\n",
       "    <tr>\n",
       "      <td>1792</td>\n",
       "      <td>Братья Ч</td>\n",
       "      <td>111004414</td>\n",
       "      <td>2014-04-23 12:00:00+00:00</td>\n",
       "      <td>Художественный</td>\n",
       "      <td>ООО \"Студия \"Пассажир\"</td>\n",
       "      <td>Россия</td>\n",
       "      <td>М.Угаров</td>\n",
       "      <td>А.Миндадзе, Л.Антонова</td>\n",
       "      <td>«16+» - для детей старше 16 лет</td>\n",
       "      <td>0.0</td>\n",
       "      <td>...</td>\n",
       "      <td>40015122.0</td>\n",
       "      <td>Министерство культуры</td>\n",
       "      <td>6.4</td>\n",
       "      <td>драма</td>\n",
       "      <td>232100.0</td>\n",
       "      <td>2014</td>\n",
       "      <td>М.Угаров</td>\n",
       "      <td>драма</td>\n",
       "      <td>0.624764</td>\n",
       "      <td>«16+»</td>\n",
       "    </tr>\n",
       "  </tbody>\n",
       "</table>\n",
       "<p>5 rows × 21 columns</p>\n",
       "</div>"
      ],
      "text/plain": [
       "                    title   puNumber           show_start_date  \\\n",
       "1281        Пока еще жива  111005313 2013-10-11 12:00:00+00:00   \n",
       "1448  Бесславные придурки  111003314 2014-03-28 12:00:00+00:00   \n",
       "1498            Невидимки  111004213 2013-09-10 12:00:00+00:00   \n",
       "1524                БЕРЦЫ  111004314 2014-05-05 12:00:00+00:00   \n",
       "1792             Братья Ч  111004414 2014-04-23 12:00:00+00:00   \n",
       "\n",
       "                type                                        film_studio  \\\n",
       "1281  Художественный  АНО содействия развитию кинематографии \"Ангел-...   \n",
       "1448  Художественный                         ООО \"Компания \"АТК-Студио\"   \n",
       "1498  Художественный                        ООО \"Компания \"РЕАЛ-ДАКОТА\"   \n",
       "1524  Художественный                             ООО \"Студия \"Пассажир\"   \n",
       "1792  Художественный                             ООО \"Студия \"Пассажир\"   \n",
       "\n",
       "     production_country                              director  \\\n",
       "1281             Россия                            А.Атанесян   \n",
       "1448             Россия                             А.Якимчук   \n",
       "1498             Россия              Р.Давлетьяров, С.Комаров   \n",
       "1524             Россия  Е.Миндадзе (псевдоним Катя Шагалова)   \n",
       "1792             Россия                              М.Угаров   \n",
       "\n",
       "                                       producer  \\\n",
       "1281           А.Атанесян, М.Бабаханов, Р.Бутко   \n",
       "1448                                 А.Тютрюмов   \n",
       "1498  Р.Давлетьяров, А.Котелевский, А.Олейников   \n",
       "1524                                 Л.Антонова   \n",
       "1792                     А.Миндадзе, Л.Антонова   \n",
       "\n",
       "                      age_restriction  refundable_support  ...       budget  \\\n",
       "1281  «16+» - для детей старше 16 лет                 0.0  ...   79411900.0   \n",
       "1448  «12+» - для детей старше 12 лет                 0.0  ...   37142857.0   \n",
       "1498  «12+» - для детей старше 12 лет                 0.0  ...  176023490.0   \n",
       "1524  «16+» - для детей старше 16 лет                 0.0  ...   40574140.0   \n",
       "1792  «16+» - для детей старше 16 лет                 0.0  ...   40015122.0   \n",
       "\n",
       "           financing_source ratings              genres  box_office  \\\n",
       "1281  Министерство культуры     8.1     драма,мелодрама    365353.6   \n",
       "1448  Министерство культуры     NaN           undefined     28140.0   \n",
       "1498              Фонд кино     5.3  комедия,фантастика  19957031.5   \n",
       "1524  Министерство культуры     4.2               драма     55917.5   \n",
       "1792  Министерство культуры     6.4               драма    232100.0   \n",
       "\n",
       "      rental_year                         main_director main_genre  \\\n",
       "1281         2013                            А.Атанесян      драма   \n",
       "1448         2014                             А.Якимчук  undefined   \n",
       "1498         2013                         Р.Давлетьяров    комедия   \n",
       "1524         2014  Е.Миндадзе (псевдоним Катя Шагалова)      драма   \n",
       "1792         2014                              М.Угаров      драма   \n",
       "\n",
       "     share_budget  age_rating  \n",
       "1281     0.333703      «16+»   \n",
       "1448     0.700000      «12+»   \n",
       "1498     0.612691      «12+»   \n",
       "1524     0.690095      «16+»   \n",
       "1792     0.624764      «16+»   \n",
       "\n",
       "[5 rows x 21 columns]"
      ]
     },
     "execution_count": 201,
     "metadata": {},
     "output_type": "execute_result"
    }
   ],
   "source": [
    "#Создадим новый датафрейм с фильмами получившими гос. поддержку\n",
    "support_df = movies_df[movies_df['refundable_support'].notna() | movies_df['nonrefundable_support'].notna()].copy()\n",
    "support_df.head()"
   ]
  },
  {
   "cell_type": "code",
   "execution_count": 202,
   "metadata": {},
   "outputs": [
    {
     "data": {
      "text/plain": [
       "Художественный    289\n",
       "Анимационный       25\n",
       "Документальный      1\n",
       "Name: type, dtype: int64"
      ]
     },
     "execution_count": 202,
     "metadata": {},
     "output_type": "execute_result"
    }
   ],
   "source": [
    "support_df['type'].value_counts()"
   ]
  },
  {
   "cell_type": "code",
   "execution_count": 203,
   "metadata": {},
   "outputs": [
    {
     "data": {
      "text/plain": [
       "<matplotlib.axes._subplots.AxesSubplot at 0x7efe37cc3a90>"
      ]
     },
     "execution_count": 203,
     "metadata": {},
     "output_type": "execute_result"
    },
    {
     "data": {
      "image/png": "[encoded data removed]",
      "text/plain": [
       "<Figure size 720x504 with 1 Axes>"
      ]
     },
     "metadata": {
      "needs_background": "light"
     },
     "output_type": "display_data"
    }
   ],
   "source": [
    "support_df['rental_year'].plot(kind='hist', figsize=(10,7), bins=20, title='Films per year')"
   ]
  },
  {
   "cell_type": "code",
   "execution_count": 204,
   "metadata": {},
   "outputs": [
    {
     "data": {
      "text/plain": [
       "<matplotlib.axes._subplots.AxesSubplot at 0x7efdee46fb90>"
      ]
     },
     "execution_count": 204,
     "metadata": {},
     "output_type": "execute_result"
    },
    {
     "data": {
      "image/png": "[encoded data removed]",
      "text/plain": [
       "<Figure size 720x504 with 1 Axes>"
      ]
     },
     "metadata": {
      "needs_background": "light"
     },
     "output_type": "display_data"
    }
   ],
   "source": [
    "support_df['ratings'].plot(kind='hist', figsize=(10,7), bins=20, title='Rating per year')"
   ]
  },
  {
   "cell_type": "code",
   "execution_count": 205,
   "metadata": {},
   "outputs": [
    {
     "data": {
      "text/plain": [
       "<matplotlib.axes._subplots.AxesSubplot at 0x7efdee2cd610>"
      ]
     },
     "execution_count": 205,
     "metadata": {},
     "output_type": "execute_result"
    },
    {
     "data": {
      "image/png": "[encoded data removed]",
      "text/plain": [
       "<Figure size 720x504 with 1 Axes>"
      ]
     },
     "metadata": {
      "needs_background": "light"
     },
     "output_type": "display_data"
    }
   ],
   "source": [
    "#добавим новый столбец с разностью бюджета и кассовых сборов\n",
    "support_df['income'] = support_df['budget'] - support_df['box_office']\n",
    "support_df[support_df['income'].notna()].sort_values('income')['income'].plot(kind='bar', figsize=(10, 7))"
   ]
  },
  {
   "cell_type": "code",
   "execution_count": 206,
   "metadata": {
    "scrolled": true
   },
   "outputs": [
    {
     "data": {
      "application/vnd.plotly.v1+json": {
       "config": {
        "plotlyServerURL": "https://plot.ly"
       },
       "data": [
        {
         "hoverlabel": {
          "namelength": 0
         },
         "hovertemplate": "rental_year=%{x}<br>profit=%{y}",
         "legendgroup": "",
         "line": {
          "color": "#636efa",
          "dash": "solid"
         },
         "mode": "lines",
         "name": "",
         "showlegend": false,
         "type": "scatter",
         "x": [
          2013,
          2014,
          2015,
          2016,
          2017,
          2018,
          2019
         ],
         "xaxis": "x",
         "y": [
          -117556502.45,
          -18153108.833333332,
          -31036997.49582279,
          -39517759.67245614,
          105214669.43783784,
          55114666.29096155,
          -47339885.828474596
         ],
         "yaxis": "y"
        }
       ],
       "layout": {
        "height": 600,
        "legend": {
         "tracegroupgap": 0
        },
        "template": {
         "data": {
          "bar": [
           {
            "error_x": {
             "color": "#2a3f5f"
            },
            "error_y": {
             "color": "#2a3f5f"
            },
            "marker": {
             "line": {
              "color": "#E5ECF6",
              "width": 0.5
             }
            },
            "type": "bar"
           }
          ],
          "barpolar": [
           {
            "marker": {
             "line": {
              "color": "#E5ECF6",
              "width": 0.5
             }
            },
            "type": "barpolar"
           }
          ],
          "carpet": [
           {
            "aaxis": {
             "endlinecolor": "#2a3f5f",
             "gridcolor": "white",
             "linecolor": "white",
             "minorgridcolor": "white",
             "startlinecolor": "#2a3f5f"
            },
            "baxis": {
             "endlinecolor": "#2a3f5f",
             "gridcolor": "white",
             "linecolor": "white",
             "minorgridcolor": "white",
             "startlinecolor": "#2a3f5f"
            },
            "type": "carpet"
           }
          ],
          "choropleth": [
           {
            "colorbar": {
             "outlinewidth": 0,
             "ticks": ""
            },
            "type": "choropleth"
           }
          ],
          "contour": [
           {
            "colorbar": {
             "outlinewidth": 0,
             "ticks": ""
            },
            "colorscale": [
             [
              0,
              "#0d0887"
             ],
             [
              0.1111111111,
              "#46039f"
             ],
             [
              0.2222222222,
              "#7201a8"
             ],
             [
              0.3333333333,
              "#9c179e"
             ],
             [
              0.4444444444,
              "#bd3786"
             ],
             [
              0.5555555556,
              "#d8576b"
             ],
             [
              0.6666666667,
              "#ed7953"
             ],
             [
              0.7777777778,
              "#fb9f3a"
             ],
             [
              0.8888888889,
              "#fdca26"
             ],
             [
              1,
              "#f0f921"
             ]
            ],
            "type": "contour"
           }
          ],
          "contourcarpet": [
           {
            "colorbar": {
             "outlinewidth": 0,
             "ticks": ""
            },
            "type": "contourcarpet"
           }
          ],
          "heatmap": [
           {
            "colorbar": {
             "outlinewidth": 0,
             "ticks": ""
            },
            "colorscale": [
             [
              0,
              "#0d0887"
             ],
             [
              0.1111111111,
              "#46039f"
             ],
             [
              0.2222222222,
              "#7201a8"
             ],
             [
              0.3333333333,
              "#9c179e"
             ],
             [
              0.4444444444,
              "#bd3786"
             ],
             [
              0.5555555556,
              "#d8576b"
             ],
             [
              0.6666666667,
              "#ed7953"
             ],
             [
              0.7777777778,
              "#fb9f3a"
             ],
             [
              0.8888888889,
              "#fdca26"
             ],
             [
              1,
              "#f0f921"
             ]
            ],
            "type": "heatmap"
           }
          ],
          "heatmapgl": [
           {
            "colorbar": {
             "outlinewidth": 0,
             "ticks": ""
            },
            "colorscale": [
             [
              0,
              "#0d0887"
             ],
             [
              0.1111111111,
              "#46039f"
             ],
             [
              0.2222222222,
              "#7201a8"
             ],
             [
              0.3333333333,
              "#9c179e"
             ],
             [
              0.4444444444,
              "#bd3786"
             ],
             [
              0.5555555556,
              "#d8576b"
             ],
             [
              0.6666666667,
              "#ed7953"
             ],
             [
              0.7777777778,
              "#fb9f3a"
             ],
             [
              0.8888888889,
              "#fdca26"
             ],
             [
              1,
              "#f0f921"
             ]
            ],
            "type": "heatmapgl"
           }
          ],
          "histogram": [
           {
            "marker": {
             "colorbar": {
              "outlinewidth": 0,
              "ticks": ""
             }
            },
            "type": "histogram"
           }
          ],
          "histogram2d": [
           {
            "colorbar": {
             "outlinewidth": 0,
             "ticks": ""
            },
            "colorscale": [
             [
              0,
              "#0d0887"
             ],
             [
              0.1111111111,
              "#46039f"
             ],
             [
              0.2222222222,
              "#7201a8"
             ],
             [
              0.3333333333,
              "#9c179e"
             ],
             [
              0.4444444444,
              "#bd3786"
             ],
             [
              0.5555555556,
              "#d8576b"
             ],
             [
              0.6666666667,
              "#ed7953"
             ],
             [
              0.7777777778,
              "#fb9f3a"
             ],
             [
              0.8888888889,
              "#fdca26"
             ],
             [
              1,
              "#f0f921"
             ]
            ],
            "type": "histogram2d"
           }
          ],
          "histogram2dcontour": [
           {
            "colorbar": {
             "outlinewidth": 0,
             "ticks": ""
            },
            "colorscale": [
             [
              0,
              "#0d0887"
             ],
             [
              0.1111111111,
              "#46039f"
             ],
             [
              0.2222222222,
              "#7201a8"
             ],
             [
              0.3333333333,
              "#9c179e"
             ],
             [
              0.4444444444,
              "#bd3786"
             ],
             [
              0.5555555556,
              "#d8576b"
             ],
             [
              0.6666666667,
              "#ed7953"
             ],
             [
              0.7777777778,
              "#fb9f3a"
             ],
             [
              0.8888888889,
              "#fdca26"
             ],
             [
              1,
              "#f0f921"
             ]
            ],
            "type": "histogram2dcontour"
           }
          ],
          "mesh3d": [
           {
            "colorbar": {
             "outlinewidth": 0,
             "ticks": ""
            },
            "type": "mesh3d"
           }
          ],
          "parcoords": [
           {
            "line": {
             "colorbar": {
              "outlinewidth": 0,
              "ticks": ""
             }
            },
            "type": "parcoords"
           }
          ],
          "scatter": [
           {
            "marker": {
             "colorbar": {
              "outlinewidth": 0,
              "ticks": ""
             }
            },
            "type": "scatter"
           }
          ],
          "scatter3d": [
           {
            "line": {
             "colorbar": {
              "outlinewidth": 0,
              "ticks": ""
             }
            },
            "marker": {
             "colorbar": {
              "outlinewidth": 0,
              "ticks": ""
             }
            },
            "type": "scatter3d"
           }
          ],
          "scattercarpet": [
           {
            "marker": {
             "colorbar": {
              "outlinewidth": 0,
              "ticks": ""
             }
            },
            "type": "scattercarpet"
           }
          ],
          "scattergeo": [
           {
            "marker": {
             "colorbar": {
              "outlinewidth": 0,
              "ticks": ""
             }
            },
            "type": "scattergeo"
           }
          ],
          "scattergl": [
           {
            "marker": {
             "colorbar": {
              "outlinewidth": 0,
              "ticks": ""
             }
            },
            "type": "scattergl"
           }
          ],
          "scattermapbox": [
           {
            "marker": {
             "colorbar": {
              "outlinewidth": 0,
              "ticks": ""
             }
            },
            "type": "scattermapbox"
           }
          ],
          "scatterpolar": [
           {
            "marker": {
             "colorbar": {
              "outlinewidth": 0,
              "ticks": ""
             }
            },
            "type": "scatterpolar"
           }
          ],
          "scatterpolargl": [
           {
            "marker": {
             "colorbar": {
              "outlinewidth": 0,
              "ticks": ""
             }
            },
            "type": "scatterpolargl"
           }
          ],
          "scatterternary": [
           {
            "marker": {
             "colorbar": {
              "outlinewidth": 0,
              "ticks": ""
             }
            },
            "type": "scatterternary"
           }
          ],
          "surface": [
           {
            "colorbar": {
             "outlinewidth": 0,
             "ticks": ""
            },
            "colorscale": [
             [
              0,
              "#0d0887"
             ],
             [
              0.1111111111,
              "#46039f"
             ],
             [
              0.2222222222,
              "#7201a8"
             ],
             [
              0.3333333333,
              "#9c179e"
             ],
             [
              0.4444444444,
              "#bd3786"
             ],
             [
              0.5555555556,
              "#d8576b"
             ],
             [
              0.6666666667,
              "#ed7953"
             ],
             [
              0.7777777778,
              "#fb9f3a"
             ],
             [
              0.8888888889,
              "#fdca26"
             ],
             [
              1,
              "#f0f921"
             ]
            ],
            "type": "surface"
           }
          ],
          "table": [
           {
            "cells": {
             "fill": {
              "color": "#EBF0F8"
             },
             "line": {
              "color": "white"
             }
            },
            "header": {
             "fill": {
              "color": "#C8D4E3"
             },
             "line": {
              "color": "white"
             }
            },
            "type": "table"
           }
          ]
         },
         "layout": {
          "annotationdefaults": {
           "arrowcolor": "#2a3f5f",
           "arrowhead": 0,
           "arrowwidth": 1
          },
          "colorscale": {
           "diverging": [
            [
             0,
             "#8e0152"
            ],
            [
             0.1,
             "#c51b7d"
            ],
            [
             0.2,
             "#de77ae"
            ],
            [
             0.3,
             "#f1b6da"
            ],
            [
             0.4,
             "#fde0ef"
            ],
            [
             0.5,
             "#f7f7f7"
            ],
            [
             0.6,
             "#e6f5d0"
            ],
            [
             0.7,
             "#b8e186"
            ],
            [
             0.8,
             "#7fbc41"
            ],
            [
             0.9,
             "#4d9221"
            ],
            [
             1,
             "#276419"
            ]
           ],
           "sequential": [
            [
             0,
             "#0d0887"
            ],
            [
             0.1111111111,
             "#46039f"
            ],
            [
             0.2222222222,
             "#7201a8"
            ],
            [
             0.3333333333,
             "#9c179e"
            ],
            [
             0.4444444444,
             "#bd3786"
            ],
            [
             0.5555555556,
             "#d8576b"
            ],
            [
             0.6666666667,
             "#ed7953"
            ],
            [
             0.7777777778,
             "#fb9f3a"
            ],
            [
             0.8888888889,
             "#fdca26"
            ],
            [
             1,
             "#f0f921"
            ]
           ],
           "sequentialminus": [
            [
             0,
             "#0d0887"
            ],
            [
             0.1111111111,
             "#46039f"
            ],
            [
             0.2222222222,
             "#7201a8"
            ],
            [
             0.3333333333,
             "#9c179e"
            ],
            [
             0.4444444444,
             "#bd3786"
            ],
            [
             0.5555555556,
             "#d8576b"
            ],
            [
             0.6666666667,
             "#ed7953"
            ],
            [
             0.7777777778,
             "#fb9f3a"
            ],
            [
             0.8888888889,
             "#fdca26"
            ],
            [
             1,
             "#f0f921"
            ]
           ]
          },
          "colorway": [
           "#636efa",
           "#EF553B",
           "#00cc96",
           "#ab63fa",
           "#FFA15A",
           "#19d3f3",
           "#FF6692",
           "#B6E880",
           "#FF97FF",
           "#FECB52"
          ],
          "font": {
           "color": "#2a3f5f"
          },
          "geo": {
           "bgcolor": "white",
           "lakecolor": "white",
           "landcolor": "#E5ECF6",
           "showlakes": true,
           "showland": true,
           "subunitcolor": "white"
          },
          "hoverlabel": {
           "align": "left"
          },
          "hovermode": "closest",
          "mapbox": {
           "style": "light"
          },
          "paper_bgcolor": "white",
          "plot_bgcolor": "#E5ECF6",
          "polar": {
           "angularaxis": {
            "gridcolor": "white",
            "linecolor": "white",
            "ticks": ""
           },
           "bgcolor": "#E5ECF6",
           "radialaxis": {
            "gridcolor": "white",
            "linecolor": "white",
            "ticks": ""
           }
          },
          "scene": {
           "xaxis": {
            "backgroundcolor": "#E5ECF6",
            "gridcolor": "white",
            "gridwidth": 2,
            "linecolor": "white",
            "showbackground": true,
            "ticks": "",
            "zerolinecolor": "white"
           },
           "yaxis": {
            "backgroundcolor": "#E5ECF6",
            "gridcolor": "white",
            "gridwidth": 2,
            "linecolor": "white",
            "showbackground": true,
            "ticks": "",
            "zerolinecolor": "white"
           },
           "zaxis": {
            "backgroundcolor": "#E5ECF6",
            "gridcolor": "white",
            "gridwidth": 2,
            "linecolor": "white",
            "showbackground": true,
            "ticks": "",
            "zerolinecolor": "white"
           }
          },
          "shapedefaults": {
           "line": {
            "color": "#2a3f5f"
           }
          },
          "ternary": {
           "aaxis": {
            "gridcolor": "white",
            "linecolor": "white",
            "ticks": ""
           },
           "baxis": {
            "gridcolor": "white",
            "linecolor": "white",
            "ticks": ""
           },
           "bgcolor": "#E5ECF6",
           "caxis": {
            "gridcolor": "white",
            "linecolor": "white",
            "ticks": ""
           }
          },
          "title": {
           "x": 0.05
          },
          "xaxis": {
           "automargin": true,
           "gridcolor": "white",
           "linecolor": "white",
           "ticks": "",
           "zerolinecolor": "white",
           "zerolinewidth": 2
          },
          "yaxis": {
           "automargin": true,
           "gridcolor": "white",
           "linecolor": "white",
           "ticks": "",
           "zerolinecolor": "white",
           "zerolinewidth": 2
          }
         }
        },
        "title": {
         "text": "Изменение среднего дохода"
        },
        "xaxis": {
         "anchor": "y",
         "domain": [
          0,
          0.98
         ],
         "title": {
          "text": "rental_year"
         }
        },
        "yaxis": {
         "anchor": "x",
         "domain": [
          0,
          1
         ],
         "title": {
          "text": "profit"
         }
        }
       }
      },
      "text/html": [
       "<div>\n",
       "        \n",
       "        \n",
       "            <div id=\"2fe87dea-0068-47f5-a246-bce36b7cc6c4\" class=\"plotly-graph-div\" style=\"height:600px; width:100%;\"></div>\n",
       "            <script type=\"text/javascript\">\n",
       "                require([\"plotly\"], function(Plotly) {\n",
       "                    window.PLOTLYENV=window.PLOTLYENV || {};\n",
       "                    \n",
       "                if (document.getElementById(\"2fe87dea-0068-47f5-a246-bce36b7cc6c4\")) {\n",
       "                    Plotly.newPlot(\n",
       "                        '2fe87dea-0068-47f5-a246-bce36b7cc6c4',\n",
       "                        [{\"hoverlabel\": {\"namelength\": 0}, \"hovertemplate\": \"rental_year=%{x}<br>profit=%{y}\", \"legendgroup\": \"\", \"line\": {\"color\": \"#636efa\", \"dash\": \"solid\"}, \"mode\": \"lines\", \"name\": \"\", \"showlegend\": false, \"type\": \"scatter\", \"x\": [2013, 2014, 2015, 2016, 2017, 2018, 2019], \"xaxis\": \"x\", \"y\": [-117556502.45, -18153108.833333332, -31036997.49582279, -39517759.67245614, 105214669.43783784, 55114666.29096155, -47339885.828474596], \"yaxis\": \"y\"}],\n",
       "                        {\"height\": 600, \"legend\": {\"tracegroupgap\": 0}, \"template\": {\"data\": {\"bar\": [{\"error_x\": {\"color\": \"#2a3f5f\"}, \"error_y\": {\"color\": \"#2a3f5f\"}, \"marker\": {\"line\": {\"color\": \"#E5ECF6\", \"width\": 0.5}}, \"type\": \"bar\"}], \"barpolar\": [{\"marker\": {\"line\": {\"color\": \"#E5ECF6\", \"width\": 0.5}}, \"type\": \"barpolar\"}], \"carpet\": [{\"aaxis\": {\"endlinecolor\": \"#2a3f5f\", \"gridcolor\": \"white\", \"linecolor\": \"white\", \"minorgridcolor\": \"white\", \"startlinecolor\": \"#2a3f5f\"}, \"baxis\": {\"endlinecolor\": \"#2a3f5f\", \"gridcolor\": \"white\", \"linecolor\": \"white\", \"minorgridcolor\": \"white\", \"startlinecolor\": \"#2a3f5f\"}, \"type\": \"carpet\"}], \"choropleth\": [{\"colorbar\": {\"outlinewidth\": 0, \"ticks\": \"\"}, \"type\": \"choropleth\"}], \"contour\": [{\"colorbar\": {\"outlinewidth\": 0, \"ticks\": \"\"}, \"colorscale\": [[0.0, \"#0d0887\"], [0.1111111111111111, \"#46039f\"], [0.2222222222222222, \"#7201a8\"], [0.3333333333333333, \"#9c179e\"], [0.4444444444444444, \"#bd3786\"], [0.5555555555555556, \"#d8576b\"], [0.6666666666666666, \"#ed7953\"], [0.7777777777777778, \"#fb9f3a\"], [0.8888888888888888, \"#fdca26\"], [1.0, \"#f0f921\"]], \"type\": \"contour\"}], \"contourcarpet\": [{\"colorbar\": {\"outlinewidth\": 0, \"ticks\": \"\"}, \"type\": \"contourcarpet\"}], \"heatmap\": [{\"colorbar\": {\"outlinewidth\": 0, \"ticks\": \"\"}, \"colorscale\": [[0.0, \"#0d0887\"], [0.1111111111111111, \"#46039f\"], [0.2222222222222222, \"#7201a8\"], [0.3333333333333333, \"#9c179e\"], [0.4444444444444444, \"#bd3786\"], [0.5555555555555556, \"#d8576b\"], [0.6666666666666666, \"#ed7953\"], [0.7777777777777778, \"#fb9f3a\"], [0.8888888888888888, \"#fdca26\"], [1.0, \"#f0f921\"]], \"type\": \"heatmap\"}], \"heatmapgl\": [{\"colorbar\": {\"outlinewidth\": 0, \"ticks\": \"\"}, \"colorscale\": [[0.0, \"#0d0887\"], [0.1111111111111111, \"#46039f\"], [0.2222222222222222, \"#7201a8\"], [0.3333333333333333, \"#9c179e\"], [0.4444444444444444, \"#bd3786\"], [0.5555555555555556, \"#d8576b\"], [0.6666666666666666, \"#ed7953\"], [0.7777777777777778, \"#fb9f3a\"], [0.8888888888888888, \"#fdca26\"], [1.0, \"#f0f921\"]], \"type\": \"heatmapgl\"}], \"histogram\": [{\"marker\": {\"colorbar\": {\"outlinewidth\": 0, \"ticks\": \"\"}}, \"type\": \"histogram\"}], \"histogram2d\": [{\"colorbar\": {\"outlinewidth\": 0, \"ticks\": \"\"}, \"colorscale\": [[0.0, \"#0d0887\"], [0.1111111111111111, \"#46039f\"], [0.2222222222222222, \"#7201a8\"], [0.3333333333333333, \"#9c179e\"], [0.4444444444444444, \"#bd3786\"], [0.5555555555555556, \"#d8576b\"], [0.6666666666666666, \"#ed7953\"], [0.7777777777777778, \"#fb9f3a\"], [0.8888888888888888, \"#fdca26\"], [1.0, \"#f0f921\"]], \"type\": \"histogram2d\"}], \"histogram2dcontour\": [{\"colorbar\": {\"outlinewidth\": 0, \"ticks\": \"\"}, \"colorscale\": [[0.0, \"#0d0887\"], [0.1111111111111111, \"#46039f\"], [0.2222222222222222, \"#7201a8\"], [0.3333333333333333, \"#9c179e\"], [0.4444444444444444, \"#bd3786\"], [0.5555555555555556, \"#d8576b\"], [0.6666666666666666, \"#ed7953\"], [0.7777777777777778, \"#fb9f3a\"], [0.8888888888888888, \"#fdca26\"], [1.0, \"#f0f921\"]], \"type\": \"histogram2dcontour\"}], \"mesh3d\": [{\"colorbar\": {\"outlinewidth\": 0, \"ticks\": \"\"}, \"type\": \"mesh3d\"}], \"parcoords\": [{\"line\": {\"colorbar\": {\"outlinewidth\": 0, \"ticks\": \"\"}}, \"type\": \"parcoords\"}], \"scatter\": [{\"marker\": {\"colorbar\": {\"outlinewidth\": 0, \"ticks\": \"\"}}, \"type\": \"scatter\"}], \"scatter3d\": [{\"line\": {\"colorbar\": {\"outlinewidth\": 0, \"ticks\": \"\"}}, \"marker\": {\"colorbar\": {\"outlinewidth\": 0, \"ticks\": \"\"}}, \"type\": \"scatter3d\"}], \"scattercarpet\": [{\"marker\": {\"colorbar\": {\"outlinewidth\": 0, \"ticks\": \"\"}}, \"type\": \"scattercarpet\"}], \"scattergeo\": [{\"marker\": {\"colorbar\": {\"outlinewidth\": 0, \"ticks\": \"\"}}, \"type\": \"scattergeo\"}], \"scattergl\": [{\"marker\": {\"colorbar\": {\"outlinewidth\": 0, \"ticks\": \"\"}}, \"type\": \"scattergl\"}], \"scattermapbox\": [{\"marker\": {\"colorbar\": {\"outlinewidth\": 0, \"ticks\": \"\"}}, \"type\": \"scattermapbox\"}], \"scatterpolar\": [{\"marker\": {\"colorbar\": {\"outlinewidth\": 0, \"ticks\": \"\"}}, \"type\": \"scatterpolar\"}], \"scatterpolargl\": [{\"marker\": {\"colorbar\": {\"outlinewidth\": 0, \"ticks\": \"\"}}, \"type\": \"scatterpolargl\"}], \"scatterternary\": [{\"marker\": {\"colorbar\": {\"outlinewidth\": 0, \"ticks\": \"\"}}, \"type\": \"scatterternary\"}], \"surface\": [{\"colorbar\": {\"outlinewidth\": 0, \"ticks\": \"\"}, \"colorscale\": [[0.0, \"#0d0887\"], [0.1111111111111111, \"#46039f\"], [0.2222222222222222, \"#7201a8\"], [0.3333333333333333, \"#9c179e\"], [0.4444444444444444, \"#bd3786\"], [0.5555555555555556, \"#d8576b\"], [0.6666666666666666, \"#ed7953\"], [0.7777777777777778, \"#fb9f3a\"], [0.8888888888888888, \"#fdca26\"], [1.0, \"#f0f921\"]], \"type\": \"surface\"}], \"table\": [{\"cells\": {\"fill\": {\"color\": \"#EBF0F8\"}, \"line\": {\"color\": \"white\"}}, \"header\": {\"fill\": {\"color\": \"#C8D4E3\"}, \"line\": {\"color\": \"white\"}}, \"type\": \"table\"}]}, \"layout\": {\"annotationdefaults\": {\"arrowcolor\": \"#2a3f5f\", \"arrowhead\": 0, \"arrowwidth\": 1}, \"colorscale\": {\"diverging\": [[0, \"#8e0152\"], [0.1, \"#c51b7d\"], [0.2, \"#de77ae\"], [0.3, \"#f1b6da\"], [0.4, \"#fde0ef\"], [0.5, \"#f7f7f7\"], [0.6, \"#e6f5d0\"], [0.7, \"#b8e186\"], [0.8, \"#7fbc41\"], [0.9, \"#4d9221\"], [1, \"#276419\"]], \"sequential\": [[0.0, \"#0d0887\"], [0.1111111111111111, \"#46039f\"], [0.2222222222222222, \"#7201a8\"], [0.3333333333333333, \"#9c179e\"], [0.4444444444444444, \"#bd3786\"], [0.5555555555555556, \"#d8576b\"], [0.6666666666666666, \"#ed7953\"], [0.7777777777777778, \"#fb9f3a\"], [0.8888888888888888, \"#fdca26\"], [1.0, \"#f0f921\"]], \"sequentialminus\": [[0.0, \"#0d0887\"], [0.1111111111111111, \"#46039f\"], [0.2222222222222222, \"#7201a8\"], [0.3333333333333333, \"#9c179e\"], [0.4444444444444444, \"#bd3786\"], [0.5555555555555556, \"#d8576b\"], [0.6666666666666666, \"#ed7953\"], [0.7777777777777778, \"#fb9f3a\"], [0.8888888888888888, \"#fdca26\"], [1.0, \"#f0f921\"]]}, \"colorway\": [\"#636efa\", \"#EF553B\", \"#00cc96\", \"#ab63fa\", \"#FFA15A\", \"#19d3f3\", \"#FF6692\", \"#B6E880\", \"#FF97FF\", \"#FECB52\"], \"font\": {\"color\": \"#2a3f5f\"}, \"geo\": {\"bgcolor\": \"white\", \"lakecolor\": \"white\", \"landcolor\": \"#E5ECF6\", \"showlakes\": true, \"showland\": true, \"subunitcolor\": \"white\"}, \"hoverlabel\": {\"align\": \"left\"}, \"hovermode\": \"closest\", \"mapbox\": {\"style\": \"light\"}, \"paper_bgcolor\": \"white\", \"plot_bgcolor\": \"#E5ECF6\", \"polar\": {\"angularaxis\": {\"gridcolor\": \"white\", \"linecolor\": \"white\", \"ticks\": \"\"}, \"bgcolor\": \"#E5ECF6\", \"radialaxis\": {\"gridcolor\": \"white\", \"linecolor\": \"white\", \"ticks\": \"\"}}, \"scene\": {\"xaxis\": {\"backgroundcolor\": \"#E5ECF6\", \"gridcolor\": \"white\", \"gridwidth\": 2, \"linecolor\": \"white\", \"showbackground\": true, \"ticks\": \"\", \"zerolinecolor\": \"white\"}, \"yaxis\": {\"backgroundcolor\": \"#E5ECF6\", \"gridcolor\": \"white\", \"gridwidth\": 2, \"linecolor\": \"white\", \"showbackground\": true, \"ticks\": \"\", \"zerolinecolor\": \"white\"}, \"zaxis\": {\"backgroundcolor\": \"#E5ECF6\", \"gridcolor\": \"white\", \"gridwidth\": 2, \"linecolor\": \"white\", \"showbackground\": true, \"ticks\": \"\", \"zerolinecolor\": \"white\"}}, \"shapedefaults\": {\"line\": {\"color\": \"#2a3f5f\"}}, \"ternary\": {\"aaxis\": {\"gridcolor\": \"white\", \"linecolor\": \"white\", \"ticks\": \"\"}, \"baxis\": {\"gridcolor\": \"white\", \"linecolor\": \"white\", \"ticks\": \"\"}, \"bgcolor\": \"#E5ECF6\", \"caxis\": {\"gridcolor\": \"white\", \"linecolor\": \"white\", \"ticks\": \"\"}}, \"title\": {\"x\": 0.05}, \"xaxis\": {\"automargin\": true, \"gridcolor\": \"white\", \"linecolor\": \"white\", \"ticks\": \"\", \"zerolinecolor\": \"white\", \"zerolinewidth\": 2}, \"yaxis\": {\"automargin\": true, \"gridcolor\": \"white\", \"linecolor\": \"white\", \"ticks\": \"\", \"zerolinecolor\": \"white\", \"zerolinewidth\": 2}}}, \"title\": {\"text\": \"\\u0418\\u0437\\u043c\\u0435\\u043d\\u0435\\u043d\\u0438\\u0435 \\u0441\\u0440\\u0435\\u0434\\u043d\\u0435\\u0433\\u043e \\u0434\\u043e\\u0445\\u043e\\u0434\\u0430\"}, \"xaxis\": {\"anchor\": \"y\", \"domain\": [0.0, 0.98], \"title\": {\"text\": \"rental_year\"}}, \"yaxis\": {\"anchor\": \"x\", \"domain\": [0.0, 1.0], \"title\": {\"text\": \"profit\"}}},\n",
       "                        {\"responsive\": true}\n",
       "                    ).then(function(){\n",
       "                            \n",
       "var gd = document.getElementById('2fe87dea-0068-47f5-a246-bce36b7cc6c4');\n",
       "var x = new MutationObserver(function (mutations, observer) {{\n",
       "        var display = window.getComputedStyle(gd).display;\n",
       "        if (!display || display === 'none') {{\n",
       "            console.log([gd, 'removed!']);\n",
       "            Plotly.purge(gd);\n",
       "            observer.disconnect();\n",
       "        }}\n",
       "}});\n",
       "\n",
       "// Listen for the removal of the full notebook cells\n",
       "var notebookContainer = gd.closest('#notebook-container');\n",
       "if (notebookContainer) {{\n",
       "    x.observe(notebookContainer, {childList: true});\n",
       "}}\n",
       "\n",
       "// Listen for the clearing of the current output cell\n",
       "var outputEl = gd.closest('.output');\n",
       "if (outputEl) {{\n",
       "    x.observe(outputEl, {childList: true});\n",
       "}}\n",
       "\n",
       "                        })\n",
       "                };\n",
       "                });\n",
       "            </script>\n",
       "        </div>"
      ]
     },
     "metadata": {},
     "output_type": "display_data"
    }
   ],
   "source": [
    "support_df['profit'] = support_df['box_office'] - support_df['budget']\n",
    "\n",
    "fig = px.line(support_df.pivot_table(index = 'rental_year', values = 'profit', aggfunc = 'mean').reset_index(),\n",
    "             x = 'rental_year', y = 'profit', title = 'Изменение среднего дохода')\n",
    "fig.show()"
   ]
  },
  {
   "cell_type": "code",
   "execution_count": 207,
   "metadata": {},
   "outputs": [
    {
     "data": {
      "text/html": [
       "<div>\n",
       "<style scoped>\n",
       "    .dataframe tbody tr th:only-of-type {\n",
       "        vertical-align: middle;\n",
       "    }\n",
       "\n",
       "    .dataframe tbody tr th {\n",
       "        vertical-align: top;\n",
       "    }\n",
       "\n",
       "    .dataframe thead th {\n",
       "        text-align: right;\n",
       "    }\n",
       "</style>\n",
       "<table border=\"1\" class=\"dataframe\">\n",
       "  <thead>\n",
       "    <tr style=\"text-align: right;\">\n",
       "      <th></th>\n",
       "      <th>title</th>\n",
       "      <th>puNumber</th>\n",
       "      <th>show_start_date</th>\n",
       "      <th>type</th>\n",
       "      <th>film_studio</th>\n",
       "      <th>production_country</th>\n",
       "      <th>director</th>\n",
       "      <th>producer</th>\n",
       "      <th>age_restriction</th>\n",
       "      <th>refundable_support</th>\n",
       "      <th>...</th>\n",
       "      <th>ratings</th>\n",
       "      <th>genres</th>\n",
       "      <th>box_office</th>\n",
       "      <th>rental_year</th>\n",
       "      <th>main_director</th>\n",
       "      <th>main_genre</th>\n",
       "      <th>share_budget</th>\n",
       "      <th>age_rating</th>\n",
       "      <th>income</th>\n",
       "      <th>profit</th>\n",
       "    </tr>\n",
       "  </thead>\n",
       "  <tbody>\n",
       "    <tr>\n",
       "      <td>1281</td>\n",
       "      <td>Пока еще жива</td>\n",
       "      <td>111005313</td>\n",
       "      <td>2013-10-11 12:00:00+00:00</td>\n",
       "      <td>Художественный</td>\n",
       "      <td>АНО содействия развитию кинематографии \"Ангел-...</td>\n",
       "      <td>Россия</td>\n",
       "      <td>А.Атанесян</td>\n",
       "      <td>А.Атанесян, М.Бабаханов, Р.Бутко</td>\n",
       "      <td>«16+» - для детей старше 16 лет</td>\n",
       "      <td>0.0</td>\n",
       "      <td>...</td>\n",
       "      <td>8.1</td>\n",
       "      <td>драма,мелодрама</td>\n",
       "      <td>3.653536e+05</td>\n",
       "      <td>2013</td>\n",
       "      <td>А.Атанесян</td>\n",
       "      <td>драма</td>\n",
       "      <td>0.333703</td>\n",
       "      <td>«16+»</td>\n",
       "      <td>7.904655e+07</td>\n",
       "      <td>-7.904655e+07</td>\n",
       "    </tr>\n",
       "    <tr>\n",
       "      <td>1448</td>\n",
       "      <td>Бесславные придурки</td>\n",
       "      <td>111003314</td>\n",
       "      <td>2014-03-28 12:00:00+00:00</td>\n",
       "      <td>Художественный</td>\n",
       "      <td>ООО \"Компания \"АТК-Студио\"</td>\n",
       "      <td>Россия</td>\n",
       "      <td>А.Якимчук</td>\n",
       "      <td>А.Тютрюмов</td>\n",
       "      <td>«12+» - для детей старше 12 лет</td>\n",
       "      <td>0.0</td>\n",
       "      <td>...</td>\n",
       "      <td>NaN</td>\n",
       "      <td>undefined</td>\n",
       "      <td>2.814000e+04</td>\n",
       "      <td>2014</td>\n",
       "      <td>А.Якимчук</td>\n",
       "      <td>undefined</td>\n",
       "      <td>0.700000</td>\n",
       "      <td>«12+»</td>\n",
       "      <td>3.711472e+07</td>\n",
       "      <td>-3.711472e+07</td>\n",
       "    </tr>\n",
       "    <tr>\n",
       "      <td>1498</td>\n",
       "      <td>Невидимки</td>\n",
       "      <td>111004213</td>\n",
       "      <td>2013-09-10 12:00:00+00:00</td>\n",
       "      <td>Художественный</td>\n",
       "      <td>ООО \"Компания \"РЕАЛ-ДАКОТА\"</td>\n",
       "      <td>Россия</td>\n",
       "      <td>Р.Давлетьяров, С.Комаров</td>\n",
       "      <td>Р.Давлетьяров, А.Котелевский, А.Олейников</td>\n",
       "      <td>«12+» - для детей старше 12 лет</td>\n",
       "      <td>0.0</td>\n",
       "      <td>...</td>\n",
       "      <td>5.3</td>\n",
       "      <td>комедия,фантастика</td>\n",
       "      <td>1.995703e+07</td>\n",
       "      <td>2013</td>\n",
       "      <td>Р.Давлетьяров</td>\n",
       "      <td>комедия</td>\n",
       "      <td>0.612691</td>\n",
       "      <td>«12+»</td>\n",
       "      <td>1.560665e+08</td>\n",
       "      <td>-1.560665e+08</td>\n",
       "    </tr>\n",
       "    <tr>\n",
       "      <td>1524</td>\n",
       "      <td>БЕРЦЫ</td>\n",
       "      <td>111004314</td>\n",
       "      <td>2014-05-05 12:00:00+00:00</td>\n",
       "      <td>Художественный</td>\n",
       "      <td>ООО \"Студия \"Пассажир\"</td>\n",
       "      <td>Россия</td>\n",
       "      <td>Е.Миндадзе (псевдоним Катя Шагалова)</td>\n",
       "      <td>Л.Антонова</td>\n",
       "      <td>«16+» - для детей старше 16 лет</td>\n",
       "      <td>0.0</td>\n",
       "      <td>...</td>\n",
       "      <td>4.2</td>\n",
       "      <td>драма</td>\n",
       "      <td>5.591750e+04</td>\n",
       "      <td>2014</td>\n",
       "      <td>Е.Миндадзе (псевдоним Катя Шагалова)</td>\n",
       "      <td>драма</td>\n",
       "      <td>0.690095</td>\n",
       "      <td>«16+»</td>\n",
       "      <td>4.051822e+07</td>\n",
       "      <td>-4.051822e+07</td>\n",
       "    </tr>\n",
       "    <tr>\n",
       "      <td>1792</td>\n",
       "      <td>Братья Ч</td>\n",
       "      <td>111004414</td>\n",
       "      <td>2014-04-23 12:00:00+00:00</td>\n",
       "      <td>Художественный</td>\n",
       "      <td>ООО \"Студия \"Пассажир\"</td>\n",
       "      <td>Россия</td>\n",
       "      <td>М.Угаров</td>\n",
       "      <td>А.Миндадзе, Л.Антонова</td>\n",
       "      <td>«16+» - для детей старше 16 лет</td>\n",
       "      <td>0.0</td>\n",
       "      <td>...</td>\n",
       "      <td>6.4</td>\n",
       "      <td>драма</td>\n",
       "      <td>2.321000e+05</td>\n",
       "      <td>2014</td>\n",
       "      <td>М.Угаров</td>\n",
       "      <td>драма</td>\n",
       "      <td>0.624764</td>\n",
       "      <td>«16+»</td>\n",
       "      <td>3.978302e+07</td>\n",
       "      <td>-3.978302e+07</td>\n",
       "    </tr>\n",
       "    <tr>\n",
       "      <td>...</td>\n",
       "      <td>...</td>\n",
       "      <td>...</td>\n",
       "      <td>...</td>\n",
       "      <td>...</td>\n",
       "      <td>...</td>\n",
       "      <td>...</td>\n",
       "      <td>...</td>\n",
       "      <td>...</td>\n",
       "      <td>...</td>\n",
       "      <td>...</td>\n",
       "      <td>...</td>\n",
       "      <td>...</td>\n",
       "      <td>...</td>\n",
       "      <td>...</td>\n",
       "      <td>...</td>\n",
       "      <td>...</td>\n",
       "      <td>...</td>\n",
       "      <td>...</td>\n",
       "      <td>...</td>\n",
       "      <td>...</td>\n",
       "      <td>...</td>\n",
       "    </tr>\n",
       "    <tr>\n",
       "      <td>7464</td>\n",
       "      <td>Союз спасения</td>\n",
       "      <td>111022019</td>\n",
       "      <td>2019-12-26 12:00:00+00:00</td>\n",
       "      <td>Художественный</td>\n",
       "      <td>ЗАО \"Дирекция кино\"</td>\n",
       "      <td>Россия</td>\n",
       "      <td>А.Кравчук</td>\n",
       "      <td>А.Максимов, К.Эрнст</td>\n",
       "      <td>«12+» - для детей старше 12 лет</td>\n",
       "      <td>100000000.0</td>\n",
       "      <td>...</td>\n",
       "      <td>6.0</td>\n",
       "      <td>история,биография,драма</td>\n",
       "      <td>7.177032e+08</td>\n",
       "      <td>2019</td>\n",
       "      <td>А.Кравчук</td>\n",
       "      <td>история</td>\n",
       "      <td>0.510204</td>\n",
       "      <td>«12+»</td>\n",
       "      <td>2.622968e+08</td>\n",
       "      <td>-2.622968e+08</td>\n",
       "    </tr>\n",
       "    <tr>\n",
       "      <td>7466</td>\n",
       "      <td>Иван Царевич и Серый Волк 4</td>\n",
       "      <td>114005019</td>\n",
       "      <td>2019-12-20 12:00:00+00:00</td>\n",
       "      <td>Анимационный</td>\n",
       "      <td>ООО \"Студия анимационного кино \"Мельница\"</td>\n",
       "      <td>Россия</td>\n",
       "      <td>Д.Шмидт, К.Феоктистов</td>\n",
       "      <td>С.Сельянов, А.Боярский</td>\n",
       "      <td>«6+» - для детей старше 6 лет</td>\n",
       "      <td>100000000.0</td>\n",
       "      <td>...</td>\n",
       "      <td>6.7</td>\n",
       "      <td>мультфильм,приключения,семейный</td>\n",
       "      <td>5.010692e+08</td>\n",
       "      <td>2019</td>\n",
       "      <td>Д.Шмидт</td>\n",
       "      <td>мультфильм</td>\n",
       "      <td>0.526316</td>\n",
       "      <td>«6+»</td>\n",
       "      <td>-3.110692e+08</td>\n",
       "      <td>3.110692e+08</td>\n",
       "    </tr>\n",
       "    <tr>\n",
       "      <td>7474</td>\n",
       "      <td>Вторжение</td>\n",
       "      <td>111022519</td>\n",
       "      <td>2019-12-23 12:00:00+00:00</td>\n",
       "      <td>Художественный</td>\n",
       "      <td>ООО \"Арт Пикчерс Студия\", ООО \"Водород 2011\"</td>\n",
       "      <td>Россия</td>\n",
       "      <td>Ф.Бондарчук</td>\n",
       "      <td>Ф.Бондарчук, М.Врубель, А.Андрющенко, Д.Рудовский</td>\n",
       "      <td>«12+» - для детей старше 12 лет</td>\n",
       "      <td>100000000.0</td>\n",
       "      <td>...</td>\n",
       "      <td>5.7</td>\n",
       "      <td>фантастика,боевик</td>\n",
       "      <td>NaN</td>\n",
       "      <td>2019</td>\n",
       "      <td>Ф.Бондарчук</td>\n",
       "      <td>фантастика</td>\n",
       "      <td>0.529661</td>\n",
       "      <td>«12+»</td>\n",
       "      <td>NaN</td>\n",
       "      <td>NaN</td>\n",
       "    </tr>\n",
       "    <tr>\n",
       "      <td>7476</td>\n",
       "      <td>Я свободен</td>\n",
       "      <td>111023019</td>\n",
       "      <td>2019-12-26 12:00:00+00:00</td>\n",
       "      <td>Художественный</td>\n",
       "      <td>АО \"ТПО \"Киностудия им. М.Горького\"</td>\n",
       "      <td>Россия</td>\n",
       "      <td>И.Северов</td>\n",
       "      <td>С.Зернов</td>\n",
       "      <td>«12+» - для детей старше 12 лет</td>\n",
       "      <td>0.0</td>\n",
       "      <td>...</td>\n",
       "      <td>5.9</td>\n",
       "      <td>драма</td>\n",
       "      <td>NaN</td>\n",
       "      <td>2019</td>\n",
       "      <td>И.Северов</td>\n",
       "      <td>драма</td>\n",
       "      <td>0.649998</td>\n",
       "      <td>«12+»</td>\n",
       "      <td>NaN</td>\n",
       "      <td>NaN</td>\n",
       "    </tr>\n",
       "    <tr>\n",
       "      <td>7478</td>\n",
       "      <td>(Не)идеальный мужчина</td>\n",
       "      <td>111023119</td>\n",
       "      <td>2019-12-24 12:00:00+00:00</td>\n",
       "      <td>Художественный</td>\n",
       "      <td>ООО \"Нон-Стоп Продакшн\"</td>\n",
       "      <td>Россия</td>\n",
       "      <td>М.Бальчюнас (псевдоним М.Вайсберг)</td>\n",
       "      <td>С.Мелькумов, А.Роднянский, М.Вайсберг, Р.Минас...</td>\n",
       "      <td>«12+» - для детей старше 12 лет</td>\n",
       "      <td>40000000.0</td>\n",
       "      <td>...</td>\n",
       "      <td>4.5</td>\n",
       "      <td>комедия,фантастика,мелодрама</td>\n",
       "      <td>NaN</td>\n",
       "      <td>2019</td>\n",
       "      <td>М.Бальчюнас (псевдоним М.Вайсберг)</td>\n",
       "      <td>комедия</td>\n",
       "      <td>0.666012</td>\n",
       "      <td>«12+»</td>\n",
       "      <td>NaN</td>\n",
       "      <td>NaN</td>\n",
       "    </tr>\n",
       "  </tbody>\n",
       "</table>\n",
       "<p>315 rows × 23 columns</p>\n",
       "</div>"
      ],
      "text/plain": [
       "                            title   puNumber           show_start_date  \\\n",
       "1281                Пока еще жива  111005313 2013-10-11 12:00:00+00:00   \n",
       "1448          Бесславные придурки  111003314 2014-03-28 12:00:00+00:00   \n",
       "1498                    Невидимки  111004213 2013-09-10 12:00:00+00:00   \n",
       "1524                        БЕРЦЫ  111004314 2014-05-05 12:00:00+00:00   \n",
       "1792                     Братья Ч  111004414 2014-04-23 12:00:00+00:00   \n",
       "...                           ...        ...                       ...   \n",
       "7464                Союз спасения  111022019 2019-12-26 12:00:00+00:00   \n",
       "7466  Иван Царевич и Серый Волк 4  114005019 2019-12-20 12:00:00+00:00   \n",
       "7474                    Вторжение  111022519 2019-12-23 12:00:00+00:00   \n",
       "7476                   Я свободен  111023019 2019-12-26 12:00:00+00:00   \n",
       "7478        (Не)идеальный мужчина  111023119 2019-12-24 12:00:00+00:00   \n",
       "\n",
       "                type                                        film_studio  \\\n",
       "1281  Художественный  АНО содействия развитию кинематографии \"Ангел-...   \n",
       "1448  Художественный                         ООО \"Компания \"АТК-Студио\"   \n",
       "1498  Художественный                        ООО \"Компания \"РЕАЛ-ДАКОТА\"   \n",
       "1524  Художественный                             ООО \"Студия \"Пассажир\"   \n",
       "1792  Художественный                             ООО \"Студия \"Пассажир\"   \n",
       "...              ...                                                ...   \n",
       "7464  Художественный                                ЗАО \"Дирекция кино\"   \n",
       "7466    Анимационный          ООО \"Студия анимационного кино \"Мельница\"   \n",
       "7474  Художественный       ООО \"Арт Пикчерс Студия\", ООО \"Водород 2011\"   \n",
       "7476  Художественный                АО \"ТПО \"Киностудия им. М.Горького\"   \n",
       "7478  Художественный                           ООО \"Нон-Стоп Продакшн\"    \n",
       "\n",
       "     production_country                              director  \\\n",
       "1281             Россия                            А.Атанесян   \n",
       "1448             Россия                             А.Якимчук   \n",
       "1498             Россия              Р.Давлетьяров, С.Комаров   \n",
       "1524             Россия  Е.Миндадзе (псевдоним Катя Шагалова)   \n",
       "1792             Россия                              М.Угаров   \n",
       "...                 ...                                   ...   \n",
       "7464             Россия                             А.Кравчук   \n",
       "7466             Россия                 Д.Шмидт, К.Феоктистов   \n",
       "7474             Россия                           Ф.Бондарчук   \n",
       "7476             Россия                             И.Северов   \n",
       "7478             Россия    М.Бальчюнас (псевдоним М.Вайсберг)   \n",
       "\n",
       "                                               producer  \\\n",
       "1281                   А.Атанесян, М.Бабаханов, Р.Бутко   \n",
       "1448                                         А.Тютрюмов   \n",
       "1498          Р.Давлетьяров, А.Котелевский, А.Олейников   \n",
       "1524                                         Л.Антонова   \n",
       "1792                             А.Миндадзе, Л.Антонова   \n",
       "...                                                 ...   \n",
       "7464                                А.Максимов, К.Эрнст   \n",
       "7466                             С.Сельянов, А.Боярский   \n",
       "7474  Ф.Бондарчук, М.Врубель, А.Андрющенко, Д.Рудовский   \n",
       "7476                                           С.Зернов   \n",
       "7478  С.Мелькумов, А.Роднянский, М.Вайсберг, Р.Минас...   \n",
       "\n",
       "                      age_restriction  refundable_support  ...  ratings  \\\n",
       "1281  «16+» - для детей старше 16 лет                 0.0  ...      8.1   \n",
       "1448  «12+» - для детей старше 12 лет                 0.0  ...      NaN   \n",
       "1498  «12+» - для детей старше 12 лет                 0.0  ...      5.3   \n",
       "1524  «16+» - для детей старше 16 лет                 0.0  ...      4.2   \n",
       "1792  «16+» - для детей старше 16 лет                 0.0  ...      6.4   \n",
       "...                               ...                 ...  ...      ...   \n",
       "7464  «12+» - для детей старше 12 лет         100000000.0  ...      6.0   \n",
       "7466    «6+» - для детей старше 6 лет         100000000.0  ...      6.7   \n",
       "7474  «12+» - для детей старше 12 лет         100000000.0  ...      5.7   \n",
       "7476  «12+» - для детей старше 12 лет                 0.0  ...      5.9   \n",
       "7478  «12+» - для детей старше 12 лет          40000000.0  ...      4.5   \n",
       "\n",
       "                               genres    box_office  rental_year  \\\n",
       "1281                  драма,мелодрама  3.653536e+05         2013   \n",
       "1448                        undefined  2.814000e+04         2014   \n",
       "1498               комедия,фантастика  1.995703e+07         2013   \n",
       "1524                            драма  5.591750e+04         2014   \n",
       "1792                            драма  2.321000e+05         2014   \n",
       "...                               ...           ...          ...   \n",
       "7464          история,биография,драма  7.177032e+08         2019   \n",
       "7466  мультфильм,приключения,семейный  5.010692e+08         2019   \n",
       "7474                фантастика,боевик           NaN         2019   \n",
       "7476                            драма           NaN         2019   \n",
       "7478     комедия,фантастика,мелодрама           NaN         2019   \n",
       "\n",
       "                             main_director  main_genre  share_budget  \\\n",
       "1281                            А.Атанесян       драма      0.333703   \n",
       "1448                             А.Якимчук   undefined      0.700000   \n",
       "1498                         Р.Давлетьяров     комедия      0.612691   \n",
       "1524  Е.Миндадзе (псевдоним Катя Шагалова)       драма      0.690095   \n",
       "1792                              М.Угаров       драма      0.624764   \n",
       "...                                    ...         ...           ...   \n",
       "7464                             А.Кравчук     история      0.510204   \n",
       "7466                               Д.Шмидт  мультфильм      0.526316   \n",
       "7474                           Ф.Бондарчук  фантастика      0.529661   \n",
       "7476                             И.Северов       драма      0.649998   \n",
       "7478    М.Бальчюнас (псевдоним М.Вайсберг)     комедия      0.666012   \n",
       "\n",
       "     age_rating        income        profit  \n",
       "1281     «16+»   7.904655e+07 -7.904655e+07  \n",
       "1448     «12+»   3.711472e+07 -3.711472e+07  \n",
       "1498     «12+»   1.560665e+08 -1.560665e+08  \n",
       "1524     «16+»   4.051822e+07 -4.051822e+07  \n",
       "1792     «16+»   3.978302e+07 -3.978302e+07  \n",
       "...         ...           ...           ...  \n",
       "7464     «12+»   2.622968e+08 -2.622968e+08  \n",
       "7466      «6+»  -3.110692e+08  3.110692e+08  \n",
       "7474     «12+»            NaN           NaN  \n",
       "7476     «12+»            NaN           NaN  \n",
       "7478     «12+»            NaN           NaN  \n",
       "\n",
       "[315 rows x 23 columns]"
      ]
     },
     "execution_count": 207,
     "metadata": {},
     "output_type": "execute_result"
    }
   ],
   "source": [
    "support_df"
   ]
  },
  {
   "cell_type": "code",
   "execution_count": 208,
   "metadata": {},
   "outputs": [
    {
     "data": {
      "text/html": [
       "<style  type=\"text/css\" >\n",
       "    #T_11df457c_207b_11ec_8647_02420a3932a7row0_col0 {\n",
       "            width:  10em;\n",
       "             height:  80%;\n",
       "            background:  linear-gradient(90deg,#d65f5f 4.3%, transparent 4.3%);\n",
       "        }    #T_11df457c_207b_11ec_8647_02420a3932a7row1_col0 {\n",
       "            width:  10em;\n",
       "             height:  80%;\n",
       "            background:  linear-gradient(90deg,#d65f5f 4.7%, transparent 4.7%);\n",
       "        }    #T_11df457c_207b_11ec_8647_02420a3932a7row2_col0 {\n",
       "            width:  10em;\n",
       "             height:  80%;\n",
       "            background:  linear-gradient(90deg,#d65f5f 10.5%, transparent 10.5%);\n",
       "        }    #T_11df457c_207b_11ec_8647_02420a3932a7row3_col0 {\n",
       "            width:  10em;\n",
       "             height:  80%;\n",
       "            background:  linear-gradient(90deg,#d65f5f 8.8%, transparent 8.8%);\n",
       "        }    #T_11df457c_207b_11ec_8647_02420a3932a7row4_col0 {\n",
       "            width:  10em;\n",
       "             height:  80%;\n",
       "            background:  linear-gradient(90deg,#d65f5f 30.8%, transparent 30.8%);\n",
       "        }    #T_11df457c_207b_11ec_8647_02420a3932a7row5_col0 {\n",
       "            width:  10em;\n",
       "             height:  80%;\n",
       "            background:  linear-gradient(90deg,#d65f5f 1.3%, transparent 1.3%);\n",
       "        }    #T_11df457c_207b_11ec_8647_02420a3932a7row6_col0 {\n",
       "            width:  10em;\n",
       "             height:  80%;\n",
       "            background:  linear-gradient(90deg,#d65f5f 13.2%, transparent 13.2%);\n",
       "        }    #T_11df457c_207b_11ec_8647_02420a3932a7row7_col0 {\n",
       "            width:  10em;\n",
       "             height:  80%;\n",
       "            background:  linear-gradient(90deg,#d65f5f 100.0%, transparent 100.0%);\n",
       "        }    #T_11df457c_207b_11ec_8647_02420a3932a7row8_col0 {\n",
       "            width:  10em;\n",
       "             height:  80%;\n",
       "            background:  linear-gradient(90deg,#d65f5f 7.5%, transparent 7.5%);\n",
       "        }    #T_11df457c_207b_11ec_8647_02420a3932a7row9_col0 {\n",
       "            width:  10em;\n",
       "             height:  80%;\n",
       "            background:  linear-gradient(90deg,#d65f5f 29.2%, transparent 29.2%);\n",
       "        }    #T_11df457c_207b_11ec_8647_02420a3932a7row10_col0 {\n",
       "            width:  10em;\n",
       "             height:  80%;\n",
       "        }    #T_11df457c_207b_11ec_8647_02420a3932a7row11_col0 {\n",
       "            width:  10em;\n",
       "             height:  80%;\n",
       "            background:  linear-gradient(90deg,#d65f5f 20.8%, transparent 20.8%);\n",
       "        }    #T_11df457c_207b_11ec_8647_02420a3932a7row12_col0 {\n",
       "            width:  10em;\n",
       "             height:  80%;\n",
       "            background:  linear-gradient(90deg,#d65f5f 14.6%, transparent 14.6%);\n",
       "        }    #T_11df457c_207b_11ec_8647_02420a3932a7row13_col0 {\n",
       "            width:  10em;\n",
       "             height:  80%;\n",
       "            background:  linear-gradient(90deg,#d65f5f 31.8%, transparent 31.8%);\n",
       "        }    #T_11df457c_207b_11ec_8647_02420a3932a7row14_col0 {\n",
       "            width:  10em;\n",
       "             height:  80%;\n",
       "            background:  linear-gradient(90deg,#d65f5f 11.5%, transparent 11.5%);\n",
       "        }    #T_11df457c_207b_11ec_8647_02420a3932a7row15_col0 {\n",
       "            width:  10em;\n",
       "             height:  80%;\n",
       "            background:  linear-gradient(90deg,#d65f5f 9.5%, transparent 9.5%);\n",
       "        }    #T_11df457c_207b_11ec_8647_02420a3932a7row16_col0 {\n",
       "            width:  10em;\n",
       "             height:  80%;\n",
       "            background:  linear-gradient(90deg,#d65f5f 54.7%, transparent 54.7%);\n",
       "        }    #T_11df457c_207b_11ec_8647_02420a3932a7row17_col0 {\n",
       "            width:  10em;\n",
       "             height:  80%;\n",
       "            background:  linear-gradient(90deg,#d65f5f 10.5%, transparent 10.5%);\n",
       "        }    #T_11df457c_207b_11ec_8647_02420a3932a7row18_col0 {\n",
       "            width:  10em;\n",
       "             height:  80%;\n",
       "            background:  linear-gradient(90deg,#d65f5f 3.8%, transparent 3.8%);\n",
       "        }    #T_11df457c_207b_11ec_8647_02420a3932a7row19_col0 {\n",
       "            width:  10em;\n",
       "             height:  80%;\n",
       "            background:  linear-gradient(90deg,#d65f5f 38.9%, transparent 38.9%);\n",
       "        }    #T_11df457c_207b_11ec_8647_02420a3932a7row20_col0 {\n",
       "            width:  10em;\n",
       "             height:  80%;\n",
       "            background:  linear-gradient(90deg,#d65f5f 29.4%, transparent 29.4%);\n",
       "        }</style><table id=\"T_11df457c_207b_11ec_8647_02420a3932a7\" ><thead>    <tr>        <th class=\"blank level0\" ></th>        <th class=\"col_heading level0 col0\" >total_support</th>    </tr>    <tr>        <th class=\"index_name level0\" >main_genre</th>        <th class=\"blank\" ></th>    </tr></thead><tbody>\n",
       "                <tr>\n",
       "                        <th id=\"T_11df457c_207b_11ec_8647_02420a3932a7level0_row0\" class=\"row_heading level0 row0\" >undefined</th>\n",
       "                        <td id=\"T_11df457c_207b_11ec_8647_02420a3932a7row0_col0\" class=\"data row0 col0\" >3.66667e+07</td>\n",
       "            </tr>\n",
       "            <tr>\n",
       "                        <th id=\"T_11df457c_207b_11ec_8647_02420a3932a7level0_row1\" class=\"row_heading level0 row1\" >биография</th>\n",
       "                        <td id=\"T_11df457c_207b_11ec_8647_02420a3932a7row1_col0\" class=\"data row1 col0\" >3.75033e+07</td>\n",
       "            </tr>\n",
       "            <tr>\n",
       "                        <th id=\"T_11df457c_207b_11ec_8647_02420a3932a7level0_row2\" class=\"row_heading level0 row2\" >боевик</th>\n",
       "                        <td id=\"T_11df457c_207b_11ec_8647_02420a3932a7row2_col0\" class=\"data row2 col0\" >5.08e+07</td>\n",
       "            </tr>\n",
       "            <tr>\n",
       "                        <th id=\"T_11df457c_207b_11ec_8647_02420a3932a7level0_row3\" class=\"row_heading level0 row3\" >военный</th>\n",
       "                        <td id=\"T_11df457c_207b_11ec_8647_02420a3932a7row3_col0\" class=\"data row3 col0\" >4.6889e+07</td>\n",
       "            </tr>\n",
       "            <tr>\n",
       "                        <th id=\"T_11df457c_207b_11ec_8647_02420a3932a7level0_row4\" class=\"row_heading level0 row4\" >детектив</th>\n",
       "                        <td id=\"T_11df457c_207b_11ec_8647_02420a3932a7row4_col0\" class=\"data row4 col0\" >9.7e+07</td>\n",
       "            </tr>\n",
       "            <tr>\n",
       "                        <th id=\"T_11df457c_207b_11ec_8647_02420a3932a7level0_row5\" class=\"row_heading level0 row5\" >детский</th>\n",
       "                        <td id=\"T_11df457c_207b_11ec_8647_02420a3932a7row5_col0\" class=\"data row5 col0\" >2.975e+07</td>\n",
       "            </tr>\n",
       "            <tr>\n",
       "                        <th id=\"T_11df457c_207b_11ec_8647_02420a3932a7level0_row6\" class=\"row_heading level0 row6\" >драма</th>\n",
       "                        <td id=\"T_11df457c_207b_11ec_8647_02420a3932a7row6_col0\" class=\"data row6 col0\" >5.69501e+07</td>\n",
       "            </tr>\n",
       "            <tr>\n",
       "                        <th id=\"T_11df457c_207b_11ec_8647_02420a3932a7level0_row7\" class=\"row_heading level0 row7\" >история</th>\n",
       "                        <td id=\"T_11df457c_207b_11ec_8647_02420a3932a7row7_col0\" class=\"data row7 col0\" >2.55e+08</td>\n",
       "            </tr>\n",
       "            <tr>\n",
       "                        <th id=\"T_11df457c_207b_11ec_8647_02420a3932a7level0_row8\" class=\"row_heading level0 row8\" >комедия</th>\n",
       "                        <td id=\"T_11df457c_207b_11ec_8647_02420a3932a7row8_col0\" class=\"data row8 col0\" >4.38718e+07</td>\n",
       "            </tr>\n",
       "            <tr>\n",
       "                        <th id=\"T_11df457c_207b_11ec_8647_02420a3932a7level0_row9\" class=\"row_heading level0 row9\" >криминал</th>\n",
       "                        <td id=\"T_11df457c_207b_11ec_8647_02420a3932a7row9_col0\" class=\"data row9 col0\" >9.33333e+07</td>\n",
       "            </tr>\n",
       "            <tr>\n",
       "                        <th id=\"T_11df457c_207b_11ec_8647_02420a3932a7level0_row10\" class=\"row_heading level0 row10\" >мелодрама</th>\n",
       "                        <td id=\"T_11df457c_207b_11ec_8647_02420a3932a7row10_col0\" class=\"data row10 col0\" >2.67857e+07</td>\n",
       "            </tr>\n",
       "            <tr>\n",
       "                        <th id=\"T_11df457c_207b_11ec_8647_02420a3932a7level0_row11\" class=\"row_heading level0 row11\" >мультфильм</th>\n",
       "                        <td id=\"T_11df457c_207b_11ec_8647_02420a3932a7row11_col0\" class=\"data row11 col0\" >7.42892e+07</td>\n",
       "            </tr>\n",
       "            <tr>\n",
       "                        <th id=\"T_11df457c_207b_11ec_8647_02420a3932a7level0_row12\" class=\"row_heading level0 row12\" >мюзикл</th>\n",
       "                        <td id=\"T_11df457c_207b_11ec_8647_02420a3932a7row12_col0\" class=\"data row12 col0\" >6.01133e+07</td>\n",
       "            </tr>\n",
       "            <tr>\n",
       "                        <th id=\"T_11df457c_207b_11ec_8647_02420a3932a7level0_row13\" class=\"row_heading level0 row13\" >приключения</th>\n",
       "                        <td id=\"T_11df457c_207b_11ec_8647_02420a3932a7row13_col0\" class=\"data row13 col0\" >9.94286e+07</td>\n",
       "            </tr>\n",
       "            <tr>\n",
       "                        <th id=\"T_11df457c_207b_11ec_8647_02420a3932a7level0_row14\" class=\"row_heading level0 row14\" >реальное ТВ</th>\n",
       "                        <td id=\"T_11df457c_207b_11ec_8647_02420a3932a7row14_col0\" class=\"data row14 col0\" >5.3e+07</td>\n",
       "            </tr>\n",
       "            <tr>\n",
       "                        <th id=\"T_11df457c_207b_11ec_8647_02420a3932a7level0_row15\" class=\"row_heading level0 row15\" >семейный</th>\n",
       "                        <td id=\"T_11df457c_207b_11ec_8647_02420a3932a7row15_col0\" class=\"data row15 col0\" >4.84286e+07</td>\n",
       "            </tr>\n",
       "            <tr>\n",
       "                        <th id=\"T_11df457c_207b_11ec_8647_02420a3932a7level0_row16\" class=\"row_heading level0 row16\" >спорт</th>\n",
       "                        <td id=\"T_11df457c_207b_11ec_8647_02420a3932a7row16_col0\" class=\"data row16 col0\" >1.51667e+08</td>\n",
       "            </tr>\n",
       "            <tr>\n",
       "                        <th id=\"T_11df457c_207b_11ec_8647_02420a3932a7level0_row17\" class=\"row_heading level0 row17\" >триллер</th>\n",
       "                        <td id=\"T_11df457c_207b_11ec_8647_02420a3932a7row17_col0\" class=\"data row17 col0\" >5.06889e+07</td>\n",
       "            </tr>\n",
       "            <tr>\n",
       "                        <th id=\"T_11df457c_207b_11ec_8647_02420a3932a7level0_row18\" class=\"row_heading level0 row18\" >ужасы</th>\n",
       "                        <td id=\"T_11df457c_207b_11ec_8647_02420a3932a7row18_col0\" class=\"data row18 col0\" >3.55e+07</td>\n",
       "            </tr>\n",
       "            <tr>\n",
       "                        <th id=\"T_11df457c_207b_11ec_8647_02420a3932a7level0_row19\" class=\"row_heading level0 row19\" >фантастика</th>\n",
       "                        <td id=\"T_11df457c_207b_11ec_8647_02420a3932a7row19_col0\" class=\"data row19 col0\" >1.156e+08</td>\n",
       "            </tr>\n",
       "            <tr>\n",
       "                        <th id=\"T_11df457c_207b_11ec_8647_02420a3932a7level0_row20\" class=\"row_heading level0 row20\" >фэнтези</th>\n",
       "                        <td id=\"T_11df457c_207b_11ec_8647_02420a3932a7row20_col0\" class=\"data row20 col0\" >9.39e+07</td>\n",
       "            </tr>\n",
       "    </tbody></table>"
      ],
      "text/plain": [
       "<pandas.io.formats.style.Styler at 0x7efdeb2498d0>"
      ]
     },
     "metadata": {},
     "output_type": "display_data"
    }
   ],
   "source": [
    "support_df['total_support'] = support_df['refundable_support'] + support_df['nonrefundable_support']\n",
    "\n",
    "display(support_df.pivot_table(index = 'main_genre', values = 'total_support', aggfunc = 'mean').style.bar())\n",
    "\n",
    "# видим, что на исторические фильмы выделяется больше всего поддержки"
   ]
  },
  {
   "cell_type": "markdown",
   "metadata": {},
   "source": [
    "### Вывод"
   ]
  },
  {
   "cell_type": "markdown",
   "metadata": {},
   "source": [
    "Изучил фильмы, которые были профинансированы. Выявил, что большее количество профинансированых фильмов художественные, также выявил, что с 2015 года и впоследствии стали финансировать гораздо больше фильмов. Также рейтинг фильмом в основном в районе 6-7, но есть и фильмы с низшим из возможных рейтингов, 1. По графику окупаемости можно заметить что, большинство фильво если и окупилось то незначительно, количество неокупившихся фильмов больше, чем окупившихся, совсем провальный фильм потерял больше денег чем заработал самый успешный фильм."
   ]
  },
  {
   "cell_type": "markdown",
   "metadata": {
    "id": "V2gYwMcPgFyd"
   },
   "source": [
    "## Общий вывод"
   ]
  },
  {
   "cell_type": "markdown",
   "metadata": {
    "id": "AYRg3dzXgFye"
   },
   "source": [
    "Был открыт и изучен файл, после чего был проведен этап предобработки в ходе которого были заполнены пропущенные значения там где это уместно и заменены типы данных. Далее был проведен обширный исследовательский анализ данных и исследование фильмов с гос. поддержкой, подробную информацию по которым можно посмотреть в соответствующем выводе по разделу"
   ]
  }
 ],
 "metadata": {
  "ExecuteTimeLog": [
   {
    "duration": 537,
    "start_time": "2021-07-07T10:12:08.634Z"
   },
   {
    "duration": 206,
    "start_time": "2021-07-07T10:12:30.191Z"
   },
   {
    "duration": 227,
    "start_time": "2021-07-07T10:12:33.078Z"
   },
   {
    "duration": 153,
    "start_time": "2021-07-07T10:13:42.146Z"
   },
   {
    "duration": 233,
    "start_time": "2021-07-07T10:30:09.252Z"
   },
   {
    "duration": 19,
    "start_time": "2021-07-07T10:30:15.577Z"
   },
   {
    "duration": 18,
    "start_time": "2021-07-07T10:30:57.348Z"
   },
   {
    "duration": 19,
    "start_time": "2021-07-07T10:31:17.452Z"
   },
   {
    "duration": 21,
    "start_time": "2021-07-07T10:31:32.227Z"
   },
   {
    "duration": 27,
    "start_time": "2021-07-07T10:32:06.588Z"
   },
   {
    "duration": 23,
    "start_time": "2021-07-07T10:32:43.645Z"
   },
   {
    "duration": 24,
    "start_time": "2021-07-07T10:33:06.948Z"
   },
   {
    "duration": 7,
    "start_time": "2021-07-07T10:33:28.558Z"
   },
   {
    "duration": 23,
    "start_time": "2021-07-07T10:33:43.761Z"
   },
   {
    "duration": 28,
    "start_time": "2021-07-07T10:34:13.466Z"
   },
   {
    "duration": 23,
    "start_time": "2021-07-07T10:35:56.187Z"
   },
   {
    "duration": 6,
    "start_time": "2021-07-07T10:36:48.182Z"
   },
   {
    "duration": 14,
    "start_time": "2021-07-07T10:37:49.641Z"
   },
   {
    "duration": 6,
    "start_time": "2021-07-07T10:38:06.694Z"
   },
   {
    "duration": 6,
    "start_time": "2021-07-07T10:38:13.493Z"
   },
   {
    "duration": 19,
    "start_time": "2021-07-07T10:38:44.056Z"
   },
   {
    "duration": 186,
    "start_time": "2021-07-07T10:48:35.618Z"
   },
   {
    "duration": 24,
    "start_time": "2021-07-07T10:48:51.498Z"
   },
   {
    "duration": 20,
    "start_time": "2021-07-07T10:48:59.415Z"
   },
   {
    "duration": 20,
    "start_time": "2021-07-07T10:53:02.195Z"
   },
   {
    "duration": 188,
    "start_time": "2021-07-07T10:54:40.486Z"
   },
   {
    "duration": 115,
    "start_time": "2021-07-07T10:54:52.552Z"
   },
   {
    "duration": 214,
    "start_time": "2021-07-07T10:54:56.354Z"
   },
   {
    "duration": 47,
    "start_time": "2021-07-07T10:54:58.282Z"
   },
   {
    "duration": 217,
    "start_time": "2021-07-07T10:59:16.075Z"
   },
   {
    "duration": 51,
    "start_time": "2021-07-07T10:59:16.243Z"
   },
   {
    "duration": 578,
    "start_time": "2021-07-07T10:59:18.774Z"
   },
   {
    "duration": 161,
    "start_time": "2021-07-07T10:59:21.238Z"
   },
   {
    "duration": 59,
    "start_time": "2021-07-07T10:59:21.453Z"
   },
   {
    "duration": 3,
    "start_time": "2021-07-07T11:02:10.786Z"
   },
   {
    "duration": 13,
    "start_time": "2021-07-07T11:07:07.722Z"
   },
   {
    "duration": 26,
    "start_time": "2021-07-07T11:07:17.958Z"
   },
   {
    "duration": 22,
    "start_time": "2021-07-07T11:08:17.939Z"
   },
   {
    "duration": 212,
    "start_time": "2021-07-07T11:08:19.665Z"
   },
   {
    "duration": 21,
    "start_time": "2021-07-07T11:08:29.945Z"
   },
   {
    "duration": 31,
    "start_time": "2021-07-07T11:08:38.899Z"
   },
   {
    "duration": 23,
    "start_time": "2021-07-07T11:08:54.527Z"
   },
   {
    "duration": 8,
    "start_time": "2021-07-07T11:18:55.974Z"
   },
   {
    "duration": 7,
    "start_time": "2021-07-07T11:19:03.639Z"
   },
   {
    "duration": 7,
    "start_time": "2021-07-07T11:19:06.444Z"
   },
   {
    "duration": 578,
    "start_time": "2021-07-07T12:09:59.576Z"
   },
   {
    "duration": 195,
    "start_time": "2021-07-07T12:10:00.156Z"
   },
   {
    "duration": 115,
    "start_time": "2021-07-07T12:10:00.353Z"
   },
   {
    "duration": 3,
    "start_time": "2021-07-07T12:10:00.470Z"
   },
   {
    "duration": 32,
    "start_time": "2021-07-07T12:10:00.474Z"
   },
   {
    "duration": 23,
    "start_time": "2021-07-07T12:10:00.508Z"
   },
   {
    "duration": 19,
    "start_time": "2021-07-07T12:10:00.533Z"
   },
   {
    "duration": 44,
    "start_time": "2021-07-07T12:10:00.553Z"
   },
   {
    "duration": 7,
    "start_time": "2021-07-07T12:10:00.600Z"
   },
   {
    "duration": 7,
    "start_time": "2021-07-07T12:19:45.761Z"
   },
   {
    "duration": 21,
    "start_time": "2021-07-07T12:21:35.482Z"
   },
   {
    "duration": 21,
    "start_time": "2021-07-07T12:29:23.569Z"
   },
   {
    "duration": 525,
    "start_time": "2021-07-07T12:29:44.542Z"
   },
   {
    "duration": 214,
    "start_time": "2021-07-07T12:29:45.069Z"
   },
   {
    "duration": 92,
    "start_time": "2021-07-07T12:29:45.285Z"
   },
   {
    "duration": 3,
    "start_time": "2021-07-07T12:29:45.379Z"
   },
   {
    "duration": 28,
    "start_time": "2021-07-07T12:29:45.384Z"
   },
   {
    "duration": 23,
    "start_time": "2021-07-07T12:29:45.413Z"
   },
   {
    "duration": 21,
    "start_time": "2021-07-07T12:29:45.437Z"
   },
   {
    "duration": 41,
    "start_time": "2021-07-07T12:29:45.460Z"
   },
   {
    "duration": 7,
    "start_time": "2021-07-07T12:29:45.502Z"
   },
   {
    "duration": 20,
    "start_time": "2021-07-07T12:29:45.511Z"
   },
   {
    "duration": 12,
    "start_time": "2021-07-07T12:34:02.800Z"
   },
   {
    "duration": 7,
    "start_time": "2021-07-07T12:35:10.479Z"
   },
   {
    "duration": 8,
    "start_time": "2021-07-07T12:35:22.440Z"
   },
   {
    "duration": 6,
    "start_time": "2021-07-07T12:35:35.649Z"
   },
   {
    "duration": 6,
    "start_time": "2021-07-07T12:35:43.107Z"
   },
   {
    "duration": 22,
    "start_time": "2021-07-07T12:38:03.029Z"
   },
   {
    "duration": 10,
    "start_time": "2021-07-07T12:38:06.592Z"
   },
   {
    "duration": 563,
    "start_time": "2021-07-07T12:38:46.493Z"
   },
   {
    "duration": 265,
    "start_time": "2021-07-07T12:38:47.058Z"
   },
   {
    "duration": 94,
    "start_time": "2021-07-07T12:38:47.325Z"
   },
   {
    "duration": 3,
    "start_time": "2021-07-07T12:38:47.422Z"
   },
   {
    "duration": 30,
    "start_time": "2021-07-07T12:38:47.427Z"
   },
   {
    "duration": 16,
    "start_time": "2021-07-07T12:38:53.305Z"
   },
   {
    "duration": 10,
    "start_time": "2021-07-07T12:38:53.499Z"
   },
   {
    "duration": 8,
    "start_time": "2021-07-07T12:39:48.161Z"
   },
   {
    "duration": 27,
    "start_time": "2021-07-07T12:41:17.629Z"
   },
   {
    "duration": 17,
    "start_time": "2021-07-07T12:41:17.867Z"
   },
   {
    "duration": 21,
    "start_time": "2021-07-07T12:41:19.310Z"
   },
   {
    "duration": 7,
    "start_time": "2021-07-07T12:41:19.544Z"
   },
   {
    "duration": 20,
    "start_time": "2021-07-07T12:41:20.504Z"
   },
   {
    "duration": 554,
    "start_time": "2021-07-07T12:56:23.696Z"
   },
   {
    "duration": 200,
    "start_time": "2021-07-07T12:56:25.234Z"
   },
   {
    "duration": 119,
    "start_time": "2021-07-07T12:56:25.480Z"
   },
   {
    "duration": 4,
    "start_time": "2021-07-07T12:56:25.762Z"
   },
   {
    "duration": 26,
    "start_time": "2021-07-07T12:56:27.172Z"
   },
   {
    "duration": 12,
    "start_time": "2021-07-07T12:56:29.051Z"
   },
   {
    "duration": 10,
    "start_time": "2021-07-07T12:56:29.291Z"
   },
   {
    "duration": 8,
    "start_time": "2021-07-07T12:56:29.623Z"
   },
   {
    "duration": 28,
    "start_time": "2021-07-07T12:56:32.137Z"
   },
   {
    "duration": 19,
    "start_time": "2021-07-07T12:56:39.785Z"
   },
   {
    "duration": 20,
    "start_time": "2021-07-07T12:56:44.297Z"
   },
   {
    "duration": 7,
    "start_time": "2021-07-07T12:56:45.392Z"
   },
   {
    "duration": 23,
    "start_time": "2021-07-07T12:56:46.615Z"
   },
   {
    "duration": 4,
    "start_time": "2021-07-07T12:57:06.625Z"
   },
   {
    "duration": 32,
    "start_time": "2021-07-07T12:57:36.690Z"
   },
   {
    "duration": 18,
    "start_time": "2021-07-07T12:58:00.149Z"
   },
   {
    "duration": 15,
    "start_time": "2021-07-07T12:59:16.793Z"
   },
   {
    "duration": 7,
    "start_time": "2021-07-07T13:19:22.624Z"
   },
   {
    "duration": 6,
    "start_time": "2021-07-07T14:17:33.527Z"
   },
   {
    "duration": 9,
    "start_time": "2021-07-07T14:17:48.409Z"
   },
   {
    "duration": 8,
    "start_time": "2021-07-07T14:20:13.060Z"
   },
   {
    "duration": 8,
    "start_time": "2021-07-07T14:20:37.957Z"
   },
   {
    "duration": 8,
    "start_time": "2021-07-07T14:20:47.470Z"
   },
   {
    "duration": 9,
    "start_time": "2021-07-07T14:20:54.503Z"
   },
   {
    "duration": 10,
    "start_time": "2021-07-07T14:28:57.763Z"
   },
   {
    "duration": 3,
    "start_time": "2021-07-07T14:30:23.377Z"
   },
   {
    "duration": 3,
    "start_time": "2021-07-07T14:30:36.489Z"
   },
   {
    "duration": 103,
    "start_time": "2021-07-07T14:30:52.351Z"
   },
   {
    "duration": 8,
    "start_time": "2021-07-07T14:30:54.763Z"
   },
   {
    "duration": 8,
    "start_time": "2021-07-07T14:31:29.301Z"
   },
   {
    "duration": 13,
    "start_time": "2021-07-07T14:31:44.516Z"
   },
   {
    "duration": 7,
    "start_time": "2021-07-07T14:33:10.972Z"
   },
   {
    "duration": 11,
    "start_time": "2021-07-07T14:33:27.780Z"
   },
   {
    "duration": 8,
    "start_time": "2021-07-07T14:34:44.588Z"
   },
   {
    "duration": 57,
    "start_time": "2021-07-07T14:35:59.042Z"
   },
   {
    "duration": 3,
    "start_time": "2021-07-07T14:36:28.168Z"
   },
   {
    "duration": 5,
    "start_time": "2021-07-07T14:36:46.254Z"
   },
   {
    "duration": 4,
    "start_time": "2021-07-07T14:36:52.714Z"
   },
   {
    "duration": 3,
    "start_time": "2021-07-07T14:36:56.612Z"
   },
   {
    "duration": 4,
    "start_time": "2021-07-07T14:36:57.049Z"
   },
   {
    "duration": 3,
    "start_time": "2021-07-07T14:39:21.214Z"
   },
   {
    "duration": 7,
    "start_time": "2021-07-07T14:39:52.406Z"
   },
   {
    "duration": 11,
    "start_time": "2021-07-07T14:39:58.576Z"
   },
   {
    "duration": 9,
    "start_time": "2021-07-07T14:40:26.301Z"
   },
   {
    "duration": 10,
    "start_time": "2021-07-07T14:40:31.704Z"
   },
   {
    "duration": 11,
    "start_time": "2021-07-07T14:40:36.249Z"
   },
   {
    "duration": 10,
    "start_time": "2021-07-07T14:40:39.783Z"
   },
   {
    "duration": 9,
    "start_time": "2021-07-07T14:40:48.558Z"
   },
   {
    "duration": 10,
    "start_time": "2021-07-07T14:40:57.143Z"
   },
   {
    "duration": 9,
    "start_time": "2021-07-07T14:41:06.074Z"
   },
   {
    "duration": 4324,
    "start_time": "2021-07-07T14:41:22.004Z"
   },
   {
    "duration": 11,
    "start_time": "2021-07-07T14:41:33.392Z"
   },
   {
    "duration": 9,
    "start_time": "2021-07-07T14:41:39.288Z"
   },
   {
    "duration": 569,
    "start_time": "2021-07-07T14:42:14.387Z"
   },
   {
    "duration": 197,
    "start_time": "2021-07-07T14:42:14.959Z"
   },
   {
    "duration": 84,
    "start_time": "2021-07-07T14:42:16.052Z"
   },
   {
    "duration": 4,
    "start_time": "2021-07-07T14:42:16.900Z"
   },
   {
    "duration": 27,
    "start_time": "2021-07-07T14:42:19.898Z"
   },
   {
    "duration": 12,
    "start_time": "2021-07-07T14:42:21.577Z"
   },
   {
    "duration": 9,
    "start_time": "2021-07-07T14:42:21.813Z"
   },
   {
    "duration": 9,
    "start_time": "2021-07-07T14:42:22.569Z"
   },
   {
    "duration": 29,
    "start_time": "2021-07-07T14:42:25.837Z"
   },
   {
    "duration": 20,
    "start_time": "2021-07-07T14:42:27.003Z"
   },
   {
    "duration": 21,
    "start_time": "2021-07-07T14:42:28.767Z"
   },
   {
    "duration": 7,
    "start_time": "2021-07-07T14:42:29.838Z"
   },
   {
    "duration": 4,
    "start_time": "2021-07-07T14:43:25.493Z"
   },
   {
    "duration": 7,
    "start_time": "2021-07-07T14:43:26.573Z"
   },
   {
    "duration": 10,
    "start_time": "2021-07-07T14:43:31.639Z"
   },
   {
    "duration": 9,
    "start_time": "2021-07-07T14:43:32.046Z"
   },
   {
    "duration": 10,
    "start_time": "2021-07-07T14:43:33.301Z"
   },
   {
    "duration": 12,
    "start_time": "2021-07-07T14:43:33.658Z"
   },
   {
    "duration": 8,
    "start_time": "2021-07-07T14:43:34.552Z"
   },
   {
    "duration": 9,
    "start_time": "2021-07-07T14:43:35.058Z"
   },
   {
    "duration": 12,
    "start_time": "2021-07-07T14:43:35.914Z"
   },
   {
    "duration": 17,
    "start_time": "2021-07-07T14:45:34.368Z"
   },
   {
    "duration": 512,
    "start_time": "2021-07-07T14:51:58.236Z"
   },
   {
    "duration": 223,
    "start_time": "2021-07-07T14:51:58.750Z"
   },
   {
    "duration": 93,
    "start_time": "2021-07-07T14:51:58.977Z"
   },
   {
    "duration": 4,
    "start_time": "2021-07-07T14:51:59.071Z"
   },
   {
    "duration": 37,
    "start_time": "2021-07-07T14:51:59.077Z"
   },
   {
    "duration": 18,
    "start_time": "2021-07-07T14:51:59.116Z"
   },
   {
    "duration": 10,
    "start_time": "2021-07-07T14:51:59.137Z"
   },
   {
    "duration": 8,
    "start_time": "2021-07-07T14:51:59.149Z"
   },
   {
    "duration": 54,
    "start_time": "2021-07-07T14:51:59.158Z"
   },
   {
    "duration": 18,
    "start_time": "2021-07-07T14:51:59.213Z"
   },
   {
    "duration": 22,
    "start_time": "2021-07-07T14:51:59.232Z"
   },
   {
    "duration": 36,
    "start_time": "2021-07-07T14:51:59.255Z"
   },
   {
    "duration": 7,
    "start_time": "2021-07-07T14:51:59.293Z"
   },
   {
    "duration": 10,
    "start_time": "2021-07-07T14:51:59.302Z"
   },
   {
    "duration": 9,
    "start_time": "2021-07-07T14:51:59.313Z"
   },
   {
    "duration": 11,
    "start_time": "2021-07-07T14:51:59.324Z"
   },
   {
    "duration": 8,
    "start_time": "2021-07-07T14:51:59.337Z"
   },
   {
    "duration": 46,
    "start_time": "2021-07-07T14:51:59.347Z"
   },
   {
    "duration": 22,
    "start_time": "2021-07-07T14:51:59.395Z"
   },
   {
    "duration": 24,
    "start_time": "2021-07-07T14:57:32.911Z"
   },
   {
    "duration": 7,
    "start_time": "2021-07-07T14:58:22.070Z"
   },
   {
    "duration": 4,
    "start_time": "2021-07-07T14:59:11.239Z"
   },
   {
    "duration": 25,
    "start_time": "2021-07-07T15:07:22.208Z"
   },
   {
    "duration": 16,
    "start_time": "2021-07-07T15:08:25.560Z"
   },
   {
    "duration": 15,
    "start_time": "2021-07-07T15:08:40.647Z"
   },
   {
    "duration": 14,
    "start_time": "2021-07-07T15:08:46.669Z"
   },
   {
    "duration": 533,
    "start_time": "2021-07-07T15:18:07.440Z"
   },
   {
    "duration": 173,
    "start_time": "2021-07-07T15:18:07.974Z"
   },
   {
    "duration": 84,
    "start_time": "2021-07-07T15:18:08.149Z"
   },
   {
    "duration": 3,
    "start_time": "2021-07-07T15:18:08.235Z"
   },
   {
    "duration": 30,
    "start_time": "2021-07-07T15:18:08.240Z"
   },
   {
    "duration": 22,
    "start_time": "2021-07-07T15:18:08.272Z"
   },
   {
    "duration": 11,
    "start_time": "2021-07-07T15:18:08.295Z"
   },
   {
    "duration": 11,
    "start_time": "2021-07-07T15:18:08.309Z"
   },
   {
    "duration": 40,
    "start_time": "2021-07-07T15:18:08.322Z"
   },
   {
    "duration": 42,
    "start_time": "2021-07-07T15:18:08.364Z"
   },
   {
    "duration": 22,
    "start_time": "2021-07-07T15:18:08.408Z"
   },
   {
    "duration": 5,
    "start_time": "2021-07-07T15:18:08.432Z"
   },
   {
    "duration": 13,
    "start_time": "2021-07-07T15:18:08.439Z"
   },
   {
    "duration": 9,
    "start_time": "2021-07-07T15:18:08.454Z"
   },
   {
    "duration": 32,
    "start_time": "2021-07-07T15:18:08.465Z"
   },
   {
    "duration": 10,
    "start_time": "2021-07-07T15:18:08.501Z"
   },
   {
    "duration": 7,
    "start_time": "2021-07-07T15:18:08.513Z"
   },
   {
    "duration": 11,
    "start_time": "2021-07-07T15:18:08.521Z"
   },
   {
    "duration": 17,
    "start_time": "2021-07-07T15:18:08.534Z"
   },
   {
    "duration": 44,
    "start_time": "2021-07-07T15:18:08.553Z"
   },
   {
    "duration": 22,
    "start_time": "2021-07-07T15:18:08.599Z"
   },
   {
    "duration": 61,
    "start_time": "2021-07-07T15:18:08.622Z"
   },
   {
    "duration": 7,
    "start_time": "2021-07-07T15:18:39.457Z"
   },
   {
    "duration": 5,
    "start_time": "2021-07-07T16:05:17.020Z"
   },
   {
    "duration": 5,
    "start_time": "2021-07-07T16:51:28.794Z"
   },
   {
    "duration": 546,
    "start_time": "2021-07-07T16:52:26.306Z"
   },
   {
    "duration": 203,
    "start_time": "2021-07-07T16:52:27.523Z"
   },
   {
    "duration": 85,
    "start_time": "2021-07-07T16:52:27.736Z"
   },
   {
    "duration": 4,
    "start_time": "2021-07-07T16:52:27.899Z"
   },
   {
    "duration": 25,
    "start_time": "2021-07-07T16:52:28.674Z"
   },
   {
    "duration": 8,
    "start_time": "2021-07-07T16:52:32.956Z"
   },
   {
    "duration": 18,
    "start_time": "2021-07-07T16:52:35.616Z"
   },
   {
    "duration": 6,
    "start_time": "2021-07-07T16:52:36.913Z"
   },
   {
    "duration": 11,
    "start_time": "2021-07-07T16:52:40.258Z"
   },
   {
    "duration": 10,
    "start_time": "2021-07-07T16:52:46.251Z"
   },
   {
    "duration": 8,
    "start_time": "2021-07-07T16:52:47.182Z"
   },
   {
    "duration": 27,
    "start_time": "2021-07-07T16:53:20.391Z"
   },
   {
    "duration": 20,
    "start_time": "2021-07-07T16:53:22.022Z"
   },
   {
    "duration": 23,
    "start_time": "2021-07-07T16:53:23.690Z"
   },
   {
    "duration": 8,
    "start_time": "2021-07-07T16:53:24.261Z"
   },
   {
    "duration": 4,
    "start_time": "2021-07-07T16:53:38.733Z"
   },
   {
    "duration": 7,
    "start_time": "2021-07-07T16:53:40.445Z"
   },
   {
    "duration": 11,
    "start_time": "2021-07-07T16:53:41.348Z"
   },
   {
    "duration": 13,
    "start_time": "2021-07-07T16:53:45.250Z"
   },
   {
    "duration": 12,
    "start_time": "2021-07-07T16:53:45.467Z"
   },
   {
    "duration": 4,
    "start_time": "2021-07-07T16:55:32.704Z"
   },
   {
    "duration": 12,
    "start_time": "2021-07-07T16:55:49.012Z"
   },
   {
    "duration": 18,
    "start_time": "2021-07-07T16:55:49.547Z"
   },
   {
    "duration": 611,
    "start_time": "2021-07-07T16:58:35.156Z"
   },
   {
    "duration": 200,
    "start_time": "2021-07-07T16:58:35.770Z"
   },
   {
    "duration": 86,
    "start_time": "2021-07-07T16:58:35.972Z"
   },
   {
    "duration": 3,
    "start_time": "2021-07-07T16:58:36.060Z"
   },
   {
    "duration": 27,
    "start_time": "2021-07-07T16:58:36.065Z"
   },
   {
    "duration": 8,
    "start_time": "2021-07-07T16:58:36.094Z"
   },
   {
    "duration": 17,
    "start_time": "2021-07-07T16:58:36.103Z"
   },
   {
    "duration": 5,
    "start_time": "2021-07-07T16:58:36.123Z"
   },
   {
    "duration": 11,
    "start_time": "2021-07-07T16:58:36.130Z"
   },
   {
    "duration": 7,
    "start_time": "2021-07-07T16:58:36.143Z"
   },
   {
    "duration": 37,
    "start_time": "2021-07-07T16:58:36.152Z"
   },
   {
    "duration": 27,
    "start_time": "2021-07-07T16:58:36.191Z"
   },
   {
    "duration": 19,
    "start_time": "2021-07-07T16:58:36.219Z"
   },
   {
    "duration": 49,
    "start_time": "2021-07-07T16:58:36.240Z"
   },
   {
    "duration": 6,
    "start_time": "2021-07-07T16:58:36.291Z"
   },
   {
    "duration": 3,
    "start_time": "2021-07-07T16:58:36.299Z"
   },
   {
    "duration": 13,
    "start_time": "2021-07-07T16:58:36.304Z"
   },
   {
    "duration": 10,
    "start_time": "2021-07-07T16:58:36.319Z"
   },
   {
    "duration": 10,
    "start_time": "2021-07-07T16:58:36.331Z"
   },
   {
    "duration": 44,
    "start_time": "2021-07-07T16:58:36.343Z"
   },
   {
    "duration": 4,
    "start_time": "2021-07-07T16:58:36.388Z"
   },
   {
    "duration": 13,
    "start_time": "2021-07-07T16:58:36.394Z"
   },
   {
    "duration": 16,
    "start_time": "2021-07-07T16:58:36.410Z"
   },
   {
    "duration": 8,
    "start_time": "2021-07-07T17:02:31.629Z"
   },
   {
    "duration": 8,
    "start_time": "2021-07-07T17:02:34.308Z"
   },
   {
    "duration": 6,
    "start_time": "2021-07-07T17:05:13.483Z"
   },
   {
    "duration": 17,
    "start_time": "2021-07-07T17:05:20.606Z"
   },
   {
    "duration": 7,
    "start_time": "2021-07-07T17:05:34.638Z"
   },
   {
    "duration": 3,
    "start_time": "2021-07-07T17:06:31.883Z"
   },
   {
    "duration": 570,
    "start_time": "2021-07-07T17:06:37.165Z"
   },
   {
    "duration": 174,
    "start_time": "2021-07-07T17:06:37.737Z"
   },
   {
    "duration": 47,
    "start_time": "2021-07-07T17:06:37.913Z"
   },
   {
    "duration": 3,
    "start_time": "2021-07-07T17:06:37.962Z"
   },
   {
    "duration": 27,
    "start_time": "2021-07-07T17:06:37.967Z"
   },
   {
    "duration": 7,
    "start_time": "2021-07-07T17:06:37.996Z"
   },
   {
    "duration": 16,
    "start_time": "2021-07-07T17:06:38.005Z"
   },
   {
    "duration": 6,
    "start_time": "2021-07-07T17:06:38.024Z"
   },
   {
    "duration": 12,
    "start_time": "2021-07-07T17:06:38.031Z"
   },
   {
    "duration": 41,
    "start_time": "2021-07-07T17:06:38.045Z"
   },
   {
    "duration": 8,
    "start_time": "2021-07-07T17:06:38.088Z"
   },
   {
    "duration": 26,
    "start_time": "2021-07-07T17:06:38.098Z"
   },
   {
    "duration": 17,
    "start_time": "2021-07-07T17:06:38.126Z"
   },
   {
    "duration": 43,
    "start_time": "2021-07-07T17:06:38.144Z"
   },
   {
    "duration": 6,
    "start_time": "2021-07-07T17:06:38.188Z"
   },
   {
    "duration": 5,
    "start_time": "2021-07-07T17:06:38.195Z"
   },
   {
    "duration": 9,
    "start_time": "2021-07-07T17:06:38.201Z"
   },
   {
    "duration": 12,
    "start_time": "2021-07-07T17:06:38.212Z"
   },
   {
    "duration": 11,
    "start_time": "2021-07-07T17:06:38.226Z"
   },
   {
    "duration": 47,
    "start_time": "2021-07-07T17:06:38.239Z"
   },
   {
    "duration": 4,
    "start_time": "2021-07-07T17:06:38.288Z"
   },
   {
    "duration": 13,
    "start_time": "2021-07-07T17:06:38.293Z"
   },
   {
    "duration": 5,
    "start_time": "2021-07-07T17:06:38.309Z"
   },
   {
    "duration": 18,
    "start_time": "2021-07-07T17:06:38.325Z"
   },
   {
    "duration": 20,
    "start_time": "2021-07-07T17:07:02.805Z"
   },
   {
    "duration": 19,
    "start_time": "2021-07-07T17:07:08.527Z"
   },
   {
    "duration": 19,
    "start_time": "2021-07-07T17:07:12.758Z"
   },
   {
    "duration": 22,
    "start_time": "2021-07-07T17:07:17.497Z"
   },
   {
    "duration": 19,
    "start_time": "2021-07-07T17:07:19.645Z"
   },
   {
    "duration": 10,
    "start_time": "2021-07-07T17:07:34.239Z"
   },
   {
    "duration": 17,
    "start_time": "2021-07-07T17:07:54.144Z"
   },
   {
    "duration": 14,
    "start_time": "2021-07-07T17:08:14.357Z"
   },
   {
    "duration": 616,
    "start_time": "2021-07-07T17:08:45.254Z"
   },
   {
    "duration": 178,
    "start_time": "2021-07-07T17:08:45.872Z"
   },
   {
    "duration": 60,
    "start_time": "2021-07-07T17:08:46.054Z"
   },
   {
    "duration": 3,
    "start_time": "2021-07-07T17:08:46.116Z"
   },
   {
    "duration": 26,
    "start_time": "2021-07-07T17:08:46.121Z"
   },
   {
    "duration": 7,
    "start_time": "2021-07-07T17:08:46.149Z"
   },
   {
    "duration": 17,
    "start_time": "2021-07-07T17:08:46.158Z"
   },
   {
    "duration": 14,
    "start_time": "2021-07-07T17:08:46.176Z"
   },
   {
    "duration": 17,
    "start_time": "2021-07-07T17:08:46.193Z"
   },
   {
    "duration": 9,
    "start_time": "2021-07-07T17:08:46.211Z"
   },
   {
    "duration": 21,
    "start_time": "2021-07-07T17:08:46.221Z"
   },
   {
    "duration": 49,
    "start_time": "2021-07-07T17:08:46.244Z"
   },
   {
    "duration": 24,
    "start_time": "2021-07-07T17:08:46.295Z"
   },
   {
    "duration": 22,
    "start_time": "2021-07-07T17:08:46.321Z"
   },
   {
    "duration": 6,
    "start_time": "2021-07-07T17:08:46.345Z"
   },
   {
    "duration": 5,
    "start_time": "2021-07-07T17:08:46.353Z"
   },
   {
    "duration": 13,
    "start_time": "2021-07-07T17:08:46.386Z"
   },
   {
    "duration": 12,
    "start_time": "2021-07-07T17:08:46.402Z"
   },
   {
    "duration": 10,
    "start_time": "2021-07-07T17:08:46.415Z"
   },
   {
    "duration": 7,
    "start_time": "2021-07-07T17:08:46.427Z"
   },
   {
    "duration": 8,
    "start_time": "2021-07-07T17:08:46.435Z"
   },
   {
    "duration": 68,
    "start_time": "2021-07-07T17:08:46.446Z"
   },
   {
    "duration": 13,
    "start_time": "2021-07-07T17:08:46.516Z"
   },
   {
    "duration": 78,
    "start_time": "2021-07-07T17:08:46.530Z"
   },
   {
    "duration": 40,
    "start_time": "2021-07-07T17:09:08.185Z"
   },
   {
    "duration": 16,
    "start_time": "2021-07-07T17:09:19.324Z"
   },
   {
    "duration": 21,
    "start_time": "2021-07-07T17:09:23.290Z"
   },
   {
    "duration": 13,
    "start_time": "2021-07-07T17:09:54.812Z"
   },
   {
    "duration": 13,
    "start_time": "2021-07-07T17:10:02.039Z"
   },
   {
    "duration": 10,
    "start_time": "2021-07-07T17:10:29.632Z"
   },
   {
    "duration": 13,
    "start_time": "2021-07-07T17:10:52.372Z"
   },
   {
    "duration": 13,
    "start_time": "2021-07-07T17:11:17.270Z"
   },
   {
    "duration": 13,
    "start_time": "2021-07-07T17:14:59.284Z"
   },
   {
    "duration": 547,
    "start_time": "2021-07-07T17:18:52.403Z"
   },
   {
    "duration": 163,
    "start_time": "2021-07-07T17:18:52.952Z"
   },
   {
    "duration": 44,
    "start_time": "2021-07-07T17:18:53.117Z"
   },
   {
    "duration": 3,
    "start_time": "2021-07-07T17:18:53.162Z"
   },
   {
    "duration": 26,
    "start_time": "2021-07-07T17:18:53.167Z"
   },
   {
    "duration": 6,
    "start_time": "2021-07-07T17:18:53.195Z"
   },
   {
    "duration": 15,
    "start_time": "2021-07-07T17:18:53.203Z"
   },
   {
    "duration": 5,
    "start_time": "2021-07-07T17:18:53.220Z"
   },
   {
    "duration": 11,
    "start_time": "2021-07-07T17:18:53.228Z"
   },
   {
    "duration": 9,
    "start_time": "2021-07-07T17:18:53.241Z"
   },
   {
    "duration": 41,
    "start_time": "2021-07-07T17:18:53.252Z"
   },
   {
    "duration": 33,
    "start_time": "2021-07-07T17:18:53.295Z"
   },
   {
    "duration": 19,
    "start_time": "2021-07-07T17:18:53.330Z"
   },
   {
    "duration": 49,
    "start_time": "2021-07-07T17:18:53.350Z"
   },
   {
    "duration": 5,
    "start_time": "2021-07-07T17:18:53.401Z"
   },
   {
    "duration": 5,
    "start_time": "2021-07-07T17:18:53.408Z"
   },
   {
    "duration": 11,
    "start_time": "2021-07-07T17:18:53.414Z"
   },
   {
    "duration": 9,
    "start_time": "2021-07-07T17:18:53.427Z"
   },
   {
    "duration": 10,
    "start_time": "2021-07-07T17:18:53.437Z"
   },
   {
    "duration": 39,
    "start_time": "2021-07-07T17:18:53.448Z"
   },
   {
    "duration": 26,
    "start_time": "2021-07-07T17:18:55.799Z"
   },
   {
    "duration": 598,
    "start_time": "2021-07-07T17:20:17.862Z"
   },
   {
    "duration": 161,
    "start_time": "2021-07-07T17:20:18.462Z"
   },
   {
    "duration": 45,
    "start_time": "2021-07-07T17:20:18.626Z"
   },
   {
    "duration": 4,
    "start_time": "2021-07-07T17:20:18.673Z"
   },
   {
    "duration": 38,
    "start_time": "2021-07-07T17:20:26.877Z"
   },
   {
    "duration": 7,
    "start_time": "2021-07-07T17:20:37.405Z"
   },
   {
    "duration": 19,
    "start_time": "2021-07-07T17:20:51.534Z"
   },
   {
    "duration": 5,
    "start_time": "2021-07-07T17:20:57.228Z"
   },
   {
    "duration": 7,
    "start_time": "2021-07-07T17:21:08.235Z"
   },
   {
    "duration": 19,
    "start_time": "2021-07-07T17:21:42.158Z"
   },
   {
    "duration": 14,
    "start_time": "2021-07-07T17:21:50.225Z"
   },
   {
    "duration": 22,
    "start_time": "2021-07-07T17:22:54.104Z"
   },
   {
    "duration": 5,
    "start_time": "2021-07-07T17:22:56.371Z"
   },
   {
    "duration": 14,
    "start_time": "2021-07-07T17:22:58.316Z"
   },
   {
    "duration": 5,
    "start_time": "2021-07-07T17:22:58.493Z"
   },
   {
    "duration": 35,
    "start_time": "2021-07-07T17:22:59.666Z"
   },
   {
    "duration": 6,
    "start_time": "2021-07-07T17:23:02.410Z"
   },
   {
    "duration": 611,
    "start_time": "2021-07-07T17:24:59.664Z"
   },
   {
    "duration": 178,
    "start_time": "2021-07-07T17:25:01.945Z"
   },
   {
    "duration": 47,
    "start_time": "2021-07-07T17:25:02.125Z"
   },
   {
    "duration": 2,
    "start_time": "2021-07-07T17:25:07.903Z"
   },
   {
    "duration": 254,
    "start_time": "2021-07-07T17:25:08.232Z"
   },
   {
    "duration": 182,
    "start_time": "2021-07-07T17:25:08.671Z"
   },
   {
    "duration": 6,
    "start_time": "2021-07-07T17:25:13.104Z"
   },
   {
    "duration": 36,
    "start_time": "2021-07-07T17:25:13.662Z"
   },
   {
    "duration": 7,
    "start_time": "2021-07-07T17:25:14.528Z"
   },
   {
    "duration": 24,
    "start_time": "2021-07-07T17:25:27.982Z"
   },
   {
    "duration": 3,
    "start_time": "2021-07-07T17:25:48.982Z"
   },
   {
    "duration": 165,
    "start_time": "2021-07-07T17:25:48.987Z"
   },
   {
    "duration": 50,
    "start_time": "2021-07-07T17:25:49.154Z"
   },
   {
    "duration": 4,
    "start_time": "2021-07-07T17:25:49.206Z"
   },
   {
    "duration": 26,
    "start_time": "2021-07-07T17:25:49.212Z"
   },
   {
    "duration": 7,
    "start_time": "2021-07-07T17:25:49.240Z"
   },
   {
    "duration": 16,
    "start_time": "2021-07-07T17:25:49.249Z"
   },
   {
    "duration": 22,
    "start_time": "2021-07-07T17:25:49.266Z"
   },
   {
    "duration": 16,
    "start_time": "2021-07-07T17:25:49.291Z"
   },
   {
    "duration": 9,
    "start_time": "2021-07-07T17:25:49.309Z"
   },
   {
    "duration": 7,
    "start_time": "2021-07-07T17:25:49.319Z"
   },
   {
    "duration": 28,
    "start_time": "2021-07-07T17:25:49.328Z"
   },
   {
    "duration": 44,
    "start_time": "2021-07-07T17:25:49.357Z"
   },
   {
    "duration": 22,
    "start_time": "2021-07-07T17:25:49.403Z"
   },
   {
    "duration": 7,
    "start_time": "2021-07-07T17:25:49.427Z"
   },
   {
    "duration": 3,
    "start_time": "2021-07-07T17:25:49.436Z"
   },
   {
    "duration": 44,
    "start_time": "2021-07-07T17:25:49.441Z"
   },
   {
    "duration": 12,
    "start_time": "2021-07-07T17:25:49.488Z"
   },
   {
    "duration": 13,
    "start_time": "2021-07-07T17:25:49.502Z"
   },
   {
    "duration": 10,
    "start_time": "2021-07-07T17:25:49.516Z"
   },
   {
    "duration": 62,
    "start_time": "2021-07-07T17:25:49.527Z"
   },
   {
    "duration": 26,
    "start_time": "2021-07-07T17:26:51.809Z"
   },
   {
    "duration": 26,
    "start_time": "2021-07-07T17:26:55.759Z"
   },
   {
    "duration": 26,
    "start_time": "2021-07-07T17:27:04.501Z"
   },
   {
    "duration": 25,
    "start_time": "2021-07-07T17:28:24.859Z"
   },
   {
    "duration": 21,
    "start_time": "2021-07-07T17:28:55.250Z"
   },
   {
    "duration": 21,
    "start_time": "2021-07-07T17:28:58.885Z"
   },
   {
    "duration": 7,
    "start_time": "2021-07-07T17:45:40.972Z"
   },
   {
    "duration": 13,
    "start_time": "2021-07-07T17:45:42.529Z"
   },
   {
    "duration": 27,
    "start_time": "2021-07-07T17:45:51.026Z"
   },
   {
    "duration": 518,
    "start_time": "2021-07-07T17:46:15.532Z"
   },
   {
    "duration": 235,
    "start_time": "2021-07-07T17:46:16.053Z"
   },
   {
    "duration": 80,
    "start_time": "2021-07-07T17:46:16.292Z"
   },
   {
    "duration": 5,
    "start_time": "2021-07-07T17:46:16.373Z"
   },
   {
    "duration": 26,
    "start_time": "2021-07-07T17:46:16.380Z"
   },
   {
    "duration": 7,
    "start_time": "2021-07-07T17:46:16.408Z"
   },
   {
    "duration": 16,
    "start_time": "2021-07-07T17:46:16.418Z"
   },
   {
    "duration": 5,
    "start_time": "2021-07-07T17:46:16.436Z"
   },
   {
    "duration": 13,
    "start_time": "2021-07-07T17:46:16.442Z"
   },
   {
    "duration": 35,
    "start_time": "2021-07-07T17:46:16.456Z"
   },
   {
    "duration": 8,
    "start_time": "2021-07-07T17:46:16.493Z"
   },
   {
    "duration": 28,
    "start_time": "2021-07-07T17:46:16.502Z"
   },
   {
    "duration": 17,
    "start_time": "2021-07-07T17:46:16.532Z"
   },
   {
    "duration": 44,
    "start_time": "2021-07-07T17:46:16.551Z"
   },
   {
    "duration": 6,
    "start_time": "2021-07-07T17:46:16.597Z"
   },
   {
    "duration": 4,
    "start_time": "2021-07-07T17:46:16.605Z"
   },
   {
    "duration": 9,
    "start_time": "2021-07-07T17:46:16.610Z"
   },
   {
    "duration": 9,
    "start_time": "2021-07-07T17:46:16.621Z"
   },
   {
    "duration": 10,
    "start_time": "2021-07-07T17:46:16.632Z"
   },
   {
    "duration": 43,
    "start_time": "2021-07-07T17:46:16.644Z"
   },
   {
    "duration": 26,
    "start_time": "2021-07-07T17:46:16.689Z"
   },
   {
    "duration": 19,
    "start_time": "2021-07-07T17:46:16.718Z"
   },
   {
    "duration": 8,
    "start_time": "2021-07-07T17:46:16.738Z"
   },
   {
    "duration": 43,
    "start_time": "2021-07-07T17:46:16.747Z"
   },
   {
    "duration": 19,
    "start_time": "2021-07-07T17:46:16.791Z"
   },
   {
    "duration": 9,
    "start_time": "2021-07-07T17:46:16.812Z"
   },
   {
    "duration": 60,
    "start_time": "2021-07-07T17:46:16.822Z"
   },
   {
    "duration": -8,
    "start_time": "2021-07-07T17:46:16.892Z"
   },
   {
    "duration": 12,
    "start_time": "2021-07-07T17:48:47.707Z"
   },
   {
    "duration": 553,
    "start_time": "2021-07-07T18:10:09.350Z"
   },
   {
    "duration": 230,
    "start_time": "2021-07-07T18:10:09.905Z"
   },
   {
    "duration": 97,
    "start_time": "2021-07-07T18:10:10.137Z"
   },
   {
    "duration": 5,
    "start_time": "2021-07-07T18:10:10.236Z"
   },
   {
    "duration": 29,
    "start_time": "2021-07-07T18:10:10.242Z"
   },
   {
    "duration": 7,
    "start_time": "2021-07-07T18:10:10.272Z"
   },
   {
    "duration": 15,
    "start_time": "2021-07-07T18:10:10.281Z"
   },
   {
    "duration": 4,
    "start_time": "2021-07-07T18:10:10.299Z"
   },
   {
    "duration": 14,
    "start_time": "2021-07-07T18:10:10.305Z"
   },
   {
    "duration": 8,
    "start_time": "2021-07-07T18:10:10.321Z"
   },
   {
    "duration": 8,
    "start_time": "2021-07-07T18:10:10.331Z"
   },
   {
    "duration": 56,
    "start_time": "2021-07-07T18:10:10.341Z"
   },
   {
    "duration": 19,
    "start_time": "2021-07-07T18:10:10.399Z"
   },
   {
    "duration": 23,
    "start_time": "2021-07-07T18:10:10.419Z"
   },
   {
    "duration": 6,
    "start_time": "2021-07-07T18:10:10.444Z"
   },
   {
    "duration": 9,
    "start_time": "2021-07-07T18:10:10.451Z"
   },
   {
    "duration": 30,
    "start_time": "2021-07-07T18:10:10.462Z"
   },
   {
    "duration": 9,
    "start_time": "2021-07-07T18:10:10.494Z"
   },
   {
    "duration": 14,
    "start_time": "2021-07-07T18:10:10.505Z"
   },
   {
    "duration": 7,
    "start_time": "2021-07-07T18:10:10.521Z"
   },
   {
    "duration": 26,
    "start_time": "2021-07-07T18:10:10.530Z"
   },
   {
    "duration": 44,
    "start_time": "2021-07-07T18:10:10.558Z"
   },
   {
    "duration": 7,
    "start_time": "2021-07-07T18:10:10.605Z"
   },
   {
    "duration": 11,
    "start_time": "2021-07-07T18:10:10.614Z"
   },
   {
    "duration": 19,
    "start_time": "2021-07-07T18:10:10.626Z"
   },
   {
    "duration": 44,
    "start_time": "2021-07-07T18:10:10.646Z"
   },
   {
    "duration": 516,
    "start_time": "2021-07-07T18:14:00.826Z"
   },
   {
    "duration": 230,
    "start_time": "2021-07-07T18:14:01.344Z"
   },
   {
    "duration": 105,
    "start_time": "2021-07-07T18:14:01.576Z"
   },
   {
    "duration": 5,
    "start_time": "2021-07-07T18:14:01.683Z"
   },
   {
    "duration": 46,
    "start_time": "2021-07-07T18:14:01.690Z"
   },
   {
    "duration": 7,
    "start_time": "2021-07-07T18:14:01.738Z"
   },
   {
    "duration": 20,
    "start_time": "2021-07-07T18:14:01.747Z"
   },
   {
    "duration": 16,
    "start_time": "2021-07-07T18:14:01.769Z"
   },
   {
    "duration": 14,
    "start_time": "2021-07-07T18:14:01.787Z"
   },
   {
    "duration": 15,
    "start_time": "2021-07-07T18:14:01.803Z"
   },
   {
    "duration": 12,
    "start_time": "2021-07-07T18:14:01.820Z"
   },
   {
    "duration": 35,
    "start_time": "2021-07-07T18:14:01.833Z"
   },
   {
    "duration": 31,
    "start_time": "2021-07-07T18:14:01.869Z"
   },
   {
    "duration": 37,
    "start_time": "2021-07-07T18:14:01.902Z"
   },
   {
    "duration": 8,
    "start_time": "2021-07-07T18:14:01.942Z"
   },
   {
    "duration": 16,
    "start_time": "2021-07-07T18:14:01.952Z"
   },
   {
    "duration": 13,
    "start_time": "2021-07-07T18:14:01.970Z"
   },
   {
    "duration": 32,
    "start_time": "2021-07-07T18:14:01.985Z"
   },
   {
    "duration": 11,
    "start_time": "2021-07-07T18:14:02.019Z"
   },
   {
    "duration": 22,
    "start_time": "2021-07-07T18:14:02.031Z"
   },
   {
    "duration": 27,
    "start_time": "2021-07-07T18:14:02.055Z"
   },
   {
    "duration": 18,
    "start_time": "2021-07-07T18:14:02.084Z"
   },
   {
    "duration": 18,
    "start_time": "2021-07-07T18:14:02.106Z"
   },
   {
    "duration": 11,
    "start_time": "2021-07-07T18:14:02.126Z"
   },
   {
    "duration": 21,
    "start_time": "2021-07-07T18:14:02.138Z"
   },
   {
    "duration": 32,
    "start_time": "2021-07-07T18:14:02.161Z"
   },
   {
    "duration": 28,
    "start_time": "2021-07-07T18:14:44.295Z"
   },
   {
    "duration": 6,
    "start_time": "2021-07-07T18:15:05.834Z"
   },
   {
    "duration": 511,
    "start_time": "2021-07-07T18:15:41.541Z"
   },
   {
    "duration": 183,
    "start_time": "2021-07-07T18:15:42.054Z"
   },
   {
    "duration": 50,
    "start_time": "2021-07-07T18:15:42.239Z"
   },
   {
    "duration": 5,
    "start_time": "2021-07-07T18:15:42.291Z"
   },
   {
    "duration": 48,
    "start_time": "2021-07-07T18:15:42.297Z"
   },
   {
    "duration": 8,
    "start_time": "2021-07-07T18:15:42.346Z"
   },
   {
    "duration": 17,
    "start_time": "2021-07-07T18:15:42.356Z"
   },
   {
    "duration": 15,
    "start_time": "2021-07-07T18:15:42.375Z"
   },
   {
    "duration": 12,
    "start_time": "2021-07-07T18:15:42.392Z"
   },
   {
    "duration": 7,
    "start_time": "2021-07-07T18:15:42.406Z"
   },
   {
    "duration": 7,
    "start_time": "2021-07-07T18:15:42.415Z"
   },
   {
    "duration": 29,
    "start_time": "2021-07-07T18:15:42.423Z"
   },
   {
    "duration": 43,
    "start_time": "2021-07-07T18:15:42.453Z"
   },
   {
    "duration": 18,
    "start_time": "2021-07-07T18:15:42.497Z"
   },
   {
    "duration": 6,
    "start_time": "2021-07-07T18:15:42.516Z"
   },
   {
    "duration": 3,
    "start_time": "2021-07-07T18:15:42.523Z"
   },
   {
    "duration": 18,
    "start_time": "2021-07-07T18:15:42.528Z"
   },
   {
    "duration": 10,
    "start_time": "2021-07-07T18:15:42.547Z"
   },
   {
    "duration": 36,
    "start_time": "2021-07-07T18:15:42.559Z"
   },
   {
    "duration": 8,
    "start_time": "2021-07-07T18:15:42.597Z"
   },
   {
    "duration": 28,
    "start_time": "2021-07-07T18:15:42.606Z"
   },
   {
    "duration": 52,
    "start_time": "2021-07-07T18:15:42.635Z"
   },
   {
    "duration": 7,
    "start_time": "2021-07-07T18:15:42.690Z"
   },
   {
    "duration": 10,
    "start_time": "2021-07-07T18:15:42.699Z"
   },
   {
    "duration": 19,
    "start_time": "2021-07-07T18:15:42.711Z"
   },
   {
    "duration": 9,
    "start_time": "2021-07-07T18:15:42.732Z"
   },
   {
    "duration": 5,
    "start_time": "2021-07-07T18:15:42.743Z"
   },
   {
    "duration": 1450,
    "start_time": "2021-07-07T18:15:51.984Z"
   },
   {
    "duration": 161,
    "start_time": "2021-07-07T18:15:53.435Z"
   },
   {
    "duration": 124,
    "start_time": "2021-07-07T18:15:53.598Z"
   },
   {
    "duration": 5,
    "start_time": "2021-07-07T18:15:53.724Z"
   },
   {
    "duration": 34,
    "start_time": "2021-07-07T18:15:53.730Z"
   },
   {
    "duration": 7,
    "start_time": "2021-07-07T18:15:53.765Z"
   },
   {
    "duration": 15,
    "start_time": "2021-07-07T18:15:53.773Z"
   },
   {
    "duration": 5,
    "start_time": "2021-07-07T18:15:53.791Z"
   },
   {
    "duration": 19,
    "start_time": "2021-07-07T18:15:53.798Z"
   },
   {
    "duration": 9,
    "start_time": "2021-07-07T18:15:53.818Z"
   },
   {
    "duration": 19,
    "start_time": "2021-07-07T18:15:53.828Z"
   },
   {
    "duration": 27,
    "start_time": "2021-07-07T18:15:53.848Z"
   },
   {
    "duration": 16,
    "start_time": "2021-07-07T18:15:53.884Z"
   },
   {
    "duration": 29,
    "start_time": "2021-07-07T18:15:53.901Z"
   },
   {
    "duration": 5,
    "start_time": "2021-07-07T18:15:53.932Z"
   },
   {
    "duration": 15,
    "start_time": "2021-07-07T18:15:53.939Z"
   },
   {
    "duration": 13,
    "start_time": "2021-07-07T18:15:53.956Z"
   },
   {
    "duration": 20,
    "start_time": "2021-07-07T18:15:53.971Z"
   },
   {
    "duration": 14,
    "start_time": "2021-07-07T18:15:53.992Z"
   },
   {
    "duration": 9,
    "start_time": "2021-07-07T18:15:54.009Z"
   },
   {
    "duration": 28,
    "start_time": "2021-07-07T18:15:54.020Z"
   },
   {
    "duration": 50,
    "start_time": "2021-07-07T18:15:54.051Z"
   },
   {
    "duration": 8,
    "start_time": "2021-07-07T18:15:54.105Z"
   },
   {
    "duration": 11,
    "start_time": "2021-07-07T18:15:54.115Z"
   },
   {
    "duration": 20,
    "start_time": "2021-07-07T18:15:54.128Z"
   },
   {
    "duration": 13,
    "start_time": "2021-07-07T18:15:54.184Z"
   },
   {
    "duration": 7,
    "start_time": "2021-07-07T18:15:54.199Z"
   },
   {
    "duration": 7,
    "start_time": "2021-07-07T18:17:08.042Z"
   },
   {
    "duration": 8,
    "start_time": "2021-07-07T18:17:21.008Z"
   },
   {
    "duration": 7,
    "start_time": "2021-07-07T18:17:29.003Z"
   },
   {
    "duration": 8,
    "start_time": "2021-07-07T18:17:32.492Z"
   },
   {
    "duration": 9,
    "start_time": "2021-07-07T18:17:41.758Z"
   },
   {
    "duration": 255,
    "start_time": "2021-07-07T18:20:20.897Z"
   },
   {
    "duration": 173,
    "start_time": "2021-07-07T18:20:26.636Z"
   },
   {
    "duration": 7,
    "start_time": "2021-07-07T18:21:47.164Z"
   },
   {
    "duration": 254,
    "start_time": "2021-07-07T18:23:08.703Z"
   },
   {
    "duration": 21,
    "start_time": "2021-07-07T18:23:22.506Z"
   },
   {
    "duration": 315,
    "start_time": "2021-07-07T18:25:54.801Z"
   },
   {
    "duration": 34,
    "start_time": "2021-07-07T18:26:51.817Z"
   },
   {
    "duration": 327,
    "start_time": "2021-07-07T18:26:56.147Z"
   },
   {
    "duration": 342,
    "start_time": "2021-07-07T18:27:15.887Z"
   },
   {
    "duration": 302,
    "start_time": "2021-07-07T18:28:18.569Z"
   },
   {
    "duration": 226,
    "start_time": "2021-07-07T18:29:20.879Z"
   },
   {
    "duration": 207,
    "start_time": "2021-07-07T18:29:58.114Z"
   },
   {
    "duration": 140,
    "start_time": "2021-07-07T18:32:04.372Z"
   },
   {
    "duration": 158,
    "start_time": "2021-07-07T18:32:32.508Z"
   },
   {
    "duration": 145,
    "start_time": "2021-07-07T18:32:41.365Z"
   },
   {
    "duration": 132,
    "start_time": "2021-07-07T18:32:45.199Z"
   },
   {
    "duration": 11,
    "start_time": "2021-07-07T18:35:24.679Z"
   },
   {
    "duration": 268,
    "start_time": "2021-07-07T18:36:16.145Z"
   },
   {
    "duration": 227,
    "start_time": "2021-07-07T18:37:04.918Z"
   },
   {
    "duration": 3,
    "start_time": "2021-07-07T18:37:33.012Z"
   },
   {
    "duration": 671,
    "start_time": "2021-07-07T18:37:38.295Z"
   },
   {
    "duration": 54,
    "start_time": "2021-07-07T18:37:53.406Z"
   },
   {
    "duration": 631,
    "start_time": "2021-07-07T18:37:56.463Z"
   },
   {
    "duration": 19,
    "start_time": "2021-07-07T18:39:40.535Z"
   },
   {
    "duration": 20,
    "start_time": "2021-07-07T18:40:12.236Z"
   },
   {
    "duration": 633,
    "start_time": "2021-07-07T18:42:00.398Z"
   },
   {
    "duration": 218,
    "start_time": "2021-07-07T18:42:01.033Z"
   },
   {
    "duration": 49,
    "start_time": "2021-07-07T18:42:01.253Z"
   },
   {
    "duration": 5,
    "start_time": "2021-07-07T18:42:01.303Z"
   },
   {
    "duration": 27,
    "start_time": "2021-07-07T18:42:01.310Z"
   },
   {
    "duration": 8,
    "start_time": "2021-07-07T18:42:01.339Z"
   },
   {
    "duration": 20,
    "start_time": "2021-07-07T18:42:01.348Z"
   },
   {
    "duration": 6,
    "start_time": "2021-07-07T18:42:01.386Z"
   },
   {
    "duration": 16,
    "start_time": "2021-07-07T18:42:01.394Z"
   },
   {
    "duration": 9,
    "start_time": "2021-07-07T18:42:01.411Z"
   },
   {
    "duration": 11,
    "start_time": "2021-07-07T18:42:01.421Z"
   },
   {
    "duration": 31,
    "start_time": "2021-07-07T18:42:01.434Z"
   },
   {
    "duration": 18,
    "start_time": "2021-07-07T18:42:01.485Z"
   },
   {
    "duration": 23,
    "start_time": "2021-07-07T18:42:01.505Z"
   },
   {
    "duration": 6,
    "start_time": "2021-07-07T18:42:01.530Z"
   },
   {
    "duration": 10,
    "start_time": "2021-07-07T18:42:01.538Z"
   },
   {
    "duration": 13,
    "start_time": "2021-07-07T18:42:01.550Z"
   },
   {
    "duration": 24,
    "start_time": "2021-07-07T18:42:01.564Z"
   },
   {
    "duration": 20,
    "start_time": "2021-07-07T18:42:01.590Z"
   },
   {
    "duration": 8,
    "start_time": "2021-07-07T18:42:01.611Z"
   },
   {
    "duration": 31,
    "start_time": "2021-07-07T18:42:01.620Z"
   },
   {
    "duration": 39,
    "start_time": "2021-07-07T18:42:01.653Z"
   },
   {
    "duration": 8,
    "start_time": "2021-07-07T18:42:01.696Z"
   },
   {
    "duration": 13,
    "start_time": "2021-07-07T18:42:01.705Z"
   },
   {
    "duration": 20,
    "start_time": "2021-07-07T18:42:01.720Z"
   },
   {
    "duration": 12,
    "start_time": "2021-07-07T18:42:01.741Z"
   },
   {
    "duration": 35,
    "start_time": "2021-07-07T18:42:01.755Z"
   },
   {
    "duration": 14,
    "start_time": "2021-07-07T18:42:01.792Z"
   },
   {
    "duration": 188,
    "start_time": "2021-07-07T18:42:01.808Z"
   },
   {
    "duration": 19,
    "start_time": "2021-07-07T18:42:01.998Z"
   },
   {
    "duration": 175,
    "start_time": "2021-07-07T18:42:02.019Z"
   },
   {
    "duration": 134,
    "start_time": "2021-07-07T18:42:02.196Z"
   },
   {
    "duration": 10,
    "start_time": "2021-07-07T18:42:02.331Z"
   },
   {
    "duration": 19,
    "start_time": "2021-07-07T18:42:02.343Z"
   },
   {
    "duration": 628,
    "start_time": "2021-07-07T18:46:30.701Z"
   },
   {
    "duration": 183,
    "start_time": "2021-07-07T18:46:31.331Z"
   },
   {
    "duration": 48,
    "start_time": "2021-07-07T18:46:31.516Z"
   },
   {
    "duration": 5,
    "start_time": "2021-07-07T18:46:31.566Z"
   },
   {
    "duration": 28,
    "start_time": "2021-07-07T18:46:31.572Z"
   },
   {
    "duration": 8,
    "start_time": "2021-07-07T18:46:31.602Z"
   },
   {
    "duration": 19,
    "start_time": "2021-07-07T18:46:31.611Z"
   },
   {
    "duration": 6,
    "start_time": "2021-07-07T18:46:31.633Z"
   },
   {
    "duration": 17,
    "start_time": "2021-07-07T18:46:31.642Z"
   },
   {
    "duration": 10,
    "start_time": "2021-07-07T18:46:31.684Z"
   },
   {
    "duration": 9,
    "start_time": "2021-07-07T18:46:31.695Z"
   },
   {
    "duration": 28,
    "start_time": "2021-07-07T18:46:31.705Z"
   },
   {
    "duration": 18,
    "start_time": "2021-07-07T18:46:31.735Z"
   },
   {
    "duration": 48,
    "start_time": "2021-07-07T18:46:31.755Z"
   },
   {
    "duration": 6,
    "start_time": "2021-07-07T18:46:31.804Z"
   },
   {
    "duration": 4,
    "start_time": "2021-07-07T18:46:31.812Z"
   },
   {
    "duration": 9,
    "start_time": "2021-07-07T18:46:31.817Z"
   },
   {
    "duration": 10,
    "start_time": "2021-07-07T18:46:31.827Z"
   },
   {
    "duration": 12,
    "start_time": "2021-07-07T18:46:31.838Z"
   },
   {
    "duration": 39,
    "start_time": "2021-07-07T18:46:31.851Z"
   },
   {
    "duration": 24,
    "start_time": "2021-07-07T18:46:31.892Z"
   },
   {
    "duration": 15,
    "start_time": "2021-07-07T18:46:31.918Z"
   },
   {
    "duration": 7,
    "start_time": "2021-07-07T18:46:31.936Z"
   },
   {
    "duration": 8,
    "start_time": "2021-07-07T18:46:31.944Z"
   },
   {
    "duration": 19,
    "start_time": "2021-07-07T18:46:31.984Z"
   },
   {
    "duration": 10,
    "start_time": "2021-07-07T18:46:32.004Z"
   },
   {
    "duration": 5,
    "start_time": "2021-07-07T18:46:32.016Z"
   },
   {
    "duration": 9,
    "start_time": "2021-07-07T18:46:32.023Z"
   },
   {
    "duration": 199,
    "start_time": "2021-07-07T18:46:32.033Z"
   },
   {
    "duration": 19,
    "start_time": "2021-07-07T18:46:32.234Z"
   },
   {
    "duration": 159,
    "start_time": "2021-07-07T18:46:32.255Z"
   },
   {
    "duration": 134,
    "start_time": "2021-07-07T18:46:32.416Z"
   },
   {
    "duration": 10,
    "start_time": "2021-07-07T18:46:32.552Z"
   },
   {
    "duration": 34,
    "start_time": "2021-07-07T18:46:32.563Z"
   },
   {
    "duration": 1039,
    "start_time": "2021-07-08T08:41:09.419Z"
   },
   {
    "duration": 333,
    "start_time": "2021-07-08T08:41:10.459Z"
   },
   {
    "duration": 173,
    "start_time": "2021-07-08T08:41:10.794Z"
   },
   {
    "duration": 5,
    "start_time": "2021-07-08T08:41:10.968Z"
   },
   {
    "duration": 25,
    "start_time": "2021-07-08T08:41:10.975Z"
   },
   {
    "duration": 9,
    "start_time": "2021-07-08T08:41:11.002Z"
   },
   {
    "duration": 18,
    "start_time": "2021-07-08T08:41:11.013Z"
   },
   {
    "duration": 6,
    "start_time": "2021-07-08T08:41:11.033Z"
   },
   {
    "duration": 44,
    "start_time": "2021-07-08T08:41:11.042Z"
   },
   {
    "duration": 10,
    "start_time": "2021-07-08T08:41:11.088Z"
   },
   {
    "duration": 9,
    "start_time": "2021-07-08T08:41:11.100Z"
   },
   {
    "duration": 27,
    "start_time": "2021-07-08T08:41:11.111Z"
   },
   {
    "duration": 46,
    "start_time": "2021-07-08T08:41:11.140Z"
   },
   {
    "duration": 17,
    "start_time": "2021-07-08T08:41:11.187Z"
   },
   {
    "duration": 6,
    "start_time": "2021-07-08T08:41:11.206Z"
   },
   {
    "duration": 5,
    "start_time": "2021-07-08T08:41:11.213Z"
   },
   {
    "duration": 10,
    "start_time": "2021-07-08T08:41:11.219Z"
   },
   {
    "duration": 9,
    "start_time": "2021-07-08T08:41:11.230Z"
   },
   {
    "duration": 45,
    "start_time": "2021-07-08T08:41:11.241Z"
   },
   {
    "duration": 7,
    "start_time": "2021-07-08T08:41:11.287Z"
   },
   {
    "duration": 24,
    "start_time": "2021-07-08T08:41:11.296Z"
   },
   {
    "duration": 16,
    "start_time": "2021-07-08T08:41:11.322Z"
   },
   {
    "duration": 7,
    "start_time": "2021-07-08T08:41:11.341Z"
   },
   {
    "duration": 41,
    "start_time": "2021-07-08T08:41:11.349Z"
   },
   {
    "duration": 17,
    "start_time": "2021-07-08T08:41:11.391Z"
   },
   {
    "duration": 9,
    "start_time": "2021-07-08T08:41:11.410Z"
   },
   {
    "duration": 5,
    "start_time": "2021-07-08T08:41:11.421Z"
   },
   {
    "duration": 6,
    "start_time": "2021-07-08T08:41:11.428Z"
   },
   {
    "duration": 198,
    "start_time": "2021-07-08T08:41:11.435Z"
   },
   {
    "duration": 18,
    "start_time": "2021-07-08T08:41:11.635Z"
   },
   {
    "duration": 155,
    "start_time": "2021-07-08T08:41:11.655Z"
   },
   {
    "duration": 138,
    "start_time": "2021-07-08T08:41:11.811Z"
   },
   {
    "duration": 10,
    "start_time": "2021-07-08T08:41:11.950Z"
   },
   {
    "duration": 29,
    "start_time": "2021-07-08T08:41:11.961Z"
   },
   {
    "duration": 171,
    "start_time": "2021-07-08T08:47:44.522Z"
   },
   {
    "duration": 124,
    "start_time": "2021-07-08T08:47:46.872Z"
   },
   {
    "duration": 191,
    "start_time": "2021-07-08T08:47:58.148Z"
   },
   {
    "duration": 191,
    "start_time": "2021-07-08T08:48:07.412Z"
   },
   {
    "duration": 261,
    "start_time": "2021-07-08T08:48:10.385Z"
   },
   {
    "duration": 255,
    "start_time": "2021-07-08T08:48:14.494Z"
   },
   {
    "duration": 219,
    "start_time": "2021-07-08T08:48:22.752Z"
   },
   {
    "duration": 173,
    "start_time": "2021-07-08T08:49:06.395Z"
   },
   {
    "duration": 180,
    "start_time": "2021-07-08T08:49:21.011Z"
   },
   {
    "duration": 6,
    "start_time": "2021-07-08T08:50:31.697Z"
   },
   {
    "duration": 10,
    "start_time": "2021-07-08T08:50:47.394Z"
   },
   {
    "duration": 11,
    "start_time": "2021-07-08T08:53:49.332Z"
   },
   {
    "duration": 171,
    "start_time": "2021-07-08T08:54:28.408Z"
   },
   {
    "duration": 636,
    "start_time": "2021-07-08T09:02:48.385Z"
   },
   {
    "duration": 227,
    "start_time": "2021-07-08T09:02:49.023Z"
   },
   {
    "duration": 104,
    "start_time": "2021-07-08T09:02:49.252Z"
   },
   {
    "duration": 5,
    "start_time": "2021-07-08T09:02:49.358Z"
   },
   {
    "duration": 27,
    "start_time": "2021-07-08T09:02:49.365Z"
   },
   {
    "duration": 8,
    "start_time": "2021-07-08T09:02:49.394Z"
   },
   {
    "duration": 18,
    "start_time": "2021-07-08T09:02:49.404Z"
   },
   {
    "duration": 6,
    "start_time": "2021-07-08T09:02:49.424Z"
   },
   {
    "duration": 11,
    "start_time": "2021-07-08T09:02:49.433Z"
   },
   {
    "duration": 13,
    "start_time": "2021-07-08T09:02:49.485Z"
   },
   {
    "duration": 9,
    "start_time": "2021-07-08T09:02:49.500Z"
   },
   {
    "duration": 38,
    "start_time": "2021-07-08T09:02:49.511Z"
   },
   {
    "duration": 42,
    "start_time": "2021-07-08T09:02:49.551Z"
   },
   {
    "duration": 21,
    "start_time": "2021-07-08T09:02:49.594Z"
   },
   {
    "duration": 6,
    "start_time": "2021-07-08T09:02:49.616Z"
   },
   {
    "duration": 3,
    "start_time": "2021-07-08T09:02:49.623Z"
   },
   {
    "duration": 9,
    "start_time": "2021-07-08T09:02:49.628Z"
   },
   {
    "duration": 52,
    "start_time": "2021-07-08T09:02:49.638Z"
   },
   {
    "duration": 11,
    "start_time": "2021-07-08T09:02:49.692Z"
   },
   {
    "duration": 8,
    "start_time": "2021-07-08T09:02:49.704Z"
   },
   {
    "duration": 27,
    "start_time": "2021-07-08T09:02:49.713Z"
   },
   {
    "duration": 59,
    "start_time": "2021-07-08T09:02:49.741Z"
   },
   {
    "duration": 8,
    "start_time": "2021-07-08T09:02:49.803Z"
   },
   {
    "duration": 14,
    "start_time": "2021-07-08T09:02:49.813Z"
   },
   {
    "duration": 20,
    "start_time": "2021-07-08T09:02:49.829Z"
   },
   {
    "duration": 44,
    "start_time": "2021-07-08T09:02:49.851Z"
   },
   {
    "duration": 14,
    "start_time": "2021-07-08T09:02:49.896Z"
   },
   {
    "duration": 221,
    "start_time": "2021-07-08T09:02:49.912Z"
   },
   {
    "duration": 6,
    "start_time": "2021-07-08T09:02:50.134Z"
   },
   {
    "duration": 206,
    "start_time": "2021-07-08T09:02:50.142Z"
   },
   {
    "duration": 19,
    "start_time": "2021-07-08T09:02:50.350Z"
   },
   {
    "duration": 21,
    "start_time": "2021-07-08T09:02:50.370Z"
   },
   {
    "duration": 20,
    "start_time": "2021-07-08T09:02:50.393Z"
   },
   {
    "duration": 5,
    "start_time": "2021-07-08T09:02:50.414Z"
   },
   {
    "duration": 5,
    "start_time": "2021-07-08T09:03:34.173Z"
   },
   {
    "duration": 6,
    "start_time": "2021-07-08T09:04:49.062Z"
   },
   {
    "duration": 9,
    "start_time": "2021-07-08T09:04:50.118Z"
   },
   {
    "duration": 14,
    "start_time": "2021-07-08T09:04:58.512Z"
   },
   {
    "duration": 9,
    "start_time": "2021-07-08T09:05:10.988Z"
   },
   {
    "duration": 11,
    "start_time": "2021-07-08T09:05:11.743Z"
   },
   {
    "duration": 7,
    "start_time": "2021-07-08T09:05:25.677Z"
   },
   {
    "duration": 13,
    "start_time": "2021-07-08T09:05:47.189Z"
   },
   {
    "duration": 13,
    "start_time": "2021-07-08T09:05:54.755Z"
   },
   {
    "duration": 4,
    "start_time": "2021-07-08T09:06:29.189Z"
   },
   {
    "duration": 244,
    "start_time": "2021-07-08T09:06:29.195Z"
   },
   {
    "duration": 91,
    "start_time": "2021-07-08T09:06:29.441Z"
   },
   {
    "duration": 4,
    "start_time": "2021-07-08T09:06:29.534Z"
   },
   {
    "duration": 28,
    "start_time": "2021-07-08T09:06:29.540Z"
   },
   {
    "duration": 6,
    "start_time": "2021-07-08T09:06:29.570Z"
   },
   {
    "duration": 18,
    "start_time": "2021-07-08T09:06:29.578Z"
   },
   {
    "duration": 5,
    "start_time": "2021-07-08T09:06:29.597Z"
   },
   {
    "duration": 13,
    "start_time": "2021-07-08T09:06:29.605Z"
   },
   {
    "duration": 8,
    "start_time": "2021-07-08T09:06:29.620Z"
   },
   {
    "duration": 7,
    "start_time": "2021-07-08T09:06:29.630Z"
   },
   {
    "duration": 63,
    "start_time": "2021-07-08T09:06:29.639Z"
   },
   {
    "duration": 17,
    "start_time": "2021-07-08T09:06:29.704Z"
   },
   {
    "duration": 20,
    "start_time": "2021-07-08T09:06:29.723Z"
   },
   {
    "duration": 6,
    "start_time": "2021-07-08T09:06:29.745Z"
   },
   {
    "duration": 3,
    "start_time": "2021-07-08T09:06:29.752Z"
   },
   {
    "duration": 7,
    "start_time": "2021-07-08T09:06:29.785Z"
   },
   {
    "duration": 11,
    "start_time": "2021-07-08T09:06:29.794Z"
   },
   {
    "duration": 15,
    "start_time": "2021-07-08T09:06:29.807Z"
   },
   {
    "duration": 8,
    "start_time": "2021-07-08T09:06:29.823Z"
   },
   {
    "duration": 70,
    "start_time": "2021-07-08T09:06:29.832Z"
   },
   {
    "duration": 17,
    "start_time": "2021-07-08T09:06:29.903Z"
   },
   {
    "duration": 9,
    "start_time": "2021-07-08T09:06:29.921Z"
   },
   {
    "duration": 9,
    "start_time": "2021-07-08T09:06:29.932Z"
   },
   {
    "duration": 57,
    "start_time": "2021-07-08T09:06:29.942Z"
   },
   {
    "duration": 11,
    "start_time": "2021-07-08T09:06:30.001Z"
   },
   {
    "duration": 19,
    "start_time": "2021-07-08T09:06:30.016Z"
   },
   {
    "duration": 217,
    "start_time": "2021-07-08T09:06:30.037Z"
   },
   {
    "duration": 6,
    "start_time": "2021-07-08T09:06:30.255Z"
   },
   {
    "duration": 205,
    "start_time": "2021-07-08T09:06:30.263Z"
   },
   {
    "duration": 27,
    "start_time": "2021-07-08T09:06:30.470Z"
   },
   {
    "duration": 11,
    "start_time": "2021-07-08T09:06:30.500Z"
   },
   {
    "duration": 31,
    "start_time": "2021-07-08T09:06:30.513Z"
   },
   {
    "duration": 18,
    "start_time": "2021-07-08T09:06:30.546Z"
   },
   {
    "duration": 11,
    "start_time": "2021-07-08T09:06:30.566Z"
   },
   {
    "duration": 19,
    "start_time": "2021-07-08T09:06:30.579Z"
   },
   {
    "duration": 20,
    "start_time": "2021-07-08T09:06:49.466Z"
   },
   {
    "duration": 9,
    "start_time": "2021-07-08T09:06:51.994Z"
   },
   {
    "duration": 20,
    "start_time": "2021-07-08T09:06:52.273Z"
   },
   {
    "duration": 246,
    "start_time": "2021-07-08T09:10:21.272Z"
   },
   {
    "duration": 84,
    "start_time": "2021-07-08T09:10:21.436Z"
   },
   {
    "duration": 7,
    "start_time": "2021-07-08T09:10:37.608Z"
   },
   {
    "duration": 189,
    "start_time": "2021-07-08T09:10:38.573Z"
   },
   {
    "duration": 185,
    "start_time": "2021-07-08T09:10:53.181Z"
   },
   {
    "duration": 11,
    "start_time": "2021-07-08T09:10:59.549Z"
   },
   {
    "duration": 42,
    "start_time": "2021-07-08T09:10:59.709Z"
   },
   {
    "duration": 12,
    "start_time": "2021-07-08T09:11:02.857Z"
   },
   {
    "duration": 28,
    "start_time": "2021-07-08T09:11:10.062Z"
   },
   {
    "duration": 249,
    "start_time": "2021-07-08T09:11:37.388Z"
   },
   {
    "duration": 232,
    "start_time": "2021-07-08T09:11:49.485Z"
   },
   {
    "duration": 453,
    "start_time": "2021-07-08T09:12:01.546Z"
   },
   {
    "duration": 440,
    "start_time": "2021-07-08T09:12:12.347Z"
   },
   {
    "duration": 213,
    "start_time": "2021-07-08T09:13:32.196Z"
   },
   {
    "duration": 172,
    "start_time": "2021-07-08T09:14:07.400Z"
   },
   {
    "duration": 185,
    "start_time": "2021-07-08T09:14:14.905Z"
   },
   {
    "duration": 209,
    "start_time": "2021-07-08T09:14:40.109Z"
   },
   {
    "duration": 201,
    "start_time": "2021-07-08T09:14:54.506Z"
   },
   {
    "duration": 622,
    "start_time": "2021-07-08T09:18:14.497Z"
   },
   {
    "duration": 220,
    "start_time": "2021-07-08T09:18:15.121Z"
   },
   {
    "duration": 79,
    "start_time": "2021-07-08T09:18:15.343Z"
   },
   {
    "duration": 4,
    "start_time": "2021-07-08T09:18:15.425Z"
   },
   {
    "duration": 24,
    "start_time": "2021-07-08T09:18:15.431Z"
   },
   {
    "duration": 8,
    "start_time": "2021-07-08T09:18:15.457Z"
   },
   {
    "duration": 16,
    "start_time": "2021-07-08T09:18:15.466Z"
   },
   {
    "duration": 5,
    "start_time": "2021-07-08T09:18:15.484Z"
   },
   {
    "duration": 10,
    "start_time": "2021-07-08T09:18:15.493Z"
   },
   {
    "duration": 8,
    "start_time": "2021-07-08T09:18:15.504Z"
   },
   {
    "duration": 7,
    "start_time": "2021-07-08T09:18:15.513Z"
   },
   {
    "duration": 26,
    "start_time": "2021-07-08T09:18:15.522Z"
   },
   {
    "duration": 49,
    "start_time": "2021-07-08T09:18:15.550Z"
   },
   {
    "duration": 21,
    "start_time": "2021-07-08T09:18:15.601Z"
   },
   {
    "duration": 8,
    "start_time": "2021-07-08T09:18:15.624Z"
   },
   {
    "duration": 3,
    "start_time": "2021-07-08T09:18:15.634Z"
   },
   {
    "duration": 8,
    "start_time": "2021-07-08T09:18:15.639Z"
   },
   {
    "duration": 45,
    "start_time": "2021-07-08T09:18:15.649Z"
   },
   {
    "duration": 13,
    "start_time": "2021-07-08T09:18:15.696Z"
   },
   {
    "duration": 10,
    "start_time": "2021-07-08T09:18:15.711Z"
   },
   {
    "duration": 64,
    "start_time": "2021-07-08T09:18:15.722Z"
   },
   {
    "duration": 19,
    "start_time": "2021-07-08T09:18:15.788Z"
   },
   {
    "duration": 9,
    "start_time": "2021-07-08T09:18:15.809Z"
   },
   {
    "duration": 9,
    "start_time": "2021-07-08T09:18:15.820Z"
   },
   {
    "duration": 18,
    "start_time": "2021-07-08T09:18:15.831Z"
   },
   {
    "duration": 43,
    "start_time": "2021-07-08T09:18:15.851Z"
   },
   {
    "duration": 12,
    "start_time": "2021-07-08T09:18:15.897Z"
   },
   {
    "duration": 219,
    "start_time": "2021-07-08T09:18:15.911Z"
   },
   {
    "duration": 8,
    "start_time": "2021-07-08T09:18:16.132Z"
   },
   {
    "duration": 199,
    "start_time": "2021-07-08T09:18:16.141Z"
   },
   {
    "duration": 18,
    "start_time": "2021-07-08T09:18:16.341Z"
   },
   {
    "duration": 24,
    "start_time": "2021-07-08T09:18:16.361Z"
   },
   {
    "duration": 24,
    "start_time": "2021-07-08T09:18:16.387Z"
   },
   {
    "duration": 211,
    "start_time": "2021-07-08T09:18:16.413Z"
   },
   {
    "duration": 18,
    "start_time": "2021-07-08T09:18:16.626Z"
   },
   {
    "duration": 596,
    "start_time": "2021-07-08T10:06:33.623Z"
   },
   {
    "duration": 181,
    "start_time": "2021-07-08T10:06:34.221Z"
   },
   {
    "duration": 176,
    "start_time": "2021-07-08T10:06:34.635Z"
   },
   {
    "duration": 239,
    "start_time": "2021-07-08T10:06:55.572Z"
   },
   {
    "duration": 6,
    "start_time": "2021-07-08T10:06:57.687Z"
   },
   {
    "duration": 4,
    "start_time": "2021-07-08T10:07:03.956Z"
   },
   {
    "duration": 4,
    "start_time": "2021-07-08T10:07:10.376Z"
   },
   {
    "duration": 4,
    "start_time": "2021-07-08T10:17:19.889Z"
   },
   {
    "duration": 3,
    "start_time": "2021-07-08T10:19:19.407Z"
   },
   {
    "duration": 197,
    "start_time": "2021-07-08T10:19:19.412Z"
   },
   {
    "duration": 127,
    "start_time": "2021-07-08T10:19:19.611Z"
   },
   {
    "duration": 4,
    "start_time": "2021-07-08T10:19:19.740Z"
   },
   {
    "duration": 27,
    "start_time": "2021-07-08T10:19:19.746Z"
   },
   {
    "duration": 7,
    "start_time": "2021-07-08T10:19:19.775Z"
   },
   {
    "duration": 30,
    "start_time": "2021-07-08T10:19:19.784Z"
   },
   {
    "duration": 7,
    "start_time": "2021-07-08T10:19:19.817Z"
   },
   {
    "duration": 26,
    "start_time": "2021-07-08T10:19:19.826Z"
   },
   {
    "duration": 18,
    "start_time": "2021-07-08T10:19:19.854Z"
   },
   {
    "duration": 14,
    "start_time": "2021-07-08T10:19:19.874Z"
   },
   {
    "duration": 48,
    "start_time": "2021-07-08T10:19:19.890Z"
   },
   {
    "duration": 17,
    "start_time": "2021-07-08T10:19:19.940Z"
   },
   {
    "duration": 38,
    "start_time": "2021-07-08T10:19:19.959Z"
   },
   {
    "duration": 8,
    "start_time": "2021-07-08T10:19:19.999Z"
   },
   {
    "duration": 15,
    "start_time": "2021-07-08T10:19:20.009Z"
   },
   {
    "duration": 22,
    "start_time": "2021-07-08T10:19:20.026Z"
   },
   {
    "duration": 10,
    "start_time": "2021-07-08T10:19:20.050Z"
   },
   {
    "duration": 10,
    "start_time": "2021-07-08T10:19:20.062Z"
   },
   {
    "duration": 20,
    "start_time": "2021-07-08T10:19:20.073Z"
   },
   {
    "duration": 29,
    "start_time": "2021-07-08T10:19:20.095Z"
   },
   {
    "duration": 17,
    "start_time": "2021-07-08T10:19:20.126Z"
   },
   {
    "duration": 40,
    "start_time": "2021-07-08T10:19:20.146Z"
   },
   {
    "duration": 15,
    "start_time": "2021-07-08T10:19:20.189Z"
   },
   {
    "duration": 19,
    "start_time": "2021-07-08T10:19:20.206Z"
   },
   {
    "duration": 10,
    "start_time": "2021-07-08T10:19:20.226Z"
   },
   {
    "duration": 11,
    "start_time": "2021-07-08T10:19:20.238Z"
   },
   {
    "duration": 297,
    "start_time": "2021-07-08T10:19:20.250Z"
   },
   {
    "duration": 6,
    "start_time": "2021-07-08T10:19:20.549Z"
   },
   {
    "duration": 191,
    "start_time": "2021-07-08T10:19:20.557Z"
   },
   {
    "duration": 19,
    "start_time": "2021-07-08T10:19:20.750Z"
   },
   {
    "duration": 20,
    "start_time": "2021-07-08T10:19:20.771Z"
   },
   {
    "duration": 15,
    "start_time": "2021-07-08T10:19:20.793Z"
   },
   {
    "duration": 222,
    "start_time": "2021-07-08T10:19:20.809Z"
   },
   {
    "duration": 20,
    "start_time": "2021-07-08T10:19:21.033Z"
   },
   {
    "duration": 27,
    "start_time": "2021-07-08T10:45:04.055Z"
   },
   {
    "duration": 8,
    "start_time": "2021-07-08T10:45:08.478Z"
   },
   {
    "duration": 8,
    "start_time": "2021-07-08T10:45:31.982Z"
   },
   {
    "duration": 10,
    "start_time": "2021-07-08T10:46:01.221Z"
   },
   {
    "duration": 17,
    "start_time": "2021-07-08T10:46:40.011Z"
   },
   {
    "duration": 193,
    "start_time": "2021-07-08T10:48:19.471Z"
   },
   {
    "duration": 225,
    "start_time": "2021-07-08T10:49:26.480Z"
   },
   {
    "duration": 204,
    "start_time": "2021-07-08T10:49:59.992Z"
   },
   {
    "duration": 435,
    "start_time": "2021-07-08T10:50:06.779Z"
   },
   {
    "duration": 199,
    "start_time": "2021-07-08T10:50:14.891Z"
   },
   {
    "duration": 204,
    "start_time": "2021-07-08T10:50:18.501Z"
   },
   {
    "duration": 244,
    "start_time": "2021-07-08T10:50:23.359Z"
   },
   {
    "duration": 192,
    "start_time": "2021-07-08T10:50:29.135Z"
   },
   {
    "duration": 218,
    "start_time": "2021-07-08T10:50:33.092Z"
   },
   {
    "duration": 207,
    "start_time": "2021-07-08T10:52:45.381Z"
   },
   {
    "duration": 5,
    "start_time": "2021-07-08T10:53:34.641Z"
   },
   {
    "duration": 196,
    "start_time": "2021-07-08T10:53:41.478Z"
   },
   {
    "duration": 43,
    "start_time": "2021-07-08T10:53:50.335Z"
   },
   {
    "duration": 32,
    "start_time": "2021-07-08T10:53:55.294Z"
   },
   {
    "duration": 55,
    "start_time": "2021-07-08T10:54:09.675Z"
   },
   {
    "duration": 16,
    "start_time": "2021-07-08T10:54:12.260Z"
   },
   {
    "duration": 15,
    "start_time": "2021-07-08T10:54:49.150Z"
   },
   {
    "duration": 20,
    "start_time": "2021-07-08T10:56:07.596Z"
   },
   {
    "duration": 16,
    "start_time": "2021-07-08T10:58:26.276Z"
   },
   {
    "duration": 22,
    "start_time": "2021-07-08T10:59:00.486Z"
   },
   {
    "duration": 18,
    "start_time": "2021-07-08T11:02:09.653Z"
   },
   {
    "duration": 10,
    "start_time": "2021-07-08T11:03:44.331Z"
   },
   {
    "duration": 10,
    "start_time": "2021-07-08T11:03:54.055Z"
   },
   {
    "duration": 12,
    "start_time": "2021-07-08T11:04:41.967Z"
   },
   {
    "duration": 24,
    "start_time": "2021-07-08T11:07:30.732Z"
   },
   {
    "duration": 6,
    "start_time": "2021-07-08T11:07:37.364Z"
   },
   {
    "duration": 16,
    "start_time": "2021-07-08T11:08:01.819Z"
   },
   {
    "duration": 17,
    "start_time": "2021-07-08T11:09:47.488Z"
   },
   {
    "duration": 246,
    "start_time": "2021-07-08T11:10:00.830Z"
   },
   {
    "duration": 18,
    "start_time": "2021-07-08T11:13:55.195Z"
   },
   {
    "duration": 204,
    "start_time": "2021-07-08T11:14:04.951Z"
   },
   {
    "duration": 19,
    "start_time": "2021-07-08T11:15:10.613Z"
   },
   {
    "duration": 680,
    "start_time": "2021-07-08T11:16:25.793Z"
   },
   {
    "duration": 451,
    "start_time": "2021-07-08T11:16:40.313Z"
   },
   {
    "duration": 469,
    "start_time": "2021-07-08T11:17:21.286Z"
   },
   {
    "duration": 20,
    "start_time": "2021-07-08T11:19:12.554Z"
   },
   {
    "duration": 35,
    "start_time": "2021-07-08T11:20:05.484Z"
   },
   {
    "duration": 53,
    "start_time": "2021-07-08T11:21:40.050Z"
   },
   {
    "duration": 13,
    "start_time": "2021-07-08T11:22:26.059Z"
   },
   {
    "duration": 19,
    "start_time": "2021-07-08T11:22:47.419Z"
   },
   {
    "duration": 25,
    "start_time": "2021-07-08T11:23:19.958Z"
   },
   {
    "duration": 29,
    "start_time": "2021-07-08T11:23:25.415Z"
   },
   {
    "duration": 10,
    "start_time": "2021-07-08T11:24:45.138Z"
   },
   {
    "duration": 19,
    "start_time": "2021-07-08T11:24:54.498Z"
   },
   {
    "duration": 12,
    "start_time": "2021-07-08T11:25:32.225Z"
   },
   {
    "duration": 19,
    "start_time": "2021-07-08T11:25:37.092Z"
   },
   {
    "duration": 17,
    "start_time": "2021-07-08T11:25:58.116Z"
   },
   {
    "duration": 15,
    "start_time": "2021-07-08T11:26:02.258Z"
   },
   {
    "duration": 8,
    "start_time": "2021-07-08T11:26:59.682Z"
   },
   {
    "duration": 184,
    "start_time": "2021-07-08T11:27:21.894Z"
   },
   {
    "duration": 8,
    "start_time": "2021-07-08T11:27:23.824Z"
   },
   {
    "duration": 202,
    "start_time": "2021-07-08T11:27:23.962Z"
   },
   {
    "duration": 360,
    "start_time": "2021-07-08T11:28:33.215Z"
   },
   {
    "duration": 231,
    "start_time": "2021-07-08T11:32:05.542Z"
   },
   {
    "duration": 607,
    "start_time": "2021-07-08T11:36:27.854Z"
   },
   {
    "duration": 241,
    "start_time": "2021-07-08T11:36:28.463Z"
   },
   {
    "duration": 67,
    "start_time": "2021-07-08T11:36:28.709Z"
   },
   {
    "duration": 5,
    "start_time": "2021-07-08T11:36:28.778Z"
   },
   {
    "duration": 32,
    "start_time": "2021-07-08T11:36:28.784Z"
   },
   {
    "duration": 11,
    "start_time": "2021-07-08T11:36:28.819Z"
   },
   {
    "duration": 20,
    "start_time": "2021-07-08T11:36:28.834Z"
   },
   {
    "duration": 36,
    "start_time": "2021-07-08T11:36:28.857Z"
   },
   {
    "duration": 16,
    "start_time": "2021-07-08T11:36:28.895Z"
   },
   {
    "duration": 14,
    "start_time": "2021-07-08T11:36:28.913Z"
   },
   {
    "duration": 9,
    "start_time": "2021-07-08T11:36:28.930Z"
   },
   {
    "duration": 55,
    "start_time": "2021-07-08T11:36:28.941Z"
   },
   {
    "duration": 27,
    "start_time": "2021-07-08T11:36:28.999Z"
   },
   {
    "duration": 30,
    "start_time": "2021-07-08T11:36:29.028Z"
   },
   {
    "duration": 31,
    "start_time": "2021-07-08T11:36:29.060Z"
   },
   {
    "duration": 3,
    "start_time": "2021-07-08T11:36:29.093Z"
   },
   {
    "duration": 12,
    "start_time": "2021-07-08T11:36:29.099Z"
   },
   {
    "duration": 11,
    "start_time": "2021-07-08T11:36:29.112Z"
   },
   {
    "duration": 12,
    "start_time": "2021-07-08T11:36:29.125Z"
   },
   {
    "duration": 9,
    "start_time": "2021-07-08T11:36:29.139Z"
   },
   {
    "duration": 31,
    "start_time": "2021-07-08T11:36:29.191Z"
   },
   {
    "duration": 17,
    "start_time": "2021-07-08T11:36:29.226Z"
   },
   {
    "duration": 7,
    "start_time": "2021-07-08T11:36:29.245Z"
   },
   {
    "duration": 10,
    "start_time": "2021-07-08T11:36:29.254Z"
   },
   {
    "duration": 30,
    "start_time": "2021-07-08T11:36:29.292Z"
   },
   {
    "duration": 11,
    "start_time": "2021-07-08T11:36:29.324Z"
   },
   {
    "duration": 11,
    "start_time": "2021-07-08T11:36:29.337Z"
   },
   {
    "duration": 230,
    "start_time": "2021-07-08T11:36:29.349Z"
   },
   {
    "duration": 13,
    "start_time": "2021-07-08T11:36:29.588Z"
   },
   {
    "duration": 205,
    "start_time": "2021-07-08T11:36:29.603Z"
   },
   {
    "duration": 20,
    "start_time": "2021-07-08T11:36:29.810Z"
   },
   {
    "duration": 9,
    "start_time": "2021-07-08T11:36:29.832Z"
   },
   {
    "duration": 16,
    "start_time": "2021-07-08T11:36:29.843Z"
   },
   {
    "duration": 283,
    "start_time": "2021-07-08T11:36:29.861Z"
   },
   {
    "duration": 50,
    "start_time": "2021-07-08T11:36:30.146Z"
   },
   {
    "duration": 14,
    "start_time": "2021-07-08T11:36:30.198Z"
   },
   {
    "duration": 11,
    "start_time": "2021-07-08T11:36:30.214Z"
   },
   {
    "duration": 245,
    "start_time": "2021-07-08T11:36:30.227Z"
   },
   {
    "duration": 439,
    "start_time": "2021-07-08T11:36:30.474Z"
   },
   {
    "duration": 210,
    "start_time": "2021-07-08T11:36:30.915Z"
   },
   {
    "duration": 15,
    "start_time": "2021-07-08T11:36:31.127Z"
   },
   {
    "duration": 17,
    "start_time": "2021-07-08T11:38:20.451Z"
   },
   {
    "duration": 642,
    "start_time": "2021-07-08T11:46:17.881Z"
   },
   {
    "duration": 210,
    "start_time": "2021-07-08T11:46:18.525Z"
   },
   {
    "duration": 104,
    "start_time": "2021-07-08T11:46:18.741Z"
   },
   {
    "duration": 8,
    "start_time": "2021-07-08T11:46:18.847Z"
   },
   {
    "duration": 25,
    "start_time": "2021-07-08T11:46:18.857Z"
   },
   {
    "duration": 14,
    "start_time": "2021-07-08T11:46:18.884Z"
   },
   {
    "duration": 22,
    "start_time": "2021-07-08T11:46:18.900Z"
   },
   {
    "duration": 5,
    "start_time": "2021-07-08T11:46:18.924Z"
   },
   {
    "duration": 13,
    "start_time": "2021-07-08T11:46:18.931Z"
   },
   {
    "duration": 45,
    "start_time": "2021-07-08T11:46:18.946Z"
   },
   {
    "duration": 12,
    "start_time": "2021-07-08T11:46:18.993Z"
   },
   {
    "duration": 38,
    "start_time": "2021-07-08T11:46:19.006Z"
   },
   {
    "duration": 50,
    "start_time": "2021-07-08T11:46:19.046Z"
   },
   {
    "duration": 29,
    "start_time": "2021-07-08T11:46:19.099Z"
   },
   {
    "duration": 7,
    "start_time": "2021-07-08T11:46:19.130Z"
   },
   {
    "duration": 3,
    "start_time": "2021-07-08T11:46:19.139Z"
   },
   {
    "duration": 11,
    "start_time": "2021-07-08T11:46:19.144Z"
   },
   {
    "duration": 40,
    "start_time": "2021-07-08T11:46:19.157Z"
   },
   {
    "duration": 15,
    "start_time": "2021-07-08T11:46:19.199Z"
   },
   {
    "duration": 10,
    "start_time": "2021-07-08T11:46:19.217Z"
   },
   {
    "duration": 68,
    "start_time": "2021-07-08T11:46:19.230Z"
   },
   {
    "duration": 17,
    "start_time": "2021-07-08T11:46:19.301Z"
   },
   {
    "duration": 7,
    "start_time": "2021-07-08T11:46:19.321Z"
   },
   {
    "duration": 11,
    "start_time": "2021-07-08T11:46:19.330Z"
   },
   {
    "duration": 59,
    "start_time": "2021-07-08T11:46:19.343Z"
   },
   {
    "duration": 17,
    "start_time": "2021-07-08T11:46:19.405Z"
   },
   {
    "duration": 16,
    "start_time": "2021-07-08T11:46:19.424Z"
   },
   {
    "duration": 252,
    "start_time": "2021-07-08T11:46:19.443Z"
   },
   {
    "duration": 9,
    "start_time": "2021-07-08T11:46:19.697Z"
   },
   {
    "duration": 224,
    "start_time": "2021-07-08T11:46:19.708Z"
   },
   {
    "duration": 21,
    "start_time": "2021-07-08T11:46:19.934Z"
   },
   {
    "duration": 9,
    "start_time": "2021-07-08T11:46:19.956Z"
   },
   {
    "duration": 32,
    "start_time": "2021-07-08T11:46:19.967Z"
   },
   {
    "duration": 288,
    "start_time": "2021-07-08T11:46:20.004Z"
   },
   {
    "duration": 23,
    "start_time": "2021-07-08T11:46:20.300Z"
   },
   {
    "duration": 11,
    "start_time": "2021-07-08T11:46:20.325Z"
   },
   {
    "duration": 11,
    "start_time": "2021-07-08T11:46:20.339Z"
   },
   {
    "duration": 259,
    "start_time": "2021-07-08T11:46:20.352Z"
   },
   {
    "duration": 438,
    "start_time": "2021-07-08T11:46:20.613Z"
   },
   {
    "duration": 207,
    "start_time": "2021-07-08T11:46:21.054Z"
   },
   {
    "duration": 27,
    "start_time": "2021-07-08T11:46:21.262Z"
   },
   {
    "duration": 19,
    "start_time": "2021-07-08T11:46:21.291Z"
   },
   {
    "duration": 820,
    "start_time": "2021-07-08T11:49:01.655Z"
   },
   {
    "duration": 372,
    "start_time": "2021-07-08T11:49:02.478Z"
   },
   {
    "duration": 98,
    "start_time": "2021-07-08T11:49:02.853Z"
   },
   {
    "duration": 6,
    "start_time": "2021-07-08T11:49:02.953Z"
   },
   {
    "duration": 39,
    "start_time": "2021-07-08T11:49:02.960Z"
   },
   {
    "duration": 9,
    "start_time": "2021-07-08T11:49:03.003Z"
   },
   {
    "duration": 23,
    "start_time": "2021-07-08T11:49:03.014Z"
   },
   {
    "duration": 6,
    "start_time": "2021-07-08T11:49:03.041Z"
   },
   {
    "duration": 20,
    "start_time": "2021-07-08T11:49:03.049Z"
   },
   {
    "duration": 18,
    "start_time": "2021-07-08T11:49:03.084Z"
   },
   {
    "duration": 14,
    "start_time": "2021-07-08T11:49:03.104Z"
   },
   {
    "duration": 39,
    "start_time": "2021-07-08T11:49:03.119Z"
   },
   {
    "duration": 38,
    "start_time": "2021-07-08T11:49:03.160Z"
   },
   {
    "duration": 26,
    "start_time": "2021-07-08T11:49:03.200Z"
   },
   {
    "duration": 7,
    "start_time": "2021-07-08T11:49:03.227Z"
   },
   {
    "duration": 4,
    "start_time": "2021-07-08T11:49:03.236Z"
   },
   {
    "duration": 15,
    "start_time": "2021-07-08T11:49:03.243Z"
   },
   {
    "duration": 21,
    "start_time": "2021-07-08T11:49:03.285Z"
   },
   {
    "duration": 17,
    "start_time": "2021-07-08T11:49:03.309Z"
   },
   {
    "duration": 10,
    "start_time": "2021-07-08T11:49:03.328Z"
   },
   {
    "duration": 65,
    "start_time": "2021-07-08T11:49:03.340Z"
   },
   {
    "duration": 18,
    "start_time": "2021-07-08T11:49:03.407Z"
   },
   {
    "duration": 8,
    "start_time": "2021-07-08T11:49:03.428Z"
   },
   {
    "duration": 15,
    "start_time": "2021-07-08T11:49:03.438Z"
   },
   {
    "duration": 40,
    "start_time": "2021-07-08T11:49:03.455Z"
   },
   {
    "duration": 12,
    "start_time": "2021-07-08T11:49:03.497Z"
   },
   {
    "duration": 29,
    "start_time": "2021-07-08T11:49:03.511Z"
   },
   {
    "duration": 285,
    "start_time": "2021-07-08T11:49:03.542Z"
   },
   {
    "duration": 8,
    "start_time": "2021-07-08T11:49:03.829Z"
   },
   {
    "duration": 227,
    "start_time": "2021-07-08T11:49:03.838Z"
   },
   {
    "duration": 40,
    "start_time": "2021-07-08T11:49:04.066Z"
   },
   {
    "duration": 10,
    "start_time": "2021-07-08T11:49:04.108Z"
   },
   {
    "duration": 26,
    "start_time": "2021-07-08T11:49:04.121Z"
   },
   {
    "duration": 290,
    "start_time": "2021-07-08T11:49:04.149Z"
   },
   {
    "duration": 26,
    "start_time": "2021-07-08T11:49:04.441Z"
   },
   {
    "duration": 31,
    "start_time": "2021-07-08T11:49:04.470Z"
   },
   {
    "duration": 14,
    "start_time": "2021-07-08T11:49:04.503Z"
   },
   {
    "duration": 259,
    "start_time": "2021-07-08T11:49:04.521Z"
   },
   {
    "duration": 480,
    "start_time": "2021-07-08T11:49:04.782Z"
   },
   {
    "duration": 225,
    "start_time": "2021-07-08T11:49:05.264Z"
   },
   {
    "duration": 22,
    "start_time": "2021-07-08T11:49:05.491Z"
   },
   {
    "duration": 24,
    "start_time": "2021-07-08T11:49:05.515Z"
   },
   {
    "duration": 634,
    "start_time": "2021-07-08T11:52:24.960Z"
   },
   {
    "duration": 199,
    "start_time": "2021-07-08T11:52:25.599Z"
   },
   {
    "duration": 106,
    "start_time": "2021-07-08T11:52:25.803Z"
   },
   {
    "duration": 7,
    "start_time": "2021-07-08T11:52:25.911Z"
   },
   {
    "duration": 29,
    "start_time": "2021-07-08T11:52:25.920Z"
   },
   {
    "duration": 7,
    "start_time": "2021-07-08T11:52:25.951Z"
   },
   {
    "duration": 26,
    "start_time": "2021-07-08T11:52:25.961Z"
   },
   {
    "duration": 11,
    "start_time": "2021-07-08T11:52:25.990Z"
   },
   {
    "duration": 29,
    "start_time": "2021-07-08T11:52:26.005Z"
   },
   {
    "duration": 9,
    "start_time": "2021-07-08T11:52:26.036Z"
   },
   {
    "duration": 8,
    "start_time": "2021-07-08T11:52:26.047Z"
   },
   {
    "duration": 63,
    "start_time": "2021-07-08T11:52:26.057Z"
   },
   {
    "duration": 17,
    "start_time": "2021-07-08T11:52:26.122Z"
   },
   {
    "duration": 43,
    "start_time": "2021-07-08T11:52:26.142Z"
   },
   {
    "duration": 17,
    "start_time": "2021-07-08T11:52:26.187Z"
   },
   {
    "duration": 5,
    "start_time": "2021-07-08T11:52:26.206Z"
   },
   {
    "duration": 12,
    "start_time": "2021-07-08T11:52:26.212Z"
   },
   {
    "duration": 11,
    "start_time": "2021-07-08T11:52:26.226Z"
   },
   {
    "duration": 12,
    "start_time": "2021-07-08T11:52:26.238Z"
   },
   {
    "duration": 38,
    "start_time": "2021-07-08T11:52:26.252Z"
   },
   {
    "duration": 40,
    "start_time": "2021-07-08T11:52:26.292Z"
   },
   {
    "duration": 17,
    "start_time": "2021-07-08T11:52:26.336Z"
   },
   {
    "duration": 39,
    "start_time": "2021-07-08T11:52:26.355Z"
   },
   {
    "duration": 11,
    "start_time": "2021-07-08T11:52:26.395Z"
   },
   {
    "duration": 23,
    "start_time": "2021-07-08T11:52:26.408Z"
   },
   {
    "duration": 12,
    "start_time": "2021-07-08T11:52:26.432Z"
   },
   {
    "duration": 41,
    "start_time": "2021-07-08T11:52:26.446Z"
   },
   {
    "duration": 215,
    "start_time": "2021-07-08T11:52:26.493Z"
   },
   {
    "duration": 8,
    "start_time": "2021-07-08T11:52:26.710Z"
   },
   {
    "duration": 228,
    "start_time": "2021-07-08T11:52:26.720Z"
   },
   {
    "duration": 18,
    "start_time": "2021-07-08T11:52:26.950Z"
   },
   {
    "duration": 35,
    "start_time": "2021-07-08T11:52:26.969Z"
   },
   {
    "duration": 23,
    "start_time": "2021-07-08T11:52:27.006Z"
   },
   {
    "duration": 258,
    "start_time": "2021-07-08T11:52:27.030Z"
   },
   {
    "duration": 24,
    "start_time": "2021-07-08T11:52:27.290Z"
   },
   {
    "duration": 12,
    "start_time": "2021-07-08T11:52:27.316Z"
   },
   {
    "duration": 10,
    "start_time": "2021-07-08T11:52:27.329Z"
   },
   {
    "duration": 298,
    "start_time": "2021-07-08T11:52:27.341Z"
   },
   {
    "duration": 436,
    "start_time": "2021-07-08T11:52:27.641Z"
   },
   {
    "duration": 216,
    "start_time": "2021-07-08T11:52:28.079Z"
   },
   {
    "duration": 20,
    "start_time": "2021-07-08T11:52:28.297Z"
   },
   {
    "duration": 17,
    "start_time": "2021-07-08T11:52:28.319Z"
   },
   {
    "duration": 1916,
    "start_time": "2021-09-22T09:49:01.916Z"
   },
   {
    "duration": 4,
    "start_time": "2021-09-22T09:49:08.882Z"
   },
   {
    "duration": 133,
    "start_time": "2021-09-22T09:49:09.889Z"
   },
   {
    "duration": 35,
    "start_time": "2021-09-22T09:49:10.631Z"
   },
   {
    "duration": 13,
    "start_time": "2021-09-22T09:49:11.735Z"
   },
   {
    "duration": 230,
    "start_time": "2021-09-22T09:50:28.542Z"
   },
   {
    "duration": 262,
    "start_time": "2021-09-22T09:50:33.902Z"
   },
   {
    "duration": 17,
    "start_time": "2021-09-22T09:50:53.447Z"
   },
   {
    "duration": 8,
    "start_time": "2021-09-22T09:50:54.262Z"
   },
   {
    "duration": 233,
    "start_time": "2021-09-22T09:52:25.192Z"
   },
   {
    "duration": 292,
    "start_time": "2021-09-22T09:56:46.202Z"
   },
   {
    "duration": 1677,
    "start_time": "2021-09-22T09:57:13.955Z"
   },
   {
    "duration": 13,
    "start_time": "2021-09-22T09:58:02.241Z"
   },
   {
    "duration": 39,
    "start_time": "2021-09-22T10:00:19.595Z"
   },
   {
    "duration": 26,
    "start_time": "2021-09-22T10:01:00.539Z"
   },
   {
    "duration": 17,
    "start_time": "2021-09-22T10:01:25.836Z"
   },
   {
    "duration": 28,
    "start_time": "2021-09-22T10:01:29.931Z"
   },
   {
    "duration": 2117,
    "start_time": "2021-09-22T10:01:39.582Z"
   },
   {
    "duration": 28,
    "start_time": "2021-09-22T10:01:45.136Z"
   },
   {
    "duration": 68,
    "start_time": "2021-09-22T10:06:54.884Z"
   },
   {
    "duration": 4,
    "start_time": "2021-09-22T10:07:26.102Z"
   },
   {
    "duration": 228,
    "start_time": "2021-09-22T10:07:26.474Z"
   },
   {
    "duration": 1982,
    "start_time": "2021-09-22T10:07:26.946Z"
   },
   {
    "duration": 1833,
    "start_time": "2021-09-22T10:07:39.775Z"
   },
   {
    "duration": 4,
    "start_time": "2021-09-22T10:07:51.251Z"
   },
   {
    "duration": 163,
    "start_time": "2021-09-22T10:07:51.549Z"
   },
   {
    "duration": 24,
    "start_time": "2021-09-22T10:07:53.301Z"
   },
   {
    "duration": 3,
    "start_time": "2021-09-22T10:08:22.224Z"
   },
   {
    "duration": 155,
    "start_time": "2021-09-22T10:08:22.504Z"
   },
   {
    "duration": 2294,
    "start_time": "2021-09-22T10:08:34.296Z"
   },
   {
    "duration": 1984,
    "start_time": "2021-09-22T10:09:11.251Z"
   },
   {
    "duration": 376,
    "start_time": "2021-09-22T10:09:20.093Z"
   },
   {
    "duration": 334,
    "start_time": "2021-09-22T10:10:43.255Z"
   },
   {
    "duration": 1982,
    "start_time": "2021-09-22T10:10:49.497Z"
   },
   {
    "duration": 38,
    "start_time": "2021-09-22T10:11:01.300Z"
   },
   {
    "duration": 3,
    "start_time": "2021-09-22T10:11:10.833Z"
   },
   {
    "duration": 155,
    "start_time": "2021-09-22T10:11:11.199Z"
   },
   {
    "duration": 56,
    "start_time": "2021-09-22T10:11:11.506Z"
   },
   {
    "duration": 31,
    "start_time": "2021-09-22T10:11:23.222Z"
   },
   {
    "duration": 279,
    "start_time": "2021-09-22T10:11:26.519Z"
   },
   {
    "duration": 46,
    "start_time": "2021-09-22T10:11:42.906Z"
   },
   {
    "duration": 272,
    "start_time": "2021-09-22T10:12:17.272Z"
   },
   {
    "duration": 43,
    "start_time": "2021-09-22T10:12:55.630Z"
   },
   {
    "duration": 4,
    "start_time": "2021-09-22T10:13:26.524Z"
   },
   {
    "duration": 150,
    "start_time": "2021-09-22T10:13:26.732Z"
   },
   {
    "duration": 53,
    "start_time": "2021-09-22T10:13:34.793Z"
   },
   {
    "duration": 44,
    "start_time": "2021-09-22T10:13:36.245Z"
   },
   {
    "duration": 44,
    "start_time": "2021-09-22T10:16:03.177Z"
   },
   {
    "duration": 4,
    "start_time": "2021-09-22T10:16:24.305Z"
   },
   {
    "duration": 157,
    "start_time": "2021-09-22T10:16:24.513Z"
   },
   {
    "duration": 50,
    "start_time": "2021-09-22T10:16:24.803Z"
   },
   {
    "duration": 43,
    "start_time": "2021-09-22T10:16:24.992Z"
   },
   {
    "duration": 18,
    "start_time": "2021-09-22T10:16:37.235Z"
   },
   {
    "duration": 38,
    "start_time": "2021-09-22T10:59:11.630Z"
   },
   {
    "duration": 1499,
    "start_time": "2021-09-22T10:59:40.520Z"
   },
   {
    "duration": 158,
    "start_time": "2021-09-22T10:59:42.026Z"
   },
   {
    "duration": 57,
    "start_time": "2021-09-22T10:59:42.192Z"
   },
   {
    "duration": 18,
    "start_time": "2021-09-22T10:59:42.268Z"
   },
   {
    "duration": 25,
    "start_time": "2021-09-22T10:59:42.289Z"
   },
   {
    "duration": 16,
    "start_time": "2021-09-22T11:00:11.456Z"
   },
   {
    "duration": 436,
    "start_time": "2021-09-22T11:01:53.113Z"
   },
   {
    "duration": 29,
    "start_time": "2021-09-22T11:01:57.906Z"
   },
   {
    "duration": 34,
    "start_time": "2021-09-22T11:03:05.653Z"
   },
   {
    "duration": 24,
    "start_time": "2021-09-22T11:03:22.184Z"
   },
   {
    "duration": 23,
    "start_time": "2021-09-22T11:03:35.888Z"
   },
   {
    "duration": 23,
    "start_time": "2021-09-22T11:03:42.240Z"
   },
   {
    "duration": 19,
    "start_time": "2021-09-22T11:03:48.868Z"
   },
   {
    "duration": 43,
    "start_time": "2021-09-22T11:05:14.771Z"
   },
   {
    "duration": 28,
    "start_time": "2021-09-22T11:09:26.970Z"
   },
   {
    "duration": 168,
    "start_time": "2021-09-22T11:13:55.649Z"
   },
   {
    "duration": 176,
    "start_time": "2021-09-22T11:14:04.212Z"
   },
   {
    "duration": 29,
    "start_time": "2021-09-22T11:14:42.582Z"
   },
   {
    "duration": 4,
    "start_time": "2021-09-22T11:14:57.257Z"
   },
   {
    "duration": 183,
    "start_time": "2021-09-22T11:14:57.263Z"
   },
   {
    "duration": 62,
    "start_time": "2021-09-22T11:14:57.448Z"
   },
   {
    "duration": 17,
    "start_time": "2021-09-22T11:14:57.512Z"
   },
   {
    "duration": 49,
    "start_time": "2021-09-22T11:14:57.531Z"
   },
   {
    "duration": 30,
    "start_time": "2021-09-22T11:14:57.583Z"
   },
   {
    "duration": 54,
    "start_time": "2021-09-22T11:14:57.615Z"
   },
   {
    "duration": 15,
    "start_time": "2021-09-22T11:15:03.792Z"
   },
   {
    "duration": 43,
    "start_time": "2021-09-22T11:15:13.663Z"
   },
   {
    "duration": 1561,
    "start_time": "2021-09-22T11:16:34.027Z"
   },
   {
    "duration": 183,
    "start_time": "2021-09-22T11:16:35.590Z"
   },
   {
    "duration": 54,
    "start_time": "2021-09-22T11:16:35.777Z"
   },
   {
    "duration": 44,
    "start_time": "2021-09-22T11:16:35.834Z"
   },
   {
    "duration": 26,
    "start_time": "2021-09-22T11:16:35.880Z"
   },
   {
    "duration": 32,
    "start_time": "2021-09-22T11:16:35.909Z"
   },
   {
    "duration": 32,
    "start_time": "2021-09-22T11:16:35.968Z"
   },
   {
    "duration": 67,
    "start_time": "2021-09-22T11:16:36.002Z"
   },
   {
    "duration": 16,
    "start_time": "2021-09-22T11:17:25.442Z"
   },
   {
    "duration": 417,
    "start_time": "2021-09-22T11:19:34.948Z"
   },
   {
    "duration": 4,
    "start_time": "2021-09-22T11:19:55.916Z"
   },
   {
    "duration": 182,
    "start_time": "2021-09-22T11:19:56.225Z"
   },
   {
    "duration": 54,
    "start_time": "2021-09-22T11:19:56.500Z"
   },
   {
    "duration": 19,
    "start_time": "2021-09-22T11:19:58.482Z"
   },
   {
    "duration": 26,
    "start_time": "2021-09-22T11:20:02.107Z"
   },
   {
    "duration": 35,
    "start_time": "2021-09-22T11:20:23.994Z"
   },
   {
    "duration": 31,
    "start_time": "2021-09-22T11:21:08.108Z"
   },
   {
    "duration": 41,
    "start_time": "2021-09-22T11:21:15.475Z"
   },
   {
    "duration": 41,
    "start_time": "2021-09-22T11:23:27.378Z"
   },
   {
    "duration": 45,
    "start_time": "2021-09-22T11:23:47.914Z"
   },
   {
    "duration": 29,
    "start_time": "2021-09-22T11:24:59.437Z"
   },
   {
    "duration": 35,
    "start_time": "2021-09-22T11:25:05.525Z"
   },
   {
    "duration": 28,
    "start_time": "2021-09-22T11:25:36.937Z"
   },
   {
    "duration": 26,
    "start_time": "2021-09-22T11:25:59.147Z"
   },
   {
    "duration": 13,
    "start_time": "2021-09-22T11:27:16.073Z"
   },
   {
    "duration": 16,
    "start_time": "2021-09-22T11:27:45.149Z"
   },
   {
    "duration": 13,
    "start_time": "2021-09-22T11:28:31.230Z"
   },
   {
    "duration": 12,
    "start_time": "2021-09-22T11:28:46.343Z"
   },
   {
    "duration": 12,
    "start_time": "2021-09-22T11:28:51.861Z"
   },
   {
    "duration": 13,
    "start_time": "2021-09-22T11:30:19.570Z"
   },
   {
    "duration": 14,
    "start_time": "2021-09-22T11:30:34.029Z"
   },
   {
    "duration": 13,
    "start_time": "2021-09-22T11:30:52.170Z"
   },
   {
    "duration": 13,
    "start_time": "2021-09-22T11:30:58.481Z"
   },
   {
    "duration": 13,
    "start_time": "2021-09-22T11:31:10.079Z"
   },
   {
    "duration": 12,
    "start_time": "2021-09-22T11:31:16.917Z"
   },
   {
    "duration": 283,
    "start_time": "2021-09-22T11:31:23.538Z"
   },
   {
    "duration": 13,
    "start_time": "2021-09-22T11:31:32.614Z"
   },
   {
    "duration": 11,
    "start_time": "2021-09-22T11:31:42.394Z"
   },
   {
    "duration": 10,
    "start_time": "2021-09-22T11:31:50.060Z"
   },
   {
    "duration": 432,
    "start_time": "2021-09-22T11:42:24.921Z"
   },
   {
    "duration": 1561,
    "start_time": "2021-09-22T11:42:35.500Z"
   },
   {
    "duration": 184,
    "start_time": "2021-09-22T11:42:37.064Z"
   },
   {
    "duration": 82,
    "start_time": "2021-09-22T11:42:37.251Z"
   },
   {
    "duration": 43,
    "start_time": "2021-09-22T11:42:37.337Z"
   },
   {
    "duration": 38,
    "start_time": "2021-09-22T11:42:37.384Z"
   },
   {
    "duration": 67,
    "start_time": "2021-09-22T11:42:37.426Z"
   },
   {
    "duration": 29,
    "start_time": "2021-09-22T11:42:37.496Z"
   },
   {
    "duration": 61,
    "start_time": "2021-09-22T11:42:37.528Z"
   },
   {
    "duration": 44,
    "start_time": "2021-09-22T11:42:37.592Z"
   },
   {
    "duration": 52,
    "start_time": "2021-09-22T11:42:37.638Z"
   },
   {
    "duration": 28,
    "start_time": "2021-09-22T11:42:37.693Z"
   },
   {
    "duration": 45,
    "start_time": "2021-09-22T11:42:37.724Z"
   },
   {
    "duration": 18,
    "start_time": "2021-09-22T11:42:37.772Z"
   },
   {
    "duration": 9,
    "start_time": "2021-09-22T11:42:47.457Z"
   },
   {
    "duration": 1093,
    "start_time": "2021-09-22T11:46:00.234Z"
   },
   {
    "duration": 1457,
    "start_time": "2021-09-22T11:46:10.949Z"
   },
   {
    "duration": 1089,
    "start_time": "2021-09-22T11:46:49.851Z"
   },
   {
    "duration": 405,
    "start_time": "2021-09-22T11:46:56.372Z"
   },
   {
    "duration": 6879,
    "start_time": "2021-09-22T11:47:10.413Z"
   },
   {
    "duration": 6653,
    "start_time": "2021-09-22T11:48:05.099Z"
   },
   {
    "duration": 6591,
    "start_time": "2021-09-22T11:48:41.432Z"
   },
   {
    "duration": 7019,
    "start_time": "2021-09-22T11:48:51.318Z"
   },
   {
    "duration": 1749,
    "start_time": "2021-09-22T11:48:58.841Z"
   },
   {
    "duration": 1248,
    "start_time": "2021-09-22T11:49:10.658Z"
   },
   {
    "duration": 1639,
    "start_time": "2021-09-22T11:49:28.028Z"
   },
   {
    "duration": 86,
    "start_time": "2021-09-22T11:51:25.684Z"
   },
   {
    "duration": 1203,
    "start_time": "2021-09-22T11:51:45.612Z"
   },
   {
    "duration": 57,
    "start_time": "2021-09-22T11:53:10.856Z"
   },
   {
    "duration": 1510,
    "start_time": "2021-09-22T11:55:10.630Z"
   },
   {
    "duration": 178,
    "start_time": "2021-09-22T11:55:12.142Z"
   },
   {
    "duration": 83,
    "start_time": "2021-09-22T11:55:12.323Z"
   },
   {
    "duration": 17,
    "start_time": "2021-09-22T11:55:12.410Z"
   },
   {
    "duration": 51,
    "start_time": "2021-09-22T11:55:12.430Z"
   },
   {
    "duration": 28,
    "start_time": "2021-09-22T11:55:12.483Z"
   },
   {
    "duration": 55,
    "start_time": "2021-09-22T11:55:12.514Z"
   },
   {
    "duration": 40,
    "start_time": "2021-09-22T11:55:12.571Z"
   },
   {
    "duration": 16,
    "start_time": "2021-09-22T11:55:15.883Z"
   },
   {
    "duration": 52,
    "start_time": "2021-09-22T11:55:20.851Z"
   },
   {
    "duration": 11,
    "start_time": "2021-09-22T11:55:25.999Z"
   },
   {
    "duration": 10,
    "start_time": "2021-09-22T11:55:32.887Z"
   },
   {
    "duration": 6,
    "start_time": "2021-09-22T11:55:40.321Z"
   },
   {
    "duration": 9,
    "start_time": "2021-09-22T11:55:41.564Z"
   },
   {
    "duration": 6500,
    "start_time": "2021-09-22T11:56:05.077Z"
   },
   {
    "duration": 1463,
    "start_time": "2021-09-22T11:56:16.416Z"
   },
   {
    "duration": 180,
    "start_time": "2021-09-22T11:56:17.881Z"
   },
   {
    "duration": 53,
    "start_time": "2021-09-22T11:56:18.068Z"
   },
   {
    "duration": 17,
    "start_time": "2021-09-22T11:56:18.124Z"
   },
   {
    "duration": 27,
    "start_time": "2021-09-22T11:56:18.168Z"
   },
   {
    "duration": 27,
    "start_time": "2021-09-22T11:56:18.198Z"
   },
   {
    "duration": 57,
    "start_time": "2021-09-22T11:56:18.228Z"
   },
   {
    "duration": 41,
    "start_time": "2021-09-22T11:56:18.288Z"
   },
   {
    "duration": 40,
    "start_time": "2021-09-22T11:56:18.333Z"
   },
   {
    "duration": 54,
    "start_time": "2021-09-22T11:56:18.376Z"
   },
   {
    "duration": 46,
    "start_time": "2021-09-22T11:56:18.433Z"
   },
   {
    "duration": 29,
    "start_time": "2021-09-22T11:56:18.481Z"
   },
   {
    "duration": 12,
    "start_time": "2021-09-22T11:56:18.512Z"
   },
   {
    "duration": 41,
    "start_time": "2021-09-22T11:56:18.526Z"
   },
   {
    "duration": 8049,
    "start_time": "2021-09-22T11:56:25.178Z"
   },
   {
    "duration": 39,
    "start_time": "2021-09-22T11:56:51.879Z"
   },
   {
    "duration": 39,
    "start_time": "2021-09-22T11:57:01.317Z"
   },
   {
    "duration": 10,
    "start_time": "2021-09-22T11:59:10.587Z"
   },
   {
    "duration": 52,
    "start_time": "2021-09-22T11:59:34.715Z"
   },
   {
    "duration": 28,
    "start_time": "2021-09-22T13:13:51.057Z"
   },
   {
    "duration": 77,
    "start_time": "2021-09-22T13:14:12.474Z"
   },
   {
    "duration": 77,
    "start_time": "2021-09-22T13:14:23.287Z"
   },
   {
    "duration": 68,
    "start_time": "2021-09-22T13:14:32.454Z"
   },
   {
    "duration": 9,
    "start_time": "2021-09-22T13:15:05.451Z"
   },
   {
    "duration": 343,
    "start_time": "2021-09-22T13:15:17.947Z"
   },
   {
    "duration": 95,
    "start_time": "2021-09-22T13:15:35.352Z"
   },
   {
    "duration": 6,
    "start_time": "2021-09-22T13:15:39.299Z"
   },
   {
    "duration": 10,
    "start_time": "2021-09-22T13:15:41.108Z"
   },
   {
    "duration": 6,
    "start_time": "2021-09-22T13:15:44.178Z"
   },
   {
    "duration": 10,
    "start_time": "2021-09-22T13:15:45.811Z"
   },
   {
    "duration": 5,
    "start_time": "2021-09-22T13:15:51.847Z"
   },
   {
    "duration": 10,
    "start_time": "2021-09-22T13:15:52.039Z"
   },
   {
    "duration": 4,
    "start_time": "2021-09-22T13:16:17.143Z"
   },
   {
    "duration": 218,
    "start_time": "2021-09-22T13:16:17.150Z"
   },
   {
    "duration": 52,
    "start_time": "2021-09-22T13:16:17.371Z"
   },
   {
    "duration": 45,
    "start_time": "2021-09-22T13:16:17.426Z"
   },
   {
    "duration": 26,
    "start_time": "2021-09-22T13:16:17.474Z"
   },
   {
    "duration": 27,
    "start_time": "2021-09-22T13:16:17.503Z"
   },
   {
    "duration": 46,
    "start_time": "2021-09-22T13:16:17.533Z"
   },
   {
    "duration": 34,
    "start_time": "2021-09-22T13:16:17.581Z"
   },
   {
    "duration": 59,
    "start_time": "2021-09-22T13:16:17.618Z"
   },
   {
    "duration": 14,
    "start_time": "2021-09-22T13:16:17.680Z"
   },
   {
    "duration": 94,
    "start_time": "2021-09-22T13:16:17.696Z"
   },
   {
    "duration": 77,
    "start_time": "2021-09-22T13:16:17.792Z"
   },
   {
    "duration": 11,
    "start_time": "2021-09-22T13:16:21.649Z"
   },
   {
    "duration": 9,
    "start_time": "2021-09-22T13:16:24.665Z"
   },
   {
    "duration": 8,
    "start_time": "2021-09-22T13:16:29.966Z"
   },
   {
    "duration": 9,
    "start_time": "2021-09-22T13:16:30.355Z"
   },
   {
    "duration": 37,
    "start_time": "2021-09-22T13:18:38.435Z"
   },
   {
    "duration": 13,
    "start_time": "2021-09-22T13:19:54.906Z"
   },
   {
    "duration": 4,
    "start_time": "2021-09-22T13:20:24.289Z"
   },
   {
    "duration": 212,
    "start_time": "2021-09-22T13:20:24.297Z"
   },
   {
    "duration": 84,
    "start_time": "2021-09-22T13:20:24.514Z"
   },
   {
    "duration": 17,
    "start_time": "2021-09-22T13:20:24.601Z"
   },
   {
    "duration": 49,
    "start_time": "2021-09-22T13:20:24.620Z"
   },
   {
    "duration": 26,
    "start_time": "2021-09-22T13:20:24.672Z"
   },
   {
    "duration": 15,
    "start_time": "2021-09-22T13:20:24.700Z"
   },
   {
    "duration": 63,
    "start_time": "2021-09-22T13:20:24.718Z"
   },
   {
    "duration": 52,
    "start_time": "2021-09-22T13:20:24.784Z"
   },
   {
    "duration": 28,
    "start_time": "2021-09-22T13:20:24.839Z"
   },
   {
    "duration": 91,
    "start_time": "2021-09-22T13:20:24.870Z"
   },
   {
    "duration": 62,
    "start_time": "2021-09-22T13:20:24.967Z"
   },
   {
    "duration": 10,
    "start_time": "2021-09-22T13:20:25.032Z"
   },
   {
    "duration": 33,
    "start_time": "2021-09-22T13:20:25.045Z"
   },
   {
    "duration": 12,
    "start_time": "2021-09-22T13:20:35.130Z"
   },
   {
    "duration": 41,
    "start_time": "2021-09-22T13:20:48.692Z"
   },
   {
    "duration": 11,
    "start_time": "2021-09-22T13:20:59.639Z"
   },
   {
    "duration": 11,
    "start_time": "2021-09-22T13:21:18.438Z"
   },
   {
    "duration": 15,
    "start_time": "2021-09-22T13:21:31.638Z"
   },
   {
    "duration": 1332,
    "start_time": "2021-09-22T13:21:40.957Z"
   },
   {
    "duration": 11,
    "start_time": "2021-09-22T13:21:43.619Z"
   },
   {
    "duration": 13,
    "start_time": "2021-09-22T13:21:55.825Z"
   },
   {
    "duration": 7304,
    "start_time": "2021-09-22T13:24:24.079Z"
   },
   {
    "duration": 3,
    "start_time": "2021-09-22T13:24:55.062Z"
   },
   {
    "duration": 203,
    "start_time": "2021-09-22T13:24:55.068Z"
   },
   {
    "duration": 48,
    "start_time": "2021-09-22T13:24:55.275Z"
   },
   {
    "duration": 41,
    "start_time": "2021-09-22T13:24:55.326Z"
   },
   {
    "duration": 25,
    "start_time": "2021-09-22T13:24:55.369Z"
   },
   {
    "duration": 26,
    "start_time": "2021-09-22T13:24:55.396Z"
   },
   {
    "duration": 44,
    "start_time": "2021-09-22T13:24:55.425Z"
   },
   {
    "duration": 27,
    "start_time": "2021-09-22T13:24:55.472Z"
   },
   {
    "duration": 68,
    "start_time": "2021-09-22T13:24:55.503Z"
   },
   {
    "duration": 14,
    "start_time": "2021-09-22T13:24:55.574Z"
   },
   {
    "duration": 92,
    "start_time": "2021-09-22T13:24:55.590Z"
   },
   {
    "duration": 58,
    "start_time": "2021-09-22T13:24:55.684Z"
   },
   {
    "duration": 27,
    "start_time": "2021-09-22T13:24:55.744Z"
   },
   {
    "duration": 36,
    "start_time": "2021-09-22T13:24:55.774Z"
   },
   {
    "duration": 40,
    "start_time": "2021-09-22T13:24:55.813Z"
   },
   {
    "duration": 11,
    "start_time": "2021-09-22T13:24:55.855Z"
   },
   {
    "duration": 45,
    "start_time": "2021-09-22T13:24:55.869Z"
   },
   {
    "duration": 68,
    "start_time": "2021-09-22T13:24:55.916Z"
   },
   {
    "duration": 290,
    "start_time": "2021-09-22T13:25:01.807Z"
   },
   {
    "duration": 1370,
    "start_time": "2021-09-22T13:25:09.640Z"
   },
   {
    "duration": 106,
    "start_time": "2021-09-22T13:25:15.810Z"
   },
   {
    "duration": 370,
    "start_time": "2021-09-22T13:25:18.534Z"
   },
   {
    "duration": 389,
    "start_time": "2021-09-22T13:25:26.712Z"
   },
   {
    "duration": 373,
    "start_time": "2021-09-22T13:25:31.797Z"
   },
   {
    "duration": 369,
    "start_time": "2021-09-22T13:25:44.688Z"
   },
   {
    "duration": 396,
    "start_time": "2021-09-22T13:25:52.135Z"
   },
   {
    "duration": 690,
    "start_time": "2021-09-22T13:25:55.916Z"
   },
   {
    "duration": 397,
    "start_time": "2021-09-22T13:26:08.225Z"
   },
   {
    "duration": 20,
    "start_time": "2021-09-22T13:28:51.733Z"
   },
   {
    "duration": 715,
    "start_time": "2021-09-22T13:29:01.274Z"
   },
   {
    "duration": 22,
    "start_time": "2021-09-22T13:29:05.321Z"
   },
   {
    "duration": 329,
    "start_time": "2021-09-22T13:29:12.826Z"
   },
   {
    "duration": 349,
    "start_time": "2021-09-22T13:29:21.405Z"
   },
   {
    "duration": 345,
    "start_time": "2021-09-22T13:29:25.863Z"
   },
   {
    "duration": 19,
    "start_time": "2021-09-22T13:29:33.280Z"
   },
   {
    "duration": 342,
    "start_time": "2021-09-22T13:29:44.499Z"
   },
   {
    "duration": 432,
    "start_time": "2021-09-22T13:29:54.972Z"
   },
   {
    "duration": 649,
    "start_time": "2021-09-22T13:31:23.763Z"
   },
   {
    "duration": 539,
    "start_time": "2021-09-22T13:32:14.179Z"
   },
   {
    "duration": 19,
    "start_time": "2021-09-22T13:32:46.638Z"
   },
   {
    "duration": 464,
    "start_time": "2021-09-22T13:33:15.861Z"
   },
   {
    "duration": 435,
    "start_time": "2021-09-22T13:47:22.954Z"
   },
   {
    "duration": 964,
    "start_time": "2021-09-22T13:48:18.217Z"
   },
   {
    "duration": 905,
    "start_time": "2021-09-22T13:48:38.365Z"
   },
   {
    "duration": 281,
    "start_time": "2021-09-22T14:15:53.175Z"
   },
   {
    "duration": 68,
    "start_time": "2021-09-22T14:16:08.197Z"
   },
   {
    "duration": 69,
    "start_time": "2021-09-22T14:16:22.335Z"
   },
   {
    "duration": 1619,
    "start_time": "2021-09-22T14:16:32.200Z"
   },
   {
    "duration": 618,
    "start_time": "2021-09-22T14:16:49.909Z"
   },
   {
    "duration": 1727,
    "start_time": "2021-09-22T14:17:23.325Z"
   },
   {
    "duration": 274,
    "start_time": "2021-09-22T14:17:42.302Z"
   },
   {
    "duration": 1286,
    "start_time": "2021-09-22T14:17:50.803Z"
   },
   {
    "duration": 581,
    "start_time": "2021-09-22T14:18:06.304Z"
   },
   {
    "duration": 1705,
    "start_time": "2021-09-22T14:18:10.019Z"
   },
   {
    "duration": 1104,
    "start_time": "2021-09-27T15:42:57.719Z"
   },
   {
    "duration": 194,
    "start_time": "2021-09-27T15:42:58.825Z"
   },
   {
    "duration": 31,
    "start_time": "2021-09-27T15:42:59.021Z"
   },
   {
    "duration": 9,
    "start_time": "2021-09-27T15:42:59.054Z"
   },
   {
    "duration": 36,
    "start_time": "2021-09-27T15:42:59.064Z"
   },
   {
    "duration": 16,
    "start_time": "2021-09-27T15:42:59.102Z"
   },
   {
    "duration": 8,
    "start_time": "2021-09-27T15:42:59.120Z"
   },
   {
    "duration": 15,
    "start_time": "2021-09-27T15:42:59.131Z"
   },
   {
    "duration": 53,
    "start_time": "2021-09-27T15:42:59.148Z"
   },
   {
    "duration": 10,
    "start_time": "2021-09-27T15:42:59.202Z"
   },
   {
    "duration": 48,
    "start_time": "2021-09-27T15:42:59.214Z"
   },
   {
    "duration": 51,
    "start_time": "2021-09-27T15:42:59.263Z"
   },
   {
    "duration": 5,
    "start_time": "2021-09-27T15:42:59.315Z"
   },
   {
    "duration": 9,
    "start_time": "2021-09-27T15:42:59.321Z"
   },
   {
    "duration": 10,
    "start_time": "2021-09-27T15:42:59.331Z"
   },
   {
    "duration": 4,
    "start_time": "2021-09-27T15:42:59.342Z"
   },
   {
    "duration": 23,
    "start_time": "2021-09-27T15:42:59.347Z"
   },
   {
    "duration": 59,
    "start_time": "2021-09-27T15:42:59.371Z"
   },
   {
    "duration": 253,
    "start_time": "2021-09-27T15:42:59.432Z"
   },
   {
    "duration": 513,
    "start_time": "2021-09-27T15:42:59.686Z"
   },
   {
    "duration": 959,
    "start_time": "2021-09-27T15:43:00.201Z"
   },
   {
    "duration": 29,
    "start_time": "2021-09-27T15:47:40.507Z"
   },
   {
    "duration": 28,
    "start_time": "2021-09-27T15:47:45.791Z"
   },
   {
    "duration": 203,
    "start_time": "2021-09-27T16:13:01.508Z"
   },
   {
    "duration": 279,
    "start_time": "2021-09-27T16:13:21.196Z"
   },
   {
    "duration": 256,
    "start_time": "2021-09-27T16:14:19.463Z"
   },
   {
    "duration": 242,
    "start_time": "2021-09-27T16:14:28.059Z"
   },
   {
    "duration": 1416,
    "start_time": "2021-09-27T16:19:06.940Z"
   },
   {
    "duration": 997,
    "start_time": "2021-09-27T16:19:57.076Z"
   },
   {
    "duration": 1011,
    "start_time": "2021-09-27T16:22:13.436Z"
   },
   {
    "duration": 1014,
    "start_time": "2021-09-27T16:22:18.508Z"
   },
   {
    "duration": 1230,
    "start_time": "2021-09-27T18:28:36.547Z"
   },
   {
    "duration": 1215,
    "start_time": "2021-09-27T18:29:46.392Z"
   },
   {
    "duration": 220,
    "start_time": "2021-09-27T18:36:23.801Z"
   },
   {
    "duration": 243,
    "start_time": "2021-09-27T18:36:34.911Z"
   },
   {
    "duration": 13,
    "start_time": "2021-09-27T18:37:30.173Z"
   },
   {
    "duration": 1191,
    "start_time": "2021-09-27T18:37:37.682Z"
   },
   {
    "duration": 12,
    "start_time": "2021-09-27T18:37:45.736Z"
   },
   {
    "duration": 13,
    "start_time": "2021-09-27T18:37:51.566Z"
   },
   {
    "duration": 518,
    "start_time": "2021-09-27T18:42:17.515Z"
   },
   {
    "duration": 534,
    "start_time": "2021-09-27T18:42:29.801Z"
   },
   {
    "duration": 226,
    "start_time": "2021-09-27T18:42:55.981Z"
   },
   {
    "duration": 13,
    "start_time": "2021-09-27T18:43:09.113Z"
   },
   {
    "duration": 3,
    "start_time": "2021-09-27T20:07:05.175Z"
   },
   {
    "duration": 158,
    "start_time": "2021-09-27T20:07:05.180Z"
   },
   {
    "duration": 33,
    "start_time": "2021-09-27T20:07:05.340Z"
   },
   {
    "duration": 33,
    "start_time": "2021-09-27T20:07:05.375Z"
   },
   {
    "duration": 15,
    "start_time": "2021-09-27T20:07:05.410Z"
   },
   {
    "duration": 30,
    "start_time": "2021-09-27T20:07:05.427Z"
   },
   {
    "duration": 9,
    "start_time": "2021-09-27T20:07:05.460Z"
   },
   {
    "duration": 36,
    "start_time": "2021-09-27T20:07:05.470Z"
   },
   {
    "duration": 34,
    "start_time": "2021-09-27T20:07:05.508Z"
   },
   {
    "duration": 11,
    "start_time": "2021-09-27T20:07:05.544Z"
   },
   {
    "duration": 55,
    "start_time": "2021-09-27T20:07:05.556Z"
   },
   {
    "duration": 25,
    "start_time": "2021-09-27T20:07:05.613Z"
   },
   {
    "duration": 5,
    "start_time": "2021-09-27T20:07:05.640Z"
   },
   {
    "duration": 15,
    "start_time": "2021-09-27T20:07:05.646Z"
   },
   {
    "duration": 25,
    "start_time": "2021-09-27T20:07:05.663Z"
   },
   {
    "duration": 12,
    "start_time": "2021-09-27T20:07:05.690Z"
   },
   {
    "duration": 30,
    "start_time": "2021-09-27T20:07:05.704Z"
   },
   {
    "duration": 34,
    "start_time": "2021-09-27T20:07:05.736Z"
   },
   {
    "duration": 286,
    "start_time": "2021-09-27T20:07:05.774Z"
   },
   {
    "duration": 14,
    "start_time": "2021-09-27T20:07:06.062Z"
   },
   {
    "duration": 272,
    "start_time": "2021-09-27T20:07:06.077Z"
   },
   {
    "duration": 561,
    "start_time": "2021-09-27T20:07:06.351Z"
   },
   {
    "duration": 1271,
    "start_time": "2021-09-27T20:07:06.914Z"
   },
   {
    "duration": 4492,
    "start_time": "2021-09-27T20:07:08.187Z"
   },
   {
    "duration": 11,
    "start_time": "2021-09-27T20:07:15.079Z"
   },
   {
    "duration": 6,
    "start_time": "2021-09-27T20:07:58.978Z"
   },
   {
    "duration": 29,
    "start_time": "2021-09-27T20:08:01.906Z"
   },
   {
    "duration": 21,
    "start_time": "2021-09-27T20:08:22.211Z"
   },
   {
    "duration": 920,
    "start_time": "2021-09-27T20:13:48.070Z"
   },
   {
    "duration": 7,
    "start_time": "2021-09-27T20:14:01.604Z"
   },
   {
    "duration": 263,
    "start_time": "2021-09-27T20:14:55.054Z"
   },
   {
    "duration": 262,
    "start_time": "2021-09-27T20:15:04.317Z"
   },
   {
    "duration": 230,
    "start_time": "2021-09-27T20:15:08.411Z"
   },
   {
    "duration": 222,
    "start_time": "2021-09-27T20:15:15.511Z"
   },
   {
    "duration": 267,
    "start_time": "2021-09-27T20:15:20.202Z"
   },
   {
    "duration": 277,
    "start_time": "2021-09-27T20:15:32.845Z"
   },
   {
    "duration": 279,
    "start_time": "2021-09-27T20:15:43.223Z"
   },
   {
    "duration": 239,
    "start_time": "2021-09-27T20:15:51.531Z"
   },
   {
    "duration": 249,
    "start_time": "2021-09-27T20:15:59.463Z"
   },
   {
    "duration": 268,
    "start_time": "2021-09-27T20:16:03.495Z"
   },
   {
    "duration": 4972,
    "start_time": "2021-09-27T20:18:02.114Z"
   },
   {
    "duration": 260,
    "start_time": "2021-09-27T20:18:23.283Z"
   },
   {
    "duration": 8,
    "start_time": "2021-09-27T20:20:05.744Z"
   },
   {
    "duration": 8,
    "start_time": "2021-09-27T20:20:33.561Z"
   },
   {
    "duration": 61,
    "start_time": "2021-09-27T20:20:51.097Z"
   },
   {
    "duration": 183,
    "start_time": "2021-09-27T20:20:55.510Z"
   },
   {
    "duration": 7,
    "start_time": "2021-09-27T20:21:14.618Z"
   },
   {
    "duration": 21,
    "start_time": "2021-09-27T20:22:07.822Z"
   },
   {
    "duration": 6,
    "start_time": "2021-09-27T20:22:08.540Z"
   },
   {
    "duration": 265,
    "start_time": "2021-09-27T20:22:08.961Z"
   },
   {
    "duration": 274,
    "start_time": "2021-09-27T20:22:09.229Z"
   },
   {
    "duration": 7,
    "start_time": "2021-09-27T20:22:11.687Z"
   },
   {
    "duration": 8,
    "start_time": "2021-09-27T20:22:48.732Z"
   },
   {
    "duration": 57,
    "start_time": "2021-09-27T20:22:56.864Z"
   },
   {
    "duration": 8,
    "start_time": "2021-09-27T20:22:59.247Z"
   },
   {
    "duration": 183,
    "start_time": "2021-09-27T20:23:10.835Z"
   },
   {
    "duration": 40,
    "start_time": "2021-09-27T20:23:18.320Z"
   },
   {
    "duration": 186,
    "start_time": "2021-09-27T20:23:51.752Z"
   },
   {
    "duration": 184,
    "start_time": "2021-09-27T20:24:03.262Z"
   },
   {
    "duration": 3299,
    "start_time": "2021-09-27T20:24:12.058Z"
   },
   {
    "duration": 421,
    "start_time": "2021-09-27T20:25:15.501Z"
   },
   {
    "duration": 4118,
    "start_time": "2021-09-27T20:25:19.565Z"
   },
   {
    "duration": 3245,
    "start_time": "2021-09-27T20:25:35.882Z"
   },
   {
    "duration": 2,
    "start_time": "2021-09-27T20:33:15.359Z"
   },
   {
    "duration": 158,
    "start_time": "2021-09-27T20:33:15.365Z"
   },
   {
    "duration": 30,
    "start_time": "2021-09-27T20:33:15.525Z"
   },
   {
    "duration": 10,
    "start_time": "2021-09-27T20:33:15.557Z"
   },
   {
    "duration": 42,
    "start_time": "2021-09-27T20:33:15.569Z"
   },
   {
    "duration": 19,
    "start_time": "2021-09-27T20:33:15.614Z"
   },
   {
    "duration": 9,
    "start_time": "2021-09-27T20:33:15.635Z"
   },
   {
    "duration": 17,
    "start_time": "2021-09-27T20:33:15.646Z"
   },
   {
    "duration": 54,
    "start_time": "2021-09-27T20:33:15.665Z"
   },
   {
    "duration": 11,
    "start_time": "2021-09-27T20:33:15.721Z"
   },
   {
    "duration": 49,
    "start_time": "2021-09-27T20:33:15.733Z"
   },
   {
    "duration": 27,
    "start_time": "2021-09-27T20:33:15.800Z"
   },
   {
    "duration": 5,
    "start_time": "2021-09-27T20:33:15.829Z"
   },
   {
    "duration": 9,
    "start_time": "2021-09-27T20:33:15.836Z"
   },
   {
    "duration": 14,
    "start_time": "2021-09-27T20:33:15.846Z"
   },
   {
    "duration": 4,
    "start_time": "2021-09-27T20:33:15.861Z"
   },
   {
    "duration": 52,
    "start_time": "2021-09-27T20:33:15.867Z"
   },
   {
    "duration": 33,
    "start_time": "2021-09-27T20:33:15.922Z"
   },
   {
    "duration": 277,
    "start_time": "2021-09-27T20:33:15.957Z"
   },
   {
    "duration": 15,
    "start_time": "2021-09-27T20:33:16.236Z"
   },
   {
    "duration": 255,
    "start_time": "2021-09-27T20:33:16.253Z"
   },
   {
    "duration": 532,
    "start_time": "2021-09-27T20:33:16.510Z"
   },
   {
    "duration": 1225,
    "start_time": "2021-09-27T20:33:17.044Z"
   },
   {
    "duration": 36,
    "start_time": "2021-09-27T20:33:18.273Z"
   },
   {
    "duration": 7,
    "start_time": "2021-09-27T20:33:18.311Z"
   },
   {
    "duration": 282,
    "start_time": "2021-09-27T20:33:18.320Z"
   },
   {
    "duration": 269,
    "start_time": "2021-09-27T20:33:18.603Z"
   },
   {
    "duration": 3177,
    "start_time": "2021-09-27T20:33:18.873Z"
   },
   {
    "duration": 1139,
    "start_time": "2021-09-28T11:51:33.636Z"
   },
   {
    "duration": 288,
    "start_time": "2021-09-28T11:51:34.777Z"
   },
   {
    "duration": 32,
    "start_time": "2021-09-28T11:51:35.067Z"
   },
   {
    "duration": 10,
    "start_time": "2021-09-28T11:51:35.100Z"
   },
   {
    "duration": 34,
    "start_time": "2021-09-28T11:51:35.112Z"
   },
   {
    "duration": 21,
    "start_time": "2021-09-28T11:51:35.147Z"
   },
   {
    "duration": 9,
    "start_time": "2021-09-28T11:51:35.170Z"
   },
   {
    "duration": 7,
    "start_time": "2021-09-28T11:51:35.181Z"
   },
   {
    "duration": 3,
    "start_time": "2021-09-28T11:57:24.025Z"
   },
   {
    "duration": 157,
    "start_time": "2021-09-28T11:57:24.031Z"
   },
   {
    "duration": 31,
    "start_time": "2021-09-28T11:57:24.190Z"
   },
   {
    "duration": 13,
    "start_time": "2021-09-28T11:57:24.245Z"
   },
   {
    "duration": 15,
    "start_time": "2021-09-28T11:57:24.260Z"
   },
   {
    "duration": 18,
    "start_time": "2021-09-28T11:57:24.277Z"
   },
   {
    "duration": 11,
    "start_time": "2021-09-28T11:57:24.297Z"
   },
   {
    "duration": 40,
    "start_time": "2021-09-28T11:57:24.310Z"
   },
   {
    "duration": 24,
    "start_time": "2021-09-28T11:57:24.353Z"
   },
   {
    "duration": 23,
    "start_time": "2021-09-28T11:57:24.379Z"
   },
   {
    "duration": 41,
    "start_time": "2021-09-28T11:57:24.403Z"
   },
   {
    "duration": 48,
    "start_time": "2021-09-28T11:57:24.446Z"
   },
   {
    "duration": 52,
    "start_time": "2021-09-28T11:57:24.496Z"
   },
   {
    "duration": 6907,
    "start_time": "2021-09-28T11:57:24.550Z"
   },
   {
    "duration": 273,
    "start_time": "2021-09-28T12:02:51.157Z"
   },
   {
    "duration": 297,
    "start_time": "2021-09-28T12:03:23.999Z"
   },
   {
    "duration": 10,
    "start_time": "2021-09-28T12:03:36.527Z"
   },
   {
    "duration": 5,
    "start_time": "2021-09-28T12:03:43.447Z"
   },
   {
    "duration": 12,
    "start_time": "2021-09-28T12:03:53.872Z"
   },
   {
    "duration": 3,
    "start_time": "2021-09-28T12:04:11.336Z"
   },
   {
    "duration": 155,
    "start_time": "2021-09-28T12:04:11.340Z"
   },
   {
    "duration": 5,
    "start_time": "2021-09-28T12:04:11.497Z"
   },
   {
    "duration": 27,
    "start_time": "2021-09-28T12:04:11.504Z"
   },
   {
    "duration": 30,
    "start_time": "2021-09-28T12:04:16.009Z"
   },
   {
    "duration": 20,
    "start_time": "2021-09-28T12:05:03.459Z"
   },
   {
    "duration": 19,
    "start_time": "2021-09-28T12:05:32.779Z"
   },
   {
    "duration": 10,
    "start_time": "2021-09-28T12:05:37.646Z"
   },
   {
    "duration": 9,
    "start_time": "2021-09-28T12:05:47.750Z"
   },
   {
    "duration": 17,
    "start_time": "2021-09-28T12:05:55.160Z"
   },
   {
    "duration": 23,
    "start_time": "2021-09-28T12:05:57.224Z"
   },
   {
    "duration": 11,
    "start_time": "2021-09-28T12:05:59.387Z"
   },
   {
    "duration": 29,
    "start_time": "2021-09-28T12:06:37.627Z"
   },
   {
    "duration": 272,
    "start_time": "2021-09-28T12:10:14.082Z"
   },
   {
    "duration": 20,
    "start_time": "2021-09-28T12:10:20.650Z"
   },
   {
    "duration": 36,
    "start_time": "2021-09-28T12:13:37.461Z"
   },
   {
    "duration": 27,
    "start_time": "2021-09-28T12:13:59.111Z"
   },
   {
    "duration": 2,
    "start_time": "2021-09-28T12:21:42.865Z"
   },
   {
    "duration": 142,
    "start_time": "2021-09-28T12:21:42.871Z"
   },
   {
    "duration": 26,
    "start_time": "2021-09-28T12:21:43.014Z"
   },
   {
    "duration": 17,
    "start_time": "2021-09-28T12:21:43.041Z"
   },
   {
    "duration": 19,
    "start_time": "2021-09-28T12:21:43.060Z"
   },
   {
    "duration": 9,
    "start_time": "2021-09-28T12:21:43.081Z"
   },
   {
    "duration": 9,
    "start_time": "2021-09-28T12:21:43.091Z"
   },
   {
    "duration": 45,
    "start_time": "2021-09-28T12:21:43.102Z"
   },
   {
    "duration": 31,
    "start_time": "2021-09-28T12:21:43.150Z"
   },
   {
    "duration": 11,
    "start_time": "2021-09-28T12:21:43.183Z"
   },
   {
    "duration": 52,
    "start_time": "2021-09-28T12:21:43.196Z"
   },
   {
    "duration": 22,
    "start_time": "2021-09-28T12:21:43.250Z"
   },
   {
    "duration": 35,
    "start_time": "2021-09-28T12:21:43.274Z"
   },
   {
    "duration": 48,
    "start_time": "2021-09-28T12:21:43.310Z"
   },
   {
    "duration": 5,
    "start_time": "2021-09-28T12:21:43.360Z"
   },
   {
    "duration": 11,
    "start_time": "2021-09-28T12:21:43.366Z"
   },
   {
    "duration": 36,
    "start_time": "2021-09-28T12:21:43.378Z"
   },
   {
    "duration": 37,
    "start_time": "2021-09-28T12:22:15.033Z"
   },
   {
    "duration": 38,
    "start_time": "2021-09-28T12:22:22.111Z"
   },
   {
    "duration": 37,
    "start_time": "2021-09-28T12:22:26.361Z"
   },
   {
    "duration": 39,
    "start_time": "2021-09-28T12:22:42.350Z"
   },
   {
    "duration": 39,
    "start_time": "2021-09-28T12:22:50.096Z"
   },
   {
    "duration": 40,
    "start_time": "2021-09-28T12:23:00.928Z"
   },
   {
    "duration": 24,
    "start_time": "2021-09-28T12:34:49.625Z"
   },
   {
    "duration": 4,
    "start_time": "2021-09-28T12:35:23.260Z"
   },
   {
    "duration": 277,
    "start_time": "2021-09-28T12:44:29.497Z"
   },
   {
    "duration": 2,
    "start_time": "2021-09-28T12:44:35.467Z"
   },
   {
    "duration": 157,
    "start_time": "2021-09-28T12:44:35.471Z"
   },
   {
    "duration": 28,
    "start_time": "2021-09-28T12:44:35.630Z"
   },
   {
    "duration": 18,
    "start_time": "2021-09-28T12:44:35.660Z"
   },
   {
    "duration": 22,
    "start_time": "2021-09-28T12:44:35.680Z"
   },
   {
    "duration": 11,
    "start_time": "2021-09-28T12:44:35.703Z"
   },
   {
    "duration": 36,
    "start_time": "2021-09-28T12:44:35.717Z"
   },
   {
    "duration": 25,
    "start_time": "2021-09-28T12:44:35.755Z"
   },
   {
    "duration": 30,
    "start_time": "2021-09-28T12:44:35.782Z"
   },
   {
    "duration": 17,
    "start_time": "2021-09-28T12:44:35.813Z"
   },
   {
    "duration": 43,
    "start_time": "2021-09-28T12:44:35.831Z"
   },
   {
    "duration": 18,
    "start_time": "2021-09-28T12:44:35.875Z"
   },
   {
    "duration": 51,
    "start_time": "2021-09-28T12:44:35.894Z"
   },
   {
    "duration": 29,
    "start_time": "2021-09-28T12:44:35.946Z"
   },
   {
    "duration": 5,
    "start_time": "2021-09-28T12:44:35.977Z"
   },
   {
    "duration": 27,
    "start_time": "2021-09-28T12:44:35.983Z"
   },
   {
    "duration": 60,
    "start_time": "2021-09-28T12:44:36.012Z"
   },
   {
    "duration": 26,
    "start_time": "2021-09-28T12:44:36.074Z"
   },
   {
    "duration": 12,
    "start_time": "2021-09-28T12:44:36.103Z"
   },
   {
    "duration": 31,
    "start_time": "2021-09-28T12:44:36.117Z"
   },
   {
    "duration": 37,
    "start_time": "2021-09-28T12:44:36.150Z"
   },
   {
    "duration": 46,
    "start_time": "2021-09-28T12:44:36.188Z"
   },
   {
    "duration": 244,
    "start_time": "2021-09-28T12:44:36.236Z"
   },
   {
    "duration": 11,
    "start_time": "2021-09-28T12:44:36.481Z"
   },
   {
    "duration": 11,
    "start_time": "2021-09-28T12:45:01.726Z"
   },
   {
    "duration": 18591,
    "start_time": "2021-09-28T12:51:18.377Z"
   },
   {
    "duration": 219,
    "start_time": "2021-09-28T12:52:26.228Z"
   },
   {
    "duration": 135,
    "start_time": "2021-09-28T12:53:12.530Z"
   },
   {
    "duration": 342,
    "start_time": "2021-09-28T12:58:54.893Z"
   },
   {
    "duration": 272,
    "start_time": "2021-09-28T12:59:07.964Z"
   },
   {
    "duration": 1201,
    "start_time": "2021-09-28T12:59:31.600Z"
   },
   {
    "duration": 280,
    "start_time": "2021-09-28T12:59:45.688Z"
   },
   {
    "duration": 15,
    "start_time": "2021-09-28T12:59:55.079Z"
   },
   {
    "duration": 12,
    "start_time": "2021-09-28T13:00:12.286Z"
   },
   {
    "duration": 14,
    "start_time": "2021-09-28T13:00:15.588Z"
   },
   {
    "duration": 293,
    "start_time": "2021-09-28T13:03:09.994Z"
   },
   {
    "duration": 391,
    "start_time": "2021-09-28T13:03:28.540Z"
   },
   {
    "duration": 393,
    "start_time": "2021-09-28T13:03:39.211Z"
   },
   {
    "duration": 274,
    "start_time": "2021-09-28T13:06:34.930Z"
   },
   {
    "duration": 26,
    "start_time": "2021-09-28T13:06:35.206Z"
   },
   {
    "duration": 9,
    "start_time": "2021-09-28T13:06:35.244Z"
   },
   {
    "duration": 252,
    "start_time": "2021-09-28T13:06:35.254Z"
   },
   {
    "duration": 246,
    "start_time": "2021-09-28T13:06:35.507Z"
   },
   {
    "duration": 2917,
    "start_time": "2021-09-28T13:06:35.755Z"
   },
   {
    "duration": 284,
    "start_time": "2021-09-28T13:11:15.303Z"
   },
   {
    "duration": 38,
    "start_time": "2021-09-28T13:13:02.511Z"
   },
   {
    "duration": 71546,
    "start_time": "2021-09-28T13:14:45.777Z"
   },
   {
    "duration": 1154,
    "start_time": "2021-09-28T13:49:03.058Z"
   },
   {
    "duration": 145,
    "start_time": "2021-09-28T13:49:04.214Z"
   },
   {
    "duration": 27,
    "start_time": "2021-09-28T13:49:04.361Z"
   },
   {
    "duration": 19,
    "start_time": "2021-09-28T13:49:04.390Z"
   },
   {
    "duration": 45,
    "start_time": "2021-09-28T13:49:04.410Z"
   },
   {
    "duration": 10,
    "start_time": "2021-09-28T13:49:04.457Z"
   },
   {
    "duration": 11,
    "start_time": "2021-09-28T13:49:04.469Z"
   },
   {
    "duration": 27,
    "start_time": "2021-09-28T13:49:04.484Z"
   },
   {
    "duration": 56,
    "start_time": "2021-09-28T13:49:04.513Z"
   },
   {
    "duration": 14,
    "start_time": "2021-09-28T13:49:04.571Z"
   },
   {
    "duration": 33,
    "start_time": "2021-09-28T13:49:04.587Z"
   },
   {
    "duration": 43,
    "start_time": "2021-09-28T13:49:04.622Z"
   },
   {
    "duration": 40,
    "start_time": "2021-09-28T13:49:04.667Z"
   },
   {
    "duration": 47,
    "start_time": "2021-09-28T13:49:04.708Z"
   },
   {
    "duration": 5,
    "start_time": "2021-09-28T13:49:04.757Z"
   },
   {
    "duration": 9,
    "start_time": "2021-09-28T13:49:04.763Z"
   },
   {
    "duration": 45,
    "start_time": "2021-09-28T13:49:04.774Z"
   },
   {
    "duration": 47,
    "start_time": "2021-09-28T13:49:04.821Z"
   },
   {
    "duration": 9,
    "start_time": "2021-09-28T13:49:04.870Z"
   },
   {
    "duration": 4,
    "start_time": "2021-09-28T13:49:04.880Z"
   },
   {
    "duration": 24,
    "start_time": "2021-09-28T13:49:04.885Z"
   },
   {
    "duration": 68,
    "start_time": "2021-09-28T13:49:04.911Z"
   },
   {
    "duration": 261,
    "start_time": "2021-09-28T13:49:04.983Z"
   },
   {
    "duration": 11,
    "start_time": "2021-09-28T13:49:05.249Z"
   },
   {
    "duration": 15,
    "start_time": "2021-09-28T13:49:05.261Z"
   },
   {
    "duration": 243,
    "start_time": "2021-09-28T13:49:05.278Z"
   },
   {
    "duration": 548,
    "start_time": "2021-09-28T13:49:05.523Z"
   },
   {
    "duration": 1080,
    "start_time": "2021-09-28T13:49:06.072Z"
   },
   {
    "duration": 1258,
    "start_time": "2021-09-28T13:49:07.153Z"
   },
   {
    "duration": 295,
    "start_time": "2021-09-28T13:49:08.413Z"
   },
   {
    "duration": 25,
    "start_time": "2021-09-28T13:49:08.709Z"
   },
   {
    "duration": 14,
    "start_time": "2021-09-28T13:49:08.736Z"
   },
   {
    "duration": 393,
    "start_time": "2021-09-28T13:49:08.752Z"
   },
   {
    "duration": 242,
    "start_time": "2021-09-28T13:49:09.148Z"
   },
   {
    "duration": 2868,
    "start_time": "2021-09-28T13:49:09.392Z"
   },
   {
    "duration": 389,
    "start_time": "2021-09-28T13:49:12.262Z"
   },
   {
    "duration": 35,
    "start_time": "2021-09-28T13:49:12.653Z"
   },
   {
    "duration": 459,
    "start_time": "2021-09-28T13:49:12.689Z"
   },
   {
    "duration": 19,
    "start_time": "2021-09-28T14:01:04.593Z"
   },
   {
    "duration": 3,
    "start_time": "2021-09-28T14:01:12.204Z"
   },
   {
    "duration": 168,
    "start_time": "2021-09-28T14:01:12.209Z"
   },
   {
    "duration": 70,
    "start_time": "2021-09-28T14:01:12.379Z"
   },
   {
    "duration": 30,
    "start_time": "2021-09-28T14:01:12.452Z"
   },
   {
    "duration": 33,
    "start_time": "2021-09-28T14:01:12.484Z"
   },
   {
    "duration": 39,
    "start_time": "2021-09-28T14:01:12.519Z"
   },
   {
    "duration": 9,
    "start_time": "2021-09-28T14:01:12.561Z"
   },
   {
    "duration": 22,
    "start_time": "2021-09-28T14:01:12.572Z"
   },
   {
    "duration": 26,
    "start_time": "2021-09-28T14:01:12.596Z"
   },
   {
    "duration": 14,
    "start_time": "2021-09-28T14:01:12.648Z"
   },
   {
    "duration": 29,
    "start_time": "2021-09-28T14:01:12.664Z"
   },
   {
    "duration": 19,
    "start_time": "2021-09-28T14:01:12.695Z"
   },
   {
    "duration": 67,
    "start_time": "2021-09-28T14:01:12.715Z"
   },
   {
    "duration": 29,
    "start_time": "2021-09-28T14:01:12.784Z"
   },
   {
    "duration": 5,
    "start_time": "2021-09-28T14:01:12.815Z"
   },
   {
    "duration": 29,
    "start_time": "2021-09-28T14:01:12.822Z"
   },
   {
    "duration": 45,
    "start_time": "2021-09-28T14:01:12.853Z"
   },
   {
    "duration": 24,
    "start_time": "2021-09-28T14:01:12.900Z"
   },
   {
    "duration": 44,
    "start_time": "2021-09-28T14:01:12.927Z"
   },
   {
    "duration": 21,
    "start_time": "2021-09-28T14:01:12.974Z"
   },
   {
    "duration": 10,
    "start_time": "2021-09-28T14:01:12.998Z"
   },
   {
    "duration": 65,
    "start_time": "2021-09-28T14:01:13.010Z"
   },
   {
    "duration": 37,
    "start_time": "2021-09-28T14:01:13.077Z"
   },
   {
    "duration": 280,
    "start_time": "2021-09-28T14:01:13.116Z"
   },
   {
    "duration": 10,
    "start_time": "2021-09-28T14:01:13.398Z"
   },
   {
    "duration": 15,
    "start_time": "2021-09-28T14:01:13.409Z"
   },
   {
    "duration": 253,
    "start_time": "2021-09-28T14:01:13.426Z"
   },
   {
    "duration": 519,
    "start_time": "2021-09-28T14:01:13.681Z"
   },
   {
    "duration": 164,
    "start_time": "2021-09-28T14:01:14.202Z"
   },
   {
    "duration": 1402,
    "start_time": "2021-09-28T14:01:14.368Z"
   },
   {
    "duration": 299,
    "start_time": "2021-09-28T14:01:15.772Z"
   },
   {
    "duration": 29,
    "start_time": "2021-09-28T14:01:16.073Z"
   },
   {
    "duration": 5,
    "start_time": "2021-09-28T14:01:16.104Z"
   },
   {
    "duration": 288,
    "start_time": "2021-09-28T14:01:16.110Z"
   },
   {
    "duration": 250,
    "start_time": "2021-09-28T14:01:16.400Z"
   },
   {
    "duration": 3145,
    "start_time": "2021-09-28T14:01:16.651Z"
   },
   {
    "duration": 271,
    "start_time": "2021-09-28T14:01:19.798Z"
   },
   {
    "duration": 38,
    "start_time": "2021-09-28T14:01:20.071Z"
   },
   {
    "duration": 45,
    "start_time": "2021-09-28T14:01:20.111Z"
   },
   {
    "duration": 7,
    "start_time": "2021-09-28T14:01:40.735Z"
   },
   {
    "duration": 3,
    "start_time": "2021-09-28T14:01:48.106Z"
   },
   {
    "duration": 150,
    "start_time": "2021-09-28T14:01:48.111Z"
   },
   {
    "duration": 28,
    "start_time": "2021-09-28T14:01:48.263Z"
   },
   {
    "duration": 16,
    "start_time": "2021-09-28T14:01:48.292Z"
   },
   {
    "duration": 44,
    "start_time": "2021-09-28T14:01:48.309Z"
   },
   {
    "duration": 9,
    "start_time": "2021-09-28T14:01:48.355Z"
   },
   {
    "duration": 9,
    "start_time": "2021-09-28T14:01:48.365Z"
   },
   {
    "duration": 27,
    "start_time": "2021-09-28T14:01:48.376Z"
   },
   {
    "duration": 47,
    "start_time": "2021-09-28T14:01:48.405Z"
   },
   {
    "duration": 16,
    "start_time": "2021-09-28T14:01:48.454Z"
   },
   {
    "duration": 58,
    "start_time": "2021-09-28T14:01:48.472Z"
   },
   {
    "duration": 26,
    "start_time": "2021-09-28T14:01:48.531Z"
   },
   {
    "duration": 73,
    "start_time": "2021-09-28T14:01:48.559Z"
   },
   {
    "duration": 41,
    "start_time": "2021-09-28T14:01:48.634Z"
   },
   {
    "duration": 6,
    "start_time": "2021-09-28T14:01:48.677Z"
   },
   {
    "duration": 19,
    "start_time": "2021-09-28T14:01:48.685Z"
   },
   {
    "duration": 57,
    "start_time": "2021-09-28T14:01:48.706Z"
   },
   {
    "duration": 24,
    "start_time": "2021-09-28T14:01:48.765Z"
   },
   {
    "duration": 7,
    "start_time": "2021-09-28T14:01:51.408Z"
   },
   {
    "duration": 9,
    "start_time": "2021-09-28T14:02:20.927Z"
   },
   {
    "duration": 7,
    "start_time": "2021-09-28T14:02:26.260Z"
   },
   {
    "duration": 3,
    "start_time": "2021-09-28T14:06:58.912Z"
   },
   {
    "duration": 148,
    "start_time": "2021-09-28T14:06:58.919Z"
   },
   {
    "duration": 29,
    "start_time": "2021-09-28T14:06:59.070Z"
   },
   {
    "duration": 18,
    "start_time": "2021-09-28T14:06:59.101Z"
   },
   {
    "duration": 44,
    "start_time": "2021-09-28T14:06:59.120Z"
   },
   {
    "duration": 10,
    "start_time": "2021-09-28T14:06:59.165Z"
   },
   {
    "duration": 11,
    "start_time": "2021-09-28T14:06:59.177Z"
   },
   {
    "duration": 34,
    "start_time": "2021-09-28T14:06:59.190Z"
   },
   {
    "duration": 55,
    "start_time": "2021-09-28T14:06:59.228Z"
   },
   {
    "duration": 17,
    "start_time": "2021-09-28T14:06:59.285Z"
   },
   {
    "duration": 67,
    "start_time": "2021-09-28T14:06:59.304Z"
   },
   {
    "duration": 27,
    "start_time": "2021-09-28T14:06:59.373Z"
   },
   {
    "duration": 67,
    "start_time": "2021-09-28T14:06:59.402Z"
   },
   {
    "duration": 30,
    "start_time": "2021-09-28T14:06:59.471Z"
   },
   {
    "duration": 5,
    "start_time": "2021-09-28T14:06:59.503Z"
   },
   {
    "duration": 11,
    "start_time": "2021-09-28T14:06:59.510Z"
   },
   {
    "duration": 66,
    "start_time": "2021-09-28T14:06:59.523Z"
   },
   {
    "duration": 22,
    "start_time": "2021-09-28T14:06:59.591Z"
   },
   {
    "duration": 6,
    "start_time": "2021-09-28T14:06:59.615Z"
   },
   {
    "duration": 36,
    "start_time": "2021-09-28T14:06:59.622Z"
   },
   {
    "duration": 5,
    "start_time": "2021-09-28T14:06:59.660Z"
   },
   {
    "duration": 27,
    "start_time": "2021-09-28T14:06:59.666Z"
   },
   {
    "duration": 62,
    "start_time": "2021-09-28T14:06:59.695Z"
   },
   {
    "duration": 239,
    "start_time": "2021-09-28T14:06:59.761Z"
   },
   {
    "duration": 13,
    "start_time": "2021-09-28T14:07:00.668Z"
   },
   {
    "duration": 181,
    "start_time": "2021-09-28T14:08:04.804Z"
   },
   {
    "duration": 205,
    "start_time": "2021-09-28T14:08:15.080Z"
   },
   {
    "duration": 213,
    "start_time": "2021-09-28T14:08:31.369Z"
   },
   {
    "duration": 2,
    "start_time": "2021-09-28T16:39:12.155Z"
   },
   {
    "duration": 142,
    "start_time": "2021-09-28T16:39:12.160Z"
   },
   {
    "duration": 28,
    "start_time": "2021-09-28T16:39:12.304Z"
   },
   {
    "duration": 18,
    "start_time": "2021-09-28T16:39:12.350Z"
   },
   {
    "duration": 19,
    "start_time": "2021-09-28T16:39:12.370Z"
   },
   {
    "duration": 10,
    "start_time": "2021-09-28T16:39:12.391Z"
   },
   {
    "duration": 11,
    "start_time": "2021-09-28T16:39:12.403Z"
   },
   {
    "duration": 16,
    "start_time": "2021-09-28T16:39:12.449Z"
   },
   {
    "duration": 22,
    "start_time": "2021-09-28T16:39:12.468Z"
   },
   {
    "duration": 10,
    "start_time": "2021-09-28T16:39:12.492Z"
   },
   {
    "duration": 50,
    "start_time": "2021-09-28T16:39:12.504Z"
   },
   {
    "duration": 19,
    "start_time": "2021-09-28T16:39:12.556Z"
   },
   {
    "duration": 39,
    "start_time": "2021-09-28T16:39:12.576Z"
   },
   {
    "duration": 58,
    "start_time": "2021-09-28T16:39:12.617Z"
   },
   {
    "duration": 6,
    "start_time": "2021-09-28T16:39:12.677Z"
   },
   {
    "duration": 12,
    "start_time": "2021-09-28T16:39:12.684Z"
   },
   {
    "duration": 61,
    "start_time": "2021-09-28T16:39:12.698Z"
   },
   {
    "duration": 23,
    "start_time": "2021-09-28T16:39:12.760Z"
   },
   {
    "duration": 6,
    "start_time": "2021-09-28T16:39:12.785Z"
   },
   {
    "duration": 18,
    "start_time": "2021-09-28T16:39:12.793Z"
   },
   {
    "duration": 8,
    "start_time": "2021-09-28T16:39:12.813Z"
   },
   {
    "duration": 45,
    "start_time": "2021-09-28T16:39:12.823Z"
   },
   {
    "duration": 32,
    "start_time": "2021-09-28T16:39:12.870Z"
   },
   {
    "duration": 241,
    "start_time": "2021-09-28T16:39:12.905Z"
   },
   {
    "duration": 227,
    "start_time": "2021-09-28T16:39:13.148Z"
   },
   {
    "duration": 13,
    "start_time": "2021-09-28T16:39:13.377Z"
   },
   {
    "duration": 224,
    "start_time": "2021-09-28T16:39:13.391Z"
   },
   {
    "duration": 493,
    "start_time": "2021-09-28T16:39:13.617Z"
   },
   {
    "duration": 347,
    "start_time": "2021-09-28T16:39:14.112Z"
   },
   {
    "duration": 1144,
    "start_time": "2021-09-28T16:39:14.461Z"
   },
   {
    "duration": 280,
    "start_time": "2021-09-28T16:39:15.607Z"
   },
   {
    "duration": 28,
    "start_time": "2021-09-28T16:39:15.889Z"
   },
   {
    "duration": 6,
    "start_time": "2021-09-28T16:39:15.918Z"
   },
   {
    "duration": 251,
    "start_time": "2021-09-28T16:39:15.926Z"
   },
   {
    "duration": 235,
    "start_time": "2021-09-28T16:39:16.179Z"
   },
   {
    "duration": 3002,
    "start_time": "2021-09-28T16:39:16.416Z"
   },
   {
    "duration": 242,
    "start_time": "2021-09-28T16:39:19.419Z"
   },
   {
    "duration": 33,
    "start_time": "2021-09-28T16:39:19.663Z"
   },
   {
    "duration": 21,
    "start_time": "2021-09-28T16:39:19.698Z"
   },
   {
    "duration": 225,
    "start_time": "2021-09-28T16:41:08.081Z"
   },
   {
    "duration": 244,
    "start_time": "2021-09-28T16:41:20.260Z"
   },
   {
    "duration": 3,
    "start_time": "2021-09-28T16:42:21.633Z"
   },
   {
    "duration": 144,
    "start_time": "2021-09-28T16:42:21.640Z"
   },
   {
    "duration": 27,
    "start_time": "2021-09-28T16:42:21.786Z"
   },
   {
    "duration": 51,
    "start_time": "2021-09-28T16:42:21.815Z"
   },
   {
    "duration": 19,
    "start_time": "2021-09-28T16:42:21.868Z"
   },
   {
    "duration": 9,
    "start_time": "2021-09-28T16:42:21.888Z"
   },
   {
    "duration": 21,
    "start_time": "2021-09-28T16:42:21.899Z"
   },
   {
    "duration": 34,
    "start_time": "2021-09-28T16:42:21.922Z"
   },
   {
    "duration": 24,
    "start_time": "2021-09-28T16:42:21.958Z"
   },
   {
    "duration": 11,
    "start_time": "2021-09-28T16:42:21.984Z"
   },
   {
    "duration": 37,
    "start_time": "2021-09-28T16:42:21.997Z"
   },
   {
    "duration": 31,
    "start_time": "2021-09-28T16:42:22.035Z"
   },
   {
    "duration": 57,
    "start_time": "2021-09-28T16:42:22.068Z"
   },
   {
    "duration": 34,
    "start_time": "2021-09-28T16:42:22.127Z"
   },
   {
    "duration": 5,
    "start_time": "2021-09-28T16:42:22.163Z"
   },
   {
    "duration": 17,
    "start_time": "2021-09-28T16:42:22.170Z"
   },
   {
    "duration": 55,
    "start_time": "2021-09-28T16:42:22.189Z"
   },
   {
    "duration": 24,
    "start_time": "2021-09-28T16:42:22.249Z"
   },
   {
    "duration": 6,
    "start_time": "2021-09-28T16:42:22.275Z"
   },
   {
    "duration": 24,
    "start_time": "2021-09-28T16:42:22.282Z"
   },
   {
    "duration": 8,
    "start_time": "2021-09-28T16:42:22.308Z"
   },
   {
    "duration": 40,
    "start_time": "2021-09-28T16:42:22.317Z"
   },
   {
    "duration": 39,
    "start_time": "2021-09-28T16:42:22.359Z"
   },
   {
    "duration": 237,
    "start_time": "2021-09-28T16:42:22.402Z"
   },
   {
    "duration": 227,
    "start_time": "2021-09-28T16:42:22.641Z"
   },
   {
    "duration": 12,
    "start_time": "2021-09-28T16:42:22.870Z"
   },
   {
    "duration": 235,
    "start_time": "2021-09-28T16:42:22.884Z"
   },
   {
    "duration": 506,
    "start_time": "2021-09-28T16:42:23.120Z"
   },
   {
    "duration": 155,
    "start_time": "2021-09-28T16:42:23.627Z"
   },
   {
    "duration": 1429,
    "start_time": "2021-09-28T16:42:23.784Z"
   },
   {
    "duration": 294,
    "start_time": "2021-09-28T16:42:25.214Z"
   },
   {
    "duration": 40,
    "start_time": "2021-09-28T16:42:25.510Z"
   },
   {
    "duration": 5,
    "start_time": "2021-09-28T16:42:25.552Z"
   },
   {
    "duration": 292,
    "start_time": "2021-09-28T16:42:25.559Z"
   },
   {
    "duration": 235,
    "start_time": "2021-09-28T16:42:25.852Z"
   },
   {
    "duration": 2791,
    "start_time": "2021-09-28T16:42:26.089Z"
   },
   {
    "duration": 504,
    "start_time": "2021-09-28T16:42:28.882Z"
   },
   {
    "duration": 33,
    "start_time": "2021-09-28T16:42:29.388Z"
   },
   {
    "duration": 38,
    "start_time": "2021-09-28T16:42:29.422Z"
   }
  ],
  "colab": {
   "name": "DA+. Сборный проект 1. Шаблон (1).ipynb",
   "provenance": []
  },
  "kernelspec": {
   "display_name": "Python 3",
   "language": "python",
   "name": "python3"
  },
  "language_info": {
   "codemirror_mode": {
    "name": "ipython",
    "version": 3
   },
   "file_extension": ".py",
   "mimetype": "text/x-python",
   "name": "python",
   "nbconvert_exporter": "python",
   "pygments_lexer": "ipython3",
   "version": "3.8.5"
  },
  "toc": {
   "base_numbering": 1,
   "nav_menu": {},
   "number_sections": true,
   "sideBar": true,
   "skip_h1_title": true,
   "title_cell": "Содержание",
   "title_sidebar": "Contents",
   "toc_cell": true,
   "toc_position": {
    "height": "calc(100% - 180px)",
    "left": "10px",
    "top": "150px",
    "width": "165px"
   },
   "toc_section_display": true,
   "toc_window_display": true
  }
 },
 "nbformat": 4,
 "nbformat_minor": 1
}
